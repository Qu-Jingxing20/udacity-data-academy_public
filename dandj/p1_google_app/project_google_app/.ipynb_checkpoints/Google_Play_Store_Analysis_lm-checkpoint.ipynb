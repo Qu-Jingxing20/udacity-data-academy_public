{
 "cells": [
  {
   "cell_type": "markdown",
   "metadata": {},
   "source": [
    "# Google Apps 商店的数据分析"
   ]
  },
  {
   "cell_type": "markdown",
   "metadata": {},
   "source": [
    "## / 简介\n",
    "\n",
    "相信大家对移动应用商店都不陌生吧。Google Play Store（Google Play商店）是谷歌官方的软件应用商店，拥有上架软件数十万款，下载量更是突破了20亿次，为了手机用户提供了极为广泛的应用选择，很受大家的欢迎。\n",
    "\n"
   ]
  },
  {
   "cell_type": "markdown",
   "metadata": {},
   "source": [
    "本数据集(googleplaystore.csv)包含了 Google Play 商店中 App 的数据。该数据是Kaggle中 [Google Play Store Apps](https://www.kaggle.com/lava18/google-play-store-apps) 的一部分，其中包含 Google Play 商店中 10k+ 应用软件的信息。\n",
    "\n",
    "数据中的变量含义解释：\n",
    "```\n",
    "App: 应用的名称，字符变量。\n",
    "Category: 应用所属的分类，字符变量。\n",
    "Rating: 某应用的用户评分，数值变量。\n",
    "Reviews: 某应用获得的用户评论数量，数值变量。\n",
    "Size: 某应用的所占存储空间的大小，字符变量。\n",
    "Installs: 用户安装和下载某应用的次数，字符变量。\n",
    "Type: 付费或免费，分类变量。\n",
    "Price: 价格，字符变量。\n",
    "Content Rating: 应用商店针对内容给出的年龄评级组 - Children / Mature 21+ / Adult，分类变量。\n",
    "Genres: 类型/流派，一个应用可以属于多个流派，比如音乐、游戏、家庭等，字符变量。\n",
    "Last Updated: 应用最新更新的日期，字符变量。\n",
    "Current Ver: 当前应用的版本，字符变量。\n",
    "Android Ver: 安装该应用所需要的最低安卓版本，字符变量。\n",
    "\n",
    "```"
   ]
  },
  {
   "cell_type": "markdown",
   "metadata": {},
   "source": [
    "## / 项目完成指南\n",
    "\n",
    "\n",
    "\n",
    "本项目中的数据分析流程已经给出，但代码将完全由你自己进行书写，如果你无法完成本项目，说明你目前的能力并不足以完成 数据分析(进阶)纳米学位，建议先进行 数据分析（入门）纳米学位的学习，掌握进阶课程的先修知识。\n",
    "\n",
    "对于数据分析过程的记录也是数据分析报告的一个重要部分，你可以自己在需要的位置插入Markdown cell，记录你在数据分析中的关键步骤和推理过程。比如：数据有什么样的特点，统计数据的含义是什么，你从可视化中可以得出什么结论，下一步分析是什么，为什么执行这种分析。如果你无法做到这一点，你也无法通过本项目。\n",
    "\n",
    "\n",
    "> **小贴士**: 像这样的引用部分旨在为学员提供实用指导，帮助学员了解并使用 Jupyter notebook"
   ]
  },
  {
   "cell_type": "markdown",
   "metadata": {},
   "source": [
    "## / 提出问题\n",
    "\n",
    "在此项目中，你将以一名数据分析师的身份执行数据的探索性分析。你将了解数据分析过程的基本流程。在你分析数据之前，请先思考几个你需要了解的关于 Google 商店中应用的问题，例如，最受欢迎（下载量最高）的 Apps 有什么特征？哪些 App 的评分更高？\n",
    "\n",
    "**问题**：请写下你感兴趣的问题，请确保这些问题能够由现有的数据进行回答。\n",
    "（为了确保学习的效果，请确保你的数据分析报告中能够包含2幅可视化和1个相关性分析。）\n",
    "\n",
    "**答案**：将此文本替换为你的回答！\n",
    "\n",
    "\n",
    "在提出了问题之后，我们将开始导入数据，并对数据进行探索性分析，来回答上面提出的问题。\n",
    "\n",
    "> **小贴士**: 双击上框，文本就会发生变化，所有格式都会被清除，以便你编辑该文本块。该文本块是用 [Markdown](http://daringfireball.net/projects/markdown/syntax)编写的，该语言使用纯文本语法，能用页眉、链接、斜体等来规范文本格式。在纳米学位课程中，你也会用到 Markdown。编辑后，可使用 **Shift** + **Enter** 或 **Shift** + **Return** 运行上该框，使其呈现出编辑好的文本格式。"
   ]
  },
  {
   "cell_type": "markdown",
   "metadata": {},
   "source": [
    "# 数据评估和清理\n",
    "## / 了解数据"
   ]
  },
  {
   "cell_type": "markdown",
   "metadata": {},
   "source": [
    "> **小贴士**: 运行代码框的方法与编辑上方的 Markdown 框的格式类似，你只需点击代码框，按下键盘快捷键 **Shift** + **Enter** 或 **Shift** + **Return** ，或者你也可先选择代码框，然后点击工具栏的 **运行** 按钮来运行代码。运行代码框时，相应单元左侧的信息会出现星号，即 `In [*]:`，若代码执行完毕，星号则会变为某个数字，如 `In [1]`。如果代码运行后有输出结果，输出将会以 `Out [1]:` 的形式出现，其中的数字将与 \"In\" 中的数字相对应。"
   ]
  },
  {
   "cell_type": "code",
   "execution_count": 107,
   "metadata": {
    "ExecuteTime": {
     "end_time": "2019-08-02T01:57:41.028500Z",
     "start_time": "2019-08-02T01:57:40.718246Z"
    }
   },
   "outputs": [
    {
     "name": "stdout",
     "output_type": "stream",
     "text": [
      "/bin/sh: wget: command not found\r\n"
     ]
    }
   ],
   "source": [
    "# 请先运行此代码块，以确保在可视化中可以显示中文\n",
    "!rm -rf ~/.cache/matplotlib/fontList.json\n",
    "!wget http://d.xiazaiziti.com/en_fonts/fonts/s/SimHei.ttf -O /opt/conda/lib/python3.6/site-packages/matplotlib/mpl-data/fonts/ttf/SimHei.ttf\n",
    "import matplotlib.pyplot as plt \n",
    "\n",
    "plt.rcParams['font.sans-serif']=['SimHei'] #用来正常显示中文标签\n",
    "plt.rcParams['axes.unicode_minus']=False #用来正常显示负号"
   ]
  },
  {
   "cell_type": "code",
   "execution_count": 168,
   "metadata": {
    "ExecuteTime": {
     "end_time": "2019-08-02T06:19:00.175203Z",
     "start_time": "2019-08-02T06:19:00.165673Z"
    }
   },
   "outputs": [],
   "source": [
    "# TO DO: load pacakges\n",
    "import pandas as pd\n",
    "import pprint as pp"
   ]
  },
  {
   "cell_type": "code",
   "execution_count": 169,
   "metadata": {
    "ExecuteTime": {
     "end_time": "2019-08-02T06:19:07.906462Z",
     "start_time": "2019-08-02T06:19:07.828446Z"
    }
   },
   "outputs": [],
   "source": [
    "# TO DO: load the dataset\n",
    "df = pd.read_csv('googleplaystore.csv')"
   ]
  },
  {
   "cell_type": "code",
   "execution_count": 170,
   "metadata": {
    "ExecuteTime": {
     "end_time": "2019-08-02T06:19:09.566305Z",
     "start_time": "2019-08-02T06:19:09.535963Z"
    }
   },
   "outputs": [
    {
     "name": "stdout",
     "output_type": "stream",
     "text": [
      "<class 'pandas.core.frame.DataFrame'>\n",
      "RangeIndex: 10841 entries, 0 to 10840\n",
      "Data columns (total 13 columns):\n",
      "App               10841 non-null object\n",
      "Category          10841 non-null object\n",
      "Rating            9367 non-null float64\n",
      "Reviews           10841 non-null object\n",
      "Size              10841 non-null object\n",
      "Installs          10841 non-null object\n",
      "Type              10840 non-null object\n",
      "Price             10841 non-null object\n",
      "Content Rating    10840 non-null object\n",
      "Genres            10841 non-null object\n",
      "Last Updated      10841 non-null object\n",
      "Current Ver       10833 non-null object\n",
      "Android Ver       10838 non-null object\n",
      "dtypes: float64(1), object(12)\n",
      "memory usage: 1.1+ MB\n"
     ]
    }
   ],
   "source": [
    "# TO DO: check the dataset general info\n",
    "df.info()"
   ]
  },
  {
   "cell_type": "code",
   "execution_count": 171,
   "metadata": {
    "ExecuteTime": {
     "end_time": "2019-08-02T06:19:11.952502Z",
     "start_time": "2019-08-02T06:19:11.919400Z"
    }
   },
   "outputs": [
    {
     "data": {
      "text/html": [
       "<div>\n",
       "<style scoped>\n",
       "    .dataframe tbody tr th:only-of-type {\n",
       "        vertical-align: middle;\n",
       "    }\n",
       "\n",
       "    .dataframe tbody tr th {\n",
       "        vertical-align: top;\n",
       "    }\n",
       "\n",
       "    .dataframe thead th {\n",
       "        text-align: right;\n",
       "    }\n",
       "</style>\n",
       "<table border=\"1\" class=\"dataframe\">\n",
       "  <thead>\n",
       "    <tr style=\"text-align: right;\">\n",
       "      <th></th>\n",
       "      <th>App</th>\n",
       "      <th>Category</th>\n",
       "      <th>Rating</th>\n",
       "      <th>Reviews</th>\n",
       "      <th>Size</th>\n",
       "      <th>Installs</th>\n",
       "      <th>Type</th>\n",
       "      <th>Price</th>\n",
       "      <th>Content Rating</th>\n",
       "      <th>Genres</th>\n",
       "      <th>Last Updated</th>\n",
       "      <th>Current Ver</th>\n",
       "      <th>Android Ver</th>\n",
       "    </tr>\n",
       "  </thead>\n",
       "  <tbody>\n",
       "    <tr>\n",
       "      <th>0</th>\n",
       "      <td>Photo Editor &amp; Candy Camera &amp; Grid &amp; ScrapBook</td>\n",
       "      <td>ART_AND_DESIGN</td>\n",
       "      <td>4.1</td>\n",
       "      <td>159</td>\n",
       "      <td>19M</td>\n",
       "      <td>10,000+</td>\n",
       "      <td>Free</td>\n",
       "      <td>0</td>\n",
       "      <td>Everyone</td>\n",
       "      <td>Art &amp; Design</td>\n",
       "      <td>January 7, 2018</td>\n",
       "      <td>1.0.0</td>\n",
       "      <td>4.0.3 and up</td>\n",
       "    </tr>\n",
       "    <tr>\n",
       "      <th>1</th>\n",
       "      <td>Coloring book moana</td>\n",
       "      <td>ART_AND_DESIGN</td>\n",
       "      <td>3.9</td>\n",
       "      <td>967</td>\n",
       "      <td>14M</td>\n",
       "      <td>500,000+</td>\n",
       "      <td>Free</td>\n",
       "      <td>0</td>\n",
       "      <td>Everyone</td>\n",
       "      <td>Art &amp; Design;Pretend Play</td>\n",
       "      <td>January 15, 2018</td>\n",
       "      <td>2.0.0</td>\n",
       "      <td>4.0.3 and up</td>\n",
       "    </tr>\n",
       "    <tr>\n",
       "      <th>2</th>\n",
       "      <td>U Launcher Lite – FREE Live Cool Themes, Hide ...</td>\n",
       "      <td>ART_AND_DESIGN</td>\n",
       "      <td>4.7</td>\n",
       "      <td>87510</td>\n",
       "      <td>8.7M</td>\n",
       "      <td>5,000,000+</td>\n",
       "      <td>Free</td>\n",
       "      <td>0</td>\n",
       "      <td>Everyone</td>\n",
       "      <td>Art &amp; Design</td>\n",
       "      <td>August 1, 2018</td>\n",
       "      <td>1.2.4</td>\n",
       "      <td>4.0.3 and up</td>\n",
       "    </tr>\n",
       "    <tr>\n",
       "      <th>3</th>\n",
       "      <td>Sketch - Draw &amp; Paint</td>\n",
       "      <td>ART_AND_DESIGN</td>\n",
       "      <td>4.5</td>\n",
       "      <td>215644</td>\n",
       "      <td>25M</td>\n",
       "      <td>50,000,000+</td>\n",
       "      <td>Free</td>\n",
       "      <td>0</td>\n",
       "      <td>Teen</td>\n",
       "      <td>Art &amp; Design</td>\n",
       "      <td>June 8, 2018</td>\n",
       "      <td>Varies with device</td>\n",
       "      <td>4.2 and up</td>\n",
       "    </tr>\n",
       "    <tr>\n",
       "      <th>4</th>\n",
       "      <td>Pixel Draw - Number Art Coloring Book</td>\n",
       "      <td>ART_AND_DESIGN</td>\n",
       "      <td>4.3</td>\n",
       "      <td>967</td>\n",
       "      <td>2.8M</td>\n",
       "      <td>100,000+</td>\n",
       "      <td>Free</td>\n",
       "      <td>0</td>\n",
       "      <td>Everyone</td>\n",
       "      <td>Art &amp; Design;Creativity</td>\n",
       "      <td>June 20, 2018</td>\n",
       "      <td>1.1</td>\n",
       "      <td>4.4 and up</td>\n",
       "    </tr>\n",
       "  </tbody>\n",
       "</table>\n",
       "</div>"
      ],
      "text/plain": [
       "                                                 App        Category  Rating  \\\n",
       "0     Photo Editor & Candy Camera & Grid & ScrapBook  ART_AND_DESIGN     4.1   \n",
       "1                                Coloring book moana  ART_AND_DESIGN     3.9   \n",
       "2  U Launcher Lite – FREE Live Cool Themes, Hide ...  ART_AND_DESIGN     4.7   \n",
       "3                              Sketch - Draw & Paint  ART_AND_DESIGN     4.5   \n",
       "4              Pixel Draw - Number Art Coloring Book  ART_AND_DESIGN     4.3   \n",
       "\n",
       "  Reviews  Size     Installs  Type Price Content Rating  \\\n",
       "0     159   19M      10,000+  Free     0       Everyone   \n",
       "1     967   14M     500,000+  Free     0       Everyone   \n",
       "2   87510  8.7M   5,000,000+  Free     0       Everyone   \n",
       "3  215644   25M  50,000,000+  Free     0           Teen   \n",
       "4     967  2.8M     100,000+  Free     0       Everyone   \n",
       "\n",
       "                      Genres      Last Updated         Current Ver  \\\n",
       "0               Art & Design   January 7, 2018               1.0.0   \n",
       "1  Art & Design;Pretend Play  January 15, 2018               2.0.0   \n",
       "2               Art & Design    August 1, 2018               1.2.4   \n",
       "3               Art & Design      June 8, 2018  Varies with device   \n",
       "4    Art & Design;Creativity     June 20, 2018                 1.1   \n",
       "\n",
       "    Android Ver  \n",
       "0  4.0.3 and up  \n",
       "1  4.0.3 and up  \n",
       "2  4.0.3 and up  \n",
       "3    4.2 and up  \n",
       "4    4.4 and up  "
      ]
     },
     "execution_count": 171,
     "metadata": {},
     "output_type": "execute_result"
    }
   ],
   "source": [
    "df.head()"
   ]
  },
  {
   "cell_type": "code",
   "execution_count": 172,
   "metadata": {
    "ExecuteTime": {
     "end_time": "2019-08-02T06:19:13.074640Z",
     "start_time": "2019-08-02T06:19:13.045720Z"
    }
   },
   "outputs": [
    {
     "data": {
      "text/html": [
       "<div>\n",
       "<style scoped>\n",
       "    .dataframe tbody tr th:only-of-type {\n",
       "        vertical-align: middle;\n",
       "    }\n",
       "\n",
       "    .dataframe tbody tr th {\n",
       "        vertical-align: top;\n",
       "    }\n",
       "\n",
       "    .dataframe thead th {\n",
       "        text-align: right;\n",
       "    }\n",
       "</style>\n",
       "<table border=\"1\" class=\"dataframe\">\n",
       "  <thead>\n",
       "    <tr style=\"text-align: right;\">\n",
       "      <th></th>\n",
       "      <th>Category</th>\n",
       "      <th>Genres</th>\n",
       "    </tr>\n",
       "  </thead>\n",
       "  <tbody>\n",
       "    <tr>\n",
       "      <th>4654</th>\n",
       "      <td>SOCIAL</td>\n",
       "      <td>Social</td>\n",
       "    </tr>\n",
       "    <tr>\n",
       "      <th>1001</th>\n",
       "      <td>ENTERTAINMENT</td>\n",
       "      <td>Entertainment</td>\n",
       "    </tr>\n",
       "    <tr>\n",
       "      <th>10051</th>\n",
       "      <td>TOOLS</td>\n",
       "      <td>Tools</td>\n",
       "    </tr>\n",
       "    <tr>\n",
       "      <th>4679</th>\n",
       "      <td>GAME</td>\n",
       "      <td>Action</td>\n",
       "    </tr>\n",
       "    <tr>\n",
       "      <th>7187</th>\n",
       "      <td>TOOLS</td>\n",
       "      <td>Tools</td>\n",
       "    </tr>\n",
       "    <tr>\n",
       "      <th>1009</th>\n",
       "      <td>EVENTS</td>\n",
       "      <td>Events</td>\n",
       "    </tr>\n",
       "    <tr>\n",
       "      <th>4911</th>\n",
       "      <td>TOOLS</td>\n",
       "      <td>Tools</td>\n",
       "    </tr>\n",
       "    <tr>\n",
       "      <th>6439</th>\n",
       "      <td>FINANCE</td>\n",
       "      <td>Finance</td>\n",
       "    </tr>\n",
       "    <tr>\n",
       "      <th>5676</th>\n",
       "      <td>NEWS_AND_MAGAZINES</td>\n",
       "      <td>News &amp; Magazines</td>\n",
       "    </tr>\n",
       "    <tr>\n",
       "      <th>4503</th>\n",
       "      <td>FAMILY</td>\n",
       "      <td>Entertainment</td>\n",
       "    </tr>\n",
       "    <tr>\n",
       "      <th>5813</th>\n",
       "      <td>FAMILY</td>\n",
       "      <td>Simulation</td>\n",
       "    </tr>\n",
       "    <tr>\n",
       "      <th>5801</th>\n",
       "      <td>TOOLS</td>\n",
       "      <td>Tools</td>\n",
       "    </tr>\n",
       "    <tr>\n",
       "      <th>5780</th>\n",
       "      <td>FAMILY</td>\n",
       "      <td>Entertainment</td>\n",
       "    </tr>\n",
       "    <tr>\n",
       "      <th>10724</th>\n",
       "      <td>BOOKS_AND_REFERENCE</td>\n",
       "      <td>Books &amp; Reference</td>\n",
       "    </tr>\n",
       "    <tr>\n",
       "      <th>3074</th>\n",
       "      <td>SPORTS</td>\n",
       "      <td>Sports</td>\n",
       "    </tr>\n",
       "    <tr>\n",
       "      <th>4042</th>\n",
       "      <td>GAME</td>\n",
       "      <td>Racing</td>\n",
       "    </tr>\n",
       "    <tr>\n",
       "      <th>9039</th>\n",
       "      <td>FAMILY</td>\n",
       "      <td>Puzzle</td>\n",
       "    </tr>\n",
       "    <tr>\n",
       "      <th>7758</th>\n",
       "      <td>TOOLS</td>\n",
       "      <td>Tools</td>\n",
       "    </tr>\n",
       "    <tr>\n",
       "      <th>8711</th>\n",
       "      <td>PHOTOGRAPHY</td>\n",
       "      <td>Photography</td>\n",
       "    </tr>\n",
       "    <tr>\n",
       "      <th>2200</th>\n",
       "      <td>FAMILY</td>\n",
       "      <td>Education;Pretend Play</td>\n",
       "    </tr>\n",
       "    <tr>\n",
       "      <th>10605</th>\n",
       "      <td>EVENTS</td>\n",
       "      <td>Events</td>\n",
       "    </tr>\n",
       "    <tr>\n",
       "      <th>3104</th>\n",
       "      <td>TRAVEL_AND_LOCAL</td>\n",
       "      <td>Travel &amp; Local</td>\n",
       "    </tr>\n",
       "    <tr>\n",
       "      <th>9964</th>\n",
       "      <td>AUTO_AND_VEHICLES</td>\n",
       "      <td>Auto &amp; Vehicles</td>\n",
       "    </tr>\n",
       "    <tr>\n",
       "      <th>10452</th>\n",
       "      <td>COMMUNICATION</td>\n",
       "      <td>Communication</td>\n",
       "    </tr>\n",
       "    <tr>\n",
       "      <th>7323</th>\n",
       "      <td>FAMILY</td>\n",
       "      <td>Education</td>\n",
       "    </tr>\n",
       "    <tr>\n",
       "      <th>7684</th>\n",
       "      <td>LIFESTYLE</td>\n",
       "      <td>Lifestyle</td>\n",
       "    </tr>\n",
       "    <tr>\n",
       "      <th>7750</th>\n",
       "      <td>LIFESTYLE</td>\n",
       "      <td>Lifestyle</td>\n",
       "    </tr>\n",
       "    <tr>\n",
       "      <th>3091</th>\n",
       "      <td>SPORTS</td>\n",
       "      <td>Sports</td>\n",
       "    </tr>\n",
       "    <tr>\n",
       "      <th>1188</th>\n",
       "      <td>FOOD_AND_DRINK</td>\n",
       "      <td>Food &amp; Drink</td>\n",
       "    </tr>\n",
       "    <tr>\n",
       "      <th>1087</th>\n",
       "      <td>FINANCE</td>\n",
       "      <td>Finance</td>\n",
       "    </tr>\n",
       "    <tr>\n",
       "      <th>...</th>\n",
       "      <td>...</td>\n",
       "      <td>...</td>\n",
       "    </tr>\n",
       "    <tr>\n",
       "      <th>7297</th>\n",
       "      <td>NEWS_AND_MAGAZINES</td>\n",
       "      <td>News &amp; Magazines</td>\n",
       "    </tr>\n",
       "    <tr>\n",
       "      <th>4932</th>\n",
       "      <td>HOUSE_AND_HOME</td>\n",
       "      <td>House &amp; Home</td>\n",
       "    </tr>\n",
       "    <tr>\n",
       "      <th>7197</th>\n",
       "      <td>FAMILY</td>\n",
       "      <td>Education</td>\n",
       "    </tr>\n",
       "    <tr>\n",
       "      <th>2781</th>\n",
       "      <td>SHOPPING</td>\n",
       "      <td>Shopping</td>\n",
       "    </tr>\n",
       "    <tr>\n",
       "      <th>3840</th>\n",
       "      <td>MAPS_AND_NAVIGATION</td>\n",
       "      <td>Maps &amp; Navigation</td>\n",
       "    </tr>\n",
       "    <tr>\n",
       "      <th>2244</th>\n",
       "      <td>MEDICAL</td>\n",
       "      <td>Medical</td>\n",
       "    </tr>\n",
       "    <tr>\n",
       "      <th>8120</th>\n",
       "      <td>FAMILY</td>\n",
       "      <td>Education</td>\n",
       "    </tr>\n",
       "    <tr>\n",
       "      <th>4716</th>\n",
       "      <td>WEATHER</td>\n",
       "      <td>Weather</td>\n",
       "    </tr>\n",
       "    <tr>\n",
       "      <th>10490</th>\n",
       "      <td>PERSONALIZATION</td>\n",
       "      <td>Personalization</td>\n",
       "    </tr>\n",
       "    <tr>\n",
       "      <th>2158</th>\n",
       "      <td>FAMILY</td>\n",
       "      <td>Board;Brain Games</td>\n",
       "    </tr>\n",
       "    <tr>\n",
       "      <th>9369</th>\n",
       "      <td>GAME</td>\n",
       "      <td>Trivia</td>\n",
       "    </tr>\n",
       "    <tr>\n",
       "      <th>9446</th>\n",
       "      <td>NEWS_AND_MAGAZINES</td>\n",
       "      <td>News &amp; Magazines</td>\n",
       "    </tr>\n",
       "    <tr>\n",
       "      <th>9948</th>\n",
       "      <td>TOOLS</td>\n",
       "      <td>Tools</td>\n",
       "    </tr>\n",
       "    <tr>\n",
       "      <th>3217</th>\n",
       "      <td>TRAVEL_AND_LOCAL</td>\n",
       "      <td>Travel &amp; Local</td>\n",
       "    </tr>\n",
       "    <tr>\n",
       "      <th>3785</th>\n",
       "      <td>NEWS_AND_MAGAZINES</td>\n",
       "      <td>News &amp; Magazines</td>\n",
       "    </tr>\n",
       "    <tr>\n",
       "      <th>4966</th>\n",
       "      <td>FAMILY</td>\n",
       "      <td>Education</td>\n",
       "    </tr>\n",
       "    <tr>\n",
       "      <th>3851</th>\n",
       "      <td>MAPS_AND_NAVIGATION</td>\n",
       "      <td>Maps &amp; Navigation</td>\n",
       "    </tr>\n",
       "    <tr>\n",
       "      <th>4917</th>\n",
       "      <td>PRODUCTIVITY</td>\n",
       "      <td>Productivity</td>\n",
       "    </tr>\n",
       "    <tr>\n",
       "      <th>4290</th>\n",
       "      <td>TOOLS</td>\n",
       "      <td>Tools</td>\n",
       "    </tr>\n",
       "    <tr>\n",
       "      <th>6793</th>\n",
       "      <td>TOOLS</td>\n",
       "      <td>Tools</td>\n",
       "    </tr>\n",
       "    <tr>\n",
       "      <th>3314</th>\n",
       "      <td>TOOLS</td>\n",
       "      <td>Tools</td>\n",
       "    </tr>\n",
       "    <tr>\n",
       "      <th>7950</th>\n",
       "      <td>FAMILY</td>\n",
       "      <td>Education</td>\n",
       "    </tr>\n",
       "    <tr>\n",
       "      <th>5793</th>\n",
       "      <td>FAMILY</td>\n",
       "      <td>Simulation</td>\n",
       "    </tr>\n",
       "    <tr>\n",
       "      <th>1314</th>\n",
       "      <td>HEALTH_AND_FITNESS</td>\n",
       "      <td>Health &amp; Fitness</td>\n",
       "    </tr>\n",
       "    <tr>\n",
       "      <th>6205</th>\n",
       "      <td>FAMILY</td>\n",
       "      <td>Role Playing</td>\n",
       "    </tr>\n",
       "    <tr>\n",
       "      <th>1693</th>\n",
       "      <td>GAME</td>\n",
       "      <td>Action</td>\n",
       "    </tr>\n",
       "    <tr>\n",
       "      <th>5561</th>\n",
       "      <td>BOOKS_AND_REFERENCE</td>\n",
       "      <td>Books &amp; Reference</td>\n",
       "    </tr>\n",
       "    <tr>\n",
       "      <th>5468</th>\n",
       "      <td>FAMILY</td>\n",
       "      <td>Education</td>\n",
       "    </tr>\n",
       "    <tr>\n",
       "      <th>10528</th>\n",
       "      <td>SPORTS</td>\n",
       "      <td>Sports</td>\n",
       "    </tr>\n",
       "    <tr>\n",
       "      <th>10725</th>\n",
       "      <td>MAPS_AND_NAVIGATION</td>\n",
       "      <td>Maps &amp; Navigation</td>\n",
       "    </tr>\n",
       "  </tbody>\n",
       "</table>\n",
       "<p>100 rows × 2 columns</p>\n",
       "</div>"
      ],
      "text/plain": [
       "                  Category                  Genres\n",
       "4654                SOCIAL                  Social\n",
       "1001         ENTERTAINMENT           Entertainment\n",
       "10051                TOOLS                   Tools\n",
       "4679                  GAME                  Action\n",
       "7187                 TOOLS                   Tools\n",
       "1009                EVENTS                  Events\n",
       "4911                 TOOLS                   Tools\n",
       "6439               FINANCE                 Finance\n",
       "5676    NEWS_AND_MAGAZINES        News & Magazines\n",
       "4503                FAMILY           Entertainment\n",
       "5813                FAMILY              Simulation\n",
       "5801                 TOOLS                   Tools\n",
       "5780                FAMILY           Entertainment\n",
       "10724  BOOKS_AND_REFERENCE       Books & Reference\n",
       "3074                SPORTS                  Sports\n",
       "4042                  GAME                  Racing\n",
       "9039                FAMILY                  Puzzle\n",
       "7758                 TOOLS                   Tools\n",
       "8711           PHOTOGRAPHY             Photography\n",
       "2200                FAMILY  Education;Pretend Play\n",
       "10605               EVENTS                  Events\n",
       "3104      TRAVEL_AND_LOCAL          Travel & Local\n",
       "9964     AUTO_AND_VEHICLES         Auto & Vehicles\n",
       "10452        COMMUNICATION           Communication\n",
       "7323                FAMILY               Education\n",
       "7684             LIFESTYLE               Lifestyle\n",
       "7750             LIFESTYLE               Lifestyle\n",
       "3091                SPORTS                  Sports\n",
       "1188        FOOD_AND_DRINK            Food & Drink\n",
       "1087               FINANCE                 Finance\n",
       "...                    ...                     ...\n",
       "7297    NEWS_AND_MAGAZINES        News & Magazines\n",
       "4932        HOUSE_AND_HOME            House & Home\n",
       "7197                FAMILY               Education\n",
       "2781              SHOPPING                Shopping\n",
       "3840   MAPS_AND_NAVIGATION       Maps & Navigation\n",
       "2244               MEDICAL                 Medical\n",
       "8120                FAMILY               Education\n",
       "4716               WEATHER                 Weather\n",
       "10490      PERSONALIZATION         Personalization\n",
       "2158                FAMILY       Board;Brain Games\n",
       "9369                  GAME                  Trivia\n",
       "9446    NEWS_AND_MAGAZINES        News & Magazines\n",
       "9948                 TOOLS                   Tools\n",
       "3217      TRAVEL_AND_LOCAL          Travel & Local\n",
       "3785    NEWS_AND_MAGAZINES        News & Magazines\n",
       "4966                FAMILY               Education\n",
       "3851   MAPS_AND_NAVIGATION       Maps & Navigation\n",
       "4917          PRODUCTIVITY            Productivity\n",
       "4290                 TOOLS                   Tools\n",
       "6793                 TOOLS                   Tools\n",
       "3314                 TOOLS                   Tools\n",
       "7950                FAMILY               Education\n",
       "5793                FAMILY              Simulation\n",
       "1314    HEALTH_AND_FITNESS        Health & Fitness\n",
       "6205                FAMILY            Role Playing\n",
       "1693                  GAME                  Action\n",
       "5561   BOOKS_AND_REFERENCE       Books & Reference\n",
       "5468                FAMILY               Education\n",
       "10528               SPORTS                  Sports\n",
       "10725  MAPS_AND_NAVIGATION       Maps & Navigation\n",
       "\n",
       "[100 rows x 2 columns]"
      ]
     },
     "execution_count": 172,
     "metadata": {},
     "output_type": "execute_result"
    }
   ],
   "source": [
    "df[['Category','Genres']].sample(100)"
   ]
  },
  {
   "cell_type": "code",
   "execution_count": 173,
   "metadata": {
    "ExecuteTime": {
     "end_time": "2019-08-02T06:19:15.449471Z",
     "start_time": "2019-08-02T06:19:15.424205Z"
    }
   },
   "outputs": [
    {
     "data": {
      "text/plain": [
       "App                  0\n",
       "Category             0\n",
       "Rating            1474\n",
       "Reviews              0\n",
       "Size                 0\n",
       "Installs             0\n",
       "Type                 1\n",
       "Price                0\n",
       "Content Rating       1\n",
       "Genres               0\n",
       "Last Updated         0\n",
       "Current Ver          8\n",
       "Android Ver          3\n",
       "dtype: int64"
      ]
     },
     "execution_count": 173,
     "metadata": {},
     "output_type": "execute_result"
    }
   ],
   "source": [
    "# TO DO: clean the data (optional: only there are problems)\n",
    "df.isnull().sum()"
   ]
  },
  {
   "cell_type": "code",
   "execution_count": 174,
   "metadata": {
    "ExecuteTime": {
     "end_time": "2019-08-02T06:19:16.860225Z",
     "start_time": "2019-08-02T06:19:16.835372Z"
    }
   },
   "outputs": [
    {
     "data": {
      "text/plain": [
       "Index(['App', 'Category', 'Rating', 'Reviews', 'Size', 'Installs', 'Type',\n",
       "       'Price', 'Content Rating', 'Genres', 'Last Updated', 'Current Ver',\n",
       "       'Android Ver'],\n",
       "      dtype='object')"
      ]
     },
     "execution_count": 174,
     "metadata": {},
     "output_type": "execute_result"
    }
   ],
   "source": [
    "df.columns"
   ]
  },
  {
   "cell_type": "markdown",
   "metadata": {},
   "source": [
    "## / function\n",
    "### // drop_column(df,list)"
   ]
  },
  {
   "cell_type": "code",
   "execution_count": 175,
   "metadata": {
    "ExecuteTime": {
     "end_time": "2019-08-02T06:19:19.693748Z",
     "start_time": "2019-08-02T06:19:19.686036Z"
    }
   },
   "outputs": [],
   "source": [
    "## build fuction\n",
    "def drop_column(df,list):\n",
    "    '''\n",
    "    input: \n",
    "    1\\ dataframe which to exam\n",
    "    2\\ list which feature to exam\n",
    "    \n",
    "    check:\n",
    "    to drop a list of fearures that do not need,\n",
    "    and get some extra infor for indicating which column is droped,\n",
    "    for drop data is always sensitive, logs is needed.\n",
    "    \n",
    "    output: str\n",
    "    full information for deleting featrues.\n",
    "    '''\n",
    "    ## proceed\n",
    "    dflen = len(df.columns)\n",
    "    df.drop(list,axis=1,inplace=True)\n",
    "    ### 在函数中要用 inplace=True 而不是赋值来作用于df\n",
    "    ## check\n",
    "    print('---- proceding ----')\n",
    "    print('- drop {} columns: {} '.format(len(list), list))\n",
    "    print('- remain {} columns'.format(len(df.columns)))\n",
    "    print('- success : {}'.format(len(list) + len(df.columns) == dflen))"
   ]
  },
  {
   "cell_type": "markdown",
   "metadata": {},
   "source": [
    "## / cleaning\n",
    "### // drop_column"
   ]
  },
  {
   "cell_type": "code",
   "execution_count": 176,
   "metadata": {
    "ExecuteTime": {
     "end_time": "2019-08-02T06:19:21.829267Z",
     "start_time": "2019-08-02T06:19:21.823000Z"
    }
   },
   "outputs": [
    {
     "name": "stdout",
     "output_type": "stream",
     "text": [
      "Help on function drop_column in module __main__:\n",
      "\n",
      "drop_column(df, list)\n",
      "    input: \n",
      "    1\\ dataframe which to exam\n",
      "    2\\ list which feature to exam\n",
      "    \n",
      "    check:\n",
      "    to drop a list of fearures that do not need,\n",
      "    and get some extra infor for indicating which column is droped,\n",
      "    for drop data is always sensitive, logs is needed.\n",
      "    \n",
      "    output: str\n",
      "    full information for deleting featrues.\n",
      "\n"
     ]
    }
   ],
   "source": [
    "help(drop_column)"
   ]
  },
  {
   "cell_type": "code",
   "execution_count": 177,
   "metadata": {
    "ExecuteTime": {
     "end_time": "2019-08-02T06:19:22.574002Z",
     "start_time": "2019-08-02T06:19:22.553947Z"
    }
   },
   "outputs": [],
   "source": [
    "dfnew = df.copy()"
   ]
  },
  {
   "cell_type": "code",
   "execution_count": 178,
   "metadata": {
    "ExecuteTime": {
     "end_time": "2019-08-02T06:19:23.319261Z",
     "start_time": "2019-08-02T06:19:23.314649Z"
    }
   },
   "outputs": [],
   "source": [
    "drop_list = ['Category','Current Ver',\n",
    "             'Content Rating','Android Ver','Size']"
   ]
  },
  {
   "cell_type": "code",
   "execution_count": 179,
   "metadata": {
    "ExecuteTime": {
     "end_time": "2019-08-02T06:19:24.377833Z",
     "start_time": "2019-08-02T06:19:24.360689Z"
    }
   },
   "outputs": [
    {
     "name": "stdout",
     "output_type": "stream",
     "text": [
      "---- proceding ----\n",
      "- drop 5 columns: ['Category', 'Current Ver', 'Content Rating', 'Android Ver', 'Size'] \n",
      "- remain 8 columns\n",
      "- success : True\n"
     ]
    }
   ],
   "source": [
    "drop_column(dfnew,drop_list)"
   ]
  },
  {
   "cell_type": "code",
   "execution_count": 180,
   "metadata": {
    "ExecuteTime": {
     "end_time": "2019-08-02T06:19:25.135084Z",
     "start_time": "2019-08-02T06:19:25.110314Z"
    }
   },
   "outputs": [
    {
     "data": {
      "text/html": [
       "<div>\n",
       "<style scoped>\n",
       "    .dataframe tbody tr th:only-of-type {\n",
       "        vertical-align: middle;\n",
       "    }\n",
       "\n",
       "    .dataframe tbody tr th {\n",
       "        vertical-align: top;\n",
       "    }\n",
       "\n",
       "    .dataframe thead th {\n",
       "        text-align: right;\n",
       "    }\n",
       "</style>\n",
       "<table border=\"1\" class=\"dataframe\">\n",
       "  <thead>\n",
       "    <tr style=\"text-align: right;\">\n",
       "      <th></th>\n",
       "      <th>App</th>\n",
       "      <th>Rating</th>\n",
       "      <th>Reviews</th>\n",
       "      <th>Installs</th>\n",
       "      <th>Type</th>\n",
       "      <th>Price</th>\n",
       "      <th>Genres</th>\n",
       "      <th>Last Updated</th>\n",
       "    </tr>\n",
       "  </thead>\n",
       "  <tbody>\n",
       "    <tr>\n",
       "      <th>5974</th>\n",
       "      <td>BC Wildfire</td>\n",
       "      <td>3.3</td>\n",
       "      <td>27</td>\n",
       "      <td>5,000+</td>\n",
       "      <td>Free</td>\n",
       "      <td>0</td>\n",
       "      <td>Tools</td>\n",
       "      <td>May 31, 2018</td>\n",
       "    </tr>\n",
       "  </tbody>\n",
       "</table>\n",
       "</div>"
      ],
      "text/plain": [
       "              App  Rating Reviews Installs  Type Price Genres  Last Updated\n",
       "5974  BC Wildfire     3.3      27   5,000+  Free     0  Tools  May 31, 2018"
      ]
     },
     "execution_count": 180,
     "metadata": {},
     "output_type": "execute_result"
    }
   ],
   "source": [
    "dfnew.sample()"
   ]
  },
  {
   "cell_type": "markdown",
   "metadata": {},
   "source": [
    "### // drop_duplicate"
   ]
  },
  {
   "cell_type": "code",
   "execution_count": 181,
   "metadata": {
    "ExecuteTime": {
     "end_time": "2019-08-02T06:19:35.870684Z",
     "start_time": "2019-08-02T06:19:35.812675Z"
    }
   },
   "outputs": [
    {
     "data": {
      "text/html": [
       "<div>\n",
       "<style scoped>\n",
       "    .dataframe tbody tr th:only-of-type {\n",
       "        vertical-align: middle;\n",
       "    }\n",
       "\n",
       "    .dataframe tbody tr th {\n",
       "        vertical-align: top;\n",
       "    }\n",
       "\n",
       "    .dataframe thead th {\n",
       "        text-align: right;\n",
       "    }\n",
       "</style>\n",
       "<table border=\"1\" class=\"dataframe\">\n",
       "  <thead>\n",
       "    <tr style=\"text-align: right;\">\n",
       "      <th></th>\n",
       "      <th>App</th>\n",
       "      <th>Rating</th>\n",
       "      <th>Reviews</th>\n",
       "      <th>Installs</th>\n",
       "      <th>Type</th>\n",
       "      <th>Price</th>\n",
       "      <th>Genres</th>\n",
       "      <th>Last Updated</th>\n",
       "    </tr>\n",
       "  </thead>\n",
       "  <tbody>\n",
       "    <tr>\n",
       "      <th>229</th>\n",
       "      <td>Quick PDF Scanner + OCR FREE</td>\n",
       "      <td>4.2</td>\n",
       "      <td>80805</td>\n",
       "      <td>5,000,000+</td>\n",
       "      <td>Free</td>\n",
       "      <td>0</td>\n",
       "      <td>Business</td>\n",
       "      <td>February 26, 2018</td>\n",
       "    </tr>\n",
       "    <tr>\n",
       "      <th>236</th>\n",
       "      <td>Box</td>\n",
       "      <td>4.2</td>\n",
       "      <td>159872</td>\n",
       "      <td>10,000,000+</td>\n",
       "      <td>Free</td>\n",
       "      <td>0</td>\n",
       "      <td>Business</td>\n",
       "      <td>July 31, 2018</td>\n",
       "    </tr>\n",
       "    <tr>\n",
       "      <th>239</th>\n",
       "      <td>Google My Business</td>\n",
       "      <td>4.4</td>\n",
       "      <td>70991</td>\n",
       "      <td>5,000,000+</td>\n",
       "      <td>Free</td>\n",
       "      <td>0</td>\n",
       "      <td>Business</td>\n",
       "      <td>July 24, 2018</td>\n",
       "    </tr>\n",
       "    <tr>\n",
       "      <th>256</th>\n",
       "      <td>ZOOM Cloud Meetings</td>\n",
       "      <td>4.4</td>\n",
       "      <td>31614</td>\n",
       "      <td>10,000,000+</td>\n",
       "      <td>Free</td>\n",
       "      <td>0</td>\n",
       "      <td>Business</td>\n",
       "      <td>July 20, 2018</td>\n",
       "    </tr>\n",
       "    <tr>\n",
       "      <th>261</th>\n",
       "      <td>join.me - Simple Meetings</td>\n",
       "      <td>4.0</td>\n",
       "      <td>6989</td>\n",
       "      <td>1,000,000+</td>\n",
       "      <td>Free</td>\n",
       "      <td>0</td>\n",
       "      <td>Business</td>\n",
       "      <td>July 16, 2018</td>\n",
       "    </tr>\n",
       "    <tr>\n",
       "      <th>265</th>\n",
       "      <td>Box</td>\n",
       "      <td>4.2</td>\n",
       "      <td>159872</td>\n",
       "      <td>10,000,000+</td>\n",
       "      <td>Free</td>\n",
       "      <td>0</td>\n",
       "      <td>Business</td>\n",
       "      <td>July 31, 2018</td>\n",
       "    </tr>\n",
       "    <tr>\n",
       "      <th>266</th>\n",
       "      <td>Zenefits</td>\n",
       "      <td>4.2</td>\n",
       "      <td>296</td>\n",
       "      <td>50,000+</td>\n",
       "      <td>Free</td>\n",
       "      <td>0</td>\n",
       "      <td>Business</td>\n",
       "      <td>June 15, 2018</td>\n",
       "    </tr>\n",
       "    <tr>\n",
       "      <th>267</th>\n",
       "      <td>Google Ads</td>\n",
       "      <td>4.3</td>\n",
       "      <td>29313</td>\n",
       "      <td>5,000,000+</td>\n",
       "      <td>Free</td>\n",
       "      <td>0</td>\n",
       "      <td>Business</td>\n",
       "      <td>July 30, 2018</td>\n",
       "    </tr>\n",
       "    <tr>\n",
       "      <th>268</th>\n",
       "      <td>Google My Business</td>\n",
       "      <td>4.4</td>\n",
       "      <td>70991</td>\n",
       "      <td>5,000,000+</td>\n",
       "      <td>Free</td>\n",
       "      <td>0</td>\n",
       "      <td>Business</td>\n",
       "      <td>July 24, 2018</td>\n",
       "    </tr>\n",
       "    <tr>\n",
       "      <th>269</th>\n",
       "      <td>Slack</td>\n",
       "      <td>4.4</td>\n",
       "      <td>51507</td>\n",
       "      <td>5,000,000+</td>\n",
       "      <td>Free</td>\n",
       "      <td>0</td>\n",
       "      <td>Business</td>\n",
       "      <td>August 2, 2018</td>\n",
       "    </tr>\n",
       "    <tr>\n",
       "      <th>270</th>\n",
       "      <td>FreshBooks Classic</td>\n",
       "      <td>4.1</td>\n",
       "      <td>1802</td>\n",
       "      <td>100,000+</td>\n",
       "      <td>Free</td>\n",
       "      <td>0</td>\n",
       "      <td>Business</td>\n",
       "      <td>April 18, 2018</td>\n",
       "    </tr>\n",
       "    <tr>\n",
       "      <th>271</th>\n",
       "      <td>Insightly CRM</td>\n",
       "      <td>3.8</td>\n",
       "      <td>1383</td>\n",
       "      <td>100,000+</td>\n",
       "      <td>Free</td>\n",
       "      <td>0</td>\n",
       "      <td>Business</td>\n",
       "      <td>July 12, 2018</td>\n",
       "    </tr>\n",
       "    <tr>\n",
       "      <th>272</th>\n",
       "      <td>QuickBooks Accounting: Invoicing &amp; Expenses</td>\n",
       "      <td>4.3</td>\n",
       "      <td>23175</td>\n",
       "      <td>1,000,000+</td>\n",
       "      <td>Free</td>\n",
       "      <td>0</td>\n",
       "      <td>Business</td>\n",
       "      <td>July 13, 2018</td>\n",
       "    </tr>\n",
       "    <tr>\n",
       "      <th>273</th>\n",
       "      <td>HipChat - Chat Built for Teams</td>\n",
       "      <td>3.8</td>\n",
       "      <td>5868</td>\n",
       "      <td>500,000+</td>\n",
       "      <td>Free</td>\n",
       "      <td>0</td>\n",
       "      <td>Business</td>\n",
       "      <td>July 3, 2018</td>\n",
       "    </tr>\n",
       "    <tr>\n",
       "      <th>274</th>\n",
       "      <td>Xero Accounting Software</td>\n",
       "      <td>3.5</td>\n",
       "      <td>2111</td>\n",
       "      <td>100,000+</td>\n",
       "      <td>Free</td>\n",
       "      <td>0</td>\n",
       "      <td>Business</td>\n",
       "      <td>July 30, 2018</td>\n",
       "    </tr>\n",
       "    <tr>\n",
       "      <th>275</th>\n",
       "      <td>MailChimp - Email, Marketing Automation</td>\n",
       "      <td>4.1</td>\n",
       "      <td>5448</td>\n",
       "      <td>500,000+</td>\n",
       "      <td>Free</td>\n",
       "      <td>0</td>\n",
       "      <td>Business</td>\n",
       "      <td>July 25, 2018</td>\n",
       "    </tr>\n",
       "    <tr>\n",
       "      <th>276</th>\n",
       "      <td>Crew - Free Messaging and Scheduling</td>\n",
       "      <td>4.6</td>\n",
       "      <td>4159</td>\n",
       "      <td>500,000+</td>\n",
       "      <td>Free</td>\n",
       "      <td>0</td>\n",
       "      <td>Business</td>\n",
       "      <td>July 20, 2018</td>\n",
       "    </tr>\n",
       "    <tr>\n",
       "      <th>277</th>\n",
       "      <td>Asana: organize team projects</td>\n",
       "      <td>4.3</td>\n",
       "      <td>20815</td>\n",
       "      <td>1,000,000+</td>\n",
       "      <td>Free</td>\n",
       "      <td>0</td>\n",
       "      <td>Business</td>\n",
       "      <td>July 26, 2018</td>\n",
       "    </tr>\n",
       "    <tr>\n",
       "      <th>278</th>\n",
       "      <td>Google Analytics</td>\n",
       "      <td>4.5</td>\n",
       "      <td>78662</td>\n",
       "      <td>1,000,000+</td>\n",
       "      <td>Free</td>\n",
       "      <td>0</td>\n",
       "      <td>Business</td>\n",
       "      <td>February 13, 2018</td>\n",
       "    </tr>\n",
       "    <tr>\n",
       "      <th>279</th>\n",
       "      <td>AdWords Express</td>\n",
       "      <td>4.1</td>\n",
       "      <td>7149</td>\n",
       "      <td>1,000,000+</td>\n",
       "      <td>Free</td>\n",
       "      <td>0</td>\n",
       "      <td>Business</td>\n",
       "      <td>July 31, 2018</td>\n",
       "    </tr>\n",
       "    <tr>\n",
       "      <th>280</th>\n",
       "      <td>Accounting App - Zoho Books</td>\n",
       "      <td>4.5</td>\n",
       "      <td>3079</td>\n",
       "      <td>100,000+</td>\n",
       "      <td>Free</td>\n",
       "      <td>0</td>\n",
       "      <td>Business</td>\n",
       "      <td>August 2, 2018</td>\n",
       "    </tr>\n",
       "    <tr>\n",
       "      <th>281</th>\n",
       "      <td>Invoice &amp; Time Tracking - Zoho</td>\n",
       "      <td>4.6</td>\n",
       "      <td>5800</td>\n",
       "      <td>100,000+</td>\n",
       "      <td>Free</td>\n",
       "      <td>0</td>\n",
       "      <td>Business</td>\n",
       "      <td>August 2, 2018</td>\n",
       "    </tr>\n",
       "    <tr>\n",
       "      <th>282</th>\n",
       "      <td>join.me - Simple Meetings</td>\n",
       "      <td>4.0</td>\n",
       "      <td>6989</td>\n",
       "      <td>1,000,000+</td>\n",
       "      <td>Free</td>\n",
       "      <td>0</td>\n",
       "      <td>Business</td>\n",
       "      <td>July 16, 2018</td>\n",
       "    </tr>\n",
       "    <tr>\n",
       "      <th>283</th>\n",
       "      <td>Invoice 2go — Professional Invoices and Estimates</td>\n",
       "      <td>4.2</td>\n",
       "      <td>16422</td>\n",
       "      <td>1,000,000+</td>\n",
       "      <td>Free</td>\n",
       "      <td>0</td>\n",
       "      <td>Business</td>\n",
       "      <td>August 1, 2018</td>\n",
       "    </tr>\n",
       "    <tr>\n",
       "      <th>284</th>\n",
       "      <td>SignEasy | Sign and Fill PDF and other Documents</td>\n",
       "      <td>4.3</td>\n",
       "      <td>8978</td>\n",
       "      <td>1,000,000+</td>\n",
       "      <td>Free</td>\n",
       "      <td>0</td>\n",
       "      <td>Business</td>\n",
       "      <td>July 25, 2018</td>\n",
       "    </tr>\n",
       "    <tr>\n",
       "      <th>286</th>\n",
       "      <td>Genius Scan - PDF Scanner</td>\n",
       "      <td>4.4</td>\n",
       "      <td>42492</td>\n",
       "      <td>1,000,000+</td>\n",
       "      <td>Free</td>\n",
       "      <td>0</td>\n",
       "      <td>Business</td>\n",
       "      <td>July 11, 2018</td>\n",
       "    </tr>\n",
       "    <tr>\n",
       "      <th>287</th>\n",
       "      <td>Tiny Scanner - PDF Scanner App</td>\n",
       "      <td>4.7</td>\n",
       "      <td>286897</td>\n",
       "      <td>10,000,000+</td>\n",
       "      <td>Free</td>\n",
       "      <td>0</td>\n",
       "      <td>Business</td>\n",
       "      <td>May 30, 2017</td>\n",
       "    </tr>\n",
       "    <tr>\n",
       "      <th>288</th>\n",
       "      <td>Fast Scanner : Free PDF Scan</td>\n",
       "      <td>4.5</td>\n",
       "      <td>103755</td>\n",
       "      <td>10,000,000+</td>\n",
       "      <td>Free</td>\n",
       "      <td>0</td>\n",
       "      <td>Business</td>\n",
       "      <td>July 11, 2018</td>\n",
       "    </tr>\n",
       "    <tr>\n",
       "      <th>289</th>\n",
       "      <td>Mobile Doc Scanner (MDScan) Lite</td>\n",
       "      <td>4.2</td>\n",
       "      <td>46505</td>\n",
       "      <td>1,000,000+</td>\n",
       "      <td>Free</td>\n",
       "      <td>0</td>\n",
       "      <td>Business</td>\n",
       "      <td>August 2, 2018</td>\n",
       "    </tr>\n",
       "    <tr>\n",
       "      <th>290</th>\n",
       "      <td>TurboScan: scan documents and receipts in PDF</td>\n",
       "      <td>4.7</td>\n",
       "      <td>11442</td>\n",
       "      <td>100,000+</td>\n",
       "      <td>Paid</td>\n",
       "      <td>$4.99</td>\n",
       "      <td>Business</td>\n",
       "      <td>March 25, 2018</td>\n",
       "    </tr>\n",
       "    <tr>\n",
       "      <th>...</th>\n",
       "      <td>...</td>\n",
       "      <td>...</td>\n",
       "      <td>...</td>\n",
       "      <td>...</td>\n",
       "      <td>...</td>\n",
       "      <td>...</td>\n",
       "      <td>...</td>\n",
       "      <td>...</td>\n",
       "    </tr>\n",
       "    <tr>\n",
       "      <th>4441</th>\n",
       "      <td>O-Star</td>\n",
       "      <td>4.4</td>\n",
       "      <td>59</td>\n",
       "      <td>5,000+</td>\n",
       "      <td>Free</td>\n",
       "      <td>0</td>\n",
       "      <td>Dating</td>\n",
       "      <td>July 19, 2018</td>\n",
       "    </tr>\n",
       "    <tr>\n",
       "      <th>4805</th>\n",
       "      <td>YouTube Gaming</td>\n",
       "      <td>4.2</td>\n",
       "      <td>130549</td>\n",
       "      <td>5,000,000+</td>\n",
       "      <td>Free</td>\n",
       "      <td>0</td>\n",
       "      <td>Entertainment</td>\n",
       "      <td>June 27, 2018</td>\n",
       "    </tr>\n",
       "    <tr>\n",
       "      <th>5147</th>\n",
       "      <td>Maricopa AH</td>\n",
       "      <td>NaN</td>\n",
       "      <td>0</td>\n",
       "      <td>100+</td>\n",
       "      <td>Free</td>\n",
       "      <td>0</td>\n",
       "      <td>Medical</td>\n",
       "      <td>July 16, 2018</td>\n",
       "    </tr>\n",
       "    <tr>\n",
       "      <th>5537</th>\n",
       "      <td>Houzz Interior Design Ideas</td>\n",
       "      <td>4.6</td>\n",
       "      <td>353813</td>\n",
       "      <td>10,000,000+</td>\n",
       "      <td>Free</td>\n",
       "      <td>0</td>\n",
       "      <td>House &amp; Home</td>\n",
       "      <td>August 1, 2018</td>\n",
       "    </tr>\n",
       "    <tr>\n",
       "      <th>5958</th>\n",
       "      <td>Anthem BC Anywhere</td>\n",
       "      <td>2.6</td>\n",
       "      <td>496</td>\n",
       "      <td>100,000+</td>\n",
       "      <td>Free</td>\n",
       "      <td>0</td>\n",
       "      <td>Medical</td>\n",
       "      <td>July 27, 2018</td>\n",
       "    </tr>\n",
       "    <tr>\n",
       "      <th>5989</th>\n",
       "      <td>PMHNP-BC Pocket Prep</td>\n",
       "      <td>4.4</td>\n",
       "      <td>112</td>\n",
       "      <td>1,000+</td>\n",
       "      <td>Free</td>\n",
       "      <td>0</td>\n",
       "      <td>Medical</td>\n",
       "      <td>July 12, 2018</td>\n",
       "    </tr>\n",
       "    <tr>\n",
       "      <th>6584</th>\n",
       "      <td>iBP Blood Pressure</td>\n",
       "      <td>4.4</td>\n",
       "      <td>578</td>\n",
       "      <td>10,000+</td>\n",
       "      <td>Paid</td>\n",
       "      <td>$0.99</td>\n",
       "      <td>Medical</td>\n",
       "      <td>November 30, 2014</td>\n",
       "    </tr>\n",
       "    <tr>\n",
       "      <th>6585</th>\n",
       "      <td>Blood Pressure</td>\n",
       "      <td>4.2</td>\n",
       "      <td>33033</td>\n",
       "      <td>5,000,000+</td>\n",
       "      <td>Free</td>\n",
       "      <td>0</td>\n",
       "      <td>Medical</td>\n",
       "      <td>July 24, 2018</td>\n",
       "    </tr>\n",
       "    <tr>\n",
       "      <th>6590</th>\n",
       "      <td>Blood Pressure(BP) Diary</td>\n",
       "      <td>3.7</td>\n",
       "      <td>3596</td>\n",
       "      <td>1,000,000+</td>\n",
       "      <td>Free</td>\n",
       "      <td>0</td>\n",
       "      <td>Medical</td>\n",
       "      <td>July 18, 2018</td>\n",
       "    </tr>\n",
       "    <tr>\n",
       "      <th>6593</th>\n",
       "      <td>BP Journal - Blood Pressure Diary</td>\n",
       "      <td>5.0</td>\n",
       "      <td>6</td>\n",
       "      <td>1,000+</td>\n",
       "      <td>Free</td>\n",
       "      <td>0</td>\n",
       "      <td>Medical</td>\n",
       "      <td>May 25, 2018</td>\n",
       "    </tr>\n",
       "    <tr>\n",
       "      <th>6594</th>\n",
       "      <td>Blood Pressure Monitor</td>\n",
       "      <td>4.3</td>\n",
       "      <td>17</td>\n",
       "      <td>10,000+</td>\n",
       "      <td>Free</td>\n",
       "      <td>0</td>\n",
       "      <td>Medical</td>\n",
       "      <td>February 25, 2017</td>\n",
       "    </tr>\n",
       "    <tr>\n",
       "      <th>6595</th>\n",
       "      <td>Blood Pressure Companion</td>\n",
       "      <td>4.2</td>\n",
       "      <td>178</td>\n",
       "      <td>1,000+</td>\n",
       "      <td>Paid</td>\n",
       "      <td>$0.99</td>\n",
       "      <td>Medical</td>\n",
       "      <td>July 22, 2018</td>\n",
       "    </tr>\n",
       "    <tr>\n",
       "      <th>6598</th>\n",
       "      <td>Free Blood Pressure</td>\n",
       "      <td>NaN</td>\n",
       "      <td>7</td>\n",
       "      <td>5,000+</td>\n",
       "      <td>Free</td>\n",
       "      <td>0</td>\n",
       "      <td>Medical</td>\n",
       "      <td>October 13, 2016</td>\n",
       "    </tr>\n",
       "    <tr>\n",
       "      <th>6911</th>\n",
       "      <td>Beautiful Widgets Pro</td>\n",
       "      <td>4.2</td>\n",
       "      <td>97890</td>\n",
       "      <td>1,000,000+</td>\n",
       "      <td>Paid</td>\n",
       "      <td>$2.49</td>\n",
       "      <td>Personalization</td>\n",
       "      <td>August 24, 2016</td>\n",
       "    </tr>\n",
       "    <tr>\n",
       "      <th>7030</th>\n",
       "      <td>Elmo Calls by Sesame Street</td>\n",
       "      <td>3.9</td>\n",
       "      <td>6903</td>\n",
       "      <td>1,000,000+</td>\n",
       "      <td>Free</td>\n",
       "      <td>0</td>\n",
       "      <td>Educational;Pretend Play</td>\n",
       "      <td>January 31, 2018</td>\n",
       "    </tr>\n",
       "    <tr>\n",
       "      <th>7035</th>\n",
       "      <td>420 BZ Budeze Delivery</td>\n",
       "      <td>5.0</td>\n",
       "      <td>2</td>\n",
       "      <td>100+</td>\n",
       "      <td>Free</td>\n",
       "      <td>0</td>\n",
       "      <td>Medical</td>\n",
       "      <td>June 6, 2018</td>\n",
       "    </tr>\n",
       "    <tr>\n",
       "      <th>7628</th>\n",
       "      <td>Brit + Co</td>\n",
       "      <td>3.9</td>\n",
       "      <td>987</td>\n",
       "      <td>10,000+</td>\n",
       "      <td>Free</td>\n",
       "      <td>0</td>\n",
       "      <td>Lifestyle</td>\n",
       "      <td>August 29, 2017</td>\n",
       "    </tr>\n",
       "    <tr>\n",
       "      <th>7885</th>\n",
       "      <td>CT Scan Cross Sectional Anatomy</td>\n",
       "      <td>4.3</td>\n",
       "      <td>10</td>\n",
       "      <td>100+</td>\n",
       "      <td>Free</td>\n",
       "      <td>0</td>\n",
       "      <td>Medical</td>\n",
       "      <td>July 19, 2018</td>\n",
       "    </tr>\n",
       "    <tr>\n",
       "      <th>8628</th>\n",
       "      <td>Google Docs</td>\n",
       "      <td>4.3</td>\n",
       "      <td>815974</td>\n",
       "      <td>100,000,000+</td>\n",
       "      <td>Free</td>\n",
       "      <td>0</td>\n",
       "      <td>Productivity</td>\n",
       "      <td>August 6, 2018</td>\n",
       "    </tr>\n",
       "    <tr>\n",
       "      <th>8630</th>\n",
       "      <td>Any.do: To-do list, Calendar, Reminders &amp; Planner</td>\n",
       "      <td>4.5</td>\n",
       "      <td>298854</td>\n",
       "      <td>10,000,000+</td>\n",
       "      <td>Free</td>\n",
       "      <td>0</td>\n",
       "      <td>Productivity</td>\n",
       "      <td>August 5, 2018</td>\n",
       "    </tr>\n",
       "    <tr>\n",
       "      <th>8632</th>\n",
       "      <td>Notepad &amp; To do list</td>\n",
       "      <td>4.3</td>\n",
       "      <td>226295</td>\n",
       "      <td>10,000,000+</td>\n",
       "      <td>Free</td>\n",
       "      <td>0</td>\n",
       "      <td>Productivity</td>\n",
       "      <td>June 6, 2018</td>\n",
       "    </tr>\n",
       "    <tr>\n",
       "      <th>8635</th>\n",
       "      <td>Polaris Office - Word, Docs, Sheets, Slide, PDF</td>\n",
       "      <td>4.3</td>\n",
       "      <td>549900</td>\n",
       "      <td>10,000,000+</td>\n",
       "      <td>Free</td>\n",
       "      <td>0</td>\n",
       "      <td>Productivity</td>\n",
       "      <td>July 18, 2018</td>\n",
       "    </tr>\n",
       "    <tr>\n",
       "      <th>8636</th>\n",
       "      <td>Google Keep</td>\n",
       "      <td>4.4</td>\n",
       "      <td>691474</td>\n",
       "      <td>100,000,000+</td>\n",
       "      <td>Free</td>\n",
       "      <td>0</td>\n",
       "      <td>Productivity</td>\n",
       "      <td>August 6, 2018</td>\n",
       "    </tr>\n",
       "    <tr>\n",
       "      <th>8639</th>\n",
       "      <td>Do It Later: Tasks &amp; To-Dos</td>\n",
       "      <td>4.5</td>\n",
       "      <td>123412</td>\n",
       "      <td>50,000,000+</td>\n",
       "      <td>Free</td>\n",
       "      <td>0</td>\n",
       "      <td>Productivity</td>\n",
       "      <td>April 13, 2018</td>\n",
       "    </tr>\n",
       "    <tr>\n",
       "      <th>8642</th>\n",
       "      <td>To-Do Calendar Planner</td>\n",
       "      <td>4.2</td>\n",
       "      <td>30291</td>\n",
       "      <td>1,000,000+</td>\n",
       "      <td>Free</td>\n",
       "      <td>0</td>\n",
       "      <td>Productivity</td>\n",
       "      <td>May 29, 2018</td>\n",
       "    </tr>\n",
       "    <tr>\n",
       "      <th>8643</th>\n",
       "      <td>Wunderlist: To-Do List &amp; Tasks</td>\n",
       "      <td>4.6</td>\n",
       "      <td>404610</td>\n",
       "      <td>10,000,000+</td>\n",
       "      <td>Free</td>\n",
       "      <td>0</td>\n",
       "      <td>Productivity</td>\n",
       "      <td>April 6, 2018</td>\n",
       "    </tr>\n",
       "    <tr>\n",
       "      <th>8654</th>\n",
       "      <td>TickTick: To Do List with Reminder, Day Planner</td>\n",
       "      <td>4.6</td>\n",
       "      <td>25370</td>\n",
       "      <td>1,000,000+</td>\n",
       "      <td>Free</td>\n",
       "      <td>0</td>\n",
       "      <td>Productivity</td>\n",
       "      <td>August 6, 2018</td>\n",
       "    </tr>\n",
       "    <tr>\n",
       "      <th>8658</th>\n",
       "      <td>ColorNote Notepad Notes</td>\n",
       "      <td>4.6</td>\n",
       "      <td>2401017</td>\n",
       "      <td>100,000,000+</td>\n",
       "      <td>Free</td>\n",
       "      <td>0</td>\n",
       "      <td>Productivity</td>\n",
       "      <td>June 27, 2018</td>\n",
       "    </tr>\n",
       "    <tr>\n",
       "      <th>10049</th>\n",
       "      <td>Airway Ex - Intubate. Anesthetize. Train.</td>\n",
       "      <td>4.3</td>\n",
       "      <td>123</td>\n",
       "      <td>10,000+</td>\n",
       "      <td>Free</td>\n",
       "      <td>0</td>\n",
       "      <td>Medical</td>\n",
       "      <td>June 1, 2018</td>\n",
       "    </tr>\n",
       "    <tr>\n",
       "      <th>10768</th>\n",
       "      <td>AAFP</td>\n",
       "      <td>3.8</td>\n",
       "      <td>63</td>\n",
       "      <td>10,000+</td>\n",
       "      <td>Free</td>\n",
       "      <td>0</td>\n",
       "      <td>Medical</td>\n",
       "      <td>June 22, 2018</td>\n",
       "    </tr>\n",
       "  </tbody>\n",
       "</table>\n",
       "<p>489 rows × 8 columns</p>\n",
       "</div>"
      ],
      "text/plain": [
       "                                                     App  Rating  Reviews  \\\n",
       "229                         Quick PDF Scanner + OCR FREE     4.2    80805   \n",
       "236                                                  Box     4.2   159872   \n",
       "239                                   Google My Business     4.4    70991   \n",
       "256                                  ZOOM Cloud Meetings     4.4    31614   \n",
       "261                            join.me - Simple Meetings     4.0     6989   \n",
       "265                                                  Box     4.2   159872   \n",
       "266                                             Zenefits     4.2      296   \n",
       "267                                           Google Ads     4.3    29313   \n",
       "268                                   Google My Business     4.4    70991   \n",
       "269                                                Slack     4.4    51507   \n",
       "270                                   FreshBooks Classic     4.1     1802   \n",
       "271                                        Insightly CRM     3.8     1383   \n",
       "272          QuickBooks Accounting: Invoicing & Expenses     4.3    23175   \n",
       "273                       HipChat - Chat Built for Teams     3.8     5868   \n",
       "274                             Xero Accounting Software     3.5     2111   \n",
       "275              MailChimp - Email, Marketing Automation     4.1     5448   \n",
       "276                 Crew - Free Messaging and Scheduling     4.6     4159   \n",
       "277                        Asana: organize team projects     4.3    20815   \n",
       "278                                     Google Analytics     4.5    78662   \n",
       "279                                      AdWords Express     4.1     7149   \n",
       "280                          Accounting App - Zoho Books     4.5     3079   \n",
       "281                       Invoice & Time Tracking - Zoho     4.6     5800   \n",
       "282                            join.me - Simple Meetings     4.0     6989   \n",
       "283    Invoice 2go — Professional Invoices and Estimates     4.2    16422   \n",
       "284     SignEasy | Sign and Fill PDF and other Documents     4.3     8978   \n",
       "286                            Genius Scan - PDF Scanner     4.4    42492   \n",
       "287                       Tiny Scanner - PDF Scanner App     4.7   286897   \n",
       "288                         Fast Scanner : Free PDF Scan     4.5   103755   \n",
       "289                     Mobile Doc Scanner (MDScan) Lite     4.2    46505   \n",
       "290        TurboScan: scan documents and receipts in PDF     4.7    11442   \n",
       "...                                                  ...     ...      ...   \n",
       "4441                                              O-Star     4.4       59   \n",
       "4805                                      YouTube Gaming     4.2   130549   \n",
       "5147                                         Maricopa AH     NaN        0   \n",
       "5537                         Houzz Interior Design Ideas     4.6   353813   \n",
       "5958                                  Anthem BC Anywhere     2.6      496   \n",
       "5989                                PMHNP-BC Pocket Prep     4.4      112   \n",
       "6584                                  iBP Blood Pressure     4.4      578   \n",
       "6585                                      Blood Pressure     4.2    33033   \n",
       "6590                            Blood Pressure(BP) Diary     3.7     3596   \n",
       "6593                   BP Journal - Blood Pressure Diary     5.0        6   \n",
       "6594                              Blood Pressure Monitor     4.3       17   \n",
       "6595                            Blood Pressure Companion     4.2      178   \n",
       "6598                                 Free Blood Pressure     NaN        7   \n",
       "6911                               Beautiful Widgets Pro     4.2    97890   \n",
       "7030                         Elmo Calls by Sesame Street     3.9     6903   \n",
       "7035                              420 BZ Budeze Delivery     5.0        2   \n",
       "7628                                           Brit + Co     3.9      987   \n",
       "7885                     CT Scan Cross Sectional Anatomy     4.3       10   \n",
       "8628                                         Google Docs     4.3   815974   \n",
       "8630   Any.do: To-do list, Calendar, Reminders & Planner     4.5   298854   \n",
       "8632                                Notepad & To do list     4.3   226295   \n",
       "8635     Polaris Office - Word, Docs, Sheets, Slide, PDF     4.3   549900   \n",
       "8636                                         Google Keep     4.4   691474   \n",
       "8639                         Do It Later: Tasks & To-Dos     4.5   123412   \n",
       "8642                              To-Do Calendar Planner     4.2    30291   \n",
       "8643                      Wunderlist: To-Do List & Tasks     4.6   404610   \n",
       "8654     TickTick: To Do List with Reminder, Day Planner     4.6    25370   \n",
       "8658                             ColorNote Notepad Notes     4.6  2401017   \n",
       "10049          Airway Ex - Intubate. Anesthetize. Train.     4.3      123   \n",
       "10768                                               AAFP     3.8       63   \n",
       "\n",
       "           Installs  Type  Price                    Genres       Last Updated  \n",
       "229      5,000,000+  Free      0                  Business  February 26, 2018  \n",
       "236     10,000,000+  Free      0                  Business      July 31, 2018  \n",
       "239      5,000,000+  Free      0                  Business      July 24, 2018  \n",
       "256     10,000,000+  Free      0                  Business      July 20, 2018  \n",
       "261      1,000,000+  Free      0                  Business      July 16, 2018  \n",
       "265     10,000,000+  Free      0                  Business      July 31, 2018  \n",
       "266         50,000+  Free      0                  Business      June 15, 2018  \n",
       "267      5,000,000+  Free      0                  Business      July 30, 2018  \n",
       "268      5,000,000+  Free      0                  Business      July 24, 2018  \n",
       "269      5,000,000+  Free      0                  Business     August 2, 2018  \n",
       "270        100,000+  Free      0                  Business     April 18, 2018  \n",
       "271        100,000+  Free      0                  Business      July 12, 2018  \n",
       "272      1,000,000+  Free      0                  Business      July 13, 2018  \n",
       "273        500,000+  Free      0                  Business       July 3, 2018  \n",
       "274        100,000+  Free      0                  Business      July 30, 2018  \n",
       "275        500,000+  Free      0                  Business      July 25, 2018  \n",
       "276        500,000+  Free      0                  Business      July 20, 2018  \n",
       "277      1,000,000+  Free      0                  Business      July 26, 2018  \n",
       "278      1,000,000+  Free      0                  Business  February 13, 2018  \n",
       "279      1,000,000+  Free      0                  Business      July 31, 2018  \n",
       "280        100,000+  Free      0                  Business     August 2, 2018  \n",
       "281        100,000+  Free      0                  Business     August 2, 2018  \n",
       "282      1,000,000+  Free      0                  Business      July 16, 2018  \n",
       "283      1,000,000+  Free      0                  Business     August 1, 2018  \n",
       "284      1,000,000+  Free      0                  Business      July 25, 2018  \n",
       "286      1,000,000+  Free      0                  Business      July 11, 2018  \n",
       "287     10,000,000+  Free      0                  Business       May 30, 2017  \n",
       "288     10,000,000+  Free      0                  Business      July 11, 2018  \n",
       "289      1,000,000+  Free      0                  Business     August 2, 2018  \n",
       "290        100,000+  Paid  $4.99                  Business     March 25, 2018  \n",
       "...             ...   ...    ...                       ...                ...  \n",
       "4441         5,000+  Free      0                    Dating      July 19, 2018  \n",
       "4805     5,000,000+  Free      0             Entertainment      June 27, 2018  \n",
       "5147           100+  Free      0                   Medical      July 16, 2018  \n",
       "5537    10,000,000+  Free      0              House & Home     August 1, 2018  \n",
       "5958       100,000+  Free      0                   Medical      July 27, 2018  \n",
       "5989         1,000+  Free      0                   Medical      July 12, 2018  \n",
       "6584        10,000+  Paid  $0.99                   Medical  November 30, 2014  \n",
       "6585     5,000,000+  Free      0                   Medical      July 24, 2018  \n",
       "6590     1,000,000+  Free      0                   Medical      July 18, 2018  \n",
       "6593         1,000+  Free      0                   Medical       May 25, 2018  \n",
       "6594        10,000+  Free      0                   Medical  February 25, 2017  \n",
       "6595         1,000+  Paid  $0.99                   Medical      July 22, 2018  \n",
       "6598         5,000+  Free      0                   Medical   October 13, 2016  \n",
       "6911     1,000,000+  Paid  $2.49           Personalization    August 24, 2016  \n",
       "7030     1,000,000+  Free      0  Educational;Pretend Play   January 31, 2018  \n",
       "7035           100+  Free      0                   Medical       June 6, 2018  \n",
       "7628        10,000+  Free      0                 Lifestyle    August 29, 2017  \n",
       "7885           100+  Free      0                   Medical      July 19, 2018  \n",
       "8628   100,000,000+  Free      0              Productivity     August 6, 2018  \n",
       "8630    10,000,000+  Free      0              Productivity     August 5, 2018  \n",
       "8632    10,000,000+  Free      0              Productivity       June 6, 2018  \n",
       "8635    10,000,000+  Free      0              Productivity      July 18, 2018  \n",
       "8636   100,000,000+  Free      0              Productivity     August 6, 2018  \n",
       "8639    50,000,000+  Free      0              Productivity     April 13, 2018  \n",
       "8642     1,000,000+  Free      0              Productivity       May 29, 2018  \n",
       "8643    10,000,000+  Free      0              Productivity      April 6, 2018  \n",
       "8654     1,000,000+  Free      0              Productivity     August 6, 2018  \n",
       "8658   100,000,000+  Free      0              Productivity      June 27, 2018  \n",
       "10049       10,000+  Free      0                   Medical       June 1, 2018  \n",
       "10768       10,000+  Free      0                   Medical      June 22, 2018  \n",
       "\n",
       "[489 rows x 8 columns]"
      ]
     },
     "execution_count": 181,
     "metadata": {},
     "output_type": "execute_result"
    }
   ],
   "source": [
    "dfnew[dfnew.duplicated()]"
   ]
  },
  {
   "cell_type": "code",
   "execution_count": 182,
   "metadata": {
    "ExecuteTime": {
     "end_time": "2019-08-02T06:19:51.263819Z",
     "start_time": "2019-08-02T06:19:51.236989Z"
    }
   },
   "outputs": [
    {
     "data": {
      "text/plain": [
       "489"
      ]
     },
     "execution_count": 182,
     "metadata": {},
     "output_type": "execute_result"
    }
   ],
   "source": [
    "dfnew.duplicated().sum()"
   ]
  },
  {
   "cell_type": "code",
   "execution_count": 183,
   "metadata": {
    "ExecuteTime": {
     "end_time": "2019-08-02T06:19:51.991483Z",
     "start_time": "2019-08-02T06:19:51.974917Z"
    }
   },
   "outputs": [
    {
     "data": {
      "text/plain": [
       "(10841, 8)"
      ]
     },
     "execution_count": 183,
     "metadata": {},
     "output_type": "execute_result"
    }
   ],
   "source": [
    "dfnew.shape"
   ]
  },
  {
   "cell_type": "code",
   "execution_count": 184,
   "metadata": {
    "ExecuteTime": {
     "end_time": "2019-08-02T06:19:52.761824Z",
     "start_time": "2019-08-02T06:19:52.728126Z"
    }
   },
   "outputs": [
    {
     "data": {
      "text/plain": [
       "(10352, 8)"
      ]
     },
     "execution_count": 184,
     "metadata": {},
     "output_type": "execute_result"
    }
   ],
   "source": [
    "dfnew.drop_duplicates(inplace=True)      \n",
    "dfnew.shape"
   ]
  },
  {
   "cell_type": "markdown",
   "metadata": {},
   "source": [
    "### plus More Duplicates\n",
    "- 再删除之后,发现还有重名但Review不同的数据\n",
    "- 比如 Facebook"
   ]
  },
  {
   "cell_type": "code",
   "execution_count": 185,
   "metadata": {
    "ExecuteTime": {
     "end_time": "2019-08-02T06:20:29.419113Z",
     "start_time": "2019-08-02T06:20:29.387628Z"
    }
   },
   "outputs": [
    {
     "data": {
      "text/html": [
       "<div>\n",
       "<style scoped>\n",
       "    .dataframe tbody tr th:only-of-type {\n",
       "        vertical-align: middle;\n",
       "    }\n",
       "\n",
       "    .dataframe tbody tr th {\n",
       "        vertical-align: top;\n",
       "    }\n",
       "\n",
       "    .dataframe thead th {\n",
       "        text-align: right;\n",
       "    }\n",
       "</style>\n",
       "<table border=\"1\" class=\"dataframe\">\n",
       "  <thead>\n",
       "    <tr style=\"text-align: right;\">\n",
       "      <th></th>\n",
       "      <th>App</th>\n",
       "      <th>Rating</th>\n",
       "      <th>Reviews</th>\n",
       "      <th>Installs</th>\n",
       "      <th>Type</th>\n",
       "      <th>Price</th>\n",
       "      <th>Genres</th>\n",
       "      <th>Last Updated</th>\n",
       "    </tr>\n",
       "  </thead>\n",
       "  <tbody>\n",
       "    <tr>\n",
       "      <th>2544</th>\n",
       "      <td>Facebook</td>\n",
       "      <td>4.1</td>\n",
       "      <td>78158306</td>\n",
       "      <td>1,000,000,000+</td>\n",
       "      <td>Free</td>\n",
       "      <td>0</td>\n",
       "      <td>Social</td>\n",
       "      <td>August 3, 2018</td>\n",
       "    </tr>\n",
       "    <tr>\n",
       "      <th>3943</th>\n",
       "      <td>Facebook</td>\n",
       "      <td>4.1</td>\n",
       "      <td>78128208</td>\n",
       "      <td>1,000,000,000+</td>\n",
       "      <td>Free</td>\n",
       "      <td>0</td>\n",
       "      <td>Social</td>\n",
       "      <td>August 3, 2018</td>\n",
       "    </tr>\n",
       "  </tbody>\n",
       "</table>\n",
       "</div>"
      ],
      "text/plain": [
       "           App  Rating   Reviews        Installs  Type Price  Genres  \\\n",
       "2544  Facebook     4.1  78158306  1,000,000,000+  Free     0  Social   \n",
       "3943  Facebook     4.1  78128208  1,000,000,000+  Free     0  Social   \n",
       "\n",
       "        Last Updated  \n",
       "2544  August 3, 2018  \n",
       "3943  August 3, 2018  "
      ]
     },
     "execution_count": 185,
     "metadata": {},
     "output_type": "execute_result"
    }
   ],
   "source": [
    "dfnew.query('App == \"Facebook\"')"
   ]
  },
  {
   "cell_type": "code",
   "execution_count": 220,
   "metadata": {
    "ExecuteTime": {
     "end_time": "2019-08-02T06:51:31.153751Z",
     "start_time": "2019-08-02T06:51:31.131175Z"
    }
   },
   "outputs": [
    {
     "data": {
      "text/plain": [
       "1211"
      ]
     },
     "execution_count": 220,
     "metadata": {},
     "output_type": "execute_result"
    }
   ],
   "source": [
    "## 这次只看 App 重复的\n",
    "## 而且要找出所有的重复值(不再只显示第一个)\n",
    "dfnew.duplicated(subset='App',keep=False).sum()"
   ]
  },
  {
   "cell_type": "code",
   "execution_count": 225,
   "metadata": {
    "ExecuteTime": {
     "end_time": "2019-08-02T06:52:44.416872Z",
     "start_time": "2019-08-02T06:52:44.382692Z"
    }
   },
   "outputs": [
    {
     "data": {
      "text/html": [
       "<div>\n",
       "<style scoped>\n",
       "    .dataframe tbody tr th:only-of-type {\n",
       "        vertical-align: middle;\n",
       "    }\n",
       "\n",
       "    .dataframe tbody tr th {\n",
       "        vertical-align: top;\n",
       "    }\n",
       "\n",
       "    .dataframe thead th {\n",
       "        text-align: right;\n",
       "    }\n",
       "</style>\n",
       "<table border=\"1\" class=\"dataframe\">\n",
       "  <thead>\n",
       "    <tr style=\"text-align: right;\">\n",
       "      <th></th>\n",
       "      <th>App</th>\n",
       "      <th>Rating</th>\n",
       "      <th>Reviews</th>\n",
       "      <th>Installs</th>\n",
       "      <th>Type</th>\n",
       "      <th>Price</th>\n",
       "      <th>Genres</th>\n",
       "      <th>Last Updated</th>\n",
       "    </tr>\n",
       "  </thead>\n",
       "  <tbody>\n",
       "    <tr>\n",
       "      <th>1</th>\n",
       "      <td>Coloring book moana</td>\n",
       "      <td>3.9</td>\n",
       "      <td>967</td>\n",
       "      <td>500,000+</td>\n",
       "      <td>Free</td>\n",
       "      <td>0</td>\n",
       "      <td>Art &amp; Design;Pretend Play</td>\n",
       "      <td>January 15, 2018</td>\n",
       "    </tr>\n",
       "    <tr>\n",
       "      <th>23</th>\n",
       "      <td>Mcqueen Coloring pages</td>\n",
       "      <td>NaN</td>\n",
       "      <td>61</td>\n",
       "      <td>100,000+</td>\n",
       "      <td>Free</td>\n",
       "      <td>0</td>\n",
       "      <td>Art &amp; Design;Action &amp; Adventure</td>\n",
       "      <td>March 7, 2018</td>\n",
       "    </tr>\n",
       "    <tr>\n",
       "      <th>36</th>\n",
       "      <td>UNICORN - Color By Number &amp; Pixel Art Coloring</td>\n",
       "      <td>4.7</td>\n",
       "      <td>8145</td>\n",
       "      <td>500,000+</td>\n",
       "      <td>Free</td>\n",
       "      <td>0</td>\n",
       "      <td>Art &amp; Design;Creativity</td>\n",
       "      <td>August 2, 2018</td>\n",
       "    </tr>\n",
       "    <tr>\n",
       "      <th>42</th>\n",
       "      <td>Textgram - write on photos</td>\n",
       "      <td>4.4</td>\n",
       "      <td>295221</td>\n",
       "      <td>10,000,000+</td>\n",
       "      <td>Free</td>\n",
       "      <td>0</td>\n",
       "      <td>Art &amp; Design</td>\n",
       "      <td>July 30, 2018</td>\n",
       "    </tr>\n",
       "    <tr>\n",
       "      <th>139</th>\n",
       "      <td>Wattpad 📖 Free Books</td>\n",
       "      <td>4.6</td>\n",
       "      <td>2914724</td>\n",
       "      <td>100,000,000+</td>\n",
       "      <td>Free</td>\n",
       "      <td>0</td>\n",
       "      <td>Books &amp; Reference</td>\n",
       "      <td>August 1, 2018</td>\n",
       "    </tr>\n",
       "  </tbody>\n",
       "</table>\n",
       "</div>"
      ],
      "text/plain": [
       "                                                App  Rating  Reviews  \\\n",
       "1                               Coloring book moana     3.9      967   \n",
       "23                           Mcqueen Coloring pages     NaN       61   \n",
       "36   UNICORN - Color By Number & Pixel Art Coloring     4.7     8145   \n",
       "42                       Textgram - write on photos     4.4   295221   \n",
       "139                            Wattpad 📖 Free Books     4.6  2914724   \n",
       "\n",
       "         Installs  Type Price                           Genres  \\\n",
       "1        500,000+  Free     0        Art & Design;Pretend Play   \n",
       "23       100,000+  Free     0  Art & Design;Action & Adventure   \n",
       "36       500,000+  Free     0          Art & Design;Creativity   \n",
       "42    10,000,000+  Free     0                     Art & Design   \n",
       "139  100,000,000+  Free     0                Books & Reference   \n",
       "\n",
       "         Last Updated  \n",
       "1    January 15, 2018  \n",
       "23      March 7, 2018  \n",
       "36     August 2, 2018  \n",
       "42      July 30, 2018  \n",
       "139    August 1, 2018  "
      ]
     },
     "execution_count": 225,
     "metadata": {},
     "output_type": "execute_result"
    }
   ],
   "source": [
    "# solution1 \n",
    "## 为了方便处理, 生成新的df\n",
    "dfdup = dfnew[dfnew.duplicated(subset='App',keep=False)]\n",
    "dfdup.head()"
   ]
  },
  {
   "cell_type": "code",
   "execution_count": 226,
   "metadata": {
    "ExecuteTime": {
     "end_time": "2019-08-02T06:53:25.344650Z",
     "start_time": "2019-08-02T06:53:25.316795Z"
    }
   },
   "outputs": [
    {
     "data": {
      "text/html": [
       "<div>\n",
       "<style scoped>\n",
       "    .dataframe tbody tr th:only-of-type {\n",
       "        vertical-align: middle;\n",
       "    }\n",
       "\n",
       "    .dataframe tbody tr th {\n",
       "        vertical-align: top;\n",
       "    }\n",
       "\n",
       "    .dataframe thead th {\n",
       "        text-align: right;\n",
       "    }\n",
       "</style>\n",
       "<table border=\"1\" class=\"dataframe\">\n",
       "  <thead>\n",
       "    <tr style=\"text-align: right;\">\n",
       "      <th></th>\n",
       "      <th>App</th>\n",
       "      <th>Rating</th>\n",
       "      <th>Reviews</th>\n",
       "      <th>Installs</th>\n",
       "      <th>Type</th>\n",
       "      <th>Price</th>\n",
       "      <th>Genres</th>\n",
       "      <th>Last Updated</th>\n",
       "    </tr>\n",
       "  </thead>\n",
       "  <tbody>\n",
       "    <tr>\n",
       "      <th>2771</th>\n",
       "      <td>ASOS</td>\n",
       "      <td>4.7</td>\n",
       "      <td>181798</td>\n",
       "      <td>10,000,000+</td>\n",
       "      <td>Free</td>\n",
       "      <td>0</td>\n",
       "      <td>Shopping</td>\n",
       "      <td>July 30, 2018</td>\n",
       "    </tr>\n",
       "    <tr>\n",
       "      <th>2800</th>\n",
       "      <td>ASOS</td>\n",
       "      <td>4.7</td>\n",
       "      <td>181823</td>\n",
       "      <td>10,000,000+</td>\n",
       "      <td>Free</td>\n",
       "      <td>0</td>\n",
       "      <td>Shopping</td>\n",
       "      <td>July 30, 2018</td>\n",
       "    </tr>\n",
       "  </tbody>\n",
       "</table>\n",
       "</div>"
      ],
      "text/plain": [
       "       App  Rating Reviews     Installs  Type Price    Genres   Last Updated\n",
       "2771  ASOS     4.7  181798  10,000,000+  Free     0  Shopping  July 30, 2018\n",
       "2800  ASOS     4.7  181823  10,000,000+  Free     0  Shopping  July 30, 2018"
      ]
     },
     "execution_count": 226,
     "metadata": {},
     "output_type": "execute_result"
    }
   ],
   "source": [
    "dfdup.query('App == \"ASOS\"')"
   ]
  },
  {
   "cell_type": "code",
   "execution_count": 236,
   "metadata": {
    "ExecuteTime": {
     "end_time": "2019-08-02T07:01:33.390707Z",
     "start_time": "2019-08-02T07:01:33.355567Z"
    }
   },
   "outputs": [
    {
     "data": {
      "text/html": [
       "<div>\n",
       "<style scoped>\n",
       "    .dataframe tbody tr th:only-of-type {\n",
       "        vertical-align: middle;\n",
       "    }\n",
       "\n",
       "    .dataframe tbody tr th {\n",
       "        vertical-align: top;\n",
       "    }\n",
       "\n",
       "    .dataframe thead th {\n",
       "        text-align: right;\n",
       "    }\n",
       "</style>\n",
       "<table border=\"1\" class=\"dataframe\">\n",
       "  <thead>\n",
       "    <tr style=\"text-align: right;\">\n",
       "      <th></th>\n",
       "      <th>App</th>\n",
       "      <th>Rating</th>\n",
       "      <th>Reviews</th>\n",
       "      <th>Installs</th>\n",
       "      <th>Type</th>\n",
       "      <th>Price</th>\n",
       "      <th>Genres</th>\n",
       "      <th>Last Updated</th>\n",
       "    </tr>\n",
       "  </thead>\n",
       "  <tbody>\n",
       "    <tr>\n",
       "      <th>2771</th>\n",
       "      <td>ASOS</td>\n",
       "      <td>4.7</td>\n",
       "      <td>181798</td>\n",
       "      <td>10,000,000+</td>\n",
       "      <td>Free</td>\n",
       "      <td>0</td>\n",
       "      <td>Shopping</td>\n",
       "      <td>July 30, 2018</td>\n",
       "    </tr>\n",
       "    <tr>\n",
       "      <th>2800</th>\n",
       "      <td>ASOS</td>\n",
       "      <td>4.7</td>\n",
       "      <td>181823</td>\n",
       "      <td>10,000,000+</td>\n",
       "      <td>Free</td>\n",
       "      <td>0</td>\n",
       "      <td>Shopping</td>\n",
       "      <td>July 30, 2018</td>\n",
       "    </tr>\n",
       "  </tbody>\n",
       "</table>\n",
       "</div>"
      ],
      "text/plain": [
       "       App  Rating Reviews     Installs  Type Price    Genres   Last Updated\n",
       "2771  ASOS     4.7  181798  10,000,000+  Free     0  Shopping  July 30, 2018\n",
       "2800  ASOS     4.7  181823  10,000,000+  Free     0  Shopping  July 30, 2018"
      ]
     },
     "execution_count": 236,
     "metadata": {},
     "output_type": "execute_result"
    }
   ],
   "source": [
    "dfdup.query('App == \"ASOS\"').sort_values(by='Reviews')"
   ]
  },
  {
   "cell_type": "code",
   "execution_count": 239,
   "metadata": {
    "ExecuteTime": {
     "end_time": "2019-08-02T07:03:18.962877Z",
     "start_time": "2019-08-02T07:03:18.932999Z"
    }
   },
   "outputs": [
    {
     "data": {
      "text/html": [
       "<div>\n",
       "<style scoped>\n",
       "    .dataframe tbody tr th:only-of-type {\n",
       "        vertical-align: middle;\n",
       "    }\n",
       "\n",
       "    .dataframe tbody tr th {\n",
       "        vertical-align: top;\n",
       "    }\n",
       "\n",
       "    .dataframe thead th {\n",
       "        text-align: right;\n",
       "    }\n",
       "</style>\n",
       "<table border=\"1\" class=\"dataframe\">\n",
       "  <thead>\n",
       "    <tr style=\"text-align: right;\">\n",
       "      <th></th>\n",
       "      <th>App</th>\n",
       "      <th>Rating</th>\n",
       "      <th>Reviews</th>\n",
       "      <th>Installs</th>\n",
       "      <th>Type</th>\n",
       "      <th>Price</th>\n",
       "      <th>Genres</th>\n",
       "      <th>Last Updated</th>\n",
       "    </tr>\n",
       "  </thead>\n",
       "  <tbody>\n",
       "    <tr>\n",
       "      <th>2800</th>\n",
       "      <td>ASOS</td>\n",
       "      <td>4.7</td>\n",
       "      <td>181823</td>\n",
       "      <td>10,000,000+</td>\n",
       "      <td>Free</td>\n",
       "      <td>0</td>\n",
       "      <td>Shopping</td>\n",
       "      <td>July 30, 2018</td>\n",
       "    </tr>\n",
       "    <tr>\n",
       "      <th>2771</th>\n",
       "      <td>ASOS</td>\n",
       "      <td>4.7</td>\n",
       "      <td>181798</td>\n",
       "      <td>10,000,000+</td>\n",
       "      <td>Free</td>\n",
       "      <td>0</td>\n",
       "      <td>Shopping</td>\n",
       "      <td>July 30, 2018</td>\n",
       "    </tr>\n",
       "  </tbody>\n",
       "</table>\n",
       "</div>"
      ],
      "text/plain": [
       "       App  Rating Reviews     Installs  Type Price    Genres   Last Updated\n",
       "2800  ASOS     4.7  181823  10,000,000+  Free     0  Shopping  July 30, 2018\n",
       "2771  ASOS     4.7  181798  10,000,000+  Free     0  Shopping  July 30, 2018"
      ]
     },
     "execution_count": 239,
     "metadata": {},
     "output_type": "execute_result"
    }
   ],
   "source": [
    "dfdup.query('App == \"ASOS\"').sort_values(by='Reviews', ascending=False)"
   ]
  },
  {
   "cell_type": "code",
   "execution_count": 252,
   "metadata": {
    "ExecuteTime": {
     "end_time": "2019-08-02T07:08:08.944818Z",
     "start_time": "2019-08-02T07:08:08.919288Z"
    }
   },
   "outputs": [
    {
     "data": {
      "text/plain": [
       "2800"
      ]
     },
     "execution_count": 252,
     "metadata": {},
     "output_type": "execute_result"
    }
   ],
   "source": [
    "# 接下来的想法就是找到所有最大的 index, 生成 dfmax, 从 dfnew 中去掉 dfdup 再增加 dfmax\n",
    "index = dfdup.query('App == \"ASOS\"').sort_values(by='Reviews', ascending=False)[:1].index[0]\n",
    "list = []\n",
    "list.append(dfdup.query('App == \"ASOS\"').sort_values(by='Reviews', ascending=False)[:1].index[0])\n",
    "list"
   ]
  },
  {
   "cell_type": "code",
   "execution_count": 256,
   "metadata": {
    "ExecuteTime": {
     "end_time": "2019-08-02T07:12:26.124326Z",
     "start_time": "2019-08-02T07:12:26.120483Z"
    }
   },
   "outputs": [],
   "source": [
    "# 尝试到此为止,这种做法太复杂了, 既然也用到了排序, 那不如对整个数据做个排序\n",
    "# 再之后直接drop_duplicates"
   ]
  },
  {
   "cell_type": "code",
   "execution_count": 267,
   "metadata": {
    "ExecuteTime": {
     "end_time": "2019-08-02T07:18:55.175294Z",
     "start_time": "2019-08-02T07:18:55.162716Z"
    }
   },
   "outputs": [
    {
     "data": {
      "text/plain": [
       "(10352, 8)"
      ]
     },
     "execution_count": 267,
     "metadata": {},
     "output_type": "execute_result"
    }
   ],
   "source": [
    "# solution2\n",
    "dfnew.shape"
   ]
  },
  {
   "cell_type": "code",
   "execution_count": 268,
   "metadata": {
    "ExecuteTime": {
     "end_time": "2019-08-02T07:18:57.291248Z",
     "start_time": "2019-08-02T07:18:57.264735Z"
    }
   },
   "outputs": [
    {
     "data": {
      "text/html": [
       "<div>\n",
       "<style scoped>\n",
       "    .dataframe tbody tr th:only-of-type {\n",
       "        vertical-align: middle;\n",
       "    }\n",
       "\n",
       "    .dataframe tbody tr th {\n",
       "        vertical-align: top;\n",
       "    }\n",
       "\n",
       "    .dataframe thead th {\n",
       "        text-align: right;\n",
       "    }\n",
       "</style>\n",
       "<table border=\"1\" class=\"dataframe\">\n",
       "  <thead>\n",
       "    <tr style=\"text-align: right;\">\n",
       "      <th></th>\n",
       "      <th>App</th>\n",
       "      <th>Rating</th>\n",
       "      <th>Reviews</th>\n",
       "      <th>Installs</th>\n",
       "      <th>Type</th>\n",
       "      <th>Price</th>\n",
       "      <th>Genres</th>\n",
       "      <th>Last Updated</th>\n",
       "    </tr>\n",
       "  </thead>\n",
       "  <tbody>\n",
       "    <tr>\n",
       "      <th>2771</th>\n",
       "      <td>ASOS</td>\n",
       "      <td>4.7</td>\n",
       "      <td>181798</td>\n",
       "      <td>10,000,000+</td>\n",
       "      <td>Free</td>\n",
       "      <td>0</td>\n",
       "      <td>Shopping</td>\n",
       "      <td>July 30, 2018</td>\n",
       "    </tr>\n",
       "    <tr>\n",
       "      <th>2800</th>\n",
       "      <td>ASOS</td>\n",
       "      <td>4.7</td>\n",
       "      <td>181823</td>\n",
       "      <td>10,000,000+</td>\n",
       "      <td>Free</td>\n",
       "      <td>0</td>\n",
       "      <td>Shopping</td>\n",
       "      <td>July 30, 2018</td>\n",
       "    </tr>\n",
       "  </tbody>\n",
       "</table>\n",
       "</div>"
      ],
      "text/plain": [
       "       App  Rating Reviews     Installs  Type Price    Genres   Last Updated\n",
       "2771  ASOS     4.7  181798  10,000,000+  Free     0  Shopping  July 30, 2018\n",
       "2800  ASOS     4.7  181823  10,000,000+  Free     0  Shopping  July 30, 2018"
      ]
     },
     "execution_count": 268,
     "metadata": {},
     "output_type": "execute_result"
    }
   ],
   "source": [
    "dfnew.query('App == \"ASOS\"')"
   ]
  },
  {
   "cell_type": "code",
   "execution_count": 269,
   "metadata": {
    "ExecuteTime": {
     "end_time": "2019-08-02T07:18:59.357378Z",
     "start_time": "2019-08-02T07:18:59.316893Z"
    }
   },
   "outputs": [],
   "source": [
    "dftest = dfnew.sort_values(by=['App','Reviews'], ascending=False)"
   ]
  },
  {
   "cell_type": "code",
   "execution_count": 271,
   "metadata": {
    "ExecuteTime": {
     "end_time": "2019-08-02T07:19:31.190475Z",
     "start_time": "2019-08-02T07:19:31.154531Z"
    }
   },
   "outputs": [
    {
     "data": {
      "text/html": [
       "<div>\n",
       "<style scoped>\n",
       "    .dataframe tbody tr th:only-of-type {\n",
       "        vertical-align: middle;\n",
       "    }\n",
       "\n",
       "    .dataframe tbody tr th {\n",
       "        vertical-align: top;\n",
       "    }\n",
       "\n",
       "    .dataframe thead th {\n",
       "        text-align: right;\n",
       "    }\n",
       "</style>\n",
       "<table border=\"1\" class=\"dataframe\">\n",
       "  <thead>\n",
       "    <tr style=\"text-align: right;\">\n",
       "      <th></th>\n",
       "      <th>App</th>\n",
       "      <th>Rating</th>\n",
       "      <th>Reviews</th>\n",
       "      <th>Installs</th>\n",
       "      <th>Type</th>\n",
       "      <th>Price</th>\n",
       "      <th>Genres</th>\n",
       "      <th>Last Updated</th>\n",
       "    </tr>\n",
       "  </thead>\n",
       "  <tbody>\n",
       "    <tr>\n",
       "      <th>2800</th>\n",
       "      <td>ASOS</td>\n",
       "      <td>4.7</td>\n",
       "      <td>181823</td>\n",
       "      <td>10,000,000+</td>\n",
       "      <td>Free</td>\n",
       "      <td>0</td>\n",
       "      <td>Shopping</td>\n",
       "      <td>July 30, 2018</td>\n",
       "    </tr>\n",
       "    <tr>\n",
       "      <th>2771</th>\n",
       "      <td>ASOS</td>\n",
       "      <td>4.7</td>\n",
       "      <td>181798</td>\n",
       "      <td>10,000,000+</td>\n",
       "      <td>Free</td>\n",
       "      <td>0</td>\n",
       "      <td>Shopping</td>\n",
       "      <td>July 30, 2018</td>\n",
       "    </tr>\n",
       "  </tbody>\n",
       "</table>\n",
       "</div>"
      ],
      "text/plain": [
       "       App  Rating Reviews     Installs  Type Price    Genres   Last Updated\n",
       "2800  ASOS     4.7  181823  10,000,000+  Free     0  Shopping  July 30, 2018\n",
       "2771  ASOS     4.7  181798  10,000,000+  Free     0  Shopping  July 30, 2018"
      ]
     },
     "execution_count": 271,
     "metadata": {},
     "output_type": "execute_result"
    }
   ],
   "source": [
    "# 顺序已经改变了\n",
    "dftest.query('App == \"ASOS\"')"
   ]
  },
  {
   "cell_type": "code",
   "execution_count": 278,
   "metadata": {
    "ExecuteTime": {
     "end_time": "2019-08-02T07:22:43.489019Z",
     "start_time": "2019-08-02T07:22:43.477127Z"
    }
   },
   "outputs": [
    {
     "data": {
      "text/plain": [
       "(10352, 8)"
      ]
     },
     "execution_count": 278,
     "metadata": {},
     "output_type": "execute_result"
    }
   ],
   "source": [
    "dftest.shape"
   ]
  },
  {
   "cell_type": "code",
   "execution_count": 279,
   "metadata": {
    "ExecuteTime": {
     "end_time": "2019-08-02T07:22:44.526748Z",
     "start_time": "2019-08-02T07:22:44.507824Z"
    }
   },
   "outputs": [
    {
     "data": {
      "text/plain": [
       "692"
      ]
     },
     "execution_count": 279,
     "metadata": {},
     "output_type": "execute_result"
    }
   ],
   "source": [
    "dftest.duplicated(subset='App').sum()"
   ]
  },
  {
   "cell_type": "code",
   "execution_count": 280,
   "metadata": {
    "ExecuteTime": {
     "end_time": "2019-08-02T07:22:57.175014Z",
     "start_time": "2019-08-02T07:22:57.146411Z"
    }
   },
   "outputs": [
    {
     "data": {
      "text/plain": [
       "(9660, 8)"
      ]
     },
     "execution_count": 280,
     "metadata": {},
     "output_type": "execute_result"
    }
   ],
   "source": [
    "dftest.drop_duplicates(subset='App',inplace=True)\n",
    "dftest.shape"
   ]
  },
  {
   "cell_type": "code",
   "execution_count": 281,
   "metadata": {
    "ExecuteTime": {
     "end_time": "2019-08-02T07:25:13.764168Z",
     "start_time": "2019-08-02T07:25:13.716171Z"
    }
   },
   "outputs": [
    {
     "data": {
      "text/plain": [
       "(9660, 8)"
      ]
     },
     "execution_count": 281,
     "metadata": {},
     "output_type": "execute_result"
    }
   ],
   "source": [
    "# 更新 dfnew\n",
    "dfnew.sort_values(by=['App','Reviews'], ascending=False, inplace=True)\n",
    "dfnew.drop_duplicates(subset='App',inplace=True)\n",
    "dfnew.shape"
   ]
  },
  {
   "cell_type": "markdown",
   "metadata": {},
   "source": [
    "### // drop_null\n",
    "对于空值的处理需要根据实际情况进行,可选的方法有删除、均值填充等,此处采用drop处理"
   ]
  },
  {
   "cell_type": "code",
   "execution_count": 282,
   "metadata": {
    "ExecuteTime": {
     "end_time": "2019-08-02T07:25:21.196461Z",
     "start_time": "2019-08-02T07:25:21.173406Z"
    }
   },
   "outputs": [
    {
     "data": {
      "text/plain": [
       "App                0\n",
       "Rating          1463\n",
       "Reviews            0\n",
       "Installs           0\n",
       "Type               1\n",
       "Price              0\n",
       "Genres             0\n",
       "Last Updated       0\n",
       "dtype: int64"
      ]
     },
     "execution_count": 282,
     "metadata": {},
     "output_type": "execute_result"
    }
   ],
   "source": [
    "dfnew.isnull().sum()"
   ]
  },
  {
   "cell_type": "code",
   "execution_count": 283,
   "metadata": {
    "ExecuteTime": {
     "end_time": "2019-08-02T07:25:34.165571Z",
     "start_time": "2019-08-02T07:25:34.138358Z"
    }
   },
   "outputs": [
    {
     "data": {
      "text/plain": [
       "(8197, 8)"
      ]
     },
     "execution_count": 283,
     "metadata": {},
     "output_type": "execute_result"
    }
   ],
   "source": [
    "# https://pandas.pydata.org/pandas-docs/stable/reference/api/pandas.DataFrame.dropna.html\n",
    "dfnew.dropna(inplace=True)\n",
    "dfnew.shape"
   ]
  },
  {
   "cell_type": "code",
   "execution_count": 284,
   "metadata": {
    "ExecuteTime": {
     "end_time": "2019-08-02T07:25:46.313513Z",
     "start_time": "2019-08-02T07:25:46.290113Z"
    }
   },
   "outputs": [
    {
     "data": {
      "text/plain": [
       "App             0\n",
       "Rating          0\n",
       "Reviews         0\n",
       "Installs        0\n",
       "Type            0\n",
       "Price           0\n",
       "Genres          0\n",
       "Last Updated    0\n",
       "dtype: int64"
      ]
     },
     "execution_count": 284,
     "metadata": {},
     "output_type": "execute_result"
    }
   ],
   "source": [
    "dfnew.isnull().sum()"
   ]
  },
  {
   "cell_type": "markdown",
   "metadata": {},
   "source": [
    "# 数据探索分析\n",
    "## function\n",
    "### // check_value(df,list)"
   ]
  },
  {
   "cell_type": "code",
   "execution_count": 285,
   "metadata": {
    "ExecuteTime": {
     "end_time": "2019-08-02T07:25:51.659858Z",
     "start_time": "2019-08-02T07:25:51.646720Z"
    }
   },
   "outputs": [],
   "source": [
    "# build function\n",
    "def check_value(df,list):\n",
    "    '''\n",
    "    input: \n",
    "    1\\ dataframe which to exam\n",
    "    2\\ list which feature to exam\n",
    "    \n",
    "    check:\n",
    "    and if features are many, columns will be hide,\n",
    "    checks specified feature(column) for values,\n",
    "    for category feature,\n",
    "    then we can see the featrue's value distribution.\n",
    "    a sample of the data,\n",
    "    \n",
    "    output: str\n",
    "    full info from a specific feature value distribution.\n",
    "    '''\n",
    "    c = 1\n",
    "    for i in list:\n",
    "        print(('\\n- columns #{} : {:-<8}'.format(c,i)))\n",
    "        print((df[i].value_counts().nlargest(10)))\n",
    "        ### nlargest 非常好用\n",
    "        c += 1\n",
    "    pp.pprint('----checking complete----')"
   ]
  },
  {
   "cell_type": "code",
   "execution_count": 286,
   "metadata": {
    "ExecuteTime": {
     "end_time": "2019-08-02T07:25:52.723506Z",
     "start_time": "2019-08-02T07:25:52.657778Z"
    }
   },
   "outputs": [
    {
     "name": "stdout",
     "output_type": "stream",
     "text": [
      "\n",
      "- columns #1 : App-----\n",
      "SNCF                                   1\n",
      "Runtastic Mountain Bike GPS Tracker    1\n",
      "CPU-Z                                  1\n",
      "DV Youth                               1\n",
      "Bi en Línea                            1\n",
      "Home Workout for Men - Bodybuilding    1\n",
      "Results for FL Lottery                 1\n",
      "Add Watermark Free                     1\n",
      "funny Image Comments for FB            1\n",
      "SofaScore Live Score                   1\n",
      "Name: App, dtype: int64\n",
      "\n",
      "- columns #2 : Rating--\n",
      "4.4    897\n",
      "4.3    897\n",
      "4.5    849\n",
      "4.2    811\n",
      "4.6    683\n",
      "4.1    621\n",
      "4.0    513\n",
      "4.7    438\n",
      "3.9    359\n",
      "3.8    286\n",
      "Name: Rating, dtype: int64\n",
      "\n",
      "- columns #3 : Reviews-\n",
      "2     82\n",
      "3     76\n",
      "4     74\n",
      "5     74\n",
      "1     67\n",
      "7     62\n",
      "6     60\n",
      "8     55\n",
      "12    51\n",
      "10    45\n",
      "Name: Reviews, dtype: int64\n",
      "\n",
      "- columns #4 : Installs\n",
      "1,000,000+     1416\n",
      "100,000+       1095\n",
      "10,000+         986\n",
      "10,000,000+     934\n",
      "1,000+          697\n",
      "5,000,000+      608\n",
      "500,000+        504\n",
      "50,000+         457\n",
      "5,000+          425\n",
      "100+            303\n",
      "Name: Installs, dtype: int64\n",
      "\n",
      "- columns #5 : Type----\n",
      "Free    7592\n",
      "Paid     604\n",
      "0          1\n",
      "Name: Type, dtype: int64\n",
      "\n",
      "- columns #6 : Price---\n",
      "0        7592\n",
      "$2.99     109\n",
      "$0.99     104\n",
      "$4.99      68\n",
      "$1.99      59\n",
      "$3.99      52\n",
      "$1.49      31\n",
      "$2.49      20\n",
      "$9.99      14\n",
      "$5.99      14\n",
      "Name: Price, dtype: int64\n",
      "\n",
      "- columns #7 : Genres--\n",
      "Tools              718\n",
      "Entertainment      471\n",
      "Education          429\n",
      "Finance            302\n",
      "Productivity       301\n",
      "Lifestyle          300\n",
      "Personalization    298\n",
      "Action             292\n",
      "Medical            290\n",
      "Sports             266\n",
      "Name: Genres, dtype: int64\n",
      "\n",
      "- columns #8 : Last Updated\n",
      "August 3, 2018    245\n",
      "August 2, 2018    209\n",
      "August 1, 2018    197\n",
      "July 31, 2018     189\n",
      "July 30, 2018     148\n",
      "July 25, 2018     122\n",
      "July 26, 2018     119\n",
      "August 6, 2018    114\n",
      "July 24, 2018     105\n",
      "July 27, 2018     100\n",
      "Name: Last Updated, dtype: int64\n",
      "'----checking complete----'\n"
     ]
    }
   ],
   "source": [
    "check_value(dfnew,dfnew.columns)"
   ]
  },
  {
   "cell_type": "markdown",
   "metadata": {},
   "source": [
    "- 根据输出往复清理过程\n",
    "    - 删除 Type 为 0的\n",
    "    - 删除 Last Uddated (感觉没什么重要,因为其他数据和时序无关)"
   ]
  },
  {
   "cell_type": "code",
   "execution_count": 287,
   "metadata": {
    "ExecuteTime": {
     "end_time": "2019-08-02T07:25:55.885895Z",
     "start_time": "2019-08-02T07:25:55.871615Z"
    }
   },
   "outputs": [
    {
     "name": "stdout",
     "output_type": "stream",
     "text": [
      "---- proceding ----\n",
      "- drop 1 columns: ['Last Updated'] \n",
      "- remain 7 columns\n",
      "- success : True\n"
     ]
    }
   ],
   "source": [
    "drop_list = ['Last Updated']\n",
    "drop_column(dfnew,drop_list)"
   ]
  },
  {
   "cell_type": "markdown",
   "metadata": {},
   "source": [
    "## / update dataframe\n",
    "### // drop data (iter)"
   ]
  },
  {
   "cell_type": "code",
   "execution_count": 288,
   "metadata": {
    "ExecuteTime": {
     "end_time": "2019-08-02T07:25:57.091591Z",
     "start_time": "2019-08-02T07:25:57.067058Z"
    }
   },
   "outputs": [
    {
     "data": {
      "text/html": [
       "<div>\n",
       "<style scoped>\n",
       "    .dataframe tbody tr th:only-of-type {\n",
       "        vertical-align: middle;\n",
       "    }\n",
       "\n",
       "    .dataframe tbody tr th {\n",
       "        vertical-align: top;\n",
       "    }\n",
       "\n",
       "    .dataframe thead th {\n",
       "        text-align: right;\n",
       "    }\n",
       "</style>\n",
       "<table border=\"1\" class=\"dataframe\">\n",
       "  <thead>\n",
       "    <tr style=\"text-align: right;\">\n",
       "      <th></th>\n",
       "      <th>App</th>\n",
       "      <th>Rating</th>\n",
       "      <th>Reviews</th>\n",
       "      <th>Installs</th>\n",
       "      <th>Type</th>\n",
       "      <th>Price</th>\n",
       "      <th>Genres</th>\n",
       "    </tr>\n",
       "  </thead>\n",
       "  <tbody>\n",
       "    <tr>\n",
       "      <th>10472</th>\n",
       "      <td>Life Made WI-Fi Touchscreen Photo Frame</td>\n",
       "      <td>19.0</td>\n",
       "      <td>3.0M</td>\n",
       "      <td>Free</td>\n",
       "      <td>0</td>\n",
       "      <td>Everyone</td>\n",
       "      <td>February 11, 2018</td>\n",
       "    </tr>\n",
       "  </tbody>\n",
       "</table>\n",
       "</div>"
      ],
      "text/plain": [
       "                                           App  Rating Reviews Installs Type  \\\n",
       "10472  Life Made WI-Fi Touchscreen Photo Frame    19.0    3.0M     Free    0   \n",
       "\n",
       "          Price             Genres  \n",
       "10472  Everyone  February 11, 2018  "
      ]
     },
     "execution_count": 288,
     "metadata": {},
     "output_type": "execute_result"
    }
   ],
   "source": [
    "dfnew.query('Type == \"0\"')"
   ]
  },
  {
   "cell_type": "code",
   "execution_count": 299,
   "metadata": {
    "ExecuteTime": {
     "end_time": "2019-08-02T07:28:17.802509Z",
     "start_time": "2019-08-02T07:28:17.779525Z"
    }
   },
   "outputs": [
    {
     "data": {
      "text/html": [
       "<div>\n",
       "<style scoped>\n",
       "    .dataframe tbody tr th:only-of-type {\n",
       "        vertical-align: middle;\n",
       "    }\n",
       "\n",
       "    .dataframe tbody tr th {\n",
       "        vertical-align: top;\n",
       "    }\n",
       "\n",
       "    .dataframe thead th {\n",
       "        text-align: right;\n",
       "    }\n",
       "</style>\n",
       "<table border=\"1\" class=\"dataframe\">\n",
       "  <thead>\n",
       "    <tr style=\"text-align: right;\">\n",
       "      <th></th>\n",
       "      <th>App</th>\n",
       "      <th>Rating</th>\n",
       "      <th>Reviews</th>\n",
       "      <th>Installs</th>\n",
       "      <th>Type</th>\n",
       "      <th>Price</th>\n",
       "      <th>Genres</th>\n",
       "    </tr>\n",
       "  </thead>\n",
       "  <tbody>\n",
       "  </tbody>\n",
       "</table>\n",
       "</div>"
      ],
      "text/plain": [
       "Empty DataFrame\n",
       "Columns: [App, Rating, Reviews, Installs, Type, Price, Genres]\n",
       "Index: []"
      ]
     },
     "execution_count": 299,
     "metadata": {},
     "output_type": "execute_result"
    }
   ],
   "source": [
    "# 根据上述输出发现这条数据的 Type 应该为 Free, 整个数据串行了\n",
    "## 根据数据观察,各项指标较差,删除数据\n",
    "dfnew.query('Type == \"0\"')"
   ]
  },
  {
   "cell_type": "code",
   "execution_count": 294,
   "metadata": {
    "ExecuteTime": {
     "end_time": "2019-08-02T07:27:46.154935Z",
     "start_time": "2019-08-02T07:27:46.135985Z"
    }
   },
   "outputs": [],
   "source": [
    "drop_index_list = dfnew.query('Type == \"0\"').index[0]"
   ]
  },
  {
   "cell_type": "code",
   "execution_count": 295,
   "metadata": {
    "ExecuteTime": {
     "end_time": "2019-08-02T07:27:47.865375Z",
     "start_time": "2019-08-02T07:27:47.844862Z"
    }
   },
   "outputs": [
    {
     "data": {
      "text/plain": [
       "10472"
      ]
     },
     "execution_count": 295,
     "metadata": {},
     "output_type": "execute_result"
    }
   ],
   "source": [
    "drop_index_list"
   ]
  },
  {
   "cell_type": "code",
   "execution_count": 296,
   "metadata": {
    "ExecuteTime": {
     "end_time": "2019-08-02T07:27:52.632467Z",
     "start_time": "2019-08-02T07:27:52.621967Z"
    }
   },
   "outputs": [
    {
     "data": {
      "text/plain": [
       "(8197, 7)"
      ]
     },
     "execution_count": 296,
     "metadata": {},
     "output_type": "execute_result"
    }
   ],
   "source": [
    "dfnew.shape"
   ]
  },
  {
   "cell_type": "code",
   "execution_count": 297,
   "metadata": {
    "ExecuteTime": {
     "end_time": "2019-08-02T07:27:53.902932Z",
     "start_time": "2019-08-02T07:27:53.890376Z"
    }
   },
   "outputs": [],
   "source": [
    "dfnew.drop(drop_index_list, axis=0, inplace=True)"
   ]
  },
  {
   "cell_type": "code",
   "execution_count": 298,
   "metadata": {
    "ExecuteTime": {
     "end_time": "2019-08-02T07:27:54.428144Z",
     "start_time": "2019-08-02T07:27:54.410272Z"
    }
   },
   "outputs": [
    {
     "data": {
      "text/plain": [
       "(8196, 7)"
      ]
     },
     "execution_count": 298,
     "metadata": {},
     "output_type": "execute_result"
    }
   ],
   "source": [
    "dfnew.shape"
   ]
  },
  {
   "cell_type": "markdown",
   "metadata": {},
   "source": [
    "### // change data type"
   ]
  },
  {
   "cell_type": "code",
   "execution_count": 300,
   "metadata": {
    "ExecuteTime": {
     "end_time": "2019-08-02T07:28:48.097594Z",
     "start_time": "2019-08-02T07:28:48.076324Z"
    }
   },
   "outputs": [
    {
     "name": "stdout",
     "output_type": "stream",
     "text": [
      "<class 'pandas.core.frame.DataFrame'>\n",
      "Int64Index: 8196 entries, 882 to 8532\n",
      "Data columns (total 7 columns):\n",
      "App         8196 non-null object\n",
      "Rating      8196 non-null float64\n",
      "Reviews     8196 non-null object\n",
      "Installs    8196 non-null object\n",
      "Type        8196 non-null object\n",
      "Price       8196 non-null object\n",
      "Genres      8196 non-null object\n",
      "dtypes: float64(1), object(6)\n",
      "memory usage: 512.2+ KB\n"
     ]
    }
   ],
   "source": [
    "dfnew.info()"
   ]
  },
  {
   "cell_type": "code",
   "execution_count": 303,
   "metadata": {
    "ExecuteTime": {
     "end_time": "2019-08-02T07:30:13.243264Z",
     "start_time": "2019-08-02T07:30:13.218769Z"
    }
   },
   "outputs": [
    {
     "data": {
      "text/html": [
       "<div>\n",
       "<style scoped>\n",
       "    .dataframe tbody tr th:only-of-type {\n",
       "        vertical-align: middle;\n",
       "    }\n",
       "\n",
       "    .dataframe tbody tr th {\n",
       "        vertical-align: top;\n",
       "    }\n",
       "\n",
       "    .dataframe thead th {\n",
       "        text-align: right;\n",
       "    }\n",
       "</style>\n",
       "<table border=\"1\" class=\"dataframe\">\n",
       "  <thead>\n",
       "    <tr style=\"text-align: right;\">\n",
       "      <th></th>\n",
       "      <th>App</th>\n",
       "      <th>Rating</th>\n",
       "      <th>Reviews</th>\n",
       "      <th>Installs</th>\n",
       "      <th>Type</th>\n",
       "      <th>Price</th>\n",
       "      <th>Genres</th>\n",
       "    </tr>\n",
       "  </thead>\n",
       "  <tbody>\n",
       "    <tr>\n",
       "      <th>9524</th>\n",
       "      <td>Video Maker with Photo and Music</td>\n",
       "      <td>4.3</td>\n",
       "      <td>4871</td>\n",
       "      <td>1,000,000+</td>\n",
       "      <td>Free</td>\n",
       "      <td>0</td>\n",
       "      <td>Photography</td>\n",
       "    </tr>\n",
       "  </tbody>\n",
       "</table>\n",
       "</div>"
      ],
      "text/plain": [
       "                                   App  Rating Reviews    Installs  Type  \\\n",
       "9524  Video Maker with Photo and Music     4.3    4871  1,000,000+  Free   \n",
       "\n",
       "     Price       Genres  \n",
       "9524     0  Photography  "
      ]
     },
     "execution_count": 303,
     "metadata": {},
     "output_type": "execute_result"
    }
   ],
   "source": [
    "dfnew.sample()"
   ]
  },
  {
   "cell_type": "markdown",
   "metadata": {},
   "source": [
    "- change solution\n",
    "    - Reviews - object > int\n",
    "    - Installs - object > category\n",
    "    - Type - object > category\n",
    "    - Price - object > category\n",
    "    - Genres - object > category"
   ]
  },
  {
   "cell_type": "code",
   "execution_count": 304,
   "metadata": {
    "ExecuteTime": {
     "end_time": "2019-08-02T07:30:17.613261Z",
     "start_time": "2019-08-02T07:30:17.594279Z"
    }
   },
   "outputs": [],
   "source": [
    "dfnew.Reviews = dfnew.Reviews.astype(int)"
   ]
  },
  {
   "cell_type": "code",
   "execution_count": 305,
   "metadata": {
    "ExecuteTime": {
     "end_time": "2019-08-02T07:30:18.334076Z",
     "start_time": "2019-08-02T07:30:18.329861Z"
    }
   },
   "outputs": [],
   "source": [
    "# 下面变换会报错 10000+ 无法改为 int\n",
    "## 根据之前对数据的观察, 应该也是分类数据(上面solution已经更新)\n",
    "#dfnew.Installs = dfnew.Installs.astype(int)"
   ]
  },
  {
   "cell_type": "code",
   "execution_count": 306,
   "metadata": {
    "ExecuteTime": {
     "end_time": "2019-08-02T07:30:19.042989Z",
     "start_time": "2019-08-02T07:30:19.013399Z"
    }
   },
   "outputs": [],
   "source": [
    "dfnew.Installs = dfnew.Installs.astype('category')\n",
    "dfnew.Type = dfnew.Type.astype('category')\n",
    "dfnew.Price = dfnew.Price.astype('category')\n",
    "dfnew.Genres = dfnew.Genres.astype('category')\n",
    "## 注意 category 要有引号\n",
    "## 和 object 用法相同,但是数据量大时效率更高"
   ]
  },
  {
   "cell_type": "code",
   "execution_count": 307,
   "metadata": {
    "ExecuteTime": {
     "end_time": "2019-08-02T07:30:19.775899Z",
     "start_time": "2019-08-02T07:30:19.753504Z"
    }
   },
   "outputs": [
    {
     "name": "stdout",
     "output_type": "stream",
     "text": [
      "<class 'pandas.core.frame.DataFrame'>\n",
      "Int64Index: 8196 entries, 882 to 8532\n",
      "Data columns (total 7 columns):\n",
      "App         8196 non-null object\n",
      "Rating      8196 non-null float64\n",
      "Reviews     8196 non-null int64\n",
      "Installs    8196 non-null category\n",
      "Type        8196 non-null category\n",
      "Price       8196 non-null category\n",
      "Genres      8196 non-null category\n",
      "dtypes: category(4), float64(1), int64(1), object(1)\n",
      "memory usage: 298.0+ KB\n"
     ]
    }
   ],
   "source": [
    "dfnew.info()"
   ]
  },
  {
   "cell_type": "markdown",
   "metadata": {},
   "source": [
    "## persistence"
   ]
  },
  {
   "cell_type": "code",
   "execution_count": 308,
   "metadata": {
    "ExecuteTime": {
     "end_time": "2019-08-02T07:30:25.343462Z",
     "start_time": "2019-08-02T07:30:25.108974Z"
    }
   },
   "outputs": [],
   "source": [
    "dfnew.to_pickle('googleplaystore_select.pickle.xz', compression='xz')"
   ]
  },
  {
   "cell_type": "markdown",
   "metadata": {},
   "source": [
    "## EDA"
   ]
  },
  {
   "cell_type": "code",
   "execution_count": 309,
   "metadata": {
    "ExecuteTime": {
     "end_time": "2019-08-02T07:30:30.211819Z",
     "start_time": "2019-08-02T07:30:30.166496Z"
    }
   },
   "outputs": [
    {
     "data": {
      "text/html": [
       "<div>\n",
       "<style scoped>\n",
       "    .dataframe tbody tr th:only-of-type {\n",
       "        vertical-align: middle;\n",
       "    }\n",
       "\n",
       "    .dataframe tbody tr th {\n",
       "        vertical-align: top;\n",
       "    }\n",
       "\n",
       "    .dataframe thead th {\n",
       "        text-align: right;\n",
       "    }\n",
       "</style>\n",
       "<table border=\"1\" class=\"dataframe\">\n",
       "  <thead>\n",
       "    <tr style=\"text-align: right;\">\n",
       "      <th></th>\n",
       "      <th>App</th>\n",
       "      <th>Rating</th>\n",
       "      <th>Reviews</th>\n",
       "      <th>Installs</th>\n",
       "      <th>Type</th>\n",
       "      <th>Price</th>\n",
       "      <th>Genres</th>\n",
       "    </tr>\n",
       "  </thead>\n",
       "  <tbody>\n",
       "    <tr>\n",
       "      <th>5148</th>\n",
       "      <td>Kimbrough AH</td>\n",
       "      <td>5.0</td>\n",
       "      <td>5</td>\n",
       "      <td>100+</td>\n",
       "      <td>Free</td>\n",
       "      <td>0</td>\n",
       "      <td>Medical</td>\n",
       "    </tr>\n",
       "  </tbody>\n",
       "</table>\n",
       "</div>"
      ],
      "text/plain": [
       "               App  Rating  Reviews Installs  Type Price   Genres\n",
       "5148  Kimbrough AH     5.0        5     100+  Free     0  Medical"
      ]
     },
     "execution_count": 309,
     "metadata": {},
     "output_type": "execute_result"
    }
   ],
   "source": [
    "df = pd.read_pickle('googleplaystore_select.pickle.xz', compression='xz')\n",
    "df.sample()"
   ]
  },
  {
   "cell_type": "code",
   "execution_count": 310,
   "metadata": {
    "ExecuteTime": {
     "end_time": "2019-08-02T07:30:33.093145Z",
     "start_time": "2019-08-02T07:30:33.068439Z"
    }
   },
   "outputs": [
    {
     "name": "stdout",
     "output_type": "stream",
     "text": [
      "<class 'pandas.core.frame.DataFrame'>\n",
      "Int64Index: 8196 entries, 882 to 8532\n",
      "Data columns (total 7 columns):\n",
      "App         8196 non-null object\n",
      "Rating      8196 non-null float64\n",
      "Reviews     8196 non-null int64\n",
      "Installs    8196 non-null category\n",
      "Type        8196 non-null category\n",
      "Price       8196 non-null category\n",
      "Genres      8196 non-null category\n",
      "dtypes: category(4), float64(1), int64(1), object(1)\n",
      "memory usage: 298.0+ KB\n"
     ]
    }
   ],
   "source": [
    "df.info()"
   ]
  },
  {
   "cell_type": "code",
   "execution_count": 311,
   "metadata": {
    "ExecuteTime": {
     "end_time": "2019-08-02T07:30:42.985157Z",
     "start_time": "2019-08-02T07:30:42.946971Z"
    }
   },
   "outputs": [
    {
     "data": {
      "text/html": [
       "<div>\n",
       "<style scoped>\n",
       "    .dataframe tbody tr th:only-of-type {\n",
       "        vertical-align: middle;\n",
       "    }\n",
       "\n",
       "    .dataframe tbody tr th {\n",
       "        vertical-align: top;\n",
       "    }\n",
       "\n",
       "    .dataframe thead th {\n",
       "        text-align: right;\n",
       "    }\n",
       "</style>\n",
       "<table border=\"1\" class=\"dataframe\">\n",
       "  <thead>\n",
       "    <tr style=\"text-align: right;\">\n",
       "      <th></th>\n",
       "      <th>Rating</th>\n",
       "      <th>Reviews</th>\n",
       "    </tr>\n",
       "  </thead>\n",
       "  <tbody>\n",
       "    <tr>\n",
       "      <th>count</th>\n",
       "      <td>8196.000000</td>\n",
       "      <td>8.196000e+03</td>\n",
       "    </tr>\n",
       "    <tr>\n",
       "      <th>mean</th>\n",
       "      <td>4.173084</td>\n",
       "      <td>2.552483e+05</td>\n",
       "    </tr>\n",
       "    <tr>\n",
       "      <th>std</th>\n",
       "      <td>0.536522</td>\n",
       "      <td>1.985679e+06</td>\n",
       "    </tr>\n",
       "    <tr>\n",
       "      <th>min</th>\n",
       "      <td>1.000000</td>\n",
       "      <td>1.000000e+00</td>\n",
       "    </tr>\n",
       "    <tr>\n",
       "      <th>25%</th>\n",
       "      <td>4.000000</td>\n",
       "      <td>1.260000e+02</td>\n",
       "    </tr>\n",
       "    <tr>\n",
       "      <th>50%</th>\n",
       "      <td>4.300000</td>\n",
       "      <td>3.004000e+03</td>\n",
       "    </tr>\n",
       "    <tr>\n",
       "      <th>75%</th>\n",
       "      <td>4.500000</td>\n",
       "      <td>4.371950e+04</td>\n",
       "    </tr>\n",
       "    <tr>\n",
       "      <th>max</th>\n",
       "      <td>5.000000</td>\n",
       "      <td>7.815831e+07</td>\n",
       "    </tr>\n",
       "  </tbody>\n",
       "</table>\n",
       "</div>"
      ],
      "text/plain": [
       "            Rating       Reviews\n",
       "count  8196.000000  8.196000e+03\n",
       "mean      4.173084  2.552483e+05\n",
       "std       0.536522  1.985679e+06\n",
       "min       1.000000  1.000000e+00\n",
       "25%       4.000000  1.260000e+02\n",
       "50%       4.300000  3.004000e+03\n",
       "75%       4.500000  4.371950e+04\n",
       "max       5.000000  7.815831e+07"
      ]
     },
     "execution_count": 311,
     "metadata": {},
     "output_type": "execute_result"
    }
   ],
   "source": [
    "df.describe()"
   ]
  },
  {
   "cell_type": "code",
   "execution_count": 162,
   "metadata": {
    "ExecuteTime": {
     "end_time": "2019-08-02T04:48:49.835090Z",
     "start_time": "2019-08-02T04:48:49.819840Z"
    }
   },
   "outputs": [
    {
     "ename": "AttributeError",
     "evalue": "'function' object has no attribute 'all'",
     "output_type": "error",
     "traceback": [
      "\u001b[0;31m----------------------------------------------------\u001b[0m",
      "\u001b[0;31mAttributeError\u001b[0m     Traceback (most recent call last)",
      "\u001b[0;32m<ipython-input-162-6803a7ab2066>\u001b[0m in \u001b[0;36m<module>\u001b[0;34m\u001b[0m\n\u001b[0;32m----> 1\u001b[0;31m \u001b[0mdftest\u001b[0m\u001b[0;34m.\u001b[0m\u001b[0mdrop\u001b[0m\u001b[0;34m.\u001b[0m\u001b[0mall\u001b[0m\u001b[0;34m(\u001b[0m\u001b[0;34m)\u001b[0m\u001b[0;34m[\u001b[0m\u001b[0mdf\u001b[0m\u001b[0;34m[\u001b[0m\u001b[0;34m'App'\u001b[0m\u001b[0;34m]\u001b[0m \u001b[0;34m==\u001b[0m \u001b[0;34m'Facebook'\u001b[0m \u001b[0;32mand\u001b[0m \u001b[0mdf\u001b[0m\u001b[0;34m[\u001b[0m\u001b[0;34m'Reviews'\u001b[0m\u001b[0;34m]\u001b[0m \u001b[0;34m!=\u001b[0m \u001b[0mdf\u001b[0m\u001b[0;34m.\u001b[0m\u001b[0mloc\u001b[0m\u001b[0;34m[\u001b[0m\u001b[0;34m'Facebook'\u001b[0m\u001b[0;34m,\u001b[0m\u001b[0;34m'Reviews'\u001b[0m\u001b[0;34m]\u001b[0m\u001b[0;34m.\u001b[0m\u001b[0mmax\u001b[0m\u001b[0;34m(\u001b[0m\u001b[0;34m)\u001b[0m\u001b[0;34m]\u001b[0m\u001b[0;34m\u001b[0m\u001b[0;34m\u001b[0m\u001b[0m\n\u001b[0m",
      "\u001b[0;31mAttributeError\u001b[0m: 'function' object has no attribute 'all'"
     ]
    }
   ],
   "source": [
    "dftest.drop.all()[df['App'] == 'Facebook' and df['Reviews'] != df.loc['Facebook','Reviews'].max()]"
   ]
  },
  {
   "cell_type": "code",
   "execution_count": null,
   "metadata": {
    "collapsed": true
   },
   "outputs": [],
   "source": [
    "# In exploratory data analysis, please make sure of using statistics and visualizations\n"
   ]
  },
  {
   "cell_type": "markdown",
   "metadata": {},
   "source": [
    "在数据的探索性分析中，请确保你对数据分析中的关键步骤和推理过程进行了记录。你可以自己插入code cell和markdown cell来组织你的报告。"
   ]
  },
  {
   "cell_type": "markdown",
   "metadata": {},
   "source": [
    "# 得出结论"
   ]
  },
  {
   "cell_type": "markdown",
   "metadata": {},
   "source": [
    "**问题**：上面的分析能够回答你提出的问题？通过这些分析你能够得出哪些结论？\n",
    "\n",
    "**答案**：将此文本替换为你的回答！"
   ]
  },
  {
   "cell_type": "markdown",
   "metadata": {},
   "source": [
    "# 反思"
   ]
  },
  {
   "cell_type": "markdown",
   "metadata": {},
   "source": [
    "**问题**：在你的分析和总结过程中是否存在逻辑严谨。是否有改进的空间? 你可以从下面的一些角度进行思考：\n",
    "1. 数据集是否完整，包含所有想要分析的数据？\n",
    "2. 在对数据进行处理的时候，你的操作（例如删除/填充缺失值）是否可能影响结论？\n",
    "3. 是否还有其他变量（本数据中没有）能够对你的分析有帮助？\n",
    "4. 在得出结论时，你是否混淆了相关性和因果性？\n",
    "\n",
    "**答案**：将此文本替换为你的回答！"
   ]
  },
  {
   "cell_type": "markdown",
   "metadata": {},
   "source": [
    "恭喜你完成了此项目！这只是数据分析过程的一个样本：从生成问题、整理数据、探索数据到得出结论。在数据分析(进阶)纳米学位中，你将会学到更多高级的数据分析方法和技术，如果你感兴趣的话，我们鼓励你继续学习后续的课程，掌握更多的数据分析的高级技能！"
   ]
  },
  {
   "cell_type": "markdown",
   "metadata": {},
   "source": [
    "> 若想与他人分享我们的分析结果，除了向他们提供 jupyter Notebook (.ipynb) 文件的副本外，我们还可以将 Notebook 输出导出为一种甚至那些未安装 Python 的人都能打开的形式。从左上方的“文件”菜单，前往“下载为”子菜单。然后你可以选择一个可以更普遍查看的格式，例如 HTML (.html) 。你可能需要额外软件包或软件来执行这些导出。"
   ]
  },
  {
   "cell_type": "code",
   "execution_count": null,
   "metadata": {
    "collapsed": true
   },
   "outputs": [],
   "source": []
  }
 ],
 "metadata": {
  "hide_input": false,
  "kernelspec": {
   "display_name": "Python 3",
   "language": "python",
   "name": "python3"
  },
  "language_info": {
   "codemirror_mode": {
    "name": "ipython",
    "version": 3
   },
   "file_extension": ".py",
   "mimetype": "text/x-python",
   "name": "python",
   "nbconvert_exporter": "python",
   "pygments_lexer": "ipython3",
   "version": "3.6.7"
  },
  "toc": {
   "base_numbering": 1,
   "nav_menu": {},
   "number_sections": true,
   "sideBar": true,
   "skip_h1_title": false,
   "title_cell": "Table of Contents",
   "title_sidebar": "Contents",
   "toc_cell": false,
   "toc_position": {
    "height": "calc(100% - 180px)",
    "left": "10px",
    "top": "150px",
    "width": "160px"
   },
   "toc_section_display": true,
   "toc_window_display": true
  },
  "varInspector": {
   "cols": {
    "lenName": 16,
    "lenType": 16,
    "lenVar": 40
   },
   "kernels_config": {
    "python": {
     "delete_cmd_postfix": "",
     "delete_cmd_prefix": "del ",
     "library": "var_list.py",
     "varRefreshCmd": "print(var_dic_list())"
    },
    "r": {
     "delete_cmd_postfix": ") ",
     "delete_cmd_prefix": "rm(",
     "library": "var_list.r",
     "varRefreshCmd": "cat(var_dic_list()) "
    }
   },
   "types_to_exclude": [
    "module",
    "function",
    "builtin_function_or_method",
    "instance",
    "_Feature"
   ],
   "window_display": false
  }
 },
 "nbformat": 4,
 "nbformat_minor": 2
}
