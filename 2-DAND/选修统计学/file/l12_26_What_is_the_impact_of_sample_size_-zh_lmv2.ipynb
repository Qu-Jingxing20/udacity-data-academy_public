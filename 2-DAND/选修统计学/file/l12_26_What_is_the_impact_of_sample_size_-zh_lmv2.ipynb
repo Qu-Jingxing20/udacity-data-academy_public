{
 "cells": [
  {
   "cell_type": "markdown",
   "metadata": {},
   "source": [
    "### 大样本的意义\n",
    "\n",
    "当我们增加样本容量时，即使是最小的差异看起来也可能变得非常显著。 \n",
    "\n",
    "为了说明这一点，请完成这个 notebook 和下面的测试题目。\n",
    "\n",
    "首先，导入库和数据。"
   ]
  },
  {
   "cell_type": "code",
   "execution_count": 2,
   "metadata": {},
   "outputs": [],
   "source": [
    "import pandas as pd\n",
    "import numpy as np\n",
    "import matplotlib.pyplot as plt\n",
    "\n",
    "%matplotlib inline\n",
    "np.random.seed(42)\n",
    "\n",
    "full_data = pd.read_csv('coffee_dataset.csv')"
   ]
  },
  {
   "cell_type": "markdown",
   "metadata": {},
   "source": [
    "`1.` 在这个案例中，假设我们想要测试 `full_data` 中所有个体的平均身高是否等于67.60英寸或 **不等于** 67.60 英寸。  首先，通过下面的 **测试 1** 来确定这些案例的零假设和备择假设。\n",
    "\n",
    "`2.` 人口平均身高是多？人口身高的标准差是多少？使用下面的代码创建一组样本数据。样本的平均身高是多少？模拟五个值的平均值的抽样分布，查看其形状并绘制一个直方图。这五次抽样的平均值的抽样分布的标准差是多少？回答下面的 **测试 2** ，确保你的答案是正确的。"
   ]
  },
  {
   "cell_type": "code",
   "execution_count": 3,
   "metadata": {},
   "outputs": [
    {
     "data": {
      "text/plain": [
       "67.597486973079342"
      ]
     },
     "execution_count": 3,
     "metadata": {},
     "output_type": "execute_result"
    }
   ],
   "source": [
    "full_data.height.mean()"
   ]
  },
  {
   "cell_type": "code",
   "execution_count": 4,
   "metadata": {},
   "outputs": [
    {
     "data": {
      "text/plain": [
       "3.1194332065503421"
      ]
     },
     "execution_count": 4,
     "metadata": {},
     "output_type": "execute_result"
    }
   ],
   "source": [
    "full_data.height.std()"
   ]
  },
  {
   "cell_type": "code",
   "execution_count": 5,
   "metadata": {},
   "outputs": [
    {
     "data": {
      "text/plain": [
       "67.882342520490838"
      ]
     },
     "execution_count": 5,
     "metadata": {},
     "output_type": "execute_result"
    }
   ],
   "source": [
    "sample1 = full_data.sample(5)\n",
    "sample1.height.mean()"
   ]
  },
  {
   "cell_type": "code",
   "execution_count": 6,
   "metadata": {},
   "outputs": [
    {
     "data": {
      "text/plain": [
       "2.8434965552901939"
      ]
     },
     "execution_count": 6,
     "metadata": {},
     "output_type": "execute_result"
    }
   ],
   "source": [
    "sample1.height.std()"
   ]
  },
  {
   "cell_type": "code",
   "execution_count": 7,
   "metadata": {},
   "outputs": [
    {
     "data": {
      "text/plain": [
       "67.551531609117291"
      ]
     },
     "execution_count": 7,
     "metadata": {},
     "output_type": "execute_result"
    }
   ],
   "source": [
    "sample2 = full_data.sample(1000)\n",
    "sample2.height.mean()"
   ]
  },
  {
   "cell_type": "code",
   "execution_count": 8,
   "metadata": {},
   "outputs": [
    {
     "data": {
      "text/plain": [
       "3.0462940846360556"
      ]
     },
     "execution_count": 8,
     "metadata": {},
     "output_type": "execute_result"
    }
   ],
   "source": [
    "sample2.height.std()"
   ]
  },
  {
   "cell_type": "code",
   "execution_count": 9,
   "metadata": {},
   "outputs": [
    {
     "data": {
      "image/png": "[encoded data removed]",
      "text/plain": [
       "<matplotlib.figure.Figure at 0x7f7c9e141198>"
      ]
     },
     "metadata": {
      "needs_background": "light"
     },
     "output_type": "display_data"
    }
   ],
   "source": [
    "sample1.height.plot.hist();"
   ]
  },
  {
   "cell_type": "code",
   "execution_count": 10,
   "metadata": {},
   "outputs": [
    {
     "data": {
      "image/png": "[encoded data removed]",
      "text/plain": [
       "<matplotlib.figure.Figure at 0x7f7c9c1150f0>"
      ]
     },
     "metadata": {
      "needs_background": "light"
     },
     "output_type": "display_data"
    }
   ],
   "source": [
    "sample2.height.plot.hist();"
   ]
  },
  {
   "cell_type": "code",
   "execution_count": 11,
   "metadata": {},
   "outputs": [
    {
     "name": "stdout",
     "output_type": "stream",
     "text": [
      "0    67.597754\n",
      "dtype: float64\n",
      "0    0.081114\n",
      "dtype: float64\n"
     ]
    },
    {
     "data": {
      "image/png": "[encoded data removed]",
      "text/plain": [
       "<matplotlib.figure.Figure at 0x7f7c9c007f60>"
      ]
     },
     "metadata": {
      "needs_background": "light"
     },
     "output_type": "display_data"
    }
   ],
   "source": [
    "# 根据前面的自助法，这里我们模拟1000遍抽取，每次抽取5个样本\n",
    "# 将每次5个样本的平均身高存到一个列表\n",
    "# 转换为df求平均值、标准差并且画图\n",
    "\n",
    "# 设定空列表\n",
    "mean_list = []\n",
    "\n",
    "# 循环1000次得到有1000次随机抽取5样本的平均值\n",
    "for i in range(1000):\n",
    "    sample_height = full_data.height.sample(1000)\n",
    "    mean_list.append(sample_height.mean())\n",
    "\n",
    "# 转换为 dataframe\n",
    "mean_df = pd.DataFrame(mean_list)\n",
    "\n",
    "# 求平均值\n",
    "print(mean_df.mean())\n",
    "\n",
    "# 求标准差\n",
    "print(mean_df.std())\n",
    "\n",
    "# 画图\n",
    "mean_df.plot.hist();"
   ]
  },
  {
   "cell_type": "markdown",
   "metadata": {},
   "source": [
    "`3.` 使用问题1中的零假设和备择假设以及问题2中抽样分布的结果，模拟你在零假设中的期望平均值。使用这些模拟值来确定一个p值，做出一个关于零假设和备择假设的决定。通过下面的 **测试 3** 和 **测试 4** 来检查你的解决方案。\n",
    "\n",
    "**提示:**  [这里](https://docs.scipy.org/doc/numpy-1.13.0/reference/generated/numpy.random.normal.html) 的 Numpy 文件可以帮你完成你的解决方案。"
   ]
  },
  {
   "cell_type": "code",
   "execution_count": 17,
   "metadata": {},
   "outputs": [
    {
     "name": "stdout",
     "output_type": "stream",
     "text": [
      "0.4173\n",
      "0.4187\n"
     ]
    },
    {
     "data": {
      "text/plain": [
       "0.83600000000000008"
      ]
     },
     "execution_count": 17,
     "metadata": {},
     "output_type": "execute_result"
    }
   ],
   "source": [
    "# 使用置信区间方法计算p值\n",
    "\n",
    "## 首先，我们有了零假设时候的平均身高\n",
    "null_mean = full_data.height.mean()\n",
    "##也可以按照提交后的提示中直接设定为 67.60\n",
    "##null_mean = 67.60\n",
    "\n",
    "# 抽样分布的标准差还要除根号n，n为抽样数\n",
    "# https://www.jianshu.com/p/110b51bb82b0\n",
    "std_sampling_dist = full_data.height.std()/np.sqrt(5)\n",
    "\n",
    "## 设定模拟数据的次数\n",
    "num_sims = 10000\n",
    "\n",
    "## 将零假设的平均身高、标准差、模拟数据的次数作为3个输入\n",
    "## 用 random.normal() 进行正太分布模拟\n",
    "null_sims = np.random.normal(null_mean, std_sampling_dist, num_sims)\n",
    "\n",
    "## 计算区间的下边界，为实际值减去差值\n",
    "low_ext = (null_mean - (sample1.height.mean() - null_mean))\n",
    "\n",
    "## 同理上边界，为实际值加上差值，下面结果是原始式子的简化\n",
    "## null_mean + (sample1.height.mean - null_mean) = sample1.height.mean\n",
    "high_ext = sample1.height.mean()\n",
    "\n",
    "## 最后计算 p 值\n",
    "## 是通过 零假设 的身高，和上下两个边界做比较\n",
    "## null_sims > high_ext 是说的比高值还大\n",
    "print((null_sims>high_ext).mean())\n",
    "print((null_sims<low_ext).mean())\n",
    "## null_sims < low_ext 是说的比低值还小\n",
    "## 最后，把这两个概率加一起，就得到了答案（即不在高值和低值区间中的概率）\n",
    "(null_sims > high_ext).mean() + (null_sims < low_ext).mean()\n",
    "# 解释\n",
    "## 因为零假设是 = ，所以在做P值判断的时候是双边的\n",
    "## 结果两边的面积分别占 0.412，说明两边的尾巴特别大\n",
    "## 此时 P 值为两尾之和 0.836，说明无法拒绝零假设\n",
    "## 本节的另一个作用是当抽样数量变多时，会非常确定 p 值接近1\n",
    "## 具体计算见下个代码框，也有个别模拟时出现大于1的情况（毕竟是模拟）"
   ]
  },
  {
   "cell_type": "markdown",
   "metadata": {},
   "source": [
    "`4.` 现在，假设你从上面问题2中的样本中得到了相同的样本均值，但是样本数量是1000。对于这1000个值的平均值，你的抽样分布的新标准差是多少？此外，你的新p值是在你设定的零假设和备择假设之间选择的吗？模拟五个值的平均值的抽样分布，查看其形状并绘制一个直方图。在这里根据你的解决方案来回答下面的第二个到最后一个测试题目。\n",
    "\n",
    "**提示：**  需要注意的是，如果遇到任何困难，你可以使用测试中的解决方案，尽早找到 p 值，只需稍作更改即可获得该答案。\n",
    "\n",
    "`5.` 通过回答最后一个测试题目，回顾本节内容。"
   ]
  },
  {
   "cell_type": "code",
   "execution_count": 36,
   "metadata": {},
   "outputs": [
    {
     "name": "stdout",
     "output_type": "stream",
     "text": [
      "0.5071\n",
      "0.4954\n"
     ]
    },
    {
     "data": {
      "text/plain": [
       "1.0024999999999999"
      ]
     },
     "execution_count": 36,
     "metadata": {},
     "output_type": "execute_result"
    }
   ],
   "source": [
    "# 使用置信区间方法计算p值（1000个样本）\n",
    "# sample\n",
    "sample2 = full_data.sample(1000)\n",
    "sample2.height.mean()\n",
    "\n",
    "\n",
    "null_mean = 67.60\n",
    "\n",
    "# 这是从理论层面上计算抽样分布标准差的另一种方法\n",
    "## 5 换成 1000\n",
    "std_sampling_dist = sample2.height.std()/np.sqrt(1000)\n",
    "std_sampling_dist = sample2.height.std()\n",
    "## 下面是设定模拟数据的次数\n",
    "num_sims = 10000\n",
    "\n",
    "## 将零假设的平均身高、标准差、模拟数据的次数作为3个输入\n",
    "## 用 random.normal() 进行正太分布模拟\n",
    "null_sims = np.random.normal(null_mean, std_sampling_dist, num_sims)\n",
    "\n",
    "## 这里计算区间的下边界，为实际值减去差值\n",
    "low_ext = (null_mean - (sample2.height.mean() - null_mean))\n",
    "\n",
    "## 同理上边界，为实际值加上差值（因为样本值大，所以下面简化直接用的样本平均身高）\n",
    "high_ext = sample2.height.mean()\n",
    "\n",
    "## 最后计算 p 值\n",
    "## 是通过 零假设 的身高，和上下两个边界做比较\n",
    "## null_sims > high_ext 是说的比高值还大\n",
    "## null_sims < low_ext 是说的比低值还小\n",
    "print((null_sims>high_ext).mean())\n",
    "print((null_sims<low_ext).mean())\n",
    "## 最后，把这两个概率加一起，就得到了答案（即不在高值和低值区间中的概率）\n",
    "(null_sims > high_ext).mean() + (null_sims < low_ext).mean()"
   ]
  },
  {
   "cell_type": "code",
   "execution_count": null,
   "metadata": {},
   "outputs": [],
   "source": []
  },
  {
   "cell_type": "code",
   "execution_count": null,
   "metadata": {},
   "outputs": [],
   "source": []
  }
 ],
 "metadata": {
  "kernelspec": {
   "display_name": "Python 3",
   "language": "python",
   "name": "python3"
  },
  "language_info": {
   "codemirror_mode": {
    "name": "ipython",
    "version": 3
   },
   "file_extension": ".py",
   "mimetype": "text/x-python",
   "name": "python",
   "nbconvert_exporter": "python",
   "pygments_lexer": "ipython3",
   "version": "3.6.3"
  }
 },
 "nbformat": 4,
 "nbformat_minor": 2
}
