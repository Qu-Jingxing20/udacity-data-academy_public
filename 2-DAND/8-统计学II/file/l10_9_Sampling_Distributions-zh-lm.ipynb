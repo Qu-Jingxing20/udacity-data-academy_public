{
 "cells": [
  {
   "cell_type": "markdown",
   "metadata": {},
   "source": [
    "### 抽样分布简介\n",
    "\n",
    "为了更好地理解抽样分布的概念，让我们先用 python 语言做一些练习。\n",
    "\n",
    "下面是一个数组，代表我们在之前的视频中看到的学员。其中，1代表喝咖啡的学生，0代表不喝咖啡的学生。"
   ]
  },
  {
   "cell_type": "code",
   "execution_count": 5,
   "metadata": {},
   "outputs": [],
   "source": [
    "# 导入numpy使用随机函数\n",
    "import numpy as np\n",
    "# 设定seed，seed的作用是设定了（n）以后，每次随机都能得到相同的抽样\n",
    "# 这种情况在还原分析过程时非常有用\n",
    "# 设定了之后就一直有效，直到被覆盖\n",
    "np.random.seed(42)\n",
    "# 设定students（为array格式）\n",
    "students = np.array([1,0,1,1,1,1,0,0,0,0,1,1,1,1,1,1,1,1,1,1,0])"
   ]
  },
  {
   "cell_type": "markdown",
   "metadata": {},
   "source": [
    "`1.` 计算出上述数组中喝咖啡的学生的比例，并将此值存储在变量 **p** 中。"
   ]
  },
  {
   "cell_type": "code",
   "execution_count": 6,
   "metadata": {},
   "outputs": [
    {
     "data": {
      "text/plain": [
       "0.7142857142857143"
      ]
     },
     "execution_count": 6,
     "metadata": {},
     "output_type": "execute_result"
    }
   ],
   "source": [
    "# 直接使用mean计算因为原始数据是0，1标识的，平均数就是1出现的概率\n",
    "students.mean()"
   ]
  },
  {
   "cell_type": "markdown",
   "metadata": {},
   "source": [
    "`2.` 使用 numpy 的 **random.choice** 模拟从 `students` 数组中进行5次取样。喝咖啡学员样本的比例是多少？ "
   ]
  },
  {
   "cell_type": "code",
   "execution_count": 122,
   "metadata": {},
   "outputs": [
    {
     "data": {
      "text/plain": [
       "array([0, 1, 1, 1, 0])"
      ]
     },
     "execution_count": 122,
     "metadata": {},
     "output_type": "execute_result"
    }
   ],
   "source": [
    "# 先用choice选出5个\n",
    "# 注意在jupyter 中，seed的设置要和choice在一个代码框才生效\n",
    "# 所以再输入一遍\n",
    "np.random.seed(42)\n",
    "# 此处是用np.random.choice把学生进行抽样，（）为参数\n",
    "# 第1个参数是数据，就是students\n",
    "# 第2个参数是抽样的个数\n",
    "# 第3个参数replace默认= Ture，就是可以再次选中被取到的数\n",
    "# True的情况适合用在两个骰子。从1-6取，取到1之后还可以取到1\n",
    "# 学生这个例子要用False，因为一个学生被取走了，就不可以再取了\n",
    "# random.choice的官方文档\n",
    "# https://docs.scipy.org/doc/numpy/reference/generated/numpy.random.choice.html\n",
    "sample = np.random.choice(students,size = 5 ,replace = True)\n",
    "sample"
   ]
  },
  {
   "cell_type": "code",
   "execution_count": 123,
   "metadata": {},
   "outputs": [
    {
     "data": {
      "text/plain": [
       "(0.6, 0.24000000000000005, 0.48989794855663565)"
      ]
     },
     "execution_count": 123,
     "metadata": {},
     "output_type": "execute_result"
    }
   ],
   "source": [
    "# 计算抽样中的比率（方法1）\n",
    "p = sample.sum()/len(sample)\n",
    "v = sample.var()\n",
    "s = sample.std()\n",
    "p, v, s"
   ]
  },
  {
   "cell_type": "code",
   "execution_count": 68,
   "metadata": {},
   "outputs": [
    {
     "data": {
      "text/plain": [
       "0.6"
      ]
     },
     "execution_count": 68,
     "metadata": {},
     "output_type": "execute_result"
    }
   ],
   "source": [
    "# 计算抽样中的比率（方法2）\n",
    "# 更加通用的方法\n",
    "sum(sample == 1)/len(sample)"
   ]
  },
  {
   "cell_type": "markdown",
   "metadata": {},
   "source": [
    "`3`. 重复上述步骤，再另外获取10,000个比例值，其中每个样本的大小为5。把这些数值存储在 sample_props 变量中。"
   ]
  },
  {
   "cell_type": "code",
   "execution_count": 143,
   "metadata": {},
   "outputs": [
    {
     "name": "stdout",
     "output_type": "stream",
     "text": [
      "[0.6, 0.6, 0.8]\n",
      "0.7164\n",
      "0.033219040000000005\n",
      "0.18226091188184043\n"
     ]
    }
   ],
   "source": [
    "# 方法1（使用循环）\n",
    "np.random.seed(42)\n",
    "# 先定义空列表\n",
    "sample_props1_list = []\n",
    "# 通过循环把10000次循环的sample ratio存起来\n",
    "for i in range(10000):\n",
    "    sample1 = np.random.choice(students,size=5 ,replace=False)\n",
    "    ratio = sample1.sum() / len(sample)\n",
    "    sample_props1_list.append(ratio)\n",
    "\n",
    "# 将list转换为array计算 mean var std\n",
    "sample_props1 = np.array(sample_props1_list)\n",
    "print(sample_props1_list[:3])\n",
    "p1 = sample_props1.mean()\n",
    "print(p1)\n",
    "print(sample_props1.var())\n",
    "print(sample_props1.std())\n",
    "\n",
    "# 这里得出的标准差和方差比实际数据相差很大\n",
    "# 因为样本只有21个，不放回的话取5个变化会变小\n",
    "# 导致了var，std的变小"
   ]
  },
  {
   "cell_type": "code",
   "execution_count": 144,
   "metadata": {},
   "outputs": [
    {
     "data": {
      "text/plain": [
       "0.03322351020408163"
      ]
     },
     "execution_count": 144,
     "metadata": {},
     "output_type": "execute_result"
    }
   ],
   "source": [
    "# 另一种方法结算var（总体抽样分布方差）\n",
    "((sample_props1-students.mean())**2).mean()"
   ]
  },
  {
   "cell_type": "code",
   "execution_count": 156,
   "metadata": {},
   "outputs": [
    {
     "name": "stdout",
     "output_type": "stream",
     "text": [
      "[[0 1 1 1 0]\n",
      " [0 0 1 1 1]\n",
      " [0 1 0 1 0]]\n",
      "0.71396\n",
      "0.20422111839999993\n",
      "0.45190830751381406\n"
     ]
    }
   ],
   "source": [
    "# 方法2（直接使用choice）\n",
    "# 直接使用random方式生成10000次\n",
    "# 注意因为只有21个样本，所以抽取10000次每次5个如果不放回的话会报错\n",
    "# 因为每次拿出5个，拿10000次需要50000个样本\n",
    "# 默认参数是 replace=Ture，是放回的（具体的会在后面 ‘自助法’ 讲解）\n",
    "# 对于random.choice要在每个代买框里设定seed值才可以\n",
    "np.random.seed(42)\n",
    "sample_props = np.random.choice(students,size=(10000,5))\n",
    "\n",
    "# 注意形式不同\n",
    "print(sample_props[:3])\n",
    "p = sample_props.mean()\n",
    "print(p)\n",
    "print(sample_props.var())\n",
    "print(sample_props.std())\n",
    "\n",
    "# 采用放回的方式 var std 就比较接近实际值了"
   ]
  },
  {
   "cell_type": "markdown",
   "metadata": {},
   "source": [
    "`4`. 这10，000个比例值的平均比例值是多少？该值通常被称为 抽样分布均值 。"
   ]
  },
  {
   "cell_type": "code",
   "execution_count": 157,
   "metadata": {},
   "outputs": [
    {
     "data": {
      "text/plain": [
       "(0.71396, 0.7164)"
      ]
     },
     "execution_count": 157,
     "metadata": {},
     "output_type": "execute_result"
    }
   ],
   "source": [
    "# 后续顺序为按照 props， props1 展示\n",
    "sample_props.mean(), sample_props1.mean()"
   ]
  },
  {
   "cell_type": "markdown",
   "metadata": {},
   "source": [
    "`5.` 21个原始数据值的方差和标准差分别是多少？"
   ]
  },
  {
   "cell_type": "code",
   "execution_count": 158,
   "metadata": {},
   "outputs": [
    {
     "data": {
      "text/plain": [
       "(0.20408163265306126, 0.45175395145262565)"
      ]
     },
     "execution_count": 158,
     "metadata": {},
     "output_type": "execute_result"
    }
   ],
   "source": [
    "students.var(), students.std()"
   ]
  },
  {
   "cell_type": "markdown",
   "metadata": {},
   "source": [
    "`6.` 你获取的10000个比例值的方差和标准差分别是多少？"
   ]
  },
  {
   "cell_type": "code",
   "execution_count": 159,
   "metadata": {},
   "outputs": [
    {
     "data": {
      "text/plain": [
       "(0.20422111839999993, 0.033219040000000005)"
      ]
     },
     "execution_count": 159,
     "metadata": {},
     "output_type": "execute_result"
    }
   ],
   "source": [
    "sample_props.var(), sample_props1.var()"
   ]
  },
  {
   "cell_type": "code",
   "execution_count": 160,
   "metadata": {},
   "outputs": [
    {
     "data": {
      "text/plain": [
       "(0.45190830751381406, 0.18226091188184043)"
      ]
     },
     "execution_count": 160,
     "metadata": {},
     "output_type": "execute_result"
    }
   ],
   "source": [
    "sample_props.std(), sample_props1.std()"
   ]
  },
  {
   "cell_type": "markdown",
   "metadata": {},
   "source": [
    "`7.` 计算 p(1-p)，你的哪个答案与它最接近？\n",
    "\n",
    "`8.` 计算 p(1-p)/n，你的哪个答案与它最接近？"
   ]
  },
  {
   "cell_type": "code",
   "execution_count": 161,
   "metadata": {},
   "outputs": [
    {
     "data": {
      "text/plain": [
       "(0.20422111839999998, 0.04084422368)"
      ]
     },
     "execution_count": 161,
     "metadata": {},
     "output_type": "execute_result"
    }
   ],
   "source": [
    "p*(1-p), p*(1-p)/5"
   ]
  },
  {
   "cell_type": "code",
   "execution_count": 162,
   "metadata": {},
   "outputs": [
    {
     "data": {
      "text/plain": [
       "(0.20317104, 0.040634208)"
      ]
     },
     "execution_count": 162,
     "metadata": {},
     "output_type": "execute_result"
    }
   ],
   "source": [
    "p1*(1-p1), p1*(1-p1)/5"
   ]
  },
  {
   "cell_type": "markdown",
   "metadata": {},
   "source": [
    "问题列表：\n",
    "\n",
    "`1.` 计算出上述数组中喝咖啡的学生的比例，并将此值存储在变量 **p** 中。\n",
    "\n",
    "`2.` 使用 numpy 的 **random.choice** 模拟从 `students` 数组中进行5次取样。喝咖啡学员样本的比例是多少？ \n",
    "\n",
    "`3.` 重复上述步骤，再另外获取10,000个比例值，其中每个样本的大小为5。把这些数值存储在 `sample_props` 变量中。\n",
    "\n",
    "`4.` 这10，000个比例值的平均比例值是多少？该值通常被称为 **抽样分布均值** 。\n",
    "\n",
    "`5.` 21个原始数据值的方差和标准差分别是多少？\n",
    "\n",
    "`6.` 你获取的10000个比例值的方差和标准差分别是多少？\n",
    "\n",
    "`7.` 计算 p(1-p)，你的哪个答案与它最接近？ \n",
    "\n",
    "`8.` 计算 p(1-p)/n，你的哪个答案与它最接近？ \n",
    "\n",
    "`9.` 需要注意的是， `8.` 中的答案通常被称为 **抽样分布方差** 。如果将第一个样本大小更改为20，最终的抽样分布方差会发生什么变化？ 模拟并重新计算 `6.` 与 `8.` 的答案，检验一下你之前发现的一致性是否仍然成立。"
   ]
  },
  {
   "cell_type": "code",
   "execution_count": 163,
   "metadata": {},
   "outputs": [
    {
     "name": "stdout",
     "output_type": "stream",
     "text": [
      "[[0 1 1 1 0 0 0 1 1 1 0 1 0 1 0 0 1 1 0 0]\n",
      " [1 1 1 1 0 1 1 1 1 1 1 1 1 1 0 0 0 0 1 1]\n",
      " [1 1 0 0 0 1 1 0 1 0 1 1 1 1 1 1 0 1 0 1]]\n",
      "0.71509\n",
      "0.20373629190000003\n",
      "0.4513715674474856\n"
     ]
    }
   ],
   "source": [
    "# 更新方法2，进行20次抽样（直接使用choice）\n",
    "np.random.seed(42)\n",
    "sample_props2 = np.random.choice(students,size=(10000,20))\n",
    "\n",
    "print(sample_props2[:3])\n",
    "p2 = sample_props2.mean()\n",
    "print(p2)\n",
    "print(sample_props2.var())\n",
    "print(sample_props2.std())\n",
    "\n",
    "# 20次抽样就更接近实际值了"
   ]
  },
  {
   "cell_type": "code",
   "execution_count": 164,
   "metadata": {},
   "outputs": [
    {
     "data": {
      "text/plain": [
       "(0.2037362919, 0.010186814595)"
      ]
     },
     "execution_count": 164,
     "metadata": {},
     "output_type": "execute_result"
    }
   ],
   "source": [
    "##Compare your variance values as computed in 6 and 8, \n",
    "##but with your sample of 20 values\n",
    "p2*(1-p2), p2*(1-p2)/20"
   ]
  },
  {
   "cell_type": "markdown",
   "metadata": {},
   "source": [
    "`10.` 最后，从样本数量为5的样本和样本数量为20的样本中进行10000次取样，然后绘制一个直方图。这些分布中的每一个都是一个样本分布。 一个是样本量5的比例，另一个是样本量20的样本分布。"
   ]
  }
 ],
 "metadata": {
  "kernelspec": {
   "display_name": "Python 3",
   "language": "python",
   "name": "python3"
  },
  "language_info": {
   "codemirror_mode": {
    "name": "ipython",
    "version": 3
   },
   "file_extension": ".py",
   "mimetype": "text/x-python",
   "name": "python",
   "nbconvert_exporter": "python",
   "pygments_lexer": "ipython3",
   "version": "3.6.7"
  }
 },
 "nbformat": 4,
 "nbformat_minor": 2
}
