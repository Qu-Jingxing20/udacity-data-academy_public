{
 "cells": [
  {
   "cell_type": "markdown",
   "metadata": {},
   "source": [
    "**重点求助：**\n",
    "\n",
    "经过2天近100次的调参测试，已经开始怀疑人生，请老师指点，调参记录在后面两个“ compare ” 的markdown框，和后面的代码。请问：\n",
    "\n",
    "- Q1 在compare1 的参数中，其实已经完成问题，调参后数值更好。但在compare2 中配置的参数集合，包含了compare1的集合，但是结果却没有comp1好，这是为什么？（tol已经设定的很小了，不应该是tol达到要求停止的原因）\n",
    "\n",
    "- Q2 观察了下，comp1和comp2的 max_iter 一个是100，一个是10，可能是最大差别。除了 Q1 的疑问，这里想请教下，向逻辑回归这样分别在凸函数上求最优的情况，是不是不用对这个参数调参。因为肯定是 iter 次数越多，越接近收敛值对么？（那么为什么 comp2 会到 10 就停止？而且通过其他的测试也发现，最优解没有用到最大的 iter，逻辑上没想通。）\n",
    "\n",
    "- Q3 n_jobs 设置成 2 为什么没有提高运算效率，而且 cpu 负载不大。请问在类似这种情况的时候怎么配置充分发挥多核cpu的功能，缩短等待时间。\n",
    "\n",
    "- Q4 再后面的 random none 和 random 42 是恢复 v2 版本的计算（虽然使用的是f1score，先不管他），为什么一个 random 设置的区别，结果居然能差这么多？ 那么怎么在实验中避免这个 random 带来的影响呢？\n",
    "\n",
    "憋了2天实在是比较晕，请老师指点，非常感谢。\n",
    "（ps：反馈意见在后面 v4 updated 中有反馈。py3.6，所有包为新版本）\n"
   ]
  },
  {
   "cell_type": "markdown",
   "metadata": {},
   "source": [
    "# 机器学习纳米学位\n",
    "## 监督学习\n",
    "## 项目2: 为*CharityML*寻找捐献者"
   ]
  },
  {
   "cell_type": "markdown",
   "metadata": {},
   "source": [
    "---\n",
    "\n",
    "v4 updated\n",
    "\n",
    "评审老师好：\n",
    "非常感谢详细的评审，已经修改，请审阅。内容不多，反馈如下（代码修改还是在后面cell中）：\n",
    "\n",
    "**Q1：学员能够用清晰简洁的话来向一个没有机器学习或任何其他技术背景的人来解释最优模型的工作原理。**\n",
    "更新对于 Logistic Regression 算法的解释（v4报告中）\n",
    "\n",
    "1.基于线性回归\n",
    "\n",
    "转换：逻辑回归是基于线性回归，逻辑回归和线性回归的区别，是将数据中的分类信息做了转换，转换成了线性回归可以计算的稀疏独热数据。\n",
    "\n",
    "计算：使用sigmond函数将输出转换为[0,1]区间。针对区间中的取值0到0.5为分类0，0.5到1为分类1。\n",
    "\n",
    "输出：这样的话对于每一个数据的数据，都可以得出是0或1的分类。\n",
    "\n",
    "2.线性回归求解\n",
    "\n",
    "那么线性回归如何求解呢？首先我们对训练数据中的x作出预测（y=bX），对于这个预测的误差，我们用误差函数进行衡量。那么问题就转化为怎样使误差函数的结果最小化的问题。\n",
    "\n",
    "可以使用梯度下降的方法，对误差函数求导，求导后的结果就是函数下降最快的方向。通过多次迭代完成趋于最小值（停止条件为达到次数或者两次的差够小）。\n",
    "\n",
    "3.代码实现\n",
    "\n",
    "在sklearn中，逻辑回归是：sklearn.linear_model.LogisticRegression。如果是线性回归要使用SGD的话：sklearn.linear_model.SGDClassifier，[/参考帖子/](https://datascience.stackexchange.com/questions/6676/scikit-learn-getting-sgdclassifier-to-predict-as-well-as-a-logistic-regression)\n",
    "\n",
    "4.评判方法\n",
    "\n",
    "代码实现使用的是训练集和验证集（占所有数据的80%），最后将完成的算法应用在测试集上进行评判。评判的方式是使用fbeta得分。\n",
    "\n",
    "**Q2\\Q3：学员能够用清晰简洁的话来向一个没有机器学习或任何其他技术背景的人来解释最优模型的工作原理。**\n",
    "这里已经修改，求助内容已经写在最前面的框中了。\n",
    "\n",
    "---\n",
    "\n",
    "v3 updated\n",
    "\n",
    "评审老师好：\n",
    "非常感谢详细的评审，已经修改，请审阅。\n",
    "另外，还有个额外问题：\n",
    "- 对于 fbeta 中的 beta值，请问怎么根据场景来确定。在实际工作中，需要进行网格搜索多尝试几个么？还是数据集定义了使用beta多少就是多少？（实际竞赛时会指定beta么？）\n",
    "\n",
    "---\n",
    "\n",
    "v2 updated\n",
    "\n",
    "评审老师好：\n",
    "已经按照反馈完成修改，请审阅，几点说明如下：\n",
    "- 第一版的代码，不知道为什么出了乌龙，本来已经用了LabelEncoder做了income的处理了，跑着也不报错。已经又检查了一遍，并提供html版本。后续也不会报错shape不对。\n",
    "- randomstates全部添加了，百分比，傻白甜预测也都做了修改。\n",
    "- 提供的资料特别好，感谢：\n",
    "    - https://cloud.tencent.com/developer/article/1064119 机器学习场景\n",
    "    - https://scikit-learn.org/stable/modules/feature_selection.html feature selection\n",
    "    - https://www.hackingnote.com/en/machine-learning/algorithms-pros-and-cons pro and cons\n",
    "\n",
    "---\n",
    "\n",
    "v1\n",
    "\n",
    "评审老师好：\n",
    "辛苦评审老师审阅我的项目。在做的过程中遇到一些问题请教下：\n",
    "- （Q）：数据形状经过ln转换后呈现了正态图形，但0那里的数量还是很高，用不用回过来对0的数据做处理（比如丢弃）？反馈：不用处理。\n",
    "- （Q）：项目的最后，我做了逻辑回归clf和best_clf的结果对比，发现best_clf泛化性能更好。请问在实际工作中，可以这样防止过拟合和欠拟合么，还是过拟合和欠拟合是模型的特征，要根据分析目的选择更加重要。反馈：使用GridSearchCV\n",
    "- Q：项目后面有一部分是寻找最佳5个feature进行预测和全feature预测的比较。还让比较了自己的想法和数据计算结果的区别。请问下这个选择feature的过程自己的直觉在实际工作中重要么，因为毕竟可以计算出排名，是不是就老实计算就可以了，有考直觉解决的案例么？反馈：计算特征重要性可以帮助我们更好地理解问题，并且避免过拟合。\n",
    "- Q：对于监督学习的模型选择问题，查了些资料还是比较费劲，感觉选择合适的模型非常重要。请问有没有比较系统深入的资料推荐。\n",
    "\n",
    "非常感谢，\n",
    "老孟"
   ]
  },
  {
   "cell_type": "markdown",
   "metadata": {},
   "source": [
    "欢迎来到机器学习工程师纳米学位的第二个项目！在此文件中，有些示例代码已经提供给你，但你还需要实现更多的功能让项目成功运行。除非有明确要求，你无须修改任何已给出的代码。以**'练习'**开始的标题表示接下来的代码部分中有你必须要实现的功能。每一部分都会有详细的指导，需要实现的部分也会在注释中以'TODO'标出。请仔细阅读所有的提示！\n",
    "\n",
    "除了实现代码外，你还必须回答一些与项目和你的实现有关的问题。每一个需要你回答的问题都会以**'问题 X'**为标题。请仔细阅读每个问题，并且在问题后的**'回答'**文字框中写出完整的答案。我们将根据你对问题的回答和撰写代码所实现的功能来对你提交的项目进行评分。\n",
    ">**提示：**Code 和 Markdown 区域可通过**Shift + Enter**快捷键运行。此外，Markdown可以通过双击进入编辑模式。"
   ]
  },
  {
   "cell_type": "markdown",
   "metadata": {},
   "source": [
    "## 开始\n",
    "\n",
    "在这个项目中，你将使用1994年美国人口普查收集的数据，选用几个监督学习算法以准确地建模被调查者的收入。然后，你将根据初步结果从中选择出最佳的候选算法，并进一步优化该算法以最好地建模这些数据。你的目标是建立一个能够准确地预测被调查者年收入是否超过50000美元的模型。这种类型的任务会出现在那些依赖于捐款而存在的非营利性组织。了解人群的收入情况可以帮助一个非营利性的机构更好地了解他们要多大的捐赠，或是否他们应该接触这些人。虽然我们很难直接从公开的资源中推断出一个人的一般收入阶层，但是我们可以（也正是我们将要做的）从其他的一些公开的可获得的资源中获得一些特征从而推断出该值。\n",
    "\n",
    "这个项目的数据集来自[UCI机器学习知识库](https://archive.ics.uci.edu/ml/datasets/Census+Income)。这个数据集是由Ron Kohavi和Barry Becker在发表文章_\"Scaling Up the Accuracy of Naive-Bayes Classifiers: A Decision-Tree Hybrid\"_之后捐赠的，你可以在Ron Kohavi提供的[在线版本](https://www.aaai.org/Papers/KDD/1996/KDD96-033.pdf)中找到这个文章。我们在这里探索的数据集相比于原有的数据集有一些小小的改变，比如说移除了特征`'fnlwgt'` 以及一些遗失的或者是格式不正确的记录。"
   ]
  },
  {
   "cell_type": "markdown",
   "metadata": {},
   "source": [
    "----\n",
    "## 探索数据\n",
    "运行下面的代码单元以载入需要的Python库并导入人口普查数据。注意数据集的最后一列`'income'`将是我们需要预测的列（表示被调查者的年收入会大于或者是最多50,000美元），人口普查数据中的每一列都将是关于被调查者的特征。"
   ]
  },
  {
   "cell_type": "code",
   "execution_count": 1,
   "metadata": {
    "scrolled": true
   },
   "outputs": [
    {
     "data": {
      "text/html": [
       "<div>\n",
       "<style scoped>\n",
       "    .dataframe tbody tr th:only-of-type {\n",
       "        vertical-align: middle;\n",
       "    }\n",
       "\n",
       "    .dataframe tbody tr th {\n",
       "        vertical-align: top;\n",
       "    }\n",
       "\n",
       "    .dataframe thead th {\n",
       "        text-align: right;\n",
       "    }\n",
       "</style>\n",
       "<table border=\"1\" class=\"dataframe\">\n",
       "  <thead>\n",
       "    <tr style=\"text-align: right;\">\n",
       "      <th></th>\n",
       "      <th>age</th>\n",
       "      <th>workclass</th>\n",
       "      <th>education_level</th>\n",
       "      <th>education-num</th>\n",
       "      <th>marital-status</th>\n",
       "      <th>occupation</th>\n",
       "      <th>relationship</th>\n",
       "      <th>race</th>\n",
       "      <th>sex</th>\n",
       "      <th>capital-gain</th>\n",
       "      <th>capital-loss</th>\n",
       "      <th>hours-per-week</th>\n",
       "      <th>native-country</th>\n",
       "      <th>income</th>\n",
       "    </tr>\n",
       "  </thead>\n",
       "  <tbody>\n",
       "    <tr>\n",
       "      <th>0</th>\n",
       "      <td>39</td>\n",
       "      <td>State-gov</td>\n",
       "      <td>Bachelors</td>\n",
       "      <td>13.0</td>\n",
       "      <td>Never-married</td>\n",
       "      <td>Adm-clerical</td>\n",
       "      <td>Not-in-family</td>\n",
       "      <td>White</td>\n",
       "      <td>Male</td>\n",
       "      <td>2174.0</td>\n",
       "      <td>0.0</td>\n",
       "      <td>40.0</td>\n",
       "      <td>United-States</td>\n",
       "      <td>&lt;=50K</td>\n",
       "    </tr>\n",
       "  </tbody>\n",
       "</table>\n",
       "</div>"
      ],
      "text/plain": [
       "   age   workclass education_level  education-num  marital-status  \\\n",
       "0   39   State-gov       Bachelors           13.0   Never-married   \n",
       "\n",
       "      occupation    relationship    race    sex  capital-gain  capital-loss  \\\n",
       "0   Adm-clerical   Not-in-family   White   Male        2174.0           0.0   \n",
       "\n",
       "   hours-per-week  native-country income  \n",
       "0            40.0   United-States  <=50K  "
      ]
     },
     "execution_count": 1,
     "metadata": {},
     "output_type": "execute_result"
    }
   ],
   "source": [
    "# 为这个项目导入需要的库\n",
    "import numpy as np\n",
    "import pandas as pd\n",
    "from time import time\n",
    "from IPython.display import display # 允许为DataFrame使用display()\n",
    "\n",
    "# 导入附加的可视化代码visuals.py\n",
    "import visuals as vs\n",
    "\n",
    "# 为notebook提供更加漂亮的可视化\n",
    "%matplotlib inline\n",
    "\n",
    "# 导入人口普查数据\n",
    "data = pd.read_csv(\"census.csv\")\n",
    "\n",
    "# 成功 - 显示第一条记录\n",
    "data.head(1)"
   ]
  },
  {
   "cell_type": "markdown",
   "metadata": {},
   "source": [
    "### 练习：数据探索\n",
    "首先我们对数据集进行一个粗略的探索，我们将看看每一个类别里会有多少被调查者？并且告诉我们这些里面多大比例是年收入大于50,000美元的。在下面的代码单元中，你将需要计算以下量：\n",
    "\n",
    "- 总的记录数量，`'n_records'`\n",
    "- 年收入大于50,000美元的人数，`'n_greater_50k'`.\n",
    "- 年收入最多为50,000美元的人数 `'n_at_most_50k'`.\n",
    "- 年收入大于50,000美元的人所占的比例， `'greater_percent'`.\n",
    "\n",
    "**提示：** 您可能需要查看上面的生成的表，以了解`'income'`条目的格式是什么样的。 "
   ]
  },
  {
   "cell_type": "code",
   "execution_count": 3,
   "metadata": {},
   "outputs": [
    {
     "name": "stdout",
     "output_type": "stream",
     "text": [
      "Total number of records: 45222\n",
      "Individuals making more than $50,000: 11208\n",
      "Individuals making at most $50,000: 34014\n",
      "Percentage of individuals making more than $50,000: 24.78%\n"
     ]
    }
   ],
   "source": [
    "# TODO：总的记录数\n",
    "n_records = data.shape[0]\n",
    "\n",
    "# TODO：被调查者的收入大于$50,000的人数\n",
    "n_greater_50k = data[data.income == '>50K'].shape[0]\n",
    "\n",
    "# TODO：被调查者的收入最多为$50,000的人数\n",
    "n_at_most_50k = data[data.income == '<=50K'].shape[0]\n",
    "\n",
    "# TODO：被调查者收入大于$50,000所占的比例\n",
    "greater_percent = 100 * n_greater_50k / n_records\n",
    "\n",
    "# 打印结果\n",
    "print (\"Total number of records: {}\".format(n_records))\n",
    "print (\"Individuals making more than $50,000: {}\".format(n_greater_50k))\n",
    "print (\"Individuals making at most $50,000: {}\".format(n_at_most_50k))\n",
    "# print (\"Percentage of individuals making more than $50,000: {:.2f}\".format(greater_percent))\n",
    "print (\"Percentage of individuals making more than $50,000: {:.2f}%\".format(greater_percent))"
   ]
  },
  {
   "cell_type": "markdown",
   "metadata": {},
   "source": [
    "----\n",
    "## 准备数据\n",
    "在数据能够被作为输入提供给机器学习算法之前，它经常需要被清洗，格式化，和重新组织 - 这通常被叫做**预处理**。幸运的是，对于这个数据集，没有我们必须处理的无效或丢失的条目，然而，由于某一些特征存在的特性我们必须进行一定的调整。这个预处理都可以极大地帮助我们提升几乎所有的学习算法的结果和预测能力。\n",
    "\n",
    "### 获得特征和标签\n",
    "`income` 列是我们需要的标签，记录一个人的年收入是否高于50K。 因此我们应该把他从数据中剥离出来，单独存放。"
   ]
  },
  {
   "cell_type": "code",
   "execution_count": 4,
   "metadata": {},
   "outputs": [],
   "source": [
    "# 将数据切分成特征和对应的标签\n",
    "income_raw = data['income']\n",
    "features_raw = data.drop('income', axis = 1)"
   ]
  },
  {
   "cell_type": "markdown",
   "metadata": {},
   "source": [
    "### 转换倾斜的连续特征\n",
    "\n",
    "一个数据集有时可能包含至少一个靠近某个数字的特征，但有时也会有一些相对来说存在极大值或者极小值的不平凡分布的的特征。算法对这种分布的数据会十分敏感，并且如果这种数据没有能够很好地规一化处理会使得算法表现不佳。在人口普查数据集的两个特征符合这个描述：'`capital-gain'`和`'capital-loss'`。\n",
    "\n",
    "运行下面的代码单元以创建一个关于这两个特征的条形图。请注意当前的值的范围和它们是如何分布的。"
   ]
  },
  {
   "cell_type": "code",
   "execution_count": 5,
   "metadata": {},
   "outputs": [
    {
     "data": {
      "image/png": "[encoded data removed]",
      "text/plain": [
       "<Figure size 792x360 with 2 Axes>"
      ]
     },
     "metadata": {
      "needs_background": "light"
     },
     "output_type": "display_data"
    }
   ],
   "source": [
    "# 可视化 'capital-gain'和'capital-loss' 两个特征\n",
    "vs.distribution(features_raw)"
   ]
  },
  {
   "cell_type": "markdown",
   "metadata": {},
   "source": [
    "对于高度倾斜分布的特征如`'capital-gain'`和`'capital-loss'`，常见的做法是对数据施加一个<a href=\"https://en.wikipedia.org/wiki/Data_transformation_(statistics)\">对数转换</a>，将数据转换成对数，这样非常大和非常小的值不会对学习算法产生负面的影响。并且使用对数变换显著降低了由于异常值所造成的数据范围异常。但是在应用这个变换时必须小心：因为0的对数是没有定义的，所以我们必须先将数据处理成一个比0稍微大一点的数以成功完成对数转换。\n",
    "\n",
    "运行下面的代码单元来执行数据的转换和可视化结果。再次，注意值的范围和它们是如何分布的。"
   ]
  },
  {
   "cell_type": "code",
   "execution_count": 6,
   "metadata": {},
   "outputs": [
    {
     "data": {
      "image/png": "[encoded data removed]",
      "text/plain": [
       "<Figure size 792x360 with 2 Axes>"
      ]
     },
     "metadata": {
      "needs_background": "light"
     },
     "output_type": "display_data"
    }
   ],
   "source": [
    "# 对于倾斜的数据使用Log转换\n",
    "skewed = ['capital-gain', 'capital-loss']\n",
    "features_raw[skewed] = data[skewed].apply(lambda x: np.log(x + 1))\n",
    "\n",
    "# 可视化对数转换后 'capital-gain'和'capital-loss' 两个特征\n",
    "vs.distribution(features_raw, transformed = True)\n",
    "# （Q）转换后因为0的数值还是很高，用不用回过来对0的数据做处理"
   ]
  },
  {
   "cell_type": "markdown",
   "metadata": {},
   "source": [
    "### 规一化数字特征\n",
    "除了对于高度倾斜的特征施加转换，对数值特征施加一些形式的缩放通常会是一个好的习惯。在数据上面施加一个缩放并不会改变数据分布的形式（比如上面说的'capital-gain' or 'capital-loss'）；但是，规一化保证了每一个特征在使用监督学习器的时候能够被平等的对待。注意一旦使用了缩放，观察数据的原始形式不再具有它本来的意义了，就像下面的例子展示的。\n",
    "\n",
    "运行下面的代码单元来规一化每一个数字特征。我们将使用[`sklearn.preprocessing.MinMaxScaler`](http://scikit-learn.org/stable/modules/generated/sklearn.preprocessing.MinMaxScaler.html)来完成这个任务。"
   ]
  },
  {
   "cell_type": "code",
   "execution_count": 7,
   "metadata": {},
   "outputs": [
    {
     "data": {
      "text/html": [
       "<div>\n",
       "<style scoped>\n",
       "    .dataframe tbody tr th:only-of-type {\n",
       "        vertical-align: middle;\n",
       "    }\n",
       "\n",
       "    .dataframe tbody tr th {\n",
       "        vertical-align: top;\n",
       "    }\n",
       "\n",
       "    .dataframe thead th {\n",
       "        text-align: right;\n",
       "    }\n",
       "</style>\n",
       "<table border=\"1\" class=\"dataframe\">\n",
       "  <thead>\n",
       "    <tr style=\"text-align: right;\">\n",
       "      <th></th>\n",
       "      <th>age</th>\n",
       "      <th>workclass</th>\n",
       "      <th>education_level</th>\n",
       "      <th>education-num</th>\n",
       "      <th>marital-status</th>\n",
       "      <th>occupation</th>\n",
       "      <th>relationship</th>\n",
       "      <th>race</th>\n",
       "      <th>sex</th>\n",
       "      <th>capital-gain</th>\n",
       "      <th>capital-loss</th>\n",
       "      <th>hours-per-week</th>\n",
       "      <th>native-country</th>\n",
       "    </tr>\n",
       "  </thead>\n",
       "  <tbody>\n",
       "    <tr>\n",
       "      <th>0</th>\n",
       "      <td>0.30137</td>\n",
       "      <td>State-gov</td>\n",
       "      <td>Bachelors</td>\n",
       "      <td>0.8</td>\n",
       "      <td>Never-married</td>\n",
       "      <td>Adm-clerical</td>\n",
       "      <td>Not-in-family</td>\n",
       "      <td>White</td>\n",
       "      <td>Male</td>\n",
       "      <td>0.02174</td>\n",
       "      <td>0.0</td>\n",
       "      <td>0.397959</td>\n",
       "      <td>United-States</td>\n",
       "    </tr>\n",
       "  </tbody>\n",
       "</table>\n",
       "</div>"
      ],
      "text/plain": [
       "       age   workclass education_level  education-num  marital-status  \\\n",
       "0  0.30137   State-gov       Bachelors            0.8   Never-married   \n",
       "\n",
       "      occupation    relationship    race    sex  capital-gain  capital-loss  \\\n",
       "0   Adm-clerical   Not-in-family   White   Male       0.02174           0.0   \n",
       "\n",
       "   hours-per-week  native-country  \n",
       "0        0.397959   United-States  "
      ]
     },
     "execution_count": 7,
     "metadata": {},
     "output_type": "execute_result"
    }
   ],
   "source": [
    "import warnings\n",
    "warnings.filterwarnings('ignore')\n",
    "\n",
    "# 上面是消除所有 warnings的方法，在最后提交时候应该加上\n",
    "# 之前的话看warning还是能发现些问题的\n",
    "# https://stackoverflow.com/questions/9031783/hide-all-warnings-in-ipython\n",
    "\n",
    "from sklearn.preprocessing import MinMaxScaler\n",
    "\n",
    "# 初始化一个 scaler，并将它施加到特征上\n",
    "scaler = MinMaxScaler()\n",
    "numerical = ['age', 'education-num', 'capital-gain', 'capital-loss', 'hours-per-week']\n",
    "features_raw[numerical] = scaler.fit_transform(data[numerical])\n",
    "\n",
    "# 显示一个经过缩放的样例记录\n",
    "features_raw.head(1)"
   ]
  },
  {
   "cell_type": "markdown",
   "metadata": {},
   "source": [
    "### 练习：数据预处理\n",
    "\n",
    "从上面的**数据探索**中的表中，我们可以看到有几个属性的每一条记录都是非数字的。通常情况下，学习算法期望输入是数字的，这要求非数字的特征（称为类别变量）被转换。转换类别变量的一种流行的方法是使用**独热编码**方案。独热编码为每一个非数字特征的每一个可能的类别创建一个_“虚拟”_变量。例如，假设`someFeature`有三个可能的取值`A`，`B`或者`C`，。我们将把这个特征编码成`someFeature_A`, `someFeature_B`和`someFeature_C`.\n",
    "\n",
    "| 特征X |                    | 特征X_A | 特征X_B | 特征X_C |\n",
    "| :-: |                            | :-: | :-: | :-: |\n",
    "|  B  |  | 0 | 1 | 0 |\n",
    "|  C  | ----> 独热编码 ----> | 0 | 0 | 1 |\n",
    "|  A  |  | 1 | 0 | 0 |\n",
    "\n",
    "此外，对于非数字的特征，我们需要将非数字的标签`'income'`转换成数值以保证学习算法能够正常工作。因为这个标签只有两种可能的类别（\"<=50K\"和\">50K\"），我们不必要使用独热编码，可以直接将他们编码分别成两个类`0`和`1`，在下面的代码单元中你将实现以下功能：\n",
    " - 使用[`pandas.get_dummies()`](http://pandas.pydata.org/pandas-docs/stable/generated/pandas.get_dummies.html?highlight=get_dummies#pandas.get_dummies)对`'features_raw'`数据来施加一个独热编码。\n",
    " - 将目标标签`'income_raw'`转换成数字项。\n",
    "   - 将\"<=50K\"转换成`0`；将\">50K\"转换成`1`。"
   ]
  },
  {
   "cell_type": "code",
   "execution_count": 8,
   "metadata": {
    "scrolled": true
   },
   "outputs": [
    {
     "name": "stdout",
     "output_type": "stream",
     "text": [
      "103 total features after one-hot encoding.\n",
      "['age', 'education-num', 'capital-gain', 'capital-loss', 'hours-per-week', 'workclass_ Federal-gov', 'workclass_ Local-gov', 'workclass_ Private', 'workclass_ Self-emp-inc', 'workclass_ Self-emp-not-inc', 'workclass_ State-gov', 'workclass_ Without-pay', 'education_level_ 10th', 'education_level_ 11th', 'education_level_ 12th', 'education_level_ 1st-4th', 'education_level_ 5th-6th', 'education_level_ 7th-8th', 'education_level_ 9th', 'education_level_ Assoc-acdm', 'education_level_ Assoc-voc', 'education_level_ Bachelors', 'education_level_ Doctorate', 'education_level_ HS-grad', 'education_level_ Masters', 'education_level_ Preschool', 'education_level_ Prof-school', 'education_level_ Some-college', 'marital-status_ Divorced', 'marital-status_ Married-AF-spouse', 'marital-status_ Married-civ-spouse', 'marital-status_ Married-spouse-absent', 'marital-status_ Never-married', 'marital-status_ Separated', 'marital-status_ Widowed', 'occupation_ Adm-clerical', 'occupation_ Armed-Forces', 'occupation_ Craft-repair', 'occupation_ Exec-managerial', 'occupation_ Farming-fishing', 'occupation_ Handlers-cleaners', 'occupation_ Machine-op-inspct', 'occupation_ Other-service', 'occupation_ Priv-house-serv', 'occupation_ Prof-specialty', 'occupation_ Protective-serv', 'occupation_ Sales', 'occupation_ Tech-support', 'occupation_ Transport-moving', 'relationship_ Husband', 'relationship_ Not-in-family', 'relationship_ Other-relative', 'relationship_ Own-child', 'relationship_ Unmarried', 'relationship_ Wife', 'race_ Amer-Indian-Eskimo', 'race_ Asian-Pac-Islander', 'race_ Black', 'race_ Other', 'race_ White', 'sex_ Female', 'sex_ Male', 'native-country_ Cambodia', 'native-country_ Canada', 'native-country_ China', 'native-country_ Columbia', 'native-country_ Cuba', 'native-country_ Dominican-Republic', 'native-country_ Ecuador', 'native-country_ El-Salvador', 'native-country_ England', 'native-country_ France', 'native-country_ Germany', 'native-country_ Greece', 'native-country_ Guatemala', 'native-country_ Haiti', 'native-country_ Holand-Netherlands', 'native-country_ Honduras', 'native-country_ Hong', 'native-country_ Hungary', 'native-country_ India', 'native-country_ Iran', 'native-country_ Ireland', 'native-country_ Italy', 'native-country_ Jamaica', 'native-country_ Japan', 'native-country_ Laos', 'native-country_ Mexico', 'native-country_ Nicaragua', 'native-country_ Outlying-US(Guam-USVI-etc)', 'native-country_ Peru', 'native-country_ Philippines', 'native-country_ Poland', 'native-country_ Portugal', 'native-country_ Puerto-Rico', 'native-country_ Scotland', 'native-country_ South', 'native-country_ Taiwan', 'native-country_ Thailand', 'native-country_ Trinadad&Tobago', 'native-country_ United-States', 'native-country_ Vietnam', 'native-country_ Yugoslavia']\n"
     ]
    }
   ],
   "source": [
    "from sklearn.preprocessing import LabelEncoder\n",
    "\n",
    "# TODO：使用pandas.get_dummies()对'features_raw'数据进行独热编码\n",
    "features = pd.get_dummies(features_raw)\n",
    "\n",
    "# TODO：将'income_raw'编码成数字值\n",
    "# 光使用get_dummies会建立两列，但y作为结果只需要一列\n",
    "# 需要删掉一列，保留 >= 50 等于1的列（与预测方向一致）\n",
    "# 这种情况无法处理income为3类的情况，drop不用，直接使用后面的LabelEncoder\n",
    "# income1 = pd.get_dummies(income_raw)\n",
    "# income2 = income1['>50K']\n",
    "# 反馈建议的办法：income = [0 if x == '<=50K' else 1 for x in income_raw]\n",
    "\n",
    "# 也可以使用labelencoder处理\n",
    "# 法三、使用LabelEncoder() \n",
    "# LabelBinarizer()据说也可以，后续研究\n",
    "income =pd.Series(LabelEncoder().\\\n",
    "                  fit_transform(income_raw).reshape(income_raw.shape[0]))\n",
    "#print(income.head(n=23))\n",
    "\n",
    "# 打印经过独热编码之后的特征数量\n",
    "encoded = list(features.columns)\n",
    "print (\"{} total features after one-hot encoding.\".format(len(encoded)))\n",
    "\n",
    "# 移除下面一行的注释以观察编码的特征名字\n",
    "print(encoded)"
   ]
  },
  {
   "cell_type": "markdown",
   "metadata": {},
   "source": [
    "### 混洗和切分数据\n",
    "现在所有的 _类别变量_ 已被转换成数值特征，而且所有的数值特征已被规一化。和我们一般情况下做的一样，我们现在将数据（包括特征和它们的标签）切分成训练和测试集。其中80%的数据将用于训练和20%的数据用于测试。然后再进一步把训练数据分为训练集和验证集，用来选择和优化模型。\n",
    "\n",
    "运行下面的代码单元来完成切分。"
   ]
  },
  {
   "cell_type": "code",
   "execution_count": 26,
   "metadata": {},
   "outputs": [
    {
     "name": "stdout",
     "output_type": "stream",
     "text": [
      "Training set has 28941 samples.\n",
      "Validation set has 7236 samples.\n",
      "Testing set has 9045 samples.\n"
     ]
    }
   ],
   "source": [
    "# 导入 train_test_split\n",
    "from sklearn.model_selection import train_test_split\n",
    "\n",
    "# 将'features'和'income'数据切分成训练集和测试集\n",
    "X_train, X_test, y_train, y_test = train_test_split(features, income, test_size = 0.2, random_state = 0,\n",
    "                                                    stratify = income)\n",
    "# 将'X_train'和'y_train'进一步切分为训练集和验证集\n",
    "X_train, X_val, y_train, y_val = train_test_split(X_train, y_train, test_size=0.2, random_state=0,\n",
    "                                                    stratify = y_train)\n",
    "\n",
    "# 显示切分的结果\n",
    "print (\"Training set has {} samples.\".format(X_train.shape[0]))\n",
    "print (\"Validation set has {} samples.\".format(X_val.shape[0]))\n",
    "print (\"Testing set has {} samples.\".format(X_test.shape[0]))"
   ]
  },
  {
   "cell_type": "markdown",
   "metadata": {},
   "source": [
    "----\n",
    "## 评价模型性能\n",
    "在这一部分中，我们将尝试四种不同的算法，并确定哪一个能够最好地建模数据。四种算法包含一个*天真的预测器* 和三个你选择的监督学习器。"
   ]
  },
  {
   "cell_type": "markdown",
   "metadata": {},
   "source": [
    "### 评价方法和朴素的预测器\n",
    "*CharityML*通过他们的研究人员知道被调查者的年收入大于\\$50,000最有可能向他们捐款。因为这个原因*CharityML*对于准确预测谁能够获得\\$50,000以上收入尤其有兴趣。这样看起来使用**准确率**作为评价模型的标准是合适的。另外，把*没有*收入大于\\$50,000的人识别成年收入大于\\$50,000对于*CharityML*来说是有害的，因为他想要找到的是有意愿捐款的用户。这样，我们期望的模型具有准确预测那些能够年收入大于\\$50,000的能力比模型去**查全**这些被调查者*更重要*。我们能够使用**F-beta score**作为评价指标，这样能够同时考虑查准率和查全率：\n",
    "\n",
    "$$ F_{\\beta} = (1 + \\beta^2) \\cdot \\frac{precision \\cdot recall}{\\left( \\beta^2 \\cdot precision \\right) + recall} $$\n",
    "\n",
    "\n",
    "尤其是，当 $\\beta = 0.5$ 的时候更多的强调查准率，这叫做**F$_{0.5}$ score** （或者为了简单叫做F-score）。"
   ]
  },
  {
   "cell_type": "markdown",
   "metadata": {},
   "source": [
    "### 问题 1 - 天真的预测器的性能\n",
    "\n",
    "通过查看收入超过和不超过 \\$50,000 的人数，我们能发现多数被调查者年收入没有超过 \\$50,000。如果我们简单地预测说*“这个人的收入没有超过 \\$50,000”*，我们就可以得到一个 准确率超过 50% 的预测。这样我们甚至不用看数据就能做到一个准确率超过 50%。这样一个预测被称作是天真的。通常对数据使用一个*天真的预测器*是十分重要的，这样能够帮助建立一个模型表现是否好的基准。 使用下面的代码单元计算天真的预测器的相关性能。将你的计算结果赋值给`'accuracy'`, `‘precision’`, `‘recall’` 和 `'fscore'`，这些值会在后面被使用，请注意这里不能使用scikit-learn，你需要根据公式自己实现相关计算。\n",
    "\n",
    "*如果我们选择一个无论什么情况都预测被调查者年收入大于 \\$50,000 的模型，那么这个模型在**验证集上**的准确率，查准率，查全率和 F-score是多少？*  \n"
   ]
  },
  {
   "cell_type": "code",
   "execution_count": 27,
   "metadata": {},
   "outputs": [
    {
     "name": "stdout",
     "output_type": "stream",
     "text": [
      "Naive Predictor on full data:\n",
      "Accuracy score: 0.2478\n",
      "Precision: 0.2478 \n",
      "Recall: 1.0000 \n",
      "F-score: 0.2917 \n",
      "None\n",
      "Naive Predictor on validation data:\n",
      "Accuracy score: 0.2478\n",
      "Precision: 0.2478 \n",
      "Recall: 1.0000 \n",
      "F-score: 0.2917 \n",
      "None\n"
     ]
    }
   ],
   "source": [
    "# v3更新，v2虽然修改成功但算的是训练集而不是测试集\n",
    "# 不能使用scikit-learn，你需要根据公式自己实现相关计算。\n",
    "# 函数化\n",
    "## 如果对val做比较的话，直接用y_val比较\n",
    "## 这是因为前面数据对数据做了处理拆分了income出来\n",
    "## 调整下在不能拆分的情况下也能处理\n",
    "## 因为in检查的是str，所以要求check的输入也是字符：\n",
    "## naive_prediction(data,'income')\n",
    "## 如果想要去掉单引号，需要参考这个：\n",
    "## https://stackoverflow.com/questions/582056/getting-list-of-parameter-names-inside-python-function\n",
    "## 因为两种情况下的输入不同，所以用了try、except的方式处理\n",
    "## 实际中应该避免这种情况，要求输入数据为统一格式\n",
    "\n",
    "def naive_prediction(data,check):\n",
    "    try:\n",
    "        check in data.columns\n",
    "    except AttributeError:\n",
    "        TP = y_val[y_val.values == 1].shape[0]\n",
    "        TN = 0\n",
    "        FP = y_val.shape[0] - y_val[y_val.values == 1].shape[0]\n",
    "        FN = 0\n",
    "        print (\"Naive Predictor on validation data:\")\n",
    "    else:\n",
    "        TP = data[data.income == '>50K'].shape[0]\n",
    "        TN = 0\n",
    "        FP = data.shape[0] - data[data.income == '>50K'].shape[0]\n",
    "        FN = 0\n",
    "        print (\"Naive Predictor on full data:\")\n",
    "    finally:\n",
    "        ALL = data.shape[0]\n",
    "        ## all_points 和 TP + FN 等价 - 不要做这种变换，要考虑到别的情况\n",
    "        #TODO： 计算准确率\n",
    "        accuracy =  TP / ALL\n",
    "        # TODO： 计算查准率 Precision\n",
    "        precision = TP / (TP+FP)\n",
    "        # TODO： 计算查全率 Recall\n",
    "        recall = TP / (TP+TN)\n",
    "        # TODO： 使用上面的公式，设置beta=0.5，计算F-score\n",
    "        beta = 0.5\n",
    "        fscore = (1+pow(beta, 2))*precision*recall/((pow(beta,2)*precision)+recall)\n",
    "\n",
    "        # 打印结果\n",
    "        # 自带的会在后面4行出现缩进，没研究明白，拆开成单行就好了（强迫症，，，）\n",
    "        '''print (\"Naive Predictor on validation data: \\n \\\n",
    "            Accuracy score: {:.4f} \\n \\\n",
    "            Precision: {:.4f} \\n \\\n",
    "            Recall: {:.4f} \\n \\\n",
    "            F-score: {:.4f}\".format(accuracy, precision, recall, fscore))'''\n",
    "\n",
    "\n",
    "        print (\"Accuracy score: {:.4f}\".format(accuracy))\n",
    "        print (\"Precision: {:.4f} \".format(precision))\n",
    "        print (\"Recall: {:.4f} \".format(recall))\n",
    "        print (\"F-score: {:.4f} \".format(fscore))\n",
    "        # （Q）这里beta为什么设定为0.5，需不需要进行额外论证，论证的参考一般是什么，请老师给点建议。\n",
    "\n",
    "print(naive_prediction(data,'incomes'))\n",
    "print(naive_prediction(y_val,'incomes'))"
   ]
  },
  {
   "cell_type": "code",
   "execution_count": 11,
   "metadata": {},
   "outputs": [
    {
     "name": "stdout",
     "output_type": "stream",
     "text": [
      "Naive Predictor on validation data:\n",
      "Accuracy score: 0.2478\n",
      "Precision: 0.2478 \n",
      "Recall: 1.0000 \n",
      "F-score: 0.2917 \n"
     ]
    }
   ],
   "source": [
    "##  archive\n",
    "## v2虽然修改成功但算的是所有数据而不是测试集\n",
    "## data是所有数据\n",
    "#不能使用scikit-learn，你需要根据公式自己实现相关计算。\n",
    "\n",
    "g50_pos = data[data.income == '>50K'].shape[0]\n",
    "g50_neg = 0\n",
    "l50_pos = data.shape[0] - data[data.income == '>50K'].shape[0]\n",
    "l50_neg = 0\n",
    "all_points = data.shape[0]\n",
    "\n",
    "TP = data[data.income == '>50K'].shape[0]\n",
    "g50_neg = 0\n",
    "l50_pos = data.shape[0] - data[data.income == '>50K'].shape[0]\n",
    "l50_neg = 0\n",
    "all_points = data.shape[0]\n",
    "\n",
    "#TODO： 计算准确率\n",
    "accuracy =  g50_pos / all_points\n",
    "\n",
    "# TODO： 计算查准率 Precision\n",
    "precision = g50_pos / (g50_pos + l50_pos)\n",
    "\n",
    "# TODO： 计算查全率 Recall\n",
    "recall = g50_pos / (g50_pos + g50_neg)\n",
    "\n",
    "# TODO： 使用上面的公式，设置beta=0.5，计算F-score\n",
    "beta = 0.5\n",
    "fscore = (1+pow(beta, 2))*precision*recall/((pow(beta,2)*precision)+recall)\n",
    "\n",
    "# 打印结果\n",
    "# 自带的会在后面4行出现缩进，没研究明白，拆开成单行就好了（强迫症，，，）\n",
    "'''print (\"Naive Predictor on validation data: \\n \\\n",
    "    Accuracy score: {:.4f} \\n \\\n",
    "    Precision: {:.4f} \\n \\\n",
    "    Recall: {:.4f} \\n \\\n",
    "    F-score: {:.4f}\".format(accuracy, precision, recall, fscore))'''\n",
    "\n",
    "print (\"Naive Predictor on validation data:\")\n",
    "print (\"Accuracy score: {:.4f}\".format(accuracy))\n",
    "print (\"Precision: {:.4f} \".format(precision))\n",
    "print (\"Recall: {:.4f} \".format(recall))\n",
    "print (\"F-score: {:.4f} \".format(fscore))\n",
    "# （Q）这里beta为什么设定为0.5，需不需要进行额外论证，论证的参考一般是什么，请老师给点建议。"
   ]
  },
  {
   "cell_type": "markdown",
   "metadata": {},
   "source": [
    "## 监督学习模型\n",
    "### 问题 2 - 模型应用\n",
    "\n",
    "你能够在 [`scikit-learn`](http://scikit-learn.org/stable/supervised_learning.html) 中选择以下监督学习模型\n",
    "- 高斯朴素贝叶斯 (GaussianNB)\n",
    "- 决策树 (DecisionTree)\n",
    "- 集成方法 (Bagging, AdaBoost, Random Forest, Gradient Boosting)\n",
    "- K近邻 (K Nearest Neighbors)\n",
    "- 随机梯度下降分类器 (SGDC)\n",
    "- 支撑向量机 (SVM)\n",
    "- Logistic回归（LogisticRegression）\n",
    "\n",
    "从上面的监督学习模型中选择三个适合我们这个问题的模型，并回答相应问题。"
   ]
  },
  {
   "cell_type": "markdown",
   "metadata": {},
   "source": [
    "## / Logistic回归（LogisticRegression）\n",
    "1. 描述一个该模型在真实世界的一个应用场景。（你需要为此做点研究，并给出你的引用出处）\n",
    "    1. 解决分类回归问题\n",
    "        1. 比如这个[/是否会办金融产品的预测/](https://towardsdatascience.com/building-a-logistic-regression-in-python-step-by-step-becd4d56c9c8)\n",
    "        2. 这里对于逻辑回归的解释也很清楚：Logistic Regression is a Machine Learning classification algorithm that is used to predict the probability of a categorical dependent variable. In logistic regression, the dependent variable is a binary variable that contains data coded as 1 (yes, success, etc.) or 0 (no, failure, etc.). In other words, the logistic regression model predicts P(Y=1) as a function of X.\n",
    "    2. 还串到了一个如何用SMOTE解决分类预期差别很大的帖子：http://rikunert.com/SMOTE_explained\n",
    "    3. 还挖出了RFE，识别无用参数的函数（不用自己去一个一个看决定系数了）后续研究。https://scikit-learn.org/stable/modules/generated/sklearn.feature_selection.RFE.html\n",
    "2. 这个模型的优势是什么？他什么情况下表现最好？\n",
    "    1. 实现简单，广泛的应用于工业问题上；\n",
    "    2. 分类时计算量非常小，速度很快，存储资源低；\n",
    "    3. 便利的观测样本概率分数；\n",
    "    4. 对逻辑回归而言，多重共线性并不是问题，它可以结合L2正则化来解决该问题；\n",
    "3. 这个模型的缺点是什么？什么条件下它表现很差？\n",
    "    1. 当特征空间很大时，逻辑回归的性能不是很好；\n",
    "    2. 容易欠拟合，一般准确度不太高\n",
    "    3. 不能很好地处理大量多类特征或变量；\n",
    "    4. 只能处理两分类问题（在此基础上衍生出来的softmax可以用于多分类），且必须线性可分；\n",
    "    5. 对于非线性特征，需要进行转换；\n",
    "4. 根据我们当前数据集的特点，为什么这个模型适合这个问题。\n",
    "    1. 选用逻辑回归是作为基线，和后面几个比较使用。\n",
    "\n",
    "## / 集成方法 (Bagging, AdaBoost, Random Forest, Gradient Boosting) ~~Random Forest or~~ AdaBoost\n",
    "1. 描述一个该模型在真实世界的一个应用场景。（你需要为此做点研究，并给出你的引用出处）\n",
    "    1. [/参见这个赌马的例子/](http://www.yorku.ca/gisweb/eats4400/boost.pdf)\n",
    "        1. background：A horse-racing gambler, hoping to maximize his winnings, decides to create a computer program that will accurately predict the winner of a horse race based on the usual information (number of races recently won by each horse, betting odds for each horse, etc.). To create such a program, he asks a highly successful expert gambler to explain his betting strategy. Not surprisingly, the expert is unable to articulate a grand set of rules for selecting a horse. On the other hand, when presented with the data for a specific set of races, the expert has no trouble coming up with a “rule of thumb” for that set of races (such as, “Bet on the horse that has recently won the most races” or “Bet on the horse with the most favored odds”). Although such a rule of thumb, by itself, is obviously very rough and inaccurate, it is not unreasonable to expect it to provide predictions that are at least a little bit better than random guessing. Furthermore, by repeatedly asking the expert’s opinion on different collections of races, the gambler is able to extract many rules of thumb.\n",
    "        2. problems：In order to use these rules of thumb to maximum advantage, there are two problems faced by the gambler: First, how should he choose the collections of races presented to the expert so as to extract rules of thumb from the expert that will be the most useful? Second, once he has collected many rules of thumb, how can they be combined into a single, highly accurate prediction rule?\n",
    "2. 这个模型的优势是什么？他什么情况下表现最好？\n",
    "    1. Adaboost是一种有很高精度的分类器。\n",
    "    2. 可以使用各种方法构建子分类器，Adaboost算法提供的是框架。\n",
    "    3. 当使用简单分类器时，计算出的结果是可以理解的，并且弱分类器的构造极其简单。\n",
    "    4. 简单，不用做特征筛选。\n",
    "    5. 不易发生overfitting。\n",
    "3. 这个模型的缺点是什么？什么条件下它表现很差？\n",
    "    1. 对outlier比较敏感\n",
    "4. 根据我们当前数据集的特点，为什么这个模型适合这个问题。\n",
    "    1. 课程中讲解的第一个集成方法，熟练一下。\n",
    "    2. 需要对异常值做额外检查。\n",
    "\n",
    "## / 支撑向量机 (SVM)\n",
    "1. 描述一个该模型在真实世界的一个应用场景。（你需要为此做点研究，并给出你的引用出处）\n",
    "    1. 其实分类问题都通用（数据量不巨大时），比如这个里面提到的[/男生女生归类问题/](Using this algorithm, we intend to build a robot which can identify whether a person is a Male or a Female.)。[/还有一篇SVC的分析/](https://www.analyticsvidhya.com/blog/2017/09/understaing-support-vector-machine-example-code/)\n",
    "2. 这个模型的优势是什么？他什么情况下表现最好？\n",
    "    1. 可以解决高维问题，即大型特征空间；\n",
    "    2. 能够处理非线性特征的相互作用；\n",
    "    3. 无需依赖整个数据；\n",
    "    4. 可以提高泛化能力；\n",
    "3. 这个模型的缺点是什么？什么条件下它表现很差？\n",
    "    1. 当观测样本很多时，效率并不是很高；\n",
    "    2. 对非线性问题没有通用解决方案，有时候很难找到一个合适的核函数；\n",
    "    3. 对缺失数据敏感；\n",
    "4. 根据我们当前数据集的特点，为什么这个模型适合这个问题。\n",
    "    1. 因为数据量不是很多，所以使用SVM求解出比较精确的答案。"
   ]
  },
  {
   "cell_type": "markdown",
   "metadata": {},
   "source": [
    "### 练习 - 创建一个训练和预测的流水线\n",
    "为了正确评估你选择的每一个模型的性能，创建一个能够帮助你快速有效地使用不同大小的训练集并在验证集上做预测的训练和验证的流水线是十分重要的。\n",
    "你在这里实现的功能将会在接下来的部分中被用到。在下面的代码单元中，你将实现以下功能：\n",
    "\n",
    " - 从[`sklearn.metrics`](http://scikit-learn.org/stable/modules/classes.html#sklearn-metrics-metrics)中导入`fbeta_score`和`accuracy_score`。\n",
    " - 用训练集拟合学习器，并记录训练时间。\n",
    " - 对训练集的前300个数据点和验证集进行预测并记录预测时间。\n",
    " - 计算预测训练集的前300个数据点的准确率和F-score。\n",
    " - 计算预测验证集的准确率和F-score。"
   ]
  },
  {
   "cell_type": "code",
   "execution_count": 28,
   "metadata": {},
   "outputs": [],
   "source": [
    "# TODO：从sklearn中导入两个评价指标 - fbeta_score和accuracy_score\n",
    "from sklearn.metrics import fbeta_score, accuracy_score\n",
    "\n",
    "def train_predict(learner, sample_size, X_train, y_train, X_val, y_val): \n",
    "    '''\n",
    "    inputs:\n",
    "       - learner: the learning algorithm to be trained and predicted on\n",
    "       - sample_size: the size of samples (number) to be drawn from training set\n",
    "       - X_train: features training set\n",
    "       - y_train: income training set\n",
    "       - X_val: features validation set\n",
    "       - y_val: income validation set\n",
    "    '''\n",
    "    \n",
    "    results = {}\n",
    "    \n",
    "    # TODO：使用sample_size大小的训练数据来拟合学习器\n",
    "    # TODO: Fit the learner to the training data using slicing with 'sample_size'\n",
    "    start = time() # 获得程序开始时间\n",
    "    learner = learner.fit(X_train[:sample_size], y_train[:sample_size])\n",
    "    end = time() # 获得程序结束时间\n",
    "    # 函数的sample输入是根据输入的sample进行抽取作为样本进行统计\n",
    "    # Q1 代码中要求的是直接slice，会不会用random模拟会比较平均？\n",
    "    \n",
    "    # TODO：计算训练时间\n",
    "    results['train_time'] = end - start\n",
    "    \n",
    "    # TODO: 得到在验证集上的预测值\n",
    "    # 然后得到对前300个训练数据的预测结果\n",
    "    start = time() # 获得程序开始时间\n",
    "    predictions_val = learner.predict(X_val)\n",
    "    predictions_train = learner.predict(X_train[:300])\n",
    "    end = time() # 获得程序结束时间\n",
    "    \n",
    "    # TODO：计算预测用时\n",
    "    results['pred_time'] = end - start\n",
    "            \n",
    "    # TODO：计算在最前面的300个训练数据的准确率\n",
    "    results['acc_train'] = accuracy_score(y_train[:300], predictions_train)\n",
    "        \n",
    "    # TODO：计算在验证上的准确率\n",
    "    results['acc_val'] = accuracy_score( y_val, predictions_val)\n",
    "    \n",
    "    # TODO：计算在最前面300个训练数据上的F-score\n",
    "    results['f_train'] = fbeta_score(y_train[:300], predictions_train, average='macro', beta=0.5)\n",
    "        \n",
    "    # TODO：计算验证集上的F-score\n",
    "    results['f_val'] = fbeta_score(y_val, predictions_val, average='macro', beta=0.5)\n",
    "       \n",
    "    # 成功\n",
    "    print (\"{} trained on {} samples.\".format(learner.__class__.__name__, sample_size))\n",
    "        \n",
    "    # 返回结果\n",
    "    return results"
   ]
  },
  {
   "cell_type": "markdown",
   "metadata": {},
   "source": [
    "### 练习：初始模型的评估\n",
    "在下面的代码单元中，您将需要实现以下功能：             \n",
    "- 导入你在前面讨论的三个监督学习模型。             \n",
    "- 初始化三个模型并存储在`'clf_A'`，`'clf_B'`和`'clf_C'`中。\n",
    "  - 使用模型的默认参数值，在接下来的部分中你将需要对某一个模型的参数进行调整。             \n",
    "  - 设置`random_state`  (如果有这个参数)。       \n",
    "- 计算1%， 10%， 100%的训练数据分别对应多少个数据点，并将这些值存储在`'samples_1'`, `'samples_10'`, `'samples_100'`中\n",
    "\n",
    "**注意：**取决于你选择的算法，下面实现的代码可能需要一些时间来运行！"
   ]
  },
  {
   "cell_type": "code",
   "execution_count": 29,
   "metadata": {},
   "outputs": [
    {
     "name": "stdout",
     "output_type": "stream",
     "text": [
      "The slowest run took 15.59 times longer than the fastest. This could mean that an intermediate result is being cached.\n",
      "497 µs ± 657 µs per loop (mean ± std. dev. of 7 runs, 1 loop each)\n"
     ]
    }
   ],
   "source": [
    "%%timeit -n1\n",
    "y_train.head(1)"
   ]
  },
  {
   "cell_type": "code",
   "execution_count": 30,
   "metadata": {},
   "outputs": [
    {
     "data": {
      "text/plain": [
       "(28941,)"
      ]
     },
     "execution_count": 30,
     "metadata": {},
     "output_type": "execute_result"
    }
   ],
   "source": [
    "y_train.shape"
   ]
  },
  {
   "cell_type": "code",
   "execution_count": 31,
   "metadata": {},
   "outputs": [
    {
     "name": "stdout",
     "output_type": "stream",
     "text": [
      "LogisticRegression trained on 289 samples.\n",
      "LogisticRegression trained on 2894 samples.\n",
      "LogisticRegression trained on 28941 samples.\n",
      "SVC trained on 289 samples.\n",
      "SVC trained on 2894 samples.\n",
      "SVC trained on 28941 samples.\n",
      "RandomForestClassifier trained on 289 samples.\n",
      "RandomForestClassifier trained on 2894 samples.\n",
      "RandomForestClassifier trained on 28941 samples.\n"
     ]
    },
    {
     "data": {
      "image/png": "[encoded data removed]",
      "text/plain": [
       "<Figure size 792x504 with 6 Axes>"
      ]
     },
     "metadata": {
      "needs_background": "light"
     },
     "output_type": "display_data"
    }
   ],
   "source": [
    "# TODO：从sklearn中导入三个监督学习模型\n",
    "from sklearn.linear_model import LogisticRegression\n",
    "from sklearn.svm import SVC\n",
    "from sklearn.ensemble import RandomForestClassifier\n",
    "from sklearn.ensemble import AdaBoostClassifier\n",
    "from sklearn.tree import DecisionTreeClassifier\n",
    "\n",
    "# TODO：初始化三个模型\n",
    "clf_A = LogisticRegression(random_state=42)\n",
    "clf_B = SVC(random_state=42)\n",
    "clf_D = AdaBoostClassifier(base_estimator = DecisionTreeClassifier(max_depth=2), n_estimators=100, random_state=42)\n",
    "# Adaboost使用决策树，和RandomForest做对比\n",
    "clf_C = RandomForestClassifier(max_depth=2, random_state=42)\n",
    "\n",
    "# TODO：计算1%， 10%， 100%的训练数据分别对应多少点\n",
    "samples_1 = int(X_train.shape[0]*0.01)\n",
    "samples_10 = int(X_train.shape[0]*0.1)\n",
    "samples_100 = int(X_train.shape[0])\n",
    "\n",
    "# 收集学习器的结果\n",
    "# 增加D之后，可视化会报错，放弃D\n",
    "results = {}\n",
    "for clf in [clf_A, clf_B, clf_C]:\n",
    "    clf_name = clf.__class__.__name__\n",
    "    results[clf_name] = {}\n",
    "    for i, samples in enumerate([samples_1, samples_10, samples_100]):\n",
    "        results[clf_name][i] = train_predict(clf, samples, X_train, y_train, X_val, y_val)\n",
    "\n",
    "# 对选择的三个模型得到的评价结果进行可视化\n",
    "vs.evaluate(results, accuracy, fscore)"
   ]
  },
  {
   "cell_type": "markdown",
   "metadata": {},
   "source": [
    "----\n",
    "## 提高效果\n",
    "\n",
    "在这最后一节中，您将从三个有监督的学习模型中选择 *最好的* 模型来使用学生数据。你将在整个训练集（`X_train`和`y_train`）上使用网格搜索优化至少调节一个参数以获得一个比没有调节之前更好的 F-score。"
   ]
  },
  {
   "cell_type": "markdown",
   "metadata": {},
   "source": [
    "### 问题 3 - 选择最佳的模型\n",
    "\n",
    "*基于你前面做的评价，用一到两段话向 *CharityML* 解释这三个模型中哪一个对于判断被调查者的年收入大于 \\$50,000 是最合适的。*             \n",
    "**提示：**你的答案应该包括评价指标，预测/训练时间，以及该算法是否适合这里的数据。"
   ]
  },
  {
   "cell_type": "markdown",
   "metadata": {},
   "source": [
    "**回答：**\n",
    "- 从效果来看逻辑回归和SVC比较优秀。\n",
    "- 但是从时间来看，SVC消耗太高。\n",
    "- 最后决定使用逻辑回归进行计算，两种算法的优缺点对比见之前的回答。"
   ]
  },
  {
   "cell_type": "markdown",
   "metadata": {},
   "source": [
    "### 问题 4 - 用通俗的话解释模型\n",
    "\n",
    "*用一到两段话，向 *CharityML* 用外行也听得懂的话来解释最终模型是如何工作的。你需要解释所选模型的主要特点。例如，这个模型是怎样被训练的，它又是如何做出预测的。避免使用高级的数学或技术术语，不要使用公式或特定的算法名词。*"
   ]
  },
  {
   "cell_type": "markdown",
   "metadata": {},
   "source": [
    "**回答： ** \n",
    "- 逻辑回归根据数据集中的各个Feature对目标变量（是否为收入高于50k的人群）作出预测。\n",
    "- 出了本身是数量的值，还对Feature中的其他分类信息做了独热编码转换，将分类信息转换成了可以计算的，由0、1组成的独热编码。\n",
    "- 从预测结果看比SVC、随机森林等方法更加准确快速，Accuracy和Fscore达到了0.8。"
   ]
  },
  {
   "cell_type": "markdown",
   "metadata": {},
   "source": [
    "### 练习：模型调优\n",
    "调节选择的模型的参数。使用网格搜索（GridSearchCV）来至少调整模型的重要参数（至少调整一个），这个参数至少需尝试3个不同的值。你要使用整个训练集来完成这个过程。在接下来的代码单元中，你需要实现以下功能：\n",
    "\n",
    "- 导入[`sklearn.model_selection.GridSearchCV`](http://scikit-learn.org/stable/modules/generated/sklearn.model_selection.GridSearchCV.html) 和 [`sklearn.metrics.make_scorer`](http://scikit-learn.org/stable/modules/generated/sklearn.metrics.make_scorer.html).\n",
    "- 初始化你选择的分类器，并将其存储在`clf`中。\n",
    " - 设置`random_state` (如果有这个参数)。\n",
    "- 创建一个对于这个模型你希望调整参数的字典。\n",
    " - 例如: parameters = {'parameter' : [list of values]}。\n",
    " - **注意：** 如果你的学习器有 `max_features` 参数，请不要调节它！\n",
    "- 使用`make_scorer`来创建一个`fbeta_score`评分对象（设置$\\beta = 0.5$）。\n",
    "- 在分类器clf上用'scorer'作为评价函数运行网格搜索，并将结果存储在grid_obj中。\n",
    "- 用训练集（X_train, y_train）训练grid search object,并将结果存储在`grid_fit`中。\n",
    "\n",
    "**注意：** 取决于你选择的参数列表，下面实现的代码可能需要花一些时间运行！"
   ]
  },
  {
   "cell_type": "markdown",
   "metadata": {},
   "source": [
    "### compare1\n",
    "parameters = {'tol':[1e-8], 'C':[0.95], 'solver':['liblinear','sag','saga'], 'max_iter':[1,500,1000], 'n_jobs':[2]}\n",
    "\n",
    "best_clf\n",
    "\n",
    "------\n",
    "LogisticRegression(C=0.95, class_weight=None, dual=False, fit_intercept=True,\n",
    "          intercept_scaling=1, max_iter=500, multi_class='warn', n_jobs=2,\n",
    "          penalty='l2', random_state=42, solver='sag', tol=1e-08,\n",
    "          verbose=0, warm_start=False)\n",
    "\n",
    "Unoptimized model\n",
    "\n",
    "------\n",
    "Accuracy score on validation data: 0.8536\n",
    "F-score on validation data: 0.7182\n",
    "\n",
    "Optimized Model\n",
    "\n",
    "------\n",
    "Final accuracy score on the validation data: 0.8538\n",
    "Final F-score on the validation data: 0.7184\n",
    "\n",
    "### compare2\n",
    "\n",
    "parameters = {'tol':[1e-8], 'C':[0.94, 0.95, 0.96], 'solver':['liblinear','sag','saga'], 'max_iter':[1,10,500,1000], 'n_jobs':[2]}\n",
    "\n",
    "best_clf\n",
    "\n",
    "------\n",
    "LogisticRegression(C=0.96, class_weight=None, dual=False, fit_intercept=True,\n",
    "          intercept_scaling=1, max_iter=10, multi_class='warn', n_jobs=2,\n",
    "          penalty='l2', random_state=42, solver='sag', tol=1e-08,\n",
    "          verbose=0, warm_start=False)\n",
    "\n",
    "Unoptimized model\n",
    "\n",
    "------\n",
    "Accuracy score on validation data: 0.8536\n",
    "F-score on validation data: 0.7182\n",
    "\n",
    "Optimized Model\n",
    "\n",
    "------\n",
    "Final accuracy score on the validation data: 0.8520\n",
    "Final F-score on the validation data: 0.7124\n",
    "Out[42]:\n",
    "194.56590223312378\n",
    "\n",
    "### compare3\n",
    "\n",
    "parameters = {'tol':[1e-8], 'C':[0.94, 0.95, 0.96], 'solver':['liblinear','sag','saga'], 'n_jobs':[2]}\n",
    "\n",
    "best_clf\n",
    "\n",
    "------\n",
    "LogisticRegression(C=0.96, class_weight=None, dual=False, fit_intercept=True,\n",
    "          intercept_scaling=1, max_iter=100, multi_class='warn', n_jobs=2,\n",
    "          penalty='l2', random_state=42, solver='sag', tol=1e-08,\n",
    "          verbose=0, warm_start=False)\n",
    "\n",
    "Unoptimized model\n",
    "\n",
    "------\n",
    "Accuracy score on validation data: 0.8536\n",
    "F-score on validation data: 0.7182\n",
    "\n",
    "Optimized Model\n",
    "\n",
    "------\n",
    "Final accuracy score on the validation data: 0.8538\n",
    "Final F-score on the validation data: 0.7184\n",
    "Out[43]:\n",
    "53.02429008483887\n",
    "\n",
    "### compare4\n",
    "删掉了 n_jobs=2\n",
    "best_clf\n",
    "为什么时间没有变多2倍（我用的mac air 2核 i5），只多了几秒。\n",
    "\n",
    "------\n",
    "LogisticRegression(C=0.96, class_weight=None, dual=False, fit_intercept=True,\n",
    "          intercept_scaling=1, max_iter=100, multi_class='warn',\n",
    "          n_jobs=None, penalty='l2', random_state=42, solver='sag',\n",
    "          tol=1e-08, verbose=0, warm_start=False)\n",
    "          \n",
    "### compare5\n",
    "parameters = {'tol':[1e-8], 'C':[0.94, 0.95, 0.96], 'solver':['newton-cg','lbfgs','liblinear','sag','saga'], 'max_iter':[100, 1000]}\n",
    "\n",
    "best_clf\n",
    "\n",
    "------\n",
    "LogisticRegression(C=0.96, class_weight=None, dual=False, fit_intercept=True,\n",
    "          intercept_scaling=1, max_iter=100, multi_class='warn',\n",
    "          n_jobs=None, penalty='l2', random_state=42, solver='lbfgs',\n",
    "          tol=1e-08, verbose=0, warm_start=False)\n",
    "\n",
    "Unoptimized model\n",
    "\n",
    "------\n",
    "Accuracy score on validation data: 0.8536\n",
    "F-score on validation data: 0.7182\n",
    "\n",
    "Optimized Model\n",
    "\n",
    "------\n",
    "Final accuracy score on the validation data: 0.8536\n",
    "Final F-score on the validation data: 0.7182\n",
    "\n",
    "### compare6\n",
    "parameters = {'tol':[1e-8], 'C':[0.96, 0.97, 1], 'solver':['newton-cg','lbfgs','sag','saga'], 'max_iter':[1000]}\n",
    "\n",
    "best_clf\n",
    "\n",
    "------\n",
    "LogisticRegression(C=1, class_weight=None, dual=False, fit_intercept=True,\n",
    "          intercept_scaling=1, max_iter=1000, multi_class='warn',\n",
    "          n_jobs=None, penalty='l2', random_state=42, solver='newton-cg',\n",
    "          tol=1e-08, verbose=0, warm_start=False)\n",
    "\n",
    "Unoptimized model\n",
    "\n",
    "------\n",
    "Accuracy score on validation data: 0.8536\n",
    "F-score on validation data: 0.7182\n",
    "\n",
    "Optimized Model\n",
    "\n",
    "------\n",
    "Final accuracy score on the validation data: 0.8536\n",
    "Final F-score on the validation data: 0.7181"
   ]
  },
  {
   "cell_type": "code",
   "execution_count": 52,
   "metadata": {},
   "outputs": [
    {
     "name": "stdout",
     "output_type": "stream",
     "text": [
      "best_clf\n",
      "------\n",
      "LogisticRegression(C=0.95, class_weight=None, dual=False, fit_intercept=True,\n",
      "          intercept_scaling=1, max_iter=500, multi_class='warn', n_jobs=2,\n",
      "          penalty='l2', random_state=42, solver='sag', tol=1e-08,\n",
      "          verbose=0, warm_start=False)\n",
      "\n",
      "Unoptimized model\n",
      "------\n",
      "Accuracy score on validation data: 0.8536\n",
      "F-score on validation data: 0.7182\n",
      "\n",
      "Optimized Model\n",
      "------\n",
      "Final accuracy score on the validation data: 0.8538\n",
      "Final F-score on the validation data: 0.7184\n"
     ]
    },
    {
     "data": {
      "text/plain": [
       "63.89426016807556"
      ]
     },
     "execution_count": 52,
     "metadata": {},
     "output_type": "execute_result"
    }
   ],
   "source": [
    "start = time()\n",
    "## 为什么是7runs：上面先注释掉\n",
    "# TODO：导入'GridSearchCV', 'make_scorer'和其他一些需要的库\n",
    "from sklearn.model_selection import GridSearchCV\n",
    "from sklearn.metrics import make_scorer\n",
    "from sklearn.metrics import fbeta_score\n",
    "\n",
    "# TODO：初始化分类器\n",
    "clf = LogisticRegression(random_state=42)\n",
    "# clf = LogisticRegression()\n",
    "\n",
    "# TODO：创建你希望调节的参数列表\n",
    "## v4 updated\n",
    "parameters = {'tol':[1e-8], 'C':[0.95], 'solver':['liblinear','sag','saga'], 'max_iter':[1,500,1000], 'n_jobs':[2]}\n",
    "# parameters = {'tol':[1e-8], 'C':[0.925,0.95,0.975,0.1], 'solver':['liblinear','sag','saga'], 'max_iter':[2000], 'n_jobs':[2]}\n",
    "# parameters = {'C':[0.5,1], 'solver':['newton-cg','lbfgs','liblinear','sag','saga'], 'max_iter':[10,100,1000,5000]}\n",
    "## v3 archive\n",
    "# parameters = {'solver':['newton-cg','lbfgs','liblinear','sag','saga'], 'max_iter':[10,100,1000]}\n",
    "\n",
    "# TODO：创建一个fbeta_score打分对象\n",
    "scorer = make_scorer(fbeta_score, beta = 0.5)\n",
    "\n",
    "# TODO：在分类器上使用网格搜索，使用'scorer'作为评价函数\n",
    "grid_obj = GridSearchCV(clf, parameters, scoring=scorer)\n",
    "\n",
    "# TODO：用训练数据拟合网格搜索对象并找到最佳参数\n",
    "grid_fit = grid_obj.fit(X_train, y_train)\n",
    "\n",
    "# 得到estimator\n",
    "best_clf = grid_obj.best_estimator_\n",
    "\n",
    "# 使用没有调优的模型做预测\n",
    "predictions = (clf.fit(X_train, y_train)).predict(X_val)\n",
    "best_predictions = best_clf.predict(X_val)\n",
    "\n",
    "# 汇报调优后的模型\n",
    "print (\"best_clf\\n------\")\n",
    "print (best_clf)\n",
    "\n",
    "# 汇报调参前和调参后的分数\n",
    "print (\"\\nUnoptimized model\\n------\")\n",
    "print (\"Accuracy score on validation data: {:.4f}\".format(accuracy_score(y_val, predictions)))\n",
    "print (\"F-score on validation data: {:.4f}\".format(fbeta_score(y_val, predictions, beta = 0.5)))\n",
    "print (\"\\nOptimized Model\\n------\")\n",
    "print (\"Final accuracy score on the validation data: {:.4f}\".format(accuracy_score(y_val, best_predictions)))\n",
    "print (\"Final F-score on the validation data: {:.4f}\".format(fbeta_score(y_val, best_predictions, beta = 0.5)))\n",
    "end = time()\n",
    "end - start"
   ]
  },
  {
   "cell_type": "markdown",
   "metadata": {},
   "source": [
    "### random matters\n",
    "\n",
    "### random none\n",
    "\n",
    "clf = LogisticRegression()\n",
    "parameters = {'solver':['newton-cg','lbfgs','liblinear','sag','saga'], 'max_iter':[10,100,1000]}\n",
    "\n",
    "best_clf\n",
    "\n",
    "------\n",
    "LogisticRegression(C=1.0, class_weight=None, dual=False, fit_intercept=True,\n",
    "          intercept_scaling=1, max_iter=10, multi_class='warn',\n",
    "          n_jobs=None, penalty='l2', random_state=None, solver='sag',\n",
    "          tol=0.0001, verbose=0, warm_start=False)\n",
    "\n",
    "Unoptimized model\n",
    "\n",
    "------\n",
    "Accuracy score on validation data: 0.8536\n",
    "F-score on validation data: 0.7182\n",
    "\n",
    "Optimized Model\n",
    "\n",
    "------\n",
    "Final accuracy score on the validation data: 0.8506\n",
    "Final F-score on the validation data: 0.7142\n",
    "\n",
    "### random 42\n",
    "\n",
    "clf = LogisticRegression(random_state = 42)\n",
    "\n",
    "best_clf\n",
    "\n",
    "------\n",
    "LogisticRegression(C=1.0, class_weight=None, dual=False, fit_intercept=True,\n",
    "          intercept_scaling=1, max_iter=100, multi_class='warn',\n",
    "          n_jobs=None, penalty='l2', random_state=42, solver='lbfgs',\n",
    "          tol=0.0001, verbose=0, warm_start=False)\n",
    "\n",
    "Unoptimized model\n",
    "\n",
    "------\n",
    "Accuracy score on validation data: 0.8536\n",
    "F-score on validation data: 0.7182\n",
    "\n",
    "Optimized Model\n",
    "\n",
    "------\n",
    "Final accuracy score on the validation data: 0.8542\n",
    "Final F-score on the validation data: 0.7194"
   ]
  },
  {
   "cell_type": "code",
   "execution_count": 54,
   "metadata": {},
   "outputs": [
    {
     "name": "stdout",
     "output_type": "stream",
     "text": [
      "best_clf\n",
      "------\n",
      "LogisticRegression(C=1.0, class_weight=None, dual=False, fit_intercept=True,\n",
      "          intercept_scaling=1, max_iter=100, multi_class='warn',\n",
      "          n_jobs=None, penalty='l2', random_state=42, solver='lbfgs',\n",
      "          tol=0.0001, verbose=0, warm_start=False)\n",
      "\n",
      "Unoptimized model\n",
      "------\n",
      "Accuracy score on validation data: 0.8536\n",
      "F-score on validation data: 0.7182\n",
      "\n",
      "Optimized Model\n",
      "------\n",
      "Final accuracy score on the validation data: 0.8542\n",
      "Final F-score on the validation data: 0.7194\n"
     ]
    }
   ],
   "source": [
    "# v2 code\n",
    "# TODO：导入'GridSearchCV', 'make_scorer'和其他一些需要的库\n",
    "from sklearn.model_selection import GridSearchCV\n",
    "from sklearn.metrics import make_scorer\n",
    "from sklearn.metrics import f1_score\n",
    "\n",
    "# TODO：初始化分类器\n",
    "clf = LogisticRegression(random_state = 42)\n",
    "\n",
    "# TODO：创建你希望调节的参数列表\n",
    "parameters = {'solver':['newton-cg','lbfgs','liblinear','sag','saga'], 'max_iter':[10,100,1000]}\n",
    "\n",
    "# TODO：创建一个fbeta_score打分对象\n",
    "#scorer = make_scorer(fbeta_score(1))\n",
    "scorer = make_scorer(f1_score)\n",
    "\n",
    "# TODO：在分类器上使用网格搜索，使用'scorer'作为评价函数\n",
    "grid_obj = GridSearchCV(clf, parameters, scoring=scorer)\n",
    "\n",
    "# TODO：用训练数据拟合网格搜索对象并找到最佳参数\n",
    "grid_fit = grid_obj.fit(X_train, y_train)\n",
    "\n",
    "# 得到estimator\n",
    "best_clf = grid_obj.best_estimator_\n",
    "\n",
    "# 使用没有调优的模型做预测\n",
    "predictions = (clf.fit(X_train, y_train)).predict(X_val)\n",
    "best_predictions = best_clf.predict(X_val)\n",
    "\n",
    "# 汇报调优后的模型\n",
    "print (\"best_clf\\n------\")\n",
    "print (best_clf)\n",
    "\n",
    "# 汇报调参前和调参后的分数\n",
    "print (\"\\nUnoptimized model\\n------\")\n",
    "print (\"Accuracy score on validation data: {:.4f}\".format(accuracy_score(y_val, predictions)))\n",
    "print (\"F-score on validation data: {:.4f}\".format(fbeta_score(y_val, predictions, beta = 0.5)))\n",
    "print (\"\\nOptimized Model\\n------\")\n",
    "print (\"Final accuracy score on the validation data: {:.4f}\".format(accuracy_score(y_val, best_predictions)))\n",
    "print (\"Final F-score on the validation data: {:.4f}\".format(fbeta_score(y_val, best_predictions, beta = 0.5)))"
   ]
  },
  {
   "cell_type": "markdown",
   "metadata": {},
   "source": [
    "### 问题 5 - 最终模型评估\n",
    "\n",
    "_你的最优模型在测试数据上的准确率和 F-score 是多少？这些分数比没有优化的模型好还是差？_\n",
    "**注意：**请在下面的表格中填写你的结果，然后在答案框中提供讨论。"
   ]
  },
  {
   "cell_type": "markdown",
   "metadata": {},
   "source": [
    "#### 结果:\n",
    " \n",
    "| 评价指标         |  未优化的模型        | 优化的模型        |\n",
    "| :------------: |  :---------------: | :-------------: | \n",
    "| 准确率          |        0.8536            |       0.8538          |\n",
    "| F-score        |           0.7182          |         0.7184        |"
   ]
  },
  {
   "cell_type": "markdown",
   "metadata": {},
   "source": [
    "**回答：**\n",
    "- 优化后的准确率和F-score得分都上升了"
   ]
  },
  {
   "cell_type": "markdown",
   "metadata": {},
   "source": [
    "----\n",
    "## 特征的重要性\n",
    "\n",
    "在数据上（比如我们这里使用的人口普查的数据）使用监督学习算法的一个重要的任务是决定哪些特征能够提供最强的预测能力。专注于少量的有效特征和标签之间的关系，我们能够更加简单地理解这些现象，这在很多情况下都是十分有用的。在这个项目的情境下这表示我们希望选择一小部分特征，这些特征能够在预测被调查者是否年收入大于\\$50,000这个问题上有很强的预测能力。\n",
    "\n",
    "选择一个有 `'feature_importance_'` 属性的scikit学习分类器（例如 AdaBoost，随机森林）。`'feature_importance_'` 属性是对特征的重要性排序的函数。在下一个代码单元中用这个分类器拟合训练集数据并使用这个属性来决定人口普查数据中最重要的5个特征。"
   ]
  },
  {
   "cell_type": "markdown",
   "metadata": {},
   "source": [
    "### 问题 6 - 观察特征相关性\n",
    "\n",
    "当**探索数据**的时候，它显示在这个人口普查数据集中每一条记录我们有十三个可用的特征。             \n",
    "_在这十三个记录中，你认为哪五个特征对于预测是最重要的，选择每个特征的理由是什么？你会怎样对他们排序？_"
   ]
  },
  {
   "cell_type": "code",
   "execution_count": 135,
   "metadata": {},
   "outputs": [
    {
     "data": {
      "text/html": [
       "<div>\n",
       "<style scoped>\n",
       "    .dataframe tbody tr th:only-of-type {\n",
       "        vertical-align: middle;\n",
       "    }\n",
       "\n",
       "    .dataframe tbody tr th {\n",
       "        vertical-align: top;\n",
       "    }\n",
       "\n",
       "    .dataframe thead th {\n",
       "        text-align: right;\n",
       "    }\n",
       "</style>\n",
       "<table border=\"1\" class=\"dataframe\">\n",
       "  <thead>\n",
       "    <tr style=\"text-align: right;\">\n",
       "      <th></th>\n",
       "      <th>age</th>\n",
       "      <th>workclass</th>\n",
       "      <th>education_level</th>\n",
       "      <th>education-num</th>\n",
       "      <th>marital-status</th>\n",
       "      <th>occupation</th>\n",
       "      <th>relationship</th>\n",
       "      <th>race</th>\n",
       "      <th>sex</th>\n",
       "      <th>capital-gain</th>\n",
       "      <th>capital-loss</th>\n",
       "      <th>hours-per-week</th>\n",
       "      <th>native-country</th>\n",
       "    </tr>\n",
       "  </thead>\n",
       "  <tbody>\n",
       "    <tr>\n",
       "      <th>0</th>\n",
       "      <td>0.301370</td>\n",
       "      <td>State-gov</td>\n",
       "      <td>Bachelors</td>\n",
       "      <td>0.800000</td>\n",
       "      <td>Never-married</td>\n",
       "      <td>Adm-clerical</td>\n",
       "      <td>Not-in-family</td>\n",
       "      <td>White</td>\n",
       "      <td>Male</td>\n",
       "      <td>0.02174</td>\n",
       "      <td>0.0</td>\n",
       "      <td>0.397959</td>\n",
       "      <td>United-States</td>\n",
       "    </tr>\n",
       "    <tr>\n",
       "      <th>1</th>\n",
       "      <td>0.452055</td>\n",
       "      <td>Self-emp-not-inc</td>\n",
       "      <td>Bachelors</td>\n",
       "      <td>0.800000</td>\n",
       "      <td>Married-civ-spouse</td>\n",
       "      <td>Exec-managerial</td>\n",
       "      <td>Husband</td>\n",
       "      <td>White</td>\n",
       "      <td>Male</td>\n",
       "      <td>0.00000</td>\n",
       "      <td>0.0</td>\n",
       "      <td>0.122449</td>\n",
       "      <td>United-States</td>\n",
       "    </tr>\n",
       "    <tr>\n",
       "      <th>2</th>\n",
       "      <td>0.287671</td>\n",
       "      <td>Private</td>\n",
       "      <td>HS-grad</td>\n",
       "      <td>0.533333</td>\n",
       "      <td>Divorced</td>\n",
       "      <td>Handlers-cleaners</td>\n",
       "      <td>Not-in-family</td>\n",
       "      <td>White</td>\n",
       "      <td>Male</td>\n",
       "      <td>0.00000</td>\n",
       "      <td>0.0</td>\n",
       "      <td>0.397959</td>\n",
       "      <td>United-States</td>\n",
       "    </tr>\n",
       "    <tr>\n",
       "      <th>3</th>\n",
       "      <td>0.493151</td>\n",
       "      <td>Private</td>\n",
       "      <td>11th</td>\n",
       "      <td>0.400000</td>\n",
       "      <td>Married-civ-spouse</td>\n",
       "      <td>Handlers-cleaners</td>\n",
       "      <td>Husband</td>\n",
       "      <td>Black</td>\n",
       "      <td>Male</td>\n",
       "      <td>0.00000</td>\n",
       "      <td>0.0</td>\n",
       "      <td>0.397959</td>\n",
       "      <td>United-States</td>\n",
       "    </tr>\n",
       "    <tr>\n",
       "      <th>4</th>\n",
       "      <td>0.150685</td>\n",
       "      <td>Private</td>\n",
       "      <td>Bachelors</td>\n",
       "      <td>0.800000</td>\n",
       "      <td>Married-civ-spouse</td>\n",
       "      <td>Prof-specialty</td>\n",
       "      <td>Wife</td>\n",
       "      <td>Black</td>\n",
       "      <td>Female</td>\n",
       "      <td>0.00000</td>\n",
       "      <td>0.0</td>\n",
       "      <td>0.397959</td>\n",
       "      <td>Cuba</td>\n",
       "    </tr>\n",
       "  </tbody>\n",
       "</table>\n",
       "</div>"
      ],
      "text/plain": [
       "        age          workclass education_level  education-num  \\\n",
       "0  0.301370          State-gov       Bachelors       0.800000   \n",
       "1  0.452055   Self-emp-not-inc       Bachelors       0.800000   \n",
       "2  0.287671            Private         HS-grad       0.533333   \n",
       "3  0.493151            Private            11th       0.400000   \n",
       "4  0.150685            Private       Bachelors       0.800000   \n",
       "\n",
       "        marital-status          occupation    relationship    race      sex  \\\n",
       "0        Never-married        Adm-clerical   Not-in-family   White     Male   \n",
       "1   Married-civ-spouse     Exec-managerial         Husband   White     Male   \n",
       "2             Divorced   Handlers-cleaners   Not-in-family   White     Male   \n",
       "3   Married-civ-spouse   Handlers-cleaners         Husband   Black     Male   \n",
       "4   Married-civ-spouse      Prof-specialty            Wife   Black   Female   \n",
       "\n",
       "   capital-gain  capital-loss  hours-per-week  native-country  \n",
       "0       0.02174           0.0        0.397959   United-States  \n",
       "1       0.00000           0.0        0.122449   United-States  \n",
       "2       0.00000           0.0        0.397959   United-States  \n",
       "3       0.00000           0.0        0.397959   United-States  \n",
       "4       0.00000           0.0        0.397959            Cuba  "
      ]
     },
     "execution_count": 135,
     "metadata": {},
     "output_type": "execute_result"
    }
   ],
   "source": [
    "features_raw.head()"
   ]
  },
  {
   "cell_type": "markdown",
   "metadata": {},
   "source": [
    "**回答：**\n",
    "- 特征1: education_level 教育程度可能会对人对金钱和计划的态度有影响。\n",
    "- 特征2: capita-gain 收入可能会和是否接受金融产品相关。\n",
    "- 特征3: relationship 婚姻关系可能会让人更加注重未来的规划。\n",
    "- 特征4: workclass 工作不同可能对于人的安全感有影响，从而影响是否接受产品的意愿。\n",
    "- 特征5: sex 性别可能会决定对于未来的规划习惯。\n",
    "\n",
    "**v3更新：**\n",
    "- 根据老师的建议：你的猜测应该只与收入挂钩, 与个人意愿和态度都不应该有关系，这个逻辑很直观, 因为本项目的标签是收入, 而不是其他，可以再仔细阅读项目的\"开始\"部分哦。\n",
    "- 预测的不是是否会捐赠，而是income的分类 ，那么 capita-loss 应该选入。而relationship 和 sex 就没有那么相关了。workclass 的话可能在没看到数据时还会选择，因为猜测可能和收入相关。"
   ]
  },
  {
   "cell_type": "markdown",
   "metadata": {},
   "source": [
    "### 练习 - 提取特征重要性\n",
    "\n",
    "选择一个`scikit-learn`中有`feature_importance_`属性的监督学习分类器，这个属性是一个在做预测的时候根据所选择的算法来对特征重要性进行排序的功能。\n",
    "\n",
    "在下面的代码单元中，你将要实现以下功能：\n",
    " - 如果这个模型和你前面使用的三个模型不一样的话从sklearn中导入一个监督学习模型。\n",
    " - 在整个训练集上训练一个监督学习模型。\n",
    " - 使用模型中的 `'feature_importances_'`提取特征的重要性。"
   ]
  },
  {
   "cell_type": "code",
   "execution_count": 136,
   "metadata": {},
   "outputs": [
    {
     "data": {
      "image/png": "[encoded data removed]",
      "text/plain": [
       "<Figure size 648x360 with 1 Axes>"
      ]
     },
     "metadata": {
      "needs_background": "light"
     },
     "output_type": "display_data"
    }
   ],
   "source": [
    "# TODO：导入一个有'feature_importances_'的监督学习模型\n",
    "from sklearn.ensemble import AdaBoostClassifier\n",
    "from sklearn.ensemble import RandomForestClassifier\n",
    "\n",
    "# TODO：在训练集上训练一个监督学习模型\n",
    "model = AdaBoostClassifier(base_estimator = DecisionTreeClassifier(max_depth=2), n_estimators=100)\n",
    "start = time()\n",
    "model.fit(X_train, y_train)\n",
    "end = time()\n",
    "full_time = end - start\n",
    "## fit之后在下一步就可以求importances了\n",
    "\n",
    "# TODO： 提取特征重要性\n",
    "importances = model.feature_importances_\n",
    "## 在集成方法中，使用的feature_importances_是继承于base_estimator\n",
    "## 比如这个例子的说明是 https://scikit-learn.org/stable/auto_examples/ensemble/plot_forest_importances.html#sphx-glr-auto-examples-ensemble-plot-forest-importances-py\n",
    "\n",
    "# 绘图\n",
    "vs.feature_plot(importances, X_train, y_train)"
   ]
  },
  {
   "cell_type": "code",
   "execution_count": 137,
   "metadata": {},
   "outputs": [
    {
     "data": {
      "text/plain": [
       "0    0.522243\n",
       "dtype: float64"
      ]
     },
     "execution_count": 137,
     "metadata": {},
     "output_type": "execute_result"
    }
   ],
   "source": [
    "df_imp = pd.DataFrame(importances)\n",
    "df_imp.sort_index(by = 0, axis = 0,ascending = False)[:5].sum()"
   ]
  },
  {
   "cell_type": "markdown",
   "metadata": {},
   "source": [
    "### 问题 7 - 提取特征重要性\n",
    "观察上面创建的展示五个用于预测被调查者年收入是否大于\\$50,000最相关的特征的可视化图像。\n",
    "\n",
    "- 这五个特征的权重加起来是否超过了0.5?\n",
    "- 这五个特征和你在**问题 6**中讨论的特征比较怎么样？\n",
    "- 如果说你的答案和这里的相近，那么这个可视化怎样佐证了你的想法？\n",
    "- 如果你的选择不相近，那么为什么你觉得这些特征更加相关？"
   ]
  },
  {
   "attachments": {
    "4-140F4115013P8.jpg": {
     "image/jpeg": "[encoded data removed]"
    }
   },
   "cell_type": "markdown",
   "metadata": {},
   "source": [
    "**回答：v3**\n",
    "- 这五个特征的权重加起来是否超过了0.5?\n",
    "\n",
    "超过了，0.52\n",
    "\n",
    "- 这五个特征和你在**问题 6**中讨论的特征比较怎么样？\n",
    "\n",
    "应该从场景和目的出发，最后用数据验证。\n",
    "    - capital-gain, capital-loss 预测正确，因为和income直接相关。\n",
    "    - education-num 预测正确，收入和学历也相关。\n",
    "    - age 回看的话可以理解，和收入水平也是相关的。\n",
    "    - hours-per-week 没有考虑到，根据自身经验，互联网企业工资更高但工作时间更长。\n",
    "    - 翻出一张income和年龄的图：\n",
    "![4-140F4115013P8.jpg](attachment:4-140F4115013P8.jpg)\n",
    "\n",
    "- 如果说你的答案和这里的相近，那么这个可视化怎样佐证了你的想法？\n",
    "\n",
    "capital-gain （结合新发现的 capital-loss）定义了现金流，所以比较强势。education-num 对一个人的金钱价值观有影响（更倾向于思考未来），age 没有想到，随着年龄的增大，对于投资的关注会有变化。\n",
    "\n",
    "- 如果你的选择不相近，那么为什么你觉得这些特征更加相关？\n",
    "\n",
    "sex 和 workclass 这两个没有影响。sex 方面开始感觉男女思维方式会有不同，数据则表示无关。workclass 开始觉得工作职位会影响相关的思维模式，数据也表示无关。\n",
    "\n",
    "- 特征选择的重要性（v2）：\n",
    "    - [/感谢老师超赞的例子/](https://www.zhihu.com/question/21094489)\n",
    "    - [/逻辑回归的温习参考/](http://tech.meituan.com/intro_to_logistic_regression.html)\n"
   ]
  },
  {
   "cell_type": "markdown",
   "metadata": {},
   "source": [
    "**回答：-archive-**\n",
    "- 这五个特征的权重加起来是否超过了0.5?_<br> \n",
    "超过了，0.52\n",
    "- 这五个特征和你在**问题 6**中讨论的特征比较怎么样？\n",
    "区别在 age 和 hours-per-week 没有考虑到，应该用数据说话\n",
    "（done_Q增加：经验在数据分析中的作用？感谢反馈，应该从场景和目的出发，最后用数据验证。）\n",
    "- 如果说你的答案和这里的相近，那么这个可视化怎样佐证了你的想法？\n",
    "capital-gain （结合新发现的 capital-loss）定义了现金流，所以比较强势。education-num 对一个人的金钱价值观有影响（更倾向于思考未来），age 没有想到，随着年龄的增大，对于投资的关注会有变化。\n",
    "- 如果你的选择不相近，那么为什么你觉得这些特征更加相关？\n",
    "sex 和 workclass 这两个没有影响。sex 方面开始感觉男女思维方式会有不同，数据则表示无关。workclass 开始觉得工作职位会影响相关的思维模式，数据也表示无关。"
   ]
  },
  {
   "cell_type": "markdown",
   "metadata": {},
   "source": [
    "### 特征选择\n",
    "\n",
    "如果我们只是用可用特征的一个子集的话模型表现会怎么样？通过使用更少的特征来训练，在评价指标的角度来看我们的期望是训练和预测的时间会更少。从上面的可视化来看，我们可以看到前五个最重要的特征贡献了数据中**所有**特征中超过一半的重要性。这提示我们可以尝试去**减小特征空间**，简化模型需要学习的信息。下面代码单元将使用你前面发现的优化模型，并**只使用五个最重要的特征**在相同的训练集上训练模型。"
   ]
  },
  {
   "cell_type": "code",
   "execution_count": 138,
   "metadata": {},
   "outputs": [
    {
     "name": "stdout",
     "output_type": "stream",
     "text": [
      "Final Model trained on full features\n",
      "------\n",
      "Accuracy on validation data: 0.8521\n",
      "F-score on validation data: 0.7150\n",
      "\n",
      "Final Model trained on reduced features\n",
      "------\n",
      "Accuracy on validation data: 0.8143\n",
      "F-score on validation data: 0.6253\n"
     ]
    }
   ],
   "source": [
    "# 导入克隆模型的功能\n",
    "from sklearn.base import clone\n",
    "\n",
    "# 减小特征空间\n",
    "X_train_reduced = X_train[X_train.columns.values[(np.argsort(importances)[::-1])[:5]]]\n",
    "X_val_reduced = X_val[X_val.columns.values[(np.argsort(importances)[::-1])[:5]]]\n",
    "\n",
    "# 在前面的网格搜索的基础上训练一个“最好的”模型\n",
    "start = time()\n",
    "clf_on_reduced = (clone(best_clf)).fit(X_train_reduced, y_train)\n",
    "end = time()\n",
    "best_time = end - start\n",
    "## clone 是deep copy，可以加safe参数：\n",
    "## Clone does a deep copy of the model in an estimator without actually copying attached data. It yields a new estimator with the same parameters that has not been fit on any data.\n",
    "\n",
    "# 做一个新的预测\n",
    "reduced_predictions = clf_on_reduced.predict(X_val_reduced)\n",
    "\n",
    "# 对于每一个版本的数据汇报最终模型的分数\n",
    "print (\"Final Model trained on full features\\n------\")\n",
    "print (\"Accuracy on validation data: {:.4f}\".format(accuracy_score(y_val, best_predictions)))\n",
    "print (\"F-score on validation data: {:.4f}\".format(fbeta_score(y_val, best_predictions, beta = 0.5)))\n",
    "print (\"\\nFinal Model trained on reduced features\\n------\")\n",
    "print (\"Accuracy on validation data: {:.4f}\".format(accuracy_score(y_val, reduced_predictions)))\n",
    "print (\"F-score on validation data: {:.4f}\".format(fbeta_score(y_val, reduced_predictions, beta = 0.5)))"
   ]
  },
  {
   "cell_type": "markdown",
   "metadata": {},
   "source": [
    "### 问题 8 - 特征选择的影响\n",
    "\n",
    "*最终模型在只是用五个特征的数据上和使用所有的特征数据上的 F-score 和准确率相比怎么样？*  \n",
    "*如果训练时间是一个要考虑的因素，你会考虑使用部分特征的数据作为你的训练集吗？*"
   ]
  },
  {
   "cell_type": "code",
   "execution_count": 139,
   "metadata": {},
   "outputs": [
    {
     "data": {
      "text/plain": [
       "0.9555627635420045"
      ]
     },
     "execution_count": 139,
     "metadata": {},
     "output_type": "execute_result"
    }
   ],
   "source": [
    "accuracy_score(y_val, reduced_predictions) / accuracy_score(y_val, best_predictions)"
   ]
  },
  {
   "cell_type": "code",
   "execution_count": 140,
   "metadata": {},
   "outputs": [
    {
     "data": {
      "text/plain": [
       "0.8745363809076254"
      ]
     },
     "execution_count": 140,
     "metadata": {},
     "output_type": "execute_result"
    }
   ],
   "source": [
    "fbeta_score(y_val, reduced_predictions, beta = 0.5) / fbeta_score(y_val, best_predictions, beta = 0.5)"
   ]
  },
  {
   "cell_type": "code",
   "execution_count": 141,
   "metadata": {},
   "outputs": [
    {
     "data": {
      "text/plain": [
       "(0.09776186943054199, 4.230621099472046, 43.27475654992281)"
      ]
     },
     "execution_count": 141,
     "metadata": {},
     "output_type": "execute_result"
    }
   ],
   "source": [
    "best_time, full_time, full_time / best_time"
   ]
  },
  {
   "cell_type": "markdown",
   "metadata": {},
   "source": [
    "**回答：v3** \n",
    "结论是会考虑，从以下几个方面分析：\n",
    "- 运行效率方面：\n",
    "    - 见上面3个代码。\n",
    "    - accuracy 达到了96%，相差不多。\n",
    "    - fbeta_score 达到了88%，相差不多。\n",
    "    - 运行时间相差了34倍。\n",
    "    - 综上所述，尤其在大规模运用的时候，处理的计算成本和等待时间非常重要。\n",
    "- 模型选择方面：\n",
    "    - 此次优化模型选择的是逻辑分类模型：\n",
    "    - 逻辑分类模型会将众多参数进行转化并且寻找是否相关。\n",
    "    - 当参数很多的时候，会造成过拟合。\n",
    "    - 因为有的参数之间本身就是相关的。\n",
    "    - 所以考虑使用feature_importance找出最相关的参数进行处理。\n",
    "- 预测效果：\n",
    "    - 有效的避免的过拟合，在测试集上结果非常接近（见最后一段）。\n",
    "\n",
    "**回答：** 会考虑，见上面3个代码：\n",
    "- accuracy 达到了96%，相差不多。\n",
    "- fbeta_score 达到了88%，相差不多。\n",
    "- 运行时间相差了34倍。\n",
    "\n",
    "在考虑到时间因素的情况下，牺牲10%的效果，可以将训练时间缩短到3%，非常划算，在处理时间和资源为考虑条件时十分理想。同时也可以通过尝试5，6，7，8等等多个feature和时间的对比细化到一个更能接受的trade-off。（比如要求fbeta至少达到90%，则还要少量增加一些参数。）"
   ]
  },
  {
   "cell_type": "markdown",
   "metadata": {},
   "source": [
    "### 问题 9 - 在测试集上测试你的模型\n",
    "\n",
    "终于到了测试的时候，记住，测试集只能用一次。\n",
    "\n",
    "*使用你最有信心的模型，在测试集上测试，计算出准确率和 F-score。*\n",
    "*简述你选择这个模型的原因，并分析测试结果*"
   ]
  },
  {
   "cell_type": "code",
   "execution_count": 142,
   "metadata": {},
   "outputs": [
    {
     "data": {
      "text/plain": [
       "LogisticRegression(C=1.0, class_weight=None, dual=False, fit_intercept=True,\n",
       "          intercept_scaling=1, max_iter=100, multi_class='warn',\n",
       "          n_jobs=None, penalty='l2', random_state=42, solver='warn',\n",
       "          tol=0.0001, verbose=0, warm_start=False)"
      ]
     },
     "execution_count": 142,
     "metadata": {},
     "output_type": "execute_result"
    }
   ],
   "source": [
    "clf"
   ]
  },
  {
   "cell_type": "code",
   "execution_count": 143,
   "metadata": {},
   "outputs": [
    {
     "data": {
      "text/plain": [
       "LogisticRegression(C=1.0, class_weight=None, dual=False, fit_intercept=True,\n",
       "          intercept_scaling=1, max_iter=10, multi_class='warn',\n",
       "          n_jobs=None, penalty='l2', random_state=42, solver='sag',\n",
       "          tol=0.0001, verbose=0, warm_start=False)"
      ]
     },
     "execution_count": 143,
     "metadata": {},
     "output_type": "execute_result"
    }
   ],
   "source": [
    "#TODO test your model on testing data and report accuracy and F score\n",
    "best_clf"
   ]
  },
  {
   "cell_type": "code",
   "execution_count": 144,
   "metadata": {},
   "outputs": [
    {
     "name": "stdout",
     "output_type": "stream",
     "text": [
      "\n",
      "Unoptimized model\n",
      "------\n",
      "Accuracy score on validation data: 0.8536\n",
      "F-score on validation data: 0.7182\n",
      "\n",
      "Optimized Model\n",
      "------\n",
      "Final accuracy score on the validation data: 0.8521\n",
      "Final F-score on the validation data: 0.7150\n",
      "\n",
      "Unoptimized Model on Testing\n",
      "------\n",
      "Final accuracy score on the validation data: 0.8458\n",
      "Final F-score on the validation data: 0.7010\n",
      "\n",
      "Optimized Model on Testing\n",
      "------\n",
      "Final accuracy score on the validation data: 0.8461\n",
      "Final F-score on the validation data: 0.7018\n"
     ]
    }
   ],
   "source": [
    "test_predictions = clf.predict(X_test)\n",
    "best_test_predictions = best_clf.predict(X_test)\n",
    "# 汇报调参前和调参后的分数\n",
    "print (\"\\nUnoptimized model\\n------\")\n",
    "print (\"Accuracy score on validation data: {:.4f}\".format(accuracy_score(y_val, predictions)))\n",
    "print (\"F-score on validation data: {:.4f}\".format(fbeta_score(y_val, predictions, beta = 0.5)))\n",
    "print (\"\\nOptimized Model\\n------\")\n",
    "print (\"Final accuracy score on the validation data: {:.4f}\".format(accuracy_score(y_val, best_predictions)))\n",
    "print (\"Final F-score on the validation data: {:.4f}\".format(fbeta_score(y_val, best_predictions, beta = 0.5)))\n",
    "print (\"\\nUnoptimized Model on Testing\\n------\")\n",
    "print (\"Final accuracy score on the validation data: {:.4f}\".format(accuracy_score(y_test, test_predictions)))\n",
    "print (\"Final F-score on the validation data: {:.4f}\".format(fbeta_score(y_test, test_predictions, beta = 0.5)))\n",
    "print (\"\\nOptimized Model on Testing\\n------\")\n",
    "print (\"Final accuracy score on the validation data: {:.4f}\".format(accuracy_score(y_test, best_test_predictions)))\n",
    "print (\"Final F-score on the validation data: {:.4f}\".format(fbeta_score(y_test, best_test_predictions, beta = 0.5)))"
   ]
  },
  {
   "cell_type": "code",
   "execution_count": 145,
   "metadata": {},
   "outputs": [
    {
     "data": {
      "text/plain": [
       "0.9929289652935452"
      ]
     },
     "execution_count": 145,
     "metadata": {},
     "output_type": "execute_result"
    }
   ],
   "source": [
    "accuracy_score(y_test, best_test_predictions) / accuracy_score(y_val, best_predictions)"
   ]
  },
  {
   "cell_type": "code",
   "execution_count": 146,
   "metadata": {},
   "outputs": [
    {
     "data": {
      "text/plain": [
       "0.9814660310240431"
      ]
     },
     "execution_count": 146,
     "metadata": {},
     "output_type": "execute_result"
    }
   ],
   "source": [
    "fbeta_score(y_test, best_test_predictions, beta = 0.5) / fbeta_score(y_val, best_predictions, beta = 0.5)"
   ]
  },
  {
   "cell_type": "markdown",
   "metadata": {},
   "source": [
    "- 选择逻辑回归的原因是速度快、效果好（具体数值见模型选择一节）\n",
    "- 使用bestestimate的结果很好：\n",
    "    - accuracy 达到 99%\n",
    "    - fbeta 达到 98%\n",
    "- 虽然 Optimized 比 Unoptimized 在训练集的得分低，但是在测试集的得分相当：\n",
    "    - accuracy，验证集（-0.0013）测试集（0.0001）\n",
    "    - fbeta，验证集（-0.0047）测试集（-0.0002）\n",
    "    - 从数值看，Optimized 的在测试集上表现很好，而 Unoptimized 则变化较大，说明有一点过拟合\n",
    "    -（Q）：是否可以使用寻找 Optimized 方法防止过拟合？"
   ]
  },
  {
   "cell_type": "markdown",
   "metadata": {},
   "source": [
    "> **注意：** 当你写完了所有的代码，并且回答了所有的问题。你就可以把你的 iPython Notebook 导出成 HTML 文件。你可以在菜单栏，这样导出**File -> Download as -> HTML (.html)**把这个 HTML 和这个 iPython notebook 一起做为你的作业提交。"
   ]
  }
 ],
 "metadata": {
  "anaconda-cloud": {},
  "kernelspec": {
   "display_name": "Python 3",
   "language": "python",
   "name": "python3"
  },
  "language_info": {
   "codemirror_mode": {
    "name": "ipython",
    "version": 3
   },
   "file_extension": ".py",
   "mimetype": "text/x-python",
   "name": "python",
   "nbconvert_exporter": "python",
   "pygments_lexer": "ipython3",
   "version": "3.6.7"
  }
 },
 "nbformat": 4,
 "nbformat_minor": 1
}
