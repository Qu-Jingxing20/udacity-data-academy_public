{
 "cells": [
  {
   "cell_type": "markdown",
   "metadata": {},
   "source": [
    "### 冷启动问题\n",
    "\n",
    "在上个 notebook 中，你第一次听说了**冷启动问题**。如果遇到新用户或新电影，协同过滤方法将无法做出预测。\n",
    "\n",
    "你需要使用在上节课学习的技巧做出预测，例如针对新项目使用基于内容的推荐方法，或针对新用户使用基于排名的推荐方法。  \n",
    "\n",
    "在创建推荐系统的最后一步，我们将处理这些极端情形。首先请运行以下单元格。\n",
    "\n",
    "### 矩阵分解 - 适合协同过滤的情形\n",
    "\n",
    "运行以下单元格后会获得以下信息：\n",
    "\n",
    "`1.` **reviews** - 一个评价 dataframe\n",
    "\n",
    "`2.` **movies** - 一个电影 dataframe\n",
    "\n",
    "`3.` **create_train_test** - 一个创建训练数据集和验证数据集的函数\n",
    "\n",
    "`4.` **predict_rating** - 一个参数包括用户和电影的函数，并且能够使用 FunkSVD 提供预测\n",
    "\n",
    "`5.` **train_df** 和 **val_df** - 在上个 notebook 中使用的训练集和测试集\n",
    "\n",
    "`6.` **user_mat** 和 **movie_mat** - 通过 FunkSVD 获得的 u 和 v 矩阵\n",
    "\n",
    "`7.` **train_data_df** - 包含评分的用户-电影矩阵。对此矩阵执行了 FunkSVD"
   ]
  },
  {
   "cell_type": "code",
   "execution_count": 6,
   "metadata": {
    "ExecuteTime": {
     "end_time": "2019-09-14T09:08:50.620067Z",
     "start_time": "2019-09-14T09:08:46.446905Z"
    }
   },
   "outputs": [],
   "source": [
    "import numpy as np\n",
    "import pandas as pd\n",
    "import matplotlib.pyplot as plt\n",
    "import seaborn as sns\n",
    "%matplotlib inline\n",
    "import pickle\n",
    "\n",
    "# Read in the datasets\n",
    "movies = pd.read_csv('movies_clean.csv')\n",
    "reviews = pd.read_csv('reviews_clean.csv')\n",
    "\n",
    "del movies['Unnamed: 0']\n",
    "del reviews['Unnamed: 0']\n",
    "\n",
    "def create_train_test(reviews, order_by, training_size, testing_size):\n",
    "    '''    \n",
    "    INPUT:\n",
    "    reviews - (pandas df) dataframe to split into train and test\n",
    "    order_by - (string) column name to sort by\n",
    "    training_size - (int) number of rows in training set\n",
    "    testing_size - (int) number of columns in the test set\n",
    "    \n",
    "    OUTPUT:\n",
    "    training_df -  (pandas df) dataframe of the training set\n",
    "    validation_df - (pandas df) dataframe of the test set\n",
    "    '''\n",
    "    reviews_new = reviews.sort_values(order_by)\n",
    "    training_df = reviews_new.head(training_size)\n",
    "    validation_df = reviews_new.iloc[training_size:training_size+testing_size]\n",
    "    \n",
    "    return training_df, validation_df\n",
    "\n",
    "def predict_rating(user_matrix, movie_matrix, user_id, movie_id):\n",
    "    '''\n",
    "    INPUT:\n",
    "    user_matrix - user by latent factor matrix\n",
    "    movie_matrix - latent factor by movie matrix\n",
    "    user_id - the user_id from the reviews df\n",
    "    movie_id - the movie_id according the movies df\n",
    "    \n",
    "    OUTPUT:\n",
    "    pred - the predicted rating for user_id-movie_id according to FunkSVD\n",
    "    '''\n",
    "    # Create series of users and movies in the right order\n",
    "    user_ids_series = np.array(train_data_df.index)\n",
    "    movie_ids_series = np.array(train_data_df.columns)\n",
    "    \n",
    "    # User row and Movie Column\n",
    "    user_row = np.where(user_ids_series == user_id)[0][0]\n",
    "    movie_col = np.where(movie_ids_series == movie_id)[0][0]\n",
    "    \n",
    "    # Take dot product of that row and column in U and V to make prediction\n",
    "    pred = np.dot(user_matrix[user_row, :], movie_matrix[:, movie_col])\n",
    "    \n",
    "    return pred\n",
    "\n",
    "# Use our function to create training and test datasets\n",
    "train_df, val_df = create_train_test(reviews, 'date', 8000, 2000)\n",
    "\n",
    "# Create user-by-item matrix - this will keep track of order of users and movies in u and v\n",
    "train_user_item = train_df[['user_id', 'movie_id', 'rating', 'timestamp']]\n",
    "train_data_df = train_user_item.groupby(['user_id', 'movie_id'])['rating'].max().unstack()\n",
    "train_data_np = np.array(train_data_df)\n",
    "\n",
    "# Read in user and movie matrices\n",
    "user_file = open(\"user_matrix\", 'rb')\n",
    "user_mat = pickle.load(user_file)\n",
    "user_file.close()\n",
    "\n",
    "movie_file = open(\"movie_matrix\", 'rb')\n",
    "movie_mat = pickle.load(movie_file)\n",
    "movie_file.close()"
   ]
  },
  {
   "cell_type": "markdown",
   "metadata": {},
   "source": [
    "### 验证预测值\n",
    "\n",
    "遗憾的是，你无法对测试集中的每个用户-电影组合做出预测，因为某些用户或电影是新添加的。  \n",
    "\n",
    "但是，你可以对 user_mat 和 movie_mat 矩阵中存在的用户-电影对进行预测。  \n",
    "\n",
    "`1.` 请完成以下函数，看看所有预测评分的平均值与实际值相差多少。"
   ]
  },
  {
   "cell_type": "code",
   "execution_count": 7,
   "metadata": {
    "ExecuteTime": {
     "end_time": "2019-09-14T09:08:50.644971Z",
     "start_time": "2019-09-14T09:08:50.622901Z"
    }
   },
   "outputs": [],
   "source": [
    "def validation_comparison(val_df, user_mat=user_mat, movie_mat=movie_mat):\n",
    "    '''\n",
    "    INPUT:\n",
    "    val_df - the validation dataset created in the third cell above\n",
    "    user_mat - U matrix in FunkSVD\n",
    "    movie_mat - V matrix in FunkSVD\n",
    "        \n",
    "    OUTPUT:\n",
    "    rmse - RMSE of how far off each value is from it's predicted value\n",
    "    perc_rated - percent of predictions out of all possible that could be rated\n",
    "    actual_v_pred - a 10 x 10 grid with counts for actual vs predicted values\n",
    "    '''\n",
    "        \n",
    "    val_users = np.array(val_df['user_id'])\n",
    "    val_movies = np.array(val_df['movie_id'])\n",
    "    val_ratings = np.array(val_df['rating'])\n",
    "    \n",
    "    sse = 0\n",
    "    num_rated = 0\n",
    "    preds, acts = [], []\n",
    "    actual_v_pred = np.zeros((10,10))\n",
    "    for idx in range(len(val_users)):\n",
    "        try:\n",
    "            pred = predict_rating(user_mat, movie_mat, val_users[idx], val_movies[idx])\n",
    "            sse += (val_ratings[idx] - pred)**2\n",
    "            num_rated+=1\n",
    "            preds.append(pred)\n",
    "            acts.append(val_ratings[idx])\n",
    "            actual_v_pred[11-int(val_ratings[idx]-1), int(round(pred)-1)]+=1\n",
    "        \n",
    "        except:\n",
    "            continue\n",
    "    \n",
    "    rmse = np.sqrt(sse/num_rated)\n",
    "    perc_rated = num_rated/len(val_users)\n",
    "    return rmse, perc_rated, actual_v_pred, preds, acts"
   ]
  },
  {
   "cell_type": "code",
   "execution_count": 8,
   "metadata": {
    "ExecuteTime": {
     "end_time": "2019-09-14T09:08:50.999948Z",
     "start_time": "2019-09-14T09:08:50.650078Z"
    }
   },
   "outputs": [
    {
     "name": "stdout",
     "output_type": "stream",
     "text": [
      "2.04861637989704 0.4795\n"
     ]
    },
    {
     "data": {
      "image/png": "[encoded data removed]",
      "text/plain": [
       "<Figure size 432x288 with 2 Axes>"
      ]
     },
     "metadata": {
      "needs_background": "light"
     },
     "output_type": "display_data"
    }
   ],
   "source": [
    "# How well did we do? # Make some plots and calculate some statistics to \n",
    "# understand how well this technique is working\n",
    "rmse, perc_rated, actual_v_pred, preds, acts = validation_comparison(val_df)\n",
    "print(rmse, perc_rated)\n",
    "sns.heatmap(actual_v_pred);\n",
    "plt.xticks(np.arange(10), np.arange(1,11));\n",
    "plt.yticks(np.arange(10), np.arange(1,11));\n",
    "plt.xlabel(\"Predicted Values\");\n",
    "plt.ylabel(\"Actual Values\");\n",
    "plt.title(\"Actual vs. Predicted Values\");"
   ]
  },
  {
   "cell_type": "code",
   "execution_count": 9,
   "metadata": {
    "ExecuteTime": {
     "end_time": "2019-09-14T09:08:51.267327Z",
     "start_time": "2019-09-14T09:08:51.003728Z"
    }
   },
   "outputs": [
    {
     "name": "stderr",
     "output_type": "stream",
     "text": [
      "/Users/francis/miniconda3/envs/py36/lib/python3.6/site-packages/ipykernel_launcher.py:2: MatplotlibDeprecationWarning: \n",
      "The 'normed' kwarg was deprecated in Matplotlib 2.1 and will be removed in 3.1. Use 'density' instead.\n",
      "  \n",
      "/Users/francis/miniconda3/envs/py36/lib/python3.6/site-packages/ipykernel_launcher.py:3: MatplotlibDeprecationWarning: \n",
      "The 'normed' kwarg was deprecated in Matplotlib 2.1 and will be removed in 3.1. Use 'density' instead.\n",
      "  This is separate from the ipykernel package so we can avoid doing imports until\n"
     ]
    },
    {
     "data": {
      "image/png": "[encoded data removed]",
      "text/plain": [
       "<Figure size 576x576 with 1 Axes>"
      ]
     },
     "metadata": {
      "needs_background": "light"
     },
     "output_type": "display_data"
    }
   ],
   "source": [
    "plt.figure(figsize=(8,8))\n",
    "plt.hist(acts, normed=True, alpha=.5, label='actual');\n",
    "plt.hist(preds, normed=True, alpha=.5, label='predicted');\n",
    "plt.legend(loc=2, prop={'size': 15});\n",
    "plt.xlabel('Rating');\n",
    "plt.title('Predicted vs. Actual Rating');"
   ]
  },
  {
   "cell_type": "markdown",
   "metadata": {},
   "source": [
    "`2.` 我们的预测值并没有多糟糕。但是，我们无法对多少个用户-电影对做出预测？请在以下单元格中回答这个问题。"
   ]
  },
  {
   "cell_type": "code",
   "execution_count": 10,
   "metadata": {
    "ExecuteTime": {
     "end_time": "2019-09-14T09:09:11.626586Z",
     "start_time": "2019-09-14T09:09:11.619538Z"
    }
   },
   "outputs": [
    {
     "name": "stdout",
     "output_type": "stream",
     "text": [
      "Number not rated 1041\n",
      "Number rated 959.\n"
     ]
    }
   ],
   "source": [
    "# From the above, this can be calculated as follows:\n",
    "print(\"Number not rated {}\".format(int(len(val_df['rating'])*(1-perc_rated))))\n",
    "print(\"Number rated {}.\".format(int(len(val_df['rating'])*perc_rated)))"
   ]
  },
  {
   "cell_type": "markdown",
   "metadata": {},
   "source": [
    "### 对新电影采用基于内容的推荐方法\n",
    "\n",
    "如果上述流程都没有问题，你将发现我们依然需要处理一些极端情况。我们需要针对这些新用户和电影应用在上节课编写的一些代码。以下代码可以基于内容做出推荐，能够发现与其他电影相似的电影。这部分代码来自上节课的 **5_Content_Based_Recommendations** 部分。\n",
    "\n",
    "以下函数 **find_similar_movies** 将仅根据内容提供与任何电影相似的电影。  \n",
    "\n",
    "请运行以下单元格并获取基于内容的相似性函数。"
   ]
  },
  {
   "cell_type": "code",
   "execution_count": 11,
   "metadata": {
    "ExecuteTime": {
     "end_time": "2019-09-14T09:10:43.473797Z",
     "start_time": "2019-09-14T09:09:30.014436Z"
    }
   },
   "outputs": [],
   "source": [
    "# Subset so movie_content is only using the dummy variables for each genre and the 3 century based year dummy columns\n",
    "movie_content = np.array(movies.iloc[:,4:])\n",
    "\n",
    "# Take the dot product to obtain a movie x movie matrix of similarities\n",
    "dot_prod_movies = movie_content.dot(np.transpose(movie_content))\n",
    "\n",
    "\n",
    "def find_similar_movies(movie_id):\n",
    "    '''\n",
    "    INPUT\n",
    "    movie_id - a movie_id \n",
    "    OUTPUT\n",
    "    similar_movies - an array of the most similar movies by title\n",
    "    '''\n",
    "    # find the row of each movie id\n",
    "    movie_idx = np.where(movies['movie_id'] == movie_id)[0][0]\n",
    "    \n",
    "    # find the most similar movie indices - to start I said they need to be the same for all content\n",
    "    similar_idxs = np.where(dot_prod_movies[movie_idx] == np.max(dot_prod_movies[movie_idx]))[0]\n",
    "    \n",
    "    # pull the movie titles based on the indices\n",
    "    similar_movies = np.array(movies.iloc[similar_idxs, ]['movie'])\n",
    "    \n",
    "    return similar_movies\n",
    "    \n",
    "    \n",
    "def get_movie_names(movie_ids):\n",
    "    '''\n",
    "    INPUT\n",
    "    movie_ids - a list of movie_ids\n",
    "    OUTPUT\n",
    "    movies - a list of movie names associated with the movie_ids\n",
    "    \n",
    "    '''\n",
    "    movie_lst = list(movies[movies['movie_id'].isin(movie_ids)]['movie'])\n",
    "   \n",
    "    return movie_lst"
   ]
  },
  {
   "cell_type": "markdown",
   "metadata": {},
   "source": [
    "### 对新用户采用基于排名的推荐方法\n",
    "\n",
    "通过上述两个代码单元格，我们能够对在用户-电影矩阵的任何部分具有评分的电影-用户对做出推荐。我们还可以通过电影相似性针对从未获得评分的电影预测评分。\n",
    "\n",
    "在最后一部分，我们需要对新用户做出推荐。我们可以利用在第一节课的 **2_Most_Popular_Recommendations** 部分创建的函数。请运行以下单元格并获取这些函数。\n",
    "\n",
    "请运行以下单元格并获取基于排名的函数。"
   ]
  },
  {
   "cell_type": "code",
   "execution_count": 19,
   "metadata": {
    "ExecuteTime": {
     "end_time": "2019-09-14T09:16:29.651715Z",
     "start_time": "2019-09-14T09:16:29.642541Z"
    }
   },
   "outputs": [],
   "source": [
    "def create_ranked_df(movies, reviews):\n",
    "        '''\n",
    "        INPUT\n",
    "        movies - the movies dataframe\n",
    "        reviews - the reviews dataframe\n",
    "        \n",
    "        OUTPUT\n",
    "        ranked_movies - a dataframe with movies that are sorted by highest avg rating, more reviews, \n",
    "                        then time, and must have more than 4 ratings\n",
    "        '''\n",
    "        \n",
    "        # Pull the average ratings and number of ratings for each movie\n",
    "        movie_ratings = reviews.groupby('movie_id')['rating']\n",
    "        avg_ratings = movie_ratings.mean()\n",
    "        num_ratings = movie_ratings.count()\n",
    "        last_rating = pd.DataFrame(reviews.groupby('movie_id').max()['date'])\n",
    "        last_rating.columns = ['last_rating']\n",
    "\n",
    "        # Add Dates\n",
    "        rating_count_df = pd.DataFrame({'avg_rating': avg_ratings, 'num_ratings': num_ratings})\n",
    "        rating_count_df = rating_count_df.join(last_rating)\n",
    "\n",
    "        # merge with the movies dataset\n",
    "        movie_recs = movies.set_index('movie_id').join(rating_count_df)\n",
    "\n",
    "        # sort by top avg rating and number of ratings\n",
    "        ranked_movies = movie_recs.sort_values(['avg_rating', 'num_ratings', 'last_rating'], ascending=False)\n",
    "\n",
    "        # for edge cases - subset the movie list to those with only 5 or more reviews\n",
    "        ranked_movies = ranked_movies[ranked_movies['num_ratings'] > 4]\n",
    "        \n",
    "        return ranked_movies\n",
    "    \n",
    "\n",
    "def popular_recommendations(user_id, n_top, ranked_movies):\n",
    "    '''\n",
    "    INPUT:\n",
    "    user_id - the user_id (str) of the individual you are making recommendations for\n",
    "    n_top - an integer of the number recommendations you want back\n",
    "    ranked_movies - a pandas dataframe of the already ranked movies based on avg rating, count, and time\n",
    "\n",
    "    OUTPUT:\n",
    "    top_movies - a list of the n_top recommended movies by movie title in order best to worst\n",
    "    '''\n",
    "\n",
    "    top_movies = list(ranked_movies['movie'][:n_top])\n",
    "\n",
    "    return top_movies\n",
    "        "
   ]
  },
  {
   "cell_type": "markdown",
   "metadata": {},
   "source": [
    "### 你的任务\n",
    "\n",
    "上述单元格已经为做出预测准备好一切条件。你的任务是编写一个函数，它会根据需要使用上述信息为 **val_df** dataframe 中的每个用户提供推荐。正确答案不止一个，但是结合使用三种方法可能是最合适的解决方案。  \n",
    "\n",
    "你可以在下个页面的视频中查看我是如何结合使用这些方法的，当然，你也可以想出其他有创意的方法。\n",
    "\n",
    "`3.` 请利用以下函数和文档字符串完成此 notebook 中的任务。"
   ]
  },
  {
   "cell_type": "code",
   "execution_count": 17,
   "metadata": {
    "ExecuteTime": {
     "end_time": "2019-09-14T09:13:20.936510Z",
     "start_time": "2019-09-14T09:13:20.927603Z"
    }
   },
   "outputs": [],
   "source": [
    "def make_recommendations(_id, _id_type='movie', train_data=train_data_df, \n",
    "                         train_df=train_df, movies=movies, rec_num=5, user_mat=user_mat):\n",
    "    '''\n",
    "    INPUT:\n",
    "    _id - either a user or movie id (int)\n",
    "    _id_type - \"movie\" or \"user\" (str)\n",
    "    train_data - dataframe of data as user-movie matrix\n",
    "    train_df - dataframe of training data reviews\n",
    "    movies - movies df\n",
    "    rec_num - number of recommendations to return (int)\n",
    "    user_mat - the U matrix of matrix factorization\n",
    "    movie_mat - the V matrix of matrix factorization\n",
    "    \n",
    "    OUTPUT:\n",
    "    recs - (array) a list or numpy array of recommended movies like the \n",
    "                   given movie, or recs for a user_id given\n",
    "    '''\n",
    "    # if the user is available from the matrix factorization data, \n",
    "    # I will use this and rank movies based on the predicted values\n",
    "    # For use with user indexing\n",
    "    val_users = train_data_df.index\n",
    "    rec_ids = create_ranked_df(movies, train_df)\n",
    "    \n",
    "    if _id_type == 'user':\n",
    "        if _id in train_data.index:\n",
    "            # Get the index of which row the user is in for use in U matrix\n",
    "            idx = np.where(val_users == _id)[0][0]\n",
    "            \n",
    "            # take the dot product of that row and the V matrix\n",
    "            preds = np.dot(user_mat[idx,:],movie_mat)\n",
    "            \n",
    "            # pull the top movies according to the prediction\n",
    "            indices = preds.argsort()[-rec_num:][::-1] #indices\n",
    "            rec_ids = train_data_df.columns[indices]\n",
    "            rec_names = get_movie_names(rec_ids)\n",
    "            \n",
    "        else:\n",
    "            # if we don't have this user, give just top ratings back\n",
    "            rec_names = popular_recommendations(_id, rec_num, ranked_movies)\n",
    "            \n",
    "    # Find similar movies if it is a movie that is passed\n",
    "    else:\n",
    "        rec_ids = find_similar_movies(_id)\n",
    "        rec_names = get_movie_names(rec_ids)\n",
    "    \n",
    "    return rec_ids, rec_names"
   ]
  },
  {
   "cell_type": "code",
   "execution_count": 14,
   "metadata": {
    "ExecuteTime": {
     "end_time": "2019-09-14T09:10:49.249473Z",
     "start_time": "2019-09-14T09:10:43.584429Z"
    }
   },
   "outputs": [
    {
     "data": {
      "text/plain": [
       "(Int64Index([92965, 838283, 1659337, 1205489, 421715], dtype='int64', name='movie_id'),\n",
       " ['Empire of the Sun (1987)',\n",
       "  'The Curious Case of Benjamin Button (2008)',\n",
       "  'Step Brothers (2008)',\n",
       "  'Gran Torino (2008)',\n",
       "  'The Perks of Being a Wallflower (2012)'])"
      ]
     },
     "execution_count": 14,
     "metadata": {},
     "output_type": "execute_result"
    }
   ],
   "source": [
    "# Use these cells to see that you can truly predict for everyone in the test set\n",
    "# Do you see anything insightful?\n",
    "make_recommendations(48, 'user')"
   ]
  },
  {
   "cell_type": "code",
   "execution_count": 24,
   "metadata": {
    "ExecuteTime": {
     "end_time": "2019-09-14T09:24:51.379981Z",
     "start_time": "2019-09-14T09:24:51.371477Z"
    }
   },
   "outputs": [
    {
     "data": {
      "text/plain": [
       "1241"
      ]
     },
     "execution_count": 24,
     "metadata": {},
     "output_type": "execute_result"
    }
   ],
   "source": [
    "len(set(val_df['user_id']))"
   ]
  },
  {
   "cell_type": "code",
   "execution_count": 20,
   "metadata": {
    "ExecuteTime": {
     "end_time": "2019-09-14T09:21:57.719018Z",
     "start_time": "2019-09-14T09:21:52.284980Z"
    }
   },
   "outputs": [
    {
     "data": {
      "text/plain": [
       "(Int64Index([1682180, 1024648, 468569, 1276104, 1866249], dtype='int64', name='movie_id'),\n",
       " ['The Dark Knight (2008)',\n",
       "  'Argo (2012)',\n",
       "  'Looper (2012)',\n",
       "  'Stoker (2013)',\n",
       "  'The Sessions (2012)'])"
      ]
     },
     "execution_count": 20,
     "metadata": {},
     "output_type": "execute_result"
    }
   ],
   "source": [
    "make_recommendations(51201, 'user')"
   ]
  },
  {
   "cell_type": "code",
   "execution_count": 21,
   "metadata": {
    "ExecuteTime": {
     "end_time": "2019-09-14T09:23:07.663282Z",
     "start_time": "2019-09-14T09:23:07.610371Z"
    }
   },
   "outputs": [
    {
     "data": {
      "text/html": [
       "<div>\n",
       "<style scoped>\n",
       "    .dataframe tbody tr th:only-of-type {\n",
       "        vertical-align: middle;\n",
       "    }\n",
       "\n",
       "    .dataframe tbody tr th {\n",
       "        vertical-align: top;\n",
       "    }\n",
       "\n",
       "    .dataframe thead th {\n",
       "        text-align: right;\n",
       "    }\n",
       "</style>\n",
       "<table border=\"1\" class=\"dataframe\">\n",
       "  <thead>\n",
       "    <tr style=\"text-align: right;\">\n",
       "      <th></th>\n",
       "      <th>user_id</th>\n",
       "      <th>movie_id</th>\n",
       "      <th>rating</th>\n",
       "      <th>timestamp</th>\n",
       "      <th>date</th>\n",
       "      <th>month_1</th>\n",
       "      <th>month_2</th>\n",
       "      <th>month_3</th>\n",
       "      <th>month_4</th>\n",
       "      <th>month_5</th>\n",
       "      <th>...</th>\n",
       "      <th>month_9</th>\n",
       "      <th>month_10</th>\n",
       "      <th>month_11</th>\n",
       "      <th>month_12</th>\n",
       "      <th>year_2013</th>\n",
       "      <th>year_2014</th>\n",
       "      <th>year_2015</th>\n",
       "      <th>year_2016</th>\n",
       "      <th>year_2017</th>\n",
       "      <th>year_2018</th>\n",
       "    </tr>\n",
       "  </thead>\n",
       "  <tbody>\n",
       "    <tr>\n",
       "      <td>650588</td>\n",
       "      <td>49056</td>\n",
       "      <td>1598822</td>\n",
       "      <td>8</td>\n",
       "      <td>1363308721</td>\n",
       "      <td>2013-03-15 00:52:01</td>\n",
       "      <td>0</td>\n",
       "      <td>0</td>\n",
       "      <td>0</td>\n",
       "      <td>0</td>\n",
       "      <td>0</td>\n",
       "      <td>...</td>\n",
       "      <td>0</td>\n",
       "      <td>0</td>\n",
       "      <td>0</td>\n",
       "      <td>0</td>\n",
       "      <td>1</td>\n",
       "      <td>0</td>\n",
       "      <td>0</td>\n",
       "      <td>0</td>\n",
       "      <td>0</td>\n",
       "      <td>0</td>\n",
       "    </tr>\n",
       "    <tr>\n",
       "      <td>650569</td>\n",
       "      <td>49056</td>\n",
       "      <td>289879</td>\n",
       "      <td>9</td>\n",
       "      <td>1363308742</td>\n",
       "      <td>2013-03-15 00:52:22</td>\n",
       "      <td>0</td>\n",
       "      <td>0</td>\n",
       "      <td>0</td>\n",
       "      <td>0</td>\n",
       "      <td>0</td>\n",
       "      <td>...</td>\n",
       "      <td>0</td>\n",
       "      <td>0</td>\n",
       "      <td>0</td>\n",
       "      <td>0</td>\n",
       "      <td>1</td>\n",
       "      <td>0</td>\n",
       "      <td>0</td>\n",
       "      <td>0</td>\n",
       "      <td>0</td>\n",
       "      <td>0</td>\n",
       "    </tr>\n",
       "    <tr>\n",
       "      <td>650585</td>\n",
       "      <td>49056</td>\n",
       "      <td>1563738</td>\n",
       "      <td>9</td>\n",
       "      <td>1363308780</td>\n",
       "      <td>2013-03-15 00:53:00</td>\n",
       "      <td>0</td>\n",
       "      <td>0</td>\n",
       "      <td>0</td>\n",
       "      <td>0</td>\n",
       "      <td>0</td>\n",
       "      <td>...</td>\n",
       "      <td>0</td>\n",
       "      <td>0</td>\n",
       "      <td>0</td>\n",
       "      <td>0</td>\n",
       "      <td>1</td>\n",
       "      <td>0</td>\n",
       "      <td>0</td>\n",
       "      <td>0</td>\n",
       "      <td>0</td>\n",
       "      <td>0</td>\n",
       "    </tr>\n",
       "    <tr>\n",
       "      <td>650583</td>\n",
       "      <td>49056</td>\n",
       "      <td>1458175</td>\n",
       "      <td>4</td>\n",
       "      <td>1363308799</td>\n",
       "      <td>2013-03-15 00:53:19</td>\n",
       "      <td>0</td>\n",
       "      <td>0</td>\n",
       "      <td>0</td>\n",
       "      <td>0</td>\n",
       "      <td>0</td>\n",
       "      <td>...</td>\n",
       "      <td>0</td>\n",
       "      <td>0</td>\n",
       "      <td>0</td>\n",
       "      <td>0</td>\n",
       "      <td>1</td>\n",
       "      <td>0</td>\n",
       "      <td>0</td>\n",
       "      <td>0</td>\n",
       "      <td>0</td>\n",
       "      <td>0</td>\n",
       "    </tr>\n",
       "    <tr>\n",
       "      <td>378686</td>\n",
       "      <td>28599</td>\n",
       "      <td>103639</td>\n",
       "      <td>8</td>\n",
       "      <td>1363309112</td>\n",
       "      <td>2013-03-15 00:58:32</td>\n",
       "      <td>0</td>\n",
       "      <td>0</td>\n",
       "      <td>0</td>\n",
       "      <td>0</td>\n",
       "      <td>0</td>\n",
       "      <td>...</td>\n",
       "      <td>0</td>\n",
       "      <td>0</td>\n",
       "      <td>0</td>\n",
       "      <td>0</td>\n",
       "      <td>1</td>\n",
       "      <td>0</td>\n",
       "      <td>0</td>\n",
       "      <td>0</td>\n",
       "      <td>0</td>\n",
       "      <td>0</td>\n",
       "    </tr>\n",
       "    <tr>\n",
       "      <td>...</td>\n",
       "      <td>...</td>\n",
       "      <td>...</td>\n",
       "      <td>...</td>\n",
       "      <td>...</td>\n",
       "      <td>...</td>\n",
       "      <td>...</td>\n",
       "      <td>...</td>\n",
       "      <td>...</td>\n",
       "      <td>...</td>\n",
       "      <td>...</td>\n",
       "      <td>...</td>\n",
       "      <td>...</td>\n",
       "      <td>...</td>\n",
       "      <td>...</td>\n",
       "      <td>...</td>\n",
       "      <td>...</td>\n",
       "      <td>...</td>\n",
       "      <td>...</td>\n",
       "      <td>...</td>\n",
       "      <td>...</td>\n",
       "      <td>...</td>\n",
       "    </tr>\n",
       "    <tr>\n",
       "      <td>521186</td>\n",
       "      <td>39200</td>\n",
       "      <td>408236</td>\n",
       "      <td>2</td>\n",
       "      <td>1363584469</td>\n",
       "      <td>2013-03-18 05:27:49</td>\n",
       "      <td>0</td>\n",
       "      <td>0</td>\n",
       "      <td>0</td>\n",
       "      <td>0</td>\n",
       "      <td>0</td>\n",
       "      <td>...</td>\n",
       "      <td>0</td>\n",
       "      <td>0</td>\n",
       "      <td>0</td>\n",
       "      <td>0</td>\n",
       "      <td>1</td>\n",
       "      <td>0</td>\n",
       "      <td>0</td>\n",
       "      <td>0</td>\n",
       "      <td>0</td>\n",
       "      <td>0</td>\n",
       "    </tr>\n",
       "    <tr>\n",
       "      <td>389437</td>\n",
       "      <td>29381</td>\n",
       "      <td>1598828</td>\n",
       "      <td>7</td>\n",
       "      <td>1363584508</td>\n",
       "      <td>2013-03-18 05:28:28</td>\n",
       "      <td>0</td>\n",
       "      <td>0</td>\n",
       "      <td>0</td>\n",
       "      <td>0</td>\n",
       "      <td>0</td>\n",
       "      <td>...</td>\n",
       "      <td>0</td>\n",
       "      <td>0</td>\n",
       "      <td>0</td>\n",
       "      <td>0</td>\n",
       "      <td>1</td>\n",
       "      <td>0</td>\n",
       "      <td>0</td>\n",
       "      <td>0</td>\n",
       "      <td>0</td>\n",
       "      <td>0</td>\n",
       "    </tr>\n",
       "    <tr>\n",
       "      <td>521188</td>\n",
       "      <td>39200</td>\n",
       "      <td>1899353</td>\n",
       "      <td>8</td>\n",
       "      <td>1363584544</td>\n",
       "      <td>2013-03-18 05:29:04</td>\n",
       "      <td>0</td>\n",
       "      <td>0</td>\n",
       "      <td>0</td>\n",
       "      <td>0</td>\n",
       "      <td>0</td>\n",
       "      <td>...</td>\n",
       "      <td>0</td>\n",
       "      <td>0</td>\n",
       "      <td>0</td>\n",
       "      <td>0</td>\n",
       "      <td>1</td>\n",
       "      <td>0</td>\n",
       "      <td>0</td>\n",
       "      <td>0</td>\n",
       "      <td>0</td>\n",
       "      <td>0</td>\n",
       "    </tr>\n",
       "    <tr>\n",
       "      <td>97966</td>\n",
       "      <td>7530</td>\n",
       "      <td>2093944</td>\n",
       "      <td>7</td>\n",
       "      <td>1363584601</td>\n",
       "      <td>2013-03-18 05:30:01</td>\n",
       "      <td>0</td>\n",
       "      <td>0</td>\n",
       "      <td>0</td>\n",
       "      <td>0</td>\n",
       "      <td>0</td>\n",
       "      <td>...</td>\n",
       "      <td>0</td>\n",
       "      <td>0</td>\n",
       "      <td>0</td>\n",
       "      <td>0</td>\n",
       "      <td>1</td>\n",
       "      <td>0</td>\n",
       "      <td>0</td>\n",
       "      <td>0</td>\n",
       "      <td>0</td>\n",
       "      <td>0</td>\n",
       "    </tr>\n",
       "    <tr>\n",
       "      <td>389430</td>\n",
       "      <td>29381</td>\n",
       "      <td>1258972</td>\n",
       "      <td>6</td>\n",
       "      <td>1363584678</td>\n",
       "      <td>2013-03-18 05:31:18</td>\n",
       "      <td>0</td>\n",
       "      <td>0</td>\n",
       "      <td>0</td>\n",
       "      <td>0</td>\n",
       "      <td>0</td>\n",
       "      <td>...</td>\n",
       "      <td>0</td>\n",
       "      <td>0</td>\n",
       "      <td>0</td>\n",
       "      <td>0</td>\n",
       "      <td>1</td>\n",
       "      <td>0</td>\n",
       "      <td>0</td>\n",
       "      <td>0</td>\n",
       "      <td>0</td>\n",
       "      <td>0</td>\n",
       "    </tr>\n",
       "  </tbody>\n",
       "</table>\n",
       "<p>2000 rows × 23 columns</p>\n",
       "</div>"
      ],
      "text/plain": [
       "        user_id  movie_id  rating   timestamp                 date  month_1  \\\n",
       "650588    49056   1598822       8  1363308721  2013-03-15 00:52:01        0   \n",
       "650569    49056    289879       9  1363308742  2013-03-15 00:52:22        0   \n",
       "650585    49056   1563738       9  1363308780  2013-03-15 00:53:00        0   \n",
       "650583    49056   1458175       4  1363308799  2013-03-15 00:53:19        0   \n",
       "378686    28599    103639       8  1363309112  2013-03-15 00:58:32        0   \n",
       "...         ...       ...     ...         ...                  ...      ...   \n",
       "521186    39200    408236       2  1363584469  2013-03-18 05:27:49        0   \n",
       "389437    29381   1598828       7  1363584508  2013-03-18 05:28:28        0   \n",
       "521188    39200   1899353       8  1363584544  2013-03-18 05:29:04        0   \n",
       "97966      7530   2093944       7  1363584601  2013-03-18 05:30:01        0   \n",
       "389430    29381   1258972       6  1363584678  2013-03-18 05:31:18        0   \n",
       "\n",
       "        month_2  month_3  month_4  month_5  ...  month_9  month_10  month_11  \\\n",
       "650588        0        0        0        0  ...        0         0         0   \n",
       "650569        0        0        0        0  ...        0         0         0   \n",
       "650585        0        0        0        0  ...        0         0         0   \n",
       "650583        0        0        0        0  ...        0         0         0   \n",
       "378686        0        0        0        0  ...        0         0         0   \n",
       "...         ...      ...      ...      ...  ...      ...       ...       ...   \n",
       "521186        0        0        0        0  ...        0         0         0   \n",
       "389437        0        0        0        0  ...        0         0         0   \n",
       "521188        0        0        0        0  ...        0         0         0   \n",
       "97966         0        0        0        0  ...        0         0         0   \n",
       "389430        0        0        0        0  ...        0         0         0   \n",
       "\n",
       "        month_12  year_2013  year_2014  year_2015  year_2016  year_2017  \\\n",
       "650588         0          1          0          0          0          0   \n",
       "650569         0          1          0          0          0          0   \n",
       "650585         0          1          0          0          0          0   \n",
       "650583         0          1          0          0          0          0   \n",
       "378686         0          1          0          0          0          0   \n",
       "...          ...        ...        ...        ...        ...        ...   \n",
       "521186         0          1          0          0          0          0   \n",
       "389437         0          1          0          0          0          0   \n",
       "521188         0          1          0          0          0          0   \n",
       "97966          0          1          0          0          0          0   \n",
       "389430         0          1          0          0          0          0   \n",
       "\n",
       "        year_2018  \n",
       "650588          0  \n",
       "650569          0  \n",
       "650585          0  \n",
       "650583          0  \n",
       "378686          0  \n",
       "...           ...  \n",
       "521186          0  \n",
       "389437          0  \n",
       "521188          0  \n",
       "97966           0  \n",
       "389430          0  \n",
       "\n",
       "[2000 rows x 23 columns]"
      ]
     },
     "execution_count": 21,
     "metadata": {},
     "output_type": "execute_result"
    }
   ],
   "source": [
    "val_df"
   ]
  },
  {
   "cell_type": "code",
   "execution_count": null,
   "metadata": {},
   "outputs": [],
   "source": [
    "# Make recommendations\n",
    "user_recs_dict_with_top = dict()\n",
    "for user_id in set(val_df['user_id']):\n",
    "    user_recs_dict_with_top[user_id] = make_recommendations(user_id, 'user')[1]\n",
    "    #user_recs_dict_with_top[user_id] = make_recommendations(user_id, 'user')\n",
    "    #此处有报错, 后续研究"
   ]
  },
  {
   "cell_type": "code",
   "execution_count": null,
   "metadata": {},
   "outputs": [],
   "source": [
    "cnter = 0\n",
    "for user, rec in user_recs_dict_with_top.items():\n",
    "    if cnter < 12:\n",
    "        print(\"For user {}, our recommendations are: \\n {}\".format(user, rec))\n",
    "        cnter+=1\n",
    "    else:\n",
    "        break"
   ]
  },
  {
   "cell_type": "markdown",
   "metadata": {},
   "source": [
    "**请在此单元格中描述你的发现结果。**\n",
    "\n",
    "\n",
    "```python\n",
    "\n",
    "```"
   ]
  }
 ],
 "metadata": {
  "kernelspec": {
   "display_name": "Python 3",
   "language": "python",
   "name": "python3"
  },
  "language_info": {
   "codemirror_mode": {
    "name": "ipython",
    "version": 3
   },
   "file_extension": ".py",
   "mimetype": "text/x-python",
   "name": "python",
   "nbconvert_exporter": "python",
   "pygments_lexer": "ipython3",
   "version": "3.6.7"
  },
  "toc": {
   "base_numbering": 1,
   "nav_menu": {},
   "number_sections": true,
   "sideBar": true,
   "skip_h1_title": false,
   "title_cell": "Table of Contents",
   "title_sidebar": "Contents",
   "toc_cell": false,
   "toc_position": {},
   "toc_section_display": true,
   "toc_window_display": false
  }
 },
 "nbformat": 4,
 "nbformat_minor": 2
}
