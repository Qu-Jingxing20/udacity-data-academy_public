{
 "cells": [
  {
   "cell_type": "markdown",
   "metadata": {},
   "source": [
    "### 通过 MovieTweetings 创建推荐系统：最热门的推荐内容\n",
    "\n",
    "你已经创建了将在这节课剩余部分创建推荐系统时使用的必要列，下面我们开始创建推荐系统的第一个步骤吧。\n",
    "\n",
    "首先，使用以下代码读取将在这节课中一直使用的库和两个数据集。"
   ]
  },
  {
   "cell_type": "code",
   "execution_count": 24,
   "metadata": {
    "ExecuteTime": {
     "end_time": "2019-09-11T06:58:20.924436Z",
     "start_time": "2019-09-11T06:58:20.914665Z"
    }
   },
   "outputs": [],
   "source": [
    "import numpy as np\n",
    "import pandas as pd\n",
    "import matplotlib.pyplot as plt\n",
    "import project_tests as t\n",
    "\n",
    "%matplotlib inline"
   ]
  },
  {
   "cell_type": "code",
   "execution_count": null,
   "metadata": {},
   "outputs": [],
   "source": [
    "# Read in the datasets\n",
    "movies = pd.read_csv('movies_clean.csv')\n",
    "reviews = pd.read_csv('reviews_clean.csv')\n",
    "\n",
    "# 使用 del 删除了 Unnamed: 0 列(后续研究)\n",
    "del movies['Unnamed: 0']\n",
    "del reviews['Unnamed: 0']"
   ]
  },
  {
   "cell_type": "code",
   "execution_count": 19,
   "metadata": {
    "ExecuteTime": {
     "end_time": "2019-09-11T06:49:27.745957Z",
     "start_time": "2019-09-11T06:49:27.703712Z"
    }
   },
   "outputs": [
    {
     "data": {
      "text/html": [
       "<div>\n",
       "<style scoped>\n",
       "    .dataframe tbody tr th:only-of-type {\n",
       "        vertical-align: middle;\n",
       "    }\n",
       "\n",
       "    .dataframe tbody tr th {\n",
       "        vertical-align: top;\n",
       "    }\n",
       "\n",
       "    .dataframe thead th {\n",
       "        text-align: right;\n",
       "    }\n",
       "</style>\n",
       "<table border=\"1\" class=\"dataframe\">\n",
       "  <thead>\n",
       "    <tr style=\"text-align: right;\">\n",
       "      <th></th>\n",
       "      <th>movie_id</th>\n",
       "      <th>movie</th>\n",
       "      <th>genre</th>\n",
       "      <th>date</th>\n",
       "      <th>1800's</th>\n",
       "      <th>1900's</th>\n",
       "      <th>2000's</th>\n",
       "      <th>Short</th>\n",
       "      <th>Crime</th>\n",
       "      <th>Animation</th>\n",
       "      <th>...</th>\n",
       "      <th>Adventure</th>\n",
       "      <th>Horror</th>\n",
       "      <th>Reality-TV</th>\n",
       "      <th>Romance</th>\n",
       "      <th>Thriller</th>\n",
       "      <th>War</th>\n",
       "      <th>News</th>\n",
       "      <th>Mystery</th>\n",
       "      <th>Film-Noir</th>\n",
       "      <th>Fantasy</th>\n",
       "    </tr>\n",
       "  </thead>\n",
       "  <tbody>\n",
       "    <tr>\n",
       "      <td>0</td>\n",
       "      <td>8</td>\n",
       "      <td>Edison Kinetoscopic Record of a Sneeze (1894)</td>\n",
       "      <td>Documentary|Short</td>\n",
       "      <td>1894</td>\n",
       "      <td>1</td>\n",
       "      <td>0</td>\n",
       "      <td>0</td>\n",
       "      <td>1</td>\n",
       "      <td>0</td>\n",
       "      <td>0</td>\n",
       "      <td>...</td>\n",
       "      <td>0</td>\n",
       "      <td>0</td>\n",
       "      <td>0</td>\n",
       "      <td>0</td>\n",
       "      <td>0</td>\n",
       "      <td>0</td>\n",
       "      <td>0</td>\n",
       "      <td>0</td>\n",
       "      <td>0</td>\n",
       "      <td>0</td>\n",
       "    </tr>\n",
       "  </tbody>\n",
       "</table>\n",
       "<p>1 rows × 35 columns</p>\n",
       "</div>"
      ],
      "text/plain": [
       "   movie_id                                          movie              genre  \\\n",
       "0         8  Edison Kinetoscopic Record of a Sneeze (1894)  Documentary|Short   \n",
       "\n",
       "   date  1800's  1900's  2000's  Short  Crime  Animation  ...  Adventure  \\\n",
       "0  1894       1       0       0      1      0          0  ...          0   \n",
       "\n",
       "   Horror  Reality-TV  Romance  Thriller  War  News  Mystery  Film-Noir  \\\n",
       "0       0           0        0         0    0     0        0          0   \n",
       "\n",
       "   Fantasy  \n",
       "0        0  \n",
       "\n",
       "[1 rows x 35 columns]"
      ]
     },
     "metadata": {},
     "output_type": "display_data"
    },
    {
     "data": {
      "text/html": [
       "<div>\n",
       "<style scoped>\n",
       "    .dataframe tbody tr th:only-of-type {\n",
       "        vertical-align: middle;\n",
       "    }\n",
       "\n",
       "    .dataframe tbody tr th {\n",
       "        vertical-align: top;\n",
       "    }\n",
       "\n",
       "    .dataframe thead th {\n",
       "        text-align: right;\n",
       "    }\n",
       "</style>\n",
       "<table border=\"1\" class=\"dataframe\">\n",
       "  <thead>\n",
       "    <tr style=\"text-align: right;\">\n",
       "      <th></th>\n",
       "      <th>user_id</th>\n",
       "      <th>movie_id</th>\n",
       "      <th>rating</th>\n",
       "      <th>timestamp</th>\n",
       "      <th>date</th>\n",
       "    </tr>\n",
       "  </thead>\n",
       "  <tbody>\n",
       "    <tr>\n",
       "      <td>0</td>\n",
       "      <td>1</td>\n",
       "      <td>111161</td>\n",
       "      <td>10</td>\n",
       "      <td>1373234211</td>\n",
       "      <td>2013-07-08 05:56:51</td>\n",
       "    </tr>\n",
       "  </tbody>\n",
       "</table>\n",
       "</div>"
      ],
      "text/plain": [
       "   user_id  movie_id  rating   timestamp                 date\n",
       "0        1    111161      10  1373234211  2013-07-08 05:56:51"
      ]
     },
     "metadata": {},
     "output_type": "display_data"
    }
   ],
   "source": [
    "display(movies.head(1))\n",
    "display(reviews.head(1))"
   ]
  },
  {
   "cell_type": "markdown",
   "metadata": {},
   "source": [
    "#### 1.如何查找最热门的电影\n",
    "\n",
    "对于此 notebook，我们只有一个任务。我们的任务是无论用户是谁，我们都需要根据最热门的项目提供一个推荐列表。\n",
    "\n",
    "对于此任务，我们将根据以下标准判断什么“最热门”：\n",
    "\n",
    "* 平均评分最高的电影被视为最佳电影\n",
    "* 如果评分一样，则评分数量更多的电影更好\n",
    "* 电影如果评分不足 5 条，则不能被视为最佳电影\n",
    "* 如果电影的平均评分和评分数量都一样，那么根据最近的评分判断排名\n",
    "\n",
    "根据这些标准，此 notebook 的目标是获取 **user_id** 并返回 **n_top** 推荐。以下函数将作为所有未来推荐系统的框架。"
   ]
  },
  {
   "cell_type": "code",
   "execution_count": 21,
   "metadata": {
    "ExecuteTime": {
     "end_time": "2019-09-11T06:57:05.188954Z",
     "start_time": "2019-09-11T06:57:05.164941Z"
    }
   },
   "outputs": [],
   "source": [
    "def create_ranked_df(movies, reviews):\n",
    "        '''\n",
    "        INPUT\n",
    "        movies - the movies dataframe\n",
    "        reviews - the reviews dataframe\n",
    "        \n",
    "        OUTPUT\n",
    "        ranked_movies - a dataframe with movies that are sorted by highest avg rating, more reviews, \n",
    "                        then time, and must have more than 4 ratings\n",
    "        '''\n",
    "        \n",
    "        # Pull the average ratings and number of ratings for each movie\n",
    "        movie_ratings = reviews.groupby('movie_id')['rating']\n",
    "        avg_ratings = movie_ratings.mean()\n",
    "        num_ratings = movie_ratings.count()\n",
    "        last_rating = pd.DataFrame(reviews.groupby('movie_id').max()['date'])\n",
    "        last_rating.columns = ['last_rating']\n",
    "\n",
    "        # Add Dates\n",
    "        rating_count_df = pd.DataFrame({'avg_rating': avg_ratings, 'num_ratings': num_ratings})\n",
    "        rating_count_df = rating_count_df.join(last_rating)\n",
    "\n",
    "        # merge with the movies dataset\n",
    "        movie_recs = movies.set_index('movie_id').join(rating_count_df)\n",
    "\n",
    "        # sort by top avg rating and number of ratings\n",
    "        ranked_movies = movie_recs.sort_values(['avg_rating', 'num_ratings', 'last_rating'], ascending=False)\n",
    "\n",
    "        # for edge cases - subset the movie list to those with only 5 or more reviews\n",
    "        ranked_movies = ranked_movies[ranked_movies['num_ratings'] > 4]\n",
    "        \n",
    "        return ranked_movies\n",
    "    \n",
    "\n",
    "def popular_recommendations(user_id, n_top, ranked_movies):\n",
    "    '''\n",
    "    INPUT:\n",
    "    user_id - the user_id (str) of the individual you are making recommendations for\n",
    "    n_top - an integer of the number recommendations you want back\n",
    "    ranked_movies - a pandas dataframe of the already ranked movies based on avg rating, count, and time\n",
    "\n",
    "    OUTPUT:\n",
    "    top_movies - a list of the n_top recommended movies by movie title in order best to worst\n",
    "    '''\n",
    "\n",
    "    top_movies = list(ranked_movies['movie'][:n_top])\n",
    "\n",
    "    return top_movies"
   ]
  },
  {
   "cell_type": "markdown",
   "metadata": {},
   "source": [
    "有了上述三个标准后，你将能够编写上述函数。如果你对自己的答案很有信心了，可以对照我们的解答检查你的函数代码。下个页面会提供代码演示，当然，你也可以查看此 workspace 中的解答 notebook。"
   ]
  },
  {
   "cell_type": "code",
   "execution_count": 22,
   "metadata": {
    "ExecuteTime": {
     "end_time": "2019-09-11T06:57:28.055509Z",
     "start_time": "2019-09-11T06:57:06.322832Z"
    }
   },
   "outputs": [],
   "source": [
    "# Top 20 movies recommended for id 1\n",
    "ranked_movies = create_ranked_df(movies, reviews) # only run this once - it is not fast\n",
    "\n",
    "recs_20_for_1 = popular_recommendations('1', 20, ranked_movies)\n",
    "\n",
    "# Top 5 movies recommended for id 53968\n",
    "recs_5_for_53968 = popular_recommendations('53968', 5, ranked_movies)\n",
    "\n",
    "# Top 100 movies recommended for id 70000\n",
    "recs_100_for_70000 = popular_recommendations('70000', 100, ranked_movies)\n",
    "\n",
    "# Top 35 movies recommended for id 43\n",
    "recs_35_for_43 = popular_recommendations('43', 35, ranked_movies)"
   ]
  },
  {
   "cell_type": "code",
   "execution_count": 28,
   "metadata": {
    "ExecuteTime": {
     "end_time": "2019-09-11T07:00:50.968441Z",
     "start_time": "2019-09-11T07:00:50.960033Z"
    }
   },
   "outputs": [
    {
     "data": {
      "text/plain": [
       "['MSG 2 the Messenger (2015)',\n",
       " 'Avengers: Age of Ultron Parody (2015)',\n",
       " 'Five Minutes (2017)',\n",
       " 'Selam (2013)',\n",
       " \"Quiet Riot: Well Now You're Here, There's No Way Back (2014)\",\n",
       " 'Crawl Bitch Crawl (2012)',\n",
       " 'Let There Be Light (2017)',\n",
       " 'Chasing Happiness (2019)',\n",
       " 'Make Like a Dog (2015)',\n",
       " 'Pandorica (2016)',\n",
       " 'Third Contact (2011)',\n",
       " 'Romeo Juliet (2009)',\n",
       " 'Be Somebody (2016)',\n",
       " 'Birlesen Gonuller (2014)',\n",
       " 'Agnelli (2017)',\n",
       " 'Sátántangó (1994)',\n",
       " 'Foster (2011)',\n",
       " 'CM101MMXI Fundamentals (2013)',\n",
       " 'Crystal Lake Memories: The Complete History of Friday the 13th (2013)',\n",
       " 'Körkarlen (1921)']"
      ]
     },
     "execution_count": 28,
     "metadata": {},
     "output_type": "execute_result"
    }
   ],
   "source": [
    " recs_20_for_1"
   ]
  },
  {
   "cell_type": "code",
   "execution_count": 29,
   "metadata": {
    "ExecuteTime": {
     "end_time": "2019-09-11T07:01:00.292864Z",
     "start_time": "2019-09-11T07:01:00.282173Z"
    }
   },
   "outputs": [
    {
     "data": {
      "text/plain": [
       "(['MSG 2 the Messenger (2015)',\n",
       "  'Avengers: Age of Ultron Parody (2015)',\n",
       "  'Five Minutes (2017)',\n",
       "  'Selam (2013)',\n",
       "  \"Quiet Riot: Well Now You're Here, There's No Way Back (2014)\",\n",
       "  'Crawl Bitch Crawl (2012)',\n",
       "  'Let There Be Light (2017)',\n",
       "  'Chasing Happiness (2019)',\n",
       "  'Make Like a Dog (2015)',\n",
       "  'Pandorica (2016)',\n",
       "  'Third Contact (2011)',\n",
       "  'Romeo Juliet (2009)',\n",
       "  'Be Somebody (2016)',\n",
       "  'Birlesen Gonuller (2014)',\n",
       "  'Agnelli (2017)',\n",
       "  'Sátántangó (1994)',\n",
       "  'Foster (2011)',\n",
       "  'CM101MMXI Fundamentals (2013)',\n",
       "  'Crystal Lake Memories: The Complete History of Friday the 13th (2013)',\n",
       "  'Körkarlen (1921)'],\n",
       " ['MSG 2 the Messenger (2015)',\n",
       "  'Avengers: Age of Ultron Parody (2015)',\n",
       "  'Five Minutes (2017)',\n",
       "  'Selam (2013)',\n",
       "  \"Quiet Riot: Well Now You're Here, There's No Way Back (2014)\"],\n",
       " ['MSG 2 the Messenger (2015)',\n",
       "  'Avengers: Age of Ultron Parody (2015)',\n",
       "  'Five Minutes (2017)',\n",
       "  'Selam (2013)',\n",
       "  \"Quiet Riot: Well Now You're Here, There's No Way Back (2014)\",\n",
       "  'Crawl Bitch Crawl (2012)',\n",
       "  'Let There Be Light (2017)',\n",
       "  'Chasing Happiness (2019)',\n",
       "  'Make Like a Dog (2015)',\n",
       "  'Pandorica (2016)',\n",
       "  'Third Contact (2011)',\n",
       "  'Romeo Juliet (2009)',\n",
       "  'Be Somebody (2016)',\n",
       "  'Birlesen Gonuller (2014)',\n",
       "  'Agnelli (2017)',\n",
       "  'Sátántangó (1994)',\n",
       "  'Foster (2011)',\n",
       "  'CM101MMXI Fundamentals (2013)',\n",
       "  'Crystal Lake Memories: The Complete History of Friday the 13th (2013)',\n",
       "  'Körkarlen (1921)',\n",
       "  'Hans Zimmer Live on Tour (2017)',\n",
       "  'Kirik Party (2016)',\n",
       "  'Chasing Asylum (2016)',\n",
       "  'Beyond the Sea (2004)',\n",
       "  'Blood Brother (2013)',\n",
       "  'Take the Ball, Pass the Ball (2018)',\n",
       "  'Poshter Girl (2016)',\n",
       "  'Unbroken: Path to Redemption (2018)',\n",
       "  'Umberto D. (1952)',\n",
       "  'Shijie (2004)',\n",
       "  'Tengoku to jigoku (1963)',\n",
       "  'A Matter of Life and Death (1946)',\n",
       "  'Bridegroom (2013)',\n",
       "  'Mad As Hell (2014)',\n",
       "  'Nashville (1975)',\n",
       "  'Dag II (2016)',\n",
       "  'The Shawshank Redemption (1994)',\n",
       "  'Chasing Coral (2017)',\n",
       "  'Lo chiamavano Trinità... (1970)',\n",
       "  'Kuroshitsuji: Book of the Atlantic (2017)',\n",
       "  'Cyborgs: Heroes Never Die (2017)',\n",
       "  'Presto (2008)',\n",
       "  'Everything or Nothing: The Untold Story of 007 (2012)',\n",
       "  'Coldplay: A Head Full of Dreams (2018)',\n",
       "  'Akahige (1965)',\n",
       "  'The Lord of the Rings: The Return of the King (2003)',\n",
       "  'Hannah Gadsby: Nanette (2018)',\n",
       "  \"Hillary's America: The Secret History of the Democratic Party (2016)\",\n",
       "  'The Phantom of the Opera at the Royal Albert Hall (2011)',\n",
       "  'Terra (2015)',\n",
       "  'Hidden Colors (2011)',\n",
       "  'Seppuku (1962)',\n",
       "  'The Dark Knight (2008)',\n",
       "  'Men at Lunch (2012)',\n",
       "  'Andaz Apna Apna (1994)',\n",
       "  'No Stone Unturned (2017)',\n",
       "  'Przypadek (1987)',\n",
       "  'Namhansanseong (2017)',\n",
       "  'Jalsaghar (1958)',\n",
       "  'Seuwingkizeu (2018)',\n",
       "  'Ningen no jôken (1959)',\n",
       "  'The Miracle Worker (1962)',\n",
       "  'El sur (1983)',\n",
       "  'Kites (2010)',\n",
       "  'Lakshya (2004)',\n",
       "  'Notre musique (2004)',\n",
       "  \"Bab'Aziz (2005)\",\n",
       "  'Southern Comfort (1981)',\n",
       "  'The Decline of Western Civilization (1981)',\n",
       "  'Who is Dayani Cristal? (2013)',\n",
       "  'Zinda Bhaag (2013)',\n",
       "  '12 Angry Men (1957)',\n",
       "  'The Adventures of Robin Hood (1938)',\n",
       "  'Night Will Fall (2014)',\n",
       "  \"La passion de Jeanne d'Arc (1928)\",\n",
       "  'Gu ling jie shao nian sha ren shi jian (1991)',\n",
       "  'The Joy Luck Club (1993)',\n",
       "  'Hitting the Apex (2015)',\n",
       "  'Advise & Consent (1962)',\n",
       "  'Taare Zameen Par (2007)',\n",
       "  'Ordet (1955)',\n",
       "  \"It's a Wonderful Life (1946)\",\n",
       "  'Tôkyô boshoku (1957)',\n",
       "  'A Face in the Crowd (1957)',\n",
       "  'Colombia magia salvaje (2015)',\n",
       "  'The Godfather: Part II (1974)',\n",
       "  'La meglio gioventù (2003)',\n",
       "  'Shelter (2007)',\n",
       "  'Moskva slezam ne verit (1979)',\n",
       "  'The Message (1977)',\n",
       "  'Make Us Dream (2018)',\n",
       "  'The Cameraman (1928)',\n",
       "  'Ce que le jour doit à la nuit (2012)',\n",
       "  'Messi (2014)',\n",
       "  'Nema-ye Nazdik (1990)',\n",
       "  'Amadeus (1984)',\n",
       "  'Terminator 2: Judgment Day (1991)',\n",
       "  'I Believe in Miracles (2015)',\n",
       "  'Umut (1970)',\n",
       "  'Berserk: Ohgon jidai hen 3 - Kôrin (2013)'],\n",
       " ['MSG 2 the Messenger (2015)',\n",
       "  'Avengers: Age of Ultron Parody (2015)',\n",
       "  'Five Minutes (2017)',\n",
       "  'Selam (2013)',\n",
       "  \"Quiet Riot: Well Now You're Here, There's No Way Back (2014)\",\n",
       "  'Crawl Bitch Crawl (2012)',\n",
       "  'Let There Be Light (2017)',\n",
       "  'Chasing Happiness (2019)',\n",
       "  'Make Like a Dog (2015)',\n",
       "  'Pandorica (2016)',\n",
       "  'Third Contact (2011)',\n",
       "  'Romeo Juliet (2009)',\n",
       "  'Be Somebody (2016)',\n",
       "  'Birlesen Gonuller (2014)',\n",
       "  'Agnelli (2017)',\n",
       "  'Sátántangó (1994)',\n",
       "  'Foster (2011)',\n",
       "  'CM101MMXI Fundamentals (2013)',\n",
       "  'Crystal Lake Memories: The Complete History of Friday the 13th (2013)',\n",
       "  'Körkarlen (1921)',\n",
       "  'Hans Zimmer Live on Tour (2017)',\n",
       "  'Kirik Party (2016)',\n",
       "  'Chasing Asylum (2016)',\n",
       "  'Beyond the Sea (2004)',\n",
       "  'Blood Brother (2013)',\n",
       "  'Take the Ball, Pass the Ball (2018)',\n",
       "  'Poshter Girl (2016)',\n",
       "  'Unbroken: Path to Redemption (2018)',\n",
       "  'Umberto D. (1952)',\n",
       "  'Shijie (2004)',\n",
       "  'Tengoku to jigoku (1963)',\n",
       "  'A Matter of Life and Death (1946)',\n",
       "  'Bridegroom (2013)',\n",
       "  'Mad As Hell (2014)',\n",
       "  'Nashville (1975)'])"
      ]
     },
     "execution_count": 29,
     "metadata": {},
     "output_type": "execute_result"
    }
   ],
   "source": [
    "recs_20_for_1, recs_5_for_53968, recs_100_for_70000, recs_35_for_43"
   ]
  },
  {
   "cell_type": "code",
   "execution_count": 25,
   "metadata": {
    "ExecuteTime": {
     "end_time": "2019-09-11T06:58:42.707921Z",
     "start_time": "2019-09-11T06:58:24.400384Z"
    }
   },
   "outputs": [
    {
     "name": "stdout",
     "output_type": "stream",
     "text": [
      "If you got here, looks like you are good to go!  Nice job!\n"
     ]
    }
   ],
   "source": [
    "### You Should Not Need To Modify Anything In This Cell\n",
    "ranked_movies = t.create_ranked_df(movies, reviews) # only run this once - it is not fast\n",
    "\n",
    "# check 1 \n",
    "assert t.popular_recommendations('1', 20, ranked_movies) == recs_20_for_1,  \"The first check failed...\"\n",
    "# check 2\n",
    "assert t.popular_recommendations('53968', 5, ranked_movies) == recs_5_for_53968,  \"The second check failed...\"\n",
    "# check 3\n",
    "assert t.popular_recommendations('70000', 100, ranked_movies) == recs_100_for_70000,  \"The third check failed...\"\n",
    "# check 4\n",
    "assert t.popular_recommendations('43', 35, ranked_movies) == recs_35_for_43,  \"The fourth check failed...\"\n",
    "\n",
    "print(\"If you got here, looks like you are good to go!  Nice job!\")"
   ]
  },
  {
   "cell_type": "markdown",
   "metadata": {},
   "source": [
    "**注意：**这并不是确定“最高评分”电影的唯一方式。如果是跟踪热门新闻或社会事件，则需要创建一个从当前时间开始的时间期限，然后从最近的期限内提取报道。至于什么方式最好，我们需要自己判断。\n",
    "\n",
    "如果你发现没有人关注你的最热门推荐内容了，那么就需要寻找新的推荐方式，这节课的后续部分将介绍这方面的知识。\n",
    "\n",
    "\n",
    "### 第二部分：添加过滤器\n",
    "\n",
    "创建返回 **n_top** 电影的函数后，我们来完善下此函数。添加作为电影**年份 year**和**类型 genre**过滤器的语句。  \n",
    "\n",
    "在以下单元格中调整现有函数，将**年份**和**类型**参数设为**字符串列表**。然后，从提供的年份和类型列表（作为 `or` 条件）中过滤出最终结果。如果没有提供列表，则不应用过滤器。\n",
    "\n",
    "你可以根据需要调整其他输入，从而检索你想要的最终结果。\n",
    "\n",
    "请在我们的测试函数中编写一些测试。下面这行代码会根据指定的年份和类型过滤器为用户 1 返回前 20 部热门电影。你的代码返回的结果一样吗？\n",
    "\n",
    "```\n",
    "t.popular_recs_filtered('1', 20, ranked_movies, years=['2015', '2016', '2017', '2018'], genres=['History'])\n",
    "```"
   ]
  },
  {
   "cell_type": "code",
   "execution_count": 30,
   "metadata": {
    "ExecuteTime": {
     "end_time": "2019-09-11T07:01:57.502934Z",
     "start_time": "2019-09-11T07:01:57.496279Z"
    }
   },
   "outputs": [],
   "source": [
    "def popular_recs_filtered(user_id, n_top, ranked_movies, years=None, genres=None):\n",
    "    '''\n",
    "    REDO THIS DOC STRING\n",
    "    \n",
    "    INPUT:\n",
    "    user_id - the user_id (str) of the individual you are making recommendations for\n",
    "    n_top - an integer of the number recommendations you want back\n",
    "    ranked_movies - a pandas dataframe of the already ranked movies based on avg rating, count, and time\n",
    "    years - a list of strings with years of movies\n",
    "    genres - a list of strings with genres of movies\n",
    "    \n",
    "    OUTPUT:\n",
    "    top_movies - a list of the n_top recommended movies by movie title in order best to worst\n",
    "    '''\n",
    "    # Filter movies based on year and genre\n",
    "    if years is not None:\n",
    "        ranked_movies = ranked_movies[ranked_movies['date'].isin(years)]\n",
    "\n",
    "    if genres is not None:\n",
    "        num_genre_match = ranked_movies[genres].sum(axis=1)\n",
    "        ranked_movies = ranked_movies.loc[num_genre_match > 0, :]\n",
    "            \n",
    "            \n",
    "    # create top movies list \n",
    "    top_movies = list(ranked_movies['movie'][:n_top])\n",
    "\n",
    "    return top_movies"
   ]
  },
  {
   "cell_type": "code",
   "execution_count": 31,
   "metadata": {
    "ExecuteTime": {
     "end_time": "2019-09-11T07:02:18.733427Z",
     "start_time": "2019-09-11T07:02:18.709880Z"
    }
   },
   "outputs": [],
   "source": [
    "# Top 20 movies recommended for id 1 with years=['2015', '2016', '2017', '2018'], genres=['History']\n",
    "recs_20_for_1_filtered = popular_recs_filtered('1', 20, ranked_movies, years=['2015', '2016', '2017', '2018'], genres=['History'])\n",
    "\n",
    "# Top 5 movies recommended for id 53968 with no genre filter but years=['2015', '2016', '2017', '2018']\n",
    "recs_5_for_53968_filtered = popular_recs_filtered('53968', 5, ranked_movies, years=['2015', '2016', '2017', '2018'])\n",
    "\n",
    "# Top 100 movies recommended for id 70000 with no year filter but genres=['History', 'News']\n",
    "recs_100_for_70000_filtered = popular_recs_filtered('70000', 100, ranked_movies, genres=['History', 'News'])"
   ]
  },
  {
   "cell_type": "code",
   "execution_count": 32,
   "metadata": {
    "ExecuteTime": {
     "end_time": "2019-09-11T07:02:26.585727Z",
     "start_time": "2019-09-11T07:02:26.561789Z"
    }
   },
   "outputs": [
    {
     "name": "stdout",
     "output_type": "stream",
     "text": [
      "If you got here, looks like you are good to go!  Nice job!\n"
     ]
    }
   ],
   "source": [
    "### You Should Not Need To Modify Anything In This Cell\n",
    "\n",
    "# check 1 \n",
    "assert t.popular_recs_filtered('1', 20, ranked_movies, years=['2015', '2016', '2017', '2018'], genres=['History']) == recs_20_for_1_filtered,  \"The first check failed...\"\n",
    "# check 2\n",
    "assert t.popular_recs_filtered('53968', 5, ranked_movies, years=['2015', '2016', '2017', '2018']) == recs_5_for_53968_filtered,  \"The second check failed...\"\n",
    "# check 3\n",
    "assert t.popular_recs_filtered('70000', 100, ranked_movies, genres=['History', 'News']) == recs_100_for_70000_filtered,  \"The third check failed...\"\n",
    "\n",
    "print(\"If you got here, looks like you are good to go!  Nice job!\")"
   ]
  },
  {
   "cell_type": "code",
   "execution_count": null,
   "metadata": {},
   "outputs": [],
   "source": []
  }
 ],
 "metadata": {
  "kernelspec": {
   "display_name": "Python 3",
   "language": "python",
   "name": "python3"
  },
  "language_info": {
   "codemirror_mode": {
    "name": "ipython",
    "version": 3
   },
   "file_extension": ".py",
   "mimetype": "text/x-python",
   "name": "python",
   "nbconvert_exporter": "python",
   "pygments_lexer": "ipython3",
   "version": "3.6.7"
  },
  "toc": {
   "base_numbering": 1,
   "nav_menu": {},
   "number_sections": true,
   "sideBar": true,
   "skip_h1_title": false,
   "title_cell": "Table of Contents",
   "title_sidebar": "Contents",
   "toc_cell": false,
   "toc_position": {},
   "toc_section_display": true,
   "toc_window_display": false
  }
 },
 "nbformat": 4,
 "nbformat_minor": 2
}
