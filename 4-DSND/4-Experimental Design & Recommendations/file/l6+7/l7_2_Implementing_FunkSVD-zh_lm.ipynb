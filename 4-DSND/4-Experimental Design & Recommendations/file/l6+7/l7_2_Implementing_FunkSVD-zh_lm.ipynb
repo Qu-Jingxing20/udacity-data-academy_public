{
 "cells": [
  {
   "cell_type": "markdown",
   "metadata": {},
   "source": [
    "### 实施 FunkSVD\n",
    "\n",
    "在此 notebook 中，我们将自己编写实施 FunkSVD 的函数，它会遵守你在上个视频中看到的步骤。如果你认为你还没有准备好自己完成这个任务，可以跳到下个视频，观看我是如何完成这些步骤的。\n",
    "\n",
    "我们将用之前使用的数据子集检测我们的算法。首先请运行以下单元格。"
   ]
  },
  {
   "cell_type": "code",
   "execution_count": 1,
   "metadata": {
    "ExecuteTime": {
     "end_time": "2019-09-14T04:28:45.921364Z",
     "start_time": "2019-09-14T04:28:07.949950Z"
    }
   },
   "outputs": [
    {
     "name": "stdout",
     "output_type": "stream",
     "text": [
      "[[10. 10. 10. 10.]\n",
      " [10.  4.  9. 10.]\n",
      " [ 8.  9. 10.  5.]\n",
      " [ 9.  8. 10. 10.]\n",
      " [10.  5.  9.  9.]\n",
      " [ 6.  4. 10.  6.]\n",
      " [ 9.  8. 10.  9.]\n",
      " [10.  5.  9.  8.]\n",
      " [ 7.  8. 10.  8.]\n",
      " [ 9.  5.  9.  7.]\n",
      " [ 9.  8. 10.  8.]\n",
      " [ 9. 10. 10.  9.]\n",
      " [10.  9. 10.  8.]\n",
      " [ 5.  8.  5.  8.]\n",
      " [10.  8. 10. 10.]\n",
      " [ 9.  9. 10. 10.]\n",
      " [ 9.  8.  8.  8.]\n",
      " [10.  8.  1. 10.]\n",
      " [ 5.  6. 10. 10.]\n",
      " [ 8.  7. 10.  7.]]\n"
     ]
    }
   ],
   "source": [
    "import numpy as np\n",
    "import pandas as pd\n",
    "import matplotlib.pyplot as plt\n",
    "from scipy import sparse\n",
    "import svd_tests as t\n",
    "%matplotlib inline\n",
    "\n",
    "# Read in the datasets\n",
    "movies = pd.read_csv('movies_clean.csv')\n",
    "reviews = pd.read_csv('reviews_clean.csv')\n",
    "\n",
    "del movies['Unnamed: 0']\n",
    "del reviews['Unnamed: 0']\n",
    "\n",
    "# Create user-by-item matrix\n",
    "user_items = reviews[['user_id', 'movie_id', 'rating', 'timestamp']]\n",
    "user_by_movie = user_items.groupby(['user_id', 'movie_id'])['rating'].max().unstack()\n",
    "\n",
    "# Create data subset\n",
    "user_movie_subset = user_by_movie[[73486, 75314,  68646, 99685]].dropna(axis=0)\n",
    "ratings_mat = np.matrix(user_movie_subset)\n",
    "print(ratings_mat)"
   ]
  },
  {
   "cell_type": "markdown",
   "metadata": {},
   "source": [
    "`1.` 你将使用 **user_movie_subset** 矩阵演示你的 FunkSVD 算法将收敛。在以下单元格中，请参考注释和文档字符串编写你自己的 FunkSVD 函数。你也可以自己完成这些函数，不参考注释部分。你可以随意增减函数代码，使你的代码能正常运行。 \n",
    "\n",
    "**注意：**此版矩阵分解没有 ∑ 矩阵。"
   ]
  },
  {
   "cell_type": "code",
   "execution_count": 2,
   "metadata": {
    "ExecuteTime": {
     "end_time": "2019-09-14T04:28:45.953777Z",
     "start_time": "2019-09-14T04:28:45.928714Z"
    }
   },
   "outputs": [],
   "source": [
    "def FunkSVD(ratings_mat, latent_features=4, learning_rate=0.0001, iters=100):\n",
    "    '''\n",
    "    This function performs matrix factorization using a basic form of FunkSVD with no regularization\n",
    "    \n",
    "    INPUT:\n",
    "    ratings_mat - (numpy array) a matrix with users as rows, movies as columns, and ratings as values\n",
    "    latent_features - (int) the number of latent features used\n",
    "    learning_rate - (float) the learning rate \n",
    "    iters - (int) the number of iterations\n",
    "    \n",
    "    OUTPUT:\n",
    "    user_mat - (numpy array) a user by latent feature matrix\n",
    "    movie_mat - (numpy array) a latent feature by movie matrix\n",
    "    '''\n",
    "    \n",
    "    # Set up useful values to be used through the rest of the function\n",
    "    n_users = ratings_mat.shape[0]\n",
    "    n_movies = ratings_mat.shape[1]\n",
    "    num_ratings = np.count_nonzero(~np.isnan(ratings_mat))\n",
    "    \n",
    "    # initialize the user and movie matrices with random values\n",
    "    user_mat = np.random.rand(n_users, latent_features)\n",
    "    movie_mat = np.random.rand(latent_features, n_movies)\n",
    "    \n",
    "    # initialize sse at 0 for first iteration\n",
    "    sse_accum = 0\n",
    "    \n",
    "    # header for running results\n",
    "    print(\"Optimizaiton Statistics\")\n",
    "    print(\"Iterations | Mean Squared Error \")\n",
    "    \n",
    "    # for each iteration\n",
    "    for iteration in range(iters):\n",
    "\n",
    "        # update our sse\n",
    "        old_sse = sse_accum\n",
    "        sse_accum = 0\n",
    "        \n",
    "        # For each user-movie pair\n",
    "        for i in range(n_users):\n",
    "            for j in range(n_movies):\n",
    "                \n",
    "                # if the rating exists\n",
    "                if ratings_mat[i, j] > 0:\n",
    "                    \n",
    "                    # compute the error as the actual minus the dot product of the user and movie latent features\n",
    "                    diff = ratings_mat[i, j] - np.dot(user_mat[i, :], movie_mat[:, j])\n",
    "                    \n",
    "                    # Keep track of the sum of squared errors for the matrix\n",
    "                    sse_accum += diff**2\n",
    "                    \n",
    "                    # update the values in each matrix in the direction of the gradient\n",
    "                    for k in range(latent_features):\n",
    "                        user_mat[i, k] += learning_rate * (2*diff*movie_mat[k, j])\n",
    "                        movie_mat[k, j] += learning_rate * (2*diff*user_mat[i, k])\n",
    "\n",
    "        # print results for iteration\n",
    "        print(\"%d \\t\\t %f\" % (iteration+1, sse_accum / num_ratings))\n",
    "        \n",
    "    return user_mat, movie_mat "
   ]
  },
  {
   "cell_type": "markdown",
   "metadata": {},
   "source": [
    "`2.` 请在 **user_movie_subset** 数据集上尝试你的函数。先将潜在特征设为 4 个，学习速率设为 0.005，并迭代 10 次。在计算生成的 U 和 V 矩阵的点积时，生成的 **user_movie** 矩阵与原始数据子集有何区别？"
   ]
  },
  {
   "cell_type": "code",
   "execution_count": 3,
   "metadata": {
    "ExecuteTime": {
     "end_time": "2019-09-14T04:29:21.572702Z",
     "start_time": "2019-09-14T04:29:21.480490Z"
    }
   },
   "outputs": [
    {
     "name": "stdout",
     "output_type": "stream",
     "text": [
      "Optimizaiton Statistics\n",
      "Iterations | Mean Squared Error \n",
      "1 \t\t 47.705127\n",
      "2 \t\t 17.551230\n",
      "3 \t\t 4.251861\n",
      "4 \t\t 2.659936\n",
      "5 \t\t 2.505769\n",
      "6 \t\t 2.430166\n",
      "7 \t\t 2.359408\n",
      "8 \t\t 2.282588\n",
      "9 \t\t 2.197664\n",
      "10 \t\t 2.104824\n"
     ]
    }
   ],
   "source": [
    "user_mat, movie_mat = FunkSVD(ratings_mat, latent_features=4, learning_rate=0.005, iters=10)"
   ]
  },
  {
   "cell_type": "code",
   "execution_count": null,
   "metadata": {},
   "outputs": [],
   "source": [
    "#Compare the predicted and actual results\n",
    "print(np.dot(user_mat, movie_mat))\n",
    "print(ratings_mat)"
   ]
  },
  {
   "cell_type": "markdown",
   "metadata": {},
   "source": [
    "**请在此处填写你的结论。**\n",
    "\n",
    "`3.` 再在 **user_movie_subset** 数据集上尝试你的函数。这次潜在特征为 4 个，学习速率设为 0.005。但是，迭代次数提高到 250 次。在计算生成的 U 和 V 矩阵的点积时，生成的 **user_movie** 矩阵与原始数据子集有何区别？迭代 250 次后，误差会怎样？"
   ]
  },
  {
   "cell_type": "code",
   "execution_count": null,
   "metadata": {},
   "outputs": [],
   "source": [
    "user_mat, movie_mat = #use your function with 4 latent features, lr of 0.005 and 250 iterations"
   ]
  },
  {
   "cell_type": "code",
   "execution_count": 4,
   "metadata": {
    "ExecuteTime": {
     "end_time": "2019-09-14T04:29:28.600881Z",
     "start_time": "2019-09-14T04:29:28.580248Z"
    }
   },
   "outputs": [
    {
     "name": "stdout",
     "output_type": "stream",
     "text": [
      "[[10.10145618  8.68331487 10.85753786 10.00806511]\n",
      " [ 8.72566133  7.20005376  9.36152284  8.64490091]\n",
      " [ 7.84801193  6.90938616  8.1900834   7.82833147]\n",
      " [ 9.29145324  8.15690363 10.61273074  9.29354071]\n",
      " [ 8.59370251  6.99066414  9.30557399  8.47409644]\n",
      " [ 6.61294921  5.7488069   7.77127849  6.65031736]\n",
      " [ 9.14288078  8.34152594  9.49964755  9.20831412]\n",
      " [ 8.42717999  6.82160575  8.56712176  8.30672083]\n",
      " [ 8.21074637  7.23952162  9.46777587  8.25371352]\n",
      " [ 7.89638886  6.62690273  8.12168012  7.54961503]\n",
      " [ 8.45981365  7.69426247  9.7296002   8.7760937 ]\n",
      " [ 9.69166472  8.66375773  9.75160489  9.62984347]\n",
      " [ 9.40799848  8.31031256  9.41443374  9.32511155]\n",
      " [ 7.13649075  6.01231265  6.24000655  6.83958295]\n",
      " [ 9.817411    8.7128921   9.84775887  9.91238991]\n",
      " [ 9.57800602  8.69426939 10.08421886  9.84630933]\n",
      " [ 8.4964893   7.65998592  8.10242531  8.44109827]\n",
      " [ 7.86888908  6.67299748  5.7843599   7.74813198]\n",
      " [ 8.27974295  6.94726366  9.21496812  8.33734109]\n",
      " [ 7.70004904  6.84545254  9.32346809  7.84093286]]\n",
      "[[10. 10. 10. 10.]\n",
      " [10.  4.  9. 10.]\n",
      " [ 8.  9. 10.  5.]\n",
      " [ 9.  8. 10. 10.]\n",
      " [10.  5.  9.  9.]\n",
      " [ 6.  4. 10.  6.]\n",
      " [ 9.  8. 10.  9.]\n",
      " [10.  5.  9.  8.]\n",
      " [ 7.  8. 10.  8.]\n",
      " [ 9.  5.  9.  7.]\n",
      " [ 9.  8. 10.  8.]\n",
      " [ 9. 10. 10.  9.]\n",
      " [10.  9. 10.  8.]\n",
      " [ 5.  8.  5.  8.]\n",
      " [10.  8. 10. 10.]\n",
      " [ 9.  9. 10. 10.]\n",
      " [ 9.  8.  8.  8.]\n",
      " [10.  8.  1. 10.]\n",
      " [ 5.  6. 10. 10.]\n",
      " [ 8.  7. 10.  7.]]\n"
     ]
    }
   ],
   "source": [
    "#Compare the predicted and actual results\n",
    "print(np.dot(user_mat, movie_mat))\n",
    "print(ratings_mat)"
   ]
  },
  {
   "cell_type": "markdown",
   "metadata": {},
   "source": [
    "**请在此处填写你的结论。**\n",
    "\n",
    "上次在此矩阵里放入 **np.nan** 值时，python 中的整个 SVD 算法崩溃了。我们看看使用你的 FunkSVD 函数是否依然会这样。在以下单元格中，我在你的 numpy 数组的第一个单元格中放入了一个 NaN 值。  \n",
    "\n",
    "`4.` 假设潜在特征有 4 个，学习速率为 0.005，并且迭代 250 次。你能够运行你的 SVD 并且不崩溃吗（内置的 python 方法会崩溃）？你获得了 NaN 值的预测值吗？缺失值的预测是多少？请在以下单元格中回答这些问题。"
   ]
  },
  {
   "cell_type": "code",
   "execution_count": 5,
   "metadata": {
    "ExecuteTime": {
     "end_time": "2019-09-14T04:29:56.730851Z",
     "start_time": "2019-09-14T04:29:56.664988Z"
    }
   },
   "outputs": [
    {
     "data": {
      "text/plain": [
       "matrix([[nan, 10., 10., 10.],\n",
       "        [10.,  4.,  9., 10.],\n",
       "        [ 8.,  9., 10.,  5.],\n",
       "        [ 9.,  8., 10., 10.],\n",
       "        [10.,  5.,  9.,  9.],\n",
       "        [ 6.,  4., 10.,  6.],\n",
       "        [ 9.,  8., 10.,  9.],\n",
       "        [10.,  5.,  9.,  8.],\n",
       "        [ 7.,  8., 10.,  8.],\n",
       "        [ 9.,  5.,  9.,  7.],\n",
       "        [ 9.,  8., 10.,  8.],\n",
       "        [ 9., 10., 10.,  9.],\n",
       "        [10.,  9., 10.,  8.],\n",
       "        [ 5.,  8.,  5.,  8.],\n",
       "        [10.,  8., 10., 10.],\n",
       "        [ 9.,  9., 10., 10.],\n",
       "        [ 9.,  8.,  8.,  8.],\n",
       "        [10.,  8.,  1., 10.],\n",
       "        [ 5.,  6., 10., 10.],\n",
       "        [ 8.,  7., 10.,  7.]])"
      ]
     },
     "execution_count": 5,
     "metadata": {},
     "output_type": "execute_result"
    }
   ],
   "source": [
    "# Here we are placing a nan into our original subset matrix\n",
    "ratings_mat[0, 0] = np.nan\n",
    "ratings_mat"
   ]
  },
  {
   "cell_type": "code",
   "execution_count": 6,
   "metadata": {
    "ExecuteTime": {
     "end_time": "2019-09-14T04:30:12.310790Z",
     "start_time": "2019-09-14T04:30:11.766122Z"
    }
   },
   "outputs": [
    {
     "name": "stdout",
     "output_type": "stream",
     "text": [
      "Optimizaiton Statistics\n",
      "Iterations | Mean Squared Error \n",
      "1 \t\t 41.769437\n",
      "2 \t\t 14.106389\n",
      "3 \t\t 4.192946\n",
      "4 \t\t 2.947497\n",
      "5 \t\t 2.762991\n",
      "6 \t\t 2.698476\n",
      "7 \t\t 2.659355\n",
      "8 \t\t 2.625245\n",
      "9 \t\t 2.590665\n",
      "10 \t\t 2.553887\n",
      "11 \t\t 2.514148\n",
      "12 \t\t 2.470963\n",
      "13 \t\t 2.423945\n",
      "14 \t\t 2.372765\n",
      "15 \t\t 2.317139\n",
      "16 \t\t 2.256829\n",
      "17 \t\t 2.191643\n",
      "18 \t\t 2.121433\n",
      "19 \t\t 2.046104\n",
      "20 \t\t 1.965619\n",
      "21 \t\t 1.880012\n",
      "22 \t\t 1.789418\n",
      "23 \t\t 1.694095\n",
      "24 \t\t 1.594471\n",
      "25 \t\t 1.491176\n",
      "26 \t\t 1.385072\n",
      "27 \t\t 1.277262\n",
      "28 \t\t 1.169067\n",
      "29 \t\t 1.061963\n",
      "30 \t\t 0.957489\n",
      "31 \t\t 0.857127\n",
      "32 \t\t 0.762185\n",
      "33 \t\t 0.673693\n",
      "34 \t\t 0.592344\n",
      "35 \t\t 0.518476\n",
      "36 \t\t 0.452103\n",
      "37 \t\t 0.392976\n",
      "38 \t\t 0.340659\n",
      "39 \t\t 0.294605\n",
      "40 \t\t 0.254220\n",
      "41 \t\t 0.218912\n",
      "42 \t\t 0.188117\n",
      "43 \t\t 0.161320\n",
      "44 \t\t 0.138056\n",
      "45 \t\t 0.117907\n",
      "46 \t\t 0.100504\n",
      "47 \t\t 0.085514\n",
      "48 \t\t 0.072642\n",
      "49 \t\t 0.061621\n",
      "50 \t\t 0.052213\n",
      "51 \t\t 0.044204\n",
      "52 \t\t 0.037404\n",
      "53 \t\t 0.031644\n",
      "54 \t\t 0.026774\n",
      "55 \t\t 0.022663\n",
      "56 \t\t 0.019197\n",
      "57 \t\t 0.016277\n",
      "58 \t\t 0.013818\n",
      "59 \t\t 0.011747\n",
      "60 \t\t 0.010002\n",
      "61 \t\t 0.008532\n",
      "62 \t\t 0.007291\n",
      "63 \t\t 0.006242\n",
      "64 \t\t 0.005354\n",
      "65 \t\t 0.004602\n",
      "66 \t\t 0.003963\n",
      "67 \t\t 0.003419\n",
      "68 \t\t 0.002955\n",
      "69 \t\t 0.002559\n",
      "70 \t\t 0.002220\n",
      "71 \t\t 0.001928\n",
      "72 \t\t 0.001678\n",
      "73 \t\t 0.001462\n",
      "74 \t\t 0.001275\n",
      "75 \t\t 0.001114\n",
      "76 \t\t 0.000974\n",
      "77 \t\t 0.000853\n",
      "78 \t\t 0.000747\n",
      "79 \t\t 0.000655\n",
      "80 \t\t 0.000575\n",
      "81 \t\t 0.000505\n",
      "82 \t\t 0.000444\n",
      "83 \t\t 0.000390\n",
      "84 \t\t 0.000343\n",
      "85 \t\t 0.000302\n",
      "86 \t\t 0.000266\n",
      "87 \t\t 0.000234\n",
      "88 \t\t 0.000207\n",
      "89 \t\t 0.000182\n",
      "90 \t\t 0.000161\n",
      "91 \t\t 0.000142\n",
      "92 \t\t 0.000125\n",
      "93 \t\t 0.000110\n",
      "94 \t\t 0.000097\n",
      "95 \t\t 0.000086\n",
      "96 \t\t 0.000076\n",
      "97 \t\t 0.000067\n",
      "98 \t\t 0.000059\n",
      "99 \t\t 0.000052\n",
      "100 \t\t 0.000046\n",
      "101 \t\t 0.000041\n",
      "102 \t\t 0.000036\n",
      "103 \t\t 0.000032\n",
      "104 \t\t 0.000028\n",
      "105 \t\t 0.000025\n",
      "106 \t\t 0.000022\n",
      "107 \t\t 0.000019\n",
      "108 \t\t 0.000017\n",
      "109 \t\t 0.000015\n",
      "110 \t\t 0.000013\n",
      "111 \t\t 0.000012\n",
      "112 \t\t 0.000010\n",
      "113 \t\t 0.000009\n",
      "114 \t\t 0.000008\n",
      "115 \t\t 0.000007\n",
      "116 \t\t 0.000006\n",
      "117 \t\t 0.000006\n",
      "118 \t\t 0.000005\n",
      "119 \t\t 0.000004\n",
      "120 \t\t 0.000004\n",
      "121 \t\t 0.000003\n",
      "122 \t\t 0.000003\n",
      "123 \t\t 0.000003\n",
      "124 \t\t 0.000002\n",
      "125 \t\t 0.000002\n",
      "126 \t\t 0.000002\n",
      "127 \t\t 0.000002\n",
      "128 \t\t 0.000001\n",
      "129 \t\t 0.000001\n",
      "130 \t\t 0.000001\n",
      "131 \t\t 0.000001\n",
      "132 \t\t 0.000001\n",
      "133 \t\t 0.000001\n",
      "134 \t\t 0.000001\n",
      "135 \t\t 0.000001\n",
      "136 \t\t 0.000001\n",
      "137 \t\t 0.000000\n",
      "138 \t\t 0.000000\n",
      "139 \t\t 0.000000\n",
      "140 \t\t 0.000000\n",
      "141 \t\t 0.000000\n",
      "142 \t\t 0.000000\n",
      "143 \t\t 0.000000\n",
      "144 \t\t 0.000000\n",
      "145 \t\t 0.000000\n",
      "146 \t\t 0.000000\n",
      "147 \t\t 0.000000\n",
      "148 \t\t 0.000000\n",
      "149 \t\t 0.000000\n",
      "150 \t\t 0.000000\n",
      "151 \t\t 0.000000\n",
      "152 \t\t 0.000000\n",
      "153 \t\t 0.000000\n",
      "154 \t\t 0.000000\n",
      "155 \t\t 0.000000\n",
      "156 \t\t 0.000000\n",
      "157 \t\t 0.000000\n",
      "158 \t\t 0.000000\n",
      "159 \t\t 0.000000\n",
      "160 \t\t 0.000000\n",
      "161 \t\t 0.000000\n",
      "162 \t\t 0.000000\n",
      "163 \t\t 0.000000\n",
      "164 \t\t 0.000000\n",
      "165 \t\t 0.000000\n",
      "166 \t\t 0.000000\n",
      "167 \t\t 0.000000\n",
      "168 \t\t 0.000000\n",
      "169 \t\t 0.000000\n",
      "170 \t\t 0.000000\n",
      "171 \t\t 0.000000\n",
      "172 \t\t 0.000000\n",
      "173 \t\t 0.000000\n",
      "174 \t\t 0.000000\n",
      "175 \t\t 0.000000\n",
      "176 \t\t 0.000000\n",
      "177 \t\t 0.000000\n",
      "178 \t\t 0.000000\n",
      "179 \t\t 0.000000\n",
      "180 \t\t 0.000000\n",
      "181 \t\t 0.000000\n",
      "182 \t\t 0.000000\n",
      "183 \t\t 0.000000\n",
      "184 \t\t 0.000000\n",
      "185 \t\t 0.000000\n",
      "186 \t\t 0.000000\n",
      "187 \t\t 0.000000\n",
      "188 \t\t 0.000000\n",
      "189 \t\t 0.000000\n",
      "190 \t\t 0.000000\n",
      "191 \t\t 0.000000\n",
      "192 \t\t 0.000000\n",
      "193 \t\t 0.000000\n",
      "194 \t\t 0.000000\n",
      "195 \t\t 0.000000\n",
      "196 \t\t 0.000000\n",
      "197 \t\t 0.000000\n",
      "198 \t\t 0.000000\n",
      "199 \t\t 0.000000\n",
      "200 \t\t 0.000000\n",
      "201 \t\t 0.000000\n",
      "202 \t\t 0.000000\n",
      "203 \t\t 0.000000\n",
      "204 \t\t 0.000000\n",
      "205 \t\t 0.000000\n",
      "206 \t\t 0.000000\n",
      "207 \t\t 0.000000\n",
      "208 \t\t 0.000000\n",
      "209 \t\t 0.000000\n",
      "210 \t\t 0.000000\n",
      "211 \t\t 0.000000\n",
      "212 \t\t 0.000000\n",
      "213 \t\t 0.000000\n",
      "214 \t\t 0.000000\n",
      "215 \t\t 0.000000\n",
      "216 \t\t 0.000000\n",
      "217 \t\t 0.000000\n",
      "218 \t\t 0.000000\n",
      "219 \t\t 0.000000\n",
      "220 \t\t 0.000000\n",
      "221 \t\t 0.000000\n",
      "222 \t\t 0.000000\n",
      "223 \t\t 0.000000\n",
      "224 \t\t 0.000000\n",
      "225 \t\t 0.000000\n",
      "226 \t\t 0.000000\n",
      "227 \t\t 0.000000\n",
      "228 \t\t 0.000000\n",
      "229 \t\t 0.000000\n",
      "230 \t\t 0.000000\n",
      "231 \t\t 0.000000\n",
      "232 \t\t 0.000000\n",
      "233 \t\t 0.000000\n",
      "234 \t\t 0.000000\n",
      "235 \t\t 0.000000\n",
      "236 \t\t 0.000000\n",
      "237 \t\t 0.000000\n",
      "238 \t\t 0.000000\n",
      "239 \t\t 0.000000\n",
      "240 \t\t 0.000000\n",
      "241 \t\t 0.000000\n",
      "242 \t\t 0.000000\n",
      "243 \t\t 0.000000\n",
      "244 \t\t 0.000000\n",
      "245 \t\t 0.000000\n",
      "246 \t\t 0.000000\n",
      "247 \t\t 0.000000\n",
      "248 \t\t 0.000000\n",
      "249 \t\t 0.000000\n",
      "250 \t\t 0.000000\n"
     ]
    }
   ],
   "source": [
    "# run SVD on the matrix with the missing value\n",
    "user_mat, movie_mat = FunkSVD(ratings_mat, latent_features=4, learning_rate=0.005, iters=250)"
   ]
  },
  {
   "cell_type": "code",
   "execution_count": 7,
   "metadata": {
    "ExecuteTime": {
     "end_time": "2019-09-14T04:30:33.589128Z",
     "start_time": "2019-09-14T04:30:33.576524Z"
    }
   },
   "outputs": [
    {
     "name": "stdout",
     "output_type": "stream",
     "text": [
      "The predicted value for the missing rating is 10.440627595271005:\n",
      "\n",
      "The actual value for the missing rating is nan:\n",
      "\n",
      "That's right! You just predicted a rating for a user-movie pair that was never rated!\n",
      "But if you look in the original matrix, this was actually a value of 10. Not bad!\n"
     ]
    }
   ],
   "source": [
    "# Run this cell to see if you were able to predict for the missing value\n",
    "preds = np.dot(user_mat, movie_mat)\n",
    "print(\"The predicted value for the missing rating is {}:\".format(preds[0,0]))\n",
    "print()\n",
    "print(\"The actual value for the missing rating is {}:\".format(ratings_mat[0,0]))\n",
    "print()\n",
    "assert np.isnan(preds[0,0]) == False\n",
    "print(\"That's right! You just predicted a rating for a user-movie pair that was never rated!\")\n",
    "print(\"But if you look in the original matrix, this was actually a value of 10. Not bad!\")"
   ]
  },
  {
   "cell_type": "markdown",
   "metadata": {},
   "source": [
    "下面扩展到更真实的例子上。遗憾的是，依然不建议在本地机器上对整个用户-电影矩阵运行此函数。但是，我们能够查看这个示例扩展到 1000 个用户的情况。在上述部分，你使用了一个非常小的数据子集，并且没有缺失值。\n",
    "\n",
    "`5.` 考虑到此矩阵的大小，运行时间会比较长。假设超参数如下所示：潜在特征为 4 个，学习速率为0.005，迭代次数为20。运行时间会很久，吃点东西，散散步吧。"
   ]
  },
  {
   "cell_type": "code",
   "execution_count": null,
   "metadata": {
    "ExecuteTime": {
     "start_time": "2019-09-14T04:30:47.880Z"
    }
   },
   "outputs": [
    {
     "name": "stdout",
     "output_type": "stream",
     "text": [
      "Optimizaiton Statistics\n",
      "Iterations | Mean Squared Error \n",
      "1 \t\t 23.512568\n",
      "2 \t\t 10.847862\n",
      "3 \t\t 7.450251\n",
      "4 \t\t 5.746853\n",
      "5 \t\t 4.670920\n",
      "6 \t\t 3.918359\n",
      "7 \t\t 3.358859\n",
      "8 \t\t 2.925480\n",
      "9 \t\t 2.580222\n",
      "10 \t\t 2.299717\n",
      "11 \t\t 2.068517\n",
      "12 \t\t 1.875795\n",
      "13 \t\t 1.713645\n",
      "14 \t\t 1.576140\n",
      "15 \t\t 1.458750\n",
      "16 \t\t 1.357947\n",
      "17 \t\t 1.270918\n"
     ]
    }
   ],
   "source": [
    "# Setting up a matrix of the first 1000 users with movie ratings\n",
    "first_1000_users = np.matrix(user_by_movie.head(1000))\n",
    "\n",
    "# perform funkSVD on the matrix of the top 1000 users\n",
    "user_mat, movie_mat = FunkSVD(first_1000_users, latent_features=4, learning_rate=0.005, iters=20)"
   ]
  },
  {
   "cell_type": "markdown",
   "metadata": {},
   "source": [
    "`6.` 现在你已经获得了每个用户-电影对的预测值，请根据你的结果回答几个问题。请在以下每个变量对应的括号里填写正确的值，并使用以下测试检测你的答案。"
   ]
  },
  {
   "cell_type": "code",
   "execution_count": null,
   "metadata": {
    "ExecuteTime": {
     "start_time": "2019-09-14T04:31:06.869Z"
    }
   },
   "outputs": [],
   "source": [
    "# How many actual ratings exist in first_1000_users\n",
    "num_ratings = np.count_nonzero(~np.isnan(first_1000_users))\n",
    "print(\"The number of actual ratings in the first_1000_users is {}.\".format(num_ratings))\n",
    "print()\n",
    "\n",
    "# How many ratings did we make for user-movie pairs that didn't have ratings\n",
    "ratings_for_missing = first_1000_users.shape[0]*first_1000_users.shape[1] - num_ratings\n",
    "print(\"The number of ratings made for user-movie pairs that didn't have ratings is {}\".format(ratings_for_missing))"
   ]
  },
  {
   "cell_type": "code",
   "execution_count": null,
   "metadata": {
    "ExecuteTime": {
     "start_time": "2019-09-14T04:31:22.756Z"
    }
   },
   "outputs": [],
   "source": [
    "# Test your results against the solution\n",
    "assert num_ratings == 10852, \"Oops!  The number of actual ratings doesn't quite look right.\"\n",
    "assert ratings_for_missing == 31234148, \"Oops!  The number of movie-user pairs that you made ratings for that didn't actually have ratings doesn't look right.\"\n",
    "\n",
    "# Make sure you made predictions on all the missing user-movie pairs\n",
    "preds = np.dot(user_mat, movie_mat)\n",
    "assert np.isnan(preds).sum() == 0\n",
    "print(\"Nice job!  Looks like you have predictions made for all the missing user-movie pairs! But I still have one question... How good are they?\")"
   ]
  },
  {
   "cell_type": "markdown",
   "metadata": {},
   "source": [
    "```python\n",
    "\n",
    "```"
   ]
  }
 ],
 "metadata": {
  "kernelspec": {
   "display_name": "Python 3",
   "language": "python",
   "name": "python3"
  },
  "language_info": {
   "codemirror_mode": {
    "name": "ipython",
    "version": 3
   },
   "file_extension": ".py",
   "mimetype": "text/x-python",
   "name": "python",
   "nbconvert_exporter": "python",
   "pygments_lexer": "ipython3",
   "version": "3.6.7"
  },
  "toc": {
   "base_numbering": 1,
   "nav_menu": {},
   "number_sections": true,
   "sideBar": true,
   "skip_h1_title": false,
   "title_cell": "Table of Contents",
   "title_sidebar": "Contents",
   "toc_cell": false,
   "toc_position": {},
   "toc_section_display": true,
   "toc_window_display": false
  }
 },
 "nbformat": 4,
 "nbformat_minor": 2
}
