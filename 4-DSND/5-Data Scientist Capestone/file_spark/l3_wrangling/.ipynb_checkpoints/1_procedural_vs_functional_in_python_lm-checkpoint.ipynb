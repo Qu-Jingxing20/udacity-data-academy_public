{
 "cells": [
  {
   "cell_type": "code",
   "execution_count": 2,
   "metadata": {
    "ExecuteTime": {
     "end_time": "2019-10-30T23:50:05.762070Z",
     "start_time": "2019-10-30T23:50:05.534893Z"
    }
   },
   "outputs": [
    {
     "name": "stdout",
     "output_type": "stream",
     "text": [
      "java version \"1.8.0_212\"\n",
      "Java(TM) SE Runtime Environment (build 1.8.0_212-b10)\n",
      "Java HotSpot(TM) 64-Bit Server VM (build 25.212-b10, mixed mode)\n"
     ]
    }
   ],
   "source": [
    "# spark env check（mac）\n",
    "!java -version\n",
    "# 如果不是 1.8 需要\n",
    "## 关掉jupyter notebook，之后在terminal运行\n",
    "## export JAVA_HOME=`/usr/libexec/java_home -v 1.8.0_212`\n",
    "## 如果版本号不对（小版本可能会升级）需要查询 /usr/libexec/java_home -V\n",
    "## 完成后再次检查版本，输出为类似 java version \"1.8.0_212\""
   ]
  },
  {
   "cell_type": "markdown",
   "metadata": {},
   "source": [
    "# Procedural Programming\n",
    "\n",
    "This notebook contains the code from the previous screencast. The code counts the number of times a song appears in the log_of_songs variable. \n",
    "\n",
    "You'll notice that the first time you run `count_plays(\"Despacito\")`, you get the correct count. However, when you run the same code again `count_plays(\"Despacito\")`, the results are no longer correct.This is because the global variable `play_count` stores the results outside of the count_plays function. \n",
    "\n",
    "\n",
    "# Instructions\n",
    "\n",
    "Run the code cells in this notebook to see the problem with  "
   ]
  },
  {
   "cell_type": "code",
   "execution_count": 5,
   "metadata": {
    "ExecuteTime": {
     "end_time": "2019-10-30T23:50:58.090098Z",
     "start_time": "2019-10-30T23:50:58.084835Z"
    }
   },
   "outputs": [],
   "source": [
    "log_of_songs = [\n",
    "        \"Despacito\",\n",
    "        \"Nice for what\",\n",
    "        \"No tears left to cry\",\n",
    "        \"Despacito\",\n",
    "        \"Havana\",\n",
    "        \"In my feelings\",\n",
    "        \"Nice for what\",\n",
    "        \"Despacito\",\n",
    "        \"All the stars\"\n",
    "]"
   ]
  },
  {
   "cell_type": "code",
   "execution_count": 6,
   "metadata": {
    "ExecuteTime": {
     "end_time": "2019-10-30T23:50:59.208526Z",
     "start_time": "2019-10-30T23:50:59.202090Z"
    }
   },
   "outputs": [],
   "source": [
    "play_count = 0"
   ]
  },
  {
   "cell_type": "code",
   "execution_count": 7,
   "metadata": {
    "ExecuteTime": {
     "end_time": "2019-10-30T23:50:59.959485Z",
     "start_time": "2019-10-30T23:50:59.951952Z"
    }
   },
   "outputs": [],
   "source": [
    "def count_plays(song_title):\n",
    "    global play_count\n",
    "    for song in log_of_songs:\n",
    "        if song == song_title:\n",
    "            play_count = play_count + 1\n",
    "    return play_count"
   ]
  },
  {
   "cell_type": "code",
   "execution_count": 8,
   "metadata": {
    "ExecuteTime": {
     "end_time": "2019-10-30T23:51:01.136690Z",
     "start_time": "2019-10-30T23:51:01.121114Z"
    }
   },
   "outputs": [
    {
     "data": {
      "text/plain": [
       "3"
      ]
     },
     "execution_count": 8,
     "metadata": {},
     "output_type": "execute_result"
    }
   ],
   "source": [
    "count_plays(\"Despacito\")"
   ]
  },
  {
   "cell_type": "code",
   "execution_count": 9,
   "metadata": {
    "ExecuteTime": {
     "end_time": "2019-10-30T23:51:19.438503Z",
     "start_time": "2019-10-30T23:51:19.427733Z"
    }
   },
   "outputs": [
    {
     "data": {
      "text/plain": [
       "6"
      ]
     },
     "execution_count": 9,
     "metadata": {},
     "output_type": "execute_result"
    }
   ],
   "source": [
    "count_plays(\"Despacito\")"
   ]
  },
  {
   "cell_type": "markdown",
   "metadata": {},
   "source": [
    "# How to Solve the Issue\n",
    "\n",
    "How might you solve this issue? You could get rid of the global variable and instead use play_count as an input to the function:\n",
    "\n",
    "```python\n",
    "def count_plays(song_title, play_count):\n",
    "    for song in log_of_songs:\n",
    "        if song == song_title:\n",
    "            play_count = play_count + 1\n",
    "    return play_count\n",
    "\n",
    "```\n",
    "\n",
    "How would this work with parallel programming? Spark splits up data onto multiple machines. If your songs list were split onto two machines, Machine A would first need to finish counting, and then return its own result to Machine B. And then Machine B could use the output from Machine A and add to the count.\n",
    "\n",
    "However, that isn't parallel computing. Machine B would have to wait until Machine A finishes. You'll see in the next parts of the lesson how Spark solves this issue with a functional programming paradigm.\n",
    "\n",
    "In Spark, if your data is split onto two different machines, machine A will run a function to count how many times 'Despacito' appears on machine A. Machine B will simultaneously run a function to count how many times 'Despacito' appears on machine B. After they finish counting individually, they'll combine their results together. You'll see how this works in the next parts of the lesson."
   ]
  },
  {
   "cell_type": "code",
   "execution_count": null,
   "metadata": {},
   "outputs": [],
   "source": []
  }
 ],
 "metadata": {
  "kernelspec": {
   "display_name": "Python 3",
   "language": "python",
   "name": "python3"
  },
  "language_info": {
   "codemirror_mode": {
    "name": "ipython",
    "version": 3
   },
   "file_extension": ".py",
   "mimetype": "text/x-python",
   "name": "python",
   "nbconvert_exporter": "python",
   "pygments_lexer": "ipython3",
   "version": "3.6.7"
  },
  "toc": {
   "base_numbering": 1,
   "nav_menu": {},
   "number_sections": true,
   "sideBar": true,
   "skip_h1_title": false,
   "title_cell": "Table of Contents",
   "title_sidebar": "Contents",
   "toc_cell": false,
   "toc_position": {},
   "toc_section_display": true,
   "toc_window_display": false
  }
 },
 "nbformat": 4,
 "nbformat_minor": 2
}
