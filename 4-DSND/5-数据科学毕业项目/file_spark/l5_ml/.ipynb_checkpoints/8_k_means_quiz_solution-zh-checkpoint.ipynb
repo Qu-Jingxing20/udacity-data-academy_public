{
 "cells": [
  {
   "cell_type": "markdown",
   "metadata": {},
   "source": [
    "﻿# K-Means测验的答案 \n",
    "我们可能更想看标题加内容的长度的特征的分布，而不是通过一些语言描述来看文章内容的长度：短 、 更长、 超级长\n",
    "\n",
    "在下面的问题中，我把标题加内容`Title`的长度的字段`Body`叫做描述长度（长度是指使用pattern =“\\ W”进行分词的单词数）。"
   ]
  },
  {
   "cell_type": "code",
   "execution_count": 5,
   "metadata": {
    "ExecuteTime": {
     "end_time": "2019-12-11T15:47:55.948936Z",
     "start_time": "2019-12-11T15:47:55.939003Z"
    }
   },
   "outputs": [],
   "source": [
    "from pyspark.sql import SparkSession\n",
    "from pyspark.sql.functions import avg, col, concat, count, desc, explode, lit, min, max, split, stddev, udf\n",
    "from pyspark.sql.types import IntegerType\n",
    "from pyspark.ml.feature import RegexTokenizer, VectorAssembler\n",
    "from pyspark.ml.regression import LinearRegression\n",
    "from pyspark.ml.clustering import KMeans"
   ]
  },
  {
   "cell_type": "code",
   "execution_count": 6,
   "metadata": {
    "ExecuteTime": {
     "end_time": "2019-12-11T15:47:55.986605Z",
     "start_time": "2019-12-11T15:47:55.957138Z"
    }
   },
   "outputs": [],
   "source": [
    "spark = SparkSession.builder \\\n",
    "    .master(\"local\") \\\n",
    "    .appName(\"Creating Features\") \\\n",
    "    .getOrCreate()"
   ]
  },
  {
   "cell_type": "markdown",
   "metadata": {},
   "source": [
    "### 读取数据集"
   ]
  },
  {
   "cell_type": "code",
   "execution_count": 7,
   "metadata": {
    "ExecuteTime": {
     "end_time": "2019-12-11T15:47:56.012574Z",
     "start_time": "2019-12-11T15:47:56.002857Z"
    }
   },
   "outputs": [],
   "source": [
    "stack_overflow_data = 'Train_onetag_small.json'"
   ]
  },
  {
   "cell_type": "code",
   "execution_count": 8,
   "metadata": {
    "ExecuteTime": {
     "end_time": "2019-12-11T15:48:09.014911Z",
     "start_time": "2019-12-11T15:47:56.018340Z"
    }
   },
   "outputs": [
    {
     "data": {
      "text/plain": [
       "DataFrame[Body: string, Id: bigint, Tags: string, Title: string, oneTag: string]"
      ]
     },
     "execution_count": 8,
     "metadata": {},
     "output_type": "execute_result"
    }
   ],
   "source": [
    "df = spark.read.json(stack_overflow_data)\n",
    "df.persist()"
   ]
  },
  {
   "cell_type": "markdown",
   "metadata": {},
   "source": [
    "### 创建描述长度特征"
   ]
  },
  {
   "cell_type": "code",
   "execution_count": 10,
   "metadata": {
    "ExecuteTime": {
     "end_time": "2019-12-11T15:52:14.238050Z",
     "start_time": "2019-12-11T15:52:13.969105Z"
    }
   },
   "outputs": [],
   "source": [
    "df = df.withColumn(\"Desc\", concat(col(\"Title\"), lit(' '), col(\"Body\")))"
   ]
  },
  {
   "cell_type": "code",
   "execution_count": 11,
   "metadata": {
    "ExecuteTime": {
     "end_time": "2019-12-11T15:52:15.109253Z",
     "start_time": "2019-12-11T15:52:14.943552Z"
    }
   },
   "outputs": [],
   "source": [
    "regexTokenizer = RegexTokenizer(inputCol=\"Desc\", outputCol=\"words\", pattern=\"\\\\W\")\n",
    "df = regexTokenizer.transform(df)"
   ]
  },
  {
   "cell_type": "code",
   "execution_count": 12,
   "metadata": {
    "ExecuteTime": {
     "end_time": "2019-12-11T15:52:15.769541Z",
     "start_time": "2019-12-11T15:52:15.695323Z"
    }
   },
   "outputs": [],
   "source": [
    "body_length = udf(lambda x: len(x), IntegerType())\n",
    "df = df.withColumn(\"DescLength\", body_length(df.words))"
   ]
  },
  {
   "cell_type": "code",
   "execution_count": 13,
   "metadata": {
    "ExecuteTime": {
     "end_time": "2019-12-11T15:52:16.568110Z",
     "start_time": "2019-12-11T15:52:16.381622Z"
    }
   },
   "outputs": [],
   "source": [
    "assembler = VectorAssembler(inputCols=[\"DescLength\"], outputCol=\"DescVec\")\n",
    "df = assembler.transform(df)"
   ]
  },
  {
   "cell_type": "code",
   "execution_count": 14,
   "metadata": {
    "ExecuteTime": {
     "end_time": "2019-12-11T15:52:17.092549Z",
     "start_time": "2019-12-11T15:52:17.031306Z"
    }
   },
   "outputs": [],
   "source": [
    "number_of_tags = udf(lambda x: len(x.split(\" \")), IntegerType())\n",
    "df = df.withColumn(\"NumTags\", number_of_tags(df.Tags))"
   ]
  },
  {
   "cell_type": "markdown",
   "metadata": {},
   "source": [
    "# 问题1\n",
    "最长问题的描述长度比最短问题的描述长度（四舍五入到最接近的整数）大多少倍？\n",
    "\n",
    "提示：不要忘记导入可以对 DataFrame 列进行操作的 Spark SQL聚合函数。"
   ]
  },
  {
   "cell_type": "code",
   "execution_count": 15,
   "metadata": {
    "ExecuteTime": {
     "end_time": "2019-12-11T15:52:37.985513Z",
     "start_time": "2019-12-11T15:52:18.400965Z"
    }
   },
   "outputs": [
    {
     "name": "stdout",
     "output_type": "stream",
     "text": [
      "+---------------+\n",
      "|min(DescLength)|\n",
      "+---------------+\n",
      "|             10|\n",
      "+---------------+\n",
      "\n"
     ]
    }
   ],
   "source": [
    "df.agg(min(\"DescLength\")).show()"
   ]
  },
  {
   "cell_type": "code",
   "execution_count": 18,
   "metadata": {
    "ExecuteTime": {
     "end_time": "2019-12-11T15:53:10.582820Z",
     "start_time": "2019-12-11T15:53:10.576080Z"
    }
   },
   "outputs": [],
   "source": [
    "'''\n",
    "+---------------+\n",
    "|min(DescLength)|\n",
    "+---------------+\n",
    "| 10|\n",
    "+---------------+\n",
    "''';"
   ]
  },
  {
   "cell_type": "code",
   "execution_count": 19,
   "metadata": {
    "ExecuteTime": {
     "end_time": "2019-12-11T15:53:25.670860Z",
     "start_time": "2019-12-11T15:53:13.031687Z"
    }
   },
   "outputs": [
    {
     "name": "stdout",
     "output_type": "stream",
     "text": [
      "+---------------+\n",
      "|max(DescLength)|\n",
      "+---------------+\n",
      "|           7532|\n",
      "+---------------+\n",
      "\n"
     ]
    }
   ],
   "source": [
    "df.agg(max(\"DescLength\")).show()"
   ]
  },
  {
   "cell_type": "code",
   "execution_count": 20,
   "metadata": {
    "ExecuteTime": {
     "end_time": "2019-12-11T15:53:26.732612Z",
     "start_time": "2019-12-11T15:53:26.724130Z"
    }
   },
   "outputs": [
    {
     "data": {
      "text/plain": [
       "'\\n+---------------+\\n|max(DescLength)|\\n+---------------+\\n| 7532|\\n+---------------+\\n'"
      ]
     },
     "execution_count": 20,
     "metadata": {},
     "output_type": "execute_result"
    }
   ],
   "source": [
    "'''\n",
    "+---------------+\n",
    "|max(DescLength)|\n",
    "+---------------+\n",
    "| 7532|\n",
    "+---------------+\n",
    "'''"
   ]
  },
  {
   "cell_type": "markdown",
   "metadata": {},
   "source": [
    "# Question 2\n",
    "描述长度的平均值和标准差是多少？"
   ]
  },
  {
   "cell_type": "code",
   "execution_count": 21,
   "metadata": {
    "ExecuteTime": {
     "end_time": "2019-12-11T15:53:43.221810Z",
     "start_time": "2019-12-11T15:53:30.495877Z"
    }
   },
   "outputs": [
    {
     "name": "stdout",
     "output_type": "stream",
     "text": [
      "+---------------+-----------------------+\n",
      "|avg(DescLength)|stddev_samp(DescLength)|\n",
      "+---------------+-----------------------+\n",
      "|      180.28187|     192.10819533505023|\n",
      "+---------------+-----------------------+\n",
      "\n"
     ]
    }
   ],
   "source": [
    "df.agg(avg(\"DescLength\"), stddev(\"DescLength\")).show()"
   ]
  },
  {
   "cell_type": "code",
   "execution_count": 23,
   "metadata": {
    "ExecuteTime": {
     "end_time": "2019-12-11T15:53:46.292538Z",
     "start_time": "2019-12-11T15:53:46.287307Z"
    }
   },
   "outputs": [],
   "source": [
    "'''\n",
    "+---------------+-----------------------+\n",
    "|avg(DescLength)|stddev_samp(DescLength)|\n",
    "+---------------+-----------------------+\n",
    "| 180.28187| 192.10819533505023|\n",
    "+---------------+-----------------------+\n",
    "''';"
   ]
  },
  {
   "cell_type": "markdown",
   "metadata": {},
   "source": [
    "# 问题3\n",
    "让我们用 K-means把描述长度归到5类中。将 random seed 设置为42并用5簇的K-means模型拟合描述长度（你可以使用KMeans（）。setParams（...））。代表最长问题的簇的中心长度是多少？"
   ]
  },
  {
   "cell_type": "code",
   "execution_count": 24,
   "metadata": {
    "ExecuteTime": {
     "end_time": "2019-12-11T15:54:05.547664Z",
     "start_time": "2019-12-11T15:53:48.413994Z"
    }
   },
   "outputs": [],
   "source": [
    "kmeans = KMeans().setParams(featuresCol=\"DescVec\", predictionCol=\"DescGroup\", k=5, seed=42)\n",
    "model = kmeans.fit(df)\n",
    "df = model.transform(df)"
   ]
  },
  {
   "cell_type": "code",
   "execution_count": 25,
   "metadata": {
    "ExecuteTime": {
     "end_time": "2019-12-11T15:54:12.568552Z",
     "start_time": "2019-12-11T15:54:05.551242Z"
    }
   },
   "outputs": [
    {
     "data": {
      "text/plain": [
       "Row(Body=\"<p>I'd like to check if an uploaded file is an image file (e.g png, jpg, jpeg, gif, bmp) or another file. The problem is that I'm using Uploadify to upload the files, which changes the mime type and gives a 'text/octal' or something as the mime type, no matter which file type you upload.</p>\\n\\n<p>Is there a way to check if the uploaded file is an image apart from checking the file extension using PHP?</p>\\n\", Id=1, Tags='php image-processing file-upload upload mime-types', Title='How to check if an uploaded file is an image without mime type?', oneTag='php', Desc=\"How to check if an uploaded file is an image without mime type? <p>I'd like to check if an uploaded file is an image file (e.g png, jpg, jpeg, gif, bmp) or another file. The problem is that I'm using Uploadify to upload the files, which changes the mime type and gives a 'text/octal' or something as the mime type, no matter which file type you upload.</p>\\n\\n<p>Is there a way to check if the uploaded file is an image apart from checking the file extension using PHP?</p>\\n\", words=['how', 'to', 'check', 'if', 'an', 'uploaded', 'file', 'is', 'an', 'image', 'without', 'mime', 'type', 'p', 'i', 'd', 'like', 'to', 'check', 'if', 'an', 'uploaded', 'file', 'is', 'an', 'image', 'file', 'e', 'g', 'png', 'jpg', 'jpeg', 'gif', 'bmp', 'or', 'another', 'file', 'the', 'problem', 'is', 'that', 'i', 'm', 'using', 'uploadify', 'to', 'upload', 'the', 'files', 'which', 'changes', 'the', 'mime', 'type', 'and', 'gives', 'a', 'text', 'octal', 'or', 'something', 'as', 'the', 'mime', 'type', 'no', 'matter', 'which', 'file', 'type', 'you', 'upload', 'p', 'p', 'is', 'there', 'a', 'way', 'to', 'check', 'if', 'the', 'uploaded', 'file', 'is', 'an', 'image', 'apart', 'from', 'checking', 'the', 'file', 'extension', 'using', 'php', 'p'], DescLength=96, DescVec=DenseVector([96.0]), NumTags=5, DescGroup=0)"
      ]
     },
     "execution_count": 25,
     "metadata": {},
     "output_type": "execute_result"
    }
   ],
   "source": [
    "df.head()"
   ]
  },
  {
   "cell_type": "code",
   "execution_count": 26,
   "metadata": {
    "ExecuteTime": {
     "end_time": "2019-12-11T15:54:28.163993Z",
     "start_time": "2019-12-11T15:54:12.576535Z"
    }
   },
   "outputs": [
    {
     "name": "stdout",
     "output_type": "stream",
     "text": [
      "+---------+------------------+------------------+-----------------+\n",
      "|DescGroup|   avg(DescLength)|      avg(NumTags)|count(DescLength)|\n",
      "+---------+------------------+------------------+-----------------+\n",
      "|        0| 96.71484436347646|   2.7442441184785|            63674|\n",
      "|        4| 241.0267434466191| 3.093549070868367|            28306|\n",
      "|        2|499.83863263173606|3.2294372294372296|             6699|\n",
      "|        1|      1074.2109375|3.2864583333333335|             1152|\n",
      "|        3|2731.0828402366865|  3.42603550295858|              169|\n",
      "+---------+------------------+------------------+-----------------+\n",
      "\n"
     ]
    }
   ],
   "source": [
    "df.groupby(\"DescGroup\").agg(avg(col(\"DescLength\")), avg(col(\"NumTags\")), count(col(\"DescLength\"))).orderBy(\"avg(DescLength)\").show()"
   ]
  },
  {
   "cell_type": "code",
   "execution_count": 27,
   "metadata": {
    "ExecuteTime": {
     "end_time": "2019-12-11T15:54:28.177877Z",
     "start_time": "2019-12-11T15:54:28.169574Z"
    }
   },
   "outputs": [
    {
     "data": {
      "text/plain": [
       "'\\n+---------+------------------+------------------+-----------------+\\n|DescGroup| avg(DescLength)| avg(NumTags)|count(DescLength)|\\n+---------+------------------+------------------+-----------------+\\n| 0| 96.71484436347646| 2.7442441184785| 63674|\\n| 4| 241.0267434466191| 3.093549070868367| 28306|\\n| 2|499.83863263173606|3.2294372294372296| 6699|\\n| 1| 1074.2109375|3.2864583333333335| 1152|\\n| 3|2731.0828402366865| 3.42603550295858| 169|\\n+---------+------------------+------------------+-----------------+\\n'"
      ]
     },
     "execution_count": 27,
     "metadata": {},
     "output_type": "execute_result"
    }
   ],
   "source": [
    "'''\n",
    "+---------+------------------+------------------+-----------------+\n",
    "|DescGroup| avg(DescLength)| avg(NumTags)|count(DescLength)|\n",
    "+---------+------------------+------------------+-----------------+\n",
    "| 0| 96.71484436347646| 2.7442441184785| 63674|\n",
    "| 4| 241.0267434466191| 3.093549070868367| 28306|\n",
    "| 2|499.83863263173606|3.2294372294372296| 6699|\n",
    "| 1| 1074.2109375|3.2864583333333335| 1152|\n",
    "| 3|2731.0828402366865| 3.42603550295858| 169|\n",
    "+---------+------------------+------------------+-----------------+\n",
    "'''"
   ]
  },
  {
   "cell_type": "markdown",
   "metadata": {},
   "source": [
    "```python\n",
    "\n",
    "```"
   ]
  }
 ],
 "metadata": {
  "kernelspec": {
   "display_name": "Python 3",
   "language": "python",
   "name": "python3"
  },
  "language_info": {
   "codemirror_mode": {
    "name": "ipython",
    "version": 3
   },
   "file_extension": ".py",
   "mimetype": "text/x-python",
   "name": "python",
   "nbconvert_exporter": "python",
   "pygments_lexer": "ipython3",
   "version": "3.6.7"
  },
  "toc": {
   "base_numbering": 1,
   "nav_menu": {},
   "number_sections": true,
   "sideBar": true,
   "skip_h1_title": false,
   "title_cell": "Table of Contents",
   "title_sidebar": "Contents",
   "toc_cell": false,
   "toc_position": {},
   "toc_section_display": true,
   "toc_window_display": false
  }
 },
 "nbformat": 4,
 "nbformat_minor": 2
}
