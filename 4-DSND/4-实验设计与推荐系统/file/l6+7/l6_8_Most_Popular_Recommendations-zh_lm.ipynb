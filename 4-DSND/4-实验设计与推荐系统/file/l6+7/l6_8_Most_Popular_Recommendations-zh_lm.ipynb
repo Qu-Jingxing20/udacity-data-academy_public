{
 "cells": [
  {
   "cell_type": "markdown",
   "metadata": {},
   "source": [
    "### 通过 MovieTweetings 创建推荐系统：最热门的推荐内容\n",
    "\n",
    "你已经创建了将在这节课剩余部分创建推荐系统时使用的必要列，下面我们开始创建推荐系统的第一个步骤吧。\n",
    "\n",
    "首先，使用以下代码读取将在这节课中一直使用的库和两个数据集。"
   ]
  },
  {
   "cell_type": "code",
   "execution_count": 138,
   "metadata": {
    "ExecuteTime": {
     "end_time": "2020-01-06T00:59:07.984197Z",
     "start_time": "2020-01-06T00:59:07.973914Z"
    }
   },
   "outputs": [],
   "source": [
    "import numpy as np\n",
    "import pandas as pd\n",
    "import matplotlib.pyplot as plt\n",
    "import project_tests as t\n",
    "\n",
    "pd.set_option('max_row',300)\n",
    "\n",
    "%matplotlib inline"
   ]
  },
  {
   "cell_type": "code",
   "execution_count": 120,
   "metadata": {
    "ExecuteTime": {
     "end_time": "2020-01-06T00:44:14.899527Z",
     "start_time": "2020-01-06T00:44:12.671785Z"
    }
   },
   "outputs": [],
   "source": [
    "# Read in the datasets\n",
    "movies = pd.read_csv('movies_clean.csv')\n",
    "reviews = pd.read_csv('reviews_clean.csv')\n",
    "\n",
    "# 使用 del 删除了 Unnamed: 0 列(后续研究)\n",
    "del movies['Unnamed: 0']\n",
    "del reviews['Unnamed: 0']"
   ]
  },
  {
   "cell_type": "code",
   "execution_count": 121,
   "metadata": {
    "ExecuteTime": {
     "end_time": "2020-01-06T00:44:14.980577Z",
     "start_time": "2020-01-06T00:44:14.902300Z"
    }
   },
   "outputs": [
    {
     "data": {
      "text/html": [
       "<div>\n",
       "<style scoped>\n",
       "    .dataframe tbody tr th:only-of-type {\n",
       "        vertical-align: middle;\n",
       "    }\n",
       "\n",
       "    .dataframe tbody tr th {\n",
       "        vertical-align: top;\n",
       "    }\n",
       "\n",
       "    .dataframe thead th {\n",
       "        text-align: right;\n",
       "    }\n",
       "</style>\n",
       "<table border=\"1\" class=\"dataframe\">\n",
       "  <thead>\n",
       "    <tr style=\"text-align: right;\">\n",
       "      <th></th>\n",
       "      <th>movie_id</th>\n",
       "      <th>movie</th>\n",
       "      <th>genre</th>\n",
       "      <th>date</th>\n",
       "      <th>1800's</th>\n",
       "      <th>1900's</th>\n",
       "      <th>2000's</th>\n",
       "      <th>History</th>\n",
       "      <th>News</th>\n",
       "      <th>Horror</th>\n",
       "      <th>...</th>\n",
       "      <th>Fantasy</th>\n",
       "      <th>Romance</th>\n",
       "      <th>Game-Show</th>\n",
       "      <th>Action</th>\n",
       "      <th>Documentary</th>\n",
       "      <th>Animation</th>\n",
       "      <th>Comedy</th>\n",
       "      <th>Short</th>\n",
       "      <th>Western</th>\n",
       "      <th>Thriller</th>\n",
       "    </tr>\n",
       "  </thead>\n",
       "  <tbody>\n",
       "    <tr>\n",
       "      <td>0</td>\n",
       "      <td>8</td>\n",
       "      <td>Edison Kinetoscopic Record of a Sneeze (1894)</td>\n",
       "      <td>Documentary|Short</td>\n",
       "      <td>1894</td>\n",
       "      <td>1</td>\n",
       "      <td>0</td>\n",
       "      <td>0</td>\n",
       "      <td>0</td>\n",
       "      <td>0</td>\n",
       "      <td>0</td>\n",
       "      <td>...</td>\n",
       "      <td>0</td>\n",
       "      <td>0</td>\n",
       "      <td>0</td>\n",
       "      <td>0</td>\n",
       "      <td>1</td>\n",
       "      <td>0</td>\n",
       "      <td>0</td>\n",
       "      <td>1</td>\n",
       "      <td>0</td>\n",
       "      <td>0</td>\n",
       "    </tr>\n",
       "  </tbody>\n",
       "</table>\n",
       "<p>1 rows × 35 columns</p>\n",
       "</div>"
      ],
      "text/plain": [
       "   movie_id                                          movie              genre  \\\n",
       "0         8  Edison Kinetoscopic Record of a Sneeze (1894)  Documentary|Short   \n",
       "\n",
       "   date  1800's  1900's  2000's  History  News  Horror  ...  Fantasy  Romance  \\\n",
       "0  1894       1       0       0        0     0       0  ...        0        0   \n",
       "\n",
       "   Game-Show  Action  Documentary  Animation  Comedy  Short  Western  Thriller  \n",
       "0          0       0            1          0       0      1        0         0  \n",
       "\n",
       "[1 rows x 35 columns]"
      ]
     },
     "metadata": {},
     "output_type": "display_data"
    },
    {
     "data": {
      "text/html": [
       "<div>\n",
       "<style scoped>\n",
       "    .dataframe tbody tr th:only-of-type {\n",
       "        vertical-align: middle;\n",
       "    }\n",
       "\n",
       "    .dataframe tbody tr th {\n",
       "        vertical-align: top;\n",
       "    }\n",
       "\n",
       "    .dataframe thead th {\n",
       "        text-align: right;\n",
       "    }\n",
       "</style>\n",
       "<table border=\"1\" class=\"dataframe\">\n",
       "  <thead>\n",
       "    <tr style=\"text-align: right;\">\n",
       "      <th></th>\n",
       "      <th>user_id</th>\n",
       "      <th>movie_id</th>\n",
       "      <th>rating</th>\n",
       "      <th>timestamp</th>\n",
       "      <th>date</th>\n",
       "      <th>month_1</th>\n",
       "      <th>month_2</th>\n",
       "      <th>month_3</th>\n",
       "      <th>month_4</th>\n",
       "      <th>month_5</th>\n",
       "      <th>...</th>\n",
       "      <th>month_9</th>\n",
       "      <th>month_10</th>\n",
       "      <th>month_11</th>\n",
       "      <th>month_12</th>\n",
       "      <th>year_2013</th>\n",
       "      <th>year_2014</th>\n",
       "      <th>year_2015</th>\n",
       "      <th>year_2016</th>\n",
       "      <th>year_2017</th>\n",
       "      <th>year_2018</th>\n",
       "    </tr>\n",
       "  </thead>\n",
       "  <tbody>\n",
       "    <tr>\n",
       "      <td>0</td>\n",
       "      <td>1</td>\n",
       "      <td>68646</td>\n",
       "      <td>10</td>\n",
       "      <td>1381620027</td>\n",
       "      <td>2013-10-12 23:20:27</td>\n",
       "      <td>0</td>\n",
       "      <td>0</td>\n",
       "      <td>0</td>\n",
       "      <td>0</td>\n",
       "      <td>0</td>\n",
       "      <td>...</td>\n",
       "      <td>0</td>\n",
       "      <td>1</td>\n",
       "      <td>0</td>\n",
       "      <td>0</td>\n",
       "      <td>1</td>\n",
       "      <td>0</td>\n",
       "      <td>0</td>\n",
       "      <td>0</td>\n",
       "      <td>0</td>\n",
       "      <td>0</td>\n",
       "    </tr>\n",
       "  </tbody>\n",
       "</table>\n",
       "<p>1 rows × 23 columns</p>\n",
       "</div>"
      ],
      "text/plain": [
       "   user_id  movie_id  rating   timestamp                 date  month_1  \\\n",
       "0        1     68646      10  1381620027  2013-10-12 23:20:27        0   \n",
       "\n",
       "   month_2  month_3  month_4  month_5  ...  month_9  month_10  month_11  \\\n",
       "0        0        0        0        0  ...        0         1         0   \n",
       "\n",
       "   month_12  year_2013  year_2014  year_2015  year_2016  year_2017  year_2018  \n",
       "0         0          1          0          0          0          0          0  \n",
       "\n",
       "[1 rows x 23 columns]"
      ]
     },
     "metadata": {},
     "output_type": "display_data"
    }
   ],
   "source": [
    "display(movies.head(1))\n",
    "display(reviews.head(1))"
   ]
  },
  {
   "cell_type": "markdown",
   "metadata": {},
   "source": [
    "#### 1.如何查找最热门的电影\n",
    "\n",
    "对于此 notebook，我们只有一个任务。我们的任务是无论用户是谁，我们都需要根据最热门的项目提供一个推荐列表。\n",
    "\n",
    "对于此任务，我们将根据以下标准判断什么“最热门”：\n",
    "\n",
    "* 平均评分最高的电影被视为最佳电影\n",
    "* 如果评分一样，则评分数量更多的电影更好\n",
    "* 电影如果评分不足 5 条，则不能被视为最佳电影\n",
    "* 如果电影的平均评分和评分数量都一样，那么根据最近的评分判断排名\n",
    "\n",
    "根据这些标准，此 notebook 的目标是获取 **user_id** 并返回 **n_top** 推荐。以下函数将作为所有未来推荐系统的框架。"
   ]
  },
  {
   "cell_type": "code",
   "execution_count": 122,
   "metadata": {
    "ExecuteTime": {
     "end_time": "2020-01-06T00:44:21.901037Z",
     "start_time": "2020-01-06T00:44:21.874386Z"
    }
   },
   "outputs": [
    {
     "data": {
      "text/html": [
       "<div>\n",
       "<style scoped>\n",
       "    .dataframe tbody tr th:only-of-type {\n",
       "        vertical-align: middle;\n",
       "    }\n",
       "\n",
       "    .dataframe tbody tr th {\n",
       "        vertical-align: top;\n",
       "    }\n",
       "\n",
       "    .dataframe thead th {\n",
       "        text-align: right;\n",
       "    }\n",
       "</style>\n",
       "<table border=\"1\" class=\"dataframe\">\n",
       "  <thead>\n",
       "    <tr style=\"text-align: right;\">\n",
       "      <th></th>\n",
       "      <th>user_id</th>\n",
       "      <th>movie_id</th>\n",
       "      <th>rating</th>\n",
       "      <th>timestamp</th>\n",
       "      <th>date</th>\n",
       "      <th>month_1</th>\n",
       "      <th>month_2</th>\n",
       "      <th>month_3</th>\n",
       "      <th>month_4</th>\n",
       "      <th>month_5</th>\n",
       "      <th>...</th>\n",
       "      <th>month_9</th>\n",
       "      <th>month_10</th>\n",
       "      <th>month_11</th>\n",
       "      <th>month_12</th>\n",
       "      <th>year_2013</th>\n",
       "      <th>year_2014</th>\n",
       "      <th>year_2015</th>\n",
       "      <th>year_2016</th>\n",
       "      <th>year_2017</th>\n",
       "      <th>year_2018</th>\n",
       "    </tr>\n",
       "  </thead>\n",
       "  <tbody>\n",
       "    <tr>\n",
       "      <td>0</td>\n",
       "      <td>1</td>\n",
       "      <td>68646</td>\n",
       "      <td>10</td>\n",
       "      <td>1381620027</td>\n",
       "      <td>2013-10-12 23:20:27</td>\n",
       "      <td>0</td>\n",
       "      <td>0</td>\n",
       "      <td>0</td>\n",
       "      <td>0</td>\n",
       "      <td>0</td>\n",
       "      <td>...</td>\n",
       "      <td>0</td>\n",
       "      <td>1</td>\n",
       "      <td>0</td>\n",
       "      <td>0</td>\n",
       "      <td>1</td>\n",
       "      <td>0</td>\n",
       "      <td>0</td>\n",
       "      <td>0</td>\n",
       "      <td>0</td>\n",
       "      <td>0</td>\n",
       "    </tr>\n",
       "    <tr>\n",
       "      <td>1</td>\n",
       "      <td>1</td>\n",
       "      <td>113277</td>\n",
       "      <td>10</td>\n",
       "      <td>1379466669</td>\n",
       "      <td>2013-09-18 01:11:09</td>\n",
       "      <td>0</td>\n",
       "      <td>0</td>\n",
       "      <td>0</td>\n",
       "      <td>0</td>\n",
       "      <td>0</td>\n",
       "      <td>...</td>\n",
       "      <td>0</td>\n",
       "      <td>0</td>\n",
       "      <td>0</td>\n",
       "      <td>0</td>\n",
       "      <td>1</td>\n",
       "      <td>0</td>\n",
       "      <td>0</td>\n",
       "      <td>0</td>\n",
       "      <td>0</td>\n",
       "      <td>0</td>\n",
       "    </tr>\n",
       "    <tr>\n",
       "      <td>2</td>\n",
       "      <td>2</td>\n",
       "      <td>422720</td>\n",
       "      <td>8</td>\n",
       "      <td>1412178746</td>\n",
       "      <td>2014-10-01 15:52:26</td>\n",
       "      <td>0</td>\n",
       "      <td>0</td>\n",
       "      <td>0</td>\n",
       "      <td>0</td>\n",
       "      <td>0</td>\n",
       "      <td>...</td>\n",
       "      <td>0</td>\n",
       "      <td>1</td>\n",
       "      <td>0</td>\n",
       "      <td>0</td>\n",
       "      <td>0</td>\n",
       "      <td>1</td>\n",
       "      <td>0</td>\n",
       "      <td>0</td>\n",
       "      <td>0</td>\n",
       "      <td>0</td>\n",
       "    </tr>\n",
       "    <tr>\n",
       "      <td>3</td>\n",
       "      <td>2</td>\n",
       "      <td>454876</td>\n",
       "      <td>8</td>\n",
       "      <td>1394818630</td>\n",
       "      <td>2014-03-14 17:37:10</td>\n",
       "      <td>0</td>\n",
       "      <td>0</td>\n",
       "      <td>0</td>\n",
       "      <td>0</td>\n",
       "      <td>0</td>\n",
       "      <td>...</td>\n",
       "      <td>0</td>\n",
       "      <td>0</td>\n",
       "      <td>0</td>\n",
       "      <td>0</td>\n",
       "      <td>0</td>\n",
       "      <td>1</td>\n",
       "      <td>0</td>\n",
       "      <td>0</td>\n",
       "      <td>0</td>\n",
       "      <td>0</td>\n",
       "    </tr>\n",
       "    <tr>\n",
       "      <td>4</td>\n",
       "      <td>2</td>\n",
       "      <td>790636</td>\n",
       "      <td>7</td>\n",
       "      <td>1389963947</td>\n",
       "      <td>2014-01-17 13:05:47</td>\n",
       "      <td>0</td>\n",
       "      <td>0</td>\n",
       "      <td>0</td>\n",
       "      <td>0</td>\n",
       "      <td>0</td>\n",
       "      <td>...</td>\n",
       "      <td>0</td>\n",
       "      <td>0</td>\n",
       "      <td>0</td>\n",
       "      <td>0</td>\n",
       "      <td>0</td>\n",
       "      <td>1</td>\n",
       "      <td>0</td>\n",
       "      <td>0</td>\n",
       "      <td>0</td>\n",
       "      <td>0</td>\n",
       "    </tr>\n",
       "  </tbody>\n",
       "</table>\n",
       "<p>5 rows × 23 columns</p>\n",
       "</div>"
      ],
      "text/plain": [
       "   user_id  movie_id  rating   timestamp                 date  month_1  \\\n",
       "0        1     68646      10  1381620027  2013-10-12 23:20:27        0   \n",
       "1        1    113277      10  1379466669  2013-09-18 01:11:09        0   \n",
       "2        2    422720       8  1412178746  2014-10-01 15:52:26        0   \n",
       "3        2    454876       8  1394818630  2014-03-14 17:37:10        0   \n",
       "4        2    790636       7  1389963947  2014-01-17 13:05:47        0   \n",
       "\n",
       "   month_2  month_3  month_4  month_5  ...  month_9  month_10  month_11  \\\n",
       "0        0        0        0        0  ...        0         1         0   \n",
       "1        0        0        0        0  ...        0         0         0   \n",
       "2        0        0        0        0  ...        0         1         0   \n",
       "3        0        0        0        0  ...        0         0         0   \n",
       "4        0        0        0        0  ...        0         0         0   \n",
       "\n",
       "   month_12  year_2013  year_2014  year_2015  year_2016  year_2017  year_2018  \n",
       "0         0          1          0          0          0          0          0  \n",
       "1         0          1          0          0          0          0          0  \n",
       "2         0          0          1          0          0          0          0  \n",
       "3         0          0          1          0          0          0          0  \n",
       "4         0          0          1          0          0          0          0  \n",
       "\n",
       "[5 rows x 23 columns]"
      ]
     },
     "execution_count": 122,
     "metadata": {},
     "output_type": "execute_result"
    }
   ],
   "source": [
    "reviews.head()"
   ]
  },
  {
   "cell_type": "code",
   "execution_count": 124,
   "metadata": {
    "ExecuteTime": {
     "end_time": "2020-01-06T00:46:00.318208Z",
     "start_time": "2020-01-06T00:46:00.136462Z"
    }
   },
   "outputs": [
    {
     "data": {
      "text/html": [
       "<div>\n",
       "<style scoped>\n",
       "    .dataframe tbody tr th:only-of-type {\n",
       "        vertical-align: middle;\n",
       "    }\n",
       "\n",
       "    .dataframe tbody tr th {\n",
       "        vertical-align: top;\n",
       "    }\n",
       "\n",
       "    .dataframe thead th {\n",
       "        text-align: right;\n",
       "    }\n",
       "</style>\n",
       "<table border=\"1\" class=\"dataframe\">\n",
       "  <thead>\n",
       "    <tr style=\"text-align: right;\">\n",
       "      <th></th>\n",
       "      <th>user_id</th>\n",
       "      <th>movie_id</th>\n",
       "      <th>rating</th>\n",
       "      <th>timestamp</th>\n",
       "      <th>date</th>\n",
       "      <th>month_1</th>\n",
       "      <th>month_2</th>\n",
       "      <th>month_3</th>\n",
       "      <th>month_4</th>\n",
       "      <th>month_5</th>\n",
       "      <th>...</th>\n",
       "      <th>month_9</th>\n",
       "      <th>month_10</th>\n",
       "      <th>month_11</th>\n",
       "      <th>month_12</th>\n",
       "      <th>year_2013</th>\n",
       "      <th>year_2014</th>\n",
       "      <th>year_2015</th>\n",
       "      <th>year_2016</th>\n",
       "      <th>year_2017</th>\n",
       "      <th>year_2018</th>\n",
       "    </tr>\n",
       "  </thead>\n",
       "  <tbody>\n",
       "    <tr>\n",
       "      <td>129691</td>\n",
       "      <td>9970</td>\n",
       "      <td>23037</td>\n",
       "      <td>4</td>\n",
       "      <td>1431806091</td>\n",
       "      <td>2015-05-16 19:54:51</td>\n",
       "      <td>0</td>\n",
       "      <td>0</td>\n",
       "      <td>0</td>\n",
       "      <td>0</td>\n",
       "      <td>0</td>\n",
       "      <td>...</td>\n",
       "      <td>0</td>\n",
       "      <td>0</td>\n",
       "      <td>0</td>\n",
       "      <td>0</td>\n",
       "      <td>0</td>\n",
       "      <td>0</td>\n",
       "      <td>1</td>\n",
       "      <td>0</td>\n",
       "      <td>0</td>\n",
       "      <td>0</td>\n",
       "    </tr>\n",
       "    <tr>\n",
       "      <td>190551</td>\n",
       "      <td>14678</td>\n",
       "      <td>23037</td>\n",
       "      <td>8</td>\n",
       "      <td>1440606412</td>\n",
       "      <td>2015-08-26 16:26:52</td>\n",
       "      <td>0</td>\n",
       "      <td>0</td>\n",
       "      <td>0</td>\n",
       "      <td>0</td>\n",
       "      <td>0</td>\n",
       "      <td>...</td>\n",
       "      <td>0</td>\n",
       "      <td>0</td>\n",
       "      <td>0</td>\n",
       "      <td>0</td>\n",
       "      <td>0</td>\n",
       "      <td>0</td>\n",
       "      <td>1</td>\n",
       "      <td>0</td>\n",
       "      <td>0</td>\n",
       "      <td>0</td>\n",
       "    </tr>\n",
       "    <tr>\n",
       "      <td>266288</td>\n",
       "      <td>20177</td>\n",
       "      <td>23037</td>\n",
       "      <td>3</td>\n",
       "      <td>1515015066</td>\n",
       "      <td>2018-01-03 21:31:06</td>\n",
       "      <td>0</td>\n",
       "      <td>0</td>\n",
       "      <td>0</td>\n",
       "      <td>0</td>\n",
       "      <td>0</td>\n",
       "      <td>...</td>\n",
       "      <td>0</td>\n",
       "      <td>0</td>\n",
       "      <td>0</td>\n",
       "      <td>0</td>\n",
       "      <td>0</td>\n",
       "      <td>0</td>\n",
       "      <td>0</td>\n",
       "      <td>0</td>\n",
       "      <td>0</td>\n",
       "      <td>1</td>\n",
       "    </tr>\n",
       "    <tr>\n",
       "      <td>288099</td>\n",
       "      <td>21750</td>\n",
       "      <td>23037</td>\n",
       "      <td>8</td>\n",
       "      <td>1442501785</td>\n",
       "      <td>2015-09-17 14:56:25</td>\n",
       "      <td>0</td>\n",
       "      <td>0</td>\n",
       "      <td>0</td>\n",
       "      <td>0</td>\n",
       "      <td>0</td>\n",
       "      <td>...</td>\n",
       "      <td>0</td>\n",
       "      <td>0</td>\n",
       "      <td>0</td>\n",
       "      <td>0</td>\n",
       "      <td>0</td>\n",
       "      <td>0</td>\n",
       "      <td>1</td>\n",
       "      <td>0</td>\n",
       "      <td>0</td>\n",
       "      <td>0</td>\n",
       "    </tr>\n",
       "    <tr>\n",
       "      <td>319705</td>\n",
       "      <td>24253</td>\n",
       "      <td>23037</td>\n",
       "      <td>8</td>\n",
       "      <td>1408106216</td>\n",
       "      <td>2014-08-15 12:36:56</td>\n",
       "      <td>0</td>\n",
       "      <td>0</td>\n",
       "      <td>0</td>\n",
       "      <td>0</td>\n",
       "      <td>0</td>\n",
       "      <td>...</td>\n",
       "      <td>0</td>\n",
       "      <td>0</td>\n",
       "      <td>0</td>\n",
       "      <td>0</td>\n",
       "      <td>0</td>\n",
       "      <td>1</td>\n",
       "      <td>0</td>\n",
       "      <td>0</td>\n",
       "      <td>0</td>\n",
       "      <td>0</td>\n",
       "    </tr>\n",
       "  </tbody>\n",
       "</table>\n",
       "<p>5 rows × 23 columns</p>\n",
       "</div>"
      ],
      "text/plain": [
       "        user_id  movie_id  rating   timestamp                 date  month_1  \\\n",
       "129691     9970     23037       4  1431806091  2015-05-16 19:54:51        0   \n",
       "190551    14678     23037       8  1440606412  2015-08-26 16:26:52        0   \n",
       "266288    20177     23037       3  1515015066  2018-01-03 21:31:06        0   \n",
       "288099    21750     23037       8  1442501785  2015-09-17 14:56:25        0   \n",
       "319705    24253     23037       8  1408106216  2014-08-15 12:36:56        0   \n",
       "\n",
       "        month_2  month_3  month_4  month_5  ...  month_9  month_10  month_11  \\\n",
       "129691        0        0        0        0  ...        0         0         0   \n",
       "190551        0        0        0        0  ...        0         0         0   \n",
       "266288        0        0        0        0  ...        0         0         0   \n",
       "288099        0        0        0        0  ...        0         0         0   \n",
       "319705        0        0        0        0  ...        0         0         0   \n",
       "\n",
       "        month_12  year_2013  year_2014  year_2015  year_2016  year_2017  \\\n",
       "129691         0          0          0          1          0          0   \n",
       "190551         0          0          0          1          0          0   \n",
       "266288         0          0          0          0          0          0   \n",
       "288099         0          0          0          1          0          0   \n",
       "319705         0          0          1          0          0          0   \n",
       "\n",
       "        year_2018  \n",
       "129691          0  \n",
       "190551          0  \n",
       "266288          1  \n",
       "288099          0  \n",
       "319705          0  \n",
       "\n",
       "[5 rows x 23 columns]"
      ]
     },
     "execution_count": 124,
     "metadata": {},
     "output_type": "execute_result"
    }
   ],
   "source": [
    "# groupby 的测试\n",
    "testdf = reviews.groupby('movie_id')\n",
    "# https://kite.com/blog/python/pandas-groupby-count-value-count/\n",
    "# https://www.tutorialspoint.com/python_pandas/python_pandas_groupby.htm\n",
    "testdf.get_group(23037)"
   ]
  },
  {
   "cell_type": "code",
   "execution_count": 125,
   "metadata": {
    "ExecuteTime": {
     "end_time": "2020-01-06T00:46:08.441528Z",
     "start_time": "2020-01-06T00:46:08.324003Z"
    }
   },
   "outputs": [
    {
     "name": "stdout",
     "output_type": "stream",
     "text": [
      "<class 'pandas.core.frame.DataFrame'>\n",
      "RangeIndex: 712337 entries, 0 to 712336\n",
      "Data columns (total 23 columns):\n",
      "user_id      712337 non-null int64\n",
      "movie_id     712337 non-null int64\n",
      "rating       712337 non-null int64\n",
      "timestamp    712337 non-null int64\n",
      "date         712337 non-null object\n",
      "month_1      712337 non-null int64\n",
      "month_2      712337 non-null int64\n",
      "month_3      712337 non-null int64\n",
      "month_4      712337 non-null int64\n",
      "month_5      712337 non-null int64\n",
      "month_6      712337 non-null int64\n",
      "month_7      712337 non-null int64\n",
      "month_8      712337 non-null int64\n",
      "month_9      712337 non-null int64\n",
      "month_10     712337 non-null int64\n",
      "month_11     712337 non-null int64\n",
      "month_12     712337 non-null int64\n",
      "year_2013    712337 non-null int64\n",
      "year_2014    712337 non-null int64\n",
      "year_2015    712337 non-null int64\n",
      "year_2016    712337 non-null int64\n",
      "year_2017    712337 non-null int64\n",
      "year_2018    712337 non-null int64\n",
      "dtypes: int64(22), object(1)\n",
      "memory usage: 125.0+ MB\n"
     ]
    }
   ],
   "source": [
    "reviews.info()"
   ]
  },
  {
   "cell_type": "code",
   "execution_count": 126,
   "metadata": {
    "ExecuteTime": {
     "end_time": "2020-01-06T00:47:32.409736Z",
     "start_time": "2020-01-06T00:46:15.296960Z"
    }
   },
   "outputs": [
    {
     "data": {
      "text/plain": [
       "(31245, 712337)"
      ]
     },
     "execution_count": 126,
     "metadata": {},
     "output_type": "execute_result"
    }
   ],
   "source": [
    "len(testdf),len(reviews)"
   ]
  },
  {
   "cell_type": "code",
   "execution_count": 133,
   "metadata": {
    "ExecuteTime": {
     "end_time": "2020-01-06T00:50:01.174782Z",
     "start_time": "2020-01-06T00:50:01.083418Z"
    }
   },
   "outputs": [
    {
     "data": {
      "text/plain": [
       "(6.7118390700619885, 7.7941750680108814, 7.302481830931146)"
      ]
     },
     "execution_count": 133,
     "metadata": {},
     "output_type": "execute_result"
    }
   ],
   "source": [
    "# 探索\n",
    "rmean = reviews.groupby('movie_id')['rating'].mean().mean()\n",
    "rmean1 = reviews.rating.mean()\n",
    "rmax = reviews.groupby('movie_id')['rating'].max().mean()\n",
    "rmean, rmax, rmean1\n",
    "# 可以看出来用max的评分来分析的话，总评分要高很多\n",
    "# Groupby 的结果是一个对象，对于对象来做各种聚合输出，常见的是\n",
    "## count,sum,mean,median,std,var,min,max,prod,first,last\n",
    "\n",
    "## 注意rmean和rmean1是不同的，这点参见‘辛普森悖论’\n",
    "## 因为其实每个group并不是平均分配的，按照组求mean，再把各组平权出mean\n",
    "## 和直接所有值求平均是不同的"
   ]
  },
  {
   "cell_type": "code",
   "execution_count": 140,
   "metadata": {
    "ExecuteTime": {
     "end_time": "2020-01-06T01:16:18.410345Z",
     "start_time": "2020-01-06T01:16:18.337997Z"
    }
   },
   "outputs": [
    {
     "data": {
      "text/html": [
       "<div>\n",
       "<style scoped>\n",
       "    .dataframe tbody tr th:only-of-type {\n",
       "        vertical-align: middle;\n",
       "    }\n",
       "\n",
       "    .dataframe tbody tr th {\n",
       "        vertical-align: top;\n",
       "    }\n",
       "\n",
       "    .dataframe thead th {\n",
       "        text-align: right;\n",
       "    }\n",
       "</style>\n",
       "<table border=\"1\" class=\"dataframe\">\n",
       "  <thead>\n",
       "    <tr style=\"text-align: right;\">\n",
       "      <th></th>\n",
       "      <th>order</th>\n",
       "      <th>max_speed</th>\n",
       "      <th>weight</th>\n",
       "    </tr>\n",
       "    <tr>\n",
       "      <th>class</th>\n",
       "      <th></th>\n",
       "      <th></th>\n",
       "      <th></th>\n",
       "    </tr>\n",
       "  </thead>\n",
       "  <tbody>\n",
       "    <tr>\n",
       "      <td>bird</td>\n",
       "      <td>Psittaciformes</td>\n",
       "      <td>389.0</td>\n",
       "      <td>100</td>\n",
       "    </tr>\n",
       "    <tr>\n",
       "      <td>mammal</td>\n",
       "      <td>Primates</td>\n",
       "      <td>80.2</td>\n",
       "      <td>80</td>\n",
       "    </tr>\n",
       "  </tbody>\n",
       "</table>\n",
       "</div>"
      ],
      "text/plain": [
       "                 order  max_speed  weight\n",
       "class                                    \n",
       "bird    Psittaciformes      389.0     100\n",
       "mammal        Primates       80.2      80"
      ]
     },
     "metadata": {},
     "output_type": "display_data"
    },
    {
     "data": {
      "text/plain": [
       "class\n",
       "bird      100\n",
       "mammal     80\n",
       "Name: weight, dtype: int64"
      ]
     },
     "metadata": {},
     "output_type": "display_data"
    }
   ],
   "source": [
    "# explain - groupby max() \n",
    "\n",
    "# testing df\n",
    "df = pd.DataFrame([('bird', 'Falconiformes', 389.0, 100),\n",
    "                   ('bird', 'Psittaciformes', 24.0, 90),\n",
    "                   ('mammal', 'Carnivora', 80.2, 80),\n",
    "                   ('mammal', 'Primates', np.nan, 70),\n",
    "                   ('mammal', 'Carnivora', 58, 60)],\n",
    "                  index=['falcon', 'parrot', 'lion', 'monkey', 'leopard'],\n",
    "                  columns=('class', 'order', 'max_speed','weight'))\n",
    "\n",
    "# groupby max()\n",
    "grouped = df.groupby('class')\n",
    "display(grouped.max())\n",
    "display(grouped.max()['weight'])\n",
    "\n",
    "# 默认会对所有数值列做 max ，之后通过 ['column'] 可选中列"
   ]
  },
  {
   "cell_type": "code",
   "execution_count": 144,
   "metadata": {
    "ExecuteTime": {
     "end_time": "2020-01-06T01:42:39.544842Z",
     "start_time": "2020-01-06T01:42:39.502411Z"
    }
   },
   "outputs": [
    {
     "data": {
      "text/html": [
       "<div>\n",
       "<style scoped>\n",
       "    .dataframe tbody tr th:only-of-type {\n",
       "        vertical-align: middle;\n",
       "    }\n",
       "\n",
       "    .dataframe tbody tr th {\n",
       "        vertical-align: top;\n",
       "    }\n",
       "\n",
       "    .dataframe thead th {\n",
       "        text-align: right;\n",
       "    }\n",
       "</style>\n",
       "<table border=\"1\" class=\"dataframe\">\n",
       "  <thead>\n",
       "    <tr style=\"text-align: right;\">\n",
       "      <th></th>\n",
       "      <th>movie</th>\n",
       "      <th>genre</th>\n",
       "      <th>date</th>\n",
       "      <th>1800's</th>\n",
       "      <th>1900's</th>\n",
       "      <th>2000's</th>\n",
       "      <th>History</th>\n",
       "      <th>News</th>\n",
       "      <th>Horror</th>\n",
       "      <th>Musical</th>\n",
       "      <th>...</th>\n",
       "      <th>Fantasy</th>\n",
       "      <th>Romance</th>\n",
       "      <th>Game-Show</th>\n",
       "      <th>Action</th>\n",
       "      <th>Documentary</th>\n",
       "      <th>Animation</th>\n",
       "      <th>Comedy</th>\n",
       "      <th>Short</th>\n",
       "      <th>Western</th>\n",
       "      <th>Thriller</th>\n",
       "    </tr>\n",
       "    <tr>\n",
       "      <th>movie_id</th>\n",
       "      <th></th>\n",
       "      <th></th>\n",
       "      <th></th>\n",
       "      <th></th>\n",
       "      <th></th>\n",
       "      <th></th>\n",
       "      <th></th>\n",
       "      <th></th>\n",
       "      <th></th>\n",
       "      <th></th>\n",
       "      <th></th>\n",
       "      <th></th>\n",
       "      <th></th>\n",
       "      <th></th>\n",
       "      <th></th>\n",
       "      <th></th>\n",
       "      <th></th>\n",
       "      <th></th>\n",
       "      <th></th>\n",
       "      <th></th>\n",
       "      <th></th>\n",
       "    </tr>\n",
       "  </thead>\n",
       "  <tbody>\n",
       "    <tr>\n",
       "      <td>8</td>\n",
       "      <td>Edison Kinetoscopic Record of a Sneeze (1894)</td>\n",
       "      <td>Documentary|Short</td>\n",
       "      <td>1894</td>\n",
       "      <td>1</td>\n",
       "      <td>0</td>\n",
       "      <td>0</td>\n",
       "      <td>0</td>\n",
       "      <td>0</td>\n",
       "      <td>0</td>\n",
       "      <td>0</td>\n",
       "      <td>...</td>\n",
       "      <td>0</td>\n",
       "      <td>0</td>\n",
       "      <td>0</td>\n",
       "      <td>0</td>\n",
       "      <td>1</td>\n",
       "      <td>0</td>\n",
       "      <td>0</td>\n",
       "      <td>1</td>\n",
       "      <td>0</td>\n",
       "      <td>0</td>\n",
       "    </tr>\n",
       "  </tbody>\n",
       "</table>\n",
       "<p>1 rows × 34 columns</p>\n",
       "</div>"
      ],
      "text/plain": [
       "                                                  movie              genre  \\\n",
       "movie_id                                                                     \n",
       "8         Edison Kinetoscopic Record of a Sneeze (1894)  Documentary|Short   \n",
       "\n",
       "          date  1800's  1900's  2000's  History  News  Horror  Musical  ...  \\\n",
       "movie_id                                                                ...   \n",
       "8         1894       1       0       0        0     0       0        0  ...   \n",
       "\n",
       "          Fantasy  Romance  Game-Show  Action  Documentary  Animation  Comedy  \\\n",
       "movie_id                                                                        \n",
       "8               0        0          0       0            1          0       0   \n",
       "\n",
       "          Short  Western  Thriller  \n",
       "movie_id                            \n",
       "8             1        0         0  \n",
       "\n",
       "[1 rows x 34 columns]"
      ]
     },
     "execution_count": 144,
     "metadata": {},
     "output_type": "execute_result"
    }
   ],
   "source": [
    "# explain - set_index\n",
    "## 通过 set_index 将一列设为 index （表头处的位置是下沉的）\n",
    "movies.set_index('movie_id').head(1)"
   ]
  },
  {
   "cell_type": "code",
   "execution_count": 145,
   "metadata": {
    "ExecuteTime": {
     "end_time": "2020-01-06T01:47:14.592385Z",
     "start_time": "2020-01-06T01:47:14.582969Z"
    }
   },
   "outputs": [],
   "source": [
    "def create_ranked_df(movies, reviews):\n",
    "        '''\n",
    "        INPUT\n",
    "        movies - the movies dataframe\n",
    "        reviews - the reviews dataframe\n",
    "        \n",
    "        OUTPUT\n",
    "        ranked_movies - a dataframe with movies that are sorted by highest avg rating, more reviews, \n",
    "                        then time, and must have more than 4 ratings\n",
    "        '''\n",
    "        \n",
    "        # Pull the average ratings and number of ratings for each movie\n",
    "        movie_ratings = reviews.groupby('movie_id')['rating']\n",
    "        avg_ratings = movie_ratings.mean()\n",
    "        num_ratings = movie_ratings.count()\n",
    "        ## 按照 ‘movie_id' 做groupby，取 mean 和 count\n",
    "        last_rating = pd.DataFrame(reviews.groupby('movie_id').max()['date'])\n",
    "        ## 将 data max（）列作为最后评价的输出\n",
    "        ## last rating 作为一个生成的参考列（后续会看到 sorting 第一指标还是 avg_rating) \n",
    "        last_rating.columns = ['last_rating']\n",
    "\n",
    "        # Add Dates\n",
    "        rating_count_df = pd.DataFrame({'avg_rating': avg_ratings, 'num_ratings': num_ratings})\n",
    "        ## 通过pd.DataFrame将group的对象转换成dataframe\n",
    "        rating_count_df = rating_count_df.join(last_rating)\n",
    "        ## 到此，rating_count_df 包括 avg，num，last 三列\n",
    "\n",
    "        # merge with the movies dataset\n",
    "        movie_recs = movies.set_index('movie_id').join(rating_count_df)\n",
    "        ## 将三个生成列合并到movies中，因为rating_count_df 已经有了 movie_id 作为index了\n",
    "        ## 所以需要对 movies set_index 也同样生成才能匹配 join\n",
    "\n",
    "        # sort by top avg rating and number of ratings\n",
    "        ranked_movies = movie_recs.sort_values(['avg_rating', 'num_ratings', 'last_rating'], ascending=False)\n",
    "        ## 按照 avg，num，last 做sorting\n",
    "\n",
    "        # for edge cases - subset the movie list to those with only 5 or more reviews\n",
    "        ranked_movies = ranked_movies[ranked_movies['num_ratings'] > 4]\n",
    "        ## 对于 num 不到5的过滤掉\n",
    "        \n",
    "        return ranked_movies\n",
    "        ## 输出 ranked movies\n",
    "    \n",
    "\n",
    "def popular_recommendations(user_id, n_top, ranked_movies):\n",
    "    '''\n",
    "    INPUT:\n",
    "    user_id - the user_id (str) of the individual you are making recommendations for\n",
    "    n_top - an integer of the number recommendations you want back\n",
    "    ranked_movies - a pandas dataframe of the already ranked movies based on avg rating, count, and time\n",
    "\n",
    "    OUTPUT:\n",
    "    top_movies - a list of the n_top recommended movies by movie title in order best to worst\n",
    "    '''\n",
    "\n",
    "    top_movies = list(ranked_movies['movie'][:n_top])\n",
    "\n",
    "    return top_movies\n",
    "    ## 其实这里的输出和 user_id 没有关系，是按照 ranked_movies 进行的，是最简单的推荐（所有人都推荐相同，后续会继续拓展）"
   ]
  },
  {
   "cell_type": "markdown",
   "metadata": {},
   "source": [
    "有了上述三个标准后，你将能够编写上述函数。如果你对自己的答案很有信心了，可以对照我们的解答检查你的函数代码。下个页面会提供代码演示，当然，你也可以查看此 workspace 中的解答 notebook。"
   ]
  },
  {
   "cell_type": "code",
   "execution_count": 146,
   "metadata": {
    "ExecuteTime": {
     "end_time": "2020-01-06T01:48:23.894869Z",
     "start_time": "2020-01-06T01:47:15.476940Z"
    }
   },
   "outputs": [],
   "source": [
    "# Top 20 movies recommended for id 1\n",
    "ranked_movies = create_ranked_df(movies, reviews) # only run this once - it is not fast\n",
    "\n",
    "recs_20_for_1 = popular_recommendations('1', 20, ranked_movies)\n",
    "\n",
    "# Top 5 movies recommended for id 53968\n",
    "recs_5_for_53968 = popular_recommendations('53968', 5, ranked_movies)\n",
    "\n",
    "# Top 100 movies recommended for id 70000\n",
    "recs_100_for_70000 = popular_recommendations('70000', 100, ranked_movies)\n",
    "\n",
    "# Top 35 movies recommended for id 43\n",
    "recs_35_for_43 = popular_recommendations('43', 35, ranked_movies)"
   ]
  },
  {
   "cell_type": "code",
   "execution_count": 158,
   "metadata": {
    "ExecuteTime": {
     "end_time": "2020-01-06T02:01:01.013725Z",
     "start_time": "2020-01-06T02:01:01.004351Z"
    }
   },
   "outputs": [
    {
     "data": {
      "text/plain": [
       "['MSG 2 the Messenger (2015)',\n",
       " 'Avengers: Age of Ultron Parody (2015)',\n",
       " 'Sorry to Bother You (2018)']"
      ]
     },
     "execution_count": 158,
     "metadata": {},
     "output_type": "execute_result"
    }
   ],
   "source": [
    " recs_20_for_1[:3]"
   ]
  },
  {
   "cell_type": "code",
   "execution_count": 159,
   "metadata": {
    "ExecuteTime": {
     "end_time": "2020-01-06T02:01:07.435757Z",
     "start_time": "2020-01-06T02:01:07.427627Z"
    }
   },
   "outputs": [
    {
     "data": {
      "text/plain": [
       "['MSG 2 the Messenger (2015)',\n",
       " 'Avengers: Age of Ultron Parody (2015)',\n",
       " 'Sorry to Bother You (2018)']"
      ]
     },
     "execution_count": 159,
     "metadata": {},
     "output_type": "execute_result"
    }
   ],
   "source": [
    "recs_5_for_53968[:3]"
   ]
  },
  {
   "cell_type": "code",
   "execution_count": 160,
   "metadata": {
    "ExecuteTime": {
     "end_time": "2020-01-06T02:01:12.375990Z",
     "start_time": "2020-01-06T02:01:12.366992Z"
    }
   },
   "outputs": [
    {
     "data": {
      "text/plain": [
       "['MSG 2 the Messenger (2015)',\n",
       " 'Avengers: Age of Ultron Parody (2015)',\n",
       " 'Sorry to Bother You (2018)']"
      ]
     },
     "execution_count": 160,
     "metadata": {},
     "output_type": "execute_result"
    }
   ],
   "source": [
    "recs_35_for_43[:3]"
   ]
  },
  {
   "cell_type": "code",
   "execution_count": 150,
   "metadata": {
    "ExecuteTime": {
     "end_time": "2020-01-06T01:50:47.572797Z",
     "start_time": "2020-01-06T01:49:30.848106Z"
    }
   },
   "outputs": [
    {
     "name": "stdout",
     "output_type": "stream",
     "text": [
      "If you got here, looks like you are good to go!  Nice job!\n"
     ]
    }
   ],
   "source": [
    "### You Should Not Need To Modify Anything In This Cell\n",
    "ranked_movies = t.create_ranked_df(movies, reviews) # only run this once - it is not fast\n",
    "\n",
    "# check 1 \n",
    "assert t.popular_recommendations('1', 20, ranked_movies) == recs_20_for_1,  \"The first check failed...\"\n",
    "# check 2\n",
    "assert t.popular_recommendations('53968', 5, ranked_movies) == recs_5_for_53968,  \"The second check failed...\"\n",
    "# check 3\n",
    "assert t.popular_recommendations('70000', 100, ranked_movies) == recs_100_for_70000,  \"The third check failed...\"\n",
    "# check 4\n",
    "assert t.popular_recommendations('43', 35, ranked_movies) == recs_35_for_43,  \"The fourth check failed...\"\n",
    "\n",
    "print(\"If you got here, looks like you are good to go!  Nice job!\")"
   ]
  },
  {
   "cell_type": "markdown",
   "metadata": {},
   "source": [
    "**注意：**这并不是确定“最高评分”电影的唯一方式。如果是跟踪热门新闻或社会事件，则需要创建一个从当前时间开始的时间期限，然后从最近的期限内提取报道。至于什么方式最好，我们需要自己判断。\n",
    "\n",
    "如果你发现没有人关注你的最热门推荐内容了，那么就需要寻找新的推荐方式，这节课的后续部分将介绍这方面的知识。\n",
    "\n",
    "\n",
    "### 第二部分：添加过滤器\n",
    "\n",
    "创建返回 **n_top** 电影的函数后，我们来完善下此函数。添加作为电影**年份 year**和**类型 genre**过滤器的语句。  \n",
    "\n",
    "在以下单元格中调整现有函数，将**年份**和**类型**参数设为**字符串列表**。然后，从提供的年份和类型列表（作为 `or` 条件）中过滤出最终结果。如果没有提供列表，则不应用过滤器。\n",
    "\n",
    "你可以根据需要调整其他输入，从而检索你想要的最终结果。\n",
    "\n",
    "请在我们的测试函数中编写一些测试。下面这行代码会根据指定的年份和类型过滤器为用户 1 返回前 20 部热门电影。你的代码返回的结果一样吗？\n",
    "\n",
    "```\n",
    "t.popular_recs_filtered('1', 20, ranked_movies, years=['2015', '2016', '2017', '2018'], genres=['History'])\n",
    "```"
   ]
  },
  {
   "cell_type": "code",
   "execution_count": 152,
   "metadata": {
    "ExecuteTime": {
     "end_time": "2020-01-06T01:54:37.177036Z",
     "start_time": "2020-01-06T01:54:37.168208Z"
    }
   },
   "outputs": [],
   "source": [
    "def popular_recs_filtered(user_id, n_top, ranked_movies, years=None, genres=None):\n",
    "    '''\n",
    "    REDO THIS DOC STRING\n",
    "    \n",
    "    INPUT:\n",
    "    user_id - the user_id (str) of the individual you are making recommendations for\n",
    "    n_top - an integer of the number recommendations you want back\n",
    "    ranked_movies - a pandas dataframe of the already ranked movies based on avg rating, count, and time\n",
    "    years - a list of strings with years of movies\n",
    "    genres - a list of strings with genres of movies\n",
    "    \n",
    "    OUTPUT:\n",
    "    top_movies - a list of the n_top recommended movies by movie title in order best to worst\n",
    "    '''\n",
    "    # Filter movies based on year and genre\n",
    "    if years is not None:\n",
    "        ranked_movies = ranked_movies[ranked_movies['date'].isin(years)]\n",
    "        ## 如果给定年，则会推荐相关年的电影\n",
    "\n",
    "    if genres is not None:\n",
    "        num_genre_match = ranked_movies[genres].sum(axis=1)\n",
    "        ranked_movies = ranked_movies.loc[num_genre_match > 0, :]\n",
    "        ## 如果给定genres，则会推荐相关类型的电影\n",
    "            \n",
    "    # create top movies list \n",
    "    top_movies = list(ranked_movies['movie'][:n_top])\n",
    "    ## 按照n输出推荐列表\n",
    "\n",
    "    return top_movies"
   ]
  },
  {
   "cell_type": "code",
   "execution_count": 153,
   "metadata": {
    "ExecuteTime": {
     "end_time": "2020-01-06T01:54:50.761591Z",
     "start_time": "2020-01-06T01:54:50.738589Z"
    }
   },
   "outputs": [],
   "source": [
    "# Top 20 movies recommended for id 1 with years=['2015', '2016', '2017', '2018'], genres=['History']\n",
    "recs_20_for_1_filtered = popular_recs_filtered('1', 20, ranked_movies, years=['2015', '2016', '2017', '2018'], genres=['History'])\n",
    "\n",
    "# Top 5 movies recommended for id 53968 with no genre filter but years=['2015', '2016', '2017', '2018']\n",
    "recs_5_for_53968_filtered = popular_recs_filtered('53968', 5, ranked_movies, years=['2015', '2016', '2017', '2018'])\n",
    "\n",
    "# Top 100 movies recommended for id 70000 with no year filter but genres=['History', 'News']\n",
    "recs_100_for_70000_filtered = popular_recs_filtered('70000', 100, ranked_movies, genres=['History', 'News'])"
   ]
  },
  {
   "cell_type": "code",
   "execution_count": 163,
   "metadata": {
    "ExecuteTime": {
     "end_time": "2020-01-06T02:03:30.487516Z",
     "start_time": "2020-01-06T02:03:30.474090Z"
    }
   },
   "outputs": [
    {
     "data": {
      "text/plain": [
       "['Ayla: The Daughter of War (2017)',\n",
       " 'I Believe in Miracles (2015)',\n",
       " 'The Farthest (2017)']"
      ]
     },
     "metadata": {},
     "output_type": "display_data"
    },
    {
     "data": {
      "text/plain": [
       "['MSG 2 the Messenger (2015)',\n",
       " 'Avengers: Age of Ultron Parody (2015)',\n",
       " 'Sorry to Bother You (2018)']"
      ]
     },
     "metadata": {},
     "output_type": "display_data"
    },
    {
     "data": {
      "text/plain": [
       "['Birlesen Gonuller (2014)',\n",
       " 'Seppuku (1962)',\n",
       " \"La passion de Jeanne d'Arc (1928)\"]"
      ]
     },
     "metadata": {},
     "output_type": "display_data"
    }
   ],
   "source": [
    "display(recs_20_for_1_filtered[:3])\n",
    "display(recs_5_for_53968_filtered[:3])\n",
    "display(recs_100_for_70000_filtered[:3])\n",
    "## 当有了year和genre信息以后，输出就不同了;"
   ]
  },
  {
   "cell_type": "code",
   "execution_count": 11,
   "metadata": {
    "ExecuteTime": {
     "end_time": "2020-01-02T04:50:43.270997Z",
     "start_time": "2020-01-02T04:50:43.226908Z"
    }
   },
   "outputs": [
    {
     "name": "stdout",
     "output_type": "stream",
     "text": [
      "If you got here, looks like you are good to go!  Nice job!\n"
     ]
    }
   ],
   "source": [
    "### You Should Not Need To Modify Anything In This Cell\n",
    "\n",
    "# check 1 \n",
    "assert t.popular_recs_filtered('1', 20, ranked_movies, years=['2015', '2016', '2017', '2018'], genres=['History']) == recs_20_for_1_filtered,  \"The first check failed...\"\n",
    "# check 2\n",
    "assert t.popular_recs_filtered('53968', 5, ranked_movies, years=['2015', '2016', '2017', '2018']) == recs_5_for_53968_filtered,  \"The second check failed...\"\n",
    "# check 3\n",
    "assert t.popular_recs_filtered('70000', 100, ranked_movies, genres=['History', 'News']) == recs_100_for_70000_filtered,  \"The third check failed...\"\n",
    "\n",
    "print(\"If you got here, looks like you are good to go!  Nice job!\")"
   ]
  },
  {
   "cell_type": "code",
   "execution_count": null,
   "metadata": {},
   "outputs": [],
   "source": []
  }
 ],
 "metadata": {
  "kernelspec": {
   "display_name": "Python 3",
   "language": "python",
   "name": "python3"
  },
  "language_info": {
   "codemirror_mode": {
    "name": "ipython",
    "version": 3
   },
   "file_extension": ".py",
   "mimetype": "text/x-python",
   "name": "python",
   "nbconvert_exporter": "python",
   "pygments_lexer": "ipython3",
   "version": "3.6.7"
  },
  "toc": {
   "base_numbering": 1,
   "nav_menu": {},
   "number_sections": true,
   "sideBar": true,
   "skip_h1_title": false,
   "title_cell": "Table of Contents",
   "title_sidebar": "Contents",
   "toc_cell": false,
   "toc_position": {},
   "toc_section_display": true,
   "toc_window_display": false
  }
 },
 "nbformat": 4,
 "nbformat_minor": 2
}
