{
 "cells": [
  {
   "cell_type": "markdown",
   "metadata": {},
   "source": [
    "### 效果检验\n",
    "\n",
    "在上个 notebook 中，你创建了一个即使缺少大量值也能正常运行的 SVD 函数。太棒了！问题是，这个函数的实际效果如何？\n",
    "\n",
    "在此 notebook 中，我们将完全模拟真实的情况，并微调我们的推荐系统。  \n",
    "\n",
    "请运行以下单元格来读取数据并开始。"
   ]
  },
  {
   "cell_type": "code",
   "execution_count": 1,
   "metadata": {
    "ExecuteTime": {
     "end_time": "2020-01-07T08:11:17.360791Z",
     "start_time": "2020-01-07T08:11:14.033717Z"
    }
   },
   "outputs": [],
   "source": [
    "import numpy as np\n",
    "import pandas as pd\n",
    "\n",
    "# Read in the datasets\n",
    "movies = pd.read_csv('movies_clean.csv')\n",
    "reviews = pd.read_csv('reviews_clean.csv')\n",
    "\n",
    "del movies['Unnamed: 0']\n",
    "del reviews['Unnamed: 0']"
   ]
  },
  {
   "cell_type": "markdown",
   "metadata": {},
   "source": [
    "1.请对 **reviews** dataframe 执行以下任务，创建一个训练集和验证集，并使用**离线**验证技巧测试 SVD 算法的效果。\n",
    "\n",
    " * 从最早到最新对 reviews dataframe 排序 \n",
    " * 从数据集中提取前 10000 条评论\n",
    " * 将这 10000 条评论中的前 8000 条作为训练数据 \n",
    " * 将这 10000 条评论中的后 2000 条作为测试数据\n",
    " * 返回训练和测试数据集"
   ]
  },
  {
   "cell_type": "code",
   "execution_count": 2,
   "metadata": {
    "ExecuteTime": {
     "end_time": "2020-01-07T08:12:04.496438Z",
     "start_time": "2020-01-07T08:12:04.485227Z"
    }
   },
   "outputs": [],
   "source": [
    "def create_train_test(reviews, order_by, training_size, testing_size):\n",
    "    '''    \n",
    "    INPUT:\n",
    "    reviews - (pandas df) dataframe to split into train and test\n",
    "    order_by - (string) column name to sort by\n",
    "    training_size - (int) number of rows in training set\n",
    "    testing_size - (int) number of columns in the test set\n",
    "    \n",
    "    OUTPUT:\n",
    "    training_df -  (pandas df) dataframe of the training set\n",
    "    validation_df - (pandas df) dataframe of the test set\n",
    "    '''\n",
    "    reviews_new = reviews.sort_values(order_by)\n",
    "    training_df = reviews_new.head(training_size)\n",
    "    validation_df = reviews_new.iloc[training_size:training_size+testing_size]\n",
    "    \n",
    "    return training_df, validation_df"
   ]
  },
  {
   "cell_type": "code",
   "execution_count": 3,
   "metadata": {
    "ExecuteTime": {
     "end_time": "2020-01-07T08:12:13.428609Z",
     "start_time": "2020-01-07T08:12:11.680725Z"
    }
   },
   "outputs": [],
   "source": [
    "# Nothing to change in this or the next cell\n",
    "# Use our function to create training and test datasets\n",
    "train_df, val_df = create_train_test(reviews, 'date', 8000, 2000)"
   ]
  },
  {
   "cell_type": "code",
   "execution_count": 4,
   "metadata": {
    "ExecuteTime": {
     "end_time": "2020-01-07T08:12:25.953890Z",
     "start_time": "2020-01-07T08:12:25.926387Z"
    }
   },
   "outputs": [
    {
     "name": "stdout",
     "output_type": "stream",
     "text": [
      "Nice job!  Looks like you have written a function that provides training and validation dataframes for you to use in the next steps.\n"
     ]
    }
   ],
   "source": [
    "# Make sure the dataframes we are using are the right shape\n",
    "assert train_df.shape[0] == 8000, \"The number of rows doesn't look right in the training dataset.\"\n",
    "assert val_df.shape[0] == 2000, \"The number of rows doesn't look right in the validation dataset\"\n",
    "assert str(train_df.tail(1)['date']).split()[1] == '2013-03-15', \"The last date in the training dataset doesn't look like what we expected.\"\n",
    "assert str(val_df.tail(1)['date']).split()[1] == '2013-03-18', \"The last date in the validation dataset doesn't look like what we expected.\"\n",
    "print(\"Nice job!  Looks like you have written a function that provides training and validation dataframes for you to use in the next steps.\")"
   ]
  },
  {
   "cell_type": "markdown",
   "metadata": {},
   "source": [
    "在现实中，我们可能会将到最后日期的所有数据当做训练数据。然后我们将查看出现在测试数据集中的每个新评分效果如何。\n",
    "\n",
    "下面是在之前的示例中创建的一个能运行的函数示例，你可以使用该函数，或者替换成你自己的函数。\n",
    "\n",
    "`2.` 使用以下超参数将函数拟合到训练数据：15 个潜在特征，学习速率为 0.005，迭代 250 次。运行需要一段时间，如果你想加快运行速度，可以选择更少的潜在特征、更高的学习速率，或者更少的迭代次数。  \n",
    "\n",
    "**注意：**你可以散散步，休息一下，或者打个电话。不需要更改以下代码，除非你想更快地获得结果。"
   ]
  },
  {
   "cell_type": "code",
   "execution_count": 5,
   "metadata": {
    "ExecuteTime": {
     "end_time": "2020-01-07T08:13:21.000421Z",
     "start_time": "2020-01-07T08:13:20.973184Z"
    }
   },
   "outputs": [],
   "source": [
    "def FunkSVD(ratings_mat, latent_features=12, learning_rate=0.001, iters=50):\n",
    "    '''\n",
    "    This function performs matrix factorization using a basic form of FunkSVD with no regularization\n",
    "    \n",
    "    INPUT:\n",
    "    ratings_mat - (numpy array) a matrix with users as rows, movies as columns, and ratings as values\n",
    "    latent_features - (int) the number of latent features used\n",
    "    learning_rate - (float) the learning rate \n",
    "    iters - (int) the number of iterations\n",
    "    \n",
    "    OUTPUT:\n",
    "    user_mat - (numpy array) a user by latent feature matrix\n",
    "    movie_mat - (numpy array) a latent feature by movie matrix\n",
    "    '''\n",
    "    \n",
    "    # Set up useful values to be used through the rest of the function\n",
    "    n_users = ratings_mat.shape[0]\n",
    "    n_movies = ratings_mat.shape[1]\n",
    "    num_ratings = np.count_nonzero(~np.isnan(ratings_mat))\n",
    "    \n",
    "    # initialize the user and movie matrices with random values\n",
    "    user_mat = np.random.rand(n_users, latent_features)\n",
    "    movie_mat = np.random.rand(latent_features, n_movies)\n",
    "    \n",
    "    # initialize sse at 0 for first iteration\n",
    "    sse_accum = 0\n",
    "    \n",
    "    # keep track of iteration and MSE\n",
    "    print(\"Optimizaiton Statistics\")\n",
    "    print(\"Iterations | Mean Squared Error \")\n",
    "    \n",
    "    # for each iteration\n",
    "    for iteration in range(iters):\n",
    "\n",
    "        # update our sse\n",
    "        old_sse = sse_accum\n",
    "        sse_accum = 0\n",
    "        \n",
    "        # For each user-movie pair\n",
    "        for i in range(n_users):\n",
    "            for j in range(n_movies):\n",
    "                \n",
    "                # if the rating exists\n",
    "                if ratings_mat[i, j] > 0:\n",
    "                    \n",
    "                    # compute the error as the actual minus the dot product of the user and movie latent features\n",
    "                    diff = ratings_mat[i, j] - np.dot(user_mat[i, :], movie_mat[:, j])\n",
    "                    \n",
    "                    # Keep track of the sum of squared errors for the matrix\n",
    "                    sse_accum += diff**2\n",
    "                    \n",
    "                    # update the values in each matrix in the direction of the gradient\n",
    "                    for k in range(latent_features):\n",
    "                        user_mat[i, k] += learning_rate * (2*diff*movie_mat[k, j])\n",
    "                        movie_mat[k, j] += learning_rate * (2*diff*user_mat[i, k])\n",
    "\n",
    "        # print results\n",
    "        print(\"%d \\t\\t %f\" % (iteration+1, sse_accum / num_ratings))\n",
    "        \n",
    "    return user_mat, movie_mat "
   ]
  },
  {
   "cell_type": "code",
   "execution_count": 6,
   "metadata": {
    "ExecuteTime": {
     "end_time": "2020-01-07T10:12:48.731669Z",
     "start_time": "2020-01-07T08:13:23.662943Z"
    }
   },
   "outputs": [
    {
     "name": "stdout",
     "output_type": "stream",
     "text": [
      "Optimizaiton Statistics\n",
      "Iterations | Mean Squared Error \n",
      "1 \t\t 10.733528\n",
      "2 \t\t 6.007291\n",
      "3 \t\t 4.202513\n",
      "4 \t\t 3.146491\n",
      "5 \t\t 2.452975\n",
      "6 \t\t 1.964293\n",
      "7 \t\t 1.603168\n",
      "8 \t\t 1.327189\n",
      "9 \t\t 1.110957\n",
      "10 \t\t 0.938229\n",
      "11 \t\t 0.798115\n",
      "12 \t\t 0.683055\n",
      "13 \t\t 0.587637\n",
      "14 \t\t 0.507882\n",
      "15 \t\t 0.440783\n",
      "16 \t\t 0.384014\n",
      "17 \t\t 0.335745\n",
      "18 \t\t 0.294512\n",
      "19 \t\t 0.259137\n",
      "20 \t\t 0.228666\n",
      "21 \t\t 0.202319\n",
      "22 \t\t 0.179459\n",
      "23 \t\t 0.159561\n",
      "24 \t\t 0.142188\n",
      "25 \t\t 0.126979\n",
      "26 \t\t 0.113629\n",
      "27 \t\t 0.101883\n",
      "28 \t\t 0.091524\n",
      "29 \t\t 0.082367\n",
      "30 \t\t 0.074256\n",
      "31 \t\t 0.067056\n",
      "32 \t\t 0.060653\n",
      "33 \t\t 0.054946\n",
      "34 \t\t 0.049850\n",
      "35 \t\t 0.045291\n",
      "36 \t\t 0.041206\n",
      "37 \t\t 0.037539\n",
      "38 \t\t 0.034242\n",
      "39 \t\t 0.031271\n",
      "40 \t\t 0.028592\n",
      "41 \t\t 0.026171\n",
      "42 \t\t 0.023982\n",
      "43 \t\t 0.021998\n",
      "44 \t\t 0.020198\n",
      "45 \t\t 0.018563\n",
      "46 \t\t 0.017077\n",
      "47 \t\t 0.015723\n",
      "48 \t\t 0.014490\n",
      "49 \t\t 0.013364\n",
      "50 \t\t 0.012336\n",
      "51 \t\t 0.011396\n",
      "52 \t\t 0.010536\n",
      "53 \t\t 0.009749\n",
      "54 \t\t 0.009027\n",
      "55 \t\t 0.008364\n",
      "56 \t\t 0.007756\n",
      "57 \t\t 0.007196\n",
      "58 \t\t 0.006682\n",
      "59 \t\t 0.006209\n",
      "60 \t\t 0.005772\n",
      "61 \t\t 0.005370\n",
      "62 \t\t 0.004999\n",
      "63 \t\t 0.004657\n",
      "64 \t\t 0.004341\n",
      "65 \t\t 0.004048\n",
      "66 \t\t 0.003778\n",
      "67 \t\t 0.003527\n",
      "68 \t\t 0.003295\n",
      "69 \t\t 0.003080\n",
      "70 \t\t 0.002881\n",
      "71 \t\t 0.002696\n",
      "72 \t\t 0.002524\n",
      "73 \t\t 0.002364\n",
      "74 \t\t 0.002216\n",
      "75 \t\t 0.002077\n",
      "76 \t\t 0.001949\n",
      "77 \t\t 0.001829\n",
      "78 \t\t 0.001718\n",
      "79 \t\t 0.001614\n",
      "80 \t\t 0.001517\n",
      "81 \t\t 0.001426\n",
      "82 \t\t 0.001341\n",
      "83 \t\t 0.001262\n",
      "84 \t\t 0.001189\n",
      "85 \t\t 0.001120\n",
      "86 \t\t 0.001055\n",
      "87 \t\t 0.000994\n",
      "88 \t\t 0.000938\n",
      "89 \t\t 0.000885\n",
      "90 \t\t 0.000835\n",
      "91 \t\t 0.000788\n",
      "92 \t\t 0.000744\n",
      "93 \t\t 0.000703\n",
      "94 \t\t 0.000665\n",
      "95 \t\t 0.000628\n",
      "96 \t\t 0.000594\n",
      "97 \t\t 0.000562\n",
      "98 \t\t 0.000532\n",
      "99 \t\t 0.000504\n",
      "100 \t\t 0.000477\n",
      "101 \t\t 0.000452\n",
      "102 \t\t 0.000428\n",
      "103 \t\t 0.000406\n",
      "104 \t\t 0.000385\n",
      "105 \t\t 0.000365\n",
      "106 \t\t 0.000346\n",
      "107 \t\t 0.000329\n",
      "108 \t\t 0.000312\n",
      "109 \t\t 0.000296\n",
      "110 \t\t 0.000281\n",
      "111 \t\t 0.000267\n",
      "112 \t\t 0.000254\n",
      "113 \t\t 0.000241\n",
      "114 \t\t 0.000229\n",
      "115 \t\t 0.000218\n",
      "116 \t\t 0.000208\n",
      "117 \t\t 0.000197\n",
      "118 \t\t 0.000188\n",
      "119 \t\t 0.000179\n",
      "120 \t\t 0.000170\n",
      "121 \t\t 0.000162\n",
      "122 \t\t 0.000154\n",
      "123 \t\t 0.000147\n",
      "124 \t\t 0.000140\n",
      "125 \t\t 0.000134\n",
      "126 \t\t 0.000127\n",
      "127 \t\t 0.000121\n",
      "128 \t\t 0.000116\n",
      "129 \t\t 0.000111\n",
      "130 \t\t 0.000105\n",
      "131 \t\t 0.000101\n",
      "132 \t\t 0.000096\n",
      "133 \t\t 0.000092\n",
      "134 \t\t 0.000088\n",
      "135 \t\t 0.000084\n",
      "136 \t\t 0.000080\n",
      "137 \t\t 0.000076\n",
      "138 \t\t 0.000073\n",
      "139 \t\t 0.000070\n",
      "140 \t\t 0.000067\n",
      "141 \t\t 0.000064\n",
      "142 \t\t 0.000061\n",
      "143 \t\t 0.000058\n",
      "144 \t\t 0.000056\n",
      "145 \t\t 0.000053\n",
      "146 \t\t 0.000051\n",
      "147 \t\t 0.000049\n",
      "148 \t\t 0.000047\n",
      "149 \t\t 0.000045\n",
      "150 \t\t 0.000043\n",
      "151 \t\t 0.000041\n",
      "152 \t\t 0.000039\n",
      "153 \t\t 0.000038\n",
      "154 \t\t 0.000036\n",
      "155 \t\t 0.000035\n",
      "156 \t\t 0.000033\n",
      "157 \t\t 0.000032\n",
      "158 \t\t 0.000030\n",
      "159 \t\t 0.000029\n",
      "160 \t\t 0.000028\n",
      "161 \t\t 0.000027\n",
      "162 \t\t 0.000026\n",
      "163 \t\t 0.000025\n",
      "164 \t\t 0.000024\n",
      "165 \t\t 0.000023\n",
      "166 \t\t 0.000022\n",
      "167 \t\t 0.000021\n",
      "168 \t\t 0.000020\n",
      "169 \t\t 0.000019\n",
      "170 \t\t 0.000019\n",
      "171 \t\t 0.000018\n",
      "172 \t\t 0.000017\n",
      "173 \t\t 0.000016\n",
      "174 \t\t 0.000016\n",
      "175 \t\t 0.000015\n",
      "176 \t\t 0.000015\n",
      "177 \t\t 0.000014\n",
      "178 \t\t 0.000013\n",
      "179 \t\t 0.000013\n",
      "180 \t\t 0.000012\n",
      "181 \t\t 0.000012\n",
      "182 \t\t 0.000012\n",
      "183 \t\t 0.000011\n",
      "184 \t\t 0.000011\n",
      "185 \t\t 0.000010\n",
      "186 \t\t 0.000010\n",
      "187 \t\t 0.000009\n",
      "188 \t\t 0.000009\n",
      "189 \t\t 0.000009\n",
      "190 \t\t 0.000008\n",
      "191 \t\t 0.000008\n",
      "192 \t\t 0.000008\n",
      "193 \t\t 0.000008\n",
      "194 \t\t 0.000007\n",
      "195 \t\t 0.000007\n",
      "196 \t\t 0.000007\n",
      "197 \t\t 0.000006\n",
      "198 \t\t 0.000006\n",
      "199 \t\t 0.000006\n",
      "200 \t\t 0.000006\n",
      "201 \t\t 0.000006\n",
      "202 \t\t 0.000005\n",
      "203 \t\t 0.000005\n",
      "204 \t\t 0.000005\n",
      "205 \t\t 0.000005\n",
      "206 \t\t 0.000005\n",
      "207 \t\t 0.000004\n",
      "208 \t\t 0.000004\n",
      "209 \t\t 0.000004\n",
      "210 \t\t 0.000004\n",
      "211 \t\t 0.000004\n",
      "212 \t\t 0.000004\n",
      "213 \t\t 0.000004\n",
      "214 \t\t 0.000003\n",
      "215 \t\t 0.000003\n",
      "216 \t\t 0.000003\n",
      "217 \t\t 0.000003\n",
      "218 \t\t 0.000003\n",
      "219 \t\t 0.000003\n",
      "220 \t\t 0.000003\n",
      "221 \t\t 0.000003\n",
      "222 \t\t 0.000003\n",
      "223 \t\t 0.000003\n",
      "224 \t\t 0.000002\n",
      "225 \t\t 0.000002\n",
      "226 \t\t 0.000002\n",
      "227 \t\t 0.000002\n",
      "228 \t\t 0.000002\n",
      "229 \t\t 0.000002\n",
      "230 \t\t 0.000002\n",
      "231 \t\t 0.000002\n",
      "232 \t\t 0.000002\n",
      "233 \t\t 0.000002\n",
      "234 \t\t 0.000002\n",
      "235 \t\t 0.000002\n",
      "236 \t\t 0.000002\n",
      "237 \t\t 0.000002\n",
      "238 \t\t 0.000001\n",
      "239 \t\t 0.000001\n",
      "240 \t\t 0.000001\n",
      "241 \t\t 0.000001\n",
      "242 \t\t 0.000001\n",
      "243 \t\t 0.000001\n",
      "244 \t\t 0.000001\n",
      "245 \t\t 0.000001\n",
      "246 \t\t 0.000001\n",
      "247 \t\t 0.000001\n",
      "248 \t\t 0.000001\n",
      "249 \t\t 0.000001\n",
      "250 \t\t 0.000001\n"
     ]
    }
   ],
   "source": [
    "# Create user-by-item matrix - nothing to do here\n",
    "train_user_item = train_df[['user_id', 'movie_id', 'rating', 'timestamp']]\n",
    "train_data_df = train_user_item.groupby(['user_id', 'movie_id'])['rating'].max().unstack()\n",
    "train_data_np = np.array(train_data_df)\n",
    "\n",
    "# Fit FunkSVD with the specified hyper parameters to the training data\n",
    "user_mat, movie_mat = FunkSVD(train_data_np, latent_features=15, learning_rate=0.005, iters=250)"
   ]
  },
  {
   "cell_type": "markdown",
   "metadata": {},
   "source": [
    "创建 **user_mat** 和 **movie_mat** 之后，我们可以计算用户对应的行和电影对应的列之间的点积，从而预测用户对电影的评分。\n",
    "\n",
    "`3.` 请按照下面的注释完成 **predict_rating** 函数。"
   ]
  },
  {
   "cell_type": "code",
   "execution_count": 8,
   "metadata": {
    "ExecuteTime": {
     "end_time": "2020-01-07T10:13:13.925781Z",
     "start_time": "2020-01-07T10:13:13.902008Z"
    }
   },
   "outputs": [],
   "source": [
    "def predict_rating(user_matrix, movie_matrix, user_id, movie_id):\n",
    "    '''\n",
    "    INPUT:\n",
    "    user_matrix - user by latent factor matrix\n",
    "    movie_matrix - latent factor by movie matrix\n",
    "    user_id - the user_id from the reviews df\n",
    "    movie_id - the movie_id according the movies df\n",
    "    \n",
    "    OUTPUT:\n",
    "    pred - the predicted rating for user_id-movie_id according to FunkSVD\n",
    "    '''\n",
    "    # Use the training data to create a series of users and movies that matches the ordering in training data\n",
    "    user_ids_series = np.array(train_data_df.index)\n",
    "    movie_ids_series = np.array(train_data_df.columns)\n",
    "    \n",
    "    # User row and Movie Column\n",
    "    user_row = np.where(user_ids_series == user_id)[0][0]\n",
    "    movie_col = np.where(movie_ids_series == movie_id)[0][0]\n",
    "    \n",
    "    # Take dot product of that row and column in U and V to make prediction\n",
    "    pred = np.dot(user_matrix[user_row, :], movie_matrix[:, movie_col])\n",
    "    \n",
    "    return pred"
   ]
  },
  {
   "cell_type": "code",
   "execution_count": 9,
   "metadata": {
    "ExecuteTime": {
     "end_time": "2020-01-07T10:13:14.546729Z",
     "start_time": "2020-01-07T10:13:14.526475Z"
    }
   },
   "outputs": [
    {
     "data": {
      "text/plain": [
       "6.934642271979579"
      ]
     },
     "execution_count": 9,
     "metadata": {},
     "output_type": "execute_result"
    }
   ],
   "source": [
    "# Test your function with the first user-movie in the user-movie matrix (notice this is a nan)\n",
    "pred_val = predict_rating(user_mat, movie_mat, 8, 2844)\n",
    "pred_val"
   ]
  },
  {
   "cell_type": "markdown",
   "metadata": {},
   "source": [
    "现在你已经能够做出预测了。但是如果能获取关于用户、电影和评分的描述就更好了。\n",
    "\n",
    "`4.` 请按照下面的注释完成 **predict_rating**。  \n",
    "\n",
    "**注意：**返回的片名格式有点乱，我在解答中稍微调整了下代码，使格式更清晰。"
   ]
  },
  {
   "cell_type": "code",
   "execution_count": 10,
   "metadata": {
    "ExecuteTime": {
     "end_time": "2020-01-07T10:13:16.096638Z",
     "start_time": "2020-01-07T10:13:16.079623Z"
    }
   },
   "outputs": [],
   "source": [
    "def print_prediction_summary(user_id, movie_id, prediction):\n",
    "    '''\n",
    "    INPUT:\n",
    "    user_id - the user_id from the reviews df\n",
    "    movie_id - the movie_id according the movies df\n",
    "    prediction - the predicted rating for user_id-movie_id\n",
    "    '''\n",
    "    movie_name = str(movies[movies['movie_id'] == movie_id]['movie']) [5:]\n",
    "    movie_name = movie_name.replace('\\nName: movie, dtype: object', '')\n",
    "    print(\"For user {} we predict a {} rating for the movie {}.\".format(user_id, round(prediction, 2), str(movie_name)))"
   ]
  },
  {
   "cell_type": "code",
   "execution_count": 11,
   "metadata": {
    "ExecuteTime": {
     "end_time": "2020-01-07T10:13:16.802201Z",
     "start_time": "2020-01-07T10:13:16.781720Z"
    }
   },
   "outputs": [
    {
     "name": "stdout",
     "output_type": "stream",
     "text": [
      "For user 8 we predict a 6.93 rating for the movie  Fantômas - À l'ombre de la guillotine (1913).\n"
     ]
    }
   ],
   "source": [
    "# Test your function the the results of the previous function\n",
    "print_prediction_summary(8, 2844, pred_val)"
   ]
  },
  {
   "cell_type": "markdown",
   "metadata": {},
   "source": [
    "现在我们已经能够预测评分了，下面我们将检验函数对已经存在的评分的预测效果。这样就能判断我们获取潜在特征的效果，以及日后利用潜在特征做出预测的能力。\n",
    "\n",
    "`5.` 对于 **val_df** 数据集中的每个用户-电影评分，请比较实际评分与预测评分。预测效果如何？遇到任何问题吗？如果遇到了，是什么问题？请根据下面的文档字符串和注释回答这些问题。"
   ]
  },
  {
   "cell_type": "code",
   "execution_count": 12,
   "metadata": {
    "ExecuteTime": {
     "end_time": "2020-01-07T10:13:17.464343Z",
     "start_time": "2020-01-07T10:13:17.433536Z"
    }
   },
   "outputs": [
    {
     "name": "stdout",
     "output_type": "stream",
     "text": [
      "The actual rating for user 49056 on movie 1598822 is 8.\n",
      " While the predicted rating is 6.0.\n",
      "The actual rating for user 49056 on movie 289879 is 9.\n",
      " While the predicted rating is 8.0.\n",
      "The actual rating for user 49056 on movie 1563738 is 9.\n",
      " While the predicted rating is 7.0.\n",
      "The actual rating for user 49056 on movie 1458175 is 4.\n",
      " While the predicted rating is 7.0.\n",
      "The actual rating for user 28599 on movie 103639 is 8.\n",
      " While the predicted rating is 8.0.\n",
      "The actual rating for user 50593 on movie 1560985 is 4.\n",
      " While the predicted rating is 5.0.\n"
     ]
    }
   ],
   "source": [
    "def validation_comparison(val_df, num_preds):\n",
    "    '''\n",
    "    INPUT:\n",
    "    val_df - the validation dataset created in the third cell above\n",
    "    num_preds - (int) the number of rows (going in order) you would like to make predictions for\n",
    "    \n",
    "    OUTPUT:\n",
    "    Nothing returned - print a statement about the prediciton made for each row of val_df from row 0 to num_preds\n",
    "    '''\n",
    "    val_users = np.array(val_df['user_id'])\n",
    "    val_movies = np.array(val_df['movie_id'])\n",
    "    val_ratings = np.array(val_df['rating'])\n",
    "    \n",
    "    \n",
    "    for idx in range(num_preds):\n",
    "        pred = predict_rating(user_mat, movie_mat, val_users[idx], val_movies[idx])\n",
    "        print(\"The actual rating for user {} on movie {} is {}.\\n While the predicted rating is {}.\".format(val_users[idx], val_movies[idx], val_ratings[idx], round(pred))) \n",
    "\n",
    "        \n",
    "# Perform the predicted vs. actual for the first 6 rows.  How does it look?\n",
    "validation_comparison(val_df, 6)        "
   ]
  },
  {
   "cell_type": "code",
   "execution_count": 14,
   "metadata": {
    "ExecuteTime": {
     "end_time": "2020-01-07T10:14:29.877726Z",
     "start_time": "2020-01-07T10:14:29.839518Z"
    }
   },
   "outputs": [
    {
     "name": "stdout",
     "output_type": "stream",
     "text": [
      "The actual rating for user 49056 on movie 1598822 is 8.\n",
      " While the predicted rating is 6.0.\n",
      "The actual rating for user 49056 on movie 289879 is 9.\n",
      " While the predicted rating is 8.0.\n",
      "The actual rating for user 49056 on movie 1563738 is 9.\n",
      " While the predicted rating is 7.0.\n",
      "The actual rating for user 49056 on movie 1458175 is 4.\n",
      " While the predicted rating is 7.0.\n",
      "The actual rating for user 28599 on movie 103639 is 8.\n",
      " While the predicted rating is 8.0.\n",
      "The actual rating for user 50593 on movie 1560985 is 4.\n",
      " While the predicted rating is 5.0.\n"
     ]
    },
    {
     "ename": "IndexError",
     "evalue": "index 0 is out of bounds for axis 0 with size 0",
     "output_type": "error",
     "traceback": [
      "\u001b[0;31m------------------------------------------------\u001b[0m",
      "\u001b[0;31mIndexError\u001b[0m     Traceback (most recent call last)",
      "\u001b[0;32m<ipython-input-14-ceea2e3074dd>\u001b[0m in \u001b[0;36m<module>\u001b[0;34m\u001b[0m\n\u001b[1;32m      1\u001b[0m \u001b[0;31m# Perform the predicted vs. actual for the first 7 rows.  What happened?\u001b[0m\u001b[0;34m\u001b[0m\u001b[0;34m\u001b[0m\u001b[0;34m\u001b[0m\u001b[0m\n\u001b[0;32m----> 2\u001b[0;31m \u001b[0mvalidation_comparison\u001b[0m\u001b[0;34m(\u001b[0m\u001b[0mval_df\u001b[0m\u001b[0;34m,\u001b[0m \u001b[0;36m7\u001b[0m\u001b[0;34m)\u001b[0m\u001b[0;34m\u001b[0m\u001b[0;34m\u001b[0m\u001b[0m\n\u001b[0m\u001b[1;32m      3\u001b[0m \u001b[0;31m# 会报错，解释在最后\u001b[0m\u001b[0;34m\u001b[0m\u001b[0;34m\u001b[0m\u001b[0;34m\u001b[0m\u001b[0m\n",
      "\u001b[0;32m<ipython-input-12-2299dae784e0>\u001b[0m in \u001b[0;36mvalidation_comparison\u001b[0;34m(val_df, num_preds)\u001b[0m\n\u001b[1;32m     14\u001b[0m \u001b[0;34m\u001b[0m\u001b[0m\n\u001b[1;32m     15\u001b[0m     \u001b[0;32mfor\u001b[0m \u001b[0midx\u001b[0m \u001b[0;32min\u001b[0m \u001b[0mrange\u001b[0m\u001b[0;34m(\u001b[0m\u001b[0mnum_preds\u001b[0m\u001b[0;34m)\u001b[0m\u001b[0;34m:\u001b[0m\u001b[0;34m\u001b[0m\u001b[0;34m\u001b[0m\u001b[0m\n\u001b[0;32m---> 16\u001b[0;31m         \u001b[0mpred\u001b[0m \u001b[0;34m=\u001b[0m \u001b[0mpredict_rating\u001b[0m\u001b[0;34m(\u001b[0m\u001b[0muser_mat\u001b[0m\u001b[0;34m,\u001b[0m \u001b[0mmovie_mat\u001b[0m\u001b[0;34m,\u001b[0m \u001b[0mval_users\u001b[0m\u001b[0;34m[\u001b[0m\u001b[0midx\u001b[0m\u001b[0;34m]\u001b[0m\u001b[0;34m,\u001b[0m \u001b[0mval_movies\u001b[0m\u001b[0;34m[\u001b[0m\u001b[0midx\u001b[0m\u001b[0;34m]\u001b[0m\u001b[0;34m)\u001b[0m\u001b[0;34m\u001b[0m\u001b[0;34m\u001b[0m\u001b[0m\n\u001b[0m\u001b[1;32m     17\u001b[0m         \u001b[0mprint\u001b[0m\u001b[0;34m(\u001b[0m\u001b[0;34m\"The actual rating for user {} on movie {} is {}.\\n While the predicted rating is {}.\"\u001b[0m\u001b[0;34m.\u001b[0m\u001b[0mformat\u001b[0m\u001b[0;34m(\u001b[0m\u001b[0mval_users\u001b[0m\u001b[0;34m[\u001b[0m\u001b[0midx\u001b[0m\u001b[0;34m]\u001b[0m\u001b[0;34m,\u001b[0m \u001b[0mval_movies\u001b[0m\u001b[0;34m[\u001b[0m\u001b[0midx\u001b[0m\u001b[0;34m]\u001b[0m\u001b[0;34m,\u001b[0m \u001b[0mval_ratings\u001b[0m\u001b[0;34m[\u001b[0m\u001b[0midx\u001b[0m\u001b[0;34m]\u001b[0m\u001b[0;34m,\u001b[0m \u001b[0mround\u001b[0m\u001b[0;34m(\u001b[0m\u001b[0mpred\u001b[0m\u001b[0;34m)\u001b[0m\u001b[0;34m)\u001b[0m\u001b[0;34m)\u001b[0m\u001b[0;34m\u001b[0m\u001b[0;34m\u001b[0m\u001b[0m\n\u001b[1;32m     18\u001b[0m \u001b[0;34m\u001b[0m\u001b[0m\n",
      "\u001b[0;32m<ipython-input-8-6049d5c98914>\u001b[0m in \u001b[0;36mpredict_rating\u001b[0;34m(user_matrix, movie_matrix, user_id, movie_id)\u001b[0m\n\u001b[1;32m     16\u001b[0m     \u001b[0;31m# User row and Movie Column\u001b[0m\u001b[0;34m\u001b[0m\u001b[0;34m\u001b[0m\u001b[0;34m\u001b[0m\u001b[0m\n\u001b[1;32m     17\u001b[0m     \u001b[0muser_row\u001b[0m \u001b[0;34m=\u001b[0m \u001b[0mnp\u001b[0m\u001b[0;34m.\u001b[0m\u001b[0mwhere\u001b[0m\u001b[0;34m(\u001b[0m\u001b[0muser_ids_series\u001b[0m \u001b[0;34m==\u001b[0m \u001b[0muser_id\u001b[0m\u001b[0;34m)\u001b[0m\u001b[0;34m[\u001b[0m\u001b[0;36m0\u001b[0m\u001b[0;34m]\u001b[0m\u001b[0;34m[\u001b[0m\u001b[0;36m0\u001b[0m\u001b[0;34m]\u001b[0m\u001b[0;34m\u001b[0m\u001b[0;34m\u001b[0m\u001b[0m\n\u001b[0;32m---> 18\u001b[0;31m     \u001b[0mmovie_col\u001b[0m \u001b[0;34m=\u001b[0m \u001b[0mnp\u001b[0m\u001b[0;34m.\u001b[0m\u001b[0mwhere\u001b[0m\u001b[0;34m(\u001b[0m\u001b[0mmovie_ids_series\u001b[0m \u001b[0;34m==\u001b[0m \u001b[0mmovie_id\u001b[0m\u001b[0;34m)\u001b[0m\u001b[0;34m[\u001b[0m\u001b[0;36m0\u001b[0m\u001b[0;34m]\u001b[0m\u001b[0;34m[\u001b[0m\u001b[0;36m0\u001b[0m\u001b[0;34m]\u001b[0m\u001b[0;34m\u001b[0m\u001b[0;34m\u001b[0m\u001b[0m\n\u001b[0m\u001b[1;32m     19\u001b[0m \u001b[0;34m\u001b[0m\u001b[0m\n\u001b[1;32m     20\u001b[0m     \u001b[0;31m# Take dot product of that row and column in U and V to make prediction\u001b[0m\u001b[0;34m\u001b[0m\u001b[0;34m\u001b[0m\u001b[0;34m\u001b[0m\u001b[0m\n",
      "\u001b[0;31mIndexError\u001b[0m: index 0 is out of bounds for axis 0 with size 0"
     ]
    }
   ],
   "source": [
    "# Perform the predicted vs. actual for the first 7 rows.  What happened?\n",
    "validation_comparison(val_df, 7)\n",
    "# 会报错，解释在最后"
   ]
  },
  {
   "cell_type": "markdown",
   "metadata": {},
   "source": [
    "** 解释下为何会发生所发生的情况。**\n",
    "\n",
    "** The 7th movie is a movie that has no ratings.  Therefore, we are not able to make a prediction for this user-movie pair.**\n",
    "\n",
    "```python\n",
    "\n",
    "```"
   ]
  },
  {
   "cell_type": "code",
   "execution_count": null,
   "metadata": {},
   "outputs": [],
   "source": []
  }
 ],
 "metadata": {
  "kernelspec": {
   "display_name": "Python 3",
   "language": "python",
   "name": "python3"
  },
  "language_info": {
   "codemirror_mode": {
    "name": "ipython",
    "version": 3
   },
   "file_extension": ".py",
   "mimetype": "text/x-python",
   "name": "python",
   "nbconvert_exporter": "python",
   "pygments_lexer": "ipython3",
   "version": "3.6.7"
  },
  "toc": {
   "base_numbering": 1,
   "nav_menu": {},
   "number_sections": true,
   "sideBar": true,
   "skip_h1_title": false,
   "title_cell": "Table of Contents",
   "title_sidebar": "Contents",
   "toc_cell": false,
   "toc_position": {},
   "toc_section_display": true,
   "toc_window_display": false
  }
 },
 "nbformat": 4,
 "nbformat_minor": 2
}
