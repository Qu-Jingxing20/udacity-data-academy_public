{
 "cells": [
  {
   "cell_type": "markdown",
   "metadata": {},
   "source": [
    "## Project Preview\n",
    "练习：星巴克\n",
    "\n",
    "<br>\n",
    "<br>\n",
    " \n",
    "#### 背景信息\n",
    "\n",
    "此练习将提供一个数据集，星巴克原先使用该数据集作为面试题。这道练习的数据包含 120,000 个数据点，按照 2:1 的比例划分为训练文件和测试文件。数据模拟的实验测试了一项广告宣传活动，看看该宣传活动能否吸引更多客户购买定价为 10 美元的特定产品。由于公司分发每份宣传资料的成本为 0.15 美元，所以宣传资料最好仅面向最相关的人群。每个数据点都有一列表示是否向某个人发送了产品宣传资料，另一列表示此人最终是否购买了该产品。每个人还有另外 7 个相关特征，表示为 V1-V7。\n",
    "\n",
    "#### 优化策略\n",
    "\n",
    "你的任务是通过训练数据了解 V1-V7 存在什么规律表明应该向用户分发宣传资料。具体而言，你的目标是最大化以下指标：\n",
    "\n",
    "* **增量响应率 (IRR)** \n",
    "\n",
    "IRR 表示与没有收到宣传资料相比，因为推广活动而购买产品的客户增加了多少。从数学角度来说，IRR 等于推广小组的购买者人数与购买者小组客户总数的比例 (_treatment_) 减去非推广小组的购买者人数与非推广小组的客户总数的比例 (_control_)。\n",
    "\n",
    "$$ IRR = \\frac{purch_{treat}}{cust_{treat}} - \\frac{purch_{ctrl}}{cust_{ctrl}} $$\n",
    "\n",
    "\n",
    "* **净增量收入 (NIR)**\n",
    "\n",
    "NIR 表示分发宣传资料后获得（丢失）了多少收入。从数学角度来讲，NIR 等于收到宣传资料的购买者总人数的 10 倍减去分发的宣传资料份数的 0.15 倍，再减去没有收到宣传资料的购买者人数的 10 倍。\n",
    "\n",
    "$$ NIR = (10\\cdot purch_{treat} - 0.15 \\cdot cust_{treat}) - 10 \\cdot purch_{ctrl}$$\n",
    "\n",
    "要详细了解星巴克提供给应聘者的数据集，请参阅[此处的说明](https://drive.google.com/open?id=18klca9Sef1Rs6q8DW4l7o349r8B70qXM)。\n",
    "\n",
    "下面是训练数据。研究数据和不同的优化策略。\n",
    "\n",
    "#### 如何测试你的策略？\n",
    "\n",
    "如果你想到了优化策略，请完成要传递给 `test_results` 函数的 `promotion_strategy` 函数。  \n",
    "根据以往的数据，我们知道有四种可能的结果：\n",
    "\n",
    "实际推广客户与预测推广客户表格：  \n",
    "\n",
    "<table>\n",
    "<tr><th></th><th colspan = '2'>实际</th></tr>\n",
    "<tr><th>预测</th><th>是</th><th>否</th></tr>\n",
    "<tr><th>是</th><td>I</td><td>II</td></tr>\n",
    "<tr><th>否</th><td>III</td><td>IV</td></tr>\n",
    "</table>\n",
    "\n",
    "我们仅针对预测应该包含推广活动的个人比较了指标，即第一象限和第二象限。由于收到宣传资料的第一组客户（在训练集中）是随机收到的，因此第一象限和第二象限的参与者人数应该大致相同。  \n",
    "\n",
    "比较第一象限与第二象限可以知道宣传策略未来效果如何。 \n",
    "\n",
    "首先阅读以下数据。看看每个变量或变量组合与推广活动对购买率有何影响。你想到谁应该接收宣传资料的策略后，请使用在最后的 `test_results` 函数中使用的测试数据集测试你的策略。"
   ]
  },
  {
   "cell_type": "markdown",
   "metadata": {},
   "source": [
    "## Data Prepare"
   ]
  },
  {
   "cell_type": "code",
   "execution_count": 35,
   "metadata": {
    "ExecuteTime": {
     "end_time": "2019-09-11T01:35:17.677430Z",
     "start_time": "2019-09-11T01:35:17.663522Z"
    }
   },
   "outputs": [],
   "source": [
    "# load in packages\n",
    "from itertools import combinations\n",
    "\n",
    "from test_results import test_results, score\n",
    "import numpy as np\n",
    "import pandas as pd\n",
    "import scipy as sp\n",
    "import sklearn as sk\n",
    "\n",
    "# xgboost 和 sklearn中的xgboost是相同的\n",
    "#https://zhuanlan.zhihu.com/p/31182879\n",
    "import xgboost as xgb\n",
    "from imblearn.over_sampling import SMOTE\n",
    "from statsmodels.stats.power import NormalIndPower\n",
    "from statsmodels.stats.proportion import proportion_effectsize\n",
    "\n",
    "import matplotlib.pyplot as plt\n",
    "import seaborn as sb\n",
    "%matplotlib inline\n",
    "\n",
    "import wrangling3 as w;"
   ]
  },
  {
   "cell_type": "code",
   "execution_count": 2,
   "metadata": {
    "ExecuteTime": {
     "end_time": "2019-09-11T00:31:15.938254Z",
     "start_time": "2019-09-11T00:31:15.927127Z"
    }
   },
   "outputs": [
    {
     "name": "stdout",
     "output_type": "stream",
     "text": [
      "Help on module wrangling3:\n",
      "\n",
      "NAME\n",
      "    wrangling3\n",
      "\n",
      "DESCRIPTION\n",
      "    function list:\n",
      "    1 /check df/\n",
      "    -1.1 checkdf(df) - 基准df信息输出\n",
      "    -1.2 checksample(df,random=42) - 对于列信息很多或者嵌套的,详细输出一个\n",
      "    2 /check column/\n",
      "    -2.1 checknest(df,colname) - 嵌套diclike信息输出\n",
      "    -2.2 checkvalue(df,list='all') - 检查指定列的value分布\n",
      "    3 /alter data/\n",
      "    -3.1 dorpcolumn(df,collist) - 删除列\n",
      "\n",
      "FUNCTIONS\n",
      "    checkdf(df)\n",
      "        input: dataframe which to exam\n",
      "        \n",
      "        check:\n",
      "        shape, info, head, tail, null\n",
      "        for some feature are long and can not be show full length,\n",
      "        so use this function to see all in detail.\n",
      "        \n",
      "        output: str\n",
      "    \n",
      "    checkdup(df)\n",
      "        input: dataframe which to exam\n",
      "        \n",
      "        check:\n",
      "        duplicated info of the data,\n",
      "        if there are columns contain interabel, will enconter a error,\n",
      "        use try/except to warining if so.\n",
      "        \n",
      "        output: str\n",
      "    \n",
      "    checknest(df, colname)\n",
      "        input: \n",
      "        1 dataframe which to exam\n",
      "        2 column which is nested dict format\n",
      "        \n",
      "        check:\n",
      "        s specified nested feature(column) 's detail data,\n",
      "        for if a data in a column which is nested it is not easy for a long info to show.\n",
      "        ! currently only work for 1 nested dict format !\n",
      "        \n",
      "        output: str\n",
      "    \n",
      "    checksample(df, random=42)\n",
      "        input: dataframe which to exam\n",
      "        \n",
      "        check:\n",
      "        a sample of the data,\n",
      "        for some feature are long and can not be show full length,\n",
      "        so use this function to see all in detail.\n",
      "        \n",
      "        output: str\n",
      "    \n",
      "    checkvalue(df, list='all')\n",
      "        input: \n",
      "        1 dataframe which to exam value distribution\n",
      "        2 list which feature to exam, if omit will exam all list\n",
      "        \n",
      "        check:\n",
      "        checks specified feature(column) for values,\n",
      "        for category feature,\n",
      "        then we can see the featrue's value distribution.\n",
      "        show 5 largest and 10 smallest.\n",
      "        \n",
      "        output: str\n",
      "    \n",
      "    dropcolumn(df, list)\n",
      "        input: \n",
      "        1 dataframe which to exam\n",
      "        2 list which feature to exam\n",
      "        \n",
      "        check:\n",
      "        to drop a list of fearures that do not need,\n",
      "        and get some extra infor for indicating which column is droped,\n",
      "        for drop data is always sensitive, logs is needed.\n",
      "        \n",
      "        output: str\n",
      "        full information for deleting featrues.\n",
      "\n",
      "FILE\n",
      "    /Users/francis/git/udacity-private/_dsnd/p3_recommendation/files/l5/wrangling3.py\n",
      "\n",
      "\n"
     ]
    }
   ],
   "source": [
    "help(w)"
   ]
  },
  {
   "cell_type": "code",
   "execution_count": 3,
   "metadata": {
    "ExecuteTime": {
     "end_time": "2019-09-11T00:31:16.126605Z",
     "start_time": "2019-09-11T00:31:15.944020Z"
    }
   },
   "outputs": [
    {
     "name": "stdout",
     "output_type": "stream",
     "text": [
      "---snip data---\n"
     ]
    },
    {
     "data": {
      "text/html": [
       "<div>\n",
       "<style scoped>\n",
       "    .dataframe tbody tr th:only-of-type {\n",
       "        vertical-align: middle;\n",
       "    }\n",
       "\n",
       "    .dataframe tbody tr th {\n",
       "        vertical-align: top;\n",
       "    }\n",
       "\n",
       "    .dataframe thead th {\n",
       "        text-align: right;\n",
       "    }\n",
       "</style>\n",
       "<table border=\"1\" class=\"dataframe\">\n",
       "  <thead>\n",
       "    <tr style=\"text-align: right;\">\n",
       "      <th></th>\n",
       "      <th>ID</th>\n",
       "      <th>Promotion</th>\n",
       "      <th>purchase</th>\n",
       "      <th>V1</th>\n",
       "      <th>V2</th>\n",
       "      <th>V3</th>\n",
       "      <th>V4</th>\n",
       "      <th>V5</th>\n",
       "      <th>V6</th>\n",
       "      <th>V7</th>\n",
       "    </tr>\n",
       "  </thead>\n",
       "  <tbody>\n",
       "    <tr>\n",
       "      <td>0</td>\n",
       "      <td>1</td>\n",
       "      <td>No</td>\n",
       "      <td>0</td>\n",
       "      <td>2</td>\n",
       "      <td>30.443518</td>\n",
       "      <td>-1.165083</td>\n",
       "      <td>1</td>\n",
       "      <td>1</td>\n",
       "      <td>3</td>\n",
       "      <td>2</td>\n",
       "    </tr>\n",
       "    <tr>\n",
       "      <td>1</td>\n",
       "      <td>3</td>\n",
       "      <td>No</td>\n",
       "      <td>0</td>\n",
       "      <td>3</td>\n",
       "      <td>32.159350</td>\n",
       "      <td>-0.645617</td>\n",
       "      <td>2</td>\n",
       "      <td>3</td>\n",
       "      <td>2</td>\n",
       "      <td>2</td>\n",
       "    </tr>\n",
       "    <tr>\n",
       "      <td>2</td>\n",
       "      <td>4</td>\n",
       "      <td>No</td>\n",
       "      <td>0</td>\n",
       "      <td>2</td>\n",
       "      <td>30.431659</td>\n",
       "      <td>0.133583</td>\n",
       "      <td>1</td>\n",
       "      <td>1</td>\n",
       "      <td>4</td>\n",
       "      <td>2</td>\n",
       "    </tr>\n",
       "    <tr>\n",
       "      <td>3</td>\n",
       "      <td>5</td>\n",
       "      <td>No</td>\n",
       "      <td>0</td>\n",
       "      <td>0</td>\n",
       "      <td>26.588914</td>\n",
       "      <td>-0.212728</td>\n",
       "      <td>2</td>\n",
       "      <td>1</td>\n",
       "      <td>4</td>\n",
       "      <td>2</td>\n",
       "    </tr>\n",
       "    <tr>\n",
       "      <td>4</td>\n",
       "      <td>8</td>\n",
       "      <td>Yes</td>\n",
       "      <td>0</td>\n",
       "      <td>3</td>\n",
       "      <td>28.044332</td>\n",
       "      <td>-0.385883</td>\n",
       "      <td>1</td>\n",
       "      <td>1</td>\n",
       "      <td>2</td>\n",
       "      <td>2</td>\n",
       "    </tr>\n",
       "  </tbody>\n",
       "</table>\n",
       "</div>"
      ],
      "text/plain": [
       "   ID Promotion  purchase  V1         V2        V3  V4  V5  V6  V7\n",
       "0   1        No         0   2  30.443518 -1.165083   1   1   3   2\n",
       "1   3        No         0   3  32.159350 -0.645617   2   3   2   2\n",
       "2   4        No         0   2  30.431659  0.133583   1   1   4   2\n",
       "3   5        No         0   0  26.588914 -0.212728   2   1   4   2\n",
       "4   8       Yes         0   3  28.044332 -0.385883   1   1   2   2"
      ]
     },
     "metadata": {},
     "output_type": "display_data"
    },
    {
     "name": "stdout",
     "output_type": "stream",
     "text": [
      "---check null---\n"
     ]
    },
    {
     "data": {
      "text/plain": [
       "ID           0.0\n",
       "Promotion    0.0\n",
       "purchase     0.0\n",
       "V1           0.0\n",
       "V2           0.0\n",
       "V3           0.0\n",
       "V4           0.0\n",
       "V5           0.0\n",
       "V6           0.0\n",
       "V7           0.0\n",
       "dtype: float64"
      ]
     },
     "metadata": {},
     "output_type": "display_data"
    },
    {
     "name": "stdout",
     "output_type": "stream",
     "text": [
      "---check shape---\n",
      "(84534, 10)\n"
     ]
    }
   ],
   "source": [
    "# check data train\n",
    "## load data\n",
    "train = pd.read_csv('./training.csv')\n",
    "\n",
    "## snip data\n",
    "print('---snip data---')\n",
    "display(train.head())\n",
    "\n",
    "### check null (null will bring errors)\n",
    "print('---check null---')\n",
    "display(train.isnull().mean())\n",
    "\n",
    "print('---check shape---')\n",
    "print(train.shape)"
   ]
  },
  {
   "cell_type": "markdown",
   "metadata": {},
   "source": [
    "<div>\n",
    "<style>\n",
    "    .dataframe thead tr:only-child th {\n",
    "        text-align: right;\n",
    "    }"
   ]
  },
  {
   "cell_type": "code",
   "execution_count": 4,
   "metadata": {
    "ExecuteTime": {
     "end_time": "2019-09-11T00:31:16.262878Z",
     "start_time": "2019-09-11T00:31:16.130687Z"
    }
   },
   "outputs": [
    {
     "name": "stdout",
     "output_type": "stream",
     "text": [
      "---snip data---\n"
     ]
    },
    {
     "data": {
      "text/html": [
       "<div>\n",
       "<style scoped>\n",
       "    .dataframe tbody tr th:only-of-type {\n",
       "        vertical-align: middle;\n",
       "    }\n",
       "\n",
       "    .dataframe tbody tr th {\n",
       "        vertical-align: top;\n",
       "    }\n",
       "\n",
       "    .dataframe thead th {\n",
       "        text-align: right;\n",
       "    }\n",
       "</style>\n",
       "<table border=\"1\" class=\"dataframe\">\n",
       "  <thead>\n",
       "    <tr style=\"text-align: right;\">\n",
       "      <th></th>\n",
       "      <th>ID</th>\n",
       "      <th>Promotion</th>\n",
       "      <th>purchase</th>\n",
       "      <th>V1</th>\n",
       "      <th>V2</th>\n",
       "      <th>V3</th>\n",
       "      <th>V4</th>\n",
       "      <th>V5</th>\n",
       "      <th>V6</th>\n",
       "      <th>V7</th>\n",
       "    </tr>\n",
       "  </thead>\n",
       "  <tbody>\n",
       "    <tr>\n",
       "      <td>0</td>\n",
       "      <td>2</td>\n",
       "      <td>No</td>\n",
       "      <td>0</td>\n",
       "      <td>1</td>\n",
       "      <td>41.376390</td>\n",
       "      <td>1.172517</td>\n",
       "      <td>1</td>\n",
       "      <td>1</td>\n",
       "      <td>2</td>\n",
       "      <td>2</td>\n",
       "    </tr>\n",
       "    <tr>\n",
       "      <td>1</td>\n",
       "      <td>6</td>\n",
       "      <td>Yes</td>\n",
       "      <td>0</td>\n",
       "      <td>1</td>\n",
       "      <td>25.163598</td>\n",
       "      <td>0.653050</td>\n",
       "      <td>2</td>\n",
       "      <td>2</td>\n",
       "      <td>2</td>\n",
       "      <td>2</td>\n",
       "    </tr>\n",
       "    <tr>\n",
       "      <td>2</td>\n",
       "      <td>7</td>\n",
       "      <td>Yes</td>\n",
       "      <td>0</td>\n",
       "      <td>1</td>\n",
       "      <td>26.553778</td>\n",
       "      <td>-1.597972</td>\n",
       "      <td>2</td>\n",
       "      <td>3</td>\n",
       "      <td>4</td>\n",
       "      <td>2</td>\n",
       "    </tr>\n",
       "    <tr>\n",
       "      <td>3</td>\n",
       "      <td>10</td>\n",
       "      <td>No</td>\n",
       "      <td>0</td>\n",
       "      <td>2</td>\n",
       "      <td>28.529691</td>\n",
       "      <td>-1.078506</td>\n",
       "      <td>2</td>\n",
       "      <td>3</td>\n",
       "      <td>2</td>\n",
       "      <td>2</td>\n",
       "    </tr>\n",
       "    <tr>\n",
       "      <td>4</td>\n",
       "      <td>12</td>\n",
       "      <td>No</td>\n",
       "      <td>0</td>\n",
       "      <td>2</td>\n",
       "      <td>32.378538</td>\n",
       "      <td>0.479895</td>\n",
       "      <td>2</td>\n",
       "      <td>2</td>\n",
       "      <td>1</td>\n",
       "      <td>2</td>\n",
       "    </tr>\n",
       "  </tbody>\n",
       "</table>\n",
       "</div>"
      ],
      "text/plain": [
       "   ID Promotion  purchase  V1         V2        V3  V4  V5  V6  V7\n",
       "0   2        No         0   1  41.376390  1.172517   1   1   2   2\n",
       "1   6       Yes         0   1  25.163598  0.653050   2   2   2   2\n",
       "2   7       Yes         0   1  26.553778 -1.597972   2   3   4   2\n",
       "3  10        No         0   2  28.529691 -1.078506   2   3   2   2\n",
       "4  12        No         0   2  32.378538  0.479895   2   2   1   2"
      ]
     },
     "metadata": {},
     "output_type": "display_data"
    },
    {
     "name": "stdout",
     "output_type": "stream",
     "text": [
      "---check null---\n"
     ]
    },
    {
     "data": {
      "text/plain": [
       "ID           0.0\n",
       "Promotion    0.0\n",
       "purchase     0.0\n",
       "V1           0.0\n",
       "V2           0.0\n",
       "V3           0.0\n",
       "V4           0.0\n",
       "V5           0.0\n",
       "V6           0.0\n",
       "V7           0.0\n",
       "dtype: float64"
      ]
     },
     "metadata": {},
     "output_type": "display_data"
    },
    {
     "name": "stdout",
     "output_type": "stream",
     "text": [
      "---check shape---\n",
      "(41650, 10)\n"
     ]
    },
    {
     "data": {
      "text/html": [
       "<div>\n",
       "<style scoped>\n",
       "    .dataframe tbody tr th:only-of-type {\n",
       "        vertical-align: middle;\n",
       "    }\n",
       "\n",
       "    .dataframe tbody tr th {\n",
       "        vertical-align: top;\n",
       "    }\n",
       "\n",
       "    .dataframe thead th {\n",
       "        text-align: right;\n",
       "    }\n",
       "</style>\n",
       "<table border=\"1\" class=\"dataframe\">\n",
       "  <thead>\n",
       "    <tr style=\"text-align: right;\">\n",
       "      <th></th>\n",
       "      <th>ID</th>\n",
       "      <th>Promotion</th>\n",
       "      <th>purchase</th>\n",
       "      <th>V1</th>\n",
       "      <th>V2</th>\n",
       "      <th>V3</th>\n",
       "      <th>V4</th>\n",
       "      <th>V5</th>\n",
       "      <th>V6</th>\n",
       "      <th>V7</th>\n",
       "    </tr>\n",
       "  </thead>\n",
       "  <tbody>\n",
       "    <tr>\n",
       "      <td>0</td>\n",
       "      <td>2</td>\n",
       "      <td>No</td>\n",
       "      <td>0</td>\n",
       "      <td>1</td>\n",
       "      <td>41.376390</td>\n",
       "      <td>1.172517</td>\n",
       "      <td>1</td>\n",
       "      <td>1</td>\n",
       "      <td>2</td>\n",
       "      <td>2</td>\n",
       "    </tr>\n",
       "    <tr>\n",
       "      <td>1</td>\n",
       "      <td>6</td>\n",
       "      <td>Yes</td>\n",
       "      <td>0</td>\n",
       "      <td>1</td>\n",
       "      <td>25.163598</td>\n",
       "      <td>0.653050</td>\n",
       "      <td>2</td>\n",
       "      <td>2</td>\n",
       "      <td>2</td>\n",
       "      <td>2</td>\n",
       "    </tr>\n",
       "    <tr>\n",
       "      <td>2</td>\n",
       "      <td>7</td>\n",
       "      <td>Yes</td>\n",
       "      <td>0</td>\n",
       "      <td>1</td>\n",
       "      <td>26.553778</td>\n",
       "      <td>-1.597972</td>\n",
       "      <td>2</td>\n",
       "      <td>3</td>\n",
       "      <td>4</td>\n",
       "      <td>2</td>\n",
       "    </tr>\n",
       "    <tr>\n",
       "      <td>3</td>\n",
       "      <td>10</td>\n",
       "      <td>No</td>\n",
       "      <td>0</td>\n",
       "      <td>2</td>\n",
       "      <td>28.529691</td>\n",
       "      <td>-1.078506</td>\n",
       "      <td>2</td>\n",
       "      <td>3</td>\n",
       "      <td>2</td>\n",
       "      <td>2</td>\n",
       "    </tr>\n",
       "    <tr>\n",
       "      <td>4</td>\n",
       "      <td>12</td>\n",
       "      <td>No</td>\n",
       "      <td>0</td>\n",
       "      <td>2</td>\n",
       "      <td>32.378538</td>\n",
       "      <td>0.479895</td>\n",
       "      <td>2</td>\n",
       "      <td>2</td>\n",
       "      <td>1</td>\n",
       "      <td>2</td>\n",
       "    </tr>\n",
       "  </tbody>\n",
       "</table>\n",
       "</div>"
      ],
      "text/plain": [
       "   ID Promotion  purchase  V1         V2        V3  V4  V5  V6  V7\n",
       "0   2        No         0   1  41.376390  1.172517   1   1   2   2\n",
       "1   6       Yes         0   1  25.163598  0.653050   2   2   2   2\n",
       "2   7       Yes         0   1  26.553778 -1.597972   2   3   4   2\n",
       "3  10        No         0   2  28.529691 -1.078506   2   3   2   2\n",
       "4  12        No         0   2  32.378538  0.479895   2   2   1   2"
      ]
     },
     "execution_count": 4,
     "metadata": {},
     "output_type": "execute_result"
    }
   ],
   "source": [
    "# check data test\n",
    "## load data\n",
    "test = pd.read_csv('./Test.csv')\n",
    "\n",
    "## snip data\n",
    "print('---snip data---')\n",
    "display(test.head())\n",
    "\n",
    "### check null (null will bring errors)\n",
    "print('---check null---')\n",
    "display(test.isnull().mean())\n",
    "\n",
    "print('---check shape---')\n",
    "print(test.shape)\n",
    "\n",
    "test_data = pd.read_csv('./Test.csv')\n",
    "test_data.head()"
   ]
  },
  {
   "cell_type": "code",
   "execution_count": 5,
   "metadata": {
    "ExecuteTime": {
     "end_time": "2019-09-11T00:31:16.365767Z",
     "start_time": "2019-09-11T00:31:16.266160Z"
    }
   },
   "outputs": [
    {
     "name": "stdout",
     "output_type": "stream",
     "text": [
      "\n",
      "-check column value: ---Promotion----\n",
      "largest:\n",
      " Yes    42364\n",
      "No     42170\n",
      "Name: Promotion, dtype: int64\n",
      "smallest\n",
      ": No     42170\n",
      "Yes    42364\n",
      "Name: Promotion, dtype: int64\n",
      "\n",
      "-check column value: ----purchase----\n",
      "largest:\n",
      " 0    83494\n",
      "1     1040\n",
      "Name: purchase, dtype: int64\n",
      "smallest\n",
      ": 1     1040\n",
      "0    83494\n",
      "Name: purchase, dtype: int64\n",
      "\n",
      "-check column value: -------V4-------\n",
      "largest:\n",
      " 2    57450\n",
      "1    27084\n",
      "Name: V4, dtype: int64\n",
      "smallest\n",
      ": 1    27084\n",
      "2    57450\n",
      "Name: V4, dtype: int64\n",
      "\n",
      "-check column value: -------V5-------\n",
      "largest:\n",
      " 3    32743\n",
      "2    31196\n",
      "1    15412\n",
      "4     5183\n",
      "Name: V5, dtype: int64\n",
      "smallest\n",
      ": 4     5183\n",
      "1    15412\n",
      "2    31196\n",
      "3    32743\n",
      "Name: V5, dtype: int64\n",
      "\n",
      "-check column value: -------V6-------\n",
      "largest:\n",
      " 3    21186\n",
      "4    21176\n",
      "2    21146\n",
      "1    21026\n",
      "Name: V6, dtype: int64\n",
      "smallest\n",
      ": 1    21026\n",
      "2    21146\n",
      "4    21176\n",
      "3    21186\n",
      "Name: V6, dtype: int64\n",
      "\n",
      "-check column value: -------V7-------\n",
      "largest:\n",
      " 2    59317\n",
      "1    25217\n",
      "Name: V7, dtype: int64\n",
      "smallest\n",
      ": 1    25217\n",
      "2    59317\n",
      "Name: V7, dtype: int64\n",
      "---checking complete---\n"
     ]
    }
   ],
   "source": [
    "# check values\n",
    "## Promotion give us the experiment distribution information\n",
    "checklist = ['Promotion','purchase','V4','V5','V6','V7']\n",
    "featurelist = ['V1','V2','V3','V4','V5','V6','V7']\n",
    "w.checkvalue(train,checklist)"
   ]
  },
  {
   "cell_type": "code",
   "execution_count": 6,
   "metadata": {
    "ExecuteTime": {
     "end_time": "2019-09-11T00:31:17.834760Z",
     "start_time": "2019-09-11T00:31:16.368939Z"
    }
   },
   "outputs": [
    {
     "data": {
      "image/png": "[encoded data removed]",
      "text/plain": [
       "<Figure size 864x864 with 9 Axes>"
      ]
     },
     "metadata": {
      "needs_background": "light"
     },
     "output_type": "display_data"
    }
   ],
   "source": [
    "# check distribution treatment\n",
    "train.query('Promotion == \"Yes\" and purchase == 1') \\\n",
    "[featurelist].hist(figsize=(12,12));"
   ]
  },
  {
   "cell_type": "code",
   "execution_count": 7,
   "metadata": {
    "ExecuteTime": {
     "end_time": "2019-09-11T00:31:19.172648Z",
     "start_time": "2019-09-11T00:31:17.837527Z"
    }
   },
   "outputs": [
    {
     "data": {
      "image/png": "[encoded data removed]",
      "text/plain": [
       "<Figure size 864x864 with 9 Axes>"
      ]
     },
     "metadata": {
      "needs_background": "light"
     },
     "output_type": "display_data"
    }
   ],
   "source": [
    "# check distribution control\n",
    "train.query('Promotion == \"No\" and purchase == 1') \\\n",
    "[featurelist].hist(figsize=(12,12));"
   ]
  },
  {
   "cell_type": "markdown",
   "metadata": {},
   "source": [
    "## Promotion Functions\n",
    "from [/Link/](https://github.com/joshxinjie/Data_Scientist_Nanodegree/blob/master/starbucks_portfolio_exercise/Starbucks.ipynb)"
   ]
  },
  {
   "cell_type": "markdown",
   "metadata": {},
   "source": [
    "### Model1\n",
    "Predict only for indivduals who received promotions and purchased\n",
    "\n",
    "In this approach, we will assign labels of 1 to those who received the promotions and made purchases, and labels of 0 to everyone else. In other words, we want the model to find the individuals who are likely to purchase only after they received a promotion. \n",
    "\n",
    "This is a simple model that surprisingly performed relatively well for this dataset, generating an incremental response rate (IRR) of 2.19% and a net incrmental revenue (NLR) of $332.70. \n",
    "\n",
    "This actually outperformed the Starbuck's model for this dataset, which was an irr of 1.88% and an nlr of $189.45. \n",
    "\n",
    "However, since the IRR and NLR on the validation set is lower at 1.93% and $94.70,the model's relatively good performance on the test set may be due to random chance. Overall, it still performed superbly for such a simple model."
   ]
  },
  {
   "cell_type": "code",
   "execution_count": 8,
   "metadata": {
    "ExecuteTime": {
     "end_time": "2019-09-11T00:33:52.998660Z",
     "start_time": "2019-09-11T00:33:52.968715Z"
    }
   },
   "outputs": [
    {
     "data": {
      "text/html": [
       "<div>\n",
       "<style scoped>\n",
       "    .dataframe tbody tr th:only-of-type {\n",
       "        vertical-align: middle;\n",
       "    }\n",
       "\n",
       "    .dataframe tbody tr th {\n",
       "        vertical-align: top;\n",
       "    }\n",
       "\n",
       "    .dataframe thead th {\n",
       "        text-align: right;\n",
       "    }\n",
       "</style>\n",
       "<table border=\"1\" class=\"dataframe\">\n",
       "  <thead>\n",
       "    <tr style=\"text-align: right;\">\n",
       "      <th></th>\n",
       "      <th>ID</th>\n",
       "      <th>Promotion</th>\n",
       "      <th>purchase</th>\n",
       "      <th>V1</th>\n",
       "      <th>V2</th>\n",
       "      <th>V3</th>\n",
       "      <th>V4</th>\n",
       "      <th>V5</th>\n",
       "      <th>V6</th>\n",
       "      <th>V7</th>\n",
       "    </tr>\n",
       "  </thead>\n",
       "  <tbody>\n",
       "    <tr>\n",
       "      <td>0</td>\n",
       "      <td>1</td>\n",
       "      <td>No</td>\n",
       "      <td>0</td>\n",
       "      <td>2</td>\n",
       "      <td>30.443518</td>\n",
       "      <td>-1.165083</td>\n",
       "      <td>1</td>\n",
       "      <td>1</td>\n",
       "      <td>3</td>\n",
       "      <td>2</td>\n",
       "    </tr>\n",
       "  </tbody>\n",
       "</table>\n",
       "</div>"
      ],
      "text/plain": [
       "   ID Promotion  purchase  V1         V2        V3  V4  V5  V6  V7\n",
       "0   1        No         0   2  30.443518 -1.165083   1   1   3   2"
      ]
     },
     "metadata": {},
     "output_type": "display_data"
    },
    {
     "data": {
      "text/html": [
       "<div>\n",
       "<style scoped>\n",
       "    .dataframe tbody tr th:only-of-type {\n",
       "        vertical-align: middle;\n",
       "    }\n",
       "\n",
       "    .dataframe tbody tr th {\n",
       "        vertical-align: top;\n",
       "    }\n",
       "\n",
       "    .dataframe thead th {\n",
       "        text-align: right;\n",
       "    }\n",
       "</style>\n",
       "<table border=\"1\" class=\"dataframe\">\n",
       "  <thead>\n",
       "    <tr style=\"text-align: right;\">\n",
       "      <th></th>\n",
       "      <th>ID</th>\n",
       "      <th>Promotion</th>\n",
       "      <th>purchase</th>\n",
       "      <th>V1</th>\n",
       "      <th>V2</th>\n",
       "      <th>V3</th>\n",
       "      <th>V4</th>\n",
       "      <th>V5</th>\n",
       "      <th>V6</th>\n",
       "      <th>V7</th>\n",
       "    </tr>\n",
       "  </thead>\n",
       "  <tbody>\n",
       "    <tr>\n",
       "      <td>0</td>\n",
       "      <td>2</td>\n",
       "      <td>No</td>\n",
       "      <td>0</td>\n",
       "      <td>1</td>\n",
       "      <td>41.37639</td>\n",
       "      <td>1.172517</td>\n",
       "      <td>1</td>\n",
       "      <td>1</td>\n",
       "      <td>2</td>\n",
       "      <td>2</td>\n",
       "    </tr>\n",
       "  </tbody>\n",
       "</table>\n",
       "</div>"
      ],
      "text/plain": [
       "   ID Promotion  purchase  V1        V2        V3  V4  V5  V6  V7\n",
       "0   2        No         0   1  41.37639  1.172517   1   1   2   2"
      ]
     },
     "metadata": {},
     "output_type": "display_data"
    }
   ],
   "source": [
    "display(train.head(1))\n",
    "display(test.head(1))"
   ]
  },
  {
   "cell_type": "code",
   "execution_count": 12,
   "metadata": {
    "ExecuteTime": {
     "end_time": "2019-09-11T00:58:56.267763Z",
     "start_time": "2019-09-11T00:58:45.931303Z"
    }
   },
   "outputs": [],
   "source": [
    "# generate labels\n",
    "# only those who made a purchase after receiving a promotion will be assigned a label of 1, \n",
    "# while the other individuals will be given a label of 0\n",
    "\n",
    "response = []\n",
    "\n",
    "for index, row in train.iterrows():\n",
    "    if (row['purchase'] == 1) and (row['Promotion']=='Yes'):\n",
    "        response.append(1)\n",
    "    else:\n",
    "        response.append(0)\n",
    "        \n",
    "train['response'] = response"
   ]
  },
  {
   "cell_type": "code",
   "execution_count": 14,
   "metadata": {
    "ExecuteTime": {
     "end_time": "2019-09-11T00:59:04.409295Z",
     "start_time": "2019-09-11T00:59:04.382310Z"
    }
   },
   "outputs": [],
   "source": [
    "# split data into train and valid\n",
    "train, valid = sk.model_selection.train_test_split(train, test_size=0.2,random_state=42)"
   ]
  },
  {
   "cell_type": "code",
   "execution_count": 17,
   "metadata": {
    "ExecuteTime": {
     "end_time": "2019-09-11T01:01:36.117752Z",
     "start_time": "2019-09-11T01:01:36.105028Z"
    }
   },
   "outputs": [],
   "source": [
    "# generate features and labels\n",
    "Y_train = train['response']\n",
    "X_train = train[featurelist]\n",
    "\n",
    "Y_valid = valid['response']\n",
    "X_valid = valid[featurelist]"
   ]
  },
  {
   "cell_type": "code",
   "execution_count": 18,
   "metadata": {
    "ExecuteTime": {
     "end_time": "2019-09-11T01:02:20.240975Z",
     "start_time": "2019-09-11T01:02:20.229782Z"
    }
   },
   "outputs": [
    {
     "data": {
      "text/plain": [
       "0    53621\n",
       "1      480\n",
       "Name: response, dtype: int64"
      ]
     },
     "execution_count": 18,
     "metadata": {},
     "output_type": "execute_result"
    }
   ],
   "source": [
    "Y_train.value_counts()"
   ]
  },
  {
   "cell_type": "code",
   "execution_count": 23,
   "metadata": {
    "ExecuteTime": {
     "end_time": "2019-09-11T01:05:27.496214Z",
     "start_time": "2019-09-11T01:05:27.133322Z"
    }
   },
   "outputs": [],
   "source": [
    "# up sample only the train dataset with SMOTE\n",
    "sm = SMOTE(random_state=42, ratio = 1.0)\n",
    "X_train_upsamp, Y_train_upsamp = sm.fit_sample(X_train, Y_train)\n",
    "X_train_upsamp = pd.DataFrame(X_train_upsamp, columns=featurelist)\n",
    "Y_train_upsamp = pd.Series(Y_train_upsamp)\n",
    "# SMOTE 是对较少抽样样本的模拟增加\n",
    "# https://blog.csdn.net/march_on/article/details/48650237"
   ]
  },
  {
   "cell_type": "code",
   "execution_count": 25,
   "metadata": {
    "ExecuteTime": {
     "end_time": "2019-09-11T01:25:44.239215Z",
     "start_time": "2019-09-11T01:25:44.230863Z"
    }
   },
   "outputs": [
    {
     "data": {
      "text/plain": [
       "(54101, 107242, 54101, 107242)"
      ]
     },
     "execution_count": 25,
     "metadata": {},
     "output_type": "execute_result"
    }
   ],
   "source": [
    "len(X_train), len(X_train_upsamp), len(Y_train), len(Y_train_upsamp), "
   ]
  },
  {
   "cell_type": "code",
   "execution_count": 26,
   "metadata": {
    "ExecuteTime": {
     "end_time": "2019-09-11T01:26:51.203075Z",
     "start_time": "2019-09-11T01:26:44.383896Z"
    }
   },
   "outputs": [
    {
     "name": "stdout",
     "output_type": "stream",
     "text": [
      "[0]\tvalidation_0-auc:0.90554\tvalidation_1-auc:0.668509\n",
      "Multiple eval metrics have been passed: 'validation_1-auc' will be used for early stopping.\n",
      "\n",
      "Will train until validation_1-auc hasn't improved in 30 rounds.\n",
      "[1]\tvalidation_0-auc:0.916856\tvalidation_1-auc:0.682458\n",
      "[2]\tvalidation_0-auc:0.915486\tvalidation_1-auc:0.683165\n",
      "[3]\tvalidation_0-auc:0.916487\tvalidation_1-auc:0.682907\n",
      "[4]\tvalidation_0-auc:0.913747\tvalidation_1-auc:0.68711\n",
      "[5]\tvalidation_0-auc:0.936165\tvalidation_1-auc:0.687789\n",
      "[6]\tvalidation_0-auc:0.945673\tvalidation_1-auc:0.683324\n",
      "[7]\tvalidation_0-auc:0.946531\tvalidation_1-auc:0.688141\n",
      "[8]\tvalidation_0-auc:0.95512\tvalidation_1-auc:0.686638\n",
      "[9]\tvalidation_0-auc:0.95772\tvalidation_1-auc:0.689637\n",
      "[10]\tvalidation_0-auc:0.961401\tvalidation_1-auc:0.686911\n",
      "[11]\tvalidation_0-auc:0.962014\tvalidation_1-auc:0.686832\n",
      "[12]\tvalidation_0-auc:0.964243\tvalidation_1-auc:0.683084\n",
      "[13]\tvalidation_0-auc:0.968168\tvalidation_1-auc:0.681954\n",
      "[14]\tvalidation_0-auc:0.970283\tvalidation_1-auc:0.681871\n",
      "[15]\tvalidation_0-auc:0.970453\tvalidation_1-auc:0.682141\n",
      "[16]\tvalidation_0-auc:0.972873\tvalidation_1-auc:0.677047\n",
      "[17]\tvalidation_0-auc:0.974245\tvalidation_1-auc:0.67344\n",
      "[18]\tvalidation_0-auc:0.974983\tvalidation_1-auc:0.67318\n",
      "[19]\tvalidation_0-auc:0.975845\tvalidation_1-auc:0.671473\n",
      "[20]\tvalidation_0-auc:0.976193\tvalidation_1-auc:0.6686\n",
      "[21]\tvalidation_0-auc:0.976545\tvalidation_1-auc:0.667924\n",
      "[22]\tvalidation_0-auc:0.977566\tvalidation_1-auc:0.667586\n",
      "[23]\tvalidation_0-auc:0.978843\tvalidation_1-auc:0.667478\n",
      "[24]\tvalidation_0-auc:0.979488\tvalidation_1-auc:0.664291\n",
      "[25]\tvalidation_0-auc:0.980205\tvalidation_1-auc:0.664513\n",
      "[26]\tvalidation_0-auc:0.980551\tvalidation_1-auc:0.664655\n",
      "[27]\tvalidation_0-auc:0.981612\tvalidation_1-auc:0.663884\n",
      "[28]\tvalidation_0-auc:0.982772\tvalidation_1-auc:0.666557\n",
      "[29]\tvalidation_0-auc:0.983747\tvalidation_1-auc:0.664847\n",
      "[30]\tvalidation_0-auc:0.984479\tvalidation_1-auc:0.664855\n",
      "[31]\tvalidation_0-auc:0.985454\tvalidation_1-auc:0.664674\n",
      "[32]\tvalidation_0-auc:0.986041\tvalidation_1-auc:0.662332\n",
      "[33]\tvalidation_0-auc:0.986039\tvalidation_1-auc:0.661495\n",
      "[34]\tvalidation_0-auc:0.987922\tvalidation_1-auc:0.664658\n",
      "[35]\tvalidation_0-auc:0.988301\tvalidation_1-auc:0.664211\n",
      "[36]\tvalidation_0-auc:0.988788\tvalidation_1-auc:0.663753\n",
      "[37]\tvalidation_0-auc:0.989982\tvalidation_1-auc:0.664122\n",
      "[38]\tvalidation_0-auc:0.990395\tvalidation_1-auc:0.666112\n",
      "[39]\tvalidation_0-auc:0.990587\tvalidation_1-auc:0.664958\n",
      "Stopping. Best iteration:\n",
      "[9]\tvalidation_0-auc:0.95772\tvalidation_1-auc:0.689637\n",
      "\n"
     ]
    },
    {
     "data": {
      "text/plain": [
       "XGBClassifier(base_score=0.5, booster='gbtree', colsample_bylevel=1,\n",
       "              colsample_bynode=1, colsample_bytree=1, gamma=0.1,\n",
       "              learning_rate=0.1, max_delta_step=0, max_depth=7,\n",
       "              min_child_weight=5, missing=None, n_estimators=100, n_jobs=1,\n",
       "              nthread=None, objective='binary:logistic', random_state=0,\n",
       "              reg_alpha=0, reg_lambda=1, scale_pos_weight=1, seed=42,\n",
       "              silent=True, subsample=1, verbosity=1)"
      ]
     },
     "execution_count": 26,
     "metadata": {},
     "output_type": "execute_result"
    }
   ],
   "source": [
    "# Train an xgboost model\n",
    "eval_set = [(X_train_upsamp, Y_train_upsamp), (X_valid, Y_valid)]\n",
    "model = xgb.XGBClassifier(learning_rate = 0.1,\\\n",
    "                          max_depth = 7,\\\n",
    "                          min_child_weight = 5,\\\n",
    "                          objective = 'binary:logistic',\\\n",
    "                          seed = 42,\\\n",
    "                          gamma = 0.1,\\\n",
    "                          silent = True)\n",
    "model.fit(X_train_upsamp, Y_train_upsamp, eval_set=eval_set,\\\n",
    "          eval_metric=\"auc\", verbose=True, early_stopping_rounds=30)"
   ]
  },
  {
   "cell_type": "code",
   "execution_count": 27,
   "metadata": {
    "ExecuteTime": {
     "end_time": "2019-09-11T01:27:20.890241Z",
     "start_time": "2019-09-11T01:27:20.547147Z"
    }
   },
   "outputs": [
    {
     "data": {
      "image/png": "[encoded data removed]",
      "text/plain": [
       "<Figure size 720x1296 with 1 Axes>"
      ]
     },
     "metadata": {
      "needs_background": "light"
     },
     "output_type": "display_data"
    }
   ],
   "source": [
    "# check which features are important\n",
    "\n",
    "from xgboost import plot_importance\n",
    "from matplotlib import pyplot\n",
    "\n",
    "fig, ax = pyplot.subplots(figsize=(10, 18));\n",
    "xgb.plot_importance(model, ax=ax);"
   ]
  },
  {
   "cell_type": "code",
   "execution_count": 28,
   "metadata": {
    "ExecuteTime": {
     "end_time": "2019-09-11T01:27:44.333283Z",
     "start_time": "2019-09-11T01:27:44.295240Z"
    }
   },
   "outputs": [
    {
     "data": {
      "text/plain": [
       "array([[11661,  1765],\n",
       "       [   77,    23]])"
      ]
     },
     "execution_count": 28,
     "metadata": {},
     "output_type": "execute_result"
    }
   ],
   "source": [
    "# confusion matrix\n",
    "valid_pred = model.predict(X_valid, ntree_limit=model.best_ntree_limit)\n",
    "cm = sk.metrics.confusion_matrix\n",
    "cm(Y_valid, valid_pred)"
   ]
  },
  {
   "cell_type": "code",
   "execution_count": 29,
   "metadata": {
    "ExecuteTime": {
     "end_time": "2019-09-11T01:28:15.441752Z",
     "start_time": "2019-09-11T01:28:15.147914Z"
    }
   },
   "outputs": [
    {
     "data": {
      "image/png": "[encoded data removed]",
      "text/plain": [
       "<Figure size 720x720 with 2 Axes>"
      ]
     },
     "metadata": {
      "needs_background": "light"
     },
     "output_type": "display_data"
    }
   ],
   "source": [
    "# confusion marix for thge validation set\n",
    "valid_pred = model.predict(X_valid, ntree_limit=model.best_ntree_limit)\n",
    "cm = sk.metrics.confusion_matrix(Y_valid, valid_pred)\n",
    "\n",
    "fig, ax= plt.subplots(figsize=(10,10))\n",
    "sb.heatmap(cm, annot=True, fmt='g', ax = ax); #annot=True to annotate cells\n",
    "\n",
    "# labels, title and ticks\n",
    "ax.set_xlabel('Predicted labels');\n",
    "ax.set_ylabel('True labels'); \n",
    "ax.set_title('Confusion Matrix'); \n",
    "ax.xaxis.set_ticklabels(['No Purchase', 'Made Purchase']); \n",
    "ax.yaxis.set_ticklabels(['No Purchase', 'Made Purchase']);"
   ]
  },
  {
   "cell_type": "code",
   "execution_count": 30,
   "metadata": {
    "ExecuteTime": {
     "end_time": "2019-09-11T01:29:07.551933Z",
     "start_time": "2019-09-11T01:29:07.542425Z"
    }
   },
   "outputs": [],
   "source": [
    "def promotion_strategy(df):\n",
    "    '''\n",
    "    INPUT \n",
    "    df - a dataframe with *only* the columns V1 - V7 (same as train_data)\n",
    "\n",
    "    OUTPUT\n",
    "    promotion_df - np.array with the values\n",
    "                   'Yes' or 'No' related to whether or not an \n",
    "                   individual should recieve a promotion \n",
    "                   should be the length of df.shape[0]\n",
    "                \n",
    "    Ex:\n",
    "    INPUT: df\n",
    "    \n",
    "    V1\tV2\t  V3\tV4\tV5\tV6\tV7\n",
    "    2\t30\t-1.1\t1\t1\t3\t2\n",
    "    3\t32\t-0.6\t2\t3\t2\t2\n",
    "    2\t30\t0.13\t1\t1\t4\t2\n",
    "    \n",
    "    OUTPUT: promotion\n",
    "    \n",
    "    array(['Yes', 'Yes', 'No'])\n",
    "    indicating the first two users would recieve the promotion and \n",
    "    the last should not.\n",
    "    '''\n",
    "    test = df\n",
    "    \n",
    "    preds = model.predict(test, ntree_limit=model.best_ntree_limit)\n",
    "\n",
    "    promotion = []\n",
    "    for pred in preds:\n",
    "        if pred == 1:\n",
    "            promotion.append('Yes')\n",
    "        else:\n",
    "            promotion.append('No')\n",
    "    promotion = np.array(promotion)\n",
    "    return promotion"
   ]
  },
  {
   "cell_type": "code",
   "execution_count": 36,
   "metadata": {
    "ExecuteTime": {
     "end_time": "2019-09-11T01:35:35.372933Z",
     "start_time": "2019-09-11T01:35:35.230102Z"
    }
   },
   "outputs": [
    {
     "name": "stdout",
     "output_type": "stream",
     "text": [
      "Nice job!  See how well your strategy worked on our test data below!\n",
      "\n",
      "Your irr with this strategy is 0.0185.\n",
      "\n",
      "Your nir with this strategy is 82.25.\n",
      "We came up with a model with an irr of 0.0188 and an nir of 189.45 on the test set.\n",
      "\n",
      " How did you do?\n"
     ]
    },
    {
     "data": {
      "text/plain": [
       "(0.018487475225063877, 82.25)"
      ]
     },
     "execution_count": 36,
     "metadata": {},
     "output_type": "execute_result"
    }
   ],
   "source": [
    "# This will test your results, and provide you back some information \n",
    "# on how well your promotion_strategy will work in practice\n",
    "test_results(promotion_strategy)"
   ]
  },
  {
   "cell_type": "markdown",
   "metadata": {},
   "source": [
    "### Model 2: Using Two Models\n",
    "\n",
    "In this approach, we will train two models. One model will be trained on the treatment group (those who received the promotion) and we will refer to this model as the treatment model. Another model will be trained on the control group (those who did not received the promotion), and we will refer to this as the control model. The target of both models will be whether the individual made the purchase or not. The treatment model will predict the probability that individual will make a purchase if he or she received the promotion, while the control model will predict the probability that individual will make a purchase if he or she did not receive the promotion. Ideally the difference in the probabilities, which we will call the lift:\n",
    "\n",
    "![$$ Lift = P(purchase | treatment) - P(purchase | control) $$](https://render.githubusercontent.com/render/math?math=Lift%20%3D%20P%28purchase%20%7C%20treatment%29%20-%20P%28purchase%20%7C%20control%29&mode=display)\n",
    "\n",
    "will tell us the probability that sending a promotion to an individual will increase his or her willingness to make a purhcase vs not sending a promotion. We can then send promotions to individuals with lift values higher than a pre-defined cutoff percentile. For example, we can send promotions to individuals in the top 3 deciles.\n",
    "\n",
    "For this dataset, we can manually try a few cutoff percentiles or perform a grid search to find the optimal cut-off percentile. In this example, a manual search was conducted for simplicity sake. The performance of this model left a lot to be desired. Sending out promotions to individuals with lift values above the 97th percentile seems to be one of the better option. An irr of 0.44\\% and nlr of \\$26.90 is achieved on the validation set. On the other hand, an irr of 1.76\\% and nlr of \\\\$12.70 is achieved for the test data, which is not as good as the Starbuck's model. It should also be noted that this method is extremely sensitive to changes in the cut-off percentile used for this dataset. Both the addition or subtraction of a few percentiles resulted in drastically different nlr. Hence, the two model approach is not recommended for this data set.\n",
    "\n",
    "As noted in the presentation on Uplift Modeling by Victor Lo found [here](https://www.slideshare.net/odsc/victor-lomachinelearningpresentation), one of the disadvantages of this method is that it indirectly models uplift. The difference between the treatment and control probabilities may sometimes be noise. In addition, there is also the possibility that the scales of both models don't match.\n"
   ]
  },
  {
   "cell_type": "code",
   "execution_count": 37,
   "metadata": {
    "ExecuteTime": {
     "end_time": "2019-09-11T01:56:59.360908Z",
     "start_time": "2019-09-11T01:56:59.194507Z"
    }
   },
   "outputs": [],
   "source": [
    "train_data = pd.read_csv('./training.csv')\n",
    "test_data = pd.read_csv('./Test.csv')\n",
    "train, valid = sk.model_selection.train_test_split(train_data, test_size=0.2,random_state=42)\n",
    "features = ['V1', 'V2', 'V3', 'V4', 'V5', 'V6', 'V7']"
   ]
  },
  {
   "cell_type": "code",
   "execution_count": 39,
   "metadata": {
    "ExecuteTime": {
     "end_time": "2019-09-11T01:57:21.848752Z",
     "start_time": "2019-09-11T01:57:21.830822Z"
    }
   },
   "outputs": [],
   "source": [
    "# generate validation data\n",
    "# one for control group, another for treatment group\n",
    "valid_control = valid[valid['Promotion']=='No']\n",
    "Y_valid_control = valid_control['purchase']\n",
    "X_valid_control = valid_control[features]\n",
    "\n",
    "valid_exper = valid[valid['Promotion']=='Yes']\n",
    "Y_valid_exper = valid_exper['purchase']\n",
    "X_valid_exper = valid_exper[features]"
   ]
  },
  {
   "cell_type": "code",
   "execution_count": 40,
   "metadata": {
    "ExecuteTime": {
     "end_time": "2019-09-11T01:57:50.566498Z",
     "start_time": "2019-09-11T01:57:50.529789Z"
    }
   },
   "outputs": [],
   "source": [
    "# generate training data\n",
    "train_control = train[train['Promotion']=='No']\n",
    "Y_train_control = train_control['purchase']\n",
    "X_train_control = train_control[features]\n",
    "\n",
    "train_exper = train[train['Promotion']=='Yes']\n",
    "Y_train_exper = train_exper['purchase']\n",
    "X_train_exper = train_exper[features]"
   ]
  },
  {
   "cell_type": "code",
   "execution_count": 41,
   "metadata": {
    "ExecuteTime": {
     "end_time": "2019-09-11T01:58:05.871741Z",
     "start_time": "2019-09-11T01:58:05.386308Z"
    }
   },
   "outputs": [],
   "source": [
    "# up-sample training data with SMOTE\n",
    "sm = SMOTE(random_state=42, ratio = 1.0)\n",
    "\n",
    "# up-sample control group\n",
    "X_train_control_upsamp, Y_train_control_upsamp = sm.fit_sample(X_train_control, Y_train_control)\n",
    "X_train_control_upsamp = pd.DataFrame(X_train_control_upsamp, columns=features)\n",
    "Y_train_control_upsamp = pd.Series(Y_train_control_upsamp)\n",
    "\n",
    "# up-sample treatment group\n",
    "X_train_exper_upsamp, Y_train_exper_upsamp = sm.fit_sample(X_train_exper, Y_train_exper)    \n",
    "X_train_exper_upsamp = pd.DataFrame(X_train_exper_upsamp, columns=features)\n",
    "Y_train_exper_upsamp = pd.Series(Y_train_exper_upsamp)"
   ]
  },
  {
   "cell_type": "code",
   "execution_count": 42,
   "metadata": {
    "ExecuteTime": {
     "end_time": "2019-09-11T01:58:32.644863Z",
     "start_time": "2019-09-11T01:58:28.484774Z"
    }
   },
   "outputs": [
    {
     "name": "stdout",
     "output_type": "stream",
     "text": [
      "[0]\tvalidation_0-auc:0.927669\tvalidation_1-auc:0.520814\n",
      "Multiple eval metrics have been passed: 'validation_1-auc' will be used for early stopping.\n",
      "\n",
      "Will train until validation_1-auc hasn't improved in 30 rounds.\n",
      "[1]\tvalidation_0-auc:0.929149\tvalidation_1-auc:0.521929\n",
      "[2]\tvalidation_0-auc:0.958296\tvalidation_1-auc:0.526606\n",
      "[3]\tvalidation_0-auc:0.959648\tvalidation_1-auc:0.519001\n",
      "[4]\tvalidation_0-auc:0.960095\tvalidation_1-auc:0.520977\n",
      "[5]\tvalidation_0-auc:0.982338\tvalidation_1-auc:0.514844\n",
      "[6]\tvalidation_0-auc:0.98125\tvalidation_1-auc:0.510661\n",
      "[7]\tvalidation_0-auc:0.982303\tvalidation_1-auc:0.507793\n",
      "[8]\tvalidation_0-auc:0.984336\tvalidation_1-auc:0.501206\n",
      "[9]\tvalidation_0-auc:0.985167\tvalidation_1-auc:0.497971\n",
      "[10]\tvalidation_0-auc:0.988254\tvalidation_1-auc:0.503657\n",
      "[11]\tvalidation_0-auc:0.988485\tvalidation_1-auc:0.50131\n",
      "[12]\tvalidation_0-auc:0.988038\tvalidation_1-auc:0.501582\n",
      "[13]\tvalidation_0-auc:0.989287\tvalidation_1-auc:0.499816\n",
      "[14]\tvalidation_0-auc:0.989877\tvalidation_1-auc:0.497989\n",
      "[15]\tvalidation_0-auc:0.990723\tvalidation_1-auc:0.499119\n",
      "[16]\tvalidation_0-auc:0.990855\tvalidation_1-auc:0.498099\n",
      "[17]\tvalidation_0-auc:0.991672\tvalidation_1-auc:0.501882\n",
      "[18]\tvalidation_0-auc:0.99194\tvalidation_1-auc:0.501319\n",
      "[19]\tvalidation_0-auc:0.992123\tvalidation_1-auc:0.500781\n",
      "[20]\tvalidation_0-auc:0.992141\tvalidation_1-auc:0.504373\n",
      "[21]\tvalidation_0-auc:0.992245\tvalidation_1-auc:0.50751\n",
      "[22]\tvalidation_0-auc:0.992209\tvalidation_1-auc:0.506389\n",
      "[23]\tvalidation_0-auc:0.992645\tvalidation_1-auc:0.505251\n",
      "[24]\tvalidation_0-auc:0.992646\tvalidation_1-auc:0.506496\n",
      "[25]\tvalidation_0-auc:0.992918\tvalidation_1-auc:0.508007\n",
      "[26]\tvalidation_0-auc:0.993117\tvalidation_1-auc:0.503449\n",
      "[27]\tvalidation_0-auc:0.993323\tvalidation_1-auc:0.502685\n",
      "[28]\tvalidation_0-auc:0.994348\tvalidation_1-auc:0.50238\n",
      "[29]\tvalidation_0-auc:0.994377\tvalidation_1-auc:0.500748\n",
      "[30]\tvalidation_0-auc:0.994603\tvalidation_1-auc:0.500844\n",
      "[31]\tvalidation_0-auc:0.994656\tvalidation_1-auc:0.500312\n",
      "[32]\tvalidation_0-auc:0.995343\tvalidation_1-auc:0.498913\n",
      "Stopping. Best iteration:\n",
      "[2]\tvalidation_0-auc:0.958296\tvalidation_1-auc:0.526606\n",
      "\n"
     ]
    },
    {
     "data": {
      "text/plain": [
       "XGBClassifier(base_score=0.5, booster='gbtree', colsample_bylevel=1,\n",
       "              colsample_bynode=1, colsample_bytree=1, gamma=1,\n",
       "              learning_rate=0.1, max_delta_step=0, max_depth=7,\n",
       "              min_child_weight=5, missing=None, n_estimators=100, n_jobs=1,\n",
       "              nthread=None, objective='binary:logistic', random_state=0,\n",
       "              reg_alpha=0, reg_lambda=1, scale_pos_weight=1, seed=42,\n",
       "              silent=True, subsample=1, verbosity=1)"
      ]
     },
     "execution_count": 42,
     "metadata": {},
     "output_type": "execute_result"
    }
   ],
   "source": [
    "# train control model\n",
    "eval_set = [(X_train_control_upsamp, Y_train_control_upsamp), (X_valid_control, Y_valid_control)]\n",
    "model_control = xgb.XGBClassifier(learning_rate = 0.1,\\\n",
    "                                  max_depth = 7,\\\n",
    "                                  min_child_weight = 5,\\\n",
    "                                  objective = 'binary:logistic',\\\n",
    "                                  seed = 42,\\\n",
    "                                  gamma = 1,\\\n",
    "                                  #colsample_bytree = 0.1,\\\n",
    "                                  silent = True)\n",
    "model_control.fit(X_train_control_upsamp, Y_train_control_upsamp, eval_set=eval_set,\\\n",
    "                    eval_metric=\"auc\", verbose=True, early_stopping_rounds=30)"
   ]
  },
  {
   "cell_type": "code",
   "execution_count": 43,
   "metadata": {
    "ExecuteTime": {
     "end_time": "2019-09-11T01:58:48.179073Z",
     "start_time": "2019-09-11T01:58:43.509927Z"
    }
   },
   "outputs": [
    {
     "name": "stdout",
     "output_type": "stream",
     "text": [
      "[0]\tvalidation_0-auc:0.890697\tvalidation_1-auc:0.649396\n",
      "Multiple eval metrics have been passed: 'validation_1-auc' will be used for early stopping.\n",
      "\n",
      "Will train until validation_1-auc hasn't improved in 30 rounds.\n",
      "[1]\tvalidation_0-auc:0.896733\tvalidation_1-auc:0.649055\n",
      "[2]\tvalidation_0-auc:0.905555\tvalidation_1-auc:0.653715\n",
      "[3]\tvalidation_0-auc:0.914605\tvalidation_1-auc:0.653078\n",
      "[4]\tvalidation_0-auc:0.916028\tvalidation_1-auc:0.655472\n",
      "[5]\tvalidation_0-auc:0.930728\tvalidation_1-auc:0.65128\n",
      "[6]\tvalidation_0-auc:0.937276\tvalidation_1-auc:0.648748\n",
      "[7]\tvalidation_0-auc:0.939903\tvalidation_1-auc:0.649826\n",
      "[8]\tvalidation_0-auc:0.941034\tvalidation_1-auc:0.648604\n",
      "[9]\tvalidation_0-auc:0.945493\tvalidation_1-auc:0.648523\n",
      "[10]\tvalidation_0-auc:0.952592\tvalidation_1-auc:0.649349\n",
      "[11]\tvalidation_0-auc:0.953901\tvalidation_1-auc:0.646883\n",
      "[12]\tvalidation_0-auc:0.960077\tvalidation_1-auc:0.646123\n",
      "[13]\tvalidation_0-auc:0.962863\tvalidation_1-auc:0.643048\n",
      "[14]\tvalidation_0-auc:0.963443\tvalidation_1-auc:0.642786\n",
      "[15]\tvalidation_0-auc:0.965412\tvalidation_1-auc:0.641856\n",
      "[16]\tvalidation_0-auc:0.965739\tvalidation_1-auc:0.642433\n",
      "[17]\tvalidation_0-auc:0.966674\tvalidation_1-auc:0.641306\n",
      "[18]\tvalidation_0-auc:0.96756\tvalidation_1-auc:0.640196\n",
      "[19]\tvalidation_0-auc:0.967954\tvalidation_1-auc:0.638115\n",
      "[20]\tvalidation_0-auc:0.968388\tvalidation_1-auc:0.639008\n",
      "[21]\tvalidation_0-auc:0.970794\tvalidation_1-auc:0.639924\n",
      "[22]\tvalidation_0-auc:0.971264\tvalidation_1-auc:0.640246\n",
      "[23]\tvalidation_0-auc:0.972306\tvalidation_1-auc:0.641463\n",
      "[24]\tvalidation_0-auc:0.973702\tvalidation_1-auc:0.641562\n",
      "[25]\tvalidation_0-auc:0.974774\tvalidation_1-auc:0.641553\n",
      "[26]\tvalidation_0-auc:0.976385\tvalidation_1-auc:0.641705\n",
      "[27]\tvalidation_0-auc:0.977167\tvalidation_1-auc:0.64091\n",
      "[28]\tvalidation_0-auc:0.978203\tvalidation_1-auc:0.641187\n",
      "[29]\tvalidation_0-auc:0.979046\tvalidation_1-auc:0.641611\n",
      "[30]\tvalidation_0-auc:0.980078\tvalidation_1-auc:0.641374\n",
      "[31]\tvalidation_0-auc:0.980504\tvalidation_1-auc:0.641775\n",
      "[32]\tvalidation_0-auc:0.98114\tvalidation_1-auc:0.642292\n",
      "[33]\tvalidation_0-auc:0.981555\tvalidation_1-auc:0.642485\n",
      "[34]\tvalidation_0-auc:0.982617\tvalidation_1-auc:0.641536\n",
      "Stopping. Best iteration:\n",
      "[4]\tvalidation_0-auc:0.916028\tvalidation_1-auc:0.655472\n",
      "\n"
     ]
    },
    {
     "data": {
      "text/plain": [
       "XGBClassifier(base_score=0.5, booster='gbtree', colsample_bylevel=1,\n",
       "              colsample_bynode=1, colsample_bytree=1, gamma=1,\n",
       "              learning_rate=0.1, max_delta_step=0, max_depth=7,\n",
       "              min_child_weight=5, missing=None, n_estimators=100, n_jobs=1,\n",
       "              nthread=None, objective='binary:logistic', random_state=0,\n",
       "              reg_alpha=0, reg_lambda=1, scale_pos_weight=1, seed=42,\n",
       "              silent=True, subsample=1, verbosity=1)"
      ]
     },
     "execution_count": 43,
     "metadata": {},
     "output_type": "execute_result"
    }
   ],
   "source": [
    "# train treatment model\n",
    "eval_set = [(X_train_exper_upsamp, Y_train_exper_upsamp), (X_valid_exper, Y_valid_exper)]\n",
    "model_exper = xgb.XGBClassifier(learning_rate = 0.1,\\\n",
    "                                max_depth = 7,\\\n",
    "                                min_child_weight = 5,\\\n",
    "                                objective = 'binary:logistic',\\\n",
    "                                seed = 42,\\\n",
    "                                gamma = 1,\\\n",
    "                                #colsample_bytree = 0.1,\\\n",
    "                                silent = True)\n",
    "model_exper.fit(X_train_exper_upsamp, Y_train_exper_upsamp, eval_set=eval_set,\\\n",
    "                eval_metric=\"auc\", verbose=True, early_stopping_rounds=30)"
   ]
  },
  {
   "cell_type": "code",
   "execution_count": 44,
   "metadata": {
    "ExecuteTime": {
     "end_time": "2019-09-11T01:59:27.127073Z",
     "start_time": "2019-09-11T01:59:27.103468Z"
    }
   },
   "outputs": [],
   "source": [
    "# make predictions on the validation data sets for both models\n",
    "control_valid_pred = model_control.predict(X_valid_control, ntree_limit=model_control.best_ntree_limit)\n",
    "exper_valid_pred = model_exper.predict(X_valid_exper, ntree_limit=model_exper.best_ntree_limit)"
   ]
  },
  {
   "cell_type": "code",
   "execution_count": 45,
   "metadata": {
    "ExecuteTime": {
     "end_time": "2019-09-11T01:59:44.029079Z",
     "start_time": "2019-09-11T01:59:43.633239Z"
    }
   },
   "outputs": [
    {
     "data": {
      "image/png": "[encoded data removed]",
      "text/plain": [
       "<Figure size 720x720 with 2 Axes>"
      ]
     },
     "metadata": {
      "needs_background": "light"
     },
     "output_type": "display_data"
    }
   ],
   "source": [
    "# confusion marix for thge validation set\n",
    "valid_pred = model.predict(X_valid, ntree_limit=model.best_ntree_limit)\n",
    "cm = sk.metrics.confusion_matrix(Y_valid_control, control_valid_pred)\n",
    "\n",
    "fig, ax= plt.subplots(figsize=(10,10))\n",
    "sb.heatmap(cm, annot=True, fmt='g', ax = ax); #annot=True to annotate cells\n",
    "\n",
    "# labels, title and ticks\n",
    "ax.set_xlabel('Predicted labels');\n",
    "ax.set_ylabel('True labels'); \n",
    "ax.set_title('Confusion Matrix For Control Group'); \n",
    "ax.xaxis.set_ticklabels(['No Purchase', 'Made Purchase']); \n",
    "ax.yaxis.set_ticklabels(['No Purchase', 'Made Purchase']);"
   ]
  },
  {
   "cell_type": "code",
   "execution_count": 46,
   "metadata": {
    "ExecuteTime": {
     "end_time": "2019-09-11T01:59:59.098655Z",
     "start_time": "2019-09-11T01:59:58.831118Z"
    }
   },
   "outputs": [
    {
     "data": {
      "image/png": "[encoded data removed]",
      "text/plain": [
       "<Figure size 720x720 with 2 Axes>"
      ]
     },
     "metadata": {
      "needs_background": "light"
     },
     "output_type": "display_data"
    }
   ],
   "source": [
    "# confusion marix for thge validation set\n",
    "valid_pred = model.predict(X_valid, ntree_limit=model.best_ntree_limit)\n",
    "cm = sk.metrics.confusion_matrix(Y_valid_exper, exper_valid_pred)\n",
    "\n",
    "fig, ax= plt.subplots(figsize=(10,10))\n",
    "sb.heatmap(cm, annot=True, fmt='g', ax = ax); #annot=True to annotate cells\n",
    "\n",
    "# labels, title and ticks\n",
    "ax.set_xlabel('Predicted labels');\n",
    "ax.set_ylabel('True labels'); \n",
    "ax.set_title('Confusion Matrix For Treatment Group'); \n",
    "ax.xaxis.set_ticklabels(['No Purchase', 'Made Purchase']); \n",
    "ax.yaxis.set_ticklabels(['No Purchase', 'Made Purchase']);"
   ]
  },
  {
   "cell_type": "code",
   "execution_count": 47,
   "metadata": {
    "ExecuteTime": {
     "end_time": "2019-09-11T02:00:19.129713Z",
     "start_time": "2019-09-11T02:00:19.119746Z"
    }
   },
   "outputs": [],
   "source": [
    "def promotion_strategy(df):\n",
    "    '''\n",
    "    INPUT \n",
    "    df - a dataframe with *only* the columns V1 - V7 (same as train_data)\n",
    "\n",
    "    OUTPUT\n",
    "    promotion_df - np.array with the values\n",
    "                   'Yes' or 'No' related to whether or not an \n",
    "                   individual should recieve a promotion \n",
    "                   should be the length of df.shape[0]            \n",
    "    Ex:\n",
    "    INPUT: df\n",
    "    \n",
    "    V1\tV2\t  V3\tV4\tV5\tV6\tV7\n",
    "    2\t30\t-1.1\t1\t1\t3\t2\n",
    "    3\t32\t-0.6\t2\t3\t2\t2\n",
    "    2\t30\t0.13\t1\t1\t4\t2\n",
    "    \n",
    "    OUTPUT: promotion\n",
    "    \n",
    "    array(['Yes', 'Yes', 'No'])\n",
    "    indicating the first two users would recieve the promotion and \n",
    "    the last should not.\n",
    "    '''\n",
    "    test = df\n",
    "    \n",
    "    pred_probs_contol = model_control.predict_proba(test, ntree_limit=model_control.best_ntree_limit)\n",
    "\n",
    "    pred_probs_exper = model_exper.predict_proba(test, ntree_limit=model_exper.best_ntree_limit)\n",
    "\n",
    "    # get difference in probabilities between experimental and cpntrol model for purchase = 1 label\n",
    "    lift = pred_probs_exper[:,1] - pred_probs_contol[:,1]\n",
    "    \n",
    "    promotion = []\n",
    "    \n",
    "    # Only send promotions to top 3 percentile of probabilities\n",
    "    cutoff_lift = np.percentile(lift, 97)\n",
    "    \n",
    "    for prob in lift:\n",
    "        if prob > 0:\n",
    "            if prob > cutoff_lift:\n",
    "                promotion.append('Yes')\n",
    "        else:\n",
    "            promotion.append('No')\n",
    "\n",
    "    promotion = np.array(promotion)\n",
    "    \n",
    "    return promotion"
   ]
  },
  {
   "cell_type": "code",
   "execution_count": 48,
   "metadata": {
    "ExecuteTime": {
     "end_time": "2019-09-11T02:00:49.732526Z",
     "start_time": "2019-09-11T02:00:49.416554Z"
    }
   },
   "outputs": [
    {
     "name": "stdout",
     "output_type": "stream",
     "text": [
      "Nice job!  See how well your strategy worked on our test data below!\n",
      "\n",
      "Your irr with this strategy is 0.0176.\n",
      "\n",
      "Your nir with this strategy is 12.70.\n",
      "We came up with a model with an irr of 0.0188 and an nir of 189.45 on the test set.\n",
      "\n",
      " How did you do?\n"
     ]
    },
    {
     "data": {
      "text/plain": [
       "(0.0176197886273747, 12.700000000000003)"
      ]
     },
     "execution_count": 48,
     "metadata": {},
     "output_type": "execute_result"
    }
   ],
   "source": [
    "# This will test your results, and provide you back some information \n",
    "# on how well your promotion_strategy will work in practice\n",
    "\n",
    "test_results(promotion_strategy)"
   ]
  },
  {
   "cell_type": "markdown",
   "metadata": {},
   "source": [
    "### Model 3: Using Treatment Dummy Approach\n",
    "\n",
    "In this approach, a single model is used to model the data. Unlike the approach used in the first model, this approach adds an additional indicator variable to track if an individual is in a treatment or control group during training. Any individuals who made purchases will be given a label of 1, irregradless of whether he or she is in the control or treatment group.\n",
    "\n",
    "To predict whether a new individual in a test set is likely to make a purhcase only after receiving a promotion, we can first calculate the probability that the individual will make a purchase if he or she is in the treatment group by setting the treatment indicator as 1. Next, we calculate the probability that the individual will make a purchase if he or she is in the control group by setting the treatment indicator as 0. The difference in the two probabilities will be the lift value, aka, how positively influenced the individual is as a result of the treatment (receiving promotion):\n",
    "\n",
    "![$$Lift = P(purchase | I_{treat} = 1) - P(purchase |  I_{treat} = 0)$$](https://render.githubusercontent.com/render/math?math=Lift%20%3D%20P%28purchase%20%7C%20I_%7Btreat%7D%20%3D%201%29%20-%20P%28purchase%20%7C%20%20I_%7Btreat%7D%20%3D%200%29&mode=display)\n",
    "\n",
    "We can opt to send promotions to individuals with prostive lift values. Using this approach for this dataset, an irr of 1.42\\% and an nlr of -\\$47.40 is obtained for the validation set. On the other hand, the irr and nlr values for the test set is 1.54\\% and \\\\$42.60 respectively. Such a drastic difference between the validation and test nlrs is certainly surprising. The test results does seem to suggest that this is could be a relatively good approach as well. Alternative models, new feature generation and alternative upsampling methods could be tried to improve the results. In addition, you can also choose to send promotions only to individuals with lift values above a certain percentile.\n",
    "\n",
    "This approach is a slight modification of the method proposed by Victor Lo in the previously mentioned presentation, which can be found [here](https://www.slideshare.net/odsc/victor-lomachinelearningpresentation). The original method proposes a logistic regression model.\n"
   ]
  },
  {
   "cell_type": "code",
   "execution_count": 49,
   "metadata": {
    "ExecuteTime": {
     "end_time": "2019-09-11T02:04:06.542523Z",
     "start_time": "2019-09-11T02:04:06.376386Z"
    }
   },
   "outputs": [],
   "source": [
    "train_data = pd.read_csv('./training.csv')\n",
    "test_data = pd.read_csv('./Test.csv')"
   ]
  },
  {
   "cell_type": "code",
   "execution_count": 50,
   "metadata": {
    "ExecuteTime": {
     "end_time": "2019-09-11T02:04:15.678184Z",
     "start_time": "2019-09-11T02:04:15.643039Z"
    }
   },
   "outputs": [
    {
     "data": {
      "text/html": [
       "<div>\n",
       "<style scoped>\n",
       "    .dataframe tbody tr th:only-of-type {\n",
       "        vertical-align: middle;\n",
       "    }\n",
       "\n",
       "    .dataframe tbody tr th {\n",
       "        vertical-align: top;\n",
       "    }\n",
       "\n",
       "    .dataframe thead th {\n",
       "        text-align: right;\n",
       "    }\n",
       "</style>\n",
       "<table border=\"1\" class=\"dataframe\">\n",
       "  <thead>\n",
       "    <tr style=\"text-align: right;\">\n",
       "      <th></th>\n",
       "      <th>ID</th>\n",
       "      <th>Promotion</th>\n",
       "      <th>purchase</th>\n",
       "      <th>V1</th>\n",
       "      <th>V2</th>\n",
       "      <th>V3</th>\n",
       "      <th>V4</th>\n",
       "      <th>V5</th>\n",
       "      <th>V6</th>\n",
       "      <th>V7</th>\n",
       "      <th>treatment</th>\n",
       "    </tr>\n",
       "  </thead>\n",
       "  <tbody>\n",
       "    <tr>\n",
       "      <td>0</td>\n",
       "      <td>1</td>\n",
       "      <td>No</td>\n",
       "      <td>0</td>\n",
       "      <td>2</td>\n",
       "      <td>30.443518</td>\n",
       "      <td>-1.165083</td>\n",
       "      <td>1</td>\n",
       "      <td>1</td>\n",
       "      <td>3</td>\n",
       "      <td>2</td>\n",
       "      <td>0</td>\n",
       "    </tr>\n",
       "    <tr>\n",
       "      <td>1</td>\n",
       "      <td>3</td>\n",
       "      <td>No</td>\n",
       "      <td>0</td>\n",
       "      <td>3</td>\n",
       "      <td>32.159350</td>\n",
       "      <td>-0.645617</td>\n",
       "      <td>2</td>\n",
       "      <td>3</td>\n",
       "      <td>2</td>\n",
       "      <td>2</td>\n",
       "      <td>0</td>\n",
       "    </tr>\n",
       "    <tr>\n",
       "      <td>2</td>\n",
       "      <td>4</td>\n",
       "      <td>No</td>\n",
       "      <td>0</td>\n",
       "      <td>2</td>\n",
       "      <td>30.431659</td>\n",
       "      <td>0.133583</td>\n",
       "      <td>1</td>\n",
       "      <td>1</td>\n",
       "      <td>4</td>\n",
       "      <td>2</td>\n",
       "      <td>0</td>\n",
       "    </tr>\n",
       "    <tr>\n",
       "      <td>3</td>\n",
       "      <td>5</td>\n",
       "      <td>No</td>\n",
       "      <td>0</td>\n",
       "      <td>0</td>\n",
       "      <td>26.588914</td>\n",
       "      <td>-0.212728</td>\n",
       "      <td>2</td>\n",
       "      <td>1</td>\n",
       "      <td>4</td>\n",
       "      <td>2</td>\n",
       "      <td>0</td>\n",
       "    </tr>\n",
       "    <tr>\n",
       "      <td>4</td>\n",
       "      <td>8</td>\n",
       "      <td>Yes</td>\n",
       "      <td>0</td>\n",
       "      <td>3</td>\n",
       "      <td>28.044332</td>\n",
       "      <td>-0.385883</td>\n",
       "      <td>1</td>\n",
       "      <td>1</td>\n",
       "      <td>2</td>\n",
       "      <td>2</td>\n",
       "      <td>1</td>\n",
       "    </tr>\n",
       "  </tbody>\n",
       "</table>\n",
       "</div>"
      ],
      "text/plain": [
       "   ID Promotion  purchase  V1         V2        V3  V4  V5  V6  V7  treatment\n",
       "0   1        No         0   2  30.443518 -1.165083   1   1   3   2          0\n",
       "1   3        No         0   3  32.159350 -0.645617   2   3   2   2          0\n",
       "2   4        No         0   2  30.431659  0.133583   1   1   4   2          0\n",
       "3   5        No         0   0  26.588914 -0.212728   2   1   4   2          0\n",
       "4   8       Yes         0   3  28.044332 -0.385883   1   1   2   2          1"
      ]
     },
     "execution_count": 50,
     "metadata": {},
     "output_type": "execute_result"
    }
   ],
   "source": [
    "# encode Promotion as 0 or 1 indicator variable\n",
    "train_data['treatment'] = np.where(train_data['Promotion'] == \"Yes\", 1, 0)\n",
    "train_data.head()"
   ]
  },
  {
   "cell_type": "code",
   "execution_count": 51,
   "metadata": {
    "ExecuteTime": {
     "end_time": "2019-09-11T02:04:32.231733Z",
     "start_time": "2019-09-11T02:04:32.191929Z"
    }
   },
   "outputs": [],
   "source": [
    "train, valid = sk.model_selection.train_test_split(train_data, test_size=0.2,random_state=42)\n",
    "\n",
    "features = ['V1', 'V2', 'V3', 'V4', 'V5', 'V6', 'V7', 'treatment']\n",
    "\n",
    "Y_train = train['purchase']\n",
    "X_train = train[features]\n",
    "\n",
    "Y_valid = valid['purchase']\n",
    "X_valid = valid[features]"
   ]
  },
  {
   "cell_type": "code",
   "execution_count": 52,
   "metadata": {
    "ExecuteTime": {
     "end_time": "2019-09-11T02:04:49.890326Z",
     "start_time": "2019-09-11T02:04:49.423895Z"
    }
   },
   "outputs": [],
   "source": [
    "# up sample with SMOTE\n",
    "sm = SMOTE(random_state=42, ratio = 1.0)\n",
    "X_train_upsamp, Y_train_upsamp = sm.fit_sample(X_train, Y_train)\n",
    "    \n",
    "X_train_upsamp = pd.DataFrame(X_train_upsamp, columns=features)\n",
    "\n",
    "Y_train_upsamp = pd.Series(Y_train_upsamp)"
   ]
  },
  {
   "cell_type": "code",
   "execution_count": 53,
   "metadata": {
    "ExecuteTime": {
     "end_time": "2019-09-11T02:05:11.432191Z",
     "start_time": "2019-09-11T02:05:03.171985Z"
    }
   },
   "outputs": [
    {
     "name": "stdout",
     "output_type": "stream",
     "text": [
      "[0]\tvalidation_0-auc:0.916298\tvalidation_1-auc:0.654634\n",
      "Multiple eval metrics have been passed: 'validation_1-auc' will be used for early stopping.\n",
      "\n",
      "Will train until validation_1-auc hasn't improved in 30 rounds.\n",
      "[1]\tvalidation_0-auc:0.919459\tvalidation_1-auc:0.660875\n",
      "[2]\tvalidation_0-auc:0.928347\tvalidation_1-auc:0.654825\n",
      "[3]\tvalidation_0-auc:0.932595\tvalidation_1-auc:0.645971\n",
      "[4]\tvalidation_0-auc:0.935008\tvalidation_1-auc:0.647883\n",
      "[5]\tvalidation_0-auc:0.934159\tvalidation_1-auc:0.646341\n",
      "[6]\tvalidation_0-auc:0.937256\tvalidation_1-auc:0.641421\n",
      "[7]\tvalidation_0-auc:0.943894\tvalidation_1-auc:0.641898\n",
      "[8]\tvalidation_0-auc:0.947674\tvalidation_1-auc:0.641579\n",
      "[9]\tvalidation_0-auc:0.951958\tvalidation_1-auc:0.642712\n",
      "[10]\tvalidation_0-auc:0.953071\tvalidation_1-auc:0.640663\n",
      "[11]\tvalidation_0-auc:0.955449\tvalidation_1-auc:0.639448\n",
      "[12]\tvalidation_0-auc:0.956925\tvalidation_1-auc:0.638436\n",
      "[13]\tvalidation_0-auc:0.95936\tvalidation_1-auc:0.639407\n",
      "[14]\tvalidation_0-auc:0.960672\tvalidation_1-auc:0.63744\n",
      "[15]\tvalidation_0-auc:0.960972\tvalidation_1-auc:0.636649\n",
      "[16]\tvalidation_0-auc:0.962412\tvalidation_1-auc:0.637587\n",
      "[17]\tvalidation_0-auc:0.963131\tvalidation_1-auc:0.638776\n",
      "[18]\tvalidation_0-auc:0.963589\tvalidation_1-auc:0.639236\n",
      "[19]\tvalidation_0-auc:0.967606\tvalidation_1-auc:0.639257\n",
      "[20]\tvalidation_0-auc:0.969436\tvalidation_1-auc:0.639405\n",
      "[21]\tvalidation_0-auc:0.970512\tvalidation_1-auc:0.638767\n",
      "[22]\tvalidation_0-auc:0.97158\tvalidation_1-auc:0.638043\n",
      "[23]\tvalidation_0-auc:0.973043\tvalidation_1-auc:0.63892\n",
      "[24]\tvalidation_0-auc:0.973686\tvalidation_1-auc:0.639095\n",
      "[25]\tvalidation_0-auc:0.974992\tvalidation_1-auc:0.638832\n",
      "[26]\tvalidation_0-auc:0.975753\tvalidation_1-auc:0.637656\n",
      "[27]\tvalidation_0-auc:0.976582\tvalidation_1-auc:0.637995\n",
      "[28]\tvalidation_0-auc:0.978426\tvalidation_1-auc:0.638516\n",
      "[29]\tvalidation_0-auc:0.979173\tvalidation_1-auc:0.638535\n",
      "[30]\tvalidation_0-auc:0.980162\tvalidation_1-auc:0.638635\n",
      "[31]\tvalidation_0-auc:0.980614\tvalidation_1-auc:0.63805\n",
      "Stopping. Best iteration:\n",
      "[1]\tvalidation_0-auc:0.919459\tvalidation_1-auc:0.660875\n",
      "\n"
     ]
    },
    {
     "data": {
      "text/plain": [
       "XGBClassifier(base_score=0.5, booster='gbtree', colsample_bylevel=1,\n",
       "              colsample_bynode=1, colsample_bytree=1, gamma=0.1,\n",
       "              learning_rate=0.1, max_delta_step=0, max_depth=7,\n",
       "              min_child_weight=5, missing=None, n_estimators=100, n_jobs=1,\n",
       "              nthread=None, objective='binary:logistic', random_state=0,\n",
       "              reg_alpha=0, reg_lambda=1, scale_pos_weight=1, seed=42,\n",
       "              silent=True, subsample=1, verbosity=1)"
      ]
     },
     "execution_count": 53,
     "metadata": {},
     "output_type": "execute_result"
    }
   ],
   "source": [
    "eval_set = [(X_train_upsamp, Y_train_upsamp), (X_valid, Y_valid)]\n",
    "model = xgb.XGBClassifier(learning_rate = 0.1,\\\n",
    "                                  max_depth = 7,\\\n",
    "                                  min_child_weight = 5,\\\n",
    "                                  objective = 'binary:logistic',\\\n",
    "                                  seed = 42,\\\n",
    "                                  gamma = 0.1,\\\n",
    "                                  silent = True)\n",
    "model.fit(X_train_upsamp, Y_train_upsamp, eval_set=eval_set,\\\n",
    "                    eval_metric=\"auc\", verbose=True, early_stopping_rounds=30)"
   ]
  },
  {
   "cell_type": "code",
   "execution_count": 54,
   "metadata": {
    "ExecuteTime": {
     "end_time": "2019-09-11T02:05:18.215191Z",
     "start_time": "2019-09-11T02:05:17.896270Z"
    }
   },
   "outputs": [
    {
     "data": {
      "image/png": "[encoded data removed]",
      "text/plain": [
       "<Figure size 720x720 with 2 Axes>"
      ]
     },
     "metadata": {
      "needs_background": "light"
     },
     "output_type": "display_data"
    }
   ],
   "source": [
    "# confusion marix for thge validation set\n",
    "valid_pred = model.predict(X_valid, ntree_limit=model.best_ntree_limit)\n",
    "cm = sk.metrics.confusion_matrix(Y_valid, valid_pred)\n",
    "\n",
    "fig, ax= plt.subplots(figsize=(10,10))\n",
    "sb.heatmap(cm, annot=True, fmt='g', ax = ax); #annot=True to annotate cells\n",
    "\n",
    "# labels, title and ticks\n",
    "ax.set_xlabel('Predicted labels');\n",
    "ax.set_ylabel('True labels'); \n",
    "ax.set_title('Confusion Matrix'); \n",
    "ax.xaxis.set_ticklabels(['No Purchase', 'Made Purchase']); \n",
    "ax.yaxis.set_ticklabels(['No Purchase', 'Made Purchase']);"
   ]
  },
  {
   "cell_type": "code",
   "execution_count": 55,
   "metadata": {
    "ExecuteTime": {
     "end_time": "2019-09-11T02:05:37.371556Z",
     "start_time": "2019-09-11T02:05:37.360747Z"
    }
   },
   "outputs": [],
   "source": [
    "def promotion_strategy(df):\n",
    "    '''\n",
    "    INPUT \n",
    "    df - a dataframe with *only* the columns V1 - V7 (same as train_data)\n",
    "\n",
    "    OUTPUT\n",
    "    promotion_df - np.array with the values\n",
    "                   'Yes' or 'No' related to whether or not an \n",
    "                   individual should recieve a promotion \n",
    "                   should be the length of df.shape[0]\n",
    "                \n",
    "    Ex:\n",
    "    INPUT: df\n",
    "    \n",
    "    V1\tV2\t  V3\tV4\tV5\tV6\tV7\n",
    "    2\t30\t-1.1\t1\t1\t3\t2\n",
    "    3\t32\t-0.6\t2\t3\t2\t2\n",
    "    2\t30\t0.13\t1\t1\t4\t2\n",
    "    \n",
    "    OUTPUT: promotion\n",
    "    \n",
    "    array(['Yes', 'Yes', 'No'])\n",
    "    indicating the first two users would recieve the promotion and \n",
    "    the last should not.\n",
    "    '''\n",
    "    test = df\n",
    "    \n",
    "    # Fit a model with treatment = 1 for all data points\n",
    "    test['treatment'] = 1.0\n",
    "    preds_treat = model.predict_proba(test, ntree_limit=model.best_ntree_limit)\n",
    "    \n",
    "    # Fit a model with treatment = 0 for all data points\n",
    "    test['treatment'] = 0.0\n",
    "    preds_cont = model.predict_proba(test, ntree_limit=model.best_ntree_limit)\n",
    "    \n",
    "    lift = preds_treat[:,1] - preds_cont[:,1]\n",
    "    \n",
    "    promotion = []\n",
    "    \n",
    "    for prob in lift:\n",
    "        if prob > 0:\n",
    "            promotion.append('Yes')\n",
    "        else:\n",
    "            promotion.append('No')\n",
    "\n",
    "    promotion = np.array(promotion)\n",
    "    \n",
    "    return promotion"
   ]
  },
  {
   "cell_type": "code",
   "execution_count": 58,
   "metadata": {
    "ExecuteTime": {
     "end_time": "2019-09-11T02:06:19.801630Z",
     "start_time": "2019-09-11T02:06:19.563103Z"
    }
   },
   "outputs": [
    {
     "name": "stdout",
     "output_type": "stream",
     "text": [
      "Nice job!  See how well your strategy worked on our test data below!\n",
      "\n",
      "Your irr with this strategy is 0.0154.\n",
      "\n",
      "Your nir with this strategy is 42.60.\n",
      "We came up with a model with an irr of 0.0188 and an nir of 189.45 on the test set.\n",
      "\n",
      " How did you do?\n"
     ]
    },
    {
     "name": "stderr",
     "output_type": "stream",
     "text": [
      "/Users/francis/miniconda3/envs/py36/lib/python3.6/site-packages/ipykernel_launcher.py:29: SettingWithCopyWarning: \n",
      "A value is trying to be set on a copy of a slice from a DataFrame.\n",
      "Try using .loc[row_indexer,col_indexer] = value instead\n",
      "\n",
      "See the caveats in the documentation: http://pandas.pydata.org/pandas-docs/stable/user_guide/indexing.html#returning-a-view-versus-a-copy\n",
      "/Users/francis/miniconda3/envs/py36/lib/python3.6/site-packages/ipykernel_launcher.py:33: SettingWithCopyWarning: \n",
      "A value is trying to be set on a copy of a slice from a DataFrame.\n",
      "Try using .loc[row_indexer,col_indexer] = value instead\n",
      "\n",
      "See the caveats in the documentation: http://pandas.pydata.org/pandas-docs/stable/user_guide/indexing.html#returning-a-view-versus-a-copy\n"
     ]
    }
   ],
   "source": [
    "# This will test your results, and provide you back some information \n",
    "# on how well your promotion_strategy will work in practice\n",
    "\n",
    "test_results(promotion_strategy);"
   ]
  },
  {
   "cell_type": "markdown",
   "metadata": {},
   "source": [
    "### Model 4: Four Quadrant Method\n",
    "\n",
    "Like model 3, this approach is first suggested by Victor Lo in the [presentation](https://www.slideshare.net/odsc/victor-lomachinelearningpresentation). It suggested designing a model to predict an individual's probability of being in any of the 4 groups: TR, CR, TN, CN.\n",
    "\n",
    "TR: Treatment and Responded. Basically received promotion and made a purchase CR: Control and Responded. Did not receive a promotion but made a purchase TN: Treatment and No Response. Received promotion but made no purchase CN: Control and No Response. Did not receive a promotion and made no purchase\n",
    "\n",
    "If an individual's TR probability is the highest among the four groups, it is likely that we will benefit by sending the individual a promotion to induce him or her to make a purchase.In other words, if for an individual:\n",
    "\n",
    "![$$ max[P(TR), P(CR), P(TN), P(CN)] = P(TR)$$](https://render.githubusercontent.com/render/math?math=max%5BP%28TR%29%2C%20P%28CR%29%2C%20P%28TN%29%2C%20P%28CN%29%5D%20%3D%20P%28TR%29&mode=display)\n",
    "\n",
    "we should send a promotion.\n",
    "\n",
    "This model achieved an IRR of 1.56\\% and NLR of -\\$0.30 on the validation set, and an IRR of 1.55\\% and NLR of \\\\$5.90 on the test set. This model's performance among the validation and test set is relatively stable, but it certainly did not generate very favourable results. Still, it does seem to produce a small positive NLR on the test set.\n",
    "\n",
    "Alternative models, feature generation, and upsampling techniques can be tried to improve the results.\n"
   ]
  },
  {
   "cell_type": "code",
   "execution_count": 59,
   "metadata": {
    "ExecuteTime": {
     "end_time": "2019-09-11T02:08:39.436871Z",
     "start_time": "2019-09-11T02:08:39.283027Z"
    }
   },
   "outputs": [],
   "source": [
    "train_data = pd.read_csv('./training.csv')\n",
    "test_data = pd.read_csv('./Test.csv')"
   ]
  },
  {
   "cell_type": "code",
   "execution_count": 60,
   "metadata": {
    "ExecuteTime": {
     "end_time": "2019-09-11T02:09:09.567747Z",
     "start_time": "2019-09-11T02:08:51.755041Z"
    }
   },
   "outputs": [
    {
     "data": {
      "text/html": [
       "<div>\n",
       "<style scoped>\n",
       "    .dataframe tbody tr th:only-of-type {\n",
       "        vertical-align: middle;\n",
       "    }\n",
       "\n",
       "    .dataframe tbody tr th {\n",
       "        vertical-align: top;\n",
       "    }\n",
       "\n",
       "    .dataframe thead th {\n",
       "        text-align: right;\n",
       "    }\n",
       "</style>\n",
       "<table border=\"1\" class=\"dataframe\">\n",
       "  <thead>\n",
       "    <tr style=\"text-align: right;\">\n",
       "      <th></th>\n",
       "      <th>ID</th>\n",
       "      <th>Promotion</th>\n",
       "      <th>purchase</th>\n",
       "      <th>V1</th>\n",
       "      <th>V2</th>\n",
       "      <th>V3</th>\n",
       "      <th>V4</th>\n",
       "      <th>V5</th>\n",
       "      <th>V6</th>\n",
       "      <th>V7</th>\n",
       "      <th>target</th>\n",
       "    </tr>\n",
       "  </thead>\n",
       "  <tbody>\n",
       "    <tr>\n",
       "      <td>0</td>\n",
       "      <td>1</td>\n",
       "      <td>No</td>\n",
       "      <td>0</td>\n",
       "      <td>2</td>\n",
       "      <td>30.443518</td>\n",
       "      <td>-1.165083</td>\n",
       "      <td>1</td>\n",
       "      <td>1</td>\n",
       "      <td>3</td>\n",
       "      <td>2</td>\n",
       "      <td>3</td>\n",
       "    </tr>\n",
       "    <tr>\n",
       "      <td>1</td>\n",
       "      <td>3</td>\n",
       "      <td>No</td>\n",
       "      <td>0</td>\n",
       "      <td>3</td>\n",
       "      <td>32.159350</td>\n",
       "      <td>-0.645617</td>\n",
       "      <td>2</td>\n",
       "      <td>3</td>\n",
       "      <td>2</td>\n",
       "      <td>2</td>\n",
       "      <td>3</td>\n",
       "    </tr>\n",
       "    <tr>\n",
       "      <td>2</td>\n",
       "      <td>4</td>\n",
       "      <td>No</td>\n",
       "      <td>0</td>\n",
       "      <td>2</td>\n",
       "      <td>30.431659</td>\n",
       "      <td>0.133583</td>\n",
       "      <td>1</td>\n",
       "      <td>1</td>\n",
       "      <td>4</td>\n",
       "      <td>2</td>\n",
       "      <td>3</td>\n",
       "    </tr>\n",
       "    <tr>\n",
       "      <td>3</td>\n",
       "      <td>5</td>\n",
       "      <td>No</td>\n",
       "      <td>0</td>\n",
       "      <td>0</td>\n",
       "      <td>26.588914</td>\n",
       "      <td>-0.212728</td>\n",
       "      <td>2</td>\n",
       "      <td>1</td>\n",
       "      <td>4</td>\n",
       "      <td>2</td>\n",
       "      <td>3</td>\n",
       "    </tr>\n",
       "    <tr>\n",
       "      <td>4</td>\n",
       "      <td>8</td>\n",
       "      <td>Yes</td>\n",
       "      <td>0</td>\n",
       "      <td>3</td>\n",
       "      <td>28.044332</td>\n",
       "      <td>-0.385883</td>\n",
       "      <td>1</td>\n",
       "      <td>1</td>\n",
       "      <td>2</td>\n",
       "      <td>2</td>\n",
       "      <td>2</td>\n",
       "    </tr>\n",
       "  </tbody>\n",
       "</table>\n",
       "</div>"
      ],
      "text/plain": [
       "   ID Promotion  purchase  V1         V2        V3  V4  V5  V6  V7  target\n",
       "0   1        No         0   2  30.443518 -1.165083   1   1   3   2       3\n",
       "1   3        No         0   3  32.159350 -0.645617   2   3   2   2       3\n",
       "2   4        No         0   2  30.431659  0.133583   1   1   4   2       3\n",
       "3   5        No         0   0  26.588914 -0.212728   2   1   4   2       3\n",
       "4   8       Yes         0   3  28.044332 -0.385883   1   1   2   2       2"
      ]
     },
     "execution_count": 60,
     "metadata": {},
     "output_type": "execute_result"
    }
   ],
   "source": [
    "target = []\n",
    "for index, row in train_data.iterrows():\n",
    "    if (row['Promotion'] == \"Yes\") & (row['purchase'] == 1):\n",
    "        # TR group\n",
    "        target.append(0)\n",
    "    elif (row['Promotion'] == \"No\") & (row['purchase'] == 1):\n",
    "        # CR group\n",
    "        target.append(1)\n",
    "    elif (row['Promotion'] == \"Yes\") & (row['purchase'] == 0):\n",
    "        # TN group\n",
    "        target.append(2)\n",
    "    else: #CN group\n",
    "        target.append(3)\n",
    "\n",
    "train_data['target'] = target\n",
    "train_data.head()"
   ]
  },
  {
   "cell_type": "code",
   "execution_count": 61,
   "metadata": {
    "ExecuteTime": {
     "end_time": "2019-09-11T02:09:14.124939Z",
     "start_time": "2019-09-11T02:09:14.078920Z"
    }
   },
   "outputs": [],
   "source": [
    "train, valid = sk.model_selection.train_test_split(train_data, test_size=0.2,random_state=42)\n",
    "\n",
    "features = ['V1', 'V2', 'V3', 'V4', 'V5', 'V6', 'V7']\n",
    "\n",
    "Y_train = train['target']\n",
    "X_train = train[features]\n",
    "\n",
    "Y_valid = valid['target']\n",
    "X_valid = valid[features]"
   ]
  },
  {
   "cell_type": "code",
   "execution_count": 62,
   "metadata": {
    "ExecuteTime": {
     "end_time": "2019-09-11T02:09:37.843827Z",
     "start_time": "2019-09-11T02:09:37.832287Z"
    }
   },
   "outputs": [
    {
     "data": {
      "text/plain": [
       "3    33444\n",
       "2    33351\n",
       "0      580\n",
       "1      252\n",
       "Name: target, dtype: int64"
      ]
     },
     "execution_count": 62,
     "metadata": {},
     "output_type": "execute_result"
    }
   ],
   "source": [
    "Y_train.value_counts()"
   ]
  },
  {
   "cell_type": "code",
   "execution_count": 63,
   "metadata": {
    "ExecuteTime": {
     "end_time": "2019-09-11T02:09:50.647415Z",
     "start_time": "2019-09-11T02:09:49.250330Z"
    }
   },
   "outputs": [
    {
     "data": {
      "text/plain": [
       "3    33444\n",
       "2    33444\n",
       "1    33444\n",
       "0    33444\n",
       "dtype: int64"
      ]
     },
     "execution_count": 63,
     "metadata": {},
     "output_type": "execute_result"
    }
   ],
   "source": [
    "# up sample with SMOTE\n",
    "sm = SMOTE({0:33444, 1:33444, 2:33444, 3:33444}, random_state=42)\n",
    "X_train_upsamp, Y_train_upsamp = sm.fit_sample(X_train, Y_train)\n",
    "    \n",
    "X_train_upsamp = pd.DataFrame(X_train_upsamp, columns=features)\n",
    "\n",
    "Y_train_upsamp = pd.Series(Y_train_upsamp)\n",
    "Y_train_upsamp.value_counts()"
   ]
  },
  {
   "cell_type": "code",
   "execution_count": 64,
   "metadata": {
    "ExecuteTime": {
     "end_time": "2019-09-11T02:09:59.199786Z",
     "start_time": "2019-09-11T02:09:59.181266Z"
    }
   },
   "outputs": [
    {
     "data": {
      "text/html": [
       "<div>\n",
       "<style scoped>\n",
       "    .dataframe tbody tr th:only-of-type {\n",
       "        vertical-align: middle;\n",
       "    }\n",
       "\n",
       "    .dataframe tbody tr th {\n",
       "        vertical-align: top;\n",
       "    }\n",
       "\n",
       "    .dataframe thead th {\n",
       "        text-align: right;\n",
       "    }\n",
       "</style>\n",
       "<table border=\"1\" class=\"dataframe\">\n",
       "  <thead>\n",
       "    <tr style=\"text-align: right;\">\n",
       "      <th></th>\n",
       "      <th>V1</th>\n",
       "      <th>V2</th>\n",
       "      <th>V3</th>\n",
       "      <th>V4</th>\n",
       "      <th>V5</th>\n",
       "      <th>V6</th>\n",
       "      <th>V7</th>\n",
       "    </tr>\n",
       "  </thead>\n",
       "  <tbody>\n",
       "    <tr>\n",
       "      <td>0</td>\n",
       "      <td>3.0</td>\n",
       "      <td>34.470493</td>\n",
       "      <td>-1.078506</td>\n",
       "      <td>1.0</td>\n",
       "      <td>1.0</td>\n",
       "      <td>1.0</td>\n",
       "      <td>2.0</td>\n",
       "    </tr>\n",
       "    <tr>\n",
       "      <td>1</td>\n",
       "      <td>1.0</td>\n",
       "      <td>28.065819</td>\n",
       "      <td>-1.165083</td>\n",
       "      <td>1.0</td>\n",
       "      <td>1.0</td>\n",
       "      <td>3.0</td>\n",
       "      <td>1.0</td>\n",
       "    </tr>\n",
       "    <tr>\n",
       "      <td>2</td>\n",
       "      <td>1.0</td>\n",
       "      <td>27.142590</td>\n",
       "      <td>-1.511395</td>\n",
       "      <td>1.0</td>\n",
       "      <td>3.0</td>\n",
       "      <td>3.0</td>\n",
       "      <td>2.0</td>\n",
       "    </tr>\n",
       "    <tr>\n",
       "      <td>3</td>\n",
       "      <td>3.0</td>\n",
       "      <td>28.782344</td>\n",
       "      <td>-1.078506</td>\n",
       "      <td>1.0</td>\n",
       "      <td>1.0</td>\n",
       "      <td>1.0</td>\n",
       "      <td>2.0</td>\n",
       "    </tr>\n",
       "    <tr>\n",
       "      <td>4</td>\n",
       "      <td>2.0</td>\n",
       "      <td>39.605508</td>\n",
       "      <td>-0.645617</td>\n",
       "      <td>2.0</td>\n",
       "      <td>3.0</td>\n",
       "      <td>1.0</td>\n",
       "      <td>2.0</td>\n",
       "    </tr>\n",
       "  </tbody>\n",
       "</table>\n",
       "</div>"
      ],
      "text/plain": [
       "    V1         V2        V3   V4   V5   V6   V7\n",
       "0  3.0  34.470493 -1.078506  1.0  1.0  1.0  2.0\n",
       "1  1.0  28.065819 -1.165083  1.0  1.0  3.0  1.0\n",
       "2  1.0  27.142590 -1.511395  1.0  3.0  3.0  2.0\n",
       "3  3.0  28.782344 -1.078506  1.0  1.0  1.0  2.0\n",
       "4  2.0  39.605508 -0.645617  2.0  3.0  1.0  2.0"
      ]
     },
     "execution_count": 64,
     "metadata": {},
     "output_type": "execute_result"
    }
   ],
   "source": [
    "X_train_upsamp.head()"
   ]
  },
  {
   "cell_type": "code",
   "execution_count": 66,
   "metadata": {
    "ExecuteTime": {
     "end_time": "2019-09-11T02:11:56.362108Z",
     "start_time": "2019-09-11T02:10:30.916537Z"
    }
   },
   "outputs": [
    {
     "name": "stdout",
     "output_type": "stream",
     "text": [
      "[0]\tvalidation_0-mlogloss:1.3395\tvalidation_1-mlogloss:1.35543\n",
      "Multiple eval metrics have been passed: 'validation_1-mlogloss' will be used for early stopping.\n",
      "\n",
      "Will train until validation_1-mlogloss hasn't improved in 30 rounds.\n",
      "[1]\tvalidation_0-mlogloss:1.29846\tvalidation_1-mlogloss:1.32798\n",
      "[2]\tvalidation_0-mlogloss:1.26209\tvalidation_1-mlogloss:1.30372\n",
      "[3]\tvalidation_0-mlogloss:1.22937\tvalidation_1-mlogloss:1.28117\n",
      "[4]\tvalidation_0-mlogloss:1.19964\tvalidation_1-mlogloss:1.26115\n",
      "[5]\tvalidation_0-mlogloss:1.17264\tvalidation_1-mlogloss:1.24234\n",
      "[6]\tvalidation_0-mlogloss:1.14753\tvalidation_1-mlogloss:1.22489\n",
      "[7]\tvalidation_0-mlogloss:1.12461\tvalidation_1-mlogloss:1.20859\n",
      "[8]\tvalidation_0-mlogloss:1.10319\tvalidation_1-mlogloss:1.19387\n",
      "[9]\tvalidation_0-mlogloss:1.08088\tvalidation_1-mlogloss:1.1792\n",
      "[10]\tvalidation_0-mlogloss:1.06144\tvalidation_1-mlogloss:1.16579\n",
      "[11]\tvalidation_0-mlogloss:1.04481\tvalidation_1-mlogloss:1.1538\n",
      "[12]\tvalidation_0-mlogloss:1.02801\tvalidation_1-mlogloss:1.1426\n",
      "[13]\tvalidation_0-mlogloss:1.01268\tvalidation_1-mlogloss:1.13221\n",
      "[14]\tvalidation_0-mlogloss:0.997266\tvalidation_1-mlogloss:1.12212\n",
      "[15]\tvalidation_0-mlogloss:0.983096\tvalidation_1-mlogloss:1.11211\n",
      "[16]\tvalidation_0-mlogloss:0.969134\tvalidation_1-mlogloss:1.10295\n",
      "[17]\tvalidation_0-mlogloss:0.955943\tvalidation_1-mlogloss:1.09363\n",
      "[18]\tvalidation_0-mlogloss:0.946759\tvalidation_1-mlogloss:1.08715\n",
      "[19]\tvalidation_0-mlogloss:0.935403\tvalidation_1-mlogloss:1.07961\n",
      "[20]\tvalidation_0-mlogloss:0.925121\tvalidation_1-mlogloss:1.07285\n",
      "[21]\tvalidation_0-mlogloss:0.913907\tvalidation_1-mlogloss:1.06464\n",
      "[22]\tvalidation_0-mlogloss:0.905851\tvalidation_1-mlogloss:1.0593\n",
      "[23]\tvalidation_0-mlogloss:0.896998\tvalidation_1-mlogloss:1.05348\n",
      "[24]\tvalidation_0-mlogloss:0.888442\tvalidation_1-mlogloss:1.04774\n",
      "[25]\tvalidation_0-mlogloss:0.881328\tvalidation_1-mlogloss:1.04244\n",
      "[26]\tvalidation_0-mlogloss:0.874535\tvalidation_1-mlogloss:1.0376\n",
      "[27]\tvalidation_0-mlogloss:0.867727\tvalidation_1-mlogloss:1.03308\n",
      "[28]\tvalidation_0-mlogloss:0.860521\tvalidation_1-mlogloss:1.02819\n",
      "[29]\tvalidation_0-mlogloss:0.852917\tvalidation_1-mlogloss:1.02327\n",
      "[30]\tvalidation_0-mlogloss:0.845331\tvalidation_1-mlogloss:1.01835\n",
      "[31]\tvalidation_0-mlogloss:0.838481\tvalidation_1-mlogloss:1.01378\n",
      "[32]\tvalidation_0-mlogloss:0.829546\tvalidation_1-mlogloss:1.00826\n",
      "[33]\tvalidation_0-mlogloss:0.823289\tvalidation_1-mlogloss:1.00436\n",
      "[34]\tvalidation_0-mlogloss:0.817546\tvalidation_1-mlogloss:0.999749\n",
      "[35]\tvalidation_0-mlogloss:0.809341\tvalidation_1-mlogloss:0.99482\n",
      "[36]\tvalidation_0-mlogloss:0.804673\tvalidation_1-mlogloss:0.991399\n",
      "[37]\tvalidation_0-mlogloss:0.79807\tvalidation_1-mlogloss:0.987731\n",
      "[38]\tvalidation_0-mlogloss:0.792091\tvalidation_1-mlogloss:0.983778\n",
      "[39]\tvalidation_0-mlogloss:0.786967\tvalidation_1-mlogloss:0.980321\n",
      "[40]\tvalidation_0-mlogloss:0.779515\tvalidation_1-mlogloss:0.975877\n",
      "[41]\tvalidation_0-mlogloss:0.774087\tvalidation_1-mlogloss:0.972276\n",
      "[42]\tvalidation_0-mlogloss:0.768422\tvalidation_1-mlogloss:0.968662\n",
      "[43]\tvalidation_0-mlogloss:0.764122\tvalidation_1-mlogloss:0.965669\n",
      "[44]\tvalidation_0-mlogloss:0.759445\tvalidation_1-mlogloss:0.962317\n",
      "[45]\tvalidation_0-mlogloss:0.754804\tvalidation_1-mlogloss:0.959425\n",
      "[46]\tvalidation_0-mlogloss:0.750157\tvalidation_1-mlogloss:0.95656\n",
      "[47]\tvalidation_0-mlogloss:0.745052\tvalidation_1-mlogloss:0.953594\n",
      "[48]\tvalidation_0-mlogloss:0.740878\tvalidation_1-mlogloss:0.951002\n",
      "[49]\tvalidation_0-mlogloss:0.736905\tvalidation_1-mlogloss:0.948408\n",
      "[50]\tvalidation_0-mlogloss:0.732539\tvalidation_1-mlogloss:0.945556\n",
      "[51]\tvalidation_0-mlogloss:0.729362\tvalidation_1-mlogloss:0.943455\n",
      "[52]\tvalidation_0-mlogloss:0.725227\tvalidation_1-mlogloss:0.940623\n",
      "[53]\tvalidation_0-mlogloss:0.719477\tvalidation_1-mlogloss:0.937613\n",
      "[54]\tvalidation_0-mlogloss:0.71666\tvalidation_1-mlogloss:0.935772\n",
      "[55]\tvalidation_0-mlogloss:0.711467\tvalidation_1-mlogloss:0.932621\n",
      "[56]\tvalidation_0-mlogloss:0.708219\tvalidation_1-mlogloss:0.930846\n",
      "[57]\tvalidation_0-mlogloss:0.70451\tvalidation_1-mlogloss:0.928815\n",
      "[58]\tvalidation_0-mlogloss:0.699575\tvalidation_1-mlogloss:0.926361\n",
      "[59]\tvalidation_0-mlogloss:0.696239\tvalidation_1-mlogloss:0.924239\n",
      "[60]\tvalidation_0-mlogloss:0.692711\tvalidation_1-mlogloss:0.92217\n",
      "[61]\tvalidation_0-mlogloss:0.689547\tvalidation_1-mlogloss:0.9202\n",
      "[62]\tvalidation_0-mlogloss:0.68686\tvalidation_1-mlogloss:0.918527\n",
      "[63]\tvalidation_0-mlogloss:0.683502\tvalidation_1-mlogloss:0.916665\n",
      "[64]\tvalidation_0-mlogloss:0.680124\tvalidation_1-mlogloss:0.914343\n",
      "[65]\tvalidation_0-mlogloss:0.677676\tvalidation_1-mlogloss:0.912674\n",
      "[66]\tvalidation_0-mlogloss:0.675424\tvalidation_1-mlogloss:0.911167\n",
      "[67]\tvalidation_0-mlogloss:0.673068\tvalidation_1-mlogloss:0.909752\n",
      "[68]\tvalidation_0-mlogloss:0.67067\tvalidation_1-mlogloss:0.908179\n",
      "[69]\tvalidation_0-mlogloss:0.667583\tvalidation_1-mlogloss:0.906703\n",
      "[70]\tvalidation_0-mlogloss:0.664963\tvalidation_1-mlogloss:0.905221\n",
      "[71]\tvalidation_0-mlogloss:0.661933\tvalidation_1-mlogloss:0.903394\n",
      "[72]\tvalidation_0-mlogloss:0.659976\tvalidation_1-mlogloss:0.902006\n",
      "[73]\tvalidation_0-mlogloss:0.657165\tvalidation_1-mlogloss:0.900604\n",
      "[74]\tvalidation_0-mlogloss:0.654801\tvalidation_1-mlogloss:0.899189\n",
      "[75]\tvalidation_0-mlogloss:0.652274\tvalidation_1-mlogloss:0.89774\n",
      "[76]\tvalidation_0-mlogloss:0.649835\tvalidation_1-mlogloss:0.896605\n",
      "[77]\tvalidation_0-mlogloss:0.647255\tvalidation_1-mlogloss:0.895243\n",
      "[78]\tvalidation_0-mlogloss:0.645341\tvalidation_1-mlogloss:0.893977\n",
      "[79]\tvalidation_0-mlogloss:0.643242\tvalidation_1-mlogloss:0.893006\n",
      "[80]\tvalidation_0-mlogloss:0.6401\tvalidation_1-mlogloss:0.891507\n",
      "[81]\tvalidation_0-mlogloss:0.638084\tvalidation_1-mlogloss:0.890391\n",
      "[82]\tvalidation_0-mlogloss:0.636502\tvalidation_1-mlogloss:0.889367\n",
      "[83]\tvalidation_0-mlogloss:0.63333\tvalidation_1-mlogloss:0.888028\n",
      "[84]\tvalidation_0-mlogloss:0.631363\tvalidation_1-mlogloss:0.887011\n",
      "[85]\tvalidation_0-mlogloss:0.628957\tvalidation_1-mlogloss:0.885709\n",
      "[86]\tvalidation_0-mlogloss:0.627369\tvalidation_1-mlogloss:0.884844\n",
      "[87]\tvalidation_0-mlogloss:0.625202\tvalidation_1-mlogloss:0.883794\n",
      "[88]\tvalidation_0-mlogloss:0.623567\tvalidation_1-mlogloss:0.882836\n",
      "[89]\tvalidation_0-mlogloss:0.620824\tvalidation_1-mlogloss:0.881776\n",
      "[90]\tvalidation_0-mlogloss:0.619189\tvalidation_1-mlogloss:0.880852\n",
      "[91]\tvalidation_0-mlogloss:0.61755\tvalidation_1-mlogloss:0.879949\n",
      "[92]\tvalidation_0-mlogloss:0.616237\tvalidation_1-mlogloss:0.87913\n",
      "[93]\tvalidation_0-mlogloss:0.613404\tvalidation_1-mlogloss:0.878075\n",
      "[94]\tvalidation_0-mlogloss:0.610132\tvalidation_1-mlogloss:0.877068\n",
      "[95]\tvalidation_0-mlogloss:0.606687\tvalidation_1-mlogloss:0.875968\n",
      "[96]\tvalidation_0-mlogloss:0.605409\tvalidation_1-mlogloss:0.875112\n",
      "[97]\tvalidation_0-mlogloss:0.602164\tvalidation_1-mlogloss:0.873854\n",
      "[98]\tvalidation_0-mlogloss:0.600939\tvalidation_1-mlogloss:0.873029\n",
      "[99]\tvalidation_0-mlogloss:0.599612\tvalidation_1-mlogloss:0.872298\n"
     ]
    },
    {
     "data": {
      "text/plain": [
       "XGBClassifier(base_score=0.5, booster='gbtree', colsample_bylevel=1,\n",
       "              colsample_bynode=1, colsample_bytree=1, gamma=0.1,\n",
       "              learning_rate=0.1, max_delta_step=0, max_depth=7,\n",
       "              min_child_weight=5, missing=None, n_estimators=100, n_jobs=1,\n",
       "              nthread=None, num_class=4, objective='multi:softprob',\n",
       "              random_state=0, reg_alpha=0, reg_lambda=1, scale_pos_weight=1,\n",
       "              seed=42, silent=True, subsample=1, verbosity=1)"
      ]
     },
     "execution_count": 66,
     "metadata": {},
     "output_type": "execute_result"
    }
   ],
   "source": [
    "eval_set = [(X_train_upsamp, Y_train_upsamp), (X_valid, Y_valid)]\n",
    "model = xgb.XGBClassifier(learning_rate = 0.1,\\\n",
    "                          num_class=4,\\\n",
    "                                  max_depth = 7,\\\n",
    "                                  min_child_weight = 5,\\\n",
    "                                  objective = 'multi:softmax',\\\n",
    "                                  seed = 42,\\\n",
    "                                  gamma = 0.1,\\\n",
    "                                  silent = True)\n",
    "model.fit(X_train_upsamp, Y_train_upsamp, eval_set=eval_set,\\\n",
    "                    eval_metric=\"mlogloss\", verbose=True, early_stopping_rounds=30)"
   ]
  },
  {
   "cell_type": "code",
   "execution_count": 67,
   "metadata": {
    "ExecuteTime": {
     "end_time": "2019-09-11T02:12:13.666946Z",
     "start_time": "2019-09-11T02:12:12.753253Z"
    }
   },
   "outputs": [
    {
     "data": {
      "image/png": "[encoded data removed]",
      "text/plain": [
       "<Figure size 720x720 with 2 Axes>"
      ]
     },
     "metadata": {
      "needs_background": "light"
     },
     "output_type": "display_data"
    }
   ],
   "source": [
    "# confusion marix for thge validation set\n",
    "# Note:\n",
    "# TR: treatment and respond group (received promotion and made purchase)\n",
    "# CR: control and respond group (did not receive promotion but made purchase)\n",
    "# TN: treatment and no respond group (received promotion but did not made purchase)\n",
    "# CR: control and no respond group (did not receive promotion and made no purchase)\n",
    "valid_pred = model.predict(X_valid, ntree_limit=model.best_ntree_limit)\n",
    "cm = sk.metrics.confusion_matrix(Y_valid, valid_pred)\n",
    "\n",
    "fig, ax= plt.subplots(figsize=(10,10))\n",
    "sb.heatmap(cm, annot=True, fmt='g', ax = ax); #annot=True to annotate cells\n",
    "\n",
    "# labels, title and ticks\n",
    "ax.set_xlabel('Predicted labels');\n",
    "ax.set_ylabel('True labels'); \n",
    "ax.set_title('Confusion Matrix'); \n",
    "ax.xaxis.set_ticklabels(['TR', 'CR', 'TN', 'CN']); \n",
    "ax.yaxis.set_ticklabels(['TR', 'CR', 'TN', 'CN']);"
   ]
  },
  {
   "cell_type": "code",
   "execution_count": 68,
   "metadata": {
    "ExecuteTime": {
     "end_time": "2019-09-11T02:12:13.711385Z",
     "start_time": "2019-09-11T02:12:13.705323Z"
    }
   },
   "outputs": [],
   "source": [
    "def promotion_strategy(df):\n",
    "    '''\n",
    "    INPUT \n",
    "    df - a dataframe with *only* the columns V1 - V7 (same as train_data)\n",
    "\n",
    "    OUTPUT\n",
    "    promotion_df - np.array with the values\n",
    "                   'Yes' or 'No' related to whether or not an \n",
    "                   individual should recieve a promotion \n",
    "                   should be the length of df.shape[0]\n",
    "                \n",
    "    Ex:\n",
    "    INPUT: df\n",
    "    \n",
    "    V1\tV2\t  V3\tV4\tV5\tV6\tV7\n",
    "    2\t30\t-1.1\t1\t1\t3\t2\n",
    "    3\t32\t-0.6\t2\t3\t2\t2\n",
    "    2\t30\t0.13\t1\t1\t4\t2\n",
    "    \n",
    "    OUTPUT: promotion\n",
    "    \n",
    "    array(['Yes', 'Yes', 'No'])\n",
    "    indicating the first two users would recieve the promotion and \n",
    "    the last should not.\n",
    "    '''\n",
    "    test = df\n",
    "    \n",
    "    pred = model.predict(test, ntree_limit=model.best_ntree_limit)\n",
    "    \n",
    "    promotion = []\n",
    "    \n",
    "    for pred in pred:\n",
    "        if pred == 0:\n",
    "            promotion.append('Yes')\n",
    "        else:\n",
    "            promotion.append('No')\n",
    "    \n",
    "    promotion = np.array(promotion)\n",
    "    \n",
    "    return promotion"
   ]
  },
  {
   "cell_type": "code",
   "execution_count": 69,
   "metadata": {
    "ExecuteTime": {
     "end_time": "2019-09-11T02:12:16.255156Z",
     "start_time": "2019-09-11T02:12:14.585127Z"
    }
   },
   "outputs": [
    {
     "name": "stdout",
     "output_type": "stream",
     "text": [
      "Nice job!  See how well your strategy worked on our test data below!\n",
      "\n",
      "Your irr with this strategy is 0.0155.\n",
      "\n",
      "Your nir with this strategy is 5.90.\n",
      "We came up with a model with an irr of 0.0188 and an nir of 189.45 on the test set.\n",
      "\n",
      " How did you do?\n"
     ]
    },
    {
     "data": {
      "text/plain": [
       "(0.015464544490973224, 5.900000000000006)"
      ]
     },
     "execution_count": 69,
     "metadata": {},
     "output_type": "execute_result"
    }
   ],
   "source": [
    "# This will test your results, and provide you back some information \n",
    "# on how well your promotion_strategy will work in practice\n",
    "\n",
    "test_results(promotion_strategy)"
   ]
  },
  {
   "cell_type": "code",
   "execution_count": null,
   "metadata": {},
   "outputs": [],
   "source": []
  }
 ],
 "metadata": {
  "kernelspec": {
   "display_name": "Python 3",
   "language": "python",
   "name": "python3"
  },
  "language_info": {
   "codemirror_mode": {
    "name": "ipython",
    "version": 3
   },
   "file_extension": ".py",
   "mimetype": "text/x-python",
   "name": "python",
   "nbconvert_exporter": "python",
   "pygments_lexer": "ipython3",
   "version": "3.6.7"
  },
  "toc": {
   "base_numbering": 1,
   "nav_menu": {},
   "number_sections": true,
   "sideBar": true,
   "skip_h1_title": false,
   "title_cell": "Table of Contents",
   "title_sidebar": "Contents",
   "toc_cell": false,
   "toc_position": {},
   "toc_section_display": true,
   "toc_window_display": true
  }
 },
 "nbformat": 4,
 "nbformat_minor": 2
}
