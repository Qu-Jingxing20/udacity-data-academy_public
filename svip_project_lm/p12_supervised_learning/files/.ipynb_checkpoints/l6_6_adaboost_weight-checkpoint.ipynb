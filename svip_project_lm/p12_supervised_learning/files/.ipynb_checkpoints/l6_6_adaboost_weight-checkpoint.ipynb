{
 "cells": [
  {
   "cell_type": "code",
   "execution_count": 1,
   "metadata": {
    "ExecuteTime": {
     "end_time": "2019-06-20T02:49:21.545881Z",
     "start_time": "2019-06-20T02:49:21.540978Z"
    }
   },
   "outputs": [],
   "source": [
    "# import\n",
    "import numpy"
   ]
  },
  {
   "cell_type": "code",
   "execution_count": 5,
   "metadata": {
    "ExecuteTime": {
     "end_time": "2019-06-20T03:00:04.046612Z",
     "start_time": "2019-06-20T03:00:04.036903Z"
    }
   },
   "outputs": [
    {
     "data": {
      "text/plain": [
       "-0.3010299956639812"
      ]
     },
     "execution_count": 5,
     "metadata": {},
     "output_type": "execute_result"
    }
   ],
   "source": [
    "# log function\n",
    "## log mean ln\n",
    "## test\n",
    "numpy.log(0.5)\n",
    "numpy.log2(0.5)\n",
    "numpy.log10(0.5)"
   ]
  },
  {
   "cell_type": "code",
   "execution_count": 20,
   "metadata": {
    "ExecuteTime": {
     "end_time": "2019-06-20T03:06:36.896721Z",
     "start_time": "2019-06-20T03:06:36.891636Z"
    }
   },
   "outputs": [],
   "source": [
    "# accuracy\n",
    "a1 = 7/8\n",
    "a2 = 4/8\n",
    "a3 = 2/8"
   ]
  },
  {
   "cell_type": "code",
   "execution_count": 9,
   "metadata": {
    "ExecuteTime": {
     "end_time": "2019-06-20T03:02:32.256250Z",
     "start_time": "2019-06-20T03:02:32.250997Z"
    }
   },
   "outputs": [],
   "source": [
    "# build unction\n",
    "def adaweight(x):\n",
    "    return np.log(x/(1-x))"
   ]
  },
  {
   "cell_type": "code",
   "execution_count": 10,
   "metadata": {
    "ExecuteTime": {
     "end_time": "2019-06-20T03:02:32.979662Z",
     "start_time": "2019-06-20T03:02:32.971116Z"
    }
   },
   "outputs": [
    {
     "data": {
      "text/plain": [
       "1.9459101490553132"
      ]
     },
     "execution_count": 10,
     "metadata": {},
     "output_type": "execute_result"
    }
   ],
   "source": [
    "# calclate\n",
    "adaweight(a1)"
   ]
  },
  {
   "cell_type": "code",
   "execution_count": 15,
   "metadata": {
    "ExecuteTime": {
     "end_time": "2019-06-20T03:02:57.600787Z",
     "start_time": "2019-06-20T03:02:57.591233Z"
    }
   },
   "outputs": [
    {
     "data": {
      "text/plain": [
       "0.0"
      ]
     },
     "execution_count": 15,
     "metadata": {},
     "output_type": "execute_result"
    }
   ],
   "source": [
    "adaweight(a2)"
   ]
  },
  {
   "cell_type": "code",
   "execution_count": 21,
   "metadata": {
    "ExecuteTime": {
     "end_time": "2019-06-20T03:06:39.945892Z",
     "start_time": "2019-06-20T03:06:39.936836Z"
    }
   },
   "outputs": [
    {
     "data": {
      "text/plain": [
       "-1.0986122886681098"
      ]
     },
     "execution_count": 21,
     "metadata": {},
     "output_type": "execute_result"
    }
   ],
   "source": [
    "adaweight(a3)"
   ]
  },
  {
   "cell_type": "code",
   "execution_count": null,
   "metadata": {},
   "outputs": [],
   "source": []
  }
 ],
 "metadata": {
  "hide_input": false,
  "kernelspec": {
   "display_name": "Python 3",
   "language": "python",
   "name": "python3"
  },
  "language_info": {
   "codemirror_mode": {
    "name": "ipython",
    "version": 3
   },
   "file_extension": ".py",
   "mimetype": "text/x-python",
   "name": "python",
   "nbconvert_exporter": "python",
   "pygments_lexer": "ipython3",
   "version": "3.6.7"
  },
  "toc": {
   "base_numbering": 1,
   "nav_menu": {},
   "number_sections": true,
   "sideBar": true,
   "skip_h1_title": false,
   "title_cell": "Table of Contents",
   "title_sidebar": "Contents",
   "toc_cell": false,
   "toc_position": {},
   "toc_section_display": true,
   "toc_window_display": false
  },
  "varInspector": {
   "cols": {
    "lenName": 16,
    "lenType": 16,
    "lenVar": 40
   },
   "kernels_config": {
    "python": {
     "delete_cmd_postfix": "",
     "delete_cmd_prefix": "del ",
     "library": "var_list.py",
     "varRefreshCmd": "print(var_dic_list())"
    },
    "r": {
     "delete_cmd_postfix": ") ",
     "delete_cmd_prefix": "rm(",
     "library": "var_list.r",
     "varRefreshCmd": "cat(var_dic_list()) "
    }
   },
   "types_to_exclude": [
    "module",
    "function",
    "builtin_function_or_method",
    "instance",
    "_Feature"
   ],
   "window_display": false
  }
 },
 "nbformat": 4,
 "nbformat_minor": 2
}
