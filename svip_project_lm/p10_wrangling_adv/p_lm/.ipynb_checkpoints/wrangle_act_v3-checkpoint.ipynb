{
 "cells": [
  {
   "cell_type": "markdown",
   "metadata": {
    "hide_input": true
   },
   "source": [
    "# 收集\n",
    "## / import lib"
   ]
  },
  {
   "cell_type": "code",
   "execution_count": 1,
   "metadata": {
    "ExecuteTime": {
     "end_time": "2019-08-12T15:20:18.458233Z",
     "start_time": "2019-08-12T15:20:16.532474Z"
    }
   },
   "outputs": [],
   "source": [
    "# import libs\n",
    "\n",
    "## official libs\n",
    "import pprint as pp\n",
    "import requests\n",
    "\n",
    "## 3rd libs\n",
    "import pandas as pd\n",
    "import numpy as np\n",
    "\n",
    "import matplotlib.pyplot as plt\n",
    "from PIL import Image\n",
    "#通过 install Pillow安装\n",
    "\n",
    "## private libs\n",
    "#包括了一些数据评估的简单功能\n",
    "import wrangling2 as w\n",
    "\n",
    "## paras\n",
    "%matplotlib inline"
   ]
  },
  {
   "cell_type": "markdown",
   "metadata": {},
   "source": [
    "## / display setting"
   ]
  },
  {
   "cell_type": "code",
   "execution_count": 2,
   "metadata": {
    "ExecuteTime": {
     "end_time": "2019-08-12T15:20:18.467247Z",
     "start_time": "2019-08-12T15:20:18.461598Z"
    }
   },
   "outputs": [],
   "source": [
    "# set to show all row and column\n",
    "from IPython.display import display\n",
    "pd.set_option('display.max_rows', None)\n",
    "pd.set_option('display.max_columns', None)\n",
    "#!!!Beware of all long out put!!!\n",
    "#https://stackoverflow.com/questions/27163830/ipython-notebook-pandas-max-allowable-columns"
   ]
  },
  {
   "cell_type": "markdown",
   "metadata": {
    "hide_input": false
   },
   "source": [
    "## / load df"
   ]
  },
  {
   "cell_type": "code",
   "execution_count": 3,
   "metadata": {
    "ExecuteTime": {
     "end_time": "2019-08-12T15:20:19.211636Z",
     "start_time": "2019-08-12T15:20:18.471084Z"
    }
   },
   "outputs": [],
   "source": [
    "# load df\n",
    "## tweet_json 文件\n",
    "## read_jason 有很多参数,可以参考官方文档\n",
    "## 此处要加 lines=True\n",
    "df_api = pd.read_json('tweet_json.txt',lines=True)\n",
    "# https://pandas.pydata.org/pandas-docs/stable/reference/api/pandas.read_json.html"
   ]
  },
  {
   "cell_type": "code",
   "execution_count": 4,
   "metadata": {
    "ExecuteTime": {
     "end_time": "2019-08-12T15:20:19.249918Z",
     "start_time": "2019-08-12T15:20:19.215764Z"
    }
   },
   "outputs": [],
   "source": [
    "## twitter-archive-enhanced 文件\n",
    "df_arc = pd.read_csv('twitter-archive-enhanced.txt')"
   ]
  },
  {
   "cell_type": "code",
   "execution_count": 5,
   "metadata": {
    "ExecuteTime": {
     "end_time": "2019-08-12T15:20:22.204434Z",
     "start_time": "2019-08-12T15:20:19.254175Z"
    }
   },
   "outputs": [],
   "source": [
    "## image-predictions 文件\n",
    "file_url = 'https://raw.githubusercontent.com/udacity/new-dand-advanced-china/master/%E6%95%B0%E6%8D%AE%E6%B8%85%E6%B4%97/WeRateDogs%E9%A1%B9%E7%9B%AE/image-predictions.tsv'\n",
    "r = requests.get(file_url)\n",
    "file_name = 'image-predictions.tsv'\n",
    "open(file_name, 'wb').write(r.content)\n",
    "df_img = pd.read_csv(file_name, sep='\\t')"
   ]
  },
  {
   "cell_type": "markdown",
   "metadata": {},
   "source": [
    "# 评估 - twitt_json\n",
    "## / inspect"
   ]
  },
  {
   "cell_type": "code",
   "execution_count": 6,
   "metadata": {
    "ExecuteTime": {
     "end_time": "2019-08-12T15:20:22.215725Z",
     "start_time": "2019-08-12T15:20:22.207972Z"
    }
   },
   "outputs": [],
   "source": [
    "# pprint, print, display 对比\n",
    "## pprint 相比 print 提供了复杂结构 iterable 的分块输出\n",
    "## pprint 和 print 对复杂结构的耗时较长\n",
    "## display 可以提供相同 pprint 输出, 而且非常快\n",
    "## 对于 jupyter 环境数据科学, pprint 并不是强需要\n",
    "'''\n",
    "data1 = [ (i, { 'a':'A',\n",
    "               'b':'B',\n",
    "               'c':'C',\n",
    "               'd':'D',\n",
    "               'e':'E',\n",
    "               'f':'F',\n",
    "               'g':'G',\n",
    "               'h':'H',\n",
    "               }) for i in range(3)\n",
    "        ]\n",
    "\n",
    "print(data1)\n",
    "\n",
    "import pprint as pp\n",
    "pp.pprint(data1)\n",
    "\n",
    "display(data1)\n",
    "''';"
   ]
  },
  {
   "cell_type": "code",
   "execution_count": 7,
   "metadata": {
    "ExecuteTime": {
     "end_time": "2019-08-12T15:20:22.226469Z",
     "start_time": "2019-08-12T15:20:22.219973Z"
    }
   },
   "outputs": [
    {
     "name": "stdout",
     "output_type": "stream",
     "text": [
      "\n",
      "function list:\n",
      "1 /df/\n",
      "1.1 checkdf(df) - 基准df信息输出\n",
      "1.2 checksample(df,random=42) - 对于列信息很多或者嵌套的,详细输出一个\n",
      "2 /column/\n",
      "2.1 checknest(df,colname) - 嵌套diclike信息输出\n",
      "2.2 dorpcolumn(df,collist) - 删除列\n",
      "2.3 checkvalue(df,list='all') - 检查指定列的value分布\n",
      "\n"
     ]
    }
   ],
   "source": [
    "# check wranling docstring\n",
    "print(w.__doc__)"
   ]
  },
  {
   "cell_type": "markdown",
   "metadata": {},
   "source": [
    "### // check df"
   ]
  },
  {
   "cell_type": "code",
   "execution_count": 8,
   "metadata": {
    "ExecuteTime": {
     "end_time": "2019-08-12T15:20:22.344031Z",
     "start_time": "2019-08-12T15:20:22.230769Z"
    }
   },
   "outputs": [
    {
     "name": "stdout",
     "output_type": "stream",
     "text": [
      "---checking start---\n",
      "\n",
      " --------------check shape---------------\n",
      "(2352, 31)\n",
      "\n",
      " ---------------check info---------------\n",
      "<class 'pandas.core.frame.DataFrame'>\n",
      "RangeIndex: 2352 entries, 0 to 2351\n",
      "Data columns (total 31 columns):\n",
      "contributors                     0 non-null float64\n",
      "coordinates                      0 non-null float64\n",
      "created_at                       2352 non-null datetime64[ns]\n",
      "display_text_range               2352 non-null object\n",
      "entities                         2352 non-null object\n",
      "extended_entities                2073 non-null object\n",
      "favorite_count                   2352 non-null int64\n",
      "favorited                        2352 non-null bool\n",
      "full_text                        2352 non-null object\n",
      "geo                              0 non-null float64\n",
      "id                               2352 non-null int64\n",
      "id_str                           2352 non-null int64\n",
      "in_reply_to_screen_name          78 non-null object\n",
      "in_reply_to_status_id            78 non-null float64\n",
      "in_reply_to_status_id_str        78 non-null float64\n",
      "in_reply_to_user_id              78 non-null float64\n",
      "in_reply_to_user_id_str          78 non-null float64\n",
      "is_quote_status                  2352 non-null bool\n",
      "lang                             2352 non-null object\n",
      "place                            1 non-null object\n",
      "possibly_sensitive               2211 non-null float64\n",
      "possibly_sensitive_appealable    2211 non-null float64\n",
      "quoted_status                    28 non-null object\n",
      "quoted_status_id                 29 non-null float64\n",
      "quoted_status_id_str             29 non-null float64\n",
      "retweet_count                    2352 non-null int64\n",
      "retweeted                        2352 non-null bool\n",
      "retweeted_status                 177 non-null object\n",
      "source                           2352 non-null object\n",
      "truncated                        2352 non-null bool\n",
      "user                             2352 non-null object\n",
      "dtypes: bool(4), datetime64[ns](1), float64(11), int64(4), object(11)\n",
      "memory usage: 505.4+ KB\n",
      "None\n",
      "\n",
      " ----------check head and tail-----------\n"
     ]
    },
    {
     "data": {
      "text/html": [
       "<div>\n",
       "<style scoped>\n",
       "    .dataframe tbody tr th:only-of-type {\n",
       "        vertical-align: middle;\n",
       "    }\n",
       "\n",
       "    .dataframe tbody tr th {\n",
       "        vertical-align: top;\n",
       "    }\n",
       "\n",
       "    .dataframe thead th {\n",
       "        text-align: right;\n",
       "    }\n",
       "</style>\n",
       "<table border=\"1\" class=\"dataframe\">\n",
       "  <thead>\n",
       "    <tr style=\"text-align: right;\">\n",
       "      <th></th>\n",
       "      <th>contributors</th>\n",
       "      <th>coordinates</th>\n",
       "      <th>created_at</th>\n",
       "      <th>display_text_range</th>\n",
       "      <th>entities</th>\n",
       "      <th>extended_entities</th>\n",
       "      <th>favorite_count</th>\n",
       "      <th>favorited</th>\n",
       "      <th>full_text</th>\n",
       "      <th>geo</th>\n",
       "      <th>id</th>\n",
       "      <th>id_str</th>\n",
       "      <th>in_reply_to_screen_name</th>\n",
       "      <th>in_reply_to_status_id</th>\n",
       "      <th>in_reply_to_status_id_str</th>\n",
       "      <th>in_reply_to_user_id</th>\n",
       "      <th>in_reply_to_user_id_str</th>\n",
       "      <th>is_quote_status</th>\n",
       "      <th>lang</th>\n",
       "      <th>place</th>\n",
       "      <th>possibly_sensitive</th>\n",
       "      <th>possibly_sensitive_appealable</th>\n",
       "      <th>quoted_status</th>\n",
       "      <th>quoted_status_id</th>\n",
       "      <th>quoted_status_id_str</th>\n",
       "      <th>retweet_count</th>\n",
       "      <th>retweeted</th>\n",
       "      <th>retweeted_status</th>\n",
       "      <th>source</th>\n",
       "      <th>truncated</th>\n",
       "      <th>user</th>\n",
       "    </tr>\n",
       "  </thead>\n",
       "  <tbody>\n",
       "    <tr>\n",
       "      <th>0</th>\n",
       "      <td>NaN</td>\n",
       "      <td>NaN</td>\n",
       "      <td>2017-08-01 16:23:56</td>\n",
       "      <td>[0, 85]</td>\n",
       "      <td>{'hashtags': [], 'symbols': [], 'user_mentions...</td>\n",
       "      <td>{'media': [{'id': 892420639486877696, 'id_str'...</td>\n",
       "      <td>39492</td>\n",
       "      <td>False</td>\n",
       "      <td>This is Phineas. He's a mystical boy. Only eve...</td>\n",
       "      <td>NaN</td>\n",
       "      <td>892420643555336193</td>\n",
       "      <td>892420643555336192</td>\n",
       "      <td>None</td>\n",
       "      <td>NaN</td>\n",
       "      <td>NaN</td>\n",
       "      <td>NaN</td>\n",
       "      <td>NaN</td>\n",
       "      <td>False</td>\n",
       "      <td>en</td>\n",
       "      <td>None</td>\n",
       "      <td>0.0</td>\n",
       "      <td>0.0</td>\n",
       "      <td>NaN</td>\n",
       "      <td>NaN</td>\n",
       "      <td>NaN</td>\n",
       "      <td>8842</td>\n",
       "      <td>False</td>\n",
       "      <td>NaN</td>\n",
       "      <td>&lt;a href=\"http://twitter.com/download/iphone\" r...</td>\n",
       "      <td>False</td>\n",
       "      <td>{'id': 4196983835, 'id_str': '4196983835', 'na...</td>\n",
       "    </tr>\n",
       "  </tbody>\n",
       "</table>\n",
       "</div>"
      ],
      "text/plain": [
       "   contributors  coordinates          created_at display_text_range  \\\n",
       "0           NaN          NaN 2017-08-01 16:23:56            [0, 85]   \n",
       "\n",
       "                                            entities  \\\n",
       "0  {'hashtags': [], 'symbols': [], 'user_mentions...   \n",
       "\n",
       "                                   extended_entities  favorite_count  \\\n",
       "0  {'media': [{'id': 892420639486877696, 'id_str'...           39492   \n",
       "\n",
       "   favorited                                          full_text  geo  \\\n",
       "0      False  This is Phineas. He's a mystical boy. Only eve...  NaN   \n",
       "\n",
       "                   id              id_str in_reply_to_screen_name  \\\n",
       "0  892420643555336193  892420643555336192                    None   \n",
       "\n",
       "   in_reply_to_status_id  in_reply_to_status_id_str  in_reply_to_user_id  \\\n",
       "0                    NaN                        NaN                  NaN   \n",
       "\n",
       "   in_reply_to_user_id_str  is_quote_status lang place  possibly_sensitive  \\\n",
       "0                      NaN            False   en  None                 0.0   \n",
       "\n",
       "   possibly_sensitive_appealable quoted_status  quoted_status_id  \\\n",
       "0                            0.0           NaN               NaN   \n",
       "\n",
       "   quoted_status_id_str  retweet_count  retweeted retweeted_status  \\\n",
       "0                   NaN           8842      False              NaN   \n",
       "\n",
       "                                              source  truncated  \\\n",
       "0  <a href=\"http://twitter.com/download/iphone\" r...      False   \n",
       "\n",
       "                                                user  \n",
       "0  {'id': 4196983835, 'id_str': '4196983835', 'na...  "
      ]
     },
     "metadata": {},
     "output_type": "display_data"
    },
    {
     "data": {
      "text/html": [
       "<div>\n",
       "<style scoped>\n",
       "    .dataframe tbody tr th:only-of-type {\n",
       "        vertical-align: middle;\n",
       "    }\n",
       "\n",
       "    .dataframe tbody tr th {\n",
       "        vertical-align: top;\n",
       "    }\n",
       "\n",
       "    .dataframe thead th {\n",
       "        text-align: right;\n",
       "    }\n",
       "</style>\n",
       "<table border=\"1\" class=\"dataframe\">\n",
       "  <thead>\n",
       "    <tr style=\"text-align: right;\">\n",
       "      <th></th>\n",
       "      <th>contributors</th>\n",
       "      <th>coordinates</th>\n",
       "      <th>created_at</th>\n",
       "      <th>display_text_range</th>\n",
       "      <th>entities</th>\n",
       "      <th>extended_entities</th>\n",
       "      <th>favorite_count</th>\n",
       "      <th>favorited</th>\n",
       "      <th>full_text</th>\n",
       "      <th>geo</th>\n",
       "      <th>id</th>\n",
       "      <th>id_str</th>\n",
       "      <th>in_reply_to_screen_name</th>\n",
       "      <th>in_reply_to_status_id</th>\n",
       "      <th>in_reply_to_status_id_str</th>\n",
       "      <th>in_reply_to_user_id</th>\n",
       "      <th>in_reply_to_user_id_str</th>\n",
       "      <th>is_quote_status</th>\n",
       "      <th>lang</th>\n",
       "      <th>place</th>\n",
       "      <th>possibly_sensitive</th>\n",
       "      <th>possibly_sensitive_appealable</th>\n",
       "      <th>quoted_status</th>\n",
       "      <th>quoted_status_id</th>\n",
       "      <th>quoted_status_id_str</th>\n",
       "      <th>retweet_count</th>\n",
       "      <th>retweeted</th>\n",
       "      <th>retweeted_status</th>\n",
       "      <th>source</th>\n",
       "      <th>truncated</th>\n",
       "      <th>user</th>\n",
       "    </tr>\n",
       "  </thead>\n",
       "  <tbody>\n",
       "    <tr>\n",
       "      <th>2351</th>\n",
       "      <td>NaN</td>\n",
       "      <td>NaN</td>\n",
       "      <td>2015-11-15 22:32:08</td>\n",
       "      <td>[0, 131]</td>\n",
       "      <td>{'hashtags': [], 'symbols': [], 'user_mentions...</td>\n",
       "      <td>{'media': [{'id': 666020881337073664, 'id_str'...</td>\n",
       "      <td>2528</td>\n",
       "      <td>False</td>\n",
       "      <td>Here we have a Japanese Irish Setter. Lost eye...</td>\n",
       "      <td>NaN</td>\n",
       "      <td>666020888022790149</td>\n",
       "      <td>666020888022790144</td>\n",
       "      <td>None</td>\n",
       "      <td>NaN</td>\n",
       "      <td>NaN</td>\n",
       "      <td>NaN</td>\n",
       "      <td>NaN</td>\n",
       "      <td>False</td>\n",
       "      <td>en</td>\n",
       "      <td>None</td>\n",
       "      <td>0.0</td>\n",
       "      <td>0.0</td>\n",
       "      <td>NaN</td>\n",
       "      <td>NaN</td>\n",
       "      <td>NaN</td>\n",
       "      <td>530</td>\n",
       "      <td>False</td>\n",
       "      <td>NaN</td>\n",
       "      <td>&lt;a href=\"http://twitter.com/download/iphone\" r...</td>\n",
       "      <td>False</td>\n",
       "      <td>{'id': 4196983835, 'id_str': '4196983835', 'na...</td>\n",
       "    </tr>\n",
       "  </tbody>\n",
       "</table>\n",
       "</div>"
      ],
      "text/plain": [
       "      contributors  coordinates          created_at display_text_range  \\\n",
       "2351           NaN          NaN 2015-11-15 22:32:08           [0, 131]   \n",
       "\n",
       "                                               entities  \\\n",
       "2351  {'hashtags': [], 'symbols': [], 'user_mentions...   \n",
       "\n",
       "                                      extended_entities  favorite_count  \\\n",
       "2351  {'media': [{'id': 666020881337073664, 'id_str'...            2528   \n",
       "\n",
       "      favorited                                          full_text  geo  \\\n",
       "2351      False  Here we have a Japanese Irish Setter. Lost eye...  NaN   \n",
       "\n",
       "                      id              id_str in_reply_to_screen_name  \\\n",
       "2351  666020888022790149  666020888022790144                    None   \n",
       "\n",
       "      in_reply_to_status_id  in_reply_to_status_id_str  in_reply_to_user_id  \\\n",
       "2351                    NaN                        NaN                  NaN   \n",
       "\n",
       "      in_reply_to_user_id_str  is_quote_status lang place  possibly_sensitive  \\\n",
       "2351                      NaN            False   en  None                 0.0   \n",
       "\n",
       "      possibly_sensitive_appealable quoted_status  quoted_status_id  \\\n",
       "2351                            0.0           NaN               NaN   \n",
       "\n",
       "      quoted_status_id_str  retweet_count  retweeted retweeted_status  \\\n",
       "2351                   NaN            530      False              NaN   \n",
       "\n",
       "                                                 source  truncated  \\\n",
       "2351  <a href=\"http://twitter.com/download/iphone\" r...      False   \n",
       "\n",
       "                                                   user  \n",
       "2351  {'id': 4196983835, 'id_str': '4196983835', 'na...  "
      ]
     },
     "metadata": {},
     "output_type": "display_data"
    },
    {
     "name": "stdout",
     "output_type": "stream",
     "text": [
      "\n",
      " ---------------check null---------------\n",
      "contributors                     2352\n",
      "coordinates                      2352\n",
      "created_at                          0\n",
      "display_text_range                  0\n",
      "entities                            0\n",
      "extended_entities                 279\n",
      "favorite_count                      0\n",
      "favorited                           0\n",
      "full_text                           0\n",
      "geo                              2352\n",
      "id                                  0\n",
      "id_str                              0\n",
      "in_reply_to_screen_name          2274\n",
      "in_reply_to_status_id            2274\n",
      "in_reply_to_status_id_str        2274\n",
      "in_reply_to_user_id              2274\n",
      "in_reply_to_user_id_str          2274\n",
      "is_quote_status                     0\n",
      "lang                                0\n",
      "place                            2351\n",
      "possibly_sensitive                141\n",
      "possibly_sensitive_appealable     141\n",
      "quoted_status                    2324\n",
      "quoted_status_id                 2323\n",
      "quoted_status_id_str             2323\n",
      "retweet_count                       0\n",
      "retweeted                           0\n",
      "retweeted_status                 2175\n",
      "source                              0\n",
      "truncated                           0\n",
      "user                                0\n",
      "dtype: int64\n",
      "---checking complete---\n"
     ]
    }
   ],
   "source": [
    "w.checkdf(df_api)"
   ]
  },
  {
   "cell_type": "code",
   "execution_count": 9,
   "metadata": {
    "ExecuteTime": {
     "end_time": "2019-08-12T15:20:22.372846Z",
     "start_time": "2019-08-12T15:20:22.347910Z"
    }
   },
   "outputs": [
    {
     "name": "stdout",
     "output_type": "stream",
     "text": [
      "---checking sample index: 1960---\n",
      "\n",
      "- columns : contributors----\n",
      "[nan]\n",
      "\n",
      "- columns : coordinates-----\n",
      "[nan]\n",
      "\n",
      "- columns : created_at------\n",
      "['2015-12-06T03:56:12.000000000']\n",
      "\n",
      "- columns : display_text_range\n",
      "[list([0, 117])]\n",
      "\n",
      "- columns : entities--------\n",
      "[{'hashtags': [], 'symbols': [], 'user_mentions': [], 'urls': [], 'media': [{'id': 673350191790034944, 'id_str': '673350191790034944', 'indices': [94, 117], 'media_url': 'http://pbs.twimg.com/media/CVg4bo8WEAANEEE.jpg', 'media_url_https': 'https://pbs.twimg.com/media/CVg4bo8WEAANEEE.jpg', 'url': 'https://t.co/RMv9EAv57u', 'display_url': 'pic.twitter.com/RMv9EAv57u', 'expanded_url': 'https://twitter.com/dog_rates/status/673350198937153538/photo/1', 'type': 'photo', 'sizes': {'small': {'w': 383, 'h': 680, 'resize': 'fit'}, 'thumb': {'w': 150, 'h': 150, 'resize': 'crop'}, 'large': {'w': 576, 'h': 1024, 'resize': 'fit'}, 'medium': {'w': 576, 'h': 1024, 'resize': 'fit'}}}]}]\n",
      "\n",
      "- columns : extended_entities\n",
      "[{'media': [{'id': 673350191790034944, 'id_str': '673350191790034944', 'indices': [94, 117], 'media_url': 'http://pbs.twimg.com/media/CVg4bo8WEAANEEE.jpg', 'media_url_https': 'https://pbs.twimg.com/media/CVg4bo8WEAANEEE.jpg', 'url': 'https://t.co/RMv9EAv57u', 'display_url': 'pic.twitter.com/RMv9EAv57u', 'expanded_url': 'https://twitter.com/dog_rates/status/673350198937153538/photo/1', 'type': 'photo', 'sizes': {'small': {'w': 383, 'h': 680, 'resize': 'fit'}, 'thumb': {'w': 150, 'h': 150, 'resize': 'crop'}, 'large': {'w': 576, 'h': 1024, 'resize': 'fit'}, 'medium': {'w': 576, 'h': 1024, 'resize': 'fit'}}}]}]\n",
      "\n",
      "- columns : favorite_count--\n",
      "[777]\n",
      "\n",
      "- columns : favorited-------\n",
      "[False]\n",
      "\n",
      "- columns : full_text-------\n",
      "[\"This is Bella. She's a Genghis Flopped Canuck. Stuck in trash can. 9/10 not to happy about it https://t.co/RMv9EAv57u\"]\n",
      "\n",
      "- columns : geo-------------\n",
      "[nan]\n",
      "\n",
      "- columns : id--------------\n",
      "[673350198937153538]\n",
      "\n",
      "- columns : id_str----------\n",
      "[673350198937153536]\n",
      "\n",
      "- columns : in_reply_to_screen_name\n",
      "[None]\n",
      "\n",
      "- columns : in_reply_to_status_id\n",
      "[nan]\n",
      "\n",
      "- columns : in_reply_to_status_id_str\n",
      "[nan]\n",
      "\n",
      "- columns : in_reply_to_user_id\n",
      "[nan]\n",
      "\n",
      "- columns : in_reply_to_user_id_str\n",
      "[nan]\n",
      "\n",
      "- columns : is_quote_status-\n",
      "[False]\n",
      "\n",
      "- columns : lang------------\n",
      "['en']\n",
      "\n",
      "- columns : place-----------\n",
      "[None]\n",
      "\n",
      "- columns : possibly_sensitive\n",
      "[0.]\n",
      "\n",
      "- columns : possibly_sensitive_appealable\n",
      "[0.]\n",
      "\n",
      "- columns : quoted_status---\n",
      "[nan]\n",
      "\n",
      "- columns : quoted_status_id\n",
      "[nan]\n",
      "\n",
      "- columns : quoted_status_id_str\n",
      "[nan]\n",
      "\n",
      "- columns : retweet_count---\n",
      "[227]\n",
      "\n",
      "- columns : retweeted-------\n",
      "[False]\n",
      "\n",
      "- columns : retweeted_status\n",
      "[nan]\n",
      "\n",
      "- columns : source----------\n",
      "['<a href=\"http://twitter.com/download/iphone\" rel=\"nofollow\">Twitter for iPhone</a>']\n",
      "\n",
      "- columns : truncated-------\n",
      "[False]\n",
      "\n",
      "- columns : user------------\n",
      "[{'id': 4196983835, 'id_str': '4196983835', 'name': 'SpookyWeRateDogs™', 'screen_name': 'dog_rates', 'location': 'MERCH↴  DM DOGS. WE WILL RATE', 'description': 'Only Legit Source for Professional Dog Ratings STORE: @ShopWeRateDogs | IG, FB & SC: WeRateDogs | MOBILE APP: @GoodDogsGame Business: dogratingtwitter@gmail.com', 'url': 'https://t.co/N7sNNHAEXS', 'entities': {'url': {'urls': [{'url': 'https://t.co/N7sNNHAEXS', 'expanded_url': 'http://weratedogs.com', 'display_url': 'weratedogs.com', 'indices': [0, 23]}]}, 'description': {'urls': []}}, 'protected': False, 'followers_count': 3768960, 'friends_count': 107, 'listed_count': 3333, 'created_at': 'Sun Nov 15 21:41:29 +0000 2015', 'favourites_count': 120161, 'utc_offset': None, 'time_zone': None, 'geo_enabled': True, 'verified': True, 'statuses_count': 5749, 'lang': 'en', 'contributors_enabled': False, 'is_translator': False, 'is_translation_enabled': False, 'profile_background_color': '000000', 'profile_background_image_url': 'http://abs.twimg.com/images/themes/theme1/bg.png', 'profile_background_image_url_https': 'https://abs.twimg.com/images/themes/theme1/bg.png', 'profile_background_tile': False, 'profile_image_url': 'http://pbs.twimg.com/profile_images/914581071265755136/2h5uFpwU_normal.jpg', 'profile_image_url_https': 'https://pbs.twimg.com/profile_images/914581071265755136/2h5uFpwU_normal.jpg', 'profile_banner_url': 'https://pbs.twimg.com/profile_banners/4196983835/1506888628', 'profile_link_color': 'F5ABB5', 'profile_sidebar_border_color': '000000', 'profile_sidebar_fill_color': '000000', 'profile_text_color': '000000', 'profile_use_background_image': False, 'has_extended_profile': True, 'default_profile': False, 'default_profile_image': False, 'following': False, 'follow_request_sent': False, 'notifications': False, 'translator_type': 'none'}]\n",
      "---checking complete---\n"
     ]
    }
   ],
   "source": [
    "w.checksample(df_api)"
   ]
  },
  {
   "cell_type": "code",
   "execution_count": 10,
   "metadata": {
    "ExecuteTime": {
     "end_time": "2019-08-12T15:20:22.389071Z",
     "start_time": "2019-08-12T15:20:22.378639Z"
    }
   },
   "outputs": [
    {
     "name": "stdout",
     "output_type": "stream",
     "text": [
      "\n",
      " ----------- check duplicate ------------\n",
      "\n",
      " ----- Found List like, cant check ------\n",
      "---checking complete---\n"
     ]
    }
   ],
   "source": [
    "w.checkdup(df_api)"
   ]
  },
  {
   "cell_type": "code",
   "execution_count": null,
   "metadata": {},
   "outputs": [],
   "source": []
  },
  {
   "cell_type": "code",
   "execution_count": null,
   "metadata": {},
   "outputs": [],
   "source": []
  },
  {
   "cell_type": "markdown",
   "metadata": {},
   "source": [
    "### // check column"
   ]
  },
  {
   "cell_type": "code",
   "execution_count": 11,
   "metadata": {
    "ExecuteTime": {
     "end_time": "2019-08-12T15:20:22.400757Z",
     "start_time": "2019-08-12T15:20:22.392706Z"
    }
   },
   "outputs": [
    {
     "data": {
      "text/plain": [
       "31"
      ]
     },
     "execution_count": 11,
     "metadata": {},
     "output_type": "execute_result"
    }
   ],
   "source": [
    "# checkvalue 处理不了listlike数据, 根据报错指定list\n",
    "checklist = df_api.columns.tolist()\n",
    "len(checklist)"
   ]
  },
  {
   "cell_type": "code",
   "execution_count": 12,
   "metadata": {
    "ExecuteTime": {
     "end_time": "2019-08-12T15:20:22.411318Z",
     "start_time": "2019-08-12T15:20:22.404692Z"
    }
   },
   "outputs": [],
   "source": [
    "removelist = ['display_text_range','entities','extended_entities','place','quoted_status','retweeted_status','user']"
   ]
  },
  {
   "cell_type": "code",
   "execution_count": 13,
   "metadata": {
    "ExecuteTime": {
     "end_time": "2019-08-12T15:20:22.423585Z",
     "start_time": "2019-08-12T15:20:22.414256Z"
    }
   },
   "outputs": [
    {
     "data": {
      "text/plain": [
       "24"
      ]
     },
     "execution_count": 13,
     "metadata": {},
     "output_type": "execute_result"
    }
   ],
   "source": [
    "for i in removelist:\n",
    "    checklist.remove(i)\n",
    "\n",
    "len(checklist)"
   ]
  },
  {
   "cell_type": "code",
   "execution_count": 14,
   "metadata": {
    "ExecuteTime": {
     "end_time": "2019-08-12T15:20:22.583026Z",
     "start_time": "2019-08-12T15:20:22.426989Z"
    }
   },
   "outputs": [
    {
     "name": "stdout",
     "output_type": "stream",
     "text": [
      "\n",
      "-check column value: --contributors--\n",
      "largest:\n",
      " Series([], Name: contributors, dtype: int64)\n",
      "smallest\n",
      ": Series([], Name: contributors, dtype: int64)\n",
      "\n",
      "-check column value: --coordinates---\n",
      "largest:\n",
      " Series([], Name: coordinates, dtype: int64)\n",
      "smallest\n",
      ": Series([], Name: coordinates, dtype: int64)\n",
      "\n",
      "-check column value: ---created_at---\n",
      "largest:\n",
      " 2016-09-12 15:10:21    1\n",
      "2016-06-03 01:07:16    1\n",
      "2017-01-31 01:27:39    1\n",
      "2016-10-13 23:23:56    1\n",
      "2016-06-27 01:37:04    1\n",
      "Name: created_at, dtype: int64\n",
      "smallest\n",
      ": 2016-09-12 15:10:21    1\n",
      "2016-06-03 01:07:16    1\n",
      "2017-01-31 01:27:39    1\n",
      "2016-10-13 23:23:56    1\n",
      "2016-06-27 01:37:04    1\n",
      "2016-07-26 00:08:05    1\n",
      "2016-01-05 02:30:55    1\n",
      "2016-12-14 17:16:53    1\n",
      "2015-11-27 22:01:40    1\n",
      "2017-03-26 01:38:00    1\n",
      "Name: created_at, dtype: int64\n",
      "\n",
      "-check column value: -favorite_count-\n",
      "largest:\n",
      " 0       177\n",
      "1753      3\n",
      "3548      3\n",
      "689       3\n",
      "1526      3\n",
      "Name: favorite_count, dtype: int64\n",
      "smallest\n",
      ": 1268     1\n",
      "2832     1\n",
      "7407     1\n",
      "40231    1\n",
      "7539     1\n",
      "3319     1\n",
      "3327     1\n",
      "847      1\n",
      "7996     1\n",
      "21874    1\n",
      "Name: favorite_count, dtype: int64\n",
      "\n",
      "-check column value: ---favorited----\n",
      "largest:\n",
      " False    2352\n",
      "Name: favorited, dtype: int64\n",
      "smallest\n",
      ": False    2352\n",
      "Name: favorited, dtype: int64\n",
      "\n",
      "-check column value: ---full_text----\n",
      "largest:\n",
      " Here's a puppo that seems to be on the fence about something haha no but seriously someone help her. 13/10 https://t.co/BxvuXk0UCm                          1\n",
      "When you're having a great time sleeping and your mom comes in and turns on the lights. 10/10 https://t.co/6qYd6BNSPd                                       1\n",
      "This is Rosie. She has a snazzy bow tie and a fin for a tail. Probably super fast underwater. Cool socks 10/10 https://t.co/GO76MdGBs0                      1\n",
      "This is Klevin. He's addicted to sandwiches (yes a hotdog is a sandwich fight me) It's tearing his family apart 9/10 https://t.co/7BkkVNu5pd                1\n",
      "This is Belle. She's never been more pupset. Encountered the worst imaginable type of zone. 12/10 would do anything to cheer pup https://t.co/fGQUzR8w3H    1\n",
      "Name: full_text, dtype: int64\n",
      "smallest\n",
      ": Here's a puppo that seems to be on the fence about something haha no but seriously someone help her. 13/10 https://t.co/BxvuXk0UCm                          1\n",
      "When you're having a great time sleeping and your mom comes in and turns on the lights. 10/10 https://t.co/6qYd6BNSPd                                       1\n",
      "This is Rosie. She has a snazzy bow tie and a fin for a tail. Probably super fast underwater. Cool socks 10/10 https://t.co/GO76MdGBs0                      1\n",
      "This is Klevin. He's addicted to sandwiches (yes a hotdog is a sandwich fight me) It's tearing his family apart 9/10 https://t.co/7BkkVNu5pd                1\n",
      "This is Belle. She's never been more pupset. Encountered the worst imaginable type of zone. 12/10 would do anything to cheer pup https://t.co/fGQUzR8w3H    1\n",
      "This is Tucker. He's very camera shy. 12/10 would give stellar belly rubs to https://t.co/BJRsxuLF1w                                                        1\n",
      "This is Paisley. She really wanted to be president this time. Dreams officially crushed. 13/10 https://t.co/liJGwMp17E                                      1\n",
      "RT @dog_rates: When it's Janet from accounting's birthday but you can't eat the cake cuz it's chocolate. 10/10 hang in there pupper https:/…                1\n",
      "Very fit horned dog here. Looks powerful. Not phased by wind. Great beard. Big enough to ride? 6/10 would cuddle https://t.co/wwwYO9C9kl                    1\n",
      "\"YOU CAN'T HANDLE THE TRUTH\" both 10/10 https://t.co/ZvxdB4i9AG                                                                                             1\n",
      "Name: full_text, dtype: int64\n",
      "\n",
      "-check column value: ------geo-------\n",
      "largest:\n",
      " Series([], Name: geo, dtype: int64)\n",
      "smallest\n",
      ": Series([], Name: geo, dtype: int64)\n",
      "\n",
      "-check column value: -------id-------\n",
      "largest:\n",
      " 749075273010798592    1\n",
      "741099773336379392    1\n",
      "798644042770751489    1\n",
      "825120256414846976    1\n",
      "769212283578875904    1\n",
      "Name: id, dtype: int64\n",
      "smallest\n",
      ": 749075273010798592    1\n",
      "741099773336379392    1\n",
      "798644042770751489    1\n",
      "825120256414846976    1\n",
      "769212283578875904    1\n",
      "700462010979500032    1\n",
      "780858289093574656    1\n",
      "699775878809702401    1\n",
      "880095782870896641    1\n",
      "760521673607086080    1\n",
      "Name: id, dtype: int64\n",
      "\n",
      "-check column value: -----id_str-----\n",
      "largest:\n",
      " 805823200554876928    1\n",
      "674416750885273600    1\n",
      "759923798737051648    1\n",
      "678991772295516160    1\n",
      "818259473185828864    1\n",
      "Name: id_str, dtype: int64\n",
      "smallest\n",
      ": 805823200554876928    1\n",
      "674416750885273600    1\n",
      "759923798737051648    1\n",
      "678991772295516160    1\n",
      "818259473185828864    1\n",
      "809920764300447744    1\n",
      "672877615439593472    1\n",
      "673686845050527744    1\n",
      "670764103623966720    1\n",
      "805487436403003392    1\n",
      "Name: id_str, dtype: int64\n",
      "\n",
      "-check column value: in_reply_to_screen_name\n",
      "largest:\n",
      " dog_rates        47\n",
      "markhoppus        2\n",
      "HistoryInPics     1\n",
      "imgur             1\n",
      "bragg6of8         1\n",
      "Name: in_reply_to_screen_name, dtype: int64\n",
      "smallest\n",
      ": HistoryInPics      1\n",
      "imgur              1\n",
      "bragg6of8          1\n",
      "SkyWilliams        1\n",
      "xianmcguire        1\n",
      "ComplicitOwl       1\n",
      "CommonWhiteGirI    1\n",
      "serial             1\n",
      "ABC7               1\n",
      "JODYHiGHROLLER     1\n",
      "Name: in_reply_to_screen_name, dtype: int64\n",
      "\n",
      "-check column value: in_reply_to_status_id\n",
      "largest:\n",
      " 6.671522e+17    2\n",
      "8.562860e+17    1\n",
      "8.131273e+17    1\n",
      "6.754971e+17    1\n",
      "6.827884e+17    1\n",
      "Name: in_reply_to_status_id, dtype: int64\n",
      "smallest\n",
      ": 8.562860e+17    1\n",
      "8.131273e+17    1\n",
      "6.754971e+17    1\n",
      "6.827884e+17    1\n",
      "8.265984e+17    1\n",
      "6.780211e+17    1\n",
      "6.689207e+17    1\n",
      "6.658147e+17    1\n",
      "6.737159e+17    1\n",
      "7.590995e+17    1\n",
      "Name: in_reply_to_status_id, dtype: int64\n",
      "\n",
      "-check column value: in_reply_to_status_id_str\n",
      "largest:\n",
      " 6.671522e+17    2\n",
      "8.562860e+17    1\n",
      "8.131273e+17    1\n",
      "6.754971e+17    1\n",
      "6.827884e+17    1\n",
      "Name: in_reply_to_status_id_str, dtype: int64\n",
      "smallest\n",
      ": 8.562860e+17    1\n",
      "8.131273e+17    1\n",
      "6.754971e+17    1\n",
      "6.827884e+17    1\n",
      "8.265984e+17    1\n",
      "6.780211e+17    1\n",
      "6.689207e+17    1\n",
      "6.658147e+17    1\n",
      "6.737159e+17    1\n",
      "7.590995e+17    1\n",
      "Name: in_reply_to_status_id_str, dtype: int64\n",
      "\n",
      "-check column value: in_reply_to_user_id\n",
      "largest:\n",
      " 4.196984e+09    47\n",
      "2.195506e+07     2\n",
      "7.305050e+17     1\n",
      "2.916630e+07     1\n",
      "3.105441e+09     1\n",
      "Name: in_reply_to_user_id, dtype: int64\n",
      "smallest\n",
      ": 7.305050e+17    1\n",
      "2.916630e+07    1\n",
      "3.105441e+09    1\n",
      "2.918590e+08    1\n",
      "2.792810e+08    1\n",
      "2.319108e+09    1\n",
      "1.806710e+08    1\n",
      "3.058208e+07    1\n",
      "2.625958e+07    1\n",
      "1.943518e+08    1\n",
      "Name: in_reply_to_user_id, dtype: int64\n",
      "\n",
      "-check column value: in_reply_to_user_id_str\n",
      "largest:\n",
      " 4.196984e+09    47\n",
      "2.195506e+07     2\n",
      "7.305050e+17     1\n",
      "2.916630e+07     1\n",
      "3.105441e+09     1\n",
      "Name: in_reply_to_user_id_str, dtype: int64\n",
      "smallest\n",
      ": 7.305050e+17    1\n",
      "2.916630e+07    1\n",
      "3.105441e+09    1\n",
      "2.918590e+08    1\n",
      "2.792810e+08    1\n",
      "2.319108e+09    1\n",
      "1.806710e+08    1\n",
      "3.058208e+07    1\n",
      "2.625958e+07    1\n",
      "1.943518e+08    1\n",
      "Name: in_reply_to_user_id_str, dtype: int64\n",
      "\n",
      "-check column value: is_quote_status-\n",
      "largest:\n",
      " False    2321\n",
      "True       31\n",
      "Name: is_quote_status, dtype: int64\n",
      "smallest\n",
      ": True       31\n",
      "False    2321\n",
      "Name: is_quote_status, dtype: int64\n",
      "\n",
      "-check column value: ------lang------\n",
      "largest:\n",
      " en     2334\n",
      "und       7\n",
      "in        3\n",
      "nl        3\n",
      "es        1\n",
      "Name: lang, dtype: int64\n",
      "smallest\n",
      ": es        1\n",
      "eu        1\n",
      "ro        1\n",
      "tl        1\n",
      "et        1\n",
      "in        3\n",
      "nl        3\n",
      "und       7\n",
      "en     2334\n",
      "Name: lang, dtype: int64\n",
      "\n",
      "-check column value: possibly_sensitive\n",
      "largest:\n",
      " 0.0    2211\n",
      "Name: possibly_sensitive, dtype: int64\n",
      "smallest\n",
      ": 0.0    2211\n",
      "Name: possibly_sensitive, dtype: int64\n",
      "\n",
      "-check column value: possibly_sensitive_appealable\n",
      "largest:\n",
      " 0.0    2211\n",
      "Name: possibly_sensitive_appealable, dtype: int64\n",
      "smallest\n",
      ": 0.0    2211\n",
      "Name: possibly_sensitive_appealable, dtype: int64\n",
      "\n",
      "-check column value: quoted_status_id\n",
      "largest:\n",
      " 8.340867e+17    1\n",
      "8.413114e+17    1\n",
      "7.061659e+17    1\n",
      "8.860534e+17    1\n",
      "8.464848e+17    1\n",
      "Name: quoted_status_id, dtype: int64\n",
      "smallest\n",
      ": 8.340867e+17    1\n",
      "8.413114e+17    1\n",
      "7.061659e+17    1\n",
      "8.860534e+17    1\n",
      "8.464848e+17    1\n",
      "7.099191e+17    1\n",
      "8.460885e+17    1\n",
      "8.239662e+17    1\n",
      "8.044179e+17    1\n",
      "8.556564e+17    1\n",
      "Name: quoted_status_id, dtype: int64\n",
      "\n",
      "-check column value: quoted_status_id_str\n",
      "largest:\n",
      " 8.340867e+17    1\n",
      "8.413114e+17    1\n",
      "7.061659e+17    1\n",
      "8.860534e+17    1\n",
      "8.464848e+17    1\n",
      "Name: quoted_status_id_str, dtype: int64\n",
      "smallest\n",
      ": 8.340867e+17    1\n",
      "8.413114e+17    1\n",
      "7.061659e+17    1\n",
      "8.860534e+17    1\n",
      "8.464848e+17    1\n",
      "7.099191e+17    1\n",
      "8.460885e+17    1\n",
      "8.239662e+17    1\n",
      "8.044179e+17    1\n",
      "8.556564e+17    1\n",
      "Name: quoted_status_id_str, dtype: int64\n",
      "\n",
      "-check column value: -retweet_count--\n",
      "largest:\n",
      " 1280    5\n",
      "312     5\n",
      "745     5\n",
      "1554    4\n",
      "1103    4\n",
      "Name: retweet_count, dtype: int64\n"
     ]
    },
    {
     "name": "stdout",
     "output_type": "stream",
     "text": [
      "smallest\n",
      ": 3627    1\n",
      "1506    1\n",
      "3107    1\n",
      "7717    1\n",
      "3615    1\n",
      "1022    1\n",
      "5664    1\n",
      "5200    1\n",
      "1574    1\n",
      "1102    1\n",
      "Name: retweet_count, dtype: int64\n",
      "\n",
      "-check column value: ---retweeted----\n",
      "largest:\n",
      " False    2352\n",
      "Name: retweeted, dtype: int64\n",
      "smallest\n",
      ": False    2352\n",
      "Name: retweeted, dtype: int64\n",
      "\n",
      "-check column value: -----source-----\n",
      "largest:\n",
      " <a href=\"http://twitter.com/download/iphone\" rel=\"nofollow\">Twitter for iPhone</a>     2217\n",
      "<a href=\"http://vine.co\" rel=\"nofollow\">Vine - Make a Scene</a>                          91\n",
      "<a href=\"http://twitter.com\" rel=\"nofollow\">Twitter Web Client</a>                       33\n",
      "<a href=\"https://about.twitter.com/products/tweetdeck\" rel=\"nofollow\">TweetDeck</a>      11\n",
      "Name: source, dtype: int64\n",
      "smallest\n",
      ": <a href=\"https://about.twitter.com/products/tweetdeck\" rel=\"nofollow\">TweetDeck</a>      11\n",
      "<a href=\"http://twitter.com\" rel=\"nofollow\">Twitter Web Client</a>                       33\n",
      "<a href=\"http://vine.co\" rel=\"nofollow\">Vine - Make a Scene</a>                          91\n",
      "<a href=\"http://twitter.com/download/iphone\" rel=\"nofollow\">Twitter for iPhone</a>     2217\n",
      "Name: source, dtype: int64\n",
      "\n",
      "-check column value: ---truncated----\n",
      "largest:\n",
      " False    2352\n",
      "Name: truncated, dtype: int64\n",
      "smallest\n",
      ": False    2352\n",
      "Name: truncated, dtype: int64\n",
      "---checking complete---\n"
     ]
    }
   ],
   "source": [
    "w.checkvalue(df_api,checklist)"
   ]
  },
  {
   "cell_type": "code",
   "execution_count": 15,
   "metadata": {
    "ExecuteTime": {
     "end_time": "2019-08-12T15:20:22.615098Z",
     "start_time": "2019-08-12T15:20:22.586960Z"
    }
   },
   "outputs": [
    {
     "name": "stdout",
     "output_type": "stream",
     "text": [
      "\n",
      " // checking nested data: display_text_range //\n",
      "[0, 137]\n",
      "\n",
      " // checking nested data: entities //\n",
      "{'hashtags': [],\n",
      " 'media': [{'display_url': 'pic.twitter.com/uMfhduaate',\n",
      "            'expanded_url': 'https://twitter.com/dog_rates/status/779123168116150273/photo/1',\n",
      "            'id': 779123157194174464,\n",
      "            'id_str': '779123157194174464',\n",
      "            'indices': [80, 103],\n",
      "            'media_url': 'http://pbs.twimg.com/media/CtAAYizW8AAWzBZ.jpg',\n",
      "            'media_url_https': 'https://pbs.twimg.com/media/CtAAYizW8AAWzBZ.jpg',\n",
      "            'sizes': {'large': {'h': 2048, 'resize': 'fit', 'w': 1536},\n",
      "                      'medium': {'h': 1200, 'resize': 'fit', 'w': 900},\n",
      "                      'small': {'h': 680, 'resize': 'fit', 'w': 510},\n",
      "                      'thumb': {'h': 150, 'resize': 'crop', 'w': 150}},\n",
      "            'type': 'photo',\n",
      "            'url': 'https://t.co/uMfhduaate'}],\n",
      " 'symbols': [],\n",
      " 'urls': [],\n",
      " 'user_mentions': []}\n",
      "\n",
      " // checking nested data: extended_entities //\n",
      "{'media': [{'display_url': 'pic.twitter.com/WId5lxNdPH',\n",
      "            'expanded_url': 'https://twitter.com/dog_rates/status/675501075957489664/photo/1',\n",
      "            'id': 675501041127936000,\n",
      "            'id_str': '675501041127936000',\n",
      "            'indices': [96, 119],\n",
      "            'media_url': 'http://pbs.twimg.com/media/CV_cnjHWUAADc-c.jpg',\n",
      "            'media_url_https': 'https://pbs.twimg.com/media/CV_cnjHWUAADc-c.jpg',\n",
      "            'sizes': {'large': {'h': 600, 'resize': 'fit', 'w': 600},\n",
      "                      'medium': {'h': 600, 'resize': 'fit', 'w': 600},\n",
      "                      'small': {'h': 600, 'resize': 'fit', 'w': 600},\n",
      "                      'thumb': {'h': 150, 'resize': 'crop', 'w': 150}},\n",
      "            'source_status_id': 675501075957489664,\n",
      "            'source_status_id_str': '675501075957489664',\n",
      "            'source_user_id': 4196983835,\n",
      "            'source_user_id_str': '4196983835',\n",
      "            'type': 'photo',\n",
      "            'url': 'https://t.co/WId5lxNdPH'}]}\n",
      "\n",
      " // checking nested data: place //\n",
      "None\n",
      "\n",
      " // checking nested data: quoted_status //\n",
      "nan\n",
      "\n",
      " // checking nested data: retweeted_status //\n",
      "nan\n",
      "\n",
      " // checking nested data: user //\n",
      "{'contributors_enabled': False,\n",
      " 'created_at': 'Sun Nov 15 21:41:29 +0000 2015',\n",
      " 'default_profile': False,\n",
      " 'default_profile_image': False,\n",
      " 'description': 'Only Legit Source for Professional Dog Ratings STORE: '\n",
      "                '@ShopWeRateDogs | IG, FB & SC: WeRateDogs | MOBILE APP: '\n",
      "                '@GoodDogsGame Business: dogratingtwitter@gmail.com',\n",
      " 'entities': {'description': {'urls': []},\n",
      "              'url': {'urls': [{'display_url': 'weratedogs.com',\n",
      "                                'expanded_url': 'http://weratedogs.com',\n",
      "                                'indices': [0, 23],\n",
      "                                'url': 'https://t.co/N7sNNHAEXS'}]}},\n",
      " 'favourites_count': 120161,\n",
      " 'follow_request_sent': False,\n",
      " 'followers_count': 3769007,\n",
      " 'following': False,\n",
      " 'friends_count': 107,\n",
      " 'geo_enabled': True,\n",
      " 'has_extended_profile': True,\n",
      " 'id': 4196983835,\n",
      " 'id_str': '4196983835',\n",
      " 'is_translation_enabled': False,\n",
      " 'is_translator': False,\n",
      " 'lang': 'en',\n",
      " 'listed_count': 3349,\n",
      " 'location': 'MERCH↴  DM DOGS. WE WILL RATE',\n",
      " 'name': 'SpookyWeRateDogs™',\n",
      " 'notifications': False,\n",
      " 'profile_background_color': '000000',\n",
      " 'profile_background_image_url': 'http://abs.twimg.com/images/themes/theme1/bg.png',\n",
      " 'profile_background_image_url_https': 'https://abs.twimg.com/images/themes/theme1/bg.png',\n",
      " 'profile_background_tile': False,\n",
      " 'profile_banner_url': 'https://pbs.twimg.com/profile_banners/4196983835/1506888628',\n",
      " 'profile_image_url': 'http://pbs.twimg.com/profile_images/914581071265755136/2h5uFpwU_normal.jpg',\n",
      " 'profile_image_url_https': 'https://pbs.twimg.com/profile_images/914581071265755136/2h5uFpwU_normal.jpg',\n",
      " 'profile_link_color': 'F5ABB5',\n",
      " 'profile_sidebar_border_color': '000000',\n",
      " 'profile_sidebar_fill_color': '000000',\n",
      " 'profile_text_color': '000000',\n",
      " 'profile_use_background_image': False,\n",
      " 'protected': False,\n",
      " 'screen_name': 'dog_rates',\n",
      " 'statuses_count': 5749,\n",
      " 'time_zone': None,\n",
      " 'translator_type': 'none',\n",
      " 'url': 'https://t.co/N7sNNHAEXS',\n",
      " 'utc_offset': None,\n",
      " 'verified': True}\n"
     ]
    }
   ],
   "source": [
    "for i in removelist:\n",
    "    w.checknest(df_api,i)"
   ]
  },
  {
   "cell_type": "markdown",
   "metadata": {},
   "source": [
    "\n",
    "### // drop1"
   ]
  },
  {
   "cell_type": "code",
   "execution_count": 18,
   "metadata": {
    "ExecuteTime": {
     "end_time": "2019-08-12T15:20:22.696205Z",
     "start_time": "2019-08-12T15:20:22.683475Z"
    }
   },
   "outputs": [
    {
     "data": {
      "text/plain": [
       "Index(['contributors', 'coordinates', 'created_at', 'display_text_range',\n",
       "       'entities', 'extended_entities', 'favorite_count', 'favorited',\n",
       "       'full_text', 'geo', 'id', 'id_str', 'in_reply_to_screen_name',\n",
       "       'in_reply_to_status_id', 'in_reply_to_status_id_str',\n",
       "       'in_reply_to_user_id', 'in_reply_to_user_id_str', 'is_quote_status',\n",
       "       'lang', 'place', 'possibly_sensitive', 'possibly_sensitive_appealable',\n",
       "       'quoted_status', 'quoted_status_id', 'quoted_status_id_str',\n",
       "       'retweet_count', 'retweeted', 'retweeted_status', 'source', 'truncated',\n",
       "       'user'],\n",
       "      dtype='object')"
      ]
     },
     "execution_count": 18,
     "metadata": {},
     "output_type": "execute_result"
    }
   ],
   "source": [
    "df_api.columns"
   ]
  },
  {
   "cell_type": "code",
   "execution_count": 19,
   "metadata": {
    "ExecuteTime": {
     "end_time": "2019-08-12T15:20:22.742596Z",
     "start_time": "2019-08-12T15:20:22.725413Z"
    }
   },
   "outputs": [
    {
     "data": {
      "text/plain": [
       "(2352, 31)"
      ]
     },
     "execution_count": 19,
     "metadata": {},
     "output_type": "execute_result"
    }
   ],
   "source": [
    "df_api.shape"
   ]
  },
  {
   "cell_type": "code",
   "execution_count": 20,
   "metadata": {
    "ExecuteTime": {
     "end_time": "2019-08-12T15:20:22.759956Z",
     "start_time": "2019-08-12T15:20:22.749469Z"
    },
    "hide_input": false
   },
   "outputs": [],
   "source": [
    "# drop list1\n",
    "## 先删除重复和无意义的信息\n",
    "droplist1 = ['contributors','coordinates','geo','place','id_str',\n",
    "             'in_reply_to_status_id_str','in_reply_to_user_id_str','quoted_status_id_str']"
   ]
  },
  {
   "cell_type": "code",
   "execution_count": 21,
   "metadata": {
    "ExecuteTime": {
     "end_time": "2019-08-12T15:20:22.949979Z",
     "start_time": "2019-08-12T15:20:22.765945Z"
    }
   },
   "outputs": [
    {
     "ename": "AttributeError",
     "evalue": "module 'wrangling2' has no attribute 'drop_column'",
     "output_type": "error",
     "traceback": [
      "\u001b[0;31m--------------------------------------------------\u001b[0m",
      "\u001b[0;31mAttributeError\u001b[0m   Traceback (most recent call last)",
      "\u001b[0;32m<ipython-input-21-2dc6b41137be>\u001b[0m in \u001b[0;36m<module>\u001b[0;34m\u001b[0m\n\u001b[1;32m      1\u001b[0m \u001b[0;31m## drop list1 excute\u001b[0m\u001b[0;34m\u001b[0m\u001b[0;34m\u001b[0m\u001b[0;34m\u001b[0m\u001b[0m\n\u001b[0;32m----> 2\u001b[0;31m \u001b[0mw\u001b[0m\u001b[0;34m.\u001b[0m\u001b[0mdrop_column\u001b[0m\u001b[0;34m(\u001b[0m\u001b[0mdf_api\u001b[0m\u001b[0;34m,\u001b[0m\u001b[0mdroplist1\u001b[0m\u001b[0;34m)\u001b[0m\u001b[0;34m\u001b[0m\u001b[0;34m\u001b[0m\u001b[0m\n\u001b[0m",
      "\u001b[0;31mAttributeError\u001b[0m: module 'wrangling2' has no attribute 'drop_column'"
     ]
    }
   ],
   "source": [
    "## drop list1 excute\n",
    "w.drop_column(df_api,droplist1)"
   ]
  },
  {
   "cell_type": "markdown",
   "metadata": {},
   "source": [
    "### // check - inspect list\n",
    "对一些怀疑是否有用的数据进行检视"
   ]
  },
  {
   "cell_type": "code",
   "execution_count": null,
   "metadata": {
    "ExecuteTime": {
     "end_time": "2019-08-12T15:20:22.957256Z",
     "start_time": "2019-08-12T15:20:16.640Z"
    },
    "scrolled": false
   },
   "outputs": [],
   "source": [
    "# check1 \n",
    "## snip remained columns\n",
    "w.check_sample(df_api)"
   ]
  },
  {
   "cell_type": "code",
   "execution_count": null,
   "metadata": {
    "ExecuteTime": {
     "end_time": "2019-08-12T15:20:22.960463Z",
     "start_time": "2019-08-12T15:20:16.645Z"
    }
   },
   "outputs": [],
   "source": [
    "## define inspect list1\n",
    "inslist1 = ['favorited','in_reply_to_screen_name','in_reply_to_status_id',\n",
    "            'in_reply_to_user_id','is_quote_status','lang','possibly_sensitive',\n",
    "            'possibly_sensitive_appealable','quoted_status_id','retweeted','truncated']"
   ]
  },
  {
   "cell_type": "code",
   "execution_count": null,
   "metadata": {
    "ExecuteTime": {
     "end_time": "2019-08-12T15:20:22.963834Z",
     "start_time": "2019-08-12T15:20:16.650Z"
    }
   },
   "outputs": [],
   "source": [
    "## inspect info\n",
    "df_api[inslist1].info()"
   ]
  },
  {
   "cell_type": "code",
   "execution_count": null,
   "metadata": {
    "ExecuteTime": {
     "end_time": "2019-08-12T15:20:22.966840Z",
     "start_time": "2019-08-12T15:20:16.654Z"
    }
   },
   "outputs": [],
   "source": [
    "## inspect value\n",
    "w.check_value(df_api,inslist1)"
   ]
  },
  {
   "cell_type": "markdown",
   "metadata": {},
   "source": [
    "### // check - quoted_status"
   ]
  },
  {
   "cell_type": "code",
   "execution_count": null,
   "metadata": {
    "ExecuteTime": {
     "end_time": "2019-08-12T15:20:22.969741Z",
     "start_time": "2019-08-12T15:20:16.659Z"
    }
   },
   "outputs": [],
   "source": [
    "# special1 quoted_status\n",
    "## quoted_status is a dict, move it to detlist\n",
    "## check values (almost is null)\n",
    "df_api.quoted_status.isnull().value_counts()"
   ]
  },
  {
   "cell_type": "code",
   "execution_count": null,
   "metadata": {
    "ExecuteTime": {
     "end_time": "2019-08-12T15:20:22.972550Z",
     "start_time": "2019-08-12T15:20:16.663Z"
    }
   },
   "outputs": [],
   "source": [
    "## check a sample\n",
    "df_api[df_api.quoted_status.notnull()].sample(1).quoted_status.iloc[0]\n",
    "### this is some extra info abou a forward"
   ]
  },
  {
   "cell_type": "markdown",
   "metadata": {},
   "source": [
    "- 分析 `quoted_status`:\n",
    "    - 是嵌套字典数据\n",
    "    - 缺失很多(只有28个数据)\n",
    "    - 内容无用信息比较多\n",
    "- 结论:\n",
    "    - 删除此列\n",
    "    - user 列和此列类似,也删除"
   ]
  },
  {
   "cell_type": "markdown",
   "metadata": {},
   "source": [
    "### // check - in_reply_to_screen_name"
   ]
  },
  {
   "cell_type": "code",
   "execution_count": null,
   "metadata": {
    "ExecuteTime": {
     "end_time": "2019-08-12T15:20:22.975519Z",
     "start_time": "2019-08-12T15:20:16.670Z"
    }
   },
   "outputs": [],
   "source": [
    "# special2\n",
    "## in_reply_to_screen_name have value dog_rates for 47 times\n",
    "df_api.query('in_reply_to_screen_name == \"dog_rates\"')[:3]"
   ]
  },
  {
   "cell_type": "code",
   "execution_count": null,
   "metadata": {
    "ExecuteTime": {
     "end_time": "2019-08-12T15:20:22.978272Z",
     "start_time": "2019-08-12T15:20:16.674Z"
    }
   },
   "outputs": [],
   "source": [
    "df_api['in_reply_to_screen_name'].isnull().sum() / df_api.shape[0]"
   ]
  },
  {
   "cell_type": "markdown",
   "metadata": {
    "ExecuteTime": {
     "end_time": "2019-06-10T08:05:11.548025Z",
     "start_time": "2019-06-10T08:05:11.535242Z"
    }
   },
   "source": [
    "- 分析`in_reply_to_screen_name`:\n",
    "    - 可能 `dog_rates` 是默认回复名字\n",
    "    - 数据缺失率为 97%\n",
    "- 结论:\n",
    "    - 删除数据\n",
    "    \n",
    "### // drop2\n",
    "根据上面 check 内容删除数据"
   ]
  },
  {
   "cell_type": "code",
   "execution_count": null,
   "metadata": {
    "ExecuteTime": {
     "end_time": "2019-08-12T15:20:22.980920Z",
     "start_time": "2019-08-12T15:20:16.679Z"
    }
   },
   "outputs": [],
   "source": [
    "# droplist2\n",
    "droplist2 = inslist1.copy()\n",
    "### use .copy to copy rather than llink\n",
    "droplist2.append('quoted_status')\n",
    "droplist2.append('retweeted_status')\n",
    "droplist2.append('user')\n",
    "#droplist2 = ['truncated','retweeted','possibly_sensitive_appealable','possibly_sensitive','lang','is_quote_status','favorited']"
   ]
  },
  {
   "cell_type": "code",
   "execution_count": null,
   "metadata": {
    "ExecuteTime": {
     "end_time": "2019-08-12T15:20:22.983639Z",
     "start_time": "2019-08-12T15:20:16.683Z"
    }
   },
   "outputs": [],
   "source": [
    "## drop2 excute\n",
    "w.drop_column(df_api,droplist2)"
   ]
  },
  {
   "cell_type": "markdown",
   "metadata": {},
   "source": [
    "### // check - detail columns\n",
    "对嵌套的数据进行检视"
   ]
  },
  {
   "cell_type": "code",
   "execution_count": null,
   "metadata": {
    "ExecuteTime": {
     "end_time": "2019-08-12T15:20:22.986190Z",
     "start_time": "2019-08-12T15:20:16.688Z"
    }
   },
   "outputs": [],
   "source": [
    "# check3\n",
    "## recheck sample\n",
    "w.check_sample(df_api)"
   ]
  },
  {
   "cell_type": "code",
   "execution_count": null,
   "metadata": {
    "ExecuteTime": {
     "end_time": "2019-08-12T15:20:22.988922Z",
     "start_time": "2019-08-12T15:20:16.693Z"
    }
   },
   "outputs": [],
   "source": [
    "# detail list1\n",
    "## check dict long columns\n",
    "detlist1 = ['entities','extended_entities']"
   ]
  },
  {
   "cell_type": "code",
   "execution_count": null,
   "metadata": {
    "ExecuteTime": {
     "end_time": "2019-08-12T15:20:22.991546Z",
     "start_time": "2019-08-12T15:20:16.698Z"
    }
   },
   "outputs": [],
   "source": [
    "# detail check\n",
    "w.check_detail(df_api,detlist1)\n",
    "### not new info  -> drop"
   ]
  },
  {
   "cell_type": "markdown",
   "metadata": {},
   "source": [
    "- 分析:\n",
    "    - 是嵌套字典数据\n",
    "    - 缺失不多\n",
    "    - 内容无用信息比较多(有些与其他列有重复)\n",
    "- 结论:\n",
    "    - 删除列\n",
    "\n",
    "### // drop3"
   ]
  },
  {
   "cell_type": "code",
   "execution_count": null,
   "metadata": {
    "ExecuteTime": {
     "end_time": "2019-08-12T15:20:22.994323Z",
     "start_time": "2019-08-12T15:20:16.703Z"
    }
   },
   "outputs": [],
   "source": [
    "# drop list3\n",
    "droplist3 = detlist1.copy()\n",
    "\n",
    "## drop3 excute\n",
    "w.drop_column(df_api,droplist3)"
   ]
  },
  {
   "cell_type": "markdown",
   "metadata": {},
   "source": [
    "### // check - display_text_range\n",
    "使用函数check_value会在这一列报错,检查下是因为这列的列表嵌套数字的原因"
   ]
  },
  {
   "cell_type": "code",
   "execution_count": null,
   "metadata": {
    "ExecuteTime": {
     "end_time": "2019-08-12T15:20:22.997292Z",
     "start_time": "2019-08-12T15:20:16.708Z"
    }
   },
   "outputs": [],
   "source": [
    "# check specified\n",
    "df_api.display_text_range.sample(5)"
   ]
  },
  {
   "cell_type": "code",
   "execution_count": null,
   "metadata": {
    "ExecuteTime": {
     "end_time": "2019-08-12T15:20:23.000184Z",
     "start_time": "2019-08-12T15:20:16.712Z"
    }
   },
   "outputs": [],
   "source": [
    "dflist = ['created_at',\n",
    " 'favorite_count',\n",
    " 'full_text',\n",
    " 'id',\n",
    " 'retweet_count',\n",
    " 'source']"
   ]
  },
  {
   "cell_type": "code",
   "execution_count": null,
   "metadata": {
    "ExecuteTime": {
     "end_time": "2019-08-12T15:20:23.003173Z",
     "start_time": "2019-08-12T15:20:16.717Z"
    }
   },
   "outputs": [],
   "source": [
    "w.check_value(df_api,dflist)"
   ]
  },
  {
   "cell_type": "markdown",
   "metadata": {},
   "source": [
    "### // check - null data"
   ]
  },
  {
   "cell_type": "code",
   "execution_count": null,
   "metadata": {
    "ExecuteTime": {
     "end_time": "2019-08-12T15:20:23.005944Z",
     "start_time": "2019-08-12T15:20:16.723Z"
    }
   },
   "outputs": [],
   "source": [
    "df_api.info()"
   ]
  },
  {
   "cell_type": "code",
   "execution_count": null,
   "metadata": {
    "ExecuteTime": {
     "end_time": "2019-08-12T15:20:23.008619Z",
     "start_time": "2019-08-12T15:20:16.727Z"
    }
   },
   "outputs": [],
   "source": [
    "df_api.isnull().sum()"
   ]
  },
  {
   "cell_type": "markdown",
   "metadata": {},
   "source": [
    "### // drop4\n",
    "想来想去还是把 id 给drop了, 后续分析中用不到还有隐私隐患"
   ]
  },
  {
   "cell_type": "code",
   "execution_count": null,
   "metadata": {
    "ExecuteTime": {
     "end_time": "2019-08-12T15:20:23.011292Z",
     "start_time": "2019-08-12T15:20:16.732Z"
    }
   },
   "outputs": [],
   "source": [
    "droplist4 = ['id']\n",
    "w.drop_column(df_api,droplist4)"
   ]
  },
  {
   "cell_type": "markdown",
   "metadata": {},
   "source": [
    "### // review (quanlity)\n",
    "根据数据删除剩余7列 ['created_at', 'display_text_range', 'favorite_count', 'full_text', 'id',\n",
    "       'retweet_count', 'source']\n",
    "- id 为标识列\n",
    "- created_at 包括时间、日期,可以进行时序分析\n",
    "- display_text_range 为文字长度\n",
    "- favorite_count 为点赞数\n",
    "- full_text 为文字内容\n",
    "- retweet_count 为回复数\n",
    "- source 为来源\n",
    "\n",
    "### // persistence"
   ]
  },
  {
   "cell_type": "code",
   "execution_count": null,
   "metadata": {
    "ExecuteTime": {
     "end_time": "2019-08-12T15:20:23.013979Z",
     "start_time": "2019-08-12T15:20:16.737Z"
    }
   },
   "outputs": [],
   "source": [
    "df_api.to_pickle('tweet.pickle.xz', compression='xz')"
   ]
  },
  {
   "cell_type": "markdown",
   "metadata": {},
   "source": [
    "## / tidyness\n",
    "根据质量部分的输出,对于除id列之外的需要进行清洁度的整理\n",
    "- created_at 包括时间、日期,可以进行时序分析\n",
    "    - 转换为 datafame 的 datetime 格式\n",
    "- display_text_range 为文字长度\n",
    "    - 原格式为 [0-x] x实际为推文长度,需要提取 x, 有个别是 [x-y], 不知道为什么还有下限, 提取上限数据即可\n",
    "    - 本列为非必须列,可以根据 full_text 得出回复长度\n",
    "- favorite_count 为点赞数\n",
    "    - 数字类型,无需转换\n",
    "- full_text 为文字内容\n",
    "    - 后续如果进行nlp的分析需要进行向量化\n",
    "- retweet_count 为回复数\n",
    "    - 数字类型,无需转换\n",
    "- source 为来源\n",
    "    - 来源为链接,中间为发布信息的设备\n",
    "    - 需要使用 re 来完成提取\n",
    "    - 最后输出为分类信息"
   ]
  },
  {
   "cell_type": "markdown",
   "metadata": {},
   "source": [
    "### / load clean df"
   ]
  },
  {
   "cell_type": "code",
   "execution_count": null,
   "metadata": {
    "ExecuteTime": {
     "end_time": "2019-08-12T15:20:23.016698Z",
     "start_time": "2019-08-12T15:20:16.743Z"
    }
   },
   "outputs": [],
   "source": [
    "dfclean = pd.read_pickle('tweet.pickle.xz', compression='xz')\n",
    "dftest = dfclean.copy()\n",
    "dfclean.sample()"
   ]
  },
  {
   "cell_type": "markdown",
   "metadata": {},
   "source": [
    "### // created_at\n",
    "define: 将数据转换为时间格式\n",
    "- solution1 使用 dataframe 的 datatime 格式\n",
    "    - 数据本身为 datetime 格式\n",
    "    - 如果是时序的数据可以将时间转换为 index,非常方便筛选 https://chrisalbon.com/python/data_wrangling/pandas_time_series_basics/\n",
    "- (solution2 使用 python datatime 格式、calendar格式)"
   ]
  },
  {
   "cell_type": "code",
   "execution_count": null,
   "metadata": {
    "ExecuteTime": {
     "end_time": "2019-08-12T15:20:23.019451Z",
     "start_time": "2019-08-12T15:20:16.748Z"
    }
   },
   "outputs": [],
   "source": [
    "# convert to datetime format\n",
    "dftest.created_at = pd.to_datetime(dftest.created_at)\n",
    "dftest.info()"
   ]
  },
  {
   "cell_type": "code",
   "execution_count": null,
   "metadata": {
    "ExecuteTime": {
     "end_time": "2019-08-12T15:20:23.022227Z",
     "start_time": "2019-08-12T15:20:16.754Z"
    }
   },
   "outputs": [],
   "source": [
    "sample = dftest.sample()\n",
    "sample"
   ]
  },
  {
   "cell_type": "code",
   "execution_count": null,
   "metadata": {
    "ExecuteTime": {
     "end_time": "2019-08-12T15:20:23.024868Z",
     "start_time": "2019-08-12T15:20:16.758Z"
    }
   },
   "outputs": [],
   "source": [
    "sample.created_at.dt.month, sample.created_at.dt.day, sample.created_at.dt.hour,  "
   ]
  },
  {
   "cell_type": "code",
   "execution_count": null,
   "metadata": {
    "ExecuteTime": {
     "end_time": "2019-08-12T15:20:23.027465Z",
     "start_time": "2019-08-12T15:20:16.763Z"
    }
   },
   "outputs": [],
   "source": [
    "dftest.tail(10)"
   ]
  },
  {
   "cell_type": "code",
   "execution_count": null,
   "metadata": {
    "ExecuteTime": {
     "end_time": "2019-08-12T15:20:23.030256Z",
     "start_time": "2019-08-12T15:20:16.768Z"
    }
   },
   "outputs": [],
   "source": [
    "# 根据上述观察, 发现时间是按照发生顺序倒序排列的\n",
    "## 时序分析入门 https://ourcodingclub.github.io/2019/01/07/pandas-time-series.html\n",
    "## 需要转换为 datetime index (方便筛选)\n",
    "## 将在正式数据上实现\n",
    "### df.where 可以直接替换,有空测试\n",
    "dfclean.index = pd.to_datetime(dfclean.created_at)\n",
    "dfclean.index.name = 'time_index'"
   ]
  },
  {
   "cell_type": "code",
   "execution_count": null,
   "metadata": {
    "ExecuteTime": {
     "end_time": "2019-08-12T15:20:23.033027Z",
     "start_time": "2019-08-12T15:20:16.772Z"
    }
   },
   "outputs": [],
   "source": [
    "droplist = ['created_at']\n",
    "w.drop_column(dfclean, droplist)"
   ]
  },
  {
   "cell_type": "code",
   "execution_count": null,
   "metadata": {
    "ExecuteTime": {
     "end_time": "2019-08-12T15:20:23.035986Z",
     "start_time": "2019-08-12T15:20:16.777Z"
    }
   },
   "outputs": [],
   "source": [
    "dfclean['20170101']"
   ]
  },
  {
   "cell_type": "markdown",
   "metadata": {},
   "source": [
    "### // display_text_range\n",
    "define: 抽取出 text 的长度,存为整数\n",
    "- solution1 使用 python standard re lib\n",
    "    - 抽出字符\n",
    "    - 转换为 int\n",
    "- https://pandas.pydata.org/pandas-docs/stable/user_guide/text.html 非常全面的介绍"
   ]
  },
  {
   "cell_type": "code",
   "execution_count": null,
   "metadata": {
    "ExecuteTime": {
     "end_time": "2019-08-12T15:20:23.038766Z",
     "start_time": "2019-08-12T15:20:16.782Z"
    }
   },
   "outputs": [],
   "source": [
    "# code\n",
    "## extract str\n",
    "dfclean.display_text_range[:10]"
   ]
  },
  {
   "cell_type": "code",
   "execution_count": null,
   "metadata": {
    "ExecuteTime": {
     "end_time": "2019-08-12T15:20:23.042032Z",
     "start_time": "2019-08-12T15:20:16.787Z"
    }
   },
   "outputs": [],
   "source": [
    "## 使用.str[slice] 直接解析相应位置的数字\n",
    "dfclean.display_text_range = dfclean.display_text_range.str[1]"
   ]
  },
  {
   "cell_type": "code",
   "execution_count": null,
   "metadata": {
    "ExecuteTime": {
     "end_time": "2019-08-12T15:20:23.044934Z",
     "start_time": "2019-08-12T15:20:16.791Z"
    }
   },
   "outputs": [],
   "source": [
    "dfclean.display_text_range = dfclean.display_text_range.astype(int)\n",
    "dfclean.info()"
   ]
  },
  {
   "cell_type": "code",
   "execution_count": null,
   "metadata": {
    "ExecuteTime": {
     "end_time": "2019-08-12T15:20:23.048206Z",
     "start_time": "2019-08-12T15:20:16.797Z"
    }
   },
   "outputs": [],
   "source": [
    "dfclean.describe()"
   ]
  },
  {
   "cell_type": "markdown",
   "metadata": {},
   "source": [
    "### // full_text\n",
    "define:\n",
    "- 每个评价后面都有一个分值和链接 11/10 https://t.co/8W5iSOgXfx\n",
    "- 评分为 10/10 或 11/10,没找到说明, 链接科学上网也不能访问\n",
    "- 需要删除后保存\n",
    "- 此处不做处理,词云的制作最后再做\n",
    "- try solution\n",
    "    - str.replace\n",
    "    - str[i]\n",
    "    - str.extract(r'[ab](\\d))\n",
    "    - pat = / str.match\n",
    "    - str.contains\n",
    "    - get.dummies(sep=',')"
   ]
  },
  {
   "cell_type": "code",
   "execution_count": null,
   "metadata": {
    "ExecuteTime": {
     "end_time": "2019-08-12T15:20:23.050903Z",
     "start_time": "2019-08-12T15:20:16.802Z"
    }
   },
   "outputs": [],
   "source": [
    "# code\n",
    "detlist = ['full_text']\n",
    "dfclean.full_text[:10]"
   ]
  },
  {
   "cell_type": "code",
   "execution_count": null,
   "metadata": {
    "ExecuteTime": {
     "end_time": "2019-08-12T15:20:23.053734Z",
     "start_time": "2019-08-12T15:20:16.806Z"
    }
   },
   "outputs": [],
   "source": [
    "# extrac\n",
    "dfclean.full_text[1]"
   ]
  },
  {
   "cell_type": "code",
   "execution_count": null,
   "metadata": {
    "ExecuteTime": {
     "end_time": "2019-08-12T15:20:23.057028Z",
     "start_time": "2019-08-12T15:20:16.811Z"
    }
   },
   "outputs": [],
   "source": [
    "## extract testing\n",
    "s = pd.Series(['a1', 'b2', 'c3'])\n",
    "s.str.extract(r'([ab])(\\d)')"
   ]
  },
  {
   "cell_type": "code",
   "execution_count": null,
   "metadata": {
    "ExecuteTime": {
     "end_time": "2019-08-12T15:20:23.059795Z",
     "start_time": "2019-08-12T15:20:16.815Z"
    }
   },
   "outputs": [],
   "source": [
    "test = dfclean.full_text.str.lower()"
   ]
  },
  {
   "cell_type": "code",
   "execution_count": null,
   "metadata": {
    "ExecuteTime": {
     "end_time": "2019-08-12T15:20:23.062573Z",
     "start_time": "2019-08-12T15:20:16.820Z"
    }
   },
   "outputs": [],
   "source": [
    "test[117]"
   ]
  },
  {
   "cell_type": "code",
   "execution_count": null,
   "metadata": {
    "ExecuteTime": {
     "end_time": "2019-08-12T15:20:23.065650Z",
     "start_time": "2019-08-12T15:20:16.824Z"
    }
   },
   "outputs": [],
   "source": [
    "test.str.extract('(\\d\\d\\/\\d\\d)')[:5]"
   ]
  },
  {
   "cell_type": "code",
   "execution_count": null,
   "metadata": {
    "ExecuteTime": {
     "end_time": "2019-08-12T15:20:23.068803Z",
     "start_time": "2019-08-12T15:20:16.829Z"
    }
   },
   "outputs": [],
   "source": [
    "test.str.extract('(.*)(\\d{2}\\/\\d{2})')[:5]"
   ]
  },
  {
   "cell_type": "code",
   "execution_count": null,
   "metadata": {
    "ExecuteTime": {
     "end_time": "2019-08-12T15:20:23.072167Z",
     "start_time": "2019-08-12T15:20:16.833Z"
    }
   },
   "outputs": [],
   "source": [
    "test.str.extract('(.*)(\\d{2}\\/\\d{2})')[0].str.strip()[:5]"
   ]
  },
  {
   "cell_type": "code",
   "execution_count": null,
   "metadata": {
    "ExecuteTime": {
     "end_time": "2019-08-12T15:20:23.075173Z",
     "start_time": "2019-08-12T15:20:16.837Z"
    }
   },
   "outputs": [],
   "source": [
    "dfclean['clean_text'] = test.str.extract('(.*)(\\d{2}\\/\\d{2})')[0]"
   ]
  },
  {
   "cell_type": "code",
   "execution_count": null,
   "metadata": {
    "ExecuteTime": {
     "end_time": "2019-08-12T15:20:23.078216Z",
     "start_time": "2019-08-12T15:20:16.841Z"
    }
   },
   "outputs": [],
   "source": [
    "droplist = ['full_text']\n",
    "w.drop_column(dfclean,droplist)"
   ]
  },
  {
   "cell_type": "markdown",
   "metadata": {},
   "source": [
    "### // source\n",
    "define: 抽取出发 tweet 使用的设备\n",
    "    - 信息是这样的 <a href=\"http://twitter.com/download/iphone\" rel=\"nofollow\">Twitter for iPhone</a>\n",
    "    - 需要抽取出 `Twitter for iPhone`, 并定义分类为 iphone\n",
    "    - 将本列做成分类数据\n",
    "    - 更新\n",
    "        - 根据value_counts的输出, 95%的来源为iphone, 失去分析价值(Android的去哪里了)\n",
    "        - 不过起码说明移动的登陆要比网页多很多"
   ]
  },
  {
   "cell_type": "code",
   "execution_count": null,
   "metadata": {
    "ExecuteTime": {
     "end_time": "2019-08-12T15:20:23.081208Z",
     "start_time": "2019-08-12T15:20:16.846Z"
    }
   },
   "outputs": [],
   "source": [
    "# code\n",
    "## 观察数据\n",
    "dfclean.source.value_counts()"
   ]
  },
  {
   "cell_type": "code",
   "execution_count": null,
   "metadata": {
    "ExecuteTime": {
     "end_time": "2019-08-12T15:20:23.084142Z",
     "start_time": "2019-08-12T15:20:16.851Z"
    }
   },
   "outputs": [],
   "source": [
    "## drop\n",
    "droplist = ['source']\n",
    "w.drop_column(dfclean, droplist)"
   ]
  },
  {
   "cell_type": "markdown",
   "metadata": {},
   "source": [
    "### // persistence"
   ]
  },
  {
   "cell_type": "code",
   "execution_count": null,
   "metadata": {
    "ExecuteTime": {
     "end_time": "2019-08-12T15:20:23.087379Z",
     "start_time": "2019-08-12T15:20:16.856Z"
    }
   },
   "outputs": [],
   "source": [
    "# code\n",
    "dfclean.to_pickle('tweetclean.pickle.xz', compression='xz')"
   ]
  },
  {
   "cell_type": "markdown",
   "metadata": {},
   "source": [
    "# 评估 - twitter-archive-enhanced \n",
    "## / quanlity"
   ]
  },
  {
   "cell_type": "markdown",
   "metadata": {},
   "source": [
    "根据先做的 wtitt jason 的清理，先删除一些列"
   ]
  },
  {
   "cell_type": "code",
   "execution_count": null,
   "metadata": {
    "ExecuteTime": {
     "end_time": "2019-08-12T15:20:23.090385Z",
     "start_time": "2019-08-12T15:20:16.861Z"
    }
   },
   "outputs": [],
   "source": [
    "df_arc.columns"
   ]
  },
  {
   "cell_type": "code",
   "execution_count": null,
   "metadata": {
    "ExecuteTime": {
     "end_time": "2019-08-12T15:20:23.093024Z",
     "start_time": "2019-08-12T15:20:16.866Z"
    }
   },
   "outputs": [],
   "source": [
    "df_arc.shape"
   ]
  },
  {
   "cell_type": "code",
   "execution_count": null,
   "metadata": {
    "ExecuteTime": {
     "end_time": "2019-08-12T15:20:23.096546Z",
     "start_time": "2019-08-12T15:20:16.870Z"
    }
   },
   "outputs": [],
   "source": [
    "w.check_sample(df_arc)"
   ]
  },
  {
   "cell_type": "code",
   "execution_count": null,
   "metadata": {
    "ExecuteTime": {
     "end_time": "2019-08-12T15:20:23.099557Z",
     "start_time": "2019-08-12T15:20:16.874Z"
    }
   },
   "outputs": [],
   "source": [
    "df_arc.columns"
   ]
  },
  {
   "cell_type": "code",
   "execution_count": null,
   "metadata": {
    "ExecuteTime": {
     "end_time": "2019-08-12T15:20:23.102795Z",
     "start_time": "2019-08-12T15:20:16.879Z"
    }
   },
   "outputs": [],
   "source": [
    "## define inspect list1\n",
    "inslist1 = ['name','doggo','floofer', 'pupper','puppo']\n",
    "inslist2 = ['in_reply_to_status_id', 'in_reply_to_user_id', 'timestamp',\n",
    "       'source']\n",
    "inslist3 = ['retweeted_status_id', 'retweeted_status_user_id',\n",
    "       'retweeted_status_timestamp']\n",
    "inslist4 = ['expanded_urls', 'rating_numerator', 'rating_denominator']"
   ]
  },
  {
   "cell_type": "code",
   "execution_count": null,
   "metadata": {
    "ExecuteTime": {
     "end_time": "2019-08-12T15:20:23.105862Z",
     "start_time": "2019-08-12T15:20:16.883Z"
    }
   },
   "outputs": [],
   "source": [
    "for i in inslist1:\n",
    "    print(('\\n- columns: {:-<8}'.format(i)))\n",
    "    #print((df_arc[i].value_counts().nlargest(5)))\n",
    "    print((df_arc[i].value_counts()))"
   ]
  },
  {
   "cell_type": "code",
   "execution_count": null,
   "metadata": {
    "ExecuteTime": {
     "end_time": "2019-08-12T15:20:23.108809Z",
     "start_time": "2019-08-12T15:20:16.888Z"
    }
   },
   "outputs": [],
   "source": [
    "for i in inslist2:\n",
    "    print(('\\n- columns: {:-<8}'.format(i)))\n",
    "    print((df_arc[i].value_counts()))"
   ]
  },
  {
   "cell_type": "code",
   "execution_count": null,
   "metadata": {
    "ExecuteTime": {
     "end_time": "2019-08-12T15:20:23.111955Z",
     "start_time": "2019-08-12T15:20:16.892Z"
    }
   },
   "outputs": [],
   "source": [
    "for i in inslist3:\n",
    "    print(('\\n- columns: {:-<8}'.format(i)))\n",
    "    print((df_arc[i].value_counts()))"
   ]
  },
  {
   "cell_type": "code",
   "execution_count": null,
   "metadata": {
    "ExecuteTime": {
     "end_time": "2019-08-12T15:20:23.115041Z",
     "start_time": "2019-08-12T15:20:16.897Z"
    }
   },
   "outputs": [],
   "source": [
    "for i in inslist4:\n",
    "    print(('\\n- columns: {:-<8}'.format(i)))\n",
    "    print((df_arc[i].value_counts()))"
   ]
  },
  {
   "cell_type": "markdown",
   "metadata": {},
   "source": [
    "# 评估 - image-predictions\n",
    "## / quanlity"
   ]
  },
  {
   "cell_type": "code",
   "execution_count": null,
   "metadata": {
    "ExecuteTime": {
     "end_time": "2019-08-12T15:20:23.118080Z",
     "start_time": "2019-08-12T15:20:16.902Z"
    }
   },
   "outputs": [],
   "source": [
    "df_img.columns"
   ]
  },
  {
   "cell_type": "code",
   "execution_count": null,
   "metadata": {
    "ExecuteTime": {
     "end_time": "2019-08-12T15:20:23.121209Z",
     "start_time": "2019-08-12T15:20:16.906Z"
    }
   },
   "outputs": [],
   "source": [
    "inslist5 = ['p1','p1_conf','p1_dog']\n",
    "w.check_value(df_img,inslist5)"
   ]
  },
  {
   "cell_type": "markdown",
   "metadata": {},
   "source": [
    "# 探索\n",
    "\n",
    "## / load df"
   ]
  },
  {
   "cell_type": "code",
   "execution_count": null,
   "metadata": {
    "ExecuteTime": {
     "end_time": "2019-08-12T15:20:23.124242Z",
     "start_time": "2019-08-12T15:20:16.912Z"
    }
   },
   "outputs": [],
   "source": [
    "# code\n",
    "df = pd.read_pickle('tweetclean.pickle.xz', compression='xz')\n",
    "df.sample()"
   ]
  },
  {
   "cell_type": "markdown",
   "metadata": {},
   "source": [
    "## / data visulization"
   ]
  },
  {
   "cell_type": "code",
   "execution_count": null,
   "metadata": {
    "ExecuteTime": {
     "end_time": "2019-08-12T15:20:23.127670Z",
     "start_time": "2019-08-12T15:20:16.917Z"
    }
   },
   "outputs": [],
   "source": [
    "# code\n",
    "# Scatter Matrix Plot\n",
    "from pandas.plotting import scatter_matrix\n",
    "scatter_matrix(df, alpha=0.2, figsize=(6, 6), diagonal='kde');"
   ]
  },
  {
   "cell_type": "code",
   "execution_count": null,
   "metadata": {
    "ExecuteTime": {
     "end_time": "2019-08-12T15:20:23.131018Z",
     "start_time": "2019-08-12T15:20:16.921Z"
    }
   },
   "outputs": [],
   "source": [
    "df.columns\n",
    "x = df.columns[0]\n",
    "y = df.columns[1]\n",
    "z = df.columns[2]\n",
    "x, y, z"
   ]
  },
  {
   "cell_type": "code",
   "execution_count": null,
   "metadata": {
    "ExecuteTime": {
     "end_time": "2019-08-12T15:20:23.134738Z",
     "start_time": "2019-08-12T15:20:16.926Z"
    }
   },
   "outputs": [],
   "source": [
    "df.plot.scatter(x,y,alpha=0.3);"
   ]
  },
  {
   "cell_type": "code",
   "execution_count": null,
   "metadata": {
    "ExecuteTime": {
     "end_time": "2019-08-12T15:20:23.137954Z",
     "start_time": "2019-08-12T15:20:16.930Z"
    }
   },
   "outputs": [],
   "source": [
    "df.plot.scatter(x,z,alpha=0.3);"
   ]
  },
  {
   "cell_type": "code",
   "execution_count": null,
   "metadata": {
    "ExecuteTime": {
     "end_time": "2019-08-12T15:20:23.141741Z",
     "start_time": "2019-08-12T15:20:16.934Z"
    }
   },
   "outputs": [],
   "source": [
    "df.plot.scatter(y,z,alpha=0.3);"
   ]
  },
  {
   "cell_type": "code",
   "execution_count": null,
   "metadata": {
    "ExecuteTime": {
     "end_time": "2019-08-12T15:20:23.145217Z",
     "start_time": "2019-08-12T15:20:16.939Z"
    }
   },
   "outputs": [],
   "source": [
    "df.query('favorite_count > 0').plot.scatter(y,z,alpha=0.3);"
   ]
  },
  {
   "cell_type": "markdown",
   "metadata": {},
   "source": [
    "## / word cloud\n",
    "### // word cloud library"
   ]
  },
  {
   "cell_type": "code",
   "execution_count": null,
   "metadata": {
    "ExecuteTime": {
     "end_time": "2019-08-12T15:20:23.148621Z",
     "start_time": "2019-08-12T15:20:16.944Z"
    }
   },
   "outputs": [],
   "source": [
    "# code\n",
    "#pip install wordcloud"
   ]
  },
  {
   "cell_type": "markdown",
   "metadata": {},
   "source": [
    "### // word cloud official example"
   ]
  },
  {
   "cell_type": "code",
   "execution_count": null,
   "metadata": {
    "ExecuteTime": {
     "end_time": "2019-08-12T15:20:23.152173Z",
     "start_time": "2019-08-12T15:20:16.949Z"
    }
   },
   "outputs": [],
   "source": [
    "from os import path\n",
    "from PIL import Image\n",
    "import numpy as np\n",
    "import matplotlib.pyplot as plt\n",
    "import os\n",
    "\n",
    "from wordcloud import WordCloud, STOPWORDS, ImageColorGenerator\n",
    "\n",
    "# get data directory (using getcwd() is needed to support running example in generated IPython notebook)\n",
    "d = path.dirname(__file__) if \"__file__\" in locals() else os.getcwd()\n",
    "\n",
    "# Read the whole text.\n",
    "text = open(path.join(d, 'alice.txt')).read()\n",
    "\n",
    "# read the mask / color image taken from\n",
    "# http://jirkavinse.deviantart.com/art/quot-Real-Life-quot-Alice-282261010\n",
    "alice_coloring = np.array(Image.open(path.join(d, \"alice_color.png\")))\n",
    "stopwords = set(STOPWORDS)\n",
    "stopwords.add(\"said\")\n",
    "\n",
    "wc = WordCloud(background_color=\"white\", max_words=2000, mask=alice_coloring,\n",
    "               stopwords=stopwords, max_font_size=40, random_state=42)\n",
    "# generate word cloud\n",
    "wc.generate(text)\n",
    "\n",
    "# create coloring from image\n",
    "image_colors = ImageColorGenerator(alice_coloring)\n",
    "\n",
    "# show\n",
    "fig, axes = plt.subplots(1, 3)\n",
    "axes[0].imshow(wc, interpolation=\"bilinear\")\n",
    "# recolor wordcloud and show\n",
    "# we could also give color_func=image_colors directly in the constructor\n",
    "axes[1].imshow(wc.recolor(color_func=image_colors), interpolation=\"bilinear\")\n",
    "axes[2].imshow(alice_coloring, cmap=plt.cm.gray, interpolation=\"bilinear\")\n",
    "for ax in axes:\n",
    "    ax.set_axis_off()\n",
    "plt.show()"
   ]
  },
  {
   "cell_type": "markdown",
   "metadata": {},
   "source": [
    "### // prepare word"
   ]
  },
  {
   "cell_type": "code",
   "execution_count": null,
   "metadata": {
    "ExecuteTime": {
     "end_time": "2019-08-12T15:20:23.157983Z",
     "start_time": "2019-08-12T15:20:16.954Z"
    }
   },
   "outputs": [],
   "source": [
    "df.clean_text[:5]"
   ]
  },
  {
   "cell_type": "code",
   "execution_count": null,
   "metadata": {
    "ExecuteTime": {
     "end_time": "2019-08-12T15:20:23.161537Z",
     "start_time": "2019-08-12T15:20:16.958Z"
    }
   },
   "outputs": [],
   "source": [
    "# 使用 sum 前要删除 null 值, 否则会报错\n",
    "str_input = df.clean_text.dropna()\n",
    "str_input.isnull().sum()\n",
    "# 聚合方式可以参考\n",
    "# https://stackoverflow.com/questions/47465542/how-to-concatenate-all-string-values-in-a-given-pandas-dataframe-row-to-one-st"
   ]
  },
  {
   "cell_type": "code",
   "execution_count": null,
   "metadata": {
    "ExecuteTime": {
     "end_time": "2019-08-12T15:20:23.164825Z",
     "start_time": "2019-08-12T15:20:16.962Z"
    }
   },
   "outputs": [],
   "source": [
    "text_twitter = str_input.sum()\n",
    "text_twitter[:1000]"
   ]
  },
  {
   "cell_type": "markdown",
   "metadata": {},
   "source": [
    "### // word cloud"
   ]
  },
  {
   "cell_type": "code",
   "execution_count": null,
   "metadata": {
    "ExecuteTime": {
     "end_time": "2019-08-12T15:20:23.168183Z",
     "start_time": "2019-08-12T15:20:16.967Z"
    }
   },
   "outputs": [],
   "source": [
    "# 将图像转为 np 二维数据 (所以是png还是jpeg应该没有关系)\n",
    "# read the mask / color image taken from\n",
    "color1 = np.array(Image.open(\"tweet1.jpeg\"))\n",
    "color2 = np.array(Image.open(\"tweet2.jpeg\"))\n",
    "color3 = np.array(Image.open(\"t1.png\"))\n",
    "color4 = np.array(Image.open(\"t2.png\"))\n",
    "\n",
    "# 设置停用词\n",
    "stopwords = set(STOPWORDS)\n",
    "stopwords.add(\"said\")"
   ]
  },
  {
   "cell_type": "code",
   "execution_count": null,
   "metadata": {
    "ExecuteTime": {
     "end_time": "2019-08-12T15:20:23.171607Z",
     "start_time": "2019-08-12T15:20:16.971Z"
    }
   },
   "outputs": [],
   "source": [
    "# wordcloud 参数\n",
    "wc = WordCloud(background_color=\"white\", max_words=2000,\n",
    "               stopwords=stopwords, max_font_size=40, random_state=42)\n",
    "\n",
    "## https://github.com/amueller/word_cloud \n",
    "## git 中提供例子和cli(可以根据 text 和 pic 直接输出词云, 非常方便"
   ]
  },
  {
   "cell_type": "code",
   "execution_count": null,
   "metadata": {
    "ExecuteTime": {
     "end_time": "2019-08-12T15:20:23.174771Z",
     "start_time": "2019-08-12T15:20:16.975Z"
    }
   },
   "outputs": [],
   "source": [
    "# wc.generate(text);"
   ]
  },
  {
   "cell_type": "code",
   "execution_count": null,
   "metadata": {
    "ExecuteTime": {
     "end_time": "2019-08-12T15:20:23.178159Z",
     "start_time": "2019-08-12T15:20:16.980Z"
    }
   },
   "outputs": [],
   "source": [
    "wc.generate(text_twitter);"
   ]
  },
  {
   "cell_type": "code",
   "execution_count": null,
   "metadata": {
    "ExecuteTime": {
     "end_time": "2019-08-12T15:20:23.181532Z",
     "start_time": "2019-08-12T15:20:16.984Z"
    }
   },
   "outputs": [],
   "source": [
    "# create coloring from image\n",
    "image_colors = ImageColorGenerator(color4)\n",
    "\n",
    "# 可以直接在构造函数中直接给颜色\n",
    "# 通过这种方式词云将会按照给定的图片颜色布局生成字体颜色策略\n",
    "\n",
    "# show\n",
    "fig, axes = plt.subplots(1, 3, figsize=(24,4))\n",
    "axes[0].imshow(wc, interpolation=\"bilinear\")\n",
    "# recolor wordcloud and show\n",
    "# we could also give color_func=image_colors directly in the constructor\n",
    "axes[1].imshow(wc.recolor(color_func=image_colors), interpolation=\"bilinear\")\n",
    "axes[2].imshow(color4, cmap=plt.cm.gray, interpolation=\"bilinear\")\n",
    "for ax in axes:\n",
    "    ax.set_axis_off();\n",
    "plt.show();"
   ]
  },
  {
   "cell_type": "code",
   "execution_count": null,
   "metadata": {
    "ExecuteTime": {
     "end_time": "2019-08-12T15:20:23.184936Z",
     "start_time": "2019-08-12T15:20:16.989Z"
    }
   },
   "outputs": [],
   "source": [
    "# 增加 mask 蒙版系列\n",
    "wc = WordCloud(background_color=\"white\", max_words=2000, mask=color4,\n",
    "               stopwords=stopwords, max_font_size=40, random_state=42)\n",
    "wc.generate(text_twitter);"
   ]
  },
  {
   "cell_type": "code",
   "execution_count": null,
   "metadata": {
    "ExecuteTime": {
     "end_time": "2019-08-12T15:20:23.188742Z",
     "start_time": "2019-08-12T15:20:16.993Z"
    }
   },
   "outputs": [],
   "source": [
    "# create coloring from image\n",
    "image_colors = ImageColorGenerator(color4)\n",
    "\n",
    "# 可以直接在构造函数中直接给颜色\n",
    "# 通过这种方式词云将会按照给定的图片颜色布局生成字体颜色策略\n",
    "\n",
    "# show\n",
    "fig, axes = plt.subplots(1, 3, figsize=(24,4))\n",
    "axes[0].imshow(wc, interpolation=\"bilinear\")\n",
    "# recolor wordcloud and show\n",
    "# we could also give color_func=image_colors directly in the constructor\n",
    "axes[1].imshow(wc.recolor(color_func=image_colors), interpolation=\"bilinear\")\n",
    "axes[2].imshow(color4, cmap=plt.cm.gray, interpolation=\"bilinear\")\n",
    "for ax in axes:\n",
    "    ax.set_axis_off();\n",
    "plt.show();"
   ]
  },
  {
   "cell_type": "code",
   "execution_count": null,
   "metadata": {
    "ExecuteTime": {
     "end_time": "2019-08-12T15:20:23.192059Z",
     "start_time": "2019-08-12T15:20:16.998Z"
    }
   },
   "outputs": [],
   "source": [
    "# 输出两个图像做对比\n",
    "# show\n",
    "fig, axes = plt.subplots(2, 1, figsize=(20,4))\n",
    "axes[0].imshow(wc.recolor(color_func=image_colors), interpolation=\"bilinear\")\n",
    "axes[1].imshow(color4, cmap=plt.cm.gray, interpolation=\"bilinear\")\n",
    "for ax in axes:\n",
    "    ax.set_axis_off();\n",
    "plt.show();\n",
    "## 不是特别美观, 看来wordcloud如果使用mask和图像的样子关系很大"
   ]
  },
  {
   "cell_type": "code",
   "execution_count": null,
   "metadata": {
    "ExecuteTime": {
     "end_time": "2019-08-12T15:20:23.196683Z",
     "start_time": "2019-08-12T15:20:17.003Z"
    }
   },
   "outputs": [],
   "source": [
    "# 增加 mask 蒙版系列2\n",
    "wc = WordCloud(background_color=\"white\", max_words=200, mask=color2,\n",
    "               stopwords=stopwords, max_font_size=40, random_state=42)\n",
    "wc.generate(text_twitter);\n",
    "\n",
    "# create coloring from image\n",
    "image_colors = ImageColorGenerator(color2)\n",
    "\n",
    "# 可以直接在构造函数中直接给颜色\n",
    "# 通过这种方式词云将会按照给定的图片颜色布局生成字体颜色策略\n",
    "\n",
    "# 输出两个图像做对比\n",
    "# show\n",
    "fig, axes = plt.subplots(2, 1)\n",
    "axes[0].imshow(wc.recolor(color_func=image_colors), interpolation=\"bilinear\")\n",
    "axes[1].imshow(color2, cmap=plt.cm.gray, interpolation=\"bilinear\")\n",
    "for ax in axes:\n",
    "    ax.set_axis_off();\n",
    "plt.show();\n",
    "## 不是特别美观, 看来wordcloud如果使用mask和图像的样子关系很大\n",
    "### 大小和图片分辨率相同\n",
    "### 遇到有的图片会报错\n",
    "## 感觉对分词如果用 nltk 处理下可能会更好\n",
    "### https://sqlshep.com/?p=971\n",
    "# 更新! relative_scaling 参数特别重要(见结论图)"
   ]
  },
  {
   "cell_type": "markdown",
   "metadata": {},
   "source": [
    "## / time series analysis\n",
    "https://ourcodingclub.github.io/2019/01/07/pandas-time-series.html"
   ]
  },
  {
   "cell_type": "code",
   "execution_count": null,
   "metadata": {
    "ExecuteTime": {
     "end_time": "2019-08-12T15:20:23.200176Z",
     "start_time": "2019-08-12T15:20:17.008Z"
    }
   },
   "outputs": [],
   "source": [
    "df.head(10)"
   ]
  },
  {
   "cell_type": "code",
   "execution_count": null,
   "metadata": {
    "ExecuteTime": {
     "end_time": "2019-08-12T15:20:23.204046Z",
     "start_time": "2019-08-12T15:20:17.013Z"
    }
   },
   "outputs": [],
   "source": [
    "# check intervals\n",
    "print(\"Dataframe shape: \", df.shape)\n",
    "dt = (df.index[0] - df.index[-1])\n",
    "print(\"Number of hours between start and end dates: \", dt.total_seconds()/3600 + 1)\n",
    "dt"
   ]
  },
  {
   "cell_type": "code",
   "execution_count": null,
   "metadata": {
    "ExecuteTime": {
     "end_time": "2019-08-12T15:20:23.207575Z",
     "start_time": "2019-08-12T15:20:17.017Z"
    }
   },
   "outputs": [],
   "source": [
    "#df.plot(figsize=(15,4))\n",
    "df.plot(subplots=True, figsize=(15,6))\n",
    "df.plot(y=[\"favorite_count\", \"retweet_count\"], figsize=(15,4));"
   ]
  },
  {
   "cell_type": "code",
   "execution_count": null,
   "metadata": {
    "ExecuteTime": {
     "end_time": "2019-08-12T15:20:23.210953Z",
     "start_time": "2019-08-12T15:20:17.023Z"
    },
    "scrolled": true
   },
   "outputs": [],
   "source": [
    "df[[\"favorite_count\", \"retweet_count\"]].resample(\"1w\").median().plot(figsize=(15,4));"
   ]
  },
  {
   "cell_type": "code",
   "execution_count": null,
   "metadata": {
    "ExecuteTime": {
     "end_time": "2019-08-12T15:20:23.214208Z",
     "start_time": "2019-08-12T15:20:17.028Z"
    }
   },
   "outputs": [],
   "source": [
    "df[[\"favorite_count\", \"retweet_count\"]].rolling(30).median().plot(figsize=(15,4));"
   ]
  },
  {
   "cell_type": "code",
   "execution_count": null,
   "metadata": {
    "ExecuteTime": {
     "end_time": "2019-08-12T15:20:23.217317Z",
     "start_time": "2019-08-12T15:20:17.033Z"
    }
   },
   "outputs": [],
   "source": [
    "# 如果是周期的可以用这个(后续研究)\n",
    "pd.plotting.autocorrelation_plot(df[\"favorite_count\"].resample(\"1w\").median());"
   ]
  },
  {
   "cell_type": "markdown",
   "metadata": {},
   "source": [
    "## / sentiment analysis\n",
    "- 使用sklearn https://towardsdatascience.com/sentiment-analysis-with-python-part-1-5ce197074184\n",
    "- 另外比较常见的是使用 nltk 库\n",
    "- 此处先pass, 深度学习时候有空再深入"
   ]
  },
  {
   "cell_type": "markdown",
   "metadata": {},
   "source": [
    "# 结论\n",
    "## / favorite 和 retweet 时序分析\n",
    "- 2016年上半年之前, favorite 数量大概是 retweet 的两倍\n",
    "- 但再这之后, favorite 数量大量上涨, retweet 数量上涨十分缓慢(两者之比达到6倍)\n",
    "- 推测相关因素如下:\n",
    "    - 可以看出 twitter 增长非常迅速(可惜缺少用户量相关的数据)\n",
    "    - 但是人们愿意付出更多一点时间 retweet 的时间在减少, 可能原因是当人接触到更多的 twitter 信息后, 能够 retweet 的注意力已经没有什么增长空间了(注意力处于饱和状态)"
   ]
  },
  {
   "cell_type": "code",
   "execution_count": null,
   "metadata": {
    "ExecuteTime": {
     "end_time": "2019-08-12T15:20:23.220865Z",
     "start_time": "2019-08-12T15:20:17.038Z"
    }
   },
   "outputs": [],
   "source": [
    "# 使用30天滚动平均值完成作图\n",
    "df[[\"favorite_count\", \"retweet_count\"]].rolling(30).median().plot(figsize=(15,4));\n",
    "plt.xlabel('Time Series')\n",
    "plt.ylabel('Counts')\n",
    "plt.title('Compare Favorite and Retweet Counts on Time Series', color='r', fontsize=16);"
   ]
  },
  {
   "cell_type": "markdown",
   "metadata": {},
   "source": [
    "## / favorate 和 retweet 相关性分析\n",
    "- 分析中过滤掉了 retweet 为0的数据和大于1000的数据\n",
    "- 此处考虑的是两个参数的对应关系, 和问题1的趋势并不冲突(因为数据做了过滤)\n",
    "- 可以看出在 favorate 和 retweet 两个数据中间具有相关性\n",
    "- 回归线要用到 sm 库或 sklearn 库, 后续研究 https://nbviewer.jupyter.org/github/weecology/progbio/blob/master/ipynbs/statistics.ipynb"
   ]
  },
  {
   "cell_type": "code",
   "execution_count": null,
   "metadata": {
    "ExecuteTime": {
     "end_time": "2019-08-12T15:20:23.223921Z",
     "start_time": "2019-08-12T15:20:17.043Z"
    }
   },
   "outputs": [],
   "source": [
    "df.query('0 < favorite_count < 10000').plot.scatter(y,z,alpha=0.2,figsize=(15,4));\n",
    "plt.xlabel('Time Series')\n",
    "plt.ylabel('Counts')\n",
    "plt.title('Compare Favorite and Retweet Counts on Time Series', color='r', fontsize=16);"
   ]
  },
  {
   "cell_type": "markdown",
   "metadata": {},
   "source": [
    "## / word cloud 分析\n",
    "- 对评论使用 word cloud 进行分析\n",
    "- 去掉了 stop words\n",
    "- 图像为 twitter 英文字符(小鸟图不太美观)"
   ]
  },
  {
   "cell_type": "code",
   "execution_count": null,
   "metadata": {
    "ExecuteTime": {
     "end_time": "2019-08-12T15:20:23.227396Z",
     "start_time": "2019-08-12T15:20:17.048Z"
    }
   },
   "outputs": [],
   "source": [
    "# set wc paras\n",
    "wc = WordCloud(background_color=\"white\", max_words=1000, mask=color4,\n",
    "               stopwords=stopwords, max_font_size=24, relative_scaling=0.3, width=2400, height=800, random_state=42)\n",
    "\n",
    "# gen wc\n",
    "wc.generate(text_twitter);\n",
    "\n",
    "# create coloring from image\n",
    "image_colors = ImageColorGenerator(color4)\n",
    "\n",
    "# gen pic\n",
    "fig, axes = plt.subplots(2, 1,figsize=(36,12))\n",
    "axes[0].imshow(wc.recolor(color_func=image_colors), interpolation=\"bilinear\")\n",
    "axes[1].imshow(color4, cmap=plt.cm.gray, interpolation=\"bilinear\")\n",
    "for ax in axes:\n",
    "    ax.set_axis_off();\n",
    "plt.show();"
   ]
  },
  {
   "cell_type": "markdown",
   "metadata": {},
   "source": [
    "## / text range 分析\n",
    "- text range 改名为 text range 更为明确\n",
    "- 数据做了过滤(过滤掉了个别 160 字符的)\n",
    "- 数据有左偏斜趋势 (不能断定) 因为在140字的限制上有大量出现, 所以明显存在人为调整\n",
    "- 有些数据超出了140\n",
    "- 后续可以做异常值分析(按说不应该有超出, 也可能是正则化过滤时留下的问题)"
   ]
  },
  {
   "cell_type": "code",
   "execution_count": null,
   "metadata": {
    "ExecuteTime": {
     "end_time": "2019-08-12T15:20:23.230531Z",
     "start_time": "2019-08-12T15:20:17.054Z"
    }
   },
   "outputs": [],
   "source": [
    "df.query('display_text_range < 150').display_text_range.plot.hist(bins=50,figsize=(16,4))\n",
    "plt.xlabel('Text Length')\n",
    "plt.title('Text Length Histogram', color='r', fontsize=16);"
   ]
  },
  {
   "cell_type": "markdown",
   "metadata": {},
   "source": [
    "## / 后续完善\n",
    "- 增加数据feature: 虽然原始数据 featrue 比较多, 但经过梳理发现所剩数据不多. 像用户日活, 注册量等信息缺失.\n",
    "- 完善情感分析: 情感分析可以画出 积极/消极/主观/客观 两个维度的信息. 便于增加数据用以更多分析 (比如 140字的回复中, 是积极信息多还是消极信息多)\n",
    "- 完善 source 分类数据: 本来很关注的feature, 因为数据收集的问题(可能是数据收集时ios比较好记录), 这点非常重要, 因为起码从尝试来讲 android 的不应该这么少. 这种情况会造成数据偏见, 可能带来错误的结论"
   ]
  },
  {
   "cell_type": "code",
   "execution_count": null,
   "metadata": {},
   "outputs": [],
   "source": []
  }
 ],
 "metadata": {
  "hide_input": false,
  "kernelspec": {
   "display_name": "Python 3",
   "language": "python",
   "name": "python3"
  },
  "language_info": {
   "codemirror_mode": {
    "name": "ipython",
    "version": 3
   },
   "file_extension": ".py",
   "mimetype": "text/x-python",
   "name": "python",
   "nbconvert_exporter": "python",
   "pygments_lexer": "ipython3",
   "version": "3.6.7"
  },
  "toc": {
   "base_numbering": 1,
   "nav_menu": {},
   "number_sections": true,
   "sideBar": true,
   "skip_h1_title": false,
   "title_cell": "Table of Contents",
   "title_sidebar": "Contents",
   "toc_cell": false,
   "toc_position": {
    "height": "calc(100% - 180px)",
    "left": "10px",
    "top": "150px",
    "width": "207px"
   },
   "toc_section_display": true,
   "toc_window_display": true
  },
  "varInspector": {
   "cols": {
    "lenName": 16,
    "lenType": 16,
    "lenVar": 40
   },
   "kernels_config": {
    "python": {
     "delete_cmd_postfix": "",
     "delete_cmd_prefix": "del ",
     "library": "var_list.py",
     "varRefreshCmd": "print(var_dic_list())"
    },
    "r": {
     "delete_cmd_postfix": ") ",
     "delete_cmd_prefix": "rm(",
     "library": "var_list.r",
     "varRefreshCmd": "cat(var_dic_list()) "
    }
   },
   "types_to_exclude": [
    "module",
    "function",
    "builtin_function_or_method",
    "instance",
    "_Feature"
   ],
   "window_display": false
  }
 },
 "nbformat": 4,
 "nbformat_minor": 2
}
