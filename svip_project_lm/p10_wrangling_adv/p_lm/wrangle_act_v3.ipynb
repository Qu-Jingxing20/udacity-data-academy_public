{
 "cells": [
  {
   "cell_type": "markdown",
   "metadata": {
    "hide_input": true
   },
   "source": [
    "# 收集\n",
    "## / import lib"
   ]
  },
  {
   "cell_type": "code",
   "execution_count": 265,
   "metadata": {
    "ExecuteTime": {
     "end_time": "2019-08-12T08:35:21.067559Z",
     "start_time": "2019-08-12T08:35:20.955751Z"
    }
   },
   "outputs": [],
   "source": [
    "# import libs\n",
    "\n",
    "## official libs\n",
    "import pprint as pp\n",
    "import requests\n",
    "\n",
    "## 3rd libs\n",
    "import pandas as pd\n",
    "import numpy as np\n",
    "\n",
    "import matplotlib.pyplot as plt\n",
    "from PIL import Image\n",
    "#通过 install Pillow安装\n",
    "\n",
    "## private libs\n",
    "#包括了一些数据评估的简单功能\n",
    "import wrangling2 as w\n",
    "\n",
    "## paras\n",
    "%matplotlib inline"
   ]
  },
  {
   "cell_type": "markdown",
   "metadata": {},
   "source": [
    "## / display setting"
   ]
  },
  {
   "cell_type": "code",
   "execution_count": 95,
   "metadata": {
    "ExecuteTime": {
     "end_time": "2019-08-12T01:11:03.262066Z",
     "start_time": "2019-08-12T01:11:03.257502Z"
    }
   },
   "outputs": [],
   "source": [
    "# set to show all row and column\n",
    "from IPython.display import display\n",
    "pd.set_option('display.max_rows', None)\n",
    "pd.set_option('display.max_columns', None)\n",
    "#!!!Beware of all long out put!!!\n",
    "#https://stackoverflow.com/questions/27163830/ipython-notebook-pandas-max-allowable-columns"
   ]
  },
  {
   "cell_type": "markdown",
   "metadata": {
    "hide_input": false
   },
   "source": [
    "## / load df"
   ]
  },
  {
   "cell_type": "code",
   "execution_count": 270,
   "metadata": {
    "ExecuteTime": {
     "end_time": "2019-08-12T10:17:45.935810Z",
     "start_time": "2019-08-12T10:17:43.765217Z"
    }
   },
   "outputs": [],
   "source": [
    "# load df\n",
    "## tweet_json 文件\n",
    "## read_jason 有很多参数,可以参考官方文档\n",
    "## 此处要加 lines=True\n",
    "df_api = pd.read_json('tweet_json.txt',lines=True)\n",
    "# https://pandas.pydata.org/pandas-docs/stable/reference/api/pandas.read_json.html"
   ]
  },
  {
   "cell_type": "code",
   "execution_count": 99,
   "metadata": {
    "ExecuteTime": {
     "end_time": "2019-08-12T01:15:24.108827Z",
     "start_time": "2019-08-12T01:15:24.076747Z"
    }
   },
   "outputs": [],
   "source": [
    "## twitter-archive-enhanced 文件\n",
    "df_arc = pd.read_csv('twitter-archive-enhanced.txt')"
   ]
  },
  {
   "cell_type": "code",
   "execution_count": 100,
   "metadata": {
    "ExecuteTime": {
     "end_time": "2019-08-12T01:15:54.301778Z",
     "start_time": "2019-08-12T01:15:50.228919Z"
    }
   },
   "outputs": [],
   "source": [
    "## image-predictions 文件\n",
    "file_url = 'https://raw.githubusercontent.com/udacity/new-dand-advanced-china/master/%E6%95%B0%E6%8D%AE%E6%B8%85%E6%B4%97/WeRateDogs%E9%A1%B9%E7%9B%AE/image-predictions.tsv'\n",
    "r = requests.get(file_url)\n",
    "file_name = 'image-predictions.tsv'\n",
    "open(file_name, 'wb').write(r.content)\n",
    "df_img = pd.read_csv(file_name, sep='\\t')"
   ]
  },
  {
   "cell_type": "markdown",
   "metadata": {},
   "source": [
    "# 评估 - twitt_json\n",
    "## / inspect"
   ]
  },
  {
   "cell_type": "code",
   "execution_count": 127,
   "metadata": {
    "ExecuteTime": {
     "end_time": "2019-08-12T02:14:57.618878Z",
     "start_time": "2019-08-12T02:14:57.612256Z"
    }
   },
   "outputs": [],
   "source": [
    "# pprint, print, display 对比\n",
    "## pprint 相比 print 提供了复杂结构 iterable 的分块输出\n",
    "## pprint 和 print 对复杂结构的耗时较长\n",
    "## display 可以提供相同 pprint 输出, 而且非常快\n",
    "## 对于 jupyter 环境数据科学, pprint 并不是强需要\n",
    "'''\n",
    "data1 = [ (i, { 'a':'A',\n",
    "               'b':'B',\n",
    "               'c':'C',\n",
    "               'd':'D',\n",
    "               'e':'E',\n",
    "               'f':'F',\n",
    "               'g':'G',\n",
    "               'h':'H',\n",
    "               }) for i in range(3)\n",
    "        ]\n",
    "\n",
    "print(data1)\n",
    "\n",
    "import pprint as pp\n",
    "pp.pprint(data1)\n",
    "\n",
    "display(data1)\n",
    "'''"
   ]
  },
  {
   "cell_type": "code",
   "execution_count": 266,
   "metadata": {
    "ExecuteTime": {
     "end_time": "2019-08-12T08:35:34.974554Z",
     "start_time": "2019-08-12T08:35:34.959876Z"
    }
   },
   "outputs": [
    {
     "name": "stdout",
     "output_type": "stream",
     "text": [
      "\n",
      "wrangling function list:\n",
      "1 /df/\n",
      "1.1 checkdf(df) - 基准df信息输出\n",
      "1.2 checkdup(df) - 检查重复信息,若数据中包括iterable的列会提醒\n",
      "1.3 checksample(df,random=42) - 对于列信息很多或者嵌套的,详细输出一个\n",
      "2 /column/\n",
      "2.1 checknest(df,colname)\n",
      "2.2 dorpcolumn(df,collist)\n",
      "2.3 checkvalue(df,list='all')\n",
      "\n"
     ]
    }
   ],
   "source": [
    "# check wranling docstring\n",
    "print(w.__doc__)"
   ]
  },
  {
   "cell_type": "code",
   "execution_count": 227,
   "metadata": {
    "ExecuteTime": {
     "end_time": "2019-08-12T07:43:13.202466Z",
     "start_time": "2019-08-12T07:43:13.187240Z"
    }
   },
   "outputs": [
    {
     "name": "stdout",
     "output_type": "stream",
     "text": [
      "{'hashtags': [],\n",
      " 'media': [{'display_url': 'pic.twitter.com/v5A4vzSDdc',\n",
      "            'expanded_url': 'https://twitter.com/dog_rates/status/666051853826850816/photo/1',\n",
      "            'id': 666051848592334848,\n",
      "            'id_str': '666051848592334848',\n",
      "            'indices': [115, 138],\n",
      "            'media_url': 'http://pbs.twimg.com/media/CT5KoJ1WoAAJash.jpg',\n",
      "            'media_url_https': 'https://pbs.twimg.com/media/CT5KoJ1WoAAJash.jpg',\n",
      "            'sizes': {'large': {'h': 1024, 'resize': 'fit', 'w': 866},\n",
      "                      'medium': {'h': 1024, 'resize': 'fit', 'w': 866},\n",
      "                      'small': {'h': 680, 'resize': 'fit', 'w': 575},\n",
      "                      'thumb': {'h': 150, 'resize': 'crop', 'w': 150}},\n",
      "            'type': 'photo',\n",
      "            'url': 'https://t.co/v5A4vzSDdc'}],\n",
      " 'symbols': [],\n",
      " 'urls': [],\n",
      " 'user_mentions': []}\n"
     ]
    }
   ],
   "source": [
    "checknest(df_api,'entities')"
   ]
  },
  {
   "cell_type": "markdown",
   "metadata": {},
   "source": [
    "\n",
    "### // drop1"
   ]
  },
  {
   "cell_type": "code",
   "execution_count": 271,
   "metadata": {
    "ExecuteTime": {
     "end_time": "2019-08-12T10:18:00.481953Z",
     "start_time": "2019-08-12T10:18:00.471908Z"
    }
   },
   "outputs": [
    {
     "data": {
      "text/plain": [
       "Index(['contributors', 'coordinates', 'created_at', 'display_text_range',\n",
       "       'entities', 'extended_entities', 'favorite_count', 'favorited',\n",
       "       'full_text', 'geo', 'id', 'id_str', 'in_reply_to_screen_name',\n",
       "       'in_reply_to_status_id', 'in_reply_to_status_id_str',\n",
       "       'in_reply_to_user_id', 'in_reply_to_user_id_str', 'is_quote_status',\n",
       "       'lang', 'place', 'possibly_sensitive', 'possibly_sensitive_appealable',\n",
       "       'quoted_status', 'quoted_status_id', 'quoted_status_id_str',\n",
       "       'retweet_count', 'retweeted', 'retweeted_status', 'source', 'truncated',\n",
       "       'user'],\n",
       "      dtype='object')"
      ]
     },
     "execution_count": 271,
     "metadata": {},
     "output_type": "execute_result"
    }
   ],
   "source": [
    "df_api.columns"
   ]
  },
  {
   "cell_type": "code",
   "execution_count": 268,
   "metadata": {
    "ExecuteTime": {
     "end_time": "2019-08-12T10:16:30.685654Z",
     "start_time": "2019-08-12T10:16:30.600335Z"
    }
   },
   "outputs": [
    {
     "ename": "UndefinedVariableError",
     "evalue": "name 'reviews' is not defined",
     "output_type": "error",
     "traceback": [
      "\u001b[0;31m------------------------------------------------\u001b[0m",
      "\u001b[0;31mKeyError\u001b[0m       Traceback (most recent call last)",
      "\u001b[0;32m~/miniconda3/envs/py36/lib/python3.6/site-packages/pandas/core/computation/scope.py\u001b[0m in \u001b[0;36mresolve\u001b[0;34m(self, key, is_local)\u001b[0m\n\u001b[1;32m    180\u001b[0m             \u001b[0;32mif\u001b[0m \u001b[0mself\u001b[0m\u001b[0;34m.\u001b[0m\u001b[0mhas_resolvers\u001b[0m\u001b[0;34m:\u001b[0m\u001b[0;34m\u001b[0m\u001b[0;34m\u001b[0m\u001b[0m\n\u001b[0;32m--> 181\u001b[0;31m                 \u001b[0;32mreturn\u001b[0m \u001b[0mself\u001b[0m\u001b[0;34m.\u001b[0m\u001b[0mresolvers\u001b[0m\u001b[0;34m[\u001b[0m\u001b[0mkey\u001b[0m\u001b[0;34m]\u001b[0m\u001b[0;34m\u001b[0m\u001b[0;34m\u001b[0m\u001b[0m\n\u001b[0m\u001b[1;32m    182\u001b[0m \u001b[0;34m\u001b[0m\u001b[0m\n",
      "\u001b[0;32m~/miniconda3/envs/py36/lib/python3.6/collections/__init__.py\u001b[0m in \u001b[0;36m__getitem__\u001b[0;34m(self, key)\u001b[0m\n\u001b[1;32m    882\u001b[0m                 \u001b[0;32mpass\u001b[0m\u001b[0;34m\u001b[0m\u001b[0;34m\u001b[0m\u001b[0m\n\u001b[0;32m--> 883\u001b[0;31m         \u001b[0;32mreturn\u001b[0m \u001b[0mself\u001b[0m\u001b[0;34m.\u001b[0m\u001b[0m__missing__\u001b[0m\u001b[0;34m(\u001b[0m\u001b[0mkey\u001b[0m\u001b[0;34m)\u001b[0m            \u001b[0;31m# support subclasses that define __missing__\u001b[0m\u001b[0;34m\u001b[0m\u001b[0;34m\u001b[0m\u001b[0m\n\u001b[0m\u001b[1;32m    884\u001b[0m \u001b[0;34m\u001b[0m\u001b[0m\n",
      "\u001b[0;32m~/miniconda3/envs/py36/lib/python3.6/collections/__init__.py\u001b[0m in \u001b[0;36m__missing__\u001b[0;34m(self, key)\u001b[0m\n\u001b[1;32m    874\u001b[0m     \u001b[0;32mdef\u001b[0m \u001b[0m__missing__\u001b[0m\u001b[0;34m(\u001b[0m\u001b[0mself\u001b[0m\u001b[0;34m,\u001b[0m \u001b[0mkey\u001b[0m\u001b[0;34m)\u001b[0m\u001b[0;34m:\u001b[0m\u001b[0;34m\u001b[0m\u001b[0;34m\u001b[0m\u001b[0m\n\u001b[0;32m--> 875\u001b[0;31m         \u001b[0;32mraise\u001b[0m \u001b[0mKeyError\u001b[0m\u001b[0;34m(\u001b[0m\u001b[0mkey\u001b[0m\u001b[0;34m)\u001b[0m\u001b[0;34m\u001b[0m\u001b[0;34m\u001b[0m\u001b[0m\n\u001b[0m\u001b[1;32m    876\u001b[0m \u001b[0;34m\u001b[0m\u001b[0m\n",
      "\u001b[0;31mKeyError\u001b[0m: 'reviews'",
      "\nDuring handling of the above exception, another exception occurred:\n",
      "\u001b[0;31mKeyError\u001b[0m       Traceback (most recent call last)",
      "\u001b[0;32m~/miniconda3/envs/py36/lib/python3.6/site-packages/pandas/core/computation/scope.py\u001b[0m in \u001b[0;36mresolve\u001b[0;34m(self, key, is_local)\u001b[0m\n\u001b[1;32m    191\u001b[0m                 \u001b[0;31m# e.g., df[df > 0]\u001b[0m\u001b[0;34m\u001b[0m\u001b[0;34m\u001b[0m\u001b[0;34m\u001b[0m\u001b[0m\n\u001b[0;32m--> 192\u001b[0;31m                 \u001b[0;32mreturn\u001b[0m \u001b[0mself\u001b[0m\u001b[0;34m.\u001b[0m\u001b[0mtemps\u001b[0m\u001b[0;34m[\u001b[0m\u001b[0mkey\u001b[0m\u001b[0;34m]\u001b[0m\u001b[0;34m\u001b[0m\u001b[0;34m\u001b[0m\u001b[0m\n\u001b[0m\u001b[1;32m    193\u001b[0m             \u001b[0;32mexcept\u001b[0m \u001b[0mKeyError\u001b[0m\u001b[0;34m:\u001b[0m\u001b[0;34m\u001b[0m\u001b[0;34m\u001b[0m\u001b[0m\n",
      "\u001b[0;31mKeyError\u001b[0m: 'reviews'",
      "\nDuring handling of the above exception, another exception occurred:\n",
      "\u001b[0;31mUndefinedVariableError\u001b[0mTraceback (most recent call last)",
      "\u001b[0;32m<ipython-input-268-e92fcb94ba4f>\u001b[0m in \u001b[0;36m<module>\u001b[0;34m\u001b[0m\n\u001b[0;32m----> 1\u001b[0;31m \u001b[0mdf_api\u001b[0m\u001b[0;34m.\u001b[0m\u001b[0mquery\u001b[0m\u001b[0;34m(\u001b[0m\u001b[0;34m'reviews == \"3.0M\"'\u001b[0m\u001b[0;34m)\u001b[0m\u001b[0;34m\u001b[0m\u001b[0;34m\u001b[0m\u001b[0m\n\u001b[0m",
      "\u001b[0;32m~/miniconda3/envs/py36/lib/python3.6/site-packages/pandas/core/frame.py\u001b[0m in \u001b[0;36mquery\u001b[0;34m(self, expr, inplace, **kwargs)\u001b[0m\n\u001b[1;32m   2845\u001b[0m         \u001b[0mkwargs\u001b[0m\u001b[0;34m[\u001b[0m\u001b[0;34m'level'\u001b[0m\u001b[0;34m]\u001b[0m \u001b[0;34m=\u001b[0m \u001b[0mkwargs\u001b[0m\u001b[0;34m.\u001b[0m\u001b[0mpop\u001b[0m\u001b[0;34m(\u001b[0m\u001b[0;34m'level'\u001b[0m\u001b[0;34m,\u001b[0m \u001b[0;36m0\u001b[0m\u001b[0;34m)\u001b[0m \u001b[0;34m+\u001b[0m \u001b[0;36m1\u001b[0m\u001b[0;34m\u001b[0m\u001b[0;34m\u001b[0m\u001b[0m\n\u001b[1;32m   2846\u001b[0m         \u001b[0mkwargs\u001b[0m\u001b[0;34m[\u001b[0m\u001b[0;34m'target'\u001b[0m\u001b[0;34m]\u001b[0m \u001b[0;34m=\u001b[0m \u001b[0;32mNone\u001b[0m\u001b[0;34m\u001b[0m\u001b[0;34m\u001b[0m\u001b[0m\n\u001b[0;32m-> 2847\u001b[0;31m         \u001b[0mres\u001b[0m \u001b[0;34m=\u001b[0m \u001b[0mself\u001b[0m\u001b[0;34m.\u001b[0m\u001b[0meval\u001b[0m\u001b[0;34m(\u001b[0m\u001b[0mexpr\u001b[0m\u001b[0;34m,\u001b[0m \u001b[0;34m**\u001b[0m\u001b[0mkwargs\u001b[0m\u001b[0;34m)\u001b[0m\u001b[0;34m\u001b[0m\u001b[0;34m\u001b[0m\u001b[0m\n\u001b[0m\u001b[1;32m   2848\u001b[0m \u001b[0;34m\u001b[0m\u001b[0m\n\u001b[1;32m   2849\u001b[0m         \u001b[0;32mtry\u001b[0m\u001b[0;34m:\u001b[0m\u001b[0;34m\u001b[0m\u001b[0;34m\u001b[0m\u001b[0m\n",
      "\u001b[0;32m~/miniconda3/envs/py36/lib/python3.6/site-packages/pandas/core/frame.py\u001b[0m in \u001b[0;36meval\u001b[0;34m(self, expr, inplace, **kwargs)\u001b[0m\n\u001b[1;32m   2960\u001b[0m             \u001b[0mkwargs\u001b[0m\u001b[0;34m[\u001b[0m\u001b[0;34m'target'\u001b[0m\u001b[0;34m]\u001b[0m \u001b[0;34m=\u001b[0m \u001b[0mself\u001b[0m\u001b[0;34m\u001b[0m\u001b[0;34m\u001b[0m\u001b[0m\n\u001b[1;32m   2961\u001b[0m         \u001b[0mkwargs\u001b[0m\u001b[0;34m[\u001b[0m\u001b[0;34m'resolvers'\u001b[0m\u001b[0;34m]\u001b[0m \u001b[0;34m=\u001b[0m \u001b[0mkwargs\u001b[0m\u001b[0;34m.\u001b[0m\u001b[0mget\u001b[0m\u001b[0;34m(\u001b[0m\u001b[0;34m'resolvers'\u001b[0m\u001b[0;34m,\u001b[0m \u001b[0;34m(\u001b[0m\u001b[0;34m)\u001b[0m\u001b[0;34m)\u001b[0m \u001b[0;34m+\u001b[0m \u001b[0mtuple\u001b[0m\u001b[0;34m(\u001b[0m\u001b[0mresolvers\u001b[0m\u001b[0;34m)\u001b[0m\u001b[0;34m\u001b[0m\u001b[0;34m\u001b[0m\u001b[0m\n\u001b[0;32m-> 2962\u001b[0;31m         \u001b[0;32mreturn\u001b[0m \u001b[0m_eval\u001b[0m\u001b[0;34m(\u001b[0m\u001b[0mexpr\u001b[0m\u001b[0;34m,\u001b[0m \u001b[0minplace\u001b[0m\u001b[0;34m=\u001b[0m\u001b[0minplace\u001b[0m\u001b[0;34m,\u001b[0m \u001b[0;34m**\u001b[0m\u001b[0mkwargs\u001b[0m\u001b[0;34m)\u001b[0m\u001b[0;34m\u001b[0m\u001b[0;34m\u001b[0m\u001b[0m\n\u001b[0m\u001b[1;32m   2963\u001b[0m \u001b[0;34m\u001b[0m\u001b[0m\n\u001b[1;32m   2964\u001b[0m     \u001b[0;32mdef\u001b[0m \u001b[0mselect_dtypes\u001b[0m\u001b[0;34m(\u001b[0m\u001b[0mself\u001b[0m\u001b[0;34m,\u001b[0m \u001b[0minclude\u001b[0m\u001b[0;34m=\u001b[0m\u001b[0;32mNone\u001b[0m\u001b[0;34m,\u001b[0m \u001b[0mexclude\u001b[0m\u001b[0;34m=\u001b[0m\u001b[0;32mNone\u001b[0m\u001b[0;34m)\u001b[0m\u001b[0;34m:\u001b[0m\u001b[0;34m\u001b[0m\u001b[0;34m\u001b[0m\u001b[0m\n",
      "\u001b[0;32m~/miniconda3/envs/py36/lib/python3.6/site-packages/pandas/core/computation/eval.py\u001b[0m in \u001b[0;36meval\u001b[0;34m(expr, parser, engine, truediv, local_dict, global_dict, resolvers, level, target, inplace)\u001b[0m\n\u001b[1;32m    289\u001b[0m \u001b[0;34m\u001b[0m\u001b[0m\n\u001b[1;32m    290\u001b[0m         parsed_expr = Expr(expr, engine=engine, parser=parser, env=env,\n\u001b[0;32m--> 291\u001b[0;31m                            truediv=truediv)\n\u001b[0m\u001b[1;32m    292\u001b[0m \u001b[0;34m\u001b[0m\u001b[0m\n\u001b[1;32m    293\u001b[0m         \u001b[0;31m# construct the engine and evaluate the parsed expression\u001b[0m\u001b[0;34m\u001b[0m\u001b[0;34m\u001b[0m\u001b[0;34m\u001b[0m\u001b[0m\n",
      "\u001b[0;32m~/miniconda3/envs/py36/lib/python3.6/site-packages/pandas/core/computation/expr.py\u001b[0m in \u001b[0;36m__init__\u001b[0;34m(self, expr, engine, parser, env, truediv, level)\u001b[0m\n\u001b[1;32m    737\u001b[0m         \u001b[0mself\u001b[0m\u001b[0;34m.\u001b[0m\u001b[0menv\u001b[0m\u001b[0;34m.\u001b[0m\u001b[0mscope\u001b[0m\u001b[0;34m[\u001b[0m\u001b[0;34m'truediv'\u001b[0m\u001b[0;34m]\u001b[0m \u001b[0;34m=\u001b[0m \u001b[0mtruediv\u001b[0m\u001b[0;34m\u001b[0m\u001b[0;34m\u001b[0m\u001b[0m\n\u001b[1;32m    738\u001b[0m         \u001b[0mself\u001b[0m\u001b[0;34m.\u001b[0m\u001b[0m_visitor\u001b[0m \u001b[0;34m=\u001b[0m \u001b[0m_parsers\u001b[0m\u001b[0;34m[\u001b[0m\u001b[0mparser\u001b[0m\u001b[0;34m]\u001b[0m\u001b[0;34m(\u001b[0m\u001b[0mself\u001b[0m\u001b[0;34m.\u001b[0m\u001b[0menv\u001b[0m\u001b[0;34m,\u001b[0m \u001b[0mself\u001b[0m\u001b[0;34m.\u001b[0m\u001b[0mengine\u001b[0m\u001b[0;34m,\u001b[0m \u001b[0mself\u001b[0m\u001b[0;34m.\u001b[0m\u001b[0mparser\u001b[0m\u001b[0;34m)\u001b[0m\u001b[0;34m\u001b[0m\u001b[0;34m\u001b[0m\u001b[0m\n\u001b[0;32m--> 739\u001b[0;31m         \u001b[0mself\u001b[0m\u001b[0;34m.\u001b[0m\u001b[0mterms\u001b[0m \u001b[0;34m=\u001b[0m \u001b[0mself\u001b[0m\u001b[0;34m.\u001b[0m\u001b[0mparse\u001b[0m\u001b[0;34m(\u001b[0m\u001b[0;34m)\u001b[0m\u001b[0;34m\u001b[0m\u001b[0;34m\u001b[0m\u001b[0m\n\u001b[0m\u001b[1;32m    740\u001b[0m \u001b[0;34m\u001b[0m\u001b[0m\n\u001b[1;32m    741\u001b[0m     \u001b[0;34m@\u001b[0m\u001b[0mproperty\u001b[0m\u001b[0;34m\u001b[0m\u001b[0;34m\u001b[0m\u001b[0m\n",
      "\u001b[0;32m~/miniconda3/envs/py36/lib/python3.6/site-packages/pandas/core/computation/expr.py\u001b[0m in \u001b[0;36mparse\u001b[0;34m(self)\u001b[0m\n\u001b[1;32m    754\u001b[0m     \u001b[0;32mdef\u001b[0m \u001b[0mparse\u001b[0m\u001b[0;34m(\u001b[0m\u001b[0mself\u001b[0m\u001b[0;34m)\u001b[0m\u001b[0;34m:\u001b[0m\u001b[0;34m\u001b[0m\u001b[0;34m\u001b[0m\u001b[0m\n\u001b[1;32m    755\u001b[0m         \u001b[0;34m\"\"\"Parse an expression\"\"\"\u001b[0m\u001b[0;34m\u001b[0m\u001b[0;34m\u001b[0m\u001b[0m\n\u001b[0;32m--> 756\u001b[0;31m         \u001b[0;32mreturn\u001b[0m \u001b[0mself\u001b[0m\u001b[0;34m.\u001b[0m\u001b[0m_visitor\u001b[0m\u001b[0;34m.\u001b[0m\u001b[0mvisit\u001b[0m\u001b[0;34m(\u001b[0m\u001b[0mself\u001b[0m\u001b[0;34m.\u001b[0m\u001b[0mexpr\u001b[0m\u001b[0;34m)\u001b[0m\u001b[0;34m\u001b[0m\u001b[0;34m\u001b[0m\u001b[0m\n\u001b[0m\u001b[1;32m    757\u001b[0m \u001b[0;34m\u001b[0m\u001b[0m\n\u001b[1;32m    758\u001b[0m     \u001b[0;34m@\u001b[0m\u001b[0mproperty\u001b[0m\u001b[0;34m\u001b[0m\u001b[0;34m\u001b[0m\u001b[0m\n",
      "\u001b[0;32m~/miniconda3/envs/py36/lib/python3.6/site-packages/pandas/core/computation/expr.py\u001b[0m in \u001b[0;36mvisit\u001b[0;34m(self, node, **kwargs)\u001b[0m\n\u001b[1;32m    319\u001b[0m         \u001b[0mmethod\u001b[0m \u001b[0;34m=\u001b[0m \u001b[0;34m'visit_'\u001b[0m \u001b[0;34m+\u001b[0m \u001b[0mnode\u001b[0m\u001b[0;34m.\u001b[0m\u001b[0m__class__\u001b[0m\u001b[0;34m.\u001b[0m\u001b[0m__name__\u001b[0m\u001b[0;34m\u001b[0m\u001b[0;34m\u001b[0m\u001b[0m\n\u001b[1;32m    320\u001b[0m         \u001b[0mvisitor\u001b[0m \u001b[0;34m=\u001b[0m \u001b[0mgetattr\u001b[0m\u001b[0;34m(\u001b[0m\u001b[0mself\u001b[0m\u001b[0;34m,\u001b[0m \u001b[0mmethod\u001b[0m\u001b[0;34m)\u001b[0m\u001b[0;34m\u001b[0m\u001b[0;34m\u001b[0m\u001b[0m\n\u001b[0;32m--> 321\u001b[0;31m         \u001b[0;32mreturn\u001b[0m \u001b[0mvisitor\u001b[0m\u001b[0;34m(\u001b[0m\u001b[0mnode\u001b[0m\u001b[0;34m,\u001b[0m \u001b[0;34m**\u001b[0m\u001b[0mkwargs\u001b[0m\u001b[0;34m)\u001b[0m\u001b[0;34m\u001b[0m\u001b[0;34m\u001b[0m\u001b[0m\n\u001b[0m\u001b[1;32m    322\u001b[0m \u001b[0;34m\u001b[0m\u001b[0m\n\u001b[1;32m    323\u001b[0m     \u001b[0;32mdef\u001b[0m \u001b[0mvisit_Module\u001b[0m\u001b[0;34m(\u001b[0m\u001b[0mself\u001b[0m\u001b[0;34m,\u001b[0m \u001b[0mnode\u001b[0m\u001b[0;34m,\u001b[0m \u001b[0;34m**\u001b[0m\u001b[0mkwargs\u001b[0m\u001b[0;34m)\u001b[0m\u001b[0;34m:\u001b[0m\u001b[0;34m\u001b[0m\u001b[0;34m\u001b[0m\u001b[0m\n",
      "\u001b[0;32m~/miniconda3/envs/py36/lib/python3.6/site-packages/pandas/core/computation/expr.py\u001b[0m in \u001b[0;36mvisit_Module\u001b[0;34m(self, node, **kwargs)\u001b[0m\n\u001b[1;32m    325\u001b[0m             \u001b[0;32mraise\u001b[0m \u001b[0mSyntaxError\u001b[0m\u001b[0;34m(\u001b[0m\u001b[0;34m'only a single expression is allowed'\u001b[0m\u001b[0;34m)\u001b[0m\u001b[0;34m\u001b[0m\u001b[0;34m\u001b[0m\u001b[0m\n\u001b[1;32m    326\u001b[0m         \u001b[0mexpr\u001b[0m \u001b[0;34m=\u001b[0m \u001b[0mnode\u001b[0m\u001b[0;34m.\u001b[0m\u001b[0mbody\u001b[0m\u001b[0;34m[\u001b[0m\u001b[0;36m0\u001b[0m\u001b[0;34m]\u001b[0m\u001b[0;34m\u001b[0m\u001b[0;34m\u001b[0m\u001b[0m\n\u001b[0;32m--> 327\u001b[0;31m         \u001b[0;32mreturn\u001b[0m \u001b[0mself\u001b[0m\u001b[0;34m.\u001b[0m\u001b[0mvisit\u001b[0m\u001b[0;34m(\u001b[0m\u001b[0mexpr\u001b[0m\u001b[0;34m,\u001b[0m \u001b[0;34m**\u001b[0m\u001b[0mkwargs\u001b[0m\u001b[0;34m)\u001b[0m\u001b[0;34m\u001b[0m\u001b[0;34m\u001b[0m\u001b[0m\n\u001b[0m\u001b[1;32m    328\u001b[0m \u001b[0;34m\u001b[0m\u001b[0m\n\u001b[1;32m    329\u001b[0m     \u001b[0;32mdef\u001b[0m \u001b[0mvisit_Expr\u001b[0m\u001b[0;34m(\u001b[0m\u001b[0mself\u001b[0m\u001b[0;34m,\u001b[0m \u001b[0mnode\u001b[0m\u001b[0;34m,\u001b[0m \u001b[0;34m**\u001b[0m\u001b[0mkwargs\u001b[0m\u001b[0;34m)\u001b[0m\u001b[0;34m:\u001b[0m\u001b[0;34m\u001b[0m\u001b[0;34m\u001b[0m\u001b[0m\n",
      "\u001b[0;32m~/miniconda3/envs/py36/lib/python3.6/site-packages/pandas/core/computation/expr.py\u001b[0m in \u001b[0;36mvisit\u001b[0;34m(self, node, **kwargs)\u001b[0m\n\u001b[1;32m    319\u001b[0m         \u001b[0mmethod\u001b[0m \u001b[0;34m=\u001b[0m \u001b[0;34m'visit_'\u001b[0m \u001b[0;34m+\u001b[0m \u001b[0mnode\u001b[0m\u001b[0;34m.\u001b[0m\u001b[0m__class__\u001b[0m\u001b[0;34m.\u001b[0m\u001b[0m__name__\u001b[0m\u001b[0;34m\u001b[0m\u001b[0;34m\u001b[0m\u001b[0m\n\u001b[1;32m    320\u001b[0m         \u001b[0mvisitor\u001b[0m \u001b[0;34m=\u001b[0m \u001b[0mgetattr\u001b[0m\u001b[0;34m(\u001b[0m\u001b[0mself\u001b[0m\u001b[0;34m,\u001b[0m \u001b[0mmethod\u001b[0m\u001b[0;34m)\u001b[0m\u001b[0;34m\u001b[0m\u001b[0;34m\u001b[0m\u001b[0m\n\u001b[0;32m--> 321\u001b[0;31m         \u001b[0;32mreturn\u001b[0m \u001b[0mvisitor\u001b[0m\u001b[0;34m(\u001b[0m\u001b[0mnode\u001b[0m\u001b[0;34m,\u001b[0m \u001b[0;34m**\u001b[0m\u001b[0mkwargs\u001b[0m\u001b[0;34m)\u001b[0m\u001b[0;34m\u001b[0m\u001b[0;34m\u001b[0m\u001b[0m\n\u001b[0m\u001b[1;32m    322\u001b[0m \u001b[0;34m\u001b[0m\u001b[0m\n\u001b[1;32m    323\u001b[0m     \u001b[0;32mdef\u001b[0m \u001b[0mvisit_Module\u001b[0m\u001b[0;34m(\u001b[0m\u001b[0mself\u001b[0m\u001b[0;34m,\u001b[0m \u001b[0mnode\u001b[0m\u001b[0;34m,\u001b[0m \u001b[0;34m**\u001b[0m\u001b[0mkwargs\u001b[0m\u001b[0;34m)\u001b[0m\u001b[0;34m:\u001b[0m\u001b[0;34m\u001b[0m\u001b[0;34m\u001b[0m\u001b[0m\n",
      "\u001b[0;32m~/miniconda3/envs/py36/lib/python3.6/site-packages/pandas/core/computation/expr.py\u001b[0m in \u001b[0;36mvisit_Expr\u001b[0;34m(self, node, **kwargs)\u001b[0m\n\u001b[1;32m    328\u001b[0m \u001b[0;34m\u001b[0m\u001b[0m\n\u001b[1;32m    329\u001b[0m     \u001b[0;32mdef\u001b[0m \u001b[0mvisit_Expr\u001b[0m\u001b[0;34m(\u001b[0m\u001b[0mself\u001b[0m\u001b[0;34m,\u001b[0m \u001b[0mnode\u001b[0m\u001b[0;34m,\u001b[0m \u001b[0;34m**\u001b[0m\u001b[0mkwargs\u001b[0m\u001b[0;34m)\u001b[0m\u001b[0;34m:\u001b[0m\u001b[0;34m\u001b[0m\u001b[0;34m\u001b[0m\u001b[0m\n\u001b[0;32m--> 330\u001b[0;31m         \u001b[0;32mreturn\u001b[0m \u001b[0mself\u001b[0m\u001b[0;34m.\u001b[0m\u001b[0mvisit\u001b[0m\u001b[0;34m(\u001b[0m\u001b[0mnode\u001b[0m\u001b[0;34m.\u001b[0m\u001b[0mvalue\u001b[0m\u001b[0;34m,\u001b[0m \u001b[0;34m**\u001b[0m\u001b[0mkwargs\u001b[0m\u001b[0;34m)\u001b[0m\u001b[0;34m\u001b[0m\u001b[0;34m\u001b[0m\u001b[0m\n\u001b[0m\u001b[1;32m    331\u001b[0m \u001b[0;34m\u001b[0m\u001b[0m\n\u001b[1;32m    332\u001b[0m     \u001b[0;32mdef\u001b[0m \u001b[0m_rewrite_membership_op\u001b[0m\u001b[0;34m(\u001b[0m\u001b[0mself\u001b[0m\u001b[0;34m,\u001b[0m \u001b[0mnode\u001b[0m\u001b[0;34m,\u001b[0m \u001b[0mleft\u001b[0m\u001b[0;34m,\u001b[0m \u001b[0mright\u001b[0m\u001b[0;34m)\u001b[0m\u001b[0;34m:\u001b[0m\u001b[0;34m\u001b[0m\u001b[0;34m\u001b[0m\u001b[0m\n",
      "\u001b[0;32m~/miniconda3/envs/py36/lib/python3.6/site-packages/pandas/core/computation/expr.py\u001b[0m in \u001b[0;36mvisit\u001b[0;34m(self, node, **kwargs)\u001b[0m\n\u001b[1;32m    319\u001b[0m         \u001b[0mmethod\u001b[0m \u001b[0;34m=\u001b[0m \u001b[0;34m'visit_'\u001b[0m \u001b[0;34m+\u001b[0m \u001b[0mnode\u001b[0m\u001b[0;34m.\u001b[0m\u001b[0m__class__\u001b[0m\u001b[0;34m.\u001b[0m\u001b[0m__name__\u001b[0m\u001b[0;34m\u001b[0m\u001b[0;34m\u001b[0m\u001b[0m\n\u001b[1;32m    320\u001b[0m         \u001b[0mvisitor\u001b[0m \u001b[0;34m=\u001b[0m \u001b[0mgetattr\u001b[0m\u001b[0;34m(\u001b[0m\u001b[0mself\u001b[0m\u001b[0;34m,\u001b[0m \u001b[0mmethod\u001b[0m\u001b[0;34m)\u001b[0m\u001b[0;34m\u001b[0m\u001b[0;34m\u001b[0m\u001b[0m\n\u001b[0;32m--> 321\u001b[0;31m         \u001b[0;32mreturn\u001b[0m \u001b[0mvisitor\u001b[0m\u001b[0;34m(\u001b[0m\u001b[0mnode\u001b[0m\u001b[0;34m,\u001b[0m \u001b[0;34m**\u001b[0m\u001b[0mkwargs\u001b[0m\u001b[0;34m)\u001b[0m\u001b[0;34m\u001b[0m\u001b[0;34m\u001b[0m\u001b[0m\n\u001b[0m\u001b[1;32m    322\u001b[0m \u001b[0;34m\u001b[0m\u001b[0m\n\u001b[1;32m    323\u001b[0m     \u001b[0;32mdef\u001b[0m \u001b[0mvisit_Module\u001b[0m\u001b[0;34m(\u001b[0m\u001b[0mself\u001b[0m\u001b[0;34m,\u001b[0m \u001b[0mnode\u001b[0m\u001b[0;34m,\u001b[0m \u001b[0;34m**\u001b[0m\u001b[0mkwargs\u001b[0m\u001b[0;34m)\u001b[0m\u001b[0;34m:\u001b[0m\u001b[0;34m\u001b[0m\u001b[0;34m\u001b[0m\u001b[0m\n",
      "\u001b[0;32m~/miniconda3/envs/py36/lib/python3.6/site-packages/pandas/core/computation/expr.py\u001b[0m in \u001b[0;36mvisit_Compare\u001b[0;34m(self, node, **kwargs)\u001b[0m\n\u001b[1;32m    654\u001b[0m             \u001b[0mop\u001b[0m \u001b[0;34m=\u001b[0m \u001b[0mself\u001b[0m\u001b[0;34m.\u001b[0m\u001b[0mtranslate_In\u001b[0m\u001b[0;34m(\u001b[0m\u001b[0mops\u001b[0m\u001b[0;34m[\u001b[0m\u001b[0;36m0\u001b[0m\u001b[0;34m]\u001b[0m\u001b[0;34m)\u001b[0m\u001b[0;34m\u001b[0m\u001b[0;34m\u001b[0m\u001b[0m\n\u001b[1;32m    655\u001b[0m             \u001b[0mbinop\u001b[0m \u001b[0;34m=\u001b[0m \u001b[0mast\u001b[0m\u001b[0;34m.\u001b[0m\u001b[0mBinOp\u001b[0m\u001b[0;34m(\u001b[0m\u001b[0mop\u001b[0m\u001b[0;34m=\u001b[0m\u001b[0mop\u001b[0m\u001b[0;34m,\u001b[0m \u001b[0mleft\u001b[0m\u001b[0;34m=\u001b[0m\u001b[0mnode\u001b[0m\u001b[0;34m.\u001b[0m\u001b[0mleft\u001b[0m\u001b[0;34m,\u001b[0m \u001b[0mright\u001b[0m\u001b[0;34m=\u001b[0m\u001b[0mcomps\u001b[0m\u001b[0;34m[\u001b[0m\u001b[0;36m0\u001b[0m\u001b[0;34m]\u001b[0m\u001b[0;34m)\u001b[0m\u001b[0;34m\u001b[0m\u001b[0;34m\u001b[0m\u001b[0m\n\u001b[0;32m--> 656\u001b[0;31m             \u001b[0;32mreturn\u001b[0m \u001b[0mself\u001b[0m\u001b[0;34m.\u001b[0m\u001b[0mvisit\u001b[0m\u001b[0;34m(\u001b[0m\u001b[0mbinop\u001b[0m\u001b[0;34m)\u001b[0m\u001b[0;34m\u001b[0m\u001b[0;34m\u001b[0m\u001b[0m\n\u001b[0m\u001b[1;32m    657\u001b[0m \u001b[0;34m\u001b[0m\u001b[0m\n\u001b[1;32m    658\u001b[0m         \u001b[0;31m# recursive case: we have a chained comparison, a CMP b CMP c, etc.\u001b[0m\u001b[0;34m\u001b[0m\u001b[0;34m\u001b[0m\u001b[0;34m\u001b[0m\u001b[0m\n",
      "\u001b[0;32m~/miniconda3/envs/py36/lib/python3.6/site-packages/pandas/core/computation/expr.py\u001b[0m in \u001b[0;36mvisit\u001b[0;34m(self, node, **kwargs)\u001b[0m\n\u001b[1;32m    319\u001b[0m         \u001b[0mmethod\u001b[0m \u001b[0;34m=\u001b[0m \u001b[0;34m'visit_'\u001b[0m \u001b[0;34m+\u001b[0m \u001b[0mnode\u001b[0m\u001b[0;34m.\u001b[0m\u001b[0m__class__\u001b[0m\u001b[0;34m.\u001b[0m\u001b[0m__name__\u001b[0m\u001b[0;34m\u001b[0m\u001b[0;34m\u001b[0m\u001b[0m\n\u001b[1;32m    320\u001b[0m         \u001b[0mvisitor\u001b[0m \u001b[0;34m=\u001b[0m \u001b[0mgetattr\u001b[0m\u001b[0;34m(\u001b[0m\u001b[0mself\u001b[0m\u001b[0;34m,\u001b[0m \u001b[0mmethod\u001b[0m\u001b[0;34m)\u001b[0m\u001b[0;34m\u001b[0m\u001b[0;34m\u001b[0m\u001b[0m\n\u001b[0;32m--> 321\u001b[0;31m         \u001b[0;32mreturn\u001b[0m \u001b[0mvisitor\u001b[0m\u001b[0;34m(\u001b[0m\u001b[0mnode\u001b[0m\u001b[0;34m,\u001b[0m \u001b[0;34m**\u001b[0m\u001b[0mkwargs\u001b[0m\u001b[0;34m)\u001b[0m\u001b[0;34m\u001b[0m\u001b[0;34m\u001b[0m\u001b[0m\n\u001b[0m\u001b[1;32m    322\u001b[0m \u001b[0;34m\u001b[0m\u001b[0m\n\u001b[1;32m    323\u001b[0m     \u001b[0;32mdef\u001b[0m \u001b[0mvisit_Module\u001b[0m\u001b[0;34m(\u001b[0m\u001b[0mself\u001b[0m\u001b[0;34m,\u001b[0m \u001b[0mnode\u001b[0m\u001b[0;34m,\u001b[0m \u001b[0;34m**\u001b[0m\u001b[0mkwargs\u001b[0m\u001b[0;34m)\u001b[0m\u001b[0;34m:\u001b[0m\u001b[0;34m\u001b[0m\u001b[0;34m\u001b[0m\u001b[0m\n",
      "\u001b[0;32m~/miniconda3/envs/py36/lib/python3.6/site-packages/pandas/core/computation/expr.py\u001b[0m in \u001b[0;36mvisit_BinOp\u001b[0;34m(self, node, **kwargs)\u001b[0m\n\u001b[1;32m    423\u001b[0m \u001b[0;34m\u001b[0m\u001b[0m\n\u001b[1;32m    424\u001b[0m     \u001b[0;32mdef\u001b[0m \u001b[0mvisit_BinOp\u001b[0m\u001b[0;34m(\u001b[0m\u001b[0mself\u001b[0m\u001b[0;34m,\u001b[0m \u001b[0mnode\u001b[0m\u001b[0;34m,\u001b[0m \u001b[0;34m**\u001b[0m\u001b[0mkwargs\u001b[0m\u001b[0;34m)\u001b[0m\u001b[0;34m:\u001b[0m\u001b[0;34m\u001b[0m\u001b[0;34m\u001b[0m\u001b[0m\n\u001b[0;32m--> 425\u001b[0;31m         \u001b[0mop\u001b[0m\u001b[0;34m,\u001b[0m \u001b[0mop_class\u001b[0m\u001b[0;34m,\u001b[0m \u001b[0mleft\u001b[0m\u001b[0;34m,\u001b[0m \u001b[0mright\u001b[0m \u001b[0;34m=\u001b[0m \u001b[0mself\u001b[0m\u001b[0;34m.\u001b[0m\u001b[0m_maybe_transform_eq_ne\u001b[0m\u001b[0;34m(\u001b[0m\u001b[0mnode\u001b[0m\u001b[0;34m)\u001b[0m\u001b[0;34m\u001b[0m\u001b[0;34m\u001b[0m\u001b[0m\n\u001b[0m\u001b[1;32m    426\u001b[0m         \u001b[0mleft\u001b[0m\u001b[0;34m,\u001b[0m \u001b[0mright\u001b[0m \u001b[0;34m=\u001b[0m \u001b[0mself\u001b[0m\u001b[0;34m.\u001b[0m\u001b[0m_maybe_downcast_constants\u001b[0m\u001b[0;34m(\u001b[0m\u001b[0mleft\u001b[0m\u001b[0;34m,\u001b[0m \u001b[0mright\u001b[0m\u001b[0;34m)\u001b[0m\u001b[0;34m\u001b[0m\u001b[0;34m\u001b[0m\u001b[0m\n\u001b[1;32m    427\u001b[0m         \u001b[0;32mreturn\u001b[0m \u001b[0mself\u001b[0m\u001b[0;34m.\u001b[0m\u001b[0m_maybe_evaluate_binop\u001b[0m\u001b[0;34m(\u001b[0m\u001b[0mop\u001b[0m\u001b[0;34m,\u001b[0m \u001b[0mop_class\u001b[0m\u001b[0;34m,\u001b[0m \u001b[0mleft\u001b[0m\u001b[0;34m,\u001b[0m \u001b[0mright\u001b[0m\u001b[0;34m)\u001b[0m\u001b[0;34m\u001b[0m\u001b[0;34m\u001b[0m\u001b[0m\n",
      "\u001b[0;32m~/miniconda3/envs/py36/lib/python3.6/site-packages/pandas/core/computation/expr.py\u001b[0m in \u001b[0;36m_maybe_transform_eq_ne\u001b[0;34m(self, node, left, right)\u001b[0m\n\u001b[1;32m    360\u001b[0m     \u001b[0;32mdef\u001b[0m \u001b[0m_maybe_transform_eq_ne\u001b[0m\u001b[0;34m(\u001b[0m\u001b[0mself\u001b[0m\u001b[0;34m,\u001b[0m \u001b[0mnode\u001b[0m\u001b[0;34m,\u001b[0m \u001b[0mleft\u001b[0m\u001b[0;34m=\u001b[0m\u001b[0;32mNone\u001b[0m\u001b[0;34m,\u001b[0m \u001b[0mright\u001b[0m\u001b[0;34m=\u001b[0m\u001b[0;32mNone\u001b[0m\u001b[0;34m)\u001b[0m\u001b[0;34m:\u001b[0m\u001b[0;34m\u001b[0m\u001b[0;34m\u001b[0m\u001b[0m\n\u001b[1;32m    361\u001b[0m         \u001b[0;32mif\u001b[0m \u001b[0mleft\u001b[0m \u001b[0;32mis\u001b[0m \u001b[0;32mNone\u001b[0m\u001b[0;34m:\u001b[0m\u001b[0;34m\u001b[0m\u001b[0;34m\u001b[0m\u001b[0m\n\u001b[0;32m--> 362\u001b[0;31m             \u001b[0mleft\u001b[0m \u001b[0;34m=\u001b[0m \u001b[0mself\u001b[0m\u001b[0;34m.\u001b[0m\u001b[0mvisit\u001b[0m\u001b[0;34m(\u001b[0m\u001b[0mnode\u001b[0m\u001b[0;34m.\u001b[0m\u001b[0mleft\u001b[0m\u001b[0;34m,\u001b[0m \u001b[0mside\u001b[0m\u001b[0;34m=\u001b[0m\u001b[0;34m'left'\u001b[0m\u001b[0;34m)\u001b[0m\u001b[0;34m\u001b[0m\u001b[0;34m\u001b[0m\u001b[0m\n\u001b[0m\u001b[1;32m    363\u001b[0m         \u001b[0;32mif\u001b[0m \u001b[0mright\u001b[0m \u001b[0;32mis\u001b[0m \u001b[0;32mNone\u001b[0m\u001b[0;34m:\u001b[0m\u001b[0;34m\u001b[0m\u001b[0;34m\u001b[0m\u001b[0m\n\u001b[1;32m    364\u001b[0m             \u001b[0mright\u001b[0m \u001b[0;34m=\u001b[0m \u001b[0mself\u001b[0m\u001b[0;34m.\u001b[0m\u001b[0mvisit\u001b[0m\u001b[0;34m(\u001b[0m\u001b[0mnode\u001b[0m\u001b[0;34m.\u001b[0m\u001b[0mright\u001b[0m\u001b[0;34m,\u001b[0m \u001b[0mside\u001b[0m\u001b[0;34m=\u001b[0m\u001b[0;34m'right'\u001b[0m\u001b[0;34m)\u001b[0m\u001b[0;34m\u001b[0m\u001b[0;34m\u001b[0m\u001b[0m\n",
      "\u001b[0;32m~/miniconda3/envs/py36/lib/python3.6/site-packages/pandas/core/computation/expr.py\u001b[0m in \u001b[0;36mvisit\u001b[0;34m(self, node, **kwargs)\u001b[0m\n\u001b[1;32m    319\u001b[0m         \u001b[0mmethod\u001b[0m \u001b[0;34m=\u001b[0m \u001b[0;34m'visit_'\u001b[0m \u001b[0;34m+\u001b[0m \u001b[0mnode\u001b[0m\u001b[0;34m.\u001b[0m\u001b[0m__class__\u001b[0m\u001b[0;34m.\u001b[0m\u001b[0m__name__\u001b[0m\u001b[0;34m\u001b[0m\u001b[0;34m\u001b[0m\u001b[0m\n\u001b[1;32m    320\u001b[0m         \u001b[0mvisitor\u001b[0m \u001b[0;34m=\u001b[0m \u001b[0mgetattr\u001b[0m\u001b[0;34m(\u001b[0m\u001b[0mself\u001b[0m\u001b[0;34m,\u001b[0m \u001b[0mmethod\u001b[0m\u001b[0;34m)\u001b[0m\u001b[0;34m\u001b[0m\u001b[0;34m\u001b[0m\u001b[0m\n\u001b[0;32m--> 321\u001b[0;31m         \u001b[0;32mreturn\u001b[0m \u001b[0mvisitor\u001b[0m\u001b[0;34m(\u001b[0m\u001b[0mnode\u001b[0m\u001b[0;34m,\u001b[0m \u001b[0;34m**\u001b[0m\u001b[0mkwargs\u001b[0m\u001b[0;34m)\u001b[0m\u001b[0;34m\u001b[0m\u001b[0;34m\u001b[0m\u001b[0m\n\u001b[0m\u001b[1;32m    322\u001b[0m \u001b[0;34m\u001b[0m\u001b[0m\n\u001b[1;32m    323\u001b[0m     \u001b[0;32mdef\u001b[0m \u001b[0mvisit_Module\u001b[0m\u001b[0;34m(\u001b[0m\u001b[0mself\u001b[0m\u001b[0;34m,\u001b[0m \u001b[0mnode\u001b[0m\u001b[0;34m,\u001b[0m \u001b[0;34m**\u001b[0m\u001b[0mkwargs\u001b[0m\u001b[0;34m)\u001b[0m\u001b[0;34m:\u001b[0m\u001b[0;34m\u001b[0m\u001b[0;34m\u001b[0m\u001b[0m\n",
      "\u001b[0;32m~/miniconda3/envs/py36/lib/python3.6/site-packages/pandas/core/computation/expr.py\u001b[0m in \u001b[0;36mvisit_Name\u001b[0;34m(self, node, **kwargs)\u001b[0m\n\u001b[1;32m    437\u001b[0m \u001b[0;34m\u001b[0m\u001b[0m\n\u001b[1;32m    438\u001b[0m     \u001b[0;32mdef\u001b[0m \u001b[0mvisit_Name\u001b[0m\u001b[0;34m(\u001b[0m\u001b[0mself\u001b[0m\u001b[0;34m,\u001b[0m \u001b[0mnode\u001b[0m\u001b[0;34m,\u001b[0m \u001b[0;34m**\u001b[0m\u001b[0mkwargs\u001b[0m\u001b[0;34m)\u001b[0m\u001b[0;34m:\u001b[0m\u001b[0;34m\u001b[0m\u001b[0;34m\u001b[0m\u001b[0m\n\u001b[0;32m--> 439\u001b[0;31m         \u001b[0;32mreturn\u001b[0m \u001b[0mself\u001b[0m\u001b[0;34m.\u001b[0m\u001b[0mterm_type\u001b[0m\u001b[0;34m(\u001b[0m\u001b[0mnode\u001b[0m\u001b[0;34m.\u001b[0m\u001b[0mid\u001b[0m\u001b[0;34m,\u001b[0m \u001b[0mself\u001b[0m\u001b[0;34m.\u001b[0m\u001b[0menv\u001b[0m\u001b[0;34m,\u001b[0m \u001b[0;34m**\u001b[0m\u001b[0mkwargs\u001b[0m\u001b[0;34m)\u001b[0m\u001b[0;34m\u001b[0m\u001b[0;34m\u001b[0m\u001b[0m\n\u001b[0m\u001b[1;32m    440\u001b[0m \u001b[0;34m\u001b[0m\u001b[0m\n\u001b[1;32m    441\u001b[0m     \u001b[0;32mdef\u001b[0m \u001b[0mvisit_NameConstant\u001b[0m\u001b[0;34m(\u001b[0m\u001b[0mself\u001b[0m\u001b[0;34m,\u001b[0m \u001b[0mnode\u001b[0m\u001b[0;34m,\u001b[0m \u001b[0;34m**\u001b[0m\u001b[0mkwargs\u001b[0m\u001b[0;34m)\u001b[0m\u001b[0;34m:\u001b[0m\u001b[0;34m\u001b[0m\u001b[0;34m\u001b[0m\u001b[0m\n",
      "\u001b[0;32m~/miniconda3/envs/py36/lib/python3.6/site-packages/pandas/core/computation/ops.py\u001b[0m in \u001b[0;36m__init__\u001b[0;34m(self, name, env, side, encoding)\u001b[0m\n\u001b[1;32m     56\u001b[0m         self.is_local = (tname.startswith(_LOCAL_TAG) or\n\u001b[1;32m     57\u001b[0m                          tname in _DEFAULT_GLOBALS)\n\u001b[0;32m---> 58\u001b[0;31m         \u001b[0mself\u001b[0m\u001b[0;34m.\u001b[0m\u001b[0m_value\u001b[0m \u001b[0;34m=\u001b[0m \u001b[0mself\u001b[0m\u001b[0;34m.\u001b[0m\u001b[0m_resolve_name\u001b[0m\u001b[0;34m(\u001b[0m\u001b[0;34m)\u001b[0m\u001b[0;34m\u001b[0m\u001b[0;34m\u001b[0m\u001b[0m\n\u001b[0m\u001b[1;32m     59\u001b[0m         \u001b[0mself\u001b[0m\u001b[0;34m.\u001b[0m\u001b[0mencoding\u001b[0m \u001b[0;34m=\u001b[0m \u001b[0mencoding\u001b[0m\u001b[0;34m\u001b[0m\u001b[0;34m\u001b[0m\u001b[0m\n\u001b[1;32m     60\u001b[0m \u001b[0;34m\u001b[0m\u001b[0m\n",
      "\u001b[0;32m~/miniconda3/envs/py36/lib/python3.6/site-packages/pandas/core/computation/ops.py\u001b[0m in \u001b[0;36m_resolve_name\u001b[0;34m(self)\u001b[0m\n\u001b[1;32m     73\u001b[0m \u001b[0;34m\u001b[0m\u001b[0m\n\u001b[1;32m     74\u001b[0m     \u001b[0;32mdef\u001b[0m \u001b[0m_resolve_name\u001b[0m\u001b[0;34m(\u001b[0m\u001b[0mself\u001b[0m\u001b[0;34m)\u001b[0m\u001b[0;34m:\u001b[0m\u001b[0;34m\u001b[0m\u001b[0;34m\u001b[0m\u001b[0m\n\u001b[0;32m---> 75\u001b[0;31m         \u001b[0mres\u001b[0m \u001b[0;34m=\u001b[0m \u001b[0mself\u001b[0m\u001b[0;34m.\u001b[0m\u001b[0menv\u001b[0m\u001b[0;34m.\u001b[0m\u001b[0mresolve\u001b[0m\u001b[0;34m(\u001b[0m\u001b[0mself\u001b[0m\u001b[0;34m.\u001b[0m\u001b[0mlocal_name\u001b[0m\u001b[0;34m,\u001b[0m \u001b[0mis_local\u001b[0m\u001b[0;34m=\u001b[0m\u001b[0mself\u001b[0m\u001b[0;34m.\u001b[0m\u001b[0mis_local\u001b[0m\u001b[0;34m)\u001b[0m\u001b[0;34m\u001b[0m\u001b[0;34m\u001b[0m\u001b[0m\n\u001b[0m\u001b[1;32m     76\u001b[0m         \u001b[0mself\u001b[0m\u001b[0;34m.\u001b[0m\u001b[0mupdate\u001b[0m\u001b[0;34m(\u001b[0m\u001b[0mres\u001b[0m\u001b[0;34m)\u001b[0m\u001b[0;34m\u001b[0m\u001b[0;34m\u001b[0m\u001b[0m\n\u001b[1;32m     77\u001b[0m \u001b[0;34m\u001b[0m\u001b[0m\n",
      "\u001b[0;32m~/miniconda3/envs/py36/lib/python3.6/site-packages/pandas/core/computation/scope.py\u001b[0m in \u001b[0;36mresolve\u001b[0;34m(self, key, is_local)\u001b[0m\n\u001b[1;32m    192\u001b[0m                 \u001b[0;32mreturn\u001b[0m \u001b[0mself\u001b[0m\u001b[0;34m.\u001b[0m\u001b[0mtemps\u001b[0m\u001b[0;34m[\u001b[0m\u001b[0mkey\u001b[0m\u001b[0;34m]\u001b[0m\u001b[0;34m\u001b[0m\u001b[0;34m\u001b[0m\u001b[0m\n\u001b[1;32m    193\u001b[0m             \u001b[0;32mexcept\u001b[0m \u001b[0mKeyError\u001b[0m\u001b[0;34m:\u001b[0m\u001b[0;34m\u001b[0m\u001b[0;34m\u001b[0m\u001b[0m\n\u001b[0;32m--> 194\u001b[0;31m                 \u001b[0;32mraise\u001b[0m \u001b[0mcompu\u001b[0m\u001b[0;34m.\u001b[0m\u001b[0mops\u001b[0m\u001b[0;34m.\u001b[0m\u001b[0mUndefinedVariableError\u001b[0m\u001b[0;34m(\u001b[0m\u001b[0mkey\u001b[0m\u001b[0;34m,\u001b[0m \u001b[0mis_local\u001b[0m\u001b[0;34m)\u001b[0m\u001b[0;34m\u001b[0m\u001b[0;34m\u001b[0m\u001b[0m\n\u001b[0m\u001b[1;32m    195\u001b[0m \u001b[0;34m\u001b[0m\u001b[0m\n\u001b[1;32m    196\u001b[0m     \u001b[0;32mdef\u001b[0m \u001b[0mswapkey\u001b[0m\u001b[0;34m(\u001b[0m\u001b[0mself\u001b[0m\u001b[0;34m,\u001b[0m \u001b[0mold_key\u001b[0m\u001b[0;34m,\u001b[0m \u001b[0mnew_key\u001b[0m\u001b[0;34m,\u001b[0m \u001b[0mnew_value\u001b[0m\u001b[0;34m=\u001b[0m\u001b[0;32mNone\u001b[0m\u001b[0;34m)\u001b[0m\u001b[0;34m:\u001b[0m\u001b[0;34m\u001b[0m\u001b[0;34m\u001b[0m\u001b[0m\n",
      "\u001b[0;31mUndefinedVariableError\u001b[0m: name 'reviews' is not defined"
     ]
    }
   ],
   "source": [
    "df_api.query('reviews == \"3.0M\"')"
   ]
  },
  {
   "cell_type": "code",
   "execution_count": 12,
   "metadata": {
    "ExecuteTime": {
     "end_time": "2019-08-12T00:51:15.268528Z",
     "start_time": "2019-08-12T00:51:15.260729Z"
    }
   },
   "outputs": [
    {
     "data": {
      "text/plain": [
       "(2352, 31)"
      ]
     },
     "execution_count": 12,
     "metadata": {},
     "output_type": "execute_result"
    }
   ],
   "source": [
    "df_api.shape"
   ]
  },
  {
   "cell_type": "code",
   "execution_count": 13,
   "metadata": {
    "ExecuteTime": {
     "end_time": "2019-08-12T00:51:15.281775Z",
     "start_time": "2019-08-12T00:51:15.271791Z"
    },
    "hide_input": false
   },
   "outputs": [],
   "source": [
    "# drop list1\n",
    "## 先删除重复和无意义的信息\n",
    "droplist1 = ['contributors','coordinates','geo','place','id_str',\n",
    "             'in_reply_to_status_id_str','in_reply_to_user_id_str','quoted_status_id_str']"
   ]
  },
  {
   "cell_type": "code",
   "execution_count": 14,
   "metadata": {
    "ExecuteTime": {
     "end_time": "2019-08-12T00:51:15.297555Z",
     "start_time": "2019-08-12T00:51:15.285798Z"
    }
   },
   "outputs": [
    {
     "name": "stdout",
     "output_type": "stream",
     "text": [
      "---- proceding ----\n",
      "- drop 8 columns: ['contributors', 'coordinates', 'geo', 'place', 'id_str', 'in_reply_to_status_id_str', 'in_reply_to_user_id_str', 'quoted_status_id_str'] \n",
      "- remain 23 columns\n",
      "- success : True\n"
     ]
    }
   ],
   "source": [
    "## drop list1 excute\n",
    "w.drop_column(df_api,droplist1)"
   ]
  },
  {
   "cell_type": "markdown",
   "metadata": {},
   "source": [
    "### // check - inspect list\n",
    "对一些怀疑是否有用的数据进行检视"
   ]
  },
  {
   "cell_type": "code",
   "execution_count": 15,
   "metadata": {
    "ExecuteTime": {
     "end_time": "2019-08-12T00:51:15.328784Z",
     "start_time": "2019-08-12T00:51:15.303019Z"
    },
    "scrolled": false
   },
   "outputs": [
    {
     "name": "stdout",
     "output_type": "stream",
     "text": [
      "----checking sample index: 1430\n",
      "\n",
      "- columns #1 : created_at\n",
      "['2016-02-10T04:06:43.000000000']\n",
      "\n",
      "- columns #2 : display_text_range\n",
      "[list([0, 138])]\n",
      "\n",
      "- columns #3 : entities\n",
      "[{'hashtags': [], 'symbols': [], 'user_mentions': [], 'urls': [], 'media': [{'id': 697270435977818113, 'id_str': '697270435977818113', 'indices': [115, 138], 'media_url': 'http://pbs.twimg.com/media/Ca0zxGjW8AEfyYl.jpg', 'media_url_https': 'https://pbs.twimg.com/media/Ca0zxGjW8AEfyYl.jpg', 'url': 'https://t.co/7rS33sCKMS', 'display_url': 'pic.twitter.com/7rS33sCKMS', 'expanded_url': 'https://twitter.com/dog_rates/status/697270446429966336/photo/1', 'type': 'photo', 'sizes': {'thumb': {'w': 150, 'h': 150, 'resize': 'crop'}, 'medium': {'w': 768, 'h': 1024, 'resize': 'fit'}, 'large': {'w': 768, 'h': 1024, 'resize': 'fit'}, 'small': {'w': 510, 'h': 680, 'resize': 'fit'}}}]}]\n",
      "\n",
      "- columns #4 : extended_entities\n",
      "[{'media': [{'id': 697270435977818113, 'id_str': '697270435977818113', 'indices': [115, 138], 'media_url': 'http://pbs.twimg.com/media/Ca0zxGjW8AEfyYl.jpg', 'media_url_https': 'https://pbs.twimg.com/media/Ca0zxGjW8AEfyYl.jpg', 'url': 'https://t.co/7rS33sCKMS', 'display_url': 'pic.twitter.com/7rS33sCKMS', 'expanded_url': 'https://twitter.com/dog_rates/status/697270446429966336/photo/1', 'type': 'photo', 'sizes': {'thumb': {'w': 150, 'h': 150, 'resize': 'crop'}, 'medium': {'w': 768, 'h': 1024, 'resize': 'fit'}, 'large': {'w': 768, 'h': 1024, 'resize': 'fit'}, 'small': {'w': 510, 'h': 680, 'resize': 'fit'}}}]}]\n",
      "\n",
      "- columns #5 : favorite_count\n",
      "[5102]\n",
      "\n",
      "- columns #6 : favorited\n",
      "[False]\n",
      "\n",
      "- columns #7 : full_text\n",
      "['This is Bentley. He got stuck on his 3rd homework problem. Picturing the best case scenario if he drops out. 10/10 https://t.co/7rS33sCKMS']\n",
      "\n",
      "- columns #8 : id------\n",
      "[697270446429966336]\n",
      "\n",
      "- columns #9 : in_reply_to_screen_name\n",
      "[None]\n",
      "\n",
      "- columns #10 : in_reply_to_status_id\n",
      "[nan]\n",
      "\n",
      "- columns #11 : in_reply_to_user_id\n",
      "[nan]\n",
      "\n",
      "- columns #12 : is_quote_status\n",
      "[False]\n",
      "\n",
      "- columns #13 : lang----\n",
      "['en']\n",
      "\n",
      "- columns #14 : possibly_sensitive\n",
      "[0.]\n",
      "\n",
      "- columns #15 : possibly_sensitive_appealable\n",
      "[0.]\n",
      "\n",
      "- columns #16 : quoted_status\n",
      "[nan]\n",
      "\n",
      "- columns #17 : quoted_status_id\n",
      "[nan]\n",
      "\n",
      "- columns #18 : retweet_count\n",
      "[2080]\n",
      "\n",
      "- columns #19 : retweeted\n",
      "[False]\n",
      "\n",
      "- columns #20 : retweeted_status\n",
      "[nan]\n",
      "\n",
      "- columns #21 : source--\n",
      "['<a href=\"http://twitter.com/download/iphone\" rel=\"nofollow\">Twitter for iPhone</a>']\n",
      "\n",
      "- columns #22 : truncated\n",
      "[False]\n",
      "\n",
      "- columns #23 : user----\n",
      "[{'id': 4196983835, 'id_str': '4196983835', 'name': 'SpookyWeRateDogs™', 'screen_name': 'dog_rates', 'location': 'MERCH↴  DM DOGS. WE WILL RATE', 'description': 'Only Legit Source for Professional Dog Ratings STORE: @ShopWeRateDogs | IG, FB & SC: WeRateDogs | MOBILE APP: @GoodDogsGame Business: dogratingtwitter@gmail.com', 'url': 'https://t.co/N7sNNHAEXS', 'entities': {'url': {'urls': [{'url': 'https://t.co/N7sNNHAEXS', 'expanded_url': 'http://weratedogs.com', 'display_url': 'weratedogs.com', 'indices': [0, 23]}]}, 'description': {'urls': []}}, 'protected': False, 'followers_count': 3768857, 'friends_count': 107, 'listed_count': 3295, 'created_at': 'Sun Nov 15 21:41:29 +0000 2015', 'favourites_count': 120161, 'utc_offset': None, 'time_zone': None, 'geo_enabled': True, 'verified': True, 'statuses_count': 5749, 'lang': 'en', 'contributors_enabled': False, 'is_translator': False, 'is_translation_enabled': False, 'profile_background_color': '000000', 'profile_background_image_url': 'http://abs.twimg.com/images/themes/theme1/bg.png', 'profile_background_image_url_https': 'https://abs.twimg.com/images/themes/theme1/bg.png', 'profile_background_tile': False, 'profile_image_url': 'http://pbs.twimg.com/profile_images/914581071265755136/2h5uFpwU_normal.jpg', 'profile_image_url_https': 'https://pbs.twimg.com/profile_images/914581071265755136/2h5uFpwU_normal.jpg', 'profile_banner_url': 'https://pbs.twimg.com/profile_banners/4196983835/1506888628', 'profile_link_color': 'F5ABB5', 'profile_sidebar_border_color': '000000', 'profile_sidebar_fill_color': '000000', 'profile_text_color': '000000', 'profile_use_background_image': False, 'has_extended_profile': True, 'default_profile': False, 'default_profile_image': False, 'following': False, 'follow_request_sent': False, 'notifications': False, 'translator_type': 'none'}]\n",
      "'----checking complete----'\n"
     ]
    }
   ],
   "source": [
    "# check1 \n",
    "## snip remained columns\n",
    "w.check_sample(df_api)"
   ]
  },
  {
   "cell_type": "code",
   "execution_count": 16,
   "metadata": {
    "ExecuteTime": {
     "end_time": "2019-08-12T00:51:15.340282Z",
     "start_time": "2019-08-12T00:51:15.331723Z"
    }
   },
   "outputs": [],
   "source": [
    "## define inspect list1\n",
    "inslist1 = ['favorited','in_reply_to_screen_name','in_reply_to_status_id',\n",
    "            'in_reply_to_user_id','is_quote_status','lang','possibly_sensitive',\n",
    "            'possibly_sensitive_appealable','quoted_status_id','retweeted','truncated']"
   ]
  },
  {
   "cell_type": "code",
   "execution_count": 17,
   "metadata": {
    "ExecuteTime": {
     "end_time": "2019-08-12T00:51:15.360586Z",
     "start_time": "2019-08-12T00:51:15.343396Z"
    }
   },
   "outputs": [
    {
     "name": "stdout",
     "output_type": "stream",
     "text": [
      "<class 'pandas.core.frame.DataFrame'>\n",
      "RangeIndex: 2352 entries, 0 to 2351\n",
      "Data columns (total 11 columns):\n",
      "favorited                        2352 non-null bool\n",
      "in_reply_to_screen_name          78 non-null object\n",
      "in_reply_to_status_id            78 non-null float64\n",
      "in_reply_to_user_id              78 non-null float64\n",
      "is_quote_status                  2352 non-null bool\n",
      "lang                             2352 non-null object\n",
      "possibly_sensitive               2211 non-null float64\n",
      "possibly_sensitive_appealable    2211 non-null float64\n",
      "quoted_status_id                 29 non-null float64\n",
      "retweeted                        2352 non-null bool\n",
      "truncated                        2352 non-null bool\n",
      "dtypes: bool(4), float64(5), object(2)\n",
      "memory usage: 137.9+ KB\n"
     ]
    }
   ],
   "source": [
    "## inspect info\n",
    "df_api[inslist1].info()"
   ]
  },
  {
   "cell_type": "code",
   "execution_count": 18,
   "metadata": {
    "ExecuteTime": {
     "end_time": "2019-08-12T00:51:15.400914Z",
     "start_time": "2019-08-12T00:51:15.363269Z"
    }
   },
   "outputs": [
    {
     "name": "stdout",
     "output_type": "stream",
     "text": [
      "\n",
      "- columns: favorited\n",
      "False    2352\n",
      "Name: favorited, dtype: int64\n",
      "\n",
      "- columns: in_reply_to_screen_name\n",
      "dog_rates          47\n",
      "markhoppus          2\n",
      "imgur               1\n",
      "docmisterio         1\n",
      "SkyWilliams         1\n",
      "LightningHoltt      1\n",
      "shibbnbot           1\n",
      "NBCSports           1\n",
      "s8n                 1\n",
      "ABC7                1\n",
      "TheEllenShow        1\n",
      "dhmontgomery        1\n",
      "Jack_Septic_Eye     1\n",
      "NonWhiteHat         1\n",
      "JODYHiGHROLLER      1\n",
      "serial              1\n",
      "ABC                 1\n",
      "Marc_IRL            1\n",
      "UNC                 1\n",
      "bragg6of8           1\n",
      "HistoryInPics       1\n",
      "spaghemily          1\n",
      "roushfenway         1\n",
      "CommonWhiteGirI     1\n",
      "jonnysun            1\n",
      "wane15              1\n",
      "0_kelvin_0          1\n",
      "mount_alex3         1\n",
      "RealKentMurphy      1\n",
      "ComplicitOwl        1\n",
      "xianmcguire         1\n",
      "Name: in_reply_to_screen_name, dtype: int64\n",
      "\n",
      "- columns: in_reply_to_status_id\n",
      "6.671522e+17    2\n",
      "8.562860e+17    1\n",
      "8.131273e+17    1\n",
      "6.754971e+17    1\n",
      "6.827884e+17    1\n",
      "8.265984e+17    1\n",
      "6.780211e+17    1\n",
      "6.689207e+17    1\n",
      "6.658147e+17    1\n",
      "6.737159e+17    1\n",
      "7.590995e+17    1\n",
      "8.862664e+17    1\n",
      "7.384119e+17    1\n",
      "7.727430e+17    1\n",
      "7.468859e+17    1\n",
      "8.634256e+17    1\n",
      "6.693544e+17    1\n",
      "6.914169e+17    1\n",
      "6.920419e+17    1\n",
      "6.753494e+17    1\n",
      "7.291135e+17    1\n",
      "8.406983e+17    1\n",
      "6.747400e+17    1\n",
      "7.501805e+17    1\n",
      "6.744689e+17    1\n",
      "7.638652e+17    1\n",
      "6.747934e+17    1\n",
      "8.503288e+17    1\n",
      "6.747522e+17    1\n",
      "8.816070e+17    1\n",
      "               ..\n",
      "8.380855e+17    1\n",
      "8.211526e+17    1\n",
      "8.558616e+17    1\n",
      "8.558585e+17    1\n",
      "7.032559e+17    1\n",
      "6.678065e+17    1\n",
      "8.018543e+17    1\n",
      "7.667118e+17    1\n",
      "6.855479e+17    1\n",
      "6.717299e+17    1\n",
      "6.715610e+17    1\n",
      "6.758457e+17    1\n",
      "6.924173e+17    1\n",
      "7.476487e+17    1\n",
      "8.381455e+17    1\n",
      "6.903413e+17    1\n",
      "8.476062e+17    1\n",
      "8.352460e+17    1\n",
      "6.813394e+17    1\n",
      "8.795538e+17    1\n",
      "6.860340e+17    1\n",
      "8.571567e+17    1\n",
      "6.765883e+17    1\n",
      "7.044857e+17    1\n",
      "8.707262e+17    1\n",
      "8.482121e+17    1\n",
      "6.715449e+17    1\n",
      "6.936422e+17    1\n",
      "6.849598e+17    1\n",
      "7.331095e+17    1\n",
      "Name: in_reply_to_status_id, Length: 77, dtype: int64\n",
      "\n",
      "- columns: in_reply_to_user_id\n",
      "4.196984e+09    47\n",
      "2.195506e+07     2\n",
      "7.305050e+17     1\n",
      "2.916630e+07     1\n",
      "3.105441e+09     1\n",
      "2.918590e+08     1\n",
      "2.792810e+08     1\n",
      "2.319108e+09     1\n",
      "1.806710e+08     1\n",
      "3.058208e+07     1\n",
      "2.625958e+07     1\n",
      "1.943518e+08     1\n",
      "3.589728e+08     1\n",
      "8.405479e+17     1\n",
      "2.894131e+09     1\n",
      "2.143566e+07     1\n",
      "2.281182e+09     1\n",
      "1.648776e+07     1\n",
      "4.717297e+09     1\n",
      "2.878549e+07     1\n",
      "1.582854e+09     1\n",
      "4.670367e+08     1\n",
      "4.738443e+07     1\n",
      "1.361572e+07     1\n",
      "1.584641e+07     1\n",
      "2.068372e+07     1\n",
      "1.637468e+07     1\n",
      "1.185634e+07     1\n",
      "1.198989e+09     1\n",
      "1.132119e+08     1\n",
      "7.759620e+07     1\n",
      "Name: in_reply_to_user_id, dtype: int64\n",
      "\n",
      "- columns: is_quote_status\n",
      "False    2321\n",
      "True       31\n",
      "Name: is_quote_status, dtype: int64\n",
      "\n",
      "- columns: lang----\n",
      "en     2334\n",
      "und       7\n",
      "in        3\n",
      "nl        3\n",
      "ro        1\n",
      "eu        1\n",
      "es        1\n",
      "tl        1\n",
      "et        1\n",
      "Name: lang, dtype: int64\n",
      "\n",
      "- columns: possibly_sensitive\n",
      "0.0    2211\n",
      "Name: possibly_sensitive, dtype: int64\n",
      "\n",
      "- columns: possibly_sensitive_appealable\n",
      "0.0    2211\n",
      "Name: possibly_sensitive_appealable, dtype: int64\n",
      "\n",
      "- columns: quoted_status_id\n",
      "8.340867e+17    1\n",
      "8.413114e+17    1\n",
      "7.061659e+17    1\n",
      "8.860534e+17    1\n",
      "8.464848e+17    1\n",
      "7.099191e+17    1\n",
      "8.460885e+17    1\n",
      "8.239662e+17    1\n",
      "8.044179e+17    1\n",
      "8.556564e+17    1\n",
      "8.322683e+17    1\n",
      "7.961237e+17    1\n",
      "8.761630e+17    1\n",
      "8.179021e+17    1\n",
      "8.855174e+17    1\n",
      "8.065709e+17    1\n",
      "7.251361e+17    1\n",
      "8.558573e+17    1\n",
      "7.719056e+17    1\n",
      "8.710758e+17    1\n",
      "8.839657e+17    1\n",
      "7.888183e+17    1\n",
      "7.166371e+17    1\n",
      "8.664587e+17    1\n",
      "8.785999e+17    1\n",
      "6.721083e+17    1\n",
      "8.744134e+17    1\n",
      "8.389487e+17    1\n",
      "7.591676e+17    1\n",
      "Name: quoted_status_id, dtype: int64\n",
      "\n",
      "- columns: retweeted\n",
      "False    2352\n",
      "Name: retweeted, dtype: int64\n",
      "\n",
      "- columns: truncated\n",
      "False    2352\n",
      "Name: truncated, dtype: int64\n"
     ]
    }
   ],
   "source": [
    "## inspect value\n",
    "w.check_value(df_api,inslist1)"
   ]
  },
  {
   "cell_type": "markdown",
   "metadata": {},
   "source": [
    "### // check - quoted_status"
   ]
  },
  {
   "cell_type": "code",
   "execution_count": 19,
   "metadata": {
    "ExecuteTime": {
     "end_time": "2019-08-12T00:51:15.417594Z",
     "start_time": "2019-08-12T00:51:15.404576Z"
    }
   },
   "outputs": [
    {
     "data": {
      "text/plain": [
       "True     2324\n",
       "False      28\n",
       "Name: quoted_status, dtype: int64"
      ]
     },
     "execution_count": 19,
     "metadata": {},
     "output_type": "execute_result"
    }
   ],
   "source": [
    "# special1 quoted_status\n",
    "## quoted_status is a dict, move it to detlist\n",
    "## check values (almost is null)\n",
    "df_api.quoted_status.isnull().value_counts()"
   ]
  },
  {
   "cell_type": "code",
   "execution_count": 20,
   "metadata": {
    "ExecuteTime": {
     "end_time": "2019-08-12T00:51:15.434155Z",
     "start_time": "2019-08-12T00:51:15.420981Z"
    }
   },
   "outputs": [
    {
     "data": {
      "text/plain": [
       "{'created_at': 'Fri Jul 29 23:23:45 +0000 2016',\n",
       " 'id': 759167558763196416,\n",
       " 'id_str': '759167558763196416',\n",
       " 'full_text': 'Dog crashes car into Walmart https://t.co/pg070g3w3r',\n",
       " 'truncated': False,\n",
       " 'display_text_range': [0, 52],\n",
       " 'entities': {'hashtags': [],\n",
       "  'symbols': [],\n",
       "  'user_mentions': [],\n",
       "  'urls': [{'url': 'https://t.co/pg070g3w3r',\n",
       "    'expanded_url': 'http://bit.ly/2aaKfQo',\n",
       "    'display_url': 'bit.ly/2aaKfQo',\n",
       "    'indices': [29, 52]}]},\n",
       " 'source': '<a href=\"http://twitterfeed.com\" rel=\"nofollow\">twitterfeed</a>',\n",
       " 'in_reply_to_status_id': None,\n",
       " 'in_reply_to_status_id_str': None,\n",
       " 'in_reply_to_user_id': None,\n",
       " 'in_reply_to_user_id_str': None,\n",
       " 'in_reply_to_screen_name': None,\n",
       " 'user': {'id': 19925980,\n",
       "  'id_str': '19925980',\n",
       "  'name': 'WSAZ NewsChannel 3',\n",
       "  'screen_name': 'WSAZnews',\n",
       "  'location': 'Huntington-Charleston,WV',\n",
       "  'description': \"This is WSAZ's online news feed. For Breaking News, follow @WSAZbreaking\",\n",
       "  'url': 'http://t.co/mgej67im9p',\n",
       "  'entities': {'url': {'urls': [{'url': 'http://t.co/mgej67im9p',\n",
       "      'expanded_url': 'http://www.wsaz.com',\n",
       "      'display_url': 'wsaz.com',\n",
       "      'indices': [0, 22]}]},\n",
       "   'description': {'urls': []}},\n",
       "  'protected': False,\n",
       "  'followers_count': 94370,\n",
       "  'friends_count': 1,\n",
       "  'listed_count': 490,\n",
       "  'created_at': 'Mon Feb 02 19:48:04 +0000 2009',\n",
       "  'favourites_count': 247,\n",
       "  'utc_offset': -14400,\n",
       "  'time_zone': 'Eastern Time (US & Canada)',\n",
       "  'geo_enabled': False,\n",
       "  'verified': True,\n",
       "  'statuses_count': 51280,\n",
       "  'lang': 'en',\n",
       "  'contributors_enabled': False,\n",
       "  'is_translator': False,\n",
       "  'is_translation_enabled': False,\n",
       "  'profile_background_color': 'B2DFDA',\n",
       "  'profile_background_image_url': 'http://pbs.twimg.com/profile_background_images/165976612/WSAZ_DIGITAL_MEDIA.jpg',\n",
       "  'profile_background_image_url_https': 'https://pbs.twimg.com/profile_background_images/165976612/WSAZ_DIGITAL_MEDIA.jpg',\n",
       "  'profile_background_tile': False,\n",
       "  'profile_image_url': 'http://pbs.twimg.com/profile_images/876823797478957057/GXaJHxYA_normal.jpg',\n",
       "  'profile_image_url_https': 'https://pbs.twimg.com/profile_images/876823797478957057/GXaJHxYA_normal.jpg',\n",
       "  'profile_link_color': '93A644',\n",
       "  'profile_sidebar_border_color': 'EEEEEE',\n",
       "  'profile_sidebar_fill_color': 'FFFFFF',\n",
       "  'profile_text_color': '333333',\n",
       "  'profile_use_background_image': False,\n",
       "  'has_extended_profile': False,\n",
       "  'default_profile': False,\n",
       "  'default_profile_image': False,\n",
       "  'following': False,\n",
       "  'follow_request_sent': False,\n",
       "  'notifications': False,\n",
       "  'translator_type': 'none'},\n",
       " 'geo': None,\n",
       " 'coordinates': None,\n",
       " 'place': None,\n",
       " 'contributors': None,\n",
       " 'is_quote_status': False,\n",
       " 'retweet_count': 313,\n",
       " 'favorite_count': 284,\n",
       " 'favorited': False,\n",
       " 'retweeted': False,\n",
       " 'possibly_sensitive': False,\n",
       " 'possibly_sensitive_appealable': False,\n",
       " 'lang': 'en'}"
      ]
     },
     "execution_count": 20,
     "metadata": {},
     "output_type": "execute_result"
    }
   ],
   "source": [
    "## check a sample\n",
    "df_api[df_api.quoted_status.notnull()].sample(1).quoted_status.iloc[0]\n",
    "### this is some extra info abou a forward"
   ]
  },
  {
   "cell_type": "markdown",
   "metadata": {},
   "source": [
    "- 分析 `quoted_status`:\n",
    "    - 是嵌套字典数据\n",
    "    - 缺失很多(只有28个数据)\n",
    "    - 内容无用信息比较多\n",
    "- 结论:\n",
    "    - 删除此列\n",
    "    - user 列和此列类似,也删除"
   ]
  },
  {
   "cell_type": "markdown",
   "metadata": {},
   "source": [
    "### // check - in_reply_to_screen_name"
   ]
  },
  {
   "cell_type": "code",
   "execution_count": 21,
   "metadata": {
    "ExecuteTime": {
     "end_time": "2019-08-12T00:51:15.498357Z",
     "start_time": "2019-08-12T00:51:15.438902Z"
    }
   },
   "outputs": [
    {
     "data": {
      "text/html": [
       "<div>\n",
       "<style scoped>\n",
       "    .dataframe tbody tr th:only-of-type {\n",
       "        vertical-align: middle;\n",
       "    }\n",
       "\n",
       "    .dataframe tbody tr th {\n",
       "        vertical-align: top;\n",
       "    }\n",
       "\n",
       "    .dataframe thead th {\n",
       "        text-align: right;\n",
       "    }\n",
       "</style>\n",
       "<table border=\"1\" class=\"dataframe\">\n",
       "  <thead>\n",
       "    <tr style=\"text-align: right;\">\n",
       "      <th></th>\n",
       "      <th>created_at</th>\n",
       "      <th>display_text_range</th>\n",
       "      <th>entities</th>\n",
       "      <th>extended_entities</th>\n",
       "      <th>favorite_count</th>\n",
       "      <th>favorited</th>\n",
       "      <th>full_text</th>\n",
       "      <th>id</th>\n",
       "      <th>in_reply_to_screen_name</th>\n",
       "      <th>in_reply_to_status_id</th>\n",
       "      <th>...</th>\n",
       "      <th>possibly_sensitive</th>\n",
       "      <th>possibly_sensitive_appealable</th>\n",
       "      <th>quoted_status</th>\n",
       "      <th>quoted_status_id</th>\n",
       "      <th>retweet_count</th>\n",
       "      <th>retweeted</th>\n",
       "      <th>retweeted_status</th>\n",
       "      <th>source</th>\n",
       "      <th>truncated</th>\n",
       "      <th>user</th>\n",
       "    </tr>\n",
       "  </thead>\n",
       "  <tbody>\n",
       "    <tr>\n",
       "      <th>147</th>\n",
       "      <td>2017-05-12 17:12:53</td>\n",
       "      <td>[0, 139]</td>\n",
       "      <td>{'hashtags': [], 'symbols': [], 'user_mentions...</td>\n",
       "      <td>{'media': [{'id': 863079538779013120, 'id_str'...</td>\n",
       "      <td>9068</td>\n",
       "      <td>False</td>\n",
       "      <td>Ladies and gentlemen... I found Pipsy. He may ...</td>\n",
       "      <td>863079547188785154</td>\n",
       "      <td>dog_rates</td>\n",
       "      <td>6.671522e+17</td>\n",
       "      <td>...</td>\n",
       "      <td>0.0</td>\n",
       "      <td>0.0</td>\n",
       "      <td>NaN</td>\n",
       "      <td>NaN</td>\n",
       "      <td>1188</td>\n",
       "      <td>False</td>\n",
       "      <td>NaN</td>\n",
       "      <td>&lt;a href=\"http://twitter.com/download/iphone\" r...</td>\n",
       "      <td>False</td>\n",
       "      <td>{'id': 4196983835, 'id_str': '4196983835', 'na...</td>\n",
       "    </tr>\n",
       "    <tr>\n",
       "      <th>181</th>\n",
       "      <td>2017-04-24 15:13:52</td>\n",
       "      <td>[0, 112]</td>\n",
       "      <td>{'hashtags': [], 'symbols': [], 'user_mentions...</td>\n",
       "      <td>{'media': [{'id': 856526604033556482, 'id_str'...</td>\n",
       "      <td>12412</td>\n",
       "      <td>False</td>\n",
       "      <td>THIS IS CHARLIE, MARK. HE DID JUST WANT TO SAY...</td>\n",
       "      <td>856526610513747968</td>\n",
       "      <td>dog_rates</td>\n",
       "      <td>8.558181e+17</td>\n",
       "      <td>...</td>\n",
       "      <td>0.0</td>\n",
       "      <td>0.0</td>\n",
       "      <td>NaN</td>\n",
       "      <td>NaN</td>\n",
       "      <td>2053</td>\n",
       "      <td>False</td>\n",
       "      <td>NaN</td>\n",
       "      <td>&lt;a href=\"http://twitter.com/download/iphone\" r...</td>\n",
       "      <td>False</td>\n",
       "      <td>{'id': 4196983835, 'id_str': '4196983835', 'na...</td>\n",
       "    </tr>\n",
       "    <tr>\n",
       "      <th>225</th>\n",
       "      <td>2017-04-01 16:41:12</td>\n",
       "      <td>[0, 135]</td>\n",
       "      <td>{'hashtags': [], 'symbols': [], 'user_mentions...</td>\n",
       "      <td>NaN</td>\n",
       "      <td>8799</td>\n",
       "      <td>False</td>\n",
       "      <td>Jerry just apuppologized to me. He said there ...</td>\n",
       "      <td>848213670039564288</td>\n",
       "      <td>dog_rates</td>\n",
       "      <td>8.482121e+17</td>\n",
       "      <td>...</td>\n",
       "      <td>NaN</td>\n",
       "      <td>NaN</td>\n",
       "      <td>NaN</td>\n",
       "      <td>NaN</td>\n",
       "      <td>825</td>\n",
       "      <td>False</td>\n",
       "      <td>NaN</td>\n",
       "      <td>&lt;a href=\"http://twitter.com/download/iphone\" r...</td>\n",
       "      <td>False</td>\n",
       "      <td>{'id': 4196983835, 'id_str': '4196983835', 'na...</td>\n",
       "    </tr>\n",
       "  </tbody>\n",
       "</table>\n",
       "<p>3 rows × 23 columns</p>\n",
       "</div>"
      ],
      "text/plain": [
       "             created_at display_text_range  \\\n",
       "147 2017-05-12 17:12:53           [0, 139]   \n",
       "181 2017-04-24 15:13:52           [0, 112]   \n",
       "225 2017-04-01 16:41:12           [0, 135]   \n",
       "\n",
       "                                              entities  \\\n",
       "147  {'hashtags': [], 'symbols': [], 'user_mentions...   \n",
       "181  {'hashtags': [], 'symbols': [], 'user_mentions...   \n",
       "225  {'hashtags': [], 'symbols': [], 'user_mentions...   \n",
       "\n",
       "                                     extended_entities  favorite_count  \\\n",
       "147  {'media': [{'id': 863079538779013120, 'id_str'...            9068   \n",
       "181  {'media': [{'id': 856526604033556482, 'id_str'...           12412   \n",
       "225                                                NaN            8799   \n",
       "\n",
       "     favorited                                          full_text  \\\n",
       "147      False  Ladies and gentlemen... I found Pipsy. He may ...   \n",
       "181      False  THIS IS CHARLIE, MARK. HE DID JUST WANT TO SAY...   \n",
       "225      False  Jerry just apuppologized to me. He said there ...   \n",
       "\n",
       "                     id in_reply_to_screen_name  in_reply_to_status_id  \\\n",
       "147  863079547188785154               dog_rates           6.671522e+17   \n",
       "181  856526610513747968               dog_rates           8.558181e+17   \n",
       "225  848213670039564288               dog_rates           8.482121e+17   \n",
       "\n",
       "                           ...                          possibly_sensitive  \\\n",
       "147                        ...                                         0.0   \n",
       "181                        ...                                         0.0   \n",
       "225                        ...                                         NaN   \n",
       "\n",
       "     possibly_sensitive_appealable quoted_status  quoted_status_id  \\\n",
       "147                            0.0           NaN               NaN   \n",
       "181                            0.0           NaN               NaN   \n",
       "225                            NaN           NaN               NaN   \n",
       "\n",
       "     retweet_count retweeted  retweeted_status  \\\n",
       "147           1188     False               NaN   \n",
       "181           2053     False               NaN   \n",
       "225            825     False               NaN   \n",
       "\n",
       "                                                source  truncated  \\\n",
       "147  <a href=\"http://twitter.com/download/iphone\" r...      False   \n",
       "181  <a href=\"http://twitter.com/download/iphone\" r...      False   \n",
       "225  <a href=\"http://twitter.com/download/iphone\" r...      False   \n",
       "\n",
       "                                                  user  \n",
       "147  {'id': 4196983835, 'id_str': '4196983835', 'na...  \n",
       "181  {'id': 4196983835, 'id_str': '4196983835', 'na...  \n",
       "225  {'id': 4196983835, 'id_str': '4196983835', 'na...  \n",
       "\n",
       "[3 rows x 23 columns]"
      ]
     },
     "execution_count": 21,
     "metadata": {},
     "output_type": "execute_result"
    }
   ],
   "source": [
    "# special2\n",
    "## in_reply_to_screen_name have value dog_rates for 47 times\n",
    "df_api.query('in_reply_to_screen_name == \"dog_rates\"')[:3]"
   ]
  },
  {
   "cell_type": "code",
   "execution_count": 22,
   "metadata": {
    "ExecuteTime": {
     "end_time": "2019-08-12T00:51:15.511532Z",
     "start_time": "2019-08-12T00:51:15.501648Z"
    }
   },
   "outputs": [
    {
     "data": {
      "text/plain": [
       "0.9668367346938775"
      ]
     },
     "execution_count": 22,
     "metadata": {},
     "output_type": "execute_result"
    }
   ],
   "source": [
    "df_api['in_reply_to_screen_name'].isnull().sum() / df_api.shape[0]"
   ]
  },
  {
   "cell_type": "markdown",
   "metadata": {
    "ExecuteTime": {
     "end_time": "2019-06-10T08:05:11.548025Z",
     "start_time": "2019-06-10T08:05:11.535242Z"
    }
   },
   "source": [
    "- 分析`in_reply_to_screen_name`:\n",
    "    - 可能 `dog_rates` 是默认回复名字\n",
    "    - 数据缺失率为 97%\n",
    "- 结论:\n",
    "    - 删除数据\n",
    "    \n",
    "### // drop2\n",
    "根据上面 check 内容删除数据"
   ]
  },
  {
   "cell_type": "code",
   "execution_count": 23,
   "metadata": {
    "ExecuteTime": {
     "end_time": "2019-08-12T00:51:15.524489Z",
     "start_time": "2019-08-12T00:51:15.517084Z"
    }
   },
   "outputs": [],
   "source": [
    "# droplist2\n",
    "droplist2 = inslist1.copy()\n",
    "### use .copy to copy rather than llink\n",
    "droplist2.append('quoted_status')\n",
    "droplist2.append('retweeted_status')\n",
    "droplist2.append('user')\n",
    "#droplist2 = ['truncated','retweeted','possibly_sensitive_appealable','possibly_sensitive','lang','is_quote_status','favorited']"
   ]
  },
  {
   "cell_type": "code",
   "execution_count": 24,
   "metadata": {
    "ExecuteTime": {
     "end_time": "2019-08-12T00:51:15.538455Z",
     "start_time": "2019-08-12T00:51:15.527494Z"
    }
   },
   "outputs": [
    {
     "name": "stdout",
     "output_type": "stream",
     "text": [
      "---- proceding ----\n",
      "- drop 14 columns: ['favorited', 'in_reply_to_screen_name', 'in_reply_to_status_id', 'in_reply_to_user_id', 'is_quote_status', 'lang', 'possibly_sensitive', 'possibly_sensitive_appealable', 'quoted_status_id', 'retweeted', 'truncated', 'quoted_status', 'retweeted_status', 'user'] \n",
      "- remain 9 columns\n",
      "- success : True\n"
     ]
    }
   ],
   "source": [
    "## drop2 excute\n",
    "w.drop_column(df_api,droplist2)"
   ]
  },
  {
   "cell_type": "markdown",
   "metadata": {},
   "source": [
    "### // check - detail columns\n",
    "对嵌套的数据进行检视"
   ]
  },
  {
   "cell_type": "code",
   "execution_count": 25,
   "metadata": {
    "ExecuteTime": {
     "end_time": "2019-08-12T00:51:15.574905Z",
     "start_time": "2019-08-12T00:51:15.554933Z"
    }
   },
   "outputs": [
    {
     "name": "stdout",
     "output_type": "stream",
     "text": [
      "----checking sample index: 1205\n",
      "\n",
      "- columns #1 : created_at\n",
      "['2016-04-01T00:26:15.000000000']\n",
      "\n",
      "- columns #2 : display_text_range\n",
      "[list([0, 139])]\n",
      "\n",
      "- columns #3 : entities\n",
      "[{'hashtags': [], 'symbols': [], 'user_mentions': [], 'urls': [], 'media': [{'id': 715696738036744192, 'id_str': '715696738036744192', 'indices': [116, 139], 'media_url': 'http://pbs.twimg.com/media/Ce6qZC2WAAAcSoI.jpg', 'media_url_https': 'https://pbs.twimg.com/media/Ce6qZC2WAAAcSoI.jpg', 'url': 'https://t.co/cYPHuJYTjC', 'display_url': 'pic.twitter.com/cYPHuJYTjC', 'expanded_url': 'https://twitter.com/dog_rates/status/715696743237730304/photo/1', 'type': 'photo', 'sizes': {'small': {'w': 680, 'h': 680, 'resize': 'fit'}, 'thumb': {'w': 150, 'h': 150, 'resize': 'crop'}, 'large': {'w': 800, 'h': 800, 'resize': 'fit'}, 'medium': {'w': 800, 'h': 800, 'resize': 'fit'}}}]}]\n",
      "\n",
      "- columns #4 : extended_entities\n",
      "[{'media': [{'id': 715696738036744192, 'id_str': '715696738036744192', 'indices': [116, 139], 'media_url': 'http://pbs.twimg.com/media/Ce6qZC2WAAAcSoI.jpg', 'media_url_https': 'https://pbs.twimg.com/media/Ce6qZC2WAAAcSoI.jpg', 'url': 'https://t.co/cYPHuJYTjC', 'display_url': 'pic.twitter.com/cYPHuJYTjC', 'expanded_url': 'https://twitter.com/dog_rates/status/715696743237730304/photo/1', 'type': 'photo', 'sizes': {'small': {'w': 680, 'h': 680, 'resize': 'fit'}, 'thumb': {'w': 150, 'h': 150, 'resize': 'crop'}, 'large': {'w': 800, 'h': 800, 'resize': 'fit'}, 'medium': {'w': 800, 'h': 800, 'resize': 'fit'}}}]}]\n",
      "\n",
      "- columns #5 : favorite_count\n",
      "[4237]\n",
      "\n",
      "- columns #6 : full_text\n",
      "[\"Meet Toby. He's a Lithuanian High-Steppin Stickeroo. One of the more accomplished Stickeroos around. 10/10 so nifty https://t.co/cYPHuJYTjC\"]\n",
      "\n",
      "- columns #7 : id------\n",
      "[715696743237730304]\n",
      "\n",
      "- columns #8 : retweet_count\n",
      "[1443]\n",
      "\n",
      "- columns #9 : source--\n",
      "['<a href=\"http://twitter.com/download/iphone\" rel=\"nofollow\">Twitter for iPhone</a>']\n",
      "'----checking complete----'\n"
     ]
    }
   ],
   "source": [
    "# check3\n",
    "## recheck sample\n",
    "w.check_sample(df_api)"
   ]
  },
  {
   "cell_type": "code",
   "execution_count": 26,
   "metadata": {
    "ExecuteTime": {
     "end_time": "2019-08-12T00:51:15.592706Z",
     "start_time": "2019-08-12T00:51:15.586077Z"
    }
   },
   "outputs": [],
   "source": [
    "# detail list1\n",
    "## check dict long columns\n",
    "detlist1 = ['entities','extended_entities']"
   ]
  },
  {
   "cell_type": "code",
   "execution_count": 27,
   "metadata": {
    "ExecuteTime": {
     "end_time": "2019-08-12T00:51:15.616437Z",
     "start_time": "2019-08-12T00:51:15.597230Z"
    }
   },
   "outputs": [
    {
     "name": "stdout",
     "output_type": "stream",
     "text": [
      "\n",
      "- columns #1 : entities\n",
      "{'hashtags': [],\n",
      " 'media': [{'display_url': 'pic.twitter.com/MgUWQ76dJU',\n",
      "            'expanded_url': 'https://twitter.com/dog_rates/status/892420643555336193/photo/1',\n",
      "            'id': 892420639486877696,\n",
      "            'id_str': '892420639486877696',\n",
      "            'indices': [86, 109],\n",
      "            'media_url': 'http://pbs.twimg.com/media/DGKD1-bXoAAIAUK.jpg',\n",
      "            'media_url_https': 'https://pbs.twimg.com/media/DGKD1-bXoAAIAUK.jpg',\n",
      "            'sizes': {'large': {'h': 528, 'resize': 'fit', 'w': 540},\n",
      "                      'medium': {'h': 528, 'resize': 'fit', 'w': 540},\n",
      "                      'small': {'h': 528, 'resize': 'fit', 'w': 540},\n",
      "                      'thumb': {'h': 150, 'resize': 'crop', 'w': 150}},\n",
      "            'type': 'photo',\n",
      "            'url': 'https://t.co/MgUWQ76dJU'}],\n",
      " 'symbols': [],\n",
      " 'urls': [],\n",
      " 'user_mentions': []}\n",
      "\n",
      "- columns #2 : extended_entities\n",
      "{'media': [{'display_url': 'pic.twitter.com/MgUWQ76dJU',\n",
      "            'expanded_url': 'https://twitter.com/dog_rates/status/892420643555336193/photo/1',\n",
      "            'id': 892420639486877696,\n",
      "            'id_str': '892420639486877696',\n",
      "            'indices': [86, 109],\n",
      "            'media_url': 'http://pbs.twimg.com/media/DGKD1-bXoAAIAUK.jpg',\n",
      "            'media_url_https': 'https://pbs.twimg.com/media/DGKD1-bXoAAIAUK.jpg',\n",
      "            'sizes': {'large': {'h': 528, 'resize': 'fit', 'w': 540},\n",
      "                      'medium': {'h': 528, 'resize': 'fit', 'w': 540},\n",
      "                      'small': {'h': 528, 'resize': 'fit', 'w': 540},\n",
      "                      'thumb': {'h': 150, 'resize': 'crop', 'w': 150}},\n",
      "            'type': 'photo',\n",
      "            'url': 'https://t.co/MgUWQ76dJU'}]}\n"
     ]
    }
   ],
   "source": [
    "# detail check\n",
    "w.check_detail(df_api,detlist1)\n",
    "### not new info  -> drop"
   ]
  },
  {
   "cell_type": "markdown",
   "metadata": {},
   "source": [
    "- 分析:\n",
    "    - 是嵌套字典数据\n",
    "    - 缺失不多\n",
    "    - 内容无用信息比较多(有些与其他列有重复)\n",
    "- 结论:\n",
    "    - 删除列\n",
    "\n",
    "### // drop3"
   ]
  },
  {
   "cell_type": "code",
   "execution_count": 28,
   "metadata": {
    "ExecuteTime": {
     "end_time": "2019-08-12T00:51:15.642384Z",
     "start_time": "2019-08-12T00:51:15.619058Z"
    }
   },
   "outputs": [
    {
     "name": "stdout",
     "output_type": "stream",
     "text": [
      "---- proceding ----\n",
      "- drop 2 columns: ['entities', 'extended_entities'] \n",
      "- remain 7 columns\n",
      "- success : True\n"
     ]
    }
   ],
   "source": [
    "# drop list3\n",
    "droplist3 = detlist1.copy()\n",
    "\n",
    "## drop3 excute\n",
    "w.drop_column(df_api,droplist3)"
   ]
  },
  {
   "cell_type": "markdown",
   "metadata": {},
   "source": [
    "### // check - display_text_range\n",
    "使用函数check_value会在这一列报错,检查下是因为这列的列表嵌套数字的原因"
   ]
  },
  {
   "cell_type": "code",
   "execution_count": 29,
   "metadata": {
    "ExecuteTime": {
     "end_time": "2019-08-12T00:51:15.661423Z",
     "start_time": "2019-08-12T00:51:15.646974Z"
    }
   },
   "outputs": [
    {
     "data": {
      "text/plain": [
       "679     [0, 130]\n",
       "1281    [0, 132]\n",
       "1432    [0, 137]\n",
       "348     [0, 116]\n",
       "1369     [0, 83]\n",
       "Name: display_text_range, dtype: object"
      ]
     },
     "execution_count": 29,
     "metadata": {},
     "output_type": "execute_result"
    }
   ],
   "source": [
    "# check specified\n",
    "df_api.display_text_range.sample(5)"
   ]
  },
  {
   "cell_type": "code",
   "execution_count": 30,
   "metadata": {
    "ExecuteTime": {
     "end_time": "2019-08-12T00:51:15.676347Z",
     "start_time": "2019-08-12T00:51:15.668676Z"
    }
   },
   "outputs": [],
   "source": [
    "dflist = ['created_at',\n",
    " 'favorite_count',\n",
    " 'full_text',\n",
    " 'id',\n",
    " 'retweet_count',\n",
    " 'source']"
   ]
  },
  {
   "cell_type": "code",
   "execution_count": 31,
   "metadata": {
    "ExecuteTime": {
     "end_time": "2019-08-12T00:51:15.716383Z",
     "start_time": "2019-08-12T00:51:15.679855Z"
    }
   },
   "outputs": [
    {
     "name": "stdout",
     "output_type": "stream",
     "text": [
      "\n",
      "- columns: created_at\n",
      "2016-09-12 15:10:21    1\n",
      "2016-06-03 01:07:16    1\n",
      "2017-01-31 01:27:39    1\n",
      "2016-10-13 23:23:56    1\n",
      "2016-06-27 01:37:04    1\n",
      "2016-07-26 00:08:05    1\n",
      "2016-01-05 02:30:55    1\n",
      "2016-12-14 17:16:53    1\n",
      "2015-11-27 22:01:40    1\n",
      "2017-03-26 01:38:00    1\n",
      "2015-11-20 19:12:01    1\n",
      "2016-03-12 19:35:15    1\n",
      "2016-07-17 01:05:25    1\n",
      "2016-03-13 23:24:56    1\n",
      "2016-09-15 17:48:25    1\n",
      "2016-03-01 02:19:31    1\n",
      "2017-07-25 16:11:53    1\n",
      "2016-01-08 03:50:03    1\n",
      "2016-06-25 19:42:08    1\n",
      "2016-06-25 03:17:46    1\n",
      "2017-01-06 17:33:29    1\n",
      "2016-03-27 02:43:58    1\n",
      "2016-01-19 21:18:22    1\n",
      "2016-03-05 16:24:01    1\n",
      "2016-11-24 18:28:13    1\n",
      "2015-12-02 02:30:43    1\n",
      "2016-06-13 01:06:33    1\n",
      "2015-12-12 04:23:49    1\n",
      "2016-02-29 01:17:46    1\n",
      "2016-07-18 18:43:07    1\n",
      "                      ..\n",
      "2016-09-16 16:00:31    1\n",
      "2016-03-14 23:19:03    1\n",
      "2016-03-30 15:34:51    1\n",
      "2017-07-06 15:58:11    1\n",
      "2017-02-02 18:52:38    1\n",
      "2016-01-21 02:10:37    1\n",
      "2015-12-08 00:15:09    1\n",
      "2017-06-28 16:09:20    1\n",
      "2016-10-19 15:37:03    1\n",
      "2016-02-06 00:35:13    1\n",
      "2015-11-27 23:36:23    1\n",
      "2017-06-25 16:07:47    1\n",
      "2015-11-23 02:52:48    1\n",
      "2015-12-13 01:12:15    1\n",
      "2016-04-08 20:46:50    1\n",
      "2017-05-22 16:06:55    1\n",
      "2016-02-14 03:29:49    1\n",
      "2015-12-08 01:30:12    1\n",
      "2016-08-18 01:03:45    1\n",
      "2017-05-25 16:10:44    1\n",
      "2016-01-30 23:51:19    1\n",
      "2016-03-14 16:02:49    1\n",
      "2016-11-15 01:44:00    1\n",
      "2017-05-02 00:04:57    1\n",
      "2016-10-03 23:25:55    1\n",
      "2016-02-08 17:58:03    1\n",
      "2015-11-26 01:11:28    1\n",
      "2016-06-13 21:16:49    1\n",
      "2016-11-14 01:18:12    1\n",
      "2017-01-10 01:15:10    1\n",
      "Name: created_at, Length: 2352, dtype: int64\n",
      "\n",
      "- columns: favorite_count\n",
      "0        177\n",
      "1753       3\n",
      "3548       3\n",
      "689        3\n",
      "1526       3\n",
      "520        3\n",
      "465        3\n",
      "171        3\n",
      "3508       3\n",
      "343        3\n",
      "2417       3\n",
      "3217       2\n",
      "3846       2\n",
      "1501       2\n",
      "2452       2\n",
      "262        2\n",
      "195        2\n",
      "242        2\n",
      "2616       2\n",
      "2250       2\n",
      "3221       2\n",
      "1085       2\n",
      "1187       2\n",
      "1722       2\n",
      "248        2\n",
      "1124       2\n",
      "14506      2\n",
      "2231       2\n",
      "1861       2\n",
      "5377       2\n",
      "        ... \n",
      "4715       1\n",
      "23100      1\n",
      "2644       1\n",
      "8769       1\n",
      "1671       1\n",
      "39492      1\n",
      "1498       1\n",
      "5773       1\n",
      "10824      1\n",
      "1046       1\n",
      "21069      1\n",
      "35406      1\n",
      "4687       1\n",
      "2381       1\n",
      "31314      1\n",
      "8575       1\n",
      "17001      1\n",
      "12887      1\n",
      "2648       1\n",
      "4697       1\n",
      "4699       1\n",
      "2652       1\n",
      "6750       1\n",
      "8799       1\n",
      "2656       1\n",
      "10852      1\n",
      "5878       1\n",
      "14950      1\n",
      "6760       1\n",
      "15858      1\n",
      "Name: favorite_count, Length: 2023, dtype: int64\n",
      "\n",
      "- columns: full_text\n",
      "This is Gizmo. His favorite thing is standing pupright like a hooman. Sneaky tongue slip status achieved. 13/10 would boop well https://t.co/IoR3n1fiiQ              1\n",
      "Say hello to Alice. I'm told she enjoys car rides and smells good. 12/10 would give her everything she could ever want https://t.co/yT4vw8y77x                       1\n",
      "IT'S SO SMALL ERMERGERF 11/10 https://t.co/dNUbKOSiWW                                                                                                                1\n",
      "This is Bilbo. He's not emotionally prepared to enter the water. 11/10 don't struggle Bilbo https://t.co/rH9SQgZUnQ                                                  1\n",
      "Herd of wild dogs here. Not sure what they're trying to do. No real goals in life. 3/10 find your purpose puppers https://t.co/t5ih0VrK02                            1\n",
      "This is Opal. He's a Royal John Coctostan. Ready for transport. Basically indestructible. 9/10 good pupper https://t.co/yRBQF9OS7D                                   1\n",
      "This is Dot. He found out you only pretended to throw the ball that one time. You don't fuck with Dot. 8/10 https://t.co/Ymg4fwKlZd                                  1\n",
      "This is Gidget. She's a spy pupper. Stealthy as h*ck. Must've slipped pup and got caught. 12/10 would forgive then pet https://t.co/zD97KYFaFa                       1\n",
      "This is an Albanian 3 1/2 legged  Episcopalian. Loves well-polished hardwood flooring. Penis on the collar. 9/10 https://t.co/d9NcXFKwLv                             1\n",
      "This is Mosby. He appears to be rather h*ckin snuggable af. 12/10 keep it up Mosby https://t.co/IiiBq460I7                                                           1\n",
      "This is Stanley. He has his first swim lesson today. Doggle straps adjusted. Ready to go. 13/10 Phelps is nervous (IG: stanleythe_corgi) https://t.co/Nx52PGwH94     1\n",
      "This is Rover. As part of pupper protocol he had to at least attempt to eat the plant. Confirmed not tasty. Needs peanut butter. 12/10 https://t.co/AiVljI6QCg       1\n",
      "Meet Alejandro. He's an extremely seductive pup. 10/10 https://t.co/C7dPcCUNpF                                                                                       1\n",
      "This is Fido. He can tell the weather. Not good at fetch tho. Never comes when called. 4/10 would probably still pet https://t.co/4gOv2Q3iKP                         1\n",
      "This is Carl. He just wants to make sure you're having a good day. 12/10 just a swell pup https://t.co/Wk3XCnmDvm                                                    1\n",
      "This is Luna. She's just heckin precious af I have nothing else to say. 12/10 https://t.co/gQH2mmKIJW                                                                1\n",
      "This is Spark. He's nervous. Other dog hasn't moved in a while. Won't come when called. Doesn't fetch well 8/10&amp;1/10 https://t.co/stEodX9Aba                     1\n",
      "This is Frank. He wears sunglasses and walks himself. 11/10 I'll never be this cool or independent https://t.co/pNNjBtHWPc                                           1\n",
      "After reading the comments I may have overestimated this pup. Downgraded to a 1/10. Please forgive me                                                                1\n",
      "Extraordinary dog here. Looks large. Just a head. No body. Rather intrusive. 5/10 would still pet https://t.co/ufHWUFA9Pu                                            1\n",
      "Here we have a basking dino pupper. Looks powerful. Occasionally shits eggs. Doesn't want the holidays to end. 5/10 https://t.co/DnNweb5eTO                          1\n",
      "This is Meatball. He doing what's known in the industry as a mid-strut mlem. H*ckin fancy boy. 12/10 I'd do anything for Meatball https://t.co/S2HdmFFPck            1\n",
      "Meet Rufus. He's a Honeysuckle Firefox. Curly af. Badass tie. About to go on his first date ever 11/10 good luck pup https://t.co/dGoTWNfIsm                         1\n",
      "This is Terrenth. He just stubbed his toe. 10/10 deep breaths Terrenth https://t.co/Pg18CDFC7Z                                                                       1\n",
      "This is Bauer. He had nothing to do with the cookies that disappeared. 13/10 very good boy https://t.co/AIMF8ouzvl                                                   1\n",
      "RT @dog_rates: This is Carly. She's actually 2 dogs fused together. Very innovative. Probably has superpowers. 12/10 for double dog https:/…                         1\n",
      "I just want to be friends with this dog. Appears to be into the sports. A true brobean. 10/10 would introduce to mom https://t.co/1Z7Q6svWpe                         1\n",
      "Meet Scooter. He's ready for his first day of middle school. Remarkable tongue. 12/10 https://t.co/1DJfHmfBQN                                                        1\n",
      "This is Longfellow (prolly sophisticated). He's a North Appalachian Oatzenjammer. Concerned about wrinkled feets. 12/10 would hug softly https://t.co/bpLuQuxzHZ     1\n",
      "RT @dog_rates: This is Coco. At first I thought she was a cloud but clouds don't bork with such passion. 12/10 would hug softly https://t.c…                         1\n",
      "                                                                                                                                                                    ..\n",
      "This is Mona. She's a Yarborough Splishnsplash. Lost body during Nam. 11/10 revolutionary pupper https://t.co/pgD6h0yhgz                                             1\n",
      "When you ask your professor about extra credit on the last day of class. 8/10 https://t.co/H6rqZyE4NP                                                                1\n",
      "RT @dog_rates: Everybody drop what you're doing and look at this dog. 13/10 must be super h*ckin rare https://t.co/I1bJUzUEW5                                        1\n",
      "Say hello to Romeo. He was just told that it's too cold for the pool. H*ckin nonsense. 11/10 would help fill up https://t.co/6hx7ur6sNI                              1\n",
      "This is Deacon. He's the happiest almost dry doggo I've ever seen. 11/10 would smile back https://t.co/C6fUMnHt1H                                                    1\n",
      "The 13/10 also takes into account this impeccable yard. Louis is great but the future dad in me can't ignore that luscious green grass                               1\n",
      "Just wanted to share this super rare Rainbow Floofer in case you guys haven't seen it yet. 13/10 colorful af https://t.co/CaG9MzD3WT                                 1\n",
      "Say hello to Lillie. She's a Rutabagan Floofem. Poor pupper ate and then passed out. 11/10 relatable af https://t.co/uIdGqug9rw                                      1\n",
      "Meet Roosevelt. He's preparing for takeoff. Make sure tray tables are in their full pupright &amp; licked position\\n11/10 https://t.co/7CQkn3gHOQ                    1\n",
      "RT @loganamnosis: Penelope here is doing me quite a divertir. Well done, @dog_rates! Loving the pupdate. 14/10, je jouerais de nouveau. htt…                         1\n",
      "This is Frankie. He has yet to learn how to control his tongue. 11/10 maybe one day https://t.co/p6fgYe2dB6                                                          1\n",
      "This is Romeo. He would like to do an entrance. Requesting your immediate assistance. 13/10 https://t.co/Qh5aEkRQm9                                                  1\n",
      "This is Kloey. Her mother was a unicorn. 10/10 https://t.co/NvKJRYDosA                                                                                               1\n",
      "This is Terry. The harder you hug him the farther his tongue sticks out. 10/10 magical af https://t.co/RFToQQI8fJ                                                    1\n",
      "RT @dog_rates: Meet Beau &amp; Wilbur. Wilbur stole Beau's bed from him. Wilbur now has so much room for activities. 9/10 for both pups https:/…                     1\n",
      "Meet Darby. He's a Fiscal Tutankhamen Waxbeard. Really likes steak. 7/10 https://t.co/rSndxTL0Ap                                                                     1\n",
      "\"Good afternoon class today we're going to learn what makes a good boy so good\" 13/10 https://t.co/f1h2Fsalv9                                                        1\n",
      "Interesting dog here. Very large. Purple. Manifests rainbows. Perfect teeth. No ears. Surprisingly knowledgable 6/10 https://t.co/QVaEMsB9tS                         1\n",
      "This is a mighty rare blue-tailed hammer sherk. Human almost lost a limb trying to take these. Be careful guys. 8/10 https://t.co/TGenMeXreW                         1\n",
      "This is Ace. He's a window washer. One of the best around. 11/10 helpful af https://t.co/sTuRoYfzPv                                                                  1\n",
      "Meet Baloo. He's expecting a fast ground ball, hence the wide stance. Prepared af. 11/10 nothing runs like a pupper https://t.co/sMbMw5Z2XC                          1\n",
      "This is Nelly. He graduated with his dogtorate today. Wants to know if you're proud of him. 12/10 would give congratulatory boop https://t.co/4g4cfj3P4Y             1\n",
      "This is Toffee. He's a happy pupper. Appears dangerously fluffy. Extraordinarily spherical. 12/10 would pet firmly https://t.co/oEXEKt3MHu                           1\n",
      "This dog is being demoted to a 9/10 for not wearing a helmet while riding. Gotta stay safe out there. Thank you                                                      1\n",
      "Some clarification is required. The dog is singing Cher and that is more than worthy of an 11/10. Thank you                                                          1\n",
      "This is Sailer. He waits on the roof for his owners to come home. Nobody knows how he gets up there. H*ckin loyal af. 13/10 https://t.co/O37z4jaMG9                  1\n",
      "This is Theo. He can walk on water. Still coming to terms with it. 12/10 magical af https://t.co/8Kmuj6SFbC                                                          1\n",
      "This is Penny. She's trying on her prom dress. Stunning af 11/10 https://t.co/qcZDZGCapg                                                                             1\n",
      "This is a Wild Tuscan Poofwiggle. Careful not to startle. Rare tongue slip. One eye magical. 12/10 would def pet https://t.co/4EnShAQjv6                             1\n",
      "This is Ollie Vue. He was a 3 legged pupper on a mission to overcome everything. This is very hard to write. 14/10 we will miss you Ollie https://t.co/qTRY2qX9y4    1\n",
      "Name: full_text, Length: 2352, dtype: int64\n",
      "\n",
      "- columns: id------\n",
      "749075273010798592    1\n",
      "741099773336379392    1\n",
      "798644042770751489    1\n",
      "825120256414846976    1\n",
      "769212283578875904    1\n",
      "700462010979500032    1\n",
      "780858289093574656    1\n",
      "699775878809702401    1\n",
      "880095782870896641    1\n",
      "760521673607086080    1\n",
      "776477788987613185    1\n",
      "691820333922455552    1\n",
      "715696743237730304    1\n",
      "714606013974974464    1\n",
      "760539183865880579    1\n",
      "813157409116065792    1\n",
      "676430933382295552    1\n",
      "743510151680958465    1\n",
      "837012587749474308    1\n",
      "833722901757046785    1\n",
      "818259473185828864    1\n",
      "670704688707301377    1\n",
      "667160273090932737    1\n",
      "674394782723014656    1\n",
      "672082170312290304    1\n",
      "670093938074779648    1\n",
      "759923798737051648    1\n",
      "809920764300447744    1\n",
      "805487436403003392    1\n",
      "838085839343206401    1\n",
      "                     ..\n",
      "870308999962521604    1\n",
      "720775346191278080    1\n",
      "879492040517615616    1\n",
      "775733305207554048    1\n",
      "667911425562669056    1\n",
      "834209720923721728    1\n",
      "825026590719483904    1\n",
      "758405701903519748    1\n",
      "668986018524233728    1\n",
      "690938899477221376    1\n",
      "678800283649069056    1\n",
      "857062103051644929    1\n",
      "783347506784731136    1\n",
      "672068090318987265    1\n",
      "773922284943896577    1\n",
      "816829038950027264    1\n",
      "683773439333797890    1\n",
      "674291837063053312    1\n",
      "837482249356513284    1\n",
      "767500508068192258    1\n",
      "669015743032369152    1\n",
      "886054160059072513    1\n",
      "754482103782404096    1\n",
      "748307329658011649    1\n",
      "715360349751484417    1\n",
      "666817836334096384    1\n",
      "794926597468000259    1\n",
      "673705679337693185    1\n",
      "673342308415348736    1\n",
      "700151421916807169    1\n",
      "Name: id, Length: 2352, dtype: int64\n",
      "\n",
      "- columns: retweet_count\n",
      "1280     5\n",
      "312      5\n",
      "745      5\n",
      "1554     4\n",
      "1103     4\n",
      "1201     4\n",
      "37       4\n",
      "61       4\n",
      "606      4\n",
      "680      4\n",
      "701      4\n",
      "182      4\n",
      "6925     4\n",
      "8471     4\n",
      "468      4\n",
      "252      3\n",
      "1873     3\n",
      "2690     3\n",
      "71       3\n",
      "118      3\n",
      "1036     3\n",
      "516      3\n",
      "617      3\n",
      "2142     3\n",
      "280      3\n",
      "263      3\n",
      "521      3\n",
      "1084     3\n",
      "698      3\n",
      "985      3\n",
      "        ..\n",
      "2482     1\n",
      "4533     1\n",
      "4535     1\n",
      "441      1\n",
      "2490     1\n",
      "445      1\n",
      "4479     1\n",
      "377      1\n",
      "325      1\n",
      "2422     1\n",
      "329      1\n",
      "333      1\n",
      "8527     1\n",
      "6480     1\n",
      "10580    1\n",
      "345      1\n",
      "347      1\n",
      "2400     1\n",
      "4449     1\n",
      "705      1\n",
      "6500     1\n",
      "357      1\n",
      "6504     1\n",
      "361      1\n",
      "6506     1\n",
      "367      1\n",
      "4465     1\n",
      "2418     1\n",
      "2420     1\n",
      "0        1\n",
      "Name: retweet_count, Length: 1752, dtype: int64\n",
      "\n",
      "- columns: source--\n",
      "<a href=\"http://twitter.com/download/iphone\" rel=\"nofollow\">Twitter for iPhone</a>     2217\n",
      "<a href=\"http://vine.co\" rel=\"nofollow\">Vine - Make a Scene</a>                          91\n",
      "<a href=\"http://twitter.com\" rel=\"nofollow\">Twitter Web Client</a>                       33\n",
      "<a href=\"https://about.twitter.com/products/tweetdeck\" rel=\"nofollow\">TweetDeck</a>      11\n",
      "Name: source, dtype: int64\n"
     ]
    }
   ],
   "source": [
    "w.check_value(df_api,dflist)"
   ]
  },
  {
   "cell_type": "markdown",
   "metadata": {},
   "source": [
    "### // check - null data"
   ]
  },
  {
   "cell_type": "code",
   "execution_count": 32,
   "metadata": {
    "ExecuteTime": {
     "end_time": "2019-08-12T00:51:15.733301Z",
     "start_time": "2019-08-12T00:51:15.720173Z"
    }
   },
   "outputs": [
    {
     "name": "stdout",
     "output_type": "stream",
     "text": [
      "<class 'pandas.core.frame.DataFrame'>\n",
      "RangeIndex: 2352 entries, 0 to 2351\n",
      "Data columns (total 7 columns):\n",
      "created_at            2352 non-null datetime64[ns]\n",
      "display_text_range    2352 non-null object\n",
      "favorite_count        2352 non-null int64\n",
      "full_text             2352 non-null object\n",
      "id                    2352 non-null int64\n",
      "retweet_count         2352 non-null int64\n",
      "source                2352 non-null object\n",
      "dtypes: datetime64[ns](1), int64(3), object(3)\n",
      "memory usage: 128.7+ KB\n"
     ]
    }
   ],
   "source": [
    "df_api.info()"
   ]
  },
  {
   "cell_type": "code",
   "execution_count": 33,
   "metadata": {
    "ExecuteTime": {
     "end_time": "2019-08-12T00:51:15.751697Z",
     "start_time": "2019-08-12T00:51:15.739537Z"
    }
   },
   "outputs": [
    {
     "data": {
      "text/plain": [
       "created_at            0\n",
       "display_text_range    0\n",
       "favorite_count        0\n",
       "full_text             0\n",
       "id                    0\n",
       "retweet_count         0\n",
       "source                0\n",
       "dtype: int64"
      ]
     },
     "execution_count": 33,
     "metadata": {},
     "output_type": "execute_result"
    }
   ],
   "source": [
    "df_api.isnull().sum()"
   ]
  },
  {
   "cell_type": "markdown",
   "metadata": {},
   "source": [
    "### // drop4\n",
    "想来想去还是把 id 给drop了, 后续分析中用不到还有隐私隐患"
   ]
  },
  {
   "cell_type": "code",
   "execution_count": 34,
   "metadata": {
    "ExecuteTime": {
     "end_time": "2019-08-12T00:51:15.765892Z",
     "start_time": "2019-08-12T00:51:15.755354Z"
    }
   },
   "outputs": [
    {
     "name": "stdout",
     "output_type": "stream",
     "text": [
      "---- proceding ----\n",
      "- drop 1 columns: ['id'] \n",
      "- remain 6 columns\n",
      "- success : True\n"
     ]
    }
   ],
   "source": [
    "droplist4 = ['id']\n",
    "w.drop_column(df_api,droplist4)"
   ]
  },
  {
   "cell_type": "markdown",
   "metadata": {},
   "source": [
    "### // review (quanlity)\n",
    "根据数据删除剩余7列 ['created_at', 'display_text_range', 'favorite_count', 'full_text', 'id',\n",
    "       'retweet_count', 'source']\n",
    "- id 为标识列\n",
    "- created_at 包括时间、日期,可以进行时序分析\n",
    "- display_text_range 为文字长度\n",
    "- favorite_count 为点赞数\n",
    "- full_text 为文字内容\n",
    "- retweet_count 为回复数\n",
    "- source 为来源\n",
    "\n",
    "### // persistence"
   ]
  },
  {
   "cell_type": "code",
   "execution_count": 35,
   "metadata": {
    "ExecuteTime": {
     "end_time": "2019-08-12T00:51:15.968406Z",
     "start_time": "2019-08-12T00:51:15.770688Z"
    }
   },
   "outputs": [],
   "source": [
    "df_api.to_pickle('tweet.pickle.xz', compression='xz')"
   ]
  },
  {
   "cell_type": "markdown",
   "metadata": {},
   "source": [
    "## / tidyness\n",
    "根据质量部分的输出,对于除id列之外的需要进行清洁度的整理\n",
    "- created_at 包括时间、日期,可以进行时序分析\n",
    "    - 转换为 datafame 的 datetime 格式\n",
    "- display_text_range 为文字长度\n",
    "    - 原格式为 [0-x] x实际为推文长度,需要提取 x, 有个别是 [x-y], 不知道为什么还有下限, 提取上限数据即可\n",
    "    - 本列为非必须列,可以根据 full_text 得出回复长度\n",
    "- favorite_count 为点赞数\n",
    "    - 数字类型,无需转换\n",
    "- full_text 为文字内容\n",
    "    - 后续如果进行nlp的分析需要进行向量化\n",
    "- retweet_count 为回复数\n",
    "    - 数字类型,无需转换\n",
    "- source 为来源\n",
    "    - 来源为链接,中间为发布信息的设备\n",
    "    - 需要使用 re 来完成提取\n",
    "    - 最后输出为分类信息"
   ]
  },
  {
   "cell_type": "markdown",
   "metadata": {},
   "source": [
    "### / load clean df"
   ]
  },
  {
   "cell_type": "code",
   "execution_count": 36,
   "metadata": {
    "ExecuteTime": {
     "end_time": "2019-08-12T00:51:16.008604Z",
     "start_time": "2019-08-12T00:51:15.971902Z"
    }
   },
   "outputs": [
    {
     "data": {
      "text/html": [
       "<div>\n",
       "<style scoped>\n",
       "    .dataframe tbody tr th:only-of-type {\n",
       "        vertical-align: middle;\n",
       "    }\n",
       "\n",
       "    .dataframe tbody tr th {\n",
       "        vertical-align: top;\n",
       "    }\n",
       "\n",
       "    .dataframe thead th {\n",
       "        text-align: right;\n",
       "    }\n",
       "</style>\n",
       "<table border=\"1\" class=\"dataframe\">\n",
       "  <thead>\n",
       "    <tr style=\"text-align: right;\">\n",
       "      <th></th>\n",
       "      <th>created_at</th>\n",
       "      <th>display_text_range</th>\n",
       "      <th>favorite_count</th>\n",
       "      <th>full_text</th>\n",
       "      <th>retweet_count</th>\n",
       "      <th>source</th>\n",
       "    </tr>\n",
       "  </thead>\n",
       "  <tbody>\n",
       "    <tr>\n",
       "      <th>2213</th>\n",
       "      <td>2015-11-22 20:37:34</td>\n",
       "      <td>[0, 139]</td>\n",
       "      <td>493</td>\n",
       "      <td>This is Gòrdón. He enjoys his razberrita by po...</td>\n",
       "      <td>242</td>\n",
       "      <td>&lt;a href=\"http://twitter.com/download/iphone\" r...</td>\n",
       "    </tr>\n",
       "  </tbody>\n",
       "</table>\n",
       "</div>"
      ],
      "text/plain": [
       "              created_at display_text_range  favorite_count  \\\n",
       "2213 2015-11-22 20:37:34           [0, 139]             493   \n",
       "\n",
       "                                              full_text  retweet_count  \\\n",
       "2213  This is Gòrdón. He enjoys his razberrita by po...            242   \n",
       "\n",
       "                                                 source  \n",
       "2213  <a href=\"http://twitter.com/download/iphone\" r...  "
      ]
     },
     "execution_count": 36,
     "metadata": {},
     "output_type": "execute_result"
    }
   ],
   "source": [
    "dfclean = pd.read_pickle('tweet.pickle.xz', compression='xz')\n",
    "dftest = dfclean.copy()\n",
    "dfclean.sample()"
   ]
  },
  {
   "cell_type": "markdown",
   "metadata": {},
   "source": [
    "### // created_at\n",
    "define: 将数据转换为时间格式\n",
    "- solution1 使用 dataframe 的 datatime 格式\n",
    "    - 数据本身为 datetime 格式\n",
    "    - 如果是时序的数据可以将时间转换为 index,非常方便筛选 https://chrisalbon.com/python/data_wrangling/pandas_time_series_basics/\n",
    "- (solution2 使用 python datatime 格式、calendar格式)"
   ]
  },
  {
   "cell_type": "code",
   "execution_count": 37,
   "metadata": {
    "ExecuteTime": {
     "end_time": "2019-08-12T00:51:16.028411Z",
     "start_time": "2019-08-12T00:51:16.012794Z"
    }
   },
   "outputs": [
    {
     "name": "stdout",
     "output_type": "stream",
     "text": [
      "<class 'pandas.core.frame.DataFrame'>\n",
      "RangeIndex: 2352 entries, 0 to 2351\n",
      "Data columns (total 6 columns):\n",
      "created_at            2352 non-null datetime64[ns]\n",
      "display_text_range    2352 non-null object\n",
      "favorite_count        2352 non-null int64\n",
      "full_text             2352 non-null object\n",
      "retweet_count         2352 non-null int64\n",
      "source                2352 non-null object\n",
      "dtypes: datetime64[ns](1), int64(2), object(3)\n",
      "memory usage: 110.3+ KB\n"
     ]
    }
   ],
   "source": [
    "# convert to datetime format\n",
    "dftest.created_at = pd.to_datetime(dftest.created_at)\n",
    "dftest.info()"
   ]
  },
  {
   "cell_type": "code",
   "execution_count": 38,
   "metadata": {
    "ExecuteTime": {
     "end_time": "2019-08-12T00:51:16.051489Z",
     "start_time": "2019-08-12T00:51:16.032795Z"
    }
   },
   "outputs": [
    {
     "data": {
      "text/html": [
       "<div>\n",
       "<style scoped>\n",
       "    .dataframe tbody tr th:only-of-type {\n",
       "        vertical-align: middle;\n",
       "    }\n",
       "\n",
       "    .dataframe tbody tr th {\n",
       "        vertical-align: top;\n",
       "    }\n",
       "\n",
       "    .dataframe thead th {\n",
       "        text-align: right;\n",
       "    }\n",
       "</style>\n",
       "<table border=\"1\" class=\"dataframe\">\n",
       "  <thead>\n",
       "    <tr style=\"text-align: right;\">\n",
       "      <th></th>\n",
       "      <th>created_at</th>\n",
       "      <th>display_text_range</th>\n",
       "      <th>favorite_count</th>\n",
       "      <th>full_text</th>\n",
       "      <th>retweet_count</th>\n",
       "      <th>source</th>\n",
       "    </tr>\n",
       "  </thead>\n",
       "  <tbody>\n",
       "    <tr>\n",
       "      <th>80</th>\n",
       "      <td>2017-06-20 16:29:50</td>\n",
       "      <td>[0, 128]</td>\n",
       "      <td>27661</td>\n",
       "      <td>This is Nelly. He graduated with his dogtorate...</td>\n",
       "      <td>5829</td>\n",
       "      <td>&lt;a href=\"http://twitter.com/download/iphone\" r...</td>\n",
       "    </tr>\n",
       "  </tbody>\n",
       "</table>\n",
       "</div>"
      ],
      "text/plain": [
       "            created_at display_text_range  favorite_count  \\\n",
       "80 2017-06-20 16:29:50           [0, 128]           27661   \n",
       "\n",
       "                                            full_text  retweet_count  \\\n",
       "80  This is Nelly. He graduated with his dogtorate...           5829   \n",
       "\n",
       "                                               source  \n",
       "80  <a href=\"http://twitter.com/download/iphone\" r...  "
      ]
     },
     "execution_count": 38,
     "metadata": {},
     "output_type": "execute_result"
    }
   ],
   "source": [
    "sample = dftest.sample()\n",
    "sample"
   ]
  },
  {
   "cell_type": "code",
   "execution_count": 39,
   "metadata": {
    "ExecuteTime": {
     "end_time": "2019-08-12T00:51:16.068449Z",
     "start_time": "2019-08-12T00:51:16.055241Z"
    }
   },
   "outputs": [
    {
     "data": {
      "text/plain": [
       "(80    6\n",
       " Name: created_at, dtype: int64, 80    20\n",
       " Name: created_at, dtype: int64, 80    16\n",
       " Name: created_at, dtype: int64)"
      ]
     },
     "execution_count": 39,
     "metadata": {},
     "output_type": "execute_result"
    }
   ],
   "source": [
    "sample.created_at.dt.month, sample.created_at.dt.day, sample.created_at.dt.hour,  "
   ]
  },
  {
   "cell_type": "code",
   "execution_count": 40,
   "metadata": {
    "ExecuteTime": {
     "end_time": "2019-08-12T00:51:16.095183Z",
     "start_time": "2019-08-12T00:51:16.071926Z"
    }
   },
   "outputs": [
    {
     "data": {
      "text/html": [
       "<div>\n",
       "<style scoped>\n",
       "    .dataframe tbody tr th:only-of-type {\n",
       "        vertical-align: middle;\n",
       "    }\n",
       "\n",
       "    .dataframe tbody tr th {\n",
       "        vertical-align: top;\n",
       "    }\n",
       "\n",
       "    .dataframe thead th {\n",
       "        text-align: right;\n",
       "    }\n",
       "</style>\n",
       "<table border=\"1\" class=\"dataframe\">\n",
       "  <thead>\n",
       "    <tr style=\"text-align: right;\">\n",
       "      <th></th>\n",
       "      <th>created_at</th>\n",
       "      <th>display_text_range</th>\n",
       "      <th>favorite_count</th>\n",
       "      <th>full_text</th>\n",
       "      <th>retweet_count</th>\n",
       "      <th>source</th>\n",
       "    </tr>\n",
       "  </thead>\n",
       "  <tbody>\n",
       "    <tr>\n",
       "      <th>2342</th>\n",
       "      <td>2015-11-16 01:01:59</td>\n",
       "      <td>[0, 135]</td>\n",
       "      <td>117</td>\n",
       "      <td>Here is the Rand Paul of retrievers folks! He'...</td>\n",
       "      <td>61</td>\n",
       "      <td>&lt;a href=\"http://twitter.com/download/iphone\" r...</td>\n",
       "    </tr>\n",
       "    <tr>\n",
       "      <th>2343</th>\n",
       "      <td>2015-11-16 00:55:59</td>\n",
       "      <td>[0, 124]</td>\n",
       "      <td>304</td>\n",
       "      <td>My oh my. This is a rare blond Canadian terrie...</td>\n",
       "      <td>146</td>\n",
       "      <td>&lt;a href=\"http://twitter.com/download/iphone\" r...</td>\n",
       "    </tr>\n",
       "    <tr>\n",
       "      <th>2344</th>\n",
       "      <td>2015-11-16 00:49:46</td>\n",
       "      <td>[0, 140]</td>\n",
       "      <td>449</td>\n",
       "      <td>Here is a Siberian heavily armored polar bear ...</td>\n",
       "      <td>261</td>\n",
       "      <td>&lt;a href=\"http://twitter.com/download/iphone\" r...</td>\n",
       "    </tr>\n",
       "    <tr>\n",
       "      <th>2345</th>\n",
       "      <td>2015-11-16 00:35:11</td>\n",
       "      <td>[0, 138]</td>\n",
       "      <td>1250</td>\n",
       "      <td>This is an odd dog. Hard on the outside but lo...</td>\n",
       "      <td>877</td>\n",
       "      <td>&lt;a href=\"http://twitter.com/download/iphone\" r...</td>\n",
       "    </tr>\n",
       "    <tr>\n",
       "      <th>2346</th>\n",
       "      <td>2015-11-16 00:30:50</td>\n",
       "      <td>[0, 140]</td>\n",
       "      <td>136</td>\n",
       "      <td>This is a truly beautiful English Wilson Staff...</td>\n",
       "      <td>60</td>\n",
       "      <td>&lt;a href=\"http://twitter.com/download/iphone\" r...</td>\n",
       "    </tr>\n",
       "    <tr>\n",
       "      <th>2347</th>\n",
       "      <td>2015-11-16 00:24:50</td>\n",
       "      <td>[0, 120]</td>\n",
       "      <td>111</td>\n",
       "      <td>Here we have a 1949 1st generation vulpix. Enj...</td>\n",
       "      <td>41</td>\n",
       "      <td>&lt;a href=\"http://twitter.com/download/iphone\" r...</td>\n",
       "    </tr>\n",
       "    <tr>\n",
       "      <th>2348</th>\n",
       "      <td>2015-11-16 00:04:52</td>\n",
       "      <td>[0, 137]</td>\n",
       "      <td>309</td>\n",
       "      <td>This is a purebred Piers Morgan. Loves to Netf...</td>\n",
       "      <td>147</td>\n",
       "      <td>&lt;a href=\"http://twitter.com/download/iphone\" r...</td>\n",
       "    </tr>\n",
       "    <tr>\n",
       "      <th>2349</th>\n",
       "      <td>2015-11-15 23:21:54</td>\n",
       "      <td>[0, 130]</td>\n",
       "      <td>128</td>\n",
       "      <td>Here is a very happy pup. Big fan of well-main...</td>\n",
       "      <td>47</td>\n",
       "      <td>&lt;a href=\"http://twitter.com/download/iphone\" r...</td>\n",
       "    </tr>\n",
       "    <tr>\n",
       "      <th>2350</th>\n",
       "      <td>2015-11-15 23:05:30</td>\n",
       "      <td>[0, 139]</td>\n",
       "      <td>132</td>\n",
       "      <td>This is a western brown Mitsubishi terrier. Up...</td>\n",
       "      <td>48</td>\n",
       "      <td>&lt;a href=\"http://twitter.com/download/iphone\" r...</td>\n",
       "    </tr>\n",
       "    <tr>\n",
       "      <th>2351</th>\n",
       "      <td>2015-11-15 22:32:08</td>\n",
       "      <td>[0, 131]</td>\n",
       "      <td>2528</td>\n",
       "      <td>Here we have a Japanese Irish Setter. Lost eye...</td>\n",
       "      <td>530</td>\n",
       "      <td>&lt;a href=\"http://twitter.com/download/iphone\" r...</td>\n",
       "    </tr>\n",
       "  </tbody>\n",
       "</table>\n",
       "</div>"
      ],
      "text/plain": [
       "              created_at display_text_range  favorite_count  \\\n",
       "2342 2015-11-16 01:01:59           [0, 135]             117   \n",
       "2343 2015-11-16 00:55:59           [0, 124]             304   \n",
       "2344 2015-11-16 00:49:46           [0, 140]             449   \n",
       "2345 2015-11-16 00:35:11           [0, 138]            1250   \n",
       "2346 2015-11-16 00:30:50           [0, 140]             136   \n",
       "2347 2015-11-16 00:24:50           [0, 120]             111   \n",
       "2348 2015-11-16 00:04:52           [0, 137]             309   \n",
       "2349 2015-11-15 23:21:54           [0, 130]             128   \n",
       "2350 2015-11-15 23:05:30           [0, 139]             132   \n",
       "2351 2015-11-15 22:32:08           [0, 131]            2528   \n",
       "\n",
       "                                              full_text  retweet_count  \\\n",
       "2342  Here is the Rand Paul of retrievers folks! He'...             61   \n",
       "2343  My oh my. This is a rare blond Canadian terrie...            146   \n",
       "2344  Here is a Siberian heavily armored polar bear ...            261   \n",
       "2345  This is an odd dog. Hard on the outside but lo...            877   \n",
       "2346  This is a truly beautiful English Wilson Staff...             60   \n",
       "2347  Here we have a 1949 1st generation vulpix. Enj...             41   \n",
       "2348  This is a purebred Piers Morgan. Loves to Netf...            147   \n",
       "2349  Here is a very happy pup. Big fan of well-main...             47   \n",
       "2350  This is a western brown Mitsubishi terrier. Up...             48   \n",
       "2351  Here we have a Japanese Irish Setter. Lost eye...            530   \n",
       "\n",
       "                                                 source  \n",
       "2342  <a href=\"http://twitter.com/download/iphone\" r...  \n",
       "2343  <a href=\"http://twitter.com/download/iphone\" r...  \n",
       "2344  <a href=\"http://twitter.com/download/iphone\" r...  \n",
       "2345  <a href=\"http://twitter.com/download/iphone\" r...  \n",
       "2346  <a href=\"http://twitter.com/download/iphone\" r...  \n",
       "2347  <a href=\"http://twitter.com/download/iphone\" r...  \n",
       "2348  <a href=\"http://twitter.com/download/iphone\" r...  \n",
       "2349  <a href=\"http://twitter.com/download/iphone\" r...  \n",
       "2350  <a href=\"http://twitter.com/download/iphone\" r...  \n",
       "2351  <a href=\"http://twitter.com/download/iphone\" r...  "
      ]
     },
     "execution_count": 40,
     "metadata": {},
     "output_type": "execute_result"
    }
   ],
   "source": [
    "dftest.tail(10)"
   ]
  },
  {
   "cell_type": "code",
   "execution_count": 41,
   "metadata": {
    "ExecuteTime": {
     "end_time": "2019-08-12T00:51:16.106730Z",
     "start_time": "2019-08-12T00:51:16.098960Z"
    }
   },
   "outputs": [],
   "source": [
    "# 根据上述观察, 发现时间是按照发生顺序倒序排列的\n",
    "## 时序分析入门 https://ourcodingclub.github.io/2019/01/07/pandas-time-series.html\n",
    "## 需要转换为 datetime index (方便筛选)\n",
    "## 将在正式数据上实现\n",
    "### df.where 可以直接替换,有空测试\n",
    "dfclean.index = pd.to_datetime(dfclean.created_at)\n",
    "dfclean.index.name = 'time_index'"
   ]
  },
  {
   "cell_type": "code",
   "execution_count": 42,
   "metadata": {
    "ExecuteTime": {
     "end_time": "2019-08-12T00:51:16.124164Z",
     "start_time": "2019-08-12T00:51:16.110444Z"
    }
   },
   "outputs": [
    {
     "name": "stdout",
     "output_type": "stream",
     "text": [
      "---- proceding ----\n",
      "- drop 1 columns: ['created_at'] \n",
      "- remain 5 columns\n",
      "- success : True\n"
     ]
    }
   ],
   "source": [
    "droplist = ['created_at']\n",
    "w.drop_column(dfclean, droplist)"
   ]
  },
  {
   "cell_type": "code",
   "execution_count": 43,
   "metadata": {
    "ExecuteTime": {
     "end_time": "2019-08-12T00:51:16.154189Z",
     "start_time": "2019-08-12T00:51:16.128957Z"
    }
   },
   "outputs": [
    {
     "data": {
      "text/html": [
       "<div>\n",
       "<style scoped>\n",
       "    .dataframe tbody tr th:only-of-type {\n",
       "        vertical-align: middle;\n",
       "    }\n",
       "\n",
       "    .dataframe tbody tr th {\n",
       "        vertical-align: top;\n",
       "    }\n",
       "\n",
       "    .dataframe thead th {\n",
       "        text-align: right;\n",
       "    }\n",
       "</style>\n",
       "<table border=\"1\" class=\"dataframe\">\n",
       "  <thead>\n",
       "    <tr style=\"text-align: right;\">\n",
       "      <th></th>\n",
       "      <th>display_text_range</th>\n",
       "      <th>favorite_count</th>\n",
       "      <th>full_text</th>\n",
       "      <th>retweet_count</th>\n",
       "      <th>source</th>\n",
       "    </tr>\n",
       "    <tr>\n",
       "      <th>time_index</th>\n",
       "      <th></th>\n",
       "      <th></th>\n",
       "      <th></th>\n",
       "      <th></th>\n",
       "      <th></th>\n",
       "    </tr>\n",
       "  </thead>\n",
       "  <tbody>\n",
       "    <tr>\n",
       "      <th>2017-01-01 19:22:38</th>\n",
       "      <td>[0, 100]</td>\n",
       "      <td>9130</td>\n",
       "      <td>This is Titan. His nose is quite chilly. Reque...</td>\n",
       "      <td>1901</td>\n",
       "      <td>&lt;a href=\"http://twitter.com/download/iphone\" r...</td>\n",
       "    </tr>\n",
       "    <tr>\n",
       "      <th>2017-01-01 02:53:20</th>\n",
       "      <td>[0, 44]</td>\n",
       "      <td>11423</td>\n",
       "      <td>Happy New Year from the squad! 13/10 for all h...</td>\n",
       "      <td>4388</td>\n",
       "      <td>&lt;a href=\"http://twitter.com/download/iphone\" r...</td>\n",
       "    </tr>\n",
       "  </tbody>\n",
       "</table>\n",
       "</div>"
      ],
      "text/plain": [
       "                    display_text_range  favorite_count  \\\n",
       "time_index                                               \n",
       "2017-01-01 19:22:38           [0, 100]            9130   \n",
       "2017-01-01 02:53:20            [0, 44]           11423   \n",
       "\n",
       "                                                             full_text  \\\n",
       "time_index                                                               \n",
       "2017-01-01 19:22:38  This is Titan. His nose is quite chilly. Reque...   \n",
       "2017-01-01 02:53:20  Happy New Year from the squad! 13/10 for all h...   \n",
       "\n",
       "                     retweet_count  \\\n",
       "time_index                           \n",
       "2017-01-01 19:22:38           1901   \n",
       "2017-01-01 02:53:20           4388   \n",
       "\n",
       "                                                                source  \n",
       "time_index                                                              \n",
       "2017-01-01 19:22:38  <a href=\"http://twitter.com/download/iphone\" r...  \n",
       "2017-01-01 02:53:20  <a href=\"http://twitter.com/download/iphone\" r...  "
      ]
     },
     "execution_count": 43,
     "metadata": {},
     "output_type": "execute_result"
    }
   ],
   "source": [
    "dfclean['20170101']"
   ]
  },
  {
   "cell_type": "markdown",
   "metadata": {},
   "source": [
    "### // display_text_range\n",
    "define: 抽取出 text 的长度,存为整数\n",
    "- solution1 使用 python standard re lib\n",
    "    - 抽出字符\n",
    "    - 转换为 int\n",
    "- https://pandas.pydata.org/pandas-docs/stable/user_guide/text.html 非常全面的介绍"
   ]
  },
  {
   "cell_type": "code",
   "execution_count": 44,
   "metadata": {
    "ExecuteTime": {
     "end_time": "2019-08-12T00:51:16.169574Z",
     "start_time": "2019-08-12T00:51:16.158344Z"
    }
   },
   "outputs": [
    {
     "data": {
      "text/plain": [
       "time_index\n",
       "2017-08-01 16:23:56     [0, 85]\n",
       "2017-08-01 00:17:27    [0, 138]\n",
       "2017-07-31 00:18:03    [0, 121]\n",
       "2017-07-30 15:58:51     [0, 79]\n",
       "2017-07-29 16:00:24    [0, 138]\n",
       "2017-07-29 00:08:17    [0, 138]\n",
       "2017-07-28 16:27:12    [0, 140]\n",
       "2017-07-28 00:22:40    [0, 118]\n",
       "2017-07-27 16:25:51    [0, 122]\n",
       "2017-07-26 15:59:51    [0, 133]\n",
       "Name: display_text_range, dtype: object"
      ]
     },
     "execution_count": 44,
     "metadata": {},
     "output_type": "execute_result"
    }
   ],
   "source": [
    "# code\n",
    "## extract str\n",
    "dfclean.display_text_range[:10]"
   ]
  },
  {
   "cell_type": "code",
   "execution_count": 45,
   "metadata": {
    "ExecuteTime": {
     "end_time": "2019-08-12T00:51:16.184138Z",
     "start_time": "2019-08-12T00:51:16.173618Z"
    }
   },
   "outputs": [],
   "source": [
    "## 使用.str[slice] 直接解析相应位置的数字\n",
    "dfclean.display_text_range = dfclean.display_text_range.str[1]"
   ]
  },
  {
   "cell_type": "code",
   "execution_count": 46,
   "metadata": {
    "ExecuteTime": {
     "end_time": "2019-08-12T00:51:16.205723Z",
     "start_time": "2019-08-12T00:51:16.188657Z"
    }
   },
   "outputs": [
    {
     "name": "stdout",
     "output_type": "stream",
     "text": [
      "<class 'pandas.core.frame.DataFrame'>\n",
      "DatetimeIndex: 2352 entries, 2017-08-01 16:23:56 to 2015-11-15 22:32:08\n",
      "Data columns (total 5 columns):\n",
      "display_text_range    2352 non-null int64\n",
      "favorite_count        2352 non-null int64\n",
      "full_text             2352 non-null object\n",
      "retweet_count         2352 non-null int64\n",
      "source                2352 non-null object\n",
      "dtypes: int64(3), object(2)\n",
      "memory usage: 110.2+ KB\n"
     ]
    }
   ],
   "source": [
    "dfclean.display_text_range = dfclean.display_text_range.astype(int)\n",
    "dfclean.info()"
   ]
  },
  {
   "cell_type": "code",
   "execution_count": 47,
   "metadata": {
    "ExecuteTime": {
     "end_time": "2019-08-12T00:51:16.261583Z",
     "start_time": "2019-08-12T00:51:16.209518Z"
    }
   },
   "outputs": [
    {
     "data": {
      "text/html": [
       "<div>\n",
       "<style scoped>\n",
       "    .dataframe tbody tr th:only-of-type {\n",
       "        vertical-align: middle;\n",
       "    }\n",
       "\n",
       "    .dataframe tbody tr th {\n",
       "        vertical-align: top;\n",
       "    }\n",
       "\n",
       "    .dataframe thead th {\n",
       "        text-align: right;\n",
       "    }\n",
       "</style>\n",
       "<table border=\"1\" class=\"dataframe\">\n",
       "  <thead>\n",
       "    <tr style=\"text-align: right;\">\n",
       "      <th></th>\n",
       "      <th>display_text_range</th>\n",
       "      <th>favorite_count</th>\n",
       "      <th>retweet_count</th>\n",
       "    </tr>\n",
       "  </thead>\n",
       "  <tbody>\n",
       "    <tr>\n",
       "      <th>count</th>\n",
       "      <td>2352.000000</td>\n",
       "      <td>2352.000000</td>\n",
       "      <td>2352.000000</td>\n",
       "    </tr>\n",
       "    <tr>\n",
       "      <th>mean</th>\n",
       "      <td>111.179847</td>\n",
       "      <td>8109.198980</td>\n",
       "      <td>3134.932398</td>\n",
       "    </tr>\n",
       "    <tr>\n",
       "      <th>std</th>\n",
       "      <td>27.364336</td>\n",
       "      <td>11980.795669</td>\n",
       "      <td>5237.846296</td>\n",
       "    </tr>\n",
       "    <tr>\n",
       "      <th>min</th>\n",
       "      <td>11.000000</td>\n",
       "      <td>0.000000</td>\n",
       "      <td>0.000000</td>\n",
       "    </tr>\n",
       "    <tr>\n",
       "      <th>25%</th>\n",
       "      <td>93.000000</td>\n",
       "      <td>1417.000000</td>\n",
       "      <td>618.000000</td>\n",
       "    </tr>\n",
       "    <tr>\n",
       "      <th>50%</th>\n",
       "      <td>116.000000</td>\n",
       "      <td>3596.500000</td>\n",
       "      <td>1456.500000</td>\n",
       "    </tr>\n",
       "    <tr>\n",
       "      <th>75%</th>\n",
       "      <td>137.000000</td>\n",
       "      <td>10118.000000</td>\n",
       "      <td>3628.750000</td>\n",
       "    </tr>\n",
       "    <tr>\n",
       "      <th>max</th>\n",
       "      <td>165.000000</td>\n",
       "      <td>132318.000000</td>\n",
       "      <td>79116.000000</td>\n",
       "    </tr>\n",
       "  </tbody>\n",
       "</table>\n",
       "</div>"
      ],
      "text/plain": [
       "       display_text_range  favorite_count  retweet_count\n",
       "count         2352.000000     2352.000000    2352.000000\n",
       "mean           111.179847     8109.198980    3134.932398\n",
       "std             27.364336    11980.795669    5237.846296\n",
       "min             11.000000        0.000000       0.000000\n",
       "25%             93.000000     1417.000000     618.000000\n",
       "50%            116.000000     3596.500000    1456.500000\n",
       "75%            137.000000    10118.000000    3628.750000\n",
       "max            165.000000   132318.000000   79116.000000"
      ]
     },
     "execution_count": 47,
     "metadata": {},
     "output_type": "execute_result"
    }
   ],
   "source": [
    "dfclean.describe()"
   ]
  },
  {
   "cell_type": "markdown",
   "metadata": {},
   "source": [
    "### // full_text\n",
    "define:\n",
    "- 每个评价后面都有一个分值和链接 11/10 https://t.co/8W5iSOgXfx\n",
    "- 评分为 10/10 或 11/10,没找到说明, 链接科学上网也不能访问\n",
    "- 需要删除后保存\n",
    "- 此处不做处理,词云的制作最后再做\n",
    "- try solution\n",
    "    - str.replace\n",
    "    - str[i]\n",
    "    - str.extract(r'[ab](\\d))\n",
    "    - pat = / str.match\n",
    "    - str.contains\n",
    "    - get.dummies(sep=',')"
   ]
  },
  {
   "cell_type": "code",
   "execution_count": 48,
   "metadata": {
    "ExecuteTime": {
     "end_time": "2019-08-12T00:51:16.278144Z",
     "start_time": "2019-08-12T00:51:16.265415Z"
    }
   },
   "outputs": [
    {
     "data": {
      "text/plain": [
       "time_index\n",
       "2017-08-01 16:23:56    This is Phineas. He's a mystical boy. Only eve...\n",
       "2017-08-01 00:17:27    This is Tilly. She's just checking pup on you....\n",
       "2017-07-31 00:18:03    This is Archie. He is a rare Norwegian Pouncin...\n",
       "2017-07-30 15:58:51    This is Darla. She commenced a snooze mid meal...\n",
       "2017-07-29 16:00:24    This is Franklin. He would like you to stop ca...\n",
       "2017-07-29 00:08:17    Here we have a majestic great white breaching ...\n",
       "2017-07-28 16:27:12    Meet Jax. He enjoys ice cream so much he gets ...\n",
       "2017-07-28 00:22:40    When you watch your owner call another dog a g...\n",
       "2017-07-27 16:25:51    This is Zoey. She doesn't want to be one of th...\n",
       "2017-07-26 15:59:51    This is Cassie. She is a college pup. Studying...\n",
       "Name: full_text, dtype: object"
      ]
     },
     "execution_count": 48,
     "metadata": {},
     "output_type": "execute_result"
    }
   ],
   "source": [
    "# code\n",
    "detlist = ['full_text']\n",
    "dfclean.full_text[:10]"
   ]
  },
  {
   "cell_type": "code",
   "execution_count": 49,
   "metadata": {
    "ExecuteTime": {
     "end_time": "2019-08-12T00:51:16.293450Z",
     "start_time": "2019-08-12T00:51:16.282463Z"
    }
   },
   "outputs": [
    {
     "data": {
      "text/plain": [
       "\"This is Tilly. She's just checking pup on you. Hopes you're doing ok. If not, she's available for pats, snugs, boops, the whole bit. 13/10 https://t.co/0Xxu71qeIV\""
      ]
     },
     "execution_count": 49,
     "metadata": {},
     "output_type": "execute_result"
    }
   ],
   "source": [
    "# extrac\n",
    "dfclean.full_text[1]"
   ]
  },
  {
   "cell_type": "code",
   "execution_count": 50,
   "metadata": {
    "ExecuteTime": {
     "end_time": "2019-08-12T00:51:16.312926Z",
     "start_time": "2019-08-12T00:51:16.297321Z"
    }
   },
   "outputs": [
    {
     "data": {
      "text/html": [
       "<div>\n",
       "<style scoped>\n",
       "    .dataframe tbody tr th:only-of-type {\n",
       "        vertical-align: middle;\n",
       "    }\n",
       "\n",
       "    .dataframe tbody tr th {\n",
       "        vertical-align: top;\n",
       "    }\n",
       "\n",
       "    .dataframe thead th {\n",
       "        text-align: right;\n",
       "    }\n",
       "</style>\n",
       "<table border=\"1\" class=\"dataframe\">\n",
       "  <thead>\n",
       "    <tr style=\"text-align: right;\">\n",
       "      <th></th>\n",
       "      <th>0</th>\n",
       "      <th>1</th>\n",
       "    </tr>\n",
       "  </thead>\n",
       "  <tbody>\n",
       "    <tr>\n",
       "      <th>0</th>\n",
       "      <td>a</td>\n",
       "      <td>1</td>\n",
       "    </tr>\n",
       "    <tr>\n",
       "      <th>1</th>\n",
       "      <td>b</td>\n",
       "      <td>2</td>\n",
       "    </tr>\n",
       "    <tr>\n",
       "      <th>2</th>\n",
       "      <td>NaN</td>\n",
       "      <td>NaN</td>\n",
       "    </tr>\n",
       "  </tbody>\n",
       "</table>\n",
       "</div>"
      ],
      "text/plain": [
       "     0    1\n",
       "0    a    1\n",
       "1    b    2\n",
       "2  NaN  NaN"
      ]
     },
     "execution_count": 50,
     "metadata": {},
     "output_type": "execute_result"
    }
   ],
   "source": [
    "## extract testing\n",
    "s = pd.Series(['a1', 'b2', 'c3'])\n",
    "s.str.extract(r'([ab])(\\d)')"
   ]
  },
  {
   "cell_type": "code",
   "execution_count": 51,
   "metadata": {
    "ExecuteTime": {
     "end_time": "2019-08-12T00:51:16.326589Z",
     "start_time": "2019-08-12T00:51:16.316876Z"
    }
   },
   "outputs": [],
   "source": [
    "test = dfclean.full_text.str.lower()"
   ]
  },
  {
   "cell_type": "code",
   "execution_count": 52,
   "metadata": {
    "ExecuteTime": {
     "end_time": "2019-08-12T00:51:16.341390Z",
     "start_time": "2019-08-12T00:51:16.329562Z"
    }
   },
   "outputs": [
    {
     "data": {
      "text/plain": [
       "'this is dewey (pronounced \"covfefe\"). he\\'s having a good walk. arguably the best walk. 13/10 would snug softly https://t.co/hcieajkc4d'"
      ]
     },
     "execution_count": 52,
     "metadata": {},
     "output_type": "execute_result"
    }
   ],
   "source": [
    "test[117]"
   ]
  },
  {
   "cell_type": "code",
   "execution_count": 53,
   "metadata": {
    "ExecuteTime": {
     "end_time": "2019-08-12T00:51:16.457832Z",
     "start_time": "2019-08-12T00:51:16.345948Z"
    }
   },
   "outputs": [
    {
     "data": {
      "text/html": [
       "<div>\n",
       "<style scoped>\n",
       "    .dataframe tbody tr th:only-of-type {\n",
       "        vertical-align: middle;\n",
       "    }\n",
       "\n",
       "    .dataframe tbody tr th {\n",
       "        vertical-align: top;\n",
       "    }\n",
       "\n",
       "    .dataframe thead th {\n",
       "        text-align: right;\n",
       "    }\n",
       "</style>\n",
       "<table border=\"1\" class=\"dataframe\">\n",
       "  <thead>\n",
       "    <tr style=\"text-align: right;\">\n",
       "      <th></th>\n",
       "      <th>0</th>\n",
       "    </tr>\n",
       "    <tr>\n",
       "      <th>time_index</th>\n",
       "      <th></th>\n",
       "    </tr>\n",
       "  </thead>\n",
       "  <tbody>\n",
       "    <tr>\n",
       "      <th>2017-08-01 16:23:56</th>\n",
       "      <td>13/10</td>\n",
       "    </tr>\n",
       "    <tr>\n",
       "      <th>2017-08-01 00:17:27</th>\n",
       "      <td>13/10</td>\n",
       "    </tr>\n",
       "    <tr>\n",
       "      <th>2017-07-31 00:18:03</th>\n",
       "      <td>12/10</td>\n",
       "    </tr>\n",
       "    <tr>\n",
       "      <th>2017-07-30 15:58:51</th>\n",
       "      <td>13/10</td>\n",
       "    </tr>\n",
       "    <tr>\n",
       "      <th>2017-07-29 16:00:24</th>\n",
       "      <td>12/10</td>\n",
       "    </tr>\n",
       "  </tbody>\n",
       "</table>\n",
       "</div>"
      ],
      "text/plain": [
       "                         0\n",
       "time_index                \n",
       "2017-08-01 16:23:56  13/10\n",
       "2017-08-01 00:17:27  13/10\n",
       "2017-07-31 00:18:03  12/10\n",
       "2017-07-30 15:58:51  13/10\n",
       "2017-07-29 16:00:24  12/10"
      ]
     },
     "execution_count": 53,
     "metadata": {},
     "output_type": "execute_result"
    }
   ],
   "source": [
    "test.str.extract('(\\d\\d\\/\\d\\d)')[:5]"
   ]
  },
  {
   "cell_type": "code",
   "execution_count": 54,
   "metadata": {
    "ExecuteTime": {
     "end_time": "2019-08-12T00:51:16.635480Z",
     "start_time": "2019-08-12T00:51:16.461214Z"
    }
   },
   "outputs": [
    {
     "data": {
      "text/html": [
       "<div>\n",
       "<style scoped>\n",
       "    .dataframe tbody tr th:only-of-type {\n",
       "        vertical-align: middle;\n",
       "    }\n",
       "\n",
       "    .dataframe tbody tr th {\n",
       "        vertical-align: top;\n",
       "    }\n",
       "\n",
       "    .dataframe thead th {\n",
       "        text-align: right;\n",
       "    }\n",
       "</style>\n",
       "<table border=\"1\" class=\"dataframe\">\n",
       "  <thead>\n",
       "    <tr style=\"text-align: right;\">\n",
       "      <th></th>\n",
       "      <th>0</th>\n",
       "      <th>1</th>\n",
       "    </tr>\n",
       "    <tr>\n",
       "      <th>time_index</th>\n",
       "      <th></th>\n",
       "      <th></th>\n",
       "    </tr>\n",
       "  </thead>\n",
       "  <tbody>\n",
       "    <tr>\n",
       "      <th>2017-08-01 16:23:56</th>\n",
       "      <td>this is phineas. he's a mystical boy. only eve...</td>\n",
       "      <td>13/10</td>\n",
       "    </tr>\n",
       "    <tr>\n",
       "      <th>2017-08-01 00:17:27</th>\n",
       "      <td>this is tilly. she's just checking pup on you....</td>\n",
       "      <td>13/10</td>\n",
       "    </tr>\n",
       "    <tr>\n",
       "      <th>2017-07-31 00:18:03</th>\n",
       "      <td>this is archie. he is a rare norwegian pouncin...</td>\n",
       "      <td>12/10</td>\n",
       "    </tr>\n",
       "    <tr>\n",
       "      <th>2017-07-30 15:58:51</th>\n",
       "      <td>this is darla. she commenced a snooze mid meal.</td>\n",
       "      <td>13/10</td>\n",
       "    </tr>\n",
       "    <tr>\n",
       "      <th>2017-07-29 16:00:24</th>\n",
       "      <td>this is franklin. he would like you to stop ca...</td>\n",
       "      <td>12/10</td>\n",
       "    </tr>\n",
       "  </tbody>\n",
       "</table>\n",
       "</div>"
      ],
      "text/plain": [
       "                                                                     0      1\n",
       "time_index                                                                   \n",
       "2017-08-01 16:23:56  this is phineas. he's a mystical boy. only eve...  13/10\n",
       "2017-08-01 00:17:27  this is tilly. she's just checking pup on you....  13/10\n",
       "2017-07-31 00:18:03  this is archie. he is a rare norwegian pouncin...  12/10\n",
       "2017-07-30 15:58:51   this is darla. she commenced a snooze mid meal.   13/10\n",
       "2017-07-29 16:00:24  this is franklin. he would like you to stop ca...  12/10"
      ]
     },
     "execution_count": 54,
     "metadata": {},
     "output_type": "execute_result"
    }
   ],
   "source": [
    "test.str.extract('(.*)(\\d{2}\\/\\d{2})')[:5]"
   ]
  },
  {
   "cell_type": "code",
   "execution_count": 55,
   "metadata": {
    "ExecuteTime": {
     "end_time": "2019-08-12T00:51:16.813316Z",
     "start_time": "2019-08-12T00:51:16.639353Z"
    }
   },
   "outputs": [
    {
     "data": {
      "text/plain": [
       "time_index\n",
       "2017-08-01 16:23:56    this is phineas. he's a mystical boy. only eve...\n",
       "2017-08-01 00:17:27    this is tilly. she's just checking pup on you....\n",
       "2017-07-31 00:18:03    this is archie. he is a rare norwegian pouncin...\n",
       "2017-07-30 15:58:51      this is darla. she commenced a snooze mid meal.\n",
       "2017-07-29 16:00:24    this is franklin. he would like you to stop ca...\n",
       "Name: 0, dtype: object"
      ]
     },
     "execution_count": 55,
     "metadata": {},
     "output_type": "execute_result"
    }
   ],
   "source": [
    "test.str.extract('(.*)(\\d{2}\\/\\d{2})')[0].str.strip()[:5]"
   ]
  },
  {
   "cell_type": "code",
   "execution_count": 56,
   "metadata": {
    "ExecuteTime": {
     "end_time": "2019-08-12T00:51:16.999550Z",
     "start_time": "2019-08-12T00:51:16.817838Z"
    }
   },
   "outputs": [],
   "source": [
    "dfclean['clean_text'] = test.str.extract('(.*)(\\d{2}\\/\\d{2})')[0]"
   ]
  },
  {
   "cell_type": "code",
   "execution_count": 57,
   "metadata": {
    "ExecuteTime": {
     "end_time": "2019-08-12T00:51:17.015650Z",
     "start_time": "2019-08-12T00:51:17.003446Z"
    }
   },
   "outputs": [
    {
     "name": "stdout",
     "output_type": "stream",
     "text": [
      "---- proceding ----\n",
      "- drop 1 columns: ['full_text'] \n",
      "- remain 5 columns\n",
      "- success : True\n"
     ]
    }
   ],
   "source": [
    "droplist = ['full_text']\n",
    "w.drop_column(dfclean,droplist)"
   ]
  },
  {
   "cell_type": "markdown",
   "metadata": {},
   "source": [
    "### // source\n",
    "define: 抽取出发 tweet 使用的设备\n",
    "    - 信息是这样的 <a href=\"http://twitter.com/download/iphone\" rel=\"nofollow\">Twitter for iPhone</a>\n",
    "    - 需要抽取出 `Twitter for iPhone`, 并定义分类为 iphone\n",
    "    - 将本列做成分类数据\n",
    "    - 更新\n",
    "        - 根据value_counts的输出, 95%的来源为iphone, 失去分析价值(Android的去哪里了)\n",
    "        - 不过起码说明移动的登陆要比网页多很多"
   ]
  },
  {
   "cell_type": "code",
   "execution_count": 58,
   "metadata": {
    "ExecuteTime": {
     "end_time": "2019-08-12T00:51:17.031056Z",
     "start_time": "2019-08-12T00:51:17.017893Z"
    }
   },
   "outputs": [
    {
     "data": {
      "text/plain": [
       "<a href=\"http://twitter.com/download/iphone\" rel=\"nofollow\">Twitter for iPhone</a>     2217\n",
       "<a href=\"http://vine.co\" rel=\"nofollow\">Vine - Make a Scene</a>                          91\n",
       "<a href=\"http://twitter.com\" rel=\"nofollow\">Twitter Web Client</a>                       33\n",
       "<a href=\"https://about.twitter.com/products/tweetdeck\" rel=\"nofollow\">TweetDeck</a>      11\n",
       "Name: source, dtype: int64"
      ]
     },
     "execution_count": 58,
     "metadata": {},
     "output_type": "execute_result"
    }
   ],
   "source": [
    "# code\n",
    "## 观察数据\n",
    "dfclean.source.value_counts()"
   ]
  },
  {
   "cell_type": "code",
   "execution_count": 59,
   "metadata": {
    "ExecuteTime": {
     "end_time": "2019-08-12T00:51:17.046367Z",
     "start_time": "2019-08-12T00:51:17.036936Z"
    }
   },
   "outputs": [
    {
     "name": "stdout",
     "output_type": "stream",
     "text": [
      "---- proceding ----\n",
      "- drop 1 columns: ['source'] \n",
      "- remain 4 columns\n",
      "- success : True\n"
     ]
    }
   ],
   "source": [
    "## drop\n",
    "droplist = ['source']\n",
    "w.drop_column(dfclean, droplist)"
   ]
  },
  {
   "cell_type": "markdown",
   "metadata": {},
   "source": [
    "### // persistence"
   ]
  },
  {
   "cell_type": "code",
   "execution_count": 60,
   "metadata": {
    "ExecuteTime": {
     "end_time": "2019-08-12T00:51:17.160660Z",
     "start_time": "2019-08-12T00:51:17.050797Z"
    }
   },
   "outputs": [],
   "source": [
    "# code\n",
    "dfclean.to_pickle('tweetclean.pickle.xz', compression='xz')"
   ]
  },
  {
   "cell_type": "markdown",
   "metadata": {},
   "source": [
    "# 评估 - twitter-archive-enhanced \n",
    "## / quanlity"
   ]
  },
  {
   "cell_type": "markdown",
   "metadata": {},
   "source": [
    "根据先做的 wtitt jason 的清理，先删除一些列"
   ]
  },
  {
   "cell_type": "code",
   "execution_count": 61,
   "metadata": {
    "ExecuteTime": {
     "end_time": "2019-08-12T00:51:17.176497Z",
     "start_time": "2019-08-12T00:51:17.164908Z"
    }
   },
   "outputs": [
    {
     "data": {
      "text/plain": [
       "Index(['tweet_id', 'in_reply_to_status_id', 'in_reply_to_user_id', 'timestamp',\n",
       "       'source', 'text', 'retweeted_status_id', 'retweeted_status_user_id',\n",
       "       'retweeted_status_timestamp', 'expanded_urls', 'rating_numerator',\n",
       "       'rating_denominator', 'name', 'doggo', 'floofer', 'pupper', 'puppo'],\n",
       "      dtype='object')"
      ]
     },
     "execution_count": 61,
     "metadata": {},
     "output_type": "execute_result"
    }
   ],
   "source": [
    "df_arc.columns"
   ]
  },
  {
   "cell_type": "code",
   "execution_count": 62,
   "metadata": {
    "ExecuteTime": {
     "end_time": "2019-08-12T00:51:17.192108Z",
     "start_time": "2019-08-12T00:51:17.182155Z"
    }
   },
   "outputs": [
    {
     "data": {
      "text/plain": [
       "(2356, 17)"
      ]
     },
     "execution_count": 62,
     "metadata": {},
     "output_type": "execute_result"
    }
   ],
   "source": [
    "df_arc.shape"
   ]
  },
  {
   "cell_type": "code",
   "execution_count": 63,
   "metadata": {
    "ExecuteTime": {
     "end_time": "2019-08-12T00:51:17.214024Z",
     "start_time": "2019-08-12T00:51:17.196520Z"
    }
   },
   "outputs": [
    {
     "name": "stdout",
     "output_type": "stream",
     "text": [
      "----checking sample index: 2240\n",
      "\n",
      "- columns #1 : tweet_id\n",
      "[667924896115245057]\n",
      "\n",
      "- columns #2 : in_reply_to_status_id\n",
      "[nan]\n",
      "\n",
      "- columns #3 : in_reply_to_user_id\n",
      "[nan]\n",
      "\n",
      "- columns #4 : timestamp\n",
      "['2015-11-21 04:37:59 +0000']\n",
      "\n",
      "- columns #5 : source--\n",
      "['<a href=\"http://twitter.com/download/iphone\" rel=\"nofollow\">Twitter for iPhone</a>']\n",
      "\n",
      "- columns #6 : text----\n",
      "['This is Jiminy. He has always wanted to be a cheerleader. Can jump high enough to get on other dog. Go Jiminy. 9/10 https://t.co/fW6kIPFGD2']\n",
      "\n",
      "- columns #7 : retweeted_status_id\n",
      "[nan]\n",
      "\n",
      "- columns #8 : retweeted_status_user_id\n",
      "[nan]\n",
      "\n",
      "- columns #9 : retweeted_status_timestamp\n",
      "[nan]\n",
      "\n",
      "- columns #10 : expanded_urls\n",
      "['https://twitter.com/dog_rates/status/667924896115245057/photo/1']\n",
      "\n",
      "- columns #11 : rating_numerator\n",
      "[9]\n",
      "\n",
      "- columns #12 : rating_denominator\n",
      "[10]\n",
      "\n",
      "- columns #13 : name----\n",
      "['Jiminy']\n",
      "\n",
      "- columns #14 : doggo---\n",
      "['None']\n",
      "\n",
      "- columns #15 : floofer-\n",
      "['None']\n",
      "\n",
      "- columns #16 : pupper--\n",
      "['None']\n",
      "\n",
      "- columns #17 : puppo---\n",
      "['None']\n",
      "'----checking complete----'\n"
     ]
    }
   ],
   "source": [
    "w.check_sample(df_arc)"
   ]
  },
  {
   "cell_type": "code",
   "execution_count": 64,
   "metadata": {
    "ExecuteTime": {
     "end_time": "2019-08-12T00:51:17.231901Z",
     "start_time": "2019-08-12T00:51:17.220054Z"
    }
   },
   "outputs": [
    {
     "data": {
      "text/plain": [
       "Index(['tweet_id', 'in_reply_to_status_id', 'in_reply_to_user_id', 'timestamp',\n",
       "       'source', 'text', 'retweeted_status_id', 'retweeted_status_user_id',\n",
       "       'retweeted_status_timestamp', 'expanded_urls', 'rating_numerator',\n",
       "       'rating_denominator', 'name', 'doggo', 'floofer', 'pupper', 'puppo'],\n",
       "      dtype='object')"
      ]
     },
     "execution_count": 64,
     "metadata": {},
     "output_type": "execute_result"
    }
   ],
   "source": [
    "df_arc.columns"
   ]
  },
  {
   "cell_type": "code",
   "execution_count": 65,
   "metadata": {
    "ExecuteTime": {
     "end_time": "2019-08-12T00:51:17.245541Z",
     "start_time": "2019-08-12T00:51:17.236316Z"
    }
   },
   "outputs": [],
   "source": [
    "## define inspect list1\n",
    "inslist1 = ['name','doggo','floofer', 'pupper','puppo']\n",
    "inslist2 = ['in_reply_to_status_id', 'in_reply_to_user_id', 'timestamp',\n",
    "       'source']\n",
    "inslist3 = ['retweeted_status_id', 'retweeted_status_user_id',\n",
    "       'retweeted_status_timestamp']\n",
    "inslist4 = ['expanded_urls', 'rating_numerator', 'rating_denominator']"
   ]
  },
  {
   "cell_type": "code",
   "execution_count": 66,
   "metadata": {
    "ExecuteTime": {
     "end_time": "2019-08-12T00:51:17.277652Z",
     "start_time": "2019-08-12T00:51:17.250735Z"
    }
   },
   "outputs": [
    {
     "name": "stdout",
     "output_type": "stream",
     "text": [
      "\n",
      "- columns: name----\n",
      "None        745\n",
      "a            55\n",
      "Charlie      12\n",
      "Lucy         11\n",
      "Oliver       11\n",
      "Cooper       11\n",
      "Lola         10\n",
      "Penny        10\n",
      "Tucker       10\n",
      "Bo            9\n",
      "Winston       9\n",
      "the           8\n",
      "Sadie         8\n",
      "an            7\n",
      "Daisy         7\n",
      "Buddy         7\n",
      "Toby          7\n",
      "Bailey        7\n",
      "Koda          6\n",
      "Leo           6\n",
      "Bella         6\n",
      "Jax           6\n",
      "Oscar         6\n",
      "Scout         6\n",
      "Milo          6\n",
      "Stanley       6\n",
      "Rusty         6\n",
      "Jack          6\n",
      "Dave          6\n",
      "Phil          5\n",
      "           ... \n",
      "all           1\n",
      "Gòrdón        1\n",
      "Brutus        1\n",
      "Kanu          1\n",
      "Rumpole       1\n",
      "Skye          1\n",
      "Lillie        1\n",
      "Tayzie        1\n",
      "Furzey        1\n",
      "Mo            1\n",
      "Tycho         1\n",
      "Banjo         1\n",
      "Severus       1\n",
      "Kirk          1\n",
      "Lucky         1\n",
      "Bode          1\n",
      "Remy          1\n",
      "Edmund        1\n",
      "Jay           1\n",
      "Kingsley      1\n",
      "Bobb          1\n",
      "Caryl         1\n",
      "Harlso        1\n",
      "Superpup      1\n",
      "Damon         1\n",
      "Spanky        1\n",
      "Gunner        1\n",
      "Amber         1\n",
      "Reagan        1\n",
      "Brandy        1\n",
      "Name: name, Length: 957, dtype: int64\n",
      "\n",
      "- columns: doggo---\n",
      "None     2259\n",
      "doggo      97\n",
      "Name: doggo, dtype: int64\n",
      "\n",
      "- columns: floofer-\n",
      "None       2346\n",
      "floofer      10\n",
      "Name: floofer, dtype: int64\n",
      "\n",
      "- columns: pupper--\n",
      "None      2099\n",
      "pupper     257\n",
      "Name: pupper, dtype: int64\n",
      "\n",
      "- columns: puppo---\n",
      "None     2326\n",
      "puppo      30\n",
      "Name: puppo, dtype: int64\n"
     ]
    }
   ],
   "source": [
    "for i in inslist1:\n",
    "    print(('\\n- columns: {:-<8}'.format(i)))\n",
    "    #print((df_arc[i].value_counts().nlargest(5)))\n",
    "    print((df_arc[i].value_counts()))"
   ]
  },
  {
   "cell_type": "code",
   "execution_count": 67,
   "metadata": {
    "ExecuteTime": {
     "end_time": "2019-08-12T00:51:17.304596Z",
     "start_time": "2019-08-12T00:51:17.281773Z"
    }
   },
   "outputs": [
    {
     "name": "stdout",
     "output_type": "stream",
     "text": [
      "\n",
      "- columns: in_reply_to_status_id\n",
      "6.671522e+17    2\n",
      "8.562860e+17    1\n",
      "8.131273e+17    1\n",
      "6.754971e+17    1\n",
      "6.827884e+17    1\n",
      "8.265984e+17    1\n",
      "6.780211e+17    1\n",
      "6.689207e+17    1\n",
      "6.658147e+17    1\n",
      "6.737159e+17    1\n",
      "7.590995e+17    1\n",
      "8.862664e+17    1\n",
      "7.384119e+17    1\n",
      "7.727430e+17    1\n",
      "7.468859e+17    1\n",
      "8.634256e+17    1\n",
      "6.693544e+17    1\n",
      "6.914169e+17    1\n",
      "6.920419e+17    1\n",
      "6.753494e+17    1\n",
      "7.291135e+17    1\n",
      "8.406983e+17    1\n",
      "6.747400e+17    1\n",
      "7.501805e+17    1\n",
      "6.744689e+17    1\n",
      "7.638652e+17    1\n",
      "6.747934e+17    1\n",
      "8.503288e+17    1\n",
      "6.747522e+17    1\n",
      "8.816070e+17    1\n",
      "               ..\n",
      "8.380855e+17    1\n",
      "8.211526e+17    1\n",
      "8.558616e+17    1\n",
      "8.558585e+17    1\n",
      "7.032559e+17    1\n",
      "6.678065e+17    1\n",
      "8.018543e+17    1\n",
      "7.667118e+17    1\n",
      "6.855479e+17    1\n",
      "6.717299e+17    1\n",
      "6.715610e+17    1\n",
      "6.758457e+17    1\n",
      "6.924173e+17    1\n",
      "7.476487e+17    1\n",
      "8.381455e+17    1\n",
      "6.903413e+17    1\n",
      "8.476062e+17    1\n",
      "8.352460e+17    1\n",
      "6.813394e+17    1\n",
      "8.795538e+17    1\n",
      "6.860340e+17    1\n",
      "8.571567e+17    1\n",
      "6.765883e+17    1\n",
      "7.044857e+17    1\n",
      "8.707262e+17    1\n",
      "8.482121e+17    1\n",
      "6.715449e+17    1\n",
      "6.936422e+17    1\n",
      "6.849598e+17    1\n",
      "7.331095e+17    1\n",
      "Name: in_reply_to_status_id, Length: 77, dtype: int64\n",
      "\n",
      "- columns: in_reply_to_user_id\n",
      "4.196984e+09    47\n",
      "2.195506e+07     2\n",
      "7.305050e+17     1\n",
      "2.916630e+07     1\n",
      "3.105441e+09     1\n",
      "2.918590e+08     1\n",
      "2.792810e+08     1\n",
      "2.319108e+09     1\n",
      "1.806710e+08     1\n",
      "3.058208e+07     1\n",
      "2.625958e+07     1\n",
      "1.943518e+08     1\n",
      "3.589728e+08     1\n",
      "8.405479e+17     1\n",
      "2.894131e+09     1\n",
      "2.143566e+07     1\n",
      "2.281182e+09     1\n",
      "1.648776e+07     1\n",
      "4.717297e+09     1\n",
      "2.878549e+07     1\n",
      "1.582854e+09     1\n",
      "4.670367e+08     1\n",
      "4.738443e+07     1\n",
      "1.361572e+07     1\n",
      "1.584641e+07     1\n",
      "2.068372e+07     1\n",
      "1.637468e+07     1\n",
      "1.185634e+07     1\n",
      "1.198989e+09     1\n",
      "1.132119e+08     1\n",
      "7.759620e+07     1\n",
      "Name: in_reply_to_user_id, dtype: int64\n",
      "\n",
      "- columns: timestamp\n",
      "2016-02-08 02:18:30 +0000    1\n",
      "2016-03-25 01:29:21 +0000    1\n",
      "2017-01-11 02:57:27 +0000    1\n",
      "2016-05-18 00:14:46 +0000    1\n",
      "2017-06-10 00:35:19 +0000    1\n",
      "2015-11-22 16:31:42 +0000    1\n",
      "2016-05-13 00:56:32 +0000    1\n",
      "2017-05-10 00:08:34 +0000    1\n",
      "2016-03-30 16:52:36 +0000    1\n",
      "2015-11-20 00:12:54 +0000    1\n",
      "2016-09-25 16:00:13 +0000    1\n",
      "2017-05-30 16:49:31 +0000    1\n",
      "2016-04-08 20:46:50 +0000    1\n",
      "2016-09-07 01:47:12 +0000    1\n",
      "2017-01-05 02:09:53 +0000    1\n",
      "2015-11-28 04:54:34 +0000    1\n",
      "2016-11-26 21:26:58 +0000    1\n",
      "2017-01-28 01:04:51 +0000    1\n",
      "2015-12-04 01:40:29 +0000    1\n",
      "2017-02-20 00:53:27 +0000    1\n",
      "2016-01-17 18:27:32 +0000    1\n",
      "2015-11-28 18:19:37 +0000    1\n",
      "2016-06-02 01:44:22 +0000    1\n",
      "2015-12-01 17:37:36 +0000    1\n",
      "2015-12-16 02:19:04 +0000    1\n",
      "2015-11-17 01:02:40 +0000    1\n",
      "2016-06-18 17:41:06 +0000    1\n",
      "2016-06-16 18:26:48 +0000    1\n",
      "2016-01-07 00:59:40 +0000    1\n",
      "2016-09-04 23:46:12 +0000    1\n",
      "                            ..\n",
      "2016-09-30 20:33:43 +0000    1\n",
      "2016-08-18 23:55:18 +0000    1\n",
      "2015-11-22 19:13:05 +0000    1\n",
      "2016-11-21 01:37:04 +0000    1\n",
      "2015-11-24 03:19:43 +0000    1\n",
      "2015-12-06 03:56:12 +0000    1\n",
      "2017-02-21 17:18:39 +0000    1\n",
      "2016-11-02 00:42:53 +0000    1\n",
      "2017-06-13 01:14:41 +0000    1\n",
      "2016-12-25 23:00:08 +0000    1\n",
      "2015-12-07 04:09:13 +0000    1\n",
      "2017-03-01 17:22:13 +0000    1\n",
      "2016-04-02 15:25:47 +0000    1\n",
      "2015-12-26 04:41:15 +0000    1\n",
      "2016-10-31 21:00:23 +0000    1\n",
      "2015-12-23 01:37:45 +0000    1\n",
      "2017-02-25 19:37:50 +0000    1\n",
      "2017-06-30 23:47:07 +0000    1\n",
      "2015-11-28 00:48:35 +0000    1\n",
      "2015-11-30 15:59:17 +0000    1\n",
      "2015-11-25 19:46:30 +0000    1\n",
      "2016-07-12 03:11:42 +0000    1\n",
      "2017-03-13 16:08:50 +0000    1\n",
      "2017-03-02 18:17:34 +0000    1\n",
      "2015-12-06 01:56:44 +0000    1\n",
      "2017-03-06 19:21:35 +0000    1\n",
      "2016-03-16 14:54:24 +0000    1\n",
      "2016-06-22 20:18:30 +0000    1\n",
      "2015-12-10 03:19:24 +0000    1\n",
      "2017-02-21 02:17:06 +0000    1\n",
      "Name: timestamp, Length: 2356, dtype: int64\n",
      "\n",
      "- columns: source--\n",
      "<a href=\"http://twitter.com/download/iphone\" rel=\"nofollow\">Twitter for iPhone</a>     2221\n",
      "<a href=\"http://vine.co\" rel=\"nofollow\">Vine - Make a Scene</a>                          91\n",
      "<a href=\"http://twitter.com\" rel=\"nofollow\">Twitter Web Client</a>                       33\n",
      "<a href=\"https://about.twitter.com/products/tweetdeck\" rel=\"nofollow\">TweetDeck</a>      11\n",
      "Name: source, dtype: int64\n"
     ]
    }
   ],
   "source": [
    "for i in inslist2:\n",
    "    print(('\\n- columns: {:-<8}'.format(i)))\n",
    "    print((df_arc[i].value_counts()))"
   ]
  },
  {
   "cell_type": "code",
   "execution_count": 68,
   "metadata": {
    "ExecuteTime": {
     "end_time": "2019-08-12T00:51:17.327970Z",
     "start_time": "2019-08-12T00:51:17.308439Z"
    }
   },
   "outputs": [
    {
     "name": "stdout",
     "output_type": "stream",
     "text": [
      "\n",
      "- columns: retweeted_status_id\n",
      "7.757333e+17    1\n",
      "7.507196e+17    1\n",
      "6.742918e+17    1\n",
      "6.833919e+17    1\n",
      "8.269587e+17    1\n",
      "8.780576e+17    1\n",
      "7.320056e+17    1\n",
      "7.186315e+17    1\n",
      "6.732953e+17    1\n",
      "7.914070e+17    1\n",
      "8.447048e+17    1\n",
      "7.862340e+17    1\n",
      "8.685523e+17    1\n",
      "7.504293e+17    1\n",
      "8.327664e+17    1\n",
      "6.690004e+17    1\n",
      "6.873173e+17    1\n",
      "7.638376e+17    1\n",
      "7.815247e+17    1\n",
      "8.092201e+17    1\n",
      "8.000650e+17    1\n",
      "8.174239e+17    1\n",
      "8.001414e+17    1\n",
      "7.909461e+17    1\n",
      "7.867091e+17    1\n",
      "8.406323e+17    1\n",
      "8.688804e+17    1\n",
      "7.869631e+17    1\n",
      "7.733088e+17    1\n",
      "8.222448e+17    1\n",
      "               ..\n",
      "6.816941e+17    1\n",
      "7.899865e+17    1\n",
      "7.939622e+17    1\n",
      "6.800555e+17    1\n",
      "7.128090e+17    1\n",
      "8.164506e+17    1\n",
      "6.769365e+17    1\n",
      "6.675487e+17    1\n",
      "8.083449e+17    1\n",
      "7.626999e+17    1\n",
      "6.678667e+17    1\n",
      "8.479710e+17    1\n",
      "6.820881e+17    1\n",
      "8.352641e+17    1\n",
      "7.761133e+17    1\n",
      "7.902771e+17    1\n",
      "6.675484e+17    1\n",
      "7.677549e+17    1\n",
      "8.782815e+17    1\n",
      "8.663350e+17    1\n",
      "7.399792e+17    1\n",
      "7.403732e+17    1\n",
      "8.395493e+17    1\n",
      "7.001438e+17    1\n",
      "8.482894e+17    1\n",
      "7.848260e+17    1\n",
      "7.806013e+17    1\n",
      "8.305833e+17    1\n",
      "7.047611e+17    1\n",
      "7.331095e+17    1\n",
      "Name: retweeted_status_id, Length: 181, dtype: int64\n",
      "\n",
      "- columns: retweeted_status_user_id\n",
      "4.196984e+09    156\n",
      "4.296832e+09      2\n",
      "5.870972e+07      1\n",
      "6.669901e+07      1\n",
      "4.119842e+07      1\n",
      "7.475543e+17      1\n",
      "7.832140e+05      1\n",
      "7.266347e+08      1\n",
      "4.871977e+08      1\n",
      "5.970642e+08      1\n",
      "4.466750e+07      1\n",
      "1.228326e+09      1\n",
      "7.992370e+07      1\n",
      "2.488557e+07      1\n",
      "7.874618e+17      1\n",
      "3.638908e+08      1\n",
      "5.128045e+08      1\n",
      "8.117408e+08      1\n",
      "1.732729e+09      1\n",
      "1.960740e+07      1\n",
      "1.547674e+08      1\n",
      "3.410211e+08      1\n",
      "7.124572e+17      1\n",
      "2.804798e+08      1\n",
      "1.950368e+08      1\n",
      "Name: retweeted_status_user_id, dtype: int64\n",
      "\n",
      "- columns: retweeted_status_timestamp\n",
      "2017-02-02 01:01:21 +0000    1\n",
      "2016-08-01 16:42:51 +0000    1\n",
      "2016-05-28 03:04:00 +0000    1\n",
      "2016-08-05 21:19:27 +0000    1\n",
      "2016-06-08 02:41:38 +0000    1\n",
      "2017-01-07 20:18:46 +0000    1\n",
      "2016-10-13 23:23:56 +0000    1\n",
      "2017-03-23 00:18:10 +0000    1\n",
      "2016-08-11 20:40:41 +0000    1\n",
      "2017-04-24 02:13:14 +0000    1\n",
      "2017-01-20 00:50:15 +0000    1\n",
      "2016-09-14 17:40:06 +0000    1\n",
      "2016-06-07 00:36:02 +0000    1\n",
      "2017-02-28 18:43:57 +0000    1\n",
      "2016-08-28 16:51:16 +0000    1\n",
      "2017-01-02 17:00:46 +0000    1\n",
      "2017-06-23 01:10:23 +0000    1\n",
      "2017-06-09 16:22:42 +0000    1\n",
      "2015-11-19 01:27:25 +0000    1\n",
      "2016-12-07 22:38:52 +0000    1\n",
      "2017-03-08 18:52:12 +0000    1\n",
      "2016-10-12 15:55:59 +0000    1\n",
      "2017-05-27 19:39:34 +0000    1\n",
      "2017-01-14 17:00:24 +0000    1\n",
      "2015-12-30 06:37:25 +0000    1\n",
      "2016-08-15 16:22:20 +0000    1\n",
      "2015-12-06 01:56:44 +0000    1\n",
      "2016-10-08 18:41:19 +0000    1\n",
      "2016-10-07 00:06:50 +0000    1\n",
      "2016-09-28 00:46:20 +0000    1\n",
      "                            ..\n",
      "2016-10-06 15:49:14 +0000    1\n",
      "2017-06-23 16:00:04 +0000    1\n",
      "2016-02-12 17:22:12 +0000    1\n",
      "2017-01-11 02:15:36 +0000    1\n",
      "2017-02-08 17:00:26 +0000    1\n",
      "2017-01-04 01:05:59 +0000    1\n",
      "2017-03-08 01:41:24 +0000    1\n",
      "2016-11-22 20:58:07 +0000    1\n",
      "2016-02-18 02:24:13 +0000    1\n",
      "2017-04-01 00:36:55 +0000    1\n",
      "2017-05-18 01:17:25 +0000    1\n",
      "2017-03-11 18:35:42 +0000    1\n",
      "2016-06-04 23:31:25 +0000    1\n",
      "2015-11-27 19:11:49 +0000    1\n",
      "2016-11-06 01:33:58 +0000    1\n",
      "2016-06-10 00:39:48 +0000    1\n",
      "2016-09-11 21:34:30 +0000    1\n",
      "2015-11-19 03:29:07 +0000    1\n",
      "2016-10-14 16:13:10 +0000    1\n",
      "2015-12-16 01:27:03 +0000    1\n",
      "2016-12-09 06:17:20 +0000    1\n",
      "2016-06-05 19:47:03 +0000    1\n",
      "2017-05-21 16:48:45 +0000    1\n",
      "2017-06-19 17:14:49 +0000    1\n",
      "2015-12-08 18:17:56 +0000    1\n",
      "2016-11-01 03:00:09 +0000    1\n",
      "2016-10-23 00:27:05 +0000    1\n",
      "2017-03-04 00:21:08 +0000    1\n",
      "2017-01-11 17:01:16 +0000    1\n",
      "2016-10-02 23:23:04 +0000    1\n",
      "Name: retweeted_status_timestamp, Length: 181, dtype: int64\n"
     ]
    }
   ],
   "source": [
    "for i in inslist3:\n",
    "    print(('\\n- columns: {:-<8}'.format(i)))\n",
    "    print((df_arc[i].value_counts()))"
   ]
  },
  {
   "cell_type": "code",
   "execution_count": 69,
   "metadata": {
    "ExecuteTime": {
     "end_time": "2019-08-12T00:51:17.352128Z",
     "start_time": "2019-08-12T00:51:17.332043Z"
    }
   },
   "outputs": [
    {
     "name": "stdout",
     "output_type": "stream",
     "text": [
      "\n",
      "- columns: expanded_urls\n",
      "https://www.gofundme.com/help-my-baby-sierra-get-better,https://twitter.com/dog_rates/status/873213775632977920/photo/1,https://twitter.com/dog_rates/status/873213775632977920/photo/1                                                                            2\n",
      "https://twitter.com/dog_rates/status/771380798096281600/photo/1,https://twitter.com/dog_rates/status/771380798096281600/photo/1,https://twitter.com/dog_rates/status/771380798096281600/photo/1,https://twitter.com/dog_rates/status/771380798096281600/photo/1    2\n",
      "https://twitter.com/dog_rates/status/786963064373534720/photo/1                                                                                                                                                                                                    2\n",
      "https://twitter.com/dog_rates/status/667182792070062081/photo/1                                                                                                                                                                                                    2\n",
      "https://twitter.com/dog_rates/status/739238157791694849/video/1                                                                                                                                                                                                    2\n",
      "https://twitter.com/dog_rates/status/768193404517830656/photo/1                                                                                                                                                                                                    2\n",
      "https://www.gofundme.com/servicedogoliver,https://twitter.com/dog_rates/status/819952236453363712/photo/1                                                                                                                                                          2\n",
      "https://twitter.com/dog_rates/status/667866724293877760/photo/1                                                                                                                                                                                                    2\n",
      "https://twitter.com/dog_rates/status/791406955684368384/photo/1,https://twitter.com/dog_rates/status/791406955684368384/photo/1,https://twitter.com/dog_rates/status/791406955684368384/photo/1,https://twitter.com/dog_rates/status/791406955684368384/photo/1    2\n",
      "https://twitter.com/dog_rates/status/679462823135686656/photo/1                                                                                                                                                                                                    2\n",
      "https://twitter.com/dog_rates/status/844704788403113984/photo/1                                                                                                                                                                                                    2\n",
      "https://twitter.com/dog_rates/status/698195409219559425/photo/1                                                                                                                                                                                                    2\n",
      "https://twitter.com/dog_rates/status/775733305207554048/photo/1                                                                                                                                                                                                    2\n",
      "https://www.gofundme.com/lolas-life-saving-surgery-funds,https://twitter.com/dog_rates/status/835264098648616962/photo/1,https://twitter.com/dog_rates/status/835264098648616962/photo/1                                                                           2\n",
      "https://twitter.com/dog_rates/status/817827839487737858/video/1                                                                                                                                                                                                    2\n",
      "https://twitter.com/dog_rates/status/810254108431155201/photo/1                                                                                                                                                                                                    2\n",
      "https://twitter.com/dog_rates/status/676936541936185344/photo/1                                                                                                                                                                                                    2\n",
      "https://twitter.com/dog_rates/status/681694085539872773/photo/1                                                                                                                                                                                                    2\n",
      "https://twitter.com/dog_rates/status/740373189193256964/photo/1,https://twitter.com/dog_rates/status/740373189193256964/photo/1,https://twitter.com/dog_rates/status/740373189193256964/photo/1,https://twitter.com/dog_rates/status/740373189193256964/photo/1    2\n",
      "https://twitter.com/dog_rates/status/819227688460238848/photo/1                                                                                                                                                                                                    2\n",
      "https://twitter.com/dog_rates/status/680055455951884288/photo/1                                                                                                                                                                                                    2\n",
      "https://www.loveyourmelon.com/pages/ourstory,https://twitter.com/dog_rates/status/820314633777061888/photo/1,https://twitter.com/dog_rates/status/820314633777061888/photo/1,https://twitter.com/dog_rates/status/820314633777061888/photo/1                       2\n",
      "https://twitter.com/dog_rates/status/718631497683582976/photo/1                                                                                                                                                                                                    2\n",
      "https://twitter.com/dog_rates/status/759447681597108224/photo/1                                                                                                                                                                                                    2\n",
      "https://twitter.com/dog_rates/status/866334964761202691/photo/1,https://twitter.com/dog_rates/status/866334964761202691/photo/1                                                                                                                                    2\n",
      "https://twitter.com/dog_rates/status/667138269671505920/photo/1                                                                                                                                                                                                    2\n",
      "https://twitter.com/dog_rates/status/740676976021798912/photo/1                                                                                                                                                                                                    2\n",
      "https://twitter.com/dog_rates/status/832369877331693569/photo/1                                                                                                                                                                                                    2\n",
      "https://twitter.com/dog_rates/status/692417313023332352/photo/1                                                                                                                                                                                                    2\n",
      "https://twitter.com/dog_rates/status/781524693396357120/photo/1                                                                                                                                                                                                    2\n",
      "                                                                                                                                                                                                                                                                  ..\n",
      "https://twitter.com/dog_rates/status/745433870967832576/photo/1,https://twitter.com/dog_rates/status/745433870967832576/photo/1,https://twitter.com/dog_rates/status/745433870967832576/photo/1                                                                    1\n",
      "https://twitter.com/dog_rates/status/675534494439489536/photo/1                                                                                                                                                                                                    1\n",
      "https://twitter.com/dog_rates/status/746507379341139972/photo/1,https://twitter.com/dog_rates/status/746507379341139972/photo/1                                                                                                                                    1\n",
      "https://twitter.com/dog_rates/status/667455448082227200/photo/1                                                                                                                                                                                                    1\n",
      "https://twitter.com/dog_rates/status/670468609693655041/photo/1                                                                                                                                                                                                    1\n",
      "https://twitter.com/dog_rates/status/693486665285931008/video/1                                                                                                                                                                                                    1\n",
      "https://twitter.com/dog_rates/status/755110668769038337/video/1                                                                                                                                                                                                    1\n",
      "https://twitter.com/dog_rates/status/675531475945709568/photo/1                                                                                                                                                                                                    1\n",
      "https://twitter.com/dog_rates/status/833479644947025920/photo/1,https://twitter.com/dog_rates/status/833479644947025920/photo/1,https://twitter.com/dog_rates/status/833479644947025920/photo/1                                                                    1\n",
      "https://twitter.com/dog_rates/status/705970349788291072/photo/1                                                                                                                                                                                                    1\n",
      "https://vine.co/v/5WrjaYAMvMO                                                                                                                                                                                                                                      1\n",
      "https://twitter.com/dog_rates/status/796149749086875649/photo/1,https://twitter.com/dog_rates/status/796149749086875649/photo/1,https://twitter.com/dog_rates/status/796149749086875649/photo/1,https://twitter.com/dog_rates/status/796149749086875649/photo/1    1\n",
      "https://twitter.com/dog_rates/status/672248013293752320/photo/1                                                                                                                                                                                                    1\n",
      "https://twitter.com/dog_rates/status/765719909049503744/photo/1                                                                                                                                                                                                    1\n",
      "https://twitter.com/dog_rates/status/686606069955735556/photo/1                                                                                                                                                                                                    1\n",
      "https://twitter.com/dog_rates/status/699423671849451520/photo/1                                                                                                                                                                                                    1\n",
      "https://twitter.com/dog_rates/status/691675652215414786/photo/1                                                                                                                                                                                                    1\n",
      "https://twitter.com/dog_rates/status/683078886620553216/photo/1                                                                                                                                                                                                    1\n",
      "https://twitter.com/dog_rates/status/712717840512598017/photo/1                                                                                                                                                                                                    1\n",
      "https://vine.co/v/5QWd3LZqXxd,https://vine.co/v/5QWd3LZqXxd                                                                                                                                                                                                        1\n",
      "https://twitter.com/dog_rates/status/749403093750648834/photo/1                                                                                                                                                                                                    1\n",
      "https://twitter.com/dog_rates/status/670474236058800128/photo/1                                                                                                                                                                                                    1\n",
      "https://twitter.com/dog_rates/status/700505138482569216/photo/1,https://twitter.com/dog_rates/status/700505138482569216/photo/1,https://twitter.com/dog_rates/status/700505138482569216/photo/1,https://twitter.com/dog_rates/status/700505138482569216/photo/1    1\n",
      "https://twitter.com/dog_rates/status/687826841265172480/photo/1,https://twitter.com/dog_rates/status/687826841265172480/photo/1,https://twitter.com/dog_rates/status/687826841265172480/photo/1,https://twitter.com/dog_rates/status/687826841265172480/photo/1    1\n",
      "https://twitter.com/dog_rates/status/795464331001561088/video/1                                                                                                                                                                                                    1\n",
      "https://twitter.com/dog_rates/status/860524505164394496/photo/1                                                                                                                                                                                                    1\n",
      "https://twitter.com/dog_rates/status/697255105972801536/photo/1                                                                                                                                                                                                    1\n",
      "https://twitter.com/dog_rates/status/817423860136083457/video/1,https://twitter.com/dog_rates/status/817423860136083457/video/1                                                                                                                                    1\n",
      "https://twitter.com/dog_rates/status/804026241225523202/photo/1,https://twitter.com/dog_rates/status/804026241225523202/photo/1,https://twitter.com/dog_rates/status/804026241225523202/photo/1                                                                    1\n",
      "https://twitter.com/dog_rates/status/746872823977771008/photo/1,https://twitter.com/dog_rates/status/746872823977771008/photo/1                                                                                                                                    1\n",
      "Name: expanded_urls, Length: 2218, dtype: int64\n",
      "\n",
      "- columns: rating_numerator\n",
      "12      558\n",
      "11      464\n",
      "10      461\n",
      "13      351\n",
      "9       158\n",
      "8       102\n",
      "7        55\n",
      "14       54\n",
      "5        37\n",
      "6        32\n",
      "3        19\n",
      "4        17\n",
      "1         9\n",
      "2         9\n",
      "420       2\n",
      "0         2\n",
      "15        2\n",
      "75        2\n",
      "80        1\n",
      "20        1\n",
      "24        1\n",
      "26        1\n",
      "44        1\n",
      "50        1\n",
      "60        1\n",
      "165       1\n",
      "84        1\n",
      "88        1\n",
      "144       1\n",
      "182       1\n",
      "143       1\n",
      "666       1\n",
      "960       1\n",
      "1776      1\n",
      "17        1\n",
      "27        1\n",
      "45        1\n",
      "99        1\n",
      "121       1\n",
      "204       1\n",
      "Name: rating_numerator, dtype: int64\n",
      "\n",
      "- columns: rating_denominator\n",
      "10     2333\n",
      "11        3\n",
      "50        3\n",
      "80        2\n",
      "20        2\n",
      "2         1\n",
      "16        1\n",
      "40        1\n",
      "70        1\n",
      "15        1\n",
      "90        1\n",
      "110       1\n",
      "120       1\n",
      "130       1\n",
      "150       1\n",
      "170       1\n",
      "7         1\n",
      "0         1\n",
      "Name: rating_denominator, dtype: int64\n"
     ]
    }
   ],
   "source": [
    "for i in inslist4:\n",
    "    print(('\\n- columns: {:-<8}'.format(i)))\n",
    "    print((df_arc[i].value_counts()))"
   ]
  },
  {
   "cell_type": "markdown",
   "metadata": {},
   "source": [
    "# 评估 - image-predictions\n",
    "## / quanlity"
   ]
  },
  {
   "cell_type": "code",
   "execution_count": 70,
   "metadata": {
    "ExecuteTime": {
     "end_time": "2019-08-12T00:51:17.366098Z",
     "start_time": "2019-08-12T00:51:17.357485Z"
    }
   },
   "outputs": [
    {
     "data": {
      "text/plain": [
       "Index(['tweet_id', 'jpg_url', 'img_num', 'p1', 'p1_conf', 'p1_dog', 'p2',\n",
       "       'p2_conf', 'p2_dog', 'p3', 'p3_conf', 'p3_dog'],\n",
       "      dtype='object')"
      ]
     },
     "execution_count": 70,
     "metadata": {},
     "output_type": "execute_result"
    }
   ],
   "source": [
    "df_img.columns"
   ]
  },
  {
   "cell_type": "code",
   "execution_count": 71,
   "metadata": {
    "ExecuteTime": {
     "end_time": "2019-08-12T00:51:17.390588Z",
     "start_time": "2019-08-12T00:51:17.371761Z"
    }
   },
   "outputs": [
    {
     "name": "stdout",
     "output_type": "stream",
     "text": [
      "\n",
      "- columns: p1------\n",
      "golden_retriever             150\n",
      "Labrador_retriever           100\n",
      "Pembroke                      89\n",
      "Chihuahua                     83\n",
      "pug                           57\n",
      "chow                          44\n",
      "Samoyed                       43\n",
      "toy_poodle                    39\n",
      "Pomeranian                    38\n",
      "cocker_spaniel                30\n",
      "malamute                      30\n",
      "French_bulldog                26\n",
      "miniature_pinscher            23\n",
      "Chesapeake_Bay_retriever      23\n",
      "seat_belt                     22\n",
      "German_shepherd               20\n",
      "Staffordshire_bullterrier     20\n",
      "Siberian_husky                20\n",
      "Cardigan                      19\n",
      "web_site                      19\n",
      "Eskimo_dog                    18\n",
      "Shetland_sheepdog             18\n",
      "teddy                         18\n",
      "Maltese_dog                   18\n",
      "beagle                        18\n",
      "Lakeland_terrier              17\n",
      "Shih-Tzu                      17\n",
      "Rottweiler                    17\n",
      "Italian_greyhound             16\n",
      "kuvasz                        16\n",
      "                            ... \n",
      "coil                           1\n",
      "African_grey                   1\n",
      "radio_telescope                1\n",
      "lawn_mower                     1\n",
      "rotisserie                     1\n",
      "banana                         1\n",
      "dining_table                   1\n",
      "earthstar                      1\n",
      "tick                           1\n",
      "crane                          1\n",
      "damselfly                      1\n",
      "studio_couch                   1\n",
      "syringe                        1\n",
      "convertible                    1\n",
      "slug                           1\n",
      "alp                            1\n",
      "bighorn                        1\n",
      "hand_blower                    1\n",
      "ping-pong_ball                 1\n",
      "bow                            1\n",
      "remote_control                 1\n",
      "peacock                        1\n",
      "leaf_beetle                    1\n",
      "robin                          1\n",
      "polecat                        1\n",
      "sea_urchin                     1\n",
      "stove                          1\n",
      "desktop_computer               1\n",
      "microphone                     1\n",
      "bald_eagle                     1\n",
      "Name: p1, Length: 378, dtype: int64\n",
      "\n",
      "- columns: p1_conf-\n",
      "0.366248    2\n",
      "0.713293    2\n",
      "0.375098    2\n",
      "0.636169    2\n",
      "0.611525    2\n",
      "0.420463    2\n",
      "0.581403    2\n",
      "0.403698    2\n",
      "0.530104    2\n",
      "0.254856    2\n",
      "0.346545    2\n",
      "0.721188    2\n",
      "0.677408    2\n",
      "0.907083    2\n",
      "0.243529    2\n",
      "0.505370    2\n",
      "0.593858    2\n",
      "0.372202    2\n",
      "0.274637    2\n",
      "0.600276    2\n",
      "0.506312    2\n",
      "0.615163    2\n",
      "0.556595    2\n",
      "0.995143    2\n",
      "0.809197    2\n",
      "0.964929    2\n",
      "0.777468    2\n",
      "0.336200    2\n",
      "0.617389    2\n",
      "0.786089    2\n",
      "           ..\n",
      "0.483228    1\n",
      "0.556524    1\n",
      "0.176423    1\n",
      "0.318981    1\n",
      "0.733025    1\n",
      "0.730152    1\n",
      "0.436023    1\n",
      "0.479008    1\n",
      "0.162935    1\n",
      "0.897162    1\n",
      "0.320420    1\n",
      "0.999833    1\n",
      "0.995873    1\n",
      "0.523206    1\n",
      "0.942911    1\n",
      "0.537652    1\n",
      "0.672791    1\n",
      "0.952258    1\n",
      "0.855959    1\n",
      "0.665578    1\n",
      "0.841265    1\n",
      "0.668164    1\n",
      "0.946828    1\n",
      "0.714719    1\n",
      "0.352946    1\n",
      "0.713102    1\n",
      "0.765266    1\n",
      "0.491022    1\n",
      "0.905334    1\n",
      "1.000000    1\n",
      "Name: p1_conf, Length: 2006, dtype: int64\n",
      "\n",
      "- columns: p1_dog--\n",
      "True     1532\n",
      "False     543\n",
      "Name: p1_dog, dtype: int64\n"
     ]
    }
   ],
   "source": [
    "inslist5 = ['p1','p1_conf','p1_dog']\n",
    "w.check_value(df_img,inslist5)"
   ]
  },
  {
   "cell_type": "markdown",
   "metadata": {},
   "source": [
    "# 探索\n",
    "\n",
    "## / load df"
   ]
  },
  {
   "cell_type": "code",
   "execution_count": 72,
   "metadata": {
    "ExecuteTime": {
     "end_time": "2019-08-12T00:51:17.419441Z",
     "start_time": "2019-08-12T00:51:17.394813Z"
    }
   },
   "outputs": [
    {
     "data": {
      "text/html": [
       "<div>\n",
       "<style scoped>\n",
       "    .dataframe tbody tr th:only-of-type {\n",
       "        vertical-align: middle;\n",
       "    }\n",
       "\n",
       "    .dataframe tbody tr th {\n",
       "        vertical-align: top;\n",
       "    }\n",
       "\n",
       "    .dataframe thead th {\n",
       "        text-align: right;\n",
       "    }\n",
       "</style>\n",
       "<table border=\"1\" class=\"dataframe\">\n",
       "  <thead>\n",
       "    <tr style=\"text-align: right;\">\n",
       "      <th></th>\n",
       "      <th>display_text_range</th>\n",
       "      <th>favorite_count</th>\n",
       "      <th>retweet_count</th>\n",
       "      <th>clean_text</th>\n",
       "    </tr>\n",
       "    <tr>\n",
       "      <th>time_index</th>\n",
       "      <th></th>\n",
       "      <th></th>\n",
       "      <th></th>\n",
       "      <th></th>\n",
       "    </tr>\n",
       "  </thead>\n",
       "  <tbody>\n",
       "    <tr>\n",
       "      <th>2016-04-13 01:22:10</th>\n",
       "      <td>124</td>\n",
       "      <td>4207</td>\n",
       "      <td>1262</td>\n",
       "      <td>NaN</td>\n",
       "    </tr>\n",
       "  </tbody>\n",
       "</table>\n",
       "</div>"
      ],
      "text/plain": [
       "                     display_text_range  favorite_count  retweet_count  \\\n",
       "time_index                                                               \n",
       "2016-04-13 01:22:10                 124            4207           1262   \n",
       "\n",
       "                    clean_text  \n",
       "time_index                      \n",
       "2016-04-13 01:22:10        NaN  "
      ]
     },
     "execution_count": 72,
     "metadata": {},
     "output_type": "execute_result"
    }
   ],
   "source": [
    "# code\n",
    "df = pd.read_pickle('tweetclean.pickle.xz', compression='xz')\n",
    "df.sample()"
   ]
  },
  {
   "cell_type": "markdown",
   "metadata": {},
   "source": [
    "## / data visulization"
   ]
  },
  {
   "cell_type": "code",
   "execution_count": 73,
   "metadata": {
    "ExecuteTime": {
     "end_time": "2019-08-12T00:51:19.482659Z",
     "start_time": "2019-08-12T00:51:17.422819Z"
    }
   },
   "outputs": [
    {
     "data": {
      "image/png": "[encoded data removed]",
      "text/plain": [
       "<Figure size 432x432 with 9 Axes>"
      ]
     },
     "metadata": {
      "needs_background": "light"
     },
     "output_type": "display_data"
    }
   ],
   "source": [
    "# code\n",
    "# Scatter Matrix Plot\n",
    "from pandas.plotting import scatter_matrix\n",
    "scatter_matrix(df, alpha=0.2, figsize=(6, 6), diagonal='kde');"
   ]
  },
  {
   "cell_type": "code",
   "execution_count": 74,
   "metadata": {
    "ExecuteTime": {
     "end_time": "2019-08-12T00:51:19.498417Z",
     "start_time": "2019-08-12T00:51:19.487107Z"
    }
   },
   "outputs": [
    {
     "data": {
      "text/plain": [
       "('display_text_range', 'favorite_count', 'retweet_count')"
      ]
     },
     "execution_count": 74,
     "metadata": {},
     "output_type": "execute_result"
    }
   ],
   "source": [
    "df.columns\n",
    "x = df.columns[0]\n",
    "y = df.columns[1]\n",
    "z = df.columns[2]\n",
    "x, y, z"
   ]
  },
  {
   "cell_type": "code",
   "execution_count": 75,
   "metadata": {
    "ExecuteTime": {
     "end_time": "2019-08-12T00:51:19.759945Z",
     "start_time": "2019-08-12T00:51:19.502120Z"
    }
   },
   "outputs": [
    {
     "data": {
      "image/png": "[encoded data removed]",
      "text/plain": [
       "<Figure size 432x288 with 1 Axes>"
      ]
     },
     "metadata": {
      "needs_background": "light"
     },
     "output_type": "display_data"
    }
   ],
   "source": [
    "df.plot.scatter(x,y,alpha=0.3);"
   ]
  },
  {
   "cell_type": "code",
   "execution_count": 76,
   "metadata": {
    "ExecuteTime": {
     "end_time": "2019-08-12T00:51:20.029452Z",
     "start_time": "2019-08-12T00:51:19.763721Z"
    }
   },
   "outputs": [
    {
     "data": {
      "image/png": "[encoded data removed]",
      "text/plain": [
       "<Figure size 432x288 with 1 Axes>"
      ]
     },
     "metadata": {
      "needs_background": "light"
     },
     "output_type": "display_data"
    }
   ],
   "source": [
    "df.plot.scatter(x,z,alpha=0.3);"
   ]
  },
  {
   "cell_type": "code",
   "execution_count": 77,
   "metadata": {
    "ExecuteTime": {
     "end_time": "2019-08-12T00:51:20.277066Z",
     "start_time": "2019-08-12T00:51:20.033036Z"
    }
   },
   "outputs": [
    {
     "data": {
      "image/png": "[encoded data removed]",
      "text/plain": [
       "<Figure size 432x288 with 1 Axes>"
      ]
     },
     "metadata": {
      "needs_background": "light"
     },
     "output_type": "display_data"
    }
   ],
   "source": [
    "df.plot.scatter(y,z,alpha=0.3);"
   ]
  },
  {
   "cell_type": "code",
   "execution_count": 78,
   "metadata": {
    "ExecuteTime": {
     "end_time": "2019-08-12T00:51:20.513627Z",
     "start_time": "2019-08-12T00:51:20.281382Z"
    }
   },
   "outputs": [
    {
     "data": {
      "image/png": "[encoded data removed]",
      "text/plain": [
       "<Figure size 432x288 with 1 Axes>"
      ]
     },
     "metadata": {
      "needs_background": "light"
     },
     "output_type": "display_data"
    }
   ],
   "source": [
    "df.query('favorite_count > 0').plot.scatter(y,z,alpha=0.3);"
   ]
  },
  {
   "cell_type": "markdown",
   "metadata": {},
   "source": [
    "## / word cloud\n",
    "### // word cloud library"
   ]
  },
  {
   "cell_type": "code",
   "execution_count": 79,
   "metadata": {
    "ExecuteTime": {
     "end_time": "2019-08-12T00:51:20.521596Z",
     "start_time": "2019-08-12T00:51:20.516905Z"
    }
   },
   "outputs": [],
   "source": [
    "# code\n",
    "#pip install wordcloud"
   ]
  },
  {
   "cell_type": "markdown",
   "metadata": {},
   "source": [
    "### // word cloud official example"
   ]
  },
  {
   "cell_type": "code",
   "execution_count": 80,
   "metadata": {
    "ExecuteTime": {
     "end_time": "2019-08-12T00:51:20.607050Z",
     "start_time": "2019-08-12T00:51:20.527579Z"
    }
   },
   "outputs": [
    {
     "ename": "FileNotFoundError",
     "evalue": "[Errno 2] No such file or directory: '/Users/francis/git/udacity-private/svip_project_lm/p10_wrangling_adv/p_lm/alice.txt'",
     "output_type": "error",
     "traceback": [
      "\u001b[0;31m------------------------------------------------\u001b[0m",
      "\u001b[0;31mFileNotFoundError\u001b[0mTraceback (most recent call last)",
      "\u001b[0;32m<ipython-input-80-e9fbc96d0a8c>\u001b[0m in \u001b[0;36m<module>\u001b[0;34m\u001b[0m\n\u001b[1;32m     11\u001b[0m \u001b[0;34m\u001b[0m\u001b[0m\n\u001b[1;32m     12\u001b[0m \u001b[0;31m# Read the whole text.\u001b[0m\u001b[0;34m\u001b[0m\u001b[0;34m\u001b[0m\u001b[0;34m\u001b[0m\u001b[0m\n\u001b[0;32m---> 13\u001b[0;31m \u001b[0mtext\u001b[0m \u001b[0;34m=\u001b[0m \u001b[0mopen\u001b[0m\u001b[0;34m(\u001b[0m\u001b[0mpath\u001b[0m\u001b[0;34m.\u001b[0m\u001b[0mjoin\u001b[0m\u001b[0;34m(\u001b[0m\u001b[0md\u001b[0m\u001b[0;34m,\u001b[0m \u001b[0;34m'alice.txt'\u001b[0m\u001b[0;34m)\u001b[0m\u001b[0;34m)\u001b[0m\u001b[0;34m.\u001b[0m\u001b[0mread\u001b[0m\u001b[0;34m(\u001b[0m\u001b[0;34m)\u001b[0m\u001b[0;34m\u001b[0m\u001b[0;34m\u001b[0m\u001b[0m\n\u001b[0m\u001b[1;32m     14\u001b[0m \u001b[0;34m\u001b[0m\u001b[0m\n\u001b[1;32m     15\u001b[0m \u001b[0;31m# read the mask / color image taken from\u001b[0m\u001b[0;34m\u001b[0m\u001b[0;34m\u001b[0m\u001b[0;34m\u001b[0m\u001b[0m\n",
      "\u001b[0;31mFileNotFoundError\u001b[0m: [Errno 2] No such file or directory: '/Users/francis/git/udacity-private/svip_project_lm/p10_wrangling_adv/p_lm/alice.txt'"
     ]
    }
   ],
   "source": [
    "from os import path\n",
    "from PIL import Image\n",
    "import numpy as np\n",
    "import matplotlib.pyplot as plt\n",
    "import os\n",
    "\n",
    "from wordcloud import WordCloud, STOPWORDS, ImageColorGenerator\n",
    "\n",
    "# get data directory (using getcwd() is needed to support running example in generated IPython notebook)\n",
    "d = path.dirname(__file__) if \"__file__\" in locals() else os.getcwd()\n",
    "\n",
    "# Read the whole text.\n",
    "text = open(path.join(d, 'alice.txt')).read()\n",
    "\n",
    "# read the mask / color image taken from\n",
    "# http://jirkavinse.deviantart.com/art/quot-Real-Life-quot-Alice-282261010\n",
    "alice_coloring = np.array(Image.open(path.join(d, \"alice_color.png\")))\n",
    "stopwords = set(STOPWORDS)\n",
    "stopwords.add(\"said\")\n",
    "\n",
    "wc = WordCloud(background_color=\"white\", max_words=2000, mask=alice_coloring,\n",
    "               stopwords=stopwords, max_font_size=40, random_state=42)\n",
    "# generate word cloud\n",
    "wc.generate(text)\n",
    "\n",
    "# create coloring from image\n",
    "image_colors = ImageColorGenerator(alice_coloring)\n",
    "\n",
    "# show\n",
    "fig, axes = plt.subplots(1, 3)\n",
    "axes[0].imshow(wc, interpolation=\"bilinear\")\n",
    "# recolor wordcloud and show\n",
    "# we could also give color_func=image_colors directly in the constructor\n",
    "axes[1].imshow(wc.recolor(color_func=image_colors), interpolation=\"bilinear\")\n",
    "axes[2].imshow(alice_coloring, cmap=plt.cm.gray, interpolation=\"bilinear\")\n",
    "for ax in axes:\n",
    "    ax.set_axis_off()\n",
    "plt.show()"
   ]
  },
  {
   "cell_type": "markdown",
   "metadata": {},
   "source": [
    "### // prepare word"
   ]
  },
  {
   "cell_type": "code",
   "execution_count": null,
   "metadata": {
    "ExecuteTime": {
     "end_time": "2019-08-12T00:51:20.631430Z",
     "start_time": "2019-08-12T00:51:11.456Z"
    }
   },
   "outputs": [],
   "source": [
    "df.clean_text[:5]"
   ]
  },
  {
   "cell_type": "code",
   "execution_count": null,
   "metadata": {
    "ExecuteTime": {
     "end_time": "2019-08-12T00:51:20.633498Z",
     "start_time": "2019-08-12T00:51:11.459Z"
    }
   },
   "outputs": [],
   "source": [
    "# 使用 sum 前要删除 null 值, 否则会报错\n",
    "str_input = df.clean_text.dropna()\n",
    "str_input.isnull().sum()\n",
    "# 聚合方式可以参考\n",
    "# https://stackoverflow.com/questions/47465542/how-to-concatenate-all-string-values-in-a-given-pandas-dataframe-row-to-one-st"
   ]
  },
  {
   "cell_type": "code",
   "execution_count": null,
   "metadata": {
    "ExecuteTime": {
     "end_time": "2019-08-12T00:51:20.635396Z",
     "start_time": "2019-08-12T00:51:11.463Z"
    }
   },
   "outputs": [],
   "source": [
    "text_twitter = str_input.sum()\n",
    "text_twitter[:1000]"
   ]
  },
  {
   "cell_type": "markdown",
   "metadata": {},
   "source": [
    "### // word cloud"
   ]
  },
  {
   "cell_type": "code",
   "execution_count": null,
   "metadata": {
    "ExecuteTime": {
     "end_time": "2019-08-12T00:51:20.637246Z",
     "start_time": "2019-08-12T00:51:11.542Z"
    }
   },
   "outputs": [],
   "source": [
    "# 将图像转为 np 二维数据 (所以是png还是jpeg应该没有关系)\n",
    "# read the mask / color image taken from\n",
    "color1 = np.array(Image.open(\"tweet1.jpeg\"))\n",
    "color2 = np.array(Image.open(\"tweet2.jpeg\"))\n",
    "color3 = np.array(Image.open(\"t1.png\"))\n",
    "color4 = np.array(Image.open(\"t2.png\"))\n",
    "\n",
    "# 设置停用词\n",
    "stopwords = set(STOPWORDS)\n",
    "stopwords.add(\"said\")"
   ]
  },
  {
   "cell_type": "code",
   "execution_count": null,
   "metadata": {
    "ExecuteTime": {
     "end_time": "2019-08-12T00:51:20.638908Z",
     "start_time": "2019-08-12T00:51:11.546Z"
    }
   },
   "outputs": [],
   "source": [
    "# wordcloud 参数\n",
    "wc = WordCloud(background_color=\"white\", max_words=2000,\n",
    "               stopwords=stopwords, max_font_size=40, random_state=42)\n",
    "\n",
    "## https://github.com/amueller/word_cloud \n",
    "## git 中提供例子和cli(可以根据 text 和 pic 直接输出词云, 非常方便"
   ]
  },
  {
   "cell_type": "code",
   "execution_count": null,
   "metadata": {
    "ExecuteTime": {
     "end_time": "2019-08-12T00:51:20.639977Z",
     "start_time": "2019-08-12T00:51:11.549Z"
    }
   },
   "outputs": [],
   "source": [
    "# wc.generate(text);"
   ]
  },
  {
   "cell_type": "code",
   "execution_count": null,
   "metadata": {
    "ExecuteTime": {
     "end_time": "2019-08-12T00:51:20.647321Z",
     "start_time": "2019-08-12T00:51:11.553Z"
    }
   },
   "outputs": [],
   "source": [
    "wc.generate(text_twitter);"
   ]
  },
  {
   "cell_type": "code",
   "execution_count": null,
   "metadata": {
    "ExecuteTime": {
     "end_time": "2019-08-12T00:51:20.649430Z",
     "start_time": "2019-08-12T00:51:11.556Z"
    }
   },
   "outputs": [],
   "source": [
    "# create coloring from image\n",
    "image_colors = ImageColorGenerator(color4)\n",
    "\n",
    "# 可以直接在构造函数中直接给颜色\n",
    "# 通过这种方式词云将会按照给定的图片颜色布局生成字体颜色策略\n",
    "\n",
    "# show\n",
    "fig, axes = plt.subplots(1, 3, figsize=(24,4))\n",
    "axes[0].imshow(wc, interpolation=\"bilinear\")\n",
    "# recolor wordcloud and show\n",
    "# we could also give color_func=image_colors directly in the constructor\n",
    "axes[1].imshow(wc.recolor(color_func=image_colors), interpolation=\"bilinear\")\n",
    "axes[2].imshow(color4, cmap=plt.cm.gray, interpolation=\"bilinear\")\n",
    "for ax in axes:\n",
    "    ax.set_axis_off();\n",
    "plt.show();"
   ]
  },
  {
   "cell_type": "code",
   "execution_count": null,
   "metadata": {
    "ExecuteTime": {
     "end_time": "2019-08-12T00:51:20.651754Z",
     "start_time": "2019-08-12T00:51:11.560Z"
    }
   },
   "outputs": [],
   "source": [
    "# 增加 mask 蒙版系列\n",
    "wc = WordCloud(background_color=\"white\", max_words=2000, mask=color4,\n",
    "               stopwords=stopwords, max_font_size=40, random_state=42)\n",
    "wc.generate(text_twitter);"
   ]
  },
  {
   "cell_type": "code",
   "execution_count": null,
   "metadata": {
    "ExecuteTime": {
     "end_time": "2019-08-12T00:51:20.653787Z",
     "start_time": "2019-08-12T00:51:11.563Z"
    }
   },
   "outputs": [],
   "source": [
    "# create coloring from image\n",
    "image_colors = ImageColorGenerator(color4)\n",
    "\n",
    "# 可以直接在构造函数中直接给颜色\n",
    "# 通过这种方式词云将会按照给定的图片颜色布局生成字体颜色策略\n",
    "\n",
    "# show\n",
    "fig, axes = plt.subplots(1, 3, figsize=(24,4))\n",
    "axes[0].imshow(wc, interpolation=\"bilinear\")\n",
    "# recolor wordcloud and show\n",
    "# we could also give color_func=image_colors directly in the constructor\n",
    "axes[1].imshow(wc.recolor(color_func=image_colors), interpolation=\"bilinear\")\n",
    "axes[2].imshow(color4, cmap=plt.cm.gray, interpolation=\"bilinear\")\n",
    "for ax in axes:\n",
    "    ax.set_axis_off();\n",
    "plt.show();"
   ]
  },
  {
   "cell_type": "code",
   "execution_count": null,
   "metadata": {
    "ExecuteTime": {
     "end_time": "2019-08-12T00:51:20.656794Z",
     "start_time": "2019-08-12T00:51:11.566Z"
    }
   },
   "outputs": [],
   "source": [
    "# 输出两个图像做对比\n",
    "# show\n",
    "fig, axes = plt.subplots(2, 1, figsize=(20,4))\n",
    "axes[0].imshow(wc.recolor(color_func=image_colors), interpolation=\"bilinear\")\n",
    "axes[1].imshow(color4, cmap=plt.cm.gray, interpolation=\"bilinear\")\n",
    "for ax in axes:\n",
    "    ax.set_axis_off();\n",
    "plt.show();\n",
    "## 不是特别美观, 看来wordcloud如果使用mask和图像的样子关系很大"
   ]
  },
  {
   "cell_type": "code",
   "execution_count": null,
   "metadata": {
    "ExecuteTime": {
     "end_time": "2019-08-12T00:51:20.660211Z",
     "start_time": "2019-08-12T00:51:11.570Z"
    }
   },
   "outputs": [],
   "source": [
    "# 增加 mask 蒙版系列2\n",
    "wc = WordCloud(background_color=\"white\", max_words=200, mask=color2,\n",
    "               stopwords=stopwords, max_font_size=40, random_state=42)\n",
    "wc.generate(text_twitter);\n",
    "\n",
    "# create coloring from image\n",
    "image_colors = ImageColorGenerator(color2)\n",
    "\n",
    "# 可以直接在构造函数中直接给颜色\n",
    "# 通过这种方式词云将会按照给定的图片颜色布局生成字体颜色策略\n",
    "\n",
    "# 输出两个图像做对比\n",
    "# show\n",
    "fig, axes = plt.subplots(2, 1)\n",
    "axes[0].imshow(wc.recolor(color_func=image_colors), interpolation=\"bilinear\")\n",
    "axes[1].imshow(color2, cmap=plt.cm.gray, interpolation=\"bilinear\")\n",
    "for ax in axes:\n",
    "    ax.set_axis_off();\n",
    "plt.show();\n",
    "## 不是特别美观, 看来wordcloud如果使用mask和图像的样子关系很大\n",
    "### 大小和图片分辨率相同\n",
    "### 遇到有的图片会报错\n",
    "## 感觉对分词如果用 nltk 处理下可能会更好\n",
    "### https://sqlshep.com/?p=971\n",
    "# 更新! relative_scaling 参数特别重要(见结论图)"
   ]
  },
  {
   "cell_type": "markdown",
   "metadata": {},
   "source": [
    "## / time series analysis\n",
    "https://ourcodingclub.github.io/2019/01/07/pandas-time-series.html"
   ]
  },
  {
   "cell_type": "code",
   "execution_count": null,
   "metadata": {
    "ExecuteTime": {
     "end_time": "2019-08-12T00:51:20.663239Z",
     "start_time": "2019-08-12T00:51:11.655Z"
    }
   },
   "outputs": [],
   "source": [
    "df.head(10)"
   ]
  },
  {
   "cell_type": "code",
   "execution_count": null,
   "metadata": {
    "ExecuteTime": {
     "end_time": "2019-08-12T00:51:20.665377Z",
     "start_time": "2019-08-12T00:51:11.659Z"
    }
   },
   "outputs": [],
   "source": [
    "# check intervals\n",
    "print(\"Dataframe shape: \", df.shape)\n",
    "dt = (df.index[0] - df.index[-1])\n",
    "print(\"Number of hours between start and end dates: \", dt.total_seconds()/3600 + 1)\n",
    "dt"
   ]
  },
  {
   "cell_type": "code",
   "execution_count": null,
   "metadata": {
    "ExecuteTime": {
     "end_time": "2019-08-12T00:51:20.667757Z",
     "start_time": "2019-08-12T00:51:11.662Z"
    }
   },
   "outputs": [],
   "source": [
    "#df.plot(figsize=(15,4))\n",
    "df.plot(subplots=True, figsize=(15,6))\n",
    "df.plot(y=[\"favorite_count\", \"retweet_count\"], figsize=(15,4));"
   ]
  },
  {
   "cell_type": "code",
   "execution_count": null,
   "metadata": {
    "ExecuteTime": {
     "end_time": "2019-08-12T00:51:20.670238Z",
     "start_time": "2019-08-12T00:51:11.665Z"
    },
    "scrolled": true
   },
   "outputs": [],
   "source": [
    "df[[\"favorite_count\", \"retweet_count\"]].resample(\"1w\").median().plot(figsize=(15,4));"
   ]
  },
  {
   "cell_type": "code",
   "execution_count": null,
   "metadata": {
    "ExecuteTime": {
     "end_time": "2019-08-12T00:51:20.673147Z",
     "start_time": "2019-08-12T00:51:11.668Z"
    }
   },
   "outputs": [],
   "source": [
    "df[[\"favorite_count\", \"retweet_count\"]].rolling(30).median().plot(figsize=(15,4));"
   ]
  },
  {
   "cell_type": "code",
   "execution_count": null,
   "metadata": {
    "ExecuteTime": {
     "end_time": "2019-08-12T00:51:20.675270Z",
     "start_time": "2019-08-12T00:51:11.672Z"
    }
   },
   "outputs": [],
   "source": [
    "# 如果是周期的可以用这个(后续研究)\n",
    "pd.plotting.autocorrelation_plot(df[\"favorite_count\"].resample(\"1w\").median());"
   ]
  },
  {
   "cell_type": "markdown",
   "metadata": {},
   "source": [
    "## / sentiment analysis\n",
    "- 使用sklearn https://towardsdatascience.com/sentiment-analysis-with-python-part-1-5ce197074184\n",
    "- 另外比较常见的是使用 nltk 库\n",
    "- 此处先pass, 深度学习时候有空再深入"
   ]
  },
  {
   "cell_type": "markdown",
   "metadata": {},
   "source": [
    "# 结论\n",
    "## / favorite 和 retweet 时序分析\n",
    "- 2016年上半年之前, favorite 数量大概是 retweet 的两倍\n",
    "- 但再这之后, favorite 数量大量上涨, retweet 数量上涨十分缓慢(两者之比达到6倍)\n",
    "- 推测相关因素如下:\n",
    "    - 可以看出 twitter 增长非常迅速(可惜缺少用户量相关的数据)\n",
    "    - 但是人们愿意付出更多一点时间 retweet 的时间在减少, 可能原因是当人接触到更多的 twitter 信息后, 能够 retweet 的注意力已经没有什么增长空间了(注意力处于饱和状态)"
   ]
  },
  {
   "cell_type": "code",
   "execution_count": null,
   "metadata": {
    "ExecuteTime": {
     "end_time": "2019-08-12T00:51:20.678586Z",
     "start_time": "2019-08-12T00:51:11.851Z"
    }
   },
   "outputs": [],
   "source": [
    "# 使用30天滚动平均值完成作图\n",
    "df[[\"favorite_count\", \"retweet_count\"]].rolling(30).median().plot(figsize=(15,4));\n",
    "plt.xlabel('Time Series')\n",
    "plt.ylabel('Counts')\n",
    "plt.title('Compare Favorite and Retweet Counts on Time Series', color='r', fontsize=16);"
   ]
  },
  {
   "cell_type": "markdown",
   "metadata": {},
   "source": [
    "## / favorate 和 retweet 相关性分析\n",
    "- 分析中过滤掉了 retweet 为0的数据和大于1000的数据\n",
    "- 此处考虑的是两个参数的对应关系, 和问题1的趋势并不冲突(因为数据做了过滤)\n",
    "- 可以看出在 favorate 和 retweet 两个数据中间具有相关性\n",
    "- 回归线要用到 sm 库或 sklearn 库, 后续研究 https://nbviewer.jupyter.org/github/weecology/progbio/blob/master/ipynbs/statistics.ipynb"
   ]
  },
  {
   "cell_type": "code",
   "execution_count": null,
   "metadata": {
    "ExecuteTime": {
     "end_time": "2019-08-12T00:51:20.680553Z",
     "start_time": "2019-08-12T00:51:11.958Z"
    }
   },
   "outputs": [],
   "source": [
    "df.query('0 < favorite_count < 10000').plot.scatter(y,z,alpha=0.2,figsize=(15,4));\n",
    "plt.xlabel('Time Series')\n",
    "plt.ylabel('Counts')\n",
    "plt.title('Compare Favorite and Retweet Counts on Time Series', color='r', fontsize=16);"
   ]
  },
  {
   "cell_type": "markdown",
   "metadata": {},
   "source": [
    "## / word cloud 分析\n",
    "- 对评论使用 word cloud 进行分析\n",
    "- 去掉了 stop words\n",
    "- 图像为 twitter 英文字符(小鸟图不太美观)"
   ]
  },
  {
   "cell_type": "code",
   "execution_count": null,
   "metadata": {
    "ExecuteTime": {
     "end_time": "2019-08-12T00:51:20.684795Z",
     "start_time": "2019-08-12T00:51:12.060Z"
    }
   },
   "outputs": [],
   "source": [
    "# set wc paras\n",
    "wc = WordCloud(background_color=\"white\", max_words=1000, mask=color4,\n",
    "               stopwords=stopwords, max_font_size=24, relative_scaling=0.3, width=2400, height=800, random_state=42)\n",
    "\n",
    "# gen wc\n",
    "wc.generate(text_twitter);\n",
    "\n",
    "# create coloring from image\n",
    "image_colors = ImageColorGenerator(color4)\n",
    "\n",
    "# gen pic\n",
    "fig, axes = plt.subplots(2, 1,figsize=(36,12))\n",
    "axes[0].imshow(wc.recolor(color_func=image_colors), interpolation=\"bilinear\")\n",
    "axes[1].imshow(color4, cmap=plt.cm.gray, interpolation=\"bilinear\")\n",
    "for ax in axes:\n",
    "    ax.set_axis_off();\n",
    "plt.show();"
   ]
  },
  {
   "cell_type": "markdown",
   "metadata": {},
   "source": [
    "## / text range 分析\n",
    "- text range 改名为 text range 更为明确\n",
    "- 数据做了过滤(过滤掉了个别 160 字符的)\n",
    "- 数据有左偏斜趋势 (不能断定) 因为在140字的限制上有大量出现, 所以明显存在人为调整\n",
    "- 有些数据超出了140\n",
    "- 后续可以做异常值分析(按说不应该有超出, 也可能是正则化过滤时留下的问题)"
   ]
  },
  {
   "cell_type": "code",
   "execution_count": null,
   "metadata": {
    "ExecuteTime": {
     "end_time": "2019-08-12T00:51:20.686689Z",
     "start_time": "2019-08-12T00:51:12.187Z"
    }
   },
   "outputs": [],
   "source": [
    "df.query('display_text_range < 150').display_text_range.plot.hist(bins=50,figsize=(16,4))\n",
    "plt.xlabel('Text Length')\n",
    "plt.title('Text Length Histogram', color='r', fontsize=16);"
   ]
  },
  {
   "cell_type": "markdown",
   "metadata": {},
   "source": [
    "## / 后续完善\n",
    "- 增加数据feature: 虽然原始数据 featrue 比较多, 但经过梳理发现所剩数据不多. 像用户日活, 注册量等信息缺失.\n",
    "- 完善情感分析: 情感分析可以画出 积极/消极/主观/客观 两个维度的信息. 便于增加数据用以更多分析 (比如 140字的回复中, 是积极信息多还是消极信息多)\n",
    "- 完善 source 分类数据: 本来很关注的feature, 因为数据收集的问题(可能是数据收集时ios比较好记录), 这点非常重要, 因为起码从尝试来讲 android 的不应该这么少. 这种情况会造成数据偏见, 可能带来错误的结论"
   ]
  },
  {
   "cell_type": "code",
   "execution_count": null,
   "metadata": {},
   "outputs": [],
   "source": []
  }
 ],
 "metadata": {
  "hide_input": false,
  "kernelspec": {
   "display_name": "Python 3",
   "language": "python",
   "name": "python3"
  },
  "language_info": {
   "codemirror_mode": {
    "name": "ipython",
    "version": 3
   },
   "file_extension": ".py",
   "mimetype": "text/x-python",
   "name": "python",
   "nbconvert_exporter": "python",
   "pygments_lexer": "ipython3",
   "version": "3.6.7"
  },
  "toc": {
   "base_numbering": 1,
   "nav_menu": {},
   "number_sections": true,
   "sideBar": true,
   "skip_h1_title": false,
   "title_cell": "Table of Contents",
   "title_sidebar": "Contents",
   "toc_cell": false,
   "toc_position": {
    "height": "calc(100% - 180px)",
    "left": "10px",
    "top": "150px",
    "width": "207px"
   },
   "toc_section_display": true,
   "toc_window_display": true
  },
  "varInspector": {
   "cols": {
    "lenName": 16,
    "lenType": 16,
    "lenVar": 40
   },
   "kernels_config": {
    "python": {
     "delete_cmd_postfix": "",
     "delete_cmd_prefix": "del ",
     "library": "var_list.py",
     "varRefreshCmd": "print(var_dic_list())"
    },
    "r": {
     "delete_cmd_postfix": ") ",
     "delete_cmd_prefix": "rm(",
     "library": "var_list.r",
     "varRefreshCmd": "cat(var_dic_list()) "
    }
   },
   "types_to_exclude": [
    "module",
    "function",
    "builtin_function_or_method",
    "instance",
    "_Feature"
   ],
   "window_display": false
  }
 },
 "nbformat": 4,
 "nbformat_minor": 2
}
