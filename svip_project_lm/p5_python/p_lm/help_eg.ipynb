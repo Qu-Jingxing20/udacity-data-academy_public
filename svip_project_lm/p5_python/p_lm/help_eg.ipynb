{
 "cells": [
  {
   "cell_type": "code",
   "execution_count": 1,
   "metadata": {},
   "outputs": [],
   "source": [
    "import bikeshare"
   ]
  },
  {
   "cell_type": "code",
   "execution_count": 2,
   "metadata": {},
   "outputs": [
    {
     "name": "stdout",
     "output_type": "stream",
     "text": [
      "Help on module bikeshare:\n",
      "\n",
      "NAME\n",
      "    bikeshare\n",
      "\n",
      "FUNCTIONS\n",
      "    get_filters()\n",
      "        Asks user to specify a city, month, and day to analyze.\n",
      "        \n",
      "        Returns:\n",
      "            (str) city - name of the city to analyze\n",
      "            (str) month - name of the month to filter by, or \"all\" to apply no month filter\n",
      "            (str) day - name of the day of week to filter by, or \"all\" to apply no day filter\n",
      "    \n",
      "    load_data(city, month, day)\n",
      "        Loads data for the specified city and filters by month and day if applicable.\n",
      "        \n",
      "        Args:\n",
      "            (str) city - name of the city to analyze\n",
      "            (str) month - name of the month to filter by, or \"all\" to apply no month filter\n",
      "            (str) day - name of the day of week to filter by, or \"all\" to apply no day filter\n",
      "        Returns:\n",
      "            df - Pandas DataFrame containing city data filtered by month and day\n",
      "    \n",
      "    main()\n",
      "    \n",
      "    station_stats(df)\n",
      "        Displays statistics on the most popular stations and trip.\n",
      "    \n",
      "    time_stats(df)\n",
      "        Displays statistics on the most frequent times of travel.\n",
      "    \n",
      "    trip_duration_stats(df)\n",
      "        Displays statistics on the total and average trip duration.\n",
      "    \n",
      "    user_stats(df)\n",
      "        Displays statistics on bikeshare users.\n",
      "\n",
      "DATA\n",
      "    CITY_DATA = {'chicago': 'chicago.csv', 'new york city': 'new_york_city...\n",
      "\n",
      "FILE\n",
      "    /Users/francis/git/udacity-private/udacity/project_lm/p5_python/p_lm/bikeshare.py\n",
      "\n",
      "\n"
     ]
    }
   ],
   "source": [
    "help(bikeshare)"
   ]
  },
  {
   "cell_type": "code",
   "execution_count": 3,
   "metadata": {},
   "outputs": [
    {
     "name": "stdout",
     "output_type": "stream",
     "text": [
      "Help on function load_data in module bikeshare:\n",
      "\n",
      "load_data(city, month, day)\n",
      "    Loads data for the specified city and filters by month and day if applicable.\n",
      "    \n",
      "    Args:\n",
      "        (str) city - name of the city to analyze\n",
      "        (str) month - name of the month to filter by, or \"all\" to apply no month filter\n",
      "        (str) day - name of the day of week to filter by, or \"all\" to apply no day filter\n",
      "    Returns:\n",
      "        df - Pandas DataFrame containing city data filtered by month and day\n",
      "\n"
     ]
    }
   ],
   "source": [
    "help(bikeshare.load_data)"
   ]
  },
  {
   "cell_type": "code",
   "execution_count": null,
   "metadata": {},
   "outputs": [],
   "source": []
  }
 ],
 "metadata": {
  "kernelspec": {
   "display_name": "Python 3",
   "language": "python",
   "name": "python3"
  },
  "language_info": {
   "codemirror_mode": {
    "name": "ipython",
    "version": 3
   },
   "file_extension": ".py",
   "mimetype": "text/x-python",
   "name": "python",
   "nbconvert_exporter": "python",
   "pygments_lexer": "ipython3",
   "version": "3.6.7"
  }
 },
 "nbformat": 4,
 "nbformat_minor": 2
}
