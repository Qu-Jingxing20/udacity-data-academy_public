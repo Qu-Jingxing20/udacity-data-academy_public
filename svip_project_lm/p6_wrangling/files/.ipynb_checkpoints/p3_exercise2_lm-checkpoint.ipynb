{
 "cells": [
  {
   "cell_type": "markdown",
   "metadata": {
    "collapsed": true
   },
   "source": [
    "# /5评估数据/ Assessing\n",
    "Use the space below to explore `all_alpha_08.csv` and `all_alpha_18.csv` to answer the quiz questions below."
   ]
  },
  {
   "cell_type": "code",
   "execution_count": 515,
   "metadata": {},
   "outputs": [],
   "source": [
    "import pandas as pd\n",
    "import numpy as np\n",
    "import matplotlib.pyplot as plt\n",
    "from pprint import pprint\n",
    "# pprint的使用和print类似，所以采用了 from import 的引入方式，方便调用\n",
    "\n",
    "%matplotlib inline\n",
    "\n",
    "# 载入原始数据\n",
    "df08 = pd.read_csv('all_alpha_08.txt', sep = '\\t')\n",
    "df18 = pd.read_csv('all_alpha_18.txt', sep = '\\t')\n",
    "# 注意原文件链接为xlsx、zip和txt（不是csv，csv课程中没给出链接）\n",
    "# 使用read_csv读入，发现没有分列，看样子是tab分割\n",
    "# 加个 sep = '\\t'指定使用tab分割解决\n",
    "# （mac 遇到奇怪问题下载的文件都很奇怪，可能和单位网有关）"
   ]
  },
  {
   "cell_type": "code",
   "execution_count": 516,
   "metadata": {},
   "outputs": [
    {
     "data": {
      "text/html": [
       "<div>\n",
       "<style scoped>\n",
       "    .dataframe tbody tr th:only-of-type {\n",
       "        vertical-align: middle;\n",
       "    }\n",
       "\n",
       "    .dataframe tbody tr th {\n",
       "        vertical-align: top;\n",
       "    }\n",
       "\n",
       "    .dataframe thead th {\n",
       "        text-align: right;\n",
       "    }\n",
       "</style>\n",
       "<table border=\"1\" class=\"dataframe\">\n",
       "  <thead>\n",
       "    <tr style=\"text-align: right;\">\n",
       "      <th></th>\n",
       "      <th>Model</th>\n",
       "      <th>Displ</th>\n",
       "      <th>Cyl</th>\n",
       "      <th>Trans</th>\n",
       "      <th>Drive</th>\n",
       "      <th>Fuel</th>\n",
       "      <th>Sales Area</th>\n",
       "      <th>Stnd</th>\n",
       "      <th>Underhood ID</th>\n",
       "      <th>Veh Class</th>\n",
       "      <th>Air Pollution Score</th>\n",
       "      <th>FE Calc Appr</th>\n",
       "      <th>City MPG</th>\n",
       "      <th>Hwy MPG</th>\n",
       "      <th>Cmb MPG</th>\n",
       "      <th>Unadj Cmb MPG</th>\n",
       "      <th>Greenhouse Gas Score</th>\n",
       "      <th>SmartWay</th>\n",
       "    </tr>\n",
       "  </thead>\n",
       "  <tbody>\n",
       "    <tr>\n",
       "      <th>0</th>\n",
       "      <td>ACURA MDX</td>\n",
       "      <td>3.7</td>\n",
       "      <td>(6 cyl)</td>\n",
       "      <td>Auto-S5</td>\n",
       "      <td>4WD</td>\n",
       "      <td>Gasoline</td>\n",
       "      <td>CA</td>\n",
       "      <td>U2</td>\n",
       "      <td>8HNXT03.7PKR</td>\n",
       "      <td>SUV</td>\n",
       "      <td>7</td>\n",
       "      <td>Drv</td>\n",
       "      <td>15</td>\n",
       "      <td>20</td>\n",
       "      <td>17</td>\n",
       "      <td>22.0527</td>\n",
       "      <td>4</td>\n",
       "      <td>no</td>\n",
       "    </tr>\n",
       "    <tr>\n",
       "      <th>1</th>\n",
       "      <td>ACURA MDX</td>\n",
       "      <td>3.7</td>\n",
       "      <td>(6 cyl)</td>\n",
       "      <td>Auto-S5</td>\n",
       "      <td>4WD</td>\n",
       "      <td>Gasoline</td>\n",
       "      <td>FA</td>\n",
       "      <td>B5</td>\n",
       "      <td>8HNXT03.7PKR</td>\n",
       "      <td>SUV</td>\n",
       "      <td>6</td>\n",
       "      <td>Drv</td>\n",
       "      <td>15</td>\n",
       "      <td>20</td>\n",
       "      <td>17</td>\n",
       "      <td>22.0527</td>\n",
       "      <td>4</td>\n",
       "      <td>no</td>\n",
       "    </tr>\n",
       "    <tr>\n",
       "      <th>2</th>\n",
       "      <td>ACURA RDX</td>\n",
       "      <td>2.3</td>\n",
       "      <td>(4 cyl)</td>\n",
       "      <td>Auto-S5</td>\n",
       "      <td>4WD</td>\n",
       "      <td>Gasoline</td>\n",
       "      <td>CA</td>\n",
       "      <td>U2</td>\n",
       "      <td>8HNXT02.3DKR</td>\n",
       "      <td>SUV</td>\n",
       "      <td>7</td>\n",
       "      <td>Drv</td>\n",
       "      <td>17</td>\n",
       "      <td>22</td>\n",
       "      <td>19</td>\n",
       "      <td>24.1745</td>\n",
       "      <td>5</td>\n",
       "      <td>no</td>\n",
       "    </tr>\n",
       "  </tbody>\n",
       "</table>\n",
       "</div>"
      ],
      "text/plain": [
       "       Model  Displ      Cyl    Trans Drive      Fuel Sales Area Stnd  \\\n",
       "0  ACURA MDX    3.7  (6 cyl)  Auto-S5   4WD  Gasoline         CA   U2   \n",
       "1  ACURA MDX    3.7  (6 cyl)  Auto-S5   4WD  Gasoline         FA   B5   \n",
       "2  ACURA RDX    2.3  (4 cyl)  Auto-S5   4WD  Gasoline         CA   U2   \n",
       "\n",
       "   Underhood ID Veh Class Air Pollution Score FE Calc Appr City MPG Hwy MPG  \\\n",
       "0  8HNXT03.7PKR       SUV                   7          Drv       15      20   \n",
       "1  8HNXT03.7PKR       SUV                   6          Drv       15      20   \n",
       "2  8HNXT02.3DKR       SUV                   7          Drv       17      22   \n",
       "\n",
       "  Cmb MPG  Unadj Cmb MPG Greenhouse Gas Score SmartWay  \n",
       "0      17        22.0527                    4       no  \n",
       "1      17        22.0527                    4       no  \n",
       "2      19        24.1745                    5       no  "
      ]
     },
     "execution_count": 516,
     "metadata": {},
     "output_type": "execute_result"
    }
   ],
   "source": [
    "df08.head(3)"
   ]
  },
  {
   "cell_type": "code",
   "execution_count": 517,
   "metadata": {},
   "outputs": [
    {
     "data": {
      "text/html": [
       "<div>\n",
       "<style scoped>\n",
       "    .dataframe tbody tr th:only-of-type {\n",
       "        vertical-align: middle;\n",
       "    }\n",
       "\n",
       "    .dataframe tbody tr th {\n",
       "        vertical-align: top;\n",
       "    }\n",
       "\n",
       "    .dataframe thead th {\n",
       "        text-align: right;\n",
       "    }\n",
       "</style>\n",
       "<table border=\"1\" class=\"dataframe\">\n",
       "  <thead>\n",
       "    <tr style=\"text-align: right;\">\n",
       "      <th></th>\n",
       "      <th>Model</th>\n",
       "      <th>Displ</th>\n",
       "      <th>Cyl</th>\n",
       "      <th>Trans</th>\n",
       "      <th>Drive</th>\n",
       "      <th>Fuel</th>\n",
       "      <th>Cert Region</th>\n",
       "      <th>Stnd</th>\n",
       "      <th>Stnd Description</th>\n",
       "      <th>Underhood ID</th>\n",
       "      <th>Veh Class</th>\n",
       "      <th>Air Pollution Score</th>\n",
       "      <th>City MPG</th>\n",
       "      <th>Hwy MPG</th>\n",
       "      <th>Cmb MPG</th>\n",
       "      <th>Greenhouse Gas Score</th>\n",
       "      <th>SmartWay</th>\n",
       "      <th>Comb CO2</th>\n",
       "    </tr>\n",
       "  </thead>\n",
       "  <tbody>\n",
       "    <tr>\n",
       "      <th>0</th>\n",
       "      <td>ACURA ILX</td>\n",
       "      <td>2.4</td>\n",
       "      <td>4.0</td>\n",
       "      <td>AMS-8</td>\n",
       "      <td>2WD</td>\n",
       "      <td>Gasoline</td>\n",
       "      <td>CA</td>\n",
       "      <td>L3ULEV125</td>\n",
       "      <td>California LEV-III ULEV125</td>\n",
       "      <td>JHNXV02.4NH3</td>\n",
       "      <td>small car</td>\n",
       "      <td>3</td>\n",
       "      <td>25</td>\n",
       "      <td>35</td>\n",
       "      <td>29</td>\n",
       "      <td>6</td>\n",
       "      <td>No</td>\n",
       "      <td>309</td>\n",
       "    </tr>\n",
       "    <tr>\n",
       "      <th>1</th>\n",
       "      <td>ACURA ILX</td>\n",
       "      <td>2.4</td>\n",
       "      <td>4.0</td>\n",
       "      <td>AMS-8</td>\n",
       "      <td>2WD</td>\n",
       "      <td>Gasoline</td>\n",
       "      <td>FA</td>\n",
       "      <td>T3B125</td>\n",
       "      <td>Federal Tier 3 Bin 125</td>\n",
       "      <td>JHNXV02.4NH3</td>\n",
       "      <td>small car</td>\n",
       "      <td>3</td>\n",
       "      <td>25</td>\n",
       "      <td>35</td>\n",
       "      <td>29</td>\n",
       "      <td>6</td>\n",
       "      <td>No</td>\n",
       "      <td>309</td>\n",
       "    </tr>\n",
       "    <tr>\n",
       "      <th>2</th>\n",
       "      <td>ACURA MDX</td>\n",
       "      <td>3.0</td>\n",
       "      <td>6.0</td>\n",
       "      <td>AMS-7</td>\n",
       "      <td>4WD</td>\n",
       "      <td>Gasoline</td>\n",
       "      <td>CA</td>\n",
       "      <td>L3ULEV125</td>\n",
       "      <td>California LEV-III ULEV125</td>\n",
       "      <td>JHNXV03.08H3</td>\n",
       "      <td>small SUV</td>\n",
       "      <td>3</td>\n",
       "      <td>26</td>\n",
       "      <td>27</td>\n",
       "      <td>27</td>\n",
       "      <td>6</td>\n",
       "      <td>No</td>\n",
       "      <td>330</td>\n",
       "    </tr>\n",
       "  </tbody>\n",
       "</table>\n",
       "</div>"
      ],
      "text/plain": [
       "       Model  Displ  Cyl  Trans Drive      Fuel Cert Region       Stnd  \\\n",
       "0  ACURA ILX    2.4  4.0  AMS-8   2WD  Gasoline          CA  L3ULEV125   \n",
       "1  ACURA ILX    2.4  4.0  AMS-8   2WD  Gasoline          FA     T3B125   \n",
       "2  ACURA MDX    3.0  6.0  AMS-7   4WD  Gasoline          CA  L3ULEV125   \n",
       "\n",
       "             Stnd Description  Underhood ID  Veh Class  Air Pollution Score  \\\n",
       "0  California LEV-III ULEV125  JHNXV02.4NH3  small car                    3   \n",
       "1      Federal Tier 3 Bin 125  JHNXV02.4NH3  small car                    3   \n",
       "2  California LEV-III ULEV125  JHNXV03.08H3  small SUV                    3   \n",
       "\n",
       "  City MPG Hwy MPG Cmb MPG  Greenhouse Gas Score SmartWay Comb CO2  \n",
       "0       25      35      29                     6       No      309  \n",
       "1       25      35      29                     6       No      309  \n",
       "2       26      27      27                     6       No      330  "
      ]
     },
     "execution_count": 517,
     "metadata": {},
     "output_type": "execute_result"
    }
   ],
   "source": [
    "df18.head(3)"
   ]
  },
  {
   "cell_type": "markdown",
   "metadata": {},
   "source": [
    "1.每个数据集中的样本数\n",
    "\n",
    "2.每个数据集中的列数"
   ]
  },
  {
   "cell_type": "code",
   "execution_count": 518,
   "metadata": {},
   "outputs": [
    {
     "name": "stdout",
     "output_type": "stream",
     "text": [
      "(2404, 18)\n",
      "(2648, 18)\n"
     ]
    }
   ],
   "source": [
    "print(df08.shape)\n",
    "print(df18.shape)"
   ]
  },
  {
   "cell_type": "markdown",
   "metadata": {},
   "source": [
    "3.每个数据集中重复的行数"
   ]
  },
  {
   "cell_type": "code",
   "execution_count": 519,
   "metadata": {},
   "outputs": [
    {
     "name": "stdout",
     "output_type": "stream",
     "text": [
      "25 0\n"
     ]
    }
   ],
   "source": [
    "# 检查重复行数\n",
    "sum_dup_08 = sum(df08.duplicated())\n",
    "sum_dup_18 = sum(df18.duplicated())\n",
    "print(sum_dup_08,sum_dup_18)"
   ]
  },
  {
   "cell_type": "code",
   "execution_count": 520,
   "metadata": {},
   "outputs": [
    {
     "data": {
      "text/plain": [
       "Index(['Model', 'Displ', 'Cyl', 'Trans', 'Drive', 'Fuel', 'Sales Area', 'Stnd',\n",
       "       'Underhood ID', 'Veh Class', 'Air Pollution Score', 'FE Calc Appr',\n",
       "       'City MPG', 'Hwy MPG', 'Cmb MPG', 'Unadj Cmb MPG',\n",
       "       'Greenhouse Gas Score', 'SmartWay'],\n",
       "      dtype='object')"
      ]
     },
     "execution_count": 520,
     "metadata": {},
     "output_type": "execute_result"
    }
   ],
   "source": [
    "# 检查列名\n",
    "df08.columns"
   ]
  },
  {
   "cell_type": "code",
   "execution_count": 521,
   "metadata": {},
   "outputs": [
    {
     "data": {
      "text/plain": [
       "Index(['Model', 'Displ', 'Cyl', 'Trans', 'Drive', 'Fuel', 'Cert Region',\n",
       "       'Stnd', 'Stnd Description', 'Underhood ID', 'Veh Class',\n",
       "       'Air Pollution Score', 'City MPG', 'Hwy MPG', 'Cmb MPG',\n",
       "       'Greenhouse Gas Score', 'SmartWay', 'Comb CO2'],\n",
       "      dtype='object')"
      ]
     },
     "execution_count": 521,
     "metadata": {},
     "output_type": "execute_result"
    }
   ],
   "source": [
    "df18.columns"
   ]
  },
  {
   "cell_type": "code",
   "execution_count": 522,
   "metadata": {},
   "outputs": [
    {
     "data": {
      "text/plain": [
       "array(['Gasoline', 'ethanol/gas', 'ethanol', 'diesel', 'CNG'],\n",
       "      dtype=object)"
      ]
     },
     "execution_count": 522,
     "metadata": {},
     "output_type": "execute_result"
    }
   ],
   "source": [
    "# plus check unique at fuel\n",
    "df08['Fuel'].unique()"
   ]
  },
  {
   "cell_type": "markdown",
   "metadata": {},
   "source": [
    "4.列的数据类型"
   ]
  },
  {
   "cell_type": "code",
   "execution_count": 523,
   "metadata": {},
   "outputs": [
    {
     "name": "stdout",
     "output_type": "stream",
     "text": [
      "Model                    object\n",
      "Displ                   float64\n",
      "Cyl                      object\n",
      "Trans                    object\n",
      "Drive                    object\n",
      "Fuel                     object\n",
      "Sales Area               object\n",
      "Stnd                     object\n",
      "Underhood ID             object\n",
      "Veh Class                object\n",
      "Air Pollution Score      object\n",
      "FE Calc Appr             object\n",
      "City MPG                 object\n",
      "Hwy MPG                  object\n",
      "Cmb MPG                  object\n",
      "Unadj Cmb MPG           float64\n",
      "Greenhouse Gas Score     object\n",
      "SmartWay                 object\n",
      "dtype: object\n",
      "------------\n",
      "<class 'pandas.core.frame.DataFrame'>\n",
      "RangeIndex: 2404 entries, 0 to 2403\n",
      "Data columns (total 18 columns):\n",
      "Model                   2404 non-null object\n",
      "Displ                   2404 non-null float64\n",
      "Cyl                     2205 non-null object\n",
      "Trans                   2205 non-null object\n",
      "Drive                   2311 non-null object\n",
      "Fuel                    2404 non-null object\n",
      "Sales Area              2404 non-null object\n",
      "Stnd                    2404 non-null object\n",
      "Underhood ID            2404 non-null object\n",
      "Veh Class               2404 non-null object\n",
      "Air Pollution Score     2404 non-null object\n",
      "FE Calc Appr            2205 non-null object\n",
      "City MPG                2205 non-null object\n",
      "Hwy MPG                 2205 non-null object\n",
      "Cmb MPG                 2205 non-null object\n",
      "Unadj Cmb MPG           2205 non-null float64\n",
      "Greenhouse Gas Score    2205 non-null object\n",
      "SmartWay                2404 non-null object\n",
      "dtypes: float64(2), object(16)\n",
      "memory usage: 338.1+ KB\n"
     ]
    }
   ],
   "source": [
    "print(df08.dtypes)\n",
    "# 也可以使用info，会多一些信息\n",
    "print('------------')\n",
    "df08.info()"
   ]
  },
  {
   "cell_type": "markdown",
   "metadata": {},
   "source": [
    "5.具有缺失值的特征"
   ]
  },
  {
   "cell_type": "code",
   "execution_count": 524,
   "metadata": {},
   "outputs": [
    {
     "data": {
      "text/plain": [
       "['Cyl',\n",
       " 'Trans',\n",
       " 'Drive',\n",
       " 'FE Calc Appr',\n",
       " 'City MPG',\n",
       " 'Hwy MPG',\n",
       " 'Cmb MPG',\n",
       " 'Unadj Cmb MPG',\n",
       " 'Greenhouse Gas Score']"
      ]
     },
     "execution_count": 524,
     "metadata": {},
     "output_type": "execute_result"
    }
   ],
   "source": [
    "null_list = []\n",
    "for i in df08.columns:\n",
    "    if df08[i].isnull().any():\n",
    "        null_list.append(i)\n",
    "null_list\n",
    "# 使用判断把空置输出为一列"
   ]
  },
  {
   "cell_type": "code",
   "execution_count": 525,
   "metadata": {},
   "outputs": [
    {
     "data": {
      "text/plain": [
       "Model                     0\n",
       "Displ                     0\n",
       "Cyl                     199\n",
       "Trans                   199\n",
       "Drive                    93\n",
       "Fuel                      0\n",
       "Sales Area                0\n",
       "Stnd                      0\n",
       "Underhood ID              0\n",
       "Veh Class                 0\n",
       "Air Pollution Score       0\n",
       "FE Calc Appr            199\n",
       "City MPG                199\n",
       "Hwy MPG                 199\n",
       "Cmb MPG                 199\n",
       "Unadj Cmb MPG           199\n",
       "Greenhouse Gas Score    199\n",
       "SmartWay                  0\n",
       "dtype: int64"
      ]
     },
     "execution_count": 525,
     "metadata": {},
     "output_type": "execute_result"
    }
   ],
   "source": [
    "# 使用isnull.sum检查空数据数量\n",
    "nucheck = df08.isnull().sum()\n",
    "nucheck"
   ]
  },
  {
   "cell_type": "code",
   "execution_count": 526,
   "metadata": {},
   "outputs": [
    {
     "data": {
      "text/plain": [
       "Model                   0.000\n",
       "Displ                   0.000\n",
       "Cyl                     0.083\n",
       "Trans                   0.083\n",
       "Drive                   0.039\n",
       "Fuel                    0.000\n",
       "Sales Area              0.000\n",
       "Stnd                    0.000\n",
       "Underhood ID            0.000\n",
       "Veh Class               0.000\n",
       "Air Pollution Score     0.000\n",
       "FE Calc Appr            0.083\n",
       "City MPG                0.083\n",
       "Hwy MPG                 0.083\n",
       "Cmb MPG                 0.083\n",
       "Unadj Cmb MPG           0.083\n",
       "Greenhouse Gas Score    0.083\n",
       "SmartWay                0.000\n",
       "dtype: float64"
      ]
     },
     "execution_count": 526,
     "metadata": {},
     "output_type": "execute_result"
    }
   ],
   "source": [
    "# 看下占的百分比\n",
    "round(nucheck/df08.shape[0],3)\n",
    "# round(float,n) 的作用是把float小数，保留到小数点后n位\n",
    "# 当然了 nucheck是求出的丢失值的数量，df08.shape[0]是数据的行数"
   ]
  },
  {
   "cell_type": "markdown",
   "metadata": {},
   "source": [
    "6.每个数据集中特征的非空唯一值的数量"
   ]
  },
  {
   "cell_type": "code",
   "execution_count": 527,
   "metadata": {},
   "outputs": [
    {
     "name": "stdout",
     "output_type": "stream",
     "text": [
      "Model : 436\n",
      "Displ : 47\n",
      "Cyl : 8\n",
      "Trans : 14\n",
      "Drive : 2\n",
      "Fuel : 5\n",
      "Sales Area : 3\n",
      "Stnd : 12\n",
      "Underhood ID : 343\n",
      "Veh Class : 9\n",
      "Air Pollution Score : 13\n",
      "FE Calc Appr : 2\n",
      "City MPG : 39\n",
      "Hwy MPG : 43\n",
      "Cmb MPG : 38\n",
      "Unadj Cmb MPG : 721\n",
      "Greenhouse Gas Score : 20\n",
      "SmartWay : 2\n"
     ]
    }
   ],
   "source": [
    "for i in df08.columns:\n",
    "    print(i, end = ' : ')\n",
    "    print(df08[i].nunique())\n",
    "# 可以使用格式化字符串来更好的显示，请自行实验\n",
    "# 这些唯一值都是什么，以及每个的计数"
   ]
  },
  {
   "cell_type": "code",
   "execution_count": 528,
   "metadata": {},
   "outputs": [
    {
     "name": "stdout",
     "output_type": "stream",
     "text": [
      "\n",
      " Displ :\n",
      "3.5    194\n",
      "2.4    184\n",
      "2.5    171\n",
      "3.0    158\n",
      "2.0    132\n",
      "3.6    110\n",
      "5.3    108\n",
      "6.0    103\n",
      "3.7     86\n",
      "5.4     81\n",
      "4.0     80\n",
      "4.6     80\n",
      "4.8     74\n",
      "2.3     71\n",
      "2.7     68\n",
      "3.8     62\n",
      "5.7     59\n",
      "4.2     57\n",
      "4.7     45\n",
      "6.2     41\n",
      "1.8     36\n",
      "3.2     34\n",
      "2.2     30\n",
      "5.5     30\n",
      "5.0     29\n",
      "3.3     24\n",
      "1.6     24\n",
      "2.9     24\n",
      "4.3     22\n",
      "5.6     20\n",
      "3.1     18\n",
      "4.4     16\n",
      "3.4     16\n",
      "6.7     14\n",
      "6.8     13\n",
      "1.5     12\n",
      "6.1     12\n",
      "5.9     12\n",
      "2.8     12\n",
      "6.5     10\n",
      "3.9      8\n",
      "4.5      6\n",
      "1.3      6\n",
      "8.4      4\n",
      "5.2      4\n",
      "7.0      2\n",
      "8.0      2\n",
      "Name: Displ, dtype: int64\n",
      "\n",
      " Cyl :\n",
      "(6 cyl)     864\n",
      "(4 cyl)     600\n",
      "(8 cyl)     533\n",
      "(5 cyl)     113\n",
      "(12 cyl)     60\n",
      "(10 cyl)     29\n",
      "(2 cyl)       4\n",
      "(16 cyl)      2\n",
      "Name: Cyl, dtype: int64\n",
      "\n",
      " Trans :\n",
      "Auto-L4    502\n",
      "Auto-L5    329\n",
      "Auto-S6    327\n",
      "Man-6      295\n",
      "Man-5      269\n",
      "Auto-S5    147\n",
      "Auto-L6    118\n",
      "Auto-AV     86\n",
      "Auto-L7     42\n",
      "Auto-S4     42\n",
      "Auto-S7     22\n",
      "Auto-4      10\n",
      "Auto-6       8\n",
      "S8           8\n",
      "Name: Trans, dtype: int64\n",
      "\n",
      " Drive :\n",
      "2WD    1525\n",
      "4WD     786\n",
      "Name: Drive, dtype: int64\n",
      "\n",
      " Fuel :\n",
      "Gasoline       2318\n",
      "ethanol/gas      72\n",
      "diesel           11\n",
      "CNG               2\n",
      "ethanol           1\n",
      "Name: Fuel, dtype: int64\n",
      "\n",
      " Sales Area :\n",
      "FA    1157\n",
      "CA    1084\n",
      "FC     163\n",
      "Name: Sales Area, dtype: int64\n",
      "\n",
      " Stnd :\n",
      "B5      990\n",
      "L2      556\n",
      "U2      428\n",
      "B4      125\n",
      "B8       95\n",
      "HDV      84\n",
      "S2       76\n",
      "B2       16\n",
      "B3       15\n",
      "SLEV     11\n",
      "B10       6\n",
      "LEV       2\n",
      "Name: Stnd, dtype: int64\n",
      "\n",
      " Underhood ID :\n",
      "8GMXK06.0389    48\n",
      "8BMXB03.0N52    46\n",
      "8GMXT05.3384    46\n",
      "8VVXV02.5U2T    32\n",
      "8BMXV03.0N54    32\n",
      "8GMXK06.0396    28\n",
      "8ADXV02.0366    28\n",
      "8FJXB02.5PYH    26\n",
      "8GMXT06.2382    26\n",
      "8GMXV02.4025    24\n",
      "8GMXB03.6148    24\n",
      "8CRXT03.7NE0    24\n",
      "8GMXT05.3373    20\n",
      "8NSXT04.0G6A    20\n",
      "8CRXT05.7PE0    20\n",
      "8PRXV03.4C87    20\n",
      "8CRXB02.4ME0    20\n",
      "8FJXB02.5MXG    20\n",
      "8MBXV06.0L2A    20\n",
      "8PRXV03.8997    20\n",
      "8GMXV02.3001    20\n",
      "8VWXV02.5253    20\n",
      "8GMXT03.6151    20\n",
      "8TYXT03.5BEM    20\n",
      "8VWXV02.5257    20\n",
      "8CRXT03.7PE0    19\n",
      "8GMXT06.2394    18\n",
      "8TYXT04.0AEM    18\n",
      "8ADXV03.1374    18\n",
      "8NSXT05.6G9A    16\n",
      "                ..\n",
      "8MTXT03.0GRG     2\n",
      "8TYXT02.4BEM     2\n",
      "8BMXT03.0E70     2\n",
      "8HNXV01.3ZCP     2\n",
      "8MTXT03.0G6G     2\n",
      "8GMXV07.0085     2\n",
      "8FMXK04.66RA     2\n",
      "8MTXV02.0GRG     2\n",
      "8GMXT05.3377     1\n",
      "8MBXV03.0BN8     1\n",
      "8VWXT05.0375     1\n",
      "8S3XT05.4IBB     1\n",
      "8FMXT06.85HR     1\n",
      "8GMXT03.9140     1\n",
      "8DSXV02.4G6G     1\n",
      "8GMXT02.4135     1\n",
      "8FMXT05.43HP     1\n",
      "8FMXT05.44E2     1\n",
      "8HYXV02.0HPC     1\n",
      "8TYXV02.4HX2     1\n",
      "8GMXT05.3376     1\n",
      "8GMXT02.4124     1\n",
      "8GMXT02.4123     1\n",
      "8TKXV02.3NF1     1\n",
      "8NSXV02.5G3A     1\n",
      "8DSXV02.4GRG     1\n",
      "8TKXV02.35NN     1\n",
      "8KMXV02.0LPC     1\n",
      "8TKXV02.3NH2     1\n",
      "8GMXT04.2188     1\n",
      "Name: Underhood ID, Length: 343, dtype: int64\n",
      "\n",
      " Veh Class :\n",
      "small car          692\n",
      "SUV                648\n",
      "pickup             350\n",
      "midsize car        276\n",
      "van                129\n",
      "large car          129\n",
      "station wagon      123\n",
      "minivan             37\n",
      "special purpose     20\n",
      "Name: Veh Class, dtype: int64\n",
      "\n",
      " Air Pollution Score :\n",
      "6      1471\n",
      "7       521\n",
      "2       112\n",
      "3        85\n",
      "9.5      80\n",
      "6/6      32\n",
      "3/3      27\n",
      "9        23\n",
      "1        22\n",
      "8        15\n",
      "7/7      12\n",
      "0         3\n",
      "6/4       1\n",
      "Name: Air Pollution Score, dtype: int64\n",
      "\n",
      " FE Calc Appr :\n",
      "Drv    2175\n",
      "5cy      30\n",
      "Name: FE Calc Appr, dtype: int64\n",
      "\n",
      " City MPG :\n",
      "17       233\n",
      "16       216\n",
      "15       213\n",
      "20       195\n",
      "19       182\n",
      "18       180\n",
      "14       172\n",
      "13       160\n",
      "12       135\n",
      "21       122\n",
      "22        88\n",
      "23        45\n",
      "24        42\n",
      "11        35\n",
      "10        28\n",
      "11/14     20\n",
      "25        16\n",
      "26        16\n",
      "27        16\n",
      "9         12\n",
      "9/12      10\n",
      "29        10\n",
      "9/14       9\n",
      "9/13       7\n",
      "34         6\n",
      "8          6\n",
      "11/15      6\n",
      "28         4\n",
      "13/18      4\n",
      "10/13      3\n",
      "13/19      2\n",
      "33         2\n",
      "48         2\n",
      "10/14      2\n",
      "40         2\n",
      "12/16      1\n",
      "35         1\n",
      "14/18      1\n",
      "11/17      1\n",
      "Name: City MPG, dtype: int64\n",
      "\n",
      " Hwy MPG :\n",
      "24       241\n",
      "20       174\n",
      "25       169\n",
      "26       167\n",
      "28       148\n",
      "19       144\n",
      "22       143\n",
      "18       126\n",
      "27       123\n",
      "23       106\n",
      "17        99\n",
      "29        99\n",
      "31        76\n",
      "30        66\n",
      "16        59\n",
      "21        58\n",
      "32        35\n",
      "33        34\n",
      "15        21\n",
      "14/19     14\n",
      "34        12\n",
      "15/20     12\n",
      "35        11\n",
      "14        10\n",
      "12/17      8\n",
      "12/19      7\n",
      "12/16      6\n",
      "36         6\n",
      "13         6\n",
      "45         4\n",
      "37         2\n",
      "13/17      2\n",
      "13/19      2\n",
      "16/23      2\n",
      "13/18      2\n",
      "12/18      2\n",
      "19/25      2\n",
      "20/27      2\n",
      "17/24      1\n",
      "17/23      1\n",
      "20/28      1\n",
      "19/26      1\n",
      "21/29      1\n",
      "Name: Hwy MPG, dtype: int64\n",
      "\n",
      " Cmb MPG :\n",
      "20       215\n",
      "22       211\n",
      "19       196\n",
      "18       183\n",
      "21       166\n",
      "15       164\n",
      "14       156\n",
      "16       144\n",
      "17       139\n",
      "24       134\n",
      "23       119\n",
      "25        73\n",
      "26        46\n",
      "13        34\n",
      "27        34\n",
      "12        30\n",
      "28        28\n",
      "29        24\n",
      "12/16     20\n",
      "10/15     15\n",
      "11        14\n",
      "10/14     11\n",
      "32         8\n",
      "31         6\n",
      "10         6\n",
      "13/17      4\n",
      "34         3\n",
      "11/15      3\n",
      "15/21      3\n",
      "16/22      3\n",
      "30         2\n",
      "13/18      2\n",
      "42         2\n",
      "46         2\n",
      "12/15      2\n",
      "16/21      1\n",
      "13/19      1\n",
      "14/19      1\n",
      "Name: Cmb MPG, dtype: int64\n",
      "\n",
      " Unadj Cmb MPG :\n",
      "13.8612    16\n",
      "18.9273    16\n",
      "27.7684    14\n",
      "29.2274    14\n",
      "31.1162    12\n",
      "28.6009    12\n",
      "24.3604    12\n",
      "26.2843    12\n",
      "12.9000    10\n",
      "19.5000    10\n",
      "29.3687    10\n",
      "19.0126    10\n",
      "27.3126    10\n",
      "24.8679     9\n",
      "19.9678     9\n",
      "35.9566     9\n",
      "18.9287     9\n",
      "33.7076     9\n",
      "25.8136     8\n",
      "16.4338     8\n",
      "14.8322     8\n",
      "13.8375     8\n",
      "25.8212     8\n",
      "12.2796     8\n",
      "28.8034     8\n",
      "24.2241     8\n",
      "25.3086     8\n",
      "27.5143     8\n",
      "15.2051     8\n",
      "32.5709     8\n",
      "           ..\n",
      "19.2186     1\n",
      "26.5701     1\n",
      "26.0747     1\n",
      "18.3969     1\n",
      "21.8924     1\n",
      "26.0000     1\n",
      "25.8697     1\n",
      "34.6809     1\n",
      "18.9358     1\n",
      "26.9756     1\n",
      "24.4810     1\n",
      "16.1362     1\n",
      "26.8962     1\n",
      "21.6747     1\n",
      "16.5908     1\n",
      "26.8575     1\n",
      "12.9349     1\n",
      "25.1000     1\n",
      "46.7098     1\n",
      "13.7631     1\n",
      "19.4531     1\n",
      "25.8353     1\n",
      "21.1376     1\n",
      "22.5424     1\n",
      "12.7142     1\n",
      "13.2223     1\n",
      "26.1804     1\n",
      "20.4407     1\n",
      "36.7250     1\n",
      "12.8322     1\n",
      "Name: Unadj Cmb MPG, Length: 721, dtype: int64\n",
      "\n",
      " Greenhouse Gas Score :\n",
      "6      589\n",
      "5      380\n",
      "7      327\n",
      "4      285\n",
      "3      165\n",
      "2      156\n",
      "8      131\n",
      "0       50\n",
      "1       33\n",
      "6/4     24\n",
      "9       19\n",
      "4/3     15\n",
      "4/2     11\n",
      "8/6      4\n",
      "10       4\n",
      "5/3      3\n",
      "6/5      3\n",
      "7/6      3\n",
      "6/3      2\n",
      "7/5      1\n",
      "Name: Greenhouse Gas Score, dtype: int64\n",
      "\n",
      " SmartWay :\n",
      "no     1766\n",
      "yes     638\n",
      "Name: SmartWay, dtype: int64\n"
     ]
    }
   ],
   "source": [
    "# 加上value_counts 看下\n",
    "# 使用[1:]将车型过滤掉\n",
    "for i in df08.columns[1:]:\n",
    "    print('\\n', i, ':')\n",
    "    print(df08[i].value_counts())"
   ]
  },
  {
   "cell_type": "markdown",
   "metadata": {},
   "source": [
    "# /6清理列标签/ 清除列标签\n",
    "使用 all_alpha_08.csv 和 all_alpha_18.csv"
   ]
  },
  {
   "cell_type": "code",
   "execution_count": 529,
   "metadata": {},
   "outputs": [
    {
     "name": "stdout",
     "output_type": "stream",
     "text": [
      "(2404, 18)\n"
     ]
    },
    {
     "data": {
      "text/plain": [
       "Index(['Model', 'Displ', 'Cyl', 'Trans', 'Drive', 'Fuel', 'Sales Area', 'Stnd',\n",
       "       'Underhood ID', 'Veh Class', 'Air Pollution Score', 'FE Calc Appr',\n",
       "       'City MPG', 'Hwy MPG', 'Cmb MPG', 'Unadj Cmb MPG',\n",
       "       'Greenhouse Gas Score', 'SmartWay'],\n",
       "      dtype='object')"
      ]
     },
     "execution_count": 529,
     "metadata": {},
     "output_type": "execute_result"
    }
   ],
   "source": [
    "#先检查下原有数据\n",
    "print(df08.shape)\n",
    "df08.columns"
   ]
  },
  {
   "cell_type": "code",
   "execution_count": 530,
   "metadata": {},
   "outputs": [
    {
     "name": "stdout",
     "output_type": "stream",
     "text": [
      "(2404, 14)\n"
     ]
    },
    {
     "data": {
      "text/plain": [
       "Index(['Model', 'Displ', 'Cyl', 'Trans', 'Drive', 'Fuel', 'Sales Area',\n",
       "       'Veh Class', 'Air Pollution Score', 'City MPG', 'Hwy MPG', 'Cmb MPG',\n",
       "       'Greenhouse Gas Score', 'SmartWay'],\n",
       "      dtype='object')"
      ]
     },
     "execution_count": 530,
     "metadata": {},
     "output_type": "execute_result"
    }
   ],
   "source": [
    "# 丢弃多余列08\n",
    "drop_list = ['Stnd', 'Underhood ID', 'FE Calc Appr', 'Unadj Cmb MPG']\n",
    "# df08.drop(drop_list, axis=1, inplace=True)\n",
    "df08new = df08.drop(drop_list, axis=1)\n",
    "# 在大文档时候建议用新的变量，而不是True，否则前后会混\n",
    "# （工程时除外，因为能节省内存）\n",
    "print(df08new.shape)\n",
    "df08new.columns"
   ]
  },
  {
   "cell_type": "code",
   "execution_count": 531,
   "metadata": {},
   "outputs": [
    {
     "name": "stdout",
     "output_type": "stream",
     "text": [
      "(2648, 14)\n"
     ]
    },
    {
     "data": {
      "text/plain": [
       "Index(['Model', 'Displ', 'Cyl', 'Trans', 'Drive', 'Fuel', 'Cert Region',\n",
       "       'Veh Class', 'Air Pollution Score', 'City MPG', 'Hwy MPG', 'Cmb MPG',\n",
       "       'Greenhouse Gas Score', 'SmartWay'],\n",
       "      dtype='object')"
      ]
     },
     "execution_count": 531,
     "metadata": {},
     "output_type": "execute_result"
    }
   ],
   "source": [
    "# 丢弃多余列18\n",
    "drop_list = ['Stnd','Stnd Description','Underhood ID','Comb CO2']\n",
    "#df18.drop(drop_list, axis=1, inplace=True)\n",
    "df18new = df18.drop(drop_list, axis=1)\n",
    "print(df18new.shape)\n",
    "df18new.columns"
   ]
  },
  {
   "cell_type": "code",
   "execution_count": 532,
   "metadata": {},
   "outputs": [
    {
     "name": "stdout",
     "output_type": "stream",
     "text": [
      "[ True  True  True  True  True  True False  True  True  True  True  True\n",
      "  True  True]\n"
     ]
    }
   ],
   "source": [
    "# 先检查一下有没有列不同的\n",
    "print(df08new.columns == df18new.columns)\n",
    "# 输出是个boolean的列表，比较直观"
   ]
  },
  {
   "cell_type": "code",
   "execution_count": 533,
   "metadata": {},
   "outputs": [
    {
     "data": {
      "text/plain": [
       "Index(['model', 'displ', 'cyl', 'trans', 'drive', 'fuel', 'sales_area',\n",
       "       'veh_class', 'air_pollution_score', 'city_mpg', 'hwy_mpg', 'cmb_mpg',\n",
       "       'greenhouse_gas_score', 'smartway'],\n",
       "      dtype='object')"
      ]
     },
     "execution_count": 533,
     "metadata": {},
     "output_type": "execute_result"
    }
   ],
   "source": [
    "# 先转换列标题（万恶的空格）\n",
    "\n",
    "# 注意：先转换格式再替换\n",
    "# 可以消除代码执行顺序可能带来的坑\n",
    "# 因为先辨准化了，所以就不用考虑替换的是之前的列名还是转换之后的列名了\n",
    "\n",
    "# 还有就是把列中的空格替换成下滑线\n",
    "# 因为很多处理要对空格判断，不要有比较好\n",
    "# 全部变为小写是习惯，了解一下吧\n",
    "df08new.rename(columns=lambda x:\n",
    "             x.strip().lower().replace(\" \", \"_\"),\n",
    "             inplace=True)\n",
    "# .strip是去除单词首尾的空格\n",
    "# .lower是变为小写\n",
    "# .replace是把小括弧里的做替换\n",
    "df08new.columns"
   ]
  },
  {
   "cell_type": "code",
   "execution_count": 534,
   "metadata": {},
   "outputs": [
    {
     "data": {
      "text/plain": [
       "Index(['model', 'displ', 'cyl', 'trans', 'drive', 'fuel', 'cert_region',\n",
       "       'veh_class', 'air_pollution_score', 'city_mpg', 'hwy_mpg', 'cmb_mpg',\n",
       "       'greenhouse_gas_score', 'smartway'],\n",
       "      dtype='object')"
      ]
     },
     "execution_count": 534,
     "metadata": {},
     "output_type": "execute_result"
    }
   ],
   "source": [
    "# df18 也做一遍，再检查列是否一致\n",
    "df18new.rename(columns=lambda x:\n",
    "             x.strip().lower().replace(\" \", \"_\"),\n",
    "             inplace=True)\n",
    "df18new.columns"
   ]
  },
  {
   "cell_type": "code",
   "execution_count": 535,
   "metadata": {},
   "outputs": [
    {
     "data": {
      "text/plain": [
       "array([ True,  True,  True,  True,  True,  True, False,  True,  True,\n",
       "        True,  True,  True,  True,  True])"
      ]
     },
     "execution_count": 535,
     "metadata": {},
     "output_type": "execute_result"
    }
   ],
   "source": [
    "# 检查列是否一致\n",
    "df08new.columns == df18new.columns"
   ]
  },
  {
   "cell_type": "code",
   "execution_count": 536,
   "metadata": {},
   "outputs": [
    {
     "name": "stdout",
     "output_type": "stream",
     "text": [
      "sales_area\n",
      "cert_region\n"
     ]
    }
   ],
   "source": [
    "# 把08列的独特名字得出来\n",
    "for i in df08new.columns:\n",
    "    if i not in df18new.columns:\n",
    "        print(i)\n",
    "\n",
    "# 把18列的独特名字得出来\n",
    "for i in df18new.columns:\n",
    "    if i not in df08new.columns:\n",
    "        print(i)\n",
    "        \n",
    "# 如果是第二次执行，因为已经替换了，所以不会有输出"
   ]
  },
  {
   "cell_type": "code",
   "execution_count": 537,
   "metadata": {},
   "outputs": [],
   "source": [
    "# 根据上面输出进行替换\n",
    "\n",
    "# 将08的替换为18的\n",
    "df08new.rename(columns = \n",
    "            lambda x: x.replace('sales_area', 'cert_region'), \n",
    "            inplace = True)\n",
    "# 这里使用的是lambda x:\n",
    "# 就是对columns执行后面的操作 x.replace\n",
    "# 而x.replace的操作是把后面小括弧中的前面替换成后面\n"
   ]
  },
  {
   "cell_type": "code",
   "execution_count": 538,
   "metadata": {},
   "outputs": [
    {
     "data": {
      "text/plain": [
       "Index(['model', 'displ', 'cyl', 'trans', 'drive', 'fuel', 'cert_region',\n",
       "       'veh_class', 'air_pollution_score', 'city_mpg', 'hwy_mpg', 'cmb_mpg',\n",
       "       'greenhouse_gas_score', 'smartway'],\n",
       "      dtype='object')"
      ]
     },
     "execution_count": 538,
     "metadata": {},
     "output_type": "execute_result"
    }
   ],
   "source": [
    "# 检查下，已经修改过来了\n",
    "df08new.columns"
   ]
  },
  {
   "cell_type": "code",
   "execution_count": 539,
   "metadata": {},
   "outputs": [
    {
     "data": {
      "text/plain": [
       "True"
      ]
     },
     "execution_count": 539,
     "metadata": {},
     "output_type": "execute_result"
    }
   ],
   "source": [
    "# 也可以用这个，比较安静的，因为加了.all()所以只会出一个True或者False\n",
    "# 前面的小括弧是.all的输入\n",
    "(df08new.columns == df18new.columns).all()"
   ]
  },
  {
   "cell_type": "code",
   "execution_count": 540,
   "metadata": {},
   "outputs": [],
   "source": [
    "# 保存数据\n",
    "df08new.to_csv('data_08a.csv', index=False)\n",
    "df18new.to_csv('data_18a.csv', index=False)\n",
    "# 保存第一版csv数据（按照a,b,c命名）"
   ]
  },
  {
   "cell_type": "markdown",
   "metadata": {},
   "source": [
    "# /7过滤、丢空、去重/ 过滤、丢弃空值、重复数据删除\n",
    "使用 data_08.csv 和 data_18.csv"
   ]
  },
  {
   "cell_type": "code",
   "execution_count": 541,
   "metadata": {},
   "outputs": [],
   "source": [
    "# 接上节，读入两个数据\n",
    "df08a = pd.read_csv('data_08a.csv')\n",
    "df18a = pd.read_csv('data_18a.csv')"
   ]
  },
  {
   "cell_type": "code",
   "execution_count": 542,
   "metadata": {},
   "outputs": [
    {
     "name": "stdout",
     "output_type": "stream",
     "text": [
      "---------start filtering on CA----------\n",
      "before cleanning: (2648, 14)\n",
      "after cleaning: (1307, 13) \n",
      "\n",
      "<bound method DataFrame.info of                                     model  displ   cyl        trans drive  \\\n",
      "0                               ACURA ILX    2.4   4.0        AMS-8   2WD   \n",
      "2                               ACURA MDX    3.0   6.0        AMS-7   4WD   \n",
      "4                               ACURA MDX    3.5   6.0   SemiAuto-9   2WD   \n",
      "5                               ACURA MDX    3.5   6.0   SemiAuto-9   2WD   \n",
      "8                               ACURA MDX    3.5   6.0   SemiAuto-9   4WD   \n",
      "9                               ACURA MDX    3.5   6.0   SemiAuto-9   4WD   \n",
      "12                              ACURA NSX    3.5   6.0        AMS-9   4WD   \n",
      "15                              ACURA RDX    3.5   6.0   SemiAuto-6   2WD   \n",
      "17                              ACURA RDX    3.5   6.0   SemiAuto-6   4WD   \n",
      "18                              ACURA RLX    3.5   6.0        AMS-7   4WD   \n",
      "20                              ACURA RLX    3.5   6.0  SemiAuto-10   2WD   \n",
      "22                              ACURA TLX    2.4   4.0        AMS-8   2WD   \n",
      "24                              ACURA TLX    3.5   6.0   SemiAuto-9   2WD   \n",
      "26                              ACURA TLX    3.5   6.0   SemiAuto-9   4WD   \n",
      "28                   ACURA TLX AWD A-SPEC    3.5   6.0   SemiAuto-9   4WD   \n",
      "30                   ACURA TLX FWD A-SPEC    3.5   6.0   SemiAuto-9   2WD   \n",
      "32                          ALFA ROMEO 4C    1.8   4.0    AutoMan-6   2WD   \n",
      "35                      ALFA ROMEO Giulia    2.9   6.0       Auto-8   2WD   \n",
      "36                      ALFA ROMEO Giulia    2.9   6.0       Auto-8   2WD   \n",
      "40                 ALFA ROMEO Stelvio AWD    2.9   6.0       Auto-8   4WD   \n",
      "41                 ALFA ROMEO Stelvio AWD    2.9   6.0       Auto-8   4WD   \n",
      "44                  ASTON MARTIN Rapide S    6.0  12.0   SemiAuto-8   2WD   \n",
      "46    ASTON MARTIN Vanquish, S and Zagato    6.0  12.0   SemiAuto-8   2WD   \n",
      "47                                AUDI A3    2.0   4.0        AMS-6   4WD   \n",
      "49                                AUDI A3    2.0   4.0        AMS-7   2WD   \n",
      "51                      AUDI A3 Cabriolet    2.0   4.0        AMS-6   4WD   \n",
      "53                      AUDI A3 Cabriolet    2.0   4.0        AMS-7   2WD   \n",
      "55                         AUDI A3 e-tron    1.4   4.0        AMS-6   2WD   \n",
      "57                                AUDI A4    2.0   4.0        AMS-7   4WD   \n",
      "59                                AUDI A4    2.0   4.0        Man-6   4WD   \n",
      "...                                   ...    ...   ...          ...   ...   \n",
      "2588                  VOLVO Atlas 4Motion    3.6   6.0   SemiAuto-8   4WD   \n",
      "2590                            VOLVO S60    2.0   4.0   SemiAuto-8   2WD   \n",
      "2592                            VOLVO S60    2.0   4.0   SemiAuto-8   4WD   \n",
      "2593                            VOLVO S60    2.0   4.0   SemiAuto-8   4WD   \n",
      "2596                         VOLVO S60 CC    2.0   4.0   SemiAuto-8   4WD   \n",
      "2598                VOLVO S60 Inscription    2.0   4.0   SemiAuto-8   2WD   \n",
      "2600                VOLVO S60 Inscription    2.0   4.0   SemiAuto-8   4WD   \n",
      "2602                   VOLVO S60 Polestar    2.0   4.0   SemiAuto-8   4WD   \n",
      "2604                            VOLVO S90    2.0   4.0   SemiAuto-8   2WD   \n",
      "2606                            VOLVO S90    2.0   4.0   SemiAuto-8   4WD   \n",
      "2607                            VOLVO S90    2.0   4.0   SemiAuto-8   4WD   \n",
      "2610                            VOLVO S90    2.0   4.0   SemiAuto-8   4WD   \n",
      "2612                            VOLVO S90    2.0   4.0   SemiAuto-8   4WD   \n",
      "2614                            VOLVO S90    2.0   4.0   SemiAuto-8   4WD   \n",
      "2616                            VOLVO V60    2.0   4.0   SemiAuto-8   2WD   \n",
      "2618                            VOLVO V60    2.0   4.0   SemiAuto-8   4WD   \n",
      "2619                            VOLVO V60    2.0   4.0   SemiAuto-8   4WD   \n",
      "2622                         VOLVO V60 CC    2.0   4.0   SemiAuto-8   4WD   \n",
      "2624                   VOLVO V60 Polestar    2.0   4.0   SemiAuto-8   4WD   \n",
      "2626                            VOLVO V90    2.0   4.0   SemiAuto-8   2WD   \n",
      "2628                            VOLVO V90    2.0   4.0   SemiAuto-8   4WD   \n",
      "2630                         VOLVO V90 CC    2.0   4.0   SemiAuto-8   4WD   \n",
      "2632                         VOLVO V90 CC    2.0   4.0   SemiAuto-8   4WD   \n",
      "2634                          VOLVO XC 60    2.0   4.0   SemiAuto-8   4WD   \n",
      "2636                          VOLVO XC 60    2.0   4.0   SemiAuto-8   4WD   \n",
      "2638                          VOLVO XC 60    2.0   4.0   SemiAuto-8   4WD   \n",
      "2640                          VOLVO XC 90    2.0   4.0   SemiAuto-8   2WD   \n",
      "2642                          VOLVO XC 90    2.0   4.0   SemiAuto-8   4WD   \n",
      "2644                          VOLVO XC 90    2.0   4.0   SemiAuto-8   4WD   \n",
      "2646                          VOLVO XC 90    2.0   4.0   SemiAuto-8   4WD   \n",
      "\n",
      "                      fuel      veh_class  air_pollution_score city_mpg  \\\n",
      "0                 Gasoline      small car                    3       25   \n",
      "2                 Gasoline      small SUV                    3       26   \n",
      "4                 Gasoline      small SUV                    3       19   \n",
      "5                 Gasoline      small SUV                    3       20   \n",
      "8                 Gasoline      small SUV                    3       18   \n",
      "9                 Gasoline      small SUV                    3       19   \n",
      "12                Gasoline      small car                    3       21   \n",
      "15                Gasoline      small SUV                    3       20   \n",
      "17                Gasoline      small SUV                    3       19   \n",
      "18                Gasoline    midsize car                    7       28   \n",
      "20                Gasoline    midsize car                    3       20   \n",
      "22                Gasoline      small car                    3       23   \n",
      "24                Gasoline      small car                    3       20   \n",
      "26                Gasoline      small car                    3       21   \n",
      "28                Gasoline      small car                    3       20   \n",
      "30                Gasoline      small car                    3       20   \n",
      "32                Gasoline      small car                    1       24   \n",
      "35                Gasoline    midsize car                    3       17   \n",
      "36                Gasoline    midsize car                    3       17   \n",
      "40                Gasoline      small SUV                    3       17   \n",
      "41                Gasoline      small SUV                    3       17   \n",
      "44                Gasoline      small car                    3       14   \n",
      "46                Gasoline      small car                    3       13   \n",
      "47                Gasoline      small car                    7       24   \n",
      "49                Gasoline      small car                    7       26   \n",
      "51                Gasoline      small car                    7       22   \n",
      "53                Gasoline      small car                    7       25   \n",
      "55    Gasoline/Electricity      small car                    7    34/81   \n",
      "57                Gasoline      small car                    5       24   \n",
      "59                Gasoline      small car                    3       24   \n",
      "...                    ...            ...                  ...      ...   \n",
      "2588              Gasoline      small SUV                    5       17   \n",
      "2590              Gasoline      small car                    7       25   \n",
      "2592              Gasoline      small car                    3       22   \n",
      "2593              Gasoline      small car                    3       22   \n",
      "2596              Gasoline      small car                    3       22   \n",
      "2598              Gasoline      small car                    3       25   \n",
      "2600              Gasoline      small car                    3       22   \n",
      "2602              Gasoline      small car                    1       20   \n",
      "2604              Gasoline    midsize car                    3       24   \n",
      "2606              Gasoline    midsize car                    3       22   \n",
      "2607              Gasoline    midsize car                    3       23   \n",
      "2610              Gasoline    midsize car                    5       23   \n",
      "2612              Gasoline    midsize car                    5       22   \n",
      "2614  Gasoline/Electricity    midsize car                    7    26/70   \n",
      "2616              Gasoline  station wagon                    3       25   \n",
      "2618              Gasoline  station wagon                    3       22   \n",
      "2619              Gasoline  station wagon                    3       22   \n",
      "2622              Gasoline  station wagon                    3       22   \n",
      "2624              Gasoline  station wagon                    1       20   \n",
      "2626              Gasoline  station wagon                    5       24   \n",
      "2628              Gasoline  station wagon                    5       22   \n",
      "2630              Gasoline  station wagon                    5       23   \n",
      "2632              Gasoline  station wagon                    5       22   \n",
      "2634              Gasoline      small SUV                    5       22   \n",
      "2636              Gasoline      small SUV                    5       21   \n",
      "2638  Gasoline/Electricity      small SUV                    7    26/60   \n",
      "2640              Gasoline   standard SUV                    5       22   \n",
      "2642              Gasoline   standard SUV                    5       22   \n",
      "2644              Gasoline   standard SUV                    5       20   \n",
      "2646  Gasoline/Electricity   standard SUV                    7    26/63   \n",
      "\n",
      "     hwy_mpg cmb_mpg  greenhouse_gas_score smartway  \n",
      "0         35      29                     6       No  \n",
      "2         27      27                     6       No  \n",
      "4         27      22                     4       No  \n",
      "5         27      23                     5       No  \n",
      "8         26      21                     4       No  \n",
      "9         26      22                     4       No  \n",
      "12        22      21                     4       No  \n",
      "15        28      23                     5       No  \n",
      "17        27      22                     4       No  \n",
      "18        29      28                     6       No  \n",
      "20        29      23                     5       No  \n",
      "22        33      27                     6       No  \n",
      "24        32      24                     5       No  \n",
      "26        30      24                     5       No  \n",
      "28        29      23                     5       No  \n",
      "30        30      23                     5       No  \n",
      "32        34      28                     6       No  \n",
      "35        24      20                     4       No  \n",
      "36        24      20                     4       No  \n",
      "40        23      19                     3       No  \n",
      "41        23      19                     3       No  \n",
      "44        21      17                     3       No  \n",
      "46        21      16                     2       No  \n",
      "47        31      27                     6       No  \n",
      "49        35      29                     6       No  \n",
      "51        30      25                     5       No  \n",
      "53        33      28                     6       No  \n",
      "55     39/86   36/83                    10    Elite  \n",
      "57        34      27                     6       No  \n",
      "59        33      27                     6       No  \n",
      "...      ...     ...                   ...      ...  \n",
      "2588      23      19                     3       No  \n",
      "2590      36      29                     6       No  \n",
      "2592      32      26                     5       No  \n",
      "2593      33      26                     5       No  \n",
      "2596      30      25                     5       No  \n",
      "2598      36      29                     6       No  \n",
      "2600      33      26                     5       No  \n",
      "2602      27      22                     4       No  \n",
      "2604      34      27                     6       No  \n",
      "2606      31      25                     5       No  \n",
      "2607      32      26                     5       No  \n",
      "2610      32      26                     5       No  \n",
      "2612      31      25                     5       No  \n",
      "2614   33/72   29/71                    10    Elite  \n",
      "2616      36      29                     6       No  \n",
      "2618      32      26                     5       No  \n",
      "2619      33      26                     5       No  \n",
      "2622      30      25                     5       No  \n",
      "2624      27      22                     4       No  \n",
      "2626      34      27                     6       No  \n",
      "2628      31      25                     5       No  \n",
      "2630      31      26                     5       No  \n",
      "2632      29      25                     5       No  \n",
      "2634      28      24                     5       No  \n",
      "2636      27      23                     5       No  \n",
      "2638   28/58   26/59                    10    Elite  \n",
      "2640      29      25                     5       No  \n",
      "2642      28      24                     5       No  \n",
      "2644      27      23                     5       No  \n",
      "2646   30/61   27/62                    10    Elite  \n",
      "\n",
      "[1307 rows x 13 columns]>\n",
      "---------start filtering on CA----------\n",
      "before cleanning: (2404, 14)\n",
      "after cleaning: (1084, 13) \n",
      "\n",
      "<bound method DataFrame.info of                          model  displ       cyl    trans drive      fuel  \\\n",
      "0                    ACURA MDX    3.7   (6 cyl)  Auto-S5   4WD  Gasoline   \n",
      "2                    ACURA RDX    2.3   (4 cyl)  Auto-S5   4WD  Gasoline   \n",
      "4                     ACURA RL    3.5   (6 cyl)  Auto-S5   4WD  Gasoline   \n",
      "6                     ACURA TL    3.2   (6 cyl)  Auto-S5   2WD  Gasoline   \n",
      "7                     ACURA TL    3.5   (6 cyl)  Auto-S5   2WD  Gasoline   \n",
      "8                     ACURA TL    3.5   (6 cyl)    Man-6   2WD  Gasoline   \n",
      "14                   ACURA TSX    2.4   (4 cyl)    Man-6   2WD  Gasoline   \n",
      "15                   ACURA TSX    2.4   (4 cyl)  Auto-S5   2WD  Gasoline   \n",
      "18            ASTON MARTIN DB9    5.9  (12 cyl)    Man-6   2WD  Gasoline   \n",
      "19            ASTON MARTIN DB9    5.9  (12 cyl)  Auto-S6   2WD  Gasoline   \n",
      "22    ASTON MARTIN DB9 Volante    5.9  (12 cyl)    Man-6   2WD  Gasoline   \n",
      "23    ASTON MARTIN DB9 Volante    5.9  (12 cyl)  Auto-S6   2WD  Gasoline   \n",
      "26     ASTON MARTIN V8 Vantage    4.3   (8 cyl)    Man-6   2WD  Gasoline   \n",
      "27     ASTON MARTIN V8 Vantage    4.3   (8 cyl)  Auto-S6   2WD  Gasoline   \n",
      "28                     AUDI A3    2.0   (4 cyl)    Man-6   2WD  Gasoline   \n",
      "29                     AUDI A3    2.0   (4 cyl)  Auto-S6   2WD  Gasoline   \n",
      "33                     AUDI A3    3.2   (6 cyl)  Auto-S6   4WD  Gasoline   \n",
      "34                     AUDI A4    2.0   (4 cyl)  Auto-AV   2WD  Gasoline   \n",
      "39                     AUDI A4    3.1   (6 cyl)    Man-6   4WD  Gasoline   \n",
      "40                     AUDI A4    3.1   (6 cyl)  Auto-S6   4WD  Gasoline   \n",
      "41                     AUDI A4    3.1   (6 cyl)  Auto-AV   2WD  Gasoline   \n",
      "44               AUDI A4 Avant    3.1   (6 cyl)    Man-6   4WD  Gasoline   \n",
      "45               AUDI A4 Avant    3.1   (6 cyl)  Auto-S6   4WD  Gasoline   \n",
      "47           AUDI A4 Cabriolet    3.1   (6 cyl)  Auto-S6   4WD  Gasoline   \n",
      "50                     AUDI A6    3.1   (6 cyl)  Auto-S6   4WD  Gasoline   \n",
      "51                     AUDI A6    3.1   (6 cyl)  Auto-AV   2WD  Gasoline   \n",
      "53                     AUDI A6    4.2   (8 cyl)  Auto-S6   4WD  Gasoline   \n",
      "55               AUDI A6 Avant    3.1   (6 cyl)  Auto-S6   4WD  Gasoline   \n",
      "57                     AUDI A8    4.2   (8 cyl)  Auto-S6   4WD  Gasoline   \n",
      "59                   AUDI A8 L    4.2   (8 cyl)  Auto-S6   4WD  Gasoline   \n",
      "...                        ...    ...       ...      ...   ...       ...   \n",
      "2345     VOLVO C70 Convertible    2.5   (5 cyl)    Man-6   2WD  Gasoline   \n",
      "2348                 VOLVO S40    2.4   (5 cyl)  Auto-S5   2WD  Gasoline   \n",
      "2349                 VOLVO S40    2.4   (5 cyl)  Auto-S5   2WD  Gasoline   \n",
      "2350                 VOLVO S40    2.4   (5 cyl)    Man-5   2WD  Gasoline   \n",
      "2351                 VOLVO S40    2.5   (5 cyl)    Man-6   4WD  Gasoline   \n",
      "2352                 VOLVO S40    2.5   (5 cyl)  Auto-S5   4WD  Gasoline   \n",
      "2353                 VOLVO S40    2.5   (5 cyl)  Auto-S5   2WD  Gasoline   \n",
      "2354                 VOLVO S40    2.5   (5 cyl)    Man-6   2WD  Gasoline   \n",
      "2361                 VOLVO S60    2.5   (5 cyl)  Auto-L5   4WD  Gasoline   \n",
      "2362                 VOLVO S60    2.5   (5 cyl)  Auto-S5   4WD  Gasoline   \n",
      "2363                 VOLVO S60    2.5   (5 cyl)  Auto-L5   2WD  Gasoline   \n",
      "2364                 VOLVO S60    2.5   (5 cyl)  Auto-S5   2WD  Gasoline   \n",
      "2367                 VOLVO S60    2.4   (5 cyl)  Auto-S5   2WD  Gasoline   \n",
      "2368                 VOLVO S60    2.4   (5 cyl)    Man-6   2WD  Gasoline   \n",
      "2373                 VOLVO S80    3.0   (6 cyl)  Auto-S6   4WD  Gasoline   \n",
      "2374                 VOLVO S80    3.2   (6 cyl)  Auto-S6   2WD  Gasoline   \n",
      "2375                 VOLVO S80    3.2   (6 cyl)  Auto-S6   4WD  Gasoline   \n",
      "2376                 VOLVO S80    4.4   (8 cyl)  Auto-S6   4WD  Gasoline   \n",
      "2381                 VOLVO V50    2.4   (5 cyl)  Auto-S5   2WD  Gasoline   \n",
      "2382                 VOLVO V50    2.4   (5 cyl)  Auto-S5   2WD  Gasoline   \n",
      "2383                 VOLVO V50    2.4   (5 cyl)    Man-5   2WD  Gasoline   \n",
      "2384                 VOLVO V50    2.5   (5 cyl)    Man-6   4WD  Gasoline   \n",
      "2385                 VOLVO V50    2.5   (5 cyl)  Auto-S5   4WD  Gasoline   \n",
      "2386                 VOLVO V50    2.5   (5 cyl)  Auto-S5   2WD  Gasoline   \n",
      "2387                 VOLVO V50    2.5   (5 cyl)    Man-6   2WD  Gasoline   \n",
      "2394                 VOLVO V70    3.2   (6 cyl)  Auto-S6   2WD  Gasoline   \n",
      "2396               VOLVO XC 70    3.2   (6 cyl)  Auto-S6   4WD  Gasoline   \n",
      "2398               VOLVO XC 90    3.2   (6 cyl)  Auto-S6   2WD  Gasoline   \n",
      "2399               VOLVO XC 90    3.2   (6 cyl)  Auto-S6   4WD  Gasoline   \n",
      "2400               VOLVO XC 90    4.4   (8 cyl)  Auto-S6   4WD  Gasoline   \n",
      "\n",
      "          veh_class air_pollution_score city_mpg hwy_mpg cmb_mpg  \\\n",
      "0               SUV                   7       15      20      17   \n",
      "2               SUV                   7       17      22      19   \n",
      "4       midsize car                   7       16      24      19   \n",
      "6       midsize car                   7       18      26      21   \n",
      "7       midsize car                   7       17      26      20   \n",
      "8       midsize car                   7       18      27      21   \n",
      "14        small car                   6       19      28      22   \n",
      "15        small car                   6       20      28      23   \n",
      "18        small car                   6       10      16      12   \n",
      "19        small car                   6       11      18      13   \n",
      "22        small car                   6       10      16      12   \n",
      "23        small car                   6       11      17      13   \n",
      "26        small car                   6       12      19      15   \n",
      "27        small car                   6       13      20      15   \n",
      "28    station wagon                   7       21      29      24   \n",
      "29    station wagon                   7       22      29      25   \n",
      "33    station wagon                   6       18      25      21   \n",
      "34        small car                   7       21      30      24   \n",
      "39        small car                   6       15      25      19   \n",
      "40        small car                   6       17      25      20   \n",
      "41        small car                   6       18      27      21   \n",
      "44    station wagon                   6       15      25      19   \n",
      "45    station wagon                   6       17      25      20   \n",
      "47        small car                   6       17      25      20   \n",
      "50      midsize car                   6       17      25      20   \n",
      "51      midsize car                   6       18      27      21   \n",
      "53      midsize car                   6       16      23      18   \n",
      "55    station wagon                   6       17      25      20   \n",
      "57      midsize car                   6       16      23      18   \n",
      "59        large car                   6       16      23      18   \n",
      "...             ...                 ...      ...     ...     ...   \n",
      "2345      small car                   7       18      27      21   \n",
      "2348      small car                 9.5       20      28      23   \n",
      "2349      small car                   7       20      28      23   \n",
      "2350      small car                   7       20      28      23   \n",
      "2351      small car                   7       17      25      20   \n",
      "2352      small car                   7       18      26      21   \n",
      "2353      small car                   7       19      27      22   \n",
      "2354      small car                   7       19      28      23   \n",
      "2361      small car                   7       17      26      21   \n",
      "2362      small car                   7       18      26      21   \n",
      "2363      small car                   7       19      27      22   \n",
      "2364      small car                   7       19      27      22   \n",
      "2367      small car                   6       18      26      21   \n",
      "2368      small car                   6       18      26      21   \n",
      "2373    midsize car                   7       15      23      18   \n",
      "2374    midsize car                   7       16      24      19   \n",
      "2375    midsize car                   7       16      24      19   \n",
      "2376    midsize car                   7       15      23      18   \n",
      "2381  station wagon                 9.5       20      28      23   \n",
      "2382  station wagon                   7       20      28      23   \n",
      "2383  station wagon                   7       20      28      23   \n",
      "2384  station wagon                   7       17      25      20   \n",
      "2385  station wagon                   7       18      26      21   \n",
      "2386  station wagon                   7       19      27      22   \n",
      "2387  station wagon                   7       19      28      23   \n",
      "2394  station wagon                   7       16      24      19   \n",
      "2396            SUV                   7       15      22      17   \n",
      "2398            SUV                   7       14      20      16   \n",
      "2399            SUV                   7       14      20      16   \n",
      "2400            SUV                   7       13      19      15   \n",
      "\n",
      "     greenhouse_gas_score smartway  \n",
      "0                       4       no  \n",
      "2                       5       no  \n",
      "4                       5       no  \n",
      "6                       6      yes  \n",
      "7                       6      yes  \n",
      "8                       6      yes  \n",
      "14                      6       no  \n",
      "15                      7      yes  \n",
      "18                      0       no  \n",
      "19                      1       no  \n",
      "22                      0       no  \n",
      "23                      1       no  \n",
      "26                      3       no  \n",
      "27                      3       no  \n",
      "28                      7      yes  \n",
      "29                      7      yes  \n",
      "33                      6       no  \n",
      "34                      7      yes  \n",
      "39                      5       no  \n",
      "40                      6       no  \n",
      "41                      6       no  \n",
      "44                      5       no  \n",
      "45                      6       no  \n",
      "47                      6       no  \n",
      "50                      6       no  \n",
      "51                      6       no  \n",
      "53                      5       no  \n",
      "55                      6       no  \n",
      "57                      5       no  \n",
      "59                      5       no  \n",
      "...                   ...      ...  \n",
      "2345                    6      yes  \n",
      "2348                    7      yes  \n",
      "2349                    7      yes  \n",
      "2350                    7      yes  \n",
      "2351                    6      yes  \n",
      "2352                    6      yes  \n",
      "2353                    6      yes  \n",
      "2354                    7      yes  \n",
      "2361                    6      yes  \n",
      "2362                    6      yes  \n",
      "2363                    6      yes  \n",
      "2364                    6      yes  \n",
      "2367                    6       no  \n",
      "2368                    6       no  \n",
      "2373                    5       no  \n",
      "2374                    5       no  \n",
      "2375                    5       no  \n",
      "2376                    5       no  \n",
      "2381                    7      yes  \n",
      "2382                    7      yes  \n",
      "2383                    7      yes  \n",
      "2384                    6      yes  \n",
      "2385                    6      yes  \n",
      "2386                    6      yes  \n",
      "2387                    7      yes  \n",
      "2394                    5       no  \n",
      "2396                    4       no  \n",
      "2398                    4       no  \n",
      "2399                    4       no  \n",
      "2400                    3       no  \n",
      "\n",
      "[1084 rows x 13 columns]>\n"
     ]
    }
   ],
   "source": [
    "# 按认证区域过滤09\n",
    "def cleancol(df, region):\n",
    "    print('start filtering on {}'.format(region).center(40,'-'))\n",
    "    # 使用center优化显示\n",
    "    \n",
    "    print('before cleanning:', df.shape)\n",
    "    df = df.query('cert_region == @region')\n",
    "    # 注意这里因为比较的是变量，所以前面要加@\n",
    "    \n",
    "    df.drop(['cert_region'],axis=1,inplace=True)\n",
    "    # 清理完成后 cert_region 这列就没用了，清理掉\n",
    "    print('after cleaning: {} \\n'.format(df.shape))\n",
    "    pprint(df.info)\n",
    "    return df\n",
    "\n",
    "\n",
    "df18a = cleancol(df18a, 'CA')\n",
    "df08a = cleancol(df08a, 'CA')\n",
    "# 此cell如果执行多遍会有问题因为已经drop了cert_region\n",
    "# 少年，要不要使用try/except优化试试看？"
   ]
  },
  {
   "cell_type": "code",
   "execution_count": 543,
   "metadata": {},
   "outputs": [
    {
     "data": {
      "text/plain": [
       "(1307, 13)"
      ]
     },
     "execution_count": 543,
     "metadata": {},
     "output_type": "execute_result"
    }
   ],
   "source": [
    "df18a.shape"
   ]
  },
  {
   "cell_type": "code",
   "execution_count": 544,
   "metadata": {},
   "outputs": [
    {
     "data": {
      "text/plain": [
       "(1084, 13)"
      ]
     },
     "execution_count": 544,
     "metadata": {},
     "output_type": "execute_result"
    }
   ],
   "source": [
    "df08a.shape"
   ]
  },
  {
   "cell_type": "code",
   "execution_count": 545,
   "metadata": {},
   "outputs": [
    {
     "name": "stdout",
     "output_type": "stream",
     "text": [
      "model                    0\n",
      "displ                    0\n",
      "cyl                     75\n",
      "trans                   75\n",
      "drive                   37\n",
      "fuel                     0\n",
      "veh_class                0\n",
      "air_pollution_score      0\n",
      "city_mpg                75\n",
      "hwy_mpg                 75\n",
      "cmb_mpg                 75\n",
      "greenhouse_gas_score    75\n",
      "smartway                 0\n",
      "dtype: int64\n"
     ]
    },
    {
     "data": {
      "text/plain": [
       "model                   0\n",
       "displ                   0\n",
       "cyl                     0\n",
       "trans                   0\n",
       "drive                   0\n",
       "fuel                    0\n",
       "veh_class               0\n",
       "air_pollution_score     0\n",
       "city_mpg                0\n",
       "hwy_mpg                 0\n",
       "cmb_mpg                 0\n",
       "greenhouse_gas_score    0\n",
       "smartway                0\n",
       "dtype: int64"
      ]
     },
     "execution_count": 545,
     "metadata": {},
     "output_type": "execute_result"
    }
   ],
   "source": [
    "# 丢弃含有缺失值的行\n",
    "# 检查下缺失值\n",
    "print(df08a.isnull().sum())\n",
    "# 丢弃有缺失的\n",
    "df08a.dropna(inplace = True)\n",
    "df08a.isnull().sum()"
   ]
  },
  {
   "cell_type": "code",
   "execution_count": 546,
   "metadata": {},
   "outputs": [
    {
     "name": "stdout",
     "output_type": "stream",
     "text": [
      "model                    0\n",
      "displ                   15\n",
      "cyl                     15\n",
      "trans                    0\n",
      "drive                    0\n",
      "fuel                     0\n",
      "veh_class                0\n",
      "air_pollution_score      0\n",
      "city_mpg                 0\n",
      "hwy_mpg                  0\n",
      "cmb_mpg                  0\n",
      "greenhouse_gas_score     0\n",
      "smartway                 0\n",
      "dtype: int64\n"
     ]
    },
    {
     "data": {
      "text/plain": [
       "model                   0\n",
       "displ                   0\n",
       "cyl                     0\n",
       "trans                   0\n",
       "drive                   0\n",
       "fuel                    0\n",
       "veh_class               0\n",
       "air_pollution_score     0\n",
       "city_mpg                0\n",
       "hwy_mpg                 0\n",
       "cmb_mpg                 0\n",
       "greenhouse_gas_score    0\n",
       "smartway                0\n",
       "dtype: int64"
      ]
     },
     "execution_count": 546,
     "metadata": {},
     "output_type": "execute_result"
    }
   ],
   "source": [
    "print(df18a.isnull().sum())\n",
    "df18a.dropna(inplace = True)\n",
    "df18a.isnull().sum()"
   ]
  },
  {
   "cell_type": "code",
   "execution_count": 547,
   "metadata": {},
   "outputs": [
    {
     "data": {
      "text/plain": [
       "True"
      ]
     },
     "execution_count": 547,
     "metadata": {},
     "output_type": "execute_result"
    }
   ],
   "source": [
    "# double check 一下\n",
    "# 使用.all 或者 .any可以指定在all的情况下河any的情况下做汇总\n",
    "# notnull any 就是说是不是任意一行都没有空值\n",
    "df08a.notnull().sum().any()"
   ]
  },
  {
   "cell_type": "code",
   "execution_count": 548,
   "metadata": {},
   "outputs": [
    {
     "data": {
      "text/plain": [
       "True"
      ]
     },
     "execution_count": 548,
     "metadata": {},
     "output_type": "execute_result"
    }
   ],
   "source": [
    "# 和isnull any 的结果相反就对了\n",
    "# 后者表示有任何的值是空的么？\n",
    "df18a.notnull().sum().any()"
   ]
  },
  {
   "cell_type": "code",
   "execution_count": 549,
   "metadata": {},
   "outputs": [
    {
     "name": "stdout",
     "output_type": "stream",
     "text": [
      "23\n",
      "0\n"
     ]
    }
   ],
   "source": [
    "# 重复数据删除\n",
    "print(df08a.duplicated().sum())\n",
    "df08a.drop_duplicates(inplace = True)\n",
    "print(df08a.duplicated().sum())"
   ]
  },
  {
   "cell_type": "code",
   "execution_count": 550,
   "metadata": {},
   "outputs": [
    {
     "name": "stdout",
     "output_type": "stream",
     "text": [
      "10\n",
      "0\n"
     ]
    }
   ],
   "source": [
    "print(df18a.duplicated().sum())\n",
    "df18a.drop_duplicates(inplace = True)\n",
    "print(df18a.duplicated().sum())"
   ]
  },
  {
   "cell_type": "code",
   "execution_count": 551,
   "metadata": {},
   "outputs": [],
   "source": [
    "# 保存进度，以便下一段使用\n",
    "df08a.to_csv('data_08b.csv', index=False)\n",
    "df18a.to_csv('data_18b.csv', index=False)\n",
    "# 建议使用不同的文件名，等都完成后再调优，避免覆盖文件带来的麻烦\n",
    "# 08b 和 18b 的 b 是beta的意思，这里从原始数据得到了第一个csv文件"
   ]
  },
  {
   "cell_type": "markdown",
   "metadata": {},
   "source": [
    "# /8检查数据类型/ Inspecting Data Types\n",
    "Use the space below to explore data_08.csv and data_18.csv to answer the quiz questions below regarding datatypes."
   ]
  },
  {
   "cell_type": "code",
   "execution_count": 602,
   "metadata": {},
   "outputs": [
    {
     "name": "stdout",
     "output_type": "stream",
     "text": [
      "--------inspecting data_08b.csv---------\n",
      "       model  displ      cyl    trans drive      fuel    veh_class  \\\n",
      "0  ACURA MDX    3.7  (6 cyl)  Auto-S5   4WD  Gasoline          SUV   \n",
      "1  ACURA RDX    2.3  (4 cyl)  Auto-S5   4WD  Gasoline          SUV   \n",
      "2   ACURA RL    3.5  (6 cyl)  Auto-S5   4WD  Gasoline  midsize car   \n",
      "3   ACURA TL    3.2  (6 cyl)  Auto-S5   2WD  Gasoline  midsize car   \n",
      "4   ACURA TL    3.5  (6 cyl)  Auto-S5   2WD  Gasoline  midsize car   \n",
      "\n",
      "  air_pollution_score city_mpg hwy_mpg cmb_mpg greenhouse_gas_score smartway  \n",
      "0                   7       15      20      17                    4       no  \n",
      "1                   7       17      22      19                    5       no  \n",
      "2                   7       16      24      19                    5       no  \n",
      "3                   7       18      26      21                    6      yes  \n",
      "4                   7       17      26      20                    6      yes   \n",
      "\n",
      "<class 'pandas.core.frame.DataFrame'>\n",
      "RangeIndex: 986 entries, 0 to 985\n",
      "Data columns (total 13 columns):\n",
      "model                   986 non-null object\n",
      "displ                   986 non-null float64\n",
      "cyl                     986 non-null object\n",
      "trans                   986 non-null object\n",
      "drive                   986 non-null object\n",
      "fuel                    986 non-null object\n",
      "veh_class               986 non-null object\n",
      "air_pollution_score     986 non-null object\n",
      "city_mpg                986 non-null object\n",
      "hwy_mpg                 986 non-null object\n",
      "cmb_mpg                 986 non-null object\n",
      "greenhouse_gas_score    986 non-null object\n",
      "smartway                986 non-null object\n",
      "dtypes: float64(1), object(12)\n",
      "memory usage: 100.2+ KB\n",
      "None \n",
      "\n",
      "--------inspecting data_18b.csv---------\n",
      "       model  displ  cyl       trans drive      fuel  veh_class  \\\n",
      "0  ACURA ILX    2.4  4.0       AMS-8   2WD  Gasoline  small car   \n",
      "1  ACURA MDX    3.0  6.0       AMS-7   4WD  Gasoline  small SUV   \n",
      "2  ACURA MDX    3.5  6.0  SemiAuto-9   2WD  Gasoline  small SUV   \n",
      "3  ACURA MDX    3.5  6.0  SemiAuto-9   2WD  Gasoline  small SUV   \n",
      "4  ACURA MDX    3.5  6.0  SemiAuto-9   4WD  Gasoline  small SUV   \n",
      "\n",
      "   air_pollution_score city_mpg hwy_mpg cmb_mpg  greenhouse_gas_score smartway  \n",
      "0                    3       25      35      29                     6       No  \n",
      "1                    3       26      27      27                     6       No  \n",
      "2                    3       19      27      22                     4       No  \n",
      "3                    3       20      27      23                     5       No  \n",
      "4                    3       18      26      21                     4       No   \n",
      "\n",
      "<class 'pandas.core.frame.DataFrame'>\n",
      "RangeIndex: 1282 entries, 0 to 1281\n",
      "Data columns (total 13 columns):\n",
      "model                   1282 non-null object\n",
      "displ                   1282 non-null float64\n",
      "cyl                     1282 non-null float64\n",
      "trans                   1282 non-null object\n",
      "drive                   1282 non-null object\n",
      "fuel                    1282 non-null object\n",
      "veh_class               1282 non-null object\n",
      "air_pollution_score     1282 non-null int64\n",
      "city_mpg                1282 non-null object\n",
      "hwy_mpg                 1282 non-null object\n",
      "cmb_mpg                 1282 non-null object\n",
      "greenhouse_gas_score    1282 non-null int64\n",
      "smartway                1282 non-null object\n",
      "dtypes: float64(2), int64(2), object(9)\n",
      "memory usage: 130.3+ KB\n",
      "None \n",
      "\n",
      "(986, 13)\n",
      "(1282, 13)\n"
     ]
    }
   ],
   "source": [
    "datalist = ['data_08b.csv', 'data_18b.csv']\n",
    "\n",
    "def datains(datalist):\n",
    "# 写个函数依次读入数据\n",
    "    for i in datalist:\n",
    "        print('inspecting {}'.format(i).center(40,'-'))\n",
    "        #print('start filtering on {}'.format(region).center(40,'-'))\n",
    "        df = pd.read_csv(i)\n",
    "        print(df.head(),'\\n')\n",
    "        print(df.info(),'\\n')\n",
    "\n",
    "# 检查数据\n",
    "datains(datalist)\n",
    "        \n",
    "# 创建df\n",
    "df08b = pd.read_csv('data_08b.csv')\n",
    "print(df08b.shape)\n",
    "df18b = pd.read_csv('data_18b.csv')\n",
    "print(df18b.shape)"
   ]
  },
  {
   "cell_type": "markdown",
   "metadata": {},
   "source": [
    "- cyl字符串要转换成数字\n",
    "- air_polution转成浮点（object是字符串）\n",
    "- city_mpg、hwy_mpg、cmb_mpg将字符串转换为浮点型\n",
    "- greenhouse_gas_score从字符转为浮点"
   ]
  },
  {
   "cell_type": "markdown",
   "metadata": {},
   "source": [
    "# /9修正数据类型第1部分/"
   ]
  },
  {
   "cell_type": "code",
   "execution_count": 603,
   "metadata": {},
   "outputs": [
    {
     "name": "stdout",
     "output_type": "stream",
     "text": [
      "(6 cyl)     409\n",
      "(4 cyl)     283\n",
      "(8 cyl)     199\n",
      "(5 cyl)      48\n",
      "(12 cyl)     30\n",
      "(10 cyl)     14\n",
      "(2 cyl)       2\n",
      "(16 cyl)      1\n",
      "Name: cyl, dtype: int64\n",
      "-----------\n",
      "6     409\n",
      "4     283\n",
      "8     199\n",
      "5      48\n",
      "12     30\n",
      "10     14\n",
      "2       2\n",
      "16      1\n",
      "Name: cyl, dtype: int64\n"
     ]
    },
    {
     "data": {
      "text/plain": [
       "numpy.int64"
      ]
     },
     "execution_count": 603,
     "metadata": {},
     "output_type": "execute_result"
    }
   ],
   "source": [
    "# 使用str的extract检索里面的数字\n",
    "print(df08b['cyl'].value_counts())\n",
    "\n",
    "# 为了处理数据的时候重复运行不报错使用 try 来判断是否已经修改\n",
    "# （因为已经处理过了再处理经常会报错）\n",
    "try:\n",
    "    df08b['cyl'] = df08b['cyl'].str.extract('(\\d+)').astype(int)\n",
    "# （\\d+)是匹配任意数字的意思，有兴趣的可以回顾下格式化字符串的内容\n",
    "except AttributeError:\n",
    "    print('!!! cyl type has been changed already! pass!')\n",
    "else:\n",
    "    pass\n",
    "finally:\n",
    "    pass\n",
    "\n",
    "print('-----------')\n",
    "print(df08b['cyl'].value_counts())\n",
    "# 最后可以看出来格式已经转换了\n",
    "type(df08b['cyl'][0])"
   ]
  },
  {
   "cell_type": "code",
   "execution_count": 604,
   "metadata": {},
   "outputs": [
    {
     "name": "stdout",
     "output_type": "stream",
     "text": [
      "4.0     604\n",
      "6.0     411\n",
      "8.0     208\n",
      "12.0     25\n",
      "3.0      21\n",
      "10.0      8\n",
      "2.0       2\n",
      "5.0       2\n",
      "16.0      1\n",
      "Name: cyl, dtype: int64\n",
      "!!! cyl type has been changed already! pass!\n",
      "-----------\n",
      "4     604\n",
      "6     411\n",
      "8     208\n",
      "12     25\n",
      "3      21\n",
      "10      8\n",
      "5       2\n",
      "2       2\n",
      "16      1\n",
      "Name: cyl, dtype: int64\n"
     ]
    }
   ],
   "source": [
    "# cyl18\n",
    "print(df18b['cyl'].value_counts())\n",
    "df18b['cyl'] = df18b['cyl'].astype(int)\n",
    "# astype没有inplace参数，所以要赋值\n",
    "\n",
    "try:\n",
    "    df18b['cyl'] = df18b['cyl'].str.extract('(\\d+)').astype(int)\n",
    "# （\\d+)是匹配任意数字的意思，有兴趣的可以回顾下格式化字符串的内容\n",
    "except AttributeError:\n",
    "    print('!!! cyl type has been changed already! pass!')\n",
    "else:\n",
    "    pass\n",
    "finally:\n",
    "    pass\n",
    "\n",
    "print('-----------')\n",
    "\n",
    "print(df18b['cyl'].value_counts())"
   ]
  },
  {
   "cell_type": "markdown",
   "metadata": {},
   "source": [
    "# /10修正数据类型第2部分/"
   ]
  },
  {
   "cell_type": "markdown",
   "metadata": {},
   "source": [
    "如果运行以下代码会报错：\n",
    "type(df08['air_pollution_score'][0])\n",
    "df08['air_pollution_score'].astype(float, inplace = True)\n",
    "df08['air_pollution_score'].astype(int, inplace = True)\n",
    "\n",
    "- 像‘5.0’这样的字符如果使用int转换会报错\n",
    "- ValueError: invalid literal for int() with base 10:\n",
    "- 但使用float转换不会报错，详见：https://stackoverflow.com/questions/1841565/valueerror-invalid-literal-for-int-with-base-10#\n",
    "- 原因是因为有 x/y 这种，所以转换会报错\n",
    "- 这部分就是处理这个问题的"
   ]
  },
  {
   "cell_type": "code",
   "execution_count": 605,
   "metadata": {},
   "outputs": [
    {
     "name": "stdout",
     "output_type": "stream",
     "text": [
      "                  model  displ  cyl    trans drive     fuel  veh_class  \\\n",
      "582  MERCEDES-BENZ C300    3.0    6  Auto-L7   2WD  ethanol  small car   \n",
      "\n",
      "    air_pollution_score city_mpg hwy_mpg cmb_mpg greenhouse_gas_score smartway  \n",
      "582                   6       13      19      15                    7       no  \n",
      "(1, 13)\n",
      "(2, 13)\n"
     ]
    },
    {
     "data": {
      "text/html": [
       "<div>\n",
       "<style scoped>\n",
       "    .dataframe tbody tr th:only-of-type {\n",
       "        vertical-align: middle;\n",
       "    }\n",
       "\n",
       "    .dataframe tbody tr th {\n",
       "        vertical-align: top;\n",
       "    }\n",
       "\n",
       "    .dataframe thead th {\n",
       "        text-align: right;\n",
       "    }\n",
       "</style>\n",
       "<table border=\"1\" class=\"dataframe\">\n",
       "  <thead>\n",
       "    <tr style=\"text-align: right;\">\n",
       "      <th></th>\n",
       "      <th>model</th>\n",
       "      <th>displ</th>\n",
       "      <th>cyl</th>\n",
       "      <th>trans</th>\n",
       "      <th>drive</th>\n",
       "      <th>fuel</th>\n",
       "      <th>veh_class</th>\n",
       "      <th>air_pollution_score</th>\n",
       "      <th>city_mpg</th>\n",
       "      <th>hwy_mpg</th>\n",
       "      <th>cmb_mpg</th>\n",
       "      <th>greenhouse_gas_score</th>\n",
       "      <th>smartway</th>\n",
       "    </tr>\n",
       "  </thead>\n",
       "  <tbody>\n",
       "    <tr>\n",
       "      <th>582</th>\n",
       "      <td>MERCEDES-BENZ C300</td>\n",
       "      <td>3.0</td>\n",
       "      <td>6</td>\n",
       "      <td>Auto-L7</td>\n",
       "      <td>2WD</td>\n",
       "      <td>ethanol</td>\n",
       "      <td>small car</td>\n",
       "      <td>6</td>\n",
       "      <td>13</td>\n",
       "      <td>19</td>\n",
       "      <td>15</td>\n",
       "      <td>7</td>\n",
       "      <td>no</td>\n",
       "    </tr>\n",
       "    <tr>\n",
       "      <th>582</th>\n",
       "      <td>MERCEDES-BENZ C300</td>\n",
       "      <td>3.0</td>\n",
       "      <td>6</td>\n",
       "      <td>Auto-L7</td>\n",
       "      <td>2WD</td>\n",
       "      <td>gas</td>\n",
       "      <td>small car</td>\n",
       "      <td>4</td>\n",
       "      <td>18</td>\n",
       "      <td>25</td>\n",
       "      <td>21</td>\n",
       "      <td>6</td>\n",
       "      <td>no</td>\n",
       "    </tr>\n",
       "  </tbody>\n",
       "</table>\n",
       "</div>"
      ],
      "text/plain": [
       "                  model  displ  cyl    trans drive     fuel  veh_class  \\\n",
       "582  MERCEDES-BENZ C300    3.0    6  Auto-L7   2WD  ethanol  small car   \n",
       "582  MERCEDES-BENZ C300    3.0    6  Auto-L7   2WD      gas  small car   \n",
       "\n",
       "    air_pollution_score city_mpg hwy_mpg cmb_mpg greenhouse_gas_score smartway  \n",
       "582                   6       13      19      15                    7       no  \n",
       "582                   4       18      25      21                    6       no  "
      ]
     },
     "execution_count": 605,
     "metadata": {},
     "output_type": "execute_result"
    }
   ],
   "source": [
    "# 找出含有 / 的部分\n",
    "# 也可以使用query方式\n",
    "hb_08 = df08b[df08b['fuel'].str.contains('/')]\n",
    "\n",
    "# 拆分为两列，使用copy否则会修改原数据\n",
    "# create two copies of the 2008 hybrids dataframe\n",
    "df1 = hb_08.copy()  # data on first fuel type of each hybrid vehicle\n",
    "df2 = hb_08.copy()  # data on second fuel type of each hybrid vehicle\n",
    "\n",
    "# 确定要拆分的列\n",
    "# columns to split by \"/\"\n",
    "split_columns = ['fuel', 'air_pollution_score', 'city_mpg', 'hwy_mpg', 'cmb_mpg', 'greenhouse_gas_score']\n",
    "\n",
    "# apply split function to each column of each dataframe copy\n",
    "for c in split_columns:\n",
    "    df1[c] = df1[c].apply(lambda x: x.split(\"/\")[0])\n",
    "    df2[c] = df2[c].apply(lambda x: x.split(\"/\")[1])\n",
    "    # lambda对每个带/的进行分割，分别赋值第1个和第2个拆分元素\n",
    "print(df1.head(3))\n",
    "# 看下是否成功\n",
    "\n",
    "dfnewrows = df1.append(df2)\n",
    "print(df1.shape)\n",
    "print(dfnewrows.shape)\n",
    "dfnewrows.head(3)\n",
    "# 检查数量"
   ]
  },
  {
   "cell_type": "code",
   "execution_count": 606,
   "metadata": {},
   "outputs": [
    {
     "name": "stdout",
     "output_type": "stream",
     "text": [
      "(986, 13)\n",
      "Int64Index([582], dtype='int64')\n"
     ]
    },
    {
     "data": {
      "text/plain": [
       "(987, 13)"
      ]
     },
     "execution_count": 606,
     "metadata": {},
     "output_type": "execute_result"
    }
   ],
   "source": [
    "# 更新df08\n",
    "print(df08b.shape)\n",
    "\n",
    "# 检查下要删除的行\n",
    "print(hb_08.index)\n",
    "\n",
    "# 删掉带 / 的行，加入拆分好的行\n",
    "df08b.drop(hb_08.index, inplace = True)\n",
    "df08c = df08b.append(dfnewrows, ignore_index = True)\n",
    "\n",
    "# append 没有inplace参数\n",
    "df08c.shape"
   ]
  },
  {
   "cell_type": "code",
   "execution_count": 607,
   "metadata": {},
   "outputs": [
    {
     "data": {
      "text/plain": [
       "(1282, 13)"
      ]
     },
     "execution_count": 607,
     "metadata": {},
     "output_type": "execute_result"
    }
   ],
   "source": [
    "df18b.shape"
   ]
  },
  {
   "cell_type": "code",
   "execution_count": 608,
   "metadata": {},
   "outputs": [
    {
     "name": "stdout",
     "output_type": "stream",
     "text": [
      "(74, 13)\n",
      "              model  displ  cyl       trans drive      fuel  veh_class  \\\n",
      "25   AUDI A3 e-tron    1.4    4       AMS-6   2WD  Gasoline  small car   \n",
      "83         BMW 330e    2.0    4  SemiAuto-8   2WD  Gasoline  small car   \n",
      "109        BMW 530e    2.0    4  SemiAuto-8   2WD  Gasoline  small car   \n",
      "\n",
      "     air_pollution_score city_mpg hwy_mpg cmb_mpg  greenhouse_gas_score  \\\n",
      "25                     7       34      39      36                    10   \n",
      "83                     3       28      34      30                    10   \n",
      "109                    7       27      31      29                    10   \n",
      "\n",
      "    smartway  \n",
      "25     Elite  \n",
      "83       Yes  \n",
      "109    Elite  \n",
      "(74, 13)\n",
      "(148, 13)\n"
     ]
    },
    {
     "data": {
      "text/html": [
       "<div>\n",
       "<style scoped>\n",
       "    .dataframe tbody tr th:only-of-type {\n",
       "        vertical-align: middle;\n",
       "    }\n",
       "\n",
       "    .dataframe tbody tr th {\n",
       "        vertical-align: top;\n",
       "    }\n",
       "\n",
       "    .dataframe thead th {\n",
       "        text-align: right;\n",
       "    }\n",
       "</style>\n",
       "<table border=\"1\" class=\"dataframe\">\n",
       "  <thead>\n",
       "    <tr style=\"text-align: right;\">\n",
       "      <th></th>\n",
       "      <th>model</th>\n",
       "      <th>displ</th>\n",
       "      <th>cyl</th>\n",
       "      <th>trans</th>\n",
       "      <th>drive</th>\n",
       "      <th>fuel</th>\n",
       "      <th>veh_class</th>\n",
       "      <th>air_pollution_score</th>\n",
       "      <th>city_mpg</th>\n",
       "      <th>hwy_mpg</th>\n",
       "      <th>cmb_mpg</th>\n",
       "      <th>greenhouse_gas_score</th>\n",
       "      <th>smartway</th>\n",
       "    </tr>\n",
       "  </thead>\n",
       "  <tbody>\n",
       "    <tr>\n",
       "      <th>25</th>\n",
       "      <td>AUDI A3 e-tron</td>\n",
       "      <td>1.4</td>\n",
       "      <td>4</td>\n",
       "      <td>AMS-6</td>\n",
       "      <td>2WD</td>\n",
       "      <td>Gasoline</td>\n",
       "      <td>small car</td>\n",
       "      <td>7</td>\n",
       "      <td>34</td>\n",
       "      <td>39</td>\n",
       "      <td>36</td>\n",
       "      <td>10</td>\n",
       "      <td>Elite</td>\n",
       "    </tr>\n",
       "    <tr>\n",
       "      <th>83</th>\n",
       "      <td>BMW 330e</td>\n",
       "      <td>2.0</td>\n",
       "      <td>4</td>\n",
       "      <td>SemiAuto-8</td>\n",
       "      <td>2WD</td>\n",
       "      <td>Gasoline</td>\n",
       "      <td>small car</td>\n",
       "      <td>3</td>\n",
       "      <td>28</td>\n",
       "      <td>34</td>\n",
       "      <td>30</td>\n",
       "      <td>10</td>\n",
       "      <td>Yes</td>\n",
       "    </tr>\n",
       "    <tr>\n",
       "      <th>109</th>\n",
       "      <td>BMW 530e</td>\n",
       "      <td>2.0</td>\n",
       "      <td>4</td>\n",
       "      <td>SemiAuto-8</td>\n",
       "      <td>2WD</td>\n",
       "      <td>Gasoline</td>\n",
       "      <td>small car</td>\n",
       "      <td>7</td>\n",
       "      <td>27</td>\n",
       "      <td>31</td>\n",
       "      <td>29</td>\n",
       "      <td>10</td>\n",
       "      <td>Elite</td>\n",
       "    </tr>\n",
       "  </tbody>\n",
       "</table>\n",
       "</div>"
      ],
      "text/plain": [
       "              model  displ  cyl       trans drive      fuel  veh_class  \\\n",
       "25   AUDI A3 e-tron    1.4    4       AMS-6   2WD  Gasoline  small car   \n",
       "83         BMW 330e    2.0    4  SemiAuto-8   2WD  Gasoline  small car   \n",
       "109        BMW 530e    2.0    4  SemiAuto-8   2WD  Gasoline  small car   \n",
       "\n",
       "     air_pollution_score city_mpg hwy_mpg cmb_mpg  greenhouse_gas_score  \\\n",
       "25                     7       34      39      36                    10   \n",
       "83                     3       28      34      30                    10   \n",
       "109                    7       27      31      29                    10   \n",
       "\n",
       "    smartway  \n",
       "25     Elite  \n",
       "83       Yes  \n",
       "109    Elite  "
      ]
     },
     "execution_count": 608,
     "metadata": {},
     "output_type": "execute_result"
    }
   ],
   "source": [
    "# 2018的数据\n",
    "# air 和 green已经是float格式不用拆分\n",
    "# 找出含有 / 的部分\n",
    "# 也可以使用query方式\n",
    "hb_18 = df18b[df18b['fuel'].str.contains('/')]\n",
    "print(hb_18.shape)\n",
    "\n",
    "# 拆分为两列，使用copy否则会修改原数据\n",
    "# create two copies of the 2008 hybrids dataframe\n",
    "df1 = hb_18.copy()  # data on first fuel type of each hybrid vehicle\n",
    "df2 = hb_18.copy()  # data on second fuel type of each hybrid vehicle\n",
    "\n",
    "# 确定要拆分的列\n",
    "# columns to split by \"/\"\n",
    "split_columns = ['fuel', 'city_mpg', 'hwy_mpg', 'cmb_mpg']\n",
    "\n",
    "# apply split function to each column of each dataframe copy\n",
    "for c in split_columns:\n",
    "    df1[c] = df1[c].apply(lambda x: x.split(\"/\")[0])\n",
    "    df2[c] = df2[c].apply(lambda x: x.split(\"/\")[1])\n",
    "    # lambda对每个带/的进行分割，分别赋值第1个和第2个拆分元素\n",
    "print(df1.head(3))\n",
    "# 看下是否成功\n",
    "\n",
    "dfnewrows = df1.append(df2)\n",
    "print(df1.shape)\n",
    "print(dfnewrows.shape)\n",
    "dfnewrows.head(3)\n",
    "# 检查数量"
   ]
  },
  {
   "cell_type": "code",
   "execution_count": 609,
   "metadata": {},
   "outputs": [
    {
     "data": {
      "text/html": [
       "<div>\n",
       "<style scoped>\n",
       "    .dataframe tbody tr th:only-of-type {\n",
       "        vertical-align: middle;\n",
       "    }\n",
       "\n",
       "    .dataframe tbody tr th {\n",
       "        vertical-align: top;\n",
       "    }\n",
       "\n",
       "    .dataframe thead th {\n",
       "        text-align: right;\n",
       "    }\n",
       "</style>\n",
       "<table border=\"1\" class=\"dataframe\">\n",
       "  <thead>\n",
       "    <tr style=\"text-align: right;\">\n",
       "      <th></th>\n",
       "      <th>displ</th>\n",
       "      <th>cyl</th>\n",
       "      <th>air_pollution_score</th>\n",
       "      <th>greenhouse_gas_score</th>\n",
       "    </tr>\n",
       "    <tr>\n",
       "      <th>veh_class</th>\n",
       "      <th></th>\n",
       "      <th></th>\n",
       "      <th></th>\n",
       "      <th></th>\n",
       "    </tr>\n",
       "  </thead>\n",
       "  <tbody>\n",
       "    <tr>\n",
       "      <th>large car</th>\n",
       "      <td>3.490000</td>\n",
       "      <td>5.800000</td>\n",
       "      <td>3.400000</td>\n",
       "      <td>6.000000</td>\n",
       "    </tr>\n",
       "    <tr>\n",
       "      <th>midsize car</th>\n",
       "      <td>1.822222</td>\n",
       "      <td>3.888889</td>\n",
       "      <td>6.222222</td>\n",
       "      <td>9.888889</td>\n",
       "    </tr>\n",
       "    <tr>\n",
       "      <th>minivan</th>\n",
       "      <td>3.600000</td>\n",
       "      <td>6.000000</td>\n",
       "      <td>7.000000</td>\n",
       "      <td>10.000000</td>\n",
       "    </tr>\n",
       "    <tr>\n",
       "      <th>pickup</th>\n",
       "      <td>4.500000</td>\n",
       "      <td>7.047619</td>\n",
       "      <td>3.857143</td>\n",
       "      <td>3.238095</td>\n",
       "    </tr>\n",
       "    <tr>\n",
       "      <th>small SUV</th>\n",
       "      <td>2.171429</td>\n",
       "      <td>4.000000</td>\n",
       "      <td>5.000000</td>\n",
       "      <td>7.000000</td>\n",
       "    </tr>\n",
       "    <tr>\n",
       "      <th>small car</th>\n",
       "      <td>1.600000</td>\n",
       "      <td>3.636364</td>\n",
       "      <td>5.545455</td>\n",
       "      <td>9.545455</td>\n",
       "    </tr>\n",
       "    <tr>\n",
       "      <th>standard SUV</th>\n",
       "      <td>4.400000</td>\n",
       "      <td>7.000000</td>\n",
       "      <td>3.642857</td>\n",
       "      <td>4.357143</td>\n",
       "    </tr>\n",
       "    <tr>\n",
       "      <th>station wagon</th>\n",
       "      <td>1.600000</td>\n",
       "      <td>4.000000</td>\n",
       "      <td>7.000000</td>\n",
       "      <td>10.000000</td>\n",
       "    </tr>\n",
       "  </tbody>\n",
       "</table>\n",
       "</div>"
      ],
      "text/plain": [
       "                  displ       cyl  air_pollution_score  greenhouse_gas_score\n",
       "veh_class                                                                   \n",
       "large car      3.490000  5.800000             3.400000              6.000000\n",
       "midsize car    1.822222  3.888889             6.222222              9.888889\n",
       "minivan        3.600000  6.000000             7.000000             10.000000\n",
       "pickup         4.500000  7.047619             3.857143              3.238095\n",
       "small SUV      2.171429  4.000000             5.000000              7.000000\n",
       "small car      1.600000  3.636364             5.545455              9.545455\n",
       "standard SUV   4.400000  7.000000             3.642857              4.357143\n",
       "station wagon  1.600000  4.000000             7.000000             10.000000"
      ]
     },
     "execution_count": 609,
     "metadata": {},
     "output_type": "execute_result"
    }
   ],
   "source": [
    "# plus 查看按照 veh_class的分类平均值\n",
    "dfnewrows.groupby(['veh_class']).mean()"
   ]
  },
  {
   "cell_type": "code",
   "execution_count": 612,
   "metadata": {},
   "outputs": [
    {
     "data": {
      "text/plain": [
       "Int64Index([  25,   83,  109,  110,  125,  167,  173,  174,  202,  258,  264,\n",
       "             265,  266,  269,  294,  296,  298,  300,  309,  310,  311,  313,\n",
       "             318,  329,  331,  408,  409,  410,  411,  412,  413,  414,  415,\n",
       "             416,  417,  437,  479,  480,  481,  484,  499,  501,  505,  508,\n",
       "             542,  573,  596,  670,  672,  695,  706,  720,  731,  918,  920,\n",
       "             929,  934,  936,  938,  977,  997, 1100, 1117, 1123, 1124, 1125,\n",
       "            1129, 1130, 1197, 1206, 1219, 1265, 1277, 1281],\n",
       "           dtype='int64')"
      ]
     },
     "execution_count": 612,
     "metadata": {},
     "output_type": "execute_result"
    }
   ],
   "source": [
    "# 检查下要删除的行\n",
    "hb_18.index"
   ]
  },
  {
   "cell_type": "code",
   "execution_count": 615,
   "metadata": {},
   "outputs": [
    {
     "name": "stdout",
     "output_type": "stream",
     "text": [
      "(1208, 13)\n",
      "data already cleaned!\n"
     ]
    },
    {
     "data": {
      "text/plain": [
       "(1356, 13)"
      ]
     },
     "execution_count": 615,
     "metadata": {},
     "output_type": "execute_result"
    }
   ],
   "source": [
    "# 特别要注意代码执行顺序，这里最大删除的是1281行\n",
    "## 如果开始的shape小于这个，否则会报错\n",
    "# 使用 try / except 处理下\n",
    "\n",
    "# 更新df18\n",
    "print(df18b.shape)\n",
    "\n",
    "try:\n",
    "    df18b.drop(hb_18.index, inplace = True)\n",
    "    df18c = df18b.append(dfnewrows, ignore_index = True)\n",
    "except KeyError:\n",
    "    print('data already cleaned!')\n",
    "else:\n",
    "    pass\n",
    "finally:\n",
    "    pass\n",
    "    \n",
    "\n",
    "#df18b.drop(hb_18.index, inplace = True)\n",
    "#df18c = df18b.append(dfnewrows, ignore_index = True)\n",
    "# append 没有inplace参数\n",
    "df18c.shape"
   ]
  },
  {
   "cell_type": "code",
   "execution_count": 617,
   "metadata": {},
   "outputs": [],
   "source": [
    "# 现在可以转换了 08 / 18\n",
    "df08c.air_pollution_score = df08c.air_pollution_score.astype(float)\n",
    "df18c.air_pollution_score = df18c.air_pollution_score.astype(float)\n",
    "\n",
    "df08c.to_csv('data_08c.csv', index=False)\n",
    "df18c.to_csv('data_18c.csv', index=False)"
   ]
  },
  {
   "cell_type": "markdown",
   "metadata": {},
   "source": [
    "# /11 修正数据类型第3部分/ 修正 city_mpg、hwy_mpg、cmb_mpg 数据类型\n",
    "2008 和 2018：将字符串转换成浮点"
   ]
  },
  {
   "cell_type": "code",
   "execution_count": 620,
   "metadata": {},
   "outputs": [],
   "source": [
    "# 将 mpg 列转换成浮点\n",
    "mpg_columns = ['city_mpg','hwy_mpg','cmb_mpg']\n",
    "for c in mpg_columns:\n",
    "    df18c[c] = df18c[c].astype(float)\n",
    "    df08c[c] = df18c[c].astype(float)"
   ]
  },
  {
   "cell_type": "code",
   "execution_count": 621,
   "metadata": {},
   "outputs": [],
   "source": [
    "# 将 greenhouse转成浮点\n",
    "df18c['greenhouse_gas_score'] = df18c['greenhouse_gas_score'].astype(float)\n",
    "df08c['greenhouse_gas_score'] = df08c['greenhouse_gas_score'].astype(float)"
   ]
  },
  {
   "cell_type": "code",
   "execution_count": 622,
   "metadata": {},
   "outputs": [
    {
     "data": {
      "text/plain": [
       "model                    object\n",
       "displ                   float64\n",
       "cyl                       int64\n",
       "trans                    object\n",
       "drive                    object\n",
       "fuel                     object\n",
       "veh_class                object\n",
       "air_pollution_score     float64\n",
       "city_mpg                float64\n",
       "hwy_mpg                 float64\n",
       "cmb_mpg                 float64\n",
       "greenhouse_gas_score    float64\n",
       "smartway                 object\n",
       "dtype: object"
      ]
     },
     "execution_count": 622,
     "metadata": {},
     "output_type": "execute_result"
    }
   ],
   "source": [
    "df08c.dtypes"
   ]
  },
  {
   "cell_type": "code",
   "execution_count": 623,
   "metadata": {},
   "outputs": [
    {
     "data": {
      "text/plain": [
       "model                    object\n",
       "displ                   float64\n",
       "cyl                       int64\n",
       "trans                    object\n",
       "drive                    object\n",
       "fuel                     object\n",
       "veh_class                object\n",
       "air_pollution_score     float64\n",
       "city_mpg                float64\n",
       "hwy_mpg                 float64\n",
       "cmb_mpg                 float64\n",
       "greenhouse_gas_score    float64\n",
       "smartway                 object\n",
       "dtype: object"
      ]
     },
     "execution_count": 623,
     "metadata": {},
     "output_type": "execute_result"
    }
   ],
   "source": [
    "df18c.dtypes"
   ]
  },
  {
   "cell_type": "code",
   "execution_count": 633,
   "metadata": {},
   "outputs": [],
   "source": [
    "df08c.to_csv('clean_08.csv', index=False)\n",
    "df18c.to_csv('clean_18.csv', index=False)\n",
    "# 文件名是按照课程要求的格式"
   ]
  },
  {
   "cell_type": "markdown",
   "metadata": {},
   "source": [
    "# /12 使用可视化探索数据/ Exploring with Visuals\n",
    "Use clean_08.csv and clean_18.csv"
   ]
  },
  {
   "cell_type": "code",
   "execution_count": 660,
   "metadata": {},
   "outputs": [],
   "source": [
    "# 读入数据\n",
    "df08c = pd.read_csv('clean_08.csv')\n",
    "df18c = pd.read_csv('clean_18.csv')"
   ]
  },
  {
   "cell_type": "code",
   "execution_count": 661,
   "metadata": {},
   "outputs": [
    {
     "data": {
      "image/png": "[encoded data removed]",
      "text/plain": [
       "<Figure size 432x288 with 1 Axes>"
      ]
     },
     "metadata": {
      "needs_background": "light"
     },
     "output_type": "display_data"
    }
   ],
   "source": [
    "p08=plt.hist(df08c['greenhouse_gas_score'],color='r', alpha = 0.5)\n",
    "p18=plt.hist(df18c['greenhouse_gas_score'],color='b', alpha = 0.5)\n",
    "plt.show()\n",
    "# 哇偶，可以看出18年的greenhouse_gas_score有所下降！\n",
    "# 企鹅宝宝，，，有救了"
   ]
  },
  {
   "cell_type": "code",
   "execution_count": 662,
   "metadata": {},
   "outputs": [
    {
     "data": {
      "image/png": "[encoded data removed]",
      "text/plain": [
       "<Figure size 432x288 with 1 Axes>"
      ]
     },
     "metadata": {
      "needs_background": "light"
     },
     "output_type": "display_data"
    }
   ],
   "source": [
    "city=plt.hist(df08c['city_mpg'],color='r', alpha = 0.5)\n",
    "hwy=plt.hist(df08c['hwy_mpg'],color='b', alpha = 0.5)\n",
    "cmb = plt.hist(df08c['cmb_mpg'],color='g', alpha = 0.5)\n",
    "plt.show()\n",
    "# 从数据可以推断出city是在城市的速度（miles per hour）\n",
    "# hwy是高速的，cmb是联合的"
   ]
  },
  {
   "cell_type": "code",
   "execution_count": 663,
   "metadata": {},
   "outputs": [
    {
     "data": {
      "image/png": "[encoded data removed]",
      "text/plain": [
       "<Figure size 432x288 with 1 Axes>"
      ]
     },
     "metadata": {
      "needs_background": "light"
     },
     "output_type": "display_data"
    }
   ],
   "source": [
    "p08=plt.hist(df08c['air_pollution_score'],color='b')\n",
    "p18=plt.hist(df18c['air_pollution_score'],color='r')\n",
    "\n",
    "# 也是下降了，不好看\n",
    "# 这里没有家alpha，没有透明度，一下就记住了对不对"
   ]
  },
  {
   "cell_type": "markdown",
   "metadata": {},
   "source": [
    "# /13 结论和可视展示/ 得出结论\n",
    "使用下列空间来处理数据集clean_08.csv 和clean_18.csv中的以下问题"
   ]
  },
  {
   "cell_type": "markdown",
   "metadata": {},
   "source": [
    "## Q1: 与2008年相比，2018年是否有更多的车型（去重后）使用替代能源？比例增长了多少？\n",
    "\n",
    "- 这部分feature pdf中没有特殊说明，bing出来：\n",
    "- CNG 压缩天然气\n",
    "- dissel 柴油\n",
    "- Gasoline 汽油\n",
    "- ethanol 乙醇\n",
    "- gas 天然气\n",
    "\n",
    "瞎想的（可以忽悠不懂的）\n",
    "1. CNG是压缩天然气，另外一种是液化天然气LNG（C代表compressed，L代表liquid，LNG可以制造CNG，NG是不经压缩的gas）。后者更环保因为是液态，行驶也更远。但是前一种更加普遍（因为可以使用现在的汽油汽车改装，难道混合动力的都是这个货？）\n",
    "1. 乙醇更环保,天燃气是混合物,里面可能包含一些S,N这些元素.当这些元素燃烧时会产生污染气体.乙醇燃烧的产物是二氧化碳和水.再者乙醇是可再生资源,所以目前有很多国家在汽油用填加乙醇,已减少汽油的使用量。\n",
    "1. 在18年的数据中还有电力汽车（我的特斯拉啊，看着就帅！，，，，这模型还挺重的）马克思，，哦不马斯克的Solar City了解一下。\n",
    "1. 综上所述，由于各年的value不同，我们就分为两个阵营进行比较（谁说要加权来的，你出来，我保证，，，不打死你，，，）Gasoline和diesel作为传统能源，其他都粗暴的归为清洁能源。"
   ]
  },
  {
   "cell_type": "code",
   "execution_count": 664,
   "metadata": {},
   "outputs": [
    {
     "data": {
      "text/plain": [
       "(987, 13)"
      ]
     },
     "execution_count": 664,
     "metadata": {},
     "output_type": "execute_result"
    }
   ],
   "source": [
    "df08c.shape"
   ]
  },
  {
   "cell_type": "code",
   "execution_count": 665,
   "metadata": {
    "scrolled": true
   },
   "outputs": [
    {
     "data": {
      "text/html": [
       "<div>\n",
       "<style scoped>\n",
       "    .dataframe tbody tr th:only-of-type {\n",
       "        vertical-align: middle;\n",
       "    }\n",
       "\n",
       "    .dataframe tbody tr th {\n",
       "        vertical-align: top;\n",
       "    }\n",
       "\n",
       "    .dataframe thead th {\n",
       "        text-align: right;\n",
       "    }\n",
       "</style>\n",
       "<table border=\"1\" class=\"dataframe\">\n",
       "  <thead>\n",
       "    <tr style=\"text-align: right;\">\n",
       "      <th></th>\n",
       "      <th>model</th>\n",
       "      <th>displ</th>\n",
       "      <th>cyl</th>\n",
       "      <th>trans</th>\n",
       "      <th>drive</th>\n",
       "      <th>veh_class</th>\n",
       "      <th>air_pollution_score</th>\n",
       "      <th>city_mpg</th>\n",
       "      <th>hwy_mpg</th>\n",
       "      <th>cmb_mpg</th>\n",
       "      <th>greenhouse_gas_score</th>\n",
       "      <th>smartway</th>\n",
       "    </tr>\n",
       "    <tr>\n",
       "      <th>fuel</th>\n",
       "      <th></th>\n",
       "      <th></th>\n",
       "      <th></th>\n",
       "      <th></th>\n",
       "      <th></th>\n",
       "      <th></th>\n",
       "      <th></th>\n",
       "      <th></th>\n",
       "      <th></th>\n",
       "      <th></th>\n",
       "      <th></th>\n",
       "      <th></th>\n",
       "    </tr>\n",
       "  </thead>\n",
       "  <tbody>\n",
       "    <tr>\n",
       "      <th>CNG</th>\n",
       "      <td>1</td>\n",
       "      <td>1</td>\n",
       "      <td>1</td>\n",
       "      <td>1</td>\n",
       "      <td>1</td>\n",
       "      <td>1</td>\n",
       "      <td>1</td>\n",
       "      <td>1</td>\n",
       "      <td>1</td>\n",
       "      <td>1</td>\n",
       "      <td>1</td>\n",
       "      <td>1</td>\n",
       "    </tr>\n",
       "    <tr>\n",
       "      <th>Gasoline</th>\n",
       "      <td>984</td>\n",
       "      <td>984</td>\n",
       "      <td>984</td>\n",
       "      <td>984</td>\n",
       "      <td>984</td>\n",
       "      <td>984</td>\n",
       "      <td>984</td>\n",
       "      <td>984</td>\n",
       "      <td>984</td>\n",
       "      <td>984</td>\n",
       "      <td>984</td>\n",
       "      <td>984</td>\n",
       "    </tr>\n",
       "    <tr>\n",
       "      <th>ethanol</th>\n",
       "      <td>1</td>\n",
       "      <td>1</td>\n",
       "      <td>1</td>\n",
       "      <td>1</td>\n",
       "      <td>1</td>\n",
       "      <td>1</td>\n",
       "      <td>1</td>\n",
       "      <td>1</td>\n",
       "      <td>1</td>\n",
       "      <td>1</td>\n",
       "      <td>1</td>\n",
       "      <td>1</td>\n",
       "    </tr>\n",
       "    <tr>\n",
       "      <th>gas</th>\n",
       "      <td>1</td>\n",
       "      <td>1</td>\n",
       "      <td>1</td>\n",
       "      <td>1</td>\n",
       "      <td>1</td>\n",
       "      <td>1</td>\n",
       "      <td>1</td>\n",
       "      <td>1</td>\n",
       "      <td>1</td>\n",
       "      <td>1</td>\n",
       "      <td>1</td>\n",
       "      <td>1</td>\n",
       "    </tr>\n",
       "  </tbody>\n",
       "</table>\n",
       "</div>"
      ],
      "text/plain": [
       "          model  displ  cyl  trans  drive  veh_class  air_pollution_score  \\\n",
       "fuel                                                                        \n",
       "CNG           1      1    1      1      1          1                    1   \n",
       "Gasoline    984    984  984    984    984        984                  984   \n",
       "ethanol       1      1    1      1      1          1                    1   \n",
       "gas           1      1    1      1      1          1                    1   \n",
       "\n",
       "          city_mpg  hwy_mpg  cmb_mpg  greenhouse_gas_score  smartway  \n",
       "fuel                                                                  \n",
       "CNG              1        1        1                     1         1  \n",
       "Gasoline       984      984      984                   984       984  \n",
       "ethanol          1        1        1                     1         1  \n",
       "gas              1        1        1                     1         1  "
      ]
     },
     "execution_count": 665,
     "metadata": {},
     "output_type": "execute_result"
    }
   ],
   "source": [
    "df08c.groupby(['fuel']).count()"
   ]
  },
  {
   "cell_type": "code",
   "execution_count": 666,
   "metadata": {
    "scrolled": true
   },
   "outputs": [
    {
     "data": {
      "text/html": [
       "<div>\n",
       "<style scoped>\n",
       "    .dataframe tbody tr th:only-of-type {\n",
       "        vertical-align: middle;\n",
       "    }\n",
       "\n",
       "    .dataframe tbody tr th {\n",
       "        vertical-align: top;\n",
       "    }\n",
       "\n",
       "    .dataframe thead th {\n",
       "        text-align: right;\n",
       "    }\n",
       "</style>\n",
       "<table border=\"1\" class=\"dataframe\">\n",
       "  <thead>\n",
       "    <tr style=\"text-align: right;\">\n",
       "      <th></th>\n",
       "      <th>model</th>\n",
       "      <th>displ</th>\n",
       "      <th>cyl</th>\n",
       "      <th>trans</th>\n",
       "      <th>drive</th>\n",
       "      <th>veh_class</th>\n",
       "      <th>air_pollution_score</th>\n",
       "      <th>city_mpg</th>\n",
       "      <th>hwy_mpg</th>\n",
       "      <th>cmb_mpg</th>\n",
       "      <th>greenhouse_gas_score</th>\n",
       "      <th>smartway</th>\n",
       "    </tr>\n",
       "    <tr>\n",
       "      <th>fuel</th>\n",
       "      <th></th>\n",
       "      <th></th>\n",
       "      <th></th>\n",
       "      <th></th>\n",
       "      <th></th>\n",
       "      <th></th>\n",
       "      <th></th>\n",
       "      <th></th>\n",
       "      <th></th>\n",
       "      <th></th>\n",
       "      <th></th>\n",
       "      <th></th>\n",
       "    </tr>\n",
       "  </thead>\n",
       "  <tbody>\n",
       "    <tr>\n",
       "      <th>Diesel</th>\n",
       "      <td>31</td>\n",
       "      <td>31</td>\n",
       "      <td>31</td>\n",
       "      <td>31</td>\n",
       "      <td>31</td>\n",
       "      <td>31</td>\n",
       "      <td>31</td>\n",
       "      <td>31</td>\n",
       "      <td>31</td>\n",
       "      <td>31</td>\n",
       "      <td>31</td>\n",
       "      <td>31</td>\n",
       "    </tr>\n",
       "    <tr>\n",
       "      <th>Electricity</th>\n",
       "      <td>33</td>\n",
       "      <td>33</td>\n",
       "      <td>33</td>\n",
       "      <td>33</td>\n",
       "      <td>33</td>\n",
       "      <td>33</td>\n",
       "      <td>33</td>\n",
       "      <td>33</td>\n",
       "      <td>33</td>\n",
       "      <td>33</td>\n",
       "      <td>33</td>\n",
       "      <td>33</td>\n",
       "    </tr>\n",
       "    <tr>\n",
       "      <th>Ethanol</th>\n",
       "      <td>41</td>\n",
       "      <td>41</td>\n",
       "      <td>41</td>\n",
       "      <td>41</td>\n",
       "      <td>41</td>\n",
       "      <td>41</td>\n",
       "      <td>41</td>\n",
       "      <td>41</td>\n",
       "      <td>41</td>\n",
       "      <td>41</td>\n",
       "      <td>41</td>\n",
       "      <td>41</td>\n",
       "    </tr>\n",
       "    <tr>\n",
       "      <th>Gas</th>\n",
       "      <td>41</td>\n",
       "      <td>41</td>\n",
       "      <td>41</td>\n",
       "      <td>41</td>\n",
       "      <td>41</td>\n",
       "      <td>41</td>\n",
       "      <td>41</td>\n",
       "      <td>41</td>\n",
       "      <td>41</td>\n",
       "      <td>41</td>\n",
       "      <td>41</td>\n",
       "      <td>41</td>\n",
       "    </tr>\n",
       "    <tr>\n",
       "      <th>Gasoline</th>\n",
       "      <td>1210</td>\n",
       "      <td>1210</td>\n",
       "      <td>1210</td>\n",
       "      <td>1210</td>\n",
       "      <td>1210</td>\n",
       "      <td>1210</td>\n",
       "      <td>1210</td>\n",
       "      <td>1210</td>\n",
       "      <td>1210</td>\n",
       "      <td>1210</td>\n",
       "      <td>1210</td>\n",
       "      <td>1210</td>\n",
       "    </tr>\n",
       "  </tbody>\n",
       "</table>\n",
       "</div>"
      ],
      "text/plain": [
       "             model  displ   cyl  trans  drive  veh_class  air_pollution_score  \\\n",
       "fuel                                                                            \n",
       "Diesel          31     31    31     31     31         31                   31   \n",
       "Electricity     33     33    33     33     33         33                   33   \n",
       "Ethanol         41     41    41     41     41         41                   41   \n",
       "Gas             41     41    41     41     41         41                   41   \n",
       "Gasoline      1210   1210  1210   1210   1210       1210                 1210   \n",
       "\n",
       "             city_mpg  hwy_mpg  cmb_mpg  greenhouse_gas_score  smartway  \n",
       "fuel                                                                     \n",
       "Diesel             31       31       31                    31        31  \n",
       "Electricity        33       33       33                    33        33  \n",
       "Ethanol            41       41       41                    41        41  \n",
       "Gas                41       41       41                    41        41  \n",
       "Gasoline         1210     1210     1210                  1210      1210  "
      ]
     },
     "execution_count": 666,
     "metadata": {},
     "output_type": "execute_result"
    }
   ],
   "source": [
    "df18c.groupby(['fuel']).count()"
   ]
  },
  {
   "cell_type": "code",
   "execution_count": 667,
   "metadata": {},
   "outputs": [
    {
     "name": "stdout",
     "output_type": "stream",
     "text": [
      "0.003\n",
      "0.0848\n"
     ]
    }
   ],
   "source": [
    "# 方法1\n",
    "cleanlist = ['cng', 'ethanol', 'gas', 'electricity']\n",
    "# 先制定清洁能源的备选\n",
    "\n",
    "def cleanratio(df):\n",
    "    cnumber = 0\n",
    "    fuel_list = list(set(df['fuel'].values))\n",
    "    \n",
    "    for i in fuel_list:\n",
    "        if i.lower() in cleanlist:\n",
    "        # 本例子中i不要变化，因为后面还要根据i来匹配\n",
    "            cnumber = cnumber + df[df['fuel'] == i].shape[0]\n",
    "    return round(cnumber / df.shape[0],4)\n",
    "    # 使用round控制小数的精度：round（你要显示的数，你要显示的小数位数）\n",
    "            \n",
    "print(cleanratio(df08c))\n",
    "print(cleanratio(df18c))\n",
    "# 可见从6%增长到了9%"
   ]
  },
  {
   "cell_type": "code",
   "execution_count": 724,
   "metadata": {},
   "outputs": [
    {
     "name": "stdout",
     "output_type": "stream",
     "text": [
      "0.003\n",
      "0.0848\n"
     ]
    }
   ],
   "source": [
    "# 方法2\n",
    "# updated Kaido和Leo跑出来的简洁方法\n",
    "cleanlist = ['cng', 'ethanol', 'gas', 'electricity']\n",
    "# 先制定清洁能源的备选\n",
    "\n",
    "def cleanratio2(df):\n",
    "    # 此处首先将['fuel']中的值都转换为小写\n",
    "    # 再通过isin进行过滤是否在cleanlist\n",
    "    # 将过滤出来的做平均值（因为true=1， false=0，所以取mean就是比率了）\n",
    "    return round(df['fuel'].str.lower().isin(cleanlist).mean(),4)\n",
    "       \n",
    "print(cleanratio2(df08c))\n",
    "print(cleanratio2(df18c))\n",
    "# 可见从6%增长到了9%\n"
   ]
  },
  {
   "cell_type": "markdown",
   "metadata": {},
   "source": [
    "## Q2: 各车辆类别（veh_class）在燃料经济性方面的改进（mpg 的增长）是多少？"
   ]
  },
  {
   "cell_type": "code",
   "execution_count": 668,
   "metadata": {},
   "outputs": [
    {
     "data": {
      "text/plain": [
       "veh_class\n",
       "SUV              22.982143\n",
       "large car        22.563636\n",
       "midsize car      25.036232\n",
       "minivan          26.235294\n",
       "pickup           23.722892\n",
       "small car        23.477477\n",
       "station wagon    24.400000\n",
       "van              21.047619\n",
       "Name: cmb_mpg, dtype: float64"
      ]
     },
     "execution_count": 668,
     "metadata": {},
     "output_type": "execute_result"
    }
   ],
   "source": [
    "# 经过观察，发现cmb在city和hwy之间，应该是经过加权了的，直接比较他\n",
    "mpgc08 = df08c.groupby(['veh_class'])['cmb_mpg'].mean()\n",
    "# 其实还可以发现value的种类不同，有兴趣规整一下不少年？\n",
    "mpgc08"
   ]
  },
  {
   "cell_type": "code",
   "execution_count": 669,
   "metadata": {},
   "outputs": [
    {
     "data": {
      "text/plain": [
       "veh_class\n",
       "large car          24.235714\n",
       "midsize car        30.175926\n",
       "minivan            28.200000\n",
       "pickup             18.172131\n",
       "small SUV          24.398268\n",
       "small car          25.766827\n",
       "special purpose    19.937500\n",
       "standard SUV       19.405405\n",
       "station wagon      30.054545\n",
       "van                16.000000\n",
       "Name: cmb_mpg, dtype: float64"
      ]
     },
     "execution_count": 669,
     "metadata": {},
     "output_type": "execute_result"
    }
   ],
   "source": [
    "mpgc18 = df18c.groupby(['veh_class'])['cmb_mpg'].mean()\n",
    "mpgc18"
   ]
  },
  {
   "cell_type": "code",
   "execution_count": 670,
   "metadata": {},
   "outputs": [
    {
     "data": {
      "text/plain": [
       "veh_class\n",
       "large car        1.672078\n",
       "midsize car      5.139694\n",
       "minivan          1.964706\n",
       "pickup          -5.550760\n",
       "small car        2.289349\n",
       "station wagon    5.654545\n",
       "van             -5.047619\n",
       "Name: cmb_mpg, dtype: float64"
      ]
     },
     "execution_count": 670,
     "metadata": {},
     "output_type": "execute_result"
    }
   ],
   "source": [
    "# 因为名字是不同的，直接相减\n",
    "mpcompare = mpgc18- mpgc08\n",
    "# 凡事带有NaN的说明在另一个数据里面没有\n",
    "# 不同名字的不比较，使用dropna处理\n",
    "mpcompare.dropna(inplace = True)\n",
    "mpcompare"
   ]
  },
  {
   "cell_type": "code",
   "execution_count": 671,
   "metadata": {},
   "outputs": [
    {
     "data": {
      "text/plain": [
       "array([ 1.67207792,  5.13969404,  1.96470588, -5.55076042,  2.28934945,\n",
       "        5.65454545, -5.04761905])"
      ]
     },
     "execution_count": 671,
     "metadata": {},
     "output_type": "execute_result"
    }
   ],
   "source": [
    "mpcompare.values"
   ]
  },
  {
   "cell_type": "code",
   "execution_count": 672,
   "metadata": {},
   "outputs": [
    {
     "data": {
      "image/png": "[encoded data removed]",
      "text/plain": [
       "<Figure size 576x576 with 1 Axes>"
      ]
     },
     "metadata": {
      "needs_background": "light"
     },
     "output_type": "display_data"
    }
   ],
   "source": [
    "# OK 可以画图鸟\n",
    "fig = plt.figure(figsize=(8,8))\n",
    "ax = fig.add_subplot(1,1,1)\n",
    "\n",
    "colors = []\n",
    "for value in mpcompare.values:\n",
    "    if value >= 0:\n",
    "        colors.append('g')\n",
    "    else:\n",
    "        colors.append('r')\n",
    "mpcompare.plot(kind = 'bar', alpha = 0.7, color = colors)\n",
    "# color可以通过输入一个列表指定\n",
    "# 要想根据条件输出不同color，写个循环先建立好color列表\n",
    "ax.set_xticklabels(mpcompare.index, fontsize = 12, rotation = 30);\n",
    "ax.set_ylabel('Change MPG', fontsize = 16)\n",
    "ax.set_xlabel('Veh Classed', fontsize = 16)\n",
    "fig.suptitle('Veh MPG Change form 2008 to 2018', fontsize = 24, color = 'red');"
   ]
  },
  {
   "cell_type": "markdown",
   "metadata": {},
   "source": [
    "## Q3: SmartWay 车辆的特点是什么？ 它们是否随着时间而改变？"
   ]
  },
  {
   "cell_type": "code",
   "execution_count": 673,
   "metadata": {},
   "outputs": [
    {
     "data": {
      "text/plain": [
       "array(['no', 'yes'], dtype=object)"
      ]
     },
     "execution_count": 673,
     "metadata": {},
     "output_type": "execute_result"
    }
   ],
   "source": [
    "# smartway labels for 2008\n",
    "df08c.smartway.unique()"
   ]
  },
  {
   "cell_type": "code",
   "execution_count": 674,
   "metadata": {},
   "outputs": [
    {
     "name": "stdout",
     "output_type": "stream",
     "text": [
      "<class 'pandas.core.frame.DataFrame'>\n",
      "Int64Index: 380 entries, 3 to 979\n",
      "Data columns (total 13 columns):\n",
      "model                   380 non-null object\n",
      "displ                   380 non-null float64\n",
      "cyl                     380 non-null int64\n",
      "trans                   380 non-null object\n",
      "drive                   380 non-null object\n",
      "fuel                    380 non-null object\n",
      "veh_class               380 non-null object\n",
      "air_pollution_score     380 non-null float64\n",
      "city_mpg                380 non-null float64\n",
      "hwy_mpg                 380 non-null float64\n",
      "cmb_mpg                 380 non-null float64\n",
      "greenhouse_gas_score    380 non-null float64\n",
      "smartway                380 non-null object\n",
      "dtypes: float64(6), int64(1), object(6)\n",
      "memory usage: 41.6+ KB\n",
      "None\n"
     ]
    },
    {
     "data": {
      "text/plain": [
       "displ                    2.602895\n",
       "cyl                      4.826316\n",
       "air_pollution_score      7.365789\n",
       "city_mpg                21.244737\n",
       "hwy_mpg                 28.481579\n",
       "cmb_mpg                 23.926316\n",
       "greenhouse_gas_score     6.868421\n",
       "dtype: float64"
      ]
     },
     "execution_count": 674,
     "metadata": {},
     "output_type": "execute_result"
    }
   ],
   "source": [
    "# get all smartway vehicles in 2008\n",
    "smart_08 = df08c.query('smartway == \"yes\"')\n",
    "print(smart_08.info())\n",
    "smart_08.mean()"
   ]
  },
  {
   "cell_type": "code",
   "execution_count": 675,
   "metadata": {},
   "outputs": [
    {
     "name": "stdout",
     "output_type": "stream",
     "text": [
      "['No' 'Yes' 'Elite']\n",
      "<class 'pandas.core.frame.DataFrame'>\n",
      "Int64Index: 211 entries, 27 to 1355\n",
      "Data columns (total 13 columns):\n",
      "model                   211 non-null object\n",
      "displ                   211 non-null float64\n",
      "cyl                     211 non-null int64\n",
      "trans                   211 non-null object\n",
      "drive                   211 non-null object\n",
      "fuel                    211 non-null object\n",
      "veh_class               211 non-null object\n",
      "air_pollution_score     211 non-null float64\n",
      "city_mpg                211 non-null float64\n",
      "hwy_mpg                 211 non-null float64\n",
      "cmb_mpg                 211 non-null float64\n",
      "greenhouse_gas_score    211 non-null float64\n",
      "smartway                211 non-null object\n",
      "dtypes: float64(6), int64(1), object(6)\n",
      "memory usage: 23.1+ KB\n",
      "None\n"
     ]
    },
    {
     "data": {
      "text/plain": [
       "displ                    1.879147\n",
       "cyl                      4.071090\n",
       "air_pollution_score      5.255924\n",
       "city_mpg                38.568720\n",
       "hwy_mpg                 43.710900\n",
       "cmb_mpg                 40.469194\n",
       "greenhouse_gas_score     8.146919\n",
       "dtype: float64"
      ]
     },
     "execution_count": 675,
     "metadata": {},
     "output_type": "execute_result"
    }
   ],
   "source": [
    "print(df18c.smartway.unique())\n",
    "smart_18 = df18c.query('smartway == \"Yes\" or smartway == \"Elite\"')\n",
    "print(smart_18.info())\n",
    "smart_18.mean()"
   ]
  },
  {
   "cell_type": "markdown",
   "metadata": {},
   "source": [
    "## Q4: 哪些功能与更好的燃油经济性有关？What features are associated with better fuel economy?\n",
    "You can explore trends between cmb_mpg and the other features in this dataset, or filter this dataset like in the previous question and explore the properties of that dataset. For example, you can select all vehicles that have the top 50% fuel economy ratings like this."
   ]
  },
  {
   "cell_type": "code",
   "execution_count": 676,
   "metadata": {},
   "outputs": [
    {
     "data": {
      "text/html": [
       "<div>\n",
       "<style scoped>\n",
       "    .dataframe tbody tr th:only-of-type {\n",
       "        vertical-align: middle;\n",
       "    }\n",
       "\n",
       "    .dataframe tbody tr th {\n",
       "        vertical-align: top;\n",
       "    }\n",
       "\n",
       "    .dataframe thead th {\n",
       "        text-align: right;\n",
       "    }\n",
       "</style>\n",
       "<table border=\"1\" class=\"dataframe\">\n",
       "  <thead>\n",
       "    <tr style=\"text-align: right;\">\n",
       "      <th></th>\n",
       "      <th>displ</th>\n",
       "      <th>cyl</th>\n",
       "      <th>air_pollution_score</th>\n",
       "      <th>city_mpg</th>\n",
       "      <th>hwy_mpg</th>\n",
       "      <th>cmb_mpg</th>\n",
       "      <th>greenhouse_gas_score</th>\n",
       "    </tr>\n",
       "  </thead>\n",
       "  <tbody>\n",
       "    <tr>\n",
       "      <th>count</th>\n",
       "      <td>453.000000</td>\n",
       "      <td>453.000000</td>\n",
       "      <td>453.000000</td>\n",
       "      <td>453.000000</td>\n",
       "      <td>453.000000</td>\n",
       "      <td>453.000000</td>\n",
       "      <td>453.000000</td>\n",
       "    </tr>\n",
       "    <tr>\n",
       "      <th>mean</th>\n",
       "      <td>3.400221</td>\n",
       "      <td>5.931567</td>\n",
       "      <td>6.739514</td>\n",
       "      <td>25.401766</td>\n",
       "      <td>33.242826</td>\n",
       "      <td>28.357616</td>\n",
       "      <td>5.390728</td>\n",
       "    </tr>\n",
       "    <tr>\n",
       "      <th>std</th>\n",
       "      <td>1.165669</td>\n",
       "      <td>1.806379</td>\n",
       "      <td>0.964827</td>\n",
       "      <td>4.912256</td>\n",
       "      <td>4.506949</td>\n",
       "      <td>4.534544</td>\n",
       "      <td>1.832500</td>\n",
       "    </tr>\n",
       "    <tr>\n",
       "      <th>min</th>\n",
       "      <td>1.300000</td>\n",
       "      <td>2.000000</td>\n",
       "      <td>4.000000</td>\n",
       "      <td>20.000000</td>\n",
       "      <td>26.000000</td>\n",
       "      <td>24.000000</td>\n",
       "      <td>0.000000</td>\n",
       "    </tr>\n",
       "    <tr>\n",
       "      <th>25%</th>\n",
       "      <td>2.500000</td>\n",
       "      <td>4.000000</td>\n",
       "      <td>6.000000</td>\n",
       "      <td>22.000000</td>\n",
       "      <td>30.000000</td>\n",
       "      <td>25.000000</td>\n",
       "      <td>4.000000</td>\n",
       "    </tr>\n",
       "    <tr>\n",
       "      <th>50%</th>\n",
       "      <td>3.200000</td>\n",
       "      <td>6.000000</td>\n",
       "      <td>7.000000</td>\n",
       "      <td>24.000000</td>\n",
       "      <td>32.000000</td>\n",
       "      <td>27.000000</td>\n",
       "      <td>6.000000</td>\n",
       "    </tr>\n",
       "    <tr>\n",
       "      <th>75%</th>\n",
       "      <td>4.000000</td>\n",
       "      <td>6.000000</td>\n",
       "      <td>7.000000</td>\n",
       "      <td>27.000000</td>\n",
       "      <td>35.000000</td>\n",
       "      <td>30.000000</td>\n",
       "      <td>7.000000</td>\n",
       "    </tr>\n",
       "    <tr>\n",
       "      <th>max</th>\n",
       "      <td>7.000000</td>\n",
       "      <td>12.000000</td>\n",
       "      <td>9.500000</td>\n",
       "      <td>57.000000</td>\n",
       "      <td>59.000000</td>\n",
       "      <td>58.000000</td>\n",
       "      <td>10.000000</td>\n",
       "    </tr>\n",
       "  </tbody>\n",
       "</table>\n",
       "</div>"
      ],
      "text/plain": [
       "            displ         cyl  air_pollution_score    city_mpg     hwy_mpg  \\\n",
       "count  453.000000  453.000000           453.000000  453.000000  453.000000   \n",
       "mean     3.400221    5.931567             6.739514   25.401766   33.242826   \n",
       "std      1.165669    1.806379             0.964827    4.912256    4.506949   \n",
       "min      1.300000    2.000000             4.000000   20.000000   26.000000   \n",
       "25%      2.500000    4.000000             6.000000   22.000000   30.000000   \n",
       "50%      3.200000    6.000000             7.000000   24.000000   32.000000   \n",
       "75%      4.000000    6.000000             7.000000   27.000000   35.000000   \n",
       "max      7.000000   12.000000             9.500000   57.000000   59.000000   \n",
       "\n",
       "          cmb_mpg  greenhouse_gas_score  \n",
       "count  453.000000            453.000000  \n",
       "mean    28.357616              5.390728  \n",
       "std      4.534544              1.832500  \n",
       "min     24.000000              0.000000  \n",
       "25%     25.000000              4.000000  \n",
       "50%     27.000000              6.000000  \n",
       "75%     30.000000              7.000000  \n",
       "max     58.000000             10.000000  "
      ]
     },
     "execution_count": 676,
     "metadata": {},
     "output_type": "execute_result"
    }
   ],
   "source": [
    "# 这里课程给出的答案好奇怪，等我想想的\n",
    "top_08 = df08c.query('cmb_mpg > cmb_mpg.mean()')\n",
    "top_08.describe()"
   ]
  },
  {
   "cell_type": "code",
   "execution_count": 677,
   "metadata": {},
   "outputs": [
    {
     "data": {
      "text/html": [
       "<div>\n",
       "<style scoped>\n",
       "    .dataframe tbody tr th:only-of-type {\n",
       "        vertical-align: middle;\n",
       "    }\n",
       "\n",
       "    .dataframe tbody tr th {\n",
       "        vertical-align: top;\n",
       "    }\n",
       "\n",
       "    .dataframe thead th {\n",
       "        text-align: right;\n",
       "    }\n",
       "</style>\n",
       "<table border=\"1\" class=\"dataframe\">\n",
       "  <thead>\n",
       "    <tr style=\"text-align: right;\">\n",
       "      <th></th>\n",
       "      <th>displ</th>\n",
       "      <th>cyl</th>\n",
       "      <th>air_pollution_score</th>\n",
       "      <th>city_mpg</th>\n",
       "      <th>hwy_mpg</th>\n",
       "      <th>cmb_mpg</th>\n",
       "      <th>greenhouse_gas_score</th>\n",
       "    </tr>\n",
       "  </thead>\n",
       "  <tbody>\n",
       "    <tr>\n",
       "      <th>count</th>\n",
       "      <td>541.000000</td>\n",
       "      <td>541.000000</td>\n",
       "      <td>541.000000</td>\n",
       "      <td>541.000000</td>\n",
       "      <td>541.000000</td>\n",
       "      <td>541.000000</td>\n",
       "      <td>541.000000</td>\n",
       "    </tr>\n",
       "    <tr>\n",
       "      <th>mean</th>\n",
       "      <td>1.978189</td>\n",
       "      <td>4.073937</td>\n",
       "      <td>4.959335</td>\n",
       "      <td>29.707948</td>\n",
       "      <td>36.646950</td>\n",
       "      <td>32.306839</td>\n",
       "      <td>6.530499</td>\n",
       "    </tr>\n",
       "    <tr>\n",
       "      <th>std</th>\n",
       "      <td>0.493331</td>\n",
       "      <td>0.569344</td>\n",
       "      <td>1.869396</td>\n",
       "      <td>15.363850</td>\n",
       "      <td>12.388134</td>\n",
       "      <td>13.964045</td>\n",
       "      <td>1.561544</td>\n",
       "    </tr>\n",
       "    <tr>\n",
       "      <th>min</th>\n",
       "      <td>0.600000</td>\n",
       "      <td>2.000000</td>\n",
       "      <td>1.000000</td>\n",
       "      <td>21.000000</td>\n",
       "      <td>26.000000</td>\n",
       "      <td>25.000000</td>\n",
       "      <td>4.000000</td>\n",
       "    </tr>\n",
       "    <tr>\n",
       "      <th>25%</th>\n",
       "      <td>1.600000</td>\n",
       "      <td>4.000000</td>\n",
       "      <td>3.000000</td>\n",
       "      <td>23.000000</td>\n",
       "      <td>31.000000</td>\n",
       "      <td>26.000000</td>\n",
       "      <td>5.000000</td>\n",
       "    </tr>\n",
       "    <tr>\n",
       "      <th>50%</th>\n",
       "      <td>2.000000</td>\n",
       "      <td>4.000000</td>\n",
       "      <td>5.000000</td>\n",
       "      <td>25.000000</td>\n",
       "      <td>33.000000</td>\n",
       "      <td>28.000000</td>\n",
       "      <td>6.000000</td>\n",
       "    </tr>\n",
       "    <tr>\n",
       "      <th>75%</th>\n",
       "      <td>2.000000</td>\n",
       "      <td>4.000000</td>\n",
       "      <td>7.000000</td>\n",
       "      <td>29.000000</td>\n",
       "      <td>37.000000</td>\n",
       "      <td>32.000000</td>\n",
       "      <td>7.000000</td>\n",
       "    </tr>\n",
       "    <tr>\n",
       "      <th>max</th>\n",
       "      <td>4.000000</td>\n",
       "      <td>6.000000</td>\n",
       "      <td>8.000000</td>\n",
       "      <td>145.000000</td>\n",
       "      <td>121.000000</td>\n",
       "      <td>133.000000</td>\n",
       "      <td>10.000000</td>\n",
       "    </tr>\n",
       "  </tbody>\n",
       "</table>\n",
       "</div>"
      ],
      "text/plain": [
       "            displ         cyl  air_pollution_score    city_mpg     hwy_mpg  \\\n",
       "count  541.000000  541.000000           541.000000  541.000000  541.000000   \n",
       "mean     1.978189    4.073937             4.959335   29.707948   36.646950   \n",
       "std      0.493331    0.569344             1.869396   15.363850   12.388134   \n",
       "min      0.600000    2.000000             1.000000   21.000000   26.000000   \n",
       "25%      1.600000    4.000000             3.000000   23.000000   31.000000   \n",
       "50%      2.000000    4.000000             5.000000   25.000000   33.000000   \n",
       "75%      2.000000    4.000000             7.000000   29.000000   37.000000   \n",
       "max      4.000000    6.000000             8.000000  145.000000  121.000000   \n",
       "\n",
       "          cmb_mpg  greenhouse_gas_score  \n",
       "count  541.000000            541.000000  \n",
       "mean    32.306839              6.530499  \n",
       "std     13.964045              1.561544  \n",
       "min     25.000000              4.000000  \n",
       "25%     26.000000              5.000000  \n",
       "50%     28.000000              6.000000  \n",
       "75%     32.000000              7.000000  \n",
       "max    133.000000             10.000000  "
      ]
     },
     "execution_count": 677,
     "metadata": {},
     "output_type": "execute_result"
    }
   ],
   "source": [
    "top_18 = df18c.query('cmb_mpg > cmb_mpg.mean()')\n",
    "top_18.describe()"
   ]
  },
  {
   "cell_type": "markdown",
   "metadata": {},
   "source": [
    "## 最后一个问题！对于 2008 年生产且 2018 年仍在生产中的车型，mpg 有多少改进，哪些车辆的改进最多？\n",
    "这个问题是关于 2008 年以来不断更新换代且 2018 年仍在生产的车型。要回答此问题，我们需要找到两个数据集中都存在的车型，那么先让我们来了解如何将两个数据集合并。"
   ]
  },
  {
   "cell_type": "code",
   "execution_count": 693,
   "metadata": {},
   "outputs": [
    {
     "name": "stdout",
     "output_type": "stream",
     "text": [
      "(1356, 13)\n"
     ]
    },
    {
     "data": {
      "text/plain": [
       "Index(['model', 'displ', 'cyl', 'trans', 'drive', 'fuel', 'veh_class',\n",
       "       'air_pollution_score', 'city_mpg', 'hwy_mpg', 'cmb_mpg',\n",
       "       'greenhouse_gas_score', 'smartway'],\n",
       "      dtype='object')"
      ]
     },
     "execution_count": 693,
     "metadata": {},
     "output_type": "execute_result"
    }
   ],
   "source": [
    "df18d = df18c.copy()\n",
    "df08d = df08c.copy()\n",
    "print(df18d.shape)\n",
    "df18d.columns"
   ]
  },
  {
   "cell_type": "code",
   "execution_count": 694,
   "metadata": {},
   "outputs": [
    {
     "name": "stdout",
     "output_type": "stream",
     "text": [
      "(987, 13)\n"
     ]
    },
    {
     "data": {
      "text/plain": [
       "Index(['model', 'displ', 'cyl', 'trans', 'drive', 'fuel', 'veh_class',\n",
       "       'air_pollution_score', 'city_mpg', 'hwy_mpg', 'cmb_mpg',\n",
       "       'greenhouse_gas_score', 'smartway'],\n",
       "      dtype='object')"
      ]
     },
     "execution_count": 694,
     "metadata": {},
     "output_type": "execute_result"
    }
   ],
   "source": [
    "print(df08d.shape)\n",
    "df08d.columns"
   ]
  },
  {
   "cell_type": "code",
   "execution_count": 696,
   "metadata": {},
   "outputs": [
    {
     "data": {
      "text/plain": [
       "Index(['model_2008', 'displ_2008', 'cyl_2008', 'trans_2008', 'drive_2008',\n",
       "       'fuel_2008', 'veh_class_2008', 'air_pollution_score_2008',\n",
       "       'city_mpg_2008', 'hwy_mpg_2008', 'cmb_mpg_2008',\n",
       "       'greenhouse_gas_score_2008', 'smartway_2008'],\n",
       "      dtype='object')"
      ]
     },
     "execution_count": 696,
     "metadata": {},
     "output_type": "execute_result"
    }
   ],
   "source": [
    "df08d.rename(\n",
    "    columns = lambda x: x + '_2008', inplace = True)\n",
    "    ## 将标题后面增加_2008\n",
    "    ## 只能运行一遍\n",
    "df08d.columns"
   ]
  },
  {
   "cell_type": "code",
   "execution_count": 699,
   "metadata": {},
   "outputs": [
    {
     "data": {
      "text/plain": [
       "Index(['model_2018', 'displ_2018', 'cyl_2018', 'trans_2018', 'drive_2018',\n",
       "       'fuel_2018', 'veh_class_2018', 'air_pollution_score_2018',\n",
       "       'city_mpg_2018', 'hwy_mpg_2018', 'cmb_mpg_2018',\n",
       "       'greenhouse_gas_score_2018', 'smartway_2018'],\n",
       "      dtype='object')"
      ]
     },
     "execution_count": 699,
     "metadata": {},
     "output_type": "execute_result"
    }
   ],
   "source": [
    "df18d.rename(\n",
    "    columns = lambda x: x + '_2018', inplace = True)\n",
    "    ## 将标题后面增加_2008\n",
    "    ## 只能运行一遍\n",
    "df18d.columns"
   ]
  },
  {
   "cell_type": "code",
   "execution_count": 695,
   "metadata": {},
   "outputs": [],
   "source": [
    "# 需要使用merge将2个数据融合\n",
    "# 就能根据mode有2个以上的value count来判断是否两个都有了"
   ]
  },
  {
   "cell_type": "code",
   "execution_count": 701,
   "metadata": {},
   "outputs": [
    {
     "data": {
      "text/html": [
       "<div>\n",
       "<style scoped>\n",
       "    .dataframe tbody tr th:only-of-type {\n",
       "        vertical-align: middle;\n",
       "    }\n",
       "\n",
       "    .dataframe tbody tr th {\n",
       "        vertical-align: top;\n",
       "    }\n",
       "\n",
       "    .dataframe thead th {\n",
       "        text-align: right;\n",
       "    }\n",
       "</style>\n",
       "<table border=\"1\" class=\"dataframe\">\n",
       "  <thead>\n",
       "    <tr style=\"text-align: right;\">\n",
       "      <th></th>\n",
       "      <th>model_2008</th>\n",
       "      <th>displ_2008</th>\n",
       "      <th>cyl_2008</th>\n",
       "      <th>trans_2008</th>\n",
       "      <th>drive_2008</th>\n",
       "      <th>fuel_2008</th>\n",
       "      <th>veh_class_2008</th>\n",
       "      <th>air_pollution_score_2008</th>\n",
       "      <th>city_mpg_2008</th>\n",
       "      <th>hwy_mpg_2008</th>\n",
       "      <th>...</th>\n",
       "      <th>trans_2018</th>\n",
       "      <th>drive_2018</th>\n",
       "      <th>fuel_2018</th>\n",
       "      <th>veh_class_2018</th>\n",
       "      <th>air_pollution_score_2018</th>\n",
       "      <th>city_mpg_2018</th>\n",
       "      <th>hwy_mpg_2018</th>\n",
       "      <th>cmb_mpg_2018</th>\n",
       "      <th>greenhouse_gas_score_2018</th>\n",
       "      <th>smartway_2018</th>\n",
       "    </tr>\n",
       "  </thead>\n",
       "  <tbody>\n",
       "    <tr>\n",
       "      <th>0</th>\n",
       "      <td>ACURA MDX</td>\n",
       "      <td>3.7</td>\n",
       "      <td>6</td>\n",
       "      <td>Auto-S5</td>\n",
       "      <td>4WD</td>\n",
       "      <td>Gasoline</td>\n",
       "      <td>SUV</td>\n",
       "      <td>7.0</td>\n",
       "      <td>25.0</td>\n",
       "      <td>35.0</td>\n",
       "      <td>...</td>\n",
       "      <td>AMS-7</td>\n",
       "      <td>4WD</td>\n",
       "      <td>Gasoline</td>\n",
       "      <td>small SUV</td>\n",
       "      <td>3.0</td>\n",
       "      <td>26.0</td>\n",
       "      <td>27.0</td>\n",
       "      <td>27.0</td>\n",
       "      <td>6.0</td>\n",
       "      <td>No</td>\n",
       "    </tr>\n",
       "    <tr>\n",
       "      <th>1</th>\n",
       "      <td>ACURA MDX</td>\n",
       "      <td>3.7</td>\n",
       "      <td>6</td>\n",
       "      <td>Auto-S5</td>\n",
       "      <td>4WD</td>\n",
       "      <td>Gasoline</td>\n",
       "      <td>SUV</td>\n",
       "      <td>7.0</td>\n",
       "      <td>25.0</td>\n",
       "      <td>35.0</td>\n",
       "      <td>...</td>\n",
       "      <td>SemiAuto-9</td>\n",
       "      <td>2WD</td>\n",
       "      <td>Gasoline</td>\n",
       "      <td>small SUV</td>\n",
       "      <td>3.0</td>\n",
       "      <td>19.0</td>\n",
       "      <td>27.0</td>\n",
       "      <td>22.0</td>\n",
       "      <td>4.0</td>\n",
       "      <td>No</td>\n",
       "    </tr>\n",
       "    <tr>\n",
       "      <th>2</th>\n",
       "      <td>ACURA MDX</td>\n",
       "      <td>3.7</td>\n",
       "      <td>6</td>\n",
       "      <td>Auto-S5</td>\n",
       "      <td>4WD</td>\n",
       "      <td>Gasoline</td>\n",
       "      <td>SUV</td>\n",
       "      <td>7.0</td>\n",
       "      <td>25.0</td>\n",
       "      <td>35.0</td>\n",
       "      <td>...</td>\n",
       "      <td>SemiAuto-9</td>\n",
       "      <td>2WD</td>\n",
       "      <td>Gasoline</td>\n",
       "      <td>small SUV</td>\n",
       "      <td>3.0</td>\n",
       "      <td>20.0</td>\n",
       "      <td>27.0</td>\n",
       "      <td>23.0</td>\n",
       "      <td>5.0</td>\n",
       "      <td>No</td>\n",
       "    </tr>\n",
       "    <tr>\n",
       "      <th>3</th>\n",
       "      <td>ACURA MDX</td>\n",
       "      <td>3.7</td>\n",
       "      <td>6</td>\n",
       "      <td>Auto-S5</td>\n",
       "      <td>4WD</td>\n",
       "      <td>Gasoline</td>\n",
       "      <td>SUV</td>\n",
       "      <td>7.0</td>\n",
       "      <td>25.0</td>\n",
       "      <td>35.0</td>\n",
       "      <td>...</td>\n",
       "      <td>SemiAuto-9</td>\n",
       "      <td>4WD</td>\n",
       "      <td>Gasoline</td>\n",
       "      <td>small SUV</td>\n",
       "      <td>3.0</td>\n",
       "      <td>18.0</td>\n",
       "      <td>26.0</td>\n",
       "      <td>21.0</td>\n",
       "      <td>4.0</td>\n",
       "      <td>No</td>\n",
       "    </tr>\n",
       "    <tr>\n",
       "      <th>4</th>\n",
       "      <td>ACURA MDX</td>\n",
       "      <td>3.7</td>\n",
       "      <td>6</td>\n",
       "      <td>Auto-S5</td>\n",
       "      <td>4WD</td>\n",
       "      <td>Gasoline</td>\n",
       "      <td>SUV</td>\n",
       "      <td>7.0</td>\n",
       "      <td>25.0</td>\n",
       "      <td>35.0</td>\n",
       "      <td>...</td>\n",
       "      <td>SemiAuto-9</td>\n",
       "      <td>4WD</td>\n",
       "      <td>Gasoline</td>\n",
       "      <td>small SUV</td>\n",
       "      <td>3.0</td>\n",
       "      <td>19.0</td>\n",
       "      <td>26.0</td>\n",
       "      <td>22.0</td>\n",
       "      <td>4.0</td>\n",
       "      <td>No</td>\n",
       "    </tr>\n",
       "  </tbody>\n",
       "</table>\n",
       "<p>5 rows × 26 columns</p>\n",
       "</div>"
      ],
      "text/plain": [
       "  model_2008  displ_2008  cyl_2008 trans_2008 drive_2008 fuel_2008  \\\n",
       "0  ACURA MDX         3.7         6    Auto-S5        4WD  Gasoline   \n",
       "1  ACURA MDX         3.7         6    Auto-S5        4WD  Gasoline   \n",
       "2  ACURA MDX         3.7         6    Auto-S5        4WD  Gasoline   \n",
       "3  ACURA MDX         3.7         6    Auto-S5        4WD  Gasoline   \n",
       "4  ACURA MDX         3.7         6    Auto-S5        4WD  Gasoline   \n",
       "\n",
       "  veh_class_2008  air_pollution_score_2008  city_mpg_2008  hwy_mpg_2008  \\\n",
       "0            SUV                       7.0           25.0          35.0   \n",
       "1            SUV                       7.0           25.0          35.0   \n",
       "2            SUV                       7.0           25.0          35.0   \n",
       "3            SUV                       7.0           25.0          35.0   \n",
       "4            SUV                       7.0           25.0          35.0   \n",
       "\n",
       "       ...       trans_2018  drive_2018 fuel_2018 veh_class_2018  \\\n",
       "0      ...            AMS-7         4WD  Gasoline      small SUV   \n",
       "1      ...       SemiAuto-9         2WD  Gasoline      small SUV   \n",
       "2      ...       SemiAuto-9         2WD  Gasoline      small SUV   \n",
       "3      ...       SemiAuto-9         4WD  Gasoline      small SUV   \n",
       "4      ...       SemiAuto-9         4WD  Gasoline      small SUV   \n",
       "\n",
       "   air_pollution_score_2018  city_mpg_2018 hwy_mpg_2018 cmb_mpg_2018  \\\n",
       "0                       3.0           26.0         27.0         27.0   \n",
       "1                       3.0           19.0         27.0         22.0   \n",
       "2                       3.0           20.0         27.0         23.0   \n",
       "3                       3.0           18.0         26.0         21.0   \n",
       "4                       3.0           19.0         26.0         22.0   \n",
       "\n",
       "  greenhouse_gas_score_2018 smartway_2018  \n",
       "0                       6.0            No  \n",
       "1                       4.0            No  \n",
       "2                       5.0            No  \n",
       "3                       4.0            No  \n",
       "4                       4.0            No  \n",
       "\n",
       "[5 rows x 26 columns]"
      ]
     },
     "execution_count": 701,
     "metadata": {},
     "output_type": "execute_result"
    }
   ],
   "source": [
    "# 为什么要有个一样的model呢，因为合并时候要有一列相同才好合并么\n",
    "# merge的说明\n",
    "df_combined = pd.merge(df08d, df18d, left_on='model_2008', right_on='model_2018')\n",
    "df_combined.head()"
   ]
  },
  {
   "cell_type": "code",
   "execution_count": 702,
   "metadata": {},
   "outputs": [
    {
     "data": {
      "text/plain": [
       "(1437, 26)"
      ]
     },
     "execution_count": 702,
     "metadata": {},
     "output_type": "execute_result"
    }
   ],
   "source": [
    "df_combined.shape"
   ]
  },
  {
   "cell_type": "code",
   "execution_count": 703,
   "metadata": {},
   "outputs": [
    {
     "data": {
      "text/plain": [
       "Index(['model_2008', 'displ_2008', 'cyl_2008', 'trans_2008', 'drive_2008',\n",
       "       'fuel_2008', 'veh_class_2008', 'air_pollution_score_2008',\n",
       "       'city_mpg_2008', 'hwy_mpg_2008', 'cmb_mpg_2008',\n",
       "       'greenhouse_gas_score_2008', 'smartway_2008', 'model_2018',\n",
       "       'displ_2018', 'cyl_2018', 'trans_2018', 'drive_2018', 'fuel_2018',\n",
       "       'veh_class_2018', 'air_pollution_score_2018', 'city_mpg_2018',\n",
       "       'hwy_mpg_2018', 'cmb_mpg_2018', 'greenhouse_gas_score_2018',\n",
       "       'smartway_2018'],\n",
       "      dtype='object')"
      ]
     },
     "execution_count": 703,
     "metadata": {},
     "output_type": "execute_result"
    }
   ],
   "source": [
    "df_combined.columns"
   ]
  },
  {
   "cell_type": "code",
   "execution_count": 709,
   "metadata": {},
   "outputs": [],
   "source": [
    "# Plus 其实 merge 也是prefix这个选项的，处理起来就简单多了\n",
    "df18e = df18c.copy()\n",
    "df08e = df08c.copy()\n",
    "\n",
    "# 而且可以用 df1.merge() 这种方式的语法\n",
    "# 重构如下\n",
    "df_combined2 = df08e.merge(df18e, on='model', suffixes=('_2008', '_2018'))\n",
    "\n",
    "# 因为这种方法 on 是同一列，还省去了删除model_2018的工作\n",
    "# 结果如下两个 Cell"
   ]
  },
  {
   "cell_type": "code",
   "execution_count": 710,
   "metadata": {},
   "outputs": [
    {
     "data": {
      "text/plain": [
       "(1437, 25)"
      ]
     },
     "execution_count": 710,
     "metadata": {},
     "output_type": "execute_result"
    }
   ],
   "source": [
    "df_combined2.shape"
   ]
  },
  {
   "cell_type": "code",
   "execution_count": 711,
   "metadata": {},
   "outputs": [
    {
     "data": {
      "text/plain": [
       "Index(['model', 'displ_2008', 'cyl_2008', 'trans_2008', 'drive_2008',\n",
       "       'fuel_2008', 'veh_class_2008', 'air_pollution_score_2008',\n",
       "       'city_mpg_2008', 'hwy_mpg_2008', 'cmb_mpg_2008',\n",
       "       'greenhouse_gas_score_2008', 'smartway_2008', 'displ_2018', 'cyl_2018',\n",
       "       'trans_2018', 'drive_2018', 'fuel_2018', 'veh_class_2018',\n",
       "       'air_pollution_score_2018', 'city_mpg_2018', 'hwy_mpg_2018',\n",
       "       'cmb_mpg_2018', 'greenhouse_gas_score_2018', 'smartway_2018'],\n",
       "      dtype='object')"
      ]
     },
     "execution_count": 711,
     "metadata": {},
     "output_type": "execute_result"
    }
   ],
   "source": [
    "df_combined2.columns"
   ]
  },
  {
   "cell_type": "code",
   "execution_count": 714,
   "metadata": {},
   "outputs": [
    {
     "data": {
      "text/plain": [
       "model\n",
       "ACURA MDX                   20.400000\n",
       "ACURA RDX                   19.500000\n",
       "AUDI A3                     25.000000\n",
       "AUDI A4                     24.000000\n",
       "AUDI A6                     22.333333\n",
       "AUDI A8 L                   17.500000\n",
       "AUDI Q7                     19.000000\n",
       "AUDI R8                     14.000000\n",
       "AUDI S4                     21.000000\n",
       "AUDI S5                     21.000000\n",
       "AUDI S6                     16.000000\n",
       "AUDI S8                     14.000000\n",
       "AUDI TT Coupe               23.000000\n",
       "AUDI TT Roadster            23.000000\n",
       "BMW 750i                    16.500000\n",
       "BMW Alpina B7               16.000000\n",
       "BMW M5                      15.000000\n",
       "BMW M6 Convertible          14.500000\n",
       "BUICK Enclave               17.500000\n",
       "CADILLAC CTS                19.600000\n",
       "CADILLAC Escalade           14.000000\n",
       "CHEVROLET Corvette          14.750000\n",
       "CHEVROLET Equinox           25.000000\n",
       "CHEVROLET Impala            18.250000\n",
       "CHEVROLET Malibu            31.250000\n",
       "CHEVROLET Silverado 15      15.055556\n",
       "CHEVROLET Tahoe 1500        14.375000\n",
       "CHRYSLER 300                16.714286\n",
       "CHRYSLER Pacifica           18.500000\n",
       "DODGE Challenger            15.800000\n",
       "                              ...    \n",
       "PORSCHE Boxster             21.500000\n",
       "PORSCHE Boxster S           20.500000\n",
       "PORSCHE Cayenne             18.000000\n",
       "PORSCHE Cayenne S           17.000000\n",
       "PORSCHE Cayenne Turbo       14.000000\n",
       "PORSCHE Cayman              21.500000\n",
       "PORSCHE Cayman S            20.500000\n",
       "ROLLS-ROYCE Phantom         12.000000\n",
       "SUBARU Forester             23.666667\n",
       "SUBARU Impreza              26.000000\n",
       "SUBARU Legacy               22.500000\n",
       "TOYOTA 4Runner              17.000000\n",
       "TOYOTA Avalon               21.000000\n",
       "TOYOTA Camry                25.500000\n",
       "TOYOTA Corolla              27.666667\n",
       "TOYOTA Highlander           19.750000\n",
       "TOYOTA Highlander Hybrid    29.000000\n",
       "TOYOTA Land Cruiser         13.000000\n",
       "TOYOTA Prius                54.000000\n",
       "TOYOTA RAV4                 22.500000\n",
       "TOYOTA Sequoia              13.000000\n",
       "TOYOTA Sienna               18.500000\n",
       "TOYOTA Tacoma               18.333333\n",
       "TOYOTA Tundra               13.750000\n",
       "TOYOTA Yaris                30.000000\n",
       "VOLKSWAGEN GTI              24.500000\n",
       "VOLKSWAGEN Jetta            26.000000\n",
       "VOLKSWAGEN Passat           22.000000\n",
       "VOLVO S60                   23.000000\n",
       "VOLVO XC 90                 30.600000\n",
       "Name: city_mpg_2018, Length: 122, dtype: float64"
      ]
     },
     "execution_count": 714,
     "metadata": {},
     "output_type": "execute_result"
    }
   ],
   "source": [
    "mpg2018 = df_combined2.groupby('model')['city_mpg_2018'].mean()\n",
    "mpg2018"
   ]
  },
  {
   "cell_type": "code",
   "execution_count": 716,
   "metadata": {},
   "outputs": [
    {
     "data": {
      "text/plain": [
       "model\n",
       "ACURA MDX                   25.000000\n",
       "ACURA RDX                   26.000000\n",
       "AUDI A3                     21.333333\n",
       "AUDI A4                     15.250000\n",
       "AUDI A6                     24.333333\n",
       "AUDI A8 L                   24.000000\n",
       "AUDI Q7                     24.500000\n",
       "AUDI R8                     21.000000\n",
       "AUDI S4                     18.000000\n",
       "AUDI S5                     14.000000\n",
       "AUDI S6                     14.000000\n",
       "AUDI S8                     14.000000\n",
       "AUDI TT Coupe               17.000000\n",
       "AUDI TT Roadster            19.000000\n",
       "BMW 750i                    21.000000\n",
       "BMW Alpina B7               23.000000\n",
       "BMW M5                      23.500000\n",
       "BMW M6 Convertible          19.500000\n",
       "BUICK Enclave               19.000000\n",
       "CADILLAC CTS                17.400000\n",
       "CADILLAC Escalade           17.000000\n",
       "CHEVROLET Corvette          23.000000\n",
       "CHEVROLET Equinox           16.250000\n",
       "CHEVROLET Impala            21.500000\n",
       "CHEVROLET Malibu            22.000000\n",
       "CHEVROLET Silverado 15      20.500000\n",
       "CHEVROLET Tahoe 1500        21.000000\n",
       "CHRYSLER 300                16.800000\n",
       "CHRYSLER Pacifica           17.000000\n",
       "DODGE Challenger            15.000000\n",
       "                              ...    \n",
       "PORSCHE Boxster             17.666667\n",
       "PORSCHE Boxster S           19.000000\n",
       "PORSCHE Cayenne             27.500000\n",
       "PORSCHE Cayenne S           22.000000\n",
       "PORSCHE Cayenne Turbo       18.000000\n",
       "PORSCHE Cayman              18.000000\n",
       "PORSCHE Cayman S            19.500000\n",
       "ROLLS-ROYCE Phantom         18.500000\n",
       "SUBARU Forester             26.500000\n",
       "SUBARU Impreza              26.000000\n",
       "SUBARU Legacy               17.875000\n",
       "TOYOTA 4Runner              18.250000\n",
       "TOYOTA Avalon               24.000000\n",
       "TOYOTA Camry                22.750000\n",
       "TOYOTA Corolla              17.500000\n",
       "TOYOTA Highlander           18.500000\n",
       "TOYOTA Highlander Hybrid    23.000000\n",
       "TOYOTA Land Cruiser         22.000000\n",
       "TOYOTA Prius                18.000000\n",
       "TOYOTA RAV4                 15.500000\n",
       "TOYOTA Sequoia              17.500000\n",
       "TOYOTA Sienna               24.500000\n",
       "TOYOTA Tacoma               25.142857\n",
       "TOYOTA Tundra               23.000000\n",
       "TOYOTA Yaris                24.000000\n",
       "VOLKSWAGEN GTI              24.000000\n",
       "VOLKSWAGEN Jetta            22.166667\n",
       "VOLKSWAGEN Passat           22.500000\n",
       "VOLVO S60                   22.500000\n",
       "VOLVO XC 90                 24.000000\n",
       "Name: city_mpg_2008, Length: 122, dtype: float64"
      ]
     },
     "execution_count": 716,
     "metadata": {},
     "output_type": "execute_result"
    }
   ],
   "source": [
    "mpg2008 = df_combined2.groupby('model')['city_mpg_2008'].mean()\n",
    "mpg2008"
   ]
  },
  {
   "cell_type": "code",
   "execution_count": 717,
   "metadata": {},
   "outputs": [
    {
     "data": {
      "text/plain": [
       "model\n",
       "LEXUS LX 570                   -44.00\n",
       "MASERATI Granturismo           -26.00\n",
       "MERCEDES-BENZ SL550            -13.00\n",
       "JEEP Wrangler                  -12.00\n",
       "KIA Sorento                    -11.67\n",
       "LEXUS ES 350                   -11.00\n",
       "LAND ROVER Range Rover Sport   -10.25\n",
       "DODGE Durango                  -10.15\n",
       "KIA Sedona                     -10.00\n",
       "NISSAN Armada                   -9.50\n",
       "dtype: float64"
      ]
     },
     "execution_count": 717,
     "metadata": {},
     "output_type": "execute_result"
    }
   ],
   "source": [
    "# 两个数据都有了，那么我们画图好了吧\n",
    "# 太多了！根据题目，需要研究的是那些改动最多\n",
    "# 那么先计算一下吧\n",
    "mpgchange = mpg2018 - mpg2008\n",
    "# 我们来排序一下(还有sort_index)\n",
    "top10 = round(mpgchange.sort_values()[:10],2)\n",
    "top10"
   ]
  },
  {
   "cell_type": "code",
   "execution_count": 718,
   "metadata": {},
   "outputs": [
    {
     "name": "stdout",
     "output_type": "stream",
     "text": [
      "-12.0\n",
      "29.25\n",
      "17.25\n"
     ]
    }
   ],
   "source": [
    "# 我们来检查下数据\n",
    "print(mpgchange['JEEP Wrangler'])\n",
    "print(mpg2008['JEEP Wrangler'])\n",
    "print(mpg2018['JEEP Wrangler'])"
   ]
  },
  {
   "cell_type": "code",
   "execution_count": 719,
   "metadata": {},
   "outputs": [
    {
     "data": {
      "text/plain": [
       "model\n",
       "TOYOTA Prius         36.00\n",
       "FORD Focus           12.40\n",
       "HONDA Accord         11.41\n",
       "TOYOTA Corolla       10.17\n",
       "HONDA Fit             9.67\n",
       "HYUNDAI Elantra       9.67\n",
       "CHEVROLET Malibu      9.25\n",
       "AUDI A4               8.75\n",
       "CHEVROLET Equinox     8.75\n",
       "MAZDA MX-5            8.67\n",
       "dtype: float64"
      ]
     },
     "execution_count": 719,
     "metadata": {},
     "output_type": "execute_result"
    }
   ],
   "source": [
    "last10 = round(mpgchange.sort_values(ascending = False)[:10],2)\n",
    "last10"
   ]
  },
  {
   "cell_type": "markdown",
   "metadata": {},
   "source": [
    "### 接下来就可以吧top10和last10画图了，此处自己动手试试吧！"
   ]
  }
 ],
 "metadata": {
  "kernelspec": {
   "display_name": "Python 3",
   "language": "python",
   "name": "python3"
  },
  "language_info": {
   "codemirror_mode": {
    "name": "ipython",
    "version": 3
   },
   "file_extension": ".py",
   "mimetype": "text/x-python",
   "name": "python",
   "nbconvert_exporter": "python",
   "pygments_lexer": "ipython3",
   "version": "3.6.7"
  }
 },
 "nbformat": 4,
 "nbformat_minor": 2
}
