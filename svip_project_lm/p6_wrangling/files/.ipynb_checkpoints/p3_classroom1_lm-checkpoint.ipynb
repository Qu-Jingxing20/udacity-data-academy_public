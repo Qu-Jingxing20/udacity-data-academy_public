{
 "cells": [
  {
   "cell_type": "markdown",
   "metadata": {},
   "source": [
    "# 结论推导测试题\n",
    "在下面的空白处探索 `store_data.csv`，回答以下测试题。"
   ]
  },
  {
   "cell_type": "code",
   "execution_count": 1,
   "metadata": {},
   "outputs": [
    {
     "name": "stdout",
     "output_type": "stream",
     "text": [
      "week      object\n",
      "storeA     int64\n",
      "storeB     int64\n",
      "storeC     int64\n",
      "storeD     int64\n",
      "storeE     int64\n",
      "dtype: object\n",
      "        week  storeA  storeB  storeC  storeD  storeE\n",
      "0 2014-05-04    2643    8257    3893    6231    1294\n",
      "1 2014-05-11    6444    5736    5634    7092    2907\n",
      "2 2014-05-18    9646    2552    4253    5447    4736\n",
      "<class 'pandas.core.frame.DataFrame'>\n",
      "RangeIndex: 200 entries, 0 to 199\n",
      "Data columns (total 6 columns):\n",
      "week      200 non-null datetime64[ns]\n",
      "storeA    200 non-null int64\n",
      "storeB    200 non-null int64\n",
      "storeC    200 non-null int64\n",
      "storeD    200 non-null int64\n",
      "storeE    200 non-null int64\n",
      "dtypes: datetime64[ns](1), int64(5)\n",
      "memory usage: 9.5 KB\n"
     ]
    }
   ],
   "source": [
    "# 导入并加载数据\n",
    "import pandas as pd\n",
    "import matplotlib.pyplot as plt\n",
    "% matplotlib inline\n",
    "\n",
    "# 读入数据\n",
    "df = pd.read_csv('store_data.csv')\n",
    "# 看下type注意week的类型是object也就是字符了\n",
    "print(df.dtypes)\n",
    "# 转换成datatime格式\n",
    "df['week'] = pd.to_datetime(df['week'])\n",
    "# 检查下数据\n",
    "print(df.head(3))\n",
    "df.info()"
   ]
  },
  {
   "cell_type": "code",
   "execution_count": 2,
   "metadata": {},
   "outputs": [
    {
     "name": "stdout",
     "output_type": "stream",
     "text": [
      "0    5\n",
      "1    5\n",
      "2    5\n",
      "3    5\n",
      "4    6\n",
      "Name: week, dtype: int64\n"
     ]
    },
    {
     "data": {
      "text/plain": [
       "pandas.core.series.Series"
      ]
     },
     "execution_count": 2,
     "metadata": {},
     "output_type": "execute_result"
    }
   ],
   "source": [
    "# 接下来我们熟悉下datatime的操作\n",
    "# 通过.dt可以得到week着列的year、month、day的信息，比如\n",
    "print(df['week'].dt.month.head())\n",
    "# 注意输出的前3个数据都是5月，那么输出的是个什么类型的数据呢？\n",
    "type(df['week'].dt.month)\n",
    "# 对是pandas的一维数据结构Series，就是一串带索引的数值\n",
    "# 而数值就是刚刚.dt.month解析出来的月"
   ]
  },
  {
   "cell_type": "code",
   "execution_count": 3,
   "metadata": {},
   "outputs": [
    {
     "name": "stdout",
     "output_type": "stream",
     "text": [
      "2018 2 25\n",
      "          week  storeA  storeB  storeC  storeD  storeE\n",
      "199 2018-02-25    7560    6904    3569    5045    2585\n"
     ]
    },
    {
     "data": {
      "text/html": [
       "<div>\n",
       "<style scoped>\n",
       "    .dataframe tbody tr th:only-of-type {\n",
       "        vertical-align: middle;\n",
       "    }\n",
       "\n",
       "    .dataframe tbody tr th {\n",
       "        vertical-align: top;\n",
       "    }\n",
       "\n",
       "    .dataframe thead th {\n",
       "        text-align: right;\n",
       "    }\n",
       "</style>\n",
       "<table border=\"1\" class=\"dataframe\">\n",
       "  <thead>\n",
       "    <tr style=\"text-align: right;\">\n",
       "      <th></th>\n",
       "      <th>week</th>\n",
       "      <th>storeA</th>\n",
       "      <th>storeB</th>\n",
       "      <th>storeC</th>\n",
       "      <th>storeD</th>\n",
       "      <th>storeE</th>\n",
       "    </tr>\n",
       "  </thead>\n",
       "  <tbody>\n",
       "    <tr>\n",
       "      <th>199</th>\n",
       "      <td>2018-02-25</td>\n",
       "      <td>7560</td>\n",
       "      <td>6904</td>\n",
       "      <td>3569</td>\n",
       "      <td>5045</td>\n",
       "      <td>2585</td>\n",
       "    </tr>\n",
       "  </tbody>\n",
       "</table>\n",
       "</div>"
      ],
      "text/plain": [
       "          week  storeA  storeB  storeC  storeD  storeE\n",
       "199 2018-02-25    7560    6904    3569    5045    2585"
      ]
     },
     "execution_count": 3,
     "metadata": {},
     "output_type": "execute_result"
    }
   ],
   "source": [
    "# 那么我们继续探索，怎么发现最大年，月与日呢？\n",
    "# 为了方便以后使用我们定几个个变量max_year，max_month, max_day\n",
    "\n",
    "max_year = df['week'].dt.year.max()\n",
    "# 对于year，我们直接.dt.year后面跟一个max()就可以了\n",
    "\n",
    "max_month = df[df['week'].dt.year == max_year]['week'].dt.month.max()\n",
    "# 这里稍微麻烦些，我要确定在最大年的最大月是多少\n",
    "# 如果不加限制的话，肯定输出12月，就没有意义了\n",
    "# 还记得dataframe的filter用法么？\n",
    "# df[中间是过滤条件]\n",
    "# 于是我们用[df['week'].dt.year == max_year]表示年做个限定\n",
    "# 最后使用dt.month.max()求出最大月\n",
    "\n",
    "max_day = df[(df['week'].dt.year == max_year) &\n",
    "             (df['week'].dt.month == max_month)]['week'].dt.day.max()\n",
    "# 与上面大致相同，就是要加入两个过滤条件\n",
    "# [(条件1) & (条件2)]\n",
    "\n",
    "# 最后检查下是否和数据一致\n",
    "print(max_year, max_month, max_day)\n",
    "print(df.tail(1))\n",
    "\n",
    "# 根据这个规则就可以选中这一列了\n",
    "df[(df['week'].dt.year == max_year) &\n",
    "   (df['week'].dt.month == max_month) &\n",
    "   (df['week'].dt.day == max_day)]"
   ]
  },
  {
   "cell_type": "code",
   "execution_count": 4,
   "metadata": {},
   "outputs": [
    {
     "name": "stdout",
     "output_type": "stream",
     "text": [
      "          week  storeA  storeB  storeC  storeD  storeE\n",
      "196 2018-02-04    4853    6503    4187    5956    1458\n",
      "197 2018-02-11    9202    3677    4540    6186     243\n",
      "198 2018-02-18    3512    7511    4151    5596    3501\n",
      "199 2018-02-25    7560    6904    3569    5045    2585\n"
     ]
    },
    {
     "data": {
      "text/plain": [
       "96739"
      ]
     },
     "execution_count": 4,
     "metadata": {},
     "output_type": "execute_result"
    }
   ],
   "source": [
    "# 最后一个月的总销售额\n",
    "last_month = df[(df['week'].dt.year == max_year) &\n",
    "                (df['week'].dt.month == max_month)]\n",
    "print(last_month)\n",
    "# 检查没有问题，我们用sum求和\n",
    "last_month.sum().sum()\n",
    "# 第一个sum是没列求和（每个stroe的），第二个是把A-Estore的再求和"
   ]
  },
  {
   "cell_type": "code",
   "execution_count": 5,
   "metadata": {},
   "outputs": [
    {
     "data": {
      "text/plain": [
       "storeA    5865.480\n",
       "storeB    6756.710\n",
       "storeC    4942.105\n",
       "storeD    5431.405\n",
       "storeE    2580.025\n",
       "dtype: float64"
      ]
     },
     "execution_count": 5,
     "metadata": {},
     "output_type": "execute_result"
    }
   ],
   "source": [
    "# 平均销售额\n",
    "df.mean()"
   ]
  },
  {
   "cell_type": "code",
   "execution_count": 6,
   "metadata": {},
   "outputs": [
    {
     "data": {
      "text/plain": [
       "16605"
      ]
     },
     "execution_count": 6,
     "metadata": {},
     "output_type": "execute_result"
    }
   ],
   "source": [
    "# 2016 年 3 月 13 日的销售额\n",
    "df[df['week'] == '2016-03-13'].sum()[1:].sum()\n",
    "# 直接filter中输入要的日期就好了\n",
    "# 注意这种过滤和上面的year\\month\\day的过滤不同\n",
    "# 当第一次sum以后，会有week这行信息\n",
    "# 如果在sum会报错，因为这行不能sum\n",
    "# 加一个[1:]把week这行去掉，就好了"
   ]
  },
  {
   "cell_type": "code",
   "execution_count": 7,
   "metadata": {},
   "outputs": [
    {
     "name": "stdout",
     "output_type": "stream",
     "text": [
      "9\n",
      "week      2014-07-06 00:00:00\n",
      "storeA                   8567\n",
      "storeB                   3228\n",
      "storeC                    927\n",
      "storeD                   3277\n",
      "storeE                    168\n",
      "Name: 9, dtype: object\n",
      "927\n",
      "2014-07-06 00:00:00\n"
     ]
    }
   ],
   "source": [
    "# C 店销售额最低的一周\n",
    "print(df['storeC'].idxmin())\n",
    "# 先使用idxmin找到最小值的索引\n",
    "print(df.iloc[df['storeC'].idxmin()])\n",
    "# 再打印出来\n",
    "# 可以使用.min检查值对不对\n",
    "print(df['storeC'].min())\n",
    "# 最后要求的是最低一周\n",
    "print(df.iloc[df['storeC'].idxmin()]['week'])\n",
    "# 就是独立输出week的值了"
   ]
  },
  {
   "cell_type": "code",
   "execution_count": 8,
   "metadata": {},
   "outputs": [
    {
     "data": {
      "text/plain": [
       "581594"
      ]
     },
     "execution_count": 8,
     "metadata": {},
     "output_type": "execute_result"
    }
   ],
   "source": [
    "# 最后3个月的\n",
    "# 简单的就是把3个sum.sum进行加和\n",
    "\n",
    "def lastmonths(n):\n",
    "   # 首先是计算出来最后一个月的\n",
    "    current_year = max_year\n",
    "    current_month = max_month\n",
    "    total = 0\n",
    "    while n > 0:\n",
    "        total = total + df[(df['week'].dt.year == current_year) & (df['week'].dt.month == current_month)].sum().sum()\n",
    "        # 定义下total是由每次循环的总数加和得来的\n",
    "        # 注意条件已经变成了current_year和current_month\n",
    "        if current_month == 1:\n",
    "            current_month = 12\n",
    "            current_year = current_year - 1\n",
    "            # 这里要做个判断，如果是1月了，就要变化到前一年的12月\n",
    "        else:\n",
    "            current_month = current_month - 1\n",
    "            # 否则的话只月数少1\n",
    "        n = n-1\n",
    "        # n计数减1\n",
    "    return total\n",
    "    # 返回总数\n",
    "\n",
    "lastmonths(5)\n",
    "# 调用函数，想看几个月看几个月"
   ]
  },
  {
   "cell_type": "code",
   "execution_count": 20,
   "metadata": {},
   "outputs": [
    {
     "data": {
      "text/plain": [
       "Timestamp('2018-02-25 00:00:00')"
      ]
     },
     "execution_count": 20,
     "metadata": {},
     "output_type": "execute_result"
    }
   ],
   "source": [
    "# plus\n",
    "# 附加找到最后一个月的简洁方法，和推算最后n个月的方法\n",
    "# 感谢Kaido同学提供的方法(出于一致性原因有些调整)\n",
    "df['week'].max()\n",
    "# 注意筛选出来的max已经是Timestap格式了，不能用dt进行元素抽离"
   ]
  },
  {
   "cell_type": "code",
   "execution_count": 21,
   "metadata": {},
   "outputs": [
    {
     "data": {
      "text/plain": [
       "2018"
      ]
     },
     "execution_count": 21,
     "metadata": {},
     "output_type": "execute_result"
    }
   ],
   "source": [
    "# df['week'].max().dt.year 这种是错的\n",
    "# 这种可以搞出来最大年\n",
    "df['week'].dt.year.max()"
   ]
  },
  {
   "cell_type": "code",
   "execution_count": 28,
   "metadata": {},
   "outputs": [
    {
     "data": {
      "text/plain": [
       "2018"
      ]
     },
     "execution_count": 28,
     "metadata": {},
     "output_type": "execute_result"
    }
   ],
   "source": [
    "# 因为是Timestamp格式，直接使用.year就可以\n",
    "df['week'].max().year"
   ]
  },
  {
   "cell_type": "code",
   "execution_count": 32,
   "metadata": {},
   "outputs": [
    {
     "data": {
      "text/plain": [
       "Timedelta('1 days 00:00:00')"
      ]
     },
     "execution_count": 32,
     "metadata": {},
     "output_type": "execute_result"
    }
   ],
   "source": [
    "pd.Timedelta('1day')"
   ]
  },
  {
   "cell_type": "code",
   "execution_count": 22,
   "metadata": {},
   "outputs": [],
   "source": [
    "def get_last_n_month(date, n):\n",
    "    for i in range(n):\n",
    "        # 使用Timestemp方法定义年、月、日 （ ）中的3个参数\n",
    "        # 减去1天\n",
    "        date = pd.Timestamp(date.year, date.month, 1) \\\n",
    "        - pd.Timedelta('1day')\n",
    "    # 上面for循环的意思就是，每循环一遍减少1天，所以从1号就变成了上月最后一天\n",
    "    # 最后调整下返回\n",
    "    return date + pd.Timedelta('1day')"
   ]
  },
  {
   "cell_type": "code",
   "execution_count": 34,
   "metadata": {},
   "outputs": [
    {
     "data": {
      "text/plain": [
       "Timestamp('2017-12-01 00:00:00')"
      ]
     },
     "execution_count": 34,
     "metadata": {},
     "output_type": "execute_result"
    }
   ],
   "source": [
    "get_last_n_month(df['week'].max(), 3)"
   ]
  },
  {
   "cell_type": "code",
   "execution_count": 36,
   "metadata": {},
   "outputs": [
    {
     "data": {
      "text/plain": [
       "Period('2018-02', 'M')"
      ]
     },
     "execution_count": 36,
     "metadata": {},
     "output_type": "execute_result"
    }
   ],
   "source": [
    "# 使用Period也可以的\n",
    "temp2 = pd.Period(df['week'].max(), freq='M')\n",
    "temp2"
   ]
  },
  {
   "cell_type": "code",
   "execution_count": 39,
   "metadata": {},
   "outputs": [
    {
     "data": {
      "text/plain": [
       "pandas._libs.tslibs.period.Period"
      ]
     },
     "execution_count": 39,
     "metadata": {},
     "output_type": "execute_result"
    }
   ],
   "source": [
    "type((temp2 - 2))"
   ]
  },
  {
   "cell_type": "code",
   "execution_count": 40,
   "metadata": {},
   "outputs": [
    {
     "data": {
      "text/plain": [
       "Timestamp('2017-12-01 00:00:00')"
      ]
     },
     "execution_count": 40,
     "metadata": {},
     "output_type": "execute_result"
    }
   ],
   "source": [
    "(temp2 - 2).to_timestamp()"
   ]
  }
 ],
 "metadata": {
  "kernelspec": {
   "display_name": "Python 3",
   "language": "python",
   "name": "python3"
  },
  "language_info": {
   "codemirror_mode": {
    "name": "ipython",
    "version": 3
   },
   "file_extension": ".py",
   "mimetype": "text/x-python",
   "name": "python",
   "nbconvert_exporter": "python",
   "pygments_lexer": "ipython3",
   "version": "3.6.6"
  }
 },
 "nbformat": 4,
 "nbformat_minor": 2
}
