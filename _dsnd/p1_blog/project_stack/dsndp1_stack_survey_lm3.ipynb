{
 "cells": [
  {
   "cell_type": "markdown",
   "metadata": {},
   "source": [
    "> jupyter 使用 toc 扩展进行编辑,建议开启,比较方便阅读和查找\n"
   ]
  },
  {
   "cell_type": "markdown",
   "metadata": {
    "hide_input": true
   },
   "source": [
    "## _**Load Data**_\n",
    "### / import lib\n",
    "### / load df"
   ]
  },
  {
   "cell_type": "code",
   "execution_count": 1,
   "metadata": {
    "ExecuteTime": {
     "end_time": "2019-07-21T22:53:38.440373Z",
     "start_time": "2019-07-21T22:53:38.424988Z"
    },
    "hide_input": true
   },
   "outputs": [],
   "source": [
    "# import libs\n",
    "import pandas as pd\n",
    "import numpy as np\n",
    "\n",
    "import pprint  as pp\n",
    "import sys\n",
    "\n",
    "import matplotlib as plt\n",
    "\n",
    "%matplotlib inline"
   ]
  },
  {
   "cell_type": "code",
   "execution_count": 3,
   "metadata": {
    "ExecuteTime": {
     "end_time": "2019-07-21T02:00:56.892268Z",
     "start_time": "2019-07-21T02:00:56.887302Z"
    },
    "hide_input": false
   },
   "outputs": [],
   "source": [
    "# load data (pass)\n",
    "# for too large csv for git\n",
    "# use zip to solve\n",
    "\n",
    "'''\n",
    "## set file env\n",
    "project_folder = '~/git/udacity-private/_dsnd/p1_blog/project_stack/'\n",
    "sub_folder_list = ['developer_survey_2019/','developer_survey_2018/','developer_survey_2017/']\n",
    "file_prefix = 'survey_results_'\n",
    "file_domain_list = ['public','schema']\n",
    "file_type = '.csv'\n",
    "zip_tpye= '.zip'\n",
    "\n",
    "## set file var\n",
    "f2019_public = project_folder + sub_folder_list[0] + file_prefix + file_domain_list[0] + file_type\n",
    "f2019_shcema = project_folder + sub_folder_list[0] + file_prefix + file_domain_list[1] + file_type\n",
    "f2018_public = project_folder + sub_folder_list[1] + file_prefix + file_domain_list[0] + file_type\n",
    "f2018_shcema = project_folder + sub_folder_list[1] + file_prefix + file_domain_list[1] + file_type\n",
    "f2017_public = project_folder + sub_folder_list[2] + file_prefix + file_domain_list[0] + file_type\n",
    "f2017_shcema = project_folder + sub_folder_list[2] + file_prefix + file_domain_list[1] + file_type\n",
    "\n",
    "## load file\n",
    "df2019d = pd.read_csv(f2019_public)\n",
    "df2019s = pd.read_csv(f2019_shcema)\n",
    "df2018d = pd.read_csv(f2018_public)\n",
    "df2018s = pd.read_csv(f2018_shcema)\n",
    "df2017d = pd.read_csv(f2017_public)\n",
    "df2017s = pd.read_csv(f2017_shcema)\n",
    "\n",
    "## creat dflist\n",
    "df_list = [df2019d, df2019s, df2018d, df2018s, df2017d, df2017s]\n",
    "\n",
    "### refactory use dic\n",
    "### https://stackoverflow.com/questions/6181935/how-do-you-create-different-variable-names-while-in-a-loop\n",
    "''';"
   ]
  },
  {
   "cell_type": "code",
   "execution_count": 10,
   "metadata": {
    "ExecuteTime": {
     "end_time": "2019-07-21T02:03:42.968848Z",
     "start_time": "2019-07-21T02:03:41.646801Z"
    }
   },
   "outputs": [
    {
     "name": "stdout",
     "output_type": "stream",
     "text": [
      "Archive:  /Users/francis/git/udacity-private/_dsnd/p1_blog/project_stack/developer_survey_2019/survey_results_public.csv.zip\n",
      "  inflating: survey_results_public.csv  \n",
      "  inflating: __MACOSX/._survey_results_public.csv  \n"
     ]
    }
   ],
   "source": [
    "# load data from zip\n",
    "## set file env (mac)\n",
    "project_folder = '~/git/udacity-private/_dsnd/p1_blog/project_stack'\n",
    "sub_folder_list = ['/developer_survey_2019/','developer_survey_2018/','developer_survey_2017/']\n",
    "file_prefix = 'survey_results_'\n",
    "file_domain_list = ['public','schema']\n",
    "file_type = '.csv'\n",
    "zip_type= '.zip'\n",
    "\n",
    "## define zip file (only 2019 data)\n",
    "f2019_zip = sub_folder_list[0] + file_prefix + file_domain_list[0] + file_type + zip_type\n",
    "f2019_zip\n",
    "\n",
    "## unzip file\n",
    "!unzip -o ~/git/udacity-private/_dsnd/p1_blog/project_stack/developer_survey_2019/survey_results_public.csv.zip\n",
    "\n",
    "## for larger files, can sep with chunk\n",
    "'''\n",
    "chunksize = 500\n",
    "chunks = []\n",
    "for chunk in pd.read_csv('pizza.csv', chunksize=chunksize):\n",
    "    # Do stuff...\n",
    "    chunks.append(chunk)\n",
    "\n",
    "df = pd.concat(chunks, axis=0)\n",
    "'''"
   ]
  },
  {
   "cell_type": "code",
   "execution_count": 11,
   "metadata": {
    "ExecuteTime": {
     "end_time": "2019-07-21T02:03:43.263312Z",
     "start_time": "2019-07-21T02:03:43.003542Z"
    }
   },
   "outputs": [
    {
     "name": "stdout",
     "output_type": "stream",
     "text": [
      "/Users/francis/git/udacity-private/_dsnd/p1_blog/project_stack\n",
      "total 387688\n",
      "drwxr-xr-x  16 francis  staff        512  7 21 10:03 \u001b[34m.\u001b[m\u001b[m\n",
      "drwxr-xr-x   5 francis  staff        160  7 15 14:32 \u001b[34m..\u001b[m\u001b[m\n",
      "-rw-r--r--@  1 francis  staff       6148  7 20 10:56 .DS_Store\n",
      "drwxr-xr-x   9 francis  staff        288  7 21 10:02 \u001b[34m.ipynb_checkpoints\u001b[m\u001b[m\n",
      "drwxrwxr-x   3 francis  staff         96  7 21 10:03 \u001b[34m__MACOSX\u001b[m\u001b[m\n",
      "-rw-r--r--@  1 francis  staff      64532  7 15 14:57 capestone_report_Investigate.ipynb\n",
      "-rw-r--r--@  1 francis  staff      18113  7 15 14:58 capestone_report_solution1.ipynb\n",
      "-rw-r--r--@  1 francis  staff      43395  7 15 14:58 capestone_report_visual.ipynb\n",
      "drwx------@  7 francis  staff        224  7 19 13:45 \u001b[34mdeveloper_survey_2017\u001b[m\u001b[m\n",
      "drwx------@  7 francis  staff        224  7 19 13:47 \u001b[34mdeveloper_survey_2018\u001b[m\u001b[m\n",
      "drwx------@  6 francis  staff        192  7 19 11:20 \u001b[34mdeveloper_survey_2019\u001b[m\u001b[m\n",
      "-rw-r--r--@  1 francis  staff      49826  7 19 14:28 dsndp1_stack_survey.ipynb\n",
      "-rw-r--r--@  1 francis  staff     104362  7 19 14:48 dsndp1_stack_survey_lm.ipynb\n",
      "-rw-r--r--   1 francis  staff     104363  7 21 10:01 dsndp1_stack_survey_lm2-Copy1.ipynb\n",
      "-rw-r--r--@  1 francis  staff     104623  7 21 10:02 dsndp1_stack_survey_lm2.ipynb\n",
      "-rw-r--r--   1 francis  staff  196592730  4 19 01:08 survey_results_public.csv\n"
     ]
    }
   ],
   "source": [
    "# check files\n",
    "! pwd\n",
    "! ls -al"
   ]
  },
  {
   "cell_type": "code",
   "execution_count": 12,
   "metadata": {
    "ExecuteTime": {
     "end_time": "2019-07-21T02:03:47.690209Z",
     "start_time": "2019-07-21T02:03:44.244701Z"
    }
   },
   "outputs": [],
   "source": [
    "# load files\n",
    "\n",
    "## set file env\n",
    "project_folder = '~/git/udacity-private/_dsnd/p1_blog/project_stack/'\n",
    "sub_folder_list = ['developer_survey_2019/','developer_survey_2018/','developer_survey_2017/']\n",
    "file_prefix = 'survey_results_'\n",
    "file_domain_list = ['public','schema']\n",
    "file_type = '.csv'\n",
    "zip_tpye= '.zip'\n",
    "\n",
    "## set file var\n",
    "f2019_public = file_prefix + file_domain_list[0] + file_type\n",
    "\n",
    "## load file\n",
    "df2019d = pd.read_csv(f2019_public)\n",
    "#df2019s = pd.read_csv(f2019_shcema)\n",
    "#df2018d = pd.read_csv(f2018_public)\n",
    "#df2018s = pd.read_csv(f2018_shcema)\n",
    "#df2017d = pd.read_csv(f2017_public)\n",
    "#df2017s = pd.read_csv(f2017_shcema)\n",
    "\n",
    "# load df\n",
    "## read_jason 有很多参数,可以参考官方文档\n",
    "## 此处要加 lines=True\n",
    "## https://pandas.pydata.org/pandas-docs/stable/reference/api/pandas.read_json.html"
   ]
  },
  {
   "cell_type": "code",
   "execution_count": 13,
   "metadata": {
    "ExecuteTime": {
     "end_time": "2019-07-21T02:03:49.041608Z",
     "start_time": "2019-07-21T02:03:48.618017Z"
    }
   },
   "outputs": [
    {
     "name": "stdout",
     "output_type": "stream",
     "text": [
      "total 387688\n",
      "drwxr-xr-x  16 francis  staff        512  7 21 10:03 \u001b[34m.\u001b[m\u001b[m\n",
      "drwxr-xr-x   5 francis  staff        160  7 15 14:32 \u001b[34m..\u001b[m\u001b[m\n",
      "-rw-r--r--@  1 francis  staff       6148  7 20 10:56 .DS_Store\n",
      "drwxr-xr-x   9 francis  staff        288  7 21 10:02 \u001b[34m.ipynb_checkpoints\u001b[m\u001b[m\n",
      "drwxrwxr-x   3 francis  staff         96  7 21 10:03 \u001b[34m__MACOSX\u001b[m\u001b[m\n",
      "-rw-r--r--@  1 francis  staff      64532  7 15 14:57 capestone_report_Investigate.ipynb\n",
      "-rw-r--r--@  1 francis  staff      18113  7 15 14:58 capestone_report_solution1.ipynb\n",
      "-rw-r--r--@  1 francis  staff      43395  7 15 14:58 capestone_report_visual.ipynb\n",
      "drwx------@  7 francis  staff        224  7 19 13:45 \u001b[34mdeveloper_survey_2017\u001b[m\u001b[m\n",
      "drwx------@  7 francis  staff        224  7 19 13:47 \u001b[34mdeveloper_survey_2018\u001b[m\u001b[m\n",
      "drwx------@  6 francis  staff        192  7 19 11:20 \u001b[34mdeveloper_survey_2019\u001b[m\u001b[m\n",
      "-rw-r--r--@  1 francis  staff      49826  7 19 14:28 dsndp1_stack_survey.ipynb\n",
      "-rw-r--r--@  1 francis  staff     104362  7 19 14:48 dsndp1_stack_survey_lm.ipynb\n",
      "-rw-r--r--   1 francis  staff     104363  7 21 10:01 dsndp1_stack_survey_lm2-Copy1.ipynb\n",
      "-rw-r--r--@  1 francis  staff     104623  7 21 10:02 dsndp1_stack_survey_lm2.ipynb\n",
      "-rw-r--r--   1 francis  staff  196592730  4 19 01:08 survey_results_public.csv\n",
      "total 1000\n",
      "drwxr-xr-x  15 francis  staff     480  7 21 10:03 \u001b[34m.\u001b[m\u001b[m\n",
      "drwxr-xr-x   5 francis  staff     160  7 15 14:32 \u001b[34m..\u001b[m\u001b[m\n",
      "-rw-r--r--@  1 francis  staff    6148  7 20 10:56 .DS_Store\n",
      "drwxr-xr-x   9 francis  staff     288  7 21 10:02 \u001b[34m.ipynb_checkpoints\u001b[m\u001b[m\n",
      "drwxrwxr-x   3 francis  staff      96  7 21 10:03 \u001b[34m__MACOSX\u001b[m\u001b[m\n",
      "-rw-r--r--@  1 francis  staff   64532  7 15 14:57 capestone_report_Investigate.ipynb\n",
      "-rw-r--r--@  1 francis  staff   18113  7 15 14:58 capestone_report_solution1.ipynb\n",
      "-rw-r--r--@  1 francis  staff   43395  7 15 14:58 capestone_report_visual.ipynb\n",
      "drwx------@  7 francis  staff     224  7 19 13:45 \u001b[34mdeveloper_survey_2017\u001b[m\u001b[m\n",
      "drwx------@  7 francis  staff     224  7 19 13:47 \u001b[34mdeveloper_survey_2018\u001b[m\u001b[m\n",
      "drwx------@  6 francis  staff     192  7 19 11:20 \u001b[34mdeveloper_survey_2019\u001b[m\u001b[m\n",
      "-rw-r--r--@  1 francis  staff   49826  7 19 14:28 dsndp1_stack_survey.ipynb\n",
      "-rw-r--r--@  1 francis  staff  104362  7 19 14:48 dsndp1_stack_survey_lm.ipynb\n",
      "-rw-r--r--   1 francis  staff  104363  7 21 10:01 dsndp1_stack_survey_lm2-Copy1.ipynb\n",
      "-rw-r--r--@  1 francis  staff  104623  7 21 10:02 dsndp1_stack_survey_lm2.ipynb\n"
     ]
    }
   ],
   "source": [
    "# delete csv file\n",
    "!ls -al\n",
    "!rm survey_results_public.csv\n",
    "!ls -al\n",
    "### need refactory on file handle\n",
    "### may use zipfile, os, sys libs"
   ]
  },
  {
   "cell_type": "code",
   "execution_count": 17,
   "metadata": {
    "ExecuteTime": {
     "end_time": "2019-07-21T02:04:08.366953Z",
     "start_time": "2019-07-21T02:04:08.358112Z"
    },
    "hide_input": true
   },
   "outputs": [],
   "source": [
    "# check df file (not run)\n",
    "'''\n",
    "for i in df_list:\n",
    "    print('\\n---checking item---\\n')\n",
    "    print(i.shape)\n",
    "    print(i.info())\n",
    "''';\n",
    "### original checking many dfs, left for refactory"
   ]
  },
  {
   "cell_type": "markdown",
   "metadata": {},
   "source": [
    "### / check feature"
   ]
  },
  {
   "cell_type": "code",
   "execution_count": 19,
   "metadata": {
    "ExecuteTime": {
     "end_time": "2019-07-21T02:09:19.982139Z",
     "start_time": "2019-07-21T02:09:19.973694Z"
    }
   },
   "outputs": [],
   "source": [
    "# check features (not run)\n",
    "## there are too many features\n",
    "## featrues diffs form year to year\n",
    "\n",
    "## load column as array\n",
    "'''\n",
    "q2019_array = df2019s.Column.values\n",
    "q2018_array = df2018s.Column.values\n",
    "q2017_array = df2017s.Column.values\n",
    "''';\n",
    "### list name can not start with int"
   ]
  },
  {
   "cell_type": "code",
   "execution_count": 20,
   "metadata": {
    "ExecuteTime": {
     "end_time": "2019-07-21T02:09:20.654731Z",
     "start_time": "2019-07-21T02:09:20.649371Z"
    }
   },
   "outputs": [],
   "source": [
    "## check similarity\n",
    "'''\n",
    "print(len(q2019_array), len(q2018_array), len(q2017_array))\n",
    "print(len(np.intersect1d(q2019_array,q2018_array)))\n",
    "print(len(np.intersect1d(q2019_array,q2017_array)))\n",
    "print(len(np.intersect1d(q2018_array,q2017_array)))\n",
    "## too many different / human check\n",
    "## only use 2019 data for analysis\n",
    "''';"
   ]
  },
  {
   "cell_type": "code",
   "execution_count": 21,
   "metadata": {
    "ExecuteTime": {
     "end_time": "2019-07-21T02:09:21.337684Z",
     "start_time": "2019-07-21T02:09:21.302241Z"
    }
   },
   "outputs": [
    {
     "data": {
      "text/html": [
       "<div>\n",
       "<style scoped>\n",
       "    .dataframe tbody tr th:only-of-type {\n",
       "        vertical-align: middle;\n",
       "    }\n",
       "\n",
       "    .dataframe tbody tr th {\n",
       "        vertical-align: top;\n",
       "    }\n",
       "\n",
       "    .dataframe thead th {\n",
       "        text-align: right;\n",
       "    }\n",
       "</style>\n",
       "<table border=\"1\" class=\"dataframe\">\n",
       "  <thead>\n",
       "    <tr style=\"text-align: right;\">\n",
       "      <th></th>\n",
       "      <th>Respondent</th>\n",
       "      <th>MainBranch</th>\n",
       "      <th>Hobbyist</th>\n",
       "      <th>OpenSourcer</th>\n",
       "      <th>OpenSource</th>\n",
       "      <th>Employment</th>\n",
       "      <th>Country</th>\n",
       "      <th>Student</th>\n",
       "      <th>EdLevel</th>\n",
       "      <th>UndergradMajor</th>\n",
       "      <th>...</th>\n",
       "      <th>WelcomeChange</th>\n",
       "      <th>SONewContent</th>\n",
       "      <th>Age</th>\n",
       "      <th>Gender</th>\n",
       "      <th>Trans</th>\n",
       "      <th>Sexuality</th>\n",
       "      <th>Ethnicity</th>\n",
       "      <th>Dependents</th>\n",
       "      <th>SurveyLength</th>\n",
       "      <th>SurveyEase</th>\n",
       "    </tr>\n",
       "  </thead>\n",
       "  <tbody>\n",
       "    <tr>\n",
       "      <th>0</th>\n",
       "      <td>1</td>\n",
       "      <td>I am a student who is learning to code</td>\n",
       "      <td>Yes</td>\n",
       "      <td>Never</td>\n",
       "      <td>The quality of OSS and closed source software ...</td>\n",
       "      <td>Not employed, and not looking for work</td>\n",
       "      <td>United Kingdom</td>\n",
       "      <td>No</td>\n",
       "      <td>Primary/elementary school</td>\n",
       "      <td>NaN</td>\n",
       "      <td>...</td>\n",
       "      <td>Just as welcome now as I felt last year</td>\n",
       "      <td>Tech articles written by other developers;Indu...</td>\n",
       "      <td>14.0</td>\n",
       "      <td>Man</td>\n",
       "      <td>No</td>\n",
       "      <td>Straight / Heterosexual</td>\n",
       "      <td>NaN</td>\n",
       "      <td>No</td>\n",
       "      <td>Appropriate in length</td>\n",
       "      <td>Neither easy nor difficult</td>\n",
       "    </tr>\n",
       "    <tr>\n",
       "      <th>1</th>\n",
       "      <td>2</td>\n",
       "      <td>I am a student who is learning to code</td>\n",
       "      <td>No</td>\n",
       "      <td>Less than once per year</td>\n",
       "      <td>The quality of OSS and closed source software ...</td>\n",
       "      <td>Not employed, but looking for work</td>\n",
       "      <td>Bosnia and Herzegovina</td>\n",
       "      <td>Yes, full-time</td>\n",
       "      <td>Secondary school (e.g. American high school, G...</td>\n",
       "      <td>NaN</td>\n",
       "      <td>...</td>\n",
       "      <td>Just as welcome now as I felt last year</td>\n",
       "      <td>Tech articles written by other developers;Indu...</td>\n",
       "      <td>19.0</td>\n",
       "      <td>Man</td>\n",
       "      <td>No</td>\n",
       "      <td>Straight / Heterosexual</td>\n",
       "      <td>NaN</td>\n",
       "      <td>No</td>\n",
       "      <td>Appropriate in length</td>\n",
       "      <td>Neither easy nor difficult</td>\n",
       "    </tr>\n",
       "    <tr>\n",
       "      <th>2</th>\n",
       "      <td>3</td>\n",
       "      <td>I am not primarily a developer, but I write co...</td>\n",
       "      <td>Yes</td>\n",
       "      <td>Never</td>\n",
       "      <td>The quality of OSS and closed source software ...</td>\n",
       "      <td>Employed full-time</td>\n",
       "      <td>Thailand</td>\n",
       "      <td>No</td>\n",
       "      <td>Bachelor’s degree (BA, BS, B.Eng., etc.)</td>\n",
       "      <td>Web development or web design</td>\n",
       "      <td>...</td>\n",
       "      <td>Just as welcome now as I felt last year</td>\n",
       "      <td>Tech meetups or events in your area;Courses on...</td>\n",
       "      <td>28.0</td>\n",
       "      <td>Man</td>\n",
       "      <td>No</td>\n",
       "      <td>Straight / Heterosexual</td>\n",
       "      <td>NaN</td>\n",
       "      <td>Yes</td>\n",
       "      <td>Appropriate in length</td>\n",
       "      <td>Neither easy nor difficult</td>\n",
       "    </tr>\n",
       "  </tbody>\n",
       "</table>\n",
       "<p>3 rows × 85 columns</p>\n",
       "</div>"
      ],
      "text/plain": [
       "   Respondent                                         MainBranch Hobbyist  \\\n",
       "0           1             I am a student who is learning to code      Yes   \n",
       "1           2             I am a student who is learning to code       No   \n",
       "2           3  I am not primarily a developer, but I write co...      Yes   \n",
       "\n",
       "               OpenSourcer                                         OpenSource  \\\n",
       "0                    Never  The quality of OSS and closed source software ...   \n",
       "1  Less than once per year  The quality of OSS and closed source software ...   \n",
       "2                    Never  The quality of OSS and closed source software ...   \n",
       "\n",
       "                               Employment                 Country  \\\n",
       "0  Not employed, and not looking for work          United Kingdom   \n",
       "1      Not employed, but looking for work  Bosnia and Herzegovina   \n",
       "2                      Employed full-time                Thailand   \n",
       "\n",
       "          Student                                            EdLevel  \\\n",
       "0              No                          Primary/elementary school   \n",
       "1  Yes, full-time  Secondary school (e.g. American high school, G...   \n",
       "2              No           Bachelor’s degree (BA, BS, B.Eng., etc.)   \n",
       "\n",
       "                  UndergradMajor             ...              \\\n",
       "0                            NaN             ...               \n",
       "1                            NaN             ...               \n",
       "2  Web development or web design             ...               \n",
       "\n",
       "                             WelcomeChange  \\\n",
       "0  Just as welcome now as I felt last year   \n",
       "1  Just as welcome now as I felt last year   \n",
       "2  Just as welcome now as I felt last year   \n",
       "\n",
       "                                        SONewContent   Age Gender Trans  \\\n",
       "0  Tech articles written by other developers;Indu...  14.0    Man    No   \n",
       "1  Tech articles written by other developers;Indu...  19.0    Man    No   \n",
       "2  Tech meetups or events in your area;Courses on...  28.0    Man    No   \n",
       "\n",
       "                 Sexuality Ethnicity Dependents           SurveyLength  \\\n",
       "0  Straight / Heterosexual       NaN         No  Appropriate in length   \n",
       "1  Straight / Heterosexual       NaN         No  Appropriate in length   \n",
       "2  Straight / Heterosexual       NaN        Yes  Appropriate in length   \n",
       "\n",
       "                   SurveyEase  \n",
       "0  Neither easy nor difficult  \n",
       "1  Neither easy nor difficult  \n",
       "2  Neither easy nor difficult  \n",
       "\n",
       "[3 rows x 85 columns]"
      ]
     },
     "execution_count": 21,
     "metadata": {},
     "output_type": "execute_result"
    }
   ],
   "source": [
    "# dive into 2019\n",
    "df2019d.head(3)"
   ]
  },
  {
   "cell_type": "code",
   "execution_count": 22,
   "metadata": {
    "ExecuteTime": {
     "end_time": "2019-07-21T02:09:34.763708Z",
     "start_time": "2019-07-21T02:09:34.735661Z"
    }
   },
   "outputs": [
    {
     "data": {
      "text/plain": [
       "No                65816\n",
       "Yes, full-time    15769\n",
       "Yes, part-time     5429\n",
       "Name: Student, dtype: int64"
      ]
     },
     "execution_count": 22,
     "metadata": {},
     "output_type": "execute_result"
    }
   ],
   "source": [
    "## example of value counts at a featrue\n",
    "df2019d.Student.value_counts()"
   ]
  },
  {
   "cell_type": "code",
   "execution_count": 23,
   "metadata": {
    "ExecuteTime": {
     "end_time": "2019-07-21T02:09:35.468829Z",
     "start_time": "2019-07-21T02:09:35.421197Z"
    }
   },
   "outputs": [
    {
     "data": {
      "text/plain": [
       "CareerSat                           JobSat                            \n",
       "Neither satisfied nor dissatisfied  Neither satisfied nor dissatisfied     2926\n",
       "                                    Slightly dissatisfied                  1705\n",
       "                                    Slightly satisfied                     1484\n",
       "                                    Very dissatisfied                       409\n",
       "                                    Very satisfied                          303\n",
       "Slightly dissatisfied               Neither satisfied nor dissatisfied      980\n",
       "                                    Slightly dissatisfied                  3894\n",
       "                                    Slightly satisfied                      888\n",
       "                                    Very dissatisfied                      1294\n",
       "                                    Very satisfied                          253\n",
       "Slightly satisfied                  Neither satisfied nor dissatisfied     3323\n",
       "                                    Slightly dissatisfied                  3135\n",
       "                                    Slightly satisfied                    13588\n",
       "                                    Very dissatisfied                       724\n",
       "                                    Very satisfied                         3761\n",
       "Very dissatisfied                   Neither satisfied nor dissatisfied      269\n",
       "                                    Slightly dissatisfied                   753\n",
       "                                    Slightly satisfied                      322\n",
       "                                    Very dissatisfied                      1940\n",
       "                                    Very satisfied                          245\n",
       "Very satisfied                      Neither satisfied nor dissatisfied     1222\n",
       "                                    Slightly dissatisfied                  1265\n",
       "                                    Slightly satisfied                     7925\n",
       "                                    Very dissatisfied                       490\n",
       "                                    Very satisfied                        17890\n",
       "Name: CareerSat, dtype: int64"
      ]
     },
     "execution_count": 23,
     "metadata": {},
     "output_type": "execute_result"
    }
   ],
   "source": [
    "## example of how to observe two feature are related\n",
    "df2019d.groupby(['CareerSat','JobSat'])['CareerSat'].count()\n",
    "### dataframe has catagory dtype, research later\n",
    "### https://pbpython.com/pandas_dtypes_cat.html"
   ]
  },
  {
   "cell_type": "markdown",
   "metadata": {},
   "source": [
    "### / update df\n",
    "#### // manually select features"
   ]
  },
  {
   "cell_type": "code",
   "execution_count": 44,
   "metadata": {
    "ExecuteTime": {
     "end_time": "2019-07-19T03:09:08.565378Z",
     "start_time": "2019-07-19T03:09:08.556755Z"
    }
   },
   "outputs": [],
   "source": [
    "# only get select features\n",
    "select_list = ['MainBranch','OpenSourcer','OpenSource','Employment','Age','Student','EdLevel','UndergradMajor','EduOther',\n",
    "              'OrgSize','DevType','YearsCode','CareerSat','JobSeek','JobFactors','ConvertedComp','WorkWeekHrs','WorkPlan','WorkChallenge','WorkRemote','ImpSyn',\n",
    "              'LanguageWorkedWith','LanguageDesireNextYear','DatabaseWorkedWith','DatabaseDesireNextYear','DevEnviron','OpSys','BetterLife',\n",
    "              'SOVisitFreq','SOVisitTo','SOFindAnswer','SOTimeSaved','SOHowMuchTime','SOPartFreq','SOJobs','EntTeams','SOComm','WelcomeChange','SONewContent']"
   ]
  },
  {
   "cell_type": "code",
   "execution_count": 45,
   "metadata": {
    "ExecuteTime": {
     "end_time": "2019-07-19T03:09:11.929775Z",
     "start_time": "2019-07-19T03:09:11.884254Z"
    }
   },
   "outputs": [],
   "source": [
    "## df copy for assesment\n",
    "df = df2019d[select_list]"
   ]
  },
  {
   "cell_type": "code",
   "execution_count": 48,
   "metadata": {
    "ExecuteTime": {
     "end_time": "2019-07-19T03:09:31.604344Z",
     "start_time": "2019-07-19T03:09:31.591810Z"
    }
   },
   "outputs": [
    {
     "name": "stdout",
     "output_type": "stream",
     "text": [
      "39\n"
     ]
    },
    {
     "data": {
      "text/plain": [
       "Index(['MainBranch', 'OpenSourcer', 'OpenSource', 'Employment', 'Age',\n",
       "       'Student', 'EdLevel', 'UndergradMajor', 'EduOther', 'OrgSize',\n",
       "       'DevType', 'YearsCode', 'CareerSat', 'JobSeek', 'JobFactors',\n",
       "       'ConvertedComp', 'WorkWeekHrs', 'WorkPlan', 'WorkChallenge',\n",
       "       'WorkRemote', 'ImpSyn', 'LanguageWorkedWith', 'LanguageDesireNextYear',\n",
       "       'DatabaseWorkedWith', 'DatabaseDesireNextYear', 'DevEnviron', 'OpSys',\n",
       "       'BetterLife', 'SOVisitFreq', 'SOVisitTo', 'SOFindAnswer', 'SOTimeSaved',\n",
       "       'SOHowMuchTime', 'SOPartFreq', 'SOJobs', 'EntTeams', 'SOComm',\n",
       "       'WelcomeChange', 'SONewContent'],\n",
       "      dtype='object')"
      ]
     },
     "execution_count": 48,
     "metadata": {},
     "output_type": "execute_result"
    }
   ],
   "source": [
    "## check columns\n",
    "print(len(df.columns))\n",
    "df.columns"
   ]
  },
  {
   "cell_type": "code",
   "execution_count": 59,
   "metadata": {
    "ExecuteTime": {
     "end_time": "2019-07-19T03:18:23.133008Z",
     "start_time": "2019-07-19T03:18:23.124704Z"
    }
   },
   "outputs": [
    {
     "data": {
      "text/plain": [
       "17777"
      ]
     },
     "execution_count": 59,
     "metadata": {},
     "output_type": "execute_result"
    }
   ],
   "source": [
    "# check null value\n",
    "## 0.2 count\n",
    "round(df.shape[0] * 0.2)"
   ]
  },
  {
   "cell_type": "code",
   "execution_count": 57,
   "metadata": {
    "ExecuteTime": {
     "end_time": "2019-07-19T03:11:56.533788Z",
     "start_time": "2019-07-19T03:11:56.292420Z"
    }
   },
   "outputs": [
    {
     "data": {
      "text/plain": [
       "MainBranch                  552\n",
       "OpenSourcer                   0\n",
       "OpenSource                 2041\n",
       "Employment                 1702\n",
       "Age                        9673\n",
       "Student                    1869\n",
       "EdLevel                    2493\n",
       "UndergradMajor            13269\n",
       "EduOther                   4623\n",
       "OrgSize                   17092\n",
       "DevType                    7548\n",
       "YearsCode                   945\n",
       "CareerSat                 16036\n",
       "JobSeek                    8328\n",
       "JobFactors                 9512\n",
       "ConvertedComp             33060\n",
       "WorkWeekHrs               24380\n",
       "WorkPlan                  19969\n",
       "WorkChallenge             20742\n",
       "WorkRemote                18599\n",
       "ImpSyn                    17104\n",
       "LanguageWorkedWith         1314\n",
       "LanguageDesireNextYear     4795\n",
       "DatabaseWorkedWith        12857\n",
       "DatabaseDesireNextYear    19736\n",
       "DevEnviron                 1566\n",
       "OpSys                      1032\n",
       "BetterLife                 2614\n",
       "SOVisitFreq                 620\n",
       "SOVisitTo                   797\n",
       "SOFindAnswer               1067\n",
       "SOTimeSaved                2539\n",
       "SOHowMuchTime             20505\n",
       "SOPartFreq                14191\n",
       "SOJobs                      817\n",
       "EntTeams                   1042\n",
       "SOComm                      752\n",
       "WelcomeChange              3028\n",
       "SONewContent              19323\n",
       "dtype: int64"
      ]
     },
     "execution_count": 57,
     "metadata": {},
     "output_type": "execute_result"
    }
   ],
   "source": [
    "## check columns\n",
    "df.isnull().sum()"
   ]
  },
  {
   "cell_type": "markdown",
   "metadata": {},
   "source": [
    "#### // update featrues"
   ]
  },
  {
   "cell_type": "code",
   "execution_count": 27,
   "metadata": {
    "ExecuteTime": {
     "end_time": "2019-07-21T02:11:58.188454Z",
     "start_time": "2019-07-21T02:11:58.131713Z"
    }
   },
   "outputs": [
    {
     "name": "stdout",
     "output_type": "stream",
     "text": [
      "35\n"
     ]
    },
    {
     "data": {
      "text/plain": [
       "Index(['MainBranch', 'OpenSourcer', 'OpenSource', 'Employment', 'Age',\n",
       "       'Student', 'EdLevel', 'UndergradMajor', 'EduOther', 'OrgSize',\n",
       "       'DevType', 'YearsCode', 'CareerSat', 'JobSeek', 'JobFactors',\n",
       "       'ConvertedComp', 'WorkWeekHrs', 'WorkChallenge', 'ImpSyn',\n",
       "       'LanguageWorkedWith', 'LanguageDesireNextYear', 'DatabaseWorkedWith',\n",
       "       'DatabaseDesireNextYear', 'DevEnviron', 'OpSys', 'BetterLife',\n",
       "       'SOVisitFreq', 'SOVisitTo', 'SOFindAnswer', 'SOTimeSaved', 'SOPartFreq',\n",
       "       'SOJobs', 'EntTeams', 'SOComm', 'WelcomeChange'],\n",
       "      dtype='object')"
      ]
     },
     "execution_count": 27,
     "metadata": {},
     "output_type": "execute_result"
    }
   ],
   "source": [
    "# update selected list\n",
    "select_list_updated = ['MainBranch','OpenSourcer','OpenSource','Employment','Age','Student','EdLevel','UndergradMajor','EduOther',\n",
    "              'OrgSize','DevType','YearsCode','CareerSat','JobSeek','JobFactors','ConvertedComp','WorkWeekHrs','WorkChallenge','ImpSyn',\n",
    "              'LanguageWorkedWith','LanguageDesireNextYear','DatabaseWorkedWith','DatabaseDesireNextYear','DevEnviron','OpSys','BetterLife',\n",
    "              'SOVisitFreq','SOVisitTo','SOFindAnswer','SOTimeSaved','SOPartFreq','SOJobs','EntTeams','SOComm','WelcomeChange']\n",
    "df = df2019d[select_list_updated]\n",
    "print(len(df.columns))\n",
    "df.columns"
   ]
  },
  {
   "cell_type": "markdown",
   "metadata": {},
   "source": [
    "#### // persistance"
   ]
  },
  {
   "cell_type": "code",
   "execution_count": 38,
   "metadata": {
    "ExecuteTime": {
     "end_time": "2019-07-21T03:13:46.341686Z",
     "start_time": "2019-07-21T03:13:46.335400Z"
    }
   },
   "outputs": [],
   "source": [
    "# file type select\n",
    "## for file more than 100m, need zip for git upload\n",
    "## csv_gzip may take most compression\n",
    "### https://stackoverflow.com/questions/37193157/apply-gzip-compression-to-a-csv-in-python-pandas\n",
    "## pickle get more efficiency\n",
    "\n",
    "# solution\n",
    "## use pickle for read speed (for pickle save more info than csv, read is many time faster)\n",
    "## use gzip(quick) or xz(max comp) to store file"
   ]
  },
  {
   "cell_type": "code",
   "execution_count": 39,
   "metadata": {
    "ExecuteTime": {
     "end_time": "2019-07-21T03:14:55.899034Z",
     "start_time": "2019-07-21T03:14:55.893162Z"
    }
   },
   "outputs": [],
   "source": [
    "## csv gzip save test (mac air 9.75s)\n",
    "# df2019d.to_csv('2019_35featrue.csv.gz', compression='gzip')\n",
    "### 18.1 MB;"
   ]
  },
  {
   "cell_type": "code",
   "execution_count": 40,
   "metadata": {
    "ExecuteTime": {
     "end_time": "2019-07-21T03:14:59.264631Z",
     "start_time": "2019-07-21T03:14:59.256518Z"
    }
   },
   "outputs": [],
   "source": [
    "## csv gzip load test (mac air 3.96s)\n",
    "#dfcheck = pd.read_csv('2019_35featrue.csv.gz', compression='gzip')\n",
    "#dfcheck.head(3);"
   ]
  },
  {
   "cell_type": "code",
   "execution_count": 41,
   "metadata": {
    "ExecuteTime": {
     "end_time": "2019-07-21T03:15:04.503148Z",
     "start_time": "2019-07-21T03:15:04.498900Z"
    }
   },
   "outputs": [],
   "source": [
    "## pickle  gzip test (env the same)\n",
    "# df2019d.to_pickle('2019_35featrue.pickle.gz', compression='gzip')\n",
    "## 6.9MB"
   ]
  },
  {
   "cell_type": "code",
   "execution_count": 42,
   "metadata": {
    "ExecuteTime": {
     "end_time": "2019-07-21T03:15:15.712993Z",
     "start_time": "2019-07-21T03:15:15.707324Z"
    }
   },
   "outputs": [],
   "source": [
    "#dfcheck = pd.read_pickle('2019_35featrue.pickle.gz', compression='gzip')\n",
    "#dfcheck.head(3)"
   ]
  },
  {
   "cell_type": "code",
   "execution_count": 34,
   "metadata": {
    "ExecuteTime": {
     "end_time": "2019-07-21T03:06:35.356350Z",
     "start_time": "2019-07-21T03:06:34.713070Z"
    }
   },
   "outputs": [],
   "source": [
    "## not com para is fast, but largest (also com 50%  to csv)\n",
    "## to use 643 ms, read use 488 ms"
   ]
  },
  {
   "cell_type": "code",
   "execution_count": 3,
   "metadata": {
    "ExecuteTime": {
     "end_time": "2019-07-21T04:19:33.987638Z",
     "start_time": "2019-07-21T04:19:19.765846Z"
    }
   },
   "outputs": [
    {
     "ename": "NameError",
     "evalue": "name 'df' is not defined",
     "output_type": "error",
     "traceback": [
      "\u001b[1;31m---------------------------------------------------------------------------\u001b[0m",
      "\u001b[1;31mNameError\u001b[0m                                 Traceback (most recent call last)",
      "\u001b[1;32m<ipython-input-3-a7d0434db7ed>\u001b[0m in \u001b[0;36m<module>\u001b[1;34m\u001b[0m\n\u001b[0;32m      1\u001b[0m \u001b[1;31m## pickle xz test (env the same)\u001b[0m\u001b[1;33m\u001b[0m\u001b[1;33m\u001b[0m\u001b[1;33m\u001b[0m\u001b[0m\n\u001b[1;32m----> 2\u001b[1;33m \u001b[0mdf\u001b[0m\u001b[1;33m.\u001b[0m\u001b[0mto_pickle\u001b[0m\u001b[1;33m(\u001b[0m\u001b[1;34m'2019_35featrue.pickle.xz'\u001b[0m\u001b[1;33m,\u001b[0m \u001b[0mcompression\u001b[0m\u001b[1;33m=\u001b[0m\u001b[1;34m'xz'\u001b[0m\u001b[1;33m)\u001b[0m\u001b[1;33m\u001b[0m\u001b[1;33m\u001b[0m\u001b[0m\n\u001b[0m\u001b[0;32m      3\u001b[0m \u001b[1;31m## 5.4MB / 2.7MB after feature select\u001b[0m\u001b[1;33m\u001b[0m\u001b[1;33m\u001b[0m\u001b[1;33m\u001b[0m\u001b[0m\n",
      "\u001b[1;31mNameError\u001b[0m: name 'df' is not defined"
     ]
    }
   ],
   "source": [
    "## pickle xz test (env the same)\n",
    "df.to_pickle('2019_35featrue.pickle.xz', compression='xz')\n",
    "## 5.4MB / 2.7MB after feature select"
   ]
  },
  {
   "cell_type": "code",
   "execution_count": 4,
   "metadata": {
    "ExecuteTime": {
     "end_time": "2019-07-21T04:19:35.094282Z",
     "start_time": "2019-07-21T04:19:34.632591Z"
    }
   },
   "outputs": [
    {
     "data": {
      "text/html": [
       "<div>\n",
       "<style scoped>\n",
       "    .dataframe tbody tr th:only-of-type {\n",
       "        vertical-align: middle;\n",
       "    }\n",
       "\n",
       "    .dataframe tbody tr th {\n",
       "        vertical-align: top;\n",
       "    }\n",
       "\n",
       "    .dataframe thead th {\n",
       "        text-align: right;\n",
       "    }\n",
       "</style>\n",
       "<table border=\"1\" class=\"dataframe\">\n",
       "  <thead>\n",
       "    <tr style=\"text-align: right;\">\n",
       "      <th></th>\n",
       "      <th>MainBranch</th>\n",
       "      <th>OpenSourcer</th>\n",
       "      <th>OpenSource</th>\n",
       "      <th>Employment</th>\n",
       "      <th>Age</th>\n",
       "      <th>Student</th>\n",
       "      <th>EdLevel</th>\n",
       "      <th>UndergradMajor</th>\n",
       "      <th>EduOther</th>\n",
       "      <th>OrgSize</th>\n",
       "      <th>...</th>\n",
       "      <th>BetterLife</th>\n",
       "      <th>SOVisitFreq</th>\n",
       "      <th>SOVisitTo</th>\n",
       "      <th>SOFindAnswer</th>\n",
       "      <th>SOTimeSaved</th>\n",
       "      <th>SOPartFreq</th>\n",
       "      <th>SOJobs</th>\n",
       "      <th>EntTeams</th>\n",
       "      <th>SOComm</th>\n",
       "      <th>WelcomeChange</th>\n",
       "    </tr>\n",
       "  </thead>\n",
       "  <tbody>\n",
       "    <tr>\n",
       "      <th>0</th>\n",
       "      <td>I am a student who is learning to code</td>\n",
       "      <td>Never</td>\n",
       "      <td>The quality of OSS and closed source software ...</td>\n",
       "      <td>Not employed, and not looking for work</td>\n",
       "      <td>14.0</td>\n",
       "      <td>No</td>\n",
       "      <td>Primary/elementary school</td>\n",
       "      <td>NaN</td>\n",
       "      <td>Taught yourself a new language, framework, or ...</td>\n",
       "      <td>NaN</td>\n",
       "      <td>...</td>\n",
       "      <td>Yes</td>\n",
       "      <td>A few times per month or weekly</td>\n",
       "      <td>Find answers to specific questions;Learn how t...</td>\n",
       "      <td>3-5 times per week</td>\n",
       "      <td>Stack Overflow was much faster</td>\n",
       "      <td>NaN</td>\n",
       "      <td>No, I didn't know that Stack Overflow had a jo...</td>\n",
       "      <td>No, and I don't know what those are</td>\n",
       "      <td>Neutral</td>\n",
       "      <td>Just as welcome now as I felt last year</td>\n",
       "    </tr>\n",
       "    <tr>\n",
       "      <th>1</th>\n",
       "      <td>I am a student who is learning to code</td>\n",
       "      <td>Less than once per year</td>\n",
       "      <td>The quality of OSS and closed source software ...</td>\n",
       "      <td>Not employed, but looking for work</td>\n",
       "      <td>19.0</td>\n",
       "      <td>Yes, full-time</td>\n",
       "      <td>Secondary school (e.g. American high school, G...</td>\n",
       "      <td>NaN</td>\n",
       "      <td>Taken an online course in programming or softw...</td>\n",
       "      <td>NaN</td>\n",
       "      <td>...</td>\n",
       "      <td>Yes</td>\n",
       "      <td>Daily or almost daily</td>\n",
       "      <td>Find answers to specific questions;Learn how t...</td>\n",
       "      <td>3-5 times per week</td>\n",
       "      <td>Stack Overflow was much faster</td>\n",
       "      <td>A few times per month or weekly</td>\n",
       "      <td>No, I knew that Stack Overflow had a job board...</td>\n",
       "      <td>No, and I don't know what those are</td>\n",
       "      <td>Yes, somewhat</td>\n",
       "      <td>Just as welcome now as I felt last year</td>\n",
       "    </tr>\n",
       "    <tr>\n",
       "      <th>2</th>\n",
       "      <td>I am not primarily a developer, but I write co...</td>\n",
       "      <td>Never</td>\n",
       "      <td>The quality of OSS and closed source software ...</td>\n",
       "      <td>Employed full-time</td>\n",
       "      <td>28.0</td>\n",
       "      <td>No</td>\n",
       "      <td>Bachelor’s degree (BA, BS, B.Eng., etc.)</td>\n",
       "      <td>Web development or web design</td>\n",
       "      <td>Taught yourself a new language, framework, or ...</td>\n",
       "      <td>100 to 499 employees</td>\n",
       "      <td>...</td>\n",
       "      <td>Yes</td>\n",
       "      <td>A few times per week</td>\n",
       "      <td>Find answers to specific questions;Learn how t...</td>\n",
       "      <td>6-10 times per week</td>\n",
       "      <td>They were about the same</td>\n",
       "      <td>Less than once per month or monthly</td>\n",
       "      <td>Yes</td>\n",
       "      <td>No, I've heard of them, but I am not part of a...</td>\n",
       "      <td>Neutral</td>\n",
       "      <td>Just as welcome now as I felt last year</td>\n",
       "    </tr>\n",
       "  </tbody>\n",
       "</table>\n",
       "<p>3 rows × 35 columns</p>\n",
       "</div>"
      ],
      "text/plain": [
       "                                          MainBranch              OpenSourcer  \\\n",
       "0             I am a student who is learning to code                    Never   \n",
       "1             I am a student who is learning to code  Less than once per year   \n",
       "2  I am not primarily a developer, but I write co...                    Never   \n",
       "\n",
       "                                          OpenSource  \\\n",
       "0  The quality of OSS and closed source software ...   \n",
       "1  The quality of OSS and closed source software ...   \n",
       "2  The quality of OSS and closed source software ...   \n",
       "\n",
       "                               Employment   Age         Student  \\\n",
       "0  Not employed, and not looking for work  14.0              No   \n",
       "1      Not employed, but looking for work  19.0  Yes, full-time   \n",
       "2                      Employed full-time  28.0              No   \n",
       "\n",
       "                                             EdLevel  \\\n",
       "0                          Primary/elementary school   \n",
       "1  Secondary school (e.g. American high school, G...   \n",
       "2           Bachelor’s degree (BA, BS, B.Eng., etc.)   \n",
       "\n",
       "                  UndergradMajor  \\\n",
       "0                            NaN   \n",
       "1                            NaN   \n",
       "2  Web development or web design   \n",
       "\n",
       "                                            EduOther               OrgSize  \\\n",
       "0  Taught yourself a new language, framework, or ...                   NaN   \n",
       "1  Taken an online course in programming or softw...                   NaN   \n",
       "2  Taught yourself a new language, framework, or ...  100 to 499 employees   \n",
       "\n",
       "   ... BetterLife                      SOVisitFreq  \\\n",
       "0  ...        Yes  A few times per month or weekly   \n",
       "1  ...        Yes            Daily or almost daily   \n",
       "2  ...        Yes             A few times per week   \n",
       "\n",
       "                                           SOVisitTo         SOFindAnswer  \\\n",
       "0  Find answers to specific questions;Learn how t...   3-5 times per week   \n",
       "1  Find answers to specific questions;Learn how t...   3-5 times per week   \n",
       "2  Find answers to specific questions;Learn how t...  6-10 times per week   \n",
       "\n",
       "                      SOTimeSaved                           SOPartFreq  \\\n",
       "0  Stack Overflow was much faster                                  NaN   \n",
       "1  Stack Overflow was much faster      A few times per month or weekly   \n",
       "2        They were about the same  Less than once per month or monthly   \n",
       "\n",
       "                                              SOJobs  \\\n",
       "0  No, I didn't know that Stack Overflow had a jo...   \n",
       "1  No, I knew that Stack Overflow had a job board...   \n",
       "2                                                Yes   \n",
       "\n",
       "                                            EntTeams         SOComm  \\\n",
       "0                No, and I don't know what those are        Neutral   \n",
       "1                No, and I don't know what those are  Yes, somewhat   \n",
       "2  No, I've heard of them, but I am not part of a...        Neutral   \n",
       "\n",
       "                             WelcomeChange  \n",
       "0  Just as welcome now as I felt last year  \n",
       "1  Just as welcome now as I felt last year  \n",
       "2  Just as welcome now as I felt last year  \n",
       "\n",
       "[3 rows x 35 columns]"
      ]
     },
     "execution_count": 4,
     "metadata": {},
     "output_type": "execute_result"
    }
   ],
   "source": [
    "dfcheck = pd.read_pickle('2019_35featrue.pickle.xz', compression='xz')\n",
    "dfcheck.head(3)"
   ]
  },
  {
   "cell_type": "markdown",
   "metadata": {},
   "source": [
    "## _**Prepare Data**_\n",
    "### / function\n",
    "#### // check_sample(df)"
   ]
  },
  {
   "cell_type": "code",
   "execution_count": 2,
   "metadata": {
    "ExecuteTime": {
     "end_time": "2019-07-21T04:07:22.247501Z",
     "start_time": "2019-07-21T04:07:22.240144Z"
    }
   },
   "outputs": [],
   "source": [
    "# build function (base on solution2)\n",
    "def check_sample(df):\n",
    "    sample = df.sample(1)\n",
    "    print('----checking sample index: {}'.format(sample.index[0]))\n",
    "    ### sometimes pp is uncaptible with .format\n",
    "    i = 1\n",
    "    for (colname, coldata) in sample.iteritems():\n",
    "        print('\\n- columns #{} : {:-<8}'.format(i,colname))\n",
    "        print(coldata.values)\n",
    "        i += 1\n",
    "    pp.pprint('----checking complete----')\n",
    "\n",
    "### original from wrangle_test_full    "
   ]
  },
  {
   "cell_type": "markdown",
   "metadata": {},
   "source": [
    "#### // check_value(df,list)"
   ]
  },
  {
   "cell_type": "code",
   "execution_count": 3,
   "metadata": {
    "ExecuteTime": {
     "end_time": "2019-07-21T04:15:36.540747Z",
     "start_time": "2019-07-21T04:15:36.533729Z"
    }
   },
   "outputs": [],
   "source": [
    "# build function\n",
    "def check_value(df,list):\n",
    "    c = 1\n",
    "    for i in list:\n",
    "        print(('\\n- columns #{} : {:-<8}'.format(c,i)))\n",
    "        print((df[i].value_counts().nlargest(5)))\n",
    "        ### nlargest 非常好用\n",
    "        c += 1\n",
    "    pp.pprint('----checking complete----')"
   ]
  },
  {
   "cell_type": "markdown",
   "metadata": {},
   "source": [
    "#### // check_detail(df,list)"
   ]
  },
  {
   "cell_type": "code",
   "execution_count": 4,
   "metadata": {
    "ExecuteTime": {
     "end_time": "2019-07-21T04:22:15.048512Z",
     "start_time": "2019-07-21T04:22:15.039359Z"
    }
   },
   "outputs": [],
   "source": [
    "# build function\n",
    "def check_detail(df,list):\n",
    "    sampe = df.sample(1)\n",
    "    c = 1\n",
    "    for i in list:\n",
    "        print(('\\n- columns #{} : {:-<8}'.format(c,i)))\n",
    "        pp.pprint(df[i].iloc[0])\n",
    "        c += 1\n",
    "        ## 使用 pprint 优化 dict 显示"
   ]
  },
  {
   "cell_type": "markdown",
   "metadata": {},
   "source": [
    "#### // drop_column(df,list)"
   ]
  },
  {
   "cell_type": "code",
   "execution_count": 5,
   "metadata": {
    "ExecuteTime": {
     "end_time": "2019-07-21T04:10:24.367559Z",
     "start_time": "2019-07-21T04:10:24.361116Z"
    }
   },
   "outputs": [],
   "source": [
    "## build fuction\n",
    "def drop_column(df,list):\n",
    "    ## proceed\n",
    "    dflen = len(df.columns)\n",
    "    df.drop(list,axis=1,inplace=True)\n",
    "    ### 在函数中要用 inplace=True 而不是赋值来作用于df\n",
    "    ## check\n",
    "    print('---- proceding ----')\n",
    "    print('- drop {} columns: {} '.format(len(list), list))\n",
    "    print('- remain {} columns'.format(len(df.columns)))\n",
    "    print('- success : {}'.format(len(list) + len(df.columns) == dflen))"
   ]
  },
  {
   "cell_type": "markdown",
   "metadata": {},
   "source": [
    "### / data inspect"
   ]
  },
  {
   "cell_type": "code",
   "execution_count": 6,
   "metadata": {
    "ExecuteTime": {
     "end_time": "2019-07-21T04:20:52.559546Z",
     "start_time": "2019-07-21T04:20:52.058099Z"
    }
   },
   "outputs": [],
   "source": [
    "df2019 = pd.read_pickle('2019_35featrue.pickle.xz', compression='xz')"
   ]
  },
  {
   "cell_type": "code",
   "execution_count": 7,
   "metadata": {
    "ExecuteTime": {
     "end_time": "2019-07-21T04:20:55.076816Z",
     "start_time": "2019-07-21T04:20:55.049147Z"
    }
   },
   "outputs": [
    {
     "name": "stdout",
     "output_type": "stream",
     "text": [
      "----checking sample index: 15833\n",
      "\n",
      "- columns #1 : MainBranch\n",
      "['I am a developer by profession']\n",
      "\n",
      "- columns #2 : OpenSourcer\n",
      "['Less than once per year']\n",
      "\n",
      "- columns #3 : OpenSource\n",
      "['OSS is, on average, of HIGHER quality than proprietary / closed source software']\n",
      "\n",
      "- columns #4 : Employment\n",
      "['Employed full-time']\n",
      "\n",
      "- columns #5 : Age-----\n",
      "[26.]\n",
      "\n",
      "- columns #6 : Student-\n",
      "['No']\n",
      "\n",
      "- columns #7 : EdLevel-\n",
      "['Master’s degree (MA, MS, M.Eng., MBA, etc.)']\n",
      "\n",
      "- columns #8 : UndergradMajor\n",
      "['Computer science, computer engineering, or software engineering']\n",
      "\n",
      "- columns #9 : EduOther\n",
      "['Completed an industry certification program (e.g. MCPD);Received on-the-job training in software development;Taught yourself a new language, framework, or tool without taking a formal course;Contributed to open source software']\n",
      "\n",
      "- columns #10 : OrgSize-\n",
      "['20 to 99 employees']\n",
      "\n",
      "- columns #11 : DevType-\n",
      "['Developer, back-end;Developer, full-stack']\n",
      "\n",
      "- columns #12 : YearsCode\n",
      "['10']\n",
      "\n",
      "- columns #13 : CareerSat\n",
      "['Very satisfied']\n",
      "\n",
      "- columns #14 : JobSeek-\n",
      "['I am not interested in new job opportunities']\n",
      "\n",
      "- columns #15 : JobFactors\n",
      "[\"Industry that I'd be working in;Office environment or company culture;Flex time or a flexible schedule\"]\n",
      "\n",
      "- columns #16 : ConvertedComp\n",
      "[756192.]\n",
      "\n",
      "- columns #17 : WorkWeekHrs\n",
      "[40.]\n",
      "\n",
      "- columns #18 : WorkChallenge\n",
      "['Being tasked with non-development work;Distracting work environment;Time spent commuting']\n",
      "\n",
      "- columns #19 : ImpSyn--\n",
      "['Far above average']\n",
      "\n",
      "- columns #20 : LanguageWorkedWith\n",
      "['C#;HTML/CSS;Java;JavaScript;Scala;SQL']\n",
      "\n",
      "- columns #21 : LanguageDesireNextYear\n",
      "['HTML/CSS;Java']\n",
      "\n",
      "- columns #22 : DatabaseWorkedWith\n",
      "['Elasticsearch;MongoDB;Oracle;PostgreSQL']\n",
      "\n",
      "- columns #23 : DatabaseDesireNextYear\n",
      "['PostgreSQL']\n",
      "\n",
      "- columns #24 : DevEnviron\n",
      "['IntelliJ;Vim;Visual Studio Code']\n",
      "\n",
      "- columns #25 : OpSys---\n",
      "['Windows']\n",
      "\n",
      "- columns #26 : BetterLife\n",
      "['Yes']\n",
      "\n",
      "- columns #27 : SOVisitFreq\n",
      "['Multiple times per day']\n",
      "\n",
      "- columns #28 : SOVisitTo\n",
      "['Find answers to specific questions;Learn how to do things I didn’t necessarily look for']\n",
      "\n",
      "- columns #29 : SOFindAnswer\n",
      "['More than 10 times per week']\n",
      "\n",
      "- columns #30 : SOTimeSaved\n",
      "['Stack Overflow was much faster']\n",
      "\n",
      "- columns #31 : SOPartFreq\n",
      "['Less than once per month or monthly']\n",
      "\n",
      "- columns #32 : SOJobs--\n",
      "['Yes']\n",
      "\n",
      "- columns #33 : EntTeams\n",
      "[\"No, and I don't know what those are\"]\n",
      "\n",
      "- columns #34 : SOComm--\n",
      "['Neutral']\n",
      "\n",
      "- columns #35 : WelcomeChange\n",
      "['Just as welcome now as I felt last year']\n",
      "'----checking complete----'\n"
     ]
    }
   ],
   "source": [
    "check_sample(df2019)"
   ]
  },
  {
   "cell_type": "code",
   "execution_count": 8,
   "metadata": {
    "ExecuteTime": {
     "end_time": "2019-07-21T04:21:04.016208Z",
     "start_time": "2019-07-21T04:21:03.443710Z"
    }
   },
   "outputs": [
    {
     "name": "stdout",
     "output_type": "stream",
     "text": [
      "\n",
      "- columns #1 : MainBranch\n",
      "I am a developer by profession                                                   65679\n",
      "I am a student who is learning to code                                           10189\n",
      "I am not primarily a developer, but I write code sometimes as part of my work     7539\n",
      "I code primarily as a hobby                                                       3340\n",
      "I used to be a developer by profession, but no longer am                          1584\n",
      "Name: MainBranch, dtype: int64\n",
      "\n",
      "- columns #2 : OpenSourcer\n",
      "Never                                                 32295\n",
      "Less than once per year                               24972\n",
      "Less than once a month but more than once per year    20561\n",
      "Once a month or more often                            11055\n",
      "Name: OpenSourcer, dtype: int64\n",
      "\n",
      "- columns #3 : OpenSource\n",
      "The quality of OSS and closed source software is about the same                    41527\n",
      "OSS is, on average, of HIGHER quality than proprietary / closed source software    36556\n",
      "OSS is, on average, of LOWER quality than proprietary / closed source software      8759\n",
      "Name: OpenSource, dtype: int64\n",
      "\n",
      "- columns #4 : Employment\n",
      "Employed full-time                                      64440\n",
      "Independent contractor, freelancer, or self-employed     8511\n",
      "Not employed, but looking for work                       5600\n",
      "Employed part-time                                       4469\n",
      "Not employed, and not looking for work                   3803\n",
      "Name: Employment, dtype: int64\n",
      "\n",
      "- columns #5 : Age-----\n",
      "25.0    4669\n",
      "24.0    4428\n",
      "27.0    4418\n",
      "26.0    4397\n",
      "28.0    4387\n",
      "Name: Age, dtype: int64\n",
      "\n",
      "- columns #6 : Student-\n",
      "No                65816\n",
      "Yes, full-time    15769\n",
      "Yes, part-time     5429\n",
      "Name: Student, dtype: int64\n",
      "\n",
      "- columns #7 : EdLevel-\n",
      "Bachelor’s degree (BA, BS, B.Eng., etc.)                                              39134\n",
      "Master’s degree (MA, MS, M.Eng., MBA, etc.)                                           19569\n",
      "Some college/university study without earning a degree                                10502\n",
      "Secondary school (e.g. American high school, German Realschule or Gymnasium, etc.)     8642\n",
      "Associate degree                                                                       2938\n",
      "Name: EdLevel, dtype: int64\n",
      "\n",
      "- columns #8 : UndergradMajor\n",
      "Computer science, computer engineering, or software engineering          47214\n",
      "Another engineering discipline (ex. civil, electrical, mechanical)        6222\n",
      "Information systems, information technology, or system administration     5253\n",
      "Web development or web design                                             3422\n",
      "A natural science (ex. biology, chemistry, physics)                       3232\n",
      "Name: UndergradMajor, dtype: int64\n",
      "\n",
      "- columns #9 : EduOther\n",
      "Taught yourself a new language, framework, or tool without taking a formal course                                                                                                                                     6699\n",
      "Taken an online course in programming or software development (e.g. a MOOC);Taught yourself a new language, framework, or tool without taking a formal course                                                         6012\n",
      "Taught yourself a new language, framework, or tool without taking a formal course;Contributed to open source software                                                                                                 3810\n",
      "Taken an online course in programming or software development (e.g. a MOOC);Received on-the-job training in software development;Taught yourself a new language, framework, or tool without taking a formal course    3104\n",
      "Taken an online course in programming or software development (e.g. a MOOC)                                                                                                                                           2820\n",
      "Name: EduOther, dtype: int64\n",
      "\n",
      "- columns #10 : OrgSize-\n",
      "20 to 99 employees          15199\n",
      "100 to 499 employees        12834\n",
      "10,000 or more employees    10147\n",
      "1,000 to 4,999 employees     7520\n",
      "2-9 employees                7393\n",
      "Name: OrgSize, dtype: int64\n",
      "\n",
      "- columns #11 : DevType-\n",
      "Developer, full-stack                                             8433\n",
      "Developer, back-end                                               4913\n",
      "Developer, back-end;Developer, front-end;Developer, full-stack    2399\n",
      "Developer, front-end                                              2212\n",
      "Developer, mobile                                                 2172\n",
      "Name: DevType, dtype: int64\n",
      "\n",
      "- columns #12 : YearsCode\n",
      "5     7047\n",
      "10    6777\n",
      "6     6179\n",
      "4     5729\n",
      "8     5361\n",
      "Name: YearsCode, dtype: int64\n",
      "\n",
      "- columns #13 : CareerSat\n",
      "Very satisfied                        29173\n",
      "Slightly satisfied                    25018\n",
      "Slightly dissatisfied                  7670\n",
      "Neither satisfied nor dissatisfied     7252\n",
      "Very dissatisfied                      3734\n",
      "Name: CareerSat, dtype: int64\n",
      "\n",
      "- columns #14 : JobSeek-\n",
      "I’m not actively looking, but I am open to new opportunities    47260\n",
      "I am not interested in new job opportunities                    21080\n",
      "I am actively looking for a job                                 12215\n",
      "Name: JobSeek, dtype: int64\n",
      "\n",
      "- columns #15 : JobFactors\n",
      "Languages, frameworks, and other technologies I'd be working with;Office environment or company culture;Opportunities for professional development    4992\n",
      "Languages, frameworks, and other technologies I'd be working with;Office environment or company culture;Flex time or a flexible schedule              4937\n",
      "Languages, frameworks, and other technologies I'd be working with;Remote work options;Flex time or a flexible schedule                                4710\n",
      "Office environment or company culture;Opportunities for professional development;Flex time or a flexible schedule                                     3321\n",
      "Languages, frameworks, and other technologies I'd be working with;Opportunities for professional development;Flex time or a flexible schedule         3248\n",
      "Name: JobFactors, dtype: int64\n",
      "\n",
      "- columns #16 : ConvertedComp\n",
      "2000000.0    709\n",
      "1000000.0    558\n",
      "120000.0     502\n",
      "100000.0     480\n",
      "150000.0     434\n",
      "Name: ConvertedComp, dtype: int64\n",
      "\n",
      "- columns #17 : WorkWeekHrs\n",
      "40.0    30131\n",
      "45.0     6352\n",
      "50.0     4656\n",
      "35.0     3159\n",
      "37.5     1662\n",
      "Name: WorkWeekHrs, dtype: int64\n",
      "\n",
      "- columns #18 : WorkChallenge\n",
      "Being tasked with non-development work;Distracting work environment;Meetings                              2318\n",
      "Being tasked with non-development work;Meetings;Not enough people for the workload                        1741\n",
      "Being tasked with non-development work;Distracting work environment;Not enough people for the workload    1511\n",
      "Distracting work environment;Meetings;Not enough people for the workload                                  1472\n",
      "Not enough people for the workload                                                                        1420\n",
      "Name: WorkChallenge, dtype: int64\n",
      "\n",
      "- columns #19 : ImpSyn--\n",
      "A little above average    32374\n",
      "Average                   17176\n",
      "Far above average         15399\n",
      "A little below average     5289\n",
      "Far below average          1541\n",
      "Name: ImpSyn, dtype: int64\n",
      "\n",
      "- columns #20 : LanguageWorkedWith\n",
      "HTML/CSS;JavaScript;PHP;SQL              1483\n",
      "C#;HTML/CSS;JavaScript;SQL               1414\n",
      "HTML/CSS;JavaScript                      1247\n",
      "C#;HTML/CSS;JavaScript;SQL;TypeScript     990\n",
      "Java                                      934\n",
      "Name: LanguageWorkedWith, dtype: int64\n",
      "\n",
      "- columns #21 : LanguageDesireNextYear\n",
      "Python                            1236\n",
      "HTML/CSS;JavaScript                697\n",
      "HTML/CSS;JavaScript;TypeScript     648\n",
      "C#                                 607\n",
      "Java                               584\n",
      "Name: LanguageDesireNextYear, dtype: int64\n",
      "\n",
      "- columns #22 : DatabaseWorkedWith\n",
      "MySQL                         5556\n",
      "Microsoft SQL Server          5164\n",
      "PostgreSQL                    2614\n",
      "SQLite                        2027\n",
      "Microsoft SQL Server;MySQL    1868\n",
      "Name: DatabaseWorkedWith, dtype: int64\n",
      "\n",
      "- columns #23 : DatabaseDesireNextYear\n",
      "PostgreSQL              3539\n",
      "Microsoft SQL Server    3290\n",
      "MySQL                   3184\n",
      "MongoDB                 2250\n",
      "SQLite                  1506\n",
      "Name: DatabaseDesireNextYear, dtype: int64\n",
      "\n",
      "- columns #24 : DevEnviron\n",
      "Visual Studio Code                            5036\n",
      "Visual Studio;Visual Studio Code              3840\n",
      "Notepad++;Visual Studio;Visual Studio Code    3248\n",
      "Vim                                           2224\n",
      "Notepad++;Visual Studio                       1968\n",
      "Name: DevEnviron, dtype: int64\n",
      "\n",
      "- columns #25 : OpSys---\n",
      "Windows        41714\n",
      "MacOS          23541\n",
      "Linux-based    22472\n",
      "BSD              124\n",
      "Name: OpSys, dtype: int64\n",
      "\n",
      "- columns #26 : BetterLife\n",
      "Yes    54938\n",
      "No     31331\n",
      "Name: BetterLife, dtype: int64\n",
      "\n",
      "- columns #27 : SOVisitFreq\n",
      "Daily or almost daily                  26827\n",
      "Multiple times per day                 26767\n",
      "A few times per week                   19990\n",
      "A few times per month or weekly        11162\n",
      "Less than once per month or monthly     2957\n",
      "Name: SOVisitFreq, dtype: int64\n",
      "\n",
      "- columns #28 : SOVisitTo\n",
      "Find answers to specific questions                                                                                                33842\n",
      "Find answers to specific questions;Learn how to do things I didn’t necessarily look for                                           15416\n",
      "Find answers to specific questions;Contribute to a library of information                                                          6955\n",
      "Find answers to specific questions;Learn how to do things I didn’t necessarily look for;Contribute to a library of information     4265\n",
      "Find answers to specific questions;Learn how to do things I didn’t necessarily look for;Pass the time / relax                      3467\n",
      "Name: SOVisitTo, dtype: int64\n",
      "\n",
      "- columns #29 : SOFindAnswer\n",
      "1-2 times per week             24231\n",
      "3-5 times per week             22928\n",
      "More than 10 times per week    15112\n",
      "6-10 times per week            12867\n",
      "Less than once per week        12678\n",
      "Name: SOFindAnswer, dtype: int64\n",
      "\n",
      "- columns #30 : SOTimeSaved\n",
      "Stack Overflow was much faster            45330\n",
      "Stack Overflow was slightly faster        21342\n",
      "They were about the same                  17029\n",
      "The other resource was slightly faster     1670\n",
      "The other resource was much faster          973\n",
      "Name: SOTimeSaved, dtype: int64\n",
      "\n",
      "- columns #31 : SOPartFreq\n",
      "Less than once per month or monthly                   30440\n",
      "I have never participated in Q&A on Stack Overflow    17287\n",
      "A few times per month or weekly                       14094\n",
      "A few times per week                                   7040\n",
      "Daily or almost daily                                  3695\n",
      "Name: SOPartFreq, dtype: int64\n",
      "\n",
      "- columns #32 : SOJobs--\n",
      "Yes                                                                                 41257\n",
      "No, I knew that Stack Overflow had a job board but have never used or visited it    32275\n",
      "No, I didn't know that Stack Overflow had a job board                               14534\n",
      "Name: SOJobs, dtype: int64\n",
      "\n",
      "- columns #33 : EntTeams\n",
      "No, and I don't know what those are                                    48129\n",
      "No, I've heard of them, but I am not part of a private Q&A instance    36637\n",
      "Yes                                                                     3075\n",
      "Name: EntTeams, dtype: int64\n",
      "\n",
      "- columns #34 : SOComm--\n"
     ]
    },
    {
     "name": "stdout",
     "output_type": "stream",
     "text": [
      "Yes, somewhat      27452\n",
      "No, not really     19858\n",
      "Neutral            17900\n",
      "Yes, definitely    15302\n",
      "No, not at all      6447\n",
      "Name: SOComm, dtype: int64\n",
      "\n",
      "- columns #35 : WelcomeChange\n",
      "Just as welcome now as I felt last year                    62661\n",
      "Somewhat more welcome now than last year                    8853\n",
      "A lot more welcome now than last year                       4808\n",
      "Somewhat less welcome now than last year                    4259\n",
      "Not applicable - I did not use Stack Overflow last year     2675\n",
      "Name: WelcomeChange, dtype: int64\n",
      "'----checking complete----'\n"
     ]
    }
   ],
   "source": [
    "check_value_list = df2019.columns\n",
    "check_value(df2019, check_value_list)"
   ]
  },
  {
   "cell_type": "code",
   "execution_count": 9,
   "metadata": {
    "ExecuteTime": {
     "end_time": "2019-07-21T04:23:46.829039Z",
     "start_time": "2019-07-21T04:23:46.822418Z"
    }
   },
   "outputs": [],
   "source": [
    "## not long str features , now need check detail\n",
    "#check_detail(df2019,df2019.columns)"
   ]
  },
  {
   "cell_type": "code",
   "execution_count": 10,
   "metadata": {
    "ExecuteTime": {
     "end_time": "2019-07-21T22:47:09.229792Z",
     "start_time": "2019-07-21T22:47:09.048216Z"
    }
   },
   "outputs": [
    {
     "data": {
      "text/plain": [
       "MainBranch                False\n",
       "OpenSourcer               False\n",
       "OpenSource                False\n",
       "Employment                False\n",
       "Age                       False\n",
       "Student                   False\n",
       "EdLevel                   False\n",
       "UndergradMajor            False\n",
       "EduOther                  False\n",
       "OrgSize                   False\n",
       "DevType                   False\n",
       "YearsCode                 False\n",
       "CareerSat                 False\n",
       "JobSeek                   False\n",
       "JobFactors                False\n",
       "ConvertedComp             False\n",
       "WorkWeekHrs               False\n",
       "WorkChallenge             False\n",
       "ImpSyn                    False\n",
       "LanguageWorkedWith        False\n",
       "LanguageDesireNextYear    False\n",
       "DatabaseWorkedWith        False\n",
       "DatabaseDesireNextYear    False\n",
       "DevEnviron                False\n",
       "OpSys                     False\n",
       "BetterLife                False\n",
       "SOVisitFreq               False\n",
       "SOVisitTo                 False\n",
       "SOFindAnswer              False\n",
       "SOTimeSaved               False\n",
       "SOPartFreq                False\n",
       "SOJobs                    False\n",
       "EntTeams                  False\n",
       "SOComm                    False\n",
       "WelcomeChange             False\n",
       "dtype: bool"
      ]
     },
     "execution_count": 10,
     "metadata": {},
     "output_type": "execute_result"
    }
   ],
   "source": [
    "df2019.isna().all()"
   ]
  },
  {
   "cell_type": "code",
   "execution_count": 11,
   "metadata": {
    "ExecuteTime": {
     "end_time": "2019-07-21T04:29:53.339828Z",
     "start_time": "2019-07-21T04:29:53.150165Z"
    }
   },
   "outputs": [
    {
     "data": {
      "text/plain": [
       "MainBranch                  552\n",
       "OpenSourcer                   0\n",
       "OpenSource                 2041\n",
       "Employment                 1702\n",
       "Age                        9673\n",
       "Student                    1869\n",
       "EdLevel                    2493\n",
       "UndergradMajor            13269\n",
       "EduOther                   4623\n",
       "OrgSize                   17092\n",
       "DevType                    7548\n",
       "YearsCode                   945\n",
       "CareerSat                 16036\n",
       "JobSeek                    8328\n",
       "JobFactors                 9512\n",
       "ConvertedComp             33060\n",
       "WorkWeekHrs               24380\n",
       "WorkChallenge             20742\n",
       "ImpSyn                    17104\n",
       "LanguageWorkedWith         1314\n",
       "LanguageDesireNextYear     4795\n",
       "DatabaseWorkedWith        12857\n",
       "DatabaseDesireNextYear    19736\n",
       "DevEnviron                 1566\n",
       "OpSys                      1032\n",
       "BetterLife                 2614\n",
       "SOVisitFreq                 620\n",
       "SOVisitTo                   797\n",
       "SOFindAnswer               1067\n",
       "SOTimeSaved                2539\n",
       "SOPartFreq                14191\n",
       "SOJobs                      817\n",
       "EntTeams                   1042\n",
       "SOComm                      752\n",
       "WelcomeChange              3028\n",
       "dtype: int64"
      ]
     },
     "execution_count": 11,
     "metadata": {},
     "output_type": "execute_result"
    }
   ],
   "source": [
    "df2019.isna().sum()\n",
    "### isnull is an alias for isna\n",
    "### for in R they are different, but for python dataframe itis base numpy's NaN\n",
    "### https://datascience.stackexchange.com/questions/37878/difference-between-isna-and-isnull-in-pandas"
   ]
  },
  {
   "cell_type": "code",
   "execution_count": 12,
   "metadata": {
    "ExecuteTime": {
     "end_time": "2019-07-21T04:34:54.827947Z",
     "start_time": "2019-07-21T04:34:54.724221Z"
    }
   },
   "outputs": [
    {
     "data": {
      "text/html": [
       "<div>\n",
       "<style scoped>\n",
       "    .dataframe tbody tr th:only-of-type {\n",
       "        vertical-align: middle;\n",
       "    }\n",
       "\n",
       "    .dataframe tbody tr th {\n",
       "        vertical-align: top;\n",
       "    }\n",
       "\n",
       "    .dataframe thead th {\n",
       "        text-align: right;\n",
       "    }\n",
       "</style>\n",
       "<table border=\"1\" class=\"dataframe\">\n",
       "  <thead>\n",
       "    <tr style=\"text-align: right;\">\n",
       "      <th></th>\n",
       "      <th>Age</th>\n",
       "      <th>ConvertedComp</th>\n",
       "      <th>WorkWeekHrs</th>\n",
       "    </tr>\n",
       "  </thead>\n",
       "  <tbody>\n",
       "    <tr>\n",
       "      <th>count</th>\n",
       "      <td>79210.000000</td>\n",
       "      <td>5.582300e+04</td>\n",
       "      <td>64503.000000</td>\n",
       "    </tr>\n",
       "    <tr>\n",
       "      <th>mean</th>\n",
       "      <td>30.336699</td>\n",
       "      <td>1.271107e+05</td>\n",
       "      <td>42.127197</td>\n",
       "    </tr>\n",
       "    <tr>\n",
       "      <th>std</th>\n",
       "      <td>9.178390</td>\n",
       "      <td>2.841523e+05</td>\n",
       "      <td>37.287610</td>\n",
       "    </tr>\n",
       "    <tr>\n",
       "      <th>min</th>\n",
       "      <td>1.000000</td>\n",
       "      <td>0.000000e+00</td>\n",
       "      <td>1.000000</td>\n",
       "    </tr>\n",
       "    <tr>\n",
       "      <th>25%</th>\n",
       "      <td>24.000000</td>\n",
       "      <td>2.577750e+04</td>\n",
       "      <td>40.000000</td>\n",
       "    </tr>\n",
       "    <tr>\n",
       "      <th>50%</th>\n",
       "      <td>29.000000</td>\n",
       "      <td>5.728700e+04</td>\n",
       "      <td>40.000000</td>\n",
       "    </tr>\n",
       "    <tr>\n",
       "      <th>75%</th>\n",
       "      <td>35.000000</td>\n",
       "      <td>1.000000e+05</td>\n",
       "      <td>44.750000</td>\n",
       "    </tr>\n",
       "    <tr>\n",
       "      <th>max</th>\n",
       "      <td>99.000000</td>\n",
       "      <td>2.000000e+06</td>\n",
       "      <td>4850.000000</td>\n",
       "    </tr>\n",
       "  </tbody>\n",
       "</table>\n",
       "</div>"
      ],
      "text/plain": [
       "                Age  ConvertedComp   WorkWeekHrs\n",
       "count  79210.000000   5.582300e+04  64503.000000\n",
       "mean      30.336699   1.271107e+05     42.127197\n",
       "std        9.178390   2.841523e+05     37.287610\n",
       "min        1.000000   0.000000e+00      1.000000\n",
       "25%       24.000000   2.577750e+04     40.000000\n",
       "50%       29.000000   5.728700e+04     40.000000\n",
       "75%       35.000000   1.000000e+05     44.750000\n",
       "max       99.000000   2.000000e+06   4850.000000"
      ]
     },
     "execution_count": 12,
     "metadata": {},
     "output_type": "execute_result"
    }
   ],
   "source": [
    "df2019.describe()"
   ]
  },
  {
   "cell_type": "code",
   "execution_count": 13,
   "metadata": {
    "ExecuteTime": {
     "end_time": "2019-07-21T04:35:32.961661Z",
     "start_time": "2019-07-21T04:35:32.777144Z"
    }
   },
   "outputs": [
    {
     "name": "stdout",
     "output_type": "stream",
     "text": [
      "<class 'pandas.core.frame.DataFrame'>\n",
      "RangeIndex: 88883 entries, 0 to 88882\n",
      "Data columns (total 35 columns):\n",
      "MainBranch                88331 non-null object\n",
      "OpenSourcer               88883 non-null object\n",
      "OpenSource                86842 non-null object\n",
      "Employment                87181 non-null object\n",
      "Age                       79210 non-null float64\n",
      "Student                   87014 non-null object\n",
      "EdLevel                   86390 non-null object\n",
      "UndergradMajor            75614 non-null object\n",
      "EduOther                  84260 non-null object\n",
      "OrgSize                   71791 non-null object\n",
      "DevType                   81335 non-null object\n",
      "YearsCode                 87938 non-null object\n",
      "CareerSat                 72847 non-null object\n",
      "JobSeek                   80555 non-null object\n",
      "JobFactors                79371 non-null object\n",
      "ConvertedComp             55823 non-null float64\n",
      "WorkWeekHrs               64503 non-null float64\n",
      "WorkChallenge             68141 non-null object\n",
      "ImpSyn                    71779 non-null object\n",
      "LanguageWorkedWith        87569 non-null object\n",
      "LanguageDesireNextYear    84088 non-null object\n",
      "DatabaseWorkedWith        76026 non-null object\n",
      "DatabaseDesireNextYear    69147 non-null object\n",
      "DevEnviron                87317 non-null object\n",
      "OpSys                     87851 non-null object\n",
      "BetterLife                86269 non-null object\n",
      "SOVisitFreq               88263 non-null object\n",
      "SOVisitTo                 88086 non-null object\n",
      "SOFindAnswer              87816 non-null object\n",
      "SOTimeSaved               86344 non-null object\n",
      "SOPartFreq                74692 non-null object\n",
      "SOJobs                    88066 non-null object\n",
      "EntTeams                  87841 non-null object\n",
      "SOComm                    88131 non-null object\n",
      "WelcomeChange             85855 non-null object\n",
      "dtypes: float64(3), object(32)\n",
      "memory usage: 23.7+ MB\n"
     ]
    }
   ],
   "source": [
    "df2019.info()"
   ]
  },
  {
   "cell_type": "markdown",
   "metadata": {},
   "source": [
    "#### // summary\n",
    "good enough for tidyness, for every columns info, please check blog post\n",
    "- Age, ConvertedComp, WorkWeekHrs are float64\n",
    "- EduOther, JobFactors, WorkChallenge, LanguageWorkedWith, LanguageDesireNextYear, DatabaseWorkedWith, DatabaseDesireNextYear, DevEnvition, SOVisitTo are multi checkbox, may need more work (maybe later)\n",
    "- lefts are category\n",
    "- no data related to time serial"
   ]
  },
  {
   "cell_type": "markdown",
   "metadata": {},
   "source": [
    "### / tidyness\n",
    "things need to be done\n",
    "- converte most featrues to category data type (later)\n",
    "    - https://dataninjago.com/2018/03/11/why-bother-to-use-pandas-categorical-type-in-python/\n",
    "    - https://pbpython.com/pandas_dtypes_cat.html\n",
    "    - https://pandas.pydata.org/pandas-docs/stable/user_guide/categorical.html\n",
    "- converte multi selection feature to new specific df (one by one, later)\n",
    "    - https://jeffdelaney.me/blog/useful-snippets-in-pandas/ section18\n",
    "- creating bin for float data if needed\n",
    "    - https://jeffdelaney.me/blog/useful-snippets-in-pandas/ section17\n"
   ]
  },
  {
   "cell_type": "markdown",
   "metadata": {},
   "source": [
    "#### // multi cateloge handling"
   ]
  },
  {
   "cell_type": "code",
   "execution_count": 14,
   "metadata": {
    "ExecuteTime": {
     "end_time": "2019-07-21T07:46:13.247886Z",
     "start_time": "2019-07-21T07:46:13.193235Z"
    }
   },
   "outputs": [
    {
     "data": {
      "text/plain": [
       "Taught yourself a new language, framework, or tool without taking a formal course                                                                                                                                                                                                                                                                                      6699\n",
       "Taken an online course in programming or software development (e.g. a MOOC);Taught yourself a new language, framework, or tool without taking a formal course                                                                                                                                                                                                          6012\n",
       "Taught yourself a new language, framework, or tool without taking a formal course;Contributed to open source software                                                                                                                                                                                                                                                  3810\n",
       "Taken an online course in programming or software development (e.g. a MOOC);Received on-the-job training in software development;Taught yourself a new language, framework, or tool without taking a formal course                                                                                                                                                     3104\n",
       "Taken an online course in programming or software development (e.g. a MOOC)                                                                                                                                                                                                                                                                                            2820\n",
       "Taken an online course in programming or software development (e.g. a MOOC);Taught yourself a new language, framework, or tool without taking a formal course;Contributed to open source software                                                                                                                                                                      2724\n",
       "Received on-the-job training in software development;Taught yourself a new language, framework, or tool without taking a formal course                                                                                                                                                                                                                                 2640\n",
       "Received on-the-job training in software development;Taught yourself a new language, framework, or tool without taking a formal course;Contributed to open source software                                                                                                                                                                                             1542\n",
       "Taken an online course in programming or software development (e.g. a MOOC);Received on-the-job training in software development;Taught yourself a new language, framework, or tool without taking a formal course;Contributed to open source software                                                                                                                 1484\n",
       "Taken an online course in programming or software development (e.g. a MOOC);Taught yourself a new language, framework, or tool without taking a formal course;Participated in online coding competitions (e.g. HackerRank, CodeChef, TopCoder)                                                                                                                         1416\n",
       "Taught yourself a new language, framework, or tool without taking a formal course;Participated in a hackathon;Contributed to open source software                                                                                                                                                                                                                      1161\n",
       "Taken an online course in programming or software development (e.g. a MOOC);Taught yourself a new language, framework, or tool without taking a formal course;Participated in online coding competitions (e.g. HackerRank, CodeChef, TopCoder);Contributed to open source software                                                                                     1160\n",
       "Taken an online course in programming or software development (e.g. a MOOC);Taught yourself a new language, framework, or tool without taking a formal course;Participated in online coding competitions (e.g. HackerRank, CodeChef, TopCoder);Participated in a hackathon;Contributed to open source software                                                         1108\n",
       "Taken an online course in programming or software development (e.g. a MOOC);Taken a part-time in-person course in programming or software development;Taught yourself a new language, framework, or tool without taking a formal course                                                                                                                                1053\n",
       "Taken an online course in programming or software development (e.g. a MOOC);Taught yourself a new language, framework, or tool without taking a formal course;Participated in a hackathon;Contributed to open source software                                                                                                                                          1043\n",
       "Taken an online course in programming or software development (e.g. a MOOC);Received on-the-job training in software development;Taught yourself a new language, framework, or tool without taking a formal course;Participated in online coding competitions (e.g. HackerRank, CodeChef, TopCoder);Participated in a hackathon;Contributed to open source software     902\n",
       "Taken an online course in programming or software development (e.g. a MOOC);Taught yourself a new language, framework, or tool without taking a formal course;Participated in a hackathon                                                                                                                                                                               888\n",
       "Taught yourself a new language, framework, or tool without taking a formal course;Participated in online coding competitions (e.g. HackerRank, CodeChef, TopCoder);Contributed to open source software                                                                                                                                                                  880\n",
       "Taken an online course in programming or software development (e.g. a MOOC);Received on-the-job training in software development;Taught yourself a new language, framework, or tool without taking a formal course;Participated in a hackathon;Contributed to open source software                                                                                      874\n",
       "Taken an online course in programming or software development (e.g. a MOOC);Taken a part-time in-person course in programming or software development;Received on-the-job training in software development;Taught yourself a new language, framework, or tool without taking a formal course                                                                            854\n",
       "Name: EduOther, dtype: int64"
      ]
     },
     "execution_count": 14,
     "metadata": {},
     "output_type": "execute_result"
    }
   ],
   "source": [
    "# EduOther for a try\n",
    "df2019.EduOther.value_counts()[:20]"
   ]
  },
  {
   "cell_type": "code",
   "execution_count": 15,
   "metadata": {
    "ExecuteTime": {
     "end_time": "2019-07-21T07:55:13.470410Z",
     "start_time": "2019-07-21T07:55:13.465985Z"
    }
   },
   "outputs": [],
   "source": [
    "multi_option_list = ['Taught yourself a new language, framework, or tool without taking a formal course',\n",
    "                     'Taken an online course in programming or software development',\n",
    "                     'Contributed to open source software',\n",
    "                     'Received on-the-job training in software development',\n",
    "                     'Participated in online coding competitions'\n",
    "                     'Participated in a hackathon'\n",
    "                     'Taken a part-time in-person course in programming or software development'\n",
    "                    ]"
   ]
  },
  {
   "cell_type": "code",
   "execution_count": 16,
   "metadata": {
    "ExecuteTime": {
     "end_time": "2019-07-21T07:53:47.928036Z",
     "start_time": "2019-07-21T07:53:47.818148Z"
    }
   },
   "outputs": [
    {
     "data": {
      "text/plain": [
       "72002"
      ]
     },
     "execution_count": 16,
     "metadata": {},
     "output_type": "execute_result"
    }
   ],
   "source": [
    "## test run\n",
    "df2019.EduOther.str.contains(\n",
    "    'Taught yourself a new language, framework, or tool without taking a formal course').sum()"
   ]
  },
  {
   "cell_type": "code",
   "execution_count": 17,
   "metadata": {
    "ExecuteTime": {
     "end_time": "2019-07-21T07:55:24.494958Z",
     "start_time": "2019-07-21T07:55:24.098569Z"
    }
   },
   "outputs": [
    {
     "name": "stdout",
     "output_type": "stream",
     "text": [
      "72002\n",
      "50633\n",
      "34566\n",
      "33135\n",
      "0\n"
     ]
    }
   ],
   "source": [
    "## loop for a new data\n",
    "for i in multi_option_list:\n",
    "    count = df2019.EduOther.str.contains(i).sum()\n",
    "    print(count)\n",
    "\n",
    "### not a good data, can not seen more info, aslo has odd missing data\n",
    "### need combine category type to solve\n",
    "### later"
   ]
  },
  {
   "cell_type": "markdown",
   "metadata": {},
   "source": [
    "#### // bin for year data\n",
    "- experiment, may not use for analysis"
   ]
  },
  {
   "cell_type": "markdown",
   "metadata": {},
   "source": [
    "#### // deal missing data (later)\n",
    "- three ways\n",
    "    - delete\n",
    "    - fill (with simple rule, more fit for time seirel value)\n",
    "    - impute\n",
    "- try to use impute\n",
    "- save to new df, for compare\n",
    "- tools\n",
    "    - sklearn\n",
    "        - from sklearn.preprocessing import Imputer\n",
    "        - https://scikit-learn.org/stable/modules/impute.html\n",
    "    - impyute\n",
    "        - https://impyute.readthedocs.io/en/master/user_guide/getting_started.html\n",
    "        - need numpy, scipy, scikit-learn\n",
    "- res\n",
    "    - https://towardsdatascience.com/the-tale-of-missing-values-in-python-c96beb0e8a9d\n",
    "    - https://jakevdp.github.io/PythonDataScienceHandbook/03.04-missing-values.html\n",
    "    - https://machinelearningmastery.com/handle-missing-data-python/"
   ]
  },
  {
   "cell_type": "code",
   "execution_count": 21,
   "metadata": {
    "ExecuteTime": {
     "end_time": "2019-07-21T22:43:15.704755Z",
     "start_time": "2019-07-21T22:43:15.673034Z"
    }
   },
   "outputs": [],
   "source": [
    "# from sklearn Imputer\n",
    "# from sklearn.preprocessing import Imputer\n",
    "## Imputer only for num value, not category\n",
    "### maybe ml can be use to predict category data\n",
    "### if use for category data, can be set 'most_frequent''\n",
    "### https://stackoverflow.com/questions/42846345/sklearn-categorical-imputer\n",
    "### https://scikit-learn.org/stable/modules/impute.html\n",
    "### later "
   ]
  },
  {
   "cell_type": "markdown",
   "metadata": {},
   "source": [
    "## _**EDA**_\n",
    "- use pandas vis for quick EDA\n",
    "\n",
    "### / matrix ploting"
   ]
  },
  {
   "cell_type": "code",
   "execution_count": 18,
   "metadata": {
    "ExecuteTime": {
     "end_time": "2019-07-21T22:53:55.017931Z",
     "start_time": "2019-07-21T22:53:46.713586Z"
    }
   },
   "outputs": [
    {
     "data": {
      "image/png": "[encoded data removed]",
      "text/plain": [
       "<Figure size 432x288 with 9 Axes>"
      ]
     },
     "metadata": {
      "needs_background": "light"
     },
     "output_type": "display_data"
    }
   ],
   "source": [
    "pd.plotting.scatter_matrix(df2019);"
   ]
  },
  {
   "cell_type": "markdown",
   "metadata": {},
   "source": [
    "### / check outlier"
   ]
  },
  {
   "cell_type": "code",
   "execution_count": 19,
   "metadata": {
    "ExecuteTime": {
     "end_time": "2019-07-21T23:06:39.743616Z",
     "start_time": "2019-07-21T23:06:39.563302Z"
    }
   },
   "outputs": [
    {
     "data": {
      "text/plain": [
       "<matplotlib.axes._subplots.AxesSubplot at 0x2a5bc0c7ef0>"
      ]
     },
     "execution_count": 19,
     "metadata": {},
     "output_type": "execute_result"
    },
    {
     "data": {
      "image/png": "[encoded data removed]",
      "text/plain": [
       "<Figure size 432x288 with 1 Axes>"
      ]
     },
     "metadata": {
      "needs_background": "light"
     },
     "output_type": "display_data"
    }
   ],
   "source": [
    "df2019.Age.plot.box()"
   ]
  },
  {
   "cell_type": "code",
   "execution_count": 20,
   "metadata": {
    "ExecuteTime": {
     "end_time": "2019-07-21T23:06:41.725237Z",
     "start_time": "2019-07-21T23:06:41.497218Z"
    }
   },
   "outputs": [
    {
     "data": {
      "text/plain": [
       "<matplotlib.axes._subplots.AxesSubplot at 0x2a5bc075940>"
      ]
     },
     "execution_count": 20,
     "metadata": {},
     "output_type": "execute_result"
    },
    {
     "data": {
      "image/png": "[encoded data removed]",
      "text/plain": [
       "<Figure size 432x288 with 1 Axes>"
      ]
     },
     "metadata": {
      "needs_background": "light"
     },
     "output_type": "display_data"
    }
   ],
   "source": [
    "df2019.query('8 < Age < 80').Age.plot.box()"
   ]
  },
  {
   "cell_type": "code",
   "execution_count": 21,
   "metadata": {
    "ExecuteTime": {
     "end_time": "2019-07-21T22:56:36.690994Z",
     "start_time": "2019-07-21T22:56:36.482161Z"
    }
   },
   "outputs": [
    {
     "data": {
      "image/png": "[encoded data removed]",
      "text/plain": [
       "<Figure size 432x288 with 1 Axes>"
      ]
     },
     "metadata": {
      "needs_background": "light"
     },
     "output_type": "display_data"
    }
   ],
   "source": [
    "df2019.ConvertedComp.plot.box();"
   ]
  },
  {
   "cell_type": "code",
   "execution_count": 22,
   "metadata": {
    "ExecuteTime": {
     "end_time": "2019-07-21T23:07:36.570621Z",
     "start_time": "2019-07-21T23:07:36.313664Z"
    }
   },
   "outputs": [
    {
     "data": {
      "image/png": "[encoded data removed]",
      "text/plain": [
       "<Figure size 432x288 with 1 Axes>"
      ]
     },
     "metadata": {
      "needs_background": "light"
     },
     "output_type": "display_data"
    }
   ],
   "source": [
    "df2019.query('ConvertedComp < 1000000').ConvertedComp.plot.box();"
   ]
  },
  {
   "cell_type": "code",
   "execution_count": 23,
   "metadata": {
    "ExecuteTime": {
     "end_time": "2019-07-21T22:57:24.861780Z",
     "start_time": "2019-07-21T22:57:24.673645Z"
    }
   },
   "outputs": [
    {
     "data": {
      "image/png": "[encoded data removed]",
      "text/plain": [
       "<Figure size 432x288 with 1 Axes>"
      ]
     },
     "metadata": {
      "needs_background": "light"
     },
     "output_type": "display_data"
    }
   ],
   "source": [
    "df2019.WorkWeekHrs.plot.box();"
   ]
  },
  {
   "cell_type": "code",
   "execution_count": 24,
   "metadata": {
    "ExecuteTime": {
     "end_time": "2019-07-21T23:04:00.021469Z",
     "start_time": "2019-07-21T23:03:59.805893Z"
    }
   },
   "outputs": [
    {
     "data": {
      "image/png": "[encoded data removed]",
      "text/plain": [
       "<Figure size 432x288 with 1 Axes>"
      ]
     },
     "metadata": {
      "needs_background": "light"
     },
     "output_type": "display_data"
    }
   ],
   "source": [
    "df2019.query('10 < WorkWeekHrs < 126').WorkWeekHrs.plot.box();"
   ]
  },
  {
   "cell_type": "code",
   "execution_count": 25,
   "metadata": {
    "ExecuteTime": {
     "end_time": "2019-07-21T23:19:20.613961Z",
     "start_time": "2019-07-21T23:19:20.563243Z"
    }
   },
   "outputs": [
    {
     "name": "stdout",
     "output_type": "stream",
     "text": [
      "(88883, 35)\n"
     ]
    },
    {
     "data": {
      "text/plain": [
       "(49531, 35)"
      ]
     },
     "execution_count": 25,
     "metadata": {},
     "output_type": "execute_result"
    }
   ],
   "source": [
    "print(df2019.shape)\n",
    "df2019_cleanint = df2019.query('10 < WorkWeekHrs < 126 and ConvertedComp < 1000000 and 8 < Age < 80')\n",
    "df2019_cleanint.shape"
   ]
  },
  {
   "cell_type": "code",
   "execution_count": 26,
   "metadata": {
    "ExecuteTime": {
     "end_time": "2019-07-21T23:28:02.972249Z",
     "start_time": "2019-07-21T23:27:55.369180Z"
    }
   },
   "outputs": [
    {
     "data": {
      "image/png": "[encoded data removed]",
      "text/plain": [
       "<Figure size 432x288 with 9 Axes>"
      ]
     },
     "metadata": {
      "needs_background": "light"
     },
     "output_type": "display_data"
    }
   ],
   "source": [
    "pd.plotting.scatter_matrix(df2019_cleanint);"
   ]
  },
  {
   "cell_type": "code",
   "execution_count": 27,
   "metadata": {
    "ExecuteTime": {
     "end_time": "2019-07-21T23:21:40.784479Z",
     "start_time": "2019-07-21T23:21:39.889306Z"
    }
   },
   "outputs": [
    {
     "data": {
      "image/png": "[encoded data removed]",
      "text/plain": [
       "<Figure size 432x288 with 1 Axes>"
      ]
     },
     "metadata": {
      "needs_background": "light"
     },
     "output_type": "display_data"
    }
   ],
   "source": [
    "df2019_cleanint.plot.scatter(x='WorkWeekHrs',y='ConvertedComp',alpha=0.2);"
   ]
  },
  {
   "cell_type": "code",
   "execution_count": 28,
   "metadata": {
    "ExecuteTime": {
     "end_time": "2019-07-21T23:23:08.795493Z",
     "start_time": "2019-07-21T23:23:07.898148Z"
    }
   },
   "outputs": [
    {
     "data": {
      "image/png": "[encoded data removed]",
      "text/plain": [
       "<Figure size 432x288 with 1 Axes>"
      ]
     },
     "metadata": {
      "needs_background": "light"
     },
     "output_type": "display_data"
    }
   ],
   "source": [
    "df2019_cleanint.plot.scatter(x='WorkWeekHrs',y='Age',alpha=0.2);"
   ]
  },
  {
   "cell_type": "code",
   "execution_count": 29,
   "metadata": {
    "ExecuteTime": {
     "end_time": "2019-07-21T23:30:04.264776Z",
     "start_time": "2019-07-21T23:30:04.012999Z"
    }
   },
   "outputs": [
    {
     "data": {
      "image/png": "[encoded data removed]",
      "text/plain": [
       "<Figure size 432x288 with 1 Axes>"
      ]
     },
     "metadata": {
      "needs_background": "light"
     },
     "output_type": "display_data"
    }
   ],
   "source": [
    "df2019_cleanint.Age.plot.hist(bins=20,alpha=0.5);"
   ]
  },
  {
   "cell_type": "code",
   "execution_count": 30,
   "metadata": {
    "ExecuteTime": {
     "end_time": "2019-07-21T23:32:07.763667Z",
     "start_time": "2019-07-21T23:32:07.460002Z"
    }
   },
   "outputs": [
    {
     "data": {
      "image/png": "[encoded data removed]",
      "text/plain": [
       "<Figure size 432x288 with 1 Axes>"
      ]
     },
     "metadata": {
      "needs_background": "light"
     },
     "output_type": "display_data"
    }
   ],
   "source": [
    "df2019_cleanint.query('ConvertedComp < 400000').ConvertedComp.plot.hist(bins=30,alpha=0.5);"
   ]
  },
  {
   "cell_type": "code",
   "execution_count": 31,
   "metadata": {},
   "outputs": [
    {
     "data": {
      "image/png": "[encoded data removed]",
      "text/plain": [
       "<Figure size 432x288 with 1 Axes>"
      ]
     },
     "metadata": {
      "needs_background": "light"
     },
     "output_type": "display_data"
    }
   ],
   "source": [
    "df2019_cleanint.Age.plot.hist(bins=20,alpha=0.5);"
   ]
  },
  {
   "cell_type": "markdown",
   "metadata": {},
   "source": [
    "### / deal category data\n",
    "#### // LanguageWorkedWith\n",
    "define: translate str data into muilty category data\n",
    "- solution1 str.isin()\n",
    "    - original data is str and sep with ;\n",
    "    - use isin to check key words with in many selection\n",
    "    - seems to be so many for language\n",
    "- solution2 use str, split\n",
    "    - https://stackoverflow.com/questions/5828123/nested-list-and-count\n",
    "    - https://stackoverflow.com/questions/41371475/pandas-count-most-frequent-elements-in-nested-lists-inside-gropby-and-get-nlarge\n",
    "    - for int https://stackoverflow.com/questions/952914/how-to-make-a-flat-list-out-of-list-of-lists"
   ]
  },
  {
   "cell_type": "code",
   "execution_count": 32,
   "metadata": {
    "ExecuteTime": {
     "end_time": "2019-07-22T03:09:29.180256Z",
     "start_time": "2019-07-22T03:09:29.070760Z"
    }
   },
   "outputs": [
    {
     "data": {
      "text/plain": [
       "pandas.core.series.Series"
      ]
     },
     "execution_count": 32,
     "metadata": {},
     "output_type": "execute_result"
    }
   ],
   "source": [
    "# code\n",
    "## solution - str split, than flatten\n",
    "lang_series = df2019_cleanint.LanguageWorkedWith.str.split(pat=';')\n",
    "type(lang_series)"
   ]
  },
  {
   "cell_type": "code",
   "execution_count": 33,
   "metadata": {
    "ExecuteTime": {
     "end_time": "2019-07-22T02:58:35.693278Z",
     "start_time": "2019-07-22T02:58:35.680947Z"
    }
   },
   "outputs": [
    {
     "data": {
      "text/plain": [
       "2                                            [HTML/CSS]\n",
       "3                             [C, C++, C#, Python, SQL]\n",
       "5                                        [Java, R, SQL]\n",
       "8     [Bash/Shell/PowerShell, C#, HTML/CSS, JavaScri...\n",
       "12    [Bash/Shell/PowerShell, HTML/CSS, JavaScript, ...\n",
       "13                                                [C++]\n",
       "15    [Bash/Shell/PowerShell, C#, HTML/CSS, JavaScri...\n",
       "16    [Bash/Shell/PowerShell, HTML/CSS, JavaScript, ...\n",
       "21    [Bash/Shell/PowerShell, C++, HTML/CSS, JavaScr...\n",
       "22    [Bash/Shell/PowerShell, HTML/CSS, JavaScript, ...\n",
       "Name: LanguageWorkedWith, dtype: object"
      ]
     },
     "execution_count": 33,
     "metadata": {},
     "output_type": "execute_result"
    }
   ],
   "source": [
    "lang_series[:10]"
   ]
  },
  {
   "cell_type": "code",
   "execution_count": 34,
   "metadata": {
    "ExecuteTime": {
     "end_time": "2019-07-22T03:12:34.077735Z",
     "start_time": "2019-07-22T03:12:34.066577Z"
    }
   },
   "outputs": [
    {
     "data": {
      "text/plain": [
       "list"
      ]
     },
     "execution_count": 34,
     "metadata": {},
     "output_type": "execute_result"
    }
   ],
   "source": [
    "lang_list = lang_series.tolist()\n",
    "type(lang_list)"
   ]
  },
  {
   "cell_type": "code",
   "execution_count": 35,
   "metadata": {
    "ExecuteTime": {
     "end_time": "2019-07-22T03:21:11.266089Z",
     "start_time": "2019-07-22T03:21:11.256985Z"
    }
   },
   "outputs": [
    {
     "data": {
      "text/plain": [
       "range(0, 49531)"
      ]
     },
     "execution_count": 35,
     "metadata": {},
     "output_type": "execute_result"
    }
   ],
   "source": [
    "range(len(lang_list))"
   ]
  },
  {
   "cell_type": "code",
   "execution_count": 36,
   "metadata": {
    "ExecuteTime": {
     "end_time": "2019-07-22T03:13:00.271902Z",
     "start_time": "2019-07-22T03:13:00.259660Z"
    }
   },
   "outputs": [
    {
     "data": {
      "text/plain": [
       "[['HTML/CSS'], ['C', 'C++', 'C#', 'Python', 'SQL'], ['Java', 'R', 'SQL']]"
      ]
     },
     "execution_count": 36,
     "metadata": {},
     "output_type": "execute_result"
    }
   ],
   "source": [
    "lang_list[:3]"
   ]
  },
  {
   "cell_type": "code",
   "execution_count": null,
   "metadata": {},
   "outputs": [],
   "source": [
    "# solution for nested list (lang_list)\n",
    "## use itertools\n",
    "## base - https://www.liaoxuefeng.com/wiki/897692888725344/983420006222912\n",
    "### 1. itertools will create a iterable\n",
    "### 2. \n",
    "## eg -  https://bytes.com/topic/python/answers/36420-counter-items-lists-lists"
   ]
  },
  {
   "cell_type": "code",
   "execution_count": 40,
   "metadata": {},
   "outputs": [
    {
     "data": {
      "text/plain": [
       "{'a/c': 1, 'b': 2, 'c': 1, 'a': 2, 'f': 1, 'g': 1, 'h': 1, 'x': 1, 'y': 1}"
      ]
     },
     "execution_count": 40,
     "metadata": {},
     "output_type": "execute_result"
    }
   ],
   "source": [
    "## example\n",
    "import itertools\n",
    "myList=[['a/c','b','c'],['a','f','g','h'],['a','b','x','y']]\n",
    "counts = {}\n",
    "for item in itertools.chain(*myList):\n",
    "    counts[item] = counts.get(item, 0) + 1\n",
    "    \n",
    "counts"
   ]
  },
  {
   "cell_type": "code",
   "execution_count": 39,
   "metadata": {},
   "outputs": [
    {
     "ename": "TypeError",
     "evalue": "'float' object is not iterable",
     "output_type": "error",
     "traceback": [
      "\u001b[1;31m---------------------------------------------------------------------------\u001b[0m",
      "\u001b[1;31mTypeError\u001b[0m                                 Traceback (most recent call last)",
      "\u001b[1;32m<ipython-input-39-563d96262942>\u001b[0m in \u001b[0;36m<module>\u001b[1;34m\u001b[0m\n\u001b[0;32m      1\u001b[0m \u001b[1;31m## test\u001b[0m\u001b[1;33m\u001b[0m\u001b[1;33m\u001b[0m\u001b[1;33m\u001b[0m\u001b[0m\n\u001b[0;32m      2\u001b[0m \u001b[0mcounts\u001b[0m \u001b[1;33m=\u001b[0m \u001b[1;33m{\u001b[0m\u001b[1;33m}\u001b[0m\u001b[1;33m\u001b[0m\u001b[1;33m\u001b[0m\u001b[0m\n\u001b[1;32m----> 3\u001b[1;33m \u001b[1;32mfor\u001b[0m \u001b[0mitem\u001b[0m \u001b[1;32min\u001b[0m \u001b[0mitertools\u001b[0m\u001b[1;33m.\u001b[0m\u001b[0mchain\u001b[0m\u001b[1;33m(\u001b[0m\u001b[1;33m*\u001b[0m\u001b[0mlang_list\u001b[0m\u001b[1;33m)\u001b[0m\u001b[1;33m:\u001b[0m\u001b[1;33m\u001b[0m\u001b[1;33m\u001b[0m\u001b[0m\n\u001b[0m\u001b[0;32m      4\u001b[0m     \u001b[0mcounts\u001b[0m\u001b[1;33m[\u001b[0m\u001b[0mitem\u001b[0m\u001b[1;33m]\u001b[0m \u001b[1;33m=\u001b[0m \u001b[0mcounts\u001b[0m\u001b[1;33m.\u001b[0m\u001b[0mget\u001b[0m\u001b[1;33m(\u001b[0m\u001b[0mitem\u001b[0m\u001b[1;33m,\u001b[0m \u001b[1;36m0\u001b[0m\u001b[1;33m)\u001b[0m \u001b[1;33m+\u001b[0m \u001b[1;36m1\u001b[0m\u001b[1;33m\u001b[0m\u001b[1;33m\u001b[0m\u001b[0m\n\u001b[0;32m      5\u001b[0m \u001b[1;33m\u001b[0m\u001b[0m\n",
      "\u001b[1;31mTypeError\u001b[0m: 'float' object is not iterable"
     ]
    }
   ],
   "source": [
    "## test\n",
    "counts = {}\n",
    "for item in itertools.chain(*lang_list):\n",
    "    counts[item] = counts.get(item, 0) + 1\n",
    "    \n",
    "counts"
   ]
  },
  {
   "cell_type": "code",
   "execution_count": 184,
   "metadata": {
    "ExecuteTime": {
     "end_time": "2019-07-22T03:15:54.544042Z",
     "start_time": "2019-07-22T03:15:54.513711Z"
    }
   },
   "outputs": [
    {
     "ename": "TypeError",
     "evalue": "'float' object is not iterable",
     "output_type": "error",
     "traceback": [
      "\u001b[0;31m--------------------------------------------------\u001b[0m",
      "\u001b[0;31mTypeError\u001b[0m        Traceback (most recent call last)",
      "\u001b[0;32m<ipython-input-184-932c9f6923ac>\u001b[0m in \u001b[0;36m<module>\u001b[0;34m\u001b[0m\n\u001b[0;32m----> 1\u001b[0;31m \u001b[0mflat_list\u001b[0m \u001b[0;34m=\u001b[0m \u001b[0;34m[\u001b[0m\u001b[0mitem\u001b[0m \u001b[0;32mfor\u001b[0m \u001b[0msublist\u001b[0m \u001b[0;32min\u001b[0m \u001b[0mlang_list\u001b[0m \u001b[0;32mfor\u001b[0m \u001b[0mitem\u001b[0m \u001b[0;32min\u001b[0m \u001b[0msublist\u001b[0m\u001b[0;34m]\u001b[0m\u001b[0;34m\u001b[0m\u001b[0;34m\u001b[0m\u001b[0m\n\u001b[0m",
      "\u001b[0;32m<ipython-input-184-932c9f6923ac>\u001b[0m in \u001b[0;36m<listcomp>\u001b[0;34m(.0)\u001b[0m\n\u001b[0;32m----> 1\u001b[0;31m \u001b[0mflat_list\u001b[0m \u001b[0;34m=\u001b[0m \u001b[0;34m[\u001b[0m\u001b[0mitem\u001b[0m \u001b[0;32mfor\u001b[0m \u001b[0msublist\u001b[0m \u001b[0;32min\u001b[0m \u001b[0mlang_list\u001b[0m \u001b[0;32mfor\u001b[0m \u001b[0mitem\u001b[0m \u001b[0;32min\u001b[0m \u001b[0msublist\u001b[0m\u001b[0;34m]\u001b[0m\u001b[0;34m\u001b[0m\u001b[0;34m\u001b[0m\u001b[0m\n\u001b[0m",
      "\u001b[0;31mTypeError\u001b[0m: 'float' object is not iterable"
     ]
    }
   ],
   "source": [
    "flat_list = [item for sublist in lang_list for item in sublist]"
   ]
  },
  {
   "cell_type": "code",
   "execution_count": 185,
   "metadata": {
    "ExecuteTime": {
     "end_time": "2019-07-22T03:19:59.542403Z",
     "start_time": "2019-07-22T03:19:59.526224Z"
    }
   },
   "outputs": [
    {
     "ename": "TypeError",
     "evalue": "object of type 'float' has no len()",
     "output_type": "error",
     "traceback": [
      "\u001b[0;31m--------------------------------------------------\u001b[0m",
      "\u001b[0;31mTypeError\u001b[0m        Traceback (most recent call last)",
      "\u001b[0;32m<ipython-input-185-165eed5265f1>\u001b[0m in \u001b[0;36m<module>\u001b[0;34m\u001b[0m\n\u001b[1;32m      1\u001b[0m \u001b[0mflat_list\u001b[0m \u001b[0;34m=\u001b[0m \u001b[0;34m[\u001b[0m\u001b[0;34m]\u001b[0m\u001b[0;34m\u001b[0m\u001b[0;34m\u001b[0m\u001b[0m\n\u001b[1;32m      2\u001b[0m \u001b[0;32mfor\u001b[0m \u001b[0msublist\u001b[0m \u001b[0;32min\u001b[0m \u001b[0mlang_list\u001b[0m\u001b[0;34m:\u001b[0m\u001b[0;34m\u001b[0m\u001b[0;34m\u001b[0m\u001b[0m\n\u001b[0;32m----> 3\u001b[0;31m     \u001b[0;32mfor\u001b[0m \u001b[0mitem\u001b[0m \u001b[0;32min\u001b[0m \u001b[0mrange\u001b[0m\u001b[0;34m(\u001b[0m\u001b[0mlen\u001b[0m\u001b[0;34m(\u001b[0m\u001b[0msublist\u001b[0m\u001b[0;34m)\u001b[0m\u001b[0;34m)\u001b[0m\u001b[0;34m:\u001b[0m\u001b[0;34m\u001b[0m\u001b[0;34m\u001b[0m\u001b[0m\n\u001b[0m\u001b[1;32m      4\u001b[0m         \u001b[0mflat_list\u001b[0m\u001b[0;34m.\u001b[0m\u001b[0mappend\u001b[0m\u001b[0;34m(\u001b[0m\u001b[0mitem\u001b[0m\u001b[0;34m)\u001b[0m\u001b[0;34m\u001b[0m\u001b[0;34m\u001b[0m\u001b[0m\n",
      "\u001b[0;31mTypeError\u001b[0m: object of type 'float' has no len()"
     ]
    }
   ],
   "source": [
    "flat_list = []\n",
    "for sublist in lang_list:\n",
    "    for item in range(len(sublist)):\n",
    "        flat_list.append(item)"
   ]
  },
  {
   "cell_type": "code",
   "execution_count": 183,
   "metadata": {
    "ExecuteTime": {
     "end_time": "2019-07-22T03:13:26.474734Z",
     "start_time": "2019-07-22T03:13:26.453874Z"
    }
   },
   "outputs": [
    {
     "ename": "TypeError",
     "evalue": "'float' object is not iterable",
     "output_type": "error",
     "traceback": [
      "\u001b[0;31m--------------------------------------------------\u001b[0m",
      "\u001b[0;31mTypeError\u001b[0m        Traceback (most recent call last)",
      "\u001b[0;32m<ipython-input-183-f6259afe0290>\u001b[0m in \u001b[0;36m<module>\u001b[0;34m\u001b[0m\n\u001b[1;32m      1\u001b[0m \u001b[0mflat_list\u001b[0m \u001b[0;34m=\u001b[0m \u001b[0;34m[\u001b[0m\u001b[0;34m]\u001b[0m\u001b[0;34m\u001b[0m\u001b[0;34m\u001b[0m\u001b[0m\n\u001b[1;32m      2\u001b[0m \u001b[0;32mfor\u001b[0m \u001b[0msublist\u001b[0m \u001b[0;32min\u001b[0m \u001b[0mlang_list\u001b[0m\u001b[0;34m:\u001b[0m\u001b[0;34m\u001b[0m\u001b[0;34m\u001b[0m\u001b[0m\n\u001b[0;32m----> 3\u001b[0;31m     \u001b[0;32mfor\u001b[0m \u001b[0mitem\u001b[0m \u001b[0;32min\u001b[0m \u001b[0msublist\u001b[0m\u001b[0;34m:\u001b[0m\u001b[0;34m\u001b[0m\u001b[0;34m\u001b[0m\u001b[0m\n\u001b[0m\u001b[1;32m      4\u001b[0m         \u001b[0mflat_list\u001b[0m\u001b[0;34m.\u001b[0m\u001b[0mappend\u001b[0m\u001b[0;34m(\u001b[0m\u001b[0mitem\u001b[0m\u001b[0;34m)\u001b[0m\u001b[0;34m\u001b[0m\u001b[0;34m\u001b[0m\u001b[0m\n",
      "\u001b[0;31mTypeError\u001b[0m: 'float' object is not iterable"
     ]
    }
   ],
   "source": [
    "flat_list = []\n",
    "for sublist in lang_list:\n",
    "    for item in sublist:\n",
    "        flat_list.append(item)"
   ]
  },
  {
   "cell_type": "code",
   "execution_count": 173,
   "metadata": {
    "ExecuteTime": {
     "end_time": "2019-07-22T03:05:13.156364Z",
     "start_time": "2019-07-22T03:05:13.131882Z"
    }
   },
   "outputs": [
    {
     "ename": "TypeError",
     "evalue": "'float' object is not iterable",
     "output_type": "error",
     "traceback": [
      "\u001b[0;31m--------------------------------------------------\u001b[0m",
      "\u001b[0;31mTypeError\u001b[0m        Traceback (most recent call last)",
      "\u001b[0;32m<ipython-input-173-85bb7a0f6637>\u001b[0m in \u001b[0;36m<module>\u001b[0;34m\u001b[0m\n\u001b[1;32m      2\u001b[0m \u001b[0;34m\u001b[0m\u001b[0m\n\u001b[1;32m      3\u001b[0m \u001b[0mdata\u001b[0m \u001b[0;34m=\u001b[0m \u001b[0;34m[\u001b[0m\u001b[0;34m[\u001b[0m\u001b[0;36m1\u001b[0m\u001b[0;34m,\u001b[0m\u001b[0;36m2\u001b[0m\u001b[0;34m,\u001b[0m\u001b[0;36m3\u001b[0m\u001b[0;34m]\u001b[0m\u001b[0;34m,\u001b[0m\u001b[0;34m[\u001b[0m\u001b[0;36m1\u001b[0m\u001b[0;34m,\u001b[0m\u001b[0;36m1\u001b[0m\u001b[0;34m,\u001b[0m\u001b[0;36m1\u001b[0m\u001b[0;34m]\u001b[0m\u001b[0;34m]\u001b[0m\u001b[0;34m\u001b[0m\u001b[0;34m\u001b[0m\u001b[0m\n\u001b[0;32m----> 4\u001b[0;31m \u001b[0mcounter\u001b[0m \u001b[0;34m=\u001b[0m \u001b[0mcollections\u001b[0m\u001b[0;34m.\u001b[0m\u001b[0mCounter\u001b[0m\u001b[0;34m(\u001b[0m\u001b[0mitertools\u001b[0m\u001b[0;34m.\u001b[0m\u001b[0mchain\u001b[0m\u001b[0;34m(\u001b[0m\u001b[0;34m*\u001b[0m\u001b[0mlang_series\u001b[0m\u001b[0;34m)\u001b[0m\u001b[0;34m)\u001b[0m\u001b[0;34m\u001b[0m\u001b[0;34m\u001b[0m\u001b[0m\n\u001b[0m\u001b[1;32m      5\u001b[0m \u001b[0mprint\u001b[0m\u001b[0;34m(\u001b[0m\u001b[0mcounter\u001b[0m\u001b[0;34m[\u001b[0m\u001b[0;34m'C'\u001b[0m\u001b[0;34m]\u001b[0m\u001b[0;34m)\u001b[0m\u001b[0;34m\u001b[0m\u001b[0;34m\u001b[0m\u001b[0m\n",
      "\u001b[0;32m~/miniconda3/envs/py36/lib/python3.6/collections/__init__.py\u001b[0m in \u001b[0;36m__init__\u001b[0;34m(*args, **kwds)\u001b[0m\n\u001b[1;32m    533\u001b[0m             \u001b[0;32mraise\u001b[0m \u001b[0mTypeError\u001b[0m\u001b[0;34m(\u001b[0m\u001b[0;34m'expected at most 1 arguments, got %d'\u001b[0m \u001b[0;34m%\u001b[0m \u001b[0mlen\u001b[0m\u001b[0;34m(\u001b[0m\u001b[0margs\u001b[0m\u001b[0;34m)\u001b[0m\u001b[0;34m)\u001b[0m\u001b[0;34m\u001b[0m\u001b[0;34m\u001b[0m\u001b[0m\n\u001b[1;32m    534\u001b[0m         \u001b[0msuper\u001b[0m\u001b[0;34m(\u001b[0m\u001b[0mCounter\u001b[0m\u001b[0;34m,\u001b[0m \u001b[0mself\u001b[0m\u001b[0;34m)\u001b[0m\u001b[0;34m.\u001b[0m\u001b[0m__init__\u001b[0m\u001b[0;34m(\u001b[0m\u001b[0;34m)\u001b[0m\u001b[0;34m\u001b[0m\u001b[0;34m\u001b[0m\u001b[0m\n\u001b[0;32m--> 535\u001b[0;31m         \u001b[0mself\u001b[0m\u001b[0;34m.\u001b[0m\u001b[0mupdate\u001b[0m\u001b[0;34m(\u001b[0m\u001b[0;34m*\u001b[0m\u001b[0margs\u001b[0m\u001b[0;34m,\u001b[0m \u001b[0;34m**\u001b[0m\u001b[0mkwds\u001b[0m\u001b[0;34m)\u001b[0m\u001b[0;34m\u001b[0m\u001b[0;34m\u001b[0m\u001b[0m\n\u001b[0m\u001b[1;32m    536\u001b[0m \u001b[0;34m\u001b[0m\u001b[0m\n\u001b[1;32m    537\u001b[0m     \u001b[0;32mdef\u001b[0m \u001b[0m__missing__\u001b[0m\u001b[0;34m(\u001b[0m\u001b[0mself\u001b[0m\u001b[0;34m,\u001b[0m \u001b[0mkey\u001b[0m\u001b[0;34m)\u001b[0m\u001b[0;34m:\u001b[0m\u001b[0;34m\u001b[0m\u001b[0;34m\u001b[0m\u001b[0m\n",
      "\u001b[0;32m~/miniconda3/envs/py36/lib/python3.6/collections/__init__.py\u001b[0m in \u001b[0;36mupdate\u001b[0;34m(*args, **kwds)\u001b[0m\n\u001b[1;32m    620\u001b[0m                     \u001b[0msuper\u001b[0m\u001b[0;34m(\u001b[0m\u001b[0mCounter\u001b[0m\u001b[0;34m,\u001b[0m \u001b[0mself\u001b[0m\u001b[0;34m)\u001b[0m\u001b[0;34m.\u001b[0m\u001b[0mupdate\u001b[0m\u001b[0;34m(\u001b[0m\u001b[0miterable\u001b[0m\u001b[0;34m)\u001b[0m \u001b[0;31m# fast path when counter is empty\u001b[0m\u001b[0;34m\u001b[0m\u001b[0;34m\u001b[0m\u001b[0m\n\u001b[1;32m    621\u001b[0m             \u001b[0;32melse\u001b[0m\u001b[0;34m:\u001b[0m\u001b[0;34m\u001b[0m\u001b[0;34m\u001b[0m\u001b[0m\n\u001b[0;32m--> 622\u001b[0;31m                 \u001b[0m_count_elements\u001b[0m\u001b[0;34m(\u001b[0m\u001b[0mself\u001b[0m\u001b[0;34m,\u001b[0m \u001b[0miterable\u001b[0m\u001b[0;34m)\u001b[0m\u001b[0;34m\u001b[0m\u001b[0;34m\u001b[0m\u001b[0m\n\u001b[0m\u001b[1;32m    623\u001b[0m         \u001b[0;32mif\u001b[0m \u001b[0mkwds\u001b[0m\u001b[0;34m:\u001b[0m\u001b[0;34m\u001b[0m\u001b[0;34m\u001b[0m\u001b[0m\n\u001b[1;32m    624\u001b[0m             \u001b[0mself\u001b[0m\u001b[0;34m.\u001b[0m\u001b[0mupdate\u001b[0m\u001b[0;34m(\u001b[0m\u001b[0mkwds\u001b[0m\u001b[0;34m)\u001b[0m\u001b[0;34m\u001b[0m\u001b[0;34m\u001b[0m\u001b[0m\n",
      "\u001b[0;31mTypeError\u001b[0m: 'float' object is not iterable"
     ]
    }
   ],
   "source": [
    "import itertools, collections\n",
    "\n",
    "data = [[1,2,3],[1,1,1]]\n",
    "counter = collections.Counter(itertools.chain(*lang_series))\n",
    "print(counter['C'])"
   ]
  },
  {
   "cell_type": "code",
   "execution_count": 170,
   "metadata": {
    "ExecuteTime": {
     "end_time": "2019-07-22T03:01:47.285102Z",
     "start_time": "2019-07-22T03:01:47.262355Z"
    }
   },
   "outputs": [
    {
     "ename": "AttributeError",
     "evalue": "'float' object has no attribute 'count'",
     "output_type": "error",
     "traceback": [
      "\u001b[0;31m--------------------------------------------------\u001b[0m",
      "\u001b[0;31mAttributeError\u001b[0m   Traceback (most recent call last)",
      "\u001b[0;32m<ipython-input-170-9280eeab5def>\u001b[0m in \u001b[0;36m<module>\u001b[0;34m\u001b[0m\n\u001b[0;32m----> 1\u001b[0;31m \u001b[0msum\u001b[0m\u001b[0;34m(\u001b[0m\u001b[0mx\u001b[0m\u001b[0;34m.\u001b[0m\u001b[0mcount\u001b[0m\u001b[0;34m(\u001b[0m\u001b[0;36m1\u001b[0m\u001b[0;34m)\u001b[0m \u001b[0;32mfor\u001b[0m \u001b[0mx\u001b[0m \u001b[0;32min\u001b[0m \u001b[0mlang_series\u001b[0m\u001b[0;34m)\u001b[0m\u001b[0;34m\u001b[0m\u001b[0;34m\u001b[0m\u001b[0m\n\u001b[0m",
      "\u001b[0;32m<ipython-input-170-9280eeab5def>\u001b[0m in \u001b[0;36m<genexpr>\u001b[0;34m(.0)\u001b[0m\n\u001b[0;32m----> 1\u001b[0;31m \u001b[0msum\u001b[0m\u001b[0;34m(\u001b[0m\u001b[0mx\u001b[0m\u001b[0;34m.\u001b[0m\u001b[0mcount\u001b[0m\u001b[0;34m(\u001b[0m\u001b[0;36m1\u001b[0m\u001b[0;34m)\u001b[0m \u001b[0;32mfor\u001b[0m \u001b[0mx\u001b[0m \u001b[0;32min\u001b[0m \u001b[0mlang_series\u001b[0m\u001b[0;34m)\u001b[0m\u001b[0;34m\u001b[0m\u001b[0;34m\u001b[0m\u001b[0m\n\u001b[0m",
      "\u001b[0;31mAttributeError\u001b[0m: 'float' object has no attribute 'count'"
     ]
    }
   ],
   "source": [
    "sum(x.count(1) for x in lang_series)"
   ]
  },
  {
   "cell_type": "code",
   "execution_count": 169,
   "metadata": {
    "ExecuteTime": {
     "end_time": "2019-07-22T03:01:04.686660Z",
     "start_time": "2019-07-22T03:00:55.258373Z"
    }
   },
   "outputs": [
    {
     "ename": "RecursionError",
     "evalue": "maximum recursion depth exceeded",
     "output_type": "error",
     "traceback": [
      "\u001b[0;31m--------------------------------------------------\u001b[0m",
      "\u001b[0;31mRecursionError\u001b[0m   Traceback (most recent call last)",
      "\u001b[0;32m<ipython-input-169-36091db630cf>\u001b[0m in \u001b[0;36m<module>\u001b[0;34m\u001b[0m\n\u001b[1;32m     14\u001b[0m \u001b[0;34m\u001b[0m\u001b[0m\n\u001b[1;32m     15\u001b[0m \u001b[0;34m\u001b[0m\u001b[0m\n\u001b[0;32m---> 16\u001b[0;31m \u001b[0mc\u001b[0m \u001b[0;34m=\u001b[0m \u001b[0mflatten\u001b[0m\u001b[0;34m(\u001b[0m\u001b[0;34m[\u001b[0m\u001b[0;34m(\u001b[0m\u001b[0;36m1\u001b[0m\u001b[0;34m,\u001b[0m\u001b[0;36m2\u001b[0m\u001b[0;34m)\u001b[0m\u001b[0;34m,\u001b[0m\u001b[0;34m(\u001b[0m\u001b[0;36m3\u001b[0m\u001b[0;34m,\u001b[0m\u001b[0;36m4\u001b[0m\u001b[0;34m)\u001b[0m\u001b[0;34m,\u001b[0m\u001b[0;34m(\u001b[0m\u001b[0;36m5\u001b[0m\u001b[0;34m,\u001b[0m\u001b[0;34m[\u001b[0m\u001b[0;36m6\u001b[0m\u001b[0;34m,\u001b[0m\u001b[0;36m7\u001b[0m\u001b[0;34m,\u001b[0m\u001b[0;34m[\u001b[0m\u001b[0;34m'a'\u001b[0m\u001b[0;34m,\u001b[0m\u001b[0;34m'b'\u001b[0m\u001b[0;34m]\u001b[0m\u001b[0;34m]\u001b[0m\u001b[0;34m)\u001b[0m\u001b[0;34m,\u001b[0m\u001b[0;34m[\u001b[0m\u001b[0;34m'c'\u001b[0m\u001b[0;34m,\u001b[0m\u001b[0;34m'd'\u001b[0m\u001b[0;34m,\u001b[0m\u001b[0;34m(\u001b[0m\u001b[0;34m'e'\u001b[0m\u001b[0;34m,\u001b[0m\u001b[0;34m[\u001b[0m\u001b[0;34m'f'\u001b[0m\u001b[0;34m,\u001b[0m\u001b[0;34m'g'\u001b[0m\u001b[0;34m,\u001b[0m\u001b[0;34m'h'\u001b[0m\u001b[0;34m]\u001b[0m\u001b[0;34m)\u001b[0m\u001b[0;34m]\u001b[0m\u001b[0;34m]\u001b[0m\u001b[0;34m)\u001b[0m\u001b[0;34m\u001b[0m\u001b[0;34m\u001b[0m\u001b[0m\n\u001b[0m\u001b[1;32m     17\u001b[0m \u001b[0mprint\u001b[0m\u001b[0;34m(\u001b[0m\u001b[0mc\u001b[0m\u001b[0;34m)\u001b[0m\u001b[0;34m\u001b[0m\u001b[0;34m\u001b[0m\u001b[0m\n\u001b[1;32m     18\u001b[0m \u001b[0mprint\u001b[0m\u001b[0;34m(\u001b[0m\u001b[0mc\u001b[0m\u001b[0;34m.\u001b[0m\u001b[0mcount\u001b[0m\u001b[0;34m(\u001b[0m\u001b[0;34m'g'\u001b[0m\u001b[0;34m)\u001b[0m\u001b[0;34m)\u001b[0m\u001b[0;34m\u001b[0m\u001b[0;34m\u001b[0m\u001b[0m\n",
      "\u001b[0;32m<ipython-input-169-36091db630cf>\u001b[0m in \u001b[0;36mflatten\u001b[0;34m(seq, container)\u001b[0m\n\u001b[1;32m      9\u001b[0m             \u001b[0mcontainer\u001b[0m\u001b[0;34m.\u001b[0m\u001b[0mappend\u001b[0m\u001b[0;34m(\u001b[0m\u001b[0ms\u001b[0m\u001b[0;34m)\u001b[0m\u001b[0;34m\u001b[0m\u001b[0;34m\u001b[0m\u001b[0m\n\u001b[1;32m     10\u001b[0m         \u001b[0;32melse\u001b[0m\u001b[0;34m:\u001b[0m\u001b[0;34m\u001b[0m\u001b[0;34m\u001b[0m\u001b[0m\n\u001b[0;32m---> 11\u001b[0;31m             \u001b[0mflatten\u001b[0m\u001b[0;34m(\u001b[0m\u001b[0ms\u001b[0m\u001b[0;34m,\u001b[0m \u001b[0mcontainer\u001b[0m\u001b[0;34m)\u001b[0m\u001b[0;34m\u001b[0m\u001b[0;34m\u001b[0m\u001b[0m\n\u001b[0m\u001b[1;32m     12\u001b[0m \u001b[0;34m\u001b[0m\u001b[0m\n\u001b[1;32m     13\u001b[0m     \u001b[0;32mreturn\u001b[0m \u001b[0mcontainer\u001b[0m\u001b[0;34m\u001b[0m\u001b[0;34m\u001b[0m\u001b[0m\n",
      "... last 1 frames repeated, from the frame below ...\n",
      "\u001b[0;32m<ipython-input-169-36091db630cf>\u001b[0m in \u001b[0;36mflatten\u001b[0;34m(seq, container)\u001b[0m\n\u001b[1;32m      9\u001b[0m             \u001b[0mcontainer\u001b[0m\u001b[0;34m.\u001b[0m\u001b[0mappend\u001b[0m\u001b[0;34m(\u001b[0m\u001b[0ms\u001b[0m\u001b[0;34m)\u001b[0m\u001b[0;34m\u001b[0m\u001b[0;34m\u001b[0m\u001b[0m\n\u001b[1;32m     10\u001b[0m         \u001b[0;32melse\u001b[0m\u001b[0;34m:\u001b[0m\u001b[0;34m\u001b[0m\u001b[0;34m\u001b[0m\u001b[0m\n\u001b[0;32m---> 11\u001b[0;31m             \u001b[0mflatten\u001b[0m\u001b[0;34m(\u001b[0m\u001b[0ms\u001b[0m\u001b[0;34m,\u001b[0m \u001b[0mcontainer\u001b[0m\u001b[0;34m)\u001b[0m\u001b[0;34m\u001b[0m\u001b[0;34m\u001b[0m\u001b[0m\n\u001b[0m\u001b[1;32m     12\u001b[0m \u001b[0;34m\u001b[0m\u001b[0m\n\u001b[1;32m     13\u001b[0m     \u001b[0;32mreturn\u001b[0m \u001b[0mcontainer\u001b[0m\u001b[0;34m\u001b[0m\u001b[0;34m\u001b[0m\u001b[0m\n",
      "\u001b[0;31mRecursionError\u001b[0m: maximum recursion depth exceeded"
     ]
    }
   ],
   "source": [
    "def flatten(seq, container=None):\n",
    "    if container is None:\n",
    "        container = []\n",
    "\n",
    "    for s in seq:\n",
    "        try:\n",
    "            iter(s)  # check if it's iterable\n",
    "        except TypeError:\n",
    "            container.append(s)\n",
    "        else:\n",
    "            flatten(s, container)\n",
    "\n",
    "    return container\n",
    "\n",
    "\n",
    "c = flatten([(1,2),(3,4),(5,[6,7,['a','b']]),['c','d',('e',['f','g','h'])]])\n",
    "print(c)\n",
    "print(c.count('g'))\n",
    "\n",
    "d = flatten([[[1,(1,),((1,(1,))), [1,[1,[1,[1]]]], 1, [1, [1, (1,)]]]]])\n",
    "print(d)\n",
    "print(d.count(1))"
   ]
  },
  {
   "cell_type": "code",
   "execution_count": 168,
   "metadata": {
    "ExecuteTime": {
     "end_time": "2019-07-22T03:00:47.139529Z",
     "start_time": "2019-07-22T03:00:47.133156Z"
    }
   },
   "outputs": [],
   "source": [
    "# flatten1\n",
    "def big2(s):\n",
    "    l = [i for l in s.values.tolist() for i in l]\n",
    "    u, c = np.unique(l, return_counts=True)\n",
    "    a = np.argsort(c)[-2:]\n",
    "    return pd.Series(c[a], u[a])"
   ]
  },
  {
   "cell_type": "code",
   "execution_count": 166,
   "metadata": {
    "ExecuteTime": {
     "end_time": "2019-07-22T02:59:11.526394Z",
     "start_time": "2019-07-22T02:59:11.494052Z"
    }
   },
   "outputs": [
    {
     "ename": "TypeError",
     "evalue": "Only valid with DatetimeIndex, TimedeltaIndex or PeriodIndex, but got an instance of 'Int64Index'",
     "output_type": "error",
     "traceback": [
      "\u001b[0;31m--------------------------------------------------\u001b[0m",
      "\u001b[0;31mTypeError\u001b[0m        Traceback (most recent call last)",
      "\u001b[0;32m<ipython-input-166-48c979820ad3>\u001b[0m in \u001b[0;36m<module>\u001b[0;34m\u001b[0m\n\u001b[0;32m----> 1\u001b[0;31m \u001b[0mlang_series\u001b[0m\u001b[0;34m.\u001b[0m\u001b[0mresample\u001b[0m\u001b[0;34m(\u001b[0m\u001b[0;34m'D'\u001b[0m\u001b[0;34m)\u001b[0m\u001b[0;34m.\u001b[0m\u001b[0mapply\u001b[0m\u001b[0;34m(\u001b[0m\u001b[0mbig2\u001b[0m\u001b[0;34m)\u001b[0m\u001b[0;34m\u001b[0m\u001b[0;34m\u001b[0m\u001b[0m\n\u001b[0m",
      "\u001b[0;32m~/miniconda3/envs/py36/lib/python3.6/site-packages/pandas/core/generic.py\u001b[0m in \u001b[0;36mresample\u001b[0;34m(self, rule, how, axis, fill_method, closed, label, convention, kind, loffset, limit, base, on, level)\u001b[0m\n\u001b[1;32m   7108\u001b[0m                      \u001b[0maxis\u001b[0m\u001b[0;34m=\u001b[0m\u001b[0maxis\u001b[0m\u001b[0;34m,\u001b[0m \u001b[0mkind\u001b[0m\u001b[0;34m=\u001b[0m\u001b[0mkind\u001b[0m\u001b[0;34m,\u001b[0m \u001b[0mloffset\u001b[0m\u001b[0;34m=\u001b[0m\u001b[0mloffset\u001b[0m\u001b[0;34m,\u001b[0m\u001b[0;34m\u001b[0m\u001b[0;34m\u001b[0m\u001b[0m\n\u001b[1;32m   7109\u001b[0m                      \u001b[0mconvention\u001b[0m\u001b[0;34m=\u001b[0m\u001b[0mconvention\u001b[0m\u001b[0;34m,\u001b[0m\u001b[0;34m\u001b[0m\u001b[0;34m\u001b[0m\u001b[0m\n\u001b[0;32m-> 7110\u001b[0;31m                      base=base, key=on, level=level)\n\u001b[0m\u001b[1;32m   7111\u001b[0m         return _maybe_process_deprecations(r,\n\u001b[1;32m   7112\u001b[0m                                            \u001b[0mhow\u001b[0m\u001b[0;34m=\u001b[0m\u001b[0mhow\u001b[0m\u001b[0;34m,\u001b[0m\u001b[0;34m\u001b[0m\u001b[0;34m\u001b[0m\u001b[0m\n",
      "\u001b[0;32m~/miniconda3/envs/py36/lib/python3.6/site-packages/pandas/core/resample.py\u001b[0m in \u001b[0;36mresample\u001b[0;34m(obj, kind, **kwds)\u001b[0m\n\u001b[1;32m   1146\u001b[0m     \u001b[0;34m\"\"\" create a TimeGrouper and return our resampler \"\"\"\u001b[0m\u001b[0;34m\u001b[0m\u001b[0;34m\u001b[0m\u001b[0m\n\u001b[1;32m   1147\u001b[0m     \u001b[0mtg\u001b[0m \u001b[0;34m=\u001b[0m \u001b[0mTimeGrouper\u001b[0m\u001b[0;34m(\u001b[0m\u001b[0;34m**\u001b[0m\u001b[0mkwds\u001b[0m\u001b[0;34m)\u001b[0m\u001b[0;34m\u001b[0m\u001b[0;34m\u001b[0m\u001b[0m\n\u001b[0;32m-> 1148\u001b[0;31m     \u001b[0;32mreturn\u001b[0m \u001b[0mtg\u001b[0m\u001b[0;34m.\u001b[0m\u001b[0m_get_resampler\u001b[0m\u001b[0;34m(\u001b[0m\u001b[0mobj\u001b[0m\u001b[0;34m,\u001b[0m \u001b[0mkind\u001b[0m\u001b[0;34m=\u001b[0m\u001b[0mkind\u001b[0m\u001b[0;34m)\u001b[0m\u001b[0;34m\u001b[0m\u001b[0;34m\u001b[0m\u001b[0m\n\u001b[0m\u001b[1;32m   1149\u001b[0m \u001b[0;34m\u001b[0m\u001b[0m\n\u001b[1;32m   1150\u001b[0m \u001b[0;34m\u001b[0m\u001b[0m\n",
      "\u001b[0;32m~/miniconda3/envs/py36/lib/python3.6/site-packages/pandas/core/resample.py\u001b[0m in \u001b[0;36m_get_resampler\u001b[0;34m(self, obj, kind)\u001b[0m\n\u001b[1;32m   1274\u001b[0m         raise TypeError(\"Only valid with DatetimeIndex, \"\n\u001b[1;32m   1275\u001b[0m                         \u001b[0;34m\"TimedeltaIndex or PeriodIndex, \"\u001b[0m\u001b[0;34m\u001b[0m\u001b[0;34m\u001b[0m\u001b[0m\n\u001b[0;32m-> 1276\u001b[0;31m                         \"but got an instance of %r\" % type(ax).__name__)\n\u001b[0m\u001b[1;32m   1277\u001b[0m \u001b[0;34m\u001b[0m\u001b[0m\n\u001b[1;32m   1278\u001b[0m     \u001b[0;32mdef\u001b[0m \u001b[0m_get_grouper\u001b[0m\u001b[0;34m(\u001b[0m\u001b[0mself\u001b[0m\u001b[0;34m,\u001b[0m \u001b[0mobj\u001b[0m\u001b[0;34m,\u001b[0m \u001b[0mvalidate\u001b[0m\u001b[0;34m=\u001b[0m\u001b[0;32mTrue\u001b[0m\u001b[0;34m)\u001b[0m\u001b[0;34m:\u001b[0m\u001b[0;34m\u001b[0m\u001b[0;34m\u001b[0m\u001b[0m\n",
      "\u001b[0;31mTypeError\u001b[0m: Only valid with DatetimeIndex, TimedeltaIndex or PeriodIndex, but got an instance of 'Int64Index'"
     ]
    }
   ],
   "source": [
    "lang_series.resample('D').apply(big2)"
   ]
  },
  {
   "cell_type": "code",
   "execution_count": 159,
   "metadata": {
    "ExecuteTime": {
     "end_time": "2019-07-22T02:45:58.486883Z",
     "start_time": "2019-07-22T02:45:58.469286Z"
    }
   },
   "outputs": [
    {
     "ename": "TypeError",
     "evalue": "'float' object is not iterable",
     "output_type": "error",
     "traceback": [
      "\u001b[0;31m--------------------------------------------------\u001b[0m",
      "\u001b[0;31mTypeError\u001b[0m        Traceback (most recent call last)",
      "\u001b[0;32m<ipython-input-159-1488cd477642>\u001b[0m in \u001b[0;36m<module>\u001b[0;34m\u001b[0m\n\u001b[1;32m      1\u001b[0m \u001b[0mlang_content\u001b[0m \u001b[0;34m=\u001b[0m \u001b[0;34m[\u001b[0m\u001b[0;34m]\u001b[0m\u001b[0;34m\u001b[0m\u001b[0;34m\u001b[0m\u001b[0m\n\u001b[1;32m      2\u001b[0m \u001b[0;32mfor\u001b[0m \u001b[0mi\u001b[0m \u001b[0;32min\u001b[0m \u001b[0mlang_list\u001b[0m\u001b[0;34m:\u001b[0m\u001b[0;34m\u001b[0m\u001b[0;34m\u001b[0m\u001b[0m\n\u001b[0;32m----> 3\u001b[0;31m     \u001b[0;32mfor\u001b[0m \u001b[0mj\u001b[0m \u001b[0;32min\u001b[0m \u001b[0mi\u001b[0m\u001b[0;34m:\u001b[0m\u001b[0;34m\u001b[0m\u001b[0;34m\u001b[0m\u001b[0m\n\u001b[0m\u001b[1;32m      4\u001b[0m         \u001b[0mlang_content\u001b[0m\u001b[0;34m.\u001b[0m\u001b[0mappend\u001b[0m\u001b[0;34m(\u001b[0m\u001b[0mj\u001b[0m\u001b[0;34m)\u001b[0m\u001b[0;34m\u001b[0m\u001b[0;34m\u001b[0m\u001b[0m\n",
      "\u001b[0;31mTypeError\u001b[0m: 'float' object is not iterable"
     ]
    }
   ],
   "source": [
    "lang_content = []\n",
    "for i in lang_list:\n",
    "    for j in i:\n",
    "        lang_content.append(j)"
   ]
  },
  {
   "cell_type": "code",
   "execution_count": 158,
   "metadata": {
    "ExecuteTime": {
     "end_time": "2019-07-22T02:45:16.389579Z",
     "start_time": "2019-07-22T02:45:16.371902Z"
    }
   },
   "outputs": [
    {
     "data": {
      "text/plain": [
       "[['HTML/CSS'],\n",
       " ['C', 'C++', 'C#', 'Python', 'SQL'],\n",
       " ['Java', 'R', 'SQL'],\n",
       " ['Bash/Shell/PowerShell',\n",
       "  'C#',\n",
       "  'HTML/CSS',\n",
       "  'JavaScript',\n",
       "  'Python',\n",
       "  'Ruby',\n",
       "  'Rust',\n",
       "  'SQL',\n",
       "  'TypeScript',\n",
       "  'WebAssembly',\n",
       "  'Other(s):'],\n",
       " ['Bash/Shell/PowerShell',\n",
       "  'HTML/CSS',\n",
       "  'JavaScript',\n",
       "  'PHP',\n",
       "  'SQL',\n",
       "  'TypeScript'],\n",
       " ['C++'],\n",
       " ['Bash/Shell/PowerShell',\n",
       "  'C#',\n",
       "  'HTML/CSS',\n",
       "  'JavaScript',\n",
       "  'TypeScript',\n",
       "  'VBA'],\n",
       " ['Bash/Shell/PowerShell', 'HTML/CSS', 'JavaScript', 'TypeScript'],\n",
       " ['Bash/Shell/PowerShell',\n",
       "  'C++',\n",
       "  'HTML/CSS',\n",
       "  'JavaScript',\n",
       "  'Python',\n",
       "  'Ruby',\n",
       "  'SQL',\n",
       "  'TypeScript'],\n",
       " ['Bash/Shell/PowerShell', 'HTML/CSS', 'JavaScript', 'Python', 'Ruby', 'SQL'],\n",
       " ['HTML/CSS', 'JavaScript', 'PHP', 'TypeScript'],\n",
       " ['HTML/CSS', 'JavaScript', 'PHP', 'SQL', 'TypeScript'],\n",
       " ['Bash/Shell/PowerShell',\n",
       "  'C++',\n",
       "  'C#',\n",
       "  'HTML/CSS',\n",
       "  'JavaScript',\n",
       "  'PHP',\n",
       "  'Python',\n",
       "  'Ruby',\n",
       "  'SQL',\n",
       "  'Swift',\n",
       "  'TypeScript',\n",
       "  'VBA'],\n",
       " ['Bash/Shell/PowerShell', 'JavaScript', 'SQL'],\n",
       " nan,\n",
       " ['C++', 'Python', 'R'],\n",
       " ['HTML/CSS', 'JavaScript'],\n",
       " ['Java', 'Kotlin', 'Python'],\n",
       " ['C#', 'HTML/CSS', 'JavaScript', 'SQL'],\n",
       " ['C#', 'JavaScript', 'SQL', 'TypeScript'],\n",
       " ['C++', 'C#', 'HTML/CSS', 'Java', 'JavaScript', 'Objective-C', 'SQL'],\n",
       " ['Bash/Shell/PowerShell',\n",
       "  'C#',\n",
       "  'HTML/CSS',\n",
       "  'Java',\n",
       "  'JavaScript',\n",
       "  'SQL',\n",
       "  'TypeScript',\n",
       "  'WebAssembly'],\n",
       " ['Python'],\n",
       " ['Java', 'PHP', 'Ruby'],\n",
       " ['Bash/Shell/PowerShell',\n",
       "  'HTML/CSS',\n",
       "  'Java',\n",
       "  'JavaScript',\n",
       "  'PHP',\n",
       "  'Python',\n",
       "  'SQL',\n",
       "  'TypeScript'],\n",
       " ['Bash/Shell/PowerShell',\n",
       "  'C',\n",
       "  'C++',\n",
       "  'Elixir',\n",
       "  'Erlang',\n",
       "  'Go',\n",
       "  'HTML/CSS',\n",
       "  'Java',\n",
       "  'JavaScript',\n",
       "  'Kotlin',\n",
       "  'Python',\n",
       "  'Ruby',\n",
       "  'Rust',\n",
       "  'SQL',\n",
       "  'TypeScript'],\n",
       " ['Bash/Shell/PowerShell',\n",
       "  'HTML/CSS',\n",
       "  'Java',\n",
       "  'JavaScript',\n",
       "  'PHP',\n",
       "  'SQL',\n",
       "  'TypeScript'],\n",
       " ['Bash/Shell/PowerShell', 'HTML/CSS', 'JavaScript', 'Python'],\n",
       " ['Bash/Shell/PowerShell', 'HTML/CSS', 'Java', 'SQL'],\n",
       " ['JavaScript', 'Python'],\n",
       " ['HTML/CSS', 'JavaScript', 'PHP', 'SQL'],\n",
       " ['Bash/Shell/PowerShell', 'Go', 'JavaScript', 'PHP', 'Python', 'Ruby', 'SQL'],\n",
       " ['C++', 'C#', 'HTML/CSS', 'JavaScript', 'PHP', 'Python', 'SQL', 'VBA'],\n",
       " ['Bash/Shell/PowerShell',\n",
       "  'C++',\n",
       "  'Go',\n",
       "  'HTML/CSS',\n",
       "  'Java',\n",
       "  'JavaScript',\n",
       "  'Kotlin',\n",
       "  'PHP',\n",
       "  'Python',\n",
       "  'Ruby',\n",
       "  'SQL',\n",
       "  'TypeScript',\n",
       "  'VBA'],\n",
       " ['Bash/Shell/PowerShell', 'C', 'C++', 'C#'],\n",
       " ['C', 'C#', 'HTML/CSS', 'Java', 'JavaScript', 'PHP', 'Python', 'SQL', 'VBA'],\n",
       " ['HTML/CSS', 'Java', 'JavaScript', 'Python'],\n",
       " ['C#', 'HTML/CSS', 'Java', 'JavaScript', 'Objective-C', 'SQL', 'TypeScript'],\n",
       " ['C#', 'HTML/CSS', 'JavaScript', 'SQL'],\n",
       " ['C#', 'HTML/CSS', 'JavaScript', 'PHP', 'SQL', 'TypeScript'],\n",
       " ['HTML/CSS', 'Java', 'JavaScript', 'Kotlin', 'Python', 'Ruby'],\n",
       " ['HTML/CSS', 'JavaScript'],\n",
       " ['PHP', 'SQL'],\n",
       " ['HTML/CSS', 'JavaScript', 'PHP', 'SQL'],\n",
       " ['HTML/CSS', 'Java', 'JavaScript', 'Kotlin', 'Python'],\n",
       " ['HTML/CSS', 'JavaScript'],\n",
       " ['C', 'C++', 'C#', 'Java', 'Kotlin', 'PHP', 'SQL'],\n",
       " ['Bash/Shell/PowerShell',\n",
       "  'HTML/CSS',\n",
       "  'JavaScript',\n",
       "  'PHP',\n",
       "  'Python',\n",
       "  'SQL',\n",
       "  'TypeScript'],\n",
       " ['Bash/Shell/PowerShell',\n",
       "  'C#',\n",
       "  'HTML/CSS',\n",
       "  'JavaScript',\n",
       "  'PHP',\n",
       "  'Python',\n",
       "  'SQL'],\n",
       " ['Bash/Shell/PowerShell',\n",
       "  'C',\n",
       "  'C++',\n",
       "  'C#',\n",
       "  'Go',\n",
       "  'HTML/CSS',\n",
       "  'Java',\n",
       "  'JavaScript',\n",
       "  'Objective-C',\n",
       "  'Python',\n",
       "  'SQL'],\n",
       " ['Bash/Shell/PowerShell',\n",
       "  'C#',\n",
       "  'HTML/CSS',\n",
       "  'Java',\n",
       "  'JavaScript',\n",
       "  'Objective-C',\n",
       "  'PHP',\n",
       "  'Python',\n",
       "  'Ruby',\n",
       "  'SQL',\n",
       "  'Swift',\n",
       "  'TypeScript'],\n",
       " ['HTML/CSS', 'Java', 'JavaScript', 'Kotlin', 'SQL', 'VBA'],\n",
       " ['Python', 'SQL'],\n",
       " ['C#', 'HTML/CSS', 'JavaScript', 'SQL'],\n",
       " ['C#', 'HTML/CSS', 'JavaScript', 'Python', 'R', 'SQL'],\n",
       " ['Bash/Shell/PowerShell', 'JavaScript', 'Python', 'R', 'SQL'],\n",
       " ['HTML/CSS', 'JavaScript', 'Ruby', 'SQL', 'TypeScript'],\n",
       " ['Bash/Shell/PowerShell', 'HTML/CSS', 'Java', 'JavaScript', 'Python', 'SQL'],\n",
       " ['C++', 'Python'],\n",
       " ['C#', 'HTML/CSS', 'JavaScript', 'SQL'],\n",
       " ['Python', 'SQL'],\n",
       " ['Bash/Shell/PowerShell', 'C', 'C++'],\n",
       " ['Bash/Shell/PowerShell', 'C++', 'Erlang', 'JavaScript', 'PHP', 'Python'],\n",
       " ['Assembly', 'C#', 'HTML/CSS', 'Java', 'JavaScript', 'SQL', 'Swift'],\n",
       " ['Scala', 'Other(s):'],\n",
       " ['C#', 'HTML/CSS', 'JavaScript', 'SQL', 'TypeScript'],\n",
       " ['Bash/Shell/PowerShell', 'C', 'C++'],\n",
       " ['Elixir', 'HTML/CSS', 'JavaScript', 'Python', 'Ruby', 'SQL'],\n",
       " ['HTML/CSS', 'JavaScript', 'TypeScript'],\n",
       " ['HTML/CSS', 'Java', 'SQL'],\n",
       " ['Bash/Shell/PowerShell', 'Dart', 'HTML/CSS', 'Java', 'JavaScript', 'Scala'],\n",
       " ['C#', 'SQL'],\n",
       " ['Bash/Shell/PowerShell', 'C', 'Python'],\n",
       " ['C++', 'Python', 'R'],\n",
       " ['Bash/Shell/PowerShell',\n",
       "  'C++',\n",
       "  'Clojure',\n",
       "  'HTML/CSS',\n",
       "  'Java',\n",
       "  'Python',\n",
       "  'Ruby',\n",
       "  'SQL'],\n",
       " ['Bash/Shell/PowerShell',\n",
       "  'C++',\n",
       "  'C#',\n",
       "  'HTML/CSS',\n",
       "  'Java',\n",
       "  'JavaScript',\n",
       "  'Objective-C',\n",
       "  'Python',\n",
       "  'TypeScript'],\n",
       " ['C', 'C++', 'HTML/CSS', 'JavaScript', 'SQL'],\n",
       " ['Go', 'HTML/CSS', 'JavaScript', 'TypeScript'],\n",
       " ['HTML/CSS', 'Java', 'JavaScript', 'PHP', 'SQL'],\n",
       " ['Bash/Shell/PowerShell', 'HTML/CSS', 'JavaScript', 'PHP', 'Python', 'SQL'],\n",
       " ['Java', 'JavaScript', 'Kotlin', 'PHP', 'SQL'],\n",
       " ['Bash/Shell/PowerShell', 'C#'],\n",
       " ['C', 'HTML/CSS', 'Java', 'JavaScript', 'Python', 'SQL', 'TypeScript'],\n",
       " ['Java', 'SQL'],\n",
       " ['HTML/CSS', 'JavaScript', 'TypeScript'],\n",
       " ['Bash/Shell/PowerShell', 'HTML/CSS', 'JavaScript', 'Python', 'SQL'],\n",
       " ['HTML/CSS',\n",
       "  'Java',\n",
       "  'JavaScript',\n",
       "  'Kotlin',\n",
       "  'Objective-C',\n",
       "  'Python',\n",
       "  'Swift',\n",
       "  'Other(s):'],\n",
       " ['HTML/CSS', 'Java', 'JavaScript', 'PHP', 'SQL', 'VBA'],\n",
       " ['Bash/Shell/PowerShell', 'HTML/CSS', 'JavaScript', 'TypeScript'],\n",
       " ['Bash/Shell/PowerShell', 'Python'],\n",
       " ['Bash/Shell/PowerShell', 'C#', 'HTML/CSS', 'JavaScript', 'SQL'],\n",
       " ['Java', 'SQL', 'Other(s):'],\n",
       " ['Bash/Shell/PowerShell', 'HTML/CSS', 'JavaScript', 'Python'],\n",
       " ['C#'],\n",
       " ['HTML/CSS', 'JavaScript', 'PHP'],\n",
       " ['C#', 'HTML/CSS', 'JavaScript', 'SQL', 'Other(s):'],\n",
       " ['C#', 'HTML/CSS', 'JavaScript', 'SQL'],\n",
       " ['C', 'C++', 'HTML/CSS', 'Java', 'JavaScript', 'PHP', 'Python', 'SQL'],\n",
       " ['HTML/CSS', 'JavaScript', 'Objective-C', 'SQL'],\n",
       " ['HTML/CSS', 'JavaScript', 'PHP', 'SQL', 'TypeScript']]"
      ]
     },
     "execution_count": 158,
     "metadata": {},
     "output_type": "execute_result"
    }
   ],
   "source": [
    "len(lang_content)\n",
    "lang_content[:100]"
   ]
  },
  {
   "cell_type": "code",
   "execution_count": 154,
   "metadata": {
    "ExecuteTime": {
     "end_time": "2019-07-22T02:42:51.321207Z",
     "start_time": "2019-07-22T02:42:51.277783Z"
    }
   },
   "outputs": [
    {
     "ename": "KeyError",
     "evalue": "0",
     "output_type": "error",
     "traceback": [
      "\u001b[0;31m--------------------------------------------------\u001b[0m",
      "\u001b[0;31mKeyError\u001b[0m         Traceback (most recent call last)",
      "\u001b[0;32m<ipython-input-154-b8ef40469a40>\u001b[0m in \u001b[0;36m<module>\u001b[0;34m\u001b[0m\n\u001b[0;32m----> 1\u001b[0;31m \u001b[0mlang_list\u001b[0m\u001b[0;34m[\u001b[0m\u001b[0;36m0\u001b[0m\u001b[0;34m]\u001b[0m\u001b[0;34m\u001b[0m\u001b[0;34m\u001b[0m\u001b[0m\n\u001b[0m",
      "\u001b[0;32m~/miniconda3/envs/py36/lib/python3.6/site-packages/pandas/core/series.py\u001b[0m in \u001b[0;36m__getitem__\u001b[0;34m(self, key)\u001b[0m\n\u001b[1;32m    765\u001b[0m         \u001b[0mkey\u001b[0m \u001b[0;34m=\u001b[0m \u001b[0mcom\u001b[0m\u001b[0;34m.\u001b[0m\u001b[0m_apply_if_callable\u001b[0m\u001b[0;34m(\u001b[0m\u001b[0mkey\u001b[0m\u001b[0;34m,\u001b[0m \u001b[0mself\u001b[0m\u001b[0;34m)\u001b[0m\u001b[0;34m\u001b[0m\u001b[0;34m\u001b[0m\u001b[0m\n\u001b[1;32m    766\u001b[0m         \u001b[0;32mtry\u001b[0m\u001b[0;34m:\u001b[0m\u001b[0;34m\u001b[0m\u001b[0;34m\u001b[0m\u001b[0m\n\u001b[0;32m--> 767\u001b[0;31m             \u001b[0mresult\u001b[0m \u001b[0;34m=\u001b[0m \u001b[0mself\u001b[0m\u001b[0;34m.\u001b[0m\u001b[0mindex\u001b[0m\u001b[0;34m.\u001b[0m\u001b[0mget_value\u001b[0m\u001b[0;34m(\u001b[0m\u001b[0mself\u001b[0m\u001b[0;34m,\u001b[0m \u001b[0mkey\u001b[0m\u001b[0;34m)\u001b[0m\u001b[0;34m\u001b[0m\u001b[0;34m\u001b[0m\u001b[0m\n\u001b[0m\u001b[1;32m    768\u001b[0m \u001b[0;34m\u001b[0m\u001b[0m\n\u001b[1;32m    769\u001b[0m             \u001b[0;32mif\u001b[0m \u001b[0;32mnot\u001b[0m \u001b[0mis_scalar\u001b[0m\u001b[0;34m(\u001b[0m\u001b[0mresult\u001b[0m\u001b[0;34m)\u001b[0m\u001b[0;34m:\u001b[0m\u001b[0;34m\u001b[0m\u001b[0;34m\u001b[0m\u001b[0m\n",
      "\u001b[0;32m~/miniconda3/envs/py36/lib/python3.6/site-packages/pandas/core/indexes/base.py\u001b[0m in \u001b[0;36mget_value\u001b[0;34m(self, series, key)\u001b[0m\n\u001b[1;32m   3116\u001b[0m         \u001b[0;32mtry\u001b[0m\u001b[0;34m:\u001b[0m\u001b[0;34m\u001b[0m\u001b[0;34m\u001b[0m\u001b[0m\n\u001b[1;32m   3117\u001b[0m             return self._engine.get_value(s, k,\n\u001b[0;32m-> 3118\u001b[0;31m                                           tz=getattr(series.dtype, 'tz', None))\n\u001b[0m\u001b[1;32m   3119\u001b[0m         \u001b[0;32mexcept\u001b[0m \u001b[0mKeyError\u001b[0m \u001b[0;32mas\u001b[0m \u001b[0me1\u001b[0m\u001b[0;34m:\u001b[0m\u001b[0;34m\u001b[0m\u001b[0;34m\u001b[0m\u001b[0m\n\u001b[1;32m   3120\u001b[0m             \u001b[0;32mif\u001b[0m \u001b[0mlen\u001b[0m\u001b[0;34m(\u001b[0m\u001b[0mself\u001b[0m\u001b[0;34m)\u001b[0m \u001b[0;34m>\u001b[0m \u001b[0;36m0\u001b[0m \u001b[0;32mand\u001b[0m \u001b[0mself\u001b[0m\u001b[0;34m.\u001b[0m\u001b[0minferred_type\u001b[0m \u001b[0;32min\u001b[0m \u001b[0;34m[\u001b[0m\u001b[0;34m'integer'\u001b[0m\u001b[0;34m,\u001b[0m \u001b[0;34m'boolean'\u001b[0m\u001b[0;34m]\u001b[0m\u001b[0;34m:\u001b[0m\u001b[0;34m\u001b[0m\u001b[0;34m\u001b[0m\u001b[0m\n",
      "\u001b[0;32mpandas/_libs/index.pyx\u001b[0m in \u001b[0;36mpandas._libs.index.IndexEngine.get_value\u001b[0;34m()\u001b[0m\n",
      "\u001b[0;32mpandas/_libs/index.pyx\u001b[0m in \u001b[0;36mpandas._libs.index.IndexEngine.get_value\u001b[0;34m()\u001b[0m\n",
      "\u001b[0;32mpandas/_libs/index.pyx\u001b[0m in \u001b[0;36mpandas._libs.index.IndexEngine.get_loc\u001b[0;34m()\u001b[0m\n",
      "\u001b[0;32mpandas/_libs/hashtable_class_helper.pxi\u001b[0m in \u001b[0;36mpandas._libs.hashtable.Int64HashTable.get_item\u001b[0;34m()\u001b[0m\n",
      "\u001b[0;32mpandas/_libs/hashtable_class_helper.pxi\u001b[0m in \u001b[0;36mpandas._libs.hashtable.Int64HashTable.get_item\u001b[0;34m()\u001b[0m\n",
      "\u001b[0;31mKeyError\u001b[0m: 0"
     ]
    }
   ],
   "source": [
    "lang_list[0]"
   ]
  },
  {
   "cell_type": "code",
   "execution_count": 141,
   "metadata": {
    "ExecuteTime": {
     "end_time": "2019-07-22T00:36:22.906649Z",
     "start_time": "2019-07-22T00:36:22.889573Z"
    }
   },
   "outputs": [
    {
     "ename": "AttributeError",
     "evalue": "'Series' object has no attribute 'Str'",
     "output_type": "error",
     "traceback": [
      "\u001b[0;31m--------------------------------------------------\u001b[0m",
      "\u001b[0;31mAttributeError\u001b[0m   Traceback (most recent call last)",
      "\u001b[0;32m<ipython-input-141-f691a20a753f>\u001b[0m in \u001b[0;36m<module>\u001b[0;34m\u001b[0m\n\u001b[0;32m----> 1\u001b[0;31m \u001b[0mdf2019_cleanint\u001b[0m\u001b[0;34m.\u001b[0m\u001b[0mLanguageWorkedWith\u001b[0m\u001b[0;34m.\u001b[0m\u001b[0mStr\u001b[0m\u001b[0;34m.\u001b[0m\u001b[0mSplit\u001b[0m\u001b[0;34m(\u001b[0m\u001b[0;34m)\u001b[0m\u001b[0;34m\u001b[0m\u001b[0;34m\u001b[0m\u001b[0m\n\u001b[0m",
      "\u001b[0;32m~/miniconda3/envs/py36/lib/python3.6/site-packages/pandas/core/generic.py\u001b[0m in \u001b[0;36m__getattr__\u001b[0;34m(self, name)\u001b[0m\n\u001b[1;32m   4374\u001b[0m             \u001b[0;32mif\u001b[0m \u001b[0mself\u001b[0m\u001b[0;34m.\u001b[0m\u001b[0m_info_axis\u001b[0m\u001b[0;34m.\u001b[0m\u001b[0m_can_hold_identifiers_and_holds_name\u001b[0m\u001b[0;34m(\u001b[0m\u001b[0mname\u001b[0m\u001b[0;34m)\u001b[0m\u001b[0;34m:\u001b[0m\u001b[0;34m\u001b[0m\u001b[0;34m\u001b[0m\u001b[0m\n\u001b[1;32m   4375\u001b[0m                 \u001b[0;32mreturn\u001b[0m \u001b[0mself\u001b[0m\u001b[0;34m[\u001b[0m\u001b[0mname\u001b[0m\u001b[0;34m]\u001b[0m\u001b[0;34m\u001b[0m\u001b[0;34m\u001b[0m\u001b[0m\n\u001b[0;32m-> 4376\u001b[0;31m             \u001b[0;32mreturn\u001b[0m \u001b[0mobject\u001b[0m\u001b[0;34m.\u001b[0m\u001b[0m__getattribute__\u001b[0m\u001b[0;34m(\u001b[0m\u001b[0mself\u001b[0m\u001b[0;34m,\u001b[0m \u001b[0mname\u001b[0m\u001b[0;34m)\u001b[0m\u001b[0;34m\u001b[0m\u001b[0;34m\u001b[0m\u001b[0m\n\u001b[0m\u001b[1;32m   4377\u001b[0m \u001b[0;34m\u001b[0m\u001b[0m\n\u001b[1;32m   4378\u001b[0m     \u001b[0;32mdef\u001b[0m \u001b[0m__setattr__\u001b[0m\u001b[0;34m(\u001b[0m\u001b[0mself\u001b[0m\u001b[0;34m,\u001b[0m \u001b[0mname\u001b[0m\u001b[0;34m,\u001b[0m \u001b[0mvalue\u001b[0m\u001b[0;34m)\u001b[0m\u001b[0;34m:\u001b[0m\u001b[0;34m\u001b[0m\u001b[0;34m\u001b[0m\u001b[0m\n",
      "\u001b[0;31mAttributeError\u001b[0m: 'Series' object has no attribute 'Str'"
     ]
    }
   ],
   "source": [
    "df2019_cleanint.LanguageWorkedWith.Str.Split()"
   ]
  },
  {
   "cell_type": "code",
   "execution_count": 37,
   "metadata": {
    "ExecuteTime": {
     "end_time": "2019-06-10T08:05:11.806956Z",
     "start_time": "2019-06-10T08:05:11.800127Z"
    }
   },
   "outputs": [],
   "source": [
    "## test\n"
   ]
  },
  {
   "cell_type": "markdown",
   "metadata": {},
   "source": [
    "#### // display_text_range\n",
    "define: 抽取出 text 的长度,存为整数\n",
    "- solution1 使用 python standard re lib\n",
    "    - 抽出字符\n",
    "    - 转换为 int"
   ]
  },
  {
   "cell_type": "code",
   "execution_count": 38,
   "metadata": {
    "ExecuteTime": {
     "end_time": "2019-06-10T08:05:11.955586Z",
     "start_time": "2019-06-10T08:05:11.948502Z"
    }
   },
   "outputs": [],
   "source": [
    "# code\n",
    "## extract str\n"
   ]
  },
  {
   "cell_type": "code",
   "execution_count": 39,
   "metadata": {
    "ExecuteTime": {
     "end_time": "2019-06-10T08:05:11.973010Z",
     "start_time": "2019-06-10T08:05:11.967006Z"
    }
   },
   "outputs": [],
   "source": [
    "## convert to int"
   ]
  },
  {
   "cell_type": "code",
   "execution_count": 40,
   "metadata": {
    "ExecuteTime": {
     "end_time": "2019-06-10T08:05:11.984010Z",
     "start_time": "2019-06-10T08:05:11.978158Z"
    }
   },
   "outputs": [],
   "source": [
    "## test"
   ]
  },
  {
   "cell_type": "markdown",
   "metadata": {},
   "source": [
    "#### // full_text\n",
    "define:\n",
    "- 每个评价后面都有一个分值和链接 11/10 https://t.co/8W5iSOgXfx\n",
    "- 评分为 10/10 或 11/10,没找到说明, 链接科学上网也不能访问\n",
    "- 需要删除后保存\n",
    "- 此处不做处理,词云的制作最后再做"
   ]
  },
  {
   "cell_type": "code",
   "execution_count": 78,
   "metadata": {
    "ExecuteTime": {
     "end_time": "2019-06-10T08:11:18.393618Z",
     "start_time": "2019-06-10T08:11:18.388979Z"
    }
   },
   "outputs": [],
   "source": [
    "# code\n",
    "## extract str\n"
   ]
  },
  {
   "cell_type": "code",
   "execution_count": null,
   "metadata": {},
   "outputs": [],
   "source": [
    "## test"
   ]
  },
  {
   "cell_type": "markdown",
   "metadata": {},
   "source": [
    "#### // source\n",
    "define: 抽取出发 tweet 使用的设备\n",
    "    - 信息是这样的 <a href=\"http://twitter.com/download/iphone\" rel=\"nofollow\">Twitter for iPhone</a>\n",
    "    - 需要抽取出 `Twitter for iPhone`, 并定义分类为 iphone\n",
    "    - 将本列做成分类数据"
   ]
  },
  {
   "cell_type": "code",
   "execution_count": 79,
   "metadata": {
    "ExecuteTime": {
     "end_time": "2019-06-10T08:17:05.998561Z",
     "start_time": "2019-06-10T08:17:05.993483Z"
    }
   },
   "outputs": [],
   "source": [
    "# code\n",
    "## extract str\n"
   ]
  },
  {
   "cell_type": "code",
   "execution_count": 80,
   "metadata": {
    "ExecuteTime": {
     "end_time": "2019-06-10T08:17:14.642007Z",
     "start_time": "2019-06-10T08:17:14.638872Z"
    }
   },
   "outputs": [],
   "source": [
    "## test"
   ]
  },
  {
   "cell_type": "markdown",
   "metadata": {},
   "source": [
    "### / polishing data\n",
    "最终对数据进行检查和调整,生成最终的数据\n",
    "\n",
    "#### // (word clouding data generate)"
   ]
  },
  {
   "cell_type": "code",
   "execution_count": 81,
   "metadata": {
    "ExecuteTime": {
     "end_time": "2019-06-10T08:23:49.508952Z",
     "start_time": "2019-06-10T08:23:49.505514Z"
    }
   },
   "outputs": [],
   "source": [
    "# code\n",
    "## extract str\n"
   ]
  },
  {
   "cell_type": "code",
   "execution_count": 82,
   "metadata": {
    "ExecuteTime": {
     "end_time": "2019-06-10T08:23:58.349783Z",
     "start_time": "2019-06-10T08:23:58.345836Z"
    }
   },
   "outputs": [],
   "source": [
    "## test"
   ]
  },
  {
   "cell_type": "markdown",
   "metadata": {},
   "source": [
    "#### // finial data check"
   ]
  },
  {
   "cell_type": "code",
   "execution_count": 83,
   "metadata": {
    "ExecuteTime": {
     "end_time": "2019-06-10T08:24:31.132501Z",
     "start_time": "2019-06-10T08:24:31.129205Z"
    }
   },
   "outputs": [],
   "source": [
    "# code\n",
    "## extract str\n"
   ]
  },
  {
   "cell_type": "markdown",
   "metadata": {},
   "source": [
    "#### // save df"
   ]
  },
  {
   "cell_type": "code",
   "execution_count": 84,
   "metadata": {
    "ExecuteTime": {
     "end_time": "2019-06-10T08:25:08.065561Z",
     "start_time": "2019-06-10T08:25:08.062531Z"
    }
   },
   "outputs": [],
   "source": [
    "# code\n",
    "## extract str"
   ]
  },
  {
   "cell_type": "markdown",
   "metadata": {},
   "source": [
    "## _**Conclution**_\n",
    "\n",
    "### / data visulization\n",
    "- use seaborn for report pics (later will be extract to delitice repo)"
   ]
  },
  {
   "cell_type": "code",
   "execution_count": 85,
   "metadata": {
    "ExecuteTime": {
     "end_time": "2019-06-10T08:26:11.278087Z",
     "start_time": "2019-06-10T08:26:11.274527Z"
    }
   },
   "outputs": [],
   "source": [
    "# code\n",
    "## extract str\n"
   ]
  },
  {
   "cell_type": "markdown",
   "metadata": {},
   "source": [
    "### / data interact visulization\n",
    "- later will add plot.ly for interact visulization"
   ]
  },
  {
   "cell_type": "code",
   "execution_count": 86,
   "metadata": {
    "ExecuteTime": {
     "end_time": "2019-06-10T08:26:50.446845Z",
     "start_time": "2019-06-10T08:26:50.443824Z"
    }
   },
   "outputs": [],
   "source": [
    "# code\n",
    "## extract str\n"
   ]
  },
  {
   "cell_type": "markdown",
   "metadata": {},
   "source": [
    "### / concultion"
   ]
  }
 ],
 "metadata": {
  "hide_input": false,
  "kernelspec": {
   "display_name": "Python 3",
   "language": "python",
   "name": "python3"
  },
  "language_info": {
   "codemirror_mode": {
    "name": "ipython",
    "version": 3
   },
   "file_extension": ".py",
   "mimetype": "text/x-python",
   "name": "python",
   "nbconvert_exporter": "python",
   "pygments_lexer": "ipython3",
   "version": "3.7.3"
  },
  "toc": {
   "base_numbering": 1,
   "nav_menu": {},
   "number_sections": true,
   "sideBar": true,
   "skip_h1_title": true,
   "title_cell": "Table of Contents",
   "title_sidebar": "Contents",
   "toc_cell": false,
   "toc_position": {
    "height": "calc(100% - 180px)",
    "left": "10px",
    "top": "150px",
    "width": "165px"
   },
   "toc_section_display": true,
   "toc_window_display": false
  },
  "varInspector": {
   "cols": {
    "lenName": 16,
    "lenType": 16,
    "lenVar": 40
   },
   "kernels_config": {
    "python": {
     "delete_cmd_postfix": "",
     "delete_cmd_prefix": "del ",
     "library": "var_list.py",
     "varRefreshCmd": "print(var_dic_list())"
    },
    "r": {
     "delete_cmd_postfix": ") ",
     "delete_cmd_prefix": "rm(",
     "library": "var_list.r",
     "varRefreshCmd": "cat(var_dic_list()) "
    }
   },
   "types_to_exclude": [
    "module",
    "function",
    "builtin_function_or_method",
    "instance",
    "_Feature"
   ],
   "window_display": false
  }
 },
 "nbformat": 4,
 "nbformat_minor": 2
}
