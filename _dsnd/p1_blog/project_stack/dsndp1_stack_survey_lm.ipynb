{
 "cells": [
  {
   "cell_type": "markdown",
   "metadata": {},
   "source": [
    "> jupyter 使用 toc 扩展进行编辑,建议开启,比较方便阅读和查找\n"
   ]
  },
  {
   "cell_type": "markdown",
   "metadata": {
    "hide_input": true
   },
   "source": [
    "## _**Load Data**_\n",
    "### / import lib\n",
    "### / load df"
   ]
  },
  {
   "cell_type": "code",
   "execution_count": 1,
   "metadata": {
    "ExecuteTime": {
     "end_time": "2019-07-18T23:04:45.145615Z",
     "start_time": "2019-07-18T23:04:44.227038Z"
    },
    "hide_input": true
   },
   "outputs": [],
   "source": [
    "# import libs\n",
    "import pandas as pd\n",
    "import numpy as np\n",
    "\n",
    "import pprint  as pp\n",
    "import sys\n",
    "import zipfile"
   ]
  },
  {
   "cell_type": "code",
   "execution_count": 54,
   "metadata": {
    "ExecuteTime": {
     "end_time": "2019-07-16T00:30:44.113073Z",
     "start_time": "2019-07-16T00:30:33.065968Z"
    }
   },
   "outputs": [],
   "source": [
    "# load data (pass)\n",
    "# for too large csv for git\n",
    "# use zip to solve\n",
    "\n",
    "'''\n",
    "## set file env\n",
    "project_folder = '~/git/udacity-private/_dsnd/p1_blog/project_stack/'\n",
    "sub_folder_list = ['developer_survey_2019/','developer_survey_2018/','developer_survey_2017/']\n",
    "file_prefix = 'survey_results_'\n",
    "file_domain_list = ['public','schema']\n",
    "file_type = '.csv'\n",
    "zip_tpye= '.zip'\n",
    "\n",
    "## set file var\n",
    "f2019_public = project_folder + sub_folder_list[0] + file_prefix + file_domain_list[0] + file_type\n",
    "f2019_shcema = project_folder + sub_folder_list[0] + file_prefix + file_domain_list[1] + file_type\n",
    "f2018_public = project_folder + sub_folder_list[1] + file_prefix + file_domain_list[0] + file_type\n",
    "f2018_shcema = project_folder + sub_folder_list[1] + file_prefix + file_domain_list[1] + file_type\n",
    "f2017_public = project_folder + sub_folder_list[2] + file_prefix + file_domain_list[0] + file_type\n",
    "f2017_shcema = project_folder + sub_folder_list[2] + file_prefix + file_domain_list[1] + file_type\n",
    "\n",
    "## load file\n",
    "df2019d = pd.read_csv(f2019_public)\n",
    "df2019s = pd.read_csv(f2019_shcema)\n",
    "df2018d = pd.read_csv(f2018_public)\n",
    "df2018s = pd.read_csv(f2018_shcema)\n",
    "df2017d = pd.read_csv(f2017_public)\n",
    "df2017s = pd.read_csv(f2017_shcema)\n",
    "\n",
    "## creat dflist\n",
    "df_list = [df2019d, df2019s, df2018d, df2018s, df2017d, df2017s]\n",
    "\n",
    "### refactory use dic\n",
    "### https://stackoverflow.com/questions/6181935/how-do-you-create-different-variable-names-while-in-a-loop\n",
    "'''"
   ]
  },
  {
   "cell_type": "code",
   "execution_count": 22,
   "metadata": {
    "ExecuteTime": {
     "end_time": "2019-07-19T00:47:47.707289Z",
     "start_time": "2019-07-19T00:47:46.558850Z"
    }
   },
   "outputs": [
    {
     "name": "stdout",
     "output_type": "stream",
     "text": [
      "Archive:  /Users/francis/git/udacity-private/_dsnd/p1_blog/project_stack/developer_survey_2019/survey_results_public.csv.zip\n",
      "  inflating: survey_results_public.csv  \n",
      "  inflating: __MACOSX/._survey_results_public.csv  \n"
     ]
    }
   ],
   "source": [
    "# load data from zip\n",
    "## set file env (mac)\n",
    "project_folder = '~/git/udacity-private/_dsnd/p1_blog/project_stack'\n",
    "sub_folder_list = ['/developer_survey_2019/','developer_survey_2018/','developer_survey_2017/']\n",
    "file_prefix = 'survey_results_'\n",
    "file_domain_list = ['public','schema']\n",
    "file_type = '.csv'\n",
    "zip_type= '.zip'\n",
    "\n",
    "## define zip file (only 2019 data)\n",
    "f2019_zip = sub_folder_list[0] + file_prefix + file_domain_list[0] + file_type + zip_type\n",
    "f2019_zip\n",
    "\n",
    "## unzip file\n",
    "!unzip -o ~/git/udacity-private/_dsnd/p1_blog/project_stack/developer_survey_2019/survey_results_public.csv.zip"
   ]
  },
  {
   "cell_type": "code",
   "execution_count": 24,
   "metadata": {
    "ExecuteTime": {
     "end_time": "2019-07-19T00:48:04.191254Z",
     "start_time": "2019-07-19T00:48:03.931764Z"
    }
   },
   "outputs": [
    {
     "name": "stdout",
     "output_type": "stream",
     "text": [
      "/Users/francis/git/udacity-private/_dsnd/p1_blog/project_stack\n",
      "total 414560\n",
      "drwxr-xr-x  13 francis  staff        416  7 19 08:47 \u001b[34m.\u001b[m\u001b[m\n",
      "drwxr-xr-x   5 francis  staff        160  7 15 14:32 \u001b[34m..\u001b[m\u001b[m\n",
      "-rw-r--r--@  1 francis  staff       6148  7 19 08:47 .DS_Store\n",
      "drwxr-xr-x   6 francis  staff        192  7 16 09:07 \u001b[34m.ipynb_checkpoints\u001b[m\u001b[m\n",
      "drwxrwxr-x   3 francis  staff         96  7 19 08:47 \u001b[34m__MACOSX\u001b[m\u001b[m\n",
      "-rw-r--r--@  1 francis  staff      64532  7 15 14:57 capestone_report_Investigate.ipynb\n",
      "-rw-r--r--@  1 francis  staff      18113  7 15 14:58 capestone_report_solution1.ipynb\n",
      "-rw-r--r--@  1 francis  staff      43395  7 15 14:58 capestone_report_visual.ipynb\n",
      "drwx------@  6 francis  staff        192  7 15 07:17 \u001b[34mdeveloper_survey_2017\u001b[m\u001b[m\n",
      "drwx------@  8 francis  staff        256  7 19 06:44 \u001b[34mdeveloper_survey_2018\u001b[m\u001b[m\n",
      "drwx------@  7 francis  staff        224  7 19 06:58 \u001b[34mdeveloper_survey_2019\u001b[m\u001b[m\n",
      "-rw-r--r--@  1 francis  staff     302190  7 19 08:47 dsndp1_stack_survey.ipynb\n",
      "-rw-r--r--   1 francis  staff  196592730  4 19 01:08 survey_results_public.csv\n"
     ]
    }
   ],
   "source": [
    "# check files\n",
    "! pwd\n",
    "! ls -al"
   ]
  },
  {
   "cell_type": "code",
   "execution_count": 26,
   "metadata": {
    "ExecuteTime": {
     "end_time": "2019-07-19T00:52:23.685980Z",
     "start_time": "2019-07-19T00:52:20.504523Z"
    }
   },
   "outputs": [],
   "source": [
    "# load files\n",
    "\n",
    "## set file env\n",
    "project_folder = '~/git/udacity-private/_dsnd/p1_blog/project_stack/'\n",
    "sub_folder_list = ['developer_survey_2019/','developer_survey_2018/','developer_survey_2017/']\n",
    "file_prefix = 'survey_results_'\n",
    "file_domain_list = ['public','schema']\n",
    "file_type = '.csv'\n",
    "zip_tpye= '.zip'\n",
    "\n",
    "## set file var\n",
    "f2019_public = file_prefix + file_domain_list[0] + file_type\n",
    "\n",
    "## load file\n",
    "df2019d = pd.read_csv(f2019_public)\n",
    "#df2019s = pd.read_csv(f2019_shcema)\n",
    "#df2018d = pd.read_csv(f2018_public)\n",
    "#df2018s = pd.read_csv(f2018_shcema)\n",
    "#df2017d = pd.read_csv(f2017_public)\n",
    "#df2017s = pd.read_csv(f2017_shcema)"
   ]
  },
  {
   "cell_type": "code",
   "execution_count": 35,
   "metadata": {
    "ExecuteTime": {
     "end_time": "2019-07-19T00:54:54.350695Z",
     "start_time": "2019-07-19T00:54:53.966411Z"
    }
   },
   "outputs": [
    {
     "name": "stdout",
     "output_type": "stream",
     "text": [
      "total 872\n",
      "drwxr-xr-x  12 francis  staff     384  7 19 08:54 \u001b[34m.\u001b[m\u001b[m\n",
      "drwxr-xr-x   5 francis  staff     160  7 15 14:32 \u001b[34m..\u001b[m\u001b[m\n",
      "-rw-r--r--@  1 francis  staff    6148  7 19 08:47 .DS_Store\n",
      "drwxr-xr-x   6 francis  staff     192  7 16 09:07 \u001b[34m.ipynb_checkpoints\u001b[m\u001b[m\n",
      "drwxrwxr-x   3 francis  staff      96  7 19 08:47 \u001b[34m__MACOSX\u001b[m\u001b[m\n",
      "-rw-r--r--@  1 francis  staff   64532  7 15 14:57 capestone_report_Investigate.ipynb\n",
      "-rw-r--r--@  1 francis  staff   18113  7 15 14:58 capestone_report_solution1.ipynb\n",
      "-rw-r--r--@  1 francis  staff   43395  7 15 14:58 capestone_report_visual.ipynb\n",
      "drwx------@  6 francis  staff     192  7 15 07:17 \u001b[34mdeveloper_survey_2017\u001b[m\u001b[m\n",
      "drwx------@  8 francis  staff     256  7 19 06:44 \u001b[34mdeveloper_survey_2018\u001b[m\u001b[m\n",
      "drwx------@  6 francis  staff     192  7 19 08:53 \u001b[34mdeveloper_survey_2019\u001b[m\u001b[m\n",
      "-rw-r--r--@  1 francis  staff  306611  7 19 08:53 dsndp1_stack_survey.ipynb\n",
      "rm: survey_results_public.csv: No such file or directory\n",
      "total 872\n",
      "drwxr-xr-x  12 francis  staff     384  7 19 08:54 \u001b[34m.\u001b[m\u001b[m\n",
      "drwxr-xr-x   5 francis  staff     160  7 15 14:32 \u001b[34m..\u001b[m\u001b[m\n",
      "-rw-r--r--@  1 francis  staff    6148  7 19 08:47 .DS_Store\n",
      "drwxr-xr-x   6 francis  staff     192  7 16 09:07 \u001b[34m.ipynb_checkpoints\u001b[m\u001b[m\n",
      "drwxrwxr-x   3 francis  staff      96  7 19 08:47 \u001b[34m__MACOSX\u001b[m\u001b[m\n",
      "-rw-r--r--@  1 francis  staff   64532  7 15 14:57 capestone_report_Investigate.ipynb\n",
      "-rw-r--r--@  1 francis  staff   18113  7 15 14:58 capestone_report_solution1.ipynb\n",
      "-rw-r--r--@  1 francis  staff   43395  7 15 14:58 capestone_report_visual.ipynb\n",
      "drwx------@  6 francis  staff     192  7 15 07:17 \u001b[34mdeveloper_survey_2017\u001b[m\u001b[m\n",
      "drwx------@  8 francis  staff     256  7 19 06:44 \u001b[34mdeveloper_survey_2018\u001b[m\u001b[m\n",
      "drwx------@  6 francis  staff     192  7 19 08:53 \u001b[34mdeveloper_survey_2019\u001b[m\u001b[m\n",
      "-rw-r--r--@  1 francis  staff  306611  7 19 08:53 dsndp1_stack_survey.ipynb\n"
     ]
    }
   ],
   "source": [
    "# delete csv file\n",
    "!ls -al\n",
    "!rm survey_results_public.csv\n",
    "!ls -al\n",
    "### need refactory on file handle\n",
    "### may use zipfile, os, sys libs"
   ]
  },
  {
   "cell_type": "code",
   "execution_count": 37,
   "metadata": {
    "ExecuteTime": {
     "end_time": "2019-07-19T00:56:02.488017Z",
     "start_time": "2019-07-19T00:56:02.443773Z"
    }
   },
   "outputs": [
    {
     "data": {
      "text/html": [
       "<div>\n",
       "<style scoped>\n",
       "    .dataframe tbody tr th:only-of-type {\n",
       "        vertical-align: middle;\n",
       "    }\n",
       "\n",
       "    .dataframe tbody tr th {\n",
       "        vertical-align: top;\n",
       "    }\n",
       "\n",
       "    .dataframe thead th {\n",
       "        text-align: right;\n",
       "    }\n",
       "</style>\n",
       "<table border=\"1\" class=\"dataframe\">\n",
       "  <thead>\n",
       "    <tr style=\"text-align: right;\">\n",
       "      <th></th>\n",
       "      <th>Respondent</th>\n",
       "      <th>MainBranch</th>\n",
       "      <th>Hobbyist</th>\n",
       "      <th>OpenSourcer</th>\n",
       "      <th>OpenSource</th>\n",
       "      <th>Employment</th>\n",
       "      <th>Country</th>\n",
       "      <th>Student</th>\n",
       "      <th>EdLevel</th>\n",
       "      <th>UndergradMajor</th>\n",
       "      <th>...</th>\n",
       "      <th>WelcomeChange</th>\n",
       "      <th>SONewContent</th>\n",
       "      <th>Age</th>\n",
       "      <th>Gender</th>\n",
       "      <th>Trans</th>\n",
       "      <th>Sexuality</th>\n",
       "      <th>Ethnicity</th>\n",
       "      <th>Dependents</th>\n",
       "      <th>SurveyLength</th>\n",
       "      <th>SurveyEase</th>\n",
       "    </tr>\n",
       "  </thead>\n",
       "  <tbody>\n",
       "    <tr>\n",
       "      <th>0</th>\n",
       "      <td>1</td>\n",
       "      <td>I am a student who is learning to code</td>\n",
       "      <td>Yes</td>\n",
       "      <td>Never</td>\n",
       "      <td>The quality of OSS and closed source software ...</td>\n",
       "      <td>Not employed, and not looking for work</td>\n",
       "      <td>United Kingdom</td>\n",
       "      <td>No</td>\n",
       "      <td>Primary/elementary school</td>\n",
       "      <td>NaN</td>\n",
       "      <td>...</td>\n",
       "      <td>Just as welcome now as I felt last year</td>\n",
       "      <td>Tech articles written by other developers;Indu...</td>\n",
       "      <td>14.0</td>\n",
       "      <td>Man</td>\n",
       "      <td>No</td>\n",
       "      <td>Straight / Heterosexual</td>\n",
       "      <td>NaN</td>\n",
       "      <td>No</td>\n",
       "      <td>Appropriate in length</td>\n",
       "      <td>Neither easy nor difficult</td>\n",
       "    </tr>\n",
       "    <tr>\n",
       "      <th>1</th>\n",
       "      <td>2</td>\n",
       "      <td>I am a student who is learning to code</td>\n",
       "      <td>No</td>\n",
       "      <td>Less than once per year</td>\n",
       "      <td>The quality of OSS and closed source software ...</td>\n",
       "      <td>Not employed, but looking for work</td>\n",
       "      <td>Bosnia and Herzegovina</td>\n",
       "      <td>Yes, full-time</td>\n",
       "      <td>Secondary school (e.g. American high school, G...</td>\n",
       "      <td>NaN</td>\n",
       "      <td>...</td>\n",
       "      <td>Just as welcome now as I felt last year</td>\n",
       "      <td>Tech articles written by other developers;Indu...</td>\n",
       "      <td>19.0</td>\n",
       "      <td>Man</td>\n",
       "      <td>No</td>\n",
       "      <td>Straight / Heterosexual</td>\n",
       "      <td>NaN</td>\n",
       "      <td>No</td>\n",
       "      <td>Appropriate in length</td>\n",
       "      <td>Neither easy nor difficult</td>\n",
       "    </tr>\n",
       "    <tr>\n",
       "      <th>2</th>\n",
       "      <td>3</td>\n",
       "      <td>I am not primarily a developer, but I write co...</td>\n",
       "      <td>Yes</td>\n",
       "      <td>Never</td>\n",
       "      <td>The quality of OSS and closed source software ...</td>\n",
       "      <td>Employed full-time</td>\n",
       "      <td>Thailand</td>\n",
       "      <td>No</td>\n",
       "      <td>Bachelor’s degree (BA, BS, B.Eng., etc.)</td>\n",
       "      <td>Web development or web design</td>\n",
       "      <td>...</td>\n",
       "      <td>Just as welcome now as I felt last year</td>\n",
       "      <td>Tech meetups or events in your area;Courses on...</td>\n",
       "      <td>28.0</td>\n",
       "      <td>Man</td>\n",
       "      <td>No</td>\n",
       "      <td>Straight / Heterosexual</td>\n",
       "      <td>NaN</td>\n",
       "      <td>Yes</td>\n",
       "      <td>Appropriate in length</td>\n",
       "      <td>Neither easy nor difficult</td>\n",
       "    </tr>\n",
       "  </tbody>\n",
       "</table>\n",
       "<p>3 rows × 85 columns</p>\n",
       "</div>"
      ],
      "text/plain": [
       "   Respondent                                         MainBranch Hobbyist  \\\n",
       "0           1             I am a student who is learning to code      Yes   \n",
       "1           2             I am a student who is learning to code       No   \n",
       "2           3  I am not primarily a developer, but I write co...      Yes   \n",
       "\n",
       "               OpenSourcer                                         OpenSource  \\\n",
       "0                    Never  The quality of OSS and closed source software ...   \n",
       "1  Less than once per year  The quality of OSS and closed source software ...   \n",
       "2                    Never  The quality of OSS and closed source software ...   \n",
       "\n",
       "                               Employment                 Country  \\\n",
       "0  Not employed, and not looking for work          United Kingdom   \n",
       "1      Not employed, but looking for work  Bosnia and Herzegovina   \n",
       "2                      Employed full-time                Thailand   \n",
       "\n",
       "          Student                                            EdLevel  \\\n",
       "0              No                          Primary/elementary school   \n",
       "1  Yes, full-time  Secondary school (e.g. American high school, G...   \n",
       "2              No           Bachelor’s degree (BA, BS, B.Eng., etc.)   \n",
       "\n",
       "                  UndergradMajor             ...              \\\n",
       "0                            NaN             ...               \n",
       "1                            NaN             ...               \n",
       "2  Web development or web design             ...               \n",
       "\n",
       "                             WelcomeChange  \\\n",
       "0  Just as welcome now as I felt last year   \n",
       "1  Just as welcome now as I felt last year   \n",
       "2  Just as welcome now as I felt last year   \n",
       "\n",
       "                                        SONewContent   Age Gender Trans  \\\n",
       "0  Tech articles written by other developers;Indu...  14.0    Man    No   \n",
       "1  Tech articles written by other developers;Indu...  19.0    Man    No   \n",
       "2  Tech meetups or events in your area;Courses on...  28.0    Man    No   \n",
       "\n",
       "                 Sexuality Ethnicity Dependents           SurveyLength  \\\n",
       "0  Straight / Heterosexual       NaN         No  Appropriate in length   \n",
       "1  Straight / Heterosexual       NaN         No  Appropriate in length   \n",
       "2  Straight / Heterosexual       NaN        Yes  Appropriate in length   \n",
       "\n",
       "                   SurveyEase  \n",
       "0  Neither easy nor difficult  \n",
       "1  Neither easy nor difficult  \n",
       "2  Neither easy nor difficult  \n",
       "\n",
       "[3 rows x 85 columns]"
      ]
     },
     "execution_count": 37,
     "metadata": {},
     "output_type": "execute_result"
    }
   ],
   "source": [
    "df2019d.head(3)"
   ]
  },
  {
   "cell_type": "code",
   "execution_count": 66,
   "metadata": {
    "ExecuteTime": {
     "end_time": "2019-07-16T00:37:09.852981Z",
     "start_time": "2019-07-16T00:37:09.408190Z"
    },
    "collapsed": true
   },
   "outputs": [
    {
     "name": "stdout",
     "output_type": "stream",
     "text": [
      "\n",
      "---checking item---\n",
      "\n",
      "(88883, 85)\n",
      "<class 'pandas.core.frame.DataFrame'>\n",
      "RangeIndex: 88883 entries, 0 to 88882\n",
      "Data columns (total 85 columns):\n",
      "Respondent                88883 non-null int64\n",
      "MainBranch                88331 non-null object\n",
      "Hobbyist                  88883 non-null object\n",
      "OpenSourcer               88883 non-null object\n",
      "OpenSource                86842 non-null object\n",
      "Employment                87181 non-null object\n",
      "Country                   88751 non-null object\n",
      "Student                   87014 non-null object\n",
      "EdLevel                   86390 non-null object\n",
      "UndergradMajor            75614 non-null object\n",
      "EduOther                  84260 non-null object\n",
      "OrgSize                   71791 non-null object\n",
      "DevType                   81335 non-null object\n",
      "YearsCode                 87938 non-null object\n",
      "Age1stCode                87634 non-null object\n",
      "YearsCodePro              74331 non-null object\n",
      "CareerSat                 72847 non-null object\n",
      "JobSat                    70988 non-null object\n",
      "MgrIdiot                  61159 non-null object\n",
      "MgrMoney                  61157 non-null object\n",
      "MgrWant                   61232 non-null object\n",
      "JobSeek                   80555 non-null object\n",
      "LastHireDate              79854 non-null object\n",
      "LastInt                   67155 non-null object\n",
      "FizzBuzz                  71344 non-null object\n",
      "JobFactors                79371 non-null object\n",
      "ResumeUpdate              77877 non-null object\n",
      "CurrencySymbol            71392 non-null object\n",
      "CurrencyDesc              71392 non-null object\n",
      "CompTotal                 55945 non-null float64\n",
      "CompFreq                  63268 non-null object\n",
      "ConvertedComp             55823 non-null float64\n",
      "WorkWeekHrs               64503 non-null float64\n",
      "WorkPlan                  68914 non-null object\n",
      "WorkChallenge             68141 non-null object\n",
      "WorkRemote                70284 non-null object\n",
      "WorkLoc                   70055 non-null object\n",
      "ImpSyn                    71779 non-null object\n",
      "CodeRev                   70390 non-null object\n",
      "CodeRevHrs                49790 non-null float64\n",
      "UnitTests                 62668 non-null object\n",
      "PurchaseHow               61108 non-null object\n",
      "PurchaseWhat              62029 non-null object\n",
      "LanguageWorkedWith        87569 non-null object\n",
      "LanguageDesireNextYear    84088 non-null object\n",
      "DatabaseWorkedWith        76026 non-null object\n",
      "DatabaseDesireNextYear    69147 non-null object\n",
      "PlatformWorkedWith        80714 non-null object\n",
      "PlatformDesireNextYear    77443 non-null object\n",
      "WebFrameWorkedWith        65022 non-null object\n",
      "WebFrameDesireNextYear    62944 non-null object\n",
      "MiscTechWorkedWith        59586 non-null object\n",
      "MiscTechDesireNextYear    64511 non-null object\n",
      "DevEnviron                87317 non-null object\n",
      "OpSys                     87851 non-null object\n",
      "Containers                85366 non-null object\n",
      "BlockchainOrg             48175 non-null object\n",
      "BlockchainIs              60165 non-null object\n",
      "BetterLife                86269 non-null object\n",
      "ITperson                  87141 non-null object\n",
      "OffOn                     86663 non-null object\n",
      "SocialMedia               84437 non-null object\n",
      "Extraversion              87305 non-null object\n",
      "ScreenName                80486 non-null object\n",
      "SOVisit1st                83877 non-null object\n",
      "SOVisitFreq               88263 non-null object\n",
      "SOVisitTo                 88086 non-null object\n",
      "SOFindAnswer              87816 non-null object\n",
      "SOTimeSaved               86344 non-null object\n",
      "SOHowMuchTime             68378 non-null object\n",
      "SOAccount                 87828 non-null object\n",
      "SOPartFreq                74692 non-null object\n",
      "SOJobs                    88066 non-null object\n",
      "EntTeams                  87841 non-null object\n",
      "SOComm                    88131 non-null object\n",
      "WelcomeChange             85855 non-null object\n",
      "SONewContent              69560 non-null object\n",
      "Age                       79210 non-null float64\n",
      "Gender                    85406 non-null object\n",
      "Trans                     83607 non-null object\n",
      "Sexuality                 76147 non-null object\n",
      "Ethnicity                 76668 non-null object\n",
      "Dependents                83059 non-null object\n",
      "SurveyLength              86984 non-null object\n",
      "SurveyEase                87081 non-null object\n",
      "dtypes: float64(5), int64(1), object(79)\n",
      "memory usage: 57.6+ MB\n",
      "None\n",
      "\n",
      "---checking item---\n",
      "\n",
      "(85, 2)\n",
      "<class 'pandas.core.frame.DataFrame'>\n",
      "RangeIndex: 85 entries, 0 to 84\n",
      "Data columns (total 2 columns):\n",
      "Column          85 non-null object\n",
      "QuestionText    85 non-null object\n",
      "dtypes: object(2)\n",
      "memory usage: 1.4+ KB\n",
      "None\n",
      "\n",
      "---checking item---\n",
      "\n",
      "(98855, 129)\n",
      "<class 'pandas.core.frame.DataFrame'>\n",
      "RangeIndex: 98855 entries, 0 to 98854\n",
      "Columns: 129 entries, Respondent to SurveyEasy\n",
      "dtypes: float64(41), int64(1), object(87)\n",
      "memory usage: 97.3+ MB\n",
      "None\n",
      "\n",
      "---checking item---\n",
      "\n",
      "(129, 2)\n",
      "<class 'pandas.core.frame.DataFrame'>\n",
      "RangeIndex: 129 entries, 0 to 128\n",
      "Data columns (total 2 columns):\n",
      "Column          129 non-null object\n",
      "QuestionText    129 non-null object\n",
      "dtypes: object(2)\n",
      "memory usage: 2.1+ KB\n",
      "None\n",
      "\n",
      "---checking item---\n",
      "\n",
      "(51392, 154)\n",
      "<class 'pandas.core.frame.DataFrame'>\n",
      "RangeIndex: 51392 entries, 0 to 51391\n",
      "Columns: 154 entries, Respondent to ExpectedSalary\n",
      "dtypes: float64(6), int64(1), object(147)\n",
      "memory usage: 60.4+ MB\n",
      "None\n",
      "\n",
      "---checking item---\n",
      "\n",
      "(154, 2)\n",
      "<class 'pandas.core.frame.DataFrame'>\n",
      "RangeIndex: 154 entries, 0 to 153\n",
      "Data columns (total 2 columns):\n",
      "Column      154 non-null object\n",
      "Question    154 non-null object\n",
      "dtypes: object(2)\n",
      "memory usage: 2.5+ KB\n",
      "None\n"
     ]
    }
   ],
   "source": [
    "# check df file (not run)\n",
    "'''\n",
    "for i in df_list:\n",
    "    print('\\n---checking item---\\n')\n",
    "    print(i.shape)\n",
    "    print(i.info())\n",
    "'''\n",
    "### original checking many dfs, left for refactory"
   ]
  },
  {
   "cell_type": "markdown",
   "metadata": {},
   "source": [
    "### / check feature"
   ]
  },
  {
   "cell_type": "code",
   "execution_count": 86,
   "metadata": {
    "ExecuteTime": {
     "end_time": "2019-07-16T00:58:47.190874Z",
     "start_time": "2019-07-16T00:58:47.186146Z"
    }
   },
   "outputs": [],
   "source": [
    "# check features (not run)\n",
    "## there are too many features\n",
    "## featrues diffs form year to year\n",
    "\n",
    "## load column as array\n",
    "q2019_array = df2019s.Column.values\n",
    "q2018_array = df2018s.Column.values\n",
    "q2017_array = df2017s.Column.values\n",
    "\n",
    "### list name can not start with int"
   ]
  },
  {
   "cell_type": "code",
   "execution_count": 94,
   "metadata": {
    "ExecuteTime": {
     "end_time": "2019-07-16T01:26:40.001395Z",
     "start_time": "2019-07-16T01:26:39.992809Z"
    }
   },
   "outputs": [
    {
     "data": {
      "text/plain": [
       "(85, 129, 154)"
      ]
     },
     "execution_count": 94,
     "metadata": {},
     "output_type": "execute_result"
    }
   ],
   "source": [
    "## check similarity\n",
    "len(q2019_array), len(q2018_array), len(q2017_array)"
   ]
  },
  {
   "cell_type": "code",
   "execution_count": 95,
   "metadata": {
    "ExecuteTime": {
     "end_time": "2019-07-16T01:27:13.100270Z",
     "start_time": "2019-07-16T01:27:13.090489Z"
    }
   },
   "outputs": [
    {
     "data": {
      "text/plain": [
       "17"
      ]
     },
     "execution_count": 95,
     "metadata": {},
     "output_type": "execute_result"
    }
   ],
   "source": [
    "len(np.intersect1d(q2019_array,q2018_array))"
   ]
  },
  {
   "cell_type": "code",
   "execution_count": 91,
   "metadata": {
    "ExecuteTime": {
     "end_time": "2019-07-16T01:23:10.768275Z",
     "start_time": "2019-07-16T01:23:10.760079Z"
    }
   },
   "outputs": [
    {
     "data": {
      "text/plain": [
       "3"
      ]
     },
     "execution_count": 91,
     "metadata": {},
     "output_type": "execute_result"
    }
   ],
   "source": [
    "len(np.intersect1d(q2019_array,q2017_array))"
   ]
  },
  {
   "cell_type": "code",
   "execution_count": 93,
   "metadata": {
    "ExecuteTime": {
     "end_time": "2019-07-16T01:25:11.525892Z",
     "start_time": "2019-07-16T01:25:11.517006Z"
    }
   },
   "outputs": [
    {
     "data": {
      "text/plain": [
       "17"
      ]
     },
     "execution_count": 93,
     "metadata": {},
     "output_type": "execute_result"
    }
   ],
   "source": [
    "len(np.intersect1d(q2018_array,q2017_array))\n",
    "## too many different / human check\n",
    "## only use 2019 data for analysis"
   ]
  },
  {
   "cell_type": "code",
   "execution_count": 108,
   "metadata": {
    "ExecuteTime": {
     "end_time": "2019-07-16T02:57:45.267302Z",
     "start_time": "2019-07-16T02:57:45.232649Z"
    }
   },
   "outputs": [
    {
     "data": {
      "text/html": [
       "<div>\n",
       "<style scoped>\n",
       "    .dataframe tbody tr th:only-of-type {\n",
       "        vertical-align: middle;\n",
       "    }\n",
       "\n",
       "    .dataframe tbody tr th {\n",
       "        vertical-align: top;\n",
       "    }\n",
       "\n",
       "    .dataframe thead th {\n",
       "        text-align: right;\n",
       "    }\n",
       "</style>\n",
       "<table border=\"1\" class=\"dataframe\">\n",
       "  <thead>\n",
       "    <tr style=\"text-align: right;\">\n",
       "      <th></th>\n",
       "      <th>Respondent</th>\n",
       "      <th>MainBranch</th>\n",
       "      <th>Hobbyist</th>\n",
       "      <th>OpenSourcer</th>\n",
       "      <th>OpenSource</th>\n",
       "      <th>Employment</th>\n",
       "      <th>Country</th>\n",
       "      <th>Student</th>\n",
       "      <th>EdLevel</th>\n",
       "      <th>UndergradMajor</th>\n",
       "      <th>...</th>\n",
       "      <th>WelcomeChange</th>\n",
       "      <th>SONewContent</th>\n",
       "      <th>Age</th>\n",
       "      <th>Gender</th>\n",
       "      <th>Trans</th>\n",
       "      <th>Sexuality</th>\n",
       "      <th>Ethnicity</th>\n",
       "      <th>Dependents</th>\n",
       "      <th>SurveyLength</th>\n",
       "      <th>SurveyEase</th>\n",
       "    </tr>\n",
       "  </thead>\n",
       "  <tbody>\n",
       "    <tr>\n",
       "      <th>0</th>\n",
       "      <td>1</td>\n",
       "      <td>I am a student who is learning to code</td>\n",
       "      <td>Yes</td>\n",
       "      <td>Never</td>\n",
       "      <td>The quality of OSS and closed source software ...</td>\n",
       "      <td>Not employed, and not looking for work</td>\n",
       "      <td>United Kingdom</td>\n",
       "      <td>No</td>\n",
       "      <td>Primary/elementary school</td>\n",
       "      <td>NaN</td>\n",
       "      <td>...</td>\n",
       "      <td>Just as welcome now as I felt last year</td>\n",
       "      <td>Tech articles written by other developers;Indu...</td>\n",
       "      <td>14.0</td>\n",
       "      <td>Man</td>\n",
       "      <td>No</td>\n",
       "      <td>Straight / Heterosexual</td>\n",
       "      <td>NaN</td>\n",
       "      <td>No</td>\n",
       "      <td>Appropriate in length</td>\n",
       "      <td>Neither easy nor difficult</td>\n",
       "    </tr>\n",
       "    <tr>\n",
       "      <th>1</th>\n",
       "      <td>2</td>\n",
       "      <td>I am a student who is learning to code</td>\n",
       "      <td>No</td>\n",
       "      <td>Less than once per year</td>\n",
       "      <td>The quality of OSS and closed source software ...</td>\n",
       "      <td>Not employed, but looking for work</td>\n",
       "      <td>Bosnia and Herzegovina</td>\n",
       "      <td>Yes, full-time</td>\n",
       "      <td>Secondary school (e.g. American high school, G...</td>\n",
       "      <td>NaN</td>\n",
       "      <td>...</td>\n",
       "      <td>Just as welcome now as I felt last year</td>\n",
       "      <td>Tech articles written by other developers;Indu...</td>\n",
       "      <td>19.0</td>\n",
       "      <td>Man</td>\n",
       "      <td>No</td>\n",
       "      <td>Straight / Heterosexual</td>\n",
       "      <td>NaN</td>\n",
       "      <td>No</td>\n",
       "      <td>Appropriate in length</td>\n",
       "      <td>Neither easy nor difficult</td>\n",
       "    </tr>\n",
       "    <tr>\n",
       "      <th>2</th>\n",
       "      <td>3</td>\n",
       "      <td>I am not primarily a developer, but I write co...</td>\n",
       "      <td>Yes</td>\n",
       "      <td>Never</td>\n",
       "      <td>The quality of OSS and closed source software ...</td>\n",
       "      <td>Employed full-time</td>\n",
       "      <td>Thailand</td>\n",
       "      <td>No</td>\n",
       "      <td>Bachelor’s degree (BA, BS, B.Eng., etc.)</td>\n",
       "      <td>Web development or web design</td>\n",
       "      <td>...</td>\n",
       "      <td>Just as welcome now as I felt last year</td>\n",
       "      <td>Tech meetups or events in your area;Courses on...</td>\n",
       "      <td>28.0</td>\n",
       "      <td>Man</td>\n",
       "      <td>No</td>\n",
       "      <td>Straight / Heterosexual</td>\n",
       "      <td>NaN</td>\n",
       "      <td>Yes</td>\n",
       "      <td>Appropriate in length</td>\n",
       "      <td>Neither easy nor difficult</td>\n",
       "    </tr>\n",
       "  </tbody>\n",
       "</table>\n",
       "<p>3 rows × 85 columns</p>\n",
       "</div>"
      ],
      "text/plain": [
       "   Respondent                                         MainBranch Hobbyist  \\\n",
       "0           1             I am a student who is learning to code      Yes   \n",
       "1           2             I am a student who is learning to code       No   \n",
       "2           3  I am not primarily a developer, but I write co...      Yes   \n",
       "\n",
       "               OpenSourcer                                         OpenSource  \\\n",
       "0                    Never  The quality of OSS and closed source software ...   \n",
       "1  Less than once per year  The quality of OSS and closed source software ...   \n",
       "2                    Never  The quality of OSS and closed source software ...   \n",
       "\n",
       "                               Employment                 Country  \\\n",
       "0  Not employed, and not looking for work          United Kingdom   \n",
       "1      Not employed, but looking for work  Bosnia and Herzegovina   \n",
       "2                      Employed full-time                Thailand   \n",
       "\n",
       "          Student                                            EdLevel  \\\n",
       "0              No                          Primary/elementary school   \n",
       "1  Yes, full-time  Secondary school (e.g. American high school, G...   \n",
       "2              No           Bachelor’s degree (BA, BS, B.Eng., etc.)   \n",
       "\n",
       "                  UndergradMajor             ...              \\\n",
       "0                            NaN             ...               \n",
       "1                            NaN             ...               \n",
       "2  Web development or web design             ...               \n",
       "\n",
       "                             WelcomeChange  \\\n",
       "0  Just as welcome now as I felt last year   \n",
       "1  Just as welcome now as I felt last year   \n",
       "2  Just as welcome now as I felt last year   \n",
       "\n",
       "                                        SONewContent   Age Gender Trans  \\\n",
       "0  Tech articles written by other developers;Indu...  14.0    Man    No   \n",
       "1  Tech articles written by other developers;Indu...  19.0    Man    No   \n",
       "2  Tech meetups or events in your area;Courses on...  28.0    Man    No   \n",
       "\n",
       "                 Sexuality Ethnicity Dependents           SurveyLength  \\\n",
       "0  Straight / Heterosexual       NaN         No  Appropriate in length   \n",
       "1  Straight / Heterosexual       NaN         No  Appropriate in length   \n",
       "2  Straight / Heterosexual       NaN        Yes  Appropriate in length   \n",
       "\n",
       "                   SurveyEase  \n",
       "0  Neither easy nor difficult  \n",
       "1  Neither easy nor difficult  \n",
       "2  Neither easy nor difficult  \n",
       "\n",
       "[3 rows x 85 columns]"
      ]
     },
     "execution_count": 108,
     "metadata": {},
     "output_type": "execute_result"
    }
   ],
   "source": [
    "# dive into 2019\n",
    "df2019d.head(3)"
   ]
  },
  {
   "cell_type": "code",
   "execution_count": 187,
   "metadata": {
    "ExecuteTime": {
     "end_time": "2019-07-18T04:15:54.188337Z",
     "start_time": "2019-07-18T04:15:54.135188Z"
    }
   },
   "outputs": [
    {
     "data": {
      "text/plain": [
       "No                65816\n",
       "Yes, full-time    15769\n",
       "Yes, part-time     5429\n",
       "Name: Student, dtype: int64"
      ]
     },
     "execution_count": 187,
     "metadata": {},
     "output_type": "execute_result"
    }
   ],
   "source": [
    "## example of value counts at a featrue\n",
    "df2019d.Student.value_counts()"
   ]
  },
  {
   "cell_type": "code",
   "execution_count": 132,
   "metadata": {
    "ExecuteTime": {
     "end_time": "2019-07-16T23:13:38.304437Z",
     "start_time": "2019-07-16T23:13:38.255976Z"
    }
   },
   "outputs": [
    {
     "data": {
      "text/plain": [
       "CareerSat                           JobSat                            \n",
       "Neither satisfied nor dissatisfied  Neither satisfied nor dissatisfied     2926\n",
       "                                    Slightly dissatisfied                  1705\n",
       "                                    Slightly satisfied                     1484\n",
       "                                    Very dissatisfied                       409\n",
       "                                    Very satisfied                          303\n",
       "Slightly dissatisfied               Neither satisfied nor dissatisfied      980\n",
       "                                    Slightly dissatisfied                  3894\n",
       "                                    Slightly satisfied                      888\n",
       "                                    Very dissatisfied                      1294\n",
       "                                    Very satisfied                          253\n",
       "Slightly satisfied                  Neither satisfied nor dissatisfied     3323\n",
       "                                    Slightly dissatisfied                  3135\n",
       "                                    Slightly satisfied                    13588\n",
       "                                    Very dissatisfied                       724\n",
       "                                    Very satisfied                         3761\n",
       "Very dissatisfied                   Neither satisfied nor dissatisfied      269\n",
       "                                    Slightly dissatisfied                   753\n",
       "                                    Slightly satisfied                      322\n",
       "                                    Very dissatisfied                      1940\n",
       "                                    Very satisfied                          245\n",
       "Very satisfied                      Neither satisfied nor dissatisfied     1222\n",
       "                                    Slightly dissatisfied                  1265\n",
       "                                    Slightly satisfied                     7925\n",
       "                                    Very dissatisfied                       490\n",
       "                                    Very satisfied                        17890\n",
       "Name: CareerSat, dtype: int64"
      ]
     },
     "execution_count": 132,
     "metadata": {},
     "output_type": "execute_result"
    }
   ],
   "source": [
    "## example of how to observe two feature are related\n",
    "df2019d.groupby(['CareerSat','JobSat'])['CareerSat'].count()\n",
    "### dataframe has catagory dtype, research later\n",
    "### https://pbpython.com/pandas_dtypes_cat.html"
   ]
  },
  {
   "cell_type": "code",
   "execution_count": 188,
   "metadata": {
    "ExecuteTime": {
     "end_time": "2019-07-18T04:32:02.305327Z",
     "start_time": "2019-07-18T04:32:02.294600Z"
    }
   },
   "outputs": [
    {
     "data": {
      "text/plain": [
       "array(['Respondent', 'MainBranch', 'Hobbyist', 'OpenSourcer',\n",
       "       'OpenSource', 'Employment', 'Country', 'Student', 'EdLevel',\n",
       "       'UndergradMajor', 'EduOther', 'OrgSize', 'DevType', 'YearsCode',\n",
       "       'Age1stCode', 'YearsCodePro', 'CareerSat', 'JobSat', 'MgrIdiot',\n",
       "       'MgrMoney', 'MgrWant', 'JobSeek', 'LastHireDate', 'LastInt',\n",
       "       'FizzBuzz', 'JobFactors', 'ResumeUpdate', 'CurrencySymbol',\n",
       "       'CurrencyDesc', 'CompTotal', 'CompFreq', 'ConvertedComp',\n",
       "       'WorkWeekHrs', 'WorkPlan', 'WorkChallenge', 'WorkRemote',\n",
       "       'WorkLoc', 'ImpSyn', 'CodeRev', 'CodeRevHrs', 'UnitTests',\n",
       "       'PurchaseHow', 'PurchaseWhat', 'LanguageWorkedWith',\n",
       "       'LanguageDesireNextYear', 'DatabaseWorkedWith',\n",
       "       'DatabaseDesireNextYear', 'PlatformWorkedWith',\n",
       "       'PlatformDesireNextYear', 'WebFrameWorkedWith',\n",
       "       'WebFrameDesireNextYear', 'MiscTechWorkedWith',\n",
       "       'MiscTechDesireNextYear', 'DevEnviron', 'OpSys', 'Containers',\n",
       "       'BlockchainOrg', 'BlockchainIs', 'BetterLife', 'ITperson', 'OffOn',\n",
       "       'SocialMedia', 'Extraversion', 'ScreenName', 'SOVisit1st',\n",
       "       'SOVisitFreq', 'SOVisitTo', 'SOFindAnswer', 'SOTimeSaved',\n",
       "       'SOHowMuchTime', 'SOAccount', 'SOPartFreq', 'SOJobs', 'EntTeams',\n",
       "       'SOComm', 'WelcomeChange', 'SONewContent', 'Age', 'Gender',\n",
       "       'Trans', 'Sexuality', 'Ethnicity', 'Dependents', 'SurveyLength',\n",
       "       'SurveyEase'], dtype=object)"
      ]
     },
     "execution_count": 188,
     "metadata": {},
     "output_type": "execute_result"
    }
   ],
   "source": [
    "### observe 2019 columns\n",
    "q2019_array"
   ]
  },
  {
   "cell_type": "code",
   "execution_count": 7,
   "metadata": {
    "ExecuteTime": {
     "end_time": "2019-06-10T08:05:10.628637Z",
     "start_time": "2019-06-10T08:05:09.454360Z"
    },
    "hide_input": true
   },
   "outputs": [],
   "source": [
    "# load df\n",
    "## read_jason 有很多参数,可以参考官方文档\n",
    "## 此处要加 lines=True\n",
    "## https://pandas.pydata.org/pandas-docs/stable/reference/api/pandas.read_json.html\n"
   ]
  },
  {
   "cell_type": "markdown",
   "metadata": {},
   "source": [
    "### / update df"
   ]
  },
  {
   "cell_type": "code",
   "execution_count": 44,
   "metadata": {
    "ExecuteTime": {
     "end_time": "2019-07-19T03:09:08.565378Z",
     "start_time": "2019-07-19T03:09:08.556755Z"
    }
   },
   "outputs": [],
   "source": [
    "# only get select features\n",
    "select_list = ['MainBranch','OpenSourcer','OpenSource','Employment','Age','Student','EdLevel','UndergradMajor','EduOther',\n",
    "              'OrgSize','DevType','YearsCode','CareerSat','JobSeek','JobFactors','ConvertedComp','WorkWeekHrs','WorkPlan','WorkChallenge','WorkRemote','ImpSyn',\n",
    "              'LanguageWorkedWith','LanguageDesireNextYear','DatabaseWorkedWith','DatabaseDesireNextYear','DevEnviron','OpSys','BetterLife',\n",
    "              'SOVisitFreq','SOVisitTo','SOFindAnswer','SOTimeSaved','SOHowMuchTime','SOPartFreq','SOJobs','EntTeams','SOComm','WelcomeChange','SONewContent']"
   ]
  },
  {
   "cell_type": "code",
   "execution_count": 45,
   "metadata": {
    "ExecuteTime": {
     "end_time": "2019-07-19T03:09:11.929775Z",
     "start_time": "2019-07-19T03:09:11.884254Z"
    }
   },
   "outputs": [],
   "source": [
    "## df copy for assesment\n",
    "df = df2019d[select_list]"
   ]
  },
  {
   "cell_type": "code",
   "execution_count": 48,
   "metadata": {
    "ExecuteTime": {
     "end_time": "2019-07-19T03:09:31.604344Z",
     "start_time": "2019-07-19T03:09:31.591810Z"
    }
   },
   "outputs": [
    {
     "name": "stdout",
     "output_type": "stream",
     "text": [
      "39\n"
     ]
    },
    {
     "data": {
      "text/plain": [
       "Index(['MainBranch', 'OpenSourcer', 'OpenSource', 'Employment', 'Age',\n",
       "       'Student', 'EdLevel', 'UndergradMajor', 'EduOther', 'OrgSize',\n",
       "       'DevType', 'YearsCode', 'CareerSat', 'JobSeek', 'JobFactors',\n",
       "       'ConvertedComp', 'WorkWeekHrs', 'WorkPlan', 'WorkChallenge',\n",
       "       'WorkRemote', 'ImpSyn', 'LanguageWorkedWith', 'LanguageDesireNextYear',\n",
       "       'DatabaseWorkedWith', 'DatabaseDesireNextYear', 'DevEnviron', 'OpSys',\n",
       "       'BetterLife', 'SOVisitFreq', 'SOVisitTo', 'SOFindAnswer', 'SOTimeSaved',\n",
       "       'SOHowMuchTime', 'SOPartFreq', 'SOJobs', 'EntTeams', 'SOComm',\n",
       "       'WelcomeChange', 'SONewContent'],\n",
       "      dtype='object')"
      ]
     },
     "execution_count": 48,
     "metadata": {},
     "output_type": "execute_result"
    }
   ],
   "source": [
    "## check columns\n",
    "print(len(df.columns))\n",
    "df.columns"
   ]
  },
  {
   "cell_type": "code",
   "execution_count": 59,
   "metadata": {
    "ExecuteTime": {
     "end_time": "2019-07-19T03:18:23.133008Z",
     "start_time": "2019-07-19T03:18:23.124704Z"
    }
   },
   "outputs": [
    {
     "data": {
      "text/plain": [
       "17777"
      ]
     },
     "execution_count": 59,
     "metadata": {},
     "output_type": "execute_result"
    }
   ],
   "source": [
    "# check null value\n",
    "## 0.2 count\n",
    "round(df.shape[0] * 0.2)"
   ]
  },
  {
   "cell_type": "code",
   "execution_count": 57,
   "metadata": {
    "ExecuteTime": {
     "end_time": "2019-07-19T03:11:56.533788Z",
     "start_time": "2019-07-19T03:11:56.292420Z"
    }
   },
   "outputs": [
    {
     "data": {
      "text/plain": [
       "MainBranch                  552\n",
       "OpenSourcer                   0\n",
       "OpenSource                 2041\n",
       "Employment                 1702\n",
       "Age                        9673\n",
       "Student                    1869\n",
       "EdLevel                    2493\n",
       "UndergradMajor            13269\n",
       "EduOther                   4623\n",
       "OrgSize                   17092\n",
       "DevType                    7548\n",
       "YearsCode                   945\n",
       "CareerSat                 16036\n",
       "JobSeek                    8328\n",
       "JobFactors                 9512\n",
       "ConvertedComp             33060\n",
       "WorkWeekHrs               24380\n",
       "WorkPlan                  19969\n",
       "WorkChallenge             20742\n",
       "WorkRemote                18599\n",
       "ImpSyn                    17104\n",
       "LanguageWorkedWith         1314\n",
       "LanguageDesireNextYear     4795\n",
       "DatabaseWorkedWith        12857\n",
       "DatabaseDesireNextYear    19736\n",
       "DevEnviron                 1566\n",
       "OpSys                      1032\n",
       "BetterLife                 2614\n",
       "SOVisitFreq                 620\n",
       "SOVisitTo                   797\n",
       "SOFindAnswer               1067\n",
       "SOTimeSaved                2539\n",
       "SOHowMuchTime             20505\n",
       "SOPartFreq                14191\n",
       "SOJobs                      817\n",
       "EntTeams                   1042\n",
       "SOComm                      752\n",
       "WelcomeChange              3028\n",
       "SONewContent              19323\n",
       "dtype: int64"
      ]
     },
     "execution_count": 57,
     "metadata": {},
     "output_type": "execute_result"
    }
   ],
   "source": [
    "## check columns\n",
    "df.isnull().sum()"
   ]
  },
  {
   "cell_type": "code",
   "execution_count": 61,
   "metadata": {
    "ExecuteTime": {
     "end_time": "2019-07-19T03:35:01.640604Z",
     "start_time": "2019-07-19T03:35:01.587248Z"
    }
   },
   "outputs": [
    {
     "name": "stdout",
     "output_type": "stream",
     "text": [
      "35\n"
     ]
    },
    {
     "data": {
      "text/plain": [
       "Index(['MainBranch', 'OpenSourcer', 'OpenSource', 'Employment', 'Age',\n",
       "       'Student', 'EdLevel', 'UndergradMajor', 'EduOther', 'OrgSize',\n",
       "       'DevType', 'YearsCode', 'CareerSat', 'JobSeek', 'JobFactors',\n",
       "       'ConvertedComp', 'WorkWeekHrs', 'WorkChallenge', 'ImpSyn',\n",
       "       'LanguageWorkedWith', 'LanguageDesireNextYear', 'DatabaseWorkedWith',\n",
       "       'DatabaseDesireNextYear', 'DevEnviron', 'OpSys', 'BetterLife',\n",
       "       'SOVisitFreq', 'SOVisitTo', 'SOFindAnswer', 'SOTimeSaved', 'SOPartFreq',\n",
       "       'SOJobs', 'EntTeams', 'SOComm', 'WelcomeChange'],\n",
       "      dtype='object')"
      ]
     },
     "execution_count": 61,
     "metadata": {},
     "output_type": "execute_result"
    }
   ],
   "source": [
    "# update\n",
    "select_list_updated = ['MainBranch','OpenSourcer','OpenSource','Employment','Age','Student','EdLevel','UndergradMajor','EduOther',\n",
    "              'OrgSize','DevType','YearsCode','CareerSat','JobSeek','JobFactors','ConvertedComp','WorkWeekHrs','WorkChallenge','ImpSyn',\n",
    "              'LanguageWorkedWith','LanguageDesireNextYear','DatabaseWorkedWith','DatabaseDesireNextYear','DevEnviron','OpSys','BetterLife',\n",
    "              'SOVisitFreq','SOVisitTo','SOFindAnswer','SOTimeSaved','SOPartFreq','SOJobs','EntTeams','SOComm','WelcomeChange']\n",
    "df = df2019d[select_list_updated]\n",
    "print(len(df.columns))\n",
    "df.columns"
   ]
  },
  {
   "cell_type": "code",
   "execution_count": 9,
   "metadata": {
    "ExecuteTime": {
     "end_time": "2019-06-10T08:05:10.661866Z",
     "start_time": "2019-06-10T08:05:10.648658Z"
    },
    "hide_input": true
   },
   "outputs": [],
   "source": [
    "# build function (base on solution2)\n",
    "def check_sample(df):\n",
    "    sample = df.sample(1)\n",
    "    print('----checking sample index: {}'.format(sample.index[0]))\n",
    "    ### sometimes pp is uncaptible with .format\n",
    "    i = 1\n",
    "    for (colname, coldata) in sample.iteritems():\n",
    "        print('\\n- columns #{} : {:-<8}'.format(i,colname))\n",
    "        print(coldata.values)\n",
    "        i += 1\n",
    "    pp.pprint('----checking complete----')\n",
    "\n",
    "# archive test\n",
    "## solutions1 (col loop pass)\n",
    "'''\n",
    "sample = tweetdf.sample()\n",
    "p('----checking sample index: {:-<8}'.format(sample.index[0]))\n",
    "\n",
    "i = 1\n",
    "for col in list(tweetdf.columns):\n",
    "    print('\\n- columns check {} : {:-<8}'.format(i,col))\n",
    "    print(sample[col].values)\n",
    "    i+=1\n",
    "## 参考 https://thispointer.com/pandas-loop-or-iterate-over-all-or-certain-columns-of-a-dataframe/\n",
    "'''\n",
    "\n",
    "## solutuion2 (iteritem pass)\n",
    "'''\n",
    "sample = tweetdf.sample()\n",
    "p('----checking sample index: {:-<8}'.format(sample.index[0]))\n",
    "\n",
    "\n",
    "for (colname, coldata) in sample.iteritems():\n",
    "    print('\\n- columns check {} : {:-<8}'.format(i,colname))\n",
    "    print(coldata.values)\n",
    "    i += 1\n",
    "''';"
   ]
  },
  {
   "cell_type": "markdown",
   "metadata": {},
   "source": [
    "#### // check_info(df,list)"
   ]
  },
  {
   "cell_type": "code",
   "execution_count": 10,
   "metadata": {
    "ExecuteTime": {
     "end_time": "2019-06-10T08:05:10.675909Z",
     "start_time": "2019-06-10T08:05:10.667699Z"
    },
    "hide_input": true
   },
   "outputs": [],
   "source": [
    "# build function\n",
    "def check_info(df,list):\n",
    "    c = 1\n",
    "    for i in list:\n",
    "        print(('\\n- columns #{} : {:-<8}'.format(c,i)))\n",
    "        print((df[i].value_counts().nlargest(5)))\n",
    "        ### nlargest 非常好用\n",
    "        c += 1\n",
    "    pp.pprint('----checking complete----')"
   ]
  },
  {
   "cell_type": "markdown",
   "metadata": {},
   "source": [
    "#### // check_detail(df,list)"
   ]
  },
  {
   "cell_type": "code",
   "execution_count": 11,
   "metadata": {
    "ExecuteTime": {
     "end_time": "2019-06-10T08:05:10.694259Z",
     "start_time": "2019-06-10T08:05:10.682594Z"
    }
   },
   "outputs": [],
   "source": [
    "# build function\n",
    "def check_detail(df,list):\n",
    "    sampe = df.sample(1)\n",
    "    c = 1\n",
    "    for i in list:\n",
    "        print(('\\n- columns #{} : {:-<8}'.format(c,i)))\n",
    "        pp.pprint(df[i].iloc[0])\n",
    "        c += 1\n",
    "        ## 使用 pprint 优化 dict 显示"
   ]
  },
  {
   "cell_type": "markdown",
   "metadata": {},
   "source": [
    "#### // drop_column"
   ]
  },
  {
   "cell_type": "code",
   "execution_count": 12,
   "metadata": {
    "ExecuteTime": {
     "end_time": "2019-06-10T08:05:10.800798Z",
     "start_time": "2019-06-10T08:05:10.707408Z"
    },
    "hide_input": false
   },
   "outputs": [],
   "source": [
    "## build fuction\n",
    "def drop_column(df,list):\n",
    "    ## proceed\n",
    "    dflen = len(df.columns)\n",
    "    df.drop(list,axis=1,inplace=True)\n",
    "    ### 在函数中要用 inplace=True 而不是赋值来作用于df\n",
    "    ## check\n",
    "    print('---- proceding ----')\n",
    "    print('- drop {} columns: {} '.format(len(list), list))\n",
    "    print('- remain {} columns'.format(len(df.columns)))\n",
    "    print('- success : {}'.format(len(list) + len(df.columns) == dflen))"
   ]
  },
  {
   "cell_type": "markdown",
   "metadata": {},
   "source": [
    "### / quanlity\n",
    "#### // check1 - init drop"
   ]
  },
  {
   "cell_type": "code",
   "execution_count": 73,
   "metadata": {
    "ExecuteTime": {
     "end_time": "2019-06-10T08:05:55.108205Z",
     "start_time": "2019-06-10T08:05:55.088097Z"
    },
    "collapsed": true
   },
   "outputs": [
    {
     "name": "stdout",
     "output_type": "stream",
     "text": [
      "----checking sample index: 405\n",
      "\n",
      "- columns #1 : contributors\n",
      "[nan]\n",
      "\n",
      "- columns #2 : coordinates\n",
      "[nan]\n",
      "\n",
      "- columns #3 : created_at\n",
      "['2017-01-23T17:20:14.000000000']\n",
      "\n",
      "- columns #4 : display_text_range\n",
      "[list([0, 106])]\n",
      "\n",
      "- columns #5 : entities\n",
      "[{'hashtags': [], 'symbols': [], 'user_mentions': [], 'urls': [], 'media': [{'id': 823581103512436736, 'id_str': '823581103512436736', 'indices': [107, 130], 'media_url': 'http://pbs.twimg.com/media/C23ypm6VQAAO31l.jpg', 'media_url_https': 'https://pbs.twimg.com/media/C23ypm6VQAAO31l.jpg', 'url': 'https://t.co/6F5Rrp472U', 'display_url': 'pic.twitter.com/6F5Rrp472U', 'expanded_url': 'https://twitter.com/dog_rates/status/823581115634085888/photo/1', 'type': 'photo', 'sizes': {'medium': {'w': 900, 'h': 1200, 'resize': 'fit'}, 'thumb': {'w': 150, 'h': 150, 'resize': 'crop'}, 'large': {'w': 1536, 'h': 2048, 'resize': 'fit'}, 'small': {'w': 510, 'h': 680, 'resize': 'fit'}}}]}]\n",
      "\n",
      "- columns #6 : extended_entities\n",
      "[{'media': [{'id': 823581103512436736, 'id_str': '823581103512436736', 'indices': [107, 130], 'media_url': 'http://pbs.twimg.com/media/C23ypm6VQAAO31l.jpg', 'media_url_https': 'https://pbs.twimg.com/media/C23ypm6VQAAO31l.jpg', 'url': 'https://t.co/6F5Rrp472U', 'display_url': 'pic.twitter.com/6F5Rrp472U', 'expanded_url': 'https://twitter.com/dog_rates/status/823581115634085888/photo/1', 'type': 'photo', 'sizes': {'medium': {'w': 900, 'h': 1200, 'resize': 'fit'}, 'thumb': {'w': 150, 'h': 150, 'resize': 'crop'}, 'large': {'w': 1536, 'h': 2048, 'resize': 'fit'}, 'small': {'w': 510, 'h': 680, 'resize': 'fit'}}}]}]\n",
      "\n",
      "- columns #7 : favorite_count\n",
      "[14336]\n",
      "\n",
      "- columns #8 : favorited\n",
      "[False]\n",
      "\n",
      "- columns #9 : full_text\n",
      "[\"This is Crawford. He's quite h*ckin good at the selfies. Nose is incredibly boopable. 11/10 would snapchat https://t.co/6F5Rrp472U\"]\n",
      "\n",
      "- columns #10 : geo-----\n",
      "[nan]\n",
      "\n",
      "- columns #11 : id------\n",
      "[823581115634085888]\n",
      "\n",
      "- columns #12 : id_str--\n",
      "[823581115634085888]\n",
      "\n",
      "- columns #13 : in_reply_to_screen_name\n",
      "[None]\n",
      "\n",
      "- columns #14 : in_reply_to_status_id\n",
      "[nan]\n",
      "\n",
      "- columns #15 : in_reply_to_status_id_str\n",
      "[nan]\n",
      "\n",
      "- columns #16 : in_reply_to_user_id\n",
      "[nan]\n",
      "\n",
      "- columns #17 : in_reply_to_user_id_str\n",
      "[nan]\n",
      "\n",
      "- columns #18 : is_quote_status\n",
      "[False]\n",
      "\n",
      "- columns #19 : lang----\n",
      "['en']\n",
      "\n",
      "- columns #20 : place---\n",
      "[None]\n",
      "\n",
      "- columns #21 : possibly_sensitive\n",
      "[0.]\n",
      "\n",
      "- columns #22 : possibly_sensitive_appealable\n",
      "[0.]\n",
      "\n",
      "- columns #23 : quoted_status\n",
      "[nan]\n",
      "\n",
      "- columns #24 : quoted_status_id\n",
      "[nan]\n",
      "\n",
      "- columns #25 : quoted_status_id_str\n",
      "[nan]\n",
      "\n",
      "- columns #26 : retweet_count\n",
      "[3020]\n",
      "\n",
      "- columns #27 : retweeted\n",
      "[False]\n",
      "\n",
      "- columns #28 : retweeted_status\n",
      "[nan]\n",
      "\n",
      "- columns #29 : source--\n",
      "['<a href=\"http://twitter.com/download/iphone\" rel=\"nofollow\">Twitter for iPhone</a>']\n",
      "\n",
      "- columns #30 : truncated\n",
      "[False]\n",
      "\n",
      "- columns #31 : user----\n",
      "[{'id': 4196983835, 'id_str': '4196983835', 'name': 'SpookyWeRateDogs™', 'screen_name': 'dog_rates', 'location': 'MERCH↴  DM DOGS. WE WILL RATE', 'description': 'Only Legit Source for Professional Dog Ratings STORE: @ShopWeRateDogs | IG, FB & SC: WeRateDogs | MOBILE APP: @GoodDogsGame Business: dogratingtwitter@gmail.com', 'url': 'https://t.co/N7sNNHAEXS', 'entities': {'url': {'urls': [{'url': 'https://t.co/N7sNNHAEXS', 'expanded_url': 'http://weratedogs.com', 'display_url': 'weratedogs.com', 'indices': [0, 23]}]}, 'description': {'urls': []}}, 'protected': False, 'followers_count': 3768855, 'friends_count': 107, 'listed_count': 3200, 'created_at': 'Sun Nov 15 21:41:29 +0000 2015', 'favourites_count': 120161, 'utc_offset': None, 'time_zone': None, 'geo_enabled': True, 'verified': True, 'statuses_count': 5749, 'lang': 'en', 'contributors_enabled': False, 'is_translator': False, 'is_translation_enabled': False, 'profile_background_color': '000000', 'profile_background_image_url': 'http://abs.twimg.com/images/themes/theme1/bg.png', 'profile_background_image_url_https': 'https://abs.twimg.com/images/themes/theme1/bg.png', 'profile_background_tile': False, 'profile_image_url': 'http://pbs.twimg.com/profile_images/914581071265755136/2h5uFpwU_normal.jpg', 'profile_image_url_https': 'https://pbs.twimg.com/profile_images/914581071265755136/2h5uFpwU_normal.jpg', 'profile_banner_url': 'https://pbs.twimg.com/profile_banners/4196983835/1506888628', 'profile_link_color': 'F5ABB5', 'profile_sidebar_border_color': '000000', 'profile_sidebar_fill_color': '000000', 'profile_text_color': '000000', 'profile_use_background_image': False, 'has_extended_profile': True, 'default_profile': False, 'default_profile_image': False, 'following': False, 'follow_request_sent': False, 'notifications': False, 'translator_type': 'none'}]\n",
      "'----checking complete----'\n"
     ]
    }
   ],
   "source": [
    "# check1 \n",
    "## snip all columns\n",
    "check_sample(tweetdf)"
   ]
  },
  {
   "cell_type": "code",
   "execution_count": 14,
   "metadata": {
    "ExecuteTime": {
     "end_time": "2019-06-10T08:05:10.876855Z",
     "start_time": "2019-06-10T08:05:10.840532Z"
    },
    "collapsed": true
   },
   "outputs": [
    {
     "name": "stdout",
     "output_type": "stream",
     "text": [
      "<class 'pandas.core.frame.DataFrame'>\n",
      "RangeIndex: 2352 entries, 0 to 2351\n",
      "Data columns (total 31 columns):\n",
      "contributors                     0 non-null float64\n",
      "coordinates                      0 non-null float64\n",
      "created_at                       2352 non-null datetime64[ns]\n",
      "display_text_range               2352 non-null object\n",
      "entities                         2352 non-null object\n",
      "extended_entities                2073 non-null object\n",
      "favorite_count                   2352 non-null int64\n",
      "favorited                        2352 non-null bool\n",
      "full_text                        2352 non-null object\n",
      "geo                              0 non-null float64\n",
      "id                               2352 non-null int64\n",
      "id_str                           2352 non-null int64\n",
      "in_reply_to_screen_name          78 non-null object\n",
      "in_reply_to_status_id            78 non-null float64\n",
      "in_reply_to_status_id_str        78 non-null float64\n",
      "in_reply_to_user_id              78 non-null float64\n",
      "in_reply_to_user_id_str          78 non-null float64\n",
      "is_quote_status                  2352 non-null bool\n",
      "lang                             2352 non-null object\n",
      "place                            1 non-null object\n",
      "possibly_sensitive               2211 non-null float64\n",
      "possibly_sensitive_appealable    2211 non-null float64\n",
      "quoted_status                    28 non-null object\n",
      "quoted_status_id                 29 non-null float64\n",
      "quoted_status_id_str             29 non-null float64\n",
      "retweet_count                    2352 non-null int64\n",
      "retweeted                        2352 non-null bool\n",
      "retweeted_status                 177 non-null object\n",
      "source                           2352 non-null object\n",
      "truncated                        2352 non-null bool\n",
      "user                             2352 non-null object\n",
      "dtypes: bool(4), datetime64[ns](1), float64(11), int64(4), object(11)\n",
      "memory usage: 505.4+ KB\n"
     ]
    }
   ],
   "source": [
    "## snip info\n",
    "tweetdf.info()"
   ]
  },
  {
   "cell_type": "code",
   "execution_count": 15,
   "metadata": {
    "ExecuteTime": {
     "end_time": "2019-06-10T08:05:10.887355Z",
     "start_time": "2019-06-10T08:05:10.881234Z"
    }
   },
   "outputs": [],
   "source": [
    "## define drop list\n",
    "droplist1 = ['contributors','coordinates','geo','place','id_str','in_reply_to_status_id_str','in_reply_to_user_id_str','quoted_status_id_str']"
   ]
  },
  {
   "cell_type": "code",
   "execution_count": 16,
   "metadata": {
    "ExecuteTime": {
     "end_time": "2019-06-10T08:05:10.897712Z",
     "start_time": "2019-06-10T08:05:10.890954Z"
    },
    "hide_input": false
   },
   "outputs": [],
   "source": [
    "## droplist1\n",
    "droplist1 = ['contributors','coordinates','geo','place','id_str','in_reply_to_status_id_str','in_reply_to_user_id_str','quoted_status_id_str']"
   ]
  },
  {
   "cell_type": "code",
   "execution_count": 17,
   "metadata": {
    "ExecuteTime": {
     "end_time": "2019-06-10T08:05:10.917766Z",
     "start_time": "2019-06-10T08:05:10.901333Z"
    }
   },
   "outputs": [
    {
     "name": "stdout",
     "output_type": "stream",
     "text": [
      "---- proceding ----\n",
      "- drop 8 columns: ['contributors', 'coordinates', 'geo', 'place', 'id_str', 'in_reply_to_status_id_str', 'in_reply_to_user_id_str', 'quoted_status_id_str'] \n",
      "- remain 23 columns\n",
      "- success : True\n"
     ]
    }
   ],
   "source": [
    "## drop1 excute\n",
    "drop_column(tweetclean,droplist1)"
   ]
  },
  {
   "cell_type": "markdown",
   "metadata": {},
   "source": [
    "#### // check2 - inspect drop"
   ]
  },
  {
   "cell_type": "code",
   "execution_count": 77,
   "metadata": {
    "ExecuteTime": {
     "end_time": "2019-06-10T08:07:00.858141Z",
     "start_time": "2019-06-10T08:07:00.851379Z"
    },
    "collapsed": true
   },
   "outputs": [
    {
     "name": "stdout",
     "output_type": "stream",
     "text": [
      "----checking sample index: 893\n",
      "\n",
      "- columns #1 : created_at\n",
      "['2016-07-29T15:27:55.000000000']\n",
      "\n",
      "- columns #2 : display_text_range\n",
      "[list([0, 84])]\n",
      "\n",
      "- columns #3 : favorite_count\n",
      "[7201]\n",
      "\n",
      "- columns #4 : full_text\n",
      "[\"This is Spencer. He's part of the Queen's Guard. Takes his job very seriously. 11/10 https://t.co/8W5iSOgXfx\"]\n",
      "\n",
      "- columns #5 : id------\n",
      "[759047813560868866]\n",
      "\n",
      "- columns #6 : retweet_count\n",
      "[2291]\n",
      "\n",
      "- columns #7 : source--\n",
      "['<a href=\"http://twitter.com/download/iphone\" rel=\"nofollow\">Twitter for iPhone</a>']\n",
      "'----checking complete----'\n"
     ]
    }
   ],
   "source": [
    "# check2\n",
    "## snip remained columns\n",
    "check_sample(tweetclean)"
   ]
  },
  {
   "cell_type": "code",
   "execution_count": 19,
   "metadata": {
    "ExecuteTime": {
     "end_time": "2019-06-10T08:05:10.965837Z",
     "start_time": "2019-06-10T08:05:10.951726Z"
    }
   },
   "outputs": [],
   "source": [
    "## define inspect list\n",
    "inslist1 = ['favorited','in_reply_to_screen_name','in_reply_to_status_id','in_reply_to_user_id','is_quote_status','lang','possibly_sensitive','possibly_sensitive_appealable','quoted_status_id','retweeted','truncated']\n",
    "### special action below is altered"
   ]
  },
  {
   "cell_type": "code",
   "execution_count": 20,
   "metadata": {
    "ExecuteTime": {
     "end_time": "2019-06-10T08:05:11.039231Z",
     "start_time": "2019-06-10T08:05:10.973898Z"
    }
   },
   "outputs": [
    {
     "name": "stdout",
     "output_type": "stream",
     "text": [
      "\n",
      "- columns #1 : favorited\n",
      "False    2352\n",
      "Name: favorited, dtype: int64\n",
      "\n",
      "- columns #2 : in_reply_to_screen_name\n",
      "dog_rates          47\n",
      "markhoppus          2\n",
      "ABC                 1\n",
      "CommonWhiteGirI     1\n",
      "Marc_IRL            1\n",
      "Name: in_reply_to_screen_name, dtype: int64\n",
      "\n",
      "- columns #3 : in_reply_to_status_id\n",
      "6.671522e+17    2\n",
      "8.562860e+17    1\n",
      "8.131273e+17    1\n",
      "6.754971e+17    1\n",
      "6.827884e+17    1\n",
      "Name: in_reply_to_status_id, dtype: int64\n",
      "\n",
      "- columns #4 : in_reply_to_user_id\n",
      "4.196984e+09    47\n",
      "2.195506e+07     2\n",
      "7.305050e+17     1\n",
      "2.916630e+07     1\n",
      "3.105441e+09     1\n",
      "Name: in_reply_to_user_id, dtype: int64\n",
      "\n",
      "- columns #5 : is_quote_status\n",
      "False    2321\n",
      "True       31\n",
      "Name: is_quote_status, dtype: int64\n",
      "\n",
      "- columns #6 : lang----\n",
      "en     2334\n",
      "und       7\n",
      "nl        3\n",
      "in        3\n",
      "et        1\n",
      "Name: lang, dtype: int64\n",
      "\n",
      "- columns #7 : possibly_sensitive\n",
      "0.0    2211\n",
      "Name: possibly_sensitive, dtype: int64\n",
      "\n",
      "- columns #8 : possibly_sensitive_appealable\n",
      "0.0    2211\n",
      "Name: possibly_sensitive_appealable, dtype: int64\n",
      "\n",
      "- columns #9 : quoted_status_id\n",
      "8.340867e+17    1\n",
      "8.413114e+17    1\n",
      "7.061659e+17    1\n",
      "8.860534e+17    1\n",
      "8.464848e+17    1\n",
      "Name: quoted_status_id, dtype: int64\n",
      "\n",
      "- columns #10 : retweeted\n",
      "False    2352\n",
      "Name: retweeted, dtype: int64\n",
      "\n",
      "- columns #11 : truncated\n",
      "False    2352\n",
      "Name: truncated, dtype: int64\n",
      "'----checking complete----'\n"
     ]
    }
   ],
   "source": [
    "## inspect1 excute\n",
    "check_info(tweetclean,inslist1)"
   ]
  },
  {
   "cell_type": "code",
   "execution_count": 21,
   "metadata": {
    "ExecuteTime": {
     "end_time": "2019-06-10T08:05:11.068944Z",
     "start_time": "2019-06-10T08:05:11.042914Z"
    }
   },
   "outputs": [
    {
     "data": {
      "text/plain": [
       "True     2324\n",
       "False      28\n",
       "Name: quoted_status, dtype: int64"
      ]
     },
     "execution_count": 21,
     "metadata": {},
     "output_type": "execute_result"
    }
   ],
   "source": [
    "## special1 \n",
    "### quoted_status is a dict, move it to detlist\n",
    "### check values (almost is null)\n",
    "tweetclean.quoted_status.isnull().value_counts()"
   ]
  },
  {
   "cell_type": "code",
   "execution_count": 22,
   "metadata": {
    "ExecuteTime": {
     "end_time": "2019-06-10T08:05:11.092856Z",
     "start_time": "2019-06-10T08:05:11.072381Z"
    }
   },
   "outputs": [
    {
     "data": {
      "text/plain": [
       "{'created_at': 'Sat Jun 03 18:46:59 +0000 2017',\n",
       " 'id': 871075758080503809,\n",
       " 'id_str': '871075758080503809',\n",
       " 'full_text': \"A dog's clever solution. https://t.co/7qNdrBVAlA\",\n",
       " 'truncated': False,\n",
       " 'display_text_range': [0, 24],\n",
       " 'entities': {'hashtags': [],\n",
       "  'symbols': [],\n",
       "  'user_mentions': [],\n",
       "  'urls': [],\n",
       "  'media': [{'id': 871075694524203009,\n",
       "    'id_str': '871075694524203009',\n",
       "    'indices': [25, 48],\n",
       "    'media_url': 'http://pbs.twimg.com/ext_tw_video_thumb/871075694524203009/pu/img/WAB4Nn412S6K-IY_.jpg',\n",
       "    'media_url_https': 'https://pbs.twimg.com/ext_tw_video_thumb/871075694524203009/pu/img/WAB4Nn412S6K-IY_.jpg',\n",
       "    'url': 'https://t.co/7qNdrBVAlA',\n",
       "    'display_url': 'pic.twitter.com/7qNdrBVAlA',\n",
       "    'expanded_url': 'https://twitter.com/animalcog/status/871075758080503809/video/1',\n",
       "    'type': 'photo',\n",
       "    'sizes': {'thumb': {'w': 150, 'h': 150, 'resize': 'crop'},\n",
       "     'medium': {'w': 600, 'h': 338, 'resize': 'fit'},\n",
       "     'small': {'w': 340, 'h': 191, 'resize': 'fit'},\n",
       "     'large': {'w': 1024, 'h': 576, 'resize': 'fit'}}}]},\n",
       " 'extended_entities': {'media': [{'id': 871075694524203009,\n",
       "    'id_str': '871075694524203009',\n",
       "    'indices': [25, 48],\n",
       "    'media_url': 'http://pbs.twimg.com/ext_tw_video_thumb/871075694524203009/pu/img/WAB4Nn412S6K-IY_.jpg',\n",
       "    'media_url_https': 'https://pbs.twimg.com/ext_tw_video_thumb/871075694524203009/pu/img/WAB4Nn412S6K-IY_.jpg',\n",
       "    'url': 'https://t.co/7qNdrBVAlA',\n",
       "    'display_url': 'pic.twitter.com/7qNdrBVAlA',\n",
       "    'expanded_url': 'https://twitter.com/animalcog/status/871075758080503809/video/1',\n",
       "    'type': 'video',\n",
       "    'sizes': {'thumb': {'w': 150, 'h': 150, 'resize': 'crop'},\n",
       "     'medium': {'w': 600, 'h': 338, 'resize': 'fit'},\n",
       "     'small': {'w': 340, 'h': 191, 'resize': 'fit'},\n",
       "     'large': {'w': 1024, 'h': 576, 'resize': 'fit'}},\n",
       "    'video_info': {'aspect_ratio': [16, 9],\n",
       "     'duration_millis': 36170,\n",
       "     'variants': [{'bitrate': 832000,\n",
       "       'content_type': 'video/mp4',\n",
       "       'url': 'https://video.twimg.com/ext_tw_video/871075694524203009/pu/vid/640x360/8MNJRtaqh7cylswO.mp4'},\n",
       "      {'content_type': 'application/x-mpegURL',\n",
       "       'url': 'https://video.twimg.com/ext_tw_video/871075694524203009/pu/pl/_fg3rzHZb9J40wJb.m3u8'},\n",
       "      {'bitrate': 320000,\n",
       "       'content_type': 'video/mp4',\n",
       "       'url': 'https://video.twimg.com/ext_tw_video/871075694524203009/pu/vid/320x180/PxWa9GGi0CIFtQaK.mp4'},\n",
       "      {'bitrate': 2176000,\n",
       "       'content_type': 'video/mp4',\n",
       "       'url': 'https://video.twimg.com/ext_tw_video/871075694524203009/pu/vid/1280x720/s9r873KfVTspe_p1.mp4'}]},\n",
       "    'additional_media_info': {'monetizable': False}}]},\n",
       " 'source': '<a href=\"http://twitter.com\" rel=\"nofollow\">Twitter Web Client</a>',\n",
       " 'in_reply_to_status_id': None,\n",
       " 'in_reply_to_status_id_str': None,\n",
       " 'in_reply_to_user_id': None,\n",
       " 'in_reply_to_user_id_str': None,\n",
       " 'in_reply_to_screen_name': None,\n",
       " 'user': {'id': 2745835322,\n",
       "  'id_str': '2745835322',\n",
       "  'name': 'Animal Cognition',\n",
       "  'screen_name': 'animalcog',\n",
       "  'location': '',\n",
       "  'description': 'Help us investigate the mental capacities of animals! https://t.co/7CCCV8goBy',\n",
       "  'url': 'https://t.co/7CCCV8goBy',\n",
       "  'entities': {'url': {'urls': [{'url': 'https://t.co/7CCCV8goBy',\n",
       "      'expanded_url': 'http://patreon.com/animalcognition',\n",
       "      'display_url': 'patreon.com/animalcognition',\n",
       "      'indices': [0, 23]}]},\n",
       "   'description': {'urls': [{'url': 'https://t.co/7CCCV8goBy',\n",
       "      'expanded_url': 'http://patreon.com/animalcognition',\n",
       "      'display_url': 'patreon.com/animalcognition',\n",
       "      'indices': [54, 77]}]}},\n",
       "  'protected': False,\n",
       "  'followers_count': 10612,\n",
       "  'friends_count': 1558,\n",
       "  'listed_count': 164,\n",
       "  'created_at': 'Tue Aug 19 17:40:56 +0000 2014',\n",
       "  'favourites_count': 1490,\n",
       "  'utc_offset': -25200,\n",
       "  'time_zone': 'Pacific Time (US & Canada)',\n",
       "  'geo_enabled': False,\n",
       "  'verified': False,\n",
       "  'statuses_count': 1493,\n",
       "  'lang': 'en',\n",
       "  'contributors_enabled': False,\n",
       "  'is_translator': False,\n",
       "  'is_translation_enabled': False,\n",
       "  'profile_background_color': '000000',\n",
       "  'profile_background_image_url': 'http://abs.twimg.com/images/themes/theme1/bg.png',\n",
       "  'profile_background_image_url_https': 'https://abs.twimg.com/images/themes/theme1/bg.png',\n",
       "  'profile_background_tile': False,\n",
       "  'profile_image_url': 'http://pbs.twimg.com/profile_images/574995919378063360/tWkNDOTF_normal.jpeg',\n",
       "  'profile_image_url_https': 'https://pbs.twimg.com/profile_images/574995919378063360/tWkNDOTF_normal.jpeg',\n",
       "  'profile_banner_url': 'https://pbs.twimg.com/profile_banners/2745835322/1465481545',\n",
       "  'profile_link_color': '8EBC5A',\n",
       "  'profile_sidebar_border_color': '000000',\n",
       "  'profile_sidebar_fill_color': '000000',\n",
       "  'profile_text_color': '000000',\n",
       "  'profile_use_background_image': False,\n",
       "  'has_extended_profile': False,\n",
       "  'default_profile': False,\n",
       "  'default_profile_image': False,\n",
       "  'following': False,\n",
       "  'follow_request_sent': False,\n",
       "  'notifications': False,\n",
       "  'translator_type': 'none'},\n",
       " 'geo': None,\n",
       " 'coordinates': None,\n",
       " 'place': None,\n",
       " 'contributors': None,\n",
       " 'is_quote_status': False,\n",
       " 'retweet_count': 11961,\n",
       " 'favorite_count': 27298,\n",
       " 'favorited': False,\n",
       " 'retweeted': False,\n",
       " 'possibly_sensitive': False,\n",
       " 'possibly_sensitive_appealable': False,\n",
       " 'lang': 'en'}"
      ]
     },
     "execution_count": 22,
     "metadata": {},
     "output_type": "execute_result"
    }
   ],
   "source": [
    "### many NaN\n",
    "### check a sample\n",
    "tweetclean[tweetclean.quoted_status.notnull()].sample(1).quoted_status.iloc[0]\n",
    "### status is some extra info abou a forward"
   ]
  },
  {
   "cell_type": "code",
   "execution_count": 24,
   "metadata": {
    "ExecuteTime": {
     "end_time": "2019-06-10T08:05:11.548025Z",
     "start_time": "2019-06-10T08:05:11.535242Z"
    }
   },
   "outputs": [
    {
     "data": {
      "text/plain": [
       "dog_rates          47\n",
       "markhoppus          2\n",
       "ABC                 1\n",
       "CommonWhiteGirI     1\n",
       "Marc_IRL            1\n",
       "RealKentMurphy      1\n",
       "roushfenway         1\n",
       "wane15              1\n",
       "shibbnbot           1\n",
       "LightningHoltt      1\n",
       "spaghemily          1\n",
       "serial              1\n",
       "ComplicitOwl        1\n",
       "TheEllenShow        1\n",
       "imgur               1\n",
       "bragg6of8           1\n",
       "SkyWilliams         1\n",
       "mount_alex3         1\n",
       "ABC7                1\n",
       "dhmontgomery        1\n",
       "xianmcguire         1\n",
       "NBCSports           1\n",
       "Jack_Septic_Eye     1\n",
       "JODYHiGHROLLER      1\n",
       "NonWhiteHat         1\n",
       "docmisterio         1\n",
       "HistoryInPics       1\n",
       "0_kelvin_0          1\n",
       "s8n                 1\n",
       "jonnysun            1\n",
       "UNC                 1\n",
       "Name: in_reply_to_screen_name, dtype: int64"
      ]
     },
     "execution_count": 24,
     "metadata": {},
     "output_type": "execute_result"
    }
   ],
   "source": [
    "### check values\n",
    "tweetclean.in_reply_to_screen_name.value_counts()\n",
    "### may be dog_rates is a default reply name or thumbs\n",
    "### drop column"
   ]
  },
  {
   "cell_type": "code",
   "execution_count": 25,
   "metadata": {
    "ExecuteTime": {
     "end_time": "2019-06-10T08:05:11.559084Z",
     "start_time": "2019-06-10T08:05:11.552165Z"
    }
   },
   "outputs": [],
   "source": [
    "## droplist2\n",
    "droplist2 = inslist1.copy()\n",
    "### use .copy to copy rather than llink\n",
    "droplist2.append('quoted_status')\n",
    "droplist2.append('retweeted_status')\n",
    "droplist2.append('user')\n",
    "#droplist2 = ['truncated','retweeted','possibly_sensitive_appealable','possibly_sensitive','lang','is_quote_status','favorited']"
   ]
  },
  {
   "cell_type": "code",
   "execution_count": 26,
   "metadata": {
    "ExecuteTime": {
     "end_time": "2019-06-10T08:05:11.577625Z",
     "start_time": "2019-06-10T08:05:11.563389Z"
    }
   },
   "outputs": [
    {
     "name": "stdout",
     "output_type": "stream",
     "text": [
      "---- proceding ----\n",
      "- drop 14 columns: ['favorited', 'in_reply_to_screen_name', 'in_reply_to_status_id', 'in_reply_to_user_id', 'is_quote_status', 'lang', 'possibly_sensitive', 'possibly_sensitive_appealable', 'quoted_status_id', 'retweeted', 'truncated', 'quoted_status', 'retweeted_status', 'user'] \n",
      "- remain 9 columns\n",
      "- success : True\n"
     ]
    }
   ],
   "source": [
    "## drop2 excute\n",
    "drop_column(tweetclean,droplist2)"
   ]
  },
  {
   "cell_type": "markdown",
   "metadata": {},
   "source": [
    "#### // check3 - detail cols"
   ]
  },
  {
   "cell_type": "code",
   "execution_count": 27,
   "metadata": {
    "ExecuteTime": {
     "end_time": "2019-06-10T08:05:11.596444Z",
     "start_time": "2019-06-10T08:05:11.581644Z"
    }
   },
   "outputs": [
    {
     "name": "stdout",
     "output_type": "stream",
     "text": [
      "----checking sample index: 785\n",
      "\n",
      "- columns #1 : created_at\n",
      "['2016-09-08T20:45:53.000000000']\n",
      "\n",
      "- columns #2 : display_text_range\n",
      "[list([0, 116])]\n",
      "\n",
      "- columns #3 : entities\n",
      "[{'hashtags': [], 'symbols': [], 'user_mentions': [], 'urls': [], 'media': [{'id': 773985718767149057, 'id_str': '773985718767149057', 'indices': [117, 140], 'media_url': 'http://pbs.twimg.com/media/Cr2_6RRXYAE1ojW.jpg', 'media_url_https': 'https://pbs.twimg.com/media/Cr2_6RRXYAE1ojW.jpg', 'url': 'https://t.co/RFWtDqTnAz', 'display_url': 'pic.twitter.com/RFWtDqTnAz', 'expanded_url': 'https://twitter.com/dog_rates/status/773985732834758656/photo/1', 'type': 'photo', 'sizes': {'thumb': {'w': 150, 'h': 150, 'resize': 'crop'}, 'medium': {'w': 768, 'h': 1024, 'resize': 'fit'}, 'small': {'w': 510, 'h': 680, 'resize': 'fit'}, 'large': {'w': 768, 'h': 1024, 'resize': 'fit'}}}]}]\n",
      "\n",
      "- columns #4 : extended_entities\n",
      "[{'media': [{'id': 773985718767149057, 'id_str': '773985718767149057', 'indices': [117, 140], 'media_url': 'http://pbs.twimg.com/media/Cr2_6RRXYAE1ojW.jpg', 'media_url_https': 'https://pbs.twimg.com/media/Cr2_6RRXYAE1ojW.jpg', 'url': 'https://t.co/RFWtDqTnAz', 'display_url': 'pic.twitter.com/RFWtDqTnAz', 'expanded_url': 'https://twitter.com/dog_rates/status/773985732834758656/photo/1', 'type': 'photo', 'sizes': {'thumb': {'w': 150, 'h': 150, 'resize': 'crop'}, 'medium': {'w': 768, 'h': 1024, 'resize': 'fit'}, 'small': {'w': 510, 'h': 680, 'resize': 'fit'}, 'large': {'w': 768, 'h': 1024, 'resize': 'fit'}}}, {'id': 773985718876143679, 'id_str': '773985718876143679', 'indices': [117, 140], 'media_url': 'http://pbs.twimg.com/media/Cr2_6RrWgD89Tgb.jpg', 'media_url_https': 'https://pbs.twimg.com/media/Cr2_6RrWgD89Tgb.jpg', 'url': 'https://t.co/RFWtDqTnAz', 'display_url': 'pic.twitter.com/RFWtDqTnAz', 'expanded_url': 'https://twitter.com/dog_rates/status/773985732834758656/photo/1', 'type': 'photo', 'sizes': {'thumb': {'w': 150, 'h': 150, 'resize': 'crop'}, 'medium': {'w': 768, 'h': 1024, 'resize': 'fit'}, 'large': {'w': 768, 'h': 1024, 'resize': 'fit'}, 'small': {'w': 510, 'h': 680, 'resize': 'fit'}}}, {'id': 773985718922317824, 'id_str': '773985718922317824', 'indices': [117, 140], 'media_url': 'http://pbs.twimg.com/media/Cr2_6R2XEAA0CmH.jpg', 'media_url_https': 'https://pbs.twimg.com/media/Cr2_6R2XEAA0CmH.jpg', 'url': 'https://t.co/RFWtDqTnAz', 'display_url': 'pic.twitter.com/RFWtDqTnAz', 'expanded_url': 'https://twitter.com/dog_rates/status/773985732834758656/photo/1', 'type': 'photo', 'sizes': {'small': {'w': 510, 'h': 680, 'resize': 'fit'}, 'thumb': {'w': 150, 'h': 150, 'resize': 'crop'}, 'medium': {'w': 768, 'h': 1024, 'resize': 'fit'}, 'large': {'w': 768, 'h': 1024, 'resize': 'fit'}}}, {'id': 773985718947414016, 'id_str': '773985718947414016', 'indices': [117, 140], 'media_url': 'http://pbs.twimg.com/media/Cr2_6R8WAAAUMtc.jpg', 'media_url_https': 'https://pbs.twimg.com/media/Cr2_6R8WAAAUMtc.jpg', 'url': 'https://t.co/RFWtDqTnAz', 'display_url': 'pic.twitter.com/RFWtDqTnAz', 'expanded_url': 'https://twitter.com/dog_rates/status/773985732834758656/photo/1', 'type': 'photo', 'sizes': {'thumb': {'w': 150, 'h': 150, 'resize': 'crop'}, 'medium': {'w': 768, 'h': 1024, 'resize': 'fit'}, 'large': {'w': 768, 'h': 1024, 'resize': 'fit'}, 'small': {'w': 510, 'h': 680, 'resize': 'fit'}}}]}]\n",
      "\n",
      "- columns #5 : favorite_count\n",
      "[11869]\n",
      "\n",
      "- columns #6 : full_text\n",
      "['Meet Winnie. She just made awkward eye contact with the driver beside her. Poor pupper panicked. 11/10 would comfort https://t.co/RFWtDqTnAz']\n",
      "\n",
      "- columns #7 : id------\n",
      "[773985732834758656]\n",
      "\n",
      "- columns #8 : retweet_count\n",
      "[4449]\n",
      "\n",
      "- columns #9 : source--\n",
      "['<a href=\"http://twitter.com/download/iphone\" rel=\"nofollow\">Twitter for iPhone</a>']\n",
      "'----checking complete----'\n"
     ]
    }
   ],
   "source": [
    "# check3\n",
    "## recheck sample\n",
    "check_sample(tweetclean)"
   ]
  },
  {
   "cell_type": "code",
   "execution_count": 28,
   "metadata": {
    "ExecuteTime": {
     "end_time": "2019-06-10T08:05:11.607869Z",
     "start_time": "2019-06-10T08:05:11.601982Z"
    }
   },
   "outputs": [],
   "source": [
    "## detlist1\n",
    "### check dict long columns\n",
    "detlist1 = ['entities','extended_entities']"
   ]
  },
  {
   "cell_type": "code",
   "execution_count": 29,
   "metadata": {
    "ExecuteTime": {
     "end_time": "2019-06-10T08:05:11.632685Z",
     "start_time": "2019-06-10T08:05:11.611659Z"
    },
    "collapsed": true
   },
   "outputs": [
    {
     "name": "stdout",
     "output_type": "stream",
     "text": [
      "\n",
      "- columns #1 : entities\n",
      "{'hashtags': [],\n",
      " 'media': [{'display_url': 'pic.twitter.com/MgUWQ76dJU',\n",
      "            'expanded_url': 'https://twitter.com/dog_rates/status/892420643555336193/photo/1',\n",
      "            'id': 892420639486877696,\n",
      "            'id_str': '892420639486877696',\n",
      "            'indices': [86, 109],\n",
      "            'media_url': 'http://pbs.twimg.com/media/DGKD1-bXoAAIAUK.jpg',\n",
      "            'media_url_https': 'https://pbs.twimg.com/media/DGKD1-bXoAAIAUK.jpg',\n",
      "            'sizes': {'large': {'h': 528, 'resize': 'fit', 'w': 540},\n",
      "                      'medium': {'h': 528, 'resize': 'fit', 'w': 540},\n",
      "                      'small': {'h': 528, 'resize': 'fit', 'w': 540},\n",
      "                      'thumb': {'h': 150, 'resize': 'crop', 'w': 150}},\n",
      "            'type': 'photo',\n",
      "            'url': 'https://t.co/MgUWQ76dJU'}],\n",
      " 'symbols': [],\n",
      " 'urls': [],\n",
      " 'user_mentions': []}\n",
      "\n",
      "- columns #2 : extended_entities\n",
      "{'media': [{'display_url': 'pic.twitter.com/MgUWQ76dJU',\n",
      "            'expanded_url': 'https://twitter.com/dog_rates/status/892420643555336193/photo/1',\n",
      "            'id': 892420639486877696,\n",
      "            'id_str': '892420639486877696',\n",
      "            'indices': [86, 109],\n",
      "            'media_url': 'http://pbs.twimg.com/media/DGKD1-bXoAAIAUK.jpg',\n",
      "            'media_url_https': 'https://pbs.twimg.com/media/DGKD1-bXoAAIAUK.jpg',\n",
      "            'sizes': {'large': {'h': 528, 'resize': 'fit', 'w': 540},\n",
      "                      'medium': {'h': 528, 'resize': 'fit', 'w': 540},\n",
      "                      'small': {'h': 528, 'resize': 'fit', 'w': 540},\n",
      "                      'thumb': {'h': 150, 'resize': 'crop', 'w': 150}},\n",
      "            'type': 'photo',\n",
      "            'url': 'https://t.co/MgUWQ76dJU'}]}\n"
     ]
    }
   ],
   "source": [
    "## det check\n",
    "check_detail(tweetclean,detlist1)\n",
    "### not new info  -> drop"
   ]
  },
  {
   "cell_type": "code",
   "execution_count": 30,
   "metadata": {
    "ExecuteTime": {
     "end_time": "2019-06-10T08:05:11.647596Z",
     "start_time": "2019-06-10T08:05:11.636813Z"
    }
   },
   "outputs": [
    {
     "name": "stdout",
     "output_type": "stream",
     "text": [
      "---- proceding ----\n",
      "- drop 2 columns: ['entities', 'extended_entities'] \n",
      "- remain 7 columns\n",
      "- success : True\n"
     ]
    }
   ],
   "source": [
    "## droplist3\n",
    "droplist3 = detlist1.copy()\n",
    "\n",
    "## drop3 excute\n",
    "drop_column(tweetclean,droplist3)"
   ]
  },
  {
   "cell_type": "code",
   "execution_count": 31,
   "metadata": {
    "ExecuteTime": {
     "end_time": "2019-06-10T08:05:11.667237Z",
     "start_time": "2019-06-10T08:05:11.652508Z"
    }
   },
   "outputs": [
    {
     "data": {
      "text/plain": [
       "Index(['created_at', 'display_text_range', 'favorite_count', 'full_text', 'id',\n",
       "       'retweet_count', 'source'],\n",
       "      dtype='object')"
      ]
     },
     "execution_count": 31,
     "metadata": {},
     "output_type": "execute_result"
    }
   ],
   "source": [
    "tweetclean.columns"
   ]
  },
  {
   "cell_type": "markdown",
   "metadata": {},
   "source": [
    "#### /review/ quanlity\n",
    "根据数据删除剩余7列 ['created_at', 'display_text_range', 'favorite_count', 'full_text', 'id',\n",
    "       'retweet_count', 'source']\n",
    "- id 为标识列\n",
    "- created_at 包括时间、日期,可以进行时序分析\n",
    "- display_text_range 为文字长度\n",
    "- favorite_count 为点赞数\n",
    "- full_text 为文字内容\n",
    "- retweet_count 为回复数\n",
    "- source 为来源"
   ]
  },
  {
   "cell_type": "markdown",
   "metadata": {},
   "source": [
    "### / tidyness\n",
    "根据质量部分的输出,对于除id列之外的需要进行清洁度的整理\n",
    "- created_at 包括时间、日期,可以进行时序分析\n",
    "    - 转换为 datafame 的 datetime 格式\n",
    "- display_text_range 为文字长度\n",
    "    - 原格式为 [0-x] x实际为推文长度,需要提取 x\n",
    "    - 本列为非必须列,可以根据 full_text 得出回复长度\n",
    "- favorite_count 为点赞数\n",
    "    - 需要检查格式\n",
    "- full_text 为文字内容\n",
    "    - 暂不用处理,后续如果进行nlp的分析需要进行向量化\n",
    "- retweet_count 为回复数\n",
    "    - 需要检查格式\n",
    "- source 为来源\n",
    "    - 来源为链接,中间为发布信息的设备\n",
    "    - 需要使用 re 来完成提取\n",
    "    - 最后输出为分类信息"
   ]
  },
  {
   "cell_type": "markdown",
   "metadata": {},
   "source": [
    "### / copy df"
   ]
  },
  {
   "cell_type": "code",
   "execution_count": 32,
   "metadata": {
    "ExecuteTime": {
     "end_time": "2019-06-10T08:05:11.691783Z",
     "start_time": "2019-06-10T08:05:11.677577Z"
    }
   },
   "outputs": [
    {
     "name": "stdout",
     "output_type": "stream",
     "text": [
      "---- proceding ----\n",
      "- drop 1 columns: ['id'] \n",
      "- remain 6 columns\n",
      "- success : True\n"
     ]
    }
   ],
   "source": [
    "## df copy for cleaning\n",
    "tweettidy = tweetclean.copy()\n",
    "### id should retained for further identity usage\n",
    "### consider privacy and easy of proceed\n",
    "### delete in this project\n",
    "droplist4 = ['id']\n",
    "drop_column(tweettidy,droplist4)"
   ]
  },
  {
   "cell_type": "markdown",
   "metadata": {},
   "source": [
    "## 清理\n",
    "关于数据质量的问题,在上一节已经处理完成了,本节任务是完成数据整洁的问题\n",
    "\n",
    "### / missing data"
   ]
  },
  {
   "cell_type": "code",
   "execution_count": 33,
   "metadata": {
    "ExecuteTime": {
     "end_time": "2019-06-10T08:05:11.710823Z",
     "start_time": "2019-06-10T08:05:11.696203Z"
    }
   },
   "outputs": [
    {
     "data": {
      "text/plain": [
       "created_at            True\n",
       "display_text_range    True\n",
       "favorite_count        True\n",
       "full_text             True\n",
       "retweet_count         True\n",
       "source                True\n",
       "dtype: bool"
      ]
     },
     "execution_count": 33,
     "metadata": {},
     "output_type": "execute_result"
    }
   ],
   "source": [
    "# check missing\n",
    "tweettidy.notnull().all()\n",
    "## not any null data -> pass"
   ]
  },
  {
   "cell_type": "code",
   "execution_count": 34,
   "metadata": {
    "ExecuteTime": {
     "end_time": "2019-06-10T08:05:11.760262Z",
     "start_time": "2019-06-10T08:05:11.718140Z"
    }
   },
   "outputs": [
    {
     "data": {
      "text/html": [
       "<div>\n",
       "<style scoped>\n",
       "    .dataframe tbody tr th:only-of-type {\n",
       "        vertical-align: middle;\n",
       "    }\n",
       "\n",
       "    .dataframe tbody tr th {\n",
       "        vertical-align: top;\n",
       "    }\n",
       "\n",
       "    .dataframe thead th {\n",
       "        text-align: right;\n",
       "    }\n",
       "</style>\n",
       "<table border=\"1\" class=\"dataframe\">\n",
       "  <thead>\n",
       "    <tr style=\"text-align: right;\">\n",
       "      <th></th>\n",
       "      <th>favorite_count</th>\n",
       "      <th>retweet_count</th>\n",
       "    </tr>\n",
       "  </thead>\n",
       "  <tbody>\n",
       "    <tr>\n",
       "      <th>count</th>\n",
       "      <td>2352.000000</td>\n",
       "      <td>2352.000000</td>\n",
       "    </tr>\n",
       "    <tr>\n",
       "      <th>mean</th>\n",
       "      <td>8109.198980</td>\n",
       "      <td>3134.932398</td>\n",
       "    </tr>\n",
       "    <tr>\n",
       "      <th>std</th>\n",
       "      <td>11980.795669</td>\n",
       "      <td>5237.846296</td>\n",
       "    </tr>\n",
       "    <tr>\n",
       "      <th>min</th>\n",
       "      <td>0.000000</td>\n",
       "      <td>0.000000</td>\n",
       "    </tr>\n",
       "    <tr>\n",
       "      <th>25%</th>\n",
       "      <td>1417.000000</td>\n",
       "      <td>618.000000</td>\n",
       "    </tr>\n",
       "    <tr>\n",
       "      <th>50%</th>\n",
       "      <td>3596.500000</td>\n",
       "      <td>1456.500000</td>\n",
       "    </tr>\n",
       "    <tr>\n",
       "      <th>75%</th>\n",
       "      <td>10118.000000</td>\n",
       "      <td>3628.750000</td>\n",
       "    </tr>\n",
       "    <tr>\n",
       "      <th>max</th>\n",
       "      <td>132318.000000</td>\n",
       "      <td>79116.000000</td>\n",
       "    </tr>\n",
       "  </tbody>\n",
       "</table>\n",
       "</div>"
      ],
      "text/plain": [
       "       favorite_count  retweet_count\n",
       "count     2352.000000    2352.000000\n",
       "mean      8109.198980    3134.932398\n",
       "std      11980.795669    5237.846296\n",
       "min          0.000000       0.000000\n",
       "25%       1417.000000     618.000000\n",
       "50%       3596.500000    1456.500000\n",
       "75%      10118.000000    3628.750000\n",
       "max     132318.000000   79116.000000"
      ]
     },
     "execution_count": 34,
     "metadata": {},
     "output_type": "execute_result"
    }
   ],
   "source": [
    "# check describe\n",
    "tweettidy.describe()\n",
    "## both count do not have to change type\n",
    "## value seems ok"
   ]
  },
  {
   "cell_type": "code",
   "execution_count": 35,
   "metadata": {
    "ExecuteTime": {
     "end_time": "2019-06-10T08:05:11.784505Z",
     "start_time": "2019-06-10T08:05:11.764957Z"
    }
   },
   "outputs": [
    {
     "name": "stdout",
     "output_type": "stream",
     "text": [
      "<class 'pandas.core.frame.DataFrame'>\n",
      "RangeIndex: 2352 entries, 0 to 2351\n",
      "Data columns (total 6 columns):\n",
      "created_at            2352 non-null datetime64[ns]\n",
      "display_text_range    2352 non-null object\n",
      "favorite_count        2352 non-null int64\n",
      "full_text             2352 non-null object\n",
      "retweet_count         2352 non-null int64\n",
      "source                2352 non-null object\n",
      "dtypes: datetime64[ns](1), int64(2), object(3)\n",
      "memory usage: 110.3+ KB\n"
     ]
    }
   ],
   "source": [
    "# check info\n",
    "tweettidy.info()"
   ]
  },
  {
   "cell_type": "markdown",
   "metadata": {},
   "source": [
    "### / tidy data\n",
    "#### // created_at\n",
    "define: 将数据转换为时间格式\n",
    "- solution1 使用 dataframe 的 datatime 格式\n",
    "    - 数据本身为 datetime 格式\n",
    "    - 如果是时序的数据可以将时间转换为 index,非常方便筛选 https://chrisalbon.com/python/data_wrangling/pandas_time_series_basics/\n",
    "- (solution2 使用 python datatime 格式、calendar格式)"
   ]
  },
  {
   "cell_type": "code",
   "execution_count": 36,
   "metadata": {
    "ExecuteTime": {
     "end_time": "2019-06-10T08:05:11.796017Z",
     "start_time": "2019-06-10T08:05:11.789800Z"
    }
   },
   "outputs": [],
   "source": [
    "# code\n",
    "## convert to pandas datetime format\n"
   ]
  },
  {
   "cell_type": "code",
   "execution_count": 90,
   "metadata": {
    "ExecuteTime": {
     "end_time": "2019-06-10T23:13:05.738391Z",
     "start_time": "2019-06-10T23:13:05.728620Z"
    }
   },
   "outputs": [
    {
     "data": {
      "text/plain": [
       "1498   2016-01-26 17:50:29\n",
       "Name: created_at, dtype: datetime64[ns]"
      ]
     },
     "execution_count": 90,
     "metadata": {},
     "output_type": "execute_result"
    }
   ],
   "source": [
    "tweettidy.created_at.sample()"
   ]
  },
  {
   "cell_type": "code",
   "execution_count": null,
   "metadata": {},
   "outputs": [],
   "source": []
  },
  {
   "cell_type": "code",
   "execution_count": 37,
   "metadata": {
    "ExecuteTime": {
     "end_time": "2019-06-10T08:05:11.806956Z",
     "start_time": "2019-06-10T08:05:11.800127Z"
    }
   },
   "outputs": [],
   "source": [
    "## test\n"
   ]
  },
  {
   "cell_type": "markdown",
   "metadata": {},
   "source": [
    "#### // display_text_range\n",
    "define: 抽取出 text 的长度,存为整数\n",
    "- solution1 使用 python standard re lib\n",
    "    - 抽出字符\n",
    "    - 转换为 int"
   ]
  },
  {
   "cell_type": "code",
   "execution_count": 38,
   "metadata": {
    "ExecuteTime": {
     "end_time": "2019-06-10T08:05:11.955586Z",
     "start_time": "2019-06-10T08:05:11.948502Z"
    }
   },
   "outputs": [],
   "source": [
    "# code\n",
    "## extract str\n"
   ]
  },
  {
   "cell_type": "code",
   "execution_count": 39,
   "metadata": {
    "ExecuteTime": {
     "end_time": "2019-06-10T08:05:11.973010Z",
     "start_time": "2019-06-10T08:05:11.967006Z"
    }
   },
   "outputs": [],
   "source": [
    "## convert to int"
   ]
  },
  {
   "cell_type": "code",
   "execution_count": 40,
   "metadata": {
    "ExecuteTime": {
     "end_time": "2019-06-10T08:05:11.984010Z",
     "start_time": "2019-06-10T08:05:11.978158Z"
    }
   },
   "outputs": [],
   "source": [
    "## test"
   ]
  },
  {
   "cell_type": "markdown",
   "metadata": {},
   "source": [
    "#### // full_text\n",
    "define:\n",
    "- 每个评价后面都有一个分值和链接 11/10 https://t.co/8W5iSOgXfx\n",
    "- 评分为 10/10 或 11/10,没找到说明, 链接科学上网也不能访问\n",
    "- 需要删除后保存\n",
    "- 此处不做处理,词云的制作最后再做"
   ]
  },
  {
   "cell_type": "code",
   "execution_count": 78,
   "metadata": {
    "ExecuteTime": {
     "end_time": "2019-06-10T08:11:18.393618Z",
     "start_time": "2019-06-10T08:11:18.388979Z"
    }
   },
   "outputs": [],
   "source": [
    "# code\n",
    "## extract str\n"
   ]
  },
  {
   "cell_type": "code",
   "execution_count": null,
   "metadata": {},
   "outputs": [],
   "source": [
    "## test"
   ]
  },
  {
   "cell_type": "markdown",
   "metadata": {},
   "source": [
    "#### // source\n",
    "define: 抽取出发 tweet 使用的设备\n",
    "    - 信息是这样的 <a href=\"http://twitter.com/download/iphone\" rel=\"nofollow\">Twitter for iPhone</a>\n",
    "    - 需要抽取出 `Twitter for iPhone`, 并定义分类为 iphone\n",
    "    - 将本列做成分类数据"
   ]
  },
  {
   "cell_type": "code",
   "execution_count": 79,
   "metadata": {
    "ExecuteTime": {
     "end_time": "2019-06-10T08:17:05.998561Z",
     "start_time": "2019-06-10T08:17:05.993483Z"
    }
   },
   "outputs": [],
   "source": [
    "# code\n",
    "## extract str\n"
   ]
  },
  {
   "cell_type": "code",
   "execution_count": 80,
   "metadata": {
    "ExecuteTime": {
     "end_time": "2019-06-10T08:17:14.642007Z",
     "start_time": "2019-06-10T08:17:14.638872Z"
    }
   },
   "outputs": [],
   "source": [
    "## test"
   ]
  },
  {
   "cell_type": "markdown",
   "metadata": {},
   "source": [
    "### / polishing data\n",
    "最终对数据进行检查和调整,生成最终的数据\n",
    "\n",
    "#### // (word clouding data generate)"
   ]
  },
  {
   "cell_type": "code",
   "execution_count": 81,
   "metadata": {
    "ExecuteTime": {
     "end_time": "2019-06-10T08:23:49.508952Z",
     "start_time": "2019-06-10T08:23:49.505514Z"
    }
   },
   "outputs": [],
   "source": [
    "# code\n",
    "## extract str\n"
   ]
  },
  {
   "cell_type": "code",
   "execution_count": 82,
   "metadata": {
    "ExecuteTime": {
     "end_time": "2019-06-10T08:23:58.349783Z",
     "start_time": "2019-06-10T08:23:58.345836Z"
    }
   },
   "outputs": [],
   "source": [
    "## test"
   ]
  },
  {
   "cell_type": "markdown",
   "metadata": {},
   "source": [
    "#### // finial data check"
   ]
  },
  {
   "cell_type": "code",
   "execution_count": 83,
   "metadata": {
    "ExecuteTime": {
     "end_time": "2019-06-10T08:24:31.132501Z",
     "start_time": "2019-06-10T08:24:31.129205Z"
    }
   },
   "outputs": [],
   "source": [
    "# code\n",
    "## extract str\n"
   ]
  },
  {
   "cell_type": "markdown",
   "metadata": {},
   "source": [
    "#### // save df"
   ]
  },
  {
   "cell_type": "code",
   "execution_count": 84,
   "metadata": {
    "ExecuteTime": {
     "end_time": "2019-06-10T08:25:08.065561Z",
     "start_time": "2019-06-10T08:25:08.062531Z"
    }
   },
   "outputs": [],
   "source": [
    "# code\n",
    "## extract str"
   ]
  },
  {
   "cell_type": "markdown",
   "metadata": {},
   "source": [
    "## 可视化\n",
    "\n",
    "### / data visulization\n"
   ]
  },
  {
   "cell_type": "code",
   "execution_count": 85,
   "metadata": {
    "ExecuteTime": {
     "end_time": "2019-06-10T08:26:11.278087Z",
     "start_time": "2019-06-10T08:26:11.274527Z"
    }
   },
   "outputs": [],
   "source": [
    "# code\n",
    "## extract str\n"
   ]
  },
  {
   "cell_type": "markdown",
   "metadata": {},
   "source": [
    "### / data interact visulization"
   ]
  },
  {
   "cell_type": "code",
   "execution_count": 86,
   "metadata": {
    "ExecuteTime": {
     "end_time": "2019-06-10T08:26:50.446845Z",
     "start_time": "2019-06-10T08:26:50.443824Z"
    }
   },
   "outputs": [],
   "source": [
    "# code\n",
    "## extract str\n"
   ]
  },
  {
   "cell_type": "markdown",
   "metadata": {},
   "source": [
    "### / word cloud generate"
   ]
  },
  {
   "cell_type": "code",
   "execution_count": 87,
   "metadata": {
    "ExecuteTime": {
     "end_time": "2019-06-10T08:28:25.892533Z",
     "start_time": "2019-06-10T08:28:25.889199Z"
    }
   },
   "outputs": [],
   "source": [
    "# code\n",
    "## extract str\n"
   ]
  },
  {
   "cell_type": "markdown",
   "metadata": {},
   "source": [
    "## 结论"
   ]
  },
  {
   "cell_type": "code",
   "execution_count": null,
   "metadata": {},
   "outputs": [],
   "source": []
  }
 ],
 "metadata": {
  "hide_input": false,
  "kernelspec": {
   "display_name": "Python 3",
   "language": "python",
   "name": "python3"
  },
  "language_info": {
   "codemirror_mode": {
    "name": "ipython",
    "version": 3
   },
   "file_extension": ".py",
   "mimetype": "text/x-python",
   "name": "python",
   "nbconvert_exporter": "python",
   "pygments_lexer": "ipython3",
   "version": "3.6.7"
  },
  "toc": {
   "base_numbering": 1,
   "nav_menu": {},
   "number_sections": true,
   "sideBar": true,
   "skip_h1_title": true,
   "title_cell": "Table of Contents",
   "title_sidebar": "Contents",
   "toc_cell": false,
   "toc_position": {
    "height": "calc(100% - 180px)",
    "left": "10px",
    "top": "150px",
    "width": "167px"
   },
   "toc_section_display": true,
   "toc_window_display": true
  },
  "varInspector": {
   "cols": {
    "lenName": 16,
    "lenType": 16,
    "lenVar": 40
   },
   "kernels_config": {
    "python": {
     "delete_cmd_postfix": "",
     "delete_cmd_prefix": "del ",
     "library": "var_list.py",
     "varRefreshCmd": "print(var_dic_list())"
    },
    "r": {
     "delete_cmd_postfix": ") ",
     "delete_cmd_prefix": "rm(",
     "library": "var_list.r",
     "varRefreshCmd": "cat(var_dic_list()) "
    }
   },
   "types_to_exclude": [
    "module",
    "function",
    "builtin_function_or_method",
    "instance",
    "_Feature"
   ],
   "window_display": false
  }
 },
 "nbformat": 4,
 "nbformat_minor": 2
}
