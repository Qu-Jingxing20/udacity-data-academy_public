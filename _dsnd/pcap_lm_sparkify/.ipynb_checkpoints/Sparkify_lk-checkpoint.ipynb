{
 "cells": [
  {
   "cell_type": "markdown",
   "metadata": {},
   "source": [
    "# Sparkify Project Workspace\n",
    "This workspace contains a tiny subset (128MB) of the full dataset available (12GB). Feel free to use this workspace to build your project, or to explore a smaller subset with Spark before deploying your cluster on the cloud. Instructions for setting up your Spark cluster is included in the last lesson of the Extracurricular Spark Course content.\n",
    "\n",
    "You can follow the steps below to guide your data analysis and model building portion of this project."
   ]
  },
  {
   "cell_type": "code",
   "execution_count": 1,
   "metadata": {
    "ExecuteTime": {
     "end_time": "2019-11-13T04:10:54.147985Z",
     "start_time": "2019-11-13T04:10:50.294314Z"
    }
   },
   "outputs": [],
   "source": [
    "# import libraries\n",
    "import pandas as pd\n",
    "import numpy as np\n",
    "import seaborn as sns\n",
    "from pyspark.sql import SparkSession\n",
    "from pyspark.sql.functions import *\n",
    "from pyspark.ml.feature import OneHotEncoderEstimator, StringIndexer\n",
    "from pyspark.ml.feature import VectorAssembler,StandardScaler\n",
    "from pyspark.ml.classification import LogisticRegression\n",
    "from pyspark.ml.classification import RandomForestClassifier\n",
    "from pyspark.ml.evaluation import BinaryClassificationEvaluator"
   ]
  },
  {
   "cell_type": "code",
   "execution_count": 2,
   "metadata": {
    "ExecuteTime": {
     "end_time": "2019-11-13T04:10:58.182499Z",
     "start_time": "2019-11-13T04:10:54.151098Z"
    }
   },
   "outputs": [],
   "source": [
    "# create a Spark session\n",
    "spark = SparkSession.builder.getOrCreate()"
   ]
  },
  {
   "cell_type": "markdown",
   "metadata": {},
   "source": [
    "# Load and Clean Dataset\n",
    "In this workspace, the mini-dataset file is `mini_sparkify_event_data.json`. Load and clean the dataset, checking for invalid or missing data - for example, records without userids or sessionids. "
   ]
  },
  {
   "cell_type": "code",
   "execution_count": 3,
   "metadata": {
    "ExecuteTime": {
     "end_time": "2019-11-13T04:11:13.400232Z",
     "start_time": "2019-11-13T04:10:58.188901Z"
    }
   },
   "outputs": [],
   "source": [
    "df = spark.read.json('mini_sparkify_event_data.json.bz2')"
   ]
  },
  {
   "cell_type": "markdown",
   "metadata": {},
   "source": [
    "# Exploratory Data Analysis\n",
    "When you're working with the full dataset, perform EDA by loading a small subset of the data and doing basic manipulations within Spark. In this workspace, you are already provided a small subset of data you can explore.\n",
    "\n",
    "### Define Churn\n",
    "\n",
    "Once you've done some preliminary analysis, create a column `Churn` to use as the label for your model. I suggest using the `Cancellation Confirmation` events to define your churn, which happen for both paid and free users. As a bonus task, you can also look into the `Downgrade` events.\n",
    "\n",
    "### Explore Data\n",
    "Once you've defined churn, perform some exploratory data analysis to observe the behavior for users who stayed vs users who churned. You can start by exploring aggregates on these two groups of users, observing how much of a specific action they experienced per a certain time unit or number of songs played."
   ]
  },
  {
   "cell_type": "code",
   "execution_count": 4,
   "metadata": {
    "ExecuteTime": {
     "end_time": "2019-11-13T04:11:13.837141Z",
     "start_time": "2019-11-13T04:11:13.404276Z"
    }
   },
   "outputs": [],
   "source": [
    "#Defin Churn\n",
    "df = df.withColumn('churn', when((df.page == 'Cancellation Confirmation') | (df.page == 'Downgrade'), 1 ).otherwise(0))"
   ]
  },
  {
   "cell_type": "code",
   "execution_count": 5,
   "metadata": {
    "ExecuteTime": {
     "end_time": "2019-11-13T04:11:13.854761Z",
     "start_time": "2019-11-13T04:11:13.840941Z"
    }
   },
   "outputs": [
    {
     "data": {
      "text/plain": [
       "['artist',\n",
       " 'auth',\n",
       " 'firstName',\n",
       " 'gender',\n",
       " 'itemInSession',\n",
       " 'lastName',\n",
       " 'length',\n",
       " 'level',\n",
       " 'location',\n",
       " 'method',\n",
       " 'page',\n",
       " 'registration',\n",
       " 'sessionId',\n",
       " 'song',\n",
       " 'status',\n",
       " 'ts',\n",
       " 'userAgent',\n",
       " 'userId',\n",
       " 'churn']"
      ]
     },
     "execution_count": 5,
     "metadata": {},
     "output_type": "execute_result"
    }
   ],
   "source": [
    "df.columns"
   ]
  },
  {
   "cell_type": "code",
   "execution_count": 6,
   "metadata": {
    "ExecuteTime": {
     "end_time": "2019-11-13T04:11:14.734898Z",
     "start_time": "2019-11-13T04:11:13.858428Z"
    }
   },
   "outputs": [
    {
     "name": "stdout",
     "output_type": "stream",
     "text": [
      "+----------------+---------+---------+------+-------------+--------+---------+-----+------------------------------+------+--------+-------------+---------+-----------------------------+------+-------------+---------------------------------------------------------------------------------------------------------------+------+-----+\n",
      "|artist          |auth     |firstName|gender|itemInSession|lastName|length   |level|location                      |method|page    |registration |sessionId|song                         |status|ts           |userAgent                                                                                                      |userId|churn|\n",
      "+----------------+---------+---------+------+-------------+--------+---------+-----+------------------------------+------+--------+-------------+---------+-----------------------------+------+-------------+---------------------------------------------------------------------------------------------------------------+------+-----+\n",
      "|Martha Tilston  |Logged In|Colin    |M     |50           |Freeman |277.89016|paid |Bakersfield, CA               |PUT   |NextSong|1538173362000|29       |Rockpools                    |200   |1538352117000|Mozilla/5.0 (Windows NT 6.1; WOW64; rv:31.0) Gecko/20100101 Firefox/31.0                                       |30    |0    |\n",
      "|Five Iron Frenzy|Logged In|Micah    |M     |79           |Long    |236.09424|free |Boston-Cambridge-Newton, MA-NH|PUT   |NextSong|1538331630000|8        |Canada                       |200   |1538352180000|\"Mozilla/5.0 (Windows NT 6.1; WOW64) AppleWebKit/537.36 (KHTML, like Gecko) Chrome/37.0.2062.103 Safari/537.36\"|9     |0    |\n",
      "|Adam Lambert    |Logged In|Colin    |M     |51           |Freeman |282.8273 |paid |Bakersfield, CA               |PUT   |NextSong|1538173362000|29       |Time For Miracles            |200   |1538352394000|Mozilla/5.0 (Windows NT 6.1; WOW64; rv:31.0) Gecko/20100101 Firefox/31.0                                       |30    |0    |\n",
      "|Enigma          |Logged In|Micah    |M     |80           |Long    |262.71302|free |Boston-Cambridge-Newton, MA-NH|PUT   |NextSong|1538331630000|8        |Knocking On Forbidden Doors  |200   |1538352416000|\"Mozilla/5.0 (Windows NT 6.1; WOW64) AppleWebKit/537.36 (KHTML, like Gecko) Chrome/37.0.2062.103 Safari/537.36\"|9     |0    |\n",
      "|Daft Punk       |Logged In|Colin    |M     |52           |Freeman |223.60771|paid |Bakersfield, CA               |PUT   |NextSong|1538173362000|29       |Harder Better Faster Stronger|200   |1538352676000|Mozilla/5.0 (Windows NT 6.1; WOW64; rv:31.0) Gecko/20100101 Firefox/31.0                                       |30    |0    |\n",
      "+----------------+---------+---------+------+-------------+--------+---------+-----+------------------------------+------+--------+-------------+---------+-----------------------------+------+-------------+---------------------------------------------------------------------------------------------------------------+------+-----+\n",
      "only showing top 5 rows\n",
      "\n"
     ]
    }
   ],
   "source": [
    "#Explore Data\n",
    "df.show(5, truncate = False)"
   ]
  },
  {
   "cell_type": "code",
   "execution_count": 7,
   "metadata": {
    "ExecuteTime": {
     "end_time": "2019-11-13T04:11:14.759014Z",
     "start_time": "2019-11-13T04:11:14.741964Z"
    }
   },
   "outputs": [
    {
     "name": "stdout",
     "output_type": "stream",
     "text": [
      "root\n",
      " |-- artist: string (nullable = true)\n",
      " |-- auth: string (nullable = true)\n",
      " |-- firstName: string (nullable = true)\n",
      " |-- gender: string (nullable = true)\n",
      " |-- itemInSession: long (nullable = true)\n",
      " |-- lastName: string (nullable = true)\n",
      " |-- length: double (nullable = true)\n",
      " |-- level: string (nullable = true)\n",
      " |-- location: string (nullable = true)\n",
      " |-- method: string (nullable = true)\n",
      " |-- page: string (nullable = true)\n",
      " |-- registration: long (nullable = true)\n",
      " |-- sessionId: long (nullable = true)\n",
      " |-- song: string (nullable = true)\n",
      " |-- status: long (nullable = true)\n",
      " |-- ts: long (nullable = true)\n",
      " |-- userAgent: string (nullable = true)\n",
      " |-- userId: string (nullable = true)\n",
      " |-- churn: integer (nullable = false)\n",
      "\n"
     ]
    }
   ],
   "source": [
    "#PringSchema\n",
    "df.printSchema()"
   ]
  },
  {
   "cell_type": "code",
   "execution_count": 8,
   "metadata": {
    "ExecuteTime": {
     "end_time": "2019-11-13T04:11:24.833827Z",
     "start_time": "2019-11-13T04:11:14.764492Z"
    }
   },
   "outputs": [
    {
     "name": "stdout",
     "output_type": "stream",
     "text": [
      "+------+----+---------+------+-------------+--------+------+-----+--------+------+----+------------+---------+-----+------+---+---------+------+-----+\n",
      "|artist|auth|firstName|gender|itemInSession|lastName|length|level|location|method|page|registration|sessionId| song|status| ts|userAgent|userId|churn|\n",
      "+------+----+---------+------+-------------+--------+------+-----+--------+------+----+------------+---------+-----+------+---+---------+------+-----+\n",
      "| 58392|   0|     8346|  8346|            0|    8346| 58392|    0|    8346|     0|   0|        8346|        0|58392|     0|  0|     8346|     0|    0|\n",
      "+------+----+---------+------+-------------+--------+------+-----+--------+------+----+------------+---------+-----+------+---+---------+------+-----+\n",
      "\n"
     ]
    }
   ],
   "source": [
    "#count the missing value in the dateframe\n",
    "df.select([count(when(isnull(c), c)).alias(c) for c in df.columns]).show()"
   ]
  },
  {
   "cell_type": "code",
   "execution_count": 9,
   "metadata": {
    "ExecuteTime": {
     "end_time": "2019-11-13T04:11:35.281097Z",
     "start_time": "2019-11-13T04:11:24.845625Z"
    }
   },
   "outputs": [
    {
     "data": {
      "text/plain": [
       "<matplotlib.axes._subplots.AxesSubplot at 0x1a224e8358>"
      ]
     },
     "execution_count": 9,
     "metadata": {},
     "output_type": "execute_result"
    },
    {
     "data": {
      "image/png": "[encoded data removed]",
      "text/plain": [
       "<Figure size 432x288 with 1 Axes>"
      ]
     },
     "metadata": {
      "needs_background": "light"
     },
     "output_type": "display_data"
    }
   ],
   "source": [
    "#numeric data visual \n",
    "df_pandas = df.select('length').toPandas()\n",
    "df_pandas.plot(kind = 'hist', bins = 300)"
   ]
  },
  {
   "cell_type": "markdown",
   "metadata": {},
   "source": [
    "# Feature Engineering\n",
    "Once you've familiarized yourself with the data, build out the features you find promising to train your model on. To work with the full dataset, you can follow the following steps.\n",
    "- Write a script to extract the necessary features from the smaller subset of data\n",
    "- Ensure that your script is scalable, using the best practices discussed in Lesson 3\n",
    "- Try your script on the full data set, debugging your script if necessary\n",
    "\n",
    "If you are working in the classroom workspace, you can just extract features based on the small subset of data contained here. Be sure to transfer over this work to the larger dataset when you work on your Spark cluster."
   ]
  },
  {
   "cell_type": "markdown",
   "metadata": {},
   "source": [
    "## New numeric features"
   ]
  },
  {
   "cell_type": "code",
   "execution_count": 10,
   "metadata": {
    "ExecuteTime": {
     "end_time": "2019-11-13T04:11:35.363860Z",
     "start_time": "2019-11-13T04:11:35.284955Z"
    }
   },
   "outputs": [],
   "source": [
    "# number of played songs by each user\n",
    "total_played_items_by_user = df.groupBy('userId').agg(countDistinct('itemInSession').alias('number_of_played_songs'))"
   ]
  },
  {
   "cell_type": "code",
   "execution_count": 11,
   "metadata": {
    "ExecuteTime": {
     "end_time": "2019-11-13T04:11:51.713373Z",
     "start_time": "2019-11-13T04:11:35.366828Z"
    }
   },
   "outputs": [
    {
     "name": "stdout",
     "output_type": "stream",
     "text": [
      "+------+----------------------+\n",
      "|userId|number_of_played_songs|\n",
      "+------+----------------------+\n",
      "|100010|                   112|\n",
      "|200002|                   158|\n",
      "|   125|                    11|\n",
      "|    51|                   613|\n",
      "|   124|                   531|\n",
      "+------+----------------------+\n",
      "only showing top 5 rows\n",
      "\n"
     ]
    }
   ],
   "source": [
    "total_played_items_by_user.show(5)"
   ]
  },
  {
   "cell_type": "code",
   "execution_count": 50,
   "metadata": {
    "ExecuteTime": {
     "end_time": "2019-11-13T04:53:40.916837Z",
     "start_time": "2019-11-13T04:53:40.850360Z"
    }
   },
   "outputs": [
    {
     "name": "stdout",
     "output_type": "stream",
     "text": [
      "root\n",
      " |-- userId: string (nullable = true)\n",
      " |-- number_of_played_songs: long (nullable = false)\n",
      "\n"
     ]
    }
   ],
   "source": [
    "total_played_items_by_user.printSchema()"
   ]
  },
  {
   "cell_type": "code",
   "execution_count": 12,
   "metadata": {
    "ExecuteTime": {
     "end_time": "2019-11-13T04:11:51.779575Z",
     "start_time": "2019-11-13T04:11:51.718023Z"
    }
   },
   "outputs": [],
   "source": [
    "#Total played time by each user\n",
    "total_played_time_by_user = df.groupBy('userId').agg(sum('length').alias('total_play_time'))"
   ]
  },
  {
   "cell_type": "code",
   "execution_count": 13,
   "metadata": {
    "ExecuteTime": {
     "end_time": "2019-11-13T04:11:57.643803Z",
     "start_time": "2019-11-13T04:11:51.783251Z"
    }
   },
   "outputs": [
    {
     "name": "stdout",
     "output_type": "stream",
     "text": [
      "+------+------------------+\n",
      "|userId|   total_play_time|\n",
      "+------+------------------+\n",
      "|100010| 66940.89735000003|\n",
      "|200002| 94008.87593999993|\n",
      "|   125|2089.1131000000005|\n",
      "|    51| 523275.8428000004|\n",
      "|   124|     1012312.09279|\n",
      "+------+------------------+\n",
      "only showing top 5 rows\n",
      "\n"
     ]
    },
    {
     "data": {
      "text/plain": [
       "(None, [('userId', 'string'), ('total_play_time', 'double')])"
      ]
     },
     "execution_count": 13,
     "metadata": {},
     "output_type": "execute_result"
    }
   ],
   "source": [
    "total_played_time_by_user.show(5),total_played_time_by_user.dtypes"
   ]
  },
  {
   "cell_type": "code",
   "execution_count": 14,
   "metadata": {
    "ExecuteTime": {
     "end_time": "2019-11-13T04:11:57.751866Z",
     "start_time": "2019-11-13T04:11:57.673024Z"
    }
   },
   "outputs": [],
   "source": [
    "#Total number of sessions by each user\n",
    "total_played_sessions_by_user = df.groupBy('userId').agg(countDistinct('sessionId').alias('number_of_sessions'))"
   ]
  },
  {
   "cell_type": "code",
   "execution_count": 15,
   "metadata": {
    "ExecuteTime": {
     "end_time": "2019-11-13T04:12:06.501690Z",
     "start_time": "2019-11-13T04:11:57.756518Z"
    }
   },
   "outputs": [
    {
     "name": "stdout",
     "output_type": "stream",
     "text": [
      "+------+------------------+\n",
      "|userId|number_of_sessions|\n",
      "+------+------------------+\n",
      "|100010|                 7|\n",
      "|200002|                 6|\n",
      "|   125|                 1|\n",
      "|    51|                10|\n",
      "|   124|                29|\n",
      "+------+------------------+\n",
      "only showing top 5 rows\n",
      "\n"
     ]
    }
   ],
   "source": [
    "total_played_sessions_by_user.show(5)"
   ]
  },
  {
   "cell_type": "code",
   "execution_count": 16,
   "metadata": {
    "ExecuteTime": {
     "end_time": "2019-11-13T04:12:06.555358Z",
     "start_time": "2019-11-13T04:12:06.509977Z"
    }
   },
   "outputs": [],
   "source": [
    "#Create user df\n",
    "user_df = df.select('churn', 'userId')\n",
    "user_df = user_df.dropDuplicates()"
   ]
  },
  {
   "cell_type": "code",
   "execution_count": 17,
   "metadata": {
    "ExecuteTime": {
     "end_time": "2019-11-13T04:12:06.703094Z",
     "start_time": "2019-11-13T04:12:06.564437Z"
    }
   },
   "outputs": [],
   "source": [
    "#Joined all these dataframes\n",
    "numeric_df = user_df.join(total_played_items_by_user, ['userId'], how= 'left').\\\n",
    "                            join(total_played_time_by_user, ['userId'], how='left').\\\n",
    "                            join(total_played_sessions_by_user, ['userId'], how='left')"
   ]
  },
  {
   "cell_type": "code",
   "execution_count": 18,
   "metadata": {
    "ExecuteTime": {
     "end_time": "2019-11-13T04:12:38.630249Z",
     "start_time": "2019-11-13T04:12:06.706379Z"
    }
   },
   "outputs": [
    {
     "name": "stdout",
     "output_type": "stream",
     "text": [
      "+------+-----+----------------------+-----------------+------------------+\n",
      "|userId|churn|number_of_played_songs|  total_play_time|number_of_sessions|\n",
      "+------+-----+----------------------+-----------------+------------------+\n",
      "|200002|    1|                   158|94008.87593999993|                 6|\n",
      "|200002|    0|                   158|94008.87593999993|                 6|\n",
      "+------+-----+----------------------+-----------------+------------------+\n",
      "\n"
     ]
    }
   ],
   "source": [
    "#user may have two churn values, as it might use the app first, then cancle the service. \n",
    "numeric_df.filter(numeric_df.userId == 200002).show()"
   ]
  },
  {
   "cell_type": "code",
   "execution_count": 19,
   "metadata": {
    "ExecuteTime": {
     "end_time": "2019-11-13T04:12:38.694375Z",
     "start_time": "2019-11-13T04:12:38.633790Z"
    }
   },
   "outputs": [],
   "source": [
    "#for these users, we will only keep the cancle records. \n",
    "#order the dataframe\n",
    "numeric_df = numeric_df.sort(desc('churn'))\n",
    "#drop the duplicates and keep the first occurance\n",
    "numeric_df = numeric_df.dropDuplicates(subset=['userId'])"
   ]
  },
  {
   "cell_type": "code",
   "execution_count": 20,
   "metadata": {
    "ExecuteTime": {
     "end_time": "2019-11-13T04:13:12.809964Z",
     "start_time": "2019-11-13T04:12:38.704101Z"
    }
   },
   "outputs": [
    {
     "name": "stdout",
     "output_type": "stream",
     "text": [
      "+------+-----+----------------------+-----------------+------------------+\n",
      "|userId|churn|number_of_played_songs|  total_play_time|number_of_sessions|\n",
      "+------+-----+----------------------+-----------------+------------------+\n",
      "|200002|    1|                   158|94008.87593999993|                 6|\n",
      "+------+-----+----------------------+-----------------+------------------+\n",
      "\n"
     ]
    }
   ],
   "source": [
    "#validate again if there are duplicates\n",
    "numeric_df.filter(numeric_df.userId == 200002).show()"
   ]
  },
  {
   "cell_type": "code",
   "execution_count": 21,
   "metadata": {
    "ExecuteTime": {
     "end_time": "2019-11-13T04:13:12.847841Z",
     "start_time": "2019-11-13T04:13:12.814067Z"
    }
   },
   "outputs": [],
   "source": [
    "# Add new colum for average play time per session\n",
    "numeric_df = numeric_df.withColumn('average_play_time_per_session_by_user', numeric_df.total_play_time / numeric_df.number_of_sessions)"
   ]
  },
  {
   "cell_type": "code",
   "execution_count": 22,
   "metadata": {
    "ExecuteTime": {
     "end_time": "2019-11-13T04:13:12.987273Z",
     "start_time": "2019-11-13T04:13:12.854302Z"
    }
   },
   "outputs": [],
   "source": [
    "#fill na with 0\n",
    "numeric_df = numeric_df.na.fill(0.0)"
   ]
  },
  {
   "cell_type": "code",
   "execution_count": 23,
   "metadata": {
    "ExecuteTime": {
     "end_time": "2019-11-13T04:13:13.020145Z",
     "start_time": "2019-11-13T04:13:13.000793Z"
    }
   },
   "outputs": [
    {
     "data": {
      "text/plain": [
       "[('userId', 'string'),\n",
       " ('churn', 'int'),\n",
       " ('number_of_played_songs', 'bigint'),\n",
       " ('total_play_time', 'double'),\n",
       " ('number_of_sessions', 'bigint'),\n",
       " ('average_play_time_per_session_by_user', 'double')]"
      ]
     },
     "execution_count": 23,
     "metadata": {},
     "output_type": "execute_result"
    }
   ],
   "source": [
    "numeric_df.dtypes"
   ]
  },
  {
   "cell_type": "markdown",
   "metadata": {},
   "source": [
    "## Categorical Features"
   ]
  },
  {
   "cell_type": "code",
   "execution_count": 24,
   "metadata": {
    "ExecuteTime": {
     "end_time": "2019-11-13T04:13:13.072893Z",
     "start_time": "2019-11-13T04:13:13.026490Z"
    }
   },
   "outputs": [],
   "source": [
    "#select default categorical features\n",
    "cate_df = df.select('userId', 'gender', 'level', 'location')"
   ]
  },
  {
   "cell_type": "code",
   "execution_count": 25,
   "metadata": {
    "ExecuteTime": {
     "end_time": "2019-11-13T04:13:13.158007Z",
     "start_time": "2019-11-13T04:13:13.076216Z"
    }
   },
   "outputs": [],
   "source": [
    "#split location into two new columns, location and country\n",
    "cate_df = cate_df.withColumn('location_list', split(df['location'], ','))\n",
    "cate_df = cate_df.withColumn('location', cate_df.location_list[0])\n",
    "cate_df = cate_df.withColumn('country', cate_df.location_list[1]).drop('location_list')"
   ]
  },
  {
   "cell_type": "code",
   "execution_count": 26,
   "metadata": {
    "ExecuteTime": {
     "end_time": "2019-11-13T04:13:13.217802Z",
     "start_time": "2019-11-13T04:13:13.178539Z"
    }
   },
   "outputs": [],
   "source": [
    "#drop duplicates\n",
    "cate_df = cate_df.dropDuplicates(subset=['userId']).dropna()"
   ]
  },
  {
   "cell_type": "code",
   "execution_count": 27,
   "metadata": {
    "ExecuteTime": {
     "end_time": "2019-11-13T04:13:22.077750Z",
     "start_time": "2019-11-13T04:13:13.223641Z"
    }
   },
   "outputs": [
    {
     "data": {
      "text/plain": [
       "225"
      ]
     },
     "execution_count": 27,
     "metadata": {},
     "output_type": "execute_result"
    }
   ],
   "source": [
    "cate_df.count()"
   ]
  },
  {
   "cell_type": "code",
   "execution_count": 28,
   "metadata": {
    "ExecuteTime": {
     "end_time": "2019-11-13T04:13:29.168439Z",
     "start_time": "2019-11-13T04:13:22.082625Z"
    }
   },
   "outputs": [
    {
     "name": "stdout",
     "output_type": "stream",
     "text": [
      "+------+------+-----+--------------------+---------+\n",
      "|userId|gender|level|            location|  country|\n",
      "+------+------+-----+--------------------+---------+\n",
      "|100010|     F| free|Bridgeport-Stamfo...|       CT|\n",
      "|200002|     M| free|Chicago-Napervill...| IL-IN-WI|\n",
      "|   125|     M| free|      Corpus Christi|       TX|\n",
      "|   124|     F| paid|  Vineland-Bridgeton|       NJ|\n",
      "|    51|     M| paid|   Lexington-Fayette|       KY|\n",
      "|     7|     M| free|Seattle-Tacoma-Be...|       WA|\n",
      "|    15|     M| paid|          Morgantown|       WV|\n",
      "|    54|     F| paid|Spokane-Spokane V...|       WA|\n",
      "|   155|     F| free|Boston-Cambridge-...|    MA-NH|\n",
      "|100014|     M| paid|New York-Newark-J...| NY-NJ-PA|\n",
      "|   132|     F| free|Denver-Aurora-Lak...|       CO|\n",
      "|   154|     F| free|New York-Newark-J...| NY-NJ-PA|\n",
      "|   101|     M| free|Denver-Aurora-Lak...|       CO|\n",
      "|    11|     F| free|  Providence-Warwick|    RI-MA|\n",
      "|   138|     M| free|New York-Newark-J...| NY-NJ-PA|\n",
      "|300017|     F| paid|               Ionia|       MI|\n",
      "|100021|     M| free|Dallas-Fort Worth...|       TX|\n",
      "|    29|     M| free|Los Angeles-Long ...|       CA|\n",
      "|    69|     F| free|Milwaukee-Waukesh...|       WI|\n",
      "|   112|     M| free|              Muncie|       IN|\n",
      "+------+------+-----+--------------------+---------+\n",
      "only showing top 20 rows\n",
      "\n"
     ]
    }
   ],
   "source": [
    "cate_df.show()"
   ]
  },
  {
   "cell_type": "code",
   "execution_count": 29,
   "metadata": {
    "ExecuteTime": {
     "end_time": "2019-11-13T04:14:02.477994Z",
     "start_time": "2019-11-13T04:13:29.174855Z"
    }
   },
   "outputs": [],
   "source": [
    "# convert all the categorical features into nurmeric\n",
    "\n",
    "cate_feat = ['gender', 'level', 'location', 'country']\n",
    "\n",
    "for f in cate_feat:\n",
    "    stringIndexer = StringIndexer(inputCol=f, outputCol=f + \"Index\")\n",
    "    encoder = OneHotEncoderEstimator(inputCols=[stringIndexer.getOutputCol()],\n",
    "                                     outputCols=[f + \"classVec\"])\n",
    "    model = stringIndexer.fit(cate_df)\n",
    "    cate_df = model.transform(cate_df)\n"
   ]
  },
  {
   "cell_type": "code",
   "execution_count": 30,
   "metadata": {
    "ExecuteTime": {
     "end_time": "2019-11-13T04:14:02.502096Z",
     "start_time": "2019-11-13T04:14:02.481320Z"
    }
   },
   "outputs": [],
   "source": [
    "#drop original categorical features\n",
    "cate_df = cate_df.drop(*cate_feat)"
   ]
  },
  {
   "cell_type": "code",
   "execution_count": 31,
   "metadata": {
    "ExecuteTime": {
     "end_time": "2019-11-13T04:14:02.518657Z",
     "start_time": "2019-11-13T04:14:02.505556Z"
    }
   },
   "outputs": [
    {
     "data": {
      "text/plain": [
       "([('userId', 'string'),\n",
       "  ('genderIndex', 'double'),\n",
       "  ('levelIndex', 'double'),\n",
       "  ('locationIndex', 'double'),\n",
       "  ('countryIndex', 'double')],\n",
       " ['gender', 'level', 'location', 'country'])"
      ]
     },
     "execution_count": 31,
     "metadata": {},
     "output_type": "execute_result"
    }
   ],
   "source": [
    "cate_df.dtypes,cate_feat"
   ]
  },
  {
   "cell_type": "code",
   "execution_count": 32,
   "metadata": {
    "ExecuteTime": {
     "end_time": "2019-11-13T04:14:09.907648Z",
     "start_time": "2019-11-13T04:14:02.527825Z"
    }
   },
   "outputs": [
    {
     "name": "stdout",
     "output_type": "stream",
     "text": [
      "+------+-----------+----------+-------------+------------+\n",
      "|userId|genderIndex|levelIndex|locationIndex|countryIndex|\n",
      "+------+-----------+----------+-------------+------------+\n",
      "|100010|        1.0|       0.0|         39.0|         4.0|\n",
      "|200002|        0.0|       0.0|          6.0|         8.0|\n",
      "|   125|        0.0|       0.0|        111.0|         1.0|\n",
      "|   124|        1.0|       1.0|         54.0|        39.0|\n",
      "|    51|        0.0|       1.0|         82.0|        25.0|\n",
      "|     7|        0.0|       0.0|         44.0|        18.0|\n",
      "|    15|        0.0|       1.0|         84.0|        46.0|\n",
      "|    54|        1.0|       1.0|         34.0|        18.0|\n",
      "|   155|        1.0|       0.0|          7.0|        13.0|\n",
      "|100014|        0.0|       1.0|          1.0|         2.0|\n",
      "|   132|        1.0|       0.0|         16.0|        14.0|\n",
      "|   154|        1.0|       0.0|          1.0|         2.0|\n",
      "|   101|        0.0|       0.0|         16.0|        14.0|\n",
      "|    11|        1.0|       0.0|         31.0|        36.0|\n",
      "|   138|        0.0|       0.0|          1.0|         2.0|\n",
      "|300017|        1.0|       1.0|        106.0|        12.0|\n",
      "|100021|        0.0|       0.0|          2.0|         1.0|\n",
      "|    29|        0.0|       0.0|          0.0|         0.0|\n",
      "|    69|        1.0|       0.0|         69.0|        43.0|\n",
      "|   112|        0.0|       0.0|         81.0|        24.0|\n",
      "+------+-----------+----------+-------------+------------+\n",
      "only showing top 20 rows\n",
      "\n"
     ]
    }
   ],
   "source": [
    "cate_df.show()"
   ]
  },
  {
   "cell_type": "markdown",
   "metadata": {},
   "source": [
    "## Final DF"
   ]
  },
  {
   "cell_type": "code",
   "execution_count": 33,
   "metadata": {
    "ExecuteTime": {
     "end_time": "2019-11-13T04:14:10.027411Z",
     "start_time": "2019-11-13T04:14:09.927302Z"
    }
   },
   "outputs": [],
   "source": [
    "#merge both numeric and categorical dateframe\n",
    "final_df = numeric_df.join(cate_df, ['userId'], how= 'left')"
   ]
  },
  {
   "cell_type": "code",
   "execution_count": 34,
   "metadata": {
    "ExecuteTime": {
     "end_time": "2019-11-13T04:14:10.121737Z",
     "start_time": "2019-11-13T04:14:10.030723Z"
    }
   },
   "outputs": [],
   "source": [
    "final_df = final_df.drop('userId')\n",
    "final_df = final_df.na.drop()"
   ]
  },
  {
   "cell_type": "code",
   "execution_count": 35,
   "metadata": {
    "ExecuteTime": {
     "end_time": "2019-11-13T04:14:46.831520Z",
     "start_time": "2019-11-13T04:14:10.124672Z"
    }
   },
   "outputs": [
    {
     "data": {
      "text/plain": [
       "Row(churn=1, number_of_played_songs=158, total_play_time=94008.87593999993, number_of_sessions=6, average_play_time_per_session_by_user=15668.145989999988, genderIndex=0.0, levelIndex=0.0, locationIndex=6.0, countryIndex=8.0)"
      ]
     },
     "execution_count": 35,
     "metadata": {},
     "output_type": "execute_result"
    }
   ],
   "source": [
    "final_df.head()"
   ]
  },
  {
   "cell_type": "code",
   "execution_count": 36,
   "metadata": {
    "ExecuteTime": {
     "end_time": "2019-11-13T04:14:46.845762Z",
     "start_time": "2019-11-13T04:14:46.835457Z"
    }
   },
   "outputs": [
    {
     "data": {
      "text/plain": [
       "[('churn', 'int'),\n",
       " ('number_of_played_songs', 'bigint'),\n",
       " ('total_play_time', 'double'),\n",
       " ('number_of_sessions', 'bigint'),\n",
       " ('average_play_time_per_session_by_user', 'double'),\n",
       " ('genderIndex', 'double'),\n",
       " ('levelIndex', 'double'),\n",
       " ('locationIndex', 'double'),\n",
       " ('countryIndex', 'double')]"
      ]
     },
     "execution_count": 36,
     "metadata": {},
     "output_type": "execute_result"
    }
   ],
   "source": [
    "final_df.dtypes"
   ]
  },
  {
   "cell_type": "code",
   "execution_count": 37,
   "metadata": {
    "ExecuteTime": {
     "end_time": "2019-11-13T04:14:47.087283Z",
     "start_time": "2019-11-13T04:14:46.854534Z"
    }
   },
   "outputs": [],
   "source": [
    "#combine all the features in one single feature vector\n",
    "feature_cols = final_df.columns\n",
    "feature_cols.remove('churn')\n",
    "assembler = VectorAssembler(inputCols = feature_cols, outputCol = 'features')\n",
    "samples = assembler.transform(final_df)"
   ]
  },
  {
   "cell_type": "code",
   "execution_count": 38,
   "metadata": {
    "ExecuteTime": {
     "end_time": "2019-11-13T04:15:23.386569Z",
     "start_time": "2019-11-13T04:14:47.090549Z"
    }
   },
   "outputs": [],
   "source": [
    "#standard scaler the features\n",
    "standardscaler = StandardScaler().setInputCol('features').setOutputCol('Scaled_features')\n",
    "samples = standardscaler.fit(samples).transform(samples)"
   ]
  },
  {
   "cell_type": "code",
   "execution_count": 39,
   "metadata": {
    "ExecuteTime": {
     "end_time": "2019-11-13T04:15:23.421575Z",
     "start_time": "2019-11-13T04:15:23.390332Z"
    }
   },
   "outputs": [
    {
     "data": {
      "text/plain": [
       "['churn',\n",
       " 'number_of_played_songs',\n",
       " 'total_play_time',\n",
       " 'number_of_sessions',\n",
       " 'average_play_time_per_session_by_user',\n",
       " 'genderIndex',\n",
       " 'levelIndex',\n",
       " 'locationIndex',\n",
       " 'countryIndex',\n",
       " 'features',\n",
       " 'Scaled_features']"
      ]
     },
     "execution_count": 39,
     "metadata": {},
     "output_type": "execute_result"
    }
   ],
   "source": [
    "samples.columns"
   ]
  },
  {
   "cell_type": "code",
   "execution_count": 40,
   "metadata": {
    "ExecuteTime": {
     "end_time": "2019-11-13T04:15:23.458496Z",
     "start_time": "2019-11-13T04:15:23.441079Z"
    }
   },
   "outputs": [
    {
     "data": {
      "text/plain": [
       "([('churn', 'int'),\n",
       "  ('number_of_played_songs', 'bigint'),\n",
       "  ('total_play_time', 'double'),\n",
       "  ('number_of_sessions', 'bigint'),\n",
       "  ('average_play_time_per_session_by_user', 'double'),\n",
       "  ('genderIndex', 'double'),\n",
       "  ('levelIndex', 'double'),\n",
       "  ('locationIndex', 'double'),\n",
       "  ('countryIndex', 'double')],\n",
       " [('churn', 'int'),\n",
       "  ('number_of_played_songs', 'bigint'),\n",
       "  ('total_play_time', 'double'),\n",
       "  ('number_of_sessions', 'bigint'),\n",
       "  ('average_play_time_per_session_by_user', 'double'),\n",
       "  ('genderIndex', 'double'),\n",
       "  ('levelIndex', 'double'),\n",
       "  ('locationIndex', 'double'),\n",
       "  ('countryIndex', 'double'),\n",
       "  ('features', 'vector'),\n",
       "  ('Scaled_features', 'vector')])"
      ]
     },
     "execution_count": 40,
     "metadata": {},
     "output_type": "execute_result"
    }
   ],
   "source": [
    "final_df.dtypes,samples.dtypes"
   ]
  },
  {
   "cell_type": "markdown",
   "metadata": {},
   "source": [
    "# Modeling\n",
    "Split the full dataset into train, test, and validation sets. Test out several of the machine learning methods you learned. Evaluate the accuracy of the various models, tuning parameters as necessary. Determine your winning model based on test accuracy and report results on the validation set. Since the churned users are a fairly small subset, I suggest using F1 score as the metric to optimize."
   ]
  },
  {
   "cell_type": "code",
   "execution_count": 41,
   "metadata": {
    "ExecuteTime": {
     "end_time": "2019-11-13T04:15:23.551676Z",
     "start_time": "2019-11-13T04:15:23.470083Z"
    }
   },
   "outputs": [],
   "source": [
    "#split train/test/validation samples\n",
    "train_samples, test_samples, val_samples = samples.randomSplit([0.7, 0.15,0.15], seed = 78)"
   ]
  },
  {
   "cell_type": "markdown",
   "metadata": {},
   "source": [
    "### Logistic Regression"
   ]
  },
  {
   "cell_type": "code",
   "execution_count": 42,
   "metadata": {
    "ExecuteTime": {
     "end_time": "2019-11-13T04:15:23.576668Z",
     "start_time": "2019-11-13T04:15:23.557703Z"
    }
   },
   "outputs": [
    {
     "data": {
      "text/plain": [
       "['churn',\n",
       " 'number_of_played_songs',\n",
       " 'total_play_time',\n",
       " 'number_of_sessions',\n",
       " 'average_play_time_per_session_by_user',\n",
       " 'genderIndex',\n",
       " 'levelIndex',\n",
       " 'locationIndex',\n",
       " 'countryIndex',\n",
       " 'features',\n",
       " 'Scaled_features']"
      ]
     },
     "execution_count": 42,
     "metadata": {},
     "output_type": "execute_result"
    }
   ],
   "source": [
    "train_samples.columns"
   ]
  },
  {
   "cell_type": "code",
   "execution_count": 43,
   "metadata": {
    "ExecuteTime": {
     "end_time": "2019-11-13T04:17:44.617298Z",
     "start_time": "2019-11-13T04:15:23.584317Z"
    }
   },
   "outputs": [],
   "source": [
    "#Train the model with LR\n",
    "model_lr = LogisticRegression(labelCol = 'churn', featuresCol = 'Scaled_features')\n",
    "model_lr = model_lr.fit(train_samples)\n",
    "\n",
    "### fit model\n",
    "#model_lr = alg_lr.fit(train_samples)\n",
    "\n",
    "## predict\n",
    "##predict_test_lr = model_lr.transform(test_samples)"
   ]
  },
  {
   "cell_type": "code",
   "execution_count": 44,
   "metadata": {
    "ExecuteTime": {
     "end_time": "2019-11-13T04:17:44.829237Z",
     "start_time": "2019-11-13T04:17:44.619913Z"
    }
   },
   "outputs": [],
   "source": [
    "#predictions\n",
    "predict_train_lr = model_lr.transform(train_samples)\n",
    "predict_test_lr = model_lr.transform(test_samples)"
   ]
  },
  {
   "cell_type": "code",
   "execution_count": 45,
   "metadata": {
    "ExecuteTime": {
     "end_time": "2019-11-13T04:18:56.700739Z",
     "start_time": "2019-11-13T04:17:44.836962Z"
    }
   },
   "outputs": [
    {
     "name": "stdout",
     "output_type": "stream",
     "text": [
      "The area under ROC for train set is 0.9307017543859651\n",
      "The area under ROC for test set is 0.8181818181818182\n"
     ]
    }
   ],
   "source": [
    "#Evaluating Logitical Regression\n",
    "\n",
    "evaluator=BinaryClassificationEvaluator(rawPredictionCol='rawPrediction',labelCol='churn')\n",
    "\n",
    "print(\"The area under ROC for train set is {}\".format(evaluator.evaluate(predict_train_lr)))\n",
    "\n",
    "print(\"The area under ROC for test set is {}\".format(evaluator.evaluate(predict_test_lr)))"
   ]
  },
  {
   "cell_type": "markdown",
   "metadata": {},
   "source": [
    "### Random Forest"
   ]
  },
  {
   "cell_type": "code",
   "execution_count": 46,
   "metadata": {
    "ExecuteTime": {
     "end_time": "2019-11-13T04:20:20.213005Z",
     "start_time": "2019-11-13T04:18:56.704851Z"
    }
   },
   "outputs": [],
   "source": [
    "#Train the model with RF\n",
    "model_rf = RandomForestClassifier(labelCol = 'churn', featuresCol = 'Scaled_features')\n",
    "model_rf = model_rf.fit(train_samples)"
   ]
  },
  {
   "cell_type": "code",
   "execution_count": 47,
   "metadata": {
    "ExecuteTime": {
     "end_time": "2019-11-13T04:20:20.358758Z",
     "start_time": "2019-11-13T04:20:20.215451Z"
    }
   },
   "outputs": [],
   "source": [
    "#predictions\n",
    "predict_train_rf = model_rf.transform(train_samples)\n",
    "predict_test_rf = model_rf.transform(test_samples)"
   ]
  },
  {
   "cell_type": "code",
   "execution_count": 48,
   "metadata": {
    "ExecuteTime": {
     "end_time": "2019-11-13T04:21:31.105773Z",
     "start_time": "2019-11-13T04:20:20.361445Z"
    }
   },
   "outputs": [
    {
     "name": "stdout",
     "output_type": "stream",
     "text": [
      "The area under ROC for train set is 0.9916666666666666\n",
      "The area under ROC for test set is 0.9025974025974026\n"
     ]
    }
   ],
   "source": [
    "#Evaluating Random Forest\n",
    "\n",
    "print(\"The area under ROC for train set is {}\".format(evaluator.evaluate(predict_train_rf)))\n",
    "\n",
    "print(\"The area under ROC for test set is {}\".format(evaluator.evaluate(predict_test_rf)))"
   ]
  },
  {
   "cell_type": "markdown",
   "metadata": {},
   "source": [
    "### Model selection"
   ]
  },
  {
   "cell_type": "markdown",
   "metadata": {},
   "source": [
    "Based on the ROC of Logistical Regression and Random Forest on test data, choose Random Forest as the final model. "
   ]
  },
  {
   "cell_type": "code",
   "execution_count": 49,
   "metadata": {
    "ExecuteTime": {
     "end_time": "2019-11-13T04:22:05.364358Z",
     "start_time": "2019-11-13T04:21:31.109657Z"
    }
   },
   "outputs": [
    {
     "name": "stdout",
     "output_type": "stream",
     "text": [
      "The area under ROC for test set is 0.9386973180076628\n"
     ]
    }
   ],
   "source": [
    "#predictions on validation data\n",
    "predict_val_rf = model_rf.transform(val_samples)\n",
    "print(\"The area under ROC for test set is {}\".format(evaluator.evaluate(predict_val_rf)))"
   ]
  },
  {
   "cell_type": "markdown",
   "metadata": {},
   "source": [
    "# Final Steps\n",
    "Clean up your code, adding comments and renaming variables to make the code easier to read and maintain. Refer to the Spark Project Overview page and Data Scientist Capstone Project Rubric to make sure you are including all components of the capstone project and meet all expectations. Remember, this includes thorough documentation in a README file in a Github repository, as well as a web app or blog post."
   ]
  },
  {
   "cell_type": "code",
   "execution_count": null,
   "metadata": {},
   "outputs": [],
   "source": []
  }
 ],
 "metadata": {
  "kernelspec": {
   "display_name": "Python 3",
   "language": "python",
   "name": "python3"
  },
  "language_info": {
   "codemirror_mode": {
    "name": "ipython",
    "version": 3
   },
   "file_extension": ".py",
   "mimetype": "text/x-python",
   "name": "python",
   "nbconvert_exporter": "python",
   "pygments_lexer": "ipython3",
   "version": "3.6.7"
  },
  "toc": {
   "base_numbering": 1,
   "nav_menu": {},
   "number_sections": true,
   "sideBar": true,
   "skip_h1_title": false,
   "title_cell": "Table of Contents",
   "title_sidebar": "Contents",
   "toc_cell": false,
   "toc_position": {
    "height": "calc(100% - 180px)",
    "left": "10px",
    "top": "150px",
    "width": "169px"
   },
   "toc_section_display": true,
   "toc_window_display": false
  }
 },
 "nbformat": 4,
 "nbformat_minor": 2
}
