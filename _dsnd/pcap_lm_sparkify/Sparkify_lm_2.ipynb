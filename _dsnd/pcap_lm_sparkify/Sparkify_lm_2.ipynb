{
 "cells": [
  {
   "cell_type": "markdown",
   "metadata": {},
   "source": [
    "# Sparkify Project Workspace\n",
    "This workspace contains a tiny subset (128MB) of the full dataset available (12GB). Feel free to use this workspace to build your project, or to explore a smaller subset with Spark before deploying your cluster on the cloud. Instructions for setting up your Spark cluster is included in the last lesson of the Extracurricular Spark Course content.\n",
    "\n",
    "You can follow the steps below to guide your data analysis and model building portion of this project."
   ]
  },
  {
   "cell_type": "code",
   "execution_count": 37,
   "metadata": {
    "ExecuteTime": {
     "end_time": "2019-10-31T05:10:37.062485Z",
     "start_time": "2019-10-31T05:10:37.052455Z"
    }
   },
   "outputs": [],
   "source": [
    "# import libraries\n",
    "from pyspark.sql import SparkSession\n",
    "from pyspark.sql.functions import avg, col, concat, desc, explode, lit, min, max, split, udf, count\n",
    "from pyspark.sql.types import IntegerType\n",
    "\n",
    "from pyspark.ml import Pipeline\n",
    "from pyspark.ml.classification import LogisticRegression, RandomForestClassifier\n",
    "from pyspark.ml.evaluation import BinaryClassificationEvaluator\n",
    "from pyspark.ml.feature import CountVectorizer, IDF, Normalizer, PCA, RegexTokenizer, StandardScaler, StopWordsRemover, StringIndexer, VectorAssembler\n",
    "from pyspark.ml.regression import LinearRegression\n",
    "from pyspark.ml.tuning import CrossValidator, ParamGridBuilder\n",
    "\n",
    "import matplotlib.pyplot as plt\n",
    "\n",
    "import re"
   ]
  },
  {
   "cell_type": "code",
   "execution_count": 38,
   "metadata": {
    "ExecuteTime": {
     "end_time": "2019-10-31T05:10:37.078275Z",
     "start_time": "2019-10-31T05:10:37.067946Z"
    }
   },
   "outputs": [],
   "source": [
    "# create a Spark session\n",
    "from pyspark.sql import SparkSession\n",
    "#spark = SparkSession.builder.getOrCreate()\n",
    "spark = SparkSession.builder.appName('sparky').getOrCreate()\n",
    "# Since JSON data can be semi-structured and contain additional metadata, it is possible that you might face issues with the DataFrame layout.\n",
    "# Please read the documentation of 'SparkSession.read()' to learn more about the possibilities to adjust the data loading.\n",
    "# PySpark documentation: http://spark.apache.org/docs/2.0.2/api/python/pyspark.sql.html#pyspark.sql.DataFrameReader.json"
   ]
  },
  {
   "cell_type": "markdown",
   "metadata": {},
   "source": [
    "# Load and Clean Dataset\n",
    "In this workspace, the mini-dataset file is `mini_sparkify_event_data.json`. Load and clean the dataset, checking for invalid or missing data - for example, records without userids or sessionids. "
   ]
  },
  {
   "cell_type": "code",
   "execution_count": 39,
   "metadata": {
    "ExecuteTime": {
     "end_time": "2019-10-31T05:10:37.093210Z",
     "start_time": "2019-10-31T05:10:37.085537Z"
    }
   },
   "outputs": [],
   "source": [
    "# load 10% smaller file in pandas\n",
    "## load data\n",
    "'''\n",
    "import pandas as pd\n",
    "file = 'mini_sparkify_event_data.json.bz2'\n",
    "#file='10pre_mini_sparkify_event_data.json.bz2'\n",
    "## 验证可以使用10pre更小的数据集\n",
    "df = pd.read_json(file,'sparkify_donate',compression='bz2')\n",
    "display(df.size)\n",
    "display(df.head(1))\n",
    "\n",
    "# 关于效率的记录\n",
    "## 10%mini bz2 read time 3.07s 660ms(2nd)\n",
    "## mini bz2 read time 5.53s 5.51s(2nd)\n",
    "## 两个时间对比2nd，大概是10倍的差别\n",
    "## 4*3.6gb cpu使用了20%\n",
    "## 之前很慢和java环境有关（Mac待测试，不过CPU相差较多）\n",
    "## 记得最近java8升级了2次，和之前的小版本有所区别\n",
    "\n",
    "## 另外，使用 bz2 （gz也行但压缩率没有bz2高） \n",
    "## 这两种格式是 splittble 的，可以使用所有 spark 节点读取\n",
    "#df = spark.read.json('mini_sparkify_event_data.json')\n",
    "## 不设定名字貌似最后一步会报错,和ibm有关，drop，研究a'w's\n",
    "'''\n",
    "\n",
    "'''\n",
    "java version \"1.8.0_231\"\n",
    "Java(TM) SE Runtime Environment (build 1.8.0_231-b11)\n",
    "Java HotSpot(TM) Client VM (build 25.231-b11, mixed mode, sharing)\n",
    "''';"
   ]
  },
  {
   "cell_type": "code",
   "execution_count": 40,
   "metadata": {
    "ExecuteTime": {
     "end_time": "2019-10-31T05:10:37.104206Z",
     "start_time": "2019-10-31T05:10:37.098979Z"
    }
   },
   "outputs": [],
   "source": [
    "# get smaller data (DO NOT RUN)\n",
    "'''\n",
    "## smaller\n",
    "pddf_small = pddf.sample(frac=0.1)\n",
    "display(pddf_small.size)\n",
    "display(pddf_small.head(1))\n",
    "\n",
    "## new file name\n",
    "newfile = '10pre_' + file\n",
    "print(newfile)\n",
    "\n",
    "## persistence compression\n",
    "pddf_small.to_json(newfile,compression='bz2')\n",
    "\n",
    "## persistence normal\n",
    "pddf_small.to_json('10pre_mini_sparkify_event_data.json')\n",
    "''';"
   ]
  },
  {
   "cell_type": "code",
   "execution_count": 41,
   "metadata": {
    "ExecuteTime": {
     "end_time": "2019-10-31T05:10:37.116305Z",
     "start_time": "2019-10-31T05:10:37.109580Z"
    }
   },
   "outputs": [],
   "source": [
    "# check original file"
   ]
  },
  {
   "cell_type": "code",
   "execution_count": 42,
   "metadata": {
    "ExecuteTime": {
     "end_time": "2019-10-31T05:10:37.481536Z",
     "start_time": "2019-10-31T05:10:37.120978Z"
    }
   },
   "outputs": [
    {
     "name": "stdout",
     "output_type": "stream",
     "text": [
      "java version \"1.8.0_212\"\r\n",
      "Java(TM) SE Runtime Environment (build 1.8.0_212-b10)\r\n",
      "Java HotSpot(TM) 64-Bit Server VM (build 25.212-b10, mixed mode)\r\n"
     ]
    }
   ],
   "source": [
    "!java -version"
   ]
  },
  {
   "cell_type": "code",
   "execution_count": 43,
   "metadata": {
    "ExecuteTime": {
     "end_time": "2019-10-31T05:10:44.035125Z",
     "start_time": "2019-10-31T05:10:37.487736Z"
    }
   },
   "outputs": [
    {
     "data": {
      "text/plain": [
       "[Row(artist='Martha Tilston', auth='Logged In', firstName='Colin', gender='M', itemInSession=50, lastName='Freeman', length=277.89016, level='paid', location='Bakersfield, CA', method='PUT', page='NextSong', registration=1538173362000, sessionId=29, song='Rockpools', status=200, ts=1538352117000, userAgent='Mozilla/5.0 (Windows NT 6.1; WOW64; rv:31.0) Gecko/20100101 Firefox/31.0', userId='30')]"
      ]
     },
     "execution_count": 43,
     "metadata": {},
     "output_type": "execute_result"
    }
   ],
   "source": [
    "# read new df in spark\n",
    "#file_ori = 'mini_sparkify_event_data.json'\n",
    "file_ori = 'mini_sparkify_event_data.json.bz2'\n",
    "df = spark.read.json(file_ori)\n",
    "df.head(1)\n",
    "## pyspark 2.44 - 2.32\n",
    "## conda install pyspark=2.3"
   ]
  },
  {
   "cell_type": "code",
   "execution_count": 44,
   "metadata": {
    "ExecuteTime": {
     "end_time": "2019-10-31T05:10:56.988761Z",
     "start_time": "2019-10-31T05:10:44.041800Z"
    }
   },
   "outputs": [
    {
     "data": {
      "text/plain": [
       "<bound method DataFrame.persist of DataFrame[artist: string, auth: string, firstName: string, gender: string, itemInSession: bigint, lastName: string, length: double, level: string, location: string, method: string, page: string, registration: bigint, sessionId: bigint, song: string, status: bigint, ts: bigint, userAgent: string, userId: string]>"
      ]
     },
     "metadata": {},
     "output_type": "display_data"
    },
    {
     "name": "stdout",
     "output_type": "stream",
     "text": [
      "+------+\n",
      "|userId|\n",
      "+------+\n",
      "|      |\n",
      "|    10|\n",
      "|   100|\n",
      "|100001|\n",
      "|100002|\n",
      "|100003|\n",
      "|100004|\n",
      "|100005|\n",
      "|100006|\n",
      "|100007|\n",
      "|100008|\n",
      "|100009|\n",
      "|100010|\n",
      "|100011|\n",
      "|100012|\n",
      "|100013|\n",
      "|100014|\n",
      "|100015|\n",
      "|100016|\n",
      "|100017|\n",
      "+------+\n",
      "only showing top 20 rows\n",
      "\n"
     ]
    },
    {
     "data": {
      "text/plain": [
       "None"
      ]
     },
     "metadata": {},
     "output_type": "display_data"
    },
    {
     "name": "stdout",
     "output_type": "stream",
     "text": [
      "+---------+\n",
      "|sessionId|\n",
      "+---------+\n",
      "|     1338|\n",
      "|      330|\n",
      "|      241|\n",
      "|     2263|\n",
      "|       22|\n",
      "|      155|\n",
      "|      237|\n",
      "|     2088|\n",
      "|      564|\n",
      "|      347|\n",
      "|     1409|\n",
      "|      299|\n",
      "|     1532|\n",
      "|     1217|\n",
      "|      656|\n",
      "|      926|\n",
      "|      293|\n",
      "|       54|\n",
      "|      270|\n",
      "|     1277|\n",
      "+---------+\n",
      "only showing top 20 rows\n",
      "\n"
     ]
    },
    {
     "data": {
      "text/plain": [
       "None"
      ]
     },
     "metadata": {},
     "output_type": "display_data"
    }
   ],
   "source": [
    "df_valid = df.dropna(how = \"any\", subset = [\"userId\", \"sessionId\"])\n",
    "\n",
    "display(df.persist)\n",
    "display(df_valid.select(\"userId\").dropDuplicates().sort(\"userId\").show())\n",
    "display(df_valid.select(\"sessionId\").dropDuplicates().sort(\"userId\").show())"
   ]
  },
  {
   "cell_type": "code",
   "execution_count": 45,
   "metadata": {
    "ExecuteTime": {
     "end_time": "2019-10-31T05:11:02.858443Z",
     "start_time": "2019-10-31T05:10:56.994462Z"
    }
   },
   "outputs": [
    {
     "data": {
      "text/plain": [
       "278154"
      ]
     },
     "execution_count": 45,
     "metadata": {},
     "output_type": "execute_result"
    }
   ],
   "source": [
    "df_valid = df_valid.filter(df[\"userId\"] != \"\")\n",
    "df_valid.count()"
   ]
  },
  {
   "cell_type": "markdown",
   "metadata": {},
   "source": [
    "# Exploratory Data Analysis\n",
    "When you're working with the full dataset, perform EDA by loading a small subset of the data and doing basic manipulations within Spark. In this workspace, you are already provided a small subset of data you can explore.\n",
    "\n",
    "### Define Churn\n",
    "\n",
    "Once you've done some preliminary analysis, create a column `Churn` to use as the label for your model. I suggest using the `Cancellation Confirmation` events to define your churn, which happen for both paid and free users. As a bonus task, you can also look into the `Downgrade` events.\n",
    "\n",
    "### Explore Data\n",
    "Once you've defined churn, perform some exploratory data analysis to observe the behavior for users who stayed vs users who churned. You can start by exploring aggregates on these two groups of users, observing how much of a specific action they experienced per a certain time unit or number of songs played."
   ]
  },
  {
   "cell_type": "code",
   "execution_count": 46,
   "metadata": {
    "ExecuteTime": {
     "end_time": "2019-10-31T05:11:08.761007Z",
     "start_time": "2019-10-31T05:11:02.867982Z"
    }
   },
   "outputs": [
    {
     "name": "stdout",
     "output_type": "stream",
     "text": [
      "+--------------------+\n",
      "|                page|\n",
      "+--------------------+\n",
      "|              Cancel|\n",
      "|    Submit Downgrade|\n",
      "|         Thumbs Down|\n",
      "|                Home|\n",
      "|           Downgrade|\n",
      "|         Roll Advert|\n",
      "|              Logout|\n",
      "|       Save Settings|\n",
      "|Cancellation Conf...|\n",
      "|               About|\n",
      "|            Settings|\n",
      "|     Add to Playlist|\n",
      "|          Add Friend|\n",
      "|            NextSong|\n",
      "|           Thumbs Up|\n",
      "|                Help|\n",
      "|             Upgrade|\n",
      "|               Error|\n",
      "|      Submit Upgrade|\n",
      "+--------------------+\n",
      "\n"
     ]
    }
   ],
   "source": [
    "# see what values page feature holds\n",
    "df_valid.select(\"page\").dropDuplicates().show()"
   ]
  },
  {
   "cell_type": "code",
   "execution_count": 47,
   "metadata": {
    "ExecuteTime": {
     "end_time": "2019-10-31T05:11:14.708351Z",
     "start_time": "2019-10-31T05:11:08.766559Z"
    }
   },
   "outputs": [
    {
     "data": {
      "text/plain": [
       "['125', '51', '54', '100014', '101', '29', '100021', '87', '73', '3']"
      ]
     },
     "execution_count": 47,
     "metadata": {},
     "output_type": "execute_result"
    }
   ],
   "source": [
    "# create a list for churn users\n",
    "## 使用 Cancellation Confirmation 来定义客户流失\n",
    "churn_user_df = df.filter(df.page==\"Cancellation Confirmation\").select(\"userId\").dropDuplicates()\n",
    "churn_user_list = [user[\"userId\"] for user in churn_user_df.collect()]\n",
    "churn_user_list[:10]"
   ]
  },
  {
   "cell_type": "code",
   "execution_count": 48,
   "metadata": {
    "ExecuteTime": {
     "end_time": "2019-10-31T05:11:14.959600Z",
     "start_time": "2019-10-31T05:11:14.713407Z"
    }
   },
   "outputs": [
    {
     "data": {
      "text/plain": [
       "DataFrame[artist: string, auth: string, firstName: string, gender: string, itemInSession: bigint, lastName: string, length: double, level: string, location: string, method: string, page: string, registration: bigint, sessionId: bigint, song: string, status: bigint, ts: bigint, userAgent: string, userId: string, churn: boolean]"
      ]
     },
     "execution_count": 48,
     "metadata": {},
     "output_type": "execute_result"
    }
   ],
   "source": [
    "# create a column for churn\n",
    "df_valid = df_valid.withColumn(\"churn\", df_valid.userId.isin(churn_user_list))\n",
    "df_valid"
   ]
  },
  {
   "cell_type": "markdown",
   "metadata": {},
   "source": [
    "#### // group by gender"
   ]
  },
  {
   "cell_type": "code",
   "execution_count": 49,
   "metadata": {
    "ExecuteTime": {
     "end_time": "2019-10-31T05:11:22.839112Z",
     "start_time": "2019-10-31T05:11:14.963070Z"
    }
   },
   "outputs": [
    {
     "name": "stdout",
     "output_type": "stream",
     "text": [
      "+------+-----+-----+\n",
      "|gender|churn|count|\n",
      "+------+-----+-----+\n",
      "|     M| true|   32|\n",
      "|     F|false|   84|\n",
      "|     F| true|   20|\n",
      "|     M|false|   89|\n",
      "+------+-----+-----+\n",
      "\n"
     ]
    }
   ],
   "source": [
    "# show gender difference in churn\n",
    "df_valid.dropDuplicates(['userId']).groupby(['gender','churn']).count().show()"
   ]
  },
  {
   "cell_type": "markdown",
   "metadata": {},
   "source": [
    "#### // gender divided played songs stats"
   ]
  },
  {
   "cell_type": "code",
   "execution_count": 50,
   "metadata": {
    "ExecuteTime": {
     "end_time": "2019-10-31T05:11:29.970274Z",
     "start_time": "2019-10-31T05:11:22.844678Z"
    }
   },
   "outputs": [
    {
     "data": {
      "image/png": "[encoded data removed]",
      "text/plain": [
       "<Figure size 432x288 with 2 Axes>"
      ]
     },
     "metadata": {
      "needs_background": "light"
     },
     "output_type": "display_data"
    }
   ],
   "source": [
    "df_valid_songs = df_valid.where(df_valid.song!='null').groupby(['churn','userId']) \\\n",
    "    .agg(count(df_valid.song).alias('SongsPlayed')).orderBy('churn').toPandas()\n",
    "df_valid_songs.hist(['SongsPlayed'], by='churn', sharex=True, sharey=True,density=1)\n",
    "plt.plot();"
   ]
  },
  {
   "cell_type": "markdown",
   "metadata": {},
   "source": [
    "#### // gender divided thumps-up/down stats"
   ]
  },
  {
   "cell_type": "code",
   "execution_count": 51,
   "metadata": {
    "ExecuteTime": {
     "end_time": "2019-10-31T05:11:36.942905Z",
     "start_time": "2019-10-31T05:11:29.974829Z"
    }
   },
   "outputs": [
    {
     "name": "stdout",
     "output_type": "stream",
     "text": [
      "ThumbsUps for people who stay 62.89411764705882\n",
      "ThumbsUps for people who leave 37.18\n"
     ]
    },
    {
     "data": {
      "image/png": "[encoded data removed]",
      "text/plain": [
       "<Figure size 432x288 with 2 Axes>"
      ]
     },
     "metadata": {
      "needs_background": "light"
     },
     "output_type": "display_data"
    }
   ],
   "source": [
    "# up\n",
    "df_valid_thumbsup = df_valid.where(df_valid.page=='Thumbs Up') \\\n",
    "    .groupby(['churn','userId']).agg(count(col('page')).alias('ThumbsUps')).orderBy('churn').toPandas()\n",
    "df_valid_thumbsup.hist('ThumbsUps', by='churn', bins=20, sharex=True, sharey=True, density=1);\n",
    "\n",
    "print('ThumbsUps for people who stay',df_valid_thumbsup[df_valid_thumbsup['churn']==False]['ThumbsUps'].mean())\n",
    "print('ThumbsUps for people who leave',df_valid_thumbsup[df_valid_thumbsup['churn']==True]['ThumbsUps'].mean())"
   ]
  },
  {
   "cell_type": "code",
   "execution_count": 52,
   "metadata": {
    "ExecuteTime": {
     "end_time": "2019-10-31T05:11:44.036134Z",
     "start_time": "2019-10-31T05:11:36.948759Z"
    }
   },
   "outputs": [
    {
     "name": "stderr",
     "output_type": "stream",
     "text": [
      "/Users/francis/miniconda3/envs/py36/lib/python3.6/site-packages/ipykernel_launcher.py:6: UserWarning: Boolean Series key will be reindexed to match DataFrame index.\n",
      "  \n",
      "/Users/francis/miniconda3/envs/py36/lib/python3.6/site-packages/ipykernel_launcher.py:7: UserWarning: Boolean Series key will be reindexed to match DataFrame index.\n",
      "  import sys\n"
     ]
    },
    {
     "name": "stdout",
     "output_type": "stream",
     "text": [
      "ThumbsDowns for people who stay 12.735294117647058\n",
      "ThumbsDowns for people who leave 11.545454545454545\n"
     ]
    },
    {
     "data": {
      "image/png": "[encoded data removed]",
      "text/plain": [
       "<Figure size 432x288 with 2 Axes>"
      ]
     },
     "metadata": {
      "needs_background": "light"
     },
     "output_type": "display_data"
    }
   ],
   "source": [
    "# down\n",
    "df_valid_thumbsdown = df_valid.where(df_valid.page=='Thumbs Down') \\\n",
    "    .groupby(['churn','userId']).agg(count(col('page')).alias('ThumbsDowns')).orderBy('churn').toPandas()\n",
    "df_valid_thumbsdown.hist('ThumbsDowns', by='churn', bins=20, sharex=True, sharey=True, density=1);\n",
    "\n",
    "print('ThumbsDowns for people who stay',df_valid_thumbsdown[df_valid_thumbsup['churn']==False]['ThumbsDowns'].mean())\n",
    "print('ThumbsDowns for people who leave',df_valid_thumbsdown[df_valid_thumbsup['churn']==True]['ThumbsDowns'].mean())"
   ]
  },
  {
   "cell_type": "markdown",
   "metadata": {},
   "source": [
    "# Feature Engineering\n",
    "Once you've familiarized yourself with the data, build out the features you find promising to train your model on. To work with the full dataset, you can follow the following steps.\n",
    "- Write a script to extract the necessary features from the smaller subset of data\n",
    "- Ensure that your script is scalable, using the best practices discussed in Lesson 3\n",
    "- Try your script on the full data set, debugging your script if necessary\n",
    "\n",
    "If you are working in the classroom workspace, you can just extract features based on the small subset of data contained here. Be sure to transfer over this work to the larger dataset when you work on your Spark cluster."
   ]
  },
  {
   "cell_type": "code",
   "execution_count": 53,
   "metadata": {
    "ExecuteTime": {
     "end_time": "2019-10-31T05:11:50.516920Z",
     "start_time": "2019-10-31T05:11:44.046076Z"
    }
   },
   "outputs": [
    {
     "name": "stdout",
     "output_type": "stream",
     "text": [
      "+------+------+\n",
      "|userId|gender|\n",
      "+------+------+\n",
      "|    10|     0|\n",
      "|   100|     0|\n",
      "|100001|     1|\n",
      "|100002|     1|\n",
      "|100003|     1|\n",
      "|100004|     1|\n",
      "|100005|     0|\n",
      "|100006|     1|\n",
      "|100007|     1|\n",
      "|100008|     1|\n",
      "|100009|     0|\n",
      "|100010|     1|\n",
      "|100011|     0|\n",
      "|100012|     0|\n",
      "|100013|     1|\n",
      "|100014|     0|\n",
      "|100015|     1|\n",
      "|100016|     0|\n",
      "|100017|     0|\n",
      "|100018|     0|\n",
      "+------+------+\n",
      "only showing top 20 rows\n",
      "\n"
     ]
    }
   ],
   "source": [
    "# pick gender as first feature\n",
    "df_gender = df_valid.dropDuplicates(['userId']).sort('userId').select(['userId','gender'])\n",
    "df_gender = df_gender.replace(['F','M'], ['1', '0'], 'gender')\n",
    "df_gender.withColumn('gender', df_gender.gender.cast(\"int\"))\n",
    "\n",
    "df_gender.show()"
   ]
  },
  {
   "cell_type": "code",
   "execution_count": 54,
   "metadata": {
    "ExecuteTime": {
     "end_time": "2019-10-31T05:11:56.635121Z",
     "start_time": "2019-10-31T05:11:50.522063Z"
    }
   },
   "outputs": [
    {
     "name": "stdout",
     "output_type": "stream",
     "text": [
      "+------+-----------+\n",
      "|userId|SongsPlayed|\n",
      "+------+-----------+\n",
      "|    10|        673|\n",
      "|   100|       2682|\n",
      "|100001|        133|\n",
      "|100002|        195|\n",
      "|100003|         51|\n",
      "|100004|        942|\n",
      "|100005|        154|\n",
      "|100006|         26|\n",
      "|100007|        423|\n",
      "|100008|        772|\n",
      "|100009|        518|\n",
      "|100010|        275|\n",
      "|100011|         11|\n",
      "|100012|        476|\n",
      "|100013|       1131|\n",
      "|100014|        257|\n",
      "|100015|        800|\n",
      "|100016|        530|\n",
      "|100017|         52|\n",
      "|100018|       1002|\n",
      "+------+-----------+\n",
      "only showing top 20 rows\n",
      "\n"
     ]
    }
   ],
   "source": [
    "# pick number of songs played as second feature\n",
    "df_songs = df_valid.where(df_valid.song!='null').groupby('userId') \\\n",
    "    .agg(count(df_valid.song).alias('SongsPlayed')).orderBy('userId') \\\n",
    "    .select(['userId','SongsPlayed'])\n",
    "df_songs.show()"
   ]
  },
  {
   "cell_type": "code",
   "execution_count": 55,
   "metadata": {
    "ExecuteTime": {
     "end_time": "2019-10-31T05:12:08.881100Z",
     "start_time": "2019-10-31T05:11:56.640465Z"
    }
   },
   "outputs": [
    {
     "name": "stdout",
     "output_type": "stream",
     "text": [
      "+------+---------+\n",
      "|userId|ThumbsUps|\n",
      "+------+---------+\n",
      "|    10|       37|\n",
      "|   100|      148|\n",
      "|100001|        8|\n",
      "|100002|        5|\n",
      "|100003|        3|\n",
      "|100004|       35|\n",
      "|100005|        7|\n",
      "|100006|        2|\n",
      "|100007|       19|\n",
      "|100008|       37|\n",
      "|100009|       23|\n",
      "|100010|       17|\n",
      "|100012|       18|\n",
      "|100013|       39|\n",
      "|100014|       17|\n",
      "|100015|       35|\n",
      "|100016|       25|\n",
      "|100017|        2|\n",
      "|100018|       46|\n",
      "|100019|        1|\n",
      "+------+---------+\n",
      "only showing top 20 rows\n",
      "\n",
      "+------+-----------+\n",
      "|userId|ThumbsDowns|\n",
      "+------+-----------+\n",
      "|    10|          4|\n",
      "|   100|         27|\n",
      "|100001|          2|\n",
      "|100004|         11|\n",
      "|100005|          3|\n",
      "|100006|          2|\n",
      "|100007|          6|\n",
      "|100008|          6|\n",
      "|100009|          8|\n",
      "|100010|          5|\n",
      "|100011|          1|\n",
      "|100012|          9|\n",
      "|100013|         15|\n",
      "|100014|          3|\n",
      "|100015|          8|\n",
      "|100016|          5|\n",
      "|100017|          1|\n",
      "|100018|          9|\n",
      "|100019|          1|\n",
      "|100021|          5|\n",
      "+------+-----------+\n",
      "only showing top 20 rows\n",
      "\n"
     ]
    }
   ],
   "source": [
    "# pick number of thumbs up and thumps down as third and fourth feature\n",
    "df_thumbsup = df_valid.where(df_valid.page=='Thumbs Up') \\\n",
    "    .groupby(['userId']).agg(count(col('page')).alias('ThumbsUps')).orderBy('userId').select(['userId','ThumbsUps'])\n",
    "df_thumbsdown = df_valid.where(df_valid.page=='Thumbs Down') \\\n",
    "    .groupby(['userId']).agg(count(col('page')).alias('ThumbsDowns')).orderBy('userId').select(['userId','ThumbsDowns'])\n",
    "df_thumbsup.show(),df_thumbsdown.show();"
   ]
  },
  {
   "cell_type": "code",
   "execution_count": 56,
   "metadata": {
    "ExecuteTime": {
     "end_time": "2019-10-31T05:12:23.769431Z",
     "start_time": "2019-10-31T05:12:08.885173Z"
    }
   },
   "outputs": [
    {
     "name": "stdout",
     "output_type": "stream",
     "text": [
      "+------+---------------+\n",
      "|userId|SingersListened|\n",
      "+------+---------------+\n",
      "|    10|            565|\n",
      "|   100|           1705|\n",
      "|100001|            125|\n",
      "|100002|            184|\n",
      "|100003|             50|\n",
      "|100004|            733|\n",
      "|100005|            149|\n",
      "|100006|             26|\n",
      "|100007|            357|\n",
      "|100008|            623|\n",
      "|100009|            442|\n",
      "|100010|            252|\n",
      "|100011|             11|\n",
      "|100012|            397|\n",
      "|100013|            826|\n",
      "|100014|            233|\n",
      "|100015|            627|\n",
      "|100016|            431|\n",
      "|100017|             51|\n",
      "|100018|            780|\n",
      "+------+---------------+\n",
      "only showing top 20 rows\n",
      "\n"
     ]
    }
   ],
   "source": [
    "# pick the number of singers user has listened as fifth feature\n",
    "df_singers = df_valid.dropDuplicates(['userId','artist']).groupby('userId') \\\n",
    "    .agg(count(df_valid.artist).alias('SingersListened')).orderBy('userId') \\\n",
    "    .select(['userId','SingersListened'])\n",
    "df_singers.show()"
   ]
  },
  {
   "cell_type": "code",
   "execution_count": 57,
   "metadata": {
    "ExecuteTime": {
     "end_time": "2019-10-31T05:13:07.462508Z",
     "start_time": "2019-10-31T05:12:23.787196Z"
    }
   },
   "outputs": [
    {
     "name": "stdout",
     "output_type": "stream",
     "text": [
      "+------+-----+------+-----------+---------+-----------+---------------+\n",
      "|userId|churn|gender|SongsPlayed|ThumbsUps|ThumbsDowns|SingersListened|\n",
      "+------+-----+------+-----------+---------+-----------+---------------+\n",
      "|    10|false|     0|        673|       37|          4|            565|\n",
      "|   100|false|     0|       2682|      148|         27|           1705|\n",
      "|100001| true|     1|        133|        8|          2|            125|\n",
      "|100004|false|     1|        942|       35|         11|            733|\n",
      "|100005| true|     0|        154|        7|          3|            149|\n",
      "|100006| true|     1|         26|        2|          2|             26|\n",
      "|100007| true|     1|        423|       19|          6|            357|\n",
      "|100008|false|     1|        772|       37|          6|            623|\n",
      "|100009| true|     0|        518|       23|          8|            442|\n",
      "|100010|false|     1|        275|       17|          5|            252|\n",
      "|100012| true|     0|        476|       18|          9|            397|\n",
      "|100013| true|     1|       1131|       39|         15|            826|\n",
      "|100014| true|     0|        257|       17|          3|            233|\n",
      "|100015| true|     1|        800|       35|          8|            627|\n",
      "|100016|false|     0|        530|       25|          5|            431|\n",
      "|100017| true|     0|         52|        2|          1|             51|\n",
      "|100018|false|     0|       1002|       46|          9|            780|\n",
      "|100019| true|     0|         62|        1|          1|             61|\n",
      "|100021| true|     0|        230|       11|          5|            207|\n",
      "|100022| true|     1|        681|       45|         20|            555|\n",
      "+------+-----+------+-----------+---------+-----------+---------------+\n",
      "only showing top 20 rows\n",
      "\n"
     ]
    }
   ],
   "source": [
    "# join features\n",
    "df_final = df_valid.dropDuplicates(['userId']).sort('userId').select(['userId','churn'])\n",
    "for feature in [df_gender, df_songs,df_thumbsup,df_thumbsdown,df_singers]:\n",
    "    df_final = df_final.join(feature,'userId')\n",
    "    \n",
    "df_final.show()"
   ]
  },
  {
   "cell_type": "markdown",
   "metadata": {},
   "source": [
    "# Modeling\n",
    "Split the full dataset into train, test, and validation sets. Test out several of the machine learning methods you learned. Evaluate the accuracy of the various models, tuning parameters as necessary. Determine your winning model based on test accuracy and report results on the validation set. Since the churned users are a fairly small subset, I suggest using F1 score as the metric to optimize."
   ]
  },
  {
   "cell_type": "code",
   "execution_count": 58,
   "metadata": {
    "ExecuteTime": {
     "end_time": "2019-10-31T05:13:07.502804Z",
     "start_time": "2019-10-31T05:13:07.476969Z"
    }
   },
   "outputs": [
    {
     "data": {
      "text/plain": [
       "[('userId', 'string'),\n",
       " ('churn', 'boolean'),\n",
       " ('gender', 'string'),\n",
       " ('SongsPlayed', 'bigint'),\n",
       " ('ThumbsUps', 'bigint'),\n",
       " ('ThumbsDowns', 'bigint'),\n",
       " ('SingersListened', 'bigint')]"
      ]
     },
     "execution_count": 58,
     "metadata": {},
     "output_type": "execute_result"
    }
   ],
   "source": [
    "# check\n",
    "df_final.dtypes"
   ]
  },
  {
   "cell_type": "code",
   "execution_count": 59,
   "metadata": {
    "ExecuteTime": {
     "end_time": "2019-10-31T05:13:07.565734Z",
     "start_time": "2019-10-31T05:13:07.525797Z"
    }
   },
   "outputs": [
    {
     "data": {
      "text/plain": [
       "[('userId', 'string'),\n",
       " ('churn', 'float'),\n",
       " ('gender', 'float'),\n",
       " ('SongsPlayed', 'float'),\n",
       " ('ThumbsUps', 'float'),\n",
       " ('ThumbsDowns', 'float'),\n",
       " ('SingersListened', 'float')]"
      ]
     },
     "execution_count": 59,
     "metadata": {},
     "output_type": "execute_result"
    }
   ],
   "source": [
    "# convert data type of columns into float\n",
    "for feature in df_final.columns[1:]:\n",
    "    df_final = df_final.withColumn(feature,df_final[feature].cast('float'))\n",
    "    \n",
    "df_final.dtypes"
   ]
  },
  {
   "cell_type": "code",
   "execution_count": 60,
   "metadata": {
    "ExecuteTime": {
     "end_time": "2019-10-31T05:13:50.709607Z",
     "start_time": "2019-10-31T05:13:07.573228Z"
    }
   },
   "outputs": [
    {
     "name": "stdout",
     "output_type": "stream",
     "text": [
      "+------+-----+------+-----------+---------+-----------+---------------+\n",
      "|userId|churn|gender|SongsPlayed|ThumbsUps|ThumbsDowns|SingersListened|\n",
      "+------+-----+------+-----------+---------+-----------+---------------+\n",
      "|    10|  0.0|   0.0|      673.0|     37.0|        4.0|          565.0|\n",
      "|   100|  0.0|   0.0|     2682.0|    148.0|       27.0|         1705.0|\n",
      "|100001|  1.0|   1.0|      133.0|      8.0|        2.0|          125.0|\n",
      "|100004|  0.0|   1.0|      942.0|     35.0|       11.0|          733.0|\n",
      "|100005|  1.0|   0.0|      154.0|      7.0|        3.0|          149.0|\n",
      "+------+-----+------+-----------+---------+-----------+---------------+\n",
      "only showing top 5 rows\n",
      "\n"
     ]
    }
   ],
   "source": [
    "# 特别慢！ spark 在mac 和windows经常这样，需要研究下\n",
    "df_final.show(5)"
   ]
  },
  {
   "cell_type": "code",
   "execution_count": 61,
   "metadata": {
    "ExecuteTime": {
     "end_time": "2019-10-31T05:13:50.747281Z",
     "start_time": "2019-10-31T05:13:50.717082Z"
    }
   },
   "outputs": [],
   "source": [
    "# train test split\n",
    "train, test = df_final.randomSplit([0.8, 0.2], seed=42)"
   ]
  },
  {
   "cell_type": "code",
   "execution_count": 62,
   "metadata": {
    "ExecuteTime": {
     "end_time": "2019-10-31T05:24:08.287521Z",
     "start_time": "2019-10-31T05:13:50.750857Z"
    }
   },
   "outputs": [],
   "source": [
    "# pipeline\n",
    "assembler = VectorAssembler(inputCols=df_final.columns[2:],outputCol='featuresassemble')\n",
    "scaler = StandardScaler(inputCol=\"featuresassemble\", outputCol=\"features\", withStd=True)\n",
    "indexer = StringIndexer(inputCol=\"churn\", outputCol=\"label\")\n",
    "\n",
    "lr =  LogisticRegression(maxIter=10, regParam=0.0, elasticNetParam=0)\n",
    "\n",
    "stringIndexer = StringIndexer(inputCol=\"label\", outputCol=\"indexed\")\n",
    "rf = RandomForestClassifier(numTrees=3, maxDepth=2, labelCol=\"indexed\", seed=42)\n",
    "\n",
    "\n",
    "pipeline_lr = Pipeline(stages=[assembler, scaler, indexer, lr])\n",
    "\n",
    "paramGrid_lr = ParamGridBuilder() \\\n",
    "    .addGrid(lr.regParam,[0.0, 0.1, 0.01]) \\\n",
    "    .build()\n",
    "\n",
    "crossval_lr = CrossValidator(estimator=pipeline_lr,\n",
    "                          estimatorParamMaps=paramGrid_lr,\n",
    "                          evaluator=BinaryClassificationEvaluator(),\n",
    "                          numFolds=3)\n",
    "\n",
    "\n",
    "cvModel_lr = crossval_lr.fit(train)"
   ]
  },
  {
   "cell_type": "code",
   "execution_count": 63,
   "metadata": {
    "ExecuteTime": {
     "end_time": "2019-10-31T05:24:08.304158Z",
     "start_time": "2019-10-31T05:24:08.291744Z"
    }
   },
   "outputs": [
    {
     "data": {
      "text/plain": [
       "[0.5795942931601847, 0.5770809867709094, 0.5828441440844542]"
      ]
     },
     "execution_count": 63,
     "metadata": {},
     "output_type": "execute_result"
    }
   ],
   "source": [
    "cvModel_lr.avgMetrics"
   ]
  },
  {
   "cell_type": "markdown",
   "metadata": {},
   "source": [
    "# Final Steps\n",
    "Clean up your code, adding comments and renaming variables to make the code easier to read and maintain. Refer to the Spark Project Overview page and Data Scientist Capstone Project Rubric to make sure you are including all components of the capstone project and meet all expectations. Remember, this includes thorough documentation in a README file in a Github repository, as well as a web app or blog post."
   ]
  },
  {
   "cell_type": "code",
   "execution_count": null,
   "metadata": {},
   "outputs": [],
   "source": []
  }
 ],
 "metadata": {
  "kernelspec": {
   "display_name": "Python 3",
   "language": "python",
   "name": "python3"
  },
  "language_info": {
   "codemirror_mode": {
    "name": "ipython",
    "version": 3
   },
   "file_extension": ".py",
   "mimetype": "text/x-python",
   "name": "python",
   "nbconvert_exporter": "python",
   "pygments_lexer": "ipython3",
   "version": "3.6.7"
  },
  "toc": {
   "base_numbering": 1,
   "nav_menu": {},
   "number_sections": true,
   "sideBar": true,
   "skip_h1_title": false,
   "title_cell": "Table of Contents",
   "title_sidebar": "Contents",
   "toc_cell": false,
   "toc_position": {},
   "toc_section_display": true,
   "toc_window_display": false
  }
 },
 "nbformat": 4,
 "nbformat_minor": 2
}
