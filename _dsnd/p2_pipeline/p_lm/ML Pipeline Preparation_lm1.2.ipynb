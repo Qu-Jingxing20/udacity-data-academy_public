{
 "cells": [
  {
   "cell_type": "markdown",
   "metadata": {},
   "source": [
    "# ML Pipeline Preparation\n",
    "Follow the instructions below to help you create your ML pipeline.\n",
    "### 1. Import libraries and load data from database.\n",
    "- Import Python libraries\n",
    "- Load dataset from database with [`read_sql_table`](https://pandas.pydata.org/pandas-docs/stable/generated/pandas.read_sql_table.html)\n",
    "- Define feature and target variables X and Y"
   ]
  },
  {
   "cell_type": "code",
   "execution_count": 1,
   "metadata": {
    "ExecuteTime": {
     "end_time": "2019-08-26T02:35:10.641227Z",
     "start_time": "2019-08-26T02:35:08.616347Z"
    }
   },
   "outputs": [],
   "source": [
    "# import library\n",
    "import pandas as pd\n",
    "import numpy as np\n",
    "import matplotlib as plt\n",
    "import re\n",
    "from sqlalchemy import create_engine\n",
    "%matplotlib inline\n",
    "\n",
    "import pprint as pp\n",
    "\n",
    "# import ml library\n",
    "import nltk\n",
    "from nltk.tokenize import word_tokenize\n",
    "from nltk.stem import WordNetLemmatizer\n",
    "\n",
    "from sklearn.metrics import confusion_matrix\n",
    "from sklearn.metrics import classification_report\n",
    "from sklearn.metrics import accuracy_score,f1_score,recall_score\n",
    "from sklearn.model_selection import GridSearchCV\n",
    "from sklearn.ensemble import RandomForestClassifier\n",
    "from sklearn.model_selection import train_test_split\n",
    "from sklearn.pipeline import Pipeline, FeatureUnion\n",
    "from sklearn.base import BaseEstimator, TransformerMixin\n",
    "from sklearn.feature_extraction.text import CountVectorizer, TfidfTransformer\n",
    "\n",
    "# import pri library\n",
    "import wrangling3 as w\n",
    "\n",
    "# set env\n",
    "## show all row and column\n",
    "from IPython.display import display\n",
    "#pd.set_option('display.max_rows', None)\n",
    "#pd.set_option('display.max_columns', None)\n",
    "pd.set_option('display.max_rows', 200)\n",
    "pd.set_option('display.max_columns', 200)\n",
    "## show 200 string in context\n",
    "pd.set_option('max_colwidth',200)"
   ]
  },
  {
   "cell_type": "markdown",
   "metadata": {},
   "source": [
    "### // def load_data"
   ]
  },
  {
   "cell_type": "code",
   "execution_count": 14,
   "metadata": {
    "ExecuteTime": {
     "end_time": "2019-08-26T02:54:38.970905Z",
     "start_time": "2019-08-26T02:54:38.965682Z"
    }
   },
   "outputs": [],
   "source": [
    "def load_data():\n",
    "    # load data from database\n",
    "    engine = create_engine('sqlite:///InsertDatabaseName.db')\n",
    "    df = pd.read_sql_table('InsertTableName',con=engine)\n",
    "    X = df['message']\n",
    "    y = df[df.columns[5:]]\n",
    "    \n",
    "    return X,y"
   ]
  },
  {
   "cell_type": "code",
   "execution_count": 15,
   "metadata": {
    "ExecuteTime": {
     "end_time": "2019-08-26T02:54:39.789457Z",
     "start_time": "2019-08-26T02:54:39.784564Z"
    }
   },
   "outputs": [],
   "source": [
    "# most columns are read as str\n",
    "#df.info()"
   ]
  },
  {
   "cell_type": "code",
   "execution_count": 16,
   "metadata": {
    "ExecuteTime": {
     "end_time": "2019-08-26T02:54:40.207776Z",
     "start_time": "2019-08-26T02:54:40.201422Z"
    }
   },
   "outputs": [],
   "source": [
    "# genre、related are not popper for analysisi\n",
    "#df.genre.value_counts()"
   ]
  },
  {
   "cell_type": "code",
   "execution_count": 24,
   "metadata": {
    "ExecuteTime": {
     "end_time": "2019-08-26T03:01:58.842833Z",
     "start_time": "2019-08-26T03:01:58.322068Z"
    }
   },
   "outputs": [],
   "source": [
    "X,y = load_data()"
   ]
  },
  {
   "cell_type": "code",
   "execution_count": 27,
   "metadata": {
    "ExecuteTime": {
     "end_time": "2019-08-26T04:47:12.440984Z",
     "start_time": "2019-08-26T04:47:12.430261Z"
    }
   },
   "outputs": [
    {
     "data": {
      "text/plain": [
       "3515    I am in Turtle (Tortuga) Island, I did not find help and I am starving.. \n",
       "Name: message, dtype: object"
      ]
     },
     "execution_count": 27,
     "metadata": {},
     "output_type": "execute_result"
    }
   ],
   "source": [
    "X.sample()"
   ]
  },
  {
   "cell_type": "code",
   "execution_count": 28,
   "metadata": {
    "ExecuteTime": {
     "end_time": "2019-08-26T04:47:15.442840Z",
     "start_time": "2019-08-26T04:47:15.389478Z"
    }
   },
   "outputs": [
    {
     "data": {
      "text/html": [
       "<div>\n",
       "<style scoped>\n",
       "    .dataframe tbody tr th:only-of-type {\n",
       "        vertical-align: middle;\n",
       "    }\n",
       "\n",
       "    .dataframe tbody tr th {\n",
       "        vertical-align: top;\n",
       "    }\n",
       "\n",
       "    .dataframe thead th {\n",
       "        text-align: right;\n",
       "    }\n",
       "</style>\n",
       "<table border=\"1\" class=\"dataframe\">\n",
       "  <thead>\n",
       "    <tr style=\"text-align: right;\">\n",
       "      <th></th>\n",
       "      <th>request</th>\n",
       "      <th>offer</th>\n",
       "      <th>aid_related</th>\n",
       "      <th>medical_help</th>\n",
       "      <th>medical_products</th>\n",
       "      <th>search_and_rescue</th>\n",
       "      <th>security</th>\n",
       "      <th>military</th>\n",
       "      <th>child_alone</th>\n",
       "      <th>water</th>\n",
       "      <th>food</th>\n",
       "      <th>shelter</th>\n",
       "      <th>clothing</th>\n",
       "      <th>money</th>\n",
       "      <th>missing_people</th>\n",
       "      <th>refugees</th>\n",
       "      <th>death</th>\n",
       "      <th>other_aid</th>\n",
       "      <th>infrastructure_related</th>\n",
       "      <th>transport</th>\n",
       "      <th>buildings</th>\n",
       "      <th>electricity</th>\n",
       "      <th>tools</th>\n",
       "      <th>hospitals</th>\n",
       "      <th>shops</th>\n",
       "      <th>aid_centers</th>\n",
       "      <th>other_infrastructure</th>\n",
       "      <th>weather_related</th>\n",
       "      <th>floods</th>\n",
       "      <th>storm</th>\n",
       "      <th>fire</th>\n",
       "      <th>earthquake</th>\n",
       "      <th>cold</th>\n",
       "      <th>other_weather</th>\n",
       "      <th>direct_report</th>\n",
       "    </tr>\n",
       "  </thead>\n",
       "  <tbody>\n",
       "    <tr>\n",
       "      <th>8508</th>\n",
       "      <td>1</td>\n",
       "      <td>0</td>\n",
       "      <td>1</td>\n",
       "      <td>0</td>\n",
       "      <td>1</td>\n",
       "      <td>0</td>\n",
       "      <td>0</td>\n",
       "      <td>0</td>\n",
       "      <td>0</td>\n",
       "      <td>0</td>\n",
       "      <td>0</td>\n",
       "      <td>0</td>\n",
       "      <td>0</td>\n",
       "      <td>0</td>\n",
       "      <td>0</td>\n",
       "      <td>0</td>\n",
       "      <td>0</td>\n",
       "      <td>0</td>\n",
       "      <td>0</td>\n",
       "      <td>0</td>\n",
       "      <td>0</td>\n",
       "      <td>0</td>\n",
       "      <td>0</td>\n",
       "      <td>0</td>\n",
       "      <td>0</td>\n",
       "      <td>0</td>\n",
       "      <td>0</td>\n",
       "      <td>0</td>\n",
       "      <td>0</td>\n",
       "      <td>0</td>\n",
       "      <td>0</td>\n",
       "      <td>0</td>\n",
       "      <td>0</td>\n",
       "      <td>0</td>\n",
       "      <td>0</td>\n",
       "    </tr>\n",
       "  </tbody>\n",
       "</table>\n",
       "</div>"
      ],
      "text/plain": [
       "     request offer aid_related medical_help medical_products  \\\n",
       "8508       1     0           1            0                1   \n",
       "\n",
       "     search_and_rescue security military child_alone water food shelter  \\\n",
       "8508                 0        0        0           0     0    0       0   \n",
       "\n",
       "     clothing money missing_people refugees death other_aid  \\\n",
       "8508        0     0              0        0     0         0   \n",
       "\n",
       "     infrastructure_related transport buildings electricity tools hospitals  \\\n",
       "8508                      0         0         0           0     0         0   \n",
       "\n",
       "     shops aid_centers other_infrastructure weather_related floods storm fire  \\\n",
       "8508     0           0                    0               0      0     0    0   \n",
       "\n",
       "     earthquake cold other_weather direct_report  \n",
       "8508          0    0             0             0  "
      ]
     },
     "execution_count": 28,
     "metadata": {},
     "output_type": "execute_result"
    }
   ],
   "source": [
    "Y.sample()"
   ]
  },
  {
   "cell_type": "markdown",
   "metadata": {},
   "source": [
    "### 2. Write a tokenization function to process your text data"
   ]
  },
  {
   "cell_type": "code",
   "execution_count": 29,
   "metadata": {
    "ExecuteTime": {
     "end_time": "2019-08-26T04:47:19.978434Z",
     "start_time": "2019-08-26T04:47:19.971161Z"
    }
   },
   "outputs": [],
   "source": [
    "def tokenize(text):\n",
    "    tokens = word_tokenize(text)\n",
    "    lemmatizer = WordNetLemmatizer()\n",
    "    \n",
    "    clean_tokens = []\n",
    "    for tok in tokens:\n",
    "        clean_tok = lemmatizer.lemmatize(tok).lower().strip()\n",
    "        clean_tokens.append(clean_tok)\n",
    "    \n",
    "    return clean_tokens"
   ]
  },
  {
   "cell_type": "code",
   "execution_count": 22,
   "metadata": {
    "ExecuteTime": {
     "end_time": "2019-08-26T02:56:31.064742Z",
     "start_time": "2019-08-26T02:56:31.058931Z"
    }
   },
   "outputs": [],
   "source": [
    "#nltk.download('wordnet')"
   ]
  },
  {
   "cell_type": "markdown",
   "metadata": {},
   "source": [
    "### 3. Build a machine learning pipeline\n",
    "This machine pipeline should take in the `message` column as input and output classification results on the other 36 categories in the dataset. You may find the [MultiOutputClassifier](http://scikit-learn.org/stable/modules/generated/sklearn.multioutput.MultiOutputClassifier.html) helpful for predicting multiple target variables."
   ]
  },
  {
   "cell_type": "code",
   "execution_count": 33,
   "metadata": {
    "ExecuteTime": {
     "end_time": "2019-08-26T01:59:36.700146Z",
     "start_time": "2019-08-26T01:59:36.695003Z"
    }
   },
   "outputs": [],
   "source": [
    "# shorter version\n",
    "'''\n",
    "pipeline = Pipeline([\n",
    "        ('vect', CountVectorizer(tokenizer=tokenize)),\n",
    "        ('tfidf', TfidfTransformer()),\n",
    "        ('clf', RandomForestClassifier())\n",
    "    ])\n",
    "'''"
   ]
  },
  {
   "cell_type": "code",
   "execution_count": 34,
   "metadata": {
    "ExecuteTime": {
     "end_time": "2019-08-26T04:48:15.021719Z",
     "start_time": "2019-08-26T04:48:15.014414Z"
    }
   },
   "outputs": [],
   "source": [
    "# logger version\n",
    "class StartingVerbExtractor(BaseEstimator, TransformerMixin):\n",
    "\n",
    "    def starting_verb(self, text):\n",
    "        sentence_list = nltk.sent_tokenize(text)\n",
    "        for sentence in sentence_list:\n",
    "            pos_tags = nltk.pos_tag(tokenize(sentence))\n",
    "            first_word, first_tag = pos_tags[0]\n",
    "            if first_tag in ['VB', 'VBP'] or first_word == 'RT':\n",
    "                return True\n",
    "        return False\n",
    "\n",
    "    def fit(self, x, y=None):\n",
    "        return self\n",
    "\n",
    "    def transform(self, X):\n",
    "        X_tagged = pd.Series(X).apply(self.starting_verb)\n",
    "        return pd.DataFrame(X_tagged)"
   ]
  },
  {
   "cell_type": "code",
   "execution_count": 35,
   "metadata": {
    "ExecuteTime": {
     "end_time": "2019-08-26T04:49:56.860644Z",
     "start_time": "2019-08-26T04:49:56.854552Z"
    }
   },
   "outputs": [],
   "source": [
    "def model_pipeline():\n",
    "    pipeline = Pipeline([\n",
    "        ('features', FeatureUnion([\n",
    "\n",
    "            ('text_pipeline', Pipeline([\n",
    "                ('vect', CountVectorizer(tokenizer=tokenize)),\n",
    "                ('tfidf', TfidfTransformer())\n",
    "            ])),\n",
    "\n",
    "            ('starting_verb', StartingVerbExtractor())\n",
    "        ])),\n",
    "\n",
    "        ('clf', RandomForestClassifier())\n",
    "    ])\n",
    "\n",
    "    return pipeline"
   ]
  },
  {
   "cell_type": "markdown",
   "metadata": {},
   "source": [
    "### 4. Train pipeline\n",
    "- Split data into train and test sets\n",
    "- Train pipeline"
   ]
  },
  {
   "cell_type": "code",
   "execution_count": 36,
   "metadata": {
    "ExecuteTime": {
     "end_time": "2019-08-26T04:51:37.416961Z",
     "start_time": "2019-08-26T04:51:37.271556Z"
    }
   },
   "outputs": [
    {
     "name": "stdout",
     "output_type": "stream",
     "text": [
      "<class 'pandas.core.frame.DataFrame'>\n",
      "RangeIndex: 26216 entries, 0 to 26215\n",
      "Data columns (total 35 columns):\n",
      "request                   26216 non-null int64\n",
      "offer                     26216 non-null int64\n",
      "aid_related               26216 non-null int64\n",
      "medical_help              26216 non-null int64\n",
      "medical_products          26216 non-null int64\n",
      "search_and_rescue         26216 non-null int64\n",
      "security                  26216 non-null int64\n",
      "military                  26216 non-null int64\n",
      "child_alone               26216 non-null int64\n",
      "water                     26216 non-null int64\n",
      "food                      26216 non-null int64\n",
      "shelter                   26216 non-null int64\n",
      "clothing                  26216 non-null int64\n",
      "money                     26216 non-null int64\n",
      "missing_people            26216 non-null int64\n",
      "refugees                  26216 non-null int64\n",
      "death                     26216 non-null int64\n",
      "other_aid                 26216 non-null int64\n",
      "infrastructure_related    26216 non-null int64\n",
      "transport                 26216 non-null int64\n",
      "buildings                 26216 non-null int64\n",
      "electricity               26216 non-null int64\n",
      "tools                     26216 non-null int64\n",
      "hospitals                 26216 non-null int64\n",
      "shops                     26216 non-null int64\n",
      "aid_centers               26216 non-null int64\n",
      "other_infrastructure      26216 non-null int64\n",
      "weather_related           26216 non-null int64\n",
      "floods                    26216 non-null int64\n",
      "storm                     26216 non-null int64\n",
      "fire                      26216 non-null int64\n",
      "earthquake                26216 non-null int64\n",
      "cold                      26216 non-null int64\n",
      "other_weather             26216 non-null int64\n",
      "direct_report             26216 non-null int64\n",
      "dtypes: int64(35)\n",
      "memory usage: 7.0 MB\n"
     ]
    }
   ],
   "source": [
    "y = y.astype(int)\n",
    "y.info()"
   ]
  },
  {
   "cell_type": "code",
   "execution_count": null,
   "metadata": {
    "ExecuteTime": {
     "end_time": "2019-08-26T01:24:39.764833Z",
     "start_time": "2019-08-26T01:24:36.497Z"
    }
   },
   "outputs": [],
   "source": [
    "#import wrangling3 as w\n",
    "#w.checkvalue(y)"
   ]
  },
  {
   "cell_type": "code",
   "execution_count": 37,
   "metadata": {
    "ExecuteTime": {
     "end_time": "2019-08-26T04:51:52.223548Z",
     "start_time": "2019-08-26T04:51:52.201374Z"
    }
   },
   "outputs": [],
   "source": [
    "X_train, X_test, y_train, y_test = train_test_split(X, y)"
   ]
  },
  {
   "cell_type": "markdown",
   "metadata": {},
   "source": [
    "### 5. Test your model\n",
    "Report the f1 score, precision and recall for each output category of the dataset. You can do this by iterating through the columns and calling sklearn's `classification_report` on each."
   ]
  },
  {
   "cell_type": "code",
   "execution_count": 38,
   "metadata": {
    "ExecuteTime": {
     "end_time": "2019-08-26T04:52:12.414010Z",
     "start_time": "2019-08-26T04:52:12.409008Z"
    }
   },
   "outputs": [],
   "source": [
    "model = model_pipeline()"
   ]
  },
  {
   "cell_type": "code",
   "execution_count": 39,
   "metadata": {
    "ExecuteTime": {
     "end_time": "2019-08-26T04:53:09.934675Z",
     "start_time": "2019-08-26T04:52:16.387238Z"
    }
   },
   "outputs": [
    {
     "name": "stderr",
     "output_type": "stream",
     "text": [
      "/Users/francis/miniconda3/envs/py36/lib/python3.6/site-packages/sklearn/ensemble/forest.py:246: FutureWarning: The default value of n_estimators will change from 10 in version 0.20 to 100 in 0.22.\n",
      "  \"10 in version 0.20 to 100 in 0.22.\", FutureWarning)\n"
     ]
    }
   ],
   "source": [
    "model.fit(X_train, y_train);"
   ]
  },
  {
   "cell_type": "code",
   "execution_count": 40,
   "metadata": {
    "ExecuteTime": {
     "end_time": "2019-08-26T04:53:37.515782Z",
     "start_time": "2019-08-26T04:53:21.817771Z"
    }
   },
   "outputs": [],
   "source": [
    "y_pred = model.predict(X_test)"
   ]
  },
  {
   "cell_type": "code",
   "execution_count": 63,
   "metadata": {
    "ExecuteTime": {
     "end_time": "2019-08-26T05:15:16.334806Z",
     "start_time": "2019-08-26T05:15:16.307663Z"
    }
   },
   "outputs": [
    {
     "data": {
      "text/plain": [
       "0.4171498321635642"
      ]
     },
     "execution_count": 63,
     "metadata": {},
     "output_type": "execute_result"
    }
   ],
   "source": [
    "accuracy_score(y_pred,y_test)"
   ]
  },
  {
   "cell_type": "code",
   "execution_count": 61,
   "metadata": {
    "ExecuteTime": {
     "end_time": "2019-08-26T05:14:35.727141Z",
     "start_time": "2019-08-26T05:14:35.700105Z"
    }
   },
   "outputs": [
    {
     "data": {
      "text/plain": [
       "0.4875527250137354"
      ]
     },
     "execution_count": 61,
     "metadata": {},
     "output_type": "execute_result"
    }
   ],
   "source": [
    "f1_score(y_pred,y_test,average='weighted')"
   ]
  },
  {
   "cell_type": "code",
   "execution_count": 62,
   "metadata": {
    "ExecuteTime": {
     "end_time": "2019-08-26T05:15:08.899363Z",
     "start_time": "2019-08-26T05:15:08.871944Z"
    }
   },
   "outputs": [
    {
     "data": {
      "text/plain": [
       "0.8103017926026775"
      ]
     },
     "execution_count": 62,
     "metadata": {},
     "output_type": "execute_result"
    }
   ],
   "source": [
    "recall_score(y_pred,y_test, average='weighted')"
   ]
  },
  {
   "cell_type": "code",
   "execution_count": 78,
   "metadata": {
    "ExecuteTime": {
     "end_time": "2019-08-26T07:25:43.123228Z",
     "start_time": "2019-08-26T07:25:43.070215Z"
    }
   },
   "outputs": [],
   "source": [
    "target_names = df.columns[5:]\n",
    "reports = classification_report(y_test,y_pred,target_names=target_names)"
   ]
  },
  {
   "cell_type": "code",
   "execution_count": 77,
   "metadata": {
    "ExecuteTime": {
     "end_time": "2019-08-26T05:24:06.372406Z",
     "start_time": "2019-08-26T05:24:06.364939Z"
    }
   },
   "outputs": [
    {
     "name": "stdout",
     "output_type": "stream",
     "text": [
      "                        precision    recall  f1-score   support\n",
      "\n",
      "               request       0.84      0.36      0.50      1084\n",
      "                 offer       0.00      0.00      0.00        25\n",
      "           aid_related       0.76      0.42      0.54      2676\n",
      "          medical_help       0.50      0.01      0.02       525\n",
      "      medical_products       0.79      0.03      0.07       323\n",
      "     search_and_rescue       0.25      0.01      0.01       175\n",
      "              security       0.50      0.01      0.02       125\n",
      "              military       0.56      0.02      0.04       226\n",
      "           child_alone       0.00      0.00      0.00         0\n",
      "                 water       0.89      0.12      0.22       415\n",
      "                  food       0.81      0.25      0.38       736\n",
      "               shelter       0.89      0.14      0.24       565\n",
      "              clothing       0.67      0.04      0.08        99\n",
      "                 money       0.67      0.01      0.03       151\n",
      "        missing_people       0.00      0.00      0.00        76\n",
      "              refugees       0.00      0.00      0.00       224\n",
      "                 death       0.92      0.04      0.07       290\n",
      "             other_aid       0.59      0.04      0.07       826\n",
      "infrastructure_related       0.25      0.00      0.00       455\n",
      "             transport       0.88      0.02      0.04       320\n",
      "             buildings       0.78      0.04      0.08       354\n",
      "           electricity       0.00      0.00      0.00       143\n",
      "                 tools       0.00      0.00      0.00        41\n",
      "             hospitals       0.00      0.00      0.00        73\n",
      "                 shops       0.00      0.00      0.00        36\n",
      "           aid_centers       0.00      0.00      0.00        82\n",
      "  other_infrastructure       0.00      0.00      0.00       304\n",
      "       weather_related       0.88      0.43      0.57      1849\n",
      "                floods       0.90      0.19      0.31       563\n",
      "                 storm       0.71      0.13      0.22       624\n",
      "                  fire       0.00      0.00      0.00        79\n",
      "            earthquake       0.92      0.47      0.63       619\n",
      "                  cold       0.33      0.01      0.01       133\n",
      "         other_weather       0.60      0.02      0.03       344\n",
      "         direct_report       0.79      0.30      0.43      1247\n",
      "\n",
      "             micro avg       0.81      0.23      0.35     15807\n",
      "             macro avg       0.48      0.09      0.13     15807\n",
      "          weighted avg       0.70      0.23      0.32     15807\n",
      "           samples avg       0.27      0.14      0.17     15807\n",
      "\n"
     ]
    }
   ],
   "source": [
    "print(reports)"
   ]
  },
  {
   "cell_type": "code",
   "execution_count": 82,
   "metadata": {
    "ExecuteTime": {
     "end_time": "2019-08-26T07:27:31.358410Z",
     "start_time": "2019-08-26T07:27:31.352773Z"
    }
   },
   "outputs": [],
   "source": [
    "# arc for other way to display result\n",
    "'''\n",
    "def display_results(y_test, y_pred):\n",
    "    labels = np.unique(y_pred)\n",
    "    #confusion_mat = confusion_matrix(y_test, y_pred, labels=labels)\n",
    "    accuracy = (y_pred == y_test).mean()\n",
    "\n",
    "    print(\"Labels:\", labels)\n",
    "    #print(\"Confusion Matrix:\\n\", confusion_mat)\n",
    "    print(\"Accuracy:\", accuracy)\n",
    "''';"
   ]
  },
  {
   "cell_type": "code",
   "execution_count": 84,
   "metadata": {
    "ExecuteTime": {
     "end_time": "2019-08-26T07:29:01.935779Z",
     "start_time": "2019-08-26T07:29:01.931692Z"
    }
   },
   "outputs": [],
   "source": [
    "# archive (drop later)\n",
    "# 可能和df读取的类型有关, 目前可以直接使用\n",
    "# 如果不转换 y_pred 需要进行转换后比较\n",
    "# print(classification_report(y_test.iloc[:,0], y_pred.T[0]))；"
   ]
  },
  {
   "cell_type": "markdown",
   "metadata": {},
   "source": [
    "### 6. Improve your model\n",
    "Use grid search to find better parameters. "
   ]
  },
  {
   "cell_type": "code",
   "execution_count": 86,
   "metadata": {
    "ExecuteTime": {
     "end_time": "2019-08-26T07:31:27.641327Z",
     "start_time": "2019-08-26T07:31:27.635670Z"
    }
   },
   "outputs": [],
   "source": [
    "# slow lap, take small featrues to run grid\n",
    "'''\n",
    "parameters = {\n",
    "        'features__text_pipeline__vect__ngram_range': ((1, 1), (1, 2)),\n",
    "        'features__text_pipeline__vect__max_df': (0.5, 0.75, 1.0),\n",
    "        'features__text_pipeline__vect__max_features': (None, 5000, 10000),\n",
    "        'features__text_pipeline__tfidf__use_idf': (True, False),\n",
    "        'clf__n_estimators': [50, 100, 200],\n",
    "        'clf__min_samples_split': [2, 3, 4],\n",
    "        'features__transformer_weights': (\n",
    "            {'text_pipeline': 1, 'starting_verb': 0.5},\n",
    "            {'text_pipeline': 0.5, 'starting_verb': 1},\n",
    "            {'text_pipeline': 0.8, 'starting_verb': 1},\n",
    "        )\n",
    "    }\n",
    "''';"
   ]
  },
  {
   "cell_type": "code",
   "execution_count": 111,
   "metadata": {
    "ExecuteTime": {
     "end_time": "2019-08-26T08:00:18.449596Z",
     "start_time": "2019-08-26T08:00:18.443404Z"
    }
   },
   "outputs": [],
   "source": [
    "def build_model():\n",
    "    pipeline = Pipeline([\n",
    "        ('vect', CountVectorizer(tokenizer=tokenize)),\n",
    "        ('tfidf', TfidfTransformer()),\n",
    "        ('clf', RandomForestClassifier())\n",
    "    ])\n",
    "\n",
    "    # specify parameters for grid search\n",
    "    parameters = {\n",
    "        'vect__max_df': (0.75, 1.0),\n",
    "        'vect__max_features': (None, 5000),\n",
    "        'tfidf__use_idf': (True, False),\n",
    "        'clf__n_estimators': [50, 100],\n",
    "        'clf__min_samples_split': [3, 4],\n",
    "    }\n",
    "\n",
    "\n",
    "    # create grid search object\n",
    "    cv = GridSearchCV(pipeline, param_grid=parameters)\n",
    "    \n",
    "    #return pipeline\n",
    "    return cv"
   ]
  },
  {
   "cell_type": "code",
   "execution_count": 97,
   "metadata": {
    "ExecuteTime": {
     "end_time": "2019-08-26T07:42:50.067811Z",
     "start_time": "2019-08-26T07:42:50.058676Z"
    }
   },
   "outputs": [],
   "source": [
    "def build_model():\n",
    "    pipeline = Pipeline([\n",
    "        ('features', FeatureUnion([\n",
    "            \n",
    "            ('text_pipeline', Pipeline([\n",
    "                ('vect', CountVectorizer(tokenizer=tokenize)),\n",
    "                ('tfidf', TfidfTransformer())\n",
    "            ])),\n",
    "\n",
    "            ('starting_verb', StartingVerbExtractor())\n",
    "        ])),\n",
    "    \n",
    "        ('clf', RandomForestClassifier())\n",
    "    ])\n",
    "\n",
    "    # specify parameters for grid search\n",
    "    parameters = {\n",
    "        'features__text_pipeline__vect__max_df': (0.75, 1.0),\n",
    "        'features__text_pipeline__vect__max_features': (None, 5000),\n",
    "        'features__text_pipeline__tfidf__use_idf': (True, False),\n",
    "        'clf__n_estimators': [50, 100],\n",
    "        'clf__min_samples_split': [3, 4],\n",
    "        'features__transformer_weights': (\n",
    "            {'text_pipeline': 0.5, 'starting_verb': 1},\n",
    "            {'text_pipeline': 0.8, 'starting_verb': 1},\n",
    "        )\n",
    "    }\n",
    "\n",
    "\n",
    "    # create grid search object\n",
    "    cv = GridSearchCV(pipeline, param_grid=parameters)\n",
    "    \n",
    "    return pipeline"
   ]
  },
  {
   "cell_type": "code",
   "execution_count": 113,
   "metadata": {
    "ExecuteTime": {
     "end_time": "2019-08-26T11:04:38.871060Z",
     "start_time": "2019-08-26T11:04:38.865019Z"
    }
   },
   "outputs": [
    {
     "data": {
      "text/plain": [
       "\"\\npipeline = Pipeline([\\n        ('vect', CountVectorizer(tokenizer=tokenize)),\\n        ('tfidf', TfidfTransformer()),\\n        ('clf', RandomForestClassifier())\\n    ])\\n    \\n    pipeline = Pipeline([\\n        ('features', FeatureUnion([\\n\\n            ('text_pipeline', Pipeline([\\n                ('vect', CountVectorizer(tokenizer=tokenize)),\\n                ('tfidf', TfidfTransformer())\\n            ])),\\n\\n            ('starting_verb', StartingVerbExtractor())\\n        ])),\\n\\n        ('clf', RandomForestClassifier())\\n    ])   \\n\""
      ]
     },
     "execution_count": 113,
     "metadata": {},
     "output_type": "execute_result"
    }
   ],
   "source": [
    "# pipeline archive\n",
    "'''\n",
    "pipeline = Pipeline([\n",
    "        ('vect', CountVectorizer(tokenizer=tokenize)),\n",
    "        ('tfidf', TfidfTransformer()),\n",
    "        ('clf', RandomForestClassifier())\n",
    "    ])\n",
    "    \n",
    "    pipeline = Pipeline([\n",
    "        ('features', FeatureUnion([\n",
    "\n",
    "            ('text_pipeline', Pipeline([\n",
    "                ('vect', CountVectorizer(tokenizer=tokenize)),\n",
    "                ('tfidf', TfidfTransformer())\n",
    "            ])),\n",
    "\n",
    "            ('starting_verb', StartingVerbExtractor())\n",
    "        ])),\n",
    "\n",
    "        ('clf', RandomForestClassifier())\n",
    "    ])   \n",
    "'''"
   ]
  },
  {
   "cell_type": "code",
   "execution_count": 114,
   "metadata": {
    "ExecuteTime": {
     "end_time": "2019-08-26T11:04:38.880972Z",
     "start_time": "2019-08-26T11:04:38.873690Z"
    }
   },
   "outputs": [],
   "source": [
    "# slow model (pass for laptop)\n",
    "def build_model_slow():\n",
    "    pipeline = Pipeline([\n",
    "        ('features', FeatureUnion([\n",
    "            \n",
    "            ('text_pipeline', Pipeline([\n",
    "                ('vect', CountVectorizer(tokenizer=tokenize)),\n",
    "                ('tfidf', TfidfTransformer())\n",
    "            ])),\n",
    "\n",
    "            ('starting_verb', StartingVerbExtractor())\n",
    "        ])),\n",
    "    \n",
    "        ('clf', RandomForestClassifier())\n",
    "    ])\n",
    "\n",
    "    # specify parameters for grid search\n",
    "    parameters = {\n",
    "        'features__text_pipeline__vect__max_df': (0.75, 1.0),\n",
    "        'features__text_pipeline__vect__max_features': (5000,10000),\n",
    "        'clf__n_estimators': [50, 100],\n",
    "        'clf__min_samples_split': [3, 4],\n",
    "        'features__transformer_weights': (\n",
    "            {'text_pipeline': 0.5, 'starting_verb': 1},\n",
    "            {'text_pipeline': 0.8, 'starting_verb': 1},\n",
    "        )\n",
    "    }\n",
    "\n",
    "\n",
    "    # create grid search object\n",
    "    cv = GridSearchCV(pipeline, param_grid=parameters)\n",
    "    \n",
    "    return cv"
   ]
  },
  {
   "cell_type": "code",
   "execution_count": 112,
   "metadata": {
    "ExecuteTime": {
     "end_time": "2019-08-26T11:04:38.859571Z",
     "start_time": "2019-08-26T08:00:23.202059Z"
    }
   },
   "outputs": [
    {
     "name": "stderr",
     "output_type": "stream",
     "text": [
      "/Users/francis/miniconda3/envs/py36/lib/python3.6/site-packages/sklearn/model_selection/_split.py:2053: FutureWarning: You should specify a value for 'cv' instead of relying on the default value. The default value will change from 3 to 5 in version 0.22.\n",
      "  warnings.warn(CV_WARNING, FutureWarning)\n"
     ]
    },
    {
     "data": {
      "text/plain": [
       "GridSearchCV(cv='warn', error_score='raise-deprecating',\n",
       "       estimator=Pipeline(memory=None,\n",
       "     steps=[('vect', CountVectorizer(analyzer='word', binary=False, decode_error='strict',\n",
       "        dtype=<class 'numpy.int64'>, encoding='utf-8', input='content',\n",
       "        lowercase=True, max_df=1.0, max_features=None, min_df=1,\n",
       "        ngram_range=(1, 1), preprocessor=None, stop_words=None,\n",
       "        strip...obs=None,\n",
       "            oob_score=False, random_state=None, verbose=0,\n",
       "            warm_start=False))]),\n",
       "       fit_params=None, iid='warn', n_jobs=None,\n",
       "       param_grid={'vect__max_df': (0.75, 1.0), 'vect__max_features': (None, 5000), 'tfidf__use_idf': (True, False), 'clf__n_estimators': [50, 100], 'clf__min_samples_split': [3, 4]},\n",
       "       pre_dispatch='2*n_jobs', refit=True, return_train_score='warn',\n",
       "       scoring=None, verbose=0)"
      ]
     },
     "execution_count": 112,
     "metadata": {},
     "output_type": "execute_result"
    }
   ],
   "source": [
    "model = build_model()\n",
    "model.fit(X_train, y_train)"
   ]
  },
  {
   "cell_type": "markdown",
   "metadata": {},
   "source": [
    "### 7. Test your model\n",
    "Show the accuracy, precision, and recall of the tuned model.  \n",
    "\n",
    "Since this project focuses on code quality, process, and  pipelines, there is no minimum performance metric needed to pass. However, make sure to fine tune your models for accuracy, precision and recall to make your project stand out - especially for your portfolio!"
   ]
  },
  {
   "cell_type": "code",
   "execution_count": 116,
   "metadata": {
    "ExecuteTime": {
     "end_time": "2019-08-26T12:40:20.650891Z",
     "start_time": "2019-08-26T12:40:15.008779Z"
    }
   },
   "outputs": [
    {
     "name": "stdout",
     "output_type": "stream",
     "text": [
      "                        precision    recall  f1-score   support\n",
      "\n",
      "               request       0.87      0.47      0.61      1084\n",
      "                 offer       0.00      0.00      0.00        25\n",
      "           aid_related       0.82      0.53      0.64      2676\n",
      "          medical_help       0.50      0.01      0.02       525\n",
      "      medical_products       0.78      0.02      0.04       323\n",
      "     search_and_rescue       0.57      0.02      0.04       175\n",
      "              security       0.50      0.01      0.02       125\n",
      "              military       0.62      0.02      0.04       226\n",
      "           child_alone       0.00      0.00      0.00         0\n",
      "                 water       0.91      0.20      0.33       415\n",
      "                  food       0.88      0.40      0.55       736\n",
      "               shelter       0.92      0.22      0.36       565\n",
      "              clothing       0.75      0.03      0.06        99\n",
      "                 money       0.25      0.01      0.01       151\n",
      "        missing_people       0.00      0.00      0.00        76\n",
      "              refugees       1.00      0.01      0.02       224\n",
      "                 death       0.88      0.05      0.09       290\n",
      "             other_aid       0.67      0.03      0.06       826\n",
      "infrastructure_related       0.00      0.00      0.00       455\n",
      "             transport       0.50      0.00      0.01       320\n",
      "             buildings       0.89      0.02      0.04       354\n",
      "           electricity       0.00      0.00      0.00       143\n",
      "                 tools       0.00      0.00      0.00        41\n",
      "             hospitals       0.00      0.00      0.00        73\n",
      "                 shops       0.00      0.00      0.00        36\n",
      "           aid_centers       0.00      0.00      0.00        82\n",
      "  other_infrastructure       0.00      0.00      0.00       304\n",
      "       weather_related       0.88      0.55      0.68      1849\n",
      "                floods       0.92      0.34      0.50       563\n",
      "                 storm       0.79      0.30      0.43       624\n",
      "                  fire       1.00      0.01      0.02        79\n",
      "            earthquake       0.91      0.60      0.72       619\n",
      "                  cold       0.50      0.01      0.01       133\n",
      "         other_weather       0.33      0.00      0.01       344\n",
      "         direct_report       0.83      0.38      0.52      1247\n",
      "\n",
      "             micro avg       0.85      0.30      0.44     15807\n",
      "             macro avg       0.53      0.12      0.17     15807\n",
      "          weighted avg       0.73      0.30      0.39     15807\n",
      "           samples avg       0.34      0.18      0.22     15807\n",
      "\n"
     ]
    }
   ],
   "source": [
    "y_pred = model.predict(X_test)\n",
    "reports = classification_report(y_test,y_pred,target_names=target_names)\n",
    "print(reports)\n",
    "\n",
    "# if enconter dtype('float64'), dtype('O'), it is because starting_verb fuc problem\n",
    "# https://stackoverflow.com/questions/22273242/scipy-hstack-results-in-typeerror-no-supported-conversion-for-types-dtypef\n",
    "# solve later"
   ]
  },
  {
   "cell_type": "markdown",
   "metadata": {},
   "source": [
    "### 8. Try improving your model further. Here are a few ideas:\n",
    "* try other machine learning algorithms\n",
    "* add other features besides the TF-IDF"
   ]
  },
  {
   "cell_type": "code",
   "execution_count": 117,
   "metadata": {
    "ExecuteTime": {
     "end_time": "2019-08-26T12:41:16.130353Z",
     "start_time": "2019-08-26T12:41:16.119492Z"
    }
   },
   "outputs": [],
   "source": [
    "# to b c"
   ]
  },
  {
   "cell_type": "markdown",
   "metadata": {},
   "source": [
    "### 9. Export your model as a pickle file"
   ]
  },
  {
   "cell_type": "code",
   "execution_count": 145,
   "metadata": {
    "ExecuteTime": {
     "end_time": "2019-08-26T23:25:43.207092Z",
     "start_time": "2019-08-26T23:25:34.663103Z"
    }
   },
   "outputs": [],
   "source": [
    "# export\n",
    "import pickle\n",
    "filename = 'p2_train_model.pickle'\n",
    "pickle.dump(model, open(filename, 'wb'))\n",
    "#pickle.dump(model, open(filename, 'wb'), protocol=True)\n",
    "#https://blog.csdn.net/pipisorry/article/details/45315483\n",
    "#测试了不同的protocol,区别不大"
   ]
  },
  {
   "cell_type": "code",
   "execution_count": 131,
   "metadata": {
    "ExecuteTime": {
     "end_time": "2019-08-26T14:20:36.471863Z",
     "start_time": "2019-08-26T14:20:36.465891Z"
    }
   },
   "outputs": [],
   "source": [
    "# shutill 需要指定目录才能处理单个文件\n",
    "#https://stackoverflow.com/questions/30049201/how-to-compress-a-file-with-shutil-make-archive-in-python\n",
    "'''\n",
    "from shutil import make_archive\n",
    "\n",
    "zipname = filename + '.zip'\n",
    "make_archive(zipname,'zip',filename)\n",
    "  \n",
    "tarname = filename + '.tar.gz'\n",
    "make_archive(tarname,'zip',filename)\n",
    "''';"
   ]
  },
  {
   "cell_type": "code",
   "execution_count": 140,
   "metadata": {
    "ExecuteTime": {
     "end_time": "2019-08-26T14:35:46.751619Z",
     "start_time": "2019-08-26T14:33:19.537913Z"
    }
   },
   "outputs": [],
   "source": [
    "import tarfile\n",
    "tar = tarfile.open(filename + \".tar.gz\", mode='w|bz2')\n",
    "tar.add(\"p2_train_model.pickle\")\n",
    "tar.close()\n",
    "# 使用 tarbz 缩小为5%"
   ]
  },
  {
   "cell_type": "code",
   "execution_count": 126,
   "metadata": {
    "ExecuteTime": {
     "end_time": "2019-08-26T13:09:54.267976Z",
     "start_time": "2019-08-26T13:09:52.019881Z"
    }
   },
   "outputs": [],
   "source": [
    "# import\n",
    "# original file is 900m, ziped 60M\n",
    "# unzip before load\n",
    "loaded_model = pickle.load(open(filename, 'rb'))\n",
    "#https://machinelearningmastery.com/save-load-machine-learning-models-python-scikit-learn/"
   ]
  },
  {
   "cell_type": "code",
   "execution_count": 127,
   "metadata": {
    "ExecuteTime": {
     "end_time": "2019-08-26T13:10:08.522479Z",
     "start_time": "2019-08-26T13:10:08.507599Z"
    }
   },
   "outputs": [
    {
     "data": {
      "text/plain": [
       "GridSearchCV(cv='warn', error_score='raise-deprecating',\n",
       "       estimator=Pipeline(memory=None,\n",
       "     steps=[('vect', CountVectorizer(analyzer='word', binary=False, decode_error='strict',\n",
       "        dtype=<class 'numpy.int64'>, encoding='utf-8', input='content',\n",
       "        lowercase=True, max_df=1.0, max_features=None, min_df=1,\n",
       "        ngram_range=(1, 1), preprocessor=None, stop_words=None,\n",
       "        strip...obs=None,\n",
       "            oob_score=False, random_state=None, verbose=0,\n",
       "            warm_start=False))]),\n",
       "       fit_params=None, iid='warn', n_jobs=None,\n",
       "       param_grid={'vect__max_df': (0.75, 1.0), 'vect__max_features': (None, 5000), 'tfidf__use_idf': (True, False), 'clf__n_estimators': [50, 100], 'clf__min_samples_split': [3, 4]},\n",
       "       pre_dispatch='2*n_jobs', refit=True, return_train_score='warn',\n",
       "       scoring=None, verbose=0)"
      ]
     },
     "execution_count": 127,
     "metadata": {},
     "output_type": "execute_result"
    }
   ],
   "source": [
    "loaded_model"
   ]
  },
  {
   "cell_type": "markdown",
   "metadata": {},
   "source": [
    "### 10. Use this notebook to complete `train.py`\n",
    "Use the template file attached in the Resources folder to write a script that runs the steps above to create a database and export a model based on a new dataset specified by the user."
   ]
  },
  {
   "cell_type": "code",
   "execution_count": null,
   "metadata": {},
   "outputs": [],
   "source": []
  }
 ],
 "metadata": {
  "kernelspec": {
   "display_name": "Python 3",
   "language": "python",
   "name": "python3"
  },
  "language_info": {
   "codemirror_mode": {
    "name": "ipython",
    "version": 3
   },
   "file_extension": ".py",
   "mimetype": "text/x-python",
   "name": "python",
   "nbconvert_exporter": "python",
   "pygments_lexer": "ipython3",
   "version": "3.6.7"
  },
  "toc": {
   "base_numbering": 1,
   "nav_menu": {},
   "number_sections": true,
   "sideBar": true,
   "skip_h1_title": false,
   "title_cell": "Table of Contents",
   "title_sidebar": "Contents",
   "toc_cell": false,
   "toc_position": {
    "height": "calc(100% - 180px)",
    "left": "10px",
    "top": "150px",
    "width": "255.594px"
   },
   "toc_section_display": true,
   "toc_window_display": false
  }
 },
 "nbformat": 4,
 "nbformat_minor": 2
}
