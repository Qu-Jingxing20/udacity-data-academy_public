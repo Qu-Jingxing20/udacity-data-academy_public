{
 "cells": [
  {
   "cell_type": "markdown",
   "metadata": {},
   "source": [
    "# ML Pipeline Preparation\n",
    "Follow the instructions below to help you create your ML pipeline.\n",
    "### 1. Import libraries and load data from database.\n",
    "- Import Python libraries\n",
    "- Load dataset from database with [`read_sql_table`](https://pandas.pydata.org/pandas-docs/stable/generated/pandas.read_sql_table.html)\n",
    "- Define feature and target variables X and Y"
   ]
  },
  {
   "cell_type": "code",
   "execution_count": 171,
   "metadata": {
    "ExecuteTime": {
     "end_time": "2019-08-25T22:52:21.424219Z",
     "start_time": "2019-08-25T22:52:21.411253Z"
    }
   },
   "outputs": [],
   "source": [
    "# import library\n",
    "import pandas as pd\n",
    "import numpy as np\n",
    "import matplotlib as plt\n",
    "import re\n",
    "from sqlalchemy import create_engine\n",
    "%matplotlib inline\n",
    "\n",
    "import pprint as pp\n",
    "\n",
    "# import ml library\n",
    "from nltk.tokenize import word_tokenize\n",
    "from nltk.stem import WordNetLemmatizer\n",
    "\n",
    "from sklearn.metrics import confusion_matrix\n",
    "from sklearn.metrics import classification_report\n",
    "from sklearn.metrics import accuracy_score,f1_score,recall_score\n",
    "from sklearn.model_selection import GridSearchCV\n",
    "from sklearn.ensemble import RandomForestClassifier\n",
    "from sklearn.model_selection import train_test_split\n",
    "from sklearn.pipeline import Pipeline, FeatureUnion\n",
    "from sklearn.base import BaseEstimator, TransformerMixin\n",
    "from sklearn.feature_extraction.text import CountVectorizer, TfidfTransformer\n",
    "\n",
    "# import pri library\n",
    "import wrangling3 as w\n",
    "\n",
    "# set env\n",
    "## show all row and column\n",
    "from IPython.display import display\n",
    "pd.set_option('display.max_rows', None)\n",
    "pd.set_option('display.max_columns', None)\n",
    "## show 200 string in context\n",
    "pd.set_option('max_colwidth',200)"
   ]
  },
  {
   "cell_type": "code",
   "execution_count": 172,
   "metadata": {
    "ExecuteTime": {
     "end_time": "2019-08-25T22:52:28.991492Z",
     "start_time": "2019-08-25T22:52:28.529709Z"
    }
   },
   "outputs": [
    {
     "data": {
      "text/html": [
       "<div>\n",
       "<style scoped>\n",
       "    .dataframe tbody tr th:only-of-type {\n",
       "        vertical-align: middle;\n",
       "    }\n",
       "\n",
       "    .dataframe tbody tr th {\n",
       "        vertical-align: top;\n",
       "    }\n",
       "\n",
       "    .dataframe thead th {\n",
       "        text-align: right;\n",
       "    }\n",
       "</style>\n",
       "<table border=\"1\" class=\"dataframe\">\n",
       "  <thead>\n",
       "    <tr style=\"text-align: right;\">\n",
       "      <th></th>\n",
       "      <th>id</th>\n",
       "      <th>message</th>\n",
       "      <th>original</th>\n",
       "      <th>genre</th>\n",
       "      <th>related</th>\n",
       "      <th>request</th>\n",
       "      <th>offer</th>\n",
       "      <th>aid_related</th>\n",
       "      <th>medical_help</th>\n",
       "      <th>medical_products</th>\n",
       "      <th>search_and_rescue</th>\n",
       "      <th>security</th>\n",
       "      <th>military</th>\n",
       "      <th>child_alone</th>\n",
       "      <th>water</th>\n",
       "      <th>food</th>\n",
       "      <th>shelter</th>\n",
       "      <th>clothing</th>\n",
       "      <th>money</th>\n",
       "      <th>missing_people</th>\n",
       "      <th>refugees</th>\n",
       "      <th>death</th>\n",
       "      <th>other_aid</th>\n",
       "      <th>infrastructure_related</th>\n",
       "      <th>transport</th>\n",
       "      <th>buildings</th>\n",
       "      <th>electricity</th>\n",
       "      <th>tools</th>\n",
       "      <th>hospitals</th>\n",
       "      <th>shops</th>\n",
       "      <th>aid_centers</th>\n",
       "      <th>other_infrastructure</th>\n",
       "      <th>weather_related</th>\n",
       "      <th>floods</th>\n",
       "      <th>storm</th>\n",
       "      <th>fire</th>\n",
       "      <th>earthquake</th>\n",
       "      <th>cold</th>\n",
       "      <th>other_weather</th>\n",
       "      <th>direct_report</th>\n",
       "    </tr>\n",
       "  </thead>\n",
       "  <tbody>\n",
       "    <tr>\n",
       "      <th>0</th>\n",
       "      <td>2</td>\n",
       "      <td>Weather update - a cold front from Cuba that could pass over Haiti</td>\n",
       "      <td>Un front froid se retrouve sur Cuba ce matin. Il pourrait traverser Haiti demain. Des averses de pluie isolee sont encore prevues sur notre region ce soi</td>\n",
       "      <td>direct</td>\n",
       "      <td>1</td>\n",
       "      <td>0</td>\n",
       "      <td>0</td>\n",
       "      <td>0</td>\n",
       "      <td>0</td>\n",
       "      <td>0</td>\n",
       "      <td>0</td>\n",
       "      <td>0</td>\n",
       "      <td>0</td>\n",
       "      <td>0</td>\n",
       "      <td>0</td>\n",
       "      <td>0</td>\n",
       "      <td>0</td>\n",
       "      <td>0</td>\n",
       "      <td>0</td>\n",
       "      <td>0</td>\n",
       "      <td>0</td>\n",
       "      <td>0</td>\n",
       "      <td>0</td>\n",
       "      <td>0</td>\n",
       "      <td>0</td>\n",
       "      <td>0</td>\n",
       "      <td>0</td>\n",
       "      <td>0</td>\n",
       "      <td>0</td>\n",
       "      <td>0</td>\n",
       "      <td>0</td>\n",
       "      <td>0</td>\n",
       "      <td>0</td>\n",
       "      <td>0</td>\n",
       "      <td>0</td>\n",
       "      <td>0</td>\n",
       "      <td>0</td>\n",
       "      <td>0</td>\n",
       "      <td>0</td>\n",
       "      <td>0</td>\n",
       "    </tr>\n",
       "  </tbody>\n",
       "</table>\n",
       "</div>"
      ],
      "text/plain": [
       "   id                                                             message  \\\n",
       "0   2  Weather update - a cold front from Cuba that could pass over Haiti   \n",
       "\n",
       "                                                                                                                                                    original  \\\n",
       "0  Un front froid se retrouve sur Cuba ce matin. Il pourrait traverser Haiti demain. Des averses de pluie isolee sont encore prevues sur notre region ce soi   \n",
       "\n",
       "    genre related request offer aid_related medical_help medical_products  \\\n",
       "0  direct       1       0     0           0            0                0   \n",
       "\n",
       "  search_and_rescue security military child_alone water food shelter clothing  \\\n",
       "0                 0        0        0           0     0    0       0        0   \n",
       "\n",
       "  money missing_people refugees death other_aid infrastructure_related  \\\n",
       "0     0              0        0     0         0                      0   \n",
       "\n",
       "  transport buildings electricity tools hospitals shops aid_centers  \\\n",
       "0         0         0           0     0         0     0           0   \n",
       "\n",
       "  other_infrastructure weather_related floods storm fire earthquake cold  \\\n",
       "0                    0               0      0     0    0          0    0   \n",
       "\n",
       "  other_weather direct_report  \n",
       "0             0             0  "
      ]
     },
     "execution_count": 172,
     "metadata": {},
     "output_type": "execute_result"
    }
   ],
   "source": [
    "# load data from database\n",
    "engine = create_engine('sqlite:///InsertDatabaseName.db')\n",
    "df = pd.read_sql_table('InsertTableName',con=engine)\n",
    "df.head(1)"
   ]
  },
  {
   "cell_type": "code",
   "execution_count": 173,
   "metadata": {
    "ExecuteTime": {
     "end_time": "2019-08-25T22:52:29.947985Z",
     "start_time": "2019-08-25T22:52:29.938038Z"
    }
   },
   "outputs": [
    {
     "data": {
      "text/plain": [
       "news      13054\n",
       "direct    10766\n",
       "social     2396\n",
       "Name: genre, dtype: int64"
      ]
     },
     "execution_count": 173,
     "metadata": {},
     "output_type": "execute_result"
    }
   ],
   "source": [
    "df.genre.value_counts()"
   ]
  },
  {
   "cell_type": "code",
   "execution_count": 174,
   "metadata": {
    "ExecuteTime": {
     "end_time": "2019-08-25T22:52:54.530517Z",
     "start_time": "2019-08-25T22:52:54.515556Z"
    }
   },
   "outputs": [
    {
     "data": {
      "text/plain": [
       "7150    we not find nothing, and i have an orphanage under my responsible with all people in the street MBC imp.des #2! \n",
       "Name: message, dtype: object"
      ]
     },
     "execution_count": 174,
     "metadata": {},
     "output_type": "execute_result"
    }
   ],
   "source": [
    "X = df['message']\n",
    "Y = df[df.columns[5:]]\n",
    "X.sample()"
   ]
  },
  {
   "cell_type": "code",
   "execution_count": 175,
   "metadata": {
    "ExecuteTime": {
     "end_time": "2019-08-25T22:52:56.652857Z",
     "start_time": "2019-08-25T22:52:56.634230Z"
    }
   },
   "outputs": [
    {
     "data": {
      "text/html": [
       "<div>\n",
       "<style scoped>\n",
       "    .dataframe tbody tr th:only-of-type {\n",
       "        vertical-align: middle;\n",
       "    }\n",
       "\n",
       "    .dataframe tbody tr th {\n",
       "        vertical-align: top;\n",
       "    }\n",
       "\n",
       "    .dataframe thead th {\n",
       "        text-align: right;\n",
       "    }\n",
       "</style>\n",
       "<table border=\"1\" class=\"dataframe\">\n",
       "  <thead>\n",
       "    <tr style=\"text-align: right;\">\n",
       "      <th></th>\n",
       "      <th>request</th>\n",
       "      <th>offer</th>\n",
       "      <th>aid_related</th>\n",
       "      <th>medical_help</th>\n",
       "      <th>medical_products</th>\n",
       "      <th>search_and_rescue</th>\n",
       "      <th>security</th>\n",
       "      <th>military</th>\n",
       "      <th>child_alone</th>\n",
       "      <th>water</th>\n",
       "      <th>food</th>\n",
       "      <th>shelter</th>\n",
       "      <th>clothing</th>\n",
       "      <th>money</th>\n",
       "      <th>missing_people</th>\n",
       "      <th>refugees</th>\n",
       "      <th>death</th>\n",
       "      <th>other_aid</th>\n",
       "      <th>infrastructure_related</th>\n",
       "      <th>transport</th>\n",
       "      <th>buildings</th>\n",
       "      <th>electricity</th>\n",
       "      <th>tools</th>\n",
       "      <th>hospitals</th>\n",
       "      <th>shops</th>\n",
       "      <th>aid_centers</th>\n",
       "      <th>other_infrastructure</th>\n",
       "      <th>weather_related</th>\n",
       "      <th>floods</th>\n",
       "      <th>storm</th>\n",
       "      <th>fire</th>\n",
       "      <th>earthquake</th>\n",
       "      <th>cold</th>\n",
       "      <th>other_weather</th>\n",
       "      <th>direct_report</th>\n",
       "    </tr>\n",
       "  </thead>\n",
       "  <tbody>\n",
       "    <tr>\n",
       "      <th>21052</th>\n",
       "      <td>0</td>\n",
       "      <td>0</td>\n",
       "      <td>1</td>\n",
       "      <td>1</td>\n",
       "      <td>0</td>\n",
       "      <td>0</td>\n",
       "      <td>0</td>\n",
       "      <td>0</td>\n",
       "      <td>0</td>\n",
       "      <td>0</td>\n",
       "      <td>0</td>\n",
       "      <td>0</td>\n",
       "      <td>0</td>\n",
       "      <td>0</td>\n",
       "      <td>0</td>\n",
       "      <td>0</td>\n",
       "      <td>0</td>\n",
       "      <td>0</td>\n",
       "      <td>0</td>\n",
       "      <td>0</td>\n",
       "      <td>0</td>\n",
       "      <td>0</td>\n",
       "      <td>0</td>\n",
       "      <td>0</td>\n",
       "      <td>0</td>\n",
       "      <td>0</td>\n",
       "      <td>0</td>\n",
       "      <td>0</td>\n",
       "      <td>0</td>\n",
       "      <td>0</td>\n",
       "      <td>0</td>\n",
       "      <td>0</td>\n",
       "      <td>0</td>\n",
       "      <td>0</td>\n",
       "      <td>0</td>\n",
       "    </tr>\n",
       "  </tbody>\n",
       "</table>\n",
       "</div>"
      ],
      "text/plain": [
       "      request offer aid_related medical_help medical_products  \\\n",
       "21052       0     0           1            1                0   \n",
       "\n",
       "      search_and_rescue security military child_alone water food shelter  \\\n",
       "21052                 0        0        0           0     0    0       0   \n",
       "\n",
       "      clothing money missing_people refugees death other_aid  \\\n",
       "21052        0     0              0        0     0         0   \n",
       "\n",
       "      infrastructure_related transport buildings electricity tools hospitals  \\\n",
       "21052                      0         0         0           0     0         0   \n",
       "\n",
       "      shops aid_centers other_infrastructure weather_related floods storm  \\\n",
       "21052     0           0                    0               0      0     0   \n",
       "\n",
       "      fire earthquake cold other_weather direct_report  \n",
       "21052    0          0    0             0             0  "
      ]
     },
     "execution_count": 175,
     "metadata": {},
     "output_type": "execute_result"
    }
   ],
   "source": [
    "Y.sample()"
   ]
  },
  {
   "cell_type": "markdown",
   "metadata": {},
   "source": [
    "### 2. Write a tokenization function to process your text data"
   ]
  },
  {
   "cell_type": "code",
   "execution_count": 176,
   "metadata": {
    "ExecuteTime": {
     "end_time": "2019-08-25T22:52:58.911219Z",
     "start_time": "2019-08-25T22:52:58.906260Z"
    }
   },
   "outputs": [],
   "source": [
    "def tokenize(text):\n",
    "    tokens = word_tokenize(text)\n",
    "    lemmatizer = WordNetLemmatizer()\n",
    "    \n",
    "    clean_tokens = []\n",
    "    for tok in tokens:\n",
    "        clean_tok = lemmatizer.lemmatize(tok).lower().strip()\n",
    "        clean_tokens.append(clean_tok)\n",
    "    \n",
    "    return clean_tokens"
   ]
  },
  {
   "cell_type": "code",
   "execution_count": 177,
   "metadata": {
    "ExecuteTime": {
     "end_time": "2019-08-25T22:53:01.021048Z",
     "start_time": "2019-08-25T22:53:01.010079Z"
    }
   },
   "outputs": [
    {
     "data": {
      "text/plain": [
       "['weather',\n",
       " 'update',\n",
       " '-',\n",
       " 'a',\n",
       " 'cold',\n",
       " 'front',\n",
       " 'from',\n",
       " 'cuba',\n",
       " 'that',\n",
       " 'could',\n",
       " 'pas',\n",
       " 'over',\n",
       " 'haiti']"
      ]
     },
     "execution_count": 177,
     "metadata": {},
     "output_type": "execute_result"
    }
   ],
   "source": [
    "tokenize(X[0])"
   ]
  },
  {
   "cell_type": "markdown",
   "metadata": {},
   "source": [
    "### 3. Build a machine learning pipeline\n",
    "This machine pipeline should take in the `message` column as input and output classification results on the other 36 categories in the dataset. You may find the [MultiOutputClassifier](http://scikit-learn.org/stable/modules/generated/sklearn.multioutput.MultiOutputClassifier.html) helpful for predicting multiple target variables."
   ]
  },
  {
   "cell_type": "code",
   "execution_count": 178,
   "metadata": {
    "ExecuteTime": {
     "end_time": "2019-08-25T22:53:03.077885Z",
     "start_time": "2019-08-25T22:53:03.073881Z"
    }
   },
   "outputs": [],
   "source": [
    "pipeline = Pipeline([\n",
    "        ('vect', CountVectorizer(tokenizer=tokenize)),\n",
    "        ('tfidf', TfidfTransformer()),\n",
    "        ('clf', RandomForestClassifier())\n",
    "    ])"
   ]
  },
  {
   "cell_type": "markdown",
   "metadata": {},
   "source": [
    "### 4. Train pipeline\n",
    "- Split data into train and test sets\n",
    "- Train pipeline"
   ]
  },
  {
   "cell_type": "code",
   "execution_count": 179,
   "metadata": {
    "ExecuteTime": {
     "end_time": "2019-08-25T22:53:35.968797Z",
     "start_time": "2019-08-25T22:53:35.963775Z"
    }
   },
   "outputs": [
    {
     "data": {
      "text/plain": [
       "0    Weather update - a cold front from Cuba that could pass over Haiti\n",
       "Name: message, dtype: object"
      ]
     },
     "execution_count": 179,
     "metadata": {},
     "output_type": "execute_result"
    }
   ],
   "source": [
    "X = df.message\n",
    "X.head(1)"
   ]
  },
  {
   "cell_type": "code",
   "execution_count": 180,
   "metadata": {
    "ExecuteTime": {
     "end_time": "2019-08-25T22:53:38.822062Z",
     "start_time": "2019-08-25T22:53:38.795134Z"
    }
   },
   "outputs": [
    {
     "data": {
      "text/html": [
       "<div>\n",
       "<style scoped>\n",
       "    .dataframe tbody tr th:only-of-type {\n",
       "        vertical-align: middle;\n",
       "    }\n",
       "\n",
       "    .dataframe tbody tr th {\n",
       "        vertical-align: top;\n",
       "    }\n",
       "\n",
       "    .dataframe thead th {\n",
       "        text-align: right;\n",
       "    }\n",
       "</style>\n",
       "<table border=\"1\" class=\"dataframe\">\n",
       "  <thead>\n",
       "    <tr style=\"text-align: right;\">\n",
       "      <th></th>\n",
       "      <th>request</th>\n",
       "      <th>offer</th>\n",
       "      <th>aid_related</th>\n",
       "      <th>medical_help</th>\n",
       "      <th>medical_products</th>\n",
       "      <th>search_and_rescue</th>\n",
       "      <th>security</th>\n",
       "      <th>military</th>\n",
       "      <th>child_alone</th>\n",
       "      <th>water</th>\n",
       "      <th>food</th>\n",
       "      <th>shelter</th>\n",
       "      <th>clothing</th>\n",
       "      <th>money</th>\n",
       "      <th>missing_people</th>\n",
       "      <th>refugees</th>\n",
       "      <th>death</th>\n",
       "      <th>other_aid</th>\n",
       "      <th>infrastructure_related</th>\n",
       "      <th>transport</th>\n",
       "      <th>buildings</th>\n",
       "      <th>electricity</th>\n",
       "      <th>tools</th>\n",
       "      <th>hospitals</th>\n",
       "      <th>shops</th>\n",
       "      <th>aid_centers</th>\n",
       "      <th>other_infrastructure</th>\n",
       "      <th>weather_related</th>\n",
       "      <th>floods</th>\n",
       "      <th>storm</th>\n",
       "      <th>fire</th>\n",
       "      <th>earthquake</th>\n",
       "      <th>cold</th>\n",
       "      <th>other_weather</th>\n",
       "      <th>direct_report</th>\n",
       "    </tr>\n",
       "  </thead>\n",
       "  <tbody>\n",
       "    <tr>\n",
       "      <th>0</th>\n",
       "      <td>0</td>\n",
       "      <td>0</td>\n",
       "      <td>0</td>\n",
       "      <td>0</td>\n",
       "      <td>0</td>\n",
       "      <td>0</td>\n",
       "      <td>0</td>\n",
       "      <td>0</td>\n",
       "      <td>0</td>\n",
       "      <td>0</td>\n",
       "      <td>0</td>\n",
       "      <td>0</td>\n",
       "      <td>0</td>\n",
       "      <td>0</td>\n",
       "      <td>0</td>\n",
       "      <td>0</td>\n",
       "      <td>0</td>\n",
       "      <td>0</td>\n",
       "      <td>0</td>\n",
       "      <td>0</td>\n",
       "      <td>0</td>\n",
       "      <td>0</td>\n",
       "      <td>0</td>\n",
       "      <td>0</td>\n",
       "      <td>0</td>\n",
       "      <td>0</td>\n",
       "      <td>0</td>\n",
       "      <td>0</td>\n",
       "      <td>0</td>\n",
       "      <td>0</td>\n",
       "      <td>0</td>\n",
       "      <td>0</td>\n",
       "      <td>0</td>\n",
       "      <td>0</td>\n",
       "      <td>0</td>\n",
       "    </tr>\n",
       "  </tbody>\n",
       "</table>\n",
       "</div>"
      ],
      "text/plain": [
       "  request offer aid_related medical_help medical_products search_and_rescue  \\\n",
       "0       0     0           0            0                0                 0   \n",
       "\n",
       "  security military child_alone water food shelter clothing money  \\\n",
       "0        0        0           0     0    0       0        0     0   \n",
       "\n",
       "  missing_people refugees death other_aid infrastructure_related transport  \\\n",
       "0              0        0     0         0                      0         0   \n",
       "\n",
       "  buildings electricity tools hospitals shops aid_centers  \\\n",
       "0         0           0     0         0     0           0   \n",
       "\n",
       "  other_infrastructure weather_related floods storm fire earthquake cold  \\\n",
       "0                    0               0      0     0    0          0    0   \n",
       "\n",
       "  other_weather direct_report  \n",
       "0             0             0  "
      ]
     },
     "execution_count": 180,
     "metadata": {},
     "output_type": "execute_result"
    }
   ],
   "source": [
    "y = df[df.columns[5:]]\n",
    "#Y = df.loc[:,df.columns[4:]]\n",
    "y.head(1)"
   ]
  },
  {
   "cell_type": "code",
   "execution_count": 181,
   "metadata": {
    "ExecuteTime": {
     "end_time": "2019-08-25T22:54:00.253651Z",
     "start_time": "2019-08-25T22:54:00.250675Z"
    }
   },
   "outputs": [],
   "source": [
    "import wrangling3 as w\n",
    "#w.checkvalue(y)"
   ]
  },
  {
   "cell_type": "code",
   "execution_count": 182,
   "metadata": {
    "ExecuteTime": {
     "end_time": "2019-08-25T22:55:34.619181Z",
     "start_time": "2019-08-25T22:55:34.603192Z"
    }
   },
   "outputs": [],
   "source": [
    "X_train, X_test, y_train, y_test = train_test_split(X, y)"
   ]
  },
  {
   "cell_type": "code",
   "execution_count": 183,
   "metadata": {
    "ExecuteTime": {
     "end_time": "2019-08-25T22:55:36.878019Z",
     "start_time": "2019-08-25T22:55:36.874019Z"
    }
   },
   "outputs": [
    {
     "data": {
      "text/plain": [
       "pandas.core.frame.DataFrame"
      ]
     },
     "execution_count": 183,
     "metadata": {},
     "output_type": "execute_result"
    }
   ],
   "source": [
    "type(y_test)"
   ]
  },
  {
   "cell_type": "markdown",
   "metadata": {},
   "source": [
    "### 5. Test your model\n",
    "Report the f1 score, precision and recall for each output category of the dataset. You can do this by iterating through the columns and calling sklearn's `classification_report` on each."
   ]
  },
  {
   "cell_type": "code",
   "execution_count": 184,
   "metadata": {
    "ExecuteTime": {
     "end_time": "2019-08-25T22:55:44.127909Z",
     "start_time": "2019-08-25T22:55:44.125176Z"
    }
   },
   "outputs": [],
   "source": [
    "model = pipeline"
   ]
  },
  {
   "cell_type": "code",
   "execution_count": 185,
   "metadata": {
    "ExecuteTime": {
     "end_time": "2019-08-25T22:56:04.203583Z",
     "start_time": "2019-08-25T22:55:51.226693Z"
    }
   },
   "outputs": [
    {
     "name": "stderr",
     "output_type": "stream",
     "text": [
      "C:\\Users\\mengf\\Miniconda3\\envs\\py37\\lib\\site-packages\\sklearn\\ensemble\\forest.py:245: FutureWarning: The default value of n_estimators will change from 10 in version 0.20 to 100 in 0.22.\n",
      "  \"10 in version 0.20 to 100 in 0.22.\", FutureWarning)\n"
     ]
    }
   ],
   "source": [
    "model.fit(X_train, y_train);"
   ]
  },
  {
   "cell_type": "code",
   "execution_count": 206,
   "metadata": {
    "ExecuteTime": {
     "end_time": "2019-08-25T23:11:15.627596Z",
     "start_time": "2019-08-25T23:11:13.695002Z"
    }
   },
   "outputs": [],
   "source": [
    "y_pred = model.predict(X_test)"
   ]
  },
  {
   "cell_type": "code",
   "execution_count": 202,
   "metadata": {
    "ExecuteTime": {
     "end_time": "2019-08-25T23:10:17.699388Z",
     "start_time": "2019-08-25T23:10:17.696395Z"
    }
   },
   "outputs": [],
   "source": [
    "cols = df.columns[5:]"
   ]
  },
  {
   "cell_type": "code",
   "execution_count": 207,
   "metadata": {
    "ExecuteTime": {
     "end_time": "2019-08-25T23:11:19.416200Z",
     "start_time": "2019-08-25T23:11:19.407224Z"
    }
   },
   "outputs": [],
   "source": [
    "y_pred = pd.DataFrame(y_pred,columns=cols)"
   ]
  },
  {
   "cell_type": "code",
   "execution_count": 222,
   "metadata": {
    "ExecuteTime": {
     "end_time": "2019-08-25T23:32:59.969692Z",
     "start_time": "2019-08-25T23:32:59.949746Z"
    }
   },
   "outputs": [
    {
     "data": {
      "text/html": [
       "<div>\n",
       "<style scoped>\n",
       "    .dataframe tbody tr th:only-of-type {\n",
       "        vertical-align: middle;\n",
       "    }\n",
       "\n",
       "    .dataframe tbody tr th {\n",
       "        vertical-align: top;\n",
       "    }\n",
       "\n",
       "    .dataframe thead th {\n",
       "        text-align: right;\n",
       "    }\n",
       "</style>\n",
       "<table border=\"1\" class=\"dataframe\">\n",
       "  <thead>\n",
       "    <tr style=\"text-align: right;\">\n",
       "      <th></th>\n",
       "      <th>request</th>\n",
       "      <th>offer</th>\n",
       "      <th>aid_related</th>\n",
       "      <th>medical_help</th>\n",
       "      <th>medical_products</th>\n",
       "      <th>search_and_rescue</th>\n",
       "      <th>security</th>\n",
       "      <th>military</th>\n",
       "      <th>child_alone</th>\n",
       "      <th>water</th>\n",
       "      <th>food</th>\n",
       "      <th>shelter</th>\n",
       "      <th>clothing</th>\n",
       "      <th>money</th>\n",
       "      <th>missing_people</th>\n",
       "      <th>refugees</th>\n",
       "      <th>death</th>\n",
       "      <th>other_aid</th>\n",
       "      <th>infrastructure_related</th>\n",
       "      <th>transport</th>\n",
       "      <th>buildings</th>\n",
       "      <th>electricity</th>\n",
       "      <th>tools</th>\n",
       "      <th>hospitals</th>\n",
       "      <th>shops</th>\n",
       "      <th>aid_centers</th>\n",
       "      <th>other_infrastructure</th>\n",
       "      <th>weather_related</th>\n",
       "      <th>floods</th>\n",
       "      <th>storm</th>\n",
       "      <th>fire</th>\n",
       "      <th>earthquake</th>\n",
       "      <th>cold</th>\n",
       "      <th>other_weather</th>\n",
       "      <th>direct_report</th>\n",
       "    </tr>\n",
       "  </thead>\n",
       "  <tbody>\n",
       "    <tr>\n",
       "      <th>5357</th>\n",
       "      <td>0</td>\n",
       "      <td>0</td>\n",
       "      <td>0</td>\n",
       "      <td>0</td>\n",
       "      <td>0</td>\n",
       "      <td>0</td>\n",
       "      <td>0</td>\n",
       "      <td>0</td>\n",
       "      <td>0</td>\n",
       "      <td>0</td>\n",
       "      <td>0</td>\n",
       "      <td>0</td>\n",
       "      <td>0</td>\n",
       "      <td>0</td>\n",
       "      <td>0</td>\n",
       "      <td>0</td>\n",
       "      <td>0</td>\n",
       "      <td>0</td>\n",
       "      <td>0</td>\n",
       "      <td>0</td>\n",
       "      <td>0</td>\n",
       "      <td>0</td>\n",
       "      <td>0</td>\n",
       "      <td>0</td>\n",
       "      <td>0</td>\n",
       "      <td>0</td>\n",
       "      <td>0</td>\n",
       "      <td>0</td>\n",
       "      <td>0</td>\n",
       "      <td>0</td>\n",
       "      <td>0</td>\n",
       "      <td>0</td>\n",
       "      <td>0</td>\n",
       "      <td>0</td>\n",
       "      <td>0</td>\n",
       "    </tr>\n",
       "  </tbody>\n",
       "</table>\n",
       "</div>"
      ],
      "text/plain": [
       "     request offer aid_related medical_help medical_products  \\\n",
       "5357       0     0           0            0                0   \n",
       "\n",
       "     search_and_rescue security military child_alone water food shelter  \\\n",
       "5357                 0        0        0           0     0    0       0   \n",
       "\n",
       "     clothing money missing_people refugees death other_aid  \\\n",
       "5357        0     0              0        0     0         0   \n",
       "\n",
       "     infrastructure_related transport buildings electricity tools hospitals  \\\n",
       "5357                      0         0         0           0     0         0   \n",
       "\n",
       "     shops aid_centers other_infrastructure weather_related floods storm fire  \\\n",
       "5357     0           0                    0               0      0     0    0   \n",
       "\n",
       "     earthquake cold other_weather direct_report  \n",
       "5357          0    0             0             0  "
      ]
     },
     "execution_count": 222,
     "metadata": {},
     "output_type": "execute_result"
    }
   ],
   "source": [
    "y_pred.sample()"
   ]
  },
  {
   "cell_type": "code",
   "execution_count": 223,
   "metadata": {
    "ExecuteTime": {
     "end_time": "2019-08-25T23:33:42.830491Z",
     "start_time": "2019-08-25T23:33:37.856629Z"
    }
   },
   "outputs": [
    {
     "name": "stdout",
     "output_type": "stream",
     "text": [
      "- - - request - - -\n",
      "              precision    recall  f1-score   support\n",
      "\n",
      "           0     0.8855    0.9829    0.9317      5424\n",
      "           1     0.8258    0.3903    0.5300      1130\n",
      "\n",
      "    accuracy                         0.8807      6554\n",
      "   macro avg     0.8557    0.6866    0.7309      6554\n",
      "weighted avg     0.8753    0.8807    0.8624      6554\n",
      "\n",
      "- - - offer - - -\n"
     ]
    },
    {
     "name": "stderr",
     "output_type": "stream",
     "text": [
      "C:\\Users\\mengf\\Miniconda3\\envs\\py37\\lib\\site-packages\\sklearn\\metrics\\classification.py:1437: UndefinedMetricWarning: Precision and F-score are ill-defined and being set to 0.0 in labels with no predicted samples.\n",
      "  'precision', 'predicted', average, warn_for)\n"
     ]
    },
    {
     "name": "stdout",
     "output_type": "stream",
     "text": [
      "              precision    recall  f1-score   support\n",
      "\n",
      "           0     0.9959    1.0000    0.9979      6527\n",
      "           1     0.0000    0.0000    0.0000        27\n",
      "\n",
      "    accuracy                         0.9959      6554\n",
      "   macro avg     0.4979    0.5000    0.4990      6554\n",
      "weighted avg     0.9918    0.9959    0.9938      6554\n",
      "\n",
      "- - - aid_related - - -\n",
      "              precision    recall  f1-score   support\n",
      "\n",
      "           0     0.6917    0.9002    0.7823      3868\n",
      "           1     0.7461    0.4222    0.5392      2686\n",
      "\n",
      "    accuracy                         0.7043      6554\n",
      "   macro avg     0.7189    0.6612    0.6608      6554\n",
      "weighted avg     0.7140    0.7043    0.6827      6554\n",
      "\n",
      "- - - medical_help - - -\n",
      "              precision    recall  f1-score   support\n",
      "\n",
      "           0     0.9247    0.9988    0.9604      6052\n",
      "           1     0.5882    0.0199    0.0385       502\n",
      "\n",
      "    accuracy                         0.9239      6554\n",
      "   macro avg     0.7565    0.5094    0.4994      6554\n",
      "weighted avg     0.8990    0.9239    0.8898      6554\n",
      "\n",
      "- - - medical_products - - -\n",
      "              precision    recall  f1-score   support\n",
      "\n",
      "           0     0.9525    0.9997    0.9755      6233\n",
      "           1     0.8333    0.0312    0.0601       321\n",
      "\n",
      "    accuracy                         0.9522      6554\n",
      "   macro avg     0.8929    0.5154    0.5178      6554\n",
      "weighted avg     0.9466    0.9522    0.9307      6554\n",
      "\n",
      "- - - search_and_rescue - - -\n",
      "              precision    recall  f1-score   support\n",
      "\n",
      "           0     0.9722    1.0000    0.9859      6372\n",
      "           1     0.0000    0.0000    0.0000       182\n",
      "\n",
      "    accuracy                         0.9722      6554\n",
      "   macro avg     0.4861    0.5000    0.4930      6554\n",
      "weighted avg     0.9452    0.9722    0.9585      6554\n",
      "\n",
      "- - - security - - -\n",
      "              precision    recall  f1-score   support\n",
      "\n",
      "           0     0.9832    0.9998    0.9915      6444\n",
      "           1     0.0000    0.0000    0.0000       110\n",
      "\n",
      "    accuracy                         0.9831      6554\n",
      "   macro avg     0.4916    0.4999    0.4957      6554\n",
      "weighted avg     0.9667    0.9831    0.9748      6554\n",
      "\n",
      "- - - military - - -\n",
      "              precision    recall  f1-score   support\n",
      "\n",
      "           0     0.9708    0.9997    0.9850      6358\n",
      "           1     0.7143    0.0255    0.0493       196\n",
      "\n",
      "    accuracy                         0.9706      6554\n",
      "   macro avg     0.8426    0.5126    0.5172      6554\n",
      "weighted avg     0.9632    0.9706    0.9571      6554\n",
      "\n",
      "- - - child_alone - - -\n",
      "              precision    recall  f1-score   support\n",
      "\n",
      "           0     1.0000    1.0000    1.0000      6554\n",
      "\n",
      "    accuracy                         1.0000      6554\n",
      "   macro avg     1.0000    1.0000    1.0000      6554\n",
      "weighted avg     1.0000    1.0000    1.0000      6554\n",
      "\n",
      "- - - water - - -\n",
      "              precision    recall  f1-score   support\n",
      "\n",
      "           0     0.9474    0.9990    0.9725      6153\n",
      "           1     0.9091    0.1496    0.2570       401\n",
      "\n",
      "    accuracy                         0.9471      6554\n",
      "   macro avg     0.9283    0.5743    0.6148      6554\n",
      "weighted avg     0.9451    0.9471    0.9288      6554\n",
      "\n",
      "- - - food - - -\n",
      "              precision    recall  f1-score   support\n",
      "\n",
      "           0     0.9079    0.9928    0.9484      5799\n",
      "           1     0.8028    0.2265    0.3533       755\n",
      "\n",
      "    accuracy                         0.9045      6554\n",
      "   macro avg     0.8554    0.6096    0.6509      6554\n",
      "weighted avg     0.8958    0.9045    0.8799      6554\n",
      "\n",
      "- - - shelter - - -\n",
      "              precision    recall  f1-score   support\n",
      "\n",
      "           0     0.9223    0.9980    0.9586      5981\n",
      "           1     0.8537    0.1222    0.2137       573\n",
      "\n",
      "    accuracy                         0.9214      6554\n",
      "   macro avg     0.8880    0.5601    0.5862      6554\n",
      "weighted avg     0.9163    0.9214    0.8935      6554\n",
      "\n",
      "- - - clothing - - -\n",
      "              precision    recall  f1-score   support\n",
      "\n",
      "           0     0.9841    0.9995    0.9918      6442\n",
      "           1     0.7273    0.0714    0.1301       112\n",
      "\n",
      "    accuracy                         0.9837      6554\n",
      "   macro avg     0.8557    0.5355    0.5609      6554\n",
      "weighted avg     0.9797    0.9837    0.9770      6554\n",
      "\n",
      "- - - money - - -\n",
      "              precision    recall  f1-score   support\n",
      "\n",
      "           0     0.9782    1.0000    0.9890      6408\n",
      "           1     1.0000    0.0205    0.0403       146\n",
      "\n",
      "    accuracy                         0.9782      6554\n",
      "   macro avg     0.9891    0.5103    0.5146      6554\n",
      "weighted avg     0.9787    0.9782    0.9678      6554\n",
      "\n",
      "- - - missing_people - - -\n",
      "              precision    recall  f1-score   support\n",
      "\n",
      "           0     0.9890    1.0000    0.9945      6481\n",
      "           1     1.0000    0.0137    0.0270        73\n",
      "\n",
      "    accuracy                         0.9890      6554\n",
      "   macro avg     0.9945    0.5068    0.5108      6554\n",
      "weighted avg     0.9891    0.9890    0.9837      6554\n",
      "\n",
      "- - - refugees - - -\n",
      "              precision    recall  f1-score   support\n",
      "\n",
      "           0     0.9658    0.9997    0.9824      6327\n",
      "           1     0.6000    0.0132    0.0259       227\n",
      "\n",
      "    accuracy                         0.9655      6554\n",
      "   macro avg     0.7829    0.5064    0.5042      6554\n",
      "weighted avg     0.9531    0.9655    0.9493      6554\n",
      "\n",
      "- - - death - - -\n",
      "              precision    recall  f1-score   support\n",
      "\n",
      "           0     0.9570    0.9994    0.9777      6260\n",
      "           1     0.7647    0.0442    0.0836       294\n",
      "\n",
      "    accuracy                         0.9565      6554\n",
      "   macro avg     0.8609    0.5218    0.5307      6554\n",
      "weighted avg     0.9484    0.9565    0.9376      6554\n",
      "\n",
      "- - - other_aid - - -\n",
      "              precision    recall  f1-score   support\n",
      "\n",
      "           0     0.8716    0.9970    0.9301      5697\n",
      "           1     0.5405    0.0233    0.0447       857\n",
      "\n",
      "    accuracy                         0.8697      6554\n",
      "   macro avg     0.7061    0.5102    0.4874      6554\n",
      "weighted avg     0.8283    0.8697    0.8143      6554\n",
      "\n",
      "- - - infrastructure_related - - -\n",
      "              precision    recall  f1-score   support\n",
      "\n",
      "           0     0.9345    0.9992    0.9658      6125\n",
      "           1     0.0000    0.0000    0.0000       429\n",
      "\n",
      "    accuracy                         0.9338      6554\n",
      "   macro avg     0.4672    0.4996    0.4829      6554\n",
      "weighted avg     0.8733    0.9338    0.9025      6554\n",
      "\n",
      "- - - transport - - -\n",
      "              precision    recall  f1-score   support\n",
      "\n",
      "           0     0.9598    0.9998    0.9794      6288\n",
      "           1     0.7500    0.0113    0.0222       266\n",
      "\n",
      "    accuracy                         0.9597      6554\n",
      "   macro avg     0.8549    0.5056    0.5008      6554\n",
      "weighted avg     0.9513    0.9597    0.9406      6554\n",
      "\n",
      "- - - buildings - - -\n",
      "              precision    recall  f1-score   support\n",
      "\n",
      "           0     0.9492    0.9990    0.9735      6208\n",
      "           1     0.7000    0.0405    0.0765       346\n",
      "\n",
      "    accuracy                         0.9484      6554\n",
      "   macro avg     0.8246    0.5197    0.5250      6554\n",
      "weighted avg     0.9360    0.9484    0.9261      6554\n",
      "\n",
      "- - - electricity - - -\n",
      "              precision    recall  f1-score   support\n",
      "\n",
      "           0     0.9805    1.0000    0.9901      6424\n",
      "           1     1.0000    0.0154    0.0303       130\n",
      "\n",
      "    accuracy                         0.9805      6554\n",
      "   macro avg     0.9902    0.5077    0.5102      6554\n",
      "weighted avg     0.9809    0.9805    0.9711      6554\n",
      "\n",
      "- - - tools - - -\n",
      "              precision    recall  f1-score   support\n",
      "\n",
      "           0     0.9939    0.9998    0.9969      6514\n",
      "           1     0.0000    0.0000    0.0000        40\n",
      "\n",
      "    accuracy                         0.9937      6554\n",
      "   macro avg     0.4969    0.4999    0.4984      6554\n",
      "weighted avg     0.9878    0.9937    0.9908      6554\n",
      "\n",
      "- - - hospitals - - -\n",
      "              precision    recall  f1-score   support\n",
      "\n",
      "           0     0.9889    1.0000    0.9944      6481\n",
      "           1     0.0000    0.0000    0.0000        73\n",
      "\n",
      "    accuracy                         0.9889      6554\n",
      "   macro avg     0.4944    0.5000    0.4972      6554\n",
      "weighted avg     0.9778    0.9889    0.9833      6554\n",
      "\n",
      "- - - shops - - -\n",
      "              precision    recall  f1-score   support\n",
      "\n",
      "           0     0.9953    1.0000    0.9976      6523\n",
      "           1     0.0000    0.0000    0.0000        31\n",
      "\n",
      "    accuracy                         0.9953      6554\n",
      "   macro avg     0.4976    0.5000    0.4988      6554\n",
      "weighted avg     0.9906    0.9953    0.9929      6554\n",
      "\n",
      "- - - aid_centers - - -\n"
     ]
    },
    {
     "name": "stdout",
     "output_type": "stream",
     "text": [
      "              precision    recall  f1-score   support\n",
      "\n",
      "           0     0.9890    1.0000    0.9945      6482\n",
      "           1     0.0000    0.0000    0.0000        72\n",
      "\n",
      "    accuracy                         0.9890      6554\n",
      "   macro avg     0.4945    0.5000    0.4972      6554\n",
      "weighted avg     0.9781    0.9890    0.9836      6554\n",
      "\n",
      "- - - other_infrastructure - - -\n",
      "              precision    recall  f1-score   support\n",
      "\n",
      "           0     0.9544    0.9994    0.9763      6255\n",
      "           1     0.0000    0.0000    0.0000       299\n",
      "\n",
      "    accuracy                         0.9538      6554\n",
      "   macro avg     0.4772    0.4997    0.4882      6554\n",
      "weighted avg     0.9108    0.9538    0.9318      6554\n",
      "\n",
      "- - - weather_related - - -\n",
      "              precision    recall  f1-score   support\n",
      "\n",
      "           0     0.8210    0.9751    0.8914      4774\n",
      "           1     0.8654    0.4298    0.5743      1780\n",
      "\n",
      "    accuracy                         0.8270      6554\n",
      "   macro avg     0.8432    0.7024    0.7329      6554\n",
      "weighted avg     0.8330    0.8270    0.8053      6554\n",
      "\n",
      "- - - floods - - -\n",
      "              precision    recall  f1-score   support\n",
      "\n",
      "           0     0.9288    0.9982    0.9622      6009\n",
      "           1     0.8854    0.1560    0.2652       545\n",
      "\n",
      "    accuracy                         0.9281      6554\n",
      "   macro avg     0.9071    0.5771    0.6137      6554\n",
      "weighted avg     0.9252    0.9281    0.9043      6554\n",
      "\n",
      "- - - storm - - -\n",
      "              precision    recall  f1-score   support\n",
      "\n",
      "           0     0.9215    0.9943    0.9565      5951\n",
      "           1     0.7444    0.1642    0.2690       603\n",
      "\n",
      "    accuracy                         0.9179      6554\n",
      "   macro avg     0.8329    0.5792    0.6128      6554\n",
      "weighted avg     0.9052    0.9179    0.8933      6554\n",
      "\n",
      "- - - fire - - -\n",
      "              precision    recall  f1-score   support\n",
      "\n",
      "           0     0.9898    1.0000    0.9949      6487\n",
      "           1     0.0000    0.0000    0.0000        67\n",
      "\n",
      "    accuracy                         0.9898      6554\n",
      "   macro avg     0.4949    0.5000    0.4974      6554\n",
      "weighted avg     0.9797    0.9898    0.9847      6554\n",
      "\n",
      "- - - earthquake - - -\n",
      "              precision    recall  f1-score   support\n",
      "\n",
      "           0     0.9461    0.9961    0.9705      5969\n",
      "           1     0.9145    0.4205    0.5761       585\n",
      "\n",
      "    accuracy                         0.9448      6554\n",
      "   macro avg     0.9303    0.7083    0.7733      6554\n",
      "weighted avg     0.9432    0.9448    0.9353      6554\n",
      "\n",
      "- - - cold - - -\n",
      "              precision    recall  f1-score   support\n",
      "\n",
      "           0     0.9812    0.9998    0.9904      6428\n",
      "           1     0.7500    0.0238    0.0462       126\n",
      "\n",
      "    accuracy                         0.9811      6554\n",
      "   macro avg     0.8656    0.5118    0.5183      6554\n",
      "weighted avg     0.9768    0.9811    0.9723      6554\n",
      "\n",
      "- - - other_weather - - -\n",
      "              precision    recall  f1-score   support\n",
      "\n",
      "           0     0.9466    0.9995    0.9723      6203\n",
      "           1     0.2500    0.0028    0.0056       351\n",
      "\n",
      "    accuracy                         0.9461      6554\n",
      "   macro avg     0.5983    0.5012    0.4890      6554\n",
      "weighted avg     0.9093    0.9461    0.9205      6554\n",
      "\n",
      "- - - direct_report - - -\n",
      "              precision    recall  f1-score   support\n",
      "\n",
      "           0     0.8566    0.9790    0.9137      5296\n",
      "           1     0.7784    0.3100    0.4434      1258\n",
      "\n",
      "    accuracy                         0.8506      6554\n",
      "   macro avg     0.8175    0.6445    0.6786      6554\n",
      "weighted avg     0.8416    0.8506    0.8235      6554\n",
      "\n"
     ]
    }
   ],
   "source": [
    "for i in cols:\n",
    "    print('- - - {} - - -'.format(i))\n",
    "    print(classification_report(y_test[i],y_pred[i], digits=4))"
   ]
  },
  {
   "cell_type": "code",
   "execution_count": 219,
   "metadata": {
    "ExecuteTime": {
     "end_time": "2019-08-25T23:29:20.427398Z",
     "start_time": "2019-08-25T23:29:20.424406Z"
    }
   },
   "outputs": [],
   "source": [
    "# archive\n",
    "# 如果不转换 y_pred 需要进行转换后比较\n",
    "# print(classification_report(y_test.iloc[:,0], y_pred.T[0]))；"
   ]
  },
  {
   "cell_type": "markdown",
   "metadata": {},
   "source": [
    "### 6. Improve your model\n",
    "Use grid search to find better parameters. "
   ]
  },
  {
   "cell_type": "code",
   "execution_count": null,
   "metadata": {
    "ExecuteTime": {
     "end_time": "2019-08-25T03:40:49.114890Z",
     "start_time": "2019-08-25T03:40:31.772Z"
    }
   },
   "outputs": [],
   "source": [
    "parameters = \n",
    "\n",
    "cv = "
   ]
  },
  {
   "cell_type": "markdown",
   "metadata": {},
   "source": [
    "### 7. Test your model\n",
    "Show the accuracy, precision, and recall of the tuned model.  \n",
    "\n",
    "Since this project focuses on code quality, process, and  pipelines, there is no minimum performance metric needed to pass. However, make sure to fine tune your models for accuracy, precision and recall to make your project stand out - especially for your portfolio!"
   ]
  },
  {
   "cell_type": "code",
   "execution_count": null,
   "metadata": {},
   "outputs": [],
   "source": []
  },
  {
   "cell_type": "markdown",
   "metadata": {},
   "source": [
    "### 8. Try improving your model further. Here are a few ideas:\n",
    "* try other machine learning algorithms\n",
    "* add other features besides the TF-IDF"
   ]
  },
  {
   "cell_type": "code",
   "execution_count": null,
   "metadata": {},
   "outputs": [],
   "source": []
  },
  {
   "cell_type": "markdown",
   "metadata": {},
   "source": [
    "### 9. Export your model as a pickle file"
   ]
  },
  {
   "cell_type": "code",
   "execution_count": null,
   "metadata": {},
   "outputs": [],
   "source": []
  },
  {
   "cell_type": "markdown",
   "metadata": {},
   "source": [
    "### 10. Use this notebook to complete `train.py`\n",
    "Use the template file attached in the Resources folder to write a script that runs the steps above to create a database and export a model based on a new dataset specified by the user."
   ]
  },
  {
   "cell_type": "code",
   "execution_count": null,
   "metadata": {},
   "outputs": [],
   "source": []
  }
 ],
 "metadata": {
  "kernelspec": {
   "display_name": "Python 3",
   "language": "python",
   "name": "python3"
  },
  "language_info": {
   "codemirror_mode": {
    "name": "ipython",
    "version": 3
   },
   "file_extension": ".py",
   "mimetype": "text/x-python",
   "name": "python",
   "nbconvert_exporter": "python",
   "pygments_lexer": "ipython3",
   "version": "3.7.4"
  },
  "toc": {
   "base_numbering": 1,
   "nav_menu": {},
   "number_sections": true,
   "sideBar": true,
   "skip_h1_title": false,
   "title_cell": "Table of Contents",
   "title_sidebar": "Contents",
   "toc_cell": false,
   "toc_position": {
    "height": "calc(100% - 180px)",
    "left": "10px",
    "top": "150px",
    "width": "255.594px"
   },
   "toc_section_display": true,
   "toc_window_display": true
  }
 },
 "nbformat": 4,
 "nbformat_minor": 2
}
