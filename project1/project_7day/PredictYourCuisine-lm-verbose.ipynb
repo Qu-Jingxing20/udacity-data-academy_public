{
 "cells": [
  {
   "cell_type": "markdown",
   "metadata": {},
   "source": [
    "# 机器学习工程师纳米学位（试学班）\n",
    "## 项目 0: 预测你的下一道世界料理\n",
    "\n",
    "\n",
    "欢迎来到机器学习的预测烹饪菜系项目！在此文件中，有些示例代码已经提供给你，但你还需要实现更多的功能来让项目成功运行。除非有明确要求，你无须修改任何已给出的代码。以**编程练习**开始的标题表示接下来的内容中有需要你必须实现的功能。每一部分都会有详细的指导，需要实现的部分也会在注释中以**TODO**标出。请仔细阅读所有的提示！\n",
    "\n",
    "- **实验任务**：给定佐料名称，预测菜品所属的菜系。\n",
    "- **实验步骤**：菜品数据载入；佐料名称预处理，并预览数据集结构；载入逻辑回归模型，并训练；结果测试并提交，查看实验分数。\n",
    "\n",
    ">**提示：**Code 和 Markdown 区域可通过 **Shift + Enter** 快捷键运行。此外，Markdown可以通过双击进入编辑模式。"
   ]
  },
  {
   "cell_type": "code",
   "execution_count": 3,
   "metadata": {},
   "outputs": [
    {
     "name": "stdout",
     "output_type": "stream",
     "text": [
      "[nltk_data] Downloading package wordnet to /Users/francis/nltk_data...\n",
      "[nltk_data]   Unzipping corpora/wordnet.zip.\n"
     ]
    }
   ],
   "source": [
    "### 运行以下代码安装环境\n",
    "!python -c \"import nltk; nltk.download('wordnet')\""
   ]
  },
  {
   "cell_type": "markdown",
   "metadata": {},
   "source": [
    "---\n",
    "## 第一步. 下载并导入数据\n",
    "在这个项目中，你将利用[Yummly](https://www.yummly.com/)所提供的数据集来训练和测试一个模型，并对模型的性能和预测能力进行测试。通过该数据训练后的好的模型可以被用来对菜系进行预测。\n",
    "\n",
    "此项目的数据集来自[Kaggle What's Cooking 竞赛](https://www.kaggle.com/c/whats-cooking/data)。共 39774/9944 个训练和测试数据点，涵盖了中国菜、越南菜、法国菜等的信息。数据集包含以下特征：\n",
    "- 'id'：24717, 数据编号\n",
    "- 'cuisine'：\"indian\", 菜系\n",
    "- 'ingredients'：[\"tumeric\", \"vegetable stock\", ...] 此菜所包含的佐料\n",
    "\n",
    "首先你需要前往此 [菜系数据集](https://www.kaggle.com/c/whats-cooking/data) 下载(选择 **Download All** )。如果不能正常下载，请参考教室中的下载教程。然后运行下面区域的代码以载入数据集，以及一些此项目所需的 Python 库。如果成功返回数据集的大小，表示数据集已载入成功。"
   ]
  },
  {
   "cell_type": "markdown",
   "metadata": {},
   "source": [
    "### 1.1 配置环境\n",
    "首先按照本目录中`README.md`文件中的第一部分内容，配置实验开发环境和所需库函数。"
   ]
  },
  {
   "cell_type": "markdown",
   "metadata": {},
   "source": [
    "### 1.2 加载数据 \n",
    "其次，在下载完实验数据集后，我们将其解压至当前目录中(即：`MLND-cn-trial\\`目录下面)， 然后依次输入以下代码，加载本次实验的训练集和测试集。"
   ]
  },
  {
   "cell_type": "code",
   "execution_count": 4,
   "metadata": {},
   "outputs": [
    {
     "name": "stdout",
     "output_type": "stream",
     "text": [
      "菜名数据集一共包含 39774 训练数据 和 9944 测试样例。\n",
      "\n",
      "数据成功载入！\n"
     ]
    }
   ],
   "source": [
    "## 请不要修改下方代码\n",
    "# 导入依赖库\n",
    "import json\n",
    "import codecs\n",
    "import pandas as pd\n",
    "import numpy as np\n",
    "import matplotlib.pyplot as plt\n",
    "%matplotlib inline\n",
    "\n",
    "# 加载数据集\n",
    "train_filename='train.json'\n",
    "train_content = pd.read_json(codecs.open(train_filename, mode='r', encoding='utf-8'))\n",
    "\n",
    "test_filename = 'test.json'\n",
    "test_content = pd.read_json(codecs.open(test_filename, mode='r', encoding='utf-8'))\n",
    "    \n",
    "# 打印加载的数据集数量\n",
    "print(\"菜名数据集一共包含 {} 训练数据 和 {} 测试样例。\\n\".format(len(train_content), len(test_content)))\n",
    "if len(train_content)==39774 and len(test_content)==9944:\n",
    "    print(\"数据成功载入！\")\n",
    "else:\n",
    "    print(\"数据载入有问题，请检查文件路径！\")"
   ]
  },
  {
   "cell_type": "markdown",
   "metadata": {},
   "source": [
    "### 1.3 数据预览\n",
    "为了查看我们的数据集的分布和菜品总共的种类，我们打印出部分数据样例。"
   ]
  },
  {
   "cell_type": "code",
   "execution_count": 5,
   "metadata": {},
   "outputs": [],
   "source": [
    "## 请不要修改下方代码\n",
    "pd.set_option('display.max_colwidth',120)"
   ]
  },
  {
   "cell_type": "markdown",
   "metadata": {},
   "source": [
    "### 编程练习\n",
    "你需要通过`head()`函数来预览训练集`train_content`数据。（输出前5条）"
   ]
  },
  {
   "cell_type": "code",
   "execution_count": 6,
   "metadata": {},
   "outputs": [
    {
     "data": {
      "text/html": [
       "<div>\n",
       "<style scoped>\n",
       "    .dataframe tbody tr th:only-of-type {\n",
       "        vertical-align: middle;\n",
       "    }\n",
       "\n",
       "    .dataframe tbody tr th {\n",
       "        vertical-align: top;\n",
       "    }\n",
       "\n",
       "    .dataframe thead th {\n",
       "        text-align: right;\n",
       "    }\n",
       "</style>\n",
       "<table border=\"1\" class=\"dataframe\">\n",
       "  <thead>\n",
       "    <tr style=\"text-align: right;\">\n",
       "      <th></th>\n",
       "      <th>cuisine</th>\n",
       "      <th>id</th>\n",
       "      <th>ingredients</th>\n",
       "    </tr>\n",
       "  </thead>\n",
       "  <tbody>\n",
       "    <tr>\n",
       "      <th>0</th>\n",
       "      <td>greek</td>\n",
       "      <td>10259</td>\n",
       "      <td>[romaine lettuce, black olives, grape tomatoes, garlic, pepper, purple onion, seasoning, garbanzo beans, feta cheese...</td>\n",
       "    </tr>\n",
       "    <tr>\n",
       "      <th>1</th>\n",
       "      <td>southern_us</td>\n",
       "      <td>25693</td>\n",
       "      <td>[plain flour, ground pepper, salt, tomatoes, ground black pepper, thyme, eggs, green tomatoes, yellow corn meal, mil...</td>\n",
       "    </tr>\n",
       "    <tr>\n",
       "      <th>2</th>\n",
       "      <td>filipino</td>\n",
       "      <td>20130</td>\n",
       "      <td>[eggs, pepper, salt, mayonaise, cooking oil, green chilies, grilled chicken breasts, garlic powder, yellow onion, so...</td>\n",
       "    </tr>\n",
       "    <tr>\n",
       "      <th>3</th>\n",
       "      <td>indian</td>\n",
       "      <td>22213</td>\n",
       "      <td>[water, vegetable oil, wheat, salt]</td>\n",
       "    </tr>\n",
       "    <tr>\n",
       "      <th>4</th>\n",
       "      <td>indian</td>\n",
       "      <td>13162</td>\n",
       "      <td>[black pepper, shallots, cornflour, cayenne pepper, onions, garlic paste, milk, butter, salt, lemon juice, water, ch...</td>\n",
       "    </tr>\n",
       "  </tbody>\n",
       "</table>\n",
       "</div>"
      ],
      "text/plain": [
       "       cuisine     id  \\\n",
       "0        greek  10259   \n",
       "1  southern_us  25693   \n",
       "2     filipino  20130   \n",
       "3       indian  22213   \n",
       "4       indian  13162   \n",
       "\n",
       "                                                                                                               ingredients  \n",
       "0  [romaine lettuce, black olives, grape tomatoes, garlic, pepper, purple onion, seasoning, garbanzo beans, feta cheese...  \n",
       "1  [plain flour, ground pepper, salt, tomatoes, ground black pepper, thyme, eggs, green tomatoes, yellow corn meal, mil...  \n",
       "2  [eggs, pepper, salt, mayonaise, cooking oil, green chilies, grilled chicken breasts, garlic powder, yellow onion, so...  \n",
       "3                                                                                      [water, vegetable oil, wheat, salt]  \n",
       "4  [black pepper, shallots, cornflour, cayenne pepper, onions, garlic paste, milk, butter, salt, lemon juice, water, ch...  "
      ]
     },
     "execution_count": 6,
     "metadata": {},
     "output_type": "execute_result"
    }
   ],
   "source": [
    "### TODO：打印train_content中前5个数据样例以预览数据\n",
    "train_content.head(5)"
   ]
  },
  {
   "cell_type": "code",
   "execution_count": 7,
   "metadata": {},
   "outputs": [
    {
     "name": "stdout",
     "output_type": "stream",
     "text": [
      "一共包含 20 种菜品，分别是:\n",
      "['brazilian' 'british' 'cajun_creole' 'chinese' 'filipino' 'french'\n",
      " 'greek' 'indian' 'irish' 'italian' 'jamaican' 'japanese' 'korean'\n",
      " 'mexican' 'moroccan' 'russian' 'southern_us' 'spanish' 'thai'\n",
      " 'vietnamese']\n"
     ]
    }
   ],
   "source": [
    "## 请不要修改下方代码\n",
    "## 查看总共菜品分类\n",
    "categories=np.unique(train_content['cuisine'])\n",
    "print(\"一共包含 {} 种菜品，分别是:\\n{}\".format(len(categories),categories))"
   ]
  },
  {
   "cell_type": "markdown",
   "metadata": {},
   "source": [
    "---\n",
    "## 第二步. 分析数据\n",
    "在项目的第二个部分，你会对菜肴数据进行初步的观察并给出你的分析。通过对数据的探索来熟悉数据可以让你更好地理解和解释你的结果。\n",
    "\n",
    "由于这个项目的最终目标是建立一个预测世界菜系的模型，我们需要将数据集分为**特征(Features)**和**目标变量(Target Variables)**。\n",
    "- **特征**: `'ingredients'`，给我们提供了每个菜品所包含的佐料名称。\n",
    "- **目标变量**：` 'cuisine'`，是我们希望预测的菜系分类。\n",
    "\n",
    "他们分别被存在 `train_ingredients` 和 `train_targets` 两个变量名中。"
   ]
  },
  {
   "cell_type": "markdown",
   "metadata": {},
   "source": [
    "### 编程练习：数据提取\n",
    "* 将`train_content`中的`ingredients`赋值到`train_integredients`\n",
    "* 将`train_content`中的`cuisine`赋值到`train_targets`"
   ]
  },
  {
   "cell_type": "code",
   "execution_count": 8,
   "metadata": {},
   "outputs": [
    {
     "data": {
      "text/html": [
       "<div>\n",
       "<style scoped>\n",
       "    .dataframe tbody tr th:only-of-type {\n",
       "        vertical-align: middle;\n",
       "    }\n",
       "\n",
       "    .dataframe tbody tr th {\n",
       "        vertical-align: top;\n",
       "    }\n",
       "\n",
       "    .dataframe thead th {\n",
       "        text-align: right;\n",
       "    }\n",
       "</style>\n",
       "<table border=\"1\" class=\"dataframe\">\n",
       "  <thead>\n",
       "    <tr style=\"text-align: right;\">\n",
       "      <th></th>\n",
       "      <th>cuisine</th>\n",
       "      <th>id</th>\n",
       "      <th>ingredients</th>\n",
       "    </tr>\n",
       "  </thead>\n",
       "  <tbody>\n",
       "    <tr>\n",
       "      <th>0</th>\n",
       "      <td>greek</td>\n",
       "      <td>10259</td>\n",
       "      <td>[romaine lettuce, black olives, grape tomatoes, garlic, pepper, purple onion, seasoning, garbanzo beans, feta cheese...</td>\n",
       "    </tr>\n",
       "  </tbody>\n",
       "</table>\n",
       "</div>"
      ],
      "text/plain": [
       "  cuisine     id  \\\n",
       "0   greek  10259   \n",
       "\n",
       "                                                                                                               ingredients  \n",
       "0  [romaine lettuce, black olives, grape tomatoes, garlic, pepper, purple onion, seasoning, garbanzo beans, feta cheese...  "
      ]
     },
     "execution_count": 8,
     "metadata": {},
     "output_type": "execute_result"
    }
   ],
   "source": [
    "train_content.head(1)"
   ]
  },
  {
   "cell_type": "code",
   "execution_count": 9,
   "metadata": {},
   "outputs": [
    {
     "data": {
      "text/plain": [
       "0    [romaine lettuce, black olives, grape tomatoes, garlic, pepper, purple onion, seasoning, garbanzo beans, feta cheese...\n",
       "1    [plain flour, ground pepper, salt, tomatoes, ground black pepper, thyme, eggs, green tomatoes, yellow corn meal, mil...\n",
       "2    [eggs, pepper, salt, mayonaise, cooking oil, green chilies, grilled chicken breasts, garlic powder, yellow onion, so...\n",
       "Name: ingredients, dtype: object"
      ]
     },
     "execution_count": 9,
     "metadata": {},
     "output_type": "execute_result"
    }
   ],
   "source": [
    "train_content['ingredients'].head(3)"
   ]
  },
  {
   "cell_type": "code",
   "execution_count": 10,
   "metadata": {},
   "outputs": [],
   "source": [
    "# test code\n",
    "testdata = [['romaine lettuce', 'black olives', 'grape tomatoes', 'garlic', 'pepper', 'purple onion', 'seasoning', 'garbanzo beans', 'feta cheese crumbles'],['plain flour', 'ground pepper', 'salt', 'tomatoes', 'ground black pepper', 'thyme', 'eggs', 'green tomatoes', 'yellow corn meal', 'milk', 'vegetable oil'],['eggs', 'pepper', 'salt', 'mayonaise', 'cooking oil', 'green chilies', 'grilled chicken breasts', 'garlic powder', 'yellow onion', 'soy sauce', 'butter', 'chicken livers']]\n",
    "\n",
    "tests = []\n",
    "for i in testdata:\n",
    "    for ii in i:\n",
    "        tests.append(ii)\n",
    "tests = pd.Series(tests)"
   ]
  },
  {
   "cell_type": "code",
   "execution_count": 11,
   "metadata": {},
   "outputs": [
    {
     "data": {
      "text/plain": [
       "pandas.core.series.Series"
      ]
     },
     "execution_count": 11,
     "metadata": {},
     "output_type": "execute_result"
    }
   ],
   "source": [
    "type(tests)"
   ]
  },
  {
   "cell_type": "code",
   "execution_count": 12,
   "metadata": {},
   "outputs": [
    {
     "data": {
      "text/plain": [
       "pepper                     2\n",
       "salt                       2\n",
       "eggs                       2\n",
       "plain flour                1\n",
       "seasoning                  1\n",
       "grape tomatoes             1\n",
       "cooking oil                1\n",
       "garlic powder              1\n",
       "mayonaise                  1\n",
       "chicken livers             1\n",
       "green tomatoes             1\n",
       "butter                     1\n",
       "feta cheese crumbles       1\n",
       "soy sauce                  1\n",
       "purple onion               1\n",
       "ground pepper              1\n",
       "yellow onion               1\n",
       "thyme                      1\n",
       "garbanzo beans             1\n",
       "black olives               1\n",
       "romaine lettuce            1\n",
       "yellow corn meal           1\n",
       "garlic                     1\n",
       "tomatoes                   1\n",
       "vegetable oil              1\n",
       "ground black pepper        1\n",
       "milk                       1\n",
       "grilled chicken breasts    1\n",
       "green chilies              1\n",
       "dtype: int64"
      ]
     },
     "execution_count": 12,
     "metadata": {},
     "output_type": "execute_result"
    }
   ],
   "source": [
    "tests.value_counts()"
   ]
  },
  {
   "cell_type": "code",
   "execution_count": 13,
   "metadata": {
    "scrolled": true
   },
   "outputs": [
    {
     "data": {
      "text/plain": [
       "0    romaine lettuce\n",
       "1       black olives\n",
       "2     grape tomatoes\n",
       "3             garlic\n",
       "4             pepper\n",
       "dtype: object"
      ]
     },
     "execution_count": 13,
     "metadata": {},
     "output_type": "execute_result"
    }
   ],
   "source": [
    "### TODO：将特征与目标变量分别赋值\n",
    "train_ingredients = []\n",
    "for i in train_content['ingredients']:\n",
    "    for ii in i:\n",
    "        train_ingredients.append(ii)\n",
    "        \n",
    "train_ingredients = pd.Series(train_ingredients)\n",
    "\n",
    "train_targets = train_content['cuisine']\n",
    "\n",
    "### TODO: 打印结果，检查是否正确赋值\n",
    "train_ingredients.head()"
   ]
  },
  {
   "cell_type": "code",
   "execution_count": 14,
   "metadata": {},
   "outputs": [
    {
     "data": {
      "text/plain": [
       "0          greek\n",
       "1    southern_us\n",
       "2       filipino\n",
       "3         indian\n",
       "4         indian\n",
       "Name: cuisine, dtype: object"
      ]
     },
     "execution_count": 14,
     "metadata": {},
     "output_type": "execute_result"
    }
   ],
   "source": [
    "train_targets.head()"
   ]
  },
  {
   "cell_type": "markdown",
   "metadata": {},
   "source": [
    "### 编程练习：基础统计运算\n",
    "你的第一个编程练习是计算有关菜系佐料的统计数据。我们已为你导入了 `numpy`，你需要使用这个库来执行必要的计算。这些统计数据对于分析模型的预测结果非常重要的。\n",
    "在下面的代码中，你要做的是：\n",
    "- 使用最频繁的佐料前10分别有哪些？\n",
    "- 意大利菜中最常见的10个佐料有哪些？"
   ]
  },
  {
   "cell_type": "code",
   "execution_count": 15,
   "metadata": {},
   "outputs": [
    {
     "data": {
      "text/plain": [
       "salt                   18049\n",
       "olive oil               7972\n",
       "onions                  7972\n",
       "water                   7457\n",
       "garlic                  7380\n",
       "sugar                   6434\n",
       "garlic cloves           6237\n",
       "butter                  4848\n",
       "ground black pepper     4785\n",
       "all-purpose flour       4632\n",
       "dtype: int64"
      ]
     },
     "execution_count": 15,
     "metadata": {},
     "output_type": "execute_result"
    }
   ],
   "source": [
    "train_ingredients.value_counts().head(10)"
   ]
  },
  {
   "cell_type": "code",
   "execution_count": 16,
   "metadata": {},
   "outputs": [],
   "source": [
    "## TODO: 统计佐料出现次数，并赋值到sum_ingredients字典中\n",
    "# to_dict了解一下\n",
    "sum_ingredients = pd.Series.to_dict(train_ingredients.value_counts().head(10))"
   ]
  },
  {
   "cell_type": "code",
   "execution_count": 17,
   "metadata": {},
   "outputs": [
    {
     "data": {
      "text/plain": [
       "dict"
      ]
     },
     "execution_count": 17,
     "metadata": {},
     "output_type": "execute_result"
    }
   ],
   "source": [
    "type(sum_ingredients)"
   ]
  },
  {
   "cell_type": "code",
   "execution_count": 20,
   "metadata": {},
   "outputs": [
    {
     "data": {
      "image/png": "[encoded data removed]",
      "text/plain": [
       "<Figure size 432x288 with 1 Axes>"
      ]
     },
     "metadata": {},
     "output_type": "display_data"
    }
   ],
   "source": [
    "## 请不要修改下方代码\n",
    "# Finally, plot the 10 most used ingredients\n",
    "plt.style.use(u'ggplot')\n",
    "fig = pd.DataFrame(sum_ingredients, index=[0]).transpose()[0].sort_values(ascending=False, inplace=False)[:10].plot(kind='barh')\n",
    "fig.invert_yaxis()\n",
    "fig = fig.get_figure()\n",
    "fig.tight_layout()\n",
    "# fig.show()\n",
    "## 在jupyter中加了fig.show会warning：\n",
    "## matplotlib is currently using a non-GUI backend"
   ]
  },
  {
   "cell_type": "code",
   "execution_count": 21,
   "metadata": {},
   "outputs": [
    {
     "data": {
      "text/plain": [
       "array(['greek', 'southern_us', 'filipino', 'indian', 'jamaican',\n",
       "       'spanish', 'italian', 'mexican', 'chinese', 'british', 'thai',\n",
       "       'vietnamese', 'cajun_creole', 'brazilian', 'french', 'japanese',\n",
       "       'irish', 'korean', 'moroccan', 'russian'], dtype=object)"
      ]
     },
     "execution_count": 21,
     "metadata": {},
     "output_type": "execute_result"
    }
   ],
   "source": [
    "train_content['cuisine'].unique()"
   ]
  },
  {
   "cell_type": "code",
   "execution_count": 22,
   "metadata": {},
   "outputs": [
    {
     "data": {
      "text/plain": [
       "(39774, 3)"
      ]
     },
     "execution_count": 22,
     "metadata": {},
     "output_type": "execute_result"
    }
   ],
   "source": [
    "train_content.shape"
   ]
  },
  {
   "cell_type": "code",
   "execution_count": 23,
   "metadata": {},
   "outputs": [
    {
     "data": {
      "text/plain": [
       "(7838, 3)"
      ]
     },
     "execution_count": 23,
     "metadata": {},
     "output_type": "execute_result"
    }
   ],
   "source": [
    "italian_content = train_content[train_content['cuisine'] == \"italian\"]\n",
    "italian_content.shape"
   ]
  },
  {
   "cell_type": "code",
   "execution_count": 24,
   "metadata": {},
   "outputs": [
    {
     "data": {
      "text/plain": [
       "{'salt': 3454,\n",
       " 'olive oil': 3111,\n",
       " 'garlic cloves': 1619,\n",
       " 'grated parmesan cheese': 1580,\n",
       " 'garlic': 1471,\n",
       " 'ground black pepper': 1444,\n",
       " 'extra-virgin olive oil': 1362,\n",
       " 'onions': 1240,\n",
       " 'water': 1052,\n",
       " 'butter': 1030,\n",
       " 'pepper': 965,\n",
       " 'all-purpose flour': 918,\n",
       " 'fresh basil': 787,\n",
       " 'sugar': 760,\n",
       " 'dry white wine': 658,\n",
       " 'kosher salt': 656,\n",
       " 'black pepper': 636,\n",
       " 'fresh parsley': 631,\n",
       " 'eggs': 627,\n",
       " 'dried oregano': 626,\n",
       " 'large eggs': 625,\n",
       " 'tomatoes': 601,\n",
       " 'flat leaf parsley': 588,\n",
       " 'unsalted butter': 564,\n",
       " 'cooking spray': 491,\n",
       " 'parmesan cheese': 474,\n",
       " 'fresh lemon juice': 471,\n",
       " 'diced tomatoes': 429,\n",
       " 'dried basil': 425,\n",
       " 'crushed red pepper': 418,\n",
       " 'shredded mozzarella cheese': 413,\n",
       " 'mozzarella cheese': 396,\n",
       " 'carrots': 379,\n",
       " 'tomato paste': 376,\n",
       " 'tomato sauce': 357,\n",
       " 'red bell pepper': 354,\n",
       " 'fresh basil leaves': 352,\n",
       " 'purple onion': 350,\n",
       " 'balsamic vinegar': 348,\n",
       " 'italian seasoning': 347,\n",
       " 'plum tomatoes': 340,\n",
       " 'minced garlic': 334,\n",
       " 'ricotta cheese': 333,\n",
       " 'chopped onion': 327,\n",
       " 'zucchini': 326,\n",
       " 'freshly ground pepper': 316,\n",
       " 'shallots': 316,\n",
       " 'parmigiano reggiano cheese': 306,\n",
       " 'capers': 306,\n",
       " 'heavy cream': 300,\n",
       " 'spaghetti': 296,\n",
       " 'large garlic cloves': 293,\n",
       " 'fresh rosemary': 292,\n",
       " 'milk': 277,\n",
       " 'arborio rice': 261,\n",
       " 'prosciutto': 256,\n",
       " 'pasta': 255,\n",
       " 'vegetable oil': 253,\n",
       " 'garlic powder': 252,\n",
       " 'pinenuts': 252,\n",
       " 'fresh parmesan cheese': 251,\n",
       " 'pasta sauce': 246,\n",
       " 'chicken broth': 245,\n",
       " 'crushed tomatoes': 241,\n",
       " 'ground beef': 237,\n",
       " 'lemon': 236,\n",
       " 'white sugar': 231,\n",
       " 'red wine vinegar': 227,\n",
       " 'marinara sauce': 222,\n",
       " 'vanilla extract': 219,\n",
       " 'lemon juice': 216,\n",
       " 'fresh oregano': 209,\n",
       " 'red pepper flakes': 206,\n",
       " 'eggplant': 204,\n",
       " 'sea salt': 202,\n",
       " 'part-skim mozzarella cheese': 201,\n",
       " 'lasagna noodles': 196,\n",
       " 'linguine': 193,\n",
       " 'baking powder': 186,\n",
       " 'mushrooms': 184,\n",
       " 'boneless skinless chicken breast halves': 182,\n",
       " 'warm water': 182,\n",
       " 'crushed red pepper flakes': 179,\n",
       " 'white wine': 176,\n",
       " 'basil': 174,\n",
       " 'cherry tomatoes': 170,\n",
       " 'green bell pepper': 163,\n",
       " 'whipping cream': 162,\n",
       " 'cannellini beans': 161,\n",
       " 'fat free less sodium chicken broth': 158,\n",
       " 'whole milk': 157,\n",
       " 'celery': 155,\n",
       " 'yellow onion': 153,\n",
       " 'pancetta': 153,\n",
       " 'basil leaves': 153,\n",
       " 'chopped fresh thyme': 151,\n",
       " 'pecorino romano cheese': 146,\n",
       " 'penne pasta': 146,\n",
       " 'dried thyme': 145,\n",
       " 'finely chopped onion': 145,\n",
       " 'green onions': 144,\n",
       " 'grated lemon zest': 142,\n",
       " 'chicken stock': 142,\n",
       " 'flour': 142,\n",
       " 'large egg yolks': 142,\n",
       " 'large egg whites': 138,\n",
       " 'provolone cheese': 138,\n",
       " 'low salt chicken broth': 138,\n",
       " 'fettucine': 136,\n",
       " 'lean ground beef': 135,\n",
       " 'boneless skinless chicken breasts': 132,\n",
       " 'polenta': 132,\n",
       " 'frozen chopped spinach': 131,\n",
       " 'dry red wine': 131,\n",
       " 'sliced mushrooms': 131,\n",
       " 'bay leaf': 130,\n",
       " 'celery ribs': 130,\n",
       " 'italian sausage': 129,\n",
       " 'coarse salt': 128,\n",
       " 'active dry yeast': 128,\n",
       " 'ground nutmeg': 127,\n",
       " 'cheese': 127,\n",
       " 'honey': 126,\n",
       " 'arugula': 125,\n",
       " 'bacon': 124,\n",
       " 'anchovy fillets': 124,\n",
       " 'mascarpone': 124,\n",
       " 'asparagus': 123,\n",
       " 'spinach': 119,\n",
       " 'baguette': 119,\n",
       " 'sun-dried tomatoes': 118,\n",
       " 'cracked black pepper': 117,\n",
       " 'fresh mushrooms': 117,\n",
       " 'baby spinach': 117,\n",
       " 'dry bread crumbs': 115,\n",
       " 'oregano': 114,\n",
       " 'fennel seeds': 114,\n",
       " 'roasted red peppers': 114,\n",
       " 'pesto': 113,\n",
       " 'part-skim ricotta cheese': 111,\n",
       " 'bay leaves': 107,\n",
       " 'leeks': 106,\n",
       " 'cream cheese': 105,\n",
       " 'marsala wine': 105,\n",
       " 'fennel bulb': 103,\n",
       " 'bread crumbs': 103,\n",
       " 'pizza doughs': 103,\n",
       " 'chopped celery': 103,\n",
       " 'red wine': 99,\n",
       " 'penne': 99,\n",
       " 'dijon mustard': 99,\n",
       " 'chopped parsley': 99,\n",
       " 'artichoke hearts': 99,\n",
       " 'lemon zest': 98,\n",
       " 'grape tomatoes': 98,\n",
       " 'dried rosemary': 96,\n",
       " 'parsley': 95,\n",
       " 'ricotta': 95,\n",
       " 'fresh mozzarella': 95,\n",
       " 'egg whites': 95,\n",
       " 'pitted kalamata olives': 94,\n",
       " 'confectioners sugar': 94,\n",
       " 'chicken breasts': 93,\n",
       " 'goat cheese': 92,\n",
       " 'oil': 92,\n",
       " 'chopped fresh sage': 91,\n",
       " 'dried parsley': 90,\n",
       " 'sage leaves': 89,\n",
       " 'half & half': 89,\n",
       " 'romano cheese': 89,\n",
       " 'Italian bread': 89,\n",
       " 'grated lemon peel': 89,\n",
       " 'freshly grated parmesan': 87,\n",
       " 'fresh spinach': 87,\n",
       " 'bow-tie pasta': 86,\n",
       " 'yellow bell pepper': 85,\n",
       " 'ground cinnamon': 85,\n",
       " 'hot water': 85,\n",
       " 'chicken': 84,\n",
       " 'unsweetened cocoa powder': 84,\n",
       " 'fontina cheese': 84,\n",
       " 'corn starch': 83,\n",
       " 'egg yolks': 82,\n",
       " 'granulated sugar': 82,\n",
       " 'dried porcini mushrooms': 81,\n",
       " 'vegetable broth': 81,\n",
       " 'sausage casings': 78,\n",
       " 'low sodium chicken broth': 78,\n",
       " 'bread flour': 77,\n",
       " 'fine sea salt': 77,\n",
       " 'ground pepper': 77,\n",
       " 'large shrimp': 77,\n",
       " 'hot red pepper flakes': 76,\n",
       " 'paprika': 76,\n",
       " 'bread crumb fresh': 74,\n",
       " 'Italian parsley leaves': 74,\n",
       " 'white wine vinegar': 73,\n",
       " 'vegetable oil cooking spray': 73,\n",
       " 'heavy whipping cream': 73,\n",
       " 'ground pork': 72,\n",
       " 'cornmeal': 72,\n",
       " 'juice': 72,\n",
       " 'asiago': 72,\n",
       " 'sweet italian sausage': 72,\n",
       " 'chees fresh mozzarella': 72,\n",
       " 'pizza sauce': 71,\n",
       " 'seasoned bread crumbs': 71,\n",
       " 'dry yeast': 71,\n",
       " 'sour cream': 71,\n",
       " 'medium shrimp': 70,\n",
       " 'green beans': 70,\n",
       " 'powdered sugar': 69,\n",
       " 'sweet onion': 69,\n",
       " 'chopped garlic': 69,\n",
       " '1% low-fat milk': 68,\n",
       " 'all purpose unbleached flour': 68,\n",
       " 'chopped fresh chives': 68,\n",
       " 'feta cheese crumbles': 68,\n",
       " 'baking soda': 68,\n",
       " 'brown sugar': 67,\n",
       " 'black olives': 67,\n",
       " 'cremini mushrooms': 67,\n",
       " 'frozen peas': 67,\n",
       " 'salt and ground black pepper': 66,\n",
       " 'broccoli': 64,\n",
       " 'grated nutmeg': 64,\n",
       " 'broccoli florets': 64,\n",
       " 'yellow corn meal': 64,\n",
       " 'boiling water': 63,\n",
       " 'mayonaise': 63,\n",
       " 'swiss chard': 63,\n",
       " 'butternut squash': 62,\n",
       " 'fresh thyme': 62,\n",
       " 'beef broth': 62,\n",
       " 'kalamata': 62,\n",
       " 'scallions': 61,\n",
       " 'garlic salt': 61,\n",
       " 'angel hair': 60,\n",
       " 'whole peeled tomatoes': 60,\n",
       " 'rigatoni': 60,\n",
       " 'shrimp': 59,\n",
       " 'potatoes': 59,\n",
       " 'kale': 58,\n",
       " 'cold water': 58,\n",
       " 'sausages': 58,\n",
       " 'lemon wedge': 58,\n",
       " 'rosemary': 57,\n",
       " 'fresh parsley leaves': 56,\n",
       " 'almond extract': 56,\n",
       " 'chopped fresh mint': 54,\n",
       " 'french bread': 54,\n",
       " 'worcestershire sauce': 54,\n",
       " 'parmigiano-reggiano cheese': 53,\n",
       " 'cheese tortellini': 53,\n",
       " 'sauce': 53,\n",
       " 'fresh mint': 53,\n",
       " 'fresh thyme leaves': 53,\n",
       " 'hazelnuts': 53,\n",
       " 'green olives': 52,\n",
       " 'pecorino cheese': 52,\n",
       " 'bread': 51,\n",
       " 'orzo': 51,\n",
       " 'thyme': 51,\n",
       " 'clams': 50,\n",
       " 'rosemary sprigs': 50,\n",
       " 'cayenne pepper': 50,\n",
       " 'red pepper': 49,\n",
       " 'sliced black olives': 49,\n",
       " 'ground turkey': 48,\n",
       " 'pepperoni': 48,\n",
       " 'white onion': 48,\n",
       " 'strawberries': 48,\n",
       " 'unflavored gelatin': 48,\n",
       " 'bacon slices': 48,\n",
       " 'tomato purée': 47,\n",
       " 'broccoli rabe': 47,\n",
       " 'Italian turkey sausage': 47,\n",
       " 'whole milk ricotta cheese': 47,\n",
       " 'slivered almonds': 47,\n",
       " 'anchovy paste': 47,\n",
       " 'escarole': 47,\n",
       " 'chopped walnuts': 46,\n",
       " 'golden raisins': 46,\n",
       " 'canned low sodium chicken broth': 46,\n",
       " 'rotini': 46,\n",
       " 'semisweet chocolate': 46,\n",
       " 'dough': 46,\n",
       " 'thyme sprigs': 45,\n",
       " 'cottage cheese': 44,\n",
       " 'artichokes': 44,\n",
       " 'roma tomatoes': 44,\n",
       " 'fusilli': 43,\n",
       " 'Alfredo sauce': 43,\n",
       " 'oven-ready lasagna noodles': 43,\n",
       " 'bittersweet chocolate': 42,\n",
       " 'peas': 42,\n",
       " 'fat free milk': 42,\n",
       " 'shredded cheddar cheese': 42,\n",
       " 'ham': 42,\n",
       " 'diced onions': 42,\n",
       " 'salami': 41,\n",
       " 'canola oil': 41,\n",
       " 'orecchiette': 41,\n",
       " 'portabello mushroom': 41,\n",
       " 'minced onion': 41,\n",
       " 'gnocchi': 41,\n",
       " 'italian salad dressing': 41,\n",
       " 'nutmeg': 40,\n",
       " 'ladyfingers': 40,\n",
       " 'cream cheese, soften': 40,\n",
       " 'radicchio': 40,\n",
       " 'sliced green onions': 40,\n",
       " 'russet potatoes': 40,\n",
       " 'chopped green bell pepper': 39,\n",
       " 'raisins': 39,\n",
       " 'green pepper': 39,\n",
       " 'onion powder': 39,\n",
       " 'baby spinach leaves': 39,\n",
       " 'green peas': 39,\n",
       " 'yukon gold potatoes': 39,\n",
       " 'hot Italian sausages': 39,\n",
       " 'noodles': 38,\n",
       " 'margarine': 38,\n",
       " 'orange': 38,\n",
       " 'parsley sprigs': 38,\n",
       " 'mussels': 38,\n",
       " 'walnuts': 38,\n",
       " 'white beans': 38,\n",
       " 'bell pepper': 38,\n",
       " 'shredded parmesan cheese': 38,\n",
       " 'yellow squash': 37,\n",
       " 'jumbo pasta shells': 37,\n",
       " 'chickpeas': 37,\n",
       " 'chopped tomatoes': 37,\n",
       " 'stewed tomatoes': 37,\n",
       " 'sliced almonds': 37,\n",
       " 'pizza crust': 36,\n",
       " 'feta cheese': 36,\n",
       " 'reduced sodium chicken broth': 36,\n",
       " 'chicken breast halves': 35,\n",
       " 'ground veal': 35,\n",
       " 'white bread': 35,\n",
       " 'almonds': 35,\n",
       " 'button mushrooms': 35,\n",
       " 'baby arugula': 35,\n",
       " 'rocket leaves': 35,\n",
       " 'shiitake': 34,\n",
       " 'cauliflower': 34,\n",
       " 'baking potatoes': 34,\n",
       " 'lemon rind': 34,\n",
       " 'ground red pepper': 34,\n",
       " 'artichok heart marin': 33,\n",
       " 'cooked chicken': 33,\n",
       " 'ground white pepper': 33,\n",
       " 'romaine lettuce': 33,\n",
       " 'fresh tarragon': 33,\n",
       " 'basil pesto sauce': 33,\n",
       " 'finely chopped fresh parsley': 33,\n",
       " 'squid': 32,\n",
       " 'buttermilk': 32,\n",
       " 'semolina flour': 32,\n",
       " 'sausage links': 32,\n",
       " 'fresh orange juice': 32,\n",
       " 'marjoram': 32,\n",
       " 'fresh tomatoes': 32,\n",
       " 'nonfat ricotta cheese': 32,\n",
       " 'peeled tomatoes': 32,\n",
       " 'chicken thighs': 32,\n",
       " 'refrigerated pizza dough': 31,\n",
       " 'grated orange': 31,\n",
       " 'pepperoni slices': 31,\n",
       " 'sea scallops': 31,\n",
       " 'chives': 31,\n",
       " 'ground cloves': 30,\n",
       " 'wild mushrooms': 30,\n",
       " 'toasted pine nuts': 30,\n",
       " 'ground cumin': 30,\n",
       " 'tomatoes with juice': 30,\n",
       " 'olive oil flavored cooking spray': 29,\n",
       " 'vegetable stock': 29,\n",
       " 'fresh sage': 29,\n",
       " 'olives': 29,\n",
       " 'fresh marjoram': 29,\n",
       " 'vegetables': 29,\n",
       " 'reduced fat milk': 29,\n",
       " 'crumbled gorgonzola': 29,\n",
       " 'vanilla': 28,\n",
       " 'orange zest': 28,\n",
       " 'sun-dried tomatoes in oil': 28,\n",
       " 'fat skimmed chicken broth': 28,\n",
       " 'dried sage': 28,\n",
       " 'chopped pecans': 28,\n",
       " 'mint sprigs': 28,\n",
       " 'saffron threads': 28,\n",
       " 'black peppercorns': 27,\n",
       " 'orange bell pepper': 27,\n",
       " 'gorgonzola': 27,\n",
       " 'basil dried leaves': 27,\n",
       " 'cream': 27,\n",
       " 'fennel': 27,\n",
       " 'vodka': 27,\n",
       " 'fontina': 27,\n",
       " 'sherry vinegar': 27,\n",
       " 'canned tomatoes': 26,\n",
       " 'pasta shells': 26,\n",
       " 'chili powder': 26,\n",
       " 'lasagna noodles, cooked and drained': 26,\n",
       " 'vanilla beans': 26,\n",
       " 'grated orange peel': 26,\n",
       " 'clam juice': 26,\n",
       " 'littleneck clams': 26,\n",
       " 'egg substitute': 26,\n",
       " 'pesto sauce': 26,\n",
       " 'ripe olives': 26,\n",
       " 'italian plum tomatoes': 26,\n",
       " 'red potato': 26,\n",
       " 'crimini mushrooms': 26,\n",
       " 'country bread': 26,\n",
       " 'ziti': 26,\n",
       " 'raspberries': 25,\n",
       " 'spinach leaves': 25,\n",
       " 'chopped cilantro fresh': 25,\n",
       " 'french baguette': 25,\n",
       " 'cucumber': 25,\n",
       " 'panko': 25,\n",
       " 'avocado': 25,\n",
       " 'fresh leav spinach': 25,\n",
       " 'fresh lime juice': 25,\n",
       " 'ground round': 25,\n",
       " 'brandy': 25,\n",
       " 'cooking oil': 24,\n",
       " 'sliced carrots': 24,\n",
       " 'frozen spinach': 24,\n",
       " 'pork tenderloin': 24,\n",
       " 'fettuccine pasta': 24,\n",
       " 'fresh chives': 24,\n",
       " 'beef stock': 24,\n",
       " 'pitted black olives': 24,\n",
       " 'panko breadcrumbs': 24,\n",
       " 'melted butter': 24,\n",
       " 'fresh oregano leaves': 24,\n",
       " 'fresh asparagus': 24,\n",
       " 'cake flour': 24,\n",
       " 'asparagus spears': 24,\n",
       " 'roast red peppers, drain': 24,\n",
       " 'Italian seasoned breadcrumbs': 23,\n",
       " 'cinnamon': 23,\n",
       " 'chicken cutlets': 23,\n",
       " 'spaghettini': 23,\n",
       " 'salad dressing': 23,\n",
       " 'parsley leaves': 23,\n",
       " 'red chili peppers': 22,\n",
       " 'beef': 22,\n",
       " 'sage': 22,\n",
       " 'whole wheat spaghetti': 22,\n",
       " 'part-skim mozzarella': 22,\n",
       " 'instant espresso powder': 22,\n",
       " 'dark rum': 22,\n",
       " 'white vinegar': 22,\n",
       " 'white pepper': 22,\n",
       " 'pure vanilla extract': 22,\n",
       " 'sourdough bread': 22,\n",
       " 'ricotta salata': 22,\n",
       " 'genoa salami': 22,\n",
       " 'vegetable oil spray': 22,\n",
       " 'tomato basil sauce': 22,\n",
       " 'dry sherry': 22,\n",
       " 'semi-sweet chocolate morsels': 21,\n",
       " 'shortening': 21,\n",
       " 'veal shanks': 21,\n",
       " 'whole wheat flour': 21,\n",
       " 'heirloom tomatoes': 21,\n",
       " 'ciabatta': 21,\n",
       " 'rolls': 21,\n",
       " 'bulk italian sausag': 21,\n",
       " 'flour for dusting': 21,\n",
       " 'loosely packed fresh basil leaves': 21,\n",
       " 'great northern beans': 21,\n",
       " 'table salt': 21,\n",
       " 'lower sodium chicken broth': 20,\n",
       " 'hot sauce': 20,\n",
       " 'boneless chicken skinless thigh': 20,\n",
       " 'potato gnocchi': 20,\n",
       " 'jalapeno chilies': 20,\n",
       " 'white mushrooms': 20,\n",
       " 'crushed garlic': 20,\n",
       " 'herbs': 20,\n",
       " 'ground sirloin': 20,\n",
       " 'elbow macaroni': 19,\n",
       " 'guanciale': 19,\n",
       " 'tortellini': 19,\n",
       " 'boneless chicken breast': 19,\n",
       " 'pears': 19,\n",
       " 'amaretto': 19,\n",
       " 'dried currants': 19,\n",
       " 'crème fraîche': 19,\n",
       " 'anchovies': 19,\n",
       " 'clove': 19,\n",
       " 'mint leaves': 19,\n",
       " 'grated romano cheese': 19,\n",
       " 'vidalia onion': 19,\n",
       " 'orange juice': 19,\n",
       " 'gruyere cheese': 18,\n",
       " 'veal cutlets': 18,\n",
       " 'manicotti shells': 18,\n",
       " 'coffee': 18,\n",
       " 'tagliatelle': 18,\n",
       " 'rib': 18,\n",
       " 'cheese ravioli': 18,\n",
       " 'garbanzo beans': 18,\n",
       " 'organic vegetable broth': 18,\n",
       " 'brewed coffee': 18,\n",
       " 'dry vermouth': 18,\n",
       " 'cinnamon sticks': 18,\n",
       " 'croutons': 18,\n",
       " 'peaches': 18,\n",
       " 'cheddar cheese': 18,\n",
       " 'coarse sea salt': 17,\n",
       " 'parsley flakes': 17,\n",
       " 'mushroom caps': 17,\n",
       " 'prepar pesto': 17,\n",
       " 'truffle oil': 17,\n",
       " 'blanched almonds': 17,\n",
       " 'lump crab meat': 17,\n",
       " 'shredded sharp cheddar cheese': 17,\n",
       " 'rubbed sage': 17,\n",
       " 'mild Italian sausage': 17,\n",
       " 'meatballs': 17,\n",
       " 'chili flakes': 17,\n",
       " 'veal': 17,\n",
       " 'soft fresh goat cheese': 17,\n",
       " 'penne rigate': 17,\n",
       " 'vanilla ice cream': 17,\n",
       " 'bocconcini': 17,\n",
       " 'wonton wrappers': 17,\n",
       " 'condensed cream of mushroom soup': 16,\n",
       " 'cooked chicken breasts': 16,\n",
       " 'ravioli': 16,\n",
       " 'sugar pea': 16,\n",
       " 'crumbled blue cheese': 16,\n",
       " 'fresh dill': 16,\n",
       " 'mixed greens': 16,\n",
       " 'shiitake mushroom caps': 16,\n",
       " 'fresh peas': 16,\n",
       " 'tuna packed in olive oil': 16,\n",
       " 'skim milk': 16,\n",
       " 'pimentos': 16,\n",
       " 'orzo pasta': 16,\n",
       " 'ground chuck': 16,\n",
       " 'tuna steaks': 16,\n",
       " 'spaghetti squash': 16,\n",
       " 'soppressata': 16,\n",
       " 'bread ciabatta': 16,\n",
       " 'bread dough': 16,\n",
       " 'bucatini': 16,\n",
       " 'Bertolli® Classico Olive Oil': 16,\n",
       " 'italian tomatoes': 16,\n",
       " 'soy sauce': 15,\n",
       " 'blackberries': 15,\n",
       " 'ditalini pasta': 15,\n",
       " 'whipped cream': 15,\n",
       " 'orange liqueur': 15,\n",
       " 'California bay leaves': 15,\n",
       " 'diced celery': 15,\n",
       " 'italian style stewed tomatoes': 15,\n",
       " 'ground ginger': 15,\n",
       " 'fresh shiitake mushrooms': 15,\n",
       " 'wine': 15,\n",
       " 'white chocolate': 15,\n",
       " 'baby carrots': 15,\n",
       " 'frozen chopped spinach, thawed and squeezed dry': 15,\n",
       " 'florets': 15,\n",
       " 'bread slices': 15,\n",
       " 'instant yeast': 15,\n",
       " 'fronds': 15,\n",
       " 'sweet potatoes': 15,\n",
       " 'pitted olives': 15,\n",
       " 'seasoning salt': 15,\n",
       " 'light brown sugar': 15,\n",
       " 'bottled clam juice': 15,\n",
       " 'meat': 15,\n",
       " 'non-fat sour cream': 14,\n",
       " 'pitted green olives': 14,\n",
       " 'brie cheese': 14,\n",
       " 'pork sausages': 14,\n",
       " 'semolina': 14,\n",
       " 'small curd cottage cheese': 14,\n",
       " 'plums': 14,\n",
       " 'farro': 14,\n",
       " 'cherries': 14,\n",
       " 'fresh herbs': 14,\n",
       " 'gemelli': 14,\n",
       " 'low-fat cottage cheese': 14,\n",
       " 'watercress': 14,\n",
       " 'tomato juice': 14,\n",
       " 'dried fettuccine': 14,\n",
       " 'ketchup': 14,\n",
       " 'chicken livers': 14,\n",
       " 'macaroni': 14,\n",
       " 'fresh raspberries': 14,\n",
       " 'cider vinegar': 14,\n",
       " 'orange rind': 14,\n",
       " 'smoked gouda': 14,\n",
       " 'golden brown sugar': 14,\n",
       " 'smoked salmon': 14,\n",
       " 'sprinkles': 13,\n",
       " 'fat': 13,\n",
       " 'breadstick': 13,\n",
       " 'carnaroli rice': 13,\n",
       " 'anise': 13,\n",
       " 'and fat free half half': 13,\n",
       " 'anise seed': 13,\n",
       " 'sherry': 13,\n",
       " 'pearl barley': 13,\n",
       " 'green bell pepper, slice': 13,\n",
       " 'corn kernels': 13,\n",
       " 'shredded Monterey Jack cheese': 13,\n",
       " 'sesame seeds': 13,\n",
       " 'parmagiano reggiano': 13,\n",
       " 'egg noodles': 13,\n",
       " 'brewed espresso': 13,\n",
       " 'olive oil cooking spray': 13,\n",
       " 'prebaked pizza crusts': 13,\n",
       " 'candied orange peel': 13,\n",
       " 'whole wheat pasta': 13,\n",
       " 'evaporated milk': 13,\n",
       " 'radishes': 13,\n",
       " 'almond paste': 13,\n",
       " 'dried pasta': 13,\n",
       " 'pepperoncini': 13,\n",
       " 'boiling potatoes': 13,\n",
       " 'small red potato': 13,\n",
       " 'fava beans': 13,\n",
       " 'reduced-fat sour cream': 13,\n",
       " 'italian style seasoning': 12,\n",
       " 'kahlúa': 12,\n",
       " 'lemon slices': 12,\n",
       " 'vine ripened tomatoes': 12,\n",
       " 'pepper flakes': 12,\n",
       " 'rum': 12,\n",
       " 'cabbage': 12,\n",
       " 'whipped topping': 12,\n",
       " 'coffee granules': 12,\n",
       " 'broth': 12,\n",
       " 'greens': 12,\n",
       " 'herbes de provence': 12,\n",
       " 'bay scallops': 12,\n",
       " 'mint': 12,\n",
       " 'kidney beans': 12,\n",
       " 'scallops': 12,\n",
       " 'green cabbage': 12,\n",
       " 'ground turkey breast': 12,\n",
       " 'rice': 12,\n",
       " 'light cream': 12,\n",
       " 'canadian bacon': 12,\n",
       " 'chopped almonds': 12,\n",
       " 'anise extract': 12,\n",
       " 'sweet cherries': 12,\n",
       " 'fresh fava bean': 12,\n",
       " 'Belgian endive': 12,\n",
       " 'dried apricot': 12,\n",
       " 'seasoning': 12,\n",
       " 'flank steak': 12,\n",
       " 'homemade chicken stock': 12,\n",
       " 'beefsteak tomatoes': 11,\n",
       " 'coffee liqueur': 11,\n",
       " 'flour tortillas': 11,\n",
       " 'fish stock': 11,\n",
       " 'dried fig': 11,\n",
       " 'salted butter': 11,\n",
       " 'shredded carrots': 11,\n",
       " 'prepared lasagne': 11,\n",
       " 'seedless red grapes': 11,\n",
       " 'swordfish steaks': 11,\n",
       " 'celery salt': 11,\n",
       " 'lobster': 11,\n",
       " 'peeled fresh ginger': 11,\n",
       " 'salmon fillets': 11,\n",
       " 'yeast': 11,\n",
       " 'ditalini': 11,\n",
       " 'crabmeat': 11,\n",
       " 'cooked shrimp': 11,\n",
       " 'beets': 11,\n",
       " 'fresh green bean': 11,\n",
       " 'cheese slices': 11,\n",
       " '2% reduced-fat milk': 11,\n",
       " 'Italian cheese': 11,\n",
       " 'risotto': 11,\n",
       " 'lemon peel': 11,\n",
       " 'ground coriander': 11,\n",
       " 'salad greens': 11,\n",
       " 'fat-free cottage cheese': 11,\n",
       " 'lamb shanks': 11,\n",
       " 'zesty italian dressing': 11,\n",
       " 'ragu old world style pasta sauc': 11,\n",
       " 'pappardelle': 11,\n",
       " 'plain dry bread crumb': 11,\n",
       " 'wine vinegar': 11,\n",
       " 'white rice': 11,\n",
       " 'dried tarragon leaves': 11,\n",
       " 'thick-cut bacon': 11,\n",
       " 'milk chocolate': 11,\n",
       " 'japanese eggplants': 11,\n",
       " 'crystallized ginger': 10,\n",
       " 'pasta water': 10,\n",
       " 'low-fat mozzarella cheese': 10,\n",
       " 'rosemary leaves': 10,\n",
       " 'cognac': 10,\n",
       " 'Chianti': 10,\n",
       " 'baby portobello mushrooms': 10,\n",
       " '1% low-fat cottage cheese': 10,\n",
       " 'savoy cabbage': 10,\n",
       " 'chicken bouillon': 10,\n",
       " 'won ton wrappers': 10,\n",
       " 'fish fillets': 10,\n",
       " 'crusty bread': 10,\n",
       " 'long-grain rice': 10,\n",
       " 'green chile': 10,\n",
       " 'figs': 10,\n",
       " 'pistachios': 10,\n",
       " 'prosecco': 10,\n",
       " 'navel oranges': 10,\n",
       " 'brine-cured black olives': 10,\n",
       " 'poultry seasoning': 10,\n",
       " 'roasted hazelnuts': 10,\n",
       " 'Kraft Grated Parmesan Cheese': 10,\n",
       " 'pork': 10,\n",
       " 'focaccia': 10,\n",
       " 'crumbled ricotta salata cheese': 10,\n",
       " \"soft goat's cheese\": 10,\n",
       " 'whole wheat breadcrumbs': 10,\n",
       " 'pearl onions': 10,\n",
       " 'white truffle oil': 10,\n",
       " 'italian seasoned dry bread crumbs': 10,\n",
       " 'liqueur': 10,\n",
       " 'cauliflower florets': 10,\n",
       " 'shredded cheese': 10,\n",
       " 'condensed cream of chicken soup': 10,\n",
       " 'Amaretti Cookies': 10,\n",
       " 'baked pizza crust': 10,\n",
       " 'espresso': 9,\n",
       " 'risotto rice': 9,\n",
       " 'boneless pork loin': 9,\n",
       " 'white sandwich bread': 9,\n",
       " 'varnish clams': 9,\n",
       " 'sliced ham': 9,\n",
       " 'cantaloupe': 9,\n",
       " 'halibut fillets': 9,\n",
       " 'vermicelli': 9,\n",
       " 'chocolate shavings': 9,\n",
       " 'sardines': 9,\n",
       " 'cutlet': 9,\n",
       " 'fat-free chicken broth': 9,\n",
       " 'low-fat ricotta cheese': 9,\n",
       " 'pasta sheets': 9,\n",
       " 'pumpkin': 9,\n",
       " 'coarse kosher salt': 9,\n",
       " 'cooked rigatoni': 9,\n",
       " 'turkey': 9,\n",
       " 'ground chicken': 9,\n",
       " 'champagne vinegar': 9,\n",
       " 'chanterelle': 9,\n",
       " 'Philadelphia Cream Cheese': 9,\n",
       " 'cooked ham': 9,\n",
       " 'grappa': 9,\n",
       " 'lentils': 9,\n",
       " 'jack cheese': 9,\n",
       " 'sharp cheddar cheese': 9,\n",
       " 'cream of chicken soup': 9,\n",
       " 'thin pizza crust': 9,\n",
       " 'Frangelico': 9,\n",
       " 'blueberries': 9,\n",
       " 'tentacles': 9,\n",
       " 'barbecue sauce': 9,\n",
       " 'cream of tartar': 9,\n",
       " 'summer squash': 9,\n",
       " 'firm tofu': 9,\n",
       " 'cavatappi': 9,\n",
       " 'frozen bread dough': 9,\n",
       " 'chopped cilantro': 9,\n",
       " 'turkey breast cutlets': 9,\n",
       " 'calamari': 9,\n",
       " 'salad': 9,\n",
       " 'campari': 9,\n",
       " 'linguini': 9,\n",
       " 'cavatelli': 9,\n",
       " 'chestnuts': 9,\n",
       " 'light cream cheese': 9,\n",
       " 'cocoa powder': 9,\n",
       " 'chiles': 9,\n",
       " 'extra lean ground beef': 9,\n",
       " 'low-fat buttermilk': 9,\n",
       " 'sweetened condensed milk': 9,\n",
       " 'poppy seeds': 9,\n",
       " 'spanish onion': 9,\n",
       " 'rice vinegar': 8,\n",
       " 'medium egg noodles': 8,\n",
       " 'ice cubes': 8,\n",
       " 'herb seasoning': 8,\n",
       " 'whole wheat lasagna noodles': 8,\n",
       " 'beef tenderloin steaks': 8,\n",
       " 'monterey jack': 8,\n",
       " 'extra large eggs': 8,\n",
       " 'whole wheat bread': 8,\n",
       " 'turkey breast': 8,\n",
       " 'curry powder': 8,\n",
       " 'corn oil': 8,\n",
       " 'manchego cheese': 8,\n",
       " 'roasting chickens': 8,\n",
       " 'light corn syrup': 8,\n",
       " 'chuck': 8,\n",
       " 'cayenne': 8,\n",
       " 'Bertolli® Alfredo Sauce': 8,\n",
       " 'shaved parmesan cheese': 8,\n",
       " 'biscuits': 8,\n",
       " 'fat-free mayonnaise': 8,\n",
       " 'bread, cut into italian loaf': 8,\n",
       " 'lean ground pork': 8,\n",
       " 'snow peas': 8,\n",
       " 'dried cranberries': 8,\n",
       " 'quinoa': 8,\n",
       " 'rabbit': 8,\n",
       " 'reduced fat sharp cheddar cheese': 8,\n",
       " 'cod fillets': 8,\n",
       " 'lettuce leaves': 8,\n",
       " 'hoagie rolls': 8,\n",
       " 'dry pasta': 8,\n",
       " 'fat free cream cheese': 8,\n",
       " \"hellmann' or best food real mayonnais\": 8,\n",
       " 'cookies': 8,\n",
       " 'low-fat milk': 8,\n",
       " 'brine-cured olives': 8,\n",
       " 'aged balsamic vinegar': 8,\n",
       " 'pork chops': 8,\n",
       " 'veal scallops': 8,\n",
       " 'oil-cured black olives': 8,\n",
       " 'shells': 8,\n",
       " 'prunes': 8,\n",
       " 'chicken breast tenders': 8,\n",
       " 'vinegar': 8,\n",
       " 'chopped fresh herbs': 8,\n",
       " 'salsa': 8,\n",
       " 'cooked bacon': 8,\n",
       " 'low-fat sour cream': 8,\n",
       " 'navy beans': 8,\n",
       " 'capellini': 8,\n",
       " 'refrigerated fettuccine': 8,\n",
       " 'mustard': 8,\n",
       " 'almond flour': 8,\n",
       " 'nutritional yeast': 8,\n",
       " 'saffron': 8,\n",
       " 'center cut bacon': 7,\n",
       " 'toasted walnuts': 7,\n",
       " 'pastry': 7,\n",
       " 'calimyrna figs': 7,\n",
       " 'yellow peppers': 7,\n",
       " 'cilantro leaves': 7,\n",
       " 'fresh pasta': 7,\n",
       " 'fat free less sodium beef broth': 7,\n",
       " 'nonstick spray': 7,\n",
       " 'white kidney beans': 7,\n",
       " 'pound cake': 7,\n",
       " 'porcini': 7,\n",
       " 'stock': 7,\n",
       " 'Italian cheese blend': 7,\n",
       " 'cake': 7,\n",
       " 'swiss cheese': 7,\n",
       " 'grana padano': 7,\n",
       " 'kale leaves': 7,\n",
       " 'ground fennel': 7,\n",
       " 'shredded Italian cheese': 7,\n",
       " 'crackers': 7,\n",
       " 'Italian herbs': 7,\n",
       " 'chicken legs': 7,\n",
       " 'diced tomatoes in juice': 7,\n",
       " 'refrigerated crescent rolls': 7,\n",
       " 'orange peel': 7,\n",
       " 'parsnips': 7,\n",
       " 'bosc pears': 7,\n",
       " 'tilapia fillets': 7,\n",
       " 'spaghetti, cook and drain': 7,\n",
       " 'smoked paprika': 7,\n",
       " 'hot pepper sauce': 7,\n",
       " 'italian salad dressing mix': 7,\n",
       " 'perciatelli': 7,\n",
       " 'peasant bread': 7,\n",
       " 'low-fat spaghetti sauce': 7,\n",
       " 'currant': 7,\n",
       " 'turbinado': 7,\n",
       " 'center cut pork chops': 7,\n",
       " 'ice water': 7,\n",
       " 'dried pappardelle': 7,\n",
       " 'applewood smoked bacon': 7,\n",
       " 'frozen artichoke hearts': 7,\n",
       " 'roasted garlic': 7,\n",
       " 'small pasta': 7,\n",
       " 'superfine sugar': 7,\n",
       " 'dark chocolate': 7,\n",
       " '(    oz.) tomato sauce': 7,\n",
       " 'apricot preserves': 7,\n",
       " 'shredded swiss cheese': 7,\n",
       " 'coriander seeds': 7,\n",
       " 'blue cheese': 7,\n",
       " 'pecans': 7,\n",
       " 'Sicilian olives': 7,\n",
       " 'sourdough': 7,\n",
       " 'plain yogurt': 7,\n",
       " 'light mayonnaise': 7,\n",
       " 'frozen corn kernels': 7,\n",
       " 'crumbs': 7,\n",
       " 'burrata': 7,\n",
       " 'ground cayenne pepper': 7,\n",
       " 'grated pecorino': 7,\n",
       " 'veal stock': 7,\n",
       " 'squash': 7,\n",
       " 'chunky pasta sauce': 7,\n",
       " 'olive oil spray': 7,\n",
       " 'Swanson Chicken Broth': 7,\n",
       " 'vin santo': 7,\n",
       " 'ice': 7,\n",
       " 'boneless chop pork': 7,\n",
       " 'short pasta': 7,\n",
       " 'fillet red snapper': 7,\n",
       " 'light alfredo sauce': 7,\n",
       " 'country style bread': 7,\n",
       " 'italian eggplant': 7,\n",
       " 'Wish-Bone Italian Dressing': 7,\n",
       " 'sundried tomato pesto': 7,\n",
       " 'apple cider vinegar': 7,\n",
       " 'brussels sprouts': 7,\n",
       " 'nonfat milk': 7,\n",
       " 'chicken sausage': 7,\n",
       " 'lemon extract': 7,\n",
       " 'english cucumber': 7,\n",
       " 'instant espresso': 7,\n",
       " 'pimento stuffed green olives': 7,\n",
       " 'ground allspice': 7,\n",
       " 'dressing': 7,\n",
       " 'pistachio nuts': 7,\n",
       " 'hamburger buns': 7,\n",
       " 'pepperoni turkei': 7,\n",
       " 'vinaigrette': 7,\n",
       " 'tubetti': 7,\n",
       " 'sweet pepper': 7,\n",
       " 'baby zucchini': 7,\n",
       " 'pork loin chops': 7,\n",
       " 'ragu': 7,\n",
       " 'pear tomatoes': 6,\n",
       " 'brown rice': 6,\n",
       " 'red food coloring': 6,\n",
       " 'light butter': 6,\n",
       " 'grating cheese': 6,\n",
       " 'champagne': 6,\n",
       " 'country white bread': 6,\n",
       " 'peperoncino': 6,\n",
       " 'balsamic vinaigrette': 6,\n",
       " 'candied fruit': 6,\n",
       " 'whole wheat pastry flour': 6,\n",
       " 'hard-boiled egg': 6,\n",
       " 'limoncello': 6,\n",
       " 'dried tart cherries': 6,\n",
       " 'whole nutmegs': 6,\n",
       " 'apples': 6,\n",
       " 'low sodium chicken stock': 6,\n",
       " 'cooked turkey': 6,\n",
       " 'iceberg lettuce': 6,\n",
       " 'apple juice': 6,\n",
       " 'lime juice': 6,\n",
       " 'uncooked rigatoni': 6,\n",
       " 'ground cardamom': 6,\n",
       " 'greek yogurt': 6,\n",
       " 'tuna': 6,\n",
       " 'coconut milk': 6,\n",
       " 'jumbo shrimp': 6,\n",
       " 'frozen cheese ravioli': 6,\n",
       " 'shell pasta': 6,\n",
       " 'steak': 6,\n",
       " 'cooked meatballs': 6,\n",
       " 'chicken bouillon granules': 6,\n",
       " 'long grain white rice': 6,\n",
       " 'maple syrup': 6,\n",
       " 'pappardelle pasta': 6,\n",
       " 'lettuce': 6,\n",
       " 'dried cherry': 6,\n",
       " 'amaretti': 6,\n",
       " 'caesar salad dressing': 6,\n",
       " 'pinto beans': 6,\n",
       " 'cocoa': 6,\n",
       " 'beans': 6,\n",
       " 'beef stock cubes': 6,\n",
       " 'fresh cilantro': 6,\n",
       " 'oyster mushrooms': 6,\n",
       " 'granulated garlic': 6,\n",
       " \"I Can't Believe It's Not Butter!® Spread\": 6,\n",
       " 'fleur de sel': 6,\n",
       " 'softened butter': 6,\n",
       " 'edamame': 6,\n",
       " 'sourdough baguette': 6,\n",
       " 'lasagne': 6,\n",
       " 'granny smith apples': 6,\n",
       " ...}"
      ]
     },
     "execution_count": 24,
     "metadata": {},
     "output_type": "execute_result"
    }
   ],
   "source": [
    "## TODO: 统计意大利菜系中佐料出现次数，并赋值到italian_ingredients字典中\n",
    "train_italian_ingredients = []\n",
    "for i in italian_content['ingredients']:\n",
    "    for ii in i:\n",
    "        train_italian_ingredients.append(ii)\n",
    "        \n",
    "train_italian_ingredients = pd.Series(train_italian_ingredients)\n",
    "italian_ingredients = pd.Series.to_dict(train_italian_ingredients.value_counts())\n",
    "\n",
    "### TODO: 打印结果，检查是否正确赋值\n",
    "italian_ingredients"
   ]
  },
  {
   "cell_type": "code",
   "execution_count": 26,
   "metadata": {},
   "outputs": [
    {
     "data": {
      "image/png": "[encoded data removed]",
      "text/plain": [
       "<Figure size 432x288 with 1 Axes>"
      ]
     },
     "metadata": {},
     "output_type": "display_data"
    }
   ],
   "source": [
    "## 请不要修改下方代码\n",
    "# Finally, plot the 10 most used ingredients\n",
    "fig = pd.DataFrame(italian_ingredients, index=[0]).transpose()[0].sort_values(ascending=False, inplace=False)[:10].plot(kind='barh')\n",
    "fig.invert_yaxis()\n",
    "fig = fig.get_figure()\n",
    "fig.tight_layout()\n",
    "#fig.show()"
   ]
  },
  {
   "cell_type": "markdown",
   "metadata": {},
   "source": [
    "若想要对数据分析做更深入的了解，可以参考[数据分析师入门课程](https://cn.udacity.com/dand)或者[基于Python语言的人工智能Nano课程](https://www.udacity.com/legal/ai-programming)."
   ]
  },
  {
   "cell_type": "markdown",
   "metadata": {},
   "source": [
    "---\n",
    "## 第三步. 建立模型\n",
    "在项目的第三步中，你需要了解必要的工具和技巧来让你的模型进行预测。用这些工具和技巧对每一个模型的表现做精确的衡量可以极大地增强你预测的信心。"
   ]
  },
  {
   "cell_type": "markdown",
   "metadata": {},
   "source": [
    "### 3.1 单词清洗\n",
    "由于菜品包含的佐料众多，同一种佐料也可能有单复数、时态等变化，为了去除这类差异，我们考虑将**ingredients** 进行过滤"
   ]
  },
  {
   "cell_type": "code",
   "execution_count": 27,
   "metadata": {},
   "outputs": [
    {
     "name": "stdout",
     "output_type": "stream",
     "text": [
      "\n",
      "处理训练集...\n",
      "菜品佐料：\n",
      "['chopped tomatoes', 'fresh basil', 'garlic', 'extra-virgin olive oil', 'kosher salt', 'flat leaf parsley']\n",
      "去除标点符号之后的结果：\n",
      "['chopped tomatoes', 'fresh basil', 'garlic', 'extra virgin olive oil', 'kosher salt', 'flat leaf parsley']\n",
      "去除时态和单复数之后的结果：\n",
      "chopped tomato fresh basil garlic extra virgin olive oil kosher salt flat leaf parsley\n",
      "\n",
      "处理测试集...\n",
      "菜品佐料：\n",
      "['eggs', 'cherries', 'dates', 'dark muscovado sugar', 'ground cinnamon', 'mixed spice', 'cake', 'vanilla extract', 'self raising flour', 'sultana', 'rum', 'raisins', 'prunes', 'glace cherries', 'butter', 'port']\n",
      "去除标点符号之后的结果：\n",
      "['eggs', 'cherries', 'dates', 'dark muscovado sugar', 'ground cinnamon', 'mixed spice', 'cake', 'vanilla extract', 'self raising flour', 'sultana', 'rum', 'raisins', 'prunes', 'glace cherries', 'butter', 'port']\n",
      "去除时态和单复数之后的结果：\n",
      "egg cherry date dark muscovado sugar ground cinnamon mixed spice cake vanilla extract self raising flour sultana rum raisin prune glace cherry butter port\n"
     ]
    }
   ],
   "source": [
    "## 请不要修改下方代码\n",
    "import re\n",
    "# nltk 是 Natural Language Toolkit 自然语言库\n",
    "# 在最开始那个代码框可以不运行如果环境中安装了nltk库的话\n",
    "# 后续测试\n",
    "from nltk.stem import WordNetLemmatizer\n",
    "import numpy as np\n",
    "\n",
    "def text_clean(ingredients):\n",
    "    #去除单词的标点符号，只保留 a..z A...Z的单词字符\n",
    "    ingredients= np.array(ingredients).tolist()\n",
    "    print(\"菜品佐料：\\n{}\".format(ingredients[9]))\n",
    "    ingredients=[[re.sub('[^A-Za-z]', ' ', word) for word in component]for component in ingredients]\n",
    "    print(\"去除标点符号之后的结果：\\n{}\".format(ingredients[9]))\n",
    "\n",
    "    # 去除单词的单复数，时态，只保留单词的词干\n",
    "    lemma=WordNetLemmatizer()\n",
    "    ingredients=[\" \".join([ \" \".join([lemma.lemmatize(w) for w in words.split(\" \")]) for words in component])  for component in ingredients]\n",
    "    print(\"去除时态和单复数之后的结果：\\n{}\".format(ingredients[9]))\n",
    "    return ingredients\n",
    "\n",
    "print(\"\\n处理训练集...\")\n",
    "train_ingredients = text_clean(train_content['ingredients'])\n",
    "print(\"\\n处理测试集...\")\n",
    "test_ingredients = text_clean(test_content['ingredients'])\n"
   ]
  },
  {
   "cell_type": "code",
   "execution_count": 28,
   "metadata": {},
   "outputs": [
    {
     "data": {
      "text/plain": [
       "list"
      ]
     },
     "execution_count": 28,
     "metadata": {},
     "output_type": "execute_result"
    }
   ],
   "source": [
    "type(train_ingredients)"
   ]
  },
  {
   "cell_type": "code",
   "execution_count": 29,
   "metadata": {},
   "outputs": [
    {
     "data": {
      "text/plain": [
       "['romaine lettuce black olive grape tomato garlic pepper purple onion seasoning garbanzo bean feta cheese crumbles',\n",
       " 'plain flour ground pepper salt tomato ground black pepper thyme egg green tomato yellow corn meal milk vegetable oil',\n",
       " 'egg pepper salt mayonaise cooking oil green chilies grilled chicken breast garlic powder yellow onion soy sauce butter chicken liver',\n",
       " 'water vegetable oil wheat salt',\n",
       " 'black pepper shallot cornflour cayenne pepper onion garlic paste milk butter salt lemon juice water chili powder passata oil ground cumin boneless chicken skinless thigh garam masala double cream natural yogurt bay leaf',\n",
       " 'plain flour sugar butter egg fresh ginger root salt ground cinnamon milk vanilla extract ground ginger powdered sugar baking powder',\n",
       " 'olive oil salt medium shrimp pepper garlic chopped cilantro jalapeno chilies flat leaf parsley skirt steak white vinegar sea salt bay leaf chorizo sausage',\n",
       " 'sugar pistachio nut white almond bark flour vanilla extract olive oil almond extract egg baking powder dried cranberry',\n",
       " 'olive oil purple onion fresh pineapple pork poblano pepper corn tortilla cheddar cheese ground black pepper salt iceberg lettuce lime jalapeno chilies chopped cilantro fresh',\n",
       " 'chopped tomato fresh basil garlic extra virgin olive oil kosher salt flat leaf parsley']"
      ]
     },
     "execution_count": 29,
     "metadata": {},
     "output_type": "execute_result"
    }
   ],
   "source": [
    "train_ingredients[:10]"
   ]
  },
  {
   "cell_type": "markdown",
   "metadata": {},
   "source": [
    "### 3.2 特征提取\n",
    "在该步骤中，我们将菜品的佐料转换成数值特征向量。考虑到绝大多数菜中都包含`salt, water, sugar, butter`等，采用one-hot的方法提取的向量将不能很好的对菜系作出区分。我们将考虑按照佐料出现的次数对佐料做一定的加权，即：佐料出现次数越多，佐料的区分性就越低。我们采用的特征为TF-IDF，相关介绍内容可以参考：[TF-IDF与余弦相似性的应用（一）：自动提取关键词](http://www.ruanyifeng.com/blog/2013/03/tf-idf.html)。"
   ]
  },
  {
   "cell_type": "code",
   "execution_count": 31,
   "metadata": {},
   "outputs": [],
   "source": [
    "## 请不要修改下方代码\n",
    "from sklearn.feature_extraction.text import TfidfVectorizer\n",
    "# 将佐料转换成特征向量\n",
    "\n",
    "# 处理 训练集\n",
    "vectorizer = TfidfVectorizer(stop_words='english', ngram_range=(1, 1),\n",
    "                analyzer='word', max_df=.57, binary=False,\n",
    "                token_pattern=r\"\\w+\",sublinear_tf=False)\n",
    "train_tfidf = vectorizer.fit_transform(train_ingredients).todense()\n",
    "\n",
    "## 处理 测试集\n",
    "test_tfidf = vectorizer.transform(test_ingredients)"
   ]
  },
  {
   "cell_type": "code",
   "execution_count": 32,
   "metadata": {},
   "outputs": [
    {
     "data": {
      "text/plain": [
       "['greek',\n",
       " 'southern_us',\n",
       " 'filipino',\n",
       " 'indian',\n",
       " 'indian',\n",
       " 'jamaican',\n",
       " 'spanish',\n",
       " 'italian',\n",
       " 'mexican',\n",
       " 'italian']"
      ]
     },
     "execution_count": 32,
     "metadata": {},
     "output_type": "execute_result"
    }
   ],
   "source": [
    "## 请不要修改下方代码\n",
    "train_targets=np.array(train_content['cuisine']).tolist()\n",
    "train_targets[:10]"
   ]
  },
  {
   "cell_type": "markdown",
   "metadata": {},
   "source": [
    "### 编程练习\n",
    "这里我们为了防止前面步骤中累积的错误，导致以下步骤无法正常运行。我们在此检查处理完的实验数据是否正确，请打印`train_tfidf`和`train_targets`中前五个数据。"
   ]
  },
  {
   "cell_type": "code",
   "execution_count": 33,
   "metadata": {},
   "outputs": [
    {
     "data": {
      "text/plain": [
       "matrix([[0., 0., 0., ..., 0., 0., 0.],\n",
       "        [0., 0., 0., ..., 0., 0., 0.],\n",
       "        [0., 0., 0., ..., 0., 0., 0.],\n",
       "        [0., 0., 0., ..., 0., 0., 0.],\n",
       "        [0., 0., 0., ..., 0., 0., 0.]])"
      ]
     },
     "execution_count": 33,
     "metadata": {},
     "output_type": "execute_result"
    }
   ],
   "source": [
    "# 你需要通过head()函数来预览训练集train_tfidf,train_targets数据\n",
    "train_tfidf[:5]"
   ]
  },
  {
   "cell_type": "code",
   "execution_count": 34,
   "metadata": {},
   "outputs": [
    {
     "data": {
      "text/plain": [
       "['greek', 'southern_us', 'filipino', 'indian', 'indian']"
      ]
     },
     "execution_count": 34,
     "metadata": {},
     "output_type": "execute_result"
    }
   ],
   "source": [
    "train_targets[:5]"
   ]
  },
  {
   "cell_type": "markdown",
   "metadata": {},
   "source": [
    "### 3.3 验证集划分\n",
    "为了在实验中大致估计模型的精确度我们将从原本的`train_ingredients` 划分出 `20%` 的数据用作`valid_ingredients`。"
   ]
  },
  {
   "cell_type": "markdown",
   "metadata": {},
   "source": [
    "### 编程练习：数据分割与重排\n",
    "调用`train_test_split`函数将训练集划分为新的训练集和验证集，便于之后的模型精度观测。\n",
    "* 从`sklearn.model_selection`中导入`train_test_split`\n",
    "* 将`train_tfidf`和`train_targets`作为`train_test_split`的输入变量\n",
    "* 设置`test_size`为0.2，划分出20%的验证集，80%的数据留作新的训练集。\n",
    "* 设置`random_state`随机种子，以确保每一次运行都可以得到相同划分的结果。（随机种子固定，生成的随机序列就是确定的）"
   ]
  },
  {
   "cell_type": "code",
   "execution_count": 35,
   "metadata": {},
   "outputs": [],
   "source": [
    "### TODO：划分出验证集\n",
    "\n",
    "from sklearn.model_selection import train_test_split\n",
    "\n",
    "X_train , X_valid , y_train, y_valid =  train_test_split(train_tfidf, train_targets, test_size=0.2, random_state=42)"
   ]
  },
  {
   "cell_type": "markdown",
   "metadata": {},
   "source": [
    "### 3.2 建立模型 \n",
    "调用 `sklearn` 中的逻辑回归模型（Logistic Regression）。"
   ]
  },
  {
   "cell_type": "markdown",
   "metadata": {},
   "source": [
    "### 编程练习：训练模型\n",
    "* 从`sklearn.linear_model`导入`LogisticRegression`\n",
    "* 从`sklearn.model_selection`导入`GridSearchCV`, 参数自动搜索，只要把参数输进去，就能给出最优的结果和参数，这个方法适合小数据集。\n",
    "* 定义`parameters`变量：为`C`参数创造一个字典，它的值是从1至10的数组;\n",
    "* 定义`classifier`变量: 使用导入的`LogisticRegression`创建一个分类函数;\n",
    "* 定义`grid`变量: 使用导入的`GridSearchCV`创建一个网格搜索对象；将变量'classifier', 'parameters'作为参数传至这个对象构造函数中；"
   ]
  },
  {
   "cell_type": "code",
   "execution_count": 36,
   "metadata": {},
   "outputs": [
    {
     "data": {
      "text/plain": [
       "numpy.matrixlib.defmatrix.matrix"
      ]
     },
     "execution_count": 36,
     "metadata": {},
     "output_type": "execute_result"
    }
   ],
   "source": [
    "type(X_train)"
   ]
  },
  {
   "cell_type": "code",
   "execution_count": 37,
   "metadata": {},
   "outputs": [
    {
     "data": {
      "text/plain": [
       "list"
      ]
     },
     "execution_count": 37,
     "metadata": {},
     "output_type": "execute_result"
    }
   ],
   "source": [
    "type(y_train)"
   ]
  },
  {
   "cell_type": "code",
   "execution_count": 38,
   "metadata": {},
   "outputs": [],
   "source": [
    "from sklearn.linear_model import LogisticRegression\n",
    "from sklearn.model_selection import GridSearchCV\n",
    "from sklearn.metrics import f1_score, make_scorer\n",
    "\n",
    "# 线性回归参数\n",
    "# https://blog.csdn.net/jark_/article/details/78342644\n",
    "\n",
    "## TODO: 建立逻辑回归模型\n",
    "# 此处C要大写\n",
    "parameters = {'C':[1,2,3,4,5,5,6,7,8,9,10]}\n",
    "\n",
    "# 要加(random_state=42)参数否则会报错少参数self\n",
    "classifier = LogisticRegression(random_state=42)\n",
    "\n",
    "# Make an fbeta_score scoring object.\n",
    "# scorer默认是二分类的，在这里不要加\n",
    "# scorer = make_scorer(f1_score)\n",
    "\n",
    "grid = GridSearchCV(classifier, parameters)\n",
    "\n",
    "## 请不要修改下方代码\n",
    "grid = grid.fit(X_train, y_train)"
   ]
  },
  {
   "cell_type": "markdown",
   "metadata": {},
   "source": [
    "模型训练结束之后，我们计算模型在验证集`X_valid`上预测结果，并计算模型的预测精度（与`y_valid`逐个比较）。"
   ]
  },
  {
   "cell_type": "code",
   "execution_count": 40,
   "metadata": {},
   "outputs": [
    {
     "data": {
      "text/plain": [
       "LogisticRegression(C=7, class_weight=None, dual=False, fit_intercept=True,\n",
       "          intercept_scaling=1, max_iter=100, multi_class='ovr', n_jobs=1,\n",
       "          penalty='l2', random_state=42, solver='liblinear', tol=0.0001,\n",
       "          verbose=0, warm_start=False)"
      ]
     },
     "execution_count": 40,
     "metadata": {},
     "output_type": "execute_result"
    }
   ],
   "source": [
    "grid.best_estimator_"
   ]
  },
  {
   "cell_type": "code",
   "execution_count": 41,
   "metadata": {},
   "outputs": [
    {
     "name": "stdout",
     "output_type": "stream",
     "text": [
      "验证集上的得分为：0.7898177247014456\n"
     ]
    }
   ],
   "source": [
    "## 请不要修改下方代码\n",
    "from sklearn.metrics import accuracy_score ## 计算模型的准确率\n",
    "\n",
    "valid_predict = grid.predict(X_valid)\n",
    "valid_score=accuracy_score(y_valid,valid_predict)\n",
    "\n",
    "print(\"验证集上的得分为：{}\".format(valid_score))"
   ]
  },
  {
   "cell_type": "code",
   "execution_count": 42,
   "metadata": {
    "scrolled": true
   },
   "outputs": [
    {
     "data": {
      "text/plain": [
       "matrix([[0., 0., 0., ..., 0., 0., 0.],\n",
       "        [0., 0., 0., ..., 0., 0., 0.],\n",
       "        [0., 0., 0., ..., 0., 0., 0.],\n",
       "        ...,\n",
       "        [0., 0., 0., ..., 0., 0., 0.],\n",
       "        [0., 0., 0., ..., 0., 0., 0.],\n",
       "        [0., 0., 0., ..., 0., 0., 0.]])"
      ]
     },
     "execution_count": 42,
     "metadata": {},
     "output_type": "execute_result"
    }
   ],
   "source": [
    "X_train"
   ]
  },
  {
   "cell_type": "markdown",
   "metadata": {},
   "source": [
    "---\n",
    "## 第四步. 模型预测（可选）"
   ]
  },
  {
   "cell_type": "markdown",
   "metadata": {},
   "source": [
    "### 4.1 预测测试集\n",
    "\n",
    "### 编程练习\n",
    "* 将模型`grid`对测试集`test_tfidf`做预测，然后查看预测结果。"
   ]
  },
  {
   "cell_type": "code",
   "execution_count": 43,
   "metadata": {},
   "outputs": [
    {
     "data": {
      "text/plain": [
       "matrix([[0., 0., 0., ..., 0., 0., 0.],\n",
       "        [0., 0., 0., ..., 0., 0., 0.],\n",
       "        [0., 0., 0., ..., 0., 0., 0.],\n",
       "        ...,\n",
       "        [0., 0., 0., ..., 0., 0., 0.],\n",
       "        [0., 0., 0., ..., 0., 0., 0.],\n",
       "        [0., 0., 0., ..., 0., 0., 0.]])"
      ]
     },
     "execution_count": 43,
     "metadata": {},
     "output_type": "execute_result"
    }
   ],
   "source": [
    "train_tfidf[:10]"
   ]
  },
  {
   "cell_type": "code",
   "execution_count": 44,
   "metadata": {},
   "outputs": [
    {
     "data": {
      "text/plain": [
       "<5x2787 sparse matrix of type '<class 'numpy.float64'>'\n",
       "\twith 90 stored elements in Compressed Sparse Row format>"
      ]
     },
     "execution_count": 44,
     "metadata": {},
     "output_type": "execute_result"
    }
   ],
   "source": [
    "test_tfidf[:5]"
   ]
  },
  {
   "cell_type": "code",
   "execution_count": 46,
   "metadata": {},
   "outputs": [],
   "source": [
    "### TODO：预测测试结果\n",
    "# 就是把test_content做一遍以上内容\n",
    "# test_ingredients = []\n",
    "# for i in test_content['ingredients']:\n",
    "    #for ii in i:\n",
    "        # test_ingredients.append(ii)      \n",
    "# test_ingredients = pd.Series(test_ingredients)"
   ]
  },
  {
   "cell_type": "code",
   "execution_count": 47,
   "metadata": {},
   "outputs": [
    {
     "data": {
      "text/plain": [
       "['baking powder egg all purpose flour raisin milk white sugar',\n",
       " 'sugar egg yolk corn starch cream of tartar banana vanilla wafer milk vanilla extract toasted pecan egg white light rum',\n",
       " 'sausage link fennel bulb frond olive oil cuban pepper onion']"
      ]
     },
     "execution_count": 47,
     "metadata": {},
     "output_type": "execute_result"
    }
   ],
   "source": [
    "test_ingredients[:3]"
   ]
  },
  {
   "cell_type": "code",
   "execution_count": 48,
   "metadata": {},
   "outputs": [],
   "source": [
    "test_tfidf = vectorizer.transform(test_ingredients)"
   ]
  },
  {
   "cell_type": "code",
   "execution_count": 49,
   "metadata": {},
   "outputs": [
    {
     "data": {
      "text/plain": [
       "<10x2787 sparse matrix of type '<class 'numpy.float64'>'\n",
       "\twith 199 stored elements in Compressed Sparse Row format>"
      ]
     },
     "execution_count": 49,
     "metadata": {},
     "output_type": "execute_result"
    }
   ],
   "source": [
    "test_tfidf[:10]"
   ]
  },
  {
   "cell_type": "code",
   "execution_count": 50,
   "metadata": {},
   "outputs": [],
   "source": [
    "# test数据没有cuisine的\n",
    "test_targets = train_content['cuisine']"
   ]
  },
  {
   "cell_type": "code",
   "execution_count": 53,
   "metadata": {},
   "outputs": [
    {
     "name": "stdout",
     "output_type": "stream",
     "text": [
      "预测的测试集个数为：9944\n"
     ]
    },
    {
     "data": {
      "text/html": [
       "<div>\n",
       "<style scoped>\n",
       "    .dataframe tbody tr th:only-of-type {\n",
       "        vertical-align: middle;\n",
       "    }\n",
       "\n",
       "    .dataframe tbody tr th {\n",
       "        vertical-align: top;\n",
       "    }\n",
       "\n",
       "    .dataframe thead th {\n",
       "        text-align: right;\n",
       "    }\n",
       "</style>\n",
       "<table border=\"1\" class=\"dataframe\">\n",
       "  <thead>\n",
       "    <tr style=\"text-align: right;\">\n",
       "      <th></th>\n",
       "      <th>id</th>\n",
       "      <th>ingredients</th>\n",
       "      <th>cuisine</th>\n",
       "    </tr>\n",
       "  </thead>\n",
       "  <tbody>\n",
       "    <tr>\n",
       "      <th>0</th>\n",
       "      <td>18009</td>\n",
       "      <td>[baking powder, eggs, all-purpose flour, raisins, milk, white sugar]</td>\n",
       "      <td>british</td>\n",
       "    </tr>\n",
       "    <tr>\n",
       "      <th>1</th>\n",
       "      <td>28583</td>\n",
       "      <td>[sugar, egg yolks, corn starch, cream of tartar, bananas, vanilla wafers, milk, vanilla extract, toasted pecans, egg...</td>\n",
       "      <td>southern_us</td>\n",
       "    </tr>\n",
       "    <tr>\n",
       "      <th>2</th>\n",
       "      <td>41580</td>\n",
       "      <td>[sausage links, fennel bulb, fronds, olive oil, cuban peppers, onions]</td>\n",
       "      <td>italian</td>\n",
       "    </tr>\n",
       "    <tr>\n",
       "      <th>3</th>\n",
       "      <td>29752</td>\n",
       "      <td>[meat cuts, file powder, smoked sausage, okra, shrimp, andouille sausage, water, paprika, hot sauce, garlic cloves, ...</td>\n",
       "      <td>cajun_creole</td>\n",
       "    </tr>\n",
       "    <tr>\n",
       "      <th>4</th>\n",
       "      <td>35687</td>\n",
       "      <td>[ground black pepper, salt, sausage casings, leeks, parmigiano reggiano cheese, cornmeal, water, extra-virgin olive ...</td>\n",
       "      <td>italian</td>\n",
       "    </tr>\n",
       "    <tr>\n",
       "      <th>5</th>\n",
       "      <td>38527</td>\n",
       "      <td>[baking powder, all-purpose flour, peach slices, corn starch, heavy cream, lemon juice, unsalted butter, salt, white...</td>\n",
       "      <td>southern_us</td>\n",
       "    </tr>\n",
       "    <tr>\n",
       "      <th>6</th>\n",
       "      <td>19666</td>\n",
       "      <td>[grape juice, orange, white zinfandel]</td>\n",
       "      <td>french</td>\n",
       "    </tr>\n",
       "    <tr>\n",
       "      <th>7</th>\n",
       "      <td>41217</td>\n",
       "      <td>[ground ginger, white pepper, green onions, orange juice, sugar, Sriracha, vegetable oil, orange zest, chicken broth...</td>\n",
       "      <td>chinese</td>\n",
       "    </tr>\n",
       "    <tr>\n",
       "      <th>8</th>\n",
       "      <td>28753</td>\n",
       "      <td>[diced onions, taco seasoning mix, all-purpose flour, chopped cilantro fresh, ground cumin, ground cinnamon, vegetab...</td>\n",
       "      <td>mexican</td>\n",
       "    </tr>\n",
       "    <tr>\n",
       "      <th>9</th>\n",
       "      <td>22659</td>\n",
       "      <td>[eggs, cherries, dates, dark muscovado sugar, ground cinnamon, mixed spice, cake, vanilla extract, self raising flou...</td>\n",
       "      <td>british</td>\n",
       "    </tr>\n",
       "  </tbody>\n",
       "</table>\n",
       "</div>"
      ],
      "text/plain": [
       "      id  \\\n",
       "0  18009   \n",
       "1  28583   \n",
       "2  41580   \n",
       "3  29752   \n",
       "4  35687   \n",
       "5  38527   \n",
       "6  19666   \n",
       "7  41217   \n",
       "8  28753   \n",
       "9  22659   \n",
       "\n",
       "                                                                                                               ingredients  \\\n",
       "0                                                     [baking powder, eggs, all-purpose flour, raisins, milk, white sugar]   \n",
       "1  [sugar, egg yolks, corn starch, cream of tartar, bananas, vanilla wafers, milk, vanilla extract, toasted pecans, egg...   \n",
       "2                                                   [sausage links, fennel bulb, fronds, olive oil, cuban peppers, onions]   \n",
       "3  [meat cuts, file powder, smoked sausage, okra, shrimp, andouille sausage, water, paprika, hot sauce, garlic cloves, ...   \n",
       "4  [ground black pepper, salt, sausage casings, leeks, parmigiano reggiano cheese, cornmeal, water, extra-virgin olive ...   \n",
       "5  [baking powder, all-purpose flour, peach slices, corn starch, heavy cream, lemon juice, unsalted butter, salt, white...   \n",
       "6                                                                                   [grape juice, orange, white zinfandel]   \n",
       "7  [ground ginger, white pepper, green onions, orange juice, sugar, Sriracha, vegetable oil, orange zest, chicken broth...   \n",
       "8  [diced onions, taco seasoning mix, all-purpose flour, chopped cilantro fresh, ground cumin, ground cinnamon, vegetab...   \n",
       "9  [eggs, cherries, dates, dark muscovado sugar, ground cinnamon, mixed spice, cake, vanilla extract, self raising flou...   \n",
       "\n",
       "        cuisine  \n",
       "0       british  \n",
       "1   southern_us  \n",
       "2       italian  \n",
       "3  cajun_creole  \n",
       "4       italian  \n",
       "5   southern_us  \n",
       "6        french  \n",
       "7       chinese  \n",
       "8       mexican  \n",
       "9       british  "
      ]
     },
     "execution_count": 53,
     "metadata": {},
     "output_type": "execute_result"
    }
   ],
   "source": [
    "# test_tfidf 已经在上面处理好了\n",
    "# train_target\n",
    "\n",
    "predictions = grid.predict(test_tfidf)\n",
    "\n",
    "## 请不要修改下方代码\n",
    "print(\"预测的测试集个数为：{}\".format(len(predictions)))\n",
    "test_content['cuisine']=predictions\n",
    "test_content.head(10)"
   ]
  },
  {
   "cell_type": "markdown",
   "metadata": {},
   "source": [
    "### 4.2 提交结果\n",
    "为了更好的测试模型的效果，同时比较与其他人的差距，我们将模型的测试集上的结果提交至 [kaggle What's Cooking?](https://www.kaggle.com/c/whats-cooking/submit) （需要提前注册kaggle账号）。\n",
    "\n",
    "**注意**：在提交作业时，请将提交排名得分截图，附在压缩包中。\n"
   ]
  },
  {
   "cell_type": "code",
   "execution_count": 56,
   "metadata": {},
   "outputs": [],
   "source": [
    "## 加载结果格式\n",
    "submit_frame = pd.read_csv(\"sample_submission.csv\")\n",
    "## 保存结果\n",
    "result = pd.merge(submit_frame, test_content, on=\"id\", how='left')\n",
    "result = result.rename(index=str, columns={\"cuisine_y\": \"cuisine\"})\n",
    "test_result_name = \"tfidf_cuisine_test.csv\"\n",
    "result[['id','cuisine']].to_csv(test_result_name,index=False)"
   ]
  },
  {
   "cell_type": "markdown",
   "metadata": {},
   "source": [
    "将生成的 **tfidf_cuisine_test.csv** 提交至 <https://www.kaggle.com/c/whats-cooking/submit> 然后选择 **Upload Submission File**, 点击 **Make submission**即可。稍作等待，就可以看到右上角的评分结果（得分大致为：`0.78580` 左右）。"
   ]
  }
 ],
 "metadata": {
  "anaconda-cloud": {},
  "kernelspec": {
   "display_name": "Python 3",
   "language": "python",
   "name": "python3"
  },
  "language_info": {
   "codemirror_mode": {
    "name": "ipython",
    "version": 3
   },
   "file_extension": ".py",
   "mimetype": "text/x-python",
   "name": "python",
   "nbconvert_exporter": "python",
   "pygments_lexer": "ipython3",
   "version": "3.6.6"
  }
 },
 "nbformat": 4,
 "nbformat_minor": 2
}
