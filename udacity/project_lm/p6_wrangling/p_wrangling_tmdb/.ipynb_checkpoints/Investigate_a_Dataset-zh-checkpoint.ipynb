{
 "cells": [
  {
   "cell_type": "markdown",
   "metadata": {},
   "source": [
    "\n",
    "\n",
    "# 项目：探索TMDb电影数据\n",
    "\n",
    "## 目录\n",
    "<ul>\n",
    "<li><a href=\"#intro\">简介</a></li>\n",
    "<li><a href=\"#wrangling\">数据整理</a></li>\n",
    "<li><a href=\"#eda\">探索性数据分析</a></li>\n",
    "<li><a href=\"#conclusions\">结论</a></li>\n",
    "</ul>\n",
    "\n",
    "<a id='intro'></a>\n",
    "## 简介\n",
    "\n",
    "> 本次分析的数据为TMDB的电影评分数据。研究问题一：流行程度'popularity'和得分'vote_average'之间的关系，投入'budget_adj'和收入'revenue_adj'之间的关系。研究问题二：电影是否拥有自己的主页，会不会影响其popularity和vote_average？"
   ]
  },
  {
   "cell_type": "code",
   "execution_count": 24,
   "metadata": {},
   "outputs": [],
   "source": [
    "import pandas as pd\n",
    "import matplotlib.pyplot as plt\n",
    "import seaborn as sns\n",
    "import numpy as np\n",
    "% matplotlib inline"
   ]
  },
  {
   "cell_type": "markdown",
   "metadata": {},
   "source": [
    "<a id='wrangling'></a>\n",
    "## 数据整理\n",
    "\n",
    "\n",
    "\n",
    "### 常规属性"
   ]
  },
  {
   "cell_type": "code",
   "execution_count": 25,
   "metadata": {
    "scrolled": true
   },
   "outputs": [
    {
     "name": "stdout",
     "output_type": "stream",
     "text": [
      "Index(['id', 'imdb_id', 'popularity', 'budget', 'revenue', 'original_title',\n",
      "       'cast', 'homepage', 'director', 'tagline', 'keywords', 'overview',\n",
      "       'runtime', 'genres', 'production_companies', 'release_date',\n",
      "       'vote_count', 'vote_average', 'release_year', 'budget_adj',\n",
      "       'revenue_adj'],\n",
      "      dtype='object')\n",
      "       id    imdb_id  popularity     budget     revenue  \\\n",
      "0  135397  tt0369610   32.985763  150000000  1513528810   \n",
      "1   76341  tt1392190   28.419936  150000000   378436354   \n",
      "2  262500  tt2908446   13.112507  110000000   295238201   \n",
      "3  140607  tt2488496   11.173104  200000000  2068178225   \n",
      "4  168259  tt2820852    9.335014  190000000  1506249360   \n",
      "\n",
      "                 original_title  \\\n",
      "0                Jurassic World   \n",
      "1            Mad Max: Fury Road   \n",
      "2                     Insurgent   \n",
      "3  Star Wars: The Force Awakens   \n",
      "4                     Furious 7   \n",
      "\n",
      "                                                cast  \\\n",
      "0  Chris Pratt|Bryce Dallas Howard|Irrfan Khan|Vi...   \n",
      "1  Tom Hardy|Charlize Theron|Hugh Keays-Byrne|Nic...   \n",
      "2  Shailene Woodley|Theo James|Kate Winslet|Ansel...   \n",
      "3  Harrison Ford|Mark Hamill|Carrie Fisher|Adam D...   \n",
      "4  Vin Diesel|Paul Walker|Jason Statham|Michelle ...   \n",
      "\n",
      "                                            homepage          director  \\\n",
      "0                      http://www.jurassicworld.com/   Colin Trevorrow   \n",
      "1                        http://www.madmaxmovie.com/     George Miller   \n",
      "2     http://www.thedivergentseries.movie/#insurgent  Robert Schwentke   \n",
      "3  http://www.starwars.com/films/star-wars-episod...       J.J. Abrams   \n",
      "4                           http://www.furious7.com/         James Wan   \n",
      "\n",
      "                         tagline      ...       \\\n",
      "0              The park is open.      ...        \n",
      "1             What a Lovely Day.      ...        \n",
      "2     One Choice Can Destroy You      ...        \n",
      "3  Every generation has a story.      ...        \n",
      "4            Vengeance Hits Home      ...        \n",
      "\n",
      "                                            overview runtime  \\\n",
      "0  Twenty-two years after the events of Jurassic ...     124   \n",
      "1  An apocalyptic story set in the furthest reach...     120   \n",
      "2  Beatrice Prior must confront her inner demons ...     119   \n",
      "3  Thirty years after defeating the Galactic Empi...     136   \n",
      "4  Deckard Shaw seeks revenge against Dominic Tor...     137   \n",
      "\n",
      "                                      genres  \\\n",
      "0  Action|Adventure|Science Fiction|Thriller   \n",
      "1  Action|Adventure|Science Fiction|Thriller   \n",
      "2         Adventure|Science Fiction|Thriller   \n",
      "3   Action|Adventure|Science Fiction|Fantasy   \n",
      "4                      Action|Crime|Thriller   \n",
      "\n",
      "                                production_companies release_date vote_count  \\\n",
      "0  Universal Studios|Amblin Entertainment|Legenda...       6/9/15       5562   \n",
      "1  Village Roadshow Pictures|Kennedy Miller Produ...      5/13/15       6185   \n",
      "2  Summit Entertainment|Mandeville Films|Red Wago...      3/18/15       2480   \n",
      "3          Lucasfilm|Truenorth Productions|Bad Robot     12/15/15       5292   \n",
      "4  Universal Pictures|Original Film|Media Rights ...       4/1/15       2947   \n",
      "\n",
      "   vote_average  release_year    budget_adj   revenue_adj  \n",
      "0           6.5          2015  1.379999e+08  1.392446e+09  \n",
      "1           7.1          2015  1.379999e+08  3.481613e+08  \n",
      "2           6.3          2015  1.012000e+08  2.716190e+08  \n",
      "3           7.5          2015  1.839999e+08  1.902723e+09  \n",
      "4           7.3          2015  1.747999e+08  1.385749e+09  \n",
      "\n",
      "[5 rows x 21 columns]\n",
      "id                        int64\n",
      "imdb_id                  object\n",
      "popularity              float64\n",
      "budget                    int64\n",
      "revenue                   int64\n",
      "original_title           object\n",
      "cast                     object\n",
      "homepage                 object\n",
      "director                 object\n",
      "tagline                  object\n",
      "keywords                 object\n",
      "overview                 object\n",
      "runtime                   int64\n",
      "genres                   object\n",
      "production_companies     object\n",
      "release_date             object\n",
      "vote_count                int64\n",
      "vote_average            float64\n",
      "release_year              int64\n",
      "budget_adj              float64\n",
      "revenue_adj             float64\n",
      "dtype: object\n"
     ]
    }
   ],
   "source": [
    "# 加载数据并打印几行。进行这几项操作，来检查数据\n",
    "#   类型，以及是否有缺失数据或错误数据的情况。\n",
    "df = pd.read_csv('tmdb-movies.csv')\n",
    "print(df.columns)\n",
    "print(df.head())\n",
    "print(df.dtypes)"
   ]
  },
  {
   "cell_type": "markdown",
   "metadata": {},
   "source": [
    "\n",
    "\n",
    "### 检查数据"
   ]
  },
  {
   "cell_type": "code",
   "execution_count": 26,
   "metadata": {},
   "outputs": [
    {
     "data": {
      "text/plain": [
       "(10866, 21)"
      ]
     },
     "execution_count": 26,
     "metadata": {},
     "output_type": "execute_result"
    }
   ],
   "source": [
    "# 在讨论数据结构和需要解决的任何问题之后，\n",
    "#   在本部分的第二小部分进行这些清理步骤。\n",
    "df.shape\n",
    "# 查看数据的维度"
   ]
  },
  {
   "cell_type": "code",
   "execution_count": 27,
   "metadata": {},
   "outputs": [
    {
     "data": {
      "text/plain": [
       "id                         0\n",
       "imdb_id                   10\n",
       "popularity                 0\n",
       "budget                     0\n",
       "revenue                    0\n",
       "original_title             0\n",
       "cast                      76\n",
       "homepage                7930\n",
       "director                  44\n",
       "tagline                 2824\n",
       "keywords                1493\n",
       "overview                   4\n",
       "runtime                    0\n",
       "genres                    23\n",
       "production_companies    1030\n",
       "release_date               0\n",
       "vote_count                 0\n",
       "vote_average               0\n",
       "release_year               0\n",
       "budget_adj                 0\n",
       "revenue_adj                0\n",
       "dtype: int64"
      ]
     },
     "execution_count": 27,
     "metadata": {},
     "output_type": "execute_result"
    }
   ],
   "source": [
    "df.isnull().sum()\n",
    "# 查看数据的缺失情况，发现homepage这一列缺失了很多值。"
   ]
  },
  {
   "cell_type": "code",
   "execution_count": 28,
   "metadata": {},
   "outputs": [
    {
     "name": "stdout",
     "output_type": "stream",
     "text": [
      "(10866, 21)\n",
      "1\n",
      "(10865, 21)\n",
      "0\n"
     ]
    }
   ],
   "source": [
    "print(df.shape)\n",
    "print(df.duplicated().sum())\n",
    "df.drop_duplicates(inplace = True)\n",
    "print(df.shape)\n",
    "print(df.duplicated().sum())\n",
    "# 丢弃重复的行"
   ]
  },
  {
   "cell_type": "code",
   "execution_count": 29,
   "metadata": {},
   "outputs": [
    {
     "data": {
      "text/plain": [
       "id                      10865\n",
       "imdb_id                 10855\n",
       "popularity              10814\n",
       "budget                    557\n",
       "revenue                  4702\n",
       "original_title          10571\n",
       "cast                    10719\n",
       "homepage                 2896\n",
       "director                 5067\n",
       "tagline                  7997\n",
       "keywords                 8804\n",
       "overview                10847\n",
       "runtime                   247\n",
       "genres                   2039\n",
       "production_companies     7445\n",
       "release_date             5909\n",
       "vote_count               1289\n",
       "vote_average               72\n",
       "release_year               56\n",
       "budget_adj               2614\n",
       "revenue_adj              4840\n",
       "dtype: int64"
      ]
     },
     "execution_count": 29,
     "metadata": {},
     "output_type": "execute_result"
    }
   ],
   "source": [
    "df.nunique()\n",
    "# 查看每列的唯一值的数量"
   ]
  },
  {
   "cell_type": "markdown",
   "metadata": {},
   "source": [
    "### 清理数据"
   ]
  },
  {
   "cell_type": "code",
   "execution_count": 30,
   "metadata": {},
   "outputs": [],
   "source": [
    "if 'imdb_id' in df.columns:\n",
    "    df.drop(['budget', 'revenue', 'imdb_id'], axis = 1, inplace = True)\n",
    "else:\n",
    "    print('Data already processed')\n",
    "# id和imdb_id都是编号，所以删除其中一个。预算budget和收入revenue使用调整后的列，所以删除它们，我们需要的是'budget_adj'和'revenue_adj'。"
   ]
  },
  {
   "cell_type": "code",
   "execution_count": 31,
   "metadata": {},
   "outputs": [],
   "source": [
    "if 'homepage' in df.columns:\n",
    "    df['has_homepage'] = df['homepage'].notnull()\n",
    "    df.drop('homepage', axis = 1, inplace = True)\n",
    "else:\n",
    "    print('Data already processed')\n",
    "# 我想知道具有homepage的电影是否会有更高的popularity和vote_average，所以新建一列'has_homepage'，用来表示电影是否有homepage"
   ]
  },
  {
   "cell_type": "code",
   "execution_count": 32,
   "metadata": {},
   "outputs": [
    {
     "data": {
      "text/plain": [
       "numpy.bool_"
      ]
     },
     "execution_count": 32,
     "metadata": {},
     "output_type": "execute_result"
    }
   ],
   "source": [
    "type(df['has_homepage'][0])\n",
    "# 确认'has_homepage'是布尔类型"
   ]
  },
  {
   "cell_type": "markdown",
   "metadata": {},
   "source": [
    "<a id='eda'></a>\n",
    "## 探索性数据分析\n",
    "\n",
    "\n",
    "\n",
    "### 研究问题 1：'popularity'和'vote_average'之间的关系，'budget_adj'和'revenue_adj'之间的关系"
   ]
  },
  {
   "cell_type": "markdown",
   "metadata": {},
   "source": [
    "**在查看数据类型的时候我发现 'popularity','vote_average','budget_adj','revenue_adj'这四列都是数字，所以想看看它们之间有何关联。**"
   ]
  },
  {
   "cell_type": "code",
   "execution_count": 33,
   "metadata": {},
   "outputs": [
    {
     "data": {
      "text/html": [
       "<div>\n",
       "<style>\n",
       "    .dataframe thead tr:only-child th {\n",
       "        text-align: right;\n",
       "    }\n",
       "\n",
       "    .dataframe thead th {\n",
       "        text-align: left;\n",
       "    }\n",
       "\n",
       "    .dataframe tbody tr th {\n",
       "        vertical-align: top;\n",
       "    }\n",
       "</style>\n",
       "<table border=\"1\" class=\"dataframe\">\n",
       "  <thead>\n",
       "    <tr style=\"text-align: right;\">\n",
       "      <th></th>\n",
       "      <th>popularity</th>\n",
       "      <th>vote_average</th>\n",
       "      <th>budget_adj</th>\n",
       "      <th>revenue_adj</th>\n",
       "    </tr>\n",
       "  </thead>\n",
       "  <tbody>\n",
       "    <tr>\n",
       "      <th>0</th>\n",
       "      <td>32.985763</td>\n",
       "      <td>6.5</td>\n",
       "      <td>1.379999e+08</td>\n",
       "      <td>1.392446e+09</td>\n",
       "    </tr>\n",
       "    <tr>\n",
       "      <th>1</th>\n",
       "      <td>28.419936</td>\n",
       "      <td>7.1</td>\n",
       "      <td>1.379999e+08</td>\n",
       "      <td>3.481613e+08</td>\n",
       "    </tr>\n",
       "    <tr>\n",
       "      <th>2</th>\n",
       "      <td>13.112507</td>\n",
       "      <td>6.3</td>\n",
       "      <td>1.012000e+08</td>\n",
       "      <td>2.716190e+08</td>\n",
       "    </tr>\n",
       "    <tr>\n",
       "      <th>3</th>\n",
       "      <td>11.173104</td>\n",
       "      <td>7.5</td>\n",
       "      <td>1.839999e+08</td>\n",
       "      <td>1.902723e+09</td>\n",
       "    </tr>\n",
       "    <tr>\n",
       "      <th>4</th>\n",
       "      <td>9.335014</td>\n",
       "      <td>7.3</td>\n",
       "      <td>1.747999e+08</td>\n",
       "      <td>1.385749e+09</td>\n",
       "    </tr>\n",
       "  </tbody>\n",
       "</table>\n",
       "</div>"
      ],
      "text/plain": [
       "   popularity  vote_average    budget_adj   revenue_adj\n",
       "0   32.985763           6.5  1.379999e+08  1.392446e+09\n",
       "1   28.419936           7.1  1.379999e+08  3.481613e+08\n",
       "2   13.112507           6.3  1.012000e+08  2.716190e+08\n",
       "3   11.173104           7.5  1.839999e+08  1.902723e+09\n",
       "4    9.335014           7.3  1.747999e+08  1.385749e+09"
      ]
     },
     "execution_count": 33,
     "metadata": {},
     "output_type": "execute_result"
    }
   ],
   "source": [
    "int_column = ['popularity','vote_average','budget_adj','revenue_adj'] \n",
    "# 保留这四列\n",
    "df_small = pd.DataFrame()\n",
    "for c in int_column:\n",
    "    df_small[c] = df[c]\n",
    "\n",
    "df_small.head()"
   ]
  },
  {
   "cell_type": "markdown",
   "metadata": {},
   "source": [
    "**新建了一个名为df_small数据集,只保留了跟研究问题有关的列**"
   ]
  },
  {
   "cell_type": "code",
   "execution_count": 34,
   "metadata": {},
   "outputs": [
    {
     "data": {
      "text/html": [
       "<div>\n",
       "<style>\n",
       "    .dataframe thead tr:only-child th {\n",
       "        text-align: right;\n",
       "    }\n",
       "\n",
       "    .dataframe thead th {\n",
       "        text-align: left;\n",
       "    }\n",
       "\n",
       "    .dataframe tbody tr th {\n",
       "        vertical-align: top;\n",
       "    }\n",
       "</style>\n",
       "<table border=\"1\" class=\"dataframe\">\n",
       "  <thead>\n",
       "    <tr style=\"text-align: right;\">\n",
       "      <th></th>\n",
       "      <th>popularity</th>\n",
       "      <th>vote_average</th>\n",
       "      <th>budget_adj</th>\n",
       "      <th>revenue_adj</th>\n",
       "    </tr>\n",
       "  </thead>\n",
       "  <tbody>\n",
       "    <tr>\n",
       "      <th>count</th>\n",
       "      <td>10865.000000</td>\n",
       "      <td>10865.000000</td>\n",
       "      <td>1.086500e+04</td>\n",
       "      <td>1.086500e+04</td>\n",
       "    </tr>\n",
       "    <tr>\n",
       "      <th>mean</th>\n",
       "      <td>0.646446</td>\n",
       "      <td>5.975012</td>\n",
       "      <td>1.754989e+07</td>\n",
       "      <td>5.136900e+07</td>\n",
       "    </tr>\n",
       "    <tr>\n",
       "      <th>std</th>\n",
       "      <td>1.000231</td>\n",
       "      <td>0.935138</td>\n",
       "      <td>3.430753e+07</td>\n",
       "      <td>1.446383e+08</td>\n",
       "    </tr>\n",
       "    <tr>\n",
       "      <th>min</th>\n",
       "      <td>0.000065</td>\n",
       "      <td>1.500000</td>\n",
       "      <td>0.000000e+00</td>\n",
       "      <td>0.000000e+00</td>\n",
       "    </tr>\n",
       "    <tr>\n",
       "      <th>25%</th>\n",
       "      <td>0.207575</td>\n",
       "      <td>5.400000</td>\n",
       "      <td>0.000000e+00</td>\n",
       "      <td>0.000000e+00</td>\n",
       "    </tr>\n",
       "    <tr>\n",
       "      <th>50%</th>\n",
       "      <td>0.383831</td>\n",
       "      <td>6.000000</td>\n",
       "      <td>0.000000e+00</td>\n",
       "      <td>0.000000e+00</td>\n",
       "    </tr>\n",
       "    <tr>\n",
       "      <th>75%</th>\n",
       "      <td>0.713857</td>\n",
       "      <td>6.600000</td>\n",
       "      <td>2.085325e+07</td>\n",
       "      <td>3.370173e+07</td>\n",
       "    </tr>\n",
       "    <tr>\n",
       "      <th>max</th>\n",
       "      <td>32.985763</td>\n",
       "      <td>9.200000</td>\n",
       "      <td>4.250000e+08</td>\n",
       "      <td>2.827124e+09</td>\n",
       "    </tr>\n",
       "  </tbody>\n",
       "</table>\n",
       "</div>"
      ],
      "text/plain": [
       "         popularity  vote_average    budget_adj   revenue_adj\n",
       "count  10865.000000  10865.000000  1.086500e+04  1.086500e+04\n",
       "mean       0.646446      5.975012  1.754989e+07  5.136900e+07\n",
       "std        1.000231      0.935138  3.430753e+07  1.446383e+08\n",
       "min        0.000065      1.500000  0.000000e+00  0.000000e+00\n",
       "25%        0.207575      5.400000  0.000000e+00  0.000000e+00\n",
       "50%        0.383831      6.000000  0.000000e+00  0.000000e+00\n",
       "75%        0.713857      6.600000  2.085325e+07  3.370173e+07\n",
       "max       32.985763      9.200000  4.250000e+08  2.827124e+09"
      ]
     },
     "execution_count": 34,
     "metadata": {},
     "output_type": "execute_result"
    }
   ],
   "source": [
    "df_small.describe()\n",
    "# describe一下看看"
   ]
  },
  {
   "cell_type": "markdown",
   "metadata": {},
   "source": [
    "**发现一个问题，预算和收入一直到50% 这个位置 都为0，这么多为0，所以特别不靠谱，干脆都删除**"
   ]
  },
  {
   "cell_type": "code",
   "execution_count": 35,
   "metadata": {},
   "outputs": [],
   "source": [
    "df_small = df_small[(df_small['budget_adj'] != 0)&(df_small['revenue_adj'] != 0)]"
   ]
  },
  {
   "cell_type": "code",
   "execution_count": 36,
   "metadata": {},
   "outputs": [
    {
     "data": {
      "text/plain": [
       "Text(0.5,1,'Sactter on popularity/vote_average')"
      ]
     },
     "execution_count": 36,
     "metadata": {},
     "output_type": "execute_result"
    },
    {
     "data": {
      "image/png": "[encoded data removed]",
      "text/plain": [
       "<matplotlib.figure.Figure at 0x7fc85f320630>"
      ]
     },
     "metadata": {
      "needs_background": "light"
     },
     "output_type": "display_data"
    }
   ],
   "source": [
    "df_small.plot(x = 'vote_average', y = 'popularity', kind = 'scatter', alpha = 0.3)\n",
    "plt.xlabel('Vote_average',fontsize = 16) \n",
    "plt.ylabel('Popularity',fontsize = 16) \n",
    "plt.title('Sactter on popularity/vote_average', fontsize = 18)"
   ]
  },
  {
   "cell_type": "markdown",
   "metadata": {},
   "source": [
    "**从图中可以看出得分与流行程度呈正相关。**"
   ]
  },
  {
   "cell_type": "code",
   "execution_count": 37,
   "metadata": {},
   "outputs": [
    {
     "data": {
      "text/plain": [
       "Text(0.5,1,'Sactter on revenue/budge')"
      ]
     },
     "execution_count": 37,
     "metadata": {},
     "output_type": "execute_result"
    },
    {
     "data": {
      "image/png": "[encoded data removed]",
      "text/plain": [
       "<matplotlib.figure.Figure at 0x7fc86026a5c0>"
      ]
     },
     "metadata": {
      "needs_background": "light"
     },
     "output_type": "display_data"
    }
   ],
   "source": [
    "df_small.plot(x= 'budget_adj',y='revenue_adj',kind='scatter', alpha=0.3)\n",
    "plt.xlabel('Budget',fontsize = 16) \n",
    "plt.ylabel('Revenue',fontsize = 16) \n",
    "plt.title('Sactter on revenue/budge', fontsize = 18)"
   ]
  },
  {
   "cell_type": "markdown",
   "metadata": {},
   "source": [
    "**从图中可以看出投入与收入之间没有明显关系。**"
   ]
  },
  {
   "cell_type": "markdown",
   "metadata": {},
   "source": [
    "### 研究问题 2-电影是否拥有主页（homepage），会影响popularity和vote_average吗？"
   ]
  },
  {
   "cell_type": "code",
   "execution_count": 38,
   "metadata": {},
   "outputs": [
    {
     "data": {
      "text/html": [
       "<div>\n",
       "<style>\n",
       "    .dataframe thead tr:only-child th {\n",
       "        text-align: right;\n",
       "    }\n",
       "\n",
       "    .dataframe thead th {\n",
       "        text-align: left;\n",
       "    }\n",
       "\n",
       "    .dataframe tbody tr th {\n",
       "        vertical-align: top;\n",
       "    }\n",
       "</style>\n",
       "<table border=\"1\" class=\"dataframe\">\n",
       "  <thead>\n",
       "    <tr style=\"text-align: right;\">\n",
       "      <th></th>\n",
       "      <th>popularity</th>\n",
       "      <th>vote_average</th>\n",
       "      <th>has_homepage</th>\n",
       "    </tr>\n",
       "  </thead>\n",
       "  <tbody>\n",
       "    <tr>\n",
       "      <th>0</th>\n",
       "      <td>32.985763</td>\n",
       "      <td>6.5</td>\n",
       "      <td>True</td>\n",
       "    </tr>\n",
       "    <tr>\n",
       "      <th>1</th>\n",
       "      <td>28.419936</td>\n",
       "      <td>7.1</td>\n",
       "      <td>True</td>\n",
       "    </tr>\n",
       "    <tr>\n",
       "      <th>2</th>\n",
       "      <td>13.112507</td>\n",
       "      <td>6.3</td>\n",
       "      <td>True</td>\n",
       "    </tr>\n",
       "    <tr>\n",
       "      <th>3</th>\n",
       "      <td>11.173104</td>\n",
       "      <td>7.5</td>\n",
       "      <td>True</td>\n",
       "    </tr>\n",
       "    <tr>\n",
       "      <th>4</th>\n",
       "      <td>9.335014</td>\n",
       "      <td>7.3</td>\n",
       "      <td>True</td>\n",
       "    </tr>\n",
       "  </tbody>\n",
       "</table>\n",
       "</div>"
      ],
      "text/plain": [
       "   popularity  vote_average  has_homepage\n",
       "0   32.985763           6.5          True\n",
       "1   28.419936           7.1          True\n",
       "2   13.112507           6.3          True\n",
       "3   11.173104           7.5          True\n",
       "4    9.335014           7.3          True"
      ]
     },
     "execution_count": 38,
     "metadata": {},
     "output_type": "execute_result"
    }
   ],
   "source": [
    "column_for_homepage = ['popularity','vote_average','has_homepage']\n",
    "# 保留这三列\n",
    "df_for_homepage = pd.DataFrame()\n",
    "for c in column_for_homepage:\n",
    "    df_for_homepage[c] = df[c]\n",
    "    \n",
    "df_for_homepage.head()"
   ]
  },
  {
   "cell_type": "markdown",
   "metadata": {},
   "source": [
    "**在查看数据的时候，我发现homepage这一列有很多缺失值，所以我根据是否有主页（‘has_homepage’）进行分组，再研究提出的问题**"
   ]
  },
  {
   "cell_type": "code",
   "execution_count": 39,
   "metadata": {},
   "outputs": [
    {
     "data": {
      "text/html": [
       "<div>\n",
       "<style>\n",
       "    .dataframe thead tr:only-child th {\n",
       "        text-align: right;\n",
       "    }\n",
       "\n",
       "    .dataframe thead th {\n",
       "        text-align: left;\n",
       "    }\n",
       "\n",
       "    .dataframe tbody tr th {\n",
       "        vertical-align: top;\n",
       "    }\n",
       "</style>\n",
       "<table border=\"1\" class=\"dataframe\">\n",
       "  <thead>\n",
       "    <tr style=\"text-align: right;\">\n",
       "      <th></th>\n",
       "      <th>popularity</th>\n",
       "      <th>vote_average</th>\n",
       "    </tr>\n",
       "    <tr>\n",
       "      <th>has_homepage</th>\n",
       "      <th></th>\n",
       "      <th></th>\n",
       "    </tr>\n",
       "  </thead>\n",
       "  <tbody>\n",
       "    <tr>\n",
       "      <th>False</th>\n",
       "      <td>0.515638</td>\n",
       "      <td>5.906886</td>\n",
       "    </tr>\n",
       "    <tr>\n",
       "      <th>True</th>\n",
       "      <td>0.999706</td>\n",
       "      <td>6.158992</td>\n",
       "    </tr>\n",
       "  </tbody>\n",
       "</table>\n",
       "</div>"
      ],
      "text/plain": [
       "              popularity  vote_average\n",
       "has_homepage                          \n",
       "False           0.515638      5.906886\n",
       "True            0.999706      6.158992"
      ]
     },
     "execution_count": 39,
     "metadata": {},
     "output_type": "execute_result"
    }
   ],
   "source": [
    "df_mean = df_for_homepage.groupby('has_homepage').mean()\n",
    "df_mean"
   ]
  },
  {
   "cell_type": "markdown",
   "metadata": {},
   "source": [
    "**再对电影是否拥有主页进行分组后，展示各列平均值。可以明显看出‘has_homepage’为True的时候，流行程度更高；而得分之间的差别不大**"
   ]
  },
  {
   "cell_type": "markdown",
   "metadata": {},
   "source": [
    "<a id='conclusions'></a>\n",
    "## 结论\n",
    "\n"
   ]
  },
  {
   "cell_type": "markdown",
   "metadata": {},
   "source": [
    "**结论1**  对于问题1来说：电影的得分（vote_average）越高，其流行程度（popularity）也很可能越高；电影的投入（budget）与回报（revenue）之间的关系不明显，猜测可能是因为删除了一半左右的为0的数据，所以建议更新原数据。"
   ]
  },
  {
   "cell_type": "code",
   "execution_count": 40,
   "metadata": {},
   "outputs": [
    {
     "data": {
      "image/png": "[encoded data removed]",
      "text/plain": [
       "<matplotlib.figure.Figure at 0x7fc85fb640b8>"
      ]
     },
     "metadata": {
      "needs_background": "light"
     },
     "output_type": "display_data"
    }
   ],
   "source": [
    "fig = plt.figure(figsize=(8,8))\n",
    "ax1 = fig.add_subplot(2, 1, 1)\n",
    "ax2 = fig.add_subplot(2, 1, 2)\n",
    "\n",
    "x1 = df_small['vote_average']\n",
    "y1 = df_small['popularity']\n",
    "x2 = df_small['budget_adj']\n",
    "y2 = df_small['revenue_adj']\n",
    "\n",
    "ax1.scatter(x1, y1, color = 'r', alpha = 0.3, label = \"All\")\n",
    "ax2.scatter(x2, y2, color = 'r', alpha = 0.3, label = \"All\")\n",
    "\n",
    "ax1.set_ylabel('Popularity', fontsize = 16)\n",
    "ax1.set_xlabel('Vote Average', fontsize = 16)\n",
    "ax2.set_ylabel('Revenue', fontsize = 16)\n",
    "ax2.set_xlabel('Budget', fontsize = 16)\n",
    "\n",
    "fig.suptitle('Scatter on Vote/Pop and Budg/Rev',\n",
    "             fontsize = 24, color = 'red');"
   ]
  },
  {
   "cell_type": "markdown",
   "metadata": {},
   "source": [
    "**结论2**  对于问题2来说：若电影具有自己的网站主页（homepage），那么其流行程度（popularity）相比没有homepage的电影明显更高；但是，有无homepage对得分（vote_average）的影响不大。"
   ]
  },
  {
   "cell_type": "code",
   "execution_count": 53,
   "metadata": {},
   "outputs": [
    {
     "data": {
      "text/plain": [
       "[Text(0,0,'popularity'), Text(0,0,'vote_average')]"
      ]
     },
     "execution_count": 53,
     "metadata": {},
     "output_type": "execute_result"
    },
    {
     "data": {
      "image/png": "[encoded data removed]",
      "text/plain": [
       "<matplotlib.figure.Figure at 0x7f9621ff5a90>"
      ]
     },
     "metadata": {
      "needs_background": "light"
     },
     "output_type": "display_data"
    }
   ],
   "source": [
    "fig = plt.figure(figsize=(8,8))\n",
    "\n",
    "ax = fig.add_subplot(1,1,1)\n",
    "ind = np.arange(len(df_mean.iloc[0]))\n",
    "\n",
    "w = 0.3\n",
    "\n",
    "ax.bar(ind, df_mean.iloc[0], color = 'r',\n",
    "       alpha = 0.7, width = w, label = \"Has No Homepage\")\n",
    "ax.bar(ind+w, df_mean.iloc[1], color = 'b',\n",
    "       alpha = 0.7, width = w, label = \"Has Homepage\")\n",
    "\n",
    "ax.legend(loc = 'best', fontsize = 12)\n",
    "ax.set_xticks(ind+w/2)\n",
    "\n",
    "mean_lable = ['popularity','vote_average']\n",
    "ax.set_xticklabels(mean_lable)\n",
    "\n"
   ]
  },
  {
   "cell_type": "code",
   "execution_count": 52,
   "metadata": {},
   "outputs": [],
   "source": [
    "# from subprocess import call\n",
    "# call(['python', '-m', 'nbconvert', 'Investigate_a_Dataset.ipynb'])"
   ]
  }
 ],
 "metadata": {
  "kernelspec": {
   "display_name": "Python 3",
   "language": "python",
   "name": "python3"
  },
  "language_info": {
   "codemirror_mode": {
    "name": "ipython",
    "version": 3
   },
   "file_extension": ".py",
   "mimetype": "text/x-python",
   "name": "python",
   "nbconvert_exporter": "python",
   "pygments_lexer": "ipython3",
   "version": "3.6.7"
  }
 },
 "nbformat": 4,
 "nbformat_minor": 2
}
